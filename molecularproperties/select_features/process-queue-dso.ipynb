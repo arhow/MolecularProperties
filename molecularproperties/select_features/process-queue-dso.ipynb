{
 "cells": [
  {
   "cell_type": "code",
   "execution_count": 6,
   "metadata": {},
   "outputs": [
    {
     "data": {
      "text/html": [
       "<style>\n",
       "   div#notebook-container    { width: 95%; }\n",
       "   div#menubar-container     { width: 65%; }\n",
       "   div#maintoolbar-container { width: 99%; }\n",
       "</style>\n"
      ],
      "text/plain": [
       "<IPython.core.display.HTML object>"
      ]
     },
     "metadata": {},
     "output_type": "display_data"
    }
   ],
   "source": [
    "%%HTML\n",
    "<style>\n",
    "   div#notebook-container    { width: 95%; }\n",
    "   div#menubar-container     { width: 65%; }\n",
    "   div#maintoolbar-container { width: 99%; }\n",
    "</style>"
   ]
  },
  {
   "cell_type": "code",
   "execution_count": 1,
   "metadata": {},
   "outputs": [],
   "source": [
    "import sys\n",
    "sys.path.append(\"../..\") # Adds higher directory to python modules path.\n",
    "from utilities import aggregate_feature_calculators\n",
    "from utilities import aggregate_feature_calculators_setting as aggcal\n",
    "from utilities.parallel import Parallel\n",
    "from utilities.dfdb import DFDB\n",
    "\n",
    "from utilities.process.pqueue import *\n",
    "from utilities.process.pnode import *\n",
    "from utilities.process.putilities import *"
   ]
  },
  {
   "cell_type": "code",
   "execution_count": 2,
   "metadata": {},
   "outputs": [],
   "source": [
    "import numpy as np\n",
    "import pandas as pd\n",
    "import os\n",
    "import time\n",
    "import datetime\n",
    "import json\n",
    "import copy\n",
    "import gc\n",
    "import warnings\n",
    "from tqdm import tqdm_notebook, tqdm\n",
    "\n",
    "import optuna\n",
    "\n",
    "import lightgbm as lgb\n",
    "import xgboost as xgb\n",
    "\n",
    "from catboost import CatBoostRegressor\n",
    "from sklearn.preprocessing import LabelEncoder\n",
    "from sklearn.model_selection import StratifiedKFold, KFold, RepeatedKFold,TimeSeriesSplit, GroupKFold\n",
    "from sklearn.model_selection import train_test_split\n",
    "from sklearn import metrics\n",
    "from sklearn import linear_model\n",
    "from sklearn.preprocessing import StandardScaler\n",
    "from sklearn.svm import NuSVR, SVR\n",
    "from sklearn.metrics import mean_absolute_error\n",
    "from sklearn import preprocessing\n",
    "\n",
    "import eli5\n",
    "from eli5.sklearn import PermutationImportance\n",
    "\n",
    "import networkx as nx\n",
    "\n",
    "import seaborn as sns\n",
    "import matplotlib.pyplot as plt\n",
    "%matplotlib inline"
   ]
  },
  {
   "cell_type": "code",
   "execution_count": 3,
   "metadata": {},
   "outputs": [
    {
     "data": {
      "text/plain": [
       "['test.csv',\n",
       " 'structures',\n",
       " 'sample_submission.csv',\n",
       " 'magnetic_shielding_tensors.csv',\n",
       " 'mulliken_charges.csv',\n",
       " 'potential_energy.csv',\n",
       " 'scalar_coupling_contributions.csv',\n",
       " 'dipole_moments.csv',\n",
       " 'structures.csv',\n",
       " 'train.csv']"
      ]
     },
     "execution_count": 3,
     "metadata": {},
     "output_type": "execute_result"
    }
   ],
   "source": [
    "csv_file_folder =  '../../data/input'\n",
    "os.listdir(csv_file_folder)"
   ]
  },
  {
   "cell_type": "code",
   "execution_count": 4,
   "metadata": {},
   "outputs": [
    {
     "data": {
      "text/plain": [
       "['giba-r-data-table-simple-features-1-17-lb_train.pkl',\n",
       " 'eem_train.pkl',\n",
       " 'coulomb-interaction-speed-up_train.pkl',\n",
       " 'dataset-with-number-of-bonds-between-atoms_test.pkl',\n",
       " 'keras-neural-net-for-champs_train.pkl',\n",
       " 'brute-force-feature-engineering_test.pkl',\n",
       " 'angles-and-distances_test.pkl',\n",
       " 'giba-r-data-table-simple-features-0-991-lb_test.pkl',\n",
       " 'keras-neural-net-for-champs_test.pkl',\n",
       " 'brute-force-feature-engineering-mini_train.pkl',\n",
       " 'laplaction_matrix_test.pkl',\n",
       " 'dataset-with-number-of-bonds-between-atoms_train.pkl',\n",
       " 'coulomb-interaction-speed-up_test.pkl',\n",
       " 'bonds-from-structure-data_train.pkl',\n",
       " 'laplaction_matrix_train.pkl',\n",
       " 'giba-r-data-table-simple-features-0-991-lb_train.pkl',\n",
       " 'eem_test.pkl',\n",
       " 'brute-force-feature-engineering_train.pkl',\n",
       " 'molecule-with-openbabel_train.pkl',\n",
       " 'molecular-properties-eda-and-models_train.pkl',\n",
       " 'brute-force-feature-engineering-mini_test.pkl',\n",
       " 'eachtype_train.pkl',\n",
       " 'molecular-properties-eda-and-models_test.pkl',\n",
       " 'bonds-from-structure-data_test.pkl',\n",
       " 'molecule-with-openbabel_test.pkl',\n",
       " 'eachtype_test.pkl',\n",
       " 'giba-r-data-table-simple-features-1-17-lb_test.pkl',\n",
       " 'angles-and-distances_train.pkl']"
      ]
     },
     "execution_count": 4,
     "metadata": {},
     "output_type": "execute_result"
    }
   ],
   "source": [
    "file_folder =  '../../data/feature'\n",
    "[f for f in os.listdir(file_folder) if (f.endswith('.pkl')) and (not f.startswith('.'))]"
   ]
  },
  {
   "cell_type": "code",
   "execution_count": 5,
   "metadata": {},
   "outputs": [],
   "source": [
    "mytrial = []"
   ]
  },
  {
   "cell_type": "code",
   "execution_count": null,
   "metadata": {},
   "outputs": [],
   "source": [
    "\"\"\"\n",
    "\n",
    "\n",
    "y=dso, type=0\n",
    "524\n",
    "{'columns': ['dist_N_0_y', 'tertiary_distance_6', 'tertiary_distance_9', 'dist_H_2_y', 'dist_C_1_y', 'tertiary_distance_11', 'dist_H_3_y', 'dist_O_0_x', 'inv_dist1', 'yukawa_F.x', 'yukawa_N.y', 'dist_O_1_x', 'yukawa_N.x', 'tertiary_distance_10', 'inv_dist0R', 'tertiary_atom_0', 'vander_C.y', 'eem_1', 'vander_O.x', 'yukawa_O.x', 'atom_index_1_cycle_size_mean', 'dist_N_0_x', 'dist_H_4_y', 'tertiary_distance_4', 'dist_N_1_x', 'yukawa_O.y', 'atom_n', 'dist_H_1_y', 'tertiary_distance_13', 'atom_1_bond_lengths_mean', 'yukawa_C.y', 'atom_1_bond_lengths_max', 'yukawa_C.x', 'dist_C_2_y', 'tertiary_atom_2', 'dist_O_0_y', 'vander_H.y', 'tertiary_distance_7', 'dist_O_1_y', 'tertiary_distance_0', 'tertiary_distance_2', 'dist_N_1_y', 'atom_1_bond_lengths_std', 'dist_C_0_y', 'dist_C_4_y', 'vander_O.y', 'dist_C_1_x', 'tertiary_distance_5', 'dist_C_3_y', 'tertiary_distance_1', 'tertiary_distance_8', 'tertiary_angle_2'], 'cv': {'cls': 'KFold', 'init': {'n_splits': 5, 'shuffle': True, 'random_state': 42}}, 'scaler': {'cls': 'StandardScaler', 'init': {}, 'fit': {}}, 'model': {'cls': 'lgb.LGBMRegressor', 'init': {'learning_rate': 0.2833769330240482, 'feature_fraction': 0.8818248470204605, 'bagging_fraction': 0.8205197060908092, 'min_data_in_leaf': 202, 'lambda_l1': 0.017039063121824582, 'lambda_l2': 0.8318702431636841, 'max_bin': 100, 'num_leaves': 255, 'random_state': 3895, 'n_jobs': 16}, 'fit': {}}, 'metric': 'mean_absolute_error'}\n",
    "y=dso, type=1\n",
    "1009\n",
    "{'columns': ['tertiary_distance_6', 'max_molecule_atom_1_dist_xyz', 'tertiary_distance_9', 'dist_C_1_y', 'dist_C_3_x', 'yukawa_N.x', 'dist_H_3_y', 'inv_dist1', 'yukawa_F.x', 'inv_dist0R', 'vander_C.y', 'tertiary_atom_0', 'eem_1', 'bond_atom', 'vander_O.x', 'molecule_name.1', 'tertiary_distance_4', 'dist_N_1_x', 'mean_molecule_atom_0_dist_xyz', 'yukawa_O.y', 'inv_dist0E', 'dist_H_1_y', 'tertiary_distance_13', 'atom_1_bond_lengths_max', 'yukawa_C.x', 'dist_C_2_y', 'tertiary_angle_3', 'inv_dist0', 'dist_O_0_y', 'vander_H.y', 'coulomb_H.y', 'tertiary_distance_2', 'tertiary_distance_3', 'tertiary_distance_0', 'distance_center1', 'dist_O_1_y', 'dist_H_0_x', 'dist_C_0_y', 'tertiary_angle_0', 'tertiary_distance_5', 'tertiary_distance_1', 'dist_C_3_y', 'molecule_atom_index_1_dist_std_diff', 'tertiary_angle_2', 'dist_N_0_y', 'eem_0', 'dist_H_2_y', 'vander_F.y', 'dist_C_2_x', 'tertiary_atom_14', 'dist_H_4_x', 'tertiary_distance_11', 'mean_molecule_atom_1_dist_xyz', 'dist_O_0_x', 'yukawa_N.y', 'dist_H_1_x', 'tertiary_distance_10', 'yukawa_O.x', 'atom_index_1_cycle_size_mean', 'dist_N_2_x', 'dist_N_0_x', 'distance_center0', 'atom_1_bond_lengths_mean', 'dist_H_0_y', 'yukawa_C.y', 'tertiary_atom_2', 'tertiary_distance_7', 'vander_C.x', 'tertiary_angle_1', 'atom_1_bond_lengths_std', 'dist_C_4_y', 'dist_C_1_x', 'tertiary_angle_4', 'vander_N.x', 'tertiary_distance_8'], 'cv': {'cls': 'KFold', 'init': {'n_splits': 5, 'shuffle': True, 'random_state': 42}}, 'scaler': {'cls': 'StandardScaler', 'init': {}, 'fit': {}}, 'model': {'cls': 'lgb.LGBMRegressor', 'init': {'learning_rate': 0.2833769330240482, 'feature_fraction': 0.8818248470204605, 'bagging_fraction': 0.8205197060908092, 'min_data_in_leaf': 202, 'lambda_l1': 0.017039063121824582, 'lambda_l2': 0.8318702431636841, 'max_bin': 100, 'num_leaves': 255, 'random_state': 3895, 'n_jobs': 16}, 'fit': {}}, 'metric': 'mean_absolute_error'}\n",
    "y=dso, type=2\n",
    "1104\n",
    "{'columns': ['tertiary_distance_6', 'max_molecule_atom_1_dist_xyz', 'tertiary_distance_9', 'dist_C_1_y', 'dist_C_3_x', 'yukawa_N.x', 'dist_H_3_y', 'inv_dist1', 'yukawa_F.x', 'inv_dist0R', 'vander_C.y', 'tertiary_atom_0', 'eem_1', 'bond_atom', 'vander_O.x', 'molecule_name.1', 'tertiary_distance_4', 'dist_N_1_x', 'mean_molecule_atom_0_dist_xyz', 'yukawa_O.y', 'inv_dist0E', 'dist_H_1_y', 'tertiary_distance_13', 'atom_1_bond_lengths_max', 'yukawa_C.x', 'dist_C_2_y', 'tertiary_angle_3', 'inv_dist0', 'dist_O_0_y', 'vander_H.y', 'coulomb_H.y', 'tertiary_distance_2', 'tertiary_distance_3', 'tertiary_distance_0', 'distance_center1', 'dist_O_1_y', 'dist_H_0_x', 'dist_C_0_y', 'tertiary_angle_0', 'tertiary_distance_5', 'tertiary_distance_1', 'dist_C_3_y', 'molecule_atom_index_1_dist_std_diff', 'tertiary_angle_2', 'dist_N_0_y', 'eem_0', 'dist_H_2_y', 'vander_F.y', 'dist_C_2_x', 'tertiary_atom_14', 'dist_H_4_x', 'tertiary_distance_11', 'mean_molecule_atom_1_dist_xyz', 'dist_O_0_x', 'yukawa_N.y', 'dist_H_1_x', 'tertiary_distance_10', 'yukawa_O.x', 'atom_index_1_cycle_size_mean', 'dist_N_2_x', 'dist_N_0_x', 'distance_center0', 'atom_1_bond_lengths_mean', 'dist_H_0_y', 'yukawa_C.y', 'tertiary_atom_2', 'tertiary_distance_7', 'vander_C.x', 'tertiary_angle_1', 'atom_1_bond_lengths_std', 'dist_C_4_y', 'dist_C_1_x', 'tertiary_angle_4', 'vander_N.x', 'tertiary_distance_8'], 'cv': {'cls': 'KFold', 'init': {'n_splits': 5, 'shuffle': True, 'random_state': 42}}, 'scaler': {'cls': 'StandardScaler', 'init': {}, 'fit': {}}, 'model': {'cls': 'lgb.LGBMRegressor', 'init': {'learning_rate': 0.2833769330240482, 'feature_fraction': 0.8818248470204605, 'bagging_fraction': 0.8205197060908092, 'min_data_in_leaf': 202, 'lambda_l1': 0.017039063121824582, 'lambda_l2': 0.8318702431636841, 'max_bin': 100, 'num_leaves': 255, 'random_state': 3895, 'n_jobs': 16}, 'fit': {}}, 'metric': 'mean_absolute_error'}\n",
    "y=dso, type=3\n",
    "1199\n",
    "{'columns': ['tertiary_distance_6', 'max_molecule_atom_1_dist_xyz', 'tertiary_distance_9', 'dist_C_1_y', 'dist_C_3_x', 'yukawa_N.x', 'dist_H_3_y', 'inv_dist1', 'yukawa_F.x', 'inv_dist0R', 'vander_C.y', 'tertiary_atom_0', 'eem_1', 'bond_atom', 'vander_O.x', 'molecule_name.1', 'tertiary_distance_4', 'dist_N_1_x', 'mean_molecule_atom_0_dist_xyz', 'yukawa_O.y', 'inv_dist0E', 'dist_H_1_y', 'tertiary_distance_13', 'atom_1_bond_lengths_max', 'yukawa_C.x', 'dist_C_2_y', 'tertiary_angle_3', 'inv_dist0', 'dist_O_0_y', 'vander_H.y', 'coulomb_H.y', 'tertiary_distance_2', 'tertiary_distance_3', 'tertiary_distance_0', 'distance_center1', 'dist_O_1_y', 'dist_H_0_x', 'dist_C_0_y', 'tertiary_angle_0', 'tertiary_distance_5', 'tertiary_distance_1', 'dist_C_3_y', 'molecule_atom_index_1_dist_std_diff', 'tertiary_angle_2', 'dist_N_0_y', 'eem_0', 'dist_H_2_y', 'vander_F.y', 'dist_C_2_x', 'tertiary_atom_14', 'dist_H_4_x', 'tertiary_distance_11', 'mean_molecule_atom_1_dist_xyz', 'dist_O_0_x', 'yukawa_N.y', 'dist_H_1_x', 'tertiary_distance_10', 'yukawa_O.x', 'atom_index_1_cycle_size_mean', 'dist_N_2_x', 'dist_N_0_x', 'distance_center0', 'atom_1_bond_lengths_mean', 'dist_H_0_y', 'yukawa_C.y', 'tertiary_atom_2', 'tertiary_distance_7', 'vander_C.x', 'tertiary_angle_1', 'atom_1_bond_lengths_std', 'dist_C_4_y', 'dist_C_1_x', 'tertiary_angle_4', 'vander_N.x', 'tertiary_distance_8'], 'cv': {'cls': 'KFold', 'init': {'n_splits': 5, 'shuffle': True, 'random_state': 42}}, 'scaler': {'cls': 'StandardScaler', 'init': {}, 'fit': {}}, 'model': {'cls': 'lgb.LGBMRegressor', 'init': {'learning_rate': 0.2833769330240482, 'feature_fraction': 0.8818248470204605, 'bagging_fraction': 0.8205197060908092, 'min_data_in_leaf': 202, 'lambda_l1': 0.017039063121824582, 'lambda_l2': 0.8318702431636841, 'max_bin': 100, 'num_leaves': 255, 'random_state': 3895, 'n_jobs': 16}, 'fit': {}}, 'metric': 'mean_absolute_error'}\n",
    "y=dso, type=4\n",
    "1398\n",
    "{'columns': ['inv_distPR', 'min_molecule_atom_0_dist_xyz', 'tertiary_distance_6', 'tertiary_distance_9', 'dist_C_1_y', 'tertiary_distance_15', 'distance_farthest_0', 'dist_to_type_mean', 'dist_C_0_x', 'molecule_atom_index_1_dist_mean_div', 'adN1', 'yukawa_F.y', 'dist_H_3_y', 'yukawa_N.x', 'inv_dist0R', 'vander_C.y', 'eem_1', 'bond_atom', 'vander_O.x', 'molecule_name.1', 'tertiary_distance_4', 'cos_c0', 'dist_N_1_x', 'mean_molecule_atom_0_dist_xyz', 'yukawa_O.y', 'dist_H_1_y', 'tertiary_distance_13', 'atom_1_n_bonds', 'atom_1_bond_lengths_max', 'yukawa_C.x', 'dist_C_2_y', 'atom_1_bond_lengths_min', 'tertiary_angle_3', 'dist_O_0_y', 'coulomb_H.y', 'distance_center1', 'tertiary_distance_2', 'dist_O_1_y', 'adC2', 'dist_N_1_y', 'tertiary_distance_3', 'dist_H_0_x', 'dist_to_type_0_mean', 'dist_C_4_x', 'dist_C_0_y', 'cos_c0_c1', 'tertiary_angle_0', 'adC3', 'molecule_couples', 'tertiary_distance_5', 'tertiary_distance_1', 'molecule_atom_index_1_dist_min_diff', 'dist_C_3_y', 'tertiary_angle_2', 'distN0', 'dist_N_0_y', 'molecule_atom_index_0_dist_min_diff', 'dist_H_2_y', 'dist_C_2_x', 'vander_N.y', 'tertiary_distance_11', 'dist_O_0_x', 'cos_c1', 'yukawa_N.y', 'dist_H_1_x', 'tertiary_distance_10', 'cos_f0', 'yukawa_O.x', 'atom_index_1_cycle_size_mean', 'dist_H_4_y', 'molecule_atom_index_0_dist_mean_div', 'yukawa_C.y', 'tertiary_distance_12', 'molecule_atom_index_0_dist_min_div', 'inv_dist1R', 'dist_xyz', 'tertiary_distance_7', 'linkN', 'vander_C.x', 'tertiary_atom_1', 'tertiary_angle_1', 'atom_1_bond_lengths_std', 'dist_C_4_y', 'vander_O.y', 'dist_to_type_std', 'dist_C_1_x', 'tertiary_angle_4', 'dist_C_3_x', 'tertiary_distance_8'], 'cv': {'cls': 'KFold', 'init': {'n_splits': 5, 'shuffle': True, 'random_state': 42}}, 'scaler': {'cls': 'StandardScaler', 'init': {}, 'fit': {}}, 'model': {'cls': 'lgb.LGBMRegressor', 'init': {'learning_rate': 0.2833769330240482, 'feature_fraction': 0.8818248470204605, 'bagging_fraction': 0.8205197060908092, 'min_data_in_leaf': 202, 'lambda_l1': 0.017039063121824582, 'lambda_l2': 0.8318702431636841, 'max_bin': 100, 'num_leaves': 255, 'random_state': 3895, 'n_jobs': 16}, 'fit': {}}, 'metric': 'mean_absolute_error'}\n",
    "y=dso, type=5\n",
    "1507\n",
    "{'columns': ['inv_distPR', 'min_molecule_atom_0_dist_xyz', 'tertiary_distance_6', 'tertiary_distance_9', 'dist_C_1_y', 'tertiary_distance_15', 'distance_farthest_0', 'dist_to_type_mean', 'dist_C_0_x', 'molecule_atom_index_1_dist_mean_div', 'adN1', 'yukawa_F.y', 'dist_H_3_y', 'yukawa_N.x', 'inv_dist0R', 'vander_C.y', 'eem_1', 'bond_atom', 'vander_O.x', 'molecule_name.1', 'tertiary_distance_4', 'cos_c0', 'dist_N_1_x', 'mean_molecule_atom_0_dist_xyz', 'yukawa_O.y', 'dist_H_1_y', 'tertiary_distance_13', 'atom_1_n_bonds', 'atom_1_bond_lengths_max', 'yukawa_C.x', 'dist_C_2_y', 'atom_1_bond_lengths_min', 'tertiary_angle_3', 'dist_O_0_y', 'coulomb_H.y', 'distance_center1', 'tertiary_distance_2', 'dist_O_1_y', 'adC2', 'dist_N_1_y', 'tertiary_distance_3', 'dist_H_0_x', 'dist_to_type_0_mean', 'dist_C_4_x', 'dist_C_0_y', 'cos_c0_c1', 'tertiary_angle_0', 'adC3', 'molecule_couples', 'tertiary_distance_5', 'tertiary_distance_1', 'molecule_atom_index_1_dist_min_diff', 'dist_C_3_y', 'tertiary_angle_2', 'distN0', 'dist_N_0_y', 'molecule_atom_index_0_dist_min_diff', 'dist_H_2_y', 'dist_C_2_x', 'vander_N.y', 'tertiary_distance_11', 'dist_O_0_x', 'cos_c1', 'yukawa_N.y', 'dist_H_1_x', 'tertiary_distance_10', 'cos_f0', 'yukawa_O.x', 'atom_index_1_cycle_size_mean', 'dist_H_4_y', 'molecule_atom_index_0_dist_mean_div', 'yukawa_C.y', 'tertiary_distance_12', 'molecule_atom_index_0_dist_min_div', 'inv_dist1R', 'dist_xyz', 'tertiary_distance_7', 'linkN', 'vander_C.x', 'tertiary_atom_1', 'tertiary_angle_1', 'atom_1_bond_lengths_std', 'dist_C_4_y', 'vander_O.y', 'dist_to_type_std', 'dist_C_1_x', 'tertiary_angle_4', 'dist_C_3_x', 'tertiary_distance_8'], 'cv': {'cls': 'KFold', 'init': {'n_splits': 5, 'shuffle': True, 'random_state': 42}}, 'scaler': {'cls': 'StandardScaler', 'init': {}, 'fit': {}}, 'model': {'cls': 'lgb.LGBMRegressor', 'init': {'learning_rate': 0.2833769330240482, 'feature_fraction': 0.8818248470204605, 'bagging_fraction': 0.8205197060908092, 'min_data_in_leaf': 202, 'lambda_l1': 0.017039063121824582, 'lambda_l2': 0.8318702431636841, 'max_bin': 100, 'num_leaves': 255, 'random_state': 3895, 'n_jobs': 16}, 'fit': {}}, 'metric': 'mean_absolute_error'}\n",
    "y=dso, type=6\n",
    "179\n",
    "{'columns': ['tertiary_distance_6', 'dist_C_4_x', 'dist_C_3_x', 'cos_c1', 'yukawa_O.x', 'coulomb_H.y', 'molecule_atom_index_0_dist_min_diff', 'cos_c0', 'vander_O.y', 'dist_O_0_y', 'molecule_name.1', 'inv_distPR', 'tertiary_distance_18', 'dist_H_0_x', 'dist_O_2_y', 'yukawa_N.x', 'dist_to_type_std', 'adC1', 'dist_C_4_y', 'tertiary_angle_3', 'max_molecule_atom_1_dist_xyz', 'tertiary_distance_14', 'cos_center0_center1', 'dist_to_type_0_mean', 'tertiary_distance_11', 'vander_O.x', 'tertiary_distance_3', 'dist_H_0_y', 'dist_C_3_y', 'dist_C_0_y', 'dist_N_0_y', 'dist_N_1_y', 'dist_O_1_x', 'dist_H_4_x', 'dist_C_2_y', 'dist_O_1_y', 'adN1', 'molecule_dist_mean', 'molecule_atom_index_0_dist_mean_div', 'min_molecule_atom_0_dist_xyz', 'dist_N_1_x', 'dist_O_0_x', 'molecule_atom_index_0_dist_min_div', 'dist_C_2_x', 'distance_c1', 'dist_C_1_y', 'yukawa_C.x', 'tertiary_distance_13', 'dist_to_type_1_mean', 'dist_xyz', 'dist_F_1_y', 'tertiary_distance_12', 'tertiary_atom_16', 'vander_C.x', 'dist_N_0_x', 'tertiary_distance_9', 'tertiary_distance_1', 'molecule_atom_1_dist_min_diff', 'tertiary_distance_16', 'yukawa_O.y', 'yukawa_N.y', 'tertiary_atom_17', 'tertiary_atom_15', 'tertiary_distance_7', 'link0', 'tertiary_distance_2', 'tertiary_angle_2', 'tertiary_angle_0', 'atom_1_bond_lengths_mean', 'yukawa_C.y', 'dist_to_type_mean', 'tertiary_atom_18', 'tertiary_angle_1', 'tertiary_distance_5', 'cos_c0_c1', 'tertiary_distance_10', 'tertiary_distance_8', 'dist_C_1_x', 'vander_C.y'], 'cv': {'cls': 'KFold', 'init': {'n_splits': 5, 'shuffle': True, 'random_state': 42}}, 'scaler': {'cls': 'StandardScaler', 'init': {}, 'fit': {}}, 'model': {'cls': 'lgb.LGBMRegressor', 'init': {'learning_rate': 0.2833769330240482, 'feature_fraction': 0.8818248470204605, 'bagging_fraction': 0.8205197060908092, 'min_data_in_leaf': 202, 'lambda_l1': 0.017039063121824582, 'lambda_l2': 0.8318702431636841, 'max_bin': 100, 'num_leaves': 255, 'random_state': 3895, 'n_jobs': 16}, 'fit': {}}, 'metric': 'mean_absolute_error'}\n",
    "y=dso, type=7\n",
    "668\n",
    "{'columns': ['dist_C_4_x', 'dist_C_3_x', 'cos_c1', 'molecule_atom_index_0_dist_min_diff', 'cos_c0', 'dist_O_0_y', 'molecule_name.1', 'dist_H_1_y', 'dist_H_1_x', 'dist_H_2_x', 'dist_to_type_std', 'adC1', 'atom_0_bond_lengths_max', 'dist_C_4_y', 'tertiary_angle_3', 'max_molecule_atom_0_dist_xyz', 'dist_to_type_0_mean', 'tertiary_distance_3', 'atom_1_bond_lengths_std', 'dist_H_0_y', 'dist_C_3_y', 'dist_C_0_y', 'dist_N_0_y', 'dist_N_1_y', 'dist_C_2_y', 'dist_O_1_y', 'adC3', 'distance_center1', 'dist_O_0_x', 'atom_index_1_cycle_size_mean', 'tertiary_angle_5', 'tertiary_angle_12', 'adC2', 'dist_C_2_x', 'tertiary_distance_15', 'molecule_atom_index_1_dist_mean_diff', 'dist_C_1_y', 'tertiary_distance_13', 'atom_1_n_bonds', 'dist_to_type_1_mean', 'inv_dist1R', 'dist_xyz', 'tertiary_angle_14', 'tertiary_angle_13', 'dist_N_0_x', 'tertiary_distance_1', 'tertiary_angle_6', 'link1', 'tertiary_atom_0', 'molecule_atom_index_1_dist_min_div', 'tertiary_distance_2', 'tertiary_distance_7', 'tertiary_angle_2', 'tertiary_angle_0', 'atom_1_bond_lengths_mean', 'atom_1_bond_lengths_min', 'atom_1_bond_lengths_max', 'cos_f0', 'dist_to_type_mean', 'tertiary_angle_1', 'tertiary_distance_5', 'cos_c0_c1', 'tertiary_angle_15', 'tertiary_angle_4'], 'cv': {'cls': 'KFold', 'init': {'n_splits': 5, 'shuffle': True, 'random_state': 42}}, 'scaler': {'cls': 'StandardScaler', 'init': {}, 'fit': {}}, 'model': {'cls': 'lgb.LGBMRegressor', 'init': {'learning_rate': 0.2833769330240482, 'feature_fraction': 0.8818248470204605, 'bagging_fraction': 0.8205197060908092, 'min_data_in_leaf': 202, 'lambda_l1': 0.017039063121824582, 'lambda_l2': 0.8318702431636841, 'max_bin': 100, 'num_leaves': 255, 'random_state': 3895, 'n_jobs': 16}, 'fit': {}}, 'metric': 'mean_absolute_error'}\n",
    "\n",
    "\"\"\""
   ]
  },
  {
   "cell_type": "code",
   "execution_count": 7,
   "metadata": {
    "scrolled": false
   },
   "outputs": [
    {
     "name": "stdout",
     "output_type": "stream",
     "text": [
      "y=dso, type=6\n",
      "179\n",
      "{'columns': ['tertiary_distance_6', 'dist_C_4_x', 'dist_C_3_x', 'cos_c1', 'yukawa_O.x', 'coulomb_H.y', 'molecule_atom_index_0_dist_min_diff', 'cos_c0', 'vander_O.y', 'dist_O_0_y', 'molecule_name.1', 'inv_distPR', 'tertiary_distance_18', 'dist_H_0_x', 'dist_O_2_y', 'yukawa_N.x', 'dist_to_type_std', 'adC1', 'dist_C_4_y', 'tertiary_angle_3', 'max_molecule_atom_1_dist_xyz', 'tertiary_distance_14', 'cos_center0_center1', 'dist_to_type_0_mean', 'tertiary_distance_11', 'vander_O.x', 'tertiary_distance_3', 'dist_H_0_y', 'dist_C_3_y', 'dist_C_0_y', 'dist_N_0_y', 'dist_N_1_y', 'dist_O_1_x', 'dist_H_4_x', 'dist_C_2_y', 'dist_O_1_y', 'adN1', 'molecule_dist_mean', 'molecule_atom_index_0_dist_mean_div', 'min_molecule_atom_0_dist_xyz', 'dist_N_1_x', 'dist_O_0_x', 'molecule_atom_index_0_dist_min_div', 'dist_C_2_x', 'distance_c1', 'dist_C_1_y', 'yukawa_C.x', 'tertiary_distance_13', 'dist_to_type_1_mean', 'dist_xyz', 'dist_F_1_y', 'tertiary_distance_12', 'tertiary_atom_16', 'vander_C.x', 'dist_N_0_x', 'tertiary_distance_9', 'tertiary_distance_1', 'molecule_atom_1_dist_min_diff', 'tertiary_distance_16', 'yukawa_O.y', 'yukawa_N.y', 'tertiary_atom_17', 'tertiary_atom_15', 'tertiary_distance_7', 'link0', 'tertiary_distance_2', 'tertiary_angle_2', 'tertiary_angle_0', 'atom_1_bond_lengths_mean', 'yukawa_C.y', 'dist_to_type_mean', 'tertiary_atom_18', 'tertiary_angle_1', 'tertiary_distance_5', 'cos_c0_c1', 'tertiary_distance_10', 'tertiary_distance_8', 'dist_C_1_x', 'vander_C.y'], 'cv': {'cls': 'KFold', 'init': {'n_splits': 5, 'shuffle': True, 'random_state': 42}}, 'scaler': {'cls': 'StandardScaler', 'init': {}, 'fit': {}}, 'model': {'cls': 'lgb.LGBMRegressor', 'init': {'learning_rate': 0.2833769330240482, 'feature_fraction': 0.8818248470204605, 'bagging_fraction': 0.8205197060908092, 'min_data_in_leaf': 202, 'lambda_l1': 0.017039063121824582, 'lambda_l2': 0.8318702431636841, 'max_bin': 100, 'num_leaves': 255, 'random_state': 3895, 'n_jobs': 16}, 'fit': {}}, 'metric': 'mean_absolute_error'}\n",
      "y=dso, type=7\n",
      "668\n",
      "{'columns': ['dist_C_4_x', 'dist_C_3_x', 'cos_c1', 'molecule_atom_index_0_dist_min_diff', 'cos_c0', 'dist_O_0_y', 'molecule_name.1', 'dist_H_1_y', 'dist_H_1_x', 'dist_H_2_x', 'dist_to_type_std', 'adC1', 'atom_0_bond_lengths_max', 'dist_C_4_y', 'tertiary_angle_3', 'max_molecule_atom_0_dist_xyz', 'dist_to_type_0_mean', 'tertiary_distance_3', 'atom_1_bond_lengths_std', 'dist_H_0_y', 'dist_C_3_y', 'dist_C_0_y', 'dist_N_0_y', 'dist_N_1_y', 'dist_C_2_y', 'dist_O_1_y', 'adC3', 'distance_center1', 'dist_O_0_x', 'atom_index_1_cycle_size_mean', 'tertiary_angle_5', 'tertiary_angle_12', 'adC2', 'dist_C_2_x', 'tertiary_distance_15', 'molecule_atom_index_1_dist_mean_diff', 'dist_C_1_y', 'tertiary_distance_13', 'atom_1_n_bonds', 'dist_to_type_1_mean', 'inv_dist1R', 'dist_xyz', 'tertiary_angle_14', 'tertiary_angle_13', 'dist_N_0_x', 'tertiary_distance_1', 'tertiary_angle_6', 'link1', 'tertiary_atom_0', 'molecule_atom_index_1_dist_min_div', 'tertiary_distance_2', 'tertiary_distance_7', 'tertiary_angle_2', 'tertiary_angle_0', 'atom_1_bond_lengths_mean', 'atom_1_bond_lengths_min', 'atom_1_bond_lengths_max', 'cos_f0', 'dist_to_type_mean', 'tertiary_angle_1', 'tertiary_distance_5', 'cos_c0_c1', 'tertiary_angle_15', 'tertiary_angle_4'], 'cv': {'cls': 'KFold', 'init': {'n_splits': 5, 'shuffle': True, 'random_state': 42}}, 'scaler': {'cls': 'StandardScaler', 'init': {}, 'fit': {}}, 'model': {'cls': 'lgb.LGBMRegressor', 'init': {'learning_rate': 0.2833769330240482, 'feature_fraction': 0.8818248470204605, 'bagging_fraction': 0.8205197060908092, 'min_data_in_leaf': 202, 'lambda_l1': 0.017039063121824582, 'lambda_l2': 0.8318702431636841, 'max_bin': 100, 'num_leaves': 255, 'random_state': 3895, 'n_jobs': 16}, 'fit': {}}, 'metric': 'mean_absolute_error'}\n"
     ]
    }
   ],
   "source": [
    "# 'scalar_coupling_constant', 'fc', 'sd','pso','dso'\n",
    "for y in ['dso']:\n",
    "    for t in np.arange(6,8,1):\n",
    "        \n",
    "        print(f'y={y}, type={t}')\n",
    "        df_train=pd.read_pickle(f'{file_folder}/df_train.gzde', compression='gzip')\n",
    "        df_train['y'] = df_train[y]\n",
    "        df_train = df_train[df_train['type']==t]\n",
    "        n_samples = 500000 if df_train.shape[0] > 500000 else df_train.shape[0]\n",
    "        df_train = df_train.sample(n_samples).reset_index(drop=True)\n",
    "        df_test = pd.DataFrame()\n",
    "        \n",
    "\n",
    "        param = {\n",
    "            'columns': df_train.columns.drop(['index', 'y','group', 'scalar_coupling_constant', 'fc', 'sd','pso','dso']).tolist(),\n",
    "            'cv': {\n",
    "                'cls': 'KFold',\n",
    "                'init':{\n",
    "                    'n_splits': 5,\n",
    "                    'shuffle': True,\n",
    "                    'random_state': 42,\n",
    "                },\n",
    "            },\n",
    "            'scaler': {'cls': 'StandardScaler', 'init': {}, 'fit': {}},\n",
    "            'model': {\n",
    "                'cls': 'lgb.LGBMRegressor',\n",
    "                'init': {\n",
    "                    'learning_rate': 0.2833769330240482,\n",
    "                    'feature_fraction': 0.8818248470204605,\n",
    "                    'bagging_fraction': 0.8205197060908092,\n",
    "                    'min_data_in_leaf': 202,\n",
    "                    'lambda_l1': 0.017039063121824582,\n",
    "                    'lambda_l2': 0.8318702431636841,\n",
    "                    'max_bin': 100,\n",
    "                    'num_leaves': 255,\n",
    "                    'random_state': 3895,\n",
    "                    'n_jobs': 16\n",
    "                },\n",
    "                'fit': {}\n",
    "            },\n",
    "            'metric': 'mean_absolute_error'\n",
    "        }\n",
    "\n",
    "\n",
    "\n",
    "        process_queue = PQueue(df_train, df_test, param, mytrial)\n",
    "        sort_features = SortFeatureSelectTopNProcess(**{'top_n':200})\n",
    "        select_topn = RFESelectTopNProcess(**{'n_features_remain':20, 'n_features_to_remove':10})\n",
    "        remove_useless = RFERemoveUselessFeaturesProcess(**{})\n",
    "        process_queue.insert_node(sort_features)\n",
    "        process_queue.insert_node(select_topn)\n",
    "        process_queue.insert_node(remove_useless)\n",
    "\n",
    "        try:\n",
    "            result = process_queue.run()\n",
    "        except Exception as e:\n",
    "            print(e.__str__())\n",
    "        print(len(process_queue.trial))\n",
    "        print(process_queue.param)\n",
    "    "
   ]
  },
  {
   "cell_type": "code",
   "execution_count": 7,
   "metadata": {},
   "outputs": [],
   "source": [
    "df_train=pd.read_pickle(f'{file_folder}/df_train.gzde', compression='gzip')\n",
    "df_test=pd.read_pickle(f'{file_folder}/df_test.gzde', compression='gzip')\n",
    "df_train['y'] = df_train['dso']"
   ]
  },
  {
   "cell_type": "code",
   "execution_count": 8,
   "metadata": {},
   "outputs": [],
   "source": [
    "columns_list = [\n",
    "{'columns': ['dist_N_0_y', 'tertiary_distance_6', 'tertiary_distance_9', 'dist_H_2_y', 'dist_C_1_y', 'tertiary_distance_11', 'dist_H_3_y', 'dist_O_0_x', 'inv_dist1', 'yukawa_F.x', 'yukawa_N.y', 'dist_O_1_x', 'yukawa_N.x', 'tertiary_distance_10', 'inv_dist0R', 'tertiary_atom_0', 'vander_C.y', 'eem_1', 'vander_O.x', 'yukawa_O.x', 'atom_index_1_cycle_size_mean', 'dist_N_0_x', 'dist_H_4_y', 'tertiary_distance_4', 'dist_N_1_x', 'yukawa_O.y', 'atom_n', 'dist_H_1_y', 'tertiary_distance_13', 'atom_1_bond_lengths_mean', 'yukawa_C.y', 'atom_1_bond_lengths_max', 'yukawa_C.x', 'dist_C_2_y', 'tertiary_atom_2', 'dist_O_0_y', 'vander_H.y', 'tertiary_distance_7', 'dist_O_1_y', 'tertiary_distance_0', 'tertiary_distance_2', 'dist_N_1_y', 'atom_1_bond_lengths_std', 'dist_C_0_y', 'dist_C_4_y', 'vander_O.y', 'dist_C_1_x', 'tertiary_distance_5', 'dist_C_3_y', 'tertiary_distance_1', 'tertiary_distance_8', 'tertiary_angle_2'], 'cv': {'cls': 'KFold', 'init': {'n_splits': 5, 'shuffle': True, 'random_state': 42}}, 'scaler': {'cls': 'StandardScaler', 'init': {}, 'fit': {}}, 'model': {'cls': 'lgb.LGBMRegressor', 'init': {'learning_rate': 0.2833769330240482, 'feature_fraction': 0.8818248470204605, 'bagging_fraction': 0.8205197060908092, 'min_data_in_leaf': 202, 'lambda_l1': 0.017039063121824582, 'lambda_l2': 0.8318702431636841, 'max_bin': 100, 'num_leaves': 255, 'random_state': 3895, 'n_jobs': 16}, 'fit': {}}, 'metric': 'mean_absolute_error'},\n",
    "{'columns': ['tertiary_distance_6', 'max_molecule_atom_1_dist_xyz', 'tertiary_distance_9', 'dist_C_1_y', 'dist_C_3_x', 'yukawa_N.x', 'dist_H_3_y', 'inv_dist1', 'yukawa_F.x', 'inv_dist0R', 'vander_C.y', 'tertiary_atom_0', 'eem_1', 'bond_atom', 'vander_O.x', 'molecule_name.1', 'tertiary_distance_4', 'dist_N_1_x', 'mean_molecule_atom_0_dist_xyz', 'yukawa_O.y', 'inv_dist0E', 'dist_H_1_y', 'tertiary_distance_13', 'atom_1_bond_lengths_max', 'yukawa_C.x', 'dist_C_2_y', 'tertiary_angle_3', 'inv_dist0', 'dist_O_0_y', 'vander_H.y', 'coulomb_H.y', 'tertiary_distance_2', 'tertiary_distance_3', 'tertiary_distance_0', 'distance_center1', 'dist_O_1_y', 'dist_H_0_x', 'dist_C_0_y', 'tertiary_angle_0', 'tertiary_distance_5', 'tertiary_distance_1', 'dist_C_3_y', 'molecule_atom_index_1_dist_std_diff', 'tertiary_angle_2', 'dist_N_0_y', 'eem_0', 'dist_H_2_y', 'vander_F.y', 'dist_C_2_x', 'tertiary_atom_14', 'dist_H_4_x', 'tertiary_distance_11', 'mean_molecule_atom_1_dist_xyz', 'dist_O_0_x', 'yukawa_N.y', 'dist_H_1_x', 'tertiary_distance_10', 'yukawa_O.x', 'atom_index_1_cycle_size_mean', 'dist_N_2_x', 'dist_N_0_x', 'distance_center0', 'atom_1_bond_lengths_mean', 'dist_H_0_y', 'yukawa_C.y', 'tertiary_atom_2', 'tertiary_distance_7', 'vander_C.x', 'tertiary_angle_1', 'atom_1_bond_lengths_std', 'dist_C_4_y', 'dist_C_1_x', 'tertiary_angle_4', 'vander_N.x', 'tertiary_distance_8'], 'cv': {'cls': 'KFold', 'init': {'n_splits': 5, 'shuffle': True, 'random_state': 42}}, 'scaler': {'cls': 'StandardScaler', 'init': {}, 'fit': {}}, 'model': {'cls': 'lgb.LGBMRegressor', 'init': {'learning_rate': 0.2833769330240482, 'feature_fraction': 0.8818248470204605, 'bagging_fraction': 0.8205197060908092, 'min_data_in_leaf': 202, 'lambda_l1': 0.017039063121824582, 'lambda_l2': 0.8318702431636841, 'max_bin': 100, 'num_leaves': 255, 'random_state': 3895, 'n_jobs': 16}, 'fit': {}}, 'metric': 'mean_absolute_error'},\n",
    "{'columns': ['tertiary_distance_6', 'max_molecule_atom_1_dist_xyz', 'tertiary_distance_9', 'dist_C_1_y', 'dist_C_3_x', 'yukawa_N.x', 'dist_H_3_y', 'inv_dist1', 'yukawa_F.x', 'inv_dist0R', 'vander_C.y', 'tertiary_atom_0', 'eem_1', 'bond_atom', 'vander_O.x', 'molecule_name.1', 'tertiary_distance_4', 'dist_N_1_x', 'mean_molecule_atom_0_dist_xyz', 'yukawa_O.y', 'inv_dist0E', 'dist_H_1_y', 'tertiary_distance_13', 'atom_1_bond_lengths_max', 'yukawa_C.x', 'dist_C_2_y', 'tertiary_angle_3', 'inv_dist0', 'dist_O_0_y', 'vander_H.y', 'coulomb_H.y', 'tertiary_distance_2', 'tertiary_distance_3', 'tertiary_distance_0', 'distance_center1', 'dist_O_1_y', 'dist_H_0_x', 'dist_C_0_y', 'tertiary_angle_0', 'tertiary_distance_5', 'tertiary_distance_1', 'dist_C_3_y', 'molecule_atom_index_1_dist_std_diff', 'tertiary_angle_2', 'dist_N_0_y', 'eem_0', 'dist_H_2_y', 'vander_F.y', 'dist_C_2_x', 'tertiary_atom_14', 'dist_H_4_x', 'tertiary_distance_11', 'mean_molecule_atom_1_dist_xyz', 'dist_O_0_x', 'yukawa_N.y', 'dist_H_1_x', 'tertiary_distance_10', 'yukawa_O.x', 'atom_index_1_cycle_size_mean', 'dist_N_2_x', 'dist_N_0_x', 'distance_center0', 'atom_1_bond_lengths_mean', 'dist_H_0_y', 'yukawa_C.y', 'tertiary_atom_2', 'tertiary_distance_7', 'vander_C.x', 'tertiary_angle_1', 'atom_1_bond_lengths_std', 'dist_C_4_y', 'dist_C_1_x', 'tertiary_angle_4', 'vander_N.x', 'tertiary_distance_8'], 'cv': {'cls': 'KFold', 'init': {'n_splits': 5, 'shuffle': True, 'random_state': 42}}, 'scaler': {'cls': 'StandardScaler', 'init': {}, 'fit': {}}, 'model': {'cls': 'lgb.LGBMRegressor', 'init': {'learning_rate': 0.2833769330240482, 'feature_fraction': 0.8818248470204605, 'bagging_fraction': 0.8205197060908092, 'min_data_in_leaf': 202, 'lambda_l1': 0.017039063121824582, 'lambda_l2': 0.8318702431636841, 'max_bin': 100, 'num_leaves': 255, 'random_state': 3895, 'n_jobs': 16}, 'fit': {}}, 'metric': 'mean_absolute_error'},\n",
    "{'columns': ['tertiary_distance_6', 'max_molecule_atom_1_dist_xyz', 'tertiary_distance_9', 'dist_C_1_y', 'dist_C_3_x', 'yukawa_N.x', 'dist_H_3_y', 'inv_dist1', 'yukawa_F.x', 'inv_dist0R', 'vander_C.y', 'tertiary_atom_0', 'eem_1', 'bond_atom', 'vander_O.x', 'molecule_name.1', 'tertiary_distance_4', 'dist_N_1_x', 'mean_molecule_atom_0_dist_xyz', 'yukawa_O.y', 'inv_dist0E', 'dist_H_1_y', 'tertiary_distance_13', 'atom_1_bond_lengths_max', 'yukawa_C.x', 'dist_C_2_y', 'tertiary_angle_3', 'inv_dist0', 'dist_O_0_y', 'vander_H.y', 'coulomb_H.y', 'tertiary_distance_2', 'tertiary_distance_3', 'tertiary_distance_0', 'distance_center1', 'dist_O_1_y', 'dist_H_0_x', 'dist_C_0_y', 'tertiary_angle_0', 'tertiary_distance_5', 'tertiary_distance_1', 'dist_C_3_y', 'molecule_atom_index_1_dist_std_diff', 'tertiary_angle_2', 'dist_N_0_y', 'eem_0', 'dist_H_2_y', 'vander_F.y', 'dist_C_2_x', 'tertiary_atom_14', 'dist_H_4_x', 'tertiary_distance_11', 'mean_molecule_atom_1_dist_xyz', 'dist_O_0_x', 'yukawa_N.y', 'dist_H_1_x', 'tertiary_distance_10', 'yukawa_O.x', 'atom_index_1_cycle_size_mean', 'dist_N_2_x', 'dist_N_0_x', 'distance_center0', 'atom_1_bond_lengths_mean', 'dist_H_0_y', 'yukawa_C.y', 'tertiary_atom_2', 'tertiary_distance_7', 'vander_C.x', 'tertiary_angle_1', 'atom_1_bond_lengths_std', 'dist_C_4_y', 'dist_C_1_x', 'tertiary_angle_4', 'vander_N.x', 'tertiary_distance_8'], 'cv': {'cls': 'KFold', 'init': {'n_splits': 5, 'shuffle': True, 'random_state': 42}}, 'scaler': {'cls': 'StandardScaler', 'init': {}, 'fit': {}}, 'model': {'cls': 'lgb.LGBMRegressor', 'init': {'learning_rate': 0.2833769330240482, 'feature_fraction': 0.8818248470204605, 'bagging_fraction': 0.8205197060908092, 'min_data_in_leaf': 202, 'lambda_l1': 0.017039063121824582, 'lambda_l2': 0.8318702431636841, 'max_bin': 100, 'num_leaves': 255, 'random_state': 3895, 'n_jobs': 16}, 'fit': {}}, 'metric': 'mean_absolute_error'},\n",
    "{'columns': ['inv_distPR', 'min_molecule_atom_0_dist_xyz', 'tertiary_distance_6', 'tertiary_distance_9', 'dist_C_1_y', 'tertiary_distance_15', 'distance_farthest_0', 'dist_to_type_mean', 'dist_C_0_x', 'molecule_atom_index_1_dist_mean_div', 'adN1', 'yukawa_F.y', 'dist_H_3_y', 'yukawa_N.x', 'inv_dist0R', 'vander_C.y', 'eem_1', 'bond_atom', 'vander_O.x', 'molecule_name.1', 'tertiary_distance_4', 'cos_c0', 'dist_N_1_x', 'mean_molecule_atom_0_dist_xyz', 'yukawa_O.y', 'dist_H_1_y', 'tertiary_distance_13', 'atom_1_n_bonds', 'atom_1_bond_lengths_max', 'yukawa_C.x', 'dist_C_2_y', 'atom_1_bond_lengths_min', 'tertiary_angle_3', 'dist_O_0_y', 'coulomb_H.y', 'distance_center1', 'tertiary_distance_2', 'dist_O_1_y', 'adC2', 'dist_N_1_y', 'tertiary_distance_3', 'dist_H_0_x', 'dist_to_type_0_mean', 'dist_C_4_x', 'dist_C_0_y', 'cos_c0_c1', 'tertiary_angle_0', 'adC3', 'molecule_couples', 'tertiary_distance_5', 'tertiary_distance_1', 'molecule_atom_index_1_dist_min_diff', 'dist_C_3_y', 'tertiary_angle_2', 'distN0', 'dist_N_0_y', 'molecule_atom_index_0_dist_min_diff', 'dist_H_2_y', 'dist_C_2_x', 'vander_N.y', 'tertiary_distance_11', 'dist_O_0_x', 'cos_c1', 'yukawa_N.y', 'dist_H_1_x', 'tertiary_distance_10', 'cos_f0', 'yukawa_O.x', 'atom_index_1_cycle_size_mean', 'dist_H_4_y', 'molecule_atom_index_0_dist_mean_div', 'yukawa_C.y', 'tertiary_distance_12', 'molecule_atom_index_0_dist_min_div', 'inv_dist1R', 'dist_xyz', 'tertiary_distance_7', 'linkN', 'vander_C.x', 'tertiary_atom_1', 'tertiary_angle_1', 'atom_1_bond_lengths_std', 'dist_C_4_y', 'vander_O.y', 'dist_to_type_std', 'dist_C_1_x', 'tertiary_angle_4', 'dist_C_3_x', 'tertiary_distance_8'], 'cv': {'cls': 'KFold', 'init': {'n_splits': 5, 'shuffle': True, 'random_state': 42}}, 'scaler': {'cls': 'StandardScaler', 'init': {}, 'fit': {}}, 'model': {'cls': 'lgb.LGBMRegressor', 'init': {'learning_rate': 0.2833769330240482, 'feature_fraction': 0.8818248470204605, 'bagging_fraction': 0.8205197060908092, 'min_data_in_leaf': 202, 'lambda_l1': 0.017039063121824582, 'lambda_l2': 0.8318702431636841, 'max_bin': 100, 'num_leaves': 255, 'random_state': 3895, 'n_jobs': 16}, 'fit': {}}, 'metric': 'mean_absolute_error'},\n",
    "{'columns': ['inv_distPR', 'min_molecule_atom_0_dist_xyz', 'tertiary_distance_6', 'tertiary_distance_9', 'dist_C_1_y', 'tertiary_distance_15', 'distance_farthest_0', 'dist_to_type_mean', 'dist_C_0_x', 'molecule_atom_index_1_dist_mean_div', 'adN1', 'yukawa_F.y', 'dist_H_3_y', 'yukawa_N.x', 'inv_dist0R', 'vander_C.y', 'eem_1', 'bond_atom', 'vander_O.x', 'molecule_name.1', 'tertiary_distance_4', 'cos_c0', 'dist_N_1_x', 'mean_molecule_atom_0_dist_xyz', 'yukawa_O.y', 'dist_H_1_y', 'tertiary_distance_13', 'atom_1_n_bonds', 'atom_1_bond_lengths_max', 'yukawa_C.x', 'dist_C_2_y', 'atom_1_bond_lengths_min', 'tertiary_angle_3', 'dist_O_0_y', 'coulomb_H.y', 'distance_center1', 'tertiary_distance_2', 'dist_O_1_y', 'adC2', 'dist_N_1_y', 'tertiary_distance_3', 'dist_H_0_x', 'dist_to_type_0_mean', 'dist_C_4_x', 'dist_C_0_y', 'cos_c0_c1', 'tertiary_angle_0', 'adC3', 'molecule_couples', 'tertiary_distance_5', 'tertiary_distance_1', 'molecule_atom_index_1_dist_min_diff', 'dist_C_3_y', 'tertiary_angle_2', 'distN0', 'dist_N_0_y', 'molecule_atom_index_0_dist_min_diff', 'dist_H_2_y', 'dist_C_2_x', 'vander_N.y', 'tertiary_distance_11', 'dist_O_0_x', 'cos_c1', 'yukawa_N.y', 'dist_H_1_x', 'tertiary_distance_10', 'cos_f0', 'yukawa_O.x', 'atom_index_1_cycle_size_mean', 'dist_H_4_y', 'molecule_atom_index_0_dist_mean_div', 'yukawa_C.y', 'tertiary_distance_12', 'molecule_atom_index_0_dist_min_div', 'inv_dist1R', 'dist_xyz', 'tertiary_distance_7', 'linkN', 'vander_C.x', 'tertiary_atom_1', 'tertiary_angle_1', 'atom_1_bond_lengths_std', 'dist_C_4_y', 'vander_O.y', 'dist_to_type_std', 'dist_C_1_x', 'tertiary_angle_4', 'dist_C_3_x', 'tertiary_distance_8'], 'cv': {'cls': 'KFold', 'init': {'n_splits': 5, 'shuffle': True, 'random_state': 42}}, 'scaler': {'cls': 'StandardScaler', 'init': {}, 'fit': {}}, 'model': {'cls': 'lgb.LGBMRegressor', 'init': {'learning_rate': 0.2833769330240482, 'feature_fraction': 0.8818248470204605, 'bagging_fraction': 0.8205197060908092, 'min_data_in_leaf': 202, 'lambda_l1': 0.017039063121824582, 'lambda_l2': 0.8318702431636841, 'max_bin': 100, 'num_leaves': 255, 'random_state': 3895, 'n_jobs': 16}, 'fit': {}}, 'metric': 'mean_absolute_error'},\n",
    "{'columns': ['tertiary_distance_6', 'dist_C_4_x', 'dist_C_3_x', 'cos_c1', 'yukawa_O.x', 'coulomb_H.y', 'molecule_atom_index_0_dist_min_diff', 'cos_c0', 'vander_O.y', 'dist_O_0_y', 'molecule_name.1', 'inv_distPR', 'tertiary_distance_18', 'dist_H_0_x', 'dist_O_2_y', 'yukawa_N.x', 'dist_to_type_std', 'adC1', 'dist_C_4_y', 'tertiary_angle_3', 'max_molecule_atom_1_dist_xyz', 'tertiary_distance_14', 'cos_center0_center1', 'dist_to_type_0_mean', 'tertiary_distance_11', 'vander_O.x', 'tertiary_distance_3', 'dist_H_0_y', 'dist_C_3_y', 'dist_C_0_y', 'dist_N_0_y', 'dist_N_1_y', 'dist_O_1_x', 'dist_H_4_x', 'dist_C_2_y', 'dist_O_1_y', 'adN1', 'molecule_dist_mean', 'molecule_atom_index_0_dist_mean_div', 'min_molecule_atom_0_dist_xyz', 'dist_N_1_x', 'dist_O_0_x', 'molecule_atom_index_0_dist_min_div', 'dist_C_2_x', 'distance_c1', 'dist_C_1_y', 'yukawa_C.x', 'tertiary_distance_13', 'dist_to_type_1_mean', 'dist_xyz', 'dist_F_1_y', 'tertiary_distance_12', 'tertiary_atom_16', 'vander_C.x', 'dist_N_0_x', 'tertiary_distance_9', 'tertiary_distance_1', 'molecule_atom_1_dist_min_diff', 'tertiary_distance_16', 'yukawa_O.y', 'yukawa_N.y', 'tertiary_atom_17', 'tertiary_atom_15', 'tertiary_distance_7', 'link0', 'tertiary_distance_2', 'tertiary_angle_2', 'tertiary_angle_0', 'atom_1_bond_lengths_mean', 'yukawa_C.y', 'dist_to_type_mean', 'tertiary_atom_18', 'tertiary_angle_1', 'tertiary_distance_5', 'cos_c0_c1', 'tertiary_distance_10', 'tertiary_distance_8', 'dist_C_1_x', 'vander_C.y'], 'cv': {'cls': 'KFold', 'init': {'n_splits': 5, 'shuffle': True, 'random_state': 42}}, 'scaler': {'cls': 'StandardScaler', 'init': {}, 'fit': {}}, 'model': {'cls': 'lgb.LGBMRegressor', 'init': {'learning_rate': 0.2833769330240482, 'feature_fraction': 0.8818248470204605, 'bagging_fraction': 0.8205197060908092, 'min_data_in_leaf': 202, 'lambda_l1': 0.017039063121824582, 'lambda_l2': 0.8318702431636841, 'max_bin': 100, 'num_leaves': 255, 'random_state': 3895, 'n_jobs': 16}, 'fit': {}}, 'metric': 'mean_absolute_error'},\n",
    "{'columns': ['dist_C_4_x', 'dist_C_3_x', 'cos_c1', 'molecule_atom_index_0_dist_min_diff', 'cos_c0', 'dist_O_0_y', 'molecule_name.1', 'dist_H_1_y', 'dist_H_1_x', 'dist_H_2_x', 'dist_to_type_std', 'adC1', 'atom_0_bond_lengths_max', 'dist_C_4_y', 'tertiary_angle_3', 'max_molecule_atom_0_dist_xyz', 'dist_to_type_0_mean', 'tertiary_distance_3', 'atom_1_bond_lengths_std', 'dist_H_0_y', 'dist_C_3_y', 'dist_C_0_y', 'dist_N_0_y', 'dist_N_1_y', 'dist_C_2_y', 'dist_O_1_y', 'adC3', 'distance_center1', 'dist_O_0_x', 'atom_index_1_cycle_size_mean', 'tertiary_angle_5', 'tertiary_angle_12', 'adC2', 'dist_C_2_x', 'tertiary_distance_15', 'molecule_atom_index_1_dist_mean_diff', 'dist_C_1_y', 'tertiary_distance_13', 'atom_1_n_bonds', 'dist_to_type_1_mean', 'inv_dist1R', 'dist_xyz', 'tertiary_angle_14', 'tertiary_angle_13', 'dist_N_0_x', 'tertiary_distance_1', 'tertiary_angle_6', 'link1', 'tertiary_atom_0', 'molecule_atom_index_1_dist_min_div', 'tertiary_distance_2', 'tertiary_distance_7', 'tertiary_angle_2', 'tertiary_angle_0', 'atom_1_bond_lengths_mean', 'atom_1_bond_lengths_min', 'atom_1_bond_lengths_max', 'cos_f0', 'dist_to_type_mean', 'tertiary_angle_1', 'tertiary_distance_5', 'cos_c0_c1', 'tertiary_angle_15', 'tertiary_angle_4'], 'cv': {'cls': 'KFold', 'init': {'n_splits': 5, 'shuffle': True, 'random_state': 42}}, 'scaler': {'cls': 'StandardScaler', 'init': {}, 'fit': {}}, 'model': {'cls': 'lgb.LGBMRegressor', 'init': {'learning_rate': 0.2833769330240482, 'feature_fraction': 0.8818248470204605, 'bagging_fraction': 0.8205197060908092, 'min_data_in_leaf': 202, 'lambda_l1': 0.017039063121824582, 'lambda_l2': 0.8318702431636841, 'max_bin': 100, 'num_leaves': 255, 'random_state': 3895, 'n_jobs': 16}, 'fit': {}}, 'metric': 'mean_absolute_error'},\n",
    "]"
   ]
  },
  {
   "cell_type": "code",
   "execution_count": 9,
   "metadata": {},
   "outputs": [],
   "source": [
    "mytrial=[]\n",
    "df_his, df_feature_importances, df_valid_pred, df_test_pred = pd.DataFrame(), pd.DataFrame(),pd.DataFrame(),pd.DataFrame()\n",
    "for t in  df_train.type.unique().tolist():\n",
    "    df_his_i, df_feature_importances_i, df_valid_pred_i, df_test_pred_i =  sk_process(df_train[df_train['type']==t].reset_index(drop=True), columns_list[t], f'modeling for {t}', df_test=df_test[df_test['type']==t].reset_index(drop=True), trial=mytrial, is_output_feature_importance=False, trial_level=1)\n",
    "    df_his = pd.concat([df_his, df_his_i], axis=0)\n",
    "    df_feature_importances = pd.concat([df_feature_importances, df_feature_importances_i], axis=0)\n",
    "    df_valid_pred = pd.concat([df_valid_pred, df_valid_pred_i], axis=0)\n",
    "    df_test_pred = pd.concat([df_test_pred, df_test_pred_i], axis=0)\n",
    "\n",
    "df_valid_pred = df_valid_pred.sort_values(by=['index']).reset_index(drop=True)\n",
    "df_test_pred = df_test_pred.sort_values(by=['index']).reset_index(drop=True)"
   ]
  },
  {
   "cell_type": "code",
   "execution_count": 10,
   "metadata": {},
   "outputs": [
    {
     "data": {
      "text/html": [
       "<div>\n",
       "<style scoped>\n",
       "    .dataframe tbody tr th:only-of-type {\n",
       "        vertical-align: middle;\n",
       "    }\n",
       "\n",
       "    .dataframe tbody tr th {\n",
       "        vertical-align: top;\n",
       "    }\n",
       "\n",
       "    .dataframe thead th {\n",
       "        text-align: right;\n",
       "    }\n",
       "</style>\n",
       "<table border=\"1\" class=\"dataframe\">\n",
       "  <thead>\n",
       "    <tr style=\"text-align: right;\">\n",
       "      <th></th>\n",
       "      <th>datetime</th>\n",
       "      <th>message</th>\n",
       "      <th>nfeatures</th>\n",
       "      <th>train_metric_mean</th>\n",
       "      <th>val_metric_mean</th>\n",
       "      <th>trn_val_metric_diff</th>\n",
       "      <th>message</th>\n",
       "    </tr>\n",
       "  </thead>\n",
       "  <tbody>\n",
       "    <tr>\n",
       "      <th>0</th>\n",
       "      <td>2019-07-25 06:34:40.609884</td>\n",
       "      <td>modeling for 0</td>\n",
       "      <td>52</td>\n",
       "      <td>0.005811</td>\n",
       "      <td>0.006486</td>\n",
       "      <td>0.000675</td>\n",
       "      <td>modeling for 0</td>\n",
       "    </tr>\n",
       "    <tr>\n",
       "      <th>1</th>\n",
       "      <td>2019-07-25 06:35:05.389278</td>\n",
       "      <td>modeling for 3</td>\n",
       "      <td>75</td>\n",
       "      <td>0.015355</td>\n",
       "      <td>0.019028</td>\n",
       "      <td>0.003672</td>\n",
       "      <td>modeling for 3</td>\n",
       "    </tr>\n",
       "    <tr>\n",
       "      <th>2</th>\n",
       "      <td>2019-07-25 06:35:08.403833</td>\n",
       "      <td>modeling for 1</td>\n",
       "      <td>75</td>\n",
       "      <td>0.001350</td>\n",
       "      <td>0.002180</td>\n",
       "      <td>0.000831</td>\n",
       "      <td>modeling for 1</td>\n",
       "    </tr>\n",
       "    <tr>\n",
       "      <th>3</th>\n",
       "      <td>2019-07-25 06:35:17.778092</td>\n",
       "      <td>modeling for 4</td>\n",
       "      <td>89</td>\n",
       "      <td>0.001271</td>\n",
       "      <td>0.002003</td>\n",
       "      <td>0.000732</td>\n",
       "      <td>modeling for 4</td>\n",
       "    </tr>\n",
       "    <tr>\n",
       "      <th>4</th>\n",
       "      <td>2019-07-25 06:36:38.318599</td>\n",
       "      <td>modeling for 2</td>\n",
       "      <td>75</td>\n",
       "      <td>0.008555</td>\n",
       "      <td>0.009263</td>\n",
       "      <td>0.000709</td>\n",
       "      <td>modeling for 2</td>\n",
       "    </tr>\n",
       "    <tr>\n",
       "      <th>5</th>\n",
       "      <td>2019-07-25 06:37:22.798903</td>\n",
       "      <td>modeling for 6</td>\n",
       "      <td>79</td>\n",
       "      <td>0.019777</td>\n",
       "      <td>0.022784</td>\n",
       "      <td>0.003007</td>\n",
       "      <td>modeling for 6</td>\n",
       "    </tr>\n",
       "    <tr>\n",
       "      <th>6</th>\n",
       "      <td>2019-07-25 06:39:30.193157</td>\n",
       "      <td>modeling for 5</td>\n",
       "      <td>89</td>\n",
       "      <td>0.010091</td>\n",
       "      <td>0.010747</td>\n",
       "      <td>0.000656</td>\n",
       "      <td>modeling for 5</td>\n",
       "    </tr>\n",
       "    <tr>\n",
       "      <th>7</th>\n",
       "      <td>2019-07-25 06:39:40.228651</td>\n",
       "      <td>modeling for 7</td>\n",
       "      <td>64</td>\n",
       "      <td>0.001904</td>\n",
       "      <td>0.002756</td>\n",
       "      <td>0.000853</td>\n",
       "      <td>modeling for 7</td>\n",
       "    </tr>\n",
       "  </tbody>\n",
       "</table>\n",
       "</div>"
      ],
      "text/plain": [
       "                    datetime         message  nfeatures  train_metric_mean  \\\n",
       "0 2019-07-25 06:34:40.609884  modeling for 0         52           0.005811   \n",
       "1 2019-07-25 06:35:05.389278  modeling for 3         75           0.015355   \n",
       "2 2019-07-25 06:35:08.403833  modeling for 1         75           0.001350   \n",
       "3 2019-07-25 06:35:17.778092  modeling for 4         89           0.001271   \n",
       "4 2019-07-25 06:36:38.318599  modeling for 2         75           0.008555   \n",
       "5 2019-07-25 06:37:22.798903  modeling for 6         79           0.019777   \n",
       "6 2019-07-25 06:39:30.193157  modeling for 5         89           0.010091   \n",
       "7 2019-07-25 06:39:40.228651  modeling for 7         64           0.001904   \n",
       "\n",
       "   val_metric_mean  trn_val_metric_diff         message  \n",
       "0         0.006486             0.000675  modeling for 0  \n",
       "1         0.019028             0.003672  modeling for 3  \n",
       "2         0.002180             0.000831  modeling for 1  \n",
       "3         0.002003             0.000732  modeling for 4  \n",
       "4         0.009263             0.000709  modeling for 2  \n",
       "5         0.022784             0.003007  modeling for 6  \n",
       "6         0.010747             0.000656  modeling for 5  \n",
       "7         0.002756             0.000853  modeling for 7  "
      ]
     },
     "execution_count": 10,
     "metadata": {},
     "output_type": "execute_result"
    }
   ],
   "source": [
    "df_trial = pd.DataFrame(mytrial)\n",
    "df_trial[['datetime', 'message', 'nfeatures', 'train_metric_mean', 'val_metric_mean', 'trn_val_metric_diff', 'message']]"
   ]
  },
  {
   "cell_type": "code",
   "execution_count": 11,
   "metadata": {},
   "outputs": [
    {
     "name": "stdout",
     "output_type": "stream",
     "text": [
      "0.0113439131210441\n",
      "0 0.006486287590348556\n",
      "3 0.019027581430896747\n",
      "1 0.002180097990113484\n",
      "4 0.0020032261513277276\n",
      "2 0.009263426870801004\n",
      "6 0.022783675627548072\n",
      "5 0.010747013764359296\n",
      "7 0.0027563504118763215\n"
     ]
    }
   ],
   "source": [
    "print(mean_absolute_error(df_valid_pred.sort_values(by=['index']).reset_index(drop=True).predict.values, df_train.reset_index(drop=True).y.values))\n",
    "for t in df_train.type.unique().tolist():\n",
    "    index = df_train[df_train['type']==t]['index'].values\n",
    "    print(t, mean_absolute_error(df_valid_pred[df_valid_pred['index'].isin(index)].sort_values(by=['index']).reset_index(drop=True).predict.values, df_train[df_train['index'].isin(index)].reset_index(drop=True).y.values))"
   ]
  },
  {
   "cell_type": "code",
   "execution_count": 12,
   "metadata": {},
   "outputs": [],
   "source": [
    "# df_test_pred = df_trial.loc[idx]['df_test_pred']\n",
    "df_submit = pd.DataFrame()\n",
    "df_submit['dso'] = np.mean(df_test_pred.drop(columns=['index']).values, axis=1)\n",
    "df_submit['id'] = df_test_pred['index']\n",
    "df_submit.to_pickle('../../data/oof/lgbm_dso_test.pkl')"
   ]
  },
  {
   "cell_type": "code",
   "execution_count": 13,
   "metadata": {},
   "outputs": [],
   "source": [
    "df_submit = df_valid_pred.rename(columns={'predict':'dso', 'index':'id'})\n",
    "df_submit.to_pickle('../../data/oof/lgbm_dso_train.pkl')"
   ]
  },
  {
   "cell_type": "code",
   "execution_count": null,
   "metadata": {},
   "outputs": [],
   "source": []
  }
 ],
 "metadata": {
  "kernelspec": {
   "display_name": "Python 3",
   "language": "python",
   "name": "python3"
  },
  "language_info": {
   "codemirror_mode": {
    "name": "ipython",
    "version": 3
   },
   "file_extension": ".py",
   "mimetype": "text/x-python",
   "name": "python",
   "nbconvert_exporter": "python",
   "pygments_lexer": "ipython3",
   "version": "3.7.3"
  }
 },
 "nbformat": 4,
 "nbformat_minor": 2
}
