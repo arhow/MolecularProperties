{
 "cells": [
  {
   "cell_type": "code",
   "execution_count": 1,
   "metadata": {},
   "outputs": [
    {
     "data": {
      "text/html": [
       "<style>\n",
       "   div#notebook-container    { width: 95%; }\n",
       "   div#menubar-container     { width: 65%; }\n",
       "   div#maintoolbar-container { width: 99%; }\n",
       "</style>\n"
      ],
      "text/plain": [
       "<IPython.core.display.HTML object>"
      ]
     },
     "metadata": {},
     "output_type": "display_data"
    }
   ],
   "source": [
    "%%HTML\n",
    "<style>\n",
    "   div#notebook-container    { width: 95%; }\n",
    "   div#menubar-container     { width: 65%; }\n",
    "   div#maintoolbar-container { width: 99%; }\n",
    "</style>"
   ]
  },
  {
   "cell_type": "code",
   "execution_count": null,
   "metadata": {},
   "outputs": [],
   "source": [
    "# https://mp.weixin.qq.com/s/b-h1pNt5LFgy0UKVsfltNQ\n",
    "# https://mp.weixin.qq.com/s?__biz=MzUxNjcxMjQxNg==&mid=2247490717&idx=5&sn=ed7377461ec54365e6cc4da452bd5548&scene=21#wechat_redirect"
   ]
  },
  {
   "cell_type": "code",
   "execution_count": 119,
   "metadata": {},
   "outputs": [
    {
     "name": "stdout",
     "output_type": "stream",
     "text": [
      "Collecting tqdm\n",
      "\u001b[?25l  Downloading https://files.pythonhosted.org/packages/02/56/60a5b1c2e634d8e4ff89c7bab47645604e19658f448050a21facffd43796/tqdm-4.33.0-py2.py3-none-any.whl (50kB)\n",
      "\u001b[K     |████████████████████████████████| 51kB 10.5MB/s eta 0:00:01\n",
      "\u001b[?25hInstalling collected packages: tqdm\n",
      "Successfully installed tqdm-4.33.0\n"
     ]
    }
   ],
   "source": [
    "import sys\n",
    "!{sys.executable} -m pip install tqdm"
   ]
  },
  {
   "cell_type": "code",
   "execution_count": 120,
   "metadata": {},
   "outputs": [],
   "source": [
    "from tqdm import tqdm"
   ]
  },
  {
   "cell_type": "code",
   "execution_count": 10,
   "metadata": {},
   "outputs": [],
   "source": [
    "import os\n",
    "import pandas as pd\n",
    "import networkx as nx\n",
    "\n",
    "import pandas as pd\n",
    "import numpy as np\n",
    "import os\n",
    "\n",
    "from sklearn import preprocessing\n",
    "from rdkit.Chem import ChemicalFeatures\n",
    "from rdkit import RDConfig\n",
    "\n",
    "\n",
    "pd.set_option('display.max_columns', 500)"
   ]
  },
  {
   "cell_type": "code",
   "execution_count": 11,
   "metadata": {},
   "outputs": [
    {
     "data": {
      "text/plain": [
       "['test.csv',\n",
       " 'structures',\n",
       " 'sample_submission.csv',\n",
       " 'magnetic_shielding_tensors.csv',\n",
       " 'mulliken_charges.csv',\n",
       " 'potential_energy.csv',\n",
       " 'scalar_coupling_contributions.csv',\n",
       " 'dipole_moments.csv',\n",
       " 'structures.csv',\n",
       " 'train.csv']"
      ]
     },
     "execution_count": 11,
     "metadata": {},
     "output_type": "execute_result"
    }
   ],
   "source": [
    "file_folder = '../../data/input'\n",
    "os.listdir(file_folder)"
   ]
  },
  {
   "cell_type": "code",
   "execution_count": 12,
   "metadata": {},
   "outputs": [
    {
     "data": {
      "text/plain": [
       "['log_omega.csv', 'log_sigma_iso.csv', 'log_charges.csv', 'log_kappa.csv']"
      ]
     },
     "execution_count": 12,
     "metadata": {},
     "output_type": "execute_result"
    }
   ],
   "source": [
    "sch_csv_folder = '../../data/temp/mpnn_keras'\n",
    "[csv for csv in os.listdir(sch_csv_folder) if 'log' in csv]"
   ]
  },
  {
   "cell_type": "code",
   "execution_count": 13,
   "metadata": {},
   "outputs": [],
   "source": [
    "df_log_omega = pd.read_csv(f'{sch_csv_folder}/log_omega.csv')"
   ]
  },
  {
   "cell_type": "code",
   "execution_count": 14,
   "metadata": {},
   "outputs": [
    {
     "name": "stdout",
     "output_type": "stream",
     "text": [
      "(50, 6)\n"
     ]
    },
    {
     "data": {
      "text/html": [
       "<div>\n",
       "<style scoped>\n",
       "    .dataframe tbody tr th:only-of-type {\n",
       "        vertical-align: middle;\n",
       "    }\n",
       "\n",
       "    .dataframe tbody tr th {\n",
       "        vertical-align: top;\n",
       "    }\n",
       "\n",
       "    .dataframe thead th {\n",
       "        text-align: right;\n",
       "    }\n",
       "</style>\n",
       "<table border=\"1\" class=\"dataframe\">\n",
       "  <thead>\n",
       "    <tr style=\"text-align: right;\">\n",
       "      <th></th>\n",
       "      <th>Time</th>\n",
       "      <th>Learning rate</th>\n",
       "      <th>Train loss</th>\n",
       "      <th>Validation loss</th>\n",
       "      <th>MAE_omega</th>\n",
       "      <th>RMSE_omega</th>\n",
       "    </tr>\n",
       "  </thead>\n",
       "  <tbody>\n",
       "    <tr>\n",
       "      <th>0</th>\n",
       "      <td>134.800611</td>\n",
       "      <td>0.0001</td>\n",
       "      <td>5.218416e+06</td>\n",
       "      <td>2617.278371</td>\n",
       "      <td>27.590765</td>\n",
       "      <td>51.159129</td>\n",
       "    </tr>\n",
       "    <tr>\n",
       "      <th>1</th>\n",
       "      <td>269.372009</td>\n",
       "      <td>0.0001</td>\n",
       "      <td>1.069290e+06</td>\n",
       "      <td>1543.869215</td>\n",
       "      <td>20.740078</td>\n",
       "      <td>39.294244</td>\n",
       "    </tr>\n",
       "    <tr>\n",
       "      <th>2</th>\n",
       "      <td>404.623475</td>\n",
       "      <td>0.0001</td>\n",
       "      <td>7.318054e+05</td>\n",
       "      <td>1174.939555</td>\n",
       "      <td>18.229860</td>\n",
       "      <td>34.280939</td>\n",
       "    </tr>\n",
       "    <tr>\n",
       "      <th>3</th>\n",
       "      <td>540.357520</td>\n",
       "      <td>0.0001</td>\n",
       "      <td>5.680555e+05</td>\n",
       "      <td>946.177910</td>\n",
       "      <td>16.267743</td>\n",
       "      <td>30.763685</td>\n",
       "    </tr>\n",
       "    <tr>\n",
       "      <th>4</th>\n",
       "      <td>675.389112</td>\n",
       "      <td>0.0001</td>\n",
       "      <td>4.665222e+05</td>\n",
       "      <td>780.362762</td>\n",
       "      <td>14.677221</td>\n",
       "      <td>27.938632</td>\n",
       "    </tr>\n",
       "  </tbody>\n",
       "</table>\n",
       "</div>"
      ],
      "text/plain": [
       "         Time  Learning rate    Train loss  Validation loss  MAE_omega  \\\n",
       "0  134.800611         0.0001  5.218416e+06      2617.278371  27.590765   \n",
       "1  269.372009         0.0001  1.069290e+06      1543.869215  20.740078   \n",
       "2  404.623475         0.0001  7.318054e+05      1174.939555  18.229860   \n",
       "3  540.357520         0.0001  5.680555e+05       946.177910  16.267743   \n",
       "4  675.389112         0.0001  4.665222e+05       780.362762  14.677221   \n",
       "\n",
       "   RMSE_omega  \n",
       "0   51.159129  \n",
       "1   39.294244  \n",
       "2   34.280939  \n",
       "3   30.763685  \n",
       "4   27.938632  "
      ]
     },
     "execution_count": 14,
     "metadata": {},
     "output_type": "execute_result"
    }
   ],
   "source": [
    "print(df_log_omega.shape)\n",
    "df_log_omega.head()"
   ]
  },
  {
   "cell_type": "code",
   "execution_count": 15,
   "metadata": {},
   "outputs": [],
   "source": [
    "train = pd.read_csv(f'{file_folder}/train.csv')\n",
    "test = pd.read_csv(f'{file_folder}/test.csv')\n",
    "magnetic_shielding_tensors = pd.read_csv(f'{file_folder}/magnetic_shielding_tensors.csv')\n",
    "dipole_moments = pd.read_csv(f'{file_folder}/dipole_moments.csv')\n",
    "mulliken_charges = pd.read_csv(f'{file_folder}/mulliken_charges.csv')\n",
    "potential_energy = pd.read_csv(f'{file_folder}/potential_energy.csv')\n",
    "scalar_coupling_contributions = pd.read_csv(f'{file_folder}/scalar_coupling_contributions.csv')\n",
    "structures = pd.read_csv(f'{file_folder}/structures.csv')"
   ]
  },
  {
   "cell_type": "code",
   "execution_count": 75,
   "metadata": {},
   "outputs": [],
   "source": [
    "def load_csv(DATA_DIR):\n",
    "\n",
    "#     DATA_DIR = '/root/share/project/kaggle/2019/champs_scalar/data'\n",
    "\n",
    "    #structure\n",
    "    df_structure = pd.read_csv(DATA_DIR + '/structures.csv')\n",
    "\n",
    "    #coupling\n",
    "    df_train = pd.read_csv(DATA_DIR + '/train.csv')\n",
    "    df_test  = pd.read_csv(DATA_DIR + '/test.csv')\n",
    "    df_test['scalar_coupling_constant']=0\n",
    "    df_scalar_coupling = pd.concat([df_train,df_test])\n",
    "    df_scalar_coupling_contribution = pd.read_csv(DATA_DIR + '/scalar_coupling_contributions.csv')\n",
    "    df_scalar_coupling = pd.merge(df_scalar_coupling, df_scalar_coupling_contribution, how='left', on=['molecule_name','atom_index_0','atom_index_1','atom_index_0','type'])\n",
    "    gb_scalar_coupling = df_scalar_coupling.groupby('molecule_name')\n",
    "    gb_structure       = df_structure.groupby('molecule_name')\n",
    "\n",
    "    return gb_structure, gb_scalar_coupling\n",
    "\n",
    "##\n",
    "# Written by Jan H. Jensen based on this paper Yeonjoon Kim and Woo Youn Kim \n",
    "# \"Universal Structure Conversion Method for Organic Molecules: From Atomic Connectivity\n",
    "# to Three-Dimensional Geometry\" Bull. Korean Chem. Soc. 2015, Vol. 36, 1769-1777 DOI: 10.1002/bkcs.10334\n",
    "#\n",
    "from rdkit import Chem\n",
    "from rdkit.Chem import AllChem\n",
    "import itertools\n",
    "from rdkit.Chem import rdmolops\n",
    "from collections import defaultdict\n",
    "import copy\n",
    "import networkx as nx #uncomment if you don't want to use \"quick\"/install networkx\n",
    "\n",
    "\n",
    "global __ATOM_LIST__\n",
    "__ATOM_LIST__ = [ x.strip() for x in ['h ','he', \\\n",
    "      'li','be','b ','c ','n ','o ','f ','ne', \\\n",
    "      'na','mg','al','si','p ','s ','cl','ar', \\\n",
    "      'k ','ca','sc','ti','v ','cr','mn','fe','co','ni','cu', \\\n",
    "      'zn','ga','ge','as','se','br','kr', \\\n",
    "      'rb','sr','y ','zr','nb','mo','tc','ru','rh','pd','ag', \\\n",
    "      'cd','in','sn','sb','te','i ','xe', \\\n",
    "      'cs','ba','la','ce','pr','nd','pm','sm','eu','gd','tb','dy', \\\n",
    "      'ho','er','tm','yb','lu','hf','ta','w ','re','os','ir','pt', \\\n",
    "      'au','hg','tl','pb','bi','po','at','rn', \\\n",
    "      'fr','ra','ac','th','pa','u ','np','pu'] ]\n",
    "\n",
    "\n",
    "def get_atom(atom):\n",
    "    global __ATOM_LIST__\n",
    "    atom = atom.lower()\n",
    "    return __ATOM_LIST__.index(atom) + 1\n",
    "\n",
    "\n",
    "def getUA(maxValence_list, valence_list):\n",
    "    UA = []\n",
    "    DU = []\n",
    "    for i, (maxValence,valence) in enumerate(zip(maxValence_list, valence_list)):\n",
    "        if maxValence - valence > 0:\n",
    "            UA.append(i)\n",
    "            DU.append(maxValence - valence)\n",
    "    return UA,DU\n",
    "\n",
    "\n",
    "def get_BO(AC,UA,DU,valences,UA_pairs,quick):\n",
    "    BO = AC.copy()\n",
    "    DU_save = []\n",
    "\n",
    "    while DU_save != DU:\n",
    "        for i,j in UA_pairs:\n",
    "            BO[i,j] += 1\n",
    "            BO[j,i] += 1 \n",
    "        \n",
    "        BO_valence = list(BO.sum(axis=1))\n",
    "        DU_save = copy.copy(DU)\n",
    "        UA, DU = getUA(valences, BO_valence)\n",
    "        UA_pairs = get_UA_pairs(UA,AC,quick)[0]\n",
    "\n",
    "    return BO\n",
    "\n",
    "\n",
    "def valences_not_too_large(BO,valences):\n",
    "    number_of_bonds_list = BO.sum(axis=1)\n",
    "    for valence, number_of_bonds in zip(valences,number_of_bonds_list):\n",
    "        if number_of_bonds > valence:\n",
    "            return False\n",
    "\n",
    "    return True\n",
    "\n",
    "\n",
    "def BO_is_OK(BO,AC,charge,DU,atomic_valence_electrons,atomicNumList,charged_fragments):\n",
    "    Q = 0 # total charge\n",
    "    q_list = []\n",
    "    if charged_fragments:\n",
    "        BO_valences = list(BO.sum(axis=1))\n",
    "        for i,atom in enumerate(atomicNumList):\n",
    "            q = get_atomic_charge(atom,atomic_valence_electrons[atom],BO_valences[i])\n",
    "            Q += q\n",
    "            if atom == 6:\n",
    "                number_of_single_bonds_to_C = list(BO[i,:]).count(1)\n",
    "                if number_of_single_bonds_to_C == 2 and BO_valences[i] == 2:\n",
    "                    Q += 1\n",
    "                    q = 2\n",
    "                if number_of_single_bonds_to_C == 3 and Q + 1 < charge:\n",
    "                    Q += 2\n",
    "                    q = 1\n",
    "            \n",
    "            if q != 0:\n",
    "                q_list.append(q)\n",
    "\n",
    "    if (BO-AC).sum() == sum(DU) and charge == Q and len(q_list) <= abs(charge):\n",
    "        return True\n",
    "    else:\n",
    "        return False\n",
    "\n",
    "\n",
    "def get_atomic_charge(atom,atomic_valence_electrons,BO_valence):\n",
    "    if atom == 1:\n",
    "        charge = 1 - BO_valence\n",
    "    elif atom == 5:\n",
    "        charge = 3 - BO_valence\n",
    "    elif atom == 15 and BO_valence == 5:\n",
    "        charge = 0\n",
    "    elif atom == 16 and BO_valence == 6:\n",
    "        charge = 0\n",
    "    else:\n",
    "        charge = atomic_valence_electrons - 8 + BO_valence\n",
    "\n",
    "    return charge\n",
    "\n",
    "def clean_charges(mol):\n",
    "# this hack should not be needed any more but is kept just in case\n",
    "#\n",
    "\n",
    "    rxn_smarts = ['[N+:1]=[*:2]-[C-:3]>>[N+0:1]-[*:2]=[C-0:3]',\n",
    "                  '[N+:1]=[*:2]-[O-:3]>>[N+0:1]-[*:2]=[O-0:3]',\n",
    "                  '[N+:1]=[*:2]-[*:3]=[*:4]-[O-:5]>>[N+0:1]-[*:2]=[*:3]-[*:4]=[O-0:5]',\n",
    "                  '[#8:1]=[#6:2]([!-:6])[*:3]=[*:4][#6-:5]>>[*-:1][*:2]([*:6])=[*:3][*:4]=[*+0:5]',\n",
    "                  '[O:1]=[c:2][c-:3]>>[*-:1][*:2][*+0:3]',\n",
    "                  '[O:1]=[C:2][C-:3]>>[*-:1][*:2]=[*+0:3]']\n",
    "\n",
    "    fragments = Chem.GetMolFrags(mol,asMols=True,sanitizeFrags=False)\n",
    "\n",
    "    for i,fragment in enumerate(fragments):\n",
    "        for smarts in rxn_smarts:\n",
    "            patt = Chem.MolFromSmarts(smarts.split(\">>\")[0])\n",
    "            while fragment.HasSubstructMatch(patt):\n",
    "                rxn = AllChem.ReactionFromSmarts(smarts)\n",
    "                ps = rxn.RunReactants((fragment,))\n",
    "                fragment = ps[0][0]\n",
    "        if i == 0:\n",
    "            mol = fragment\n",
    "        else:\n",
    "            mol = Chem.CombineMols(mol,fragment)\n",
    "\n",
    "    return mol\n",
    "\n",
    "\n",
    "def BO2mol(mol,BO_matrix, atomicNumList,atomic_valence_electrons,mol_charge,charged_fragments):\n",
    "# based on code written by Paolo Toscani\n",
    "\n",
    "    l = len(BO_matrix)\n",
    "    l2 = len(atomicNumList)\n",
    "    BO_valences = list(BO_matrix.sum(axis=1))\n",
    "\n",
    "    if (l != l2):\n",
    "        raise RuntimeError('sizes of adjMat ({0:d}) and atomicNumList '\n",
    "            '{1:d} differ'.format(l, l2))\n",
    "\n",
    "    rwMol = Chem.RWMol(mol)\n",
    "\n",
    "    bondTypeDict = {\n",
    "        1: Chem.BondType.SINGLE,\n",
    "        2: Chem.BondType.DOUBLE,\n",
    "        3: Chem.BondType.TRIPLE\n",
    "    }\n",
    "\n",
    "    for i in range(l):\n",
    "        for j in range(i + 1, l):\n",
    "            bo = int(round(BO_matrix[i, j]))\n",
    "            if (bo == 0):\n",
    "                continue\n",
    "            bt = bondTypeDict.get(bo, Chem.BondType.SINGLE)\n",
    "            rwMol.AddBond(i, j, bt)\n",
    "    mol = rwMol.GetMol()\n",
    "\n",
    "    if charged_fragments:\n",
    "        mol = set_atomic_charges(mol,atomicNumList,atomic_valence_electrons,BO_valences,BO_matrix,mol_charge)\n",
    "    else:\n",
    "        mol = set_atomic_radicals(mol,atomicNumList,atomic_valence_electrons,BO_valences)\n",
    "\n",
    "    return mol\n",
    "\n",
    "def set_atomic_charges(mol,atomicNumList,atomic_valence_electrons,BO_valences,BO_matrix,mol_charge):\n",
    "    q = 0\n",
    "    for i,atom in enumerate(atomicNumList):\n",
    "        a = mol.GetAtomWithIdx(i)\n",
    "        charge = get_atomic_charge(atom,atomic_valence_electrons[atom],BO_valences[i])\n",
    "        q += charge\n",
    "        if atom == 6:\n",
    "            number_of_single_bonds_to_C = list(BO_matrix[i,:]).count(1)\n",
    "            if number_of_single_bonds_to_C == 2 and BO_valences[i] == 2:\n",
    "                    q += 1\n",
    "                    charge = 0\n",
    "            if number_of_single_bonds_to_C == 3 and q + 1 < mol_charge:\n",
    "                    q += 2\n",
    "                    charge = 1\n",
    "\n",
    "        if (abs(charge) > 0):\n",
    "            a.SetFormalCharge(int(charge))\n",
    "\n",
    "    # shouldn't be needed anymore bit is kept just in case\n",
    "    #mol = clean_charges(mol)\n",
    "\n",
    "    return mol\n",
    "\n",
    "\n",
    "def set_atomic_radicals(mol,atomicNumList,atomic_valence_electrons,BO_valences):\n",
    "# The number of radical electrons = absolute atomic charge\n",
    "    for i,atom in enumerate(atomicNumList):\n",
    "        a = mol.GetAtomWithIdx(i)\n",
    "        charge = get_atomic_charge(atom,atomic_valence_electrons[atom],BO_valences[i])\n",
    "\n",
    "        if (abs(charge) > 0):\n",
    "            a.SetNumRadicalElectrons(abs(int(charge)))\n",
    "\n",
    "    return mol\n",
    "\n",
    "def get_bonds(UA,AC):\n",
    "    bonds = []\n",
    "\n",
    "    for k,i in enumerate(UA):\n",
    "        for j in UA[k+1:]:\n",
    "            if AC[i,j] == 1:\n",
    "                bonds.append(tuple(sorted([i,j])))\n",
    "\n",
    "    return bonds\n",
    "\n",
    "def get_UA_pairs(UA,AC,quick):\n",
    "    bonds = get_bonds(UA,AC)\n",
    "    if len(bonds) == 0:\n",
    "        return [()]\n",
    "\n",
    "    if quick:\n",
    "        G=nx.Graph()\n",
    "        G.add_edges_from(bonds)\n",
    "        UA_pairs = [list(nx.max_weight_matching(G))]\n",
    "        return UA_pairs\n",
    "\n",
    "    max_atoms_in_combo = 0\n",
    "    UA_pairs = [()]\n",
    "    for combo in list(itertools.combinations(bonds, int(len(UA)/2))):\n",
    "        flat_list = [item for sublist in combo for item in sublist]\n",
    "        atoms_in_combo = len(set(flat_list))\n",
    "        if atoms_in_combo > max_atoms_in_combo:\n",
    "            max_atoms_in_combo = atoms_in_combo\n",
    "            UA_pairs = [combo]\n",
    " #           if quick and max_atoms_in_combo == 2*int(len(UA)/2):\n",
    " #               return UA_pairs\n",
    "        elif atoms_in_combo == max_atoms_in_combo:\n",
    "            UA_pairs.append(combo)\n",
    "\n",
    "    return UA_pairs\n",
    "\n",
    "def AC2BO(AC,atomicNumList,charge,charged_fragments,quick):\n",
    "    # TODO\n",
    "    atomic_valence = defaultdict(list)\n",
    "    atomic_valence[1] = [1]\n",
    "    atomic_valence[6] = [4]\n",
    "    atomic_valence[7] = [4,3]\n",
    "    atomic_valence[8] = [2,1]\n",
    "    atomic_valence[9] = [1]\n",
    "    atomic_valence[14] = [4]\n",
    "    atomic_valence[15] = [5,4,3]\n",
    "    atomic_valence[16] = [6,4,2]\n",
    "    atomic_valence[17] = [1]\n",
    "    atomic_valence[32] = [4]\n",
    "    atomic_valence[35] = [1]\n",
    "    atomic_valence[53] = [1]\n",
    "\n",
    "\n",
    "    atomic_valence_electrons = {}\n",
    "    atomic_valence_electrons[1] = 1\n",
    "    atomic_valence_electrons[6] = 4\n",
    "    atomic_valence_electrons[7] = 5\n",
    "    atomic_valence_electrons[8] = 6\n",
    "    atomic_valence_electrons[9] = 7\n",
    "    atomic_valence_electrons[14] = 4\n",
    "    atomic_valence_electrons[15] = 5\n",
    "    atomic_valence_electrons[16] = 6\n",
    "    atomic_valence_electrons[17] = 7\n",
    "    atomic_valence_electrons[32] = 4\n",
    "    atomic_valence_electrons[35] = 7\n",
    "    atomic_valence_electrons[53] = 7\n",
    "\n",
    "# make a list of valences, e.g. for CO: [[4],[2,1]]\n",
    "    valences_list_of_lists = []\n",
    "    for atomicNum in atomicNumList:\n",
    "        valences_list_of_lists.append(atomic_valence[atomicNum])\n",
    "\n",
    "# convert [[4],[2,1]] to [[4,2],[4,1]]\n",
    "    valences_list = itertools.product(*valences_list_of_lists)\n",
    "\n",
    "    best_BO = AC.copy()\n",
    "\n",
    "# implemenation of algorithm shown in Figure 2\n",
    "# UA: unsaturated atoms\n",
    "# DU: degree of unsaturation (u matrix in Figure)\n",
    "# best_BO: Bcurr in Figure \n",
    "#\n",
    "\n",
    "    for valences in valences_list:\n",
    "        AC_valence = list(AC.sum(axis=1))\n",
    "        UA,DU_from_AC = getUA(valences, AC_valence)\n",
    "\n",
    "        if len(UA) == 0 and BO_is_OK(AC,AC,charge,DU_from_AC,atomic_valence_electrons,atomicNumList,charged_fragments):\n",
    "            return AC,atomic_valence_electrons\n",
    "        \n",
    "        UA_pairs_list = get_UA_pairs(UA,AC,quick) \n",
    "        for UA_pairs in UA_pairs_list:\n",
    "            BO = get_BO(AC,UA,DU_from_AC,valences,UA_pairs,quick)\n",
    "            if BO_is_OK(BO,AC,charge,DU_from_AC,atomic_valence_electrons,atomicNumList,charged_fragments):\n",
    "                return BO,atomic_valence_electrons\n",
    "\n",
    "            elif BO.sum() >= best_BO.sum() and valences_not_too_large(BO,valences):\n",
    "                best_BO = BO.copy()\n",
    "\n",
    "    return best_BO,atomic_valence_electrons\n",
    "\n",
    "\n",
    "def AC2mol(mol,AC,atomicNumList,charge,charged_fragments,quick):\n",
    "# convert AC matrix to bond order (BO) matrix\n",
    "    BO,atomic_valence_electrons = AC2BO(AC,atomicNumList,charge,charged_fragments,quick)\n",
    "\n",
    "# add BO connectivity and charge info to mol object\n",
    "    mol = BO2mol(mol,BO, atomicNumList,atomic_valence_electrons,charge,charged_fragments)\n",
    "\n",
    "    return mol\n",
    "\n",
    "\n",
    "def get_proto_mol(atomicNumList):\n",
    "    mol = Chem.MolFromSmarts(\"[#\"+str(atomicNumList[0])+\"]\")\n",
    "    rwMol = Chem.RWMol(mol)\n",
    "    for i in range(1,len(atomicNumList)):\n",
    "        a = Chem.Atom(atomicNumList[i])\n",
    "        rwMol.AddAtom(a)\n",
    "    \n",
    "    mol = rwMol.GetMol()\n",
    "\n",
    "    return mol\n",
    "\n",
    "\n",
    "def get_atomicNumList(atomic_symbols):\n",
    "    atomicNumList = []\n",
    "    for symbol in atomic_symbols:\n",
    "        atomicNumList.append(get_atom(symbol))\n",
    "    return atomicNumList\n",
    "\n",
    "\n",
    "def read_xyz_file(filename):\n",
    "\n",
    "    atomic_symbols = []\n",
    "    xyz_coordinates = []\n",
    "\n",
    "    with open(filename, \"r\") as file:\n",
    "        for line_number,line in enumerate(file):\n",
    "            if line_number == 0:\n",
    "                num_atoms = int(line)\n",
    "            elif line_number == 1:\n",
    "                if \"charge=\" in line:\n",
    "                    charge = int(line.split(\"=\")[1])\n",
    "                else:\n",
    "                    charge = 0\n",
    "            else:\n",
    "                atomic_symbol, x, y, z = line.split()\n",
    "                atomic_symbols.append(atomic_symbol)\n",
    "                xyz_coordinates.append([float(x),float(y),float(z)])\n",
    "\n",
    "    atomicNumList = get_atomicNumList(atomic_symbols)\n",
    "    \n",
    "    return atomicNumList,charge,xyz_coordinates\n",
    "\n",
    "def xyz2AC(atomicNumList,xyz):\n",
    "    import numpy as np\n",
    "    mol = get_proto_mol(atomicNumList)\n",
    "    conf = Chem.Conformer(mol.GetNumAtoms())\n",
    "#     print(mol.GetNumAtoms())\n",
    "    for i in range(mol.GetNumAtoms()):\n",
    "        conf.SetAtomPosition(i,(xyz[i][0],xyz[i][1],xyz[i][2]))\n",
    "    mol.AddConformer(conf)\n",
    "\n",
    "    dMat = Chem.Get3DDistanceMatrix(mol)\n",
    "    pt = Chem.GetPeriodicTable()\n",
    "\n",
    "    num_atoms = len(atomicNumList)\n",
    "    AC = np.zeros((num_atoms,num_atoms)).astype(int)\n",
    "\n",
    "    for i in range(num_atoms):\n",
    "        a_i = mol.GetAtomWithIdx(i)\n",
    "        Rcov_i = pt.GetRcovalent(a_i.GetAtomicNum())*1.30\n",
    "        for j in range(i+1,num_atoms):\n",
    "            a_j = mol.GetAtomWithIdx(j)\n",
    "            Rcov_j = pt.GetRcovalent(a_j.GetAtomicNum())*1.30\n",
    "            if dMat[i,j] <= Rcov_i + Rcov_j:\n",
    "                AC[i,j] = 1\n",
    "                AC[j,i] = 1\n",
    "\n",
    "    return AC,mol\n",
    "\n",
    "def chiral_stereo_check(mol):\n",
    "    Chem.SanitizeMol(mol)\n",
    "    Chem.DetectBondStereochemistry(mol,-1)\n",
    "    Chem.AssignStereochemistry(mol, flagPossibleStereoCenters=True, force=True)\n",
    "    Chem.AssignAtomChiralTagsFromStructure(mol,-1)\n",
    "\n",
    "    return mol\n",
    "\n",
    "def xyz2mol(atomicNumList,charge,xyz_coordinates,charged_fragments,quick):\n",
    "\n",
    "# Get atom connectivity (AC) matrix, list of atomic numbers, molecular charge, \n",
    "# and mol object with no connectivity information\n",
    "    AC,mol = xyz2AC(atomicNumList,xyz_coordinates)\n",
    "\n",
    "# Convert AC to bond order matrix and add connectivity and charge info to mol object\n",
    "    new_mol = AC2mol(mol,AC,atomicNumList,charge,charged_fragments,quick)\n",
    "\n",
    "# Check for stereocenters and chiral centers\n",
    "    new_mol = chiral_stereo_check(new_mol)\n",
    "\n",
    "    return new_mol\n",
    "\n",
    "# if __name__ == \"__main__\":\n",
    "\n",
    "#     import argparse\n",
    "\n",
    "#     parser = argparse.ArgumentParser(usage='%(prog)s [options] molecule.xyz')\n",
    "#     parser.add_argument('structure', metavar='structure', type=str)\n",
    "#     parser.add_argument('-s', '--sdf', action=\"store_true\", help=\"Dump sdf file\")\n",
    "#     args = parser.parse_args()\n",
    "\n",
    "    \n",
    "#     filename = args.structure\n",
    "#     charged_fragments = True # alternatively radicals are made\n",
    "\n",
    "#     # quick is faster for large systems but requires networkx\n",
    "#     # if you don't want to install networkx set quick=False and \n",
    "#     # uncomment 'import networkx as nx' at the top of the file \n",
    "#     quick = True \n",
    "\n",
    "#     atomicNumList, charge, xyz_coordinates = read_xyz_file(filename)\n",
    "\n",
    "#     mol = xyz2mol(atomicNumList, charge, xyz_coordinates, charged_fragments, quick)\n",
    "\n",
    "#     if args.sdf:\n",
    "#         filename = filename.replace(\".xyz\", \"\")\n",
    "#         filename += \".sdf\"\n",
    "#         writer = Chem.SDWriter(filename)\n",
    "#         writer.write(mol)\n",
    "\n",
    "#     # Canonical hack\n",
    "#     smiles = Chem.MolToSmiles(mol, isomericSmiles=True)\n",
    "#     m = Chem.MolFromSmiles(smiles)\n",
    "#     smiles = Chem.MolToSmiles(m, isomericSmiles=True)\n",
    "\n",
    "#     print(smiles)"
   ]
  },
  {
   "cell_type": "code",
   "execution_count": null,
   "metadata": {},
   "outputs": [],
   "source": [
    "import community\n",
    "\n",
    "def xyz_df2mol(g):\n",
    "    atomic_symbols   = g.atom.values.tolist()\n",
    "    atomicNumList = get_atomicNumList(atomic_symbols)\n",
    "    xyz = g[['x','y','z']].values\n",
    "    charge  = 0\n",
    "    charged_fragments = True\n",
    "    quick   =  True\n",
    "    mol = xyz2mol(atomicNumList, charge, xyz, charged_fragments, quick)\n",
    "    return mol\n",
    "\n",
    "def mol2nx(mol):\n",
    "    G = nx.Graph()\n",
    "    G.add_nodes_from([a.GetIdx() for a in mol.GetAtoms()])\n",
    "    G.add_edges_from([(b.GetBeginAtomIdx(), b.GetEndAtomIdx()) for b in mol.GetBonds()])\n",
    "    return G"
   ]
  },
  {
   "cell_type": "code",
   "execution_count": 17,
   "metadata": {},
   "outputs": [],
   "source": [
    "gb_structure, gb_scalar_coupling = load_csv(file_folder)"
   ]
  },
  {
   "cell_type": "code",
   "execution_count": 90,
   "metadata": {},
   "outputs": [
    {
     "data": {
      "text/html": [
       "<div>\n",
       "<style scoped>\n",
       "    .dataframe tbody tr th:only-of-type {\n",
       "        vertical-align: middle;\n",
       "    }\n",
       "\n",
       "    .dataframe tbody tr th {\n",
       "        vertical-align: top;\n",
       "    }\n",
       "\n",
       "    .dataframe thead th {\n",
       "        text-align: right;\n",
       "    }\n",
       "</style>\n",
       "<table border=\"1\" class=\"dataframe\">\n",
       "  <thead>\n",
       "    <tr style=\"text-align: right;\">\n",
       "      <th></th>\n",
       "      <th>molecule_name</th>\n",
       "      <th>atom_index</th>\n",
       "      <th>atom</th>\n",
       "      <th>x</th>\n",
       "      <th>y</th>\n",
       "      <th>z</th>\n",
       "    </tr>\n",
       "  </thead>\n",
       "  <tbody>\n",
       "    <tr>\n",
       "      <th>2395</th>\n",
       "      <td>dsgdb9nsd_000232</td>\n",
       "      <td>0</td>\n",
       "      <td>C</td>\n",
       "      <td>-0.026547</td>\n",
       "      <td>1.463986</td>\n",
       "      <td>0.011895</td>\n",
       "    </tr>\n",
       "    <tr>\n",
       "      <th>2396</th>\n",
       "      <td>dsgdb9nsd_000232</td>\n",
       "      <td>1</td>\n",
       "      <td>C</td>\n",
       "      <td>-0.020647</td>\n",
       "      <td>0.010640</td>\n",
       "      <td>-0.000750</td>\n",
       "    </tr>\n",
       "    <tr>\n",
       "      <th>2397</th>\n",
       "      <td>dsgdb9nsd_000232</td>\n",
       "      <td>2</td>\n",
       "      <td>C</td>\n",
       "      <td>-0.007246</td>\n",
       "      <td>-1.194450</td>\n",
       "      <td>-0.011837</td>\n",
       "    </tr>\n",
       "    <tr>\n",
       "      <th>2398</th>\n",
       "      <td>dsgdb9nsd_000232</td>\n",
       "      <td>3</td>\n",
       "      <td>C</td>\n",
       "      <td>0.084323</td>\n",
       "      <td>-2.647043</td>\n",
       "      <td>-0.023476</td>\n",
       "    </tr>\n",
       "    <tr>\n",
       "      <th>2399</th>\n",
       "      <td>dsgdb9nsd_000232</td>\n",
       "      <td>4</td>\n",
       "      <td>N</td>\n",
       "      <td>-1.129160</td>\n",
       "      <td>-3.274487</td>\n",
       "      <td>-0.032628</td>\n",
       "    </tr>\n",
       "    <tr>\n",
       "      <th>2400</th>\n",
       "      <td>dsgdb9nsd_000232</td>\n",
       "      <td>5</td>\n",
       "      <td>O</td>\n",
       "      <td>1.143452</td>\n",
       "      <td>-3.244412</td>\n",
       "      <td>-0.032820</td>\n",
       "    </tr>\n",
       "    <tr>\n",
       "      <th>2401</th>\n",
       "      <td>dsgdb9nsd_000232</td>\n",
       "      <td>6</td>\n",
       "      <td>H</td>\n",
       "      <td>0.993062</td>\n",
       "      <td>1.862947</td>\n",
       "      <td>0.018206</td>\n",
       "    </tr>\n",
       "    <tr>\n",
       "      <th>2402</th>\n",
       "      <td>dsgdb9nsd_000232</td>\n",
       "      <td>7</td>\n",
       "      <td>H</td>\n",
       "      <td>-0.539241</td>\n",
       "      <td>1.861910</td>\n",
       "      <td>-0.870521</td>\n",
       "    </tr>\n",
       "    <tr>\n",
       "      <th>2403</th>\n",
       "      <td>dsgdb9nsd_000232</td>\n",
       "      <td>8</td>\n",
       "      <td>H</td>\n",
       "      <td>-0.544266</td>\n",
       "      <td>1.846890</td>\n",
       "      <td>0.898031</td>\n",
       "    </tr>\n",
       "    <tr>\n",
       "      <th>2404</th>\n",
       "      <td>dsgdb9nsd_000232</td>\n",
       "      <td>9</td>\n",
       "      <td>H</td>\n",
       "      <td>-1.988756</td>\n",
       "      <td>-2.759139</td>\n",
       "      <td>0.035698</td>\n",
       "    </tr>\n",
       "    <tr>\n",
       "      <th>2405</th>\n",
       "      <td>dsgdb9nsd_000232</td>\n",
       "      <td>10</td>\n",
       "      <td>H</td>\n",
       "      <td>-1.145901</td>\n",
       "      <td>-4.280319</td>\n",
       "      <td>0.005785</td>\n",
       "    </tr>\n",
       "  </tbody>\n",
       "</table>\n",
       "</div>"
      ],
      "text/plain": [
       "         molecule_name  atom_index atom         x         y         z\n",
       "2395  dsgdb9nsd_000232           0    C -0.026547  1.463986  0.011895\n",
       "2396  dsgdb9nsd_000232           1    C -0.020647  0.010640 -0.000750\n",
       "2397  dsgdb9nsd_000232           2    C -0.007246 -1.194450 -0.011837\n",
       "2398  dsgdb9nsd_000232           3    C  0.084323 -2.647043 -0.023476\n",
       "2399  dsgdb9nsd_000232           4    N -1.129160 -3.274487 -0.032628\n",
       "2400  dsgdb9nsd_000232           5    O  1.143452 -3.244412 -0.032820\n",
       "2401  dsgdb9nsd_000232           6    H  0.993062  1.862947  0.018206\n",
       "2402  dsgdb9nsd_000232           7    H -0.539241  1.861910 -0.870521\n",
       "2403  dsgdb9nsd_000232           8    H -0.544266  1.846890  0.898031\n",
       "2404  dsgdb9nsd_000232           9    H -1.988756 -2.759139  0.035698\n",
       "2405  dsgdb9nsd_000232          10    H -1.145901 -4.280319  0.005785"
      ]
     },
     "execution_count": 90,
     "metadata": {},
     "output_type": "execute_result"
    }
   ],
   "source": [
    "g"
   ]
  },
  {
   "cell_type": "code",
   "execution_count": 116,
   "metadata": {},
   "outputs": [],
   "source": [
    "df_mol = pd.DataFrame()"
   ]
  },
  {
   "cell_type": "code",
   "execution_count": null,
   "metadata": {},
   "outputs": [
    {
     "name": "stderr",
     "output_type": "stream",
     "text": [
      "  0%|          | 0/130775 [00:00<?, ?it/s]/root/anaconda3/envs/wang/lib/python3.7/site-packages/ipykernel_launcher.py:41: FutureWarning: Sorting because non-concatenation axis is not aligned. A future version\n",
      "of pandas will change to not sort by default.\n",
      "\n",
      "To accept the future behavior, pass 'sort=False'.\n",
      "\n",
      "To retain the current behavior and silence the warning, pass 'sort=True'.\n",
      "\n",
      " 11%|█▏        | 14838/130775 [18:46<3:57:21,  8.14it/s]"
     ]
    }
   ],
   "source": [
    "# longest_atom_counts = 0\n",
    "\n",
    "for (structure_c, structure_g), (bond_c, bond_g) in tqdm(zip(gb_structure, gb_scalar_coupling), total=len(gb_structure)):\n",
    "    \n",
    "    mol = xyz_df2mol(structure_g)\n",
    "    G = mol2nx(mol)\n",
    "    \n",
    "    shortest_path = dict(nx.all_pairs_shortest_path_length(G))\n",
    "    \n",
    "    partition = community.best_partition(G)\n",
    "    \n",
    "    centrality = nx.pagerank(G, alpha=0.75)\n",
    "    \n",
    "    c_degree = nx.degree_centrality(G)\n",
    "    c_degree = list(c_degree.values())\n",
    "    \n",
    "    c_eigenvector = nx.eigenvector_centrality(G, max_iter=500)\n",
    "    c_eigenvector = list(c_eigenvector.values())\n",
    "    \n",
    "    c_closeness = nx.closeness_centrality(G)\n",
    "    c_closeness = list(c_closeness.values())\n",
    "    \n",
    "    c_betweenness = nx.betweenness_centrality(G)\n",
    "    c_betweenness = list(c_betweenness.values())\n",
    "    \n",
    "    df_mol_i = pd.DataFrame({'molecule_name':bond_c, \n",
    "                             'atom_index':list(shortest_path.keys()), \n",
    "                             'community':list(partition.values()),\n",
    "                             'centrality':list(centrality.values()),\n",
    "                             'c_degree':c_degree,\n",
    "                             'c_eigenvector':c_eigenvector,\n",
    "                             'c_closeness':c_closeness,\n",
    "                             'c_betweenness':c_betweenness,\n",
    "                            })\n",
    "    shortest_path_df = pd.DataFrame(shortest_path.values())\n",
    "    shortest_path_df.columns = [f'gdist_to{atom_i}' for atom_i in range(shortest_path_df.shape[0])]\n",
    "    df_mol_i = pd.concat([df_mol_i, shortest_path_df], axis=1)\n",
    "    \n",
    "#     'shortest_path':list(shortest_path.values())\n",
    "    \n",
    "    df_mol = pd.concat([df_mol, df_mol_i], axis=0)\n",
    "    \n",
    "    \n",
    "#     break"
   ]
  },
  {
   "cell_type": "code",
   "execution_count": null,
   "metadata": {},
   "outputs": [],
   "source": [
    "####Chemical properties\n",
    "#electronegativity pauling\n",
    "electronegativity = {'H':2.2, 'C':2.55, 'N':3.04 , 'O':3.44, 'F':3.98 }\n",
    "#Type de charge \n",
    "charge ={'H':0, 'C':1, 'N':1 , 'O':3.44, 'F':3.98 }\n",
    "#etat\n",
    "etat ={'H':0, 'C':1, 'N':0, 'O':3.44, 'F':3.98 }\n",
    "#Masse kg/m^3\n",
    "masse = {'H':76, 'C':3513, 'N':1026, 'O':3.44, 'F':3.98 }\n",
    "#volume cm^3/mole\n",
    "volume = {'H':13.26, 'C':3.42, 'N':13.65, 'O':3.44, 'F':3.98 }\n",
    "#Rayon atomique (mesuré)\n",
    "rayon_am = {'H':25, 'C':70, 'N':65, 'O':3.44, 'F':3.98 }\n",
    "#Rayon atomique (calculé)\n",
    "rayon_ac = {'H':53, 'C':67, 'N':56 ,'O':0.73, 'F':0.71}\n",
    "#Rayon covalent\n",
    "rayon_c = {'H':38, 'C':77, 'N':75, 'O':3.44, 'F':3.98 }\n",
    "#Rayon ionique\n",
    "rayon_i = {'H':-3, 'C':4, 'N':-3, 'O':3.44, 'F':3.98 }\n",
    "#Rayon de Van der Waals\n",
    "rayon_vdw = {'H':120, 'C':170, 'N':155, 'O':3.44, 'F':3.98 }\n",
    "\n",
    "#### Physical properties\n",
    "#Point de fusion\n",
    "fusion = {'H':-259.1, 'C':3546.9, 'N':-209.9, 'O':3.44, 'F':3.98 }\n",
    "#seuil d'ébulution minimal (celcius)\n",
    "ebulution_min = {'H':-252.9, 'C':4826.9, 'N':-195.8, 'O':3.44, 'F':3.98 }\n",
    "#Enthalpie de fusion ΔHf (kj/mol)\n",
    "enthalpie_fusion = {'H':0.12, 'C':105, 'N':0.72, 'O':3.44, 'F':3.98 }\n",
    "#Enthalpie de vaporisation ΔHv\n",
    "enthalpie_vaporisation = {'H':0.46, 'C':710.9, 'N':5.58, 'O':3.44, 'F':3.98 }\n",
    "#Capacité thermique\n",
    "capacite_thermique = {'H':14.3, 'C':0.71, 'N':1.04, 'O':3.44, 'F':3.98 }\n",
    "#Conductivité thermique\n",
    "conductivite_thermique = {'H':0.18, 'C':990, 'N':0.03, 'O':3.44, 'F':3.98 }\n",
    "\n",
    "#### Nuclear properties\n",
    "#Nb isotopes\n",
    "isotopes = {'H':3, 'C':12, 'N':12, 'O':3.44, 'F':3.98 }\n",
    "#Isotopes emeteurs\n",
    "isotopes_emeteurs = {'H':0, 'C':3, 'N':3, 'O':3.44, 'F':3.98 }"
   ]
  },
  {
   "cell_type": "code",
   "execution_count": 132,
   "metadata": {},
   "outputs": [
    {
     "data": {
      "text/plain": [
       "{0: 0.31024971644542243,\n",
       " 1: 0.28503351562603396,\n",
       " 2: 0.33144664750020314,\n",
       " 3: 0.4611564819332348,\n",
       " 4: 0.5019258222776906,\n",
       " 5: 0.20483823431497145,\n",
       " 6: 0.13780976269558823,\n",
       " 7: 0.13780976269558823,\n",
       " 8: 0.13780976269558823,\n",
       " 9: 0.22294693094858736,\n",
       " 10: 0.22294693094858736,\n",
       " 11: 0.22294693094858736}"
      ]
     },
     "execution_count": 132,
     "metadata": {},
     "output_type": "execute_result"
    }
   ],
   "source": [
    "nx.eigenvector_centrality(G, max_iter=200)"
   ]
  },
  {
   "cell_type": "code",
   "execution_count": 92,
   "metadata": {},
   "outputs": [
    {
     "data": {
      "text/plain": [
       "[0, 1, 2, 3, 4]"
      ]
     },
     "execution_count": 92,
     "metadata": {},
     "output_type": "execute_result"
    }
   ],
   "source": [
    "list(shortest_path.keys())"
   ]
  },
  {
   "cell_type": "code",
   "execution_count": 96,
   "metadata": {},
   "outputs": [
    {
     "data": {
      "text/plain": [
       "dict_values([{0: 0, 1: 1, 2: 1, 3: 1, 4: 1}, {1: 0, 0: 1, 2: 2, 3: 2, 4: 2}, {2: 0, 0: 1, 1: 2, 3: 2, 4: 2}, {3: 0, 0: 1, 1: 2, 2: 2, 4: 2}, {4: 0, 0: 1, 1: 2, 2: 2, 3: 2}])"
      ]
     },
     "execution_count": 96,
     "metadata": {},
     "output_type": "execute_result"
    }
   ],
   "source": [
    "shortest_path.values()"
   ]
  },
  {
   "cell_type": "code",
   "execution_count": 95,
   "metadata": {},
   "outputs": [
    {
     "data": {
      "text/html": [
       "<div>\n",
       "<style scoped>\n",
       "    .dataframe tbody tr th:only-of-type {\n",
       "        vertical-align: middle;\n",
       "    }\n",
       "\n",
       "    .dataframe tbody tr th {\n",
       "        vertical-align: top;\n",
       "    }\n",
       "\n",
       "    .dataframe thead th {\n",
       "        text-align: right;\n",
       "    }\n",
       "</style>\n",
       "<table border=\"1\" class=\"dataframe\">\n",
       "  <thead>\n",
       "    <tr style=\"text-align: right;\">\n",
       "      <th></th>\n",
       "      <th>0</th>\n",
       "      <th>1</th>\n",
       "      <th>2</th>\n",
       "      <th>3</th>\n",
       "      <th>4</th>\n",
       "    </tr>\n",
       "  </thead>\n",
       "  <tbody>\n",
       "    <tr>\n",
       "      <th>0</th>\n",
       "      <td>0</td>\n",
       "      <td>1</td>\n",
       "      <td>1</td>\n",
       "      <td>1</td>\n",
       "      <td>1</td>\n",
       "    </tr>\n",
       "    <tr>\n",
       "      <th>1</th>\n",
       "      <td>1</td>\n",
       "      <td>0</td>\n",
       "      <td>2</td>\n",
       "      <td>2</td>\n",
       "      <td>2</td>\n",
       "    </tr>\n",
       "    <tr>\n",
       "      <th>2</th>\n",
       "      <td>1</td>\n",
       "      <td>2</td>\n",
       "      <td>0</td>\n",
       "      <td>2</td>\n",
       "      <td>2</td>\n",
       "    </tr>\n",
       "    <tr>\n",
       "      <th>3</th>\n",
       "      <td>1</td>\n",
       "      <td>2</td>\n",
       "      <td>2</td>\n",
       "      <td>0</td>\n",
       "      <td>2</td>\n",
       "    </tr>\n",
       "    <tr>\n",
       "      <th>4</th>\n",
       "      <td>1</td>\n",
       "      <td>2</td>\n",
       "      <td>2</td>\n",
       "      <td>2</td>\n",
       "      <td>0</td>\n",
       "    </tr>\n",
       "  </tbody>\n",
       "</table>\n",
       "</div>"
      ],
      "text/plain": [
       "   0  1  2  3  4\n",
       "0  0  1  1  1  1\n",
       "1  1  0  2  2  2\n",
       "2  1  2  0  2  2\n",
       "3  1  2  2  0  2\n",
       "4  1  2  2  2  0"
      ]
     },
     "execution_count": 95,
     "metadata": {},
     "output_type": "execute_result"
    }
   ],
   "source": [
    "pd.DataFrame(shortest_path.values())"
   ]
  },
  {
   "cell_type": "code",
   "execution_count": 87,
   "metadata": {},
   "outputs": [
    {
     "data": {
      "text/plain": [
       "dict_values([0, 0, 0, 0, 0])"
      ]
     },
     "execution_count": 87,
     "metadata": {},
     "output_type": "execute_result"
    }
   ],
   "source": [
    "partition.values()"
   ]
  },
  {
   "cell_type": "code",
   "execution_count": 88,
   "metadata": {},
   "outputs": [
    {
     "data": {
      "text/plain": [
       "dict_values([0.4571420389229261, 0.1357144902692685, 0.1357144902692685, 0.1357144902692685, 0.1357144902692685])"
      ]
     },
     "execution_count": 88,
     "metadata": {},
     "output_type": "execute_result"
    }
   ],
   "source": [
    "centrality.values()"
   ]
  },
  {
   "cell_type": "code",
   "execution_count": 82,
   "metadata": {},
   "outputs": [
    {
     "data": {
      "text/plain": [
       "[1.0, 0.25, 0.25, 0.25, 0.25]"
      ]
     },
     "execution_count": 82,
     "metadata": {},
     "output_type": "execute_result"
    }
   ],
   "source": [
    "c_degree"
   ]
  },
  {
   "cell_type": "code",
   "execution_count": 83,
   "metadata": {},
   "outputs": [
    {
     "data": {
      "text/plain": [
       "[0.7071069290249942,\n",
       " 0.353553316674035,\n",
       " 0.353553316674035,\n",
       " 0.353553316674035,\n",
       " 0.353553316674035]"
      ]
     },
     "execution_count": 83,
     "metadata": {},
     "output_type": "execute_result"
    }
   ],
   "source": [
    "c_eigenvector"
   ]
  },
  {
   "cell_type": "code",
   "execution_count": 84,
   "metadata": {},
   "outputs": [
    {
     "data": {
      "text/plain": [
       "[1.0,\n",
       " 0.5714285714285714,\n",
       " 0.5714285714285714,\n",
       " 0.5714285714285714,\n",
       " 0.5714285714285714]"
      ]
     },
     "execution_count": 84,
     "metadata": {},
     "output_type": "execute_result"
    }
   ],
   "source": [
    "c_closeness"
   ]
  },
  {
   "cell_type": "code",
   "execution_count": 85,
   "metadata": {},
   "outputs": [
    {
     "data": {
      "text/plain": [
       "[1.0, 0.0, 0.0, 0.0, 0.0]"
      ]
     },
     "execution_count": 85,
     "metadata": {},
     "output_type": "execute_result"
    }
   ],
   "source": [
    "c_betweenness"
   ]
  },
  {
   "cell_type": "code",
   "execution_count": 28,
   "metadata": {},
   "outputs": [],
   "source": [
    "import matplotlib.pyplot as plt\n",
    "import community"
   ]
  },
  {
   "cell_type": "code",
   "execution_count": 127,
   "metadata": {},
   "outputs": [
    {
     "name": "stderr",
     "output_type": "stream",
     "text": [
      "/root/anaconda3/envs/wang/lib/python3.7/site-packages/networkx/drawing/nx_pylab.py:579: MatplotlibDeprecationWarning: \n",
      "The iterable function was deprecated in Matplotlib 3.1 and will be removed in 3.3. Use np.iterable instead.\n",
      "  if not cb.iterable(width):\n"
     ]
    },
    {
     "data": {
      "text/plain": [
       "<matplotlib.collections.LineCollection at 0x7faa5e68d630>"
      ]
     },
     "execution_count": 127,
     "metadata": {},
     "output_type": "execute_result"
    },
    {
     "data": {
      "image/png": "[encoded data removed]",
      "text/plain": [
       "<Figure size 576x576 with 1 Axes>"
      ]
     },
     "metadata": {},
     "output_type": "display_data"
    }
   ],
   "source": [
    "partition = community.best_partition(G)\n",
    "pos = nx.spring_layout(G)\n",
    "plt.figure(figsize=(8, 8))\n",
    "plt.axis('off')\n",
    "nx.draw_networkx_nodes(G, pos, node_size=600, cmap=plt.cm.RdYlBu, node_color=list(partition.values()))\n",
    "nx.draw_networkx_edges(G, pos, alpha=0.3)"
   ]
  },
  {
   "cell_type": "code",
   "execution_count": null,
   "metadata": {},
   "outputs": [],
   "source": []
  }
 ],
 "metadata": {
  "kernelspec": {
   "display_name": "wang",
   "language": "python",
   "name": "wang"
  },
  "language_info": {
   "codemirror_mode": {
    "name": "ipython",
    "version": 3
   },
   "file_extension": ".py",
   "mimetype": "text/x-python",
   "name": "python",
   "nbconvert_exporter": "python",
   "pygments_lexer": "ipython3",
   "version": "3.7.3"
  }
 },
 "nbformat": 4,
 "nbformat_minor": 2
}
