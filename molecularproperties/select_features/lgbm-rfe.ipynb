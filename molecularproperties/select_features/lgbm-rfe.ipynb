{
 "cells": [
  {
   "cell_type": "code",
   "execution_count": 1,
   "metadata": {},
   "outputs": [
    {
     "data": {
      "text/html": [
       "<style>\n",
       "   div#notebook-container    { width: 95%; }\n",
       "   div#menubar-container     { width: 65%; }\n",
       "   div#maintoolbar-container { width: 99%; }\n",
       "</style>\n"
      ],
      "text/plain": [
       "<IPython.core.display.HTML object>"
      ]
     },
     "metadata": {},
     "output_type": "display_data"
    }
   ],
   "source": [
    "%%HTML\n",
    "<style>\n",
    "   div#notebook-container    { width: 95%; }\n",
    "   div#menubar-container     { width: 65%; }\n",
    "   div#maintoolbar-container { width: 99%; }\n",
    "</style>"
   ]
  },
  {
   "cell_type": "code",
   "execution_count": 1,
   "metadata": {},
   "outputs": [],
   "source": [
    "import sys\n",
    "sys.path.append(\"../..\") # Adds higher directory to python modules path.\n",
    "from utilities import aggregate_feature_calculators\n",
    "from utilities import aggregate_feature_calculators_setting as aggcal\n",
    "from utilities.parallel import Parallel\n",
    "from utilities.dfdb import DFDB"
   ]
  },
  {
   "cell_type": "code",
   "execution_count": 2,
   "metadata": {},
   "outputs": [],
   "source": [
    "# import sys\n",
    "# !{sys.executable} -m pip install seaborn"
   ]
  },
  {
   "cell_type": "code",
   "execution_count": 2,
   "metadata": {},
   "outputs": [],
   "source": [
    "import numpy as np\n",
    "import pandas as pd\n",
    "import os\n",
    "import time\n",
    "import datetime\n",
    "import json\n",
    "import copy\n",
    "import gc\n",
    "import warnings\n",
    "from tqdm import tqdm_notebook, tqdm\n",
    "\n",
    "import optuna\n",
    "\n",
    "import lightgbm as lgb\n",
    "import xgboost as xgb\n",
    "\n",
    "from catboost import CatBoostRegressor\n",
    "from sklearn.preprocessing import LabelEncoder\n",
    "from sklearn.model_selection import StratifiedKFold, KFold, RepeatedKFold,TimeSeriesSplit, GroupKFold\n",
    "from sklearn.model_selection import train_test_split\n",
    "from sklearn import metrics\n",
    "from sklearn import linear_model\n",
    "from sklearn.preprocessing import StandardScaler\n",
    "from sklearn.svm import NuSVR, SVR\n",
    "from sklearn.metrics import mean_absolute_error\n",
    "from sklearn import preprocessing\n",
    "\n",
    "import eli5\n",
    "from eli5.sklearn import PermutationImportance\n",
    "\n",
    "import networkx as nx\n",
    "\n",
    "import seaborn as sns\n",
    "import matplotlib.pyplot as plt\n",
    "%matplotlib inline"
   ]
  },
  {
   "cell_type": "code",
   "execution_count": 3,
   "metadata": {},
   "outputs": [],
   "source": [
    "def mem_check(scope):\n",
    "    list_ = []\n",
    "    for var_name in scope:\n",
    "        if not var_name.startswith(\"_\"):\n",
    "            mem_usage = sys.getsizeof(eval(var_name))/1e6\n",
    "            list_.append({'variable_name':var_name, 'memory_usage(M)':mem_usage, 'address':id(var_name), 'refcount':sys.getrefcount(eval(var_name))})\n",
    "    df_ = pd.DataFrame(list_)\n",
    "    return df_[df_['memory_usage(M)']>1]"
   ]
  },
  {
   "cell_type": "code",
   "execution_count": 4,
   "metadata": {},
   "outputs": [
    {
     "data": {
      "text/html": [
       "<div>\n",
       "<style scoped>\n",
       "    .dataframe tbody tr th:only-of-type {\n",
       "        vertical-align: middle;\n",
       "    }\n",
       "\n",
       "    .dataframe tbody tr th {\n",
       "        vertical-align: top;\n",
       "    }\n",
       "\n",
       "    .dataframe thead th {\n",
       "        text-align: right;\n",
       "    }\n",
       "</style>\n",
       "<table border=\"1\" class=\"dataframe\">\n",
       "  <thead>\n",
       "    <tr style=\"text-align: right;\">\n",
       "      <th></th>\n",
       "      <th>address</th>\n",
       "      <th>memory_usage(M)</th>\n",
       "      <th>refcount</th>\n",
       "      <th>variable_name</th>\n",
       "    </tr>\n",
       "  </thead>\n",
       "  <tbody>\n",
       "  </tbody>\n",
       "</table>\n",
       "</div>"
      ],
      "text/plain": [
       "Empty DataFrame\n",
       "Columns: [address, memory_usage(M), refcount, variable_name]\n",
       "Index: []"
      ]
     },
     "execution_count": 4,
     "metadata": {},
     "output_type": "execute_result"
    }
   ],
   "source": [
    "mem_check(dir())"
   ]
  },
  {
   "cell_type": "code",
   "execution_count": 5,
   "metadata": {},
   "outputs": [
    {
     "data": {
      "text/plain": [
       "['test.csv',\n",
       " 'structures',\n",
       " 'sample_submission.csv',\n",
       " 'magnetic_shielding_tensors.csv',\n",
       " 'mulliken_charges.csv',\n",
       " 'potential_energy.csv',\n",
       " 'scalar_coupling_contributions.csv',\n",
       " 'dipole_moments.csv',\n",
       " 'structures.csv',\n",
       " 'train.csv']"
      ]
     },
     "execution_count": 5,
     "metadata": {},
     "output_type": "execute_result"
    }
   ],
   "source": [
    "csv_file_folder =  '../../data/input'\n",
    "os.listdir(csv_file_folder)"
   ]
  },
  {
   "cell_type": "code",
   "execution_count": 6,
   "metadata": {},
   "outputs": [
    {
     "data": {
      "text/plain": [
       "['keras-neural-net-for-champs_train.pkl',\n",
       " 'giba-r-data-table-simple-features-0-991-lb_test.pkl',\n",
       " 'keras-neural-net-for-champs_test.pkl',\n",
       " 'giba-r-data-table-simple-features-0-991-lb_train.pkl',\n",
       " 'giba-r-data-table-simple-features-0-991-lb.r.csv']"
      ]
     },
     "execution_count": 6,
     "metadata": {},
     "output_type": "execute_result"
    }
   ],
   "source": [
    "file_folder =  '../../data/feature'\n",
    "os.listdir(file_folder)"
   ]
  },
  {
   "cell_type": "code",
   "execution_count": 7,
   "metadata": {},
   "outputs": [
    {
     "name": "stdout",
     "output_type": "stream",
     "text": [
      "train add keras-neural-net-for-champs_train.pkl (4658147, 56)\n",
      "test add giba-r-data-table-simple-features-0-991-lb_test.pkl (2505542, 49)\n",
      "test add keras-neural-net-for-champs_test.pkl (2505542, 56)\n",
      "train add giba-r-data-table-simple-features-0-991-lb_train.pkl (4658147, 49)\n"
     ]
    }
   ],
   "source": [
    "df_train = pd.read_csv(f\"{csv_file_folder}/train.csv\")\n",
    "df_test = pd.read_csv(f\"{csv_file_folder}/test.csv\")\n",
    "\n",
    "for f in os.listdir(file_folder):\n",
    "    if f.endswith('.pkl'):\n",
    "        if f[:-4].endswith('train'):\n",
    "            df_feature_i = pd.read_pickle(f'{file_folder}/{f}')\n",
    "            columns_i = df_feature_i.columns.tolist()\n",
    "            new_columns = set(columns_i) - set(df_train.columns.tolist())\n",
    "            df_train = pd.merge(df_train, df_feature_i[list(new_columns)+['id']], on='id')\n",
    "            print('train add', f, df_feature_i.shape)\n",
    "        if f[:-4].endswith('test'):\n",
    "            df_feature_i = pd.read_pickle(f'{file_folder}/{f}')\n",
    "            columns_i = df_feature_i.columns.tolist()\n",
    "            new_columns = set(columns_i) - set(df_test.columns.tolist())\n",
    "            df_test = pd.merge(df_test, df_feature_i[list(new_columns)+['id']], on='id')\n",
    "            print('test add', f, df_feature_i.shape)"
   ]
  },
  {
   "cell_type": "code",
   "execution_count": 8,
   "metadata": {},
   "outputs": [
    {
     "name": "stdout",
     "output_type": "stream",
     "text": [
      "molecule_name ['dsgdb9nsd_000001' 'dsgdb9nsd_000002' 'dsgdb9nsd_000003' ...\n",
      " 'dsgdb9nsd_133881' 'dsgdb9nsd_133882' 'dsgdb9nsd_133884']\n",
      "['dsgdb9nsd_000001' 'dsgdb9nsd_000002' 'dsgdb9nsd_000003' ...\n",
      " 'dsgdb9nsd_133883' 'dsgdb9nsd_133884' 'dsgdb9nsd_133885']\n",
      "type ['1JHC' '2JHH' '1JHN' '2JHN' '2JHC' '3JHH' '3JHC' '3JHN']\n",
      "['1JHC' '1JHN' '2JHC' '2JHH' '2JHN' '3JHC' '3JHH' '3JHN']\n",
      "atom_0 ['H']\n",
      "['H']\n",
      "atom_1 ['C' 'H' 'N']\n",
      "['C' 'H' 'N']\n"
     ]
    }
   ],
   "source": [
    "numerics = ['int16', 'int8', 'int32', 'int64', 'float16', 'float32', 'float64']\n",
    "for col in df_train.columns:\n",
    "    col_type = df_train[col].dtypes\n",
    "    if not col_type in numerics:\n",
    "        print(col, df_train[col].unique())\n",
    "        le = LabelEncoder()\n",
    "        le.fit(list(df_train[col].values) + list(df_test[col].values))\n",
    "        df_train[col] = le.transform(list(df_train[col].values))\n",
    "        df_test[col] = le.transform(list(df_test[col].values))\n",
    "        print(le.classes_)"
   ]
  },
  {
   "cell_type": "code",
   "execution_count": 9,
   "metadata": {},
   "outputs": [],
   "source": [
    "df_train = df_train.replace([np.inf, -np.inf], np.nan)\n",
    "df_train = df_train.fillna(0)\n",
    "\n",
    "df_test = df_test.replace([np.inf, -np.inf], np.nan)\n",
    "df_test = df_test.fillna(0)"
   ]
  },
  {
   "cell_type": "code",
   "execution_count": 10,
   "metadata": {},
   "outputs": [],
   "source": [
    "df_train = df_train.rename(columns = {'id':'index', 'scalar_coupling_constant':'y'})\n",
    "df_test = df_test.rename(columns = {'id':'index'})"
   ]
  },
  {
   "cell_type": "code",
   "execution_count": 11,
   "metadata": {},
   "outputs": [],
   "source": [
    "df_train = df_train.reset_index(drop=True)\n",
    "df_test = df_test.reset_index(drop=True)"
   ]
  },
  {
   "cell_type": "code",
   "execution_count": 12,
   "metadata": {},
   "outputs": [
    {
     "data": {
      "text/plain": [
       "((4658147, 109), (2505542, 108))"
      ]
     },
     "execution_count": 12,
     "metadata": {},
     "output_type": "execute_result"
    }
   ],
   "source": [
    "df_train.shape, df_test.shape"
   ]
  },
  {
   "cell_type": "code",
   "execution_count": 13,
   "metadata": {},
   "outputs": [],
   "source": [
    "def reduce_mem_usage(df, verbose=True):\n",
    "    numerics = ['int16', 'int32', 'int64', 'float16', 'float32', 'float64']\n",
    "    start_mem = df.memory_usage().sum() / 1024**2    \n",
    "    for col in df.columns:\n",
    "        col_type = df[col].dtypes\n",
    "        if col_type in numerics:\n",
    "            c_min = df[col].min()\n",
    "            c_max = df[col].max()\n",
    "            if str(col_type)[:3] == 'int':\n",
    "                if c_min > np.iinfo(np.int8).min and c_max < np.iinfo(np.int8).max:\n",
    "                    df[col] = df[col].astype(np.int8)\n",
    "                elif c_min > np.iinfo(np.int16).min and c_max < np.iinfo(np.int16).max:\n",
    "                    df[col] = df[col].astype(np.int16)\n",
    "                elif c_min > np.iinfo(np.int32).min and c_max < np.iinfo(np.int32).max:\n",
    "                    df[col] = df[col].astype(np.int32)\n",
    "                elif c_min > np.iinfo(np.int64).min and c_max < np.iinfo(np.int64).max:\n",
    "                    df[col] = df[col].astype(np.int64)  \n",
    "            else:\n",
    "                if c_min > np.finfo(np.float16).min and c_max < np.finfo(np.float16).max:\n",
    "                    df[col] = df[col].astype(np.float16)\n",
    "                elif c_min > np.finfo(np.float32).min and c_max < np.finfo(np.float32).max:\n",
    "                    df[col] = df[col].astype(np.float32)\n",
    "                else:\n",
    "                    df[col] = df[col].astype(np.float64)    \n",
    "    end_mem = df.memory_usage().sum() / 1024**2\n",
    "    if verbose: print('Mem. usage decreased to {:5.2f} Mb ({:.1f}% reduction)'.format(end_mem, 100 * (start_mem - end_mem) / start_mem))\n",
    "    return df"
   ]
  },
  {
   "cell_type": "code",
   "execution_count": 14,
   "metadata": {},
   "outputs": [
    {
     "name": "stdout",
     "output_type": "stream",
     "text": [
      "Mem. usage decreased to 928.45 Mb (37.0% reduction)\n",
      "Mem. usage decreased to 494.62 Mb (36.1% reduction)\n"
     ]
    }
   ],
   "source": [
    "df_train = reduce_mem_usage(df_train)\n",
    "df_test = reduce_mem_usage(df_test)"
   ]
  },
  {
   "cell_type": "code",
   "execution_count": 15,
   "metadata": {},
   "outputs": [],
   "source": [
    "# nullcolumns = []   \n",
    "# for col, nullcount in zip(df_train.columns, df_train.isnull().sum()):\n",
    "#     if nullcount!=0:\n",
    "#         series_ = df_train[col].replace([np.inf, -np.inf], np.nan).dropna()\n",
    "#         nullcolumns.append({'feature':col, 'nullcount':nullcount, 'min':series_.min(), 'max':series_.max()})\n",
    "# df_nullcolumns = pd.DataFrame(nullcolumns)"
   ]
  },
  {
   "cell_type": "code",
   "execution_count": 16,
   "metadata": {},
   "outputs": [],
   "source": [
    "# for col in df_nullcolumns['feature']:\n",
    "    \n",
    "#     series_ = df_train[col].replace([np.inf, -np.inf], np.nan).dropna()\n",
    "#     max_  = series_.max()\n",
    "#     min_ = series_.min()\n",
    "#     mean_  = series_.mean()\n",
    "#     std_ = series_.std()\n",
    "#     df_train[col] = df_train[col].replace([np.inf, -np.inf], np.nan).fillna(0)\n",
    "#     print(col, min_, max_, mean_, std_)\n",
    "#     break\n"
   ]
  },
  {
   "cell_type": "code",
   "execution_count": 17,
   "metadata": {},
   "outputs": [],
   "source": [
    "def _str2class(s):\n",
    "    if s in globals() and isinstance(globals()[s], type):\n",
    "            return globals()[s]\n",
    "    if isinstance(eval(s), type):\n",
    "        return eval(s)\n",
    "    if callable(eval(s)):\n",
    "        return eval(s)\n",
    "    return None\n",
    "\n",
    "def sk_process(df_train, param, message, df_test=None, trial=None, is_output_feature_importance=False, trial_level=0):\n",
    "\n",
    "    columns = param['columns']\n",
    "\n",
    "    assert 'y' in df_train.columns.tolist(), 'y is not in df_train'\n",
    "    assert 'index' in df_train.columns.tolist(), 'index is not in df_train'\n",
    "    assert 'index' not in param['columns'], 'index is in features'\n",
    "    assert 'y' not in param['columns'], 'y is in features'\n",
    "    assert 'label' not in param['columns'], 'label is in features'\n",
    "    assert 'group' not in param['columns'], 'group is in features'\n",
    "    assert (type(trial) == list) | (trial == None), 'trial is neither list nor none'\n",
    "    assert len(columns) != 0, 'columns size is 0'\n",
    "\n",
    "    df_test_pred = None\n",
    "    if type(df_test) == pd.DataFrame:\n",
    "        assert 'index' in df_test.columns.tolist(), 'index is not in df_test'\n",
    "        df_test_pred = pd.concat([df_test_pred, df_test[['index']]], axis=1)\n",
    "        \n",
    "    CV = _str2class(param['cv']['cls'])\n",
    "    MODEL = _str2class(param['model']['cls'])\n",
    "    if 'scaler' in param:\n",
    "        SCALER = _str2class(param['scaler']['cls'])\n",
    "    metric = _str2class(param['metric'])\n",
    "    \n",
    "    history = []\n",
    "    df_valid_pred = pd.DataFrame()\n",
    "    df_feature_importances_i_list = []\n",
    "\n",
    "    # StratifiedKFold, KFold, RepeatedKFold,TimeSeriesSplit, GroupKFold\n",
    "    if 'splits' in param['cv']:\n",
    "        splits = param['cv']['splits']\n",
    "    else:\n",
    "        cv = CV(**param['cv']['init'])\n",
    "        if param['cv']['cls'] == 'StratifiedKFold':\n",
    "            assert 'label' in df_train.columns.tolist(), 'label is not in df_train'\n",
    "            splits = list(cv.split(df_train, df_train['label']))\n",
    "        elif param['cv']['cls'] == 'GroupKFold':\n",
    "            assert 'group' in df_train.columns.tolist(), 'group is not in df_train'\n",
    "            splits = list(cv.split(df_train, groups=df_train['group']))\n",
    "        else:\n",
    "            splits = list(cv.split(df_train))\n",
    "\n",
    "    for fold_n, (train_index, valid_index) in enumerate(splits):\n",
    "\n",
    "        X_train, X_valid = df_train[columns].values[train_index, :], df_train[columns].values[valid_index, :]\n",
    "        y_train, y_valid = df_train['y'].values[train_index], df_train['y'].values[valid_index]\n",
    "\n",
    "        if 'scaler' in param:\n",
    "            scaler = SCALER(**param['scaler']['init'])\n",
    "            X_train = scaler.fit_transform(X_train)\n",
    "            X_valid = scaler.transform(X_valid)\n",
    "\n",
    "        model = MODEL(**param['model']['init'])\n",
    "        model.fit(X_train, y_train, **param['model']['fit'])\n",
    "\n",
    "        y_valid_pred = model.predict(X_valid)\n",
    "        y_train_pred = model.predict(X_train)\n",
    "\n",
    "        original_index = df_train['index'].values[valid_index]\n",
    "        df_valid_pred_i = pd.DataFrame({'index': original_index, 'predict': y_valid_pred, 'fold_n': np.zeros(y_valid_pred.shape[0]) + fold_n})\n",
    "        df_valid_pred = pd.concat([df_valid_pred, df_valid_pred_i], axis=0)\n",
    "\n",
    "        if is_output_feature_importance:\n",
    "            df_feature_importances_i = pd.DataFrame({'feature': columns, 'model_weight': model.feature_importances_})\n",
    "            df_feature_importances_i = df_feature_importances_i.sort_values(by=['feature'])\n",
    "            df_feature_importances_i = df_feature_importances_i.reset_index(drop=True)\n",
    "            perm = PermutationImportance(model, random_state=42).fit(X_valid, y_valid)\n",
    "            df_feature_importances_i2 = eli5.explain_weights_dfs(perm, feature_names=columns, top=len(columns))['feature_importances']\n",
    "            df_feature_importances_i2 = df_feature_importances_i2.sort_values(by=['feature'])\n",
    "            df_feature_importances_i2 = df_feature_importances_i2.reset_index(drop=True)\n",
    "            df_feature_importances_i = pd.merge(df_feature_importances_i, df_feature_importances_i2, on='feature')\n",
    "            df_feature_importances_i_list.append(df_feature_importances_i)\n",
    "\n",
    "        if type(df_test) == pd.DataFrame:\n",
    "            X_test = df_test[columns].values\n",
    "            if 'scaler' in param:\n",
    "                X_test = scaler.transform(X_test)\n",
    "            y_test_pred = model.predict(X_test)\n",
    "            df_test_pred_i = pd.DataFrame({fold_n: y_test_pred})\n",
    "            df_test_pred = pd.concat([df_test_pred, df_test_pred_i], axis=1)\n",
    "        \n",
    "        history.append({'fold_n': fold_n, 'train': metric(y_train, y_train_pred), 'valid': metric(y_valid, y_valid_pred)})\n",
    "\n",
    "    df_his = pd.DataFrame(history)\n",
    "\n",
    "    df_feature_importances = None\n",
    "    if is_output_feature_importance:\n",
    "        df_feature_importances = df_feature_importances_i_list[0]\n",
    "        for idx, df_feature_importances_i in enumerate(df_feature_importances_i_list[1:]):\n",
    "            df_feature_importances = pd.merge(df_feature_importances, df_feature_importances_i, on='feature', suffixes=('', idx + 1))\n",
    "\n",
    "    df_valid_pred = df_valid_pred.sort_values(by=['index'])\n",
    "    df_valid_pred = df_valid_pred.reset_index(drop=True)\n",
    "\n",
    "    if type(df_test) == pd.DataFrame:\n",
    "        df_test_pred = df_test_pred.sort_values(by=['index'])\n",
    "        df_test_pred = df_test_pred.reset_index(drop=True)\n",
    "\n",
    "    if type(trial) == list:\n",
    "        datetime_ = datetime.datetime.now()\n",
    "        val_metric_mean = np.mean(df_his.valid)\n",
    "        val_metric_std = np.std(df_his.valid)\n",
    "        train_metric_mean = np.mean(df_his.train)\n",
    "        train_metric_std = np.std(df_his.train)\n",
    "\n",
    "        trial_i_d_ = {'datetime': datetime_, 'message': message, 'val_metric_mean': val_metric_mean,\n",
    "                  'train_metric_mean': train_metric_mean, 'val_metric_std': val_metric_std, 'train_metric_std': train_metric_std,\n",
    "                  'trn_val_metric_diff': val_metric_mean - train_metric_mean,\n",
    "                  'df_feature_importances': df_feature_importances,'param': param.copy(),\n",
    "                  'nfeatures': len(columns)}\n",
    "        if trial_level > 0:\n",
    "            trial_i_d_ = {'df_his': df_his, 'df_valid_pred': df_valid_pred, 'df_test_pred': df_test_pred, **trial_i_d_}\n",
    "        trial.append(trial_i_d_)\n",
    "\n",
    "    return df_his, df_feature_importances, df_valid_pred, df_test_pred\n",
    "\n",
    "def evaluate(df_feature_importances, key='average_model_weight'):\n",
    "        df_feature_importances['average_permutation_weight'] = df_feature_importances[\n",
    "            [col for col in df_feature_importances.columns.tolist() if ('weight' in col) & ('model' not in col)]].mean(\n",
    "            axis=1)\n",
    "        df_feature_importances['average_model_weight'] = df_feature_importances[\n",
    "            [col for col in df_feature_importances.columns.tolist() if ('model_weight' in col)]].mean(axis=1)\n",
    "        df_feature_importances = df_feature_importances.sort_values(by=[key], ascending=False)\n",
    "        sorted_columns = df_feature_importances.feature.tolist()\n",
    "        return sorted_columns\n",
    "\n",
    "def select_features_(df_train, param, trial, message, df_test=None, nfeats_best=10, nfeats_removed_per_try=10, key='average_model_weight'):\n",
    "    param_i = param.copy()\n",
    "    while True:\n",
    "        df_his, df_feature_importances, df_valid_pred, df_test_pred = sk_process(df_train, param_i, df_test=df_test, trial=trial, is_output_feature_importance=True, message=message)\n",
    "        sorted_columns = evaluate(df_feature_importances, key)\n",
    "        if (len(sorted_columns) <= nfeats_best)|(len(sorted_columns)-nfeats_removed_per_try<1):\n",
    "            break\n",
    "        else:\n",
    "            param_i['columns'] = sorted_columns[:-nfeats_removed_per_try]\n",
    "    return\n",
    "\n",
    "def width_frist_rfe(df_train, param, trial, score, message, df_test=None):\n",
    "\n",
    "    param_ = copy.deepcopy(param)\n",
    "    columns_ = param_['columns']\n",
    "    best_score = score\n",
    "    best_param = param_\n",
    "    for col in columns_:\n",
    "        param_['columns'] = list(set(columns_) - set([col]))\n",
    "        df_his, df_feature_importances, df_valid_pred, df_test_pred = sk_process(df_train, param_, df_test=df_test, trial=trial, is_output_feature_importance=False, message=message)\n",
    "        val_mae_mean = np.mean(df_his.valid)\n",
    "        if val_mae_mean<best_score:\n",
    "            best_score = val_mae_mean\n",
    "            best_param = copy.deepcopy(param_)\n",
    "\n",
    "    if best_score < score:\n",
    "        width_frist_rfe(df_train, best_param, trial, best_score, message, df_test)\n",
    "\n",
    "    return\n",
    "\n",
    "def revert_rfe(df_train, param, sorted_columns, df_test, trial, start_columns, limit=None, remark=None):\n",
    "\n",
    "    # init cv_score and try only base feature\n",
    "    selected_columns = copy.deepcopy(start_columns)\n",
    "    if type(limit) == type(None):\n",
    "        limit = len(sorted_columns)\n",
    "    args = copy.deepcopy(param)\n",
    "    args['columns'] = selected_columns\n",
    "    df_his,  df_feature_importances, df_valid_pred, df_test_pred =  EP.process(df_train, args, df_test = df_test, trial=trial, remark=remark)\n",
    "    val_mae_mean = np.mean(df_his.valid)\n",
    "    cv_score = val_mae_mean\n",
    "\n",
    "    # add feature one by one and check cv score change\n",
    "    for idx,col in enumerate(sorted_columns):\n",
    "#         if idx in start_column_index:\n",
    "#             continue\n",
    "        args = copy.deepcopy(param)\n",
    "        args['columns'] = list(set(selected_columns + [col]))\n",
    "        df_his,  df_feature_importances, df_valid_pred, df_test_pred =  EP.process(df_train, args, df_test = df_test, trial=trial, remark=remark)\n",
    "        val_mae_mean = np.mean(df_his.valid)\n",
    "        if val_mae_mean < cv_score:\n",
    "            selected_columns.append(col)\n",
    "            cv_score = val_mae_mean\n",
    "        if len(selected_columns) >= limit:\n",
    "            break\n",
    "\n",
    "    return selected_columns\n",
    "\n",
    "def blacklist_merge(df, columns=None, base_correlation_coefficient=.9):\n",
    "\n",
    "    if type(columns)==type(None):\n",
    "        columns = df.columns.tolist()\n",
    "    bcc_ = base_correlation_coefficient\n",
    "    X = df_train[columns].values\n",
    "    X = StandardScaler().fit_transform(X)\n",
    "    df_norm = pd.DataFrame(X, columns=columns)\n",
    "    df_corr = df_norm.corr()\n",
    "\n",
    "    black_lst = []\n",
    "    group = {}\n",
    "    for col in columns:\n",
    "        if col in black_lst:\n",
    "            continue\n",
    "        group[col] = list(df_corr[(df_corr[col]>=bcc_)|(df_corr[col]<=-bcc_)].index)\n",
    "        black_lst +=  group[col]\n",
    "    return group\n",
    "\n",
    "def bubble_merge(df, columns=None, base_correlation_coefficient=.9, coverage_rate=.9):\n",
    "\n",
    "    def is_similar(group1, group2):\n",
    "        assert type(group1)==list, 'group1 should be a list'\n",
    "        assert type(group2)==list, 'group2 should be a list'\n",
    "        total_units = group1 + group2\n",
    "        unique_units = list(set(total_units))\n",
    "        common_parts = [col for col in unique_units if total_units.count(col)==2]\n",
    "        if (len(common_parts)/len(group1) >= coverage_rate) | (len(common_parts)/len(group2) >= coverage_rate):\n",
    "            return True\n",
    "        else:\n",
    "            return False\n",
    "\n",
    "    def merge_group(original_group):\n",
    "        group = original_group.copy()\n",
    "        merged_group = group\n",
    "        dict_list_ = list(group.items())\n",
    "        is_merged = False\n",
    "\n",
    "        index1 = 1\n",
    "        for k1, v1 in dict_list_[:-1]:\n",
    "            for k2,v2 in dict_list_[index1:]:\n",
    "                    if is_similar(v1, v2):\n",
    "                        group[k1] = list(set(v1 + v2))\n",
    "                        del group[k2]\n",
    "                        merged_group = merge_group(group)\n",
    "                        is_merged = True\n",
    "                        break\n",
    "            if is_merged:\n",
    "                break\n",
    "            index1 += 1\n",
    "        return merged_group\n",
    "\n",
    "    if type(columns)==type(None):\n",
    "        columns = df.columns.tolist()\n",
    "    bcc_ = base_correlation_coefficient\n",
    "    X = df[columns].values\n",
    "    X = StandardScaler().fit_transform(X)\n",
    "    df_norm = pd.DataFrame(X, columns=columns)\n",
    "    df_corr = df_norm.corr()\n",
    "\n",
    "    group = {}\n",
    "    for col in columns:\n",
    "        group[col] = list(df_corr[(df_corr[col]>=bcc_)|(df_corr[col]<=-bcc_)].index)\n",
    "\n",
    "    return merge_group(group)\n",
    "\n",
    "\n",
    "def group_mean_log_mae(y_true, y_pred, groups, floor=1e-9):\n",
    "    maes = (y_true-y_pred).abs().groupby(groups).mean()\n",
    "    return np.log(maes.map(lambda x: max(x, floor))).mean()"
   ]
  },
  {
   "cell_type": "code",
   "execution_count": 37,
   "metadata": {},
   "outputs": [],
   "source": [
    "columns = df_train.drop(columns=['index','y','molecule_name']).columns.tolist()"
   ]
  },
  {
   "cell_type": "code",
   "execution_count": 40,
   "metadata": {},
   "outputs": [],
   "source": [
    "param = {\n",
    "    'columns': columns,\n",
    "    'cv': {\n",
    "        'cls': 'KFold',\n",
    "        'init': {'n_splits': 5, 'shuffle': True, 'random_state': 42}\n",
    "    },\n",
    "    'scaler': {\n",
    "        'cls': 'StandardScaler', 'init': {}, 'fit': {}\n",
    "    },\n",
    "    'model': {\n",
    "        'cls': 'lgb.LGBMRegressor',\n",
    "        'init': {\n",
    "            'learning_rate': 0.35395923077843333,\n",
    "             'feature_fraction': 0.8840483697334669,\n",
    "            'bagging_fraction': 0.7017457378676857,\n",
    "            'min_data_in_leaf': 616,\n",
    "            'lambda_l1': 0.00013058988949929333,\n",
    "            'lambda_l2': 0.004991992636437704,\n",
    "            'max_bin': 74,\n",
    "            'num_leaves': 64,\n",
    "            'random_state': 2928,\n",
    "            'n_jobs': 16\n",
    "        },\n",
    "        'fit': {}\n",
    "    },\n",
    "    'metric': 'mean_absolute_error'\n",
    "}"
   ]
  },
  {
   "cell_type": "code",
   "execution_count": 41,
   "metadata": {},
   "outputs": [],
   "source": [
    "df_train_sample = df_train.sample(1005542)"
   ]
  },
  {
   "cell_type": "code",
   "execution_count": 42,
   "metadata": {},
   "outputs": [],
   "source": [
    "# mytrial = []\n",
    "df_his, df_feature_importances, df_valid_pred, df_test_pred = sk_process(df_train_sample, param, 'first try cv5', trial=mytrial, is_output_feature_importance=True, trial_level=0)\n",
    "\n",
    "sorted_columns = evaluate(df_feature_importances, 'average_permutation_weight')\n",
    "param[\"columns\"] = sorted_columns[:200] if len(sorted_columns) > 200 else sorted_columns"
   ]
  },
  {
   "cell_type": "code",
   "execution_count": 43,
   "metadata": {},
   "outputs": [],
   "source": [
    "warnings.filterwarnings('once')\n",
    "select_features_(df_train_sample, param, mytrial, message='rfe cv5' , key='average_permutation_weight', nfeats_best=20, nfeats_removed_per_try=20)\n",
    "\n",
    "df_trial = pd.DataFrame(mytrial)\n",
    "df_trial_top1 = df_trial[(df_trial['message']=='rfe')&(df_trial['nfeatures']<100)].sort_values(by=['val_metric_mean'], ascending=True).head(1)\n",
    "param = df_trial_top1['param'].tolist()[0]\n",
    "score = df_trial_top1['val_metric_mean'].tolist()[0]"
   ]
  },
  {
   "cell_type": "code",
   "execution_count": 84,
   "metadata": {},
   "outputs": [],
   "source": [
    "width_frist_rfe(df_train_sample, param, mytrial, score=score, message='width_frist_rfe cv5')\n",
    "\n",
    "df_trial = pd.DataFrame(mytrial)\n",
    "columns = df_trial[df_trial['message']=='width_frist_rfe cv5'].sort_values(by=['val_metric_mean'], ascending=True)['param'].tolist()[0]['columns']"
   ]
  },
  {
   "cell_type": "code",
   "execution_count": 85,
   "metadata": {},
   "outputs": [
    {
     "data": {
      "text/plain": [
       "44"
      ]
     },
     "execution_count": 85,
     "metadata": {},
     "output_type": "execute_result"
    }
   ],
   "source": [
    "len(columns)"
   ]
  },
  {
   "cell_type": "code",
   "execution_count": null,
   "metadata": {},
   "outputs": [
    {
     "name": "stderr",
     "output_type": "stream",
     "text": [
      "[I 2019-07-07 06:49:40,198] Finished trial#0 resulted in value: 2.2464974465032133. Current best value is 2.2464974465032133 with parameters: {'learning_rate': 0.03345061774680737, 'feature_fraction': 0.7657916327974188, 'bagging_fraction': 0.9126895055700575, 'min_data_in_leaf': 258, 'lambda_l1': 2.432893812323033, 'lambda_l2': 0.3756929098183104, 'max_bin': 96, 'num_leaves': 16, 'random_state': 9212}.\n",
      "[I 2019-07-07 06:49:57,653] Finished trial#1 resulted in value: 1.1866145983505556. Current best value is 1.1866145983505556 with parameters: {'learning_rate': 0.34437045825140017, 'feature_fraction': 0.7933808302372306, 'bagging_fraction': 0.7035904375480084, 'min_data_in_leaf': 501, 'lambda_l1': 0.10400098987620247, 'lambda_l2': 0.001207552558055291, 'max_bin': 45, 'num_leaves': 35, 'random_state': 6610}.\n",
      "[I 2019-07-07 06:50:11,761] Finished trial#2 resulted in value: 1.6381721515838457. Current best value is 1.1866145983505556 with parameters: {'learning_rate': 0.34437045825140017, 'feature_fraction': 0.7933808302372306, 'bagging_fraction': 0.7035904375480084, 'min_data_in_leaf': 501, 'lambda_l1': 0.10400098987620247, 'lambda_l2': 0.001207552558055291, 'max_bin': 45, 'num_leaves': 35, 'random_state': 6610}.\n",
      "[I 2019-07-07 06:50:34,761] Finished trial#3 resulted in value: 1.1558005170331778. Current best value is 1.1558005170331778 with parameters: {'learning_rate': 0.19326287838663295, 'feature_fraction': 0.9597908494027279, 'bagging_fraction': 0.6177804483259733, 'min_data_in_leaf': 348, 'lambda_l1': 14.187177264733517, 'lambda_l2': 0.00011166876424332718, 'max_bin': 50, 'num_leaves': 51, 'random_state': 5871}.\n",
      "[I 2019-07-07 06:50:53,837] Finished trial#4 resulted in value: 1.1380605331403015. Current best value is 1.1380605331403015 with parameters: {'learning_rate': 0.4772621530635707, 'feature_fraction': 0.7864459616901889, 'bagging_fraction': 0.8536474067486837, 'min_data_in_leaf': 267, 'lambda_l1': 0.00045138010505701954, 'lambda_l2': 0.00032665967553477946, 'max_bin': 23, 'num_leaves': 63, 'random_state': 5860}.\n",
      "[I 2019-07-07 06:51:10,687] Finished trial#5 resulted in value: 1.4966559316590287. Current best value is 1.1380605331403015 with parameters: {'learning_rate': 0.4772621530635707, 'feature_fraction': 0.7864459616901889, 'bagging_fraction': 0.8536474067486837, 'min_data_in_leaf': 267, 'lambda_l1': 0.00045138010505701954, 'lambda_l2': 0.00032665967553477946, 'max_bin': 23, 'num_leaves': 63, 'random_state': 5860}.\n",
      "[I 2019-07-07 06:51:21,658] Finished trial#6 resulted in value: 1.8758998234486968. Current best value is 1.1380605331403015 with parameters: {'learning_rate': 0.4772621530635707, 'feature_fraction': 0.7864459616901889, 'bagging_fraction': 0.8536474067486837, 'min_data_in_leaf': 267, 'lambda_l1': 0.00045138010505701954, 'lambda_l2': 0.00032665967553477946, 'max_bin': 23, 'num_leaves': 63, 'random_state': 5860}.\n",
      "[I 2019-07-07 06:51:41,837] Finished trial#7 resulted in value: 1.2714036640162862. Current best value is 1.1380605331403015 with parameters: {'learning_rate': 0.4772621530635707, 'feature_fraction': 0.7864459616901889, 'bagging_fraction': 0.8536474067486837, 'min_data_in_leaf': 267, 'lambda_l1': 0.00045138010505701954, 'lambda_l2': 0.00032665967553477946, 'max_bin': 23, 'num_leaves': 63, 'random_state': 5860}.\n",
      "[I 2019-07-07 06:51:59,376] Finished trial#8 resulted in value: 1.1275170902002931. Current best value is 1.1275170902002931 with parameters: {'learning_rate': 0.481514421435435, 'feature_fraction': 0.7465514999509997, 'bagging_fraction': 0.8784914948055917, 'min_data_in_leaf': 480, 'lambda_l1': 0.27225856785410385, 'lambda_l2': 0.0043885765129010835, 'max_bin': 53, 'num_leaves': 47, 'random_state': 573}.\n",
      "[I 2019-07-07 06:52:24,685] Finished trial#9 resulted in value: 1.244836642400291. Current best value is 1.1275170902002931 with parameters: {'learning_rate': 0.481514421435435, 'feature_fraction': 0.7465514999509997, 'bagging_fraction': 0.8784914948055917, 'min_data_in_leaf': 480, 'lambda_l1': 0.27225856785410385, 'lambda_l2': 0.0043885765129010835, 'max_bin': 53, 'num_leaves': 47, 'random_state': 573}.\n",
      "[I 2019-07-07 06:52:43,531] Finished trial#10 resulted in value: 1.153018732674234. Current best value is 1.1275170902002931 with parameters: {'learning_rate': 0.481514421435435, 'feature_fraction': 0.7465514999509997, 'bagging_fraction': 0.8784914948055917, 'min_data_in_leaf': 480, 'lambda_l1': 0.27225856785410385, 'lambda_l2': 0.0043885765129010835, 'max_bin': 53, 'num_leaves': 47, 'random_state': 573}.\n",
      "[I 2019-07-07 06:53:01,827] Finished trial#11 resulted in value: 1.1104760157764368. Current best value is 1.1104760157764368 with parameters: {'learning_rate': 0.3689923126781363, 'feature_fraction': 0.6091868509078537, 'bagging_fraction': 0.9967516970086558, 'min_data_in_leaf': 625, 'lambda_l1': 0.0015160481097337562, 'lambda_l2': 68.05505324328854, 'max_bin': 72, 'num_leaves': 63, 'random_state': 917}.\n",
      "[I 2019-07-07 06:53:19,939] Finished trial#12 resulted in value: 1.2255855125894057. Current best value is 1.1104760157764368 with parameters: {'learning_rate': 0.3689923126781363, 'feature_fraction': 0.6091868509078537, 'bagging_fraction': 0.9967516970086558, 'min_data_in_leaf': 625, 'lambda_l1': 0.0015160481097337562, 'lambda_l2': 68.05505324328854, 'max_bin': 72, 'num_leaves': 63, 'random_state': 917}.\n",
      "[I 2019-07-07 06:53:39,151] Finished trial#13 resulted in value: 1.1247605176958841. Current best value is 1.1104760157764368 with parameters: {'learning_rate': 0.3689923126781363, 'feature_fraction': 0.6091868509078537, 'bagging_fraction': 0.9967516970086558, 'min_data_in_leaf': 625, 'lambda_l1': 0.0015160481097337562, 'lambda_l2': 68.05505324328854, 'max_bin': 72, 'num_leaves': 63, 'random_state': 917}.\n",
      "[I 2019-07-07 06:53:56,252] Finished trial#14 resulted in value: 1.1310388187659846. Current best value is 1.1104760157764368 with parameters: {'learning_rate': 0.3689923126781363, 'feature_fraction': 0.6091868509078537, 'bagging_fraction': 0.9967516970086558, 'min_data_in_leaf': 625, 'lambda_l1': 0.0015160481097337562, 'lambda_l2': 68.05505324328854, 'max_bin': 72, 'num_leaves': 63, 'random_state': 917}.\n",
      "[I 2019-07-07 06:54:13,929] Finished trial#15 resulted in value: 1.2827762412717898. Current best value is 1.1104760157764368 with parameters: {'learning_rate': 0.3689923126781363, 'feature_fraction': 0.6091868509078537, 'bagging_fraction': 0.9967516970086558, 'min_data_in_leaf': 625, 'lambda_l1': 0.0015160481097337562, 'lambda_l2': 68.05505324328854, 'max_bin': 72, 'num_leaves': 63, 'random_state': 917}.\n",
      "[I 2019-07-07 06:54:24,281] Finished trial#16 resulted in value: 1.9620896761680542. Current best value is 1.1104760157764368 with parameters: {'learning_rate': 0.3689923126781363, 'feature_fraction': 0.6091868509078537, 'bagging_fraction': 0.9967516970086558, 'min_data_in_leaf': 625, 'lambda_l1': 0.0015160481097337562, 'lambda_l2': 68.05505324328854, 'max_bin': 72, 'num_leaves': 63, 'random_state': 917}.\n",
      "[I 2019-07-07 06:54:43,708] Finished trial#17 resulted in value: 1.1030673014585655. Current best value is 1.1030673014585655 with parameters: {'learning_rate': 0.2809926279801011, 'feature_fraction': 0.6353554840490435, 'bagging_fraction': 0.9633049256096512, 'min_data_in_leaf': 709, 'lambda_l1': 1.2292156279890262e-06, 'lambda_l2': 1.181242837680251e-06, 'max_bin': 96, 'num_leaves': 63, 'random_state': 2384}.\n",
      "[I 2019-07-07 06:55:03,389] Finished trial#18 resulted in value: 1.1035881177127753. Current best value is 1.1030673014585655 with parameters: {'learning_rate': 0.2809926279801011, 'feature_fraction': 0.6353554840490435, 'bagging_fraction': 0.9633049256096512, 'min_data_in_leaf': 709, 'lambda_l1': 1.2292156279890262e-06, 'lambda_l2': 1.181242837680251e-06, 'max_bin': 96, 'num_leaves': 63, 'random_state': 2384}.\n"
     ]
    },
    {
     "name": "stderr",
     "output_type": "stream",
     "text": [
      "[I 2019-07-07 06:55:23,126] Finished trial#19 resulted in value: 1.1001168904275924. Current best value is 1.1001168904275924 with parameters: {'learning_rate': 0.28800781291140337, 'feature_fraction': 0.7059019626771562, 'bagging_fraction': 0.820779362703533, 'min_data_in_leaf': 725, 'lambda_l1': 3.1279864586386855e-06, 'lambda_l2': 1.2705899622690153e-06, 'max_bin': 99, 'num_leaves': 57, 'random_state': 3795}.\n",
      "[I 2019-07-07 06:55:43,721] Finished trial#20 resulted in value: 1.1204184048478445. Current best value is 1.1001168904275924 with parameters: {'learning_rate': 0.28800781291140337, 'feature_fraction': 0.7059019626771562, 'bagging_fraction': 0.820779362703533, 'min_data_in_leaf': 725, 'lambda_l1': 3.1279864586386855e-06, 'lambda_l2': 1.2705899622690153e-06, 'max_bin': 99, 'num_leaves': 57, 'random_state': 3795}.\n",
      "[I 2019-07-07 06:56:03,679] Finished trial#21 resulted in value: 1.1458670652616973. Current best value is 1.1001168904275924 with parameters: {'learning_rate': 0.28800781291140337, 'feature_fraction': 0.7059019626771562, 'bagging_fraction': 0.820779362703533, 'min_data_in_leaf': 725, 'lambda_l1': 3.1279864586386855e-06, 'lambda_l2': 1.2705899622690153e-06, 'max_bin': 99, 'num_leaves': 57, 'random_state': 3795}.\n",
      "[I 2019-07-07 06:56:23,115] Finished trial#22 resulted in value: 1.1860424801898042. Current best value is 1.1001168904275924 with parameters: {'learning_rate': 0.28800781291140337, 'feature_fraction': 0.7059019626771562, 'bagging_fraction': 0.820779362703533, 'min_data_in_leaf': 725, 'lambda_l1': 3.1279864586386855e-06, 'lambda_l2': 1.2705899622690153e-06, 'max_bin': 99, 'num_leaves': 57, 'random_state': 3795}.\n",
      "[I 2019-07-07 06:56:38,499] Finished trial#23 resulted in value: 1.2173775748463092. Current best value is 1.1001168904275924 with parameters: {'learning_rate': 0.28800781291140337, 'feature_fraction': 0.7059019626771562, 'bagging_fraction': 0.820779362703533, 'min_data_in_leaf': 725, 'lambda_l1': 3.1279864586386855e-06, 'lambda_l2': 1.2705899622690153e-06, 'max_bin': 99, 'num_leaves': 57, 'random_state': 3795}.\n",
      "[I 2019-07-07 06:57:02,206] Finished trial#24 resulted in value: 1.4231764607055417. Current best value is 1.1001168904275924 with parameters: {'learning_rate': 0.28800781291140337, 'feature_fraction': 0.7059019626771562, 'bagging_fraction': 0.820779362703533, 'min_data_in_leaf': 725, 'lambda_l1': 3.1279864586386855e-06, 'lambda_l2': 1.2705899622690153e-06, 'max_bin': 99, 'num_leaves': 57, 'random_state': 3795}.\n",
      "[I 2019-07-07 06:57:19,558] Finished trial#25 resulted in value: 1.1628499490444946. Current best value is 1.1001168904275924 with parameters: {'learning_rate': 0.28800781291140337, 'feature_fraction': 0.7059019626771562, 'bagging_fraction': 0.820779362703533, 'min_data_in_leaf': 725, 'lambda_l1': 3.1279864586386855e-06, 'lambda_l2': 1.2705899622690153e-06, 'max_bin': 99, 'num_leaves': 57, 'random_state': 3795}.\n",
      "[I 2019-07-07 06:57:41,553] Finished trial#26 resulted in value: 1.1111584109258619. Current best value is 1.1001168904275924 with parameters: {'learning_rate': 0.28800781291140337, 'feature_fraction': 0.7059019626771562, 'bagging_fraction': 0.820779362703533, 'min_data_in_leaf': 725, 'lambda_l1': 3.1279864586386855e-06, 'lambda_l2': 1.2705899622690153e-06, 'max_bin': 99, 'num_leaves': 57, 'random_state': 3795}.\n",
      "[I 2019-07-07 06:58:00,034] Finished trial#27 resulted in value: 1.2319547518324019. Current best value is 1.1001168904275924 with parameters: {'learning_rate': 0.28800781291140337, 'feature_fraction': 0.7059019626771562, 'bagging_fraction': 0.820779362703533, 'min_data_in_leaf': 725, 'lambda_l1': 3.1279864586386855e-06, 'lambda_l2': 1.2705899622690153e-06, 'max_bin': 99, 'num_leaves': 57, 'random_state': 3795}.\n",
      "[I 2019-07-07 06:58:17,700] Finished trial#28 resulted in value: 1.4902676340400602. Current best value is 1.1001168904275924 with parameters: {'learning_rate': 0.28800781291140337, 'feature_fraction': 0.7059019626771562, 'bagging_fraction': 0.820779362703533, 'min_data_in_leaf': 725, 'lambda_l1': 3.1279864586386855e-06, 'lambda_l2': 1.2705899622690153e-06, 'max_bin': 99, 'num_leaves': 57, 'random_state': 3795}.\n",
      "[I 2019-07-07 06:58:30,437] Finished trial#29 resulted in value: 1.4248072362571924. Current best value is 1.1001168904275924 with parameters: {'learning_rate': 0.28800781291140337, 'feature_fraction': 0.7059019626771562, 'bagging_fraction': 0.820779362703533, 'min_data_in_leaf': 725, 'lambda_l1': 3.1279864586386855e-06, 'lambda_l2': 1.2705899622690153e-06, 'max_bin': 99, 'num_leaves': 57, 'random_state': 3795}.\n",
      "[I 2019-07-07 06:58:51,349] Finished trial#30 resulted in value: 1.1519771303284094. Current best value is 1.1001168904275924 with parameters: {'learning_rate': 0.28800781291140337, 'feature_fraction': 0.7059019626771562, 'bagging_fraction': 0.820779362703533, 'min_data_in_leaf': 725, 'lambda_l1': 3.1279864586386855e-06, 'lambda_l2': 1.2705899622690153e-06, 'max_bin': 99, 'num_leaves': 57, 'random_state': 3795}.\n",
      "[I 2019-07-07 06:59:11,683] Finished trial#31 resulted in value: 1.1147243519676737. Current best value is 1.1001168904275924 with parameters: {'learning_rate': 0.28800781291140337, 'feature_fraction': 0.7059019626771562, 'bagging_fraction': 0.820779362703533, 'min_data_in_leaf': 725, 'lambda_l1': 3.1279864586386855e-06, 'lambda_l2': 1.2705899622690153e-06, 'max_bin': 99, 'num_leaves': 57, 'random_state': 3795}.\n",
      "[I 2019-07-07 06:59:32,196] Finished trial#32 resulted in value: 1.1745584437124428. Current best value is 1.1001168904275924 with parameters: {'learning_rate': 0.28800781291140337, 'feature_fraction': 0.7059019626771562, 'bagging_fraction': 0.820779362703533, 'min_data_in_leaf': 725, 'lambda_l1': 3.1279864586386855e-06, 'lambda_l2': 1.2705899622690153e-06, 'max_bin': 99, 'num_leaves': 57, 'random_state': 3795}.\n",
      "[I 2019-07-07 06:59:44,559] Finished trial#33 resulted in value: 1.6592454995975099. Current best value is 1.1001168904275924 with parameters: {'learning_rate': 0.28800781291140337, 'feature_fraction': 0.7059019626771562, 'bagging_fraction': 0.820779362703533, 'min_data_in_leaf': 725, 'lambda_l1': 3.1279864586386855e-06, 'lambda_l2': 1.2705899622690153e-06, 'max_bin': 99, 'num_leaves': 57, 'random_state': 3795}.\n",
      "[I 2019-07-07 06:59:59,578] Finished trial#34 resulted in value: 1.303748094514979. Current best value is 1.1001168904275924 with parameters: {'learning_rate': 0.28800781291140337, 'feature_fraction': 0.7059019626771562, 'bagging_fraction': 0.820779362703533, 'min_data_in_leaf': 725, 'lambda_l1': 3.1279864586386855e-06, 'lambda_l2': 1.2705899622690153e-06, 'max_bin': 99, 'num_leaves': 57, 'random_state': 3795}.\n",
      "[I 2019-07-07 07:00:15,464] Finished trial#35 resulted in value: 1.1796216885205053. Current best value is 1.1001168904275924 with parameters: {'learning_rate': 0.28800781291140337, 'feature_fraction': 0.7059019626771562, 'bagging_fraction': 0.820779362703533, 'min_data_in_leaf': 725, 'lambda_l1': 3.1279864586386855e-06, 'lambda_l2': 1.2705899622690153e-06, 'max_bin': 99, 'num_leaves': 57, 'random_state': 3795}.\n",
      "[I 2019-07-07 07:00:37,350] Finished trial#36 resulted in value: 1.1479651136318243. Current best value is 1.1001168904275924 with parameters: {'learning_rate': 0.28800781291140337, 'feature_fraction': 0.7059019626771562, 'bagging_fraction': 0.820779362703533, 'min_data_in_leaf': 725, 'lambda_l1': 3.1279864586386855e-06, 'lambda_l2': 1.2705899622690153e-06, 'max_bin': 99, 'num_leaves': 57, 'random_state': 3795}.\n",
      "[I 2019-07-07 07:01:01,888] Finished trial#37 resulted in value: 1.083789678356766. Current best value is 1.083789678356766 with parameters: {'learning_rate': 0.23923650301504132, 'feature_fraction': 0.9394550263211469, 'bagging_fraction': 0.89297706834366, 'min_data_in_leaf': 515, 'lambda_l1': 6.724238209952969, 'lambda_l2': 0.00014253833222585238, 'max_bin': 88, 'num_leaves': 62, 'random_state': 328}.\n"
     ]
    },
    {
     "name": "stderr",
     "output_type": "stream",
     "text": [
      "[I 2019-07-07 07:01:25,890] Finished trial#38 resulted in value: 1.3540938536879825. Current best value is 1.083789678356766 with parameters: {'learning_rate': 0.23923650301504132, 'feature_fraction': 0.9394550263211469, 'bagging_fraction': 0.89297706834366, 'min_data_in_leaf': 515, 'lambda_l1': 6.724238209952969, 'lambda_l2': 0.00014253833222585238, 'max_bin': 88, 'num_leaves': 62, 'random_state': 328}.\n",
      "[I 2019-07-07 07:01:52,317] Finished trial#39 resulted in value: 4.526874246341155. Current best value is 1.083789678356766 with parameters: {'learning_rate': 0.23923650301504132, 'feature_fraction': 0.9394550263211469, 'bagging_fraction': 0.89297706834366, 'min_data_in_leaf': 515, 'lambda_l1': 6.724238209952969, 'lambda_l2': 0.00014253833222585238, 'max_bin': 88, 'num_leaves': 62, 'random_state': 328}.\n",
      "[I 2019-07-07 07:02:15,855] Finished trial#40 resulted in value: 1.0782333610947283. Current best value is 1.0782333610947283 with parameters: {'learning_rate': 0.24907935711542986, 'feature_fraction': 0.9982798210612271, 'bagging_fraction': 0.8526034136633364, 'min_data_in_leaf': 209, 'lambda_l1': 0.06743186948600138, 'lambda_l2': 0.0006251795349806827, 'max_bin': 88, 'num_leaves': 61, 'random_state': 6775}.\n",
      "[I 2019-07-07 07:02:39,524] Finished trial#41 resulted in value: 1.0831043209016031. Current best value is 1.0782333610947283 with parameters: {'learning_rate': 0.24907935711542986, 'feature_fraction': 0.9982798210612271, 'bagging_fraction': 0.8526034136633364, 'min_data_in_leaf': 209, 'lambda_l1': 0.06743186948600138, 'lambda_l2': 0.0006251795349806827, 'max_bin': 88, 'num_leaves': 61, 'random_state': 6775}.\n",
      "[I 2019-07-07 07:02:56,758] Finished trial#42 resulted in value: 1.4295350082883993. Current best value is 1.0782333610947283 with parameters: {'learning_rate': 0.24907935711542986, 'feature_fraction': 0.9982798210612271, 'bagging_fraction': 0.8526034136633364, 'min_data_in_leaf': 209, 'lambda_l1': 0.06743186948600138, 'lambda_l2': 0.0006251795349806827, 'max_bin': 88, 'num_leaves': 61, 'random_state': 6775}.\n",
      "[I 2019-07-07 07:03:18,639] Finished trial#43 resulted in value: 1.0667010441455742. Current best value is 1.0667010441455742 with parameters: {'learning_rate': 0.35680182458150755, 'feature_fraction': 0.9997650675839942, 'bagging_fraction': 0.8027540374814573, 'min_data_in_leaf': 201, 'lambda_l1': 0.24219090086395012, 'lambda_l2': 0.001514781894815984, 'max_bin': 47, 'num_leaves': 60, 'random_state': 8373}.\n",
      "[I 2019-07-07 07:03:37,045] Finished trial#44 resulted in value: 1.1533465487587322. Current best value is 1.0667010441455742 with parameters: {'learning_rate': 0.35680182458150755, 'feature_fraction': 0.9997650675839942, 'bagging_fraction': 0.8027540374814573, 'min_data_in_leaf': 201, 'lambda_l1': 0.24219090086395012, 'lambda_l2': 0.001514781894815984, 'max_bin': 47, 'num_leaves': 60, 'random_state': 8373}.\n",
      "[I 2019-07-07 07:03:57,056] Finished trial#45 resulted in value: 1.1307510903626123. Current best value is 1.0667010441455742 with parameters: {'learning_rate': 0.35680182458150755, 'feature_fraction': 0.9997650675839942, 'bagging_fraction': 0.8027540374814573, 'min_data_in_leaf': 201, 'lambda_l1': 0.24219090086395012, 'lambda_l2': 0.001514781894815984, 'max_bin': 47, 'num_leaves': 60, 'random_state': 8373}.\n",
      "[I 2019-07-07 07:04:16,560] Finished trial#46 resulted in value: 1.1094368067574094. Current best value is 1.0667010441455742 with parameters: {'learning_rate': 0.35680182458150755, 'feature_fraction': 0.9997650675839942, 'bagging_fraction': 0.8027540374814573, 'min_data_in_leaf': 201, 'lambda_l1': 0.24219090086395012, 'lambda_l2': 0.001514781894815984, 'max_bin': 47, 'num_leaves': 60, 'random_state': 8373}.\n",
      "[I 2019-07-07 07:04:33,808] Finished trial#47 resulted in value: 1.2325753047789054. Current best value is 1.0667010441455742 with parameters: {'learning_rate': 0.35680182458150755, 'feature_fraction': 0.9997650675839942, 'bagging_fraction': 0.8027540374814573, 'min_data_in_leaf': 201, 'lambda_l1': 0.24219090086395012, 'lambda_l2': 0.001514781894815984, 'max_bin': 47, 'num_leaves': 60, 'random_state': 8373}.\n",
      "[I 2019-07-07 07:04:54,731] Finished trial#48 resulted in value: 1.0839449812789943. Current best value is 1.0667010441455742 with parameters: {'learning_rate': 0.35680182458150755, 'feature_fraction': 0.9997650675839942, 'bagging_fraction': 0.8027540374814573, 'min_data_in_leaf': 201, 'lambda_l1': 0.24219090086395012, 'lambda_l2': 0.001514781894815984, 'max_bin': 47, 'num_leaves': 60, 'random_state': 8373}.\n",
      "[I 2019-07-07 07:05:07,589] Finished trial#49 resulted in value: 1.6426955079860683. Current best value is 1.0667010441455742 with parameters: {'learning_rate': 0.35680182458150755, 'feature_fraction': 0.9997650675839942, 'bagging_fraction': 0.8027540374814573, 'min_data_in_leaf': 201, 'lambda_l1': 0.24219090086395012, 'lambda_l2': 0.001514781894815984, 'max_bin': 47, 'num_leaves': 60, 'random_state': 8373}.\n",
      "[I 2019-07-07 07:05:31,048] Finished trial#50 resulted in value: 1.1123740168465475. Current best value is 1.0667010441455742 with parameters: {'learning_rate': 0.35680182458150755, 'feature_fraction': 0.9997650675839942, 'bagging_fraction': 0.8027540374814573, 'min_data_in_leaf': 201, 'lambda_l1': 0.24219090086395012, 'lambda_l2': 0.001514781894815984, 'max_bin': 47, 'num_leaves': 60, 'random_state': 8373}.\n",
      "[I 2019-07-07 07:05:53,756] Finished trial#51 resulted in value: 1.2603718385503506. Current best value is 1.0667010441455742 with parameters: {'learning_rate': 0.35680182458150755, 'feature_fraction': 0.9997650675839942, 'bagging_fraction': 0.8027540374814573, 'min_data_in_leaf': 201, 'lambda_l1': 0.24219090086395012, 'lambda_l2': 0.001514781894815984, 'max_bin': 47, 'num_leaves': 60, 'random_state': 8373}.\n",
      "[I 2019-07-07 07:06:14,091] Finished trial#52 resulted in value: 1.4402296193532569. Current best value is 1.0667010441455742 with parameters: {'learning_rate': 0.35680182458150755, 'feature_fraction': 0.9997650675839942, 'bagging_fraction': 0.8027540374814573, 'min_data_in_leaf': 201, 'lambda_l1': 0.24219090086395012, 'lambda_l2': 0.001514781894815984, 'max_bin': 47, 'num_leaves': 60, 'random_state': 8373}.\n",
      "[I 2019-07-07 07:06:34,361] Finished trial#53 resulted in value: 1.0988782027776378. Current best value is 1.0667010441455742 with parameters: {'learning_rate': 0.35680182458150755, 'feature_fraction': 0.9997650675839942, 'bagging_fraction': 0.8027540374814573, 'min_data_in_leaf': 201, 'lambda_l1': 0.24219090086395012, 'lambda_l2': 0.001514781894815984, 'max_bin': 47, 'num_leaves': 60, 'random_state': 8373}.\n",
      "[I 2019-07-07 07:06:50,787] Finished trial#54 resulted in value: 1.248618411009038. Current best value is 1.0667010441455742 with parameters: {'learning_rate': 0.35680182458150755, 'feature_fraction': 0.9997650675839942, 'bagging_fraction': 0.8027540374814573, 'min_data_in_leaf': 201, 'lambda_l1': 0.24219090086395012, 'lambda_l2': 0.001514781894815984, 'max_bin': 47, 'num_leaves': 60, 'random_state': 8373}.\n",
      "[I 2019-07-07 07:07:12,821] Finished trial#55 resulted in value: 1.0456198145537663. Current best value is 1.0456198145537663 with parameters: {'learning_rate': 0.4035014679207284, 'feature_fraction': 0.9869954461080779, 'bagging_fraction': 0.9884821281676851, 'min_data_in_leaf': 201, 'lambda_l1': 0.002784639396262083, 'lambda_l2': 1.1764696585587135, 'max_bin': 69, 'num_leaves': 64, 'random_state': 6633}.\n",
      "[I 2019-07-07 07:07:35,292] Finished trial#56 resulted in value: 1.0513312039037133. Current best value is 1.0456198145537663 with parameters: {'learning_rate': 0.4035014679207284, 'feature_fraction': 0.9869954461080779, 'bagging_fraction': 0.9884821281676851, 'min_data_in_leaf': 201, 'lambda_l1': 0.002784639396262083, 'lambda_l2': 1.1764696585587135, 'max_bin': 69, 'num_leaves': 64, 'random_state': 6633}.\n"
     ]
    },
    {
     "name": "stderr",
     "output_type": "stream",
     "text": [
      "[I 2019-07-07 07:07:55,952] Finished trial#57 resulted in value: 1.0630910827752884. Current best value is 1.0456198145537663 with parameters: {'learning_rate': 0.4035014679207284, 'feature_fraction': 0.9869954461080779, 'bagging_fraction': 0.9884821281676851, 'min_data_in_leaf': 201, 'lambda_l1': 0.002784639396262083, 'lambda_l2': 1.1764696585587135, 'max_bin': 69, 'num_leaves': 64, 'random_state': 6633}.\n",
      "[I 2019-07-07 07:08:17,356] Finished trial#58 resulted in value: 1.0710903223748214. Current best value is 1.0456198145537663 with parameters: {'learning_rate': 0.4035014679207284, 'feature_fraction': 0.9869954461080779, 'bagging_fraction': 0.9884821281676851, 'min_data_in_leaf': 201, 'lambda_l1': 0.002784639396262083, 'lambda_l2': 1.1764696585587135, 'max_bin': 69, 'num_leaves': 64, 'random_state': 6633}.\n",
      "[I 2019-07-07 07:08:37,009] Finished trial#59 resulted in value: 1.1353281215781847. Current best value is 1.0456198145537663 with parameters: {'learning_rate': 0.4035014679207284, 'feature_fraction': 0.9869954461080779, 'bagging_fraction': 0.9884821281676851, 'min_data_in_leaf': 201, 'lambda_l1': 0.002784639396262083, 'lambda_l2': 1.1764696585587135, 'max_bin': 69, 'num_leaves': 64, 'random_state': 6633}.\n",
      "[I 2019-07-07 07:08:51,365] Finished trial#60 resulted in value: 1.3407252491800228. Current best value is 1.0456198145537663 with parameters: {'learning_rate': 0.4035014679207284, 'feature_fraction': 0.9869954461080779, 'bagging_fraction': 0.9884821281676851, 'min_data_in_leaf': 201, 'lambda_l1': 0.002784639396262083, 'lambda_l2': 1.1764696585587135, 'max_bin': 69, 'num_leaves': 64, 'random_state': 6633}.\n",
      "[I 2019-07-07 07:09:11,391] Finished trial#61 resulted in value: 1.1147590291886282. Current best value is 1.0456198145537663 with parameters: {'learning_rate': 0.4035014679207284, 'feature_fraction': 0.9869954461080779, 'bagging_fraction': 0.9884821281676851, 'min_data_in_leaf': 201, 'lambda_l1': 0.002784639396262083, 'lambda_l2': 1.1764696585587135, 'max_bin': 69, 'num_leaves': 64, 'random_state': 6633}.\n",
      "[I 2019-07-07 07:09:24,024] Finished trial#62 resulted in value: 1.5699095483831198. Current best value is 1.0456198145537663 with parameters: {'learning_rate': 0.4035014679207284, 'feature_fraction': 0.9869954461080779, 'bagging_fraction': 0.9884821281676851, 'min_data_in_leaf': 201, 'lambda_l1': 0.002784639396262083, 'lambda_l2': 1.1764696585587135, 'max_bin': 69, 'num_leaves': 64, 'random_state': 6633}.\n",
      "[I 2019-07-07 07:09:44,841] Finished trial#63 resulted in value: 1.0934344634736965. Current best value is 1.0456198145537663 with parameters: {'learning_rate': 0.4035014679207284, 'feature_fraction': 0.9869954461080779, 'bagging_fraction': 0.9884821281676851, 'min_data_in_leaf': 201, 'lambda_l1': 0.002784639396262083, 'lambda_l2': 1.1764696585587135, 'max_bin': 69, 'num_leaves': 64, 'random_state': 6633}.\n",
      "[I 2019-07-07 07:10:02,966] Finished trial#64 resulted in value: 1.170560659243947. Current best value is 1.0456198145537663 with parameters: {'learning_rate': 0.4035014679207284, 'feature_fraction': 0.9869954461080779, 'bagging_fraction': 0.9884821281676851, 'min_data_in_leaf': 201, 'lambda_l1': 0.002784639396262083, 'lambda_l2': 1.1764696585587135, 'max_bin': 69, 'num_leaves': 64, 'random_state': 6633}.\n",
      "[I 2019-07-07 07:10:23,751] Finished trial#65 resulted in value: 1.0716833728528032. Current best value is 1.0456198145537663 with parameters: {'learning_rate': 0.4035014679207284, 'feature_fraction': 0.9869954461080779, 'bagging_fraction': 0.9884821281676851, 'min_data_in_leaf': 201, 'lambda_l1': 0.002784639396262083, 'lambda_l2': 1.1764696585587135, 'max_bin': 69, 'num_leaves': 64, 'random_state': 6633}.\n",
      "[I 2019-07-07 07:10:44,631] Finished trial#66 resulted in value: 1.0802948444242086. Current best value is 1.0456198145537663 with parameters: {'learning_rate': 0.4035014679207284, 'feature_fraction': 0.9869954461080779, 'bagging_fraction': 0.9884821281676851, 'min_data_in_leaf': 201, 'lambda_l1': 0.002784639396262083, 'lambda_l2': 1.1764696585587135, 'max_bin': 69, 'num_leaves': 64, 'random_state': 6633}.\n",
      "[I 2019-07-07 07:11:07,110] Finished trial#67 resulted in value: 1.0577366522827993. Current best value is 1.0456198145537663 with parameters: {'learning_rate': 0.4035014679207284, 'feature_fraction': 0.9869954461080779, 'bagging_fraction': 0.9884821281676851, 'min_data_in_leaf': 201, 'lambda_l1': 0.002784639396262083, 'lambda_l2': 1.1764696585587135, 'max_bin': 69, 'num_leaves': 64, 'random_state': 6633}.\n",
      "[I 2019-07-07 07:11:28,891] Finished trial#68 resulted in value: 1.0719077101798589. Current best value is 1.0456198145537663 with parameters: {'learning_rate': 0.4035014679207284, 'feature_fraction': 0.9869954461080779, 'bagging_fraction': 0.9884821281676851, 'min_data_in_leaf': 201, 'lambda_l1': 0.002784639396262083, 'lambda_l2': 1.1764696585587135, 'max_bin': 69, 'num_leaves': 64, 'random_state': 6633}.\n"
     ]
    }
   ],
   "source": [
    "def objective(trial):\n",
    "        \n",
    "    learning_rate = trial.suggest_uniform('learning_rate', .01, .5)\n",
    "    feature_fraction = trial.suggest_uniform('feature_fraction', .6, 1)\n",
    "    bagging_fraction = trial.suggest_uniform('bagging_fraction', 0.6, 1)\n",
    "    min_data_in_leaf = trial.suggest_int('min_data_in_leaf', 200, 800)\n",
    "    lambda_l1 = trial.suggest_loguniform('lambda_l1', 1e-6, 1e2)\n",
    "    lambda_l2 = trial.suggest_loguniform('lambda_l2', 1e-6, 1e2)\n",
    "    max_bin = trial.suggest_int('max_bin', 10, 100)\n",
    "    num_leaves = trial.suggest_int('num_leaves', 4, 64)\n",
    "    random_state = trial.suggest_int('random_state', 1, 9999)\n",
    "        \n",
    "    args={\n",
    "        'columns':columns,\n",
    "        'cv': {\n",
    "            'cls': 'KFold',\n",
    "            'init':{\n",
    "                'n_splits': 5,\n",
    "                'shuffle': True,\n",
    "                'random_state': 42,\n",
    "            },\n",
    "        },\n",
    "        'scaler': {\n",
    "            'cls': 'StandardScaler',\n",
    "            'init':{},\n",
    "            'fit':{},\n",
    "        },\n",
    "        'model': {\n",
    "            'cls': 'lgb.LGBMRegressor',\n",
    "            'init': {\n",
    "                'learning_rate':learning_rate,\n",
    "                'feature_fraction':feature_fraction,\n",
    "                'bagging_fraction':bagging_fraction,\n",
    "                'min_data_in_leaf':min_data_in_leaf,\n",
    "                'lambda_l1':lambda_l1,\n",
    "                'lambda_l2':lambda_l2,\n",
    "                'max_bin':max_bin,\n",
    "                'num_leaves':num_leaves,\n",
    "                'random_state':random_state,\n",
    "                'n_jobs':16\n",
    "            },\n",
    "            'fit': {\n",
    "            },\n",
    "        },\n",
    "        'metric':'mean_absolute_error',\n",
    "    }\n",
    "    \n",
    "    df_his, df_feature_importances, df_valid_pred, df_test_pred =  sk_process(df_train_sample, args, 'tune hyperparam cv5', trial=mytrial, is_output_feature_importance=False, trial_level=0)\n",
    "    val_metric_mean = np.mean(df_his.valid)\n",
    "    return val_metric_mean\n",
    "\n",
    "study = optuna.create_study()\n",
    "study.optimize(objective, n_trials=200)"
   ]
  },
  {
   "cell_type": "code",
   "execution_count": 68,
   "metadata": {},
   "outputs": [],
   "source": [
    "df_trial = pd.DataFrame(mytrial)\n",
    "param = df_trial[(df_trial['message']=='tune hyperparam cv5 add depth range')].sort_values(by=['val_metric_mean'], ascending=True)['param'].tolist()[0]"
   ]
  },
  {
   "cell_type": "code",
   "execution_count": 71,
   "metadata": {},
   "outputs": [
    {
     "data": {
      "text/plain": [
       "{'columns': ['cos_center0_center1',\n",
       "  'distance',\n",
       "  'cos_c0',\n",
       "  'distance_c0',\n",
       "  'inv_distPE',\n",
       "  'max_molecule_atom_1_dist_xyz',\n",
       "  'adH1',\n",
       "  'inv_distPR',\n",
       "  'atom_index_farthest_0',\n",
       "  'adN1',\n",
       "  'cos_c0_c1',\n",
       "  'atom_index_closest_0',\n",
       "  'type',\n",
       "  'cos_center1',\n",
       "  'mean_molecule_atom_1_dist_xyz',\n",
       "  'mean_molecule_atom_0_dist_xyz',\n",
       "  'distance_farthest_0',\n",
       "  'cos_f0',\n",
       "  'inv_dist0',\n",
       "  'distance_c1',\n",
       "  'distN0',\n",
       "  'distH0',\n",
       "  'distC1',\n",
       "  'NH',\n",
       "  'inv_dist1R',\n",
       "  'inv_dist0E',\n",
       "  'sd_molecule_atom_0_dist_xyz',\n",
       "  'min_molecule_atom_1_dist_xyz',\n",
       "  'sd_molecule_atom_1_dist_xyz',\n",
       "  'cos_c1',\n",
       "  'adC3',\n",
       "  'adC1',\n",
       "  'inv_distP',\n",
       "  'linkM1',\n",
       "  'adC2',\n",
       "  'inv_dist0R',\n",
       "  'linkM0',\n",
       "  'cos_f1',\n",
       "  'link0',\n",
       "  'cos_center0',\n",
       "  'adC4',\n",
       "  'distC0',\n",
       "  'inv_dist1'],\n",
       " 'cv': {'cls': 'KFold',\n",
       "  'init': {'n_splits': 5, 'shuffle': True, 'random_state': 42}},\n",
       " 'scaler': {'cls': 'StandardScaler', 'init': {}, 'fit': {}},\n",
       " 'model': {'cls': 'lgb.LGBMRegressor',\n",
       "  'init': {'learning_rate': 0.3215989507281557,\n",
       "   'feature_fraction': 0.9330614314399969,\n",
       "   'bagging_fraction': 0.8039043396102594,\n",
       "   'min_data_in_leaf': 306,\n",
       "   'lambda_l1': 7.85477778008056e-06,\n",
       "   'lambda_l2': 0.00020892993263499295,\n",
       "   'max_bin': 80,\n",
       "   'num_leaves': 256,\n",
       "   'random_state': 3313,\n",
       "   'n_jobs': 16},\n",
       "  'fit': {}},\n",
       " 'metric': 'mean_absolute_error'}"
      ]
     },
     "execution_count": 71,
     "metadata": {},
     "output_type": "execute_result"
    }
   ],
   "source": [
    "param"
   ]
  },
  {
   "cell_type": "code",
   "execution_count": 72,
   "metadata": {},
   "outputs": [],
   "source": [
    "df_his, df_feature_importances, df_valid_pred, df_test_pred = sk_process(df_train, param, 'try tuned param cv5 add depth range', df_test=df_test, trial=mytrial, is_output_feature_importance=False, trial_level=1)"
   ]
  },
  {
   "cell_type": "code",
   "execution_count": 73,
   "metadata": {},
   "outputs": [],
   "source": [
    "# db = DFDB('../../data/trial/lgbm_trial.pkl')\n",
    "db.insert(mytrial)\n",
    "# db.commit()\n",
    "df_trial = db.select()"
   ]
  },
  {
   "cell_type": "code",
   "execution_count": 82,
   "metadata": {},
   "outputs": [
    {
     "data": {
      "text/html": [
       "<div>\n",
       "<style scoped>\n",
       "    .dataframe tbody tr th:only-of-type {\n",
       "        vertical-align: middle;\n",
       "    }\n",
       "\n",
       "    .dataframe tbody tr th {\n",
       "        vertical-align: top;\n",
       "    }\n",
       "\n",
       "    .dataframe thead th {\n",
       "        text-align: right;\n",
       "    }\n",
       "</style>\n",
       "<table border=\"1\" class=\"dataframe\">\n",
       "  <thead>\n",
       "    <tr style=\"text-align: right;\">\n",
       "      <th></th>\n",
       "      <th>datetime</th>\n",
       "      <th>message</th>\n",
       "      <th>nfeatures</th>\n",
       "      <th>train_metric_mean</th>\n",
       "      <th>val_metric_mean</th>\n",
       "      <th>trn_val_metric_diff</th>\n",
       "    </tr>\n",
       "  </thead>\n",
       "  <tbody>\n",
       "    <tr>\n",
       "      <th>1603</th>\n",
       "      <td>2019-07-07 02:05:40.763631</td>\n",
       "      <td>width_frist_rfe cv5</td>\n",
       "      <td>44</td>\n",
       "      <td>1.376339</td>\n",
       "      <td>1.385574</td>\n",
       "      <td>0.009235</td>\n",
       "    </tr>\n",
       "    <tr>\n",
       "      <th>851</th>\n",
       "      <td>2019-07-07 02:05:40.763631</td>\n",
       "      <td>width_frist_rfe cv5</td>\n",
       "      <td>44</td>\n",
       "      <td>1.376339</td>\n",
       "      <td>1.385574</td>\n",
       "      <td>0.009235</td>\n",
       "    </tr>\n",
       "    <tr>\n",
       "      <th>785</th>\n",
       "      <td>2019-07-07 01:52:53.036896</td>\n",
       "      <td>width_frist_rfe cv5</td>\n",
       "      <td>45</td>\n",
       "      <td>1.377695</td>\n",
       "      <td>1.386632</td>\n",
       "      <td>0.008938</td>\n",
       "    </tr>\n",
       "    <tr>\n",
       "      <th>1537</th>\n",
       "      <td>2019-07-07 01:52:53.036896</td>\n",
       "      <td>width_frist_rfe cv5</td>\n",
       "      <td>45</td>\n",
       "      <td>1.377695</td>\n",
       "      <td>1.386632</td>\n",
       "      <td>0.008938</td>\n",
       "    </tr>\n",
       "    <tr>\n",
       "      <th>882</th>\n",
       "      <td>2019-07-07 02:11:32.328712</td>\n",
       "      <td>width_frist_rfe cv5</td>\n",
       "      <td>43</td>\n",
       "      <td>1.378766</td>\n",
       "      <td>1.387437</td>\n",
       "      <td>0.008671</td>\n",
       "    </tr>\n",
       "  </tbody>\n",
       "</table>\n",
       "</div>"
      ],
      "text/plain": [
       "                       datetime              message  nfeatures  \\\n",
       "1603 2019-07-07 02:05:40.763631  width_frist_rfe cv5         44   \n",
       "851  2019-07-07 02:05:40.763631  width_frist_rfe cv5         44   \n",
       "785  2019-07-07 01:52:53.036896  width_frist_rfe cv5         45   \n",
       "1537 2019-07-07 01:52:53.036896  width_frist_rfe cv5         45   \n",
       "882  2019-07-07 02:11:32.328712  width_frist_rfe cv5         43   \n",
       "\n",
       "      train_metric_mean  val_metric_mean  trn_val_metric_diff  \n",
       "1603           1.376339         1.385574             0.009235  \n",
       "851            1.376339         1.385574             0.009235  \n",
       "785            1.377695         1.386632             0.008938  \n",
       "1537           1.377695         1.386632             0.008938  \n",
       "882            1.378766         1.387437             0.008671  "
      ]
     },
     "execution_count": 82,
     "metadata": {},
     "output_type": "execute_result"
    }
   ],
   "source": [
    "#\n",
    "df_trial[df_trial['message'] == 'width_frist_rfe cv5'][['datetime', 'message', 'nfeatures', 'train_metric_mean', 'val_metric_mean', 'trn_val_metric_diff']].sort_values(by=['val_metric_mean']).head()"
   ]
  },
  {
   "cell_type": "code",
   "execution_count": 77,
   "metadata": {},
   "outputs": [
    {
     "data": {
      "text/html": [
       "<div>\n",
       "<style scoped>\n",
       "    .dataframe tbody tr th:only-of-type {\n",
       "        vertical-align: middle;\n",
       "    }\n",
       "\n",
       "    .dataframe tbody tr th {\n",
       "        vertical-align: top;\n",
       "    }\n",
       "\n",
       "    .dataframe thead th {\n",
       "        text-align: right;\n",
       "    }\n",
       "</style>\n",
       "<table border=\"1\" class=\"dataframe\">\n",
       "  <thead>\n",
       "    <tr style=\"text-align: right;\">\n",
       "      <th></th>\n",
       "      <th>datetime</th>\n",
       "      <th>message</th>\n",
       "      <th>nfeatures</th>\n",
       "      <th>train_metric_mean</th>\n",
       "      <th>val_metric_mean</th>\n",
       "      <th>trn_val_metric_diff</th>\n",
       "    </tr>\n",
       "  </thead>\n",
       "  <tbody>\n",
       "    <tr>\n",
       "      <th>1137</th>\n",
       "      <td>2019-07-07 03:38:04.106983</td>\n",
       "      <td>try tuned param cv5</td>\n",
       "      <td>43</td>\n",
       "      <td>1.030377</td>\n",
       "      <td>1.038493</td>\n",
       "      <td>0.008116</td>\n",
       "    </tr>\n",
       "    <tr>\n",
       "      <th>1889</th>\n",
       "      <td>2019-07-07 03:38:04.106983</td>\n",
       "      <td>try tuned param cv5</td>\n",
       "      <td>43</td>\n",
       "      <td>1.030377</td>\n",
       "      <td>1.038493</td>\n",
       "      <td>0.008116</td>\n",
       "    </tr>\n",
       "  </tbody>\n",
       "</table>\n",
       "</div>"
      ],
      "text/plain": [
       "                       datetime              message  nfeatures  \\\n",
       "1137 2019-07-07 03:38:04.106983  try tuned param cv5         43   \n",
       "1889 2019-07-07 03:38:04.106983  try tuned param cv5         43   \n",
       "\n",
       "      train_metric_mean  val_metric_mean  trn_val_metric_diff  \n",
       "1137           1.030377         1.038493             0.008116  \n",
       "1889           1.030377         1.038493             0.008116  "
      ]
     },
     "execution_count": 77,
     "metadata": {},
     "output_type": "execute_result"
    }
   ],
   "source": [
    "df_trial[df_trial['message'] == 'try tuned param cv5'][['datetime', 'message', 'nfeatures', 'train_metric_mean', 'val_metric_mean', 'trn_val_metric_diff']]"
   ]
  },
  {
   "cell_type": "code",
   "execution_count": 75,
   "metadata": {},
   "outputs": [
    {
     "data": {
      "text/html": [
       "<div>\n",
       "<style scoped>\n",
       "    .dataframe tbody tr th:only-of-type {\n",
       "        vertical-align: middle;\n",
       "    }\n",
       "\n",
       "    .dataframe tbody tr th {\n",
       "        vertical-align: top;\n",
       "    }\n",
       "\n",
       "    .dataframe thead th {\n",
       "        text-align: right;\n",
       "    }\n",
       "</style>\n",
       "<table border=\"1\" class=\"dataframe\">\n",
       "  <thead>\n",
       "    <tr style=\"text-align: right;\">\n",
       "      <th></th>\n",
       "      <th>datetime</th>\n",
       "      <th>message</th>\n",
       "      <th>nfeatures</th>\n",
       "      <th>train_metric_mean</th>\n",
       "      <th>val_metric_mean</th>\n",
       "      <th>trn_val_metric_diff</th>\n",
       "    </tr>\n",
       "  </thead>\n",
       "  <tbody>\n",
       "    <tr>\n",
       "      <th>385</th>\n",
       "      <td>2019-07-07 00:39:52.447019</td>\n",
       "      <td>try tuned param</td>\n",
       "      <td>43</td>\n",
       "      <td>1.030377</td>\n",
       "      <td>1.038493</td>\n",
       "      <td>0.008116</td>\n",
       "    </tr>\n",
       "    <tr>\n",
       "      <th>1137</th>\n",
       "      <td>2019-07-07 03:38:04.106983</td>\n",
       "      <td>try tuned param cv5</td>\n",
       "      <td>43</td>\n",
       "      <td>1.030377</td>\n",
       "      <td>1.038493</td>\n",
       "      <td>0.008116</td>\n",
       "    </tr>\n",
       "    <tr>\n",
       "      <th>2090</th>\n",
       "      <td>2019-07-07 06:42:43.053457</td>\n",
       "      <td>try tuned param cv5 add depth range</td>\n",
       "      <td>43</td>\n",
       "      <td>0.799803</td>\n",
       "      <td>0.819977</td>\n",
       "      <td>0.020174</td>\n",
       "    </tr>\n",
       "  </tbody>\n",
       "</table>\n",
       "</div>"
      ],
      "text/plain": [
       "                       datetime                              message  \\\n",
       "385  2019-07-07 00:39:52.447019                      try tuned param   \n",
       "1137 2019-07-07 03:38:04.106983                  try tuned param cv5   \n",
       "2090 2019-07-07 06:42:43.053457  try tuned param cv5 add depth range   \n",
       "\n",
       "      nfeatures  train_metric_mean  val_metric_mean  trn_val_metric_diff  \n",
       "385          43           1.030377         1.038493             0.008116  \n",
       "1137         43           1.030377         1.038493             0.008116  \n",
       "2090         43           0.799803         0.819977             0.020174  "
      ]
     },
     "execution_count": 75,
     "metadata": {},
     "output_type": "execute_result"
    }
   ],
   "source": [
    "#[df_trial['message'] == 'try tuned param cv5']\n",
    "df_trial.sort_values(by=['val_metric_mean'])[['datetime', 'message', 'nfeatures', 'train_metric_mean', 'val_metric_mean', 'trn_val_metric_diff']].loc[[385, 1137, 2090]]"
   ]
  },
  {
   "cell_type": "code",
   "execution_count": null,
   "metadata": {},
   "outputs": [],
   "source": []
  },
  {
   "cell_type": "code",
   "execution_count": 59,
   "metadata": {},
   "outputs": [
    {
     "data": {
      "text/plain": [
       "set()"
      ]
     },
     "execution_count": 59,
     "metadata": {},
     "output_type": "execute_result"
    }
   ],
   "source": [
    "set(df_trial.loc[385]['param']['columns']) - set(df_trial.loc[1137]['param']['columns']) "
   ]
  },
  {
   "cell_type": "code",
   "execution_count": 52,
   "metadata": {},
   "outputs": [],
   "source": [
    "def group_mean_log_mae(y_true, y_pred, groups, floor=1e-9):\n",
    "    maes = (y_true-y_pred).abs().groupby(groups).mean()\n",
    "    return np.log(maes.map(lambda x: max(x, floor))).mean()"
   ]
  },
  {
   "cell_type": "code",
   "execution_count": 53,
   "metadata": {},
   "outputs": [],
   "source": [
    "gmlogmae = group_mean_log_mae(df_train.y, df_valid_pred.predict, df_train.molecule_name)"
   ]
  },
  {
   "cell_type": "code",
   "execution_count": 54,
   "metadata": {},
   "outputs": [
    {
     "data": {
      "text/plain": [
       "0.04762889832183193"
      ]
     },
     "execution_count": 54,
     "metadata": {},
     "output_type": "execute_result"
    }
   ],
   "source": [
    "gmlogmae"
   ]
  },
  {
   "cell_type": "code",
   "execution_count": 80,
   "metadata": {},
   "outputs": [],
   "source": [
    "db.commit()"
   ]
  },
  {
   "cell_type": "code",
   "execution_count": 34,
   "metadata": {},
   "outputs": [],
   "source": [
    "idx=385\n",
    "df_test_pred = df_trial.loc[idx]['df_test_pred']\n",
    "df_submit = pd.DataFrame()\n",
    "df_submit['scalar_coupling_constant'] = np.mean(df_test_pred.drop(columns=['index']).values, axis=1)\n",
    "df_submit['id'] = df_test_pred['index']\n",
    "df_submit.to_csv('../../data/submission/submission_lgbm_{}.csv'.format(idx), index=False)"
   ]
  },
  {
   "cell_type": "code",
   "execution_count": null,
   "metadata": {},
   "outputs": [],
   "source": []
  }
 ],
 "metadata": {
  "kernelspec": {
   "display_name": "Python 3",
   "language": "python",
   "name": "python3"
  },
  "language_info": {
   "codemirror_mode": {
    "name": "ipython",
    "version": 3
   },
   "file_extension": ".py",
   "mimetype": "text/x-python",
   "name": "python",
   "nbconvert_exporter": "python",
   "pygments_lexer": "ipython3",
   "version": "3.6.8"
  }
 },
 "nbformat": 4,
 "nbformat_minor": 2
}
