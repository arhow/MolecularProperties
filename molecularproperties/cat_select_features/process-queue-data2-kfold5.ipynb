{
 "cells": [
  {
   "cell_type": "code",
   "execution_count": 1,
   "metadata": {},
   "outputs": [
    {
     "data": {
      "text/html": [
       "<style>\n",
       "   div#notebook-container    { width: 95%; }\n",
       "   div#menubar-container     { width: 65%; }\n",
       "   div#maintoolbar-container { width: 99%; }\n",
       "</style>"
      ],
      "text/plain": [
       "<IPython.core.display.HTML object>"
      ]
     },
     "metadata": {},
     "output_type": "display_data"
    }
   ],
   "source": [
    "%%HTML\n",
    "<style>\n",
    "   div#notebook-container    { width: 95%; }\n",
    "   div#menubar-container     { width: 65%; }\n",
    "   div#maintoolbar-container { width: 99%; }\n",
    "</style>"
   ]
  },
  {
   "cell_type": "code",
   "execution_count": 2,
   "metadata": {},
   "outputs": [
    {
     "name": "stderr",
     "output_type": "stream",
     "text": [
      "Using TensorFlow backend.\n"
     ]
    }
   ],
   "source": [
    "import sys\n",
    "sys.path.append(\"../..\") # Adds higher directory to python modules path.\n",
    "from utilities import aggregate_feature_calculators\n",
    "from utilities import aggregate_feature_calculators_setting as aggcal\n",
    "from utilities.parallel import Parallel\n",
    "from utilities.dfdb import DFDB\n",
    "\n",
    "from utilities.process.pqueue import *\n",
    "from utilities.process.pnode import *\n",
    "from utilities.process.putilities import *"
   ]
  },
  {
   "cell_type": "code",
   "execution_count": 3,
   "metadata": {},
   "outputs": [],
   "source": [
    "import numpy as np\n",
    "import pandas as pd\n",
    "import os\n",
    "import time\n",
    "import datetime\n",
    "import json\n",
    "import copy\n",
    "import gc\n",
    "import warnings\n",
    "from tqdm import tqdm_notebook, tqdm\n",
    "\n",
    "import optuna\n",
    "\n",
    "import lightgbm as lgb\n",
    "import xgboost as xgb\n",
    "\n",
    "from catboost import CatBoostRegressor\n",
    "from sklearn.preprocessing import LabelEncoder\n",
    "from sklearn.model_selection import StratifiedKFold, KFold, RepeatedKFold,TimeSeriesSplit, GroupKFold\n",
    "from sklearn.model_selection import train_test_split\n",
    "from sklearn import metrics\n",
    "from sklearn import linear_model\n",
    "from sklearn.preprocessing import StandardScaler\n",
    "from sklearn.svm import NuSVR, SVR\n",
    "from sklearn.metrics import mean_absolute_error\n",
    "from sklearn import preprocessing\n",
    "\n",
    "import eli5\n",
    "from eli5.sklearn import PermutationImportance\n",
    "\n",
    "import networkx as nx\n",
    "\n",
    "import seaborn as sns\n",
    "import matplotlib.pyplot as plt\n",
    "%matplotlib inline"
   ]
  },
  {
   "cell_type": "code",
   "execution_count": 4,
   "metadata": {},
   "outputs": [
    {
     "data": {
      "text/plain": [
       "['sample_submission.csv',\n",
       " 'magnetic_shielding_tensors.csv',\n",
       " 'potential_energy.csv',\n",
       " 'scalar_coupling_contributions.csv',\n",
       " 'dipole_moments.csv',\n",
       " 'mulliken_charges.csv',\n",
       " 'train.csv',\n",
       " 'test.csv',\n",
       " 'structures.csv',\n",
       " 'structures']"
      ]
     },
     "execution_count": 4,
     "metadata": {},
     "output_type": "execute_result"
    }
   ],
   "source": [
    "csv_file_folder =  '../../data/input'\n",
    "os.listdir(csv_file_folder)"
   ]
  },
  {
   "cell_type": "code",
   "execution_count": 5,
   "metadata": {},
   "outputs": [],
   "source": [
    "file_folder =  '../../data/feature'"
   ]
  },
  {
   "cell_type": "code",
   "execution_count": 6,
   "metadata": {},
   "outputs": [],
   "source": [
    "mytrial = []"
   ]
  },
  {
   "cell_type": "code",
   "execution_count": 8,
   "metadata": {},
   "outputs": [],
   "source": [
    "df_train=pd.read_pickle(f'{file_folder}/df_train2.gzde', compression='gzip')\n",
    "df_test=pd.read_pickle(f'{file_folder}/df_test2.gzde', compression='gzip')\n",
    "df_train['y'] = df_train['scalar_coupling_constant']"
   ]
  },
  {
   "cell_type": "code",
   "execution_count": 9,
   "metadata": {},
   "outputs": [],
   "source": [
    "param = {\n",
    "    'columns': df_train.columns.drop(['index', 'y','group', 'scalar_coupling_constant', 'fc', 'sd','pso','dso']).tolist(),\n",
    "    'cv': {\n",
    "        'cls': 'KFold',\n",
    "        'init':{\n",
    "            'n_splits': 5,\n",
    "            'shuffle': True,\n",
    "            'random_state': 42,\n",
    "        },\n",
    "    },\n",
    "    'scaler': {'cls': 'StandardScaler', 'init': {}, 'fit': {}},\n",
    "    'model': {\n",
    "        'cls':'CatBoostRegressor',\n",
    "        'init':{\n",
    "#             \"num_trees\":num_trees,\n",
    "#             \"depth\":depth,\n",
    "#             \"learning_rate\":learning_rate,\n",
    "#             \"l2_leaf_reg\":l2_leaf_reg,\n",
    "#             \"bagging_temperature\":bagging_temperature,\n",
    "#             \"random_strength\":random_strength,\n",
    "#             \"random_state\":random_state,\n",
    "            'logging_level': 'Silent'\n",
    "        },\n",
    "        'fit':{\n",
    "        },\n",
    "    },\n",
    "    'metric': 'mean_absolute_error'\n",
    "}"
   ]
  },
  {
   "cell_type": "code",
   "execution_count": null,
   "metadata": {},
   "outputs": [],
   "source": [
    "df_his, df_feature_importances, df_valid_pred, df_test_pred = sk_process(df_train, param.copy(), 'no message', df_test=None, trial=mytrial, is_output_feature_importance=True, trial_level=0)\n",
    "#         sorted_columns = sort_feature_importances(df_feature_importances, 'average_permutation_weight')\n",
    "#         sorted_columns = sorted_columns[:self.top_n] if len(sorted_columns) > self.top_n else sorted_columns\n",
    "#         param['columns'] = sorted_columns"
   ]
  },
  {
   "cell_type": "code",
   "execution_count": 7,
   "metadata": {},
   "outputs": [],
   "source": [
    "process_queue = PQueue(df_train, df_test, param, mytrial)\n",
    "sort_features = SortFeatureSelectTopNProcess(**{'top_n':70})\n",
    "try:\n",
    "    result = process_queue.run()\n",
    "except Exception as e:\n",
    "    print(e.__str__())\n",
    "print(len(process_queue.trial))\n",
    "print(process_queue.param)"
   ]
  },
  {
   "cell_type": "code",
   "execution_count": null,
   "metadata": {},
   "outputs": [
    {
     "name": "stdout",
     "output_type": "stream",
     "text": [
      "[11:45:05] WARNING: /workspace/src/objective/regression_obj.cu:152: reg:linear is now deprecated in favor of reg:squarederror.\n"
     ]
    }
   ],
   "source": [
    "mytrial = []\n",
    "#  tune hypterparameters\n",
    "def objective(trial):\n",
    "        \n",
    "    max_depth = trial.suggest_int('max_depth', 2, 10)\n",
    "    max_bin = trial.suggest_int('max_bin', 10, 100)\n",
    "    eta = trial.suggest_uniform('eta', 0.01, 0.4)\n",
    "    colsample_bytree = trial.suggest_uniform('colsample_bytree', 0.6, 1)\n",
    "    min_child_weight = trial.suggest_int('min_child_weight', 200, 600)\n",
    "#     n_estimators = trial.suggest_int('n_estimators', 100, 500)\n",
    "    subsample = trial.suggest_uniform('subsample', 0.6, 1.0)\n",
    "    reg_lambda = trial.suggest_loguniform('reg_lambda', 0.000001, 1.0)\n",
    "    reg_alpha = trial.suggest_loguniform('reg_alpha', 0.000001, 1.0)\n",
    "        \n",
    "    args= param.copy()\n",
    "    args['model'] = {\n",
    "        'cls':'xgb.XGBRegressor',\n",
    "        'init':{\n",
    "            \"max_depth\":max_depth,\n",
    "            \"max_bin\":max_bin,\n",
    "            \"eta\":eta,\n",
    "            \"colsample_bytree\":colsample_bytree,\n",
    "            \"min_child_weight\":min_child_weight,\n",
    "#             \"n_estimators\":n_estimators,\n",
    "            \"subsample\":subsample,\n",
    "            \"reg_lambda\":reg_lambda,\n",
    "            \"reg_alpha\":reg_alpha,\n",
    "            'n_jobs':-1},\n",
    "        'fit':{},\n",
    "    }\n",
    "    \n",
    "    df_his_i, df_feature_importances_i, df_valid_pred_i, df_test_pred_i =  sk_process(df_train, args, f'tune hyper', None, trial=mytrial, is_output_feature_importance=False, trial_level=1)\n",
    "    \n",
    "    val_mae = mean_absolute_error(df_valid_pred_i.predict.values, df_train.y.values)\n",
    "\n",
    "    return val_mae\n",
    "\n",
    "study = optuna.create_study()\n",
    "study.optimize(objective, n_trials=200)"
   ]
  },
  {
   "cell_type": "code",
   "execution_count": 7,
   "metadata": {},
   "outputs": [
    {
     "name": "stdout",
     "output_type": "stream",
     "text": [
      "y=scalar_coupling_constant, type=7\n",
      "1016\n",
      "{'columns': ['dist_C_3_y', 'adC1', 'tertiary_angle_1', 'dist_H_0_y', 'dist_to_type_std', 'atom_index_1_cycle_size_mean', 'cos_c1', 'molecule_atom_index_0_dist_std_diff', 'dist_N_0_x', 'dist_C_1_x', 'dist_C_2_y', 'dist_C_3_x', 'tertiary_atom_1', 'atom_1_bond_lengths_mean', 'atom_1_n_bonds', 'cos_f0', 'tertiary_distance_3', 'dist_C_2_x', 'tertiary_angle_0', 'atom_0_bond_lengths_max', 'dist_O_0_x', 'molecule_atom_index_0_dist_min_diff', 'cos_c0', 'tertiary_angle_3', 'tertiary_angle_2', 'tertiary_distance_1', 'dist_C_1_y', 'tertiary_distance_2', 'molecule_atom_index_0_dist_min_div', 'dist_to_type_1_mean', 'dist_C_0_y', 'max_molecule_atom_0_dist_xyz', 'dist_H_1_x', 'atom_1_bond_lengths_std', 'cos_c0_c1', 'dist_O_0_y', 'mean_molecule_atom_0_dist_xyz'], 'cv': {'cls': 'GroupKFold', 'init': {'n_splits': 5}}, 'scaler': {'cls': 'StandardScaler', 'init': {}, 'fit': {}}, 'model': {'cls': 'lgb.LGBMRegressor', 'init': {'learning_rate': 0.2833769330240482, 'feature_fraction': 0.8818248470204605, 'bagging_fraction': 0.8205197060908092, 'min_data_in_leaf': 202, 'lambda_l1': 0.017039063121824582, 'lambda_l2': 0.8318702431636841, 'max_bin': 100, 'num_leaves': 255, 'random_state': 3895, 'n_jobs': 16}, 'fit': {}}, 'metric': 'mean_absolute_error'}\n"
     ]
    }
   ],
   "source": [
    "# , 'fc', 'sd','pso','dso'\n",
    "for y in ['scalar_coupling_constant']:\n",
    "    for t in np.arange(7,8,1):\n",
    "        \n",
    "        print(f'y={y}, type={t}')\n",
    "        df_train=pd.read_pickle(f'{file_folder}/df_train2.gzde', compression='gzip')\n",
    "#         df_test=pd.read_pickle(f'{file_folder}/df_test.gzde', compression='gzip')\n",
    "        \n",
    "        df_train['y'] = df_train[y]\n",
    "        df_train = df_train[df_train['type']==t]\n",
    "        n_samples = 300000 if df_train.shape[0] > 300000 else df_train.shape[0]\n",
    "        df_train = df_train.sample(n_samples).reset_index(drop=True)\n",
    "#         df_test = df_test[df_test['type']==t].reset_index(drop=True)\n",
    "        df_test = pd.DataFrame()\n",
    "        \n",
    "\n",
    "        param = {\n",
    "            'columns': df_train.columns.drop(['index', 'y','group', 'scalar_coupling_constant', 'fc', 'sd','pso','dso']).tolist(),\n",
    "            'cv': {\n",
    "                'cls': 'GroupKFold',\n",
    "                'init':{\n",
    "                    'n_splits': 5,\n",
    "#                     'shuffle': True,\n",
    "#                     'random_state': 42,\n",
    "                },\n",
    "            },\n",
    "            'scaler': {'cls': 'StandardScaler', 'init': {}, 'fit': {}},\n",
    "            'model': {\n",
    "                'cls': 'lgb.LGBMRegressor',\n",
    "                'init': {\n",
    "                    'learning_rate': 0.2833769330240482,\n",
    "                    'feature_fraction': 0.8818248470204605,\n",
    "                    'bagging_fraction': 0.8205197060908092,\n",
    "                    'min_data_in_leaf': 202,\n",
    "                    'lambda_l1': 0.017039063121824582,\n",
    "                    'lambda_l2': 0.8318702431636841,\n",
    "                    'max_bin': 100,\n",
    "                    'num_leaves': 255,\n",
    "                    'random_state': 3895,\n",
    "                    'n_jobs': 16\n",
    "                },\n",
    "                'fit': {}\n",
    "            },\n",
    "            'metric': 'mean_absolute_error'\n",
    "        }\n",
    "\n",
    "\n",
    "\n",
    "        process_queue = PQueue(df_train, df_test, param, mytrial)\n",
    "        sort_features = SortFeatureSelectTopNProcess(**{'top_n':200})\n",
    "        select_topn = RFESelectTopNProcess(**{'n_features_remain':20, 'n_features_to_remove':10})\n",
    "        remove_useless = RFERemoveUselessFeaturesProcess(**{})\n",
    "        process_queue.insert_node(sort_features)\n",
    "        process_queue.insert_node(select_topn)\n",
    "        process_queue.insert_node(remove_useless)\n",
    "\n",
    "        try:\n",
    "            result = process_queue.run()\n",
    "        except Exception as e:\n",
    "            print(e.__str__())\n",
    "        print(len(process_queue.trial))\n",
    "        print(process_queue.param)\n",
    "    "
   ]
  },
  {
   "cell_type": "code",
   "execution_count": 9,
   "metadata": {},
   "outputs": [],
   "source": [
    "df_train=pd.read_pickle(f'{file_folder}/df_train2.gzde', compression='gzip')\n",
    "df_test=pd.read_pickle(f'{file_folder}/df_test2.gzde', compression='gzip')\n",
    "df_train['y'] = df_train['scalar_coupling_constant']"
   ]
  },
  {
   "cell_type": "code",
   "execution_count": 14,
   "metadata": {},
   "outputs": [],
   "source": [
    "columns_list = [\n",
    "{'columns': ['dist_C_3_y', 'eem_0', 'tertiary_angle_1', 'dist_C_4_x', 'dist_O_1_x', 'dist_C_4_y', 'inv_dist1', 'dist_H_0_x', 'inv_dist0R', 'min_molecule_atom_1_dist_xyz', 'cos_center1', 'dist_N_0_x', 'dist_C_2_y', 'dist_C_3_x', 'inv_dist1R', 'tertiary_atom_1', 'dist_O_0_y', 'vander_H.x', 'dist_H_3_y', 'tertiary_distance_0', 'max_molecule_atom_1_dist_xyz', 'dist_O_0_x', 'inv_distPR', 'tertiary_angle_3', 'tertiary_angle_2', 'dist_O_1_y', 'tertiary_distance_1', 'dist_C_1_y', 'tertiary_angle_4', 'yukawa_H.y', 'tertiary_distance_2', 'adC2', 'dist_H_1_x', 'atom_1_bond_lengths_std', 'dist_H_1_y', 'molecule_atom_index_0_dist_max_diff', 'dist_N_0_y', 'tertiary_distance_5', 'dist_H_0_y', 'dist_to_type_std', 'atom_index_1_cycle_size_mean', 'adN1', 'dist_1_pos_1', 'dist_to_type_mean', 'dist_C_0_x', 'adC3', 'eem_1', 'atom_1_bond_lengths_mean', 'dist_H_2_x', 'molecule_atom_index_1_dist_min_diff', 'atom_1_n_bonds', 'cos_f0', 'tertiary_distance_3', 'dist_C_2_x', 'tertiary_angle_0', 'tertiary_atom_0', 'atom_1_bond_lengths_max', 'dist_H_2_y', 'dist_H_3_x', 'dist_to_type_0_mean', 'dist_1_neg_1', 'tertiary_distance_4', 'dist_to_type_1_mean', 'dist_C_0_y', 'yukawa_H.x', 'distC1', 'molecule_atom_index_0_dist_max_div'], 'cv': {'cls': 'GroupKFold', 'init': {'n_splits': 5}}, 'scaler': {'cls': 'StandardScaler', 'init': {}, 'fit': {}}, 'model': {'cls': 'lgb.LGBMRegressor', 'init': {'learning_rate': 0.2833769330240482, 'feature_fraction': 0.8818248470204605, 'bagging_fraction': 0.8205197060908092, 'min_data_in_leaf': 202, 'lambda_l1': 0.017039063121824582, 'lambda_l2': 0.8318702431636841, 'max_bin': 100, 'num_leaves': 255, 'random_state': 3895, 'n_jobs': 16}, 'fit': {}}, 'metric': 'mean_absolute_error'},\n",
    "{'columns': ['dist_H_0_y', 'min_molecule_atom_1_dist_xyz', 'inv_dist1R', 'dist_C_0_y', 'dist_C_1_y', 'inv_distP', 'atom_1_bond_lengths_mean', 'bond_atom', 'tertiary_angle_1', 'dist_H_0_x', 'atom_1_bond_lengths_std', 'dist_H_1_y', 'yukawa_H.y', 'eem_0', 'tertiary_angle_0', 'dist_C_2_x', 'tertiary_distance_0', 'vander_N.x', 'dist_O_0_y', 'dist_O_0_x', 'dist_1_neg_1', 'tertiary_atom_0', 'inv_dist1', 'dist_N_0_y', 'dist_N_1_x', 'vander_H.x', 'atom_index_1_cycle_size_mean', 'dist_N_0_x', 'dist_C_1_x', 'inv_distPR', 'dist_C_3_x', 'dist_H_1_x', 'adC3', 'dist_C_2_y', 'tertiary_distance_3', 'tertiary_angle_2', 'inv_dist0R', 'dist_to_type_0_mean', 'cos_f0', 'tertiary_distance_1', 'molecule_atom_index_0_dist_max_div', 'cos_center1', 'vander_N.y', 'dist_C_0_x', 'tertiary_distance_2', 'atom_1_bond_lengths_max', 'linkN', 'tertiary_distance_5', 'dist_C_3_y', 'molecule_atom_index_1_dist_max_div'], 'cv': {'cls': 'GroupKFold', 'init': {'n_splits': 5}}, 'scaler': {'cls': 'StandardScaler', 'init': {}, 'fit': {}}, 'model': {'cls': 'lgb.LGBMRegressor', 'init': {'learning_rate': 0.2833769330240482, 'feature_fraction': 0.8818248470204605, 'bagging_fraction': 0.8205197060908092, 'min_data_in_leaf': 202, 'lambda_l1': 0.017039063121824582, 'lambda_l2': 0.8318702431636841, 'max_bin': 100, 'num_leaves': 255, 'random_state': 3895, 'n_jobs': 16}, 'fit': {}}, 'metric': 'mean_absolute_error'},\n",
    "{'columns': ['dist_H_0_y', 'min_molecule_atom_1_dist_xyz', 'inv_dist1R', 'dist_C_0_y', 'dist_C_1_y', 'inv_distP', 'atom_1_bond_lengths_mean', 'bond_atom', 'tertiary_angle_1', 'dist_H_0_x', 'atom_1_bond_lengths_std', 'dist_H_1_y', 'yukawa_H.y', 'eem_0', 'tertiary_angle_0', 'dist_C_2_x', 'tertiary_distance_0', 'vander_N.x', 'dist_O_0_y', 'dist_O_0_x', 'dist_1_neg_1', 'tertiary_atom_0', 'inv_dist1', 'dist_N_0_y', 'dist_N_1_x', 'vander_H.x', 'atom_index_1_cycle_size_mean', 'dist_N_0_x', 'dist_C_1_x', 'inv_distPR', 'dist_C_3_x', 'dist_H_1_x', 'adC3', 'dist_C_2_y', 'tertiary_distance_3', 'tertiary_angle_2', 'inv_dist0R', 'dist_to_type_0_mean', 'cos_f0', 'tertiary_distance_1', 'molecule_atom_index_0_dist_max_div', 'cos_center1', 'vander_N.y', 'dist_C_0_x', 'tertiary_distance_2', 'atom_1_bond_lengths_max', 'linkN', 'tertiary_distance_5', 'dist_C_3_y', 'molecule_atom_index_1_dist_max_div'], 'cv': {'cls': 'GroupKFold', 'init': {'n_splits': 5}}, 'scaler': {'cls': 'StandardScaler', 'init': {}, 'fit': {}}, 'model': {'cls': 'lgb.LGBMRegressor', 'init': {'learning_rate': 0.2833769330240482, 'feature_fraction': 0.8818248470204605, 'bagging_fraction': 0.8205197060908092, 'min_data_in_leaf': 202, 'lambda_l1': 0.017039063121824582, 'lambda_l2': 0.8318702431636841, 'max_bin': 100, 'num_leaves': 255, 'random_state': 3895, 'n_jobs': 16}, 'fit': {}}, 'metric': 'mean_absolute_error'},\n",
    "{'columns': ['dist_N_0_y', 'adC1', 'dist_H_0_y', 'link0', 'tertiary_angle_1', 'inv_distP', 'dist_C_3_y', 'inv_distPE', 'dist_H_0_x', 'dist_to_type_std', 'cos_c1', 'inv_dist0R', 'adN1', 'dist_N_0_x', 'dist_C_2_y', 'dist_C_1_x', 'dist_to_type_mean', 'dist_C_3_x', 'cos_f1', 'dist_C_0_x', 'distance_c1', 'adC3', 'tertiary_atom_1', 'molecule_atom_index_1_dist_mean', 'cos_f0', 'tertiary_atom_2', 'dist_H_3_y', 'dist_C_2_x', 'tertiary_angle_0', 'max_distance_y', 'dist_O_0_x', 'coulomb_H.y', 'dist_H_2_y', 'molecule_atom_index_0_dist_min_diff', 'cos_c0', 'tertiary_angle_3', 'dist_H_3_x', 'tertiary_angle_2', 'dist_xyz', 'dist_to_type_0_mean', 'tertiary_distance_1', 'dist_C_1_y', 'yukawa_H.y', 'tertiary_distance_4', 'tertiary_distance_2', 'adC2', 'dist_to_type_1_mean', 'molecule_atom_index_0_dist_min_div', 'dist_C_0_y', 'yukawa_H.x', 'molecule_dist_min', 'dist_H_1_x', 'cos_c0_c1', 'dist_H_1_y', 'cos_f0_f1', 'dist_O_0_y', 'mean_molecule_atom_0_dist_xyz'], 'cv': {'cls': 'GroupKFold', 'init': {'n_splits': 5}}, 'scaler': {'cls': 'StandardScaler', 'init': {}, 'fit': {}}, 'model': {'cls': 'lgb.LGBMRegressor', 'init': {'learning_rate': 0.2833769330240482, 'feature_fraction': 0.8818248470204605, 'bagging_fraction': 0.8205197060908092, 'min_data_in_leaf': 202, 'lambda_l1': 0.017039063121824582, 'lambda_l2': 0.8318702431636841, 'max_bin': 100, 'num_leaves': 255, 'random_state': 3895, 'n_jobs': 16}, 'fit': {}}, 'metric': 'mean_absolute_error'},\n",
    "{'columns': ['dist_N_0_y', 'adC1', 'dist_H_0_y', 'link0', 'tertiary_angle_1', 'inv_distP', 'dist_C_3_y', 'inv_distPE', 'dist_H_0_x', 'dist_to_type_std', 'cos_c1', 'inv_dist0R', 'adN1', 'dist_N_0_x', 'dist_C_2_y', 'dist_C_1_x', 'dist_to_type_mean', 'dist_C_3_x', 'cos_f1', 'dist_C_0_x', 'distance_c1', 'adC3', 'tertiary_atom_1', 'molecule_atom_index_1_dist_mean', 'cos_f0', 'tertiary_atom_2', 'dist_H_3_y', 'dist_C_2_x', 'tertiary_angle_0', 'max_distance_y', 'dist_O_0_x', 'coulomb_H.y', 'dist_H_2_y', 'molecule_atom_index_0_dist_min_diff', 'cos_c0', 'tertiary_angle_3', 'dist_H_3_x', 'tertiary_angle_2', 'dist_xyz', 'dist_to_type_0_mean', 'tertiary_distance_1', 'dist_C_1_y', 'yukawa_H.y', 'tertiary_distance_4', 'tertiary_distance_2', 'adC2', 'dist_to_type_1_mean', 'molecule_atom_index_0_dist_min_div', 'dist_C_0_y', 'yukawa_H.x', 'molecule_dist_min', 'dist_H_1_x', 'cos_c0_c1', 'dist_H_1_y', 'cos_f0_f1', 'dist_O_0_y', 'mean_molecule_atom_0_dist_xyz'], 'cv': {'cls': 'GroupKFold', 'init': {'n_splits': 5}}, 'scaler': {'cls': 'StandardScaler', 'init': {}, 'fit': {}}, 'model': {'cls': 'lgb.LGBMRegressor', 'init': {'learning_rate': 0.2833769330240482, 'feature_fraction': 0.8818248470204605, 'bagging_fraction': 0.8205197060908092, 'min_data_in_leaf': 202, 'lambda_l1': 0.017039063121824582, 'lambda_l2': 0.8318702431636841, 'max_bin': 100, 'num_leaves': 255, 'random_state': 3895, 'n_jobs': 16}, 'fit': {}}, 'metric': 'mean_absolute_error'},\n",
    "{'columns': ['dist_N_0_y', 'adC1', 'dist_H_0_y', 'link0', 'tertiary_angle_1', 'inv_distP', 'dist_C_3_y', 'inv_distPE', 'dist_H_0_x', 'dist_to_type_std', 'cos_c1', 'inv_dist0R', 'adN1', 'dist_N_0_x', 'dist_C_2_y', 'dist_C_1_x', 'dist_to_type_mean', 'dist_C_3_x', 'cos_f1', 'dist_C_0_x', 'distance_c1', 'adC3', 'tertiary_atom_1', 'molecule_atom_index_1_dist_mean', 'cos_f0', 'tertiary_atom_2', 'dist_H_3_y', 'dist_C_2_x', 'tertiary_angle_0', 'max_distance_y', 'dist_O_0_x', 'coulomb_H.y', 'dist_H_2_y', 'molecule_atom_index_0_dist_min_diff', 'cos_c0', 'tertiary_angle_3', 'dist_H_3_x', 'tertiary_angle_2', 'dist_xyz', 'dist_to_type_0_mean', 'tertiary_distance_1', 'dist_C_1_y', 'yukawa_H.y', 'tertiary_distance_4', 'tertiary_distance_2', 'adC2', 'dist_to_type_1_mean', 'molecule_atom_index_0_dist_min_div', 'dist_C_0_y', 'yukawa_H.x', 'molecule_dist_min', 'dist_H_1_x', 'cos_c0_c1', 'dist_H_1_y', 'cos_f0_f1', 'dist_O_0_y', 'mean_molecule_atom_0_dist_xyz'], 'cv': {'cls': 'GroupKFold', 'init': {'n_splits': 5}}, 'scaler': {'cls': 'StandardScaler', 'init': {}, 'fit': {}}, 'model': {'cls': 'lgb.LGBMRegressor', 'init': {'learning_rate': 0.2833769330240482, 'feature_fraction': 0.8818248470204605, 'bagging_fraction': 0.8205197060908092, 'min_data_in_leaf': 202, 'lambda_l1': 0.017039063121824582, 'lambda_l2': 0.8318702431636841, 'max_bin': 100, 'num_leaves': 255, 'random_state': 3895, 'n_jobs': 16}, 'fit': {}}, 'metric': 'mean_absolute_error'},\n",
    "{'columns': ['dist_C_2_y', 'dist_to_type_std', 'tertiary_angle_3', 'molecule_atom_index_0_dist_min_diff', 'cos_c0', 'dist_to_type_1_mean', 'inv_dist1E', 'adN1', 'dist_N_0_y', 'molecule_atom_index_1_dist_max_diff', 'dist_to_type_mean', 'tertiary_distance_2', 'max_molecule_atom_1_dist_xyz', 'tertiary_angle_2', 'molecule_atom_index_0_dist_max_diff', 'max_distance_y', 'tertiary_atom_0', 'dist_H_0_y', 'dist_H_2_y', 'dist_C_0_y', 'dist_C_1_y', 'max_molecule_atom_0_dist_xyz', 'cos_f0', 'adC3', 'distH0', 'dist_to_type_0_mean', 'dist_H_0_x', 'tertiary_distance_1', 'dist_H_1_y', 'tertiary_atom_2', 'dist_C_2_x', 'dihedral', 'tertiary_angle_1', 'tertiary_atom_1', 'molecule_atom_index_0_dist_min_div', 'cos_c1', 'distance_c1', 'dist_C_0_x', 'dist_O_0_x', 'tertiary_angle_0', 'dist_C_3_y', 'cos_f1', 'dist_O_0_y', 'tertiary_distance_3', 'dist_C_1_x', 'atom_index_closest_1', 'adC2', 'cos_c0_c1'], 'cv': {'cls': 'GroupKFold', 'init': {'n_splits': 5}}, 'scaler': {'cls': 'StandardScaler', 'init': {}, 'fit': {}}, 'model': {'cls': 'lgb.LGBMRegressor', 'init': {'learning_rate': 0.2833769330240482, 'feature_fraction': 0.8818248470204605, 'bagging_fraction': 0.8205197060908092, 'min_data_in_leaf': 202, 'lambda_l1': 0.017039063121824582, 'lambda_l2': 0.8318702431636841, 'max_bin': 100, 'num_leaves': 255, 'random_state': 3895, 'n_jobs': 16}, 'fit': {}}, 'metric': 'mean_absolute_error'},\n",
    "{'columns': ['dist_C_3_y', 'adC1', 'tertiary_angle_1', 'dist_H_0_y', 'dist_to_type_std', 'atom_index_1_cycle_size_mean', 'cos_c1', 'molecule_atom_index_0_dist_std_diff', 'dist_N_0_x', 'dist_C_1_x', 'dist_C_2_y', 'dist_C_3_x', 'tertiary_atom_1', 'atom_1_bond_lengths_mean', 'atom_1_n_bonds', 'cos_f0', 'tertiary_distance_3', 'dist_C_2_x', 'tertiary_angle_0', 'atom_0_bond_lengths_max', 'dist_O_0_x', 'molecule_atom_index_0_dist_min_diff', 'cos_c0', 'tertiary_angle_3', 'tertiary_angle_2', 'tertiary_distance_1', 'dist_C_1_y', 'tertiary_distance_2', 'molecule_atom_index_0_dist_min_div', 'dist_to_type_1_mean', 'dist_C_0_y', 'max_molecule_atom_0_dist_xyz', 'dist_H_1_x', 'atom_1_bond_lengths_std', 'cos_c0_c1', 'dist_O_0_y', 'mean_molecule_atom_0_dist_xyz'], 'cv': {'cls': 'GroupKFold', 'init': {'n_splits': 5}}, 'scaler': {'cls': 'StandardScaler', 'init': {}, 'fit': {}}, 'model': {'cls': 'lgb.LGBMRegressor', 'init': {'learning_rate': 0.2833769330240482, 'feature_fraction': 0.8818248470204605, 'bagging_fraction': 0.8205197060908092, 'min_data_in_leaf': 202, 'lambda_l1': 0.017039063121824582, 'lambda_l2': 0.8318702431636841, 'max_bin': 100, 'num_leaves': 255, 'random_state': 3895, 'n_jobs': 16}, 'fit': {}}, 'metric': 'mean_absolute_error'},\n",
    "]"
   ]
  },
  {
   "cell_type": "code",
   "execution_count": 15,
   "metadata": {},
   "outputs": [],
   "source": [
    "mytrial=[]\n",
    "df_his, df_feature_importances, df_valid_pred, df_test_pred = pd.DataFrame(), pd.DataFrame(),pd.DataFrame(),pd.DataFrame()\n",
    "for t in  df_train.type.unique().tolist():\n",
    "    df_his_i, df_feature_importances_i, df_valid_pred_i, df_test_pred_i =  sk_process(df_train[df_train['type']==t].reset_index(drop=True), columns_list[t], f'modeling for {t}', df_test=df_test[df_test['type']==t].reset_index(drop=True), trial=mytrial, is_output_feature_importance=False, trial_level=1)\n",
    "    df_his = pd.concat([df_his, df_his_i], axis=0)\n",
    "    df_feature_importances = pd.concat([df_feature_importances, df_feature_importances_i], axis=0)\n",
    "    df_valid_pred = pd.concat([df_valid_pred, df_valid_pred_i], axis=0)\n",
    "    df_test_pred = pd.concat([df_test_pred, df_test_pred_i], axis=0)\n",
    "\n",
    "df_valid_pred = df_valid_pred.sort_values(by=['index']).reset_index(drop=True)\n",
    "df_test_pred = df_test_pred.sort_values(by=['index']).reset_index(drop=True)"
   ]
  },
  {
   "cell_type": "code",
   "execution_count": 1,
   "metadata": {},
   "outputs": [],
   "source": [
    "# df_trial = pd.DataFrame(mytrial)\n",
    "# df_trial[['datetime', 'message', 'nfeatures', 'train_metric_mean', 'val_metric_mean', 'trn_val_metric_diff', 'message']]"
   ]
  },
  {
   "cell_type": "code",
   "execution_count": 13,
   "metadata": {},
   "outputs": [
    {
     "name": "stdout",
     "output_type": "stream",
     "text": [
      "0.46002675694877715\n",
      "0 0.9396508899993137\n",
      "3 0.19993346218512523\n",
      "1 0.43385297186382876\n",
      "4 0.2349290397789158\n",
      "2 0.44128424079965317\n",
      "6 0.22103501825466695\n",
      "5 0.4610286745311185\n",
      "7 0.14194919234848902\n"
     ]
    }
   ],
   "source": [
    "print(mean_absolute_error(df_valid_pred.sort_values(by=['index']).reset_index(drop=True).predict.values, df_train.reset_index(drop=True).y.values))\n",
    "for t in df_train.type.unique().tolist():\n",
    "    index = df_train[df_train['type']==t]['index'].values\n",
    "    print(t, mean_absolute_error(df_valid_pred[df_valid_pred['index'].isin(index)].sort_values(by=['index']).reset_index(drop=True).predict.values, df_train[df_train['index'].isin(index)].reset_index(drop=True).y.values))"
   ]
  },
  {
   "cell_type": "code",
   "execution_count": 18,
   "metadata": {},
   "outputs": [],
   "source": [
    "idx=0.448\n",
    "# df_test_pred = df_trial.loc[idx]['df_test_pred']\n",
    "df_submit = pd.DataFrame()\n",
    "df_submit['scalar_coupling_constant'] = np.mean(df_test_pred.drop(columns=['index']).values, axis=1)\n",
    "df_submit['id'] = df_test_pred['index']\n",
    "df_submit.to_csv('../../data/submission/submission_lgbm_{}.csv'.format(idx), index=False)"
   ]
  },
  {
   "cell_type": "code",
   "execution_count": null,
   "metadata": {},
   "outputs": [],
   "source": []
  }
 ],
 "metadata": {
  "kernelspec": {
   "display_name": "Environment (conda_tensorflow_gpu_p36)",
   "language": "python",
   "name": "conda_tensorflow_gpu_p36"
  },
  "language_info": {
   "codemirror_mode": {
    "name": "ipython",
    "version": 3
   },
   "file_extension": ".py",
   "mimetype": "text/x-python",
   "name": "python",
   "nbconvert_exporter": "python",
   "pygments_lexer": "ipython3",
   "version": "3.6.7"
  }
 },
 "nbformat": 4,
 "nbformat_minor": 2
}
