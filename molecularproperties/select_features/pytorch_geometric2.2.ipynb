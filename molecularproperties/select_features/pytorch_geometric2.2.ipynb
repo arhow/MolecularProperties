{
 "cells": [
  {
   "cell_type": "code",
   "execution_count": 1,
   "metadata": {},
   "outputs": [
    {
     "data": {
      "text/html": [
       "<style>\n",
       "   div#notebook-container    { width: 95%; }\n",
       "   div#menubar-container     { width: 65%; }\n",
       "   div#maintoolbar-container { width: 99%; }\n",
       "</style>"
      ],
      "text/plain": [
       "<IPython.core.display.HTML object>"
      ]
     },
     "metadata": {},
     "output_type": "display_data"
    }
   ],
   "source": [
    "%%HTML\n",
    "<style>\n",
    "   div#notebook-container    { width: 95%; }\n",
    "   div#menubar-container     { width: 65%; }\n",
    "   div#maintoolbar-container { width: 99%; }\n",
    "</style>"
   ]
  },
  {
   "cell_type": "code",
   "execution_count": 6,
   "metadata": {
    "scrolled": false
   },
   "outputs": [],
   "source": [
    "# !{sys.executable} -m pip install dscribe"
   ]
  },
  {
   "cell_type": "code",
   "execution_count": 1,
   "metadata": {},
   "outputs": [],
   "source": [
    "# !conda install -c conda-forge rdkit -y"
   ]
  },
  {
   "cell_type": "code",
   "execution_count": 2,
   "metadata": {},
   "outputs": [],
   "source": [
    "import sys\n",
    "sys.path.append(\"../..\") # Adds higher directory to python modules path.\n",
    "from utilities import aggregate_feature_calculators\n",
    "from utilities import aggregate_feature_calculators_setting as aggcal\n",
    "from utilities.parallel import Parallel"
   ]
  },
  {
   "cell_type": "code",
   "execution_count": 3,
   "metadata": {},
   "outputs": [],
   "source": [
    "from pytorch_geometric2 import *"
   ]
  },
  {
   "cell_type": "code",
   "execution_count": 4,
   "metadata": {},
   "outputs": [],
   "source": [
    "import pandas as pd\n",
    "import numpy as np\n",
    "import os\n",
    "import os.path as osp\n",
    "import datetime\n",
    "import random\n",
    "\n",
    "# import seaborn as sns\n",
    "import matplotlib.pyplot as plt\n",
    "\n",
    "from tqdm import tqdm_notebook\n",
    "\n",
    "from sklearn.preprocessing import LabelEncoder\n",
    "from sklearn.model_selection import StratifiedKFold, KFold, GroupKFold, TimeSeriesSplit\n",
    "from sklearn.metrics import mean_absolute_error, mean_squared_error\n",
    "from sklearn.model_selection import train_test_split\n",
    "\n",
    "# from torch_geometric.data import Data, DataLoader\n",
    "# import torch\n",
    "# import torch.nn.functional as F\n",
    "# from torch_geometric.datasets import Planetoid\n",
    "# from torch_geometric.datasets import QM9\n",
    "# from torch_geometric.datasets import TUDataset\n",
    "# import torch_geometric.transforms as T\n",
    "# from torch_geometric.nn import GCNConv, ChebConv  # noqa\n",
    "# from torch.nn import Sequential, Linear, ReLU, GRU\n",
    "# import torch_geometric.transforms as T\n",
    "# from torch_geometric.datasets import QM9\n",
    "# from torch_geometric.nn import NNConv, Set2Set\n",
    "# from torch_geometric.data import DataLoader\n",
    "# from torch_geometric.utils import remove_self_loops\n",
    "# from torch_geometric.data import Data\n",
    "\n",
    "from torch.utils.data import DataLoader"
   ]
  },
  {
   "cell_type": "code",
   "execution_count": 5,
   "metadata": {},
   "outputs": [],
   "source": [
    "import lightgbm as lgb\n",
    "import xgboost as xgb\n",
    "from catboost import CatBoostRegressor\n",
    "from sklearn.preprocessing import LabelEncoder\n",
    "from sklearn.model_selection import StratifiedKFold, KFold, RepeatedKFold,TimeSeriesSplit, GroupKFold\n",
    "from sklearn.model_selection import train_test_split\n",
    "from sklearn import linear_model\n",
    "from sklearn.preprocessing import StandardScaler\n",
    "from sklearn.svm import NuSVR, SVR"
   ]
  },
  {
   "cell_type": "code",
   "execution_count": 6,
   "metadata": {},
   "outputs": [
    {
     "data": {
      "text/plain": [
       "['sample_submission.csv',\n",
       " 'magnetic_shielding_tensors.csv',\n",
       " 'potential_energy.csv',\n",
       " 'scalar_coupling_contributions.csv',\n",
       " 'dipole_moments.csv',\n",
       " 'mulliken_charges.csv',\n",
       " 'train.csv',\n",
       " 'test.csv',\n",
       " 'structures.csv',\n",
       " 'structures']"
      ]
     },
     "execution_count": 6,
     "metadata": {},
     "output_type": "execute_result"
    }
   ],
   "source": [
    "file_folder = '../../data/input'\n",
    "os.listdir(file_folder)"
   ]
  },
  {
   "cell_type": "code",
   "execution_count": 7,
   "metadata": {},
   "outputs": [],
   "source": [
    "graph_dir='../../data/temp/pytorch_geometric2'"
   ]
  },
  {
   "cell_type": "code",
   "execution_count": null,
   "metadata": {},
   "outputs": [],
   "source": []
  },
  {
   "cell_type": "code",
   "execution_count": null,
   "metadata": {},
   "outputs": [],
   "source": []
  },
  {
   "cell_type": "code",
   "execution_count": null,
   "metadata": {},
   "outputs": [],
   "source": []
  },
  {
   "cell_type": "code",
   "execution_count": null,
   "metadata": {},
   "outputs": [],
   "source": []
  },
  {
   "cell_type": "code",
   "execution_count": 6,
   "metadata": {},
   "outputs": [],
   "source": [
    "# run_convert_to_graph(graph_dir='../../data/temp/pytorch_geometric2', csv_dir=file_folder)"
   ]
  },
  {
   "cell_type": "code",
   "execution_count": 8,
   "metadata": {},
   "outputs": [],
   "source": [
    "train = pd.read_csv(f'{file_folder}/train.csv')"
   ]
  },
  {
   "cell_type": "code",
   "execution_count": 9,
   "metadata": {},
   "outputs": [],
   "source": [
    "test = pd.read_csv(f'{file_folder}/train.csv')"
   ]
  },
  {
   "cell_type": "code",
   "execution_count": 10,
   "metadata": {},
   "outputs": [],
   "source": [
    "molecule_names_test = test.molecule_name.unique().tolist()"
   ]
  },
  {
   "cell_type": "code",
   "execution_count": 11,
   "metadata": {},
   "outputs": [],
   "source": [
    "molecule_names = train.molecule_name.unique().tolist()"
   ]
  },
  {
   "cell_type": "code",
   "execution_count": 12,
   "metadata": {},
   "outputs": [],
   "source": [
    "from torch_geometric.utils import scatter_\n",
    "from torch_scatter import *\n",
    "\n",
    "\n",
    "def train(net, schduler, optimizer, train_loader, valid_loader):\n",
    "#     start = timer()\n",
    "\n",
    "#     num_iters   = 3000  *1000\n",
    "#     train_loss   = np.zeros(20,np.float32)\n",
    "#     valid_loss   = np.zeros(20,np.float32)\n",
    "#     batch_loss   = np.zeros(20,np.float32)\n",
    "\n",
    "#     iter_smooth = 50\n",
    "#     iter_accum  = 1\n",
    "#     iter_valid  = 500\n",
    "#     start_epoch= 0\n",
    "#     start_iter = 0\n",
    "#     iter_ = 0\n",
    "#     i    = 0\n",
    "    \n",
    "    \n",
    "    epochs = 100\n",
    "    iter_accum=1\n",
    "    iter_ = 0\n",
    "    for epoch in range(epochs):\n",
    "        train_loss = 0\n",
    "        optimizer.zero_grad()\n",
    "        for node, edge, edge_index, node_index, coupling_value, coupling_index, infor in train_loader:\n",
    "            # learning rate schduler -------------\n",
    "            lr = schduler(iter_)\n",
    "            if lr<0 : break\n",
    "            adjust_learning_rate(optimizer, lr)\n",
    "            rate = get_learning_rate(optimizer)\n",
    "            \n",
    "            net.train()\n",
    "            node = node.cuda()\n",
    "            edge = edge.cuda()\n",
    "            edge_index = edge_index.cuda()\n",
    "            node_index = node_index.cuda()\n",
    "            coupling_value = coupling_value.cuda()\n",
    "            coupling_index = coupling_index.cuda()\n",
    "            predict = net(node, edge, edge_index, node_index, coupling_index)\n",
    "            loss = criterion(predict, coupling_value)\n",
    "            \n",
    "            (loss/iter_accum).backward()\n",
    "            if (iter_ % iter_accum)==0:\n",
    "                optimizer.step()\n",
    "                optimizer.zero_grad()\n",
    "            train_loss += loss.item()\n",
    "            \n",
    "            iter_ += 1\n",
    "            \n",
    "        train_loss /= len(infor)\n",
    "        valid_loss = do_valid(net, valid_loader)\n",
    "        print(f'epoch {epoch}, train_loss {train_loss}, valid_loss{valid_loss}')\n",
    "\n",
    "\n",
    "def do_valid(net, valid_loader):\n",
    "\n",
    "    valid_num = 0\n",
    "    valid_predict = []\n",
    "    valid_coupling_type  = []\n",
    "    valid_coupling_value = []\n",
    "\n",
    "    valid_loss = 0\n",
    "    for b, (node, edge, edge_index, node_index, coupling_value, coupling_index, infor) in enumerate(valid_loader):\n",
    "\n",
    "        #if b==5: break\n",
    "        net.eval()\n",
    "        node = node.cuda()\n",
    "        edge = edge.cuda()\n",
    "        edge_index = edge_index.cuda()\n",
    "        node_index = node_index.cuda()\n",
    "\n",
    "        coupling_value = coupling_value.cuda()\n",
    "        coupling_index = coupling_index.cuda()\n",
    "\n",
    "        with torch.no_grad():\n",
    "            predict = net(node, edge, edge_index, node_index, coupling_index)\n",
    "            loss = criterion(predict, coupling_value)\n",
    "\n",
    "        #---\n",
    "        batch_size = len(infor)\n",
    "        valid_predict.append(predict.data.cpu().numpy())\n",
    "        valid_coupling_type.append(coupling_index[:,2].data.cpu().numpy())\n",
    "        valid_coupling_value.append(coupling_value.data.cpu().numpy())\n",
    "\n",
    "        valid_loss += batch_size*loss.item()\n",
    "        valid_num  += batch_size\n",
    "\n",
    "        print('\\r %8d /%8d'%(valid_num, len(valid_loader.dataset)),end='',flush=True)\n",
    "\n",
    "        pass  #-- end of one data loader --\n",
    "    print(valid_num,len(valid_loader.dataset) )\n",
    "#     assert(valid_num == len(valid_loader.dataset))\n",
    "    #print('')\n",
    "    valid_loss = valid_loss/valid_num\n",
    "\n",
    "    #compute\n",
    "    predict = np.concatenate(valid_predict)\n",
    "    coupling_value = np.concatenate(valid_coupling_value)\n",
    "    coupling_type  = np.concatenate(valid_coupling_type).astype(np.int32)\n",
    "    mae, log_mae   = compute_kaggle_metric( predict, coupling_value, coupling_type,)\n",
    "\n",
    "    num_target = NUM_COUPLING_TYPE\n",
    "    for t in range(NUM_COUPLING_TYPE):\n",
    "        if mae[t] is None:\n",
    "            mae[t] = 0\n",
    "            log_mae[t]  = 0\n",
    "            num_target -= 1\n",
    "\n",
    "    mae_mean, log_mae_mean = np.sum(mae)/num_target, np.sum(log_mae)/num_target\n",
    "    #list(np.stack([mae, log_mae]).T.reshape(-1))\n",
    "\n",
    "    valid_loss = log_mae + [valid_loss,mae_mean, log_mae_mean, ]\n",
    "    return valid_loss\n",
    "\n",
    "def adjust_learning_rate(optimizer, lr):\n",
    "    for param_group in optimizer.param_groups:\n",
    "        param_group['lr'] = lr\n",
    "\n",
    "def get_learning_rate(optimizer):\n",
    "    lr=[]\n",
    "    for param_group in optimizer.param_groups:\n",
    "        lr +=[ param_group['lr'] ]\n",
    "\n",
    "    assert(len(lr)==1) #we support only one param_group\n",
    "    lr = lr[0]\n",
    "\n",
    "    return lr\n",
    "\n",
    "def criterion(predict, truth):\n",
    "    predict = predict.view(-1)\n",
    "    truth   = truth.view(-1)\n",
    "    assert(predict.shape==truth.shape)\n",
    "\n",
    "    loss = torch.abs(predict-truth)\n",
    "    loss = loss.mean()\n",
    "    loss = torch.log(loss)\n",
    "    return loss\n",
    "\n",
    "\n",
    "def criterion_mae(predict, truth):\n",
    "    predict = predict.view(-1)\n",
    "    truth   = truth.view(-1)\n",
    "    assert(predict.shape==truth.shape)\n",
    "\n",
    "    loss = torch.abs(predict-truth)\n",
    "    loss = loss.mean()\n",
    "#     loss = torch.log(loss)\n",
    "    return loss"
   ]
  },
  {
   "cell_type": "code",
   "execution_count": 25,
   "metadata": {},
   "outputs": [
    {
     "ename": "RuntimeError",
     "evalue": "CUDA out of memory. Tried to allocate 62.00 MiB (GPU 0; 7.44 GiB total capacity; 328.14 MiB already allocated; 45.31 MiB free; 7.86 MiB cached)",
     "output_type": "error",
     "traceback": [
      "\u001b[0;31m---------------------------------------------------------------------------\u001b[0m",
      "\u001b[0;31mRuntimeError\u001b[0m                              Traceback (most recent call last)",
      "\u001b[0;32m<ipython-input-25-335c1fb6b092>\u001b[0m in \u001b[0;36m<module>\u001b[0;34m()\u001b[0m\n\u001b[1;32m     24\u001b[0m     \u001b[0moptimizer\u001b[0m \u001b[0;34m=\u001b[0m \u001b[0mtorch\u001b[0m\u001b[0;34m.\u001b[0m\u001b[0moptim\u001b[0m\u001b[0;34m.\u001b[0m\u001b[0mAdam\u001b[0m\u001b[0;34m(\u001b[0m\u001b[0mfilter\u001b[0m\u001b[0;34m(\u001b[0m\u001b[0;32mlambda\u001b[0m \u001b[0mp\u001b[0m\u001b[0;34m:\u001b[0m \u001b[0mp\u001b[0m\u001b[0;34m.\u001b[0m\u001b[0mrequires_grad\u001b[0m\u001b[0;34m,\u001b[0m \u001b[0mnet\u001b[0m\u001b[0;34m.\u001b[0m\u001b[0mparameters\u001b[0m\u001b[0;34m(\u001b[0m\u001b[0;34m)\u001b[0m\u001b[0;34m)\u001b[0m\u001b[0;34m,\u001b[0m\u001b[0mlr\u001b[0m\u001b[0;34m=\u001b[0m\u001b[0mschduler\u001b[0m\u001b[0;34m(\u001b[0m\u001b[0;36m0\u001b[0m\u001b[0;34m)\u001b[0m\u001b[0;34m)\u001b[0m\u001b[0;34m\u001b[0m\u001b[0;34m\u001b[0m\u001b[0m\n\u001b[1;32m     25\u001b[0m \u001b[0;34m\u001b[0m\u001b[0m\n\u001b[0;32m---> 26\u001b[0;31m     \u001b[0mtrain2\u001b[0m\u001b[0;34m(\u001b[0m\u001b[0mnet\u001b[0m\u001b[0;34m,\u001b[0m \u001b[0mschduler\u001b[0m\u001b[0;34m,\u001b[0m \u001b[0moptimizer\u001b[0m\u001b[0;34m,\u001b[0m \u001b[0mtrain_loader\u001b[0m\u001b[0;34m,\u001b[0m \u001b[0mvalid_loader\u001b[0m\u001b[0;34m)\u001b[0m\u001b[0;34m\u001b[0m\u001b[0;34m\u001b[0m\u001b[0m\n\u001b[0m\u001b[1;32m     27\u001b[0m \u001b[0;34m\u001b[0m\u001b[0m\n\u001b[1;32m     28\u001b[0m     \u001b[0;32mbreak\u001b[0m\u001b[0;34m\u001b[0m\u001b[0;34m\u001b[0m\u001b[0m\n",
      "\u001b[0;32m<ipython-input-23-d15cd3ac5a38>\u001b[0m in \u001b[0;36mtrain2\u001b[0;34m(net, schduler, optimizer, train_loader, valid_loader)\u001b[0m\n\u001b[1;32m     28\u001b[0m             \u001b[0mcoupling_index\u001b[0m \u001b[0;34m=\u001b[0m \u001b[0mcoupling_index\u001b[0m\u001b[0;34m.\u001b[0m\u001b[0mcuda\u001b[0m\u001b[0;34m(\u001b[0m\u001b[0;34m)\u001b[0m\u001b[0;34m\u001b[0m\u001b[0;34m\u001b[0m\u001b[0m\n\u001b[1;32m     29\u001b[0m \u001b[0;34m\u001b[0m\u001b[0m\n\u001b[0;32m---> 30\u001b[0;31m             \u001b[0mpredict\u001b[0m \u001b[0;34m=\u001b[0m \u001b[0mnet\u001b[0m\u001b[0;34m(\u001b[0m\u001b[0mnode\u001b[0m\u001b[0;34m,\u001b[0m \u001b[0medge\u001b[0m\u001b[0;34m,\u001b[0m \u001b[0medge_index\u001b[0m\u001b[0;34m,\u001b[0m \u001b[0mnode_index\u001b[0m\u001b[0;34m,\u001b[0m \u001b[0mcoupling_index\u001b[0m\u001b[0;34m)\u001b[0m\u001b[0;34m\u001b[0m\u001b[0;34m\u001b[0m\u001b[0m\n\u001b[0m\u001b[1;32m     31\u001b[0m \u001b[0;34m\u001b[0m\u001b[0m\n\u001b[1;32m     32\u001b[0m             \u001b[0moptimizer\u001b[0m\u001b[0;34m.\u001b[0m\u001b[0mzero_grad\u001b[0m\u001b[0;34m(\u001b[0m\u001b[0;34m)\u001b[0m\u001b[0;34m\u001b[0m\u001b[0;34m\u001b[0m\u001b[0m\n",
      "\u001b[0;32m~/anaconda3/envs/tensorflow_gpu_p36/lib/python3.6/site-packages/torch/nn/modules/module.py\u001b[0m in \u001b[0;36m__call__\u001b[0;34m(self, *input, **kwargs)\u001b[0m\n\u001b[1;32m    491\u001b[0m             \u001b[0mresult\u001b[0m \u001b[0;34m=\u001b[0m \u001b[0mself\u001b[0m\u001b[0;34m.\u001b[0m\u001b[0m_slow_forward\u001b[0m\u001b[0;34m(\u001b[0m\u001b[0;34m*\u001b[0m\u001b[0minput\u001b[0m\u001b[0;34m,\u001b[0m \u001b[0;34m**\u001b[0m\u001b[0mkwargs\u001b[0m\u001b[0;34m)\u001b[0m\u001b[0;34m\u001b[0m\u001b[0;34m\u001b[0m\u001b[0m\n\u001b[1;32m    492\u001b[0m         \u001b[0;32melse\u001b[0m\u001b[0;34m:\u001b[0m\u001b[0;34m\u001b[0m\u001b[0;34m\u001b[0m\u001b[0m\n\u001b[0;32m--> 493\u001b[0;31m             \u001b[0mresult\u001b[0m \u001b[0;34m=\u001b[0m \u001b[0mself\u001b[0m\u001b[0;34m.\u001b[0m\u001b[0mforward\u001b[0m\u001b[0;34m(\u001b[0m\u001b[0;34m*\u001b[0m\u001b[0minput\u001b[0m\u001b[0;34m,\u001b[0m \u001b[0;34m**\u001b[0m\u001b[0mkwargs\u001b[0m\u001b[0;34m)\u001b[0m\u001b[0;34m\u001b[0m\u001b[0;34m\u001b[0m\u001b[0m\n\u001b[0m\u001b[1;32m    494\u001b[0m         \u001b[0;32mfor\u001b[0m \u001b[0mhook\u001b[0m \u001b[0;32min\u001b[0m \u001b[0mself\u001b[0m\u001b[0;34m.\u001b[0m\u001b[0m_forward_hooks\u001b[0m\u001b[0;34m.\u001b[0m\u001b[0mvalues\u001b[0m\u001b[0;34m(\u001b[0m\u001b[0;34m)\u001b[0m\u001b[0;34m:\u001b[0m\u001b[0;34m\u001b[0m\u001b[0;34m\u001b[0m\u001b[0m\n\u001b[1;32m    495\u001b[0m             \u001b[0mhook_result\u001b[0m \u001b[0;34m=\u001b[0m \u001b[0mhook\u001b[0m\u001b[0;34m(\u001b[0m\u001b[0mself\u001b[0m\u001b[0;34m,\u001b[0m \u001b[0minput\u001b[0m\u001b[0;34m,\u001b[0m \u001b[0mresult\u001b[0m\u001b[0;34m)\u001b[0m\u001b[0;34m\u001b[0m\u001b[0;34m\u001b[0m\u001b[0m\n",
      "\u001b[0;32m<ipython-input-15-a5d65642a82f>\u001b[0m in \u001b[0;36mforward\u001b[0;34m(self, node, edge, edge_index, node_index, coupling_index)\u001b[0m\n\u001b[1;32m    145\u001b[0m \u001b[0;34m\u001b[0m\u001b[0m\n\u001b[1;32m    146\u001b[0m         \u001b[0;32mfor\u001b[0m \u001b[0mi\u001b[0m \u001b[0;32min\u001b[0m \u001b[0mrange\u001b[0m\u001b[0;34m(\u001b[0m\u001b[0mself\u001b[0m\u001b[0;34m.\u001b[0m\u001b[0mnum_propagate\u001b[0m\u001b[0;34m)\u001b[0m\u001b[0;34m:\u001b[0m\u001b[0;34m\u001b[0m\u001b[0;34m\u001b[0m\u001b[0m\n\u001b[0;32m--> 147\u001b[0;31m             \u001b[0mnode\u001b[0m\u001b[0;34m,\u001b[0m \u001b[0mhidden\u001b[0m \u001b[0;34m=\u001b[0m  \u001b[0mself\u001b[0m\u001b[0;34m.\u001b[0m\u001b[0mpropagate\u001b[0m\u001b[0;34m(\u001b[0m\u001b[0mnode\u001b[0m\u001b[0;34m,\u001b[0m \u001b[0medge_index\u001b[0m\u001b[0;34m,\u001b[0m \u001b[0medge\u001b[0m\u001b[0;34m,\u001b[0m \u001b[0mhidden\u001b[0m\u001b[0;34m)\u001b[0m\u001b[0;34m\u001b[0m\u001b[0;34m\u001b[0m\u001b[0m\n\u001b[0m\u001b[1;32m    148\u001b[0m \u001b[0;34m\u001b[0m\u001b[0m\n\u001b[1;32m    149\u001b[0m         \u001b[0mpool\u001b[0m \u001b[0;34m=\u001b[0m \u001b[0mself\u001b[0m\u001b[0;34m.\u001b[0m\u001b[0mset2set\u001b[0m\u001b[0;34m(\u001b[0m\u001b[0mnode\u001b[0m\u001b[0;34m,\u001b[0m \u001b[0mnode_index\u001b[0m\u001b[0;34m)\u001b[0m\u001b[0;34m\u001b[0m\u001b[0;34m\u001b[0m\u001b[0m\n",
      "\u001b[0;32m~/anaconda3/envs/tensorflow_gpu_p36/lib/python3.6/site-packages/torch/nn/modules/module.py\u001b[0m in \u001b[0;36m__call__\u001b[0;34m(self, *input, **kwargs)\u001b[0m\n\u001b[1;32m    491\u001b[0m             \u001b[0mresult\u001b[0m \u001b[0;34m=\u001b[0m \u001b[0mself\u001b[0m\u001b[0;34m.\u001b[0m\u001b[0m_slow_forward\u001b[0m\u001b[0;34m(\u001b[0m\u001b[0;34m*\u001b[0m\u001b[0minput\u001b[0m\u001b[0;34m,\u001b[0m \u001b[0;34m**\u001b[0m\u001b[0mkwargs\u001b[0m\u001b[0;34m)\u001b[0m\u001b[0;34m\u001b[0m\u001b[0;34m\u001b[0m\u001b[0m\n\u001b[1;32m    492\u001b[0m         \u001b[0;32melse\u001b[0m\u001b[0;34m:\u001b[0m\u001b[0;34m\u001b[0m\u001b[0;34m\u001b[0m\u001b[0m\n\u001b[0;32m--> 493\u001b[0;31m             \u001b[0mresult\u001b[0m \u001b[0;34m=\u001b[0m \u001b[0mself\u001b[0m\u001b[0;34m.\u001b[0m\u001b[0mforward\u001b[0m\u001b[0;34m(\u001b[0m\u001b[0;34m*\u001b[0m\u001b[0minput\u001b[0m\u001b[0;34m,\u001b[0m \u001b[0;34m**\u001b[0m\u001b[0mkwargs\u001b[0m\u001b[0;34m)\u001b[0m\u001b[0;34m\u001b[0m\u001b[0;34m\u001b[0m\u001b[0m\n\u001b[0m\u001b[1;32m    494\u001b[0m         \u001b[0;32mfor\u001b[0m \u001b[0mhook\u001b[0m \u001b[0;32min\u001b[0m \u001b[0mself\u001b[0m\u001b[0;34m.\u001b[0m\u001b[0m_forward_hooks\u001b[0m\u001b[0;34m.\u001b[0m\u001b[0mvalues\u001b[0m\u001b[0;34m(\u001b[0m\u001b[0;34m)\u001b[0m\u001b[0;34m:\u001b[0m\u001b[0;34m\u001b[0m\u001b[0;34m\u001b[0m\u001b[0m\n\u001b[1;32m    495\u001b[0m             \u001b[0mhook_result\u001b[0m \u001b[0;34m=\u001b[0m \u001b[0mhook\u001b[0m\u001b[0;34m(\u001b[0m\u001b[0mself\u001b[0m\u001b[0;34m,\u001b[0m \u001b[0minput\u001b[0m\u001b[0;34m,\u001b[0m \u001b[0mresult\u001b[0m\u001b[0;34m)\u001b[0m\u001b[0;34m\u001b[0m\u001b[0;34m\u001b[0m\u001b[0m\n",
      "\u001b[0;32m<ipython-input-15-a5d65642a82f>\u001b[0m in \u001b[0;36mforward\u001b[0;34m(self, node, edge_index, edge, hidden)\u001b[0m\n\u001b[1;32m     54\u001b[0m         \u001b[0;31m#1. message :  m_j = SUM_i f(n_i, n_j, e_ij)  where i is neighbour(j)\u001b[0m\u001b[0;34m\u001b[0m\u001b[0;34m\u001b[0m\u001b[0;34m\u001b[0m\u001b[0m\n\u001b[1;32m     55\u001b[0m         \u001b[0mx_i\u001b[0m     \u001b[0;34m=\u001b[0m \u001b[0mtorch\u001b[0m\u001b[0;34m.\u001b[0m\u001b[0mindex_select\u001b[0m\u001b[0;34m(\u001b[0m\u001b[0mnode\u001b[0m\u001b[0;34m,\u001b[0m \u001b[0;36m0\u001b[0m\u001b[0;34m,\u001b[0m \u001b[0medge_index\u001b[0m\u001b[0;34m[\u001b[0m\u001b[0;36m0\u001b[0m\u001b[0;34m]\u001b[0m\u001b[0;34m)\u001b[0m\u001b[0;34m\u001b[0m\u001b[0;34m\u001b[0m\u001b[0m\n\u001b[0;32m---> 56\u001b[0;31m         \u001b[0medge\u001b[0m    \u001b[0;34m=\u001b[0m \u001b[0mself\u001b[0m\u001b[0;34m.\u001b[0m\u001b[0mencoder\u001b[0m\u001b[0;34m(\u001b[0m\u001b[0medge\u001b[0m\u001b[0;34m)\u001b[0m\u001b[0;34m.\u001b[0m\u001b[0mview\u001b[0m\u001b[0;34m(\u001b[0m\u001b[0;34m-\u001b[0m\u001b[0;36m1\u001b[0m\u001b[0;34m,\u001b[0m\u001b[0mnode_dim\u001b[0m\u001b[0;34m,\u001b[0m\u001b[0mnode_dim\u001b[0m\u001b[0;34m)\u001b[0m\u001b[0;34m\u001b[0m\u001b[0;34m\u001b[0m\u001b[0m\n\u001b[0m\u001b[1;32m     57\u001b[0m         \u001b[0;31m#message = x_i.view(-1,node_dim,1)*edge\u001b[0m\u001b[0;34m\u001b[0m\u001b[0;34m\u001b[0m\u001b[0;34m\u001b[0m\u001b[0m\n\u001b[1;32m     58\u001b[0m         \u001b[0;31m#message = message.sum(1)\u001b[0m\u001b[0;34m\u001b[0m\u001b[0;34m\u001b[0m\u001b[0;34m\u001b[0m\u001b[0m\n",
      "\u001b[0;32m~/anaconda3/envs/tensorflow_gpu_p36/lib/python3.6/site-packages/torch/nn/modules/module.py\u001b[0m in \u001b[0;36m__call__\u001b[0;34m(self, *input, **kwargs)\u001b[0m\n\u001b[1;32m    491\u001b[0m             \u001b[0mresult\u001b[0m \u001b[0;34m=\u001b[0m \u001b[0mself\u001b[0m\u001b[0;34m.\u001b[0m\u001b[0m_slow_forward\u001b[0m\u001b[0;34m(\u001b[0m\u001b[0;34m*\u001b[0m\u001b[0minput\u001b[0m\u001b[0;34m,\u001b[0m \u001b[0;34m**\u001b[0m\u001b[0mkwargs\u001b[0m\u001b[0;34m)\u001b[0m\u001b[0;34m\u001b[0m\u001b[0;34m\u001b[0m\u001b[0m\n\u001b[1;32m    492\u001b[0m         \u001b[0;32melse\u001b[0m\u001b[0;34m:\u001b[0m\u001b[0;34m\u001b[0m\u001b[0;34m\u001b[0m\u001b[0m\n\u001b[0;32m--> 493\u001b[0;31m             \u001b[0mresult\u001b[0m \u001b[0;34m=\u001b[0m \u001b[0mself\u001b[0m\u001b[0;34m.\u001b[0m\u001b[0mforward\u001b[0m\u001b[0;34m(\u001b[0m\u001b[0;34m*\u001b[0m\u001b[0minput\u001b[0m\u001b[0;34m,\u001b[0m \u001b[0;34m**\u001b[0m\u001b[0mkwargs\u001b[0m\u001b[0;34m)\u001b[0m\u001b[0;34m\u001b[0m\u001b[0;34m\u001b[0m\u001b[0m\n\u001b[0m\u001b[1;32m    494\u001b[0m         \u001b[0;32mfor\u001b[0m \u001b[0mhook\u001b[0m \u001b[0;32min\u001b[0m \u001b[0mself\u001b[0m\u001b[0;34m.\u001b[0m\u001b[0m_forward_hooks\u001b[0m\u001b[0;34m.\u001b[0m\u001b[0mvalues\u001b[0m\u001b[0;34m(\u001b[0m\u001b[0;34m)\u001b[0m\u001b[0;34m:\u001b[0m\u001b[0;34m\u001b[0m\u001b[0;34m\u001b[0m\u001b[0m\n\u001b[1;32m    495\u001b[0m             \u001b[0mhook_result\u001b[0m \u001b[0;34m=\u001b[0m \u001b[0mhook\u001b[0m\u001b[0;34m(\u001b[0m\u001b[0mself\u001b[0m\u001b[0;34m,\u001b[0m \u001b[0minput\u001b[0m\u001b[0;34m,\u001b[0m \u001b[0mresult\u001b[0m\u001b[0;34m)\u001b[0m\u001b[0;34m\u001b[0m\u001b[0;34m\u001b[0m\u001b[0m\n",
      "\u001b[0;32m~/anaconda3/envs/tensorflow_gpu_p36/lib/python3.6/site-packages/torch/nn/modules/container.py\u001b[0m in \u001b[0;36mforward\u001b[0;34m(self, input)\u001b[0m\n\u001b[1;32m     90\u001b[0m     \u001b[0;32mdef\u001b[0m \u001b[0mforward\u001b[0m\u001b[0;34m(\u001b[0m\u001b[0mself\u001b[0m\u001b[0;34m,\u001b[0m \u001b[0minput\u001b[0m\u001b[0;34m)\u001b[0m\u001b[0;34m:\u001b[0m\u001b[0;34m\u001b[0m\u001b[0;34m\u001b[0m\u001b[0m\n\u001b[1;32m     91\u001b[0m         \u001b[0;32mfor\u001b[0m \u001b[0mmodule\u001b[0m \u001b[0;32min\u001b[0m \u001b[0mself\u001b[0m\u001b[0;34m.\u001b[0m\u001b[0m_modules\u001b[0m\u001b[0;34m.\u001b[0m\u001b[0mvalues\u001b[0m\u001b[0;34m(\u001b[0m\u001b[0;34m)\u001b[0m\u001b[0;34m:\u001b[0m\u001b[0;34m\u001b[0m\u001b[0;34m\u001b[0m\u001b[0m\n\u001b[0;32m---> 92\u001b[0;31m             \u001b[0minput\u001b[0m \u001b[0;34m=\u001b[0m \u001b[0mmodule\u001b[0m\u001b[0;34m(\u001b[0m\u001b[0minput\u001b[0m\u001b[0;34m)\u001b[0m\u001b[0;34m\u001b[0m\u001b[0;34m\u001b[0m\u001b[0m\n\u001b[0m\u001b[1;32m     93\u001b[0m         \u001b[0;32mreturn\u001b[0m \u001b[0minput\u001b[0m\u001b[0;34m\u001b[0m\u001b[0;34m\u001b[0m\u001b[0m\n\u001b[1;32m     94\u001b[0m \u001b[0;34m\u001b[0m\u001b[0m\n",
      "\u001b[0;32m~/anaconda3/envs/tensorflow_gpu_p36/lib/python3.6/site-packages/torch/nn/modules/module.py\u001b[0m in \u001b[0;36m__call__\u001b[0;34m(self, *input, **kwargs)\u001b[0m\n\u001b[1;32m    491\u001b[0m             \u001b[0mresult\u001b[0m \u001b[0;34m=\u001b[0m \u001b[0mself\u001b[0m\u001b[0;34m.\u001b[0m\u001b[0m_slow_forward\u001b[0m\u001b[0;34m(\u001b[0m\u001b[0;34m*\u001b[0m\u001b[0minput\u001b[0m\u001b[0;34m,\u001b[0m \u001b[0;34m**\u001b[0m\u001b[0mkwargs\u001b[0m\u001b[0;34m)\u001b[0m\u001b[0;34m\u001b[0m\u001b[0;34m\u001b[0m\u001b[0m\n\u001b[1;32m    492\u001b[0m         \u001b[0;32melse\u001b[0m\u001b[0;34m:\u001b[0m\u001b[0;34m\u001b[0m\u001b[0;34m\u001b[0m\u001b[0m\n\u001b[0;32m--> 493\u001b[0;31m             \u001b[0mresult\u001b[0m \u001b[0;34m=\u001b[0m \u001b[0mself\u001b[0m\u001b[0;34m.\u001b[0m\u001b[0mforward\u001b[0m\u001b[0;34m(\u001b[0m\u001b[0;34m*\u001b[0m\u001b[0minput\u001b[0m\u001b[0;34m,\u001b[0m \u001b[0;34m**\u001b[0m\u001b[0mkwargs\u001b[0m\u001b[0;34m)\u001b[0m\u001b[0;34m\u001b[0m\u001b[0;34m\u001b[0m\u001b[0m\n\u001b[0m\u001b[1;32m    494\u001b[0m         \u001b[0;32mfor\u001b[0m \u001b[0mhook\u001b[0m \u001b[0;32min\u001b[0m \u001b[0mself\u001b[0m\u001b[0;34m.\u001b[0m\u001b[0m_forward_hooks\u001b[0m\u001b[0;34m.\u001b[0m\u001b[0mvalues\u001b[0m\u001b[0;34m(\u001b[0m\u001b[0;34m)\u001b[0m\u001b[0;34m:\u001b[0m\u001b[0;34m\u001b[0m\u001b[0;34m\u001b[0m\u001b[0m\n\u001b[1;32m    495\u001b[0m             \u001b[0mhook_result\u001b[0m \u001b[0;34m=\u001b[0m \u001b[0mhook\u001b[0m\u001b[0;34m(\u001b[0m\u001b[0mself\u001b[0m\u001b[0;34m,\u001b[0m \u001b[0minput\u001b[0m\u001b[0;34m,\u001b[0m \u001b[0mresult\u001b[0m\u001b[0;34m)\u001b[0m\u001b[0;34m\u001b[0m\u001b[0;34m\u001b[0m\u001b[0m\n",
      "\u001b[0;32m<ipython-input-15-a5d65642a82f>\u001b[0m in \u001b[0;36mforward\u001b[0;34m(self, x)\u001b[0m\n\u001b[1;32m     20\u001b[0m \u001b[0;34m\u001b[0m\u001b[0m\n\u001b[1;32m     21\u001b[0m     \u001b[0;32mdef\u001b[0m \u001b[0mforward\u001b[0m\u001b[0;34m(\u001b[0m\u001b[0mself\u001b[0m\u001b[0;34m,\u001b[0m \u001b[0mx\u001b[0m\u001b[0;34m)\u001b[0m\u001b[0;34m:\u001b[0m\u001b[0;34m\u001b[0m\u001b[0;34m\u001b[0m\u001b[0m\n\u001b[0;32m---> 22\u001b[0;31m         \u001b[0mx\u001b[0m \u001b[0;34m=\u001b[0m \u001b[0mself\u001b[0m\u001b[0;34m.\u001b[0m\u001b[0mlinear\u001b[0m\u001b[0;34m(\u001b[0m\u001b[0mx\u001b[0m\u001b[0;34m)\u001b[0m\u001b[0;34m\u001b[0m\u001b[0;34m\u001b[0m\u001b[0m\n\u001b[0m\u001b[1;32m     23\u001b[0m         \u001b[0;32mif\u001b[0m \u001b[0mself\u001b[0m\u001b[0;34m.\u001b[0m\u001b[0mbn\u001b[0m \u001b[0;32mis\u001b[0m \u001b[0;32mnot\u001b[0m \u001b[0;32mNone\u001b[0m\u001b[0;34m:\u001b[0m\u001b[0;34m\u001b[0m\u001b[0;34m\u001b[0m\u001b[0m\n\u001b[1;32m     24\u001b[0m             \u001b[0mx\u001b[0m \u001b[0;34m=\u001b[0m \u001b[0mself\u001b[0m\u001b[0;34m.\u001b[0m\u001b[0mbn\u001b[0m\u001b[0;34m(\u001b[0m\u001b[0mx\u001b[0m\u001b[0;34m)\u001b[0m\u001b[0;34m\u001b[0m\u001b[0;34m\u001b[0m\u001b[0m\n",
      "\u001b[0;32m~/anaconda3/envs/tensorflow_gpu_p36/lib/python3.6/site-packages/torch/nn/modules/module.py\u001b[0m in \u001b[0;36m__call__\u001b[0;34m(self, *input, **kwargs)\u001b[0m\n\u001b[1;32m    491\u001b[0m             \u001b[0mresult\u001b[0m \u001b[0;34m=\u001b[0m \u001b[0mself\u001b[0m\u001b[0;34m.\u001b[0m\u001b[0m_slow_forward\u001b[0m\u001b[0;34m(\u001b[0m\u001b[0;34m*\u001b[0m\u001b[0minput\u001b[0m\u001b[0;34m,\u001b[0m \u001b[0;34m**\u001b[0m\u001b[0mkwargs\u001b[0m\u001b[0;34m)\u001b[0m\u001b[0;34m\u001b[0m\u001b[0;34m\u001b[0m\u001b[0m\n\u001b[1;32m    492\u001b[0m         \u001b[0;32melse\u001b[0m\u001b[0;34m:\u001b[0m\u001b[0;34m\u001b[0m\u001b[0;34m\u001b[0m\u001b[0m\n\u001b[0;32m--> 493\u001b[0;31m             \u001b[0mresult\u001b[0m \u001b[0;34m=\u001b[0m \u001b[0mself\u001b[0m\u001b[0;34m.\u001b[0m\u001b[0mforward\u001b[0m\u001b[0;34m(\u001b[0m\u001b[0;34m*\u001b[0m\u001b[0minput\u001b[0m\u001b[0;34m,\u001b[0m \u001b[0;34m**\u001b[0m\u001b[0mkwargs\u001b[0m\u001b[0;34m)\u001b[0m\u001b[0;34m\u001b[0m\u001b[0;34m\u001b[0m\u001b[0m\n\u001b[0m\u001b[1;32m    494\u001b[0m         \u001b[0;32mfor\u001b[0m \u001b[0mhook\u001b[0m \u001b[0;32min\u001b[0m \u001b[0mself\u001b[0m\u001b[0;34m.\u001b[0m\u001b[0m_forward_hooks\u001b[0m\u001b[0;34m.\u001b[0m\u001b[0mvalues\u001b[0m\u001b[0;34m(\u001b[0m\u001b[0;34m)\u001b[0m\u001b[0;34m:\u001b[0m\u001b[0;34m\u001b[0m\u001b[0;34m\u001b[0m\u001b[0m\n\u001b[1;32m    495\u001b[0m             \u001b[0mhook_result\u001b[0m \u001b[0;34m=\u001b[0m \u001b[0mhook\u001b[0m\u001b[0;34m(\u001b[0m\u001b[0mself\u001b[0m\u001b[0;34m,\u001b[0m \u001b[0minput\u001b[0m\u001b[0;34m,\u001b[0m \u001b[0mresult\u001b[0m\u001b[0;34m)\u001b[0m\u001b[0;34m\u001b[0m\u001b[0;34m\u001b[0m\u001b[0m\n",
      "\u001b[0;32m~/anaconda3/envs/tensorflow_gpu_p36/lib/python3.6/site-packages/torch/nn/modules/linear.py\u001b[0m in \u001b[0;36mforward\u001b[0;34m(self, input)\u001b[0m\n\u001b[1;32m     90\u001b[0m     \u001b[0;34m@\u001b[0m\u001b[0mweak_script_method\u001b[0m\u001b[0;34m\u001b[0m\u001b[0;34m\u001b[0m\u001b[0m\n\u001b[1;32m     91\u001b[0m     \u001b[0;32mdef\u001b[0m \u001b[0mforward\u001b[0m\u001b[0;34m(\u001b[0m\u001b[0mself\u001b[0m\u001b[0;34m,\u001b[0m \u001b[0minput\u001b[0m\u001b[0;34m)\u001b[0m\u001b[0;34m:\u001b[0m\u001b[0;34m\u001b[0m\u001b[0;34m\u001b[0m\u001b[0m\n\u001b[0;32m---> 92\u001b[0;31m         \u001b[0;32mreturn\u001b[0m \u001b[0mF\u001b[0m\u001b[0;34m.\u001b[0m\u001b[0mlinear\u001b[0m\u001b[0;34m(\u001b[0m\u001b[0minput\u001b[0m\u001b[0;34m,\u001b[0m \u001b[0mself\u001b[0m\u001b[0;34m.\u001b[0m\u001b[0mweight\u001b[0m\u001b[0;34m,\u001b[0m \u001b[0mself\u001b[0m\u001b[0;34m.\u001b[0m\u001b[0mbias\u001b[0m\u001b[0;34m)\u001b[0m\u001b[0;34m\u001b[0m\u001b[0;34m\u001b[0m\u001b[0m\n\u001b[0m\u001b[1;32m     93\u001b[0m \u001b[0;34m\u001b[0m\u001b[0m\n\u001b[1;32m     94\u001b[0m     \u001b[0;32mdef\u001b[0m \u001b[0mextra_repr\u001b[0m\u001b[0;34m(\u001b[0m\u001b[0mself\u001b[0m\u001b[0;34m)\u001b[0m\u001b[0;34m:\u001b[0m\u001b[0;34m\u001b[0m\u001b[0;34m\u001b[0m\u001b[0m\n",
      "\u001b[0;32m~/anaconda3/envs/tensorflow_gpu_p36/lib/python3.6/site-packages/torch/nn/functional.py\u001b[0m in \u001b[0;36mlinear\u001b[0;34m(input, weight, bias)\u001b[0m\n\u001b[1;32m   1406\u001b[0m         \u001b[0mret\u001b[0m \u001b[0;34m=\u001b[0m \u001b[0mtorch\u001b[0m\u001b[0;34m.\u001b[0m\u001b[0maddmm\u001b[0m\u001b[0;34m(\u001b[0m\u001b[0mbias\u001b[0m\u001b[0;34m,\u001b[0m \u001b[0minput\u001b[0m\u001b[0;34m,\u001b[0m \u001b[0mweight\u001b[0m\u001b[0;34m.\u001b[0m\u001b[0mt\u001b[0m\u001b[0;34m(\u001b[0m\u001b[0;34m)\u001b[0m\u001b[0;34m)\u001b[0m\u001b[0;34m\u001b[0m\u001b[0;34m\u001b[0m\u001b[0m\n\u001b[1;32m   1407\u001b[0m     \u001b[0;32melse\u001b[0m\u001b[0;34m:\u001b[0m\u001b[0;34m\u001b[0m\u001b[0;34m\u001b[0m\u001b[0m\n\u001b[0;32m-> 1408\u001b[0;31m         \u001b[0moutput\u001b[0m \u001b[0;34m=\u001b[0m \u001b[0minput\u001b[0m\u001b[0;34m.\u001b[0m\u001b[0mmatmul\u001b[0m\u001b[0;34m(\u001b[0m\u001b[0mweight\u001b[0m\u001b[0;34m.\u001b[0m\u001b[0mt\u001b[0m\u001b[0;34m(\u001b[0m\u001b[0;34m)\u001b[0m\u001b[0;34m)\u001b[0m\u001b[0;34m\u001b[0m\u001b[0;34m\u001b[0m\u001b[0m\n\u001b[0m\u001b[1;32m   1409\u001b[0m         \u001b[0;32mif\u001b[0m \u001b[0mbias\u001b[0m \u001b[0;32mis\u001b[0m \u001b[0;32mnot\u001b[0m \u001b[0;32mNone\u001b[0m\u001b[0;34m:\u001b[0m\u001b[0;34m\u001b[0m\u001b[0;34m\u001b[0m\u001b[0m\n\u001b[1;32m   1410\u001b[0m             \u001b[0moutput\u001b[0m \u001b[0;34m+=\u001b[0m \u001b[0mbias\u001b[0m\u001b[0;34m\u001b[0m\u001b[0;34m\u001b[0m\u001b[0m\n",
      "\u001b[0;31mRuntimeError\u001b[0m: CUDA out of memory. Tried to allocate 62.00 MiB (GPU 0; 7.44 GiB total capacity; 328.14 MiB already allocated; 45.31 MiB free; 7.86 MiB cached)"
     ]
    }
   ],
   "source": [
    "\n",
    "batch_size=16\n",
    "node_dim = 93\n",
    "edge_dim =  6\n",
    "num_target = 8\n",
    "\n",
    "\n",
    "cv = KFold(n_splits= 2, shuffle= True, random_state= 42)\n",
    "splits = cv.split(molecule_names[:32]) \n",
    "for fold_n, (train_index, valid_index) in enumerate(splits):\n",
    "    \n",
    "    train_molecule_names = [molecule_names[i] for i in train_index]\n",
    "    valid_molecule_names = [molecule_names[i] for i in valid_index]\n",
    "    \n",
    "#     assert len(train_molecule_names) + len(valid_molecule_names) == len(molecule_names), 'len is not match'\n",
    "    train_dataset = ChampsDataset(molecule_names=train_molecule_names, graph_file=graph_dir , csv='train', mode ='train', split=None, augment=None)\n",
    "    valid_dataset = ChampsDataset(molecule_names=valid_molecule_names, graph_file=graph_dir , csv='train', mode ='train', split=None, augment=None)\n",
    "    \n",
    "    train_loader = DataLoader(train_dataset, batch_size=batch_size, sampler=RandomSampler(train_dataset), drop_last=True, num_workers=16, pin_memory=True, collate_fn=null_collate)\n",
    "    valid_loader = DataLoader(valid_dataset, batch_size=batch_size, sampler=RandomSampler(valid_dataset), drop_last=True, num_workers=16, pin_memory=True, collate_fn=null_collate)\n",
    "    \n",
    "    net = Net(node_dim=node_dim,edge_dim=edge_dim, num_target=num_target).cuda()\n",
    "    schduler = NullScheduler(lr=0.001)\n",
    "    optimizer = torch.optim.Adam(filter(lambda p: p.requires_grad, net.parameters()),lr=schduler(0))\n",
    "    \n",
    "    train2(net, schduler, optimizer, train_loader, valid_loader)\n",
    "    \n",
    "    break"
   ]
  },
  {
   "cell_type": "code",
   "execution_count": 22,
   "metadata": {},
   "outputs": [],
   "source": [
    "test_dataset = ChampsDataset(molecule_names=molecule_names_test, graph_file=graph_dir , csv='train', mode ='train', split=None, augment=None)\n",
    "test_loader = DataLoader(test_dataset, batch_size=1, sampler=RandomSampler(test_dataset), drop_last=True, num_workers=16, pin_memory=True, collate_fn=null_collate)"
   ]
  },
  {
   "cell_type": "code",
   "execution_count": 21,
   "metadata": {},
   "outputs": [
    {
     "ename": "NameError",
     "evalue": "name 'test_loader' is not defined",
     "output_type": "error",
     "traceback": [
      "\u001b[0;31m---------------------------------------------------------------------------\u001b[0m",
      "\u001b[0;31mNameError\u001b[0m                                 Traceback (most recent call last)",
      "\u001b[0;32m<ipython-input-21-a2e2ee15a80c>\u001b[0m in \u001b[0;36m<module>\u001b[0;34m()\u001b[0m\n\u001b[1;32m      8\u001b[0m \u001b[0mvalid_loss\u001b[0m \u001b[0;34m=\u001b[0m \u001b[0;36m0\u001b[0m\u001b[0;34m\u001b[0m\u001b[0;34m\u001b[0m\u001b[0m\n\u001b[1;32m      9\u001b[0m \u001b[0mdf_pred\u001b[0m \u001b[0;34m=\u001b[0m \u001b[0mpd\u001b[0m\u001b[0;34m.\u001b[0m\u001b[0mDataFrame\u001b[0m\u001b[0;34m(\u001b[0m\u001b[0;34m)\u001b[0m\u001b[0;34m\u001b[0m\u001b[0;34m\u001b[0m\u001b[0m\n\u001b[0;32m---> 10\u001b[0;31m \u001b[0;32mfor\u001b[0m \u001b[0mb\u001b[0m\u001b[0;34m,\u001b[0m \u001b[0;34m(\u001b[0m\u001b[0mnode\u001b[0m\u001b[0;34m,\u001b[0m \u001b[0medge\u001b[0m\u001b[0;34m,\u001b[0m \u001b[0medge_index\u001b[0m\u001b[0;34m,\u001b[0m \u001b[0mnode_index\u001b[0m\u001b[0;34m,\u001b[0m \u001b[0mcoupling_value\u001b[0m\u001b[0;34m,\u001b[0m \u001b[0mcoupling_index\u001b[0m\u001b[0;34m,\u001b[0m \u001b[0minfor\u001b[0m\u001b[0;34m)\u001b[0m \u001b[0;32min\u001b[0m \u001b[0menumerate\u001b[0m\u001b[0;34m(\u001b[0m\u001b[0mtest_loader\u001b[0m\u001b[0;34m)\u001b[0m\u001b[0;34m:\u001b[0m\u001b[0;34m\u001b[0m\u001b[0;34m\u001b[0m\u001b[0m\n\u001b[0m\u001b[1;32m     11\u001b[0m \u001b[0;34m\u001b[0m\u001b[0m\n\u001b[1;32m     12\u001b[0m     \u001b[0;31m#if b==5: break\u001b[0m\u001b[0;34m\u001b[0m\u001b[0;34m\u001b[0m\u001b[0;34m\u001b[0m\u001b[0m\n",
      "\u001b[0;31mNameError\u001b[0m: name 'test_loader' is not defined"
     ]
    }
   ],
   "source": [
    "\n",
    "\n",
    "valid_num = 0\n",
    "valid_predict = []\n",
    "valid_coupling_type  = []\n",
    "valid_coupling_value = []\n",
    "\n",
    "valid_loss = 0\n",
    "df_pred = pd.DataFrame()\n",
    "for b, (node, edge, edge_index, node_index, coupling_value, coupling_index, infor) in enumerate(test_loader):\n",
    "\n",
    "    #if b==5: break\n",
    "    net.eval()\n",
    "    node = node.cuda()\n",
    "    edge = edge.cuda()\n",
    "    edge_index = edge_index.cuda()\n",
    "    node_index = node_index.cuda()\n",
    "\n",
    "    coupling_value = coupling_value.cuda()\n",
    "    coupling_index = coupling_index.cuda()\n",
    "\n",
    "    with torch.no_grad():\n",
    "        predict = net(node, edge, edge_index, node_index, coupling_index)\n",
    "    df_pred_i = pd.DataFrame({'id':infor[0][2], 'scalar_coupling_constant':predict.cpu().detach().numpy() })\n",
    "    df_pred = pd.concat([df_pred, df_pred_i], axis=0)"
   ]
  },
  {
   "cell_type": "code",
   "execution_count": 45,
   "metadata": {},
   "outputs": [
    {
     "data": {
      "text/plain": [
       "(4658147, 2)"
      ]
     },
     "execution_count": 45,
     "metadata": {},
     "output_type": "execute_result"
    }
   ],
   "source": [
    "df_pred.shape"
   ]
  },
  {
   "cell_type": "code",
   "execution_count": 46,
   "metadata": {},
   "outputs": [],
   "source": [
    "df_pred.to_csv('../../data/submission/submission_gnn.csv', index=False)"
   ]
  },
  {
   "cell_type": "code",
   "execution_count": 47,
   "metadata": {},
   "outputs": [
    {
     "ename": "NameError",
     "evalue": "name 'opt' is not defined",
     "output_type": "error",
     "traceback": [
      "\u001b[0;31m---------------------------------------------------------------------------\u001b[0m",
      "\u001b[0;31mNameError\u001b[0m                                 Traceback (most recent call last)",
      "\u001b[0;32m<ipython-input-47-448af2355485>\u001b[0m in \u001b[0;36m<module>\u001b[0;34m()\u001b[0m\n\u001b[1;32m      1\u001b[0m \u001b[0mtorch\u001b[0m\u001b[0;34m.\u001b[0m\u001b[0msave\u001b[0m\u001b[0;34m(\u001b[0m\u001b[0mnet\u001b[0m\u001b[0;34m.\u001b[0m\u001b[0mstate_dict\u001b[0m\u001b[0;34m(\u001b[0m\u001b[0;34m)\u001b[0m\u001b[0;34m,\u001b[0m\u001b[0;34m'net'\u001b[0m\u001b[0;34m)\u001b[0m\u001b[0;34m\u001b[0m\u001b[0;34m\u001b[0m\u001b[0m\n\u001b[0;32m----> 2\u001b[0;31m \u001b[0mtorch\u001b[0m\u001b[0;34m.\u001b[0m\u001b[0msave\u001b[0m\u001b[0;34m(\u001b[0m\u001b[0;34m{\u001b[0m\u001b[0;34m'optimizer'\u001b[0m\u001b[0;34m:\u001b[0m \u001b[0moptimizer\u001b[0m\u001b[0;34m.\u001b[0m\u001b[0mstate_dict\u001b[0m\u001b[0;34m(\u001b[0m\u001b[0;34m)\u001b[0m\u001b[0;34m,\u001b[0m\u001b[0;34m'iter'\u001b[0m     \u001b[0;34m:\u001b[0m \u001b[0;36m0\u001b[0m\u001b[0;34m,\u001b[0m \u001b[0;34m'epoch'\u001b[0m    \u001b[0;34m:\u001b[0m \u001b[0;36m0\u001b[0m\u001b[0;34m,\u001b[0m\u001b[0;34m}\u001b[0m\u001b[0;34m,\u001b[0m \u001b[0mopt\u001b[0m\u001b[0;34m)\u001b[0m\u001b[0;34m\u001b[0m\u001b[0;34m\u001b[0m\u001b[0m\n\u001b[0m",
      "\u001b[0;31mNameError\u001b[0m: name 'opt' is not defined"
     ]
    }
   ],
   "source": [
    "torch.save(net.state_dict(),'net')\n",
    "torch.save({'optimizer': optimizer.state_dict(),'iter'     : 0, 'epoch'    : 0,}, opt)"
   ]
  },
  {
   "cell_type": "code",
   "execution_count": 35,
   "metadata": {},
   "outputs": [
    {
     "data": {
      "text/plain": [
       "(40, 6)"
      ]
     },
     "execution_count": 35,
     "metadata": {},
     "output_type": "execute_result"
    }
   ],
   "source": [
    "test[test['molecule_name']=='dsgdb9nsd_072373'].shape"
   ]
  },
  {
   "cell_type": "code",
   "execution_count": 43,
   "metadata": {},
   "outputs": [
    {
     "data": {
      "text/plain": [
       "array([2362542, 2362543, 2362544, 2362545, 2362546, 2362547, 2362548,\n",
       "       2362549, 2362550, 2362551, 2362552, 2362553, 2362554, 2362555,\n",
       "       2362556, 2362557, 2362558, 2362559, 2362560, 2362561, 2362562,\n",
       "       2362563, 2362564, 2362565, 2362566, 2362567, 2362568, 2362569,\n",
       "       2362570, 2362571, 2362572, 2362573, 2362574, 2362575, 2362576,\n",
       "       2362577, 2362578, 2362579, 2362580, 2362581])"
      ]
     },
     "execution_count": 43,
     "metadata": {},
     "output_type": "execute_result"
    }
   ],
   "source": [
    "infor[0][2]"
   ]
  },
  {
   "cell_type": "code",
   "execution_count": 33,
   "metadata": {},
   "outputs": [
    {
     "data": {
      "text/plain": [
       "array([ -1.618536  ,   3.0760603 ,   3.7532988 ,   7.385342  ,\n",
       "        -4.48687   ,  88.83468   ,  -5.0857706 ,   6.009048  ,\n",
       "        -0.96180224,   3.0475516 , -16.347216  ,   2.2974215 ,\n",
       "         0.2072541 ,  85.91742   ,  -3.3111904 ,   5.802936  ,\n",
       "         4.0546107 ,   7.406941  ,   2.5372365 ,   6.3977003 ,\n",
       "         7.789091  , 121.347305  ,   2.435028  ,  10.302857  ,\n",
       "         3.4585402 ,   5.5056796 ,   8.21506   ,   2.007053  ,\n",
       "       123.080154  ,   6.8563123 ,   1.4708134 ,  -0.48494583,\n",
       "         1.445515  ,   6.9501786 ,   2.1423066 ,  97.933044  ,\n",
       "         1.8729662 ,  11.17389   , -12.52721   ,  36.56184   ],\n",
       "      dtype=float32)"
      ]
     },
     "execution_count": 33,
     "metadata": {},
     "output_type": "execute_result"
    }
   ],
   "source": [
    "predict.cpu().detach().numpy() "
   ]
  },
  {
   "cell_type": "code",
   "execution_count": null,
   "metadata": {},
   "outputs": [],
   "source": [
    "idx=0.35\n",
    "# df_test_pred = df_trial.loc[idx]['df_test_pred']\n",
    "df_submit = pd.DataFrame()\n",
    "df_submit['scalar_coupling_constant'] = np.mean(df_test_pred.drop(columns=['index']).values, axis=1)\n",
    "df_submit['id'] = df_test_pred['index']\n",
    "df_submit.to_csv('../../data/submission/submission_lgbm_{}.csv'.format(idx), index=False)"
   ]
  },
  {
   "cell_type": "code",
   "execution_count": 15,
   "metadata": {},
   "outputs": [],
   "source": [
    "class NullScheduler():\n",
    "    def __init__(self, lr=0.01 ):\n",
    "        super(NullScheduler, self).__init__()\n",
    "        self.lr    = lr\n",
    "        self.cycle = 0\n",
    "\n",
    "    def __call__(self, time):\n",
    "        return self.lr\n",
    "\n",
    "    def __str__(self):\n",
    "        string = 'NullScheduler\\n' \\\n",
    "                + 'lr=%0.5f '%(self.lr)\n",
    "        return string\n",
    "\n",
    "class LinearBn(nn.Module):\n",
    "    def __init__(self, in_channel, out_channel, act=None):\n",
    "        super(LinearBn, self).__init__()\n",
    "        self.linear = nn.Linear(in_channel, out_channel, bias=False)\n",
    "        self.bn   = nn.BatchNorm1d(out_channel,eps=1e-05, momentum=0.1)\n",
    "        self.act  = act\n",
    "\n",
    "    def forward(self, x):\n",
    "        x = self.linear(x)\n",
    "        if self.bn is not None:\n",
    "            x = self.bn(x)\n",
    "        if self.act is not None:\n",
    "            x = self.act(x)\n",
    "        return x\n",
    "\n",
    "class GraphConv(nn.Module):\n",
    "    def __init__(self, node_dim, edge_dim ):\n",
    "        super(GraphConv, self).__init__()\n",
    "\n",
    "        self.encoder = nn.Sequential(\n",
    "            LinearBn(edge_dim, 256),\n",
    "            nn.ReLU(inplace=True),\n",
    "            LinearBn(256, 256),\n",
    "            nn.ReLU(inplace=True),\n",
    "            LinearBn(256, 128),\n",
    "            nn.ReLU(inplace=True),\n",
    "            LinearBn(128, node_dim * node_dim),\n",
    "            #nn.ReLU(inplace=True),\n",
    "        )\n",
    "\n",
    "        self.gru  = nn.GRU(node_dim, node_dim, batch_first=False, bidirectional=False)\n",
    "        self.bias = nn.Parameter(torch.Tensor(node_dim))\n",
    "        self.bias.data.uniform_(-1.0 / math.sqrt(node_dim), 1.0 / math.sqrt(node_dim))\n",
    "\n",
    "\n",
    "    def forward(self, node, edge_index, edge, hidden):\n",
    "        num_node, node_dim = node.shape\n",
    "        num_edge, edge_dim = edge.shape\n",
    "        edge_index = edge_index.t().contiguous()\n",
    "\n",
    "        #1. message :  m_j = SUM_i f(n_i, n_j, e_ij)  where i is neighbour(j)\n",
    "        x_i     = torch.index_select(node, 0, edge_index[0])\n",
    "        edge    = self.encoder(edge).view(-1,node_dim,node_dim)\n",
    "        #message = x_i.view(-1,node_dim,1)*edge\n",
    "        #message = message.sum(1)\n",
    "        message = x_i.view(-1,1,node_dim)@edge\n",
    "        message = message.view(-1,node_dim)\n",
    "        message = scatter_('mean', message, edge_index[1], dim_size=num_node)\n",
    "        message = F.relu(message +self.bias)\n",
    "\n",
    "        #2. update: n_j = f(n_j, m_j)\n",
    "        update = message\n",
    "\n",
    "        #batch_first=True\n",
    "        update, hidden = self.gru(update.view(1,-1,node_dim), hidden)\n",
    "        update = update.view(-1,node_dim)\n",
    "\n",
    "        return update, hidden\n",
    "\n",
    "class Set2Set(torch.nn.Module):\n",
    "\n",
    "    def softmax(self, x, index, num=None):\n",
    "        x = x -  scatter_max(x, index, dim=0, dim_size=num)[0][index]\n",
    "        x = x.exp()\n",
    "        x = x / (scatter_add(x, index, dim=0, dim_size=num)[index] + 1e-16)\n",
    "        return x\n",
    "\n",
    "    def __init__(self, in_channel, processing_step=1):\n",
    "        super(Set2Set, self).__init__()\n",
    "        num_layer = 1\n",
    "        out_channel = 2 * in_channel\n",
    "\n",
    "        self.processing_step = processing_step\n",
    "        self.in_channel  = in_channel\n",
    "        self.out_channel = out_channel\n",
    "        self.num_layer   = num_layer\n",
    "        self.lstm = torch.nn.LSTM(out_channel, in_channel, num_layer)\n",
    "        self.lstm.reset_parameters()\n",
    "\n",
    "    def forward(self, x, batch_index):\n",
    "        batch_size = batch_index.max().item() + 1\n",
    "\n",
    "        h = (x.new_zeros((self.num_layer, batch_size, self.in_channel)),\n",
    "             x.new_zeros((self.num_layer, batch_size, self.in_channel)))\n",
    "\n",
    "        q_star = x.new_zeros(batch_size, self.out_channel)\n",
    "        for i in range(self.processing_step):\n",
    "            q, h = self.lstm(q_star.unsqueeze(0), h)\n",
    "            q = q.view(batch_size, -1)\n",
    "\n",
    "            e = (x * q[batch_index]).sum(dim=-1, keepdim=True) #shape = num_node x 1\n",
    "            a = self.softmax(e, batch_index, num=batch_size)   #shape = num_node x 1\n",
    "            r = scatter_add(a * x, batch_index, dim=0, dim_size=batch_size) #apply attention #shape = batch_size x ...\n",
    "            q_star = torch.cat([q, r], dim=-1)\n",
    "\n",
    "        return q_star\n",
    "\n",
    "#message passing\n",
    "class Net(torch.nn.Module):\n",
    "    def __init__(self, node_dim=13, edge_dim=5, num_target=8):\n",
    "        super(Net, self).__init__()\n",
    "        self.num_propagate = 6\n",
    "        self.num_s2s = 6\n",
    "\n",
    "        self.preprocess = nn.Sequential(\n",
    "            LinearBn(node_dim, 128),\n",
    "            nn.ReLU(inplace=True),\n",
    "            LinearBn(128, 128),\n",
    "            nn.ReLU(inplace=True),\n",
    "        )\n",
    "\n",
    "        self.propagate = GraphConv(128, edge_dim)\n",
    "        self.set2set = Set2Set(128, processing_step=self.num_s2s)\n",
    "\n",
    "\n",
    "        #predict coupling constant\n",
    "        self.predict = nn.Sequential(\n",
    "            LinearBn(4*128, 1024),  #node_hidden_dim\n",
    "            nn.ReLU(inplace=True),\n",
    "            LinearBn( 1024, 512),\n",
    "            nn.ReLU(inplace=True),\n",
    "            nn.Linear(512, num_target),\n",
    "        )\n",
    "\n",
    "    def forward(self, node, edge, edge_index, node_index, coupling_index):\n",
    "\n",
    "        num_node, node_dim = node.shape\n",
    "        num_edge, edge_dim = edge.shape\n",
    "\n",
    "        node   = self.preprocess(node)\n",
    "        hidden = node.view(1,num_node,-1)\n",
    "\n",
    "        for i in range(self.num_propagate):\n",
    "            node, hidden =  self.propagate(node, edge_index, edge, hidden)\n",
    "\n",
    "        pool = self.set2set(node, node_index)\n",
    "\n",
    "        #---\n",
    "        num_coupling = len(coupling_index)\n",
    "        coupling_atom0_index, coupling_atom1_index, coupling_type_index, coupling_batch_index = \\\n",
    "            torch.split(coupling_index,1,dim=1)\n",
    "\n",
    "        pool  = torch.index_select( pool, dim=0, index=coupling_batch_index.view(-1))\n",
    "        node0 = torch.index_select( node, dim=0, index=coupling_atom0_index.view(-1))\n",
    "        node1 = torch.index_select( node, dim=0, index=coupling_atom1_index.view(-1))\n",
    "\n",
    "        predict = self.predict(torch.cat([pool,node0,node1],-1))\n",
    "        predict = torch.gather(predict, 1, coupling_type_index).view(-1)\n",
    "        return predict"
   ]
  },
  {
   "cell_type": "code",
   "execution_count": null,
   "metadata": {},
   "outputs": [],
   "source": []
  },
  {
   "cell_type": "code",
   "execution_count": 23,
   "metadata": {},
   "outputs": [],
   "source": [
    "def train2(net, schduler, optimizer, train_loader, valid_loader):\n",
    "    \n",
    "    start = timer()\n",
    "\n",
    "    num_iters   = 3000  *1000\n",
    "    iter_ = 0\n",
    "    while  iter_<num_iters:\n",
    "        \n",
    "        train_loss = np.zeros(20,np.float32)\n",
    "        batch_count = 0\n",
    "        for node, edge, edge_index, node_index, coupling_value, coupling_index, infor in train_loader:\n",
    "\n",
    "            # learning rate schduler -------------\n",
    "            lr = schduler(iter_)\n",
    "            if lr<0 : break\n",
    "            adjust_learning_rate(optimizer, lr)\n",
    "            rate = get_learning_rate(optimizer)\n",
    "\n",
    "            # one iteration update  -------------\n",
    "            #net.set_mode('train',is_freeze_bn=True)\n",
    "\n",
    "            net.train()\n",
    "            node = node.cuda()\n",
    "            edge = edge.cuda()\n",
    "            edge_index = edge_index.cuda()\n",
    "            node_index = node_index.cuda()\n",
    "            coupling_value = coupling_value.cuda()\n",
    "            coupling_index = coupling_index.cuda()\n",
    "\n",
    "            predict = net(node, edge, edge_index, node_index, coupling_index)\n",
    "\n",
    "            optimizer.zero_grad()\n",
    "            loss = criterion(predict, coupling_value)\n",
    "            loss.backward()\n",
    "            optimizer.step()\n",
    "                \n",
    "            # print statistics  ------------\n",
    "            \n",
    "            print(loss.shape)\n",
    "            \n",
    "            batch_loss[:1] = [loss.item()]\n",
    "            train_loss += batch_loss\n",
    "            batch_count += 1\n",
    "            \n",
    "            iter_+=1\n",
    "\n",
    "\n",
    "        train_loss = train_loss / batch_count\n",
    "        valid_loss = do_valid(net, valid_loader)\n",
    "        print\n",
    "        print('\\r', end='', flush=True)\n",
    "        print(time_to_str((timer() - start), 'min'), '|' , f'{iter_}/{num_iters}', '|', 'loss ', train_loss, '|', 'val_loss ', valid_loss, end='', flush=True)"
   ]
  },
  {
   "cell_type": "code",
   "execution_count": null,
   "metadata": {},
   "outputs": [],
   "source": [
    "\n",
    "batch_size=16\n",
    "node_dim = 93\n",
    "edge_dim =  6\n",
    "num_target = 8\n",
    "\n",
    "\n",
    "cv = KFold(n_splits= 5, shuffle= True, random_state= 42)\n",
    "splits = cv.split(molecule_names) \n",
    "for fold_n, (train_index, valid_index) in enumerate(splits):\n",
    "    \n",
    "    train_molecule_names = [molecule_names[i] for i in train_index]\n",
    "    valid_molecule_names = [molecule_names[i] for i in valid_index]\n",
    "    \n",
    "    assert len(train_molecule_names) + len(valid_molecule_names) == len(molecule_names), 'len is not match'\n",
    "    train_dataset = ChampsDataset(molecule_names=train_molecule_names, graph_file=graph_dir , csv='train', mode ='train', split=None, augment=None)\n",
    "    valid_dataset = ChampsDataset(molecule_names=valid_molecule_names, graph_file=graph_dir , csv='train', mode ='train', split=None, augment=None)\n",
    "    \n",
    "    train_loader = DataLoader(train_dataset, batch_size=batch_size, sampler=RandomSampler(train_dataset), drop_last=True, num_workers=16, pin_memory=True, collate_fn=null_collate)\n",
    "    valid_loader = DataLoader(valid_dataset, batch_size=batch_size, sampler=RandomSampler(valid_dataset), drop_last=True, num_workers=16, pin_memory=True, collate_fn=null_collate)\n",
    "    \n",
    "    net = Net(node_dim=node_dim,edge_dim=edge_dim, num_target=num_target).cuda()\n",
    "    schduler = NullScheduler(lr=0.001)\n",
    "    optimizer = torch.optim.Adam(filter(lambda p: p.requires_grad, net.parameters()),lr=schduler(0))\n",
    "    \n",
    "    train2(net, schduler, optimizer, train_loader, valid_loader)\n",
    "    \n",
    "    break"
   ]
  },
  {
   "cell_type": "code",
   "execution_count": 9,
   "metadata": {},
   "outputs": [],
   "source": [
    "atomic_radius = {'H': 0.38, 'C': 0.77, 'N': 0.75, 'O': 0.73, 'F': 0.71}\n",
    "atomic_number = {'H': 1, 'C': 6, 'N': 7, 'O': 8, 'F': 9}\n",
    "atomic_mass = {'H': 1.0079, 'C': 12.0107, 'N': 14.0067, 'O': 15.9994, 'F': 18.9984}\n",
    "vanderwaalsradius = {'H': 120, 'C': 185, 'N': 154, 'O': 140, 'F': 135}\n",
    "covalenzradius = {'H': 30, 'C': 77, 'N': 70, 'O': 66, 'F': 58}\n",
    "electronegativity = {'H': 2.2, 'C': 2.55, 'N': 3.04, 'O': 3.44, 'F': 3.98}\n",
    "ionization_energy = {'H': 13.5984, 'C': 11.2603, 'N': 14.5341, 'O': 13.6181, 'F': 17.4228}"
   ]
  },
  {
   "cell_type": "code",
   "execution_count": 10,
   "metadata": {},
   "outputs": [],
   "source": [
    "train = pd.read_csv(f'{file_folder}/train.csv')\n",
    "test = pd.read_csv(f'{file_folder}/test.csv')\n",
    "sub = pd.read_csv(f'{file_folder}/sample_submission.csv')\n",
    "train['type0'] = train['type'].apply(lambda x: int(x[0]))\n",
    "train['type1'] = train['type'].apply(lambda x: x[1:])\n",
    "\n",
    "le = LabelEncoder()\n",
    "le.fit(train.type1.tolist())\n",
    "int_bond_type = le.transform(train.type1.tolist()) \n",
    "train['int_type1']= int_bond_type\n",
    "\n",
    "test['type0'] = test['type'].apply(lambda x: int(x[0]))\n",
    "test['type1'] = test['type'].apply(lambda x: x[1:])\n",
    "int_bond_type = le.transform(test.type1.tolist()) \n",
    "test['int_type1']= int_bond_type"
   ]
  },
  {
   "cell_type": "code",
   "execution_count": 11,
   "metadata": {},
   "outputs": [
    {
     "data": {
      "text/plain": [
       "array(['JHC', 'JHH', 'JHN'], dtype='<U3')"
      ]
     },
     "execution_count": 11,
     "metadata": {},
     "output_type": "execute_result"
    }
   ],
   "source": [
    "le.classes_"
   ]
  },
  {
   "cell_type": "code",
   "execution_count": 12,
   "metadata": {},
   "outputs": [],
   "source": [
    "magnetic_shielding_tensors = pd.read_csv(f'{file_folder}/magnetic_shielding_tensors.csv')\n",
    "dipole_moments = pd.read_csv(f'{file_folder}/dipole_moments.csv')\n",
    "mulliken_charges = pd.read_csv(f'{file_folder}/mulliken_charges.csv')\n",
    "potential_energy = pd.read_csv(f'{file_folder}/potential_energy.csv')\n",
    "scalar_coupling_contributions = pd.read_csv(f'{file_folder}/scalar_coupling_contributions.csv')\n",
    "structures = pd.read_csv(f'{file_folder}/structures.csv')"
   ]
  },
  {
   "cell_type": "code",
   "execution_count": 13,
   "metadata": {},
   "outputs": [],
   "source": [
    "x = magnetic_shielding_tensors.columns.values[2:]\n",
    "x = magnetic_shielding_tensors[x].values\n",
    "x = x.reshape(-1,3,3)\n",
    "x = x + np.transpose(x,(0,2,1))\n",
    "x = 0.5 * x\n",
    "w, v = np.linalg.eigh(x)\n",
    "\n",
    "sigma_iso = np.sum(w, axis=1)/3 \n",
    "omega = w[:,2] - w[:,0]\n",
    "kappa = 3 * (sigma_iso - w[:,1])/omega\n",
    "\n",
    "magnetic_shielding_parameters = magnetic_shielding_tensors[magnetic_shielding_tensors.columns.values[:2]]\n",
    "magnetic_shielding_parameters = pd.DataFrame(magnetic_shielding_parameters)\n",
    "magnetic_shielding_parameters[\"sigma_iso\"] = sigma_iso\n",
    "magnetic_shielding_parameters[\"omega\"] = omega\n",
    "magnetic_shielding_parameters[\"kappa\"] = kappa"
   ]
  },
  {
   "cell_type": "code",
   "execution_count": 14,
   "metadata": {},
   "outputs": [],
   "source": [
    "atomic_radius = {'H': 0.38, 'C': 0.77, 'N': 0.75, 'O': 0.73, 'F': 0.71}\n",
    "atomic_number = {'H': 1, 'C': 6, 'N': 7, 'O': 8, 'F': 9}\n",
    "atomic_mass = {'H': 1.0079, 'C': 12.0107, 'N': 14.0067, 'O': 15.9994, 'F': 18.9984}\n",
    "vanderwaalsradius = {'H': 120, 'C': 185, 'N': 154, 'O': 140, 'F': 135}\n",
    "covalenzradius = {'H': 30, 'C': 77, 'N': 70, 'O': 66, 'F': 58}\n",
    "electronegativity = {'H': 2.2, 'C': 2.55, 'N': 3.04, 'O': 3.44, 'F': 3.98}\n",
    "ionization_energy = {'H': 13.5984, 'C': 11.2603, 'N': 14.5341, 'O': 13.6181, 'F': 17.4228}\n",
    "\n",
    "structures['atomic_radius'] = structures['atom'].apply(lambda x: atomic_radius[x])\n",
    "structures['atomic_number'] = structures['atom'].apply(lambda x: atomic_number[x])\n",
    "structures['atomic_mass'] = structures['atom'].apply(lambda x: atomic_mass[x])\n",
    "structures['vanderwaalsradius'] = structures['atom'].apply(lambda x: vanderwaalsradius[x])\n",
    "structures['covalenzradius'] = structures['atom'].apply(lambda x: covalenzradius[x])\n",
    "structures['electronegativity'] = structures['atom'].apply(lambda x: electronegativity[x])\n",
    "structures['ionization_energy'] = structures['atom'].apply(lambda x: ionization_energy[x])\n"
   ]
  },
  {
   "cell_type": "code",
   "execution_count": 15,
   "metadata": {},
   "outputs": [
    {
     "data": {
      "text/html": [
       "<div>\n",
       "<style scoped>\n",
       "    .dataframe tbody tr th:only-of-type {\n",
       "        vertical-align: middle;\n",
       "    }\n",
       "\n",
       "    .dataframe tbody tr th {\n",
       "        vertical-align: top;\n",
       "    }\n",
       "\n",
       "    .dataframe thead th {\n",
       "        text-align: right;\n",
       "    }\n",
       "</style>\n",
       "<table border=\"1\" class=\"dataframe\">\n",
       "  <thead>\n",
       "    <tr style=\"text-align: right;\">\n",
       "      <th></th>\n",
       "      <th>molecule_name</th>\n",
       "      <th>atom_index</th>\n",
       "      <th>atom</th>\n",
       "      <th>x</th>\n",
       "      <th>y</th>\n",
       "      <th>z</th>\n",
       "      <th>atomic_radius</th>\n",
       "      <th>atomic_number</th>\n",
       "      <th>atomic_mass</th>\n",
       "      <th>vanderwaalsradius</th>\n",
       "      <th>covalenzradius</th>\n",
       "      <th>electronegativity</th>\n",
       "      <th>ionization_energy</th>\n",
       "    </tr>\n",
       "  </thead>\n",
       "  <tbody>\n",
       "    <tr>\n",
       "      <th>0</th>\n",
       "      <td>dsgdb9nsd_000001</td>\n",
       "      <td>0</td>\n",
       "      <td>C</td>\n",
       "      <td>-0.012698</td>\n",
       "      <td>1.085804</td>\n",
       "      <td>0.008001</td>\n",
       "      <td>0.77</td>\n",
       "      <td>6</td>\n",
       "      <td>12.0107</td>\n",
       "      <td>185</td>\n",
       "      <td>77</td>\n",
       "      <td>2.55</td>\n",
       "      <td>11.2603</td>\n",
       "    </tr>\n",
       "    <tr>\n",
       "      <th>1</th>\n",
       "      <td>dsgdb9nsd_000001</td>\n",
       "      <td>1</td>\n",
       "      <td>H</td>\n",
       "      <td>0.002150</td>\n",
       "      <td>-0.006031</td>\n",
       "      <td>0.001976</td>\n",
       "      <td>0.38</td>\n",
       "      <td>1</td>\n",
       "      <td>1.0079</td>\n",
       "      <td>120</td>\n",
       "      <td>30</td>\n",
       "      <td>2.20</td>\n",
       "      <td>13.5984</td>\n",
       "    </tr>\n",
       "    <tr>\n",
       "      <th>2</th>\n",
       "      <td>dsgdb9nsd_000001</td>\n",
       "      <td>2</td>\n",
       "      <td>H</td>\n",
       "      <td>1.011731</td>\n",
       "      <td>1.463751</td>\n",
       "      <td>0.000277</td>\n",
       "      <td>0.38</td>\n",
       "      <td>1</td>\n",
       "      <td>1.0079</td>\n",
       "      <td>120</td>\n",
       "      <td>30</td>\n",
       "      <td>2.20</td>\n",
       "      <td>13.5984</td>\n",
       "    </tr>\n",
       "    <tr>\n",
       "      <th>3</th>\n",
       "      <td>dsgdb9nsd_000001</td>\n",
       "      <td>3</td>\n",
       "      <td>H</td>\n",
       "      <td>-0.540815</td>\n",
       "      <td>1.447527</td>\n",
       "      <td>-0.876644</td>\n",
       "      <td>0.38</td>\n",
       "      <td>1</td>\n",
       "      <td>1.0079</td>\n",
       "      <td>120</td>\n",
       "      <td>30</td>\n",
       "      <td>2.20</td>\n",
       "      <td>13.5984</td>\n",
       "    </tr>\n",
       "    <tr>\n",
       "      <th>4</th>\n",
       "      <td>dsgdb9nsd_000001</td>\n",
       "      <td>4</td>\n",
       "      <td>H</td>\n",
       "      <td>-0.523814</td>\n",
       "      <td>1.437933</td>\n",
       "      <td>0.906397</td>\n",
       "      <td>0.38</td>\n",
       "      <td>1</td>\n",
       "      <td>1.0079</td>\n",
       "      <td>120</td>\n",
       "      <td>30</td>\n",
       "      <td>2.20</td>\n",
       "      <td>13.5984</td>\n",
       "    </tr>\n",
       "  </tbody>\n",
       "</table>\n",
       "</div>"
      ],
      "text/plain": [
       "      molecule_name  atom_index atom         x         y         z  \\\n",
       "0  dsgdb9nsd_000001           0    C -0.012698  1.085804  0.008001   \n",
       "1  dsgdb9nsd_000001           1    H  0.002150 -0.006031  0.001976   \n",
       "2  dsgdb9nsd_000001           2    H  1.011731  1.463751  0.000277   \n",
       "3  dsgdb9nsd_000001           3    H -0.540815  1.447527 -0.876644   \n",
       "4  dsgdb9nsd_000001           4    H -0.523814  1.437933  0.906397   \n",
       "\n",
       "   atomic_radius  atomic_number  atomic_mass  vanderwaalsradius  \\\n",
       "0           0.77              6      12.0107                185   \n",
       "1           0.38              1       1.0079                120   \n",
       "2           0.38              1       1.0079                120   \n",
       "3           0.38              1       1.0079                120   \n",
       "4           0.38              1       1.0079                120   \n",
       "\n",
       "   covalenzradius  electronegativity  ionization_energy  \n",
       "0              77               2.55            11.2603  \n",
       "1              30               2.20            13.5984  \n",
       "2              30               2.20            13.5984  \n",
       "3              30               2.20            13.5984  \n",
       "4              30               2.20            13.5984  "
      ]
     },
     "execution_count": 15,
     "metadata": {},
     "output_type": "execute_result"
    }
   ],
   "source": [
    "structures.head()"
   ]
  },
  {
   "cell_type": "code",
   "execution_count": 16,
   "metadata": {},
   "outputs": [],
   "source": [
    "le = LabelEncoder()\n",
    "le.fit(structures.atom.tolist())\n",
    "int_atom = le.transform(structures.atom.tolist()) \n",
    "structures['int_atom'] = int_atom"
   ]
  },
  {
   "cell_type": "code",
   "execution_count": 17,
   "metadata": {},
   "outputs": [
    {
     "data": {
      "text/plain": [
       "array(['C', 'F', 'H', 'N', 'O'], dtype='<U1')"
      ]
     },
     "execution_count": 17,
     "metadata": {},
     "output_type": "execute_result"
    }
   ],
   "source": [
    "le.classes_"
   ]
  },
  {
   "cell_type": "code",
   "execution_count": 15,
   "metadata": {},
   "outputs": [
    {
     "data": {
      "text/html": [
       "<div>\n",
       "<style scoped>\n",
       "    .dataframe tbody tr th:only-of-type {\n",
       "        vertical-align: middle;\n",
       "    }\n",
       "\n",
       "    .dataframe tbody tr th {\n",
       "        vertical-align: top;\n",
       "    }\n",
       "\n",
       "    .dataframe thead th {\n",
       "        text-align: right;\n",
       "    }\n",
       "</style>\n",
       "<table border=\"1\" class=\"dataframe\">\n",
       "  <thead>\n",
       "    <tr style=\"text-align: right;\">\n",
       "      <th></th>\n",
       "      <th>molecule_name</th>\n",
       "      <th>atom_index</th>\n",
       "      <th>sigma_iso</th>\n",
       "      <th>omega</th>\n",
       "      <th>kappa</th>\n",
       "    </tr>\n",
       "  </thead>\n",
       "  <tbody>\n",
       "    <tr>\n",
       "      <th>0</th>\n",
       "      <td>dsgdb9nsd_000001</td>\n",
       "      <td>0</td>\n",
       "      <td>195.316333</td>\n",
       "      <td>0.002708</td>\n",
       "      <td>0.032697</td>\n",
       "    </tr>\n",
       "    <tr>\n",
       "      <th>1</th>\n",
       "      <td>dsgdb9nsd_000001</td>\n",
       "      <td>1</td>\n",
       "      <td>31.460567</td>\n",
       "      <td>9.082838</td>\n",
       "      <td>0.999975</td>\n",
       "    </tr>\n",
       "    <tr>\n",
       "      <th>2</th>\n",
       "      <td>dsgdb9nsd_000001</td>\n",
       "      <td>2</td>\n",
       "      <td>31.460567</td>\n",
       "      <td>9.082793</td>\n",
       "      <td>0.999984</td>\n",
       "    </tr>\n",
       "    <tr>\n",
       "      <th>3</th>\n",
       "      <td>dsgdb9nsd_000001</td>\n",
       "      <td>3</td>\n",
       "      <td>31.460633</td>\n",
       "      <td>9.082804</td>\n",
       "      <td>0.999977</td>\n",
       "    </tr>\n",
       "    <tr>\n",
       "      <th>4</th>\n",
       "      <td>dsgdb9nsd_000001</td>\n",
       "      <td>4</td>\n",
       "      <td>31.460600</td>\n",
       "      <td>9.082853</td>\n",
       "      <td>0.999971</td>\n",
       "    </tr>\n",
       "  </tbody>\n",
       "</table>\n",
       "</div>"
      ],
      "text/plain": [
       "      molecule_name  atom_index   sigma_iso     omega     kappa\n",
       "0  dsgdb9nsd_000001           0  195.316333  0.002708  0.032697\n",
       "1  dsgdb9nsd_000001           1   31.460567  9.082838  0.999975\n",
       "2  dsgdb9nsd_000001           2   31.460567  9.082793  0.999984\n",
       "3  dsgdb9nsd_000001           3   31.460633  9.082804  0.999977\n",
       "4  dsgdb9nsd_000001           4   31.460600  9.082853  0.999971"
      ]
     },
     "execution_count": 15,
     "metadata": {},
     "output_type": "execute_result"
    }
   ],
   "source": [
    "magnetic_shielding_parameters.head()"
   ]
  },
  {
   "cell_type": "code",
   "execution_count": 16,
   "metadata": {},
   "outputs": [
    {
     "data": {
      "text/html": [
       "<div>\n",
       "<style scoped>\n",
       "    .dataframe tbody tr th:only-of-type {\n",
       "        vertical-align: middle;\n",
       "    }\n",
       "\n",
       "    .dataframe tbody tr th {\n",
       "        vertical-align: top;\n",
       "    }\n",
       "\n",
       "    .dataframe thead th {\n",
       "        text-align: right;\n",
       "    }\n",
       "</style>\n",
       "<table border=\"1\" class=\"dataframe\">\n",
       "  <thead>\n",
       "    <tr style=\"text-align: right;\">\n",
       "      <th></th>\n",
       "      <th>molecule_name</th>\n",
       "      <th>atom_index</th>\n",
       "      <th>mulliken_charge</th>\n",
       "    </tr>\n",
       "  </thead>\n",
       "  <tbody>\n",
       "    <tr>\n",
       "      <th>0</th>\n",
       "      <td>dsgdb9nsd_000001</td>\n",
       "      <td>0</td>\n",
       "      <td>-0.535689</td>\n",
       "    </tr>\n",
       "    <tr>\n",
       "      <th>1</th>\n",
       "      <td>dsgdb9nsd_000001</td>\n",
       "      <td>1</td>\n",
       "      <td>0.133921</td>\n",
       "    </tr>\n",
       "    <tr>\n",
       "      <th>2</th>\n",
       "      <td>dsgdb9nsd_000001</td>\n",
       "      <td>2</td>\n",
       "      <td>0.133922</td>\n",
       "    </tr>\n",
       "    <tr>\n",
       "      <th>3</th>\n",
       "      <td>dsgdb9nsd_000001</td>\n",
       "      <td>3</td>\n",
       "      <td>0.133923</td>\n",
       "    </tr>\n",
       "    <tr>\n",
       "      <th>4</th>\n",
       "      <td>dsgdb9nsd_000001</td>\n",
       "      <td>4</td>\n",
       "      <td>0.133923</td>\n",
       "    </tr>\n",
       "  </tbody>\n",
       "</table>\n",
       "</div>"
      ],
      "text/plain": [
       "      molecule_name  atom_index  mulliken_charge\n",
       "0  dsgdb9nsd_000001           0        -0.535689\n",
       "1  dsgdb9nsd_000001           1         0.133921\n",
       "2  dsgdb9nsd_000001           2         0.133922\n",
       "3  dsgdb9nsd_000001           3         0.133923\n",
       "4  dsgdb9nsd_000001           4         0.133923"
      ]
     },
     "execution_count": 16,
     "metadata": {},
     "output_type": "execute_result"
    }
   ],
   "source": [
    "mulliken_charges.head()"
   ]
  },
  {
   "cell_type": "code",
   "execution_count": 25,
   "metadata": {},
   "outputs": [],
   "source": [
    "dipole_moments['rms'] = np.sqrt(dipole_moments['X']**2 + dipole_moments['Y']**2 + dipole_moments['Z']**2 )"
   ]
  },
  {
   "cell_type": "code",
   "execution_count": 18,
   "metadata": {},
   "outputs": [
    {
     "data": {
      "text/html": [
       "<div>\n",
       "<style scoped>\n",
       "    .dataframe tbody tr th:only-of-type {\n",
       "        vertical-align: middle;\n",
       "    }\n",
       "\n",
       "    .dataframe tbody tr th {\n",
       "        vertical-align: top;\n",
       "    }\n",
       "\n",
       "    .dataframe thead th {\n",
       "        text-align: right;\n",
       "    }\n",
       "</style>\n",
       "<table border=\"1\" class=\"dataframe\">\n",
       "  <thead>\n",
       "    <tr style=\"text-align: right;\">\n",
       "      <th></th>\n",
       "      <th>molecule_name</th>\n",
       "      <th>X</th>\n",
       "      <th>Y</th>\n",
       "      <th>Z</th>\n",
       "      <th>rms</th>\n",
       "    </tr>\n",
       "  </thead>\n",
       "  <tbody>\n",
       "    <tr>\n",
       "      <th>0</th>\n",
       "      <td>dsgdb9nsd_000001</td>\n",
       "      <td>0.0000</td>\n",
       "      <td>0.0</td>\n",
       "      <td>0.0000</td>\n",
       "      <td>0.0000</td>\n",
       "    </tr>\n",
       "    <tr>\n",
       "      <th>1</th>\n",
       "      <td>dsgdb9nsd_000002</td>\n",
       "      <td>-0.0002</td>\n",
       "      <td>0.0</td>\n",
       "      <td>1.6256</td>\n",
       "      <td>1.6256</td>\n",
       "    </tr>\n",
       "    <tr>\n",
       "      <th>2</th>\n",
       "      <td>dsgdb9nsd_000003</td>\n",
       "      <td>0.0000</td>\n",
       "      <td>0.0</td>\n",
       "      <td>-1.8511</td>\n",
       "      <td>1.8511</td>\n",
       "    </tr>\n",
       "    <tr>\n",
       "      <th>3</th>\n",
       "      <td>dsgdb9nsd_000005</td>\n",
       "      <td>0.0000</td>\n",
       "      <td>0.0</td>\n",
       "      <td>-2.8937</td>\n",
       "      <td>2.8937</td>\n",
       "    </tr>\n",
       "    <tr>\n",
       "      <th>4</th>\n",
       "      <td>dsgdb9nsd_000007</td>\n",
       "      <td>0.0000</td>\n",
       "      <td>0.0</td>\n",
       "      <td>0.0000</td>\n",
       "      <td>0.0000</td>\n",
       "    </tr>\n",
       "  </tbody>\n",
       "</table>\n",
       "</div>"
      ],
      "text/plain": [
       "      molecule_name       X    Y       Z     rms\n",
       "0  dsgdb9nsd_000001  0.0000  0.0  0.0000  0.0000\n",
       "1  dsgdb9nsd_000002 -0.0002  0.0  1.6256  1.6256\n",
       "2  dsgdb9nsd_000003  0.0000  0.0 -1.8511  1.8511\n",
       "3  dsgdb9nsd_000005  0.0000  0.0 -2.8937  2.8937\n",
       "4  dsgdb9nsd_000007  0.0000  0.0  0.0000  0.0000"
      ]
     },
     "execution_count": 18,
     "metadata": {},
     "output_type": "execute_result"
    }
   ],
   "source": [
    "dipole_moments.head()#MAE 3.x without scaled y, 2.x with scaled y"
   ]
  },
  {
   "cell_type": "code",
   "execution_count": 19,
   "metadata": {},
   "outputs": [
    {
     "data": {
      "text/html": [
       "<div>\n",
       "<style scoped>\n",
       "    .dataframe tbody tr th:only-of-type {\n",
       "        vertical-align: middle;\n",
       "    }\n",
       "\n",
       "    .dataframe tbody tr th {\n",
       "        vertical-align: top;\n",
       "    }\n",
       "\n",
       "    .dataframe thead th {\n",
       "        text-align: right;\n",
       "    }\n",
       "</style>\n",
       "<table border=\"1\" class=\"dataframe\">\n",
       "  <thead>\n",
       "    <tr style=\"text-align: right;\">\n",
       "      <th></th>\n",
       "      <th>molecule_name</th>\n",
       "      <th>potential_energy</th>\n",
       "    </tr>\n",
       "  </thead>\n",
       "  <tbody>\n",
       "    <tr>\n",
       "      <th>0</th>\n",
       "      <td>dsgdb9nsd_000001</td>\n",
       "      <td>-40.52368</td>\n",
       "    </tr>\n",
       "    <tr>\n",
       "      <th>1</th>\n",
       "      <td>dsgdb9nsd_000002</td>\n",
       "      <td>-56.56025</td>\n",
       "    </tr>\n",
       "    <tr>\n",
       "      <th>2</th>\n",
       "      <td>dsgdb9nsd_000003</td>\n",
       "      <td>-76.42608</td>\n",
       "    </tr>\n",
       "    <tr>\n",
       "      <th>3</th>\n",
       "      <td>dsgdb9nsd_000005</td>\n",
       "      <td>-93.42849</td>\n",
       "    </tr>\n",
       "    <tr>\n",
       "      <th>4</th>\n",
       "      <td>dsgdb9nsd_000007</td>\n",
       "      <td>-79.83869</td>\n",
       "    </tr>\n",
       "  </tbody>\n",
       "</table>\n",
       "</div>"
      ],
      "text/plain": [
       "      molecule_name  potential_energy\n",
       "0  dsgdb9nsd_000001         -40.52368\n",
       "1  dsgdb9nsd_000002         -56.56025\n",
       "2  dsgdb9nsd_000003         -76.42608\n",
       "3  dsgdb9nsd_000005         -93.42849\n",
       "4  dsgdb9nsd_000007         -79.83869"
      ]
     },
     "execution_count": 19,
     "metadata": {},
     "output_type": "execute_result"
    }
   ],
   "source": [
    "potential_energy.head()#MAE 30.x with scaled y"
   ]
  },
  {
   "cell_type": "code",
   "execution_count": 26,
   "metadata": {},
   "outputs": [],
   "source": [
    "molecule_info = pd.merge(dipole_moments, potential_energy, how = 'left', left_on  = ['molecule_name'], right_on = ['molecule_name'])"
   ]
  },
  {
   "cell_type": "code",
   "execution_count": 27,
   "metadata": {},
   "outputs": [
    {
     "data": {
      "text/html": [
       "<div>\n",
       "<style scoped>\n",
       "    .dataframe tbody tr th:only-of-type {\n",
       "        vertical-align: middle;\n",
       "    }\n",
       "\n",
       "    .dataframe tbody tr th {\n",
       "        vertical-align: top;\n",
       "    }\n",
       "\n",
       "    .dataframe thead th {\n",
       "        text-align: right;\n",
       "    }\n",
       "</style>\n",
       "<table border=\"1\" class=\"dataframe\">\n",
       "  <thead>\n",
       "    <tr style=\"text-align: right;\">\n",
       "      <th></th>\n",
       "      <th>molecule_name</th>\n",
       "      <th>X</th>\n",
       "      <th>Y</th>\n",
       "      <th>Z</th>\n",
       "      <th>rms</th>\n",
       "      <th>potential_energy</th>\n",
       "    </tr>\n",
       "  </thead>\n",
       "  <tbody>\n",
       "    <tr>\n",
       "      <th>0</th>\n",
       "      <td>dsgdb9nsd_000001</td>\n",
       "      <td>0.0000</td>\n",
       "      <td>0.0</td>\n",
       "      <td>0.0000</td>\n",
       "      <td>0.0000</td>\n",
       "      <td>-40.52368</td>\n",
       "    </tr>\n",
       "    <tr>\n",
       "      <th>1</th>\n",
       "      <td>dsgdb9nsd_000002</td>\n",
       "      <td>-0.0002</td>\n",
       "      <td>0.0</td>\n",
       "      <td>1.6256</td>\n",
       "      <td>1.6256</td>\n",
       "      <td>-56.56025</td>\n",
       "    </tr>\n",
       "    <tr>\n",
       "      <th>2</th>\n",
       "      <td>dsgdb9nsd_000003</td>\n",
       "      <td>0.0000</td>\n",
       "      <td>0.0</td>\n",
       "      <td>-1.8511</td>\n",
       "      <td>1.8511</td>\n",
       "      <td>-76.42608</td>\n",
       "    </tr>\n",
       "    <tr>\n",
       "      <th>3</th>\n",
       "      <td>dsgdb9nsd_000005</td>\n",
       "      <td>0.0000</td>\n",
       "      <td>0.0</td>\n",
       "      <td>-2.8937</td>\n",
       "      <td>2.8937</td>\n",
       "      <td>-93.42849</td>\n",
       "    </tr>\n",
       "    <tr>\n",
       "      <th>4</th>\n",
       "      <td>dsgdb9nsd_000007</td>\n",
       "      <td>0.0000</td>\n",
       "      <td>0.0</td>\n",
       "      <td>0.0000</td>\n",
       "      <td>0.0000</td>\n",
       "      <td>-79.83869</td>\n",
       "    </tr>\n",
       "  </tbody>\n",
       "</table>\n",
       "</div>"
      ],
      "text/plain": [
       "      molecule_name       X    Y       Z     rms  potential_energy\n",
       "0  dsgdb9nsd_000001  0.0000  0.0  0.0000  0.0000         -40.52368\n",
       "1  dsgdb9nsd_000002 -0.0002  0.0  1.6256  1.6256         -56.56025\n",
       "2  dsgdb9nsd_000003  0.0000  0.0 -1.8511  1.8511         -76.42608\n",
       "3  dsgdb9nsd_000005  0.0000  0.0 -2.8937  2.8937         -93.42849\n",
       "4  dsgdb9nsd_000007  0.0000  0.0  0.0000  0.0000         -79.83869"
      ]
     },
     "execution_count": 27,
     "metadata": {},
     "output_type": "execute_result"
    }
   ],
   "source": [
    "molecule_info.head()"
   ]
  },
  {
   "cell_type": "code",
   "execution_count": 20,
   "metadata": {},
   "outputs": [
    {
     "name": "stdout",
     "output_type": "stream",
     "text": [
      "(0,)\n",
      "(0,)\n",
      "(0,)\n",
      "(0,)\n",
      "(0,)\n"
     ]
    }
   ],
   "source": [
    "for col in molecule_info.columns.tolist():\n",
    "    print(np.where(molecule_info[col].isna())[0].shape)"
   ]
  },
  {
   "cell_type": "code",
   "execution_count": 21,
   "metadata": {},
   "outputs": [],
   "source": [
    "atom_info = pd.merge(magnetic_shielding_parameters, mulliken_charges, how = 'left', left_on  = ['molecule_name','atom_index'], right_on = ['molecule_name','atom_index'])"
   ]
  },
  {
   "cell_type": "code",
   "execution_count": 22,
   "metadata": {},
   "outputs": [
    {
     "data": {
      "text/html": [
       "<div>\n",
       "<style scoped>\n",
       "    .dataframe tbody tr th:only-of-type {\n",
       "        vertical-align: middle;\n",
       "    }\n",
       "\n",
       "    .dataframe tbody tr th {\n",
       "        vertical-align: top;\n",
       "    }\n",
       "\n",
       "    .dataframe thead th {\n",
       "        text-align: right;\n",
       "    }\n",
       "</style>\n",
       "<table border=\"1\" class=\"dataframe\">\n",
       "  <thead>\n",
       "    <tr style=\"text-align: right;\">\n",
       "      <th></th>\n",
       "      <th>molecule_name</th>\n",
       "      <th>atom_index</th>\n",
       "      <th>sigma_iso</th>\n",
       "      <th>omega</th>\n",
       "      <th>kappa</th>\n",
       "      <th>mulliken_charge</th>\n",
       "    </tr>\n",
       "  </thead>\n",
       "  <tbody>\n",
       "    <tr>\n",
       "      <th>0</th>\n",
       "      <td>dsgdb9nsd_000001</td>\n",
       "      <td>0</td>\n",
       "      <td>195.316333</td>\n",
       "      <td>0.002708</td>\n",
       "      <td>0.032697</td>\n",
       "      <td>-0.535689</td>\n",
       "    </tr>\n",
       "    <tr>\n",
       "      <th>1</th>\n",
       "      <td>dsgdb9nsd_000001</td>\n",
       "      <td>1</td>\n",
       "      <td>31.460567</td>\n",
       "      <td>9.082838</td>\n",
       "      <td>0.999975</td>\n",
       "      <td>0.133921</td>\n",
       "    </tr>\n",
       "    <tr>\n",
       "      <th>2</th>\n",
       "      <td>dsgdb9nsd_000001</td>\n",
       "      <td>2</td>\n",
       "      <td>31.460567</td>\n",
       "      <td>9.082793</td>\n",
       "      <td>0.999984</td>\n",
       "      <td>0.133922</td>\n",
       "    </tr>\n",
       "    <tr>\n",
       "      <th>3</th>\n",
       "      <td>dsgdb9nsd_000001</td>\n",
       "      <td>3</td>\n",
       "      <td>31.460633</td>\n",
       "      <td>9.082804</td>\n",
       "      <td>0.999977</td>\n",
       "      <td>0.133923</td>\n",
       "    </tr>\n",
       "    <tr>\n",
       "      <th>4</th>\n",
       "      <td>dsgdb9nsd_000001</td>\n",
       "      <td>4</td>\n",
       "      <td>31.460600</td>\n",
       "      <td>9.082853</td>\n",
       "      <td>0.999971</td>\n",
       "      <td>0.133923</td>\n",
       "    </tr>\n",
       "  </tbody>\n",
       "</table>\n",
       "</div>"
      ],
      "text/plain": [
       "      molecule_name  atom_index   sigma_iso     omega     kappa  \\\n",
       "0  dsgdb9nsd_000001           0  195.316333  0.002708  0.032697   \n",
       "1  dsgdb9nsd_000001           1   31.460567  9.082838  0.999975   \n",
       "2  dsgdb9nsd_000001           2   31.460567  9.082793  0.999984   \n",
       "3  dsgdb9nsd_000001           3   31.460633  9.082804  0.999977   \n",
       "4  dsgdb9nsd_000001           4   31.460600  9.082853  0.999971   \n",
       "\n",
       "   mulliken_charge  \n",
       "0        -0.535689  \n",
       "1         0.133921  \n",
       "2         0.133922  \n",
       "3         0.133923  \n",
       "4         0.133923  "
      ]
     },
     "execution_count": 22,
     "metadata": {},
     "output_type": "execute_result"
    }
   ],
   "source": [
    "atom_info.head()"
   ]
  },
  {
   "cell_type": "code",
   "execution_count": 23,
   "metadata": {},
   "outputs": [
    {
     "name": "stdout",
     "output_type": "stream",
     "text": [
      "(0,)\n",
      "(0,)\n",
      "(0,)\n",
      "(0,)\n",
      "(0,)\n",
      "(0,)\n"
     ]
    }
   ],
   "source": [
    "for col in atom_info.columns.tolist():\n",
    "    print(np.where(atom_info[col].isna())[0].shape)"
   ]
  },
  {
   "cell_type": "code",
   "execution_count": 28,
   "metadata": {},
   "outputs": [
    {
     "data": {
      "text/plain": [
       "(array([39.82863665,  1.49279267]), array([-410.87405548,    2.67236092]))"
      ]
     },
     "execution_count": 28,
     "metadata": {},
     "output_type": "execute_result"
    }
   ],
   "source": [
    "y_std = np.std(molecule_info[['potential_energy','rms']].values, axis=0)\n",
    "y_mean = np.mean(molecule_info[['potential_energy','rms']].values, axis=0)\n",
    "y_std, y_mean"
   ]
  },
  {
   "cell_type": "code",
   "execution_count": 29,
   "metadata": {},
   "outputs": [],
   "source": [
    "def _worker(item, df_bonds, df_structures, molecule_info, has_y):\n",
    "    \n",
    "    idx = item[0]\n",
    "    molecule_name = item[1]\n",
    "    \n",
    "    # point attribute\n",
    "    x = torch.tensor(df_structures[df_structures['molecule_name']==molecule_name].sort_values(by=['atom_index'])[['int_atom','atomic_radius', 'atomic_number', 'atomic_mass', 'vanderwaalsradius', 'covalenzradius', 'electronegativity', 'ionization_energy']].values, dtype=torch.float)\n",
    "    # position\n",
    "    pos = torch.tensor(df_structures[df_structures['molecule_name']==molecule_name].sort_values(by=['atom_index'])[['x','y','z']].values, dtype=torch.float)\n",
    "\n",
    "    edge_index = []\n",
    "    edge_attr = []\n",
    "\n",
    "    df_molecule_i = df_bonds[df_bonds['molecule_name']==molecule_name]\n",
    "    molecule_info_i = molecule_info[molecule_info['molecule_name']==molecule_name]\n",
    "\n",
    "    if has_y:\n",
    "        y = (molecule_info_i[['potential_energy','rms']].values-y_mean)/y_std\n",
    "        y = torch.tensor(y, dtype=torch.float)\n",
    "\n",
    "    for idx, row in df_molecule_i.iterrows():\n",
    "        edge_index.append([row['atom_index_0'], row['atom_index_1']])\n",
    "        edge_index.append([row['atom_index_1'], row['atom_index_0']])\n",
    "        edge_attr.append([row['type0'], row['int_type1']])\n",
    "        edge_attr.append([row['type0'], row['int_type1']])\n",
    "\n",
    "    edge_index = torch.tensor(edge_index, dtype=torch.long)\n",
    "    edge_attr = torch.tensor(edge_attr, dtype=torch.float)\n",
    "    if has_y:\n",
    "        data = Data(x=x, edge_index=edge_index.t().contiguous(), pos=pos, edge_attr=edge_attr, y=y)\n",
    "    else:\n",
    "        data = Data(x=x, edge_index=edge_index.t().contiguous(), pos=pos, edge_attr=edge_attr)\n",
    "    d_ =  {'idx':idx, 'molecule_name':molecule_name, 'data':data}\n",
    "#     print(d_)\n",
    "    return d_\n",
    "\n",
    "\n",
    "def generate_datalist(df_bonds, df_structures, molecule_info, molecule_names, has_y = True):\n",
    "    N_ = len(molecule_names)\n",
    "    segments = N_//100\n",
    "    data_list = []\n",
    "    \n",
    "#     data_list = Parallel(_worker,{'df_bonds':df_bonds, 'df_structures':df_structures, 'molecule_info':molecule_info, 'has_y':has_y}).run(zip(np.arange(N_), molecule_names), n_jobs=4)\n",
    "    \n",
    "#     for start in tqdm_notebook(range(0, N_, segments)):\n",
    "#         end = start + segments if start + segments < N_ else N_\n",
    "#         res = Parallel(_worker,{'df_bonds':df_bonds, 'df_structures':df_structures, 'molecule_info':molecule_info, 'has_y':has_y}).run(zip(np.arange(start,end,1), molecule_names[start:end]), n_jobs=4)\n",
    "    for item in tqdm_notebook(enumerate(molecule_names), total=N_):\n",
    "        d_ = _worker(item, **{'df_bonds':df_bonds, 'df_structures':df_structures, 'molecule_info':molecule_info, 'has_y':has_y})\n",
    "        data_list.append(d_)\n",
    "    df_ = pd.DataFrame(data_list)\n",
    "    df_ = df_.sort_values(by=['idx']).reset_index(drop=True)\n",
    "    return df_\n",
    "    "
   ]
  },
  {
   "cell_type": "code",
   "execution_count": null,
   "metadata": {},
   "outputs": [],
   "source": [
    "molecule_names = train.molecule_name.unique().tolist()"
   ]
  },
  {
   "cell_type": "code",
   "execution_count": 36,
   "metadata": {},
   "outputs": [
    {
     "data": {
      "application/vnd.jupyter.widget-view+json": {
       "model_id": "7a39ab87ed4043f993ea76c72a3b5951",
       "version_major": 2,
       "version_minor": 0
      },
      "text/plain": [
       "HBox(children=(IntProgress(value=0, max=85003), HTML(value='')))"
      ]
     },
     "metadata": {},
     "output_type": "display_data"
    },
    {
     "name": "stdout",
     "output_type": "stream",
     "text": [
      "\n"
     ]
    }
   ],
   "source": [
    "df_train = generate_datalist(train, structures, molecule_info, molecule_names=molecule_names)"
   ]
  },
  {
   "cell_type": "code",
   "execution_count": 31,
   "metadata": {},
   "outputs": [],
   "source": [
    "molecule_names = test.molecule_name.unique().tolist()"
   ]
  },
  {
   "cell_type": "code",
   "execution_count": null,
   "metadata": {},
   "outputs": [
    {
     "data": {
      "application/vnd.jupyter.widget-view+json": {
       "model_id": "65bb7751aac64dc2b48a7f3f22dd104e",
       "version_major": 2,
       "version_minor": 0
      },
      "text/plain": [
       "HBox(children=(IntProgress(value=0, max=45772), HTML(value='')))"
      ]
     },
     "metadata": {},
     "output_type": "display_data"
    }
   ],
   "source": [
    "test = generate_datalist(test, structures, molecule_info, molecule_names=molecule_names)"
   ]
  },
  {
   "cell_type": "code",
   "execution_count": 37,
   "metadata": {},
   "outputs": [],
   "source": [
    "# df_train.to_pickle('../../data/feature/graph_train.gzip', compression='gzip')"
   ]
  },
  {
   "cell_type": "code",
   "execution_count": 5,
   "metadata": {},
   "outputs": [],
   "source": [
    "df_train = pd.read_pickle('../../data/feature/graph_train.gzip', compression='gzip')"
   ]
  },
  {
   "cell_type": "code",
   "execution_count": 6,
   "metadata": {},
   "outputs": [
    {
     "data": {
      "text/html": [
       "<div>\n",
       "<style scoped>\n",
       "    .dataframe tbody tr th:only-of-type {\n",
       "        vertical-align: middle;\n",
       "    }\n",
       "\n",
       "    .dataframe tbody tr th {\n",
       "        vertical-align: top;\n",
       "    }\n",
       "\n",
       "    .dataframe thead th {\n",
       "        text-align: right;\n",
       "    }\n",
       "</style>\n",
       "<table border=\"1\" class=\"dataframe\">\n",
       "  <thead>\n",
       "    <tr style=\"text-align: right;\">\n",
       "      <th></th>\n",
       "      <th>data</th>\n",
       "      <th>idx</th>\n",
       "      <th>molecule_name</th>\n",
       "    </tr>\n",
       "  </thead>\n",
       "  <tbody>\n",
       "    <tr>\n",
       "      <th>0</th>\n",
       "      <td>[(edge_attr, [tensor([1., 0.]), tensor([1., 0....</td>\n",
       "      <td>9</td>\n",
       "      <td>dsgdb9nsd_000001</td>\n",
       "    </tr>\n",
       "    <tr>\n",
       "      <th>1</th>\n",
       "      <td>[(edge_attr, [tensor([1., 2.]), tensor([1., 2....</td>\n",
       "      <td>15</td>\n",
       "      <td>dsgdb9nsd_000002</td>\n",
       "    </tr>\n",
       "    <tr>\n",
       "      <th>2</th>\n",
       "      <td>[(edge_attr, [tensor([2., 1.]), tensor([2., 1....</td>\n",
       "      <td>16</td>\n",
       "      <td>dsgdb9nsd_000003</td>\n",
       "    </tr>\n",
       "    <tr>\n",
       "      <th>3</th>\n",
       "      <td>[(edge_attr, [tensor([1., 0.]), tensor([1., 0....</td>\n",
       "      <td>18</td>\n",
       "      <td>dsgdb9nsd_000005</td>\n",
       "    </tr>\n",
       "    <tr>\n",
       "      <th>4</th>\n",
       "      <td>[(edge_attr, [tensor([1., 0.]), tensor([1., 0....</td>\n",
       "      <td>45</td>\n",
       "      <td>dsgdb9nsd_000007</td>\n",
       "    </tr>\n",
       "  </tbody>\n",
       "</table>\n",
       "</div>"
      ],
      "text/plain": [
       "                                                data  idx     molecule_name\n",
       "0  [(edge_attr, [tensor([1., 0.]), tensor([1., 0....    9  dsgdb9nsd_000001\n",
       "1  [(edge_attr, [tensor([1., 2.]), tensor([1., 2....   15  dsgdb9nsd_000002\n",
       "2  [(edge_attr, [tensor([2., 1.]), tensor([2., 1....   16  dsgdb9nsd_000003\n",
       "3  [(edge_attr, [tensor([1., 0.]), tensor([1., 0....   18  dsgdb9nsd_000005\n",
       "4  [(edge_attr, [tensor([1., 0.]), tensor([1., 0....   45  dsgdb9nsd_000007"
      ]
     },
     "execution_count": 6,
     "metadata": {},
     "output_type": "execute_result"
    }
   ],
   "source": [
    "df_train.head()"
   ]
  },
  {
   "cell_type": "code",
   "execution_count": 7,
   "metadata": {},
   "outputs": [
    {
     "data": {
      "text/plain": [
       "Data(edge_attr=[20, 2], edge_index=[2, 20], pos=[5, 3], x=[5, 8], y=[1, 2])"
      ]
     },
     "execution_count": 7,
     "metadata": {},
     "output_type": "execute_result"
    }
   ],
   "source": [
    "df_train.data.values[0]"
   ]
  },
  {
   "cell_type": "code",
   "execution_count": 8,
   "metadata": {},
   "outputs": [],
   "source": [
    "def generate_dataLoader(df, molecule_names, shuffle=True, batch_size=32, **kwargs):\n",
    "    data_list = df[df['molecule_name'].isin(molecule_names)]['data'].tolist()\n",
    "    return DataLoader(data_list, batch_size=batch_size, shuffle=shuffle, **kwargs)"
   ]
  },
  {
   "cell_type": "code",
   "execution_count": 40,
   "metadata": {},
   "outputs": [
    {
     "name": "stderr",
     "output_type": "stream",
     "text": [
      "/home/ubuntu/anaconda3/envs/tensorflow_gpu_p36/lib/python3.6/site-packages/sklearn/model_selection/_split.py:2179: FutureWarning: From version 0.21, test_size will always complement train_size unless both are specified.\n",
      "  FutureWarning)\n"
     ]
    }
   ],
   "source": [
    "for i in train_molecule_names\n",
    "train_molecule_names, valid_molecule_names =  train_test_split(molecule_names, train_size=.8, shuffle=True)"
   ]
  },
  {
   "cell_type": "code",
   "execution_count": 42,
   "metadata": {},
   "outputs": [],
   "source": [
    "# test_loader = generate_dataLoader(df_data_train, test_molecule_names)\n",
    "val_loader = generate_dataLoader(df_train, valid_molecule_names)\n",
    "train_loader = generate_dataLoader(df_train, train_molecule_names)"
   ]
  },
  {
   "cell_type": "code",
   "execution_count": 43,
   "metadata": {},
   "outputs": [],
   "source": [
    "gnn_param = {\n",
    "    'node_expand_dim':64,\n",
    "    'link_expand_dim':128,\n",
    "    'node_dim':8,\n",
    "    'link_dim':2,\n",
    "    'conv_layers':3\n",
    "}\n",
    "# node_expand_dim = 64\n",
    "# link_expand_dim = 128\n",
    "# node_dim = 8\n",
    "# link_dim = 2\n",
    "# conv_layers = 3\n",
    "\n",
    "class Net(torch.nn.Module):\n",
    "    \n",
    "    def __init__(self, node_expand_dim, link_expand_dim, node_dim, link_dim, conv_layers):\n",
    "        super(Net, self).__init__()\n",
    "        \n",
    "        self.node_expand_dim = node_expand_dim\n",
    "        self.link_expand_dim = link_expand_dim\n",
    "        self.node_dim = node_dim\n",
    "        self.link_dim = link_dim\n",
    "        self.conv_layers = conv_layers\n",
    "        \n",
    "        self.lin0 = torch.nn.Linear(node_dim, node_expand_dim)\n",
    "        nn = Sequential(Linear(link_dim, link_expand_dim), ReLU(), Linear(link_expand_dim, node_expand_dim * node_expand_dim))\n",
    "        self.conv = NNConv(node_expand_dim, node_expand_dim, nn, aggr='mean', root_weight=False)\n",
    "        self.gru = GRU(node_expand_dim, node_expand_dim)\n",
    "        self.set2set = Set2Set(node_expand_dim, processing_steps=3)\n",
    "        self.lin3 = torch.nn.Linear(node_expand_dim, 2 * node_expand_dim)\n",
    "        self.lin1 = torch.nn.Linear(2 * node_expand_dim, node_expand_dim)\n",
    "        self.lin2 = torch.nn.Linear(node_expand_dim, 1)\n",
    "\n",
    "    def forward(self, data):\n",
    "        out = F.relu(self.lin0(data.x))\n",
    "        h = out.unsqueeze(0)\n",
    "        for i in range(self.conv_layers):\n",
    "            m = F.relu(self.conv(out, data.edge_index, data.edge_attr))\n",
    "            out, h = self.gru(m.unsqueeze(0), h)\n",
    "            out = out.squeeze(0)\n",
    "            \n",
    "        out = self.set2set(out, data.batch)\n",
    "#         out = F.relu(self.lin3(out))\n",
    "        out = F.relu(self.lin1(out))\n",
    "        out = self.lin2(out)\n",
    "#         print(out.shape)\n",
    "#         out = out.view(-1)\n",
    "        return out\n",
    "\n",
    "\n",
    "\n",
    "class GNN(object):\n",
    "    \n",
    "    def __init__(self, node_expand_dim, link_expand_dim, node_dim, link_dim, conv_layers):\n",
    "        self.device = torch.device('cuda' if torch.cuda.is_available() else 'cpu')\n",
    "        self.model = Net(node_expand_dim, link_expand_dim, node_dim, link_dim, conv_layers).to(self.device)\n",
    "        self.optimizer = torch.optim.Adam(self.model.parameters(), lr=0.001)\n",
    "        self.scheduler = torch.optim.lr_scheduler.ReduceLROnPlateau(self.optimizer, mode='min', factor=0.7, patience=5, min_lr=0.00001)\n",
    "        return\n",
    "\n",
    "    def fit(self, train_loader, val_loader, epochs, y_std, y_mean, y_index=0, verbose=0):\n",
    "\n",
    "        his = []\n",
    "        for epoch in range(1, epochs+1):\n",
    "            lr = self.scheduler.optimizer.param_groups[0]['lr']\n",
    "            loss = self._train(epoch, train_loader, y_index, self.model, self.device, self.optimizer)\n",
    "            val_error = self._test(val_loader, y_index, self.model, self.device, self.optimizer, y_std, y_mean)\n",
    "            self.scheduler.step(val_error)\n",
    "            his.append({'epoch':epoch, 'lr':lr, 'loss':loss, 'val_error':val_error})\n",
    "            if verbose > 0:\n",
    "#                 if epoch % (epochs//10) == 0:\n",
    "                print('Epoch: {:03d}, LR: {:7f}, Loss: {:.7f}, Validation MAE: {:.7f}'.format(epoch, lr, loss, val_error))\n",
    "        return his\n",
    "    \n",
    "    def predict(self, loader, y_std, y_mean, y_index=0):\n",
    "        model.eval()\n",
    "        y_pred_list  = []\n",
    "        for data in loader:\n",
    "            data = data.to(device)\n",
    "            std = torch.tensor(y_std[y_index:y_index+1].reshape(1,1), dtype=torch.float)\n",
    "            std = std.to(device)\n",
    "            y_pred = model(data)\n",
    "            y_pred_list.append(y_pred.item())\n",
    "        y_pred = np.array(y_pred_list)\n",
    "        y_pred = y_pred*y_std + y_mean\n",
    "        return y_pred\n",
    "    \n",
    "    def _train(self, epoch, loader, y_index, model, device, optimizer):\n",
    "        model.train()\n",
    "        loss_all = 0\n",
    "        for data in loader:\n",
    "            data = data.to(device)\n",
    "            optimizer.zero_grad()\n",
    "            y_pred = model(data)\n",
    "            loss = F.mse_loss(y_pred, data.y[:,y_index:y_index+1])\n",
    "            loss.backward()\n",
    "            loss_all += loss.item() * data.num_graphs\n",
    "            optimizer.step()\n",
    "        return loss_all / len(loader.dataset)\n",
    "\n",
    "\n",
    "    def _test(self, loader, y_index, model, device, optimizer, y_std, y_mean):\n",
    "        model.eval()\n",
    "        error = 0\n",
    "        for data in loader:\n",
    "            data = data.to(device)\n",
    "            std = torch.tensor(y_std[y_index:y_index+1].reshape(1,1), dtype=torch.float)\n",
    "            std = std.to(device)\n",
    "            y_pred = model(data)\n",
    "#             print(y_pred.shape)            \n",
    "            error += (y_pred.mm(std) - data.y[:,y_index:y_index+1].mm(std)).abs().sum().item()  # MAE\n",
    "        return error / len(loader.dataset)"
   ]
  },
  {
   "cell_type": "code",
   "execution_count": 44,
   "metadata": {},
   "outputs": [],
   "source": [
    "gnn = GNN(**gnn_param)"
   ]
  },
  {
   "cell_type": "code",
   "execution_count": null,
   "metadata": {},
   "outputs": [
    {
     "name": "stdout",
     "output_type": "stream",
     "text": [
      "Epoch: 001, LR: 0.001000, Loss: 0.8995454, Validation MAE: 1.0764222\n",
      "Epoch: 002, LR: 0.001000, Loss: 0.8312789, Validation MAE: 0.9917343\n",
      "Epoch: 003, LR: 0.001000, Loss: 0.8373433, Validation MAE: 1.0545565\n",
      "Epoch: 004, LR: 0.001000, Loss: 0.8354087, Validation MAE: 1.0621529\n",
      "Epoch: 005, LR: 0.001000, Loss: 0.8302558, Validation MAE: 0.9906469\n",
      "Epoch: 006, LR: 0.001000, Loss: 0.7646985, Validation MAE: 0.9733653\n",
      "Epoch: 007, LR: 0.001000, Loss: 0.7212076, Validation MAE: 0.9276138\n",
      "Epoch: 008, LR: 0.001000, Loss: 0.7138798, Validation MAE: 0.9443923\n",
      "Epoch: 009, LR: 0.001000, Loss: 0.7097099, Validation MAE: 0.9370616\n",
      "Epoch: 010, LR: 0.001000, Loss: 0.7077996, Validation MAE: 0.9285092\n",
      "Epoch: 011, LR: 0.001000, Loss: 0.7070415, Validation MAE: 0.9407990\n",
      "Epoch: 012, LR: 0.001000, Loss: 0.7046720, Validation MAE: 0.9240429\n",
      "Epoch: 013, LR: 0.001000, Loss: 0.7047568, Validation MAE: 0.9255332\n",
      "Epoch: 014, LR: 0.001000, Loss: 0.7055413, Validation MAE: 0.9225434\n",
      "Epoch: 015, LR: 0.001000, Loss: 0.7044425, Validation MAE: 0.9294711\n",
      "Epoch: 016, LR: 0.001000, Loss: 0.7029838, Validation MAE: 0.9245645\n",
      "Epoch: 017, LR: 0.001000, Loss: 0.7026919, Validation MAE: 0.9262112\n",
      "Epoch: 018, LR: 0.001000, Loss: 0.7011714, Validation MAE: 0.9272967\n",
      "Epoch: 019, LR: 0.001000, Loss: 0.7021790, Validation MAE: 0.9205376\n",
      "Epoch: 020, LR: 0.001000, Loss: 0.7011578, Validation MAE: 0.9294768\n",
      "Epoch: 021, LR: 0.001000, Loss: 0.7012395, Validation MAE: 0.9238634\n",
      "Epoch: 022, LR: 0.001000, Loss: 0.7009398, Validation MAE: 0.9269832\n",
      "Epoch: 023, LR: 0.001000, Loss: 0.7005356, Validation MAE: 0.9262938\n",
      "Epoch: 024, LR: 0.001000, Loss: 0.7002522, Validation MAE: 0.9335956\n",
      "Epoch: 025, LR: 0.001000, Loss: 0.6992007, Validation MAE: 0.9205381\n",
      "Epoch: 026, LR: 0.000700, Loss: 0.6978416, Validation MAE: 0.9261917\n",
      "Epoch: 027, LR: 0.000700, Loss: 0.6972171, Validation MAE: 0.9238142\n",
      "Epoch: 028, LR: 0.000700, Loss: 0.6972605, Validation MAE: 0.9200490\n",
      "Epoch: 029, LR: 0.000700, Loss: 0.6970902, Validation MAE: 0.9294767\n",
      "Epoch: 030, LR: 0.000700, Loss: 0.6962208, Validation MAE: 0.9218209\n"
     ]
    }
   ],
   "source": [
    "his  = gnn.fit(train_loader, val_loader, 100, y_std, y_mean, y_index=1, verbose=1)"
   ]
  },
  {
   "cell_type": "code",
   "execution_count": 175,
   "metadata": {},
   "outputs": [
    {
     "ename": "TypeError",
     "evalue": "predict() missing 2 required positional arguments: 'y_std' and 'y_mean'",
     "output_type": "error",
     "traceback": [
      "\u001b[0;31m---------------------------------------------------------------------------\u001b[0m",
      "\u001b[0;31mTypeError\u001b[0m                                 Traceback (most recent call last)",
      "\u001b[0;32m<ipython-input-175-f0a19976031e>\u001b[0m in \u001b[0;36m<module>\u001b[0;34m()\u001b[0m\n\u001b[1;32m      1\u001b[0m \u001b[0;34m\u001b[0m\u001b[0m\n\u001b[0;32m----> 2\u001b[0;31m \u001b[0my_pred\u001b[0m  \u001b[0;34m=\u001b[0m \u001b[0mgnn\u001b[0m\u001b[0;34m.\u001b[0m\u001b[0mpredict\u001b[0m\u001b[0;34m(\u001b[0m\u001b[0mval_loader\u001b[0m\u001b[0;34m,\u001b[0m \u001b[0my_std\u001b[0m\u001b[0;34m,\u001b[0m \u001b[0my_mean\u001b[0m\u001b[0;34m,\u001b[0m \u001b[0my_index\u001b[0m\u001b[0;34m=\u001b[0m\u001b[0;36m1\u001b[0m\u001b[0;34m)\u001b[0m\u001b[0;34m\u001b[0m\u001b[0m\n\u001b[0m",
      "\u001b[0;31mTypeError\u001b[0m: predict() missing 2 required positional arguments: 'y_std' and 'y_mean'"
     ]
    }
   ],
   "source": [
    "y_pred  = gnn.predict(val_loader, y_std, y_mean, y_index=1)"
   ]
  },
  {
   "cell_type": "code",
   "execution_count": null,
   "metadata": {},
   "outputs": [],
   "source": []
  }
 ],
 "metadata": {
  "kernelspec": {
   "display_name": "Environment (conda_tensorflow_gpu_p36)",
   "language": "python",
   "name": "conda_tensorflow_gpu_p36"
  },
  "language_info": {
   "codemirror_mode": {
    "name": "ipython",
    "version": 3
   },
   "file_extension": ".py",
   "mimetype": "text/x-python",
   "name": "python",
   "nbconvert_exporter": "python",
   "pygments_lexer": "ipython3",
   "version": "3.6.7"
  }
 },
 "nbformat": 4,
 "nbformat_minor": 2
}
