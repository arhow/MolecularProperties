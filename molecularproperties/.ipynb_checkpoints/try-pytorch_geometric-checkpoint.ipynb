{
 "cells": [
  {
   "cell_type": "code",
   "execution_count": 1,
   "metadata": {},
   "outputs": [
    {
     "data": {
      "text/html": [
       "<style>\n",
       "   div#notebook-container    { width: 95%; }\n",
       "   div#menubar-container     { width: 65%; }\n",
       "   div#maintoolbar-container { width: 99%; }\n",
       "</style>"
      ],
      "text/plain": [
       "<IPython.core.display.HTML object>"
      ]
     },
     "metadata": {},
     "output_type": "display_data"
    }
   ],
   "source": [
    "%%HTML\n",
    "<style>\n",
    "   div#notebook-container    { width: 95%; }\n",
    "   div#menubar-container     { width: 65%; }\n",
    "   div#maintoolbar-container { width: 99%; }\n",
    "</style>"
   ]
  },
  {
   "cell_type": "code",
   "execution_count": 59,
   "metadata": {
    "scrolled": false
   },
   "outputs": [
    {
     "name": "stdout",
     "output_type": "stream",
     "text": [
      "Collecting torchsummary\n",
      "  Downloading https://files.pythonhosted.org/packages/7d/18/1474d06f721b86e6a9b9d7392ad68bed711a02f3b61ac43f13c719db50a6/torchsummary-1.5.1-py3-none-any.whl\n",
      "Installing collected packages: torchsummary\n",
      "Successfully installed torchsummary-1.5.1\n"
     ]
    }
   ],
   "source": [
    "import sys\n",
    "!{sys.executable} -m pip install torchsummary"
   ]
  },
  {
   "cell_type": "code",
   "execution_count": 229,
   "metadata": {},
   "outputs": [],
   "source": [
    "import sys\n",
    "sys.path.append(\"..\") # Adds higher directory to python modules path.\n",
    "from utilities import aggregate_feature_calculators\n",
    "from utilities import aggregate_feature_calculators_setting as aggcal\n",
    "from utilities.parallel import Parallel"
   ]
  },
  {
   "cell_type": "code",
   "execution_count": 250,
   "metadata": {},
   "outputs": [],
   "source": [
    "import pandas as pd\n",
    "import numpy as np\n",
    "import os\n",
    "import os.path as osp\n",
    "\n",
    "import seaborn as sns\n",
    "import matplotlib.pyplot as plt\n",
    "\n",
    "from tqdm import tqdm_notebook\n",
    "\n",
    "from sklearn.preprocessing import LabelEncoder\n",
    "from sklearn.model_selection import StratifiedKFold, KFold, GroupKFold, TimeSeriesSplit\n",
    "\n",
    "from torch_geometric.data import Data, DataLoader\n",
    "import torch\n",
    "import torch.nn.functional as F\n",
    "from torch_geometric.datasets import Planetoid\n",
    "from torch_geometric.datasets import QM9\n",
    "from torch_geometric.datasets import TUDataset\n",
    "import torch_geometric.transforms as T\n",
    "from torch_geometric.nn import GCNConv, ChebConv  # noqa\n",
    "from torch.nn import Sequential, Linear, ReLU, GRU\n",
    "import torch_geometric.transforms as T\n",
    "from torch_geometric.datasets import QM9\n",
    "from torch_geometric.nn import NNConv, Set2Set\n",
    "from torch_geometric.data import DataLoader\n",
    "from torch_geometric.utils import remove_self_loops\n",
    "from torch_geometric.data import Data"
   ]
  },
  {
   "cell_type": "code",
   "execution_count": 2,
   "metadata": {},
   "outputs": [
    {
     "data": {
      "text/plain": [
       "['sample_submission.csv',\n",
       " 'magnetic_shielding_tensors.csv',\n",
       " 'potential_energy.csv',\n",
       " 'scalar_coupling_contributions.csv',\n",
       " 'dipole_moments.csv',\n",
       " 'mulliken_charges.csv',\n",
       " 'train.csv',\n",
       " 'test.csv',\n",
       " 'structures.csv',\n",
       " 'structures']"
      ]
     },
     "execution_count": 2,
     "metadata": {},
     "output_type": "execute_result"
    }
   ],
   "source": [
    "file_folder = 'data/input/champs-scalar-coupling' if 'champs-scalar-coupling' in os.listdir('../data/input/') else '../data/input'\n",
    "os.listdir(file_folder)"
   ]
  },
  {
   "cell_type": "code",
   "execution_count": 204,
   "metadata": {},
   "outputs": [],
   "source": [
    "train = pd.read_csv(f'{file_folder}/train.csv')\n",
    "test = pd.read_csv(f'{file_folder}/test.csv')\n",
    "sub = pd.read_csv(f'{file_folder}/sample_submission.csv')"
   ]
  },
  {
   "cell_type": "code",
   "execution_count": 206,
   "metadata": {},
   "outputs": [],
   "source": [
    "train['type0'] = train['type'].apply(lambda x: int(x[0]))\n",
    "train['type1'] = train['type'].apply(lambda x: x[1:])"
   ]
  },
  {
   "cell_type": "code",
   "execution_count": 207,
   "metadata": {},
   "outputs": [],
   "source": [
    "le = LabelEncoder()\n",
    "le.fit(train.type1.tolist())\n",
    "int_bond_type = le.transform(train.type1.tolist()) \n",
    "train['int_type1']= int_bond_type"
   ]
  },
  {
   "cell_type": "code",
   "execution_count": 209,
   "metadata": {},
   "outputs": [],
   "source": [
    "test['type0'] = test['type'].apply(lambda x: int(x[0]))\n",
    "test['type1'] = test['type'].apply(lambda x: x[1:])\n",
    "int_bond_type = le.transform(test.type1.tolist()) \n",
    "test['int_type1']= int_bond_type"
   ]
  },
  {
   "cell_type": "code",
   "execution_count": 210,
   "metadata": {},
   "outputs": [
    {
     "data": {
      "text/html": [
       "<div>\n",
       "<style scoped>\n",
       "    .dataframe tbody tr th:only-of-type {\n",
       "        vertical-align: middle;\n",
       "    }\n",
       "\n",
       "    .dataframe tbody tr th {\n",
       "        vertical-align: top;\n",
       "    }\n",
       "\n",
       "    .dataframe thead th {\n",
       "        text-align: right;\n",
       "    }\n",
       "</style>\n",
       "<table border=\"1\" class=\"dataframe\">\n",
       "  <thead>\n",
       "    <tr style=\"text-align: right;\">\n",
       "      <th></th>\n",
       "      <th>id</th>\n",
       "      <th>molecule_name</th>\n",
       "      <th>atom_index_0</th>\n",
       "      <th>atom_index_1</th>\n",
       "      <th>type</th>\n",
       "      <th>scalar_coupling_constant</th>\n",
       "      <th>type0</th>\n",
       "      <th>type1</th>\n",
       "      <th>int_type1</th>\n",
       "    </tr>\n",
       "  </thead>\n",
       "  <tbody>\n",
       "    <tr>\n",
       "      <th>4658146</th>\n",
       "      <td>4658146</td>\n",
       "      <td>dsgdb9nsd_133884</td>\n",
       "      <td>17</td>\n",
       "      <td>8</td>\n",
       "      <td>1JHC</td>\n",
       "      <td>117.934</td>\n",
       "      <td>1</td>\n",
       "      <td>JHC</td>\n",
       "      <td>0</td>\n",
       "    </tr>\n",
       "  </tbody>\n",
       "</table>\n",
       "</div>"
      ],
      "text/plain": [
       "              id     molecule_name  atom_index_0  atom_index_1  type  \\\n",
       "4658146  4658146  dsgdb9nsd_133884            17             8  1JHC   \n",
       "\n",
       "         scalar_coupling_constant  type0 type1  int_type1  \n",
       "4658146                   117.934      1   JHC          0  "
      ]
     },
     "execution_count": 210,
     "metadata": {},
     "output_type": "execute_result"
    }
   ],
   "source": [
    "train.tail(1)"
   ]
  },
  {
   "cell_type": "code",
   "execution_count": 211,
   "metadata": {},
   "outputs": [
    {
     "data": {
      "text/html": [
       "<div>\n",
       "<style scoped>\n",
       "    .dataframe tbody tr th:only-of-type {\n",
       "        vertical-align: middle;\n",
       "    }\n",
       "\n",
       "    .dataframe tbody tr th {\n",
       "        vertical-align: top;\n",
       "    }\n",
       "\n",
       "    .dataframe thead th {\n",
       "        text-align: right;\n",
       "    }\n",
       "</style>\n",
       "<table border=\"1\" class=\"dataframe\">\n",
       "  <thead>\n",
       "    <tr style=\"text-align: right;\">\n",
       "      <th></th>\n",
       "      <th>id</th>\n",
       "      <th>molecule_name</th>\n",
       "      <th>atom_index_0</th>\n",
       "      <th>atom_index_1</th>\n",
       "      <th>type</th>\n",
       "      <th>type0</th>\n",
       "      <th>type1</th>\n",
       "      <th>int_type1</th>\n",
       "    </tr>\n",
       "  </thead>\n",
       "  <tbody>\n",
       "    <tr>\n",
       "      <th>2505541</th>\n",
       "      <td>7163688</td>\n",
       "      <td>dsgdb9nsd_133885</td>\n",
       "      <td>15</td>\n",
       "      <td>8</td>\n",
       "      <td>1JHC</td>\n",
       "      <td>1</td>\n",
       "      <td>JHC</td>\n",
       "      <td>0</td>\n",
       "    </tr>\n",
       "  </tbody>\n",
       "</table>\n",
       "</div>"
      ],
      "text/plain": [
       "              id     molecule_name  atom_index_0  atom_index_1  type  type0  \\\n",
       "2505541  7163688  dsgdb9nsd_133885            15             8  1JHC      1   \n",
       "\n",
       "        type1  int_type1  \n",
       "2505541   JHC          0  "
      ]
     },
     "execution_count": 211,
     "metadata": {},
     "output_type": "execute_result"
    }
   ],
   "source": [
    "test.tail(1)"
   ]
  },
  {
   "cell_type": "code",
   "execution_count": 213,
   "metadata": {},
   "outputs": [
    {
     "data": {
      "text/plain": [
       "((85003,), (45772,))"
      ]
     },
     "execution_count": 213,
     "metadata": {},
     "output_type": "execute_result"
    }
   ],
   "source": [
    "train.molecule_name.unique().shape,test.molecule_name.unique().shape,"
   ]
  },
  {
   "cell_type": "code",
   "execution_count": 214,
   "metadata": {},
   "outputs": [],
   "source": [
    "structures = pd.read_csv(f'{file_folder}/structures.csv')\n",
    "le = LabelEncoder()\n",
    "le.fit(structures.atom.tolist())\n",
    "int_atom = le.transform(structures.atom.tolist()) \n",
    "structures['int_atom'] = int_atom"
   ]
  },
  {
   "cell_type": "code",
   "execution_count": 215,
   "metadata": {},
   "outputs": [
    {
     "data": {
      "text/html": [
       "<div>\n",
       "<style scoped>\n",
       "    .dataframe tbody tr th:only-of-type {\n",
       "        vertical-align: middle;\n",
       "    }\n",
       "\n",
       "    .dataframe tbody tr th {\n",
       "        vertical-align: top;\n",
       "    }\n",
       "\n",
       "    .dataframe thead th {\n",
       "        text-align: right;\n",
       "    }\n",
       "</style>\n",
       "<table border=\"1\" class=\"dataframe\">\n",
       "  <thead>\n",
       "    <tr style=\"text-align: right;\">\n",
       "      <th></th>\n",
       "      <th>molecule_name</th>\n",
       "      <th>atom_index</th>\n",
       "      <th>atom</th>\n",
       "      <th>x</th>\n",
       "      <th>y</th>\n",
       "      <th>z</th>\n",
       "      <th>int_atom</th>\n",
       "    </tr>\n",
       "  </thead>\n",
       "  <tbody>\n",
       "    <tr>\n",
       "      <th>2358656</th>\n",
       "      <td>dsgdb9nsd_133885</td>\n",
       "      <td>15</td>\n",
       "      <td>H</td>\n",
       "      <td>1.260745</td>\n",
       "      <td>-1.246754</td>\n",
       "      <td>-1.906767</td>\n",
       "      <td>2</td>\n",
       "    </tr>\n",
       "  </tbody>\n",
       "</table>\n",
       "</div>"
      ],
      "text/plain": [
       "            molecule_name  atom_index atom         x         y         z  \\\n",
       "2358656  dsgdb9nsd_133885          15    H  1.260745 -1.246754 -1.906767   \n",
       "\n",
       "         int_atom  \n",
       "2358656         2  "
      ]
     },
     "execution_count": 215,
     "metadata": {},
     "output_type": "execute_result"
    }
   ],
   "source": [
    "structures.tail(1)"
   ]
  },
  {
   "cell_type": "code",
   "execution_count": 232,
   "metadata": {},
   "outputs": [],
   "source": [
    "def _worker(item):\n",
    "    idx = item[0]\n",
    "    molecule_name = item[1]\n",
    "    y_group_mean = train[train['molecule_name']==molecule_name]['scalar_coupling_constant'].mean()\n",
    "    return {'idx':idx, 'y_group_mean':y_group_mean}\n",
    "\n",
    "def y_mean_std(molecule_names=['dsgdb9nsd_000007', 'dsgdb9nsd_000008']):\n",
    "    N_ = len(molecule_names)\n",
    "    segment = N_//100\n",
    "    df_ = pd.DataFrame()\n",
    "    for start in tqdm_notebook(range(0, N_, segment)):\n",
    "        end = start+segment if start+segment < N_ else N_\n",
    "        res = Parallel(_worker,{}).run(zip(range(start,end,1),molecule_names[start:end]), n_jobs=6)\n",
    "        df_ = pd.concat([df_, pd.DataFrame(res)], axis=0)\n",
    "    df_ = df_.sort_values(by=['idx'])\n",
    "    df_ = df_.reset_index(drop=True)\n",
    "    return df_"
   ]
  },
  {
   "cell_type": "code",
   "execution_count": 233,
   "metadata": {},
   "outputs": [
    {
     "data": {
      "application/vnd.jupyter.widget-view+json": {
       "model_id": "fc4084dc31bd4a2aab5846144f59f976",
       "version_major": 2,
       "version_minor": 0
      },
      "text/plain": [
       "HBox(children=(IntProgress(value=0, max=101), HTML(value='')))"
      ]
     },
     "metadata": {},
     "output_type": "display_data"
    },
    {
     "data": {
      "text/plain": [
       "(16.84314632949583, 4.054417583301291)"
      ]
     },
     "execution_count": 233,
     "metadata": {},
     "output_type": "execute_result"
    }
   ],
   "source": [
    "df_ = y_mean_std(train.molecule_name.unique())\n",
    "y_mean, y_std = df_.y_group_mean.mean(), df_.y_group_mean.std()\n",
    "y_mean, y_std"
   ]
  },
  {
   "cell_type": "code",
   "execution_count": 236,
   "metadata": {},
   "outputs": [
    {
     "data": {
      "text/html": [
       "<div>\n",
       "<style scoped>\n",
       "    .dataframe tbody tr th:only-of-type {\n",
       "        vertical-align: middle;\n",
       "    }\n",
       "\n",
       "    .dataframe tbody tr th {\n",
       "        vertical-align: top;\n",
       "    }\n",
       "\n",
       "    .dataframe thead th {\n",
       "        text-align: right;\n",
       "    }\n",
       "</style>\n",
       "<table border=\"1\" class=\"dataframe\">\n",
       "  <thead>\n",
       "    <tr style=\"text-align: right;\">\n",
       "      <th></th>\n",
       "      <th>idx</th>\n",
       "      <th>y_group_mean</th>\n",
       "    </tr>\n",
       "  </thead>\n",
       "  <tbody>\n",
       "    <tr>\n",
       "      <th>0</th>\n",
       "      <td>0</td>\n",
       "      <td>27.170450</td>\n",
       "    </tr>\n",
       "    <tr>\n",
       "      <th>1</th>\n",
       "      <td>1</td>\n",
       "      <td>10.755067</td>\n",
       "    </tr>\n",
       "    <tr>\n",
       "      <th>2</th>\n",
       "      <td>2</td>\n",
       "      <td>-9.946410</td>\n",
       "    </tr>\n",
       "    <tr>\n",
       "      <th>3</th>\n",
       "      <td>3</td>\n",
       "      <td>88.201230</td>\n",
       "    </tr>\n",
       "    <tr>\n",
       "      <th>4</th>\n",
       "      <td>4</td>\n",
       "      <td>17.681228</td>\n",
       "    </tr>\n",
       "  </tbody>\n",
       "</table>\n",
       "</div>"
      ],
      "text/plain": [
       "   idx  y_group_mean\n",
       "0    0     27.170450\n",
       "1    1     10.755067\n",
       "2    2     -9.946410\n",
       "3    3     88.201230\n",
       "4    4     17.681228"
      ]
     },
     "execution_count": 236,
     "metadata": {},
     "output_type": "execute_result"
    }
   ],
   "source": [
    "df_.head()"
   ]
  },
  {
   "cell_type": "code",
   "execution_count": 241,
   "metadata": {},
   "outputs": [
    {
     "data": {
      "text/plain": [
       "<matplotlib.axes._subplots.AxesSubplot at 0x7fadb0368b38>"
      ]
     },
     "execution_count": 241,
     "metadata": {},
     "output_type": "execute_result"
    },
    {
     "data": {
      "image/png": "[encoded data removed]",
      "text/plain": [
       "<Figure size 432x288 with 1 Axes>"
      ]
     },
     "metadata": {},
     "output_type": "display_data"
    }
   ],
   "source": [
    "sns.distplot((df_.y_group_mean-y_mean)/y_std, bins=100)"
   ]
  },
  {
   "cell_type": "code",
   "execution_count": 272,
   "metadata": {},
   "outputs": [],
   "source": [
    "def _worker(item, df_bonds, df_structures, y_mean=0, y_std=1):\n",
    "    \n",
    "    has_y = 'scalar_coupling_constant' in df_bonds.columns\n",
    "    \n",
    "    idx = item[0]\n",
    "    molecule_name = item[1]\n",
    "    \n",
    "\n",
    "    \n",
    "    x = torch.tensor(df_structures[df_structures['molecule_name']==molecule_name].sort_values(by=['atom_index'])[['int_atom']].values, dtype=torch.float)\n",
    "    pos = torch.tensor(df_structures[df_structures['molecule_name']==molecule_name].sort_values(by=['atom_index'])[['x','y','z']].values, dtype=torch.float)\n",
    "\n",
    "    edge_index = []\n",
    "    edge_attr = []\n",
    "\n",
    "    df_molecule_i = df_bonds[df_bonds['molecule_name']==molecule_name]\n",
    "\n",
    "    if has_y:\n",
    "        y_molecule_mean = (df_molecule_i['scalar_coupling_constant'].mean()-y_mean)/y_std\n",
    "        y = torch.tensor([y_molecule_mean], dtype=torch.float)\n",
    "\n",
    "    for idx, row in df_molecule_i.iterrows():\n",
    "        edge_index.append([row['atom_index_0'], row['atom_index_1']])\n",
    "        edge_index.append([row['atom_index_1'], row['atom_index_0']])\n",
    "        edge_attr.append([row['type0'], row['int_type1']])\n",
    "        edge_attr.append([row['type0'], row['int_type1']])\n",
    "\n",
    "    edge_index = torch.tensor(edge_index, dtype=torch.long)\n",
    "    edge_attr = torch.tensor(edge_attr, dtype=torch.float)\n",
    "    if has_y:\n",
    "        data = Data(x=x, edge_index=edge_index.t().contiguous(), pos=pos, edge_attr=edge_attr, y=y)\n",
    "    else:\n",
    "        data = Data(x=x, edge_index=edge_index.t().contiguous(), pos=pos, edge_attr=edge_attr)\n",
    "    return {'idx':idx, 'molecule_name':molecule_name, 'data':data}\n",
    "\n",
    "def generate_datalist(df_bonds, df_structures, molecule_names=['dsgdb9nsd_000007', 'dsgdb9nsd_000008'], y_mean=0, y_std=1):\n",
    "\n",
    "    data_list = []\n",
    "    N_ = len(molecule_names)\n",
    "#     segment = N_//100\n",
    "#     df_ = pd.DataFrame()\n",
    "#     for start in tqdm_notebook(range(0, N_, 1)):\n",
    "    for item in tqdm_notebook(enumerate(molecule_names), total=N_):\n",
    "        d_ = _worker(item, **{'df_bonds':df_bonds, 'df_structures':df_structures, 'y_mean':y_mean, 'y_std':y_std})\n",
    "    data_list.append(d_)\n",
    "#         end = start+segment if start+segment < N_ else N_\n",
    "#         res = Parallel(_worker,{'df_bonds':df_bonds, 'df_structures':df_structures, 'y_mean':y_mean, 'y_std':y_std}).run(zip(range(start,end,1),molecule_names[start:end]), n_jobs=16)\n",
    "#         df_ = pd.concat([df_, pd.DataFrame(res)], axis=0)\n",
    "    df_ = pd.DataFrame(data_list)\n",
    "    df_ = df_.sort_values(by=['idx'])\n",
    "    df_ = df_.reset_index(drop=True)\n",
    "        \n",
    "#     loader = DataLoader(data_list, batch_size=batch_size)\n",
    "    return df_\n",
    "    "
   ]
  },
  {
   "cell_type": "code",
   "execution_count": 244,
   "metadata": {},
   "outputs": [],
   "source": [
    "molecule_names = train.molecule_name.unique().tolist()"
   ]
  },
  {
   "cell_type": "code",
   "execution_count": null,
   "metadata": {},
   "outputs": [],
   "source": [
    "test_molecule_names = molecule_names[56668:]"
   ]
  },
  {
   "cell_type": "code",
   "execution_count": 249,
   "metadata": {},
   "outputs": [],
   "source": [
    "train_molecule_names = molecule_names[:56668]"
   ]
  },
  {
   "cell_type": "code",
   "execution_count": 273,
   "metadata": {
    "scrolled": false
   },
   "outputs": [
    {
     "data": {
      "application/vnd.jupyter.widget-view+json": {
       "model_id": "d8715907b17a46e9b6d26e4e92ad4ded",
       "version_major": 2,
       "version_minor": 0
      },
      "text/plain": [
       "HBox(children=(IntProgress(value=0, max=85003), HTML(value='')))"
      ]
     },
     "metadata": {},
     "output_type": "display_data"
    },
    {
     "ename": "KeyboardInterrupt",
     "evalue": "",
     "output_type": "error",
     "traceback": [
      "\u001b[0;31m---------------------------------------------------------------------------\u001b[0m",
      "\u001b[0;31mKeyboardInterrupt\u001b[0m                         Traceback (most recent call last)",
      "\u001b[0;32m<ipython-input-273-733af6d44d9d>\u001b[0m in \u001b[0;36m<module>\u001b[0;34m()\u001b[0m\n\u001b[0;32m----> 1\u001b[0;31m \u001b[0mdf_data_train\u001b[0m \u001b[0;34m=\u001b[0m \u001b[0mgenerate_datalist\u001b[0m\u001b[0;34m(\u001b[0m\u001b[0mtrain\u001b[0m\u001b[0;34m,\u001b[0m \u001b[0mstructures\u001b[0m\u001b[0;34m,\u001b[0m \u001b[0mmolecule_names\u001b[0m\u001b[0;34m=\u001b[0m\u001b[0mmolecule_names\u001b[0m\u001b[0;34m,\u001b[0m \u001b[0my_mean\u001b[0m\u001b[0;34m=\u001b[0m\u001b[0my_mean\u001b[0m\u001b[0;34m,\u001b[0m \u001b[0my_std\u001b[0m\u001b[0;34m=\u001b[0m\u001b[0my_std\u001b[0m\u001b[0;34m)\u001b[0m\u001b[0;34m\u001b[0m\u001b[0m\n\u001b[0m",
      "\u001b[0;32m<ipython-input-272-4accb302cc06>\u001b[0m in \u001b[0;36mgenerate_datalist\u001b[0;34m(df_bonds, df_structures, molecule_names, y_mean, y_std)\u001b[0m\n\u001b[1;32m     42\u001b[0m \u001b[0;31m#     for start in tqdm_notebook(range(0, N_, 1)):\u001b[0m\u001b[0;34m\u001b[0m\u001b[0;34m\u001b[0m\u001b[0m\n\u001b[1;32m     43\u001b[0m     \u001b[0;32mfor\u001b[0m \u001b[0mitem\u001b[0m \u001b[0;32min\u001b[0m \u001b[0mtqdm_notebook\u001b[0m\u001b[0;34m(\u001b[0m\u001b[0menumerate\u001b[0m\u001b[0;34m(\u001b[0m\u001b[0mmolecule_names\u001b[0m\u001b[0;34m)\u001b[0m\u001b[0;34m,\u001b[0m \u001b[0mtotal\u001b[0m\u001b[0;34m=\u001b[0m\u001b[0mN_\u001b[0m\u001b[0;34m)\u001b[0m\u001b[0;34m:\u001b[0m\u001b[0;34m\u001b[0m\u001b[0m\n\u001b[0;32m---> 44\u001b[0;31m         \u001b[0md_\u001b[0m \u001b[0;34m=\u001b[0m \u001b[0m_worker\u001b[0m\u001b[0;34m(\u001b[0m\u001b[0mitem\u001b[0m\u001b[0;34m,\u001b[0m \u001b[0;34m**\u001b[0m\u001b[0;34m{\u001b[0m\u001b[0;34m'df_bonds'\u001b[0m\u001b[0;34m:\u001b[0m\u001b[0mdf_bonds\u001b[0m\u001b[0;34m,\u001b[0m \u001b[0;34m'df_structures'\u001b[0m\u001b[0;34m:\u001b[0m\u001b[0mdf_structures\u001b[0m\u001b[0;34m,\u001b[0m \u001b[0;34m'y_mean'\u001b[0m\u001b[0;34m:\u001b[0m\u001b[0my_mean\u001b[0m\u001b[0;34m,\u001b[0m \u001b[0;34m'y_std'\u001b[0m\u001b[0;34m:\u001b[0m\u001b[0my_std\u001b[0m\u001b[0;34m}\u001b[0m\u001b[0;34m)\u001b[0m\u001b[0;34m\u001b[0m\u001b[0m\n\u001b[0m\u001b[1;32m     45\u001b[0m     \u001b[0mdata_list\u001b[0m\u001b[0;34m.\u001b[0m\u001b[0mappend\u001b[0m\u001b[0;34m(\u001b[0m\u001b[0md_\u001b[0m\u001b[0;34m)\u001b[0m\u001b[0;34m\u001b[0m\u001b[0m\n\u001b[1;32m     46\u001b[0m \u001b[0;31m#         end = start+segment if start+segment < N_ else N_\u001b[0m\u001b[0;34m\u001b[0m\u001b[0;34m\u001b[0m\u001b[0m\n",
      "\u001b[0;32m<ipython-input-272-4accb302cc06>\u001b[0m in \u001b[0;36m_worker\u001b[0;34m(item, df_bonds, df_structures, y_mean, y_std)\u001b[0m\n\u001b[1;32m     14\u001b[0m     \u001b[0medge_attr\u001b[0m \u001b[0;34m=\u001b[0m \u001b[0;34m[\u001b[0m\u001b[0;34m]\u001b[0m\u001b[0;34m\u001b[0m\u001b[0m\n\u001b[1;32m     15\u001b[0m \u001b[0;34m\u001b[0m\u001b[0m\n\u001b[0;32m---> 16\u001b[0;31m     \u001b[0mdf_molecule_i\u001b[0m \u001b[0;34m=\u001b[0m \u001b[0mdf_bonds\u001b[0m\u001b[0;34m[\u001b[0m\u001b[0mdf_bonds\u001b[0m\u001b[0;34m[\u001b[0m\u001b[0;34m'molecule_name'\u001b[0m\u001b[0;34m]\u001b[0m\u001b[0;34m==\u001b[0m\u001b[0mmolecule_name\u001b[0m\u001b[0;34m]\u001b[0m\u001b[0;34m\u001b[0m\u001b[0m\n\u001b[0m\u001b[1;32m     17\u001b[0m \u001b[0;34m\u001b[0m\u001b[0m\n\u001b[1;32m     18\u001b[0m     \u001b[0;32mif\u001b[0m \u001b[0mhas_y\u001b[0m\u001b[0;34m:\u001b[0m\u001b[0;34m\u001b[0m\u001b[0m\n",
      "\u001b[0;32m~/anaconda3/envs/tensorflow_gpu_p36/lib/python3.6/site-packages/pandas/core/ops.py\u001b[0m in \u001b[0;36mwrapper\u001b[0;34m(self, other, axis)\u001b[0m\n\u001b[1;32m   1764\u001b[0m \u001b[0;34m\u001b[0m\u001b[0m\n\u001b[1;32m   1765\u001b[0m             \u001b[0;32mwith\u001b[0m \u001b[0mnp\u001b[0m\u001b[0;34m.\u001b[0m\u001b[0merrstate\u001b[0m\u001b[0;34m(\u001b[0m\u001b[0mall\u001b[0m\u001b[0;34m=\u001b[0m\u001b[0;34m'ignore'\u001b[0m\u001b[0;34m)\u001b[0m\u001b[0;34m:\u001b[0m\u001b[0;34m\u001b[0m\u001b[0m\n\u001b[0;32m-> 1766\u001b[0;31m                 \u001b[0mres\u001b[0m \u001b[0;34m=\u001b[0m \u001b[0mna_op\u001b[0m\u001b[0;34m(\u001b[0m\u001b[0mvalues\u001b[0m\u001b[0;34m,\u001b[0m \u001b[0mother\u001b[0m\u001b[0;34m)\u001b[0m\u001b[0;34m\u001b[0m\u001b[0m\n\u001b[0m\u001b[1;32m   1767\u001b[0m             \u001b[0;32mif\u001b[0m \u001b[0mis_scalar\u001b[0m\u001b[0;34m(\u001b[0m\u001b[0mres\u001b[0m\u001b[0;34m)\u001b[0m\u001b[0;34m:\u001b[0m\u001b[0;34m\u001b[0m\u001b[0m\n\u001b[1;32m   1768\u001b[0m                 raise TypeError('Could not compare {typ} type with Series'\n",
      "\u001b[0;32m~/anaconda3/envs/tensorflow_gpu_p36/lib/python3.6/site-packages/pandas/core/ops.py\u001b[0m in \u001b[0;36mna_op\u001b[0;34m(x, y)\u001b[0m\n\u001b[1;32m   1623\u001b[0m \u001b[0;34m\u001b[0m\u001b[0m\n\u001b[1;32m   1624\u001b[0m         \u001b[0;32mif\u001b[0m \u001b[0mis_object_dtype\u001b[0m\u001b[0;34m(\u001b[0m\u001b[0mx\u001b[0m\u001b[0;34m.\u001b[0m\u001b[0mdtype\u001b[0m\u001b[0;34m)\u001b[0m\u001b[0;34m:\u001b[0m\u001b[0;34m\u001b[0m\u001b[0m\n\u001b[0;32m-> 1625\u001b[0;31m             \u001b[0mresult\u001b[0m \u001b[0;34m=\u001b[0m \u001b[0m_comp_method_OBJECT_ARRAY\u001b[0m\u001b[0;34m(\u001b[0m\u001b[0mop\u001b[0m\u001b[0;34m,\u001b[0m \u001b[0mx\u001b[0m\u001b[0;34m,\u001b[0m \u001b[0my\u001b[0m\u001b[0;34m)\u001b[0m\u001b[0;34m\u001b[0m\u001b[0m\n\u001b[0m\u001b[1;32m   1626\u001b[0m \u001b[0;34m\u001b[0m\u001b[0m\n\u001b[1;32m   1627\u001b[0m         \u001b[0;32melif\u001b[0m \u001b[0mis_datetimelike_v_numeric\u001b[0m\u001b[0;34m(\u001b[0m\u001b[0mx\u001b[0m\u001b[0;34m,\u001b[0m \u001b[0my\u001b[0m\u001b[0;34m)\u001b[0m\u001b[0;34m:\u001b[0m\u001b[0;34m\u001b[0m\u001b[0m\n",
      "\u001b[0;32m~/anaconda3/envs/tensorflow_gpu_p36/lib/python3.6/site-packages/pandas/core/ops.py\u001b[0m in \u001b[0;36m_comp_method_OBJECT_ARRAY\u001b[0;34m(op, x, y)\u001b[0m\n\u001b[1;32m   1601\u001b[0m         \u001b[0mresult\u001b[0m \u001b[0;34m=\u001b[0m \u001b[0mlibops\u001b[0m\u001b[0;34m.\u001b[0m\u001b[0mvec_compare\u001b[0m\u001b[0;34m(\u001b[0m\u001b[0mx\u001b[0m\u001b[0;34m,\u001b[0m \u001b[0my\u001b[0m\u001b[0;34m,\u001b[0m \u001b[0mop\u001b[0m\u001b[0;34m)\u001b[0m\u001b[0;34m\u001b[0m\u001b[0m\n\u001b[1;32m   1602\u001b[0m     \u001b[0;32melse\u001b[0m\u001b[0;34m:\u001b[0m\u001b[0;34m\u001b[0m\u001b[0m\n\u001b[0;32m-> 1603\u001b[0;31m         \u001b[0mresult\u001b[0m \u001b[0;34m=\u001b[0m \u001b[0mlibops\u001b[0m\u001b[0;34m.\u001b[0m\u001b[0mscalar_compare\u001b[0m\u001b[0;34m(\u001b[0m\u001b[0mx\u001b[0m\u001b[0;34m,\u001b[0m \u001b[0my\u001b[0m\u001b[0;34m,\u001b[0m \u001b[0mop\u001b[0m\u001b[0;34m)\u001b[0m\u001b[0;34m\u001b[0m\u001b[0m\n\u001b[0m\u001b[1;32m   1604\u001b[0m     \u001b[0;32mreturn\u001b[0m \u001b[0mresult\u001b[0m\u001b[0;34m\u001b[0m\u001b[0m\n\u001b[1;32m   1605\u001b[0m \u001b[0;34m\u001b[0m\u001b[0m\n",
      "\u001b[0;31mKeyboardInterrupt\u001b[0m: "
     ]
    }
   ],
   "source": [
    "df_data_train = generate_datalist(train, structures, molecule_names=molecule_names, y_mean=y_mean, y_std=y_std)"
   ]
  },
  {
   "cell_type": "code",
   "execution_count": 253,
   "metadata": {},
   "outputs": [
    {
     "ename": "KeyboardInterrupt",
     "evalue": "",
     "output_type": "error",
     "traceback": [
      "\u001b[0;31m---------------------------------------------------------------------------\u001b[0m",
      "\u001b[0;31mKeyboardInterrupt\u001b[0m                         Traceback (most recent call last)",
      "\u001b[0;32m<ipython-input-253-acbec32ea60a>\u001b[0m in \u001b[0;36m<module>\u001b[0;34m()\u001b[0m\n\u001b[1;32m      3\u001b[0m \u001b[0;32mfor\u001b[0m \u001b[0mfold_n\u001b[0m\u001b[0;34m,\u001b[0m \u001b[0;34m(\u001b[0m\u001b[0mtrain_index\u001b[0m\u001b[0;34m,\u001b[0m \u001b[0mvalid_index\u001b[0m\u001b[0;34m)\u001b[0m \u001b[0;32min\u001b[0m \u001b[0menumerate\u001b[0m\u001b[0;34m(\u001b[0m\u001b[0msplits\u001b[0m\u001b[0;34m)\u001b[0m\u001b[0;34m:\u001b[0m\u001b[0;34m\u001b[0m\u001b[0m\n\u001b[1;32m      4\u001b[0m \u001b[0;34m\u001b[0m\u001b[0m\n\u001b[0;32m----> 5\u001b[0;31m     \u001b[0mtrain_loader\u001b[0m \u001b[0;34m=\u001b[0m \u001b[0mgenerate_dataLoader\u001b[0m\u001b[0;34m(\u001b[0m\u001b[0mtrain\u001b[0m\u001b[0;34m,\u001b[0m \u001b[0mstructures\u001b[0m\u001b[0;34m,\u001b[0m \u001b[0mmolecule_names\u001b[0m\u001b[0;34m=\u001b[0m\u001b[0;34m[\u001b[0m\u001b[0mtrain_molecule_names\u001b[0m\u001b[0;34m[\u001b[0m\u001b[0mi\u001b[0m\u001b[0;34m]\u001b[0m \u001b[0;32mfor\u001b[0m \u001b[0mi\u001b[0m \u001b[0;32min\u001b[0m \u001b[0mtrain_index\u001b[0m\u001b[0;34m]\u001b[0m\u001b[0;34m,\u001b[0m \u001b[0my_mean\u001b[0m\u001b[0;34m=\u001b[0m\u001b[0my_mean\u001b[0m\u001b[0;34m,\u001b[0m \u001b[0my_std\u001b[0m\u001b[0;34m=\u001b[0m\u001b[0my_std\u001b[0m\u001b[0;34m,\u001b[0m \u001b[0mbatch_size\u001b[0m\u001b[0;34m=\u001b[0m\u001b[0;36m32\u001b[0m\u001b[0;34m)\u001b[0m\u001b[0;34m\u001b[0m\u001b[0m\n\u001b[0m\u001b[1;32m      6\u001b[0m     \u001b[0mvalid_loader\u001b[0m \u001b[0;34m=\u001b[0m \u001b[0mgenerate_dataLoader\u001b[0m\u001b[0;34m(\u001b[0m\u001b[0mtrain\u001b[0m\u001b[0;34m,\u001b[0m \u001b[0mstructures\u001b[0m\u001b[0;34m,\u001b[0m \u001b[0mmolecule_names\u001b[0m\u001b[0;34m=\u001b[0m\u001b[0;34m[\u001b[0m\u001b[0mtrain_molecule_names\u001b[0m\u001b[0;34m[\u001b[0m\u001b[0mi\u001b[0m\u001b[0;34m]\u001b[0m \u001b[0;32mfor\u001b[0m \u001b[0mi\u001b[0m \u001b[0;32min\u001b[0m \u001b[0mvalid_index\u001b[0m\u001b[0;34m]\u001b[0m\u001b[0;34m,\u001b[0m \u001b[0my_mean\u001b[0m\u001b[0;34m=\u001b[0m\u001b[0my_mean\u001b[0m\u001b[0;34m,\u001b[0m \u001b[0my_std\u001b[0m\u001b[0;34m=\u001b[0m\u001b[0my_std\u001b[0m\u001b[0;34m,\u001b[0m \u001b[0mbatch_size\u001b[0m\u001b[0;34m=\u001b[0m\u001b[0;36m1\u001b[0m\u001b[0;34m)\u001b[0m\u001b[0;34m\u001b[0m\u001b[0m\n\u001b[1;32m      7\u001b[0m     \u001b[0;32mbreak\u001b[0m\u001b[0;34m\u001b[0m\u001b[0m\n",
      "\u001b[0;32m<ipython-input-252-bdf55e08f5ed>\u001b[0m in \u001b[0;36mgenerate_dataLoader\u001b[0;34m(df_bonds, df_structures, molecule_names, y_mean, y_std, batch_size)\u001b[0m\n\u001b[1;32m      6\u001b[0m     \u001b[0;32mfor\u001b[0m \u001b[0mmolecule_name\u001b[0m \u001b[0;32min\u001b[0m \u001b[0mmolecule_names\u001b[0m\u001b[0;34m:\u001b[0m\u001b[0;34m\u001b[0m\u001b[0m\n\u001b[1;32m      7\u001b[0m         \u001b[0mx\u001b[0m \u001b[0;34m=\u001b[0m \u001b[0mtorch\u001b[0m\u001b[0;34m.\u001b[0m\u001b[0mtensor\u001b[0m\u001b[0;34m(\u001b[0m\u001b[0mdf_structures\u001b[0m\u001b[0;34m[\u001b[0m\u001b[0mdf_structures\u001b[0m\u001b[0;34m[\u001b[0m\u001b[0;34m'molecule_name'\u001b[0m\u001b[0;34m]\u001b[0m\u001b[0;34m==\u001b[0m\u001b[0mmolecule_name\u001b[0m\u001b[0;34m]\u001b[0m\u001b[0;34m.\u001b[0m\u001b[0msort_values\u001b[0m\u001b[0;34m(\u001b[0m\u001b[0mby\u001b[0m\u001b[0;34m=\u001b[0m\u001b[0;34m[\u001b[0m\u001b[0;34m'atom_index'\u001b[0m\u001b[0;34m]\u001b[0m\u001b[0;34m)\u001b[0m\u001b[0;34m[\u001b[0m\u001b[0;34m[\u001b[0m\u001b[0;34m'int_atom'\u001b[0m\u001b[0;34m]\u001b[0m\u001b[0;34m]\u001b[0m\u001b[0;34m.\u001b[0m\u001b[0mvalues\u001b[0m\u001b[0;34m,\u001b[0m \u001b[0mdtype\u001b[0m\u001b[0;34m=\u001b[0m\u001b[0mtorch\u001b[0m\u001b[0;34m.\u001b[0m\u001b[0mfloat\u001b[0m\u001b[0;34m)\u001b[0m\u001b[0;34m\u001b[0m\u001b[0m\n\u001b[0;32m----> 8\u001b[0;31m         \u001b[0mpos\u001b[0m \u001b[0;34m=\u001b[0m \u001b[0mtorch\u001b[0m\u001b[0;34m.\u001b[0m\u001b[0mtensor\u001b[0m\u001b[0;34m(\u001b[0m\u001b[0mdf_structures\u001b[0m\u001b[0;34m[\u001b[0m\u001b[0mdf_structures\u001b[0m\u001b[0;34m[\u001b[0m\u001b[0;34m'molecule_name'\u001b[0m\u001b[0;34m]\u001b[0m\u001b[0;34m==\u001b[0m\u001b[0mmolecule_name\u001b[0m\u001b[0;34m]\u001b[0m\u001b[0;34m.\u001b[0m\u001b[0msort_values\u001b[0m\u001b[0;34m(\u001b[0m\u001b[0mby\u001b[0m\u001b[0;34m=\u001b[0m\u001b[0;34m[\u001b[0m\u001b[0;34m'atom_index'\u001b[0m\u001b[0;34m]\u001b[0m\u001b[0;34m)\u001b[0m\u001b[0;34m[\u001b[0m\u001b[0;34m[\u001b[0m\u001b[0;34m'x'\u001b[0m\u001b[0;34m,\u001b[0m\u001b[0;34m'y'\u001b[0m\u001b[0;34m,\u001b[0m\u001b[0;34m'z'\u001b[0m\u001b[0;34m]\u001b[0m\u001b[0;34m]\u001b[0m\u001b[0;34m.\u001b[0m\u001b[0mvalues\u001b[0m\u001b[0;34m,\u001b[0m \u001b[0mdtype\u001b[0m\u001b[0;34m=\u001b[0m\u001b[0mtorch\u001b[0m\u001b[0;34m.\u001b[0m\u001b[0mfloat\u001b[0m\u001b[0;34m)\u001b[0m\u001b[0;34m\u001b[0m\u001b[0m\n\u001b[0m\u001b[1;32m      9\u001b[0m \u001b[0;34m\u001b[0m\u001b[0m\n\u001b[1;32m     10\u001b[0m         \u001b[0medge_index\u001b[0m \u001b[0;34m=\u001b[0m \u001b[0;34m[\u001b[0m\u001b[0;34m]\u001b[0m\u001b[0;34m\u001b[0m\u001b[0m\n",
      "\u001b[0;32m~/anaconda3/envs/tensorflow_gpu_p36/lib/python3.6/site-packages/pandas/core/ops.py\u001b[0m in \u001b[0;36mwrapper\u001b[0;34m(self, other, axis)\u001b[0m\n\u001b[1;32m   1764\u001b[0m \u001b[0;34m\u001b[0m\u001b[0m\n\u001b[1;32m   1765\u001b[0m             \u001b[0;32mwith\u001b[0m \u001b[0mnp\u001b[0m\u001b[0;34m.\u001b[0m\u001b[0merrstate\u001b[0m\u001b[0;34m(\u001b[0m\u001b[0mall\u001b[0m\u001b[0;34m=\u001b[0m\u001b[0;34m'ignore'\u001b[0m\u001b[0;34m)\u001b[0m\u001b[0;34m:\u001b[0m\u001b[0;34m\u001b[0m\u001b[0m\n\u001b[0;32m-> 1766\u001b[0;31m                 \u001b[0mres\u001b[0m \u001b[0;34m=\u001b[0m \u001b[0mna_op\u001b[0m\u001b[0;34m(\u001b[0m\u001b[0mvalues\u001b[0m\u001b[0;34m,\u001b[0m \u001b[0mother\u001b[0m\u001b[0;34m)\u001b[0m\u001b[0;34m\u001b[0m\u001b[0m\n\u001b[0m\u001b[1;32m   1767\u001b[0m             \u001b[0;32mif\u001b[0m \u001b[0mis_scalar\u001b[0m\u001b[0;34m(\u001b[0m\u001b[0mres\u001b[0m\u001b[0;34m)\u001b[0m\u001b[0;34m:\u001b[0m\u001b[0;34m\u001b[0m\u001b[0m\n\u001b[1;32m   1768\u001b[0m                 raise TypeError('Could not compare {typ} type with Series'\n",
      "\u001b[0;32m~/anaconda3/envs/tensorflow_gpu_p36/lib/python3.6/site-packages/pandas/core/ops.py\u001b[0m in \u001b[0;36mna_op\u001b[0;34m(x, y)\u001b[0m\n\u001b[1;32m   1623\u001b[0m \u001b[0;34m\u001b[0m\u001b[0m\n\u001b[1;32m   1624\u001b[0m         \u001b[0;32mif\u001b[0m \u001b[0mis_object_dtype\u001b[0m\u001b[0;34m(\u001b[0m\u001b[0mx\u001b[0m\u001b[0;34m.\u001b[0m\u001b[0mdtype\u001b[0m\u001b[0;34m)\u001b[0m\u001b[0;34m:\u001b[0m\u001b[0;34m\u001b[0m\u001b[0m\n\u001b[0;32m-> 1625\u001b[0;31m             \u001b[0mresult\u001b[0m \u001b[0;34m=\u001b[0m \u001b[0m_comp_method_OBJECT_ARRAY\u001b[0m\u001b[0;34m(\u001b[0m\u001b[0mop\u001b[0m\u001b[0;34m,\u001b[0m \u001b[0mx\u001b[0m\u001b[0;34m,\u001b[0m \u001b[0my\u001b[0m\u001b[0;34m)\u001b[0m\u001b[0;34m\u001b[0m\u001b[0m\n\u001b[0m\u001b[1;32m   1626\u001b[0m \u001b[0;34m\u001b[0m\u001b[0m\n\u001b[1;32m   1627\u001b[0m         \u001b[0;32melif\u001b[0m \u001b[0mis_datetimelike_v_numeric\u001b[0m\u001b[0;34m(\u001b[0m\u001b[0mx\u001b[0m\u001b[0;34m,\u001b[0m \u001b[0my\u001b[0m\u001b[0;34m)\u001b[0m\u001b[0;34m:\u001b[0m\u001b[0;34m\u001b[0m\u001b[0m\n",
      "\u001b[0;32m~/anaconda3/envs/tensorflow_gpu_p36/lib/python3.6/site-packages/pandas/core/ops.py\u001b[0m in \u001b[0;36m_comp_method_OBJECT_ARRAY\u001b[0;34m(op, x, y)\u001b[0m\n\u001b[1;32m   1601\u001b[0m         \u001b[0mresult\u001b[0m \u001b[0;34m=\u001b[0m \u001b[0mlibops\u001b[0m\u001b[0;34m.\u001b[0m\u001b[0mvec_compare\u001b[0m\u001b[0;34m(\u001b[0m\u001b[0mx\u001b[0m\u001b[0;34m,\u001b[0m \u001b[0my\u001b[0m\u001b[0;34m,\u001b[0m \u001b[0mop\u001b[0m\u001b[0;34m)\u001b[0m\u001b[0;34m\u001b[0m\u001b[0m\n\u001b[1;32m   1602\u001b[0m     \u001b[0;32melse\u001b[0m\u001b[0;34m:\u001b[0m\u001b[0;34m\u001b[0m\u001b[0m\n\u001b[0;32m-> 1603\u001b[0;31m         \u001b[0mresult\u001b[0m \u001b[0;34m=\u001b[0m \u001b[0mlibops\u001b[0m\u001b[0;34m.\u001b[0m\u001b[0mscalar_compare\u001b[0m\u001b[0;34m(\u001b[0m\u001b[0mx\u001b[0m\u001b[0;34m,\u001b[0m \u001b[0my\u001b[0m\u001b[0;34m,\u001b[0m \u001b[0mop\u001b[0m\u001b[0;34m)\u001b[0m\u001b[0;34m\u001b[0m\u001b[0m\n\u001b[0m\u001b[1;32m   1604\u001b[0m     \u001b[0;32mreturn\u001b[0m \u001b[0mresult\u001b[0m\u001b[0;34m\u001b[0m\u001b[0m\n\u001b[1;32m   1605\u001b[0m \u001b[0;34m\u001b[0m\u001b[0m\n",
      "\u001b[0;31mKeyboardInterrupt\u001b[0m: "
     ]
    }
   ],
   "source": [
    "folds = KFold(n_splits=5, shuffle=True, random_state=42)\n",
    "splits = list(folds.split(train_molecule_names))\n",
    "for fold_n, (train_index, valid_index) in enumerate(splits):\n",
    "    \n",
    "    train_loader = generate_dataLoader(train, structures, molecule_names=[train_molecule_names[i] for i in train_index], y_mean=y_mean, y_std=y_std, batch_size=32)\n",
    "    valid_loader = generate_dataLoader(train, structures, molecule_names=[train_molecule_names[i] for i in valid_index], y_mean=y_mean, y_std=y_std, batch_size=1)\n",
    "    break"
   ]
  },
  {
   "cell_type": "code",
   "execution_count": 191,
   "metadata": {},
   "outputs": [],
   "source": [
    "num_node_features = 1\n",
    "num_edge_features = 2\n",
    "dim = 16\n",
    "\n",
    "class Net(torch.nn.Module):\n",
    "    \n",
    "    \n",
    "    def __init__(self, num_node_features, num_edge_features, dim):\n",
    "        \n",
    "        super(Net, self).__init__()\n",
    "        \n",
    "        self.lin0 = torch.nn.Linear(num_node_features, dim)\n",
    "        nn = Sequential(Linear(num_edge_features, 16), ReLU(), Linear(16, dim * dim))\n",
    "        self.conv = NNConv(dim, dim, nn, aggr='mean', root_weight=False)\n",
    "        self.gru = GRU(dim, dim)\n",
    "        self.set2set = Set2Set(dim, processing_steps=3)\n",
    "        self.lin1 = torch.nn.Linear(2 * dim, dim)\n",
    "        self.lin2 = torch.nn.Linear(dim, 1)\n",
    "        \n",
    "        self.device = torch.device('cuda' if torch.cuda.is_available() else 'cpu')\n",
    "        self.model = Net().to(device)\n",
    "        self.optimizer = torch.optim.Adam(model.parameters(), lr=0.001)\n",
    "        self.scheduler = torch.optim.lr_scheduler.ReduceLROnPlateau(optimizer, mode='min', factor=0.7, patience=5, min_lr=0.00001)\n",
    "        \n",
    "        return\n",
    "\n",
    "    \n",
    "    def forward(self, data):\n",
    "        out = F.relu(self.lin0(data.x))\n",
    "        h = out.unsqueeze(0)\n",
    "\n",
    "        for i in range(3):\n",
    "            m = F.relu(self.conv(out, data.edge_index, data.edge_attr))\n",
    "            out, h = self.gru(m.unsqueeze(0), h)\n",
    "            out = out.squeeze(0)\n",
    "\n",
    "        out = self.set2set(out, data.batch)\n",
    "        out = F.relu(self.lin1(out))\n",
    "        out = self.lin2(out)\n",
    "        out = out.view(-1)\n",
    "        return out\n",
    "\n",
    "\n",
    "    def fit(loader, val_loader, test_loader=None, epoch=100, verbose=0):\n",
    "        \n",
    "        best_val_error = None\n",
    "        his = []\n",
    "        for epoch in range(1, epoch+1):\n",
    "            lr = scheduler.optimizer.param_groups[0]['lr']\n",
    "            loss = _train(loader, self.device, self.model, self.optimizer)\n",
    "            val_loss = np.mean(evaluate(val_loader))\n",
    "            if type(test_loader) == type(None):\n",
    "                test_loss = np.mean(evaluate(test_loader))\n",
    "            scheduler.step(np.mean(val_loss))\n",
    "            his.append({'epoch':epoch, 'lr':lr, 'loss':loss, 'val_loss':val_loss})\n",
    "            if verbose==0:\n",
    "                print('Epoch: {:03d}, LR: {:7f}, Loss: {:.7f}, Validation MAE: {:.7f}, Test MAE: {:.7f}'.format(epoch, lr, loss, val_loss, test_loss))\n",
    "        return his\n",
    "            \n",
    "    def predict(loader):\n",
    "        \n",
    "        self.model.eval()\n",
    "        y = []\n",
    "        for data in loader:\n",
    "            data = data.to(device)\n",
    "            y.append(self.model(data)*self.y_std + self.y_mean)\n",
    "        return np.array(y)\n",
    "\n",
    "    def _train(self, loader, device, model, optimizer):\n",
    "        \n",
    "        model.train()\n",
    "        loss_all = 0\n",
    "        for i, data in enumerate(loader):\n",
    "            data = data.to(device)\n",
    "            optimizer.zero_grad()\n",
    "            loss = F.mse_loss(model(data), data.y)\n",
    "            loss.backward()\n",
    "            loss_all += loss.item() * data.num_graphs\n",
    "            optimizer.step()\n",
    "        return loss_all / len(loader.dataset)\n",
    "        \n",
    "    def evaluate(self, loader)\n",
    "    \n",
    "        model.eval()\n",
    "        error = 0\n",
    "        errors = []\n",
    "        for data in loader:\n",
    "            data = data.to(self.device)\n",
    "            errors.append((self.model(data)*self.y_std  - data.y*self.y_std).abs().sum().item())  # MAE\n",
    "        return np.array(errors)"
   ]
  },
  {
   "cell_type": "code",
   "execution_count": 192,
   "metadata": {},
   "outputs": [
    {
     "name": "stdout",
     "output_type": "stream",
     "text": [
      "Epoch: 001, LR: 0.001000, Loss: 1.0113241, Validation MAE: 13.8894823, Test MAE: 13.8894822\n",
      "Epoch: 002, LR: 0.001000, Loss: 1.0074594, Validation MAE: 13.8574605, Test MAE: 13.8574605\n",
      "Epoch: 003, LR: 0.001000, Loss: 1.0065237, Validation MAE: 13.8172591, Test MAE: 13.8172591\n",
      "Epoch: 004, LR: 0.001000, Loss: 1.0038548, Validation MAE: 13.7889343, Test MAE: 13.7889343\n",
      "Epoch: 005, LR: 0.001000, Loss: 1.0023848, Validation MAE: 13.7639753, Test MAE: 13.7639753\n",
      "Epoch: 006, LR: 0.001000, Loss: 1.0011271, Validation MAE: 13.7565487, Test MAE: 13.7565487\n",
      "Epoch: 007, LR: 0.001000, Loss: 1.0003532, Validation MAE: 13.7448960, Test MAE: 13.7448960\n",
      "Epoch: 008, LR: 0.001000, Loss: 0.9992097, Validation MAE: 13.7097438, Test MAE: 13.7097438\n",
      "Epoch: 009, LR: 0.001000, Loss: 0.9975097, Validation MAE: 13.6682375, Test MAE: 13.6682375\n",
      "Epoch: 010, LR: 0.001000, Loss: 0.9971498, Validation MAE: 13.6595884, Test MAE: 13.6595881\n",
      "Epoch: 011, LR: 0.001000, Loss: 0.9954494, Validation MAE: 13.6451220, Test MAE: 13.6451220\n",
      "Epoch: 012, LR: 0.001000, Loss: 0.9941502, Validation MAE: 13.6170294, Test MAE: 13.6170294\n",
      "Epoch: 013, LR: 0.001000, Loss: 0.9931668, Validation MAE: 13.6162224, Test MAE: 13.6162225\n",
      "Epoch: 014, LR: 0.001000, Loss: 0.9920456, Validation MAE: 13.6088599, Test MAE: 13.6088600\n",
      "Epoch: 015, LR: 0.001000, Loss: 0.9909613, Validation MAE: 13.6040117, Test MAE: 13.6040118\n",
      "Epoch: 016, LR: 0.001000, Loss: 0.9892394, Validation MAE: 13.5880344, Test MAE: 13.5880344\n",
      "Epoch: 017, LR: 0.001000, Loss: 0.9876355, Validation MAE: 13.5940411, Test MAE: 13.5880344\n",
      "Epoch: 018, LR: 0.001000, Loss: 0.9862937, Validation MAE: 13.5712359, Test MAE: 13.5712359\n",
      "Epoch: 019, LR: 0.001000, Loss: 0.9836744, Validation MAE: 13.5215986, Test MAE: 13.5215988\n",
      "Epoch: 020, LR: 0.001000, Loss: 0.9806299, Validation MAE: 13.5076145, Test MAE: 13.5076145\n",
      "Epoch: 021, LR: 0.001000, Loss: 0.9782558, Validation MAE: 13.4785948, Test MAE: 13.4785948\n",
      "Epoch: 022, LR: 0.001000, Loss: 0.9749342, Validation MAE: 13.4614186, Test MAE: 13.4614185\n",
      "Epoch: 023, LR: 0.001000, Loss: 0.9714506, Validation MAE: 13.4788918, Test MAE: 13.4614185\n",
      "Epoch: 024, LR: 0.001000, Loss: 0.9692983, Validation MAE: 13.4787092, Test MAE: 13.4614185\n",
      "Epoch: 025, LR: 0.001000, Loss: 0.9653645, Validation MAE: 13.4162627, Test MAE: 13.4162629\n",
      "Epoch: 026, LR: 0.001000, Loss: 0.9587946, Validation MAE: 13.3106775, Test MAE: 13.3106775\n",
      "Epoch: 027, LR: 0.001000, Loss: 0.9506883, Validation MAE: 13.2417709, Test MAE: 13.2417709\n",
      "Epoch: 028, LR: 0.001000, Loss: 0.9435033, Validation MAE: 13.1664416, Test MAE: 13.1664417\n",
      "Epoch: 029, LR: 0.001000, Loss: 0.9351190, Validation MAE: 13.1585728, Test MAE: 13.1585728\n",
      "Epoch: 030, LR: 0.001000, Loss: 0.9299896, Validation MAE: 13.0003982, Test MAE: 13.0003980\n",
      "Epoch: 031, LR: 0.001000, Loss: 0.9153647, Validation MAE: 12.8726679, Test MAE: 12.8726678\n",
      "Epoch: 032, LR: 0.001000, Loss: 0.9026455, Validation MAE: 13.0637301, Test MAE: 12.8726678\n",
      "Epoch: 033, LR: 0.001000, Loss: 0.9118529, Validation MAE: 12.6077048, Test MAE: 12.6077048\n",
      "Epoch: 034, LR: 0.001000, Loss: 0.8807571, Validation MAE: 12.4493976, Test MAE: 12.4493975\n",
      "Epoch: 035, LR: 0.001000, Loss: 0.8648798, Validation MAE: 12.5752584, Test MAE: 12.4493975\n",
      "Epoch: 036, LR: 0.001000, Loss: 0.8666076, Validation MAE: 12.1753695, Test MAE: 12.1753696\n",
      "Epoch: 037, LR: 0.001000, Loss: 0.8484343, Validation MAE: 11.9071023, Test MAE: 11.9071021\n",
      "Epoch: 038, LR: 0.001000, Loss: 0.8233721, Validation MAE: 12.0150899, Test MAE: 11.9071021\n",
      "Epoch: 039, LR: 0.001000, Loss: 0.8223620, Validation MAE: 12.3649064, Test MAE: 11.9071021\n",
      "Epoch: 040, LR: 0.001000, Loss: 0.8260753, Validation MAE: 12.0470664, Test MAE: 11.9071021\n",
      "Epoch: 041, LR: 0.001000, Loss: 0.7894198, Validation MAE: 11.1664769, Test MAE: 11.1664769\n",
      "Epoch: 042, LR: 0.001000, Loss: 0.7680495, Validation MAE: 11.1429483, Test MAE: 11.1429481\n",
      "Epoch: 043, LR: 0.001000, Loss: 0.7548131, Validation MAE: 11.2091245, Test MAE: 11.1429481\n",
      "Epoch: 044, LR: 0.001000, Loss: 0.7391332, Validation MAE: 10.6031147, Test MAE: 10.6031149\n",
      "Epoch: 045, LR: 0.001000, Loss: 0.7223875, Validation MAE: 10.5626110, Test MAE: 10.5626111\n",
      "Epoch: 046, LR: 0.001000, Loss: 0.7051234, Validation MAE: 10.8653489, Test MAE: 10.5626111\n",
      "Epoch: 047, LR: 0.001000, Loss: 0.6947639, Validation MAE: 10.6542805, Test MAE: 10.5626111\n",
      "Epoch: 048, LR: 0.001000, Loss: 0.6772019, Validation MAE: 10.7226008, Test MAE: 10.5626111\n",
      "Epoch: 049, LR: 0.001000, Loss: 0.6627949, Validation MAE: 10.7781248, Test MAE: 10.5626111\n",
      "Epoch: 050, LR: 0.001000, Loss: 0.6494908, Validation MAE: 10.4698957, Test MAE: 10.4698956\n",
      "Epoch: 051, LR: 0.001000, Loss: 0.6319120, Validation MAE: 10.7120837, Test MAE: 10.4698956\n",
      "Epoch: 052, LR: 0.001000, Loss: 0.6184755, Validation MAE: 10.6169367, Test MAE: 10.4698956\n",
      "Epoch: 053, LR: 0.001000, Loss: 0.6025585, Validation MAE: 10.4916515, Test MAE: 10.4698956\n",
      "Epoch: 054, LR: 0.001000, Loss: 0.5856117, Validation MAE: 10.7676928, Test MAE: 10.4698956\n",
      "Epoch: 055, LR: 0.001000, Loss: 0.5720269, Validation MAE: 10.3763560, Test MAE: 10.3763558\n",
      "Epoch: 056, LR: 0.001000, Loss: 0.5527110, Validation MAE: 10.5361630, Test MAE: 10.3763558\n",
      "Epoch: 057, LR: 0.001000, Loss: 0.5371680, Validation MAE: 10.2761777, Test MAE: 10.2761771\n",
      "Epoch: 058, LR: 0.001000, Loss: 0.5258929, Validation MAE: 10.7452928, Test MAE: 10.2761771\n",
      "Epoch: 059, LR: 0.001000, Loss: 0.5082867, Validation MAE: 9.7200951, Test MAE: 9.7200954\n",
      "Epoch: 060, LR: 0.001000, Loss: 0.4975761, Validation MAE: 11.7786338, Test MAE: 9.7200954\n",
      "Epoch: 061, LR: 0.001000, Loss: 0.4946603, Validation MAE: 9.9667991, Test MAE: 9.7200954\n",
      "Epoch: 062, LR: 0.001000, Loss: 0.4646921, Validation MAE: 11.2819357, Test MAE: 9.7200954\n",
      "Epoch: 063, LR: 0.001000, Loss: 0.4782138, Validation MAE: 9.2459528, Test MAE: 9.2459524\n",
      "Epoch: 064, LR: 0.001000, Loss: 0.4327327, Validation MAE: 10.0356879, Test MAE: 9.2459524\n",
      "Epoch: 065, LR: 0.001000, Loss: 0.4246847, Validation MAE: 9.4346183, Test MAE: 9.2459524\n",
      "Epoch: 066, LR: 0.001000, Loss: 0.4061921, Validation MAE: 8.9107369, Test MAE: 8.9107378\n",
      "Epoch: 067, LR: 0.001000, Loss: 0.3666050, Validation MAE: 9.5096026, Test MAE: 8.9107378\n",
      "Epoch: 068, LR: 0.001000, Loss: 0.3584444, Validation MAE: 8.6425313, Test MAE: 8.6425322\n",
      "Epoch: 069, LR: 0.001000, Loss: 0.3368936, Validation MAE: 9.1205172, Test MAE: 8.6425322\n",
      "Epoch: 070, LR: 0.001000, Loss: 0.3201678, Validation MAE: 8.4796785, Test MAE: 8.4796791\n",
      "Epoch: 071, LR: 0.001000, Loss: 0.2988403, Validation MAE: 8.7213757, Test MAE: 8.4796791\n",
      "Epoch: 072, LR: 0.001000, Loss: 0.2841091, Validation MAE: 8.1134637, Test MAE: 8.1134634\n",
      "Epoch: 073, LR: 0.001000, Loss: 0.2602216, Validation MAE: 8.3033297, Test MAE: 8.1134634\n",
      "Epoch: 074, LR: 0.001000, Loss: 0.2491819, Validation MAE: 7.8067556, Test MAE: 7.8067566\n",
      "Epoch: 075, LR: 0.001000, Loss: 0.2279414, Validation MAE: 8.1633541, Test MAE: 7.8067566\n",
      "Epoch: 076, LR: 0.001000, Loss: 0.2312475, Validation MAE: 7.6419663, Test MAE: 7.6419673\n",
      "Epoch: 077, LR: 0.001000, Loss: 0.1952831, Validation MAE: 7.4466320, Test MAE: 7.4466321\n",
      "Epoch: 078, LR: 0.001000, Loss: 0.1786673, Validation MAE: 7.2174860, Test MAE: 7.2174843\n",
      "Epoch: 079, LR: 0.001000, Loss: 0.1647735, Validation MAE: 6.8436053, Test MAE: 6.8436039\n",
      "Epoch: 080, LR: 0.001000, Loss: 0.1513731, Validation MAE: 6.6987823, Test MAE: 6.6987828\n",
      "Epoch: 081, LR: 0.001000, Loss: 0.1614569, Validation MAE: 6.6778749, Test MAE: 6.6778751\n",
      "Epoch: 082, LR: 0.001000, Loss: 0.1385588, Validation MAE: 6.1240324, Test MAE: 6.1240331\n",
      "Epoch: 083, LR: 0.001000, Loss: 0.1281932, Validation MAE: 6.1831126, Test MAE: 6.1240331\n",
      "Epoch: 084, LR: 0.001000, Loss: 0.1245753, Validation MAE: 5.7759377, Test MAE: 5.7759370\n",
      "Epoch: 085, LR: 0.001000, Loss: 0.0940327, Validation MAE: 5.2941536, Test MAE: 5.2941532\n",
      "Epoch: 086, LR: 0.001000, Loss: 0.0930218, Validation MAE: 5.4381307, Test MAE: 5.2941532\n",
      "Epoch: 087, LR: 0.001000, Loss: 0.0915812, Validation MAE: 5.1258410, Test MAE: 5.1258424\n",
      "Epoch: 088, LR: 0.001000, Loss: 0.0683328, Validation MAE: 4.6959087, Test MAE: 4.6959090\n",
      "Epoch: 089, LR: 0.001000, Loss: 0.0649642, Validation MAE: 4.6153194, Test MAE: 4.6153197\n",
      "Epoch: 090, LR: 0.001000, Loss: 0.0543334, Validation MAE: 4.0620640, Test MAE: 4.0620652\n"
     ]
    },
    {
     "name": "stdout",
     "output_type": "stream",
     "text": [
      "Epoch: 091, LR: 0.001000, Loss: 0.0462736, Validation MAE: 3.8263996, Test MAE: 3.8263994\n",
      "Epoch: 092, LR: 0.001000, Loss: 0.0436887, Validation MAE: 3.6249566, Test MAE: 3.6249571\n",
      "Epoch: 093, LR: 0.001000, Loss: 0.0340078, Validation MAE: 3.3393779, Test MAE: 3.3393776\n",
      "Epoch: 094, LR: 0.001000, Loss: 0.0339061, Validation MAE: 3.2208491, Test MAE: 3.2208479\n",
      "Epoch: 095, LR: 0.001000, Loss: 0.0346511, Validation MAE: 3.3392241, Test MAE: 3.2208479\n",
      "Epoch: 096, LR: 0.001000, Loss: 0.0242673, Validation MAE: 2.8998969, Test MAE: 2.8998979\n",
      "Epoch: 097, LR: 0.001000, Loss: 0.0256407, Validation MAE: 2.8713704, Test MAE: 2.8713711\n",
      "Epoch: 098, LR: 0.001000, Loss: 0.0189520, Validation MAE: 2.5150586, Test MAE: 2.5150585\n",
      "Epoch: 099, LR: 0.001000, Loss: 0.0173045, Validation MAE: 2.3654422, Test MAE: 2.3654432\n",
      "Epoch: 100, LR: 0.001000, Loss: 0.0164401, Validation MAE: 2.3367200, Test MAE: 2.3367202\n",
      "Epoch: 101, LR: 0.001000, Loss: 0.0141442, Validation MAE: 2.2545246, Test MAE: 2.2545234\n",
      "Epoch: 102, LR: 0.001000, Loss: 0.0121171, Validation MAE: 2.1579234, Test MAE: 2.1579249\n",
      "Epoch: 103, LR: 0.001000, Loss: 0.0121246, Validation MAE: 2.0020748, Test MAE: 2.0020755\n",
      "Epoch: 104, LR: 0.001000, Loss: 0.0112961, Validation MAE: 1.8817701, Test MAE: 1.8817696\n",
      "Epoch: 105, LR: 0.001000, Loss: 0.0098966, Validation MAE: 1.7963605, Test MAE: 1.7963593\n",
      "Epoch: 106, LR: 0.001000, Loss: 0.0095004, Validation MAE: 1.7283994, Test MAE: 1.7283984\n",
      "Epoch: 107, LR: 0.001000, Loss: 0.0085155, Validation MAE: 1.6816554, Test MAE: 1.6816542\n",
      "Epoch: 108, LR: 0.001000, Loss: 0.0077747, Validation MAE: 1.6104854, Test MAE: 1.6104843\n",
      "Epoch: 109, LR: 0.001000, Loss: 0.0074843, Validation MAE: 1.5271897, Test MAE: 1.5271899\n",
      "Epoch: 110, LR: 0.001000, Loss: 0.0070834, Validation MAE: 1.4692774, Test MAE: 1.4692768\n",
      "Epoch: 111, LR: 0.001000, Loss: 0.0066428, Validation MAE: 1.4289359, Test MAE: 1.4289355\n",
      "Epoch: 112, LR: 0.001000, Loss: 0.0061473, Validation MAE: 1.3736488, Test MAE: 1.3736508\n",
      "Epoch: 113, LR: 0.001000, Loss: 0.0061774, Validation MAE: 1.3091965, Test MAE: 1.3091948\n",
      "Epoch: 114, LR: 0.001000, Loss: 0.0058912, Validation MAE: 1.2838436, Test MAE: 1.2838423\n",
      "Epoch: 115, LR: 0.001000, Loss: 0.0053988, Validation MAE: 1.2525347, Test MAE: 1.2525353\n",
      "Epoch: 116, LR: 0.001000, Loss: 0.0051617, Validation MAE: 1.1857962, Test MAE: 1.1857974\n",
      "Epoch: 117, LR: 0.001000, Loss: 0.0053197, Validation MAE: 1.1406757, Test MAE: 1.1406753\n",
      "Epoch: 118, LR: 0.001000, Loss: 0.0052359, Validation MAE: 1.1731706, Test MAE: 1.1406753\n",
      "Epoch: 119, LR: 0.001000, Loss: 0.0047105, Validation MAE: 1.1517680, Test MAE: 1.1406753\n",
      "Epoch: 120, LR: 0.001000, Loss: 0.0044164, Validation MAE: 1.0498831, Test MAE: 1.0498817\n",
      "Epoch: 121, LR: 0.001000, Loss: 0.0052412, Validation MAE: 1.0904273, Test MAE: 1.0498817\n",
      "Epoch: 122, LR: 0.001000, Loss: 0.0052404, Validation MAE: 1.2139596, Test MAE: 1.0498817\n",
      "Epoch: 123, LR: 0.001000, Loss: 0.0047322, Validation MAE: 1.1063988, Test MAE: 1.0498817\n",
      "Epoch: 124, LR: 0.001000, Loss: 0.0041935, Validation MAE: 0.9912125, Test MAE: 0.9912109\n",
      "Epoch: 125, LR: 0.001000, Loss: 0.0062206, Validation MAE: 1.1257561, Test MAE: 0.9912109\n",
      "Epoch: 126, LR: 0.001000, Loss: 0.0064662, Validation MAE: 1.4919404, Test MAE: 0.9912109\n",
      "Epoch: 127, LR: 0.001000, Loss: 0.0073718, Validation MAE: 1.2321907, Test MAE: 0.9912109\n",
      "Epoch: 128, LR: 0.001000, Loss: 0.0053462, Validation MAE: 1.0060709, Test MAE: 0.9912109\n",
      "Epoch: 129, LR: 0.001000, Loss: 0.0103880, Validation MAE: 1.4769432, Test MAE: 0.9912109\n",
      "Epoch: 130, LR: 0.001000, Loss: 0.0075546, Validation MAE: 1.5044172, Test MAE: 0.9912109\n",
      "Epoch: 131, LR: 0.000700, Loss: 0.0083532, Validation MAE: 1.4006808, Test MAE: 0.9912109\n",
      "Epoch: 132, LR: 0.000700, Loss: 0.0058978, Validation MAE: 1.1963724, Test MAE: 0.9912109\n",
      "Epoch: 133, LR: 0.000700, Loss: 0.0065442, Validation MAE: 0.9857738, Test MAE: 0.9857729\n",
      "Epoch: 134, LR: 0.000700, Loss: 0.0108279, Validation MAE: 1.5024143, Test MAE: 0.9857729\n",
      "Epoch: 135, LR: 0.000700, Loss: 0.0107335, Validation MAE: 1.0350467, Test MAE: 0.9857729\n",
      "Epoch: 136, LR: 0.000700, Loss: 0.0239194, Validation MAE: 1.3312805, Test MAE: 0.9857729\n",
      "Epoch: 137, LR: 0.000700, Loss: 0.0309552, Validation MAE: 1.4437475, Test MAE: 0.9857729\n",
      "Epoch: 138, LR: 0.000700, Loss: 0.0684799, Validation MAE: 1.4715188, Test MAE: 0.9857729\n",
      "Epoch: 139, LR: 0.000700, Loss: 0.0727858, Validation MAE: 1.6484652, Test MAE: 0.9857729\n",
      "Epoch: 140, LR: 0.000490, Loss: 0.0856077, Validation MAE: 6.6787608, Test MAE: 0.9857729\n",
      "Epoch: 141, LR: 0.000490, Loss: 0.0330719, Validation MAE: 3.6010121, Test MAE: 0.9857729\n",
      "Epoch: 142, LR: 0.000490, Loss: 0.0414138, Validation MAE: 2.5601806, Test MAE: 0.9857729\n",
      "Epoch: 143, LR: 0.000490, Loss: 0.0308560, Validation MAE: 3.4650986, Test MAE: 0.9857729\n",
      "Epoch: 144, LR: 0.000490, Loss: 0.0187625, Validation MAE: 1.6131804, Test MAE: 0.9857729\n",
      "Epoch: 145, LR: 0.000490, Loss: 0.0127327, Validation MAE: 2.5647243, Test MAE: 0.9857729\n",
      "Epoch: 146, LR: 0.000343, Loss: 0.0129106, Validation MAE: 1.5714216, Test MAE: 0.9857729\n",
      "Epoch: 147, LR: 0.000343, Loss: 0.0101945, Validation MAE: 1.7993703, Test MAE: 0.9857729\n",
      "Epoch: 148, LR: 0.000343, Loss: 0.0052879, Validation MAE: 1.3976947, Test MAE: 0.9857729\n",
      "Epoch: 149, LR: 0.000343, Loss: 0.0052711, Validation MAE: 1.5098177, Test MAE: 0.9857729\n",
      "Epoch: 150, LR: 0.000343, Loss: 0.0059464, Validation MAE: 1.2755215, Test MAE: 0.9857729\n",
      "Epoch: 151, LR: 0.000343, Loss: 0.0050621, Validation MAE: 1.2379987, Test MAE: 0.9857729\n",
      "Epoch: 152, LR: 0.000240, Loss: 0.0039020, Validation MAE: 1.1633697, Test MAE: 0.9857729\n",
      "Epoch: 153, LR: 0.000240, Loss: 0.0037362, Validation MAE: 1.1886709, Test MAE: 0.9857729\n",
      "Epoch: 154, LR: 0.000240, Loss: 0.0038729, Validation MAE: 1.1145552, Test MAE: 0.9857729\n",
      "Epoch: 155, LR: 0.000240, Loss: 0.0037080, Validation MAE: 1.0497259, Test MAE: 0.9857729\n",
      "Epoch: 156, LR: 0.000240, Loss: 0.0034815, Validation MAE: 1.0186399, Test MAE: 0.9857729\n",
      "Epoch: 157, LR: 0.000240, Loss: 0.0032927, Validation MAE: 1.0273400, Test MAE: 0.9857729\n",
      "Epoch: 158, LR: 0.000168, Loss: 0.0032530, Validation MAE: 1.0148351, Test MAE: 0.9857729\n",
      "Epoch: 159, LR: 0.000168, Loss: 0.0032179, Validation MAE: 0.9848015, Test MAE: 0.9848004\n",
      "Epoch: 160, LR: 0.000168, Loss: 0.0031575, Validation MAE: 0.9667099, Test MAE: 0.9667096\n",
      "Epoch: 161, LR: 0.000168, Loss: 0.0030902, Validation MAE: 0.9564608, Test MAE: 0.9564604\n",
      "Epoch: 162, LR: 0.000168, Loss: 0.0030318, Validation MAE: 0.9464428, Test MAE: 0.9464428\n",
      "Epoch: 163, LR: 0.000168, Loss: 0.0029920, Validation MAE: 0.9384827, Test MAE: 0.9384815\n",
      "Epoch: 164, LR: 0.000168, Loss: 0.0029573, Validation MAE: 0.9280776, Test MAE: 0.9280748\n",
      "Epoch: 165, LR: 0.000168, Loss: 0.0029210, Validation MAE: 0.9183098, Test MAE: 0.9183110\n",
      "Epoch: 166, LR: 0.000168, Loss: 0.0028852, Validation MAE: 0.9054066, Test MAE: 0.9054063\n",
      "Epoch: 167, LR: 0.000168, Loss: 0.0028525, Validation MAE: 0.8943510, Test MAE: 0.8943507\n",
      "Epoch: 168, LR: 0.000168, Loss: 0.0028207, Validation MAE: 0.8836591, Test MAE: 0.8836597\n",
      "Epoch: 169, LR: 0.000168, Loss: 0.0027985, Validation MAE: 0.8750148, Test MAE: 0.8750152\n",
      "Epoch: 170, LR: 0.000168, Loss: 0.0027698, Validation MAE: 0.8695389, Test MAE: 0.8695393\n",
      "Epoch: 171, LR: 0.000168, Loss: 0.0027453, Validation MAE: 0.8625648, Test MAE: 0.8625674\n",
      "Epoch: 172, LR: 0.000168, Loss: 0.0027215, Validation MAE: 0.8532651, Test MAE: 0.8532672\n",
      "Epoch: 173, LR: 0.000168, Loss: 0.0026982, Validation MAE: 0.8431656, Test MAE: 0.8431656\n",
      "Epoch: 174, LR: 0.000168, Loss: 0.0026809, Validation MAE: 0.8364450, Test MAE: 0.8364452\n",
      "Epoch: 175, LR: 0.000168, Loss: 0.0026568, Validation MAE: 0.8332375, Test MAE: 0.8332369\n",
      "Epoch: 176, LR: 0.000168, Loss: 0.0026370, Validation MAE: 0.8286250, Test MAE: 0.8286248\n",
      "Epoch: 177, LR: 0.000168, Loss: 0.0026191, Validation MAE: 0.8217084, Test MAE: 0.8217092\n",
      "Epoch: 178, LR: 0.000168, Loss: 0.0026014, Validation MAE: 0.8139333, Test MAE: 0.8139341\n",
      "Epoch: 179, LR: 0.000168, Loss: 0.0025836, Validation MAE: 0.8060009, Test MAE: 0.8060006\n",
      "Epoch: 180, LR: 0.000168, Loss: 0.0025689, Validation MAE: 0.8012700, Test MAE: 0.8012724\n",
      "Epoch: 181, LR: 0.000168, Loss: 0.0025484, Validation MAE: 0.7967202, Test MAE: 0.7967192\n",
      "Epoch: 182, LR: 0.000168, Loss: 0.0025323, Validation MAE: 0.7907275, Test MAE: 0.7907282\n"
     ]
    },
    {
     "name": "stdout",
     "output_type": "stream",
     "text": [
      "Epoch: 183, LR: 0.000168, Loss: 0.0025168, Validation MAE: 0.7843902, Test MAE: 0.7843893\n",
      "Epoch: 184, LR: 0.000168, Loss: 0.0025061, Validation MAE: 0.7811125, Test MAE: 0.7811121\n",
      "Epoch: 185, LR: 0.000168, Loss: 0.0024868, Validation MAE: 0.7779955, Test MAE: 0.7779956\n",
      "Epoch: 186, LR: 0.000168, Loss: 0.0024724, Validation MAE: 0.7730998, Test MAE: 0.7730982\n",
      "Epoch: 187, LR: 0.000168, Loss: 0.0024581, Validation MAE: 0.7674589, Test MAE: 0.7674581\n",
      "Epoch: 188, LR: 0.000168, Loss: 0.0024440, Validation MAE: 0.7617399, Test MAE: 0.7617385\n",
      "Epoch: 189, LR: 0.000168, Loss: 0.0024331, Validation MAE: 0.7593494, Test MAE: 0.7593498\n",
      "Epoch: 190, LR: 0.000168, Loss: 0.0024159, Validation MAE: 0.7570124, Test MAE: 0.7570128\n",
      "Epoch: 191, LR: 0.000168, Loss: 0.0024027, Validation MAE: 0.7529145, Test MAE: 0.7529138\n",
      "Epoch: 192, LR: 0.000168, Loss: 0.0023896, Validation MAE: 0.7480939, Test MAE: 0.7480941\n",
      "Epoch: 193, LR: 0.000168, Loss: 0.0023767, Validation MAE: 0.7431363, Test MAE: 0.7431376\n",
      "Epoch: 194, LR: 0.000168, Loss: 0.0023635, Validation MAE: 0.7381761, Test MAE: 0.7381764\n",
      "Epoch: 195, LR: 0.000168, Loss: 0.0023512, Validation MAE: 0.7365926, Test MAE: 0.7365920\n",
      "Epoch: 196, LR: 0.000168, Loss: 0.0023367, Validation MAE: 0.7351214, Test MAE: 0.7351209\n",
      "Epoch: 197, LR: 0.000168, Loss: 0.0023247, Validation MAE: 0.7327832, Test MAE: 0.7327840\n",
      "Epoch: 198, LR: 0.000168, Loss: 0.0023126, Validation MAE: 0.7301824, Test MAE: 0.7301825\n",
      "Epoch: 199, LR: 0.000168, Loss: 0.0023005, Validation MAE: 0.7273614, Test MAE: 0.7273628\n",
      "Epoch: 200, LR: 0.000168, Loss: 0.0022880, Validation MAE: 0.7242022, Test MAE: 0.7242022\n",
      "Epoch: 201, LR: 0.000168, Loss: 0.0022753, Validation MAE: 0.7208200, Test MAE: 0.7208201\n",
      "Epoch: 202, LR: 0.000168, Loss: 0.0022629, Validation MAE: 0.7176381, Test MAE: 0.7176367\n",
      "Epoch: 203, LR: 0.000168, Loss: 0.0022507, Validation MAE: 0.7149119, Test MAE: 0.7149122\n",
      "Epoch: 204, LR: 0.000168, Loss: 0.0022401, Validation MAE: 0.7171026, Test MAE: 0.7149122\n",
      "Epoch: 205, LR: 0.000168, Loss: 0.0022260, Validation MAE: 0.7190326, Test MAE: 0.7149122\n",
      "Epoch: 206, LR: 0.000168, Loss: 0.0022147, Validation MAE: 0.7180645, Test MAE: 0.7149122\n",
      "Epoch: 207, LR: 0.000168, Loss: 0.0022035, Validation MAE: 0.7160540, Test MAE: 0.7149122\n",
      "Epoch: 208, LR: 0.000168, Loss: 0.0021922, Validation MAE: 0.7137246, Test MAE: 0.7137261\n",
      "Epoch: 209, LR: 0.000168, Loss: 0.0021807, Validation MAE: 0.7109543, Test MAE: 0.7109535\n",
      "Epoch: 210, LR: 0.000168, Loss: 0.0021689, Validation MAE: 0.7078078, Test MAE: 0.7078075\n",
      "Epoch: 211, LR: 0.000168, Loss: 0.0021572, Validation MAE: 0.7047631, Test MAE: 0.7047636\n",
      "Epoch: 212, LR: 0.000168, Loss: 0.0021457, Validation MAE: 0.7021405, Test MAE: 0.7021413\n",
      "Epoch: 213, LR: 0.000168, Loss: 0.0021343, Validation MAE: 0.6998715, Test MAE: 0.6998717\n",
      "Epoch: 214, LR: 0.000168, Loss: 0.0021229, Validation MAE: 0.6977680, Test MAE: 0.6977679\n",
      "Epoch: 215, LR: 0.000168, Loss: 0.0021116, Validation MAE: 0.6958016, Test MAE: 0.6958022\n",
      "Epoch: 216, LR: 0.000168, Loss: 0.0021003, Validation MAE: 0.6940260, Test MAE: 0.6940252\n",
      "Epoch: 217, LR: 0.000168, Loss: 0.0020892, Validation MAE: 0.6924155, Test MAE: 0.6924155\n",
      "Epoch: 218, LR: 0.000168, Loss: 0.0020781, Validation MAE: 0.6908908, Test MAE: 0.6908902\n",
      "Epoch: 219, LR: 0.000168, Loss: 0.0020670, Validation MAE: 0.6893695, Test MAE: 0.6893691\n",
      "Epoch: 220, LR: 0.000168, Loss: 0.0020559, Validation MAE: 0.6878686, Test MAE: 0.6878684\n",
      "Epoch: 221, LR: 0.000168, Loss: 0.0020450, Validation MAE: 0.6863984, Test MAE: 0.6864004\n",
      "Epoch: 222, LR: 0.000168, Loss: 0.0020341, Validation MAE: 0.6849454, Test MAE: 0.6849440\n",
      "Epoch: 223, LR: 0.000168, Loss: 0.0020232, Validation MAE: 0.6834803, Test MAE: 0.6834808\n",
      "Epoch: 224, LR: 0.000168, Loss: 0.0020124, Validation MAE: 0.6820133, Test MAE: 0.6820138\n",
      "Epoch: 225, LR: 0.000168, Loss: 0.0020016, Validation MAE: 0.6805500, Test MAE: 0.6805500\n",
      "Epoch: 226, LR: 0.000168, Loss: 0.0019908, Validation MAE: 0.6790929, Test MAE: 0.6790936\n",
      "Epoch: 227, LR: 0.000168, Loss: 0.0019801, Validation MAE: 0.6776405, Test MAE: 0.6776400\n",
      "Epoch: 228, LR: 0.000168, Loss: 0.0019695, Validation MAE: 0.6761835, Test MAE: 0.6761827\n",
      "Epoch: 229, LR: 0.000168, Loss: 0.0019588, Validation MAE: 0.6747320, Test MAE: 0.6747313\n",
      "Epoch: 230, LR: 0.000168, Loss: 0.0019482, Validation MAE: 0.6732920, Test MAE: 0.6732922\n",
      "Epoch: 231, LR: 0.000168, Loss: 0.0019376, Validation MAE: 0.6718523, Test MAE: 0.6718516\n",
      "Epoch: 232, LR: 0.000168, Loss: 0.0019271, Validation MAE: 0.6705150, Test MAE: 0.6705133\n",
      "Epoch: 233, LR: 0.000168, Loss: 0.0019208, Validation MAE: 0.6700954, Test MAE: 0.6700955\n",
      "Epoch: 234, LR: 0.000168, Loss: 0.0019112, Validation MAE: 0.6684555, Test MAE: 0.6684551\n",
      "Epoch: 235, LR: 0.000168, Loss: 0.0019001, Validation MAE: 0.6658639, Test MAE: 0.6658634\n",
      "Epoch: 236, LR: 0.000168, Loss: 0.0018913, Validation MAE: 0.6658576, Test MAE: 0.6658580\n",
      "Epoch: 237, LR: 0.000168, Loss: 0.0018841, Validation MAE: 0.6621951, Test MAE: 0.6621968\n",
      "Epoch: 238, LR: 0.000168, Loss: 0.0018729, Validation MAE: 0.6648954, Test MAE: 0.6621968\n",
      "Epoch: 239, LR: 0.000168, Loss: 0.0018657, Validation MAE: 0.6684084, Test MAE: 0.6621968\n",
      "Epoch: 240, LR: 0.000168, Loss: 0.0018571, Validation MAE: 0.6676945, Test MAE: 0.6621968\n",
      "Epoch: 241, LR: 0.000168, Loss: 0.0018484, Validation MAE: 0.6666724, Test MAE: 0.6621968\n",
      "Epoch: 242, LR: 0.000168, Loss: 0.0018401, Validation MAE: 0.6648862, Test MAE: 0.6621968\n",
      "Epoch: 243, LR: 0.000168, Loss: 0.0018306, Validation MAE: 0.6607012, Test MAE: 0.6607014\n",
      "Epoch: 244, LR: 0.000168, Loss: 0.0018242, Validation MAE: 0.6550971, Test MAE: 0.6550966\n",
      "Epoch: 245, LR: 0.000168, Loss: 0.0018148, Validation MAE: 0.6518554, Test MAE: 0.6518552\n",
      "Epoch: 246, LR: 0.000168, Loss: 0.0018053, Validation MAE: 0.6521626, Test MAE: 0.6518552\n",
      "Epoch: 247, LR: 0.000168, Loss: 0.0017970, Validation MAE: 0.6512384, Test MAE: 0.6512395\n",
      "Epoch: 248, LR: 0.000168, Loss: 0.0017895, Validation MAE: 0.6462968, Test MAE: 0.6462963\n",
      "Epoch: 249, LR: 0.000168, Loss: 0.0017791, Validation MAE: 0.6432688, Test MAE: 0.6432695\n",
      "Epoch: 250, LR: 0.000168, Loss: 0.0017713, Validation MAE: 0.6492419, Test MAE: 0.6432695\n",
      "Epoch: 251, LR: 0.000168, Loss: 0.0017662, Validation MAE: 0.6517694, Test MAE: 0.6432695\n",
      "Epoch: 252, LR: 0.000168, Loss: 0.0017576, Validation MAE: 0.6490367, Test MAE: 0.6432695\n",
      "Epoch: 253, LR: 0.000168, Loss: 0.0017484, Validation MAE: 0.6479903, Test MAE: 0.6432695\n",
      "Epoch: 254, LR: 0.000168, Loss: 0.0017393, Validation MAE: 0.6481825, Test MAE: 0.6432695\n",
      "Epoch: 255, LR: 0.000168, Loss: 0.0017314, Validation MAE: 0.6452252, Test MAE: 0.6432695\n",
      "Epoch: 256, LR: 0.000118, Loss: 0.0017145, Validation MAE: 0.6410739, Test MAE: 0.6410730\n",
      "Epoch: 257, LR: 0.000118, Loss: 0.0017098, Validation MAE: 0.6366193, Test MAE: 0.6366196\n",
      "Epoch: 258, LR: 0.000118, Loss: 0.0017035, Validation MAE: 0.6337954, Test MAE: 0.6337963\n",
      "Epoch: 259, LR: 0.000118, Loss: 0.0016971, Validation MAE: 0.6334140, Test MAE: 0.6334141\n",
      "Epoch: 260, LR: 0.000118, Loss: 0.0016913, Validation MAE: 0.6330809, Test MAE: 0.6330819\n",
      "Epoch: 261, LR: 0.000118, Loss: 0.0016870, Validation MAE: 0.6300632, Test MAE: 0.6300634\n",
      "Epoch: 262, LR: 0.000118, Loss: 0.0016791, Validation MAE: 0.6271105, Test MAE: 0.6271110\n",
      "Epoch: 263, LR: 0.000118, Loss: 0.0016748, Validation MAE: 0.6254889, Test MAE: 0.6254901\n",
      "Epoch: 264, LR: 0.000118, Loss: 0.0016684, Validation MAE: 0.6294751, Test MAE: 0.6254901\n",
      "Epoch: 265, LR: 0.000118, Loss: 0.0016639, Validation MAE: 0.6321112, Test MAE: 0.6254901\n",
      "Epoch: 266, LR: 0.000118, Loss: 0.0016582, Validation MAE: 0.6309320, Test MAE: 0.6254901\n",
      "Epoch: 267, LR: 0.000118, Loss: 0.0016516, Validation MAE: 0.6303361, Test MAE: 0.6254901\n",
      "Epoch: 268, LR: 0.000118, Loss: 0.0016458, Validation MAE: 0.6299860, Test MAE: 0.6254901\n",
      "Epoch: 269, LR: 0.000118, Loss: 0.0016418, Validation MAE: 0.6273618, Test MAE: 0.6254901\n",
      "Epoch: 270, LR: 0.000082, Loss: 0.0016299, Validation MAE: 0.6246869, Test MAE: 0.6246866\n",
      "Epoch: 271, LR: 0.000082, Loss: 0.0016257, Validation MAE: 0.6229993, Test MAE: 0.6230001\n",
      "Epoch: 272, LR: 0.000082, Loss: 0.0016215, Validation MAE: 0.6224211, Test MAE: 0.6224199\n",
      "Epoch: 273, LR: 0.000082, Loss: 0.0016179, Validation MAE: 0.6209934, Test MAE: 0.6209938\n",
      "Epoch: 274, LR: 0.000082, Loss: 0.0016132, Validation MAE: 0.6190574, Test MAE: 0.6190581\n"
     ]
    },
    {
     "name": "stdout",
     "output_type": "stream",
     "text": [
      "Epoch: 275, LR: 0.000082, Loss: 0.0016097, Validation MAE: 0.6169262, Test MAE: 0.6169271\n",
      "Epoch: 276, LR: 0.000082, Loss: 0.0016052, Validation MAE: 0.6157263, Test MAE: 0.6157252\n",
      "Epoch: 277, LR: 0.000082, Loss: 0.0016009, Validation MAE: 0.6155137, Test MAE: 0.6155138\n",
      "Epoch: 278, LR: 0.000082, Loss: 0.0015985, Validation MAE: 0.6142237, Test MAE: 0.6142248\n",
      "Epoch: 279, LR: 0.000082, Loss: 0.0015941, Validation MAE: 0.6121861, Test MAE: 0.6121865\n",
      "Epoch: 280, LR: 0.000082, Loss: 0.0015891, Validation MAE: 0.6143916, Test MAE: 0.6121865\n",
      "Epoch: 281, LR: 0.000082, Loss: 0.0015856, Validation MAE: 0.6166842, Test MAE: 0.6121865\n",
      "Epoch: 282, LR: 0.000082, Loss: 0.0015818, Validation MAE: 0.6166809, Test MAE: 0.6121865\n",
      "Epoch: 283, LR: 0.000082, Loss: 0.0015779, Validation MAE: 0.6162619, Test MAE: 0.6121865\n",
      "Epoch: 284, LR: 0.000082, Loss: 0.0015738, Validation MAE: 0.6157540, Test MAE: 0.6121865\n",
      "Epoch: 285, LR: 0.000082, Loss: 0.0015702, Validation MAE: 0.6140943, Test MAE: 0.6121865\n",
      "Epoch: 286, LR: 0.000058, Loss: 0.0015621, Validation MAE: 0.6128799, Test MAE: 0.6121865\n",
      "Epoch: 287, LR: 0.000058, Loss: 0.0015590, Validation MAE: 0.6118845, Test MAE: 0.6118840\n",
      "Epoch: 288, LR: 0.000058, Loss: 0.0015571, Validation MAE: 0.6105192, Test MAE: 0.6105204\n",
      "Epoch: 289, LR: 0.000058, Loss: 0.0015541, Validation MAE: 0.6088221, Test MAE: 0.6088198\n",
      "Epoch: 290, LR: 0.000058, Loss: 0.0015506, Validation MAE: 0.6077356, Test MAE: 0.6077371\n",
      "Epoch: 291, LR: 0.000058, Loss: 0.0015476, Validation MAE: 0.6073953, Test MAE: 0.6073940\n",
      "Epoch: 292, LR: 0.000058, Loss: 0.0015457, Validation MAE: 0.6065823, Test MAE: 0.6065803\n",
      "Epoch: 293, LR: 0.000058, Loss: 0.0015426, Validation MAE: 0.6050294, Test MAE: 0.6050294\n",
      "Epoch: 294, LR: 0.000058, Loss: 0.0015393, Validation MAE: 0.6041080, Test MAE: 0.6041077\n",
      "Epoch: 295, LR: 0.000058, Loss: 0.0015364, Validation MAE: 0.6039290, Test MAE: 0.6039285\n",
      "Epoch: 296, LR: 0.000058, Loss: 0.0015341, Validation MAE: 0.6031667, Test MAE: 0.6031664\n",
      "Epoch: 297, LR: 0.000058, Loss: 0.0015310, Validation MAE: 0.6017794, Test MAE: 0.6017798\n",
      "Epoch: 298, LR: 0.000058, Loss: 0.0015281, Validation MAE: 0.6010433, Test MAE: 0.6010439\n",
      "Epoch: 299, LR: 0.000058, Loss: 0.0015255, Validation MAE: 0.6031972, Test MAE: 0.6010439\n",
      "Epoch: 300, LR: 0.000058, Loss: 0.0015227, Validation MAE: 0.6047189, Test MAE: 0.6010439\n"
     ]
    }
   ],
   "source": []
  },
  {
   "cell_type": "code",
   "execution_count": 202,
   "metadata": {},
   "outputs": [
    {
     "data": {
      "text/plain": [
       "-2.8134107167600364"
      ]
     },
     "execution_count": 202,
     "metadata": {},
     "output_type": "execute_result"
    }
   ],
   "source": [
    "np.log(.06)"
   ]
  },
  {
   "cell_type": "code",
   "execution_count": null,
   "metadata": {},
   "outputs": [],
   "source": []
  }
 ],
 "metadata": {
  "kernelspec": {
   "display_name": "Environment (conda_tensorflow_gpu_p36)",
   "language": "python",
   "name": "conda_tensorflow_gpu_p36"
  }
 },
 "nbformat": 4,
 "nbformat_minor": 2
}
