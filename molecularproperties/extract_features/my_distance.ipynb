{
 "cells": [
  {
   "cell_type": "code",
   "execution_count": 1,
   "metadata": {},
   "outputs": [
    {
     "data": {
      "text/html": [
       "<style>\n",
       "   div#notebook-container    { width: 95%; }\n",
       "   div#menubar-container     { width: 65%; }\n",
       "   div#maintoolbar-container { width: 99%; }\n",
       "</style>"
      ],
      "text/plain": [
       "<IPython.core.display.HTML object>"
      ]
     },
     "metadata": {},
     "output_type": "display_data"
    }
   ],
   "source": [
    "%%HTML\n",
    "<style>\n",
    "   div#notebook-container    { width: 95%; }\n",
    "   div#menubar-container     { width: 65%; }\n",
    "   div#maintoolbar-container { width: 99%; }\n",
    "</style>"
   ]
  },
  {
   "cell_type": "code",
   "execution_count": 86,
   "metadata": {},
   "outputs": [],
   "source": [
    "import numpy as np\n",
    "import pandas as pd\n",
    "import random\n",
    "import os\n",
    "from scipy.stats import kurtosis, skew\n",
    "\n",
    "import seaborn as sns\n",
    "import matplotlib.pyplot as plt\n",
    "\n",
    "# import hdbscan\n",
    "os.getpid()\n",
    "\n",
    "import seaborn as sns\n",
    "from sklearn.model_selection import StratifiedKFold, KFold, RepeatedKFold,TimeSeriesSplit, GroupKFold, train_test_split\n",
    "import lightgbm as lgb\n",
    "\n",
    "from catboost import CatBoostRegressor\n",
    "from sklearn.preprocessing import LabelEncoder\n",
    "from sklearn.model_selection import StratifiedKFold, KFold, RepeatedKFold,TimeSeriesSplit, GroupKFold\n",
    "from sklearn.model_selection import train_test_split\n",
    "from sklearn import metrics\n",
    "from sklearn import linear_model\n",
    "from sklearn.preprocessing import StandardScaler\n",
    "from sklearn.svm import NuSVR, SVR\n",
    "from sklearn.metrics import mean_absolute_error\n",
    "from sklearn import preprocessing\n",
    "\n",
    "# from tqtm import tqtm"
   ]
  },
  {
   "cell_type": "code",
   "execution_count": 2,
   "metadata": {},
   "outputs": [],
   "source": [
    "# import sys\n",
    "# !{sys.executable} -m pip install hdbscan"
   ]
  },
  {
   "cell_type": "code",
   "execution_count": 3,
   "metadata": {},
   "outputs": [
    {
     "data": {
      "text/plain": [
       "['sample_submission.csv',\n",
       " 'magnetic_shielding_tensors.csv',\n",
       " 'potential_energy.csv',\n",
       " 'scalar_coupling_contributions.csv',\n",
       " 'dipole_moments.csv',\n",
       " 'mulliken_charges.csv',\n",
       " 'train.csv',\n",
       " 'test.csv',\n",
       " 'structures.csv',\n",
       " 'structures']"
      ]
     },
     "execution_count": 3,
     "metadata": {},
     "output_type": "execute_result"
    }
   ],
   "source": [
    "csv_file_folder =  '../../data/input'\n",
    "file_folder = '../../data/feature'\n",
    "os.listdir(csv_file_folder)"
   ]
  },
  {
   "cell_type": "code",
   "execution_count": 69,
   "metadata": {},
   "outputs": [],
   "source": []
  },
  {
   "cell_type": "code",
   "execution_count": 5,
   "metadata": {},
   "outputs": [],
   "source": [
    "df_train2 = pd.read_pickle('../select_features/tmp_df_train', compression='gzip')"
   ]
  },
  {
   "cell_type": "code",
   "execution_count": 54,
   "metadata": {},
   "outputs": [
    {
     "data": {
      "text/plain": [
       "3JHC    1510379\n",
       "2JHC    1140674\n",
       "1JHC     709416\n",
       "3JHH     590611\n",
       "2JHH     378036\n",
       "3JHN     166415\n",
       "2JHN     119253\n",
       "1JHN      43363\n",
       "Name: type, dtype: int64"
      ]
     },
     "execution_count": 54,
     "metadata": {},
     "output_type": "execute_result"
    }
   ],
   "source": [
    "train.type.value_counts()"
   ]
  },
  {
   "cell_type": "code",
   "execution_count": 7,
   "metadata": {},
   "outputs": [
    {
     "data": {
      "text/plain": [
       "0    709416\n",
       "Name: type, dtype: int64"
      ]
     },
     "execution_count": 7,
     "metadata": {},
     "output_type": "execute_result"
    }
   ],
   "source": [
    "df_train2.type.value_counts()"
   ]
  },
  {
   "cell_type": "code",
   "execution_count": 55,
   "metadata": {},
   "outputs": [],
   "source": [
    "test_molecule_names = train[train['type']=='1JHC'].molecule_name.unique().tolist()"
   ]
  },
  {
   "cell_type": "code",
   "execution_count": 58,
   "metadata": {},
   "outputs": [
    {
     "data": {
      "text/plain": [
       "(84747, 85003, (709416, 6))"
      ]
     },
     "execution_count": 58,
     "metadata": {},
     "output_type": "execute_result"
    }
   ],
   "source": [
    "len(test_molecule_names), len(train.molecule_name.unique().tolist()), train[train['type']=='1JHC'].shape"
   ]
  },
  {
   "cell_type": "code",
   "execution_count": 57,
   "metadata": {},
   "outputs": [],
   "source": [
    "columns0 = ['tertiary_angle_0', 'atom_1_bond_lengths_mean', 'inv_dist1R', 'yukawa_H.y', 'd_4_3', 'mulliken_atom_0', 'dist_O_0_x', 'dist_to_type_0_mean', 'tertiary_distance_2', 'dist_C_0_y', 'inv_dist0R', 'atom_index_1_cycle_size_mean', 'd_3_2', 'd_4_2', 'dist_O_0_y', 'inv_distPE', 'eem_1', 'dist_median_bond_y', 'dist_no_bond_min_y', 'dist_H_2_x', 'dist_C_2_y', 'dist_H_1_x', 'dist_O_1_x', 'cos_center1', 'dist_C_2_x', 'dist_N_0_y', 'mulliken_atom_1', 'dist_C_3_x', 'dist_to_type_1_mean', 'dist_O_1_y', 'tertiary_angle_3', 'dist_H_2_y', 'tertiary_angle_1', 'yukawa_H.x', 'molecule_atom_index_0_dist_max_div', 'dist_C_1_y', 'dist_N_0_x', 'tertiary_angle_2', 'tertiary_angle_4', 'molecule_atom_index_1_dist_min_diff', 'dist_to_type_mean', 'tertiary_atom_0', 'd_5_1', 'dist_H_1_y', 'tertiary_distance_3', 'adN1', 'tertiary_angle_5', 'd_4_0', 'dist_C_3_y', 'tertiary_distance_5', 'atom_index_farthest_0', 'distC0', 'dist_C_4_y', 'adC1', 'tertiary_distance_4', 'cos_f0', 'distC1', 'd_3_0', 'tertiary_angle_6', 'dist_C_4_x', 'cos_f1', 'atom_index_1_n_cycle', 'cos_f0_f1', 'tertiary_atom_4', 'gap', 'dist_O_2_x', 'yukawa_O.y', 'd_8_2', 'atom_index_1_eigv_max', 'tertiary_distance_9', 'range_dist_no_bond_x']"
   ]
  },
  {
   "cell_type": "code",
   "execution_count": 121,
   "metadata": {},
   "outputs": [
    {
     "name": "stdout",
     "output_type": "stream",
     "text": [
      "Training until validation scores don't improve for 200 rounds.\n",
      "[100]\tvalid_0's l1: 0.853667\tvalid_1's l1: 0.931333\n",
      "[200]\tvalid_0's l1: 0.710307\tvalid_1's l1: 0.820019\n",
      "[300]\tvalid_0's l1: 0.623902\tvalid_1's l1: 0.760104\n",
      "[400]\tvalid_0's l1: 0.564545\tvalid_1's l1: 0.722912\n",
      "[500]\tvalid_0's l1: 0.522169\tvalid_1's l1: 0.697593\n",
      "[600]\tvalid_0's l1: 0.487984\tvalid_1's l1: 0.678786\n",
      "[700]\tvalid_0's l1: 0.457387\tvalid_1's l1: 0.663571\n",
      "[800]\tvalid_0's l1: 0.430219\tvalid_1's l1: 0.650643\n",
      "[900]\tvalid_0's l1: 0.407637\tvalid_1's l1: 0.640668\n",
      "[1000]\tvalid_0's l1: 0.387826\tvalid_1's l1: 0.632219\n",
      "[1100]\tvalid_0's l1: 0.368615\tvalid_1's l1: 0.624253\n",
      "[1200]\tvalid_0's l1: 0.352771\tvalid_1's l1: 0.617983\n",
      "[1300]\tvalid_0's l1: 0.33855\tvalid_1's l1: 0.612801\n",
      "[1400]\tvalid_0's l1: 0.323716\tvalid_1's l1: 0.607404\n",
      "[1500]\tvalid_0's l1: 0.310481\tvalid_1's l1: 0.602823\n",
      "Did not meet early stopping. Best iteration is:\n",
      "[1500]\tvalid_0's l1: 0.310481\tvalid_1's l1: 0.602823\n"
     ]
    },
    {
     "ename": "NameError",
     "evalue": "name 'mean_absolute_error' is not defined",
     "output_type": "error",
     "traceback": [
      "\u001b[0;31m---------------------------------------------------------------------------\u001b[0m",
      "\u001b[0;31mNameError\u001b[0m                                 Traceback (most recent call last)",
      "\u001b[0;32m<ipython-input-121-6889b9413c7f>\u001b[0m in \u001b[0;36m<module>\u001b[0;34m()\u001b[0m\n\u001b[1;32m     29\u001b[0m \u001b[0;34m\u001b[0m\u001b[0m\n\u001b[1;32m     30\u001b[0m \u001b[0my_pred\u001b[0m \u001b[0;34m=\u001b[0m \u001b[0mmodel\u001b[0m\u001b[0;34m.\u001b[0m\u001b[0mpredict\u001b[0m\u001b[0;34m(\u001b[0m\u001b[0mX_val\u001b[0m\u001b[0;34m)\u001b[0m\u001b[0;34m\u001b[0m\u001b[0;34m\u001b[0m\u001b[0m\n\u001b[0;32m---> 31\u001b[0;31m \u001b[0mnp\u001b[0m\u001b[0;34m.\u001b[0m\u001b[0mlog\u001b[0m\u001b[0;34m(\u001b[0m\u001b[0mmean_absolute_error\u001b[0m\u001b[0;34m(\u001b[0m\u001b[0my_val\u001b[0m\u001b[0;34m,\u001b[0m \u001b[0my_pred\u001b[0m\u001b[0;34m)\u001b[0m\u001b[0;34m)\u001b[0m\u001b[0;34m\u001b[0m\u001b[0;34m\u001b[0m\u001b[0m\n\u001b[0m",
      "\u001b[0;31mNameError\u001b[0m: name 'mean_absolute_error' is not defined"
     ]
    }
   ],
   "source": [
    "# columns = df_train2.columns.drop(['index', 'group', 'scalar_coupling_constant', 'fc', 'sd','pso','dso'])\n",
    "\n",
    "X_data = df_train2[columns].values.astype('float32')\n",
    "y_data = df_train2['scalar_coupling_constant'].values.astype('float32')\n",
    "\n",
    "X_train, X_val, y_train, y_val = train_test_split(X_data, y_data, test_size=0.2, random_state=128)\n",
    "\n",
    "LGB_PARAMS = {\n",
    "    'objective': 'regression',\n",
    "    'metric': 'mae',\n",
    "    'verbosity': -1,\n",
    "    'boosting_type': 'gbdt',\n",
    "    'learning_rate': 0.2,\n",
    "    'num_leaves': 256,\n",
    "    'min_child_samples': 79,\n",
    "    'max_depth': 9,\n",
    "    'subsample_freq': 1,\n",
    "    'subsample': 0.9,\n",
    "    'bagging_seed': 11,\n",
    "    'reg_alpha': 0.1,\n",
    "    'reg_lambda': 0.3,\n",
    "    'colsample_bytree': 1.0\n",
    "}\n",
    "\n",
    "model = lgb.LGBMRegressor(**LGB_PARAMS, n_estimators=1500, n_jobs = -1)\n",
    "model.fit(X_train, y_train, \n",
    "        eval_set=[(X_train, y_train), (X_val, y_val)], eval_metric='mae',\n",
    "        verbose=100, early_stopping_rounds=200)\n",
    "\n",
    "y_pred = model.predict(X_val)\n",
    "np.log(mean_absolute_error(y_val, y_pred))"
   ]
  },
  {
   "cell_type": "code",
   "execution_count": 123,
   "metadata": {},
   "outputs": [
    {
     "data": {
      "text/plain": [
       "-0.5061319030606779"
      ]
     },
     "execution_count": 123,
     "metadata": {},
     "output_type": "execute_result"
    }
   ],
   "source": [
    "np.log(mean_absolute_error(y_val, y_pred))"
   ]
  },
  {
   "cell_type": "code",
   "execution_count": 10,
   "metadata": {},
   "outputs": [],
   "source": [
    "structures = pd.read_csv(f'{csv_file_folder}/structures.csv')\n",
    "structures = structures[structures['molecule_name'].isin(test_molecule_names)]"
   ]
  },
  {
   "cell_type": "code",
   "execution_count": 11,
   "metadata": {},
   "outputs": [
    {
     "data": {
      "text/html": [
       "<div>\n",
       "<style scoped>\n",
       "    .dataframe tbody tr th:only-of-type {\n",
       "        vertical-align: middle;\n",
       "    }\n",
       "\n",
       "    .dataframe tbody tr th {\n",
       "        vertical-align: top;\n",
       "    }\n",
       "\n",
       "    .dataframe thead th {\n",
       "        text-align: right;\n",
       "    }\n",
       "</style>\n",
       "<table border=\"1\" class=\"dataframe\">\n",
       "  <thead>\n",
       "    <tr style=\"text-align: right;\">\n",
       "      <th></th>\n",
       "      <th>molecule_name</th>\n",
       "      <th>atom_index</th>\n",
       "      <th>atom</th>\n",
       "      <th>x</th>\n",
       "      <th>y</th>\n",
       "      <th>z</th>\n",
       "    </tr>\n",
       "  </thead>\n",
       "  <tbody>\n",
       "    <tr>\n",
       "      <th>0</th>\n",
       "      <td>dsgdb9nsd_000001</td>\n",
       "      <td>0</td>\n",
       "      <td>C</td>\n",
       "      <td>-0.012698</td>\n",
       "      <td>1.085804</td>\n",
       "      <td>0.008001</td>\n",
       "    </tr>\n",
       "    <tr>\n",
       "      <th>1</th>\n",
       "      <td>dsgdb9nsd_000001</td>\n",
       "      <td>1</td>\n",
       "      <td>H</td>\n",
       "      <td>0.002150</td>\n",
       "      <td>-0.006031</td>\n",
       "      <td>0.001976</td>\n",
       "    </tr>\n",
       "    <tr>\n",
       "      <th>2</th>\n",
       "      <td>dsgdb9nsd_000001</td>\n",
       "      <td>2</td>\n",
       "      <td>H</td>\n",
       "      <td>1.011731</td>\n",
       "      <td>1.463751</td>\n",
       "      <td>0.000277</td>\n",
       "    </tr>\n",
       "    <tr>\n",
       "      <th>3</th>\n",
       "      <td>dsgdb9nsd_000001</td>\n",
       "      <td>3</td>\n",
       "      <td>H</td>\n",
       "      <td>-0.540815</td>\n",
       "      <td>1.447527</td>\n",
       "      <td>-0.876644</td>\n",
       "    </tr>\n",
       "    <tr>\n",
       "      <th>4</th>\n",
       "      <td>dsgdb9nsd_000001</td>\n",
       "      <td>4</td>\n",
       "      <td>H</td>\n",
       "      <td>-0.523814</td>\n",
       "      <td>1.437933</td>\n",
       "      <td>0.906397</td>\n",
       "    </tr>\n",
       "  </tbody>\n",
       "</table>\n",
       "</div>"
      ],
      "text/plain": [
       "      molecule_name  atom_index atom         x         y         z\n",
       "0  dsgdb9nsd_000001           0    C -0.012698  1.085804  0.008001\n",
       "1  dsgdb9nsd_000001           1    H  0.002150 -0.006031  0.001976\n",
       "2  dsgdb9nsd_000001           2    H  1.011731  1.463751  0.000277\n",
       "3  dsgdb9nsd_000001           3    H -0.540815  1.447527 -0.876644\n",
       "4  dsgdb9nsd_000001           4    H -0.523814  1.437933  0.906397"
      ]
     },
     "execution_count": 11,
     "metadata": {},
     "output_type": "execute_result"
    }
   ],
   "source": [
    "structures.head()"
   ]
  },
  {
   "cell_type": "code",
   "execution_count": 12,
   "metadata": {},
   "outputs": [],
   "source": [
    "df_edge= pd.read_pickle(f'{file_folder}/df_edge', compression='gzip') \n",
    "df_edge = df_edge[df_edge['molecule_name'].isin(test_molecule_names)]\n",
    "df_edge = df_edge[['molecule_name', 'atom_index_0', 'atom_index_1','distance','angle','angle2center']]"
   ]
  },
  {
   "cell_type": "code",
   "execution_count": 13,
   "metadata": {},
   "outputs": [],
   "source": [
    "df_edge = pd.merge(df_edge, structures[['molecule_name','atom_index','atom']], how='left', left_on=['molecule_name','atom_index_0'], right_on=['molecule_name', 'atom_index'])\n",
    "df_edge = df_edge.drop(columns=['atom_index'])\n",
    "df_edge = df_edge.rename(columns={'atom':'atom_0'})"
   ]
  },
  {
   "cell_type": "code",
   "execution_count": 14,
   "metadata": {},
   "outputs": [],
   "source": [
    "df_edge = pd.merge(df_edge, structures[['molecule_name','atom_index','atom']], how='left', left_on=['molecule_name','atom_index_1'], right_on=['molecule_name', 'atom_index'])\n",
    "df_edge = df_edge.drop(columns=['atom_index'])\n",
    "df_edge = df_edge.rename(columns={'atom':'atom_1'})"
   ]
  },
  {
   "cell_type": "code",
   "execution_count": 15,
   "metadata": {},
   "outputs": [
    {
     "data": {
      "text/html": [
       "<div>\n",
       "<style scoped>\n",
       "    .dataframe tbody tr th:only-of-type {\n",
       "        vertical-align: middle;\n",
       "    }\n",
       "\n",
       "    .dataframe tbody tr th {\n",
       "        vertical-align: top;\n",
       "    }\n",
       "\n",
       "    .dataframe thead th {\n",
       "        text-align: right;\n",
       "    }\n",
       "</style>\n",
       "<table border=\"1\" class=\"dataframe\">\n",
       "  <thead>\n",
       "    <tr style=\"text-align: right;\">\n",
       "      <th></th>\n",
       "      <th>molecule_name</th>\n",
       "      <th>atom_index_0</th>\n",
       "      <th>atom_index_1</th>\n",
       "      <th>distance</th>\n",
       "      <th>angle</th>\n",
       "      <th>angle2center</th>\n",
       "      <th>atom_0</th>\n",
       "      <th>atom_1</th>\n",
       "    </tr>\n",
       "  </thead>\n",
       "  <tbody>\n",
       "    <tr>\n",
       "      <th>0</th>\n",
       "      <td>dsgdb9nsd_056913</td>\n",
       "      <td>0.0</td>\n",
       "      <td>1.0</td>\n",
       "      <td>1.515609</td>\n",
       "      <td>0.813115</td>\n",
       "      <td>0.825041</td>\n",
       "      <td>C</td>\n",
       "      <td>C</td>\n",
       "    </tr>\n",
       "    <tr>\n",
       "      <th>1</th>\n",
       "      <td>dsgdb9nsd_056913</td>\n",
       "      <td>0.0</td>\n",
       "      <td>2.0</td>\n",
       "      <td>2.545306</td>\n",
       "      <td>1.964539</td>\n",
       "      <td>1.677354</td>\n",
       "      <td>C</td>\n",
       "      <td>C</td>\n",
       "    </tr>\n",
       "    <tr>\n",
       "      <th>2</th>\n",
       "      <td>dsgdb9nsd_056913</td>\n",
       "      <td>0.0</td>\n",
       "      <td>3.0</td>\n",
       "      <td>2.531450</td>\n",
       "      <td>2.019837</td>\n",
       "      <td>1.957795</td>\n",
       "      <td>C</td>\n",
       "      <td>N</td>\n",
       "    </tr>\n",
       "    <tr>\n",
       "      <th>3</th>\n",
       "      <td>dsgdb9nsd_056913</td>\n",
       "      <td>0.0</td>\n",
       "      <td>4.0</td>\n",
       "      <td>2.626634</td>\n",
       "      <td>2.093707</td>\n",
       "      <td>2.281331</td>\n",
       "      <td>C</td>\n",
       "      <td>C</td>\n",
       "    </tr>\n",
       "    <tr>\n",
       "      <th>4</th>\n",
       "      <td>dsgdb9nsd_056913</td>\n",
       "      <td>0.0</td>\n",
       "      <td>5.0</td>\n",
       "      <td>3.135969</td>\n",
       "      <td>1.608493</td>\n",
       "      <td>1.792268</td>\n",
       "      <td>C</td>\n",
       "      <td>C</td>\n",
       "    </tr>\n",
       "  </tbody>\n",
       "</table>\n",
       "</div>"
      ],
      "text/plain": [
       "      molecule_name  atom_index_0  atom_index_1  distance     angle  \\\n",
       "0  dsgdb9nsd_056913           0.0           1.0  1.515609  0.813115   \n",
       "1  dsgdb9nsd_056913           0.0           2.0  2.545306  1.964539   \n",
       "2  dsgdb9nsd_056913           0.0           3.0  2.531450  2.019837   \n",
       "3  dsgdb9nsd_056913           0.0           4.0  2.626634  2.093707   \n",
       "4  dsgdb9nsd_056913           0.0           5.0  3.135969  1.608493   \n",
       "\n",
       "   angle2center atom_0 atom_1  \n",
       "0      0.825041      C      C  \n",
       "1      1.677354      C      C  \n",
       "2      1.957795      C      N  \n",
       "3      2.281331      C      C  \n",
       "4      1.792268      C      C  "
      ]
     },
     "execution_count": 15,
     "metadata": {},
     "output_type": "execute_result"
    }
   ],
   "source": [
    "df_edge.head()"
   ]
  },
  {
   "cell_type": "code",
   "execution_count": 92,
   "metadata": {},
   "outputs": [
    {
     "data": {
      "text/plain": [
       "array(['C', 'H', 'N', 'O', 'F'], dtype=object)"
      ]
     },
     "execution_count": 92,
     "metadata": {},
     "output_type": "execute_result"
    }
   ],
   "source": [
    "structures.atom.unique()"
   ]
  },
  {
   "cell_type": "code",
   "execution_count": null,
   "metadata": {},
   "outputs": [
    {
     "name": "stdout",
     "output_type": "stream",
     "text": [
      "778648/1530476"
     ]
    }
   ],
   "source": [
    "list_ = []\n",
    "idx = 0\n",
    "N_ = len(df_edge.groupby(by=['molecule_name', 'atom_index_0']))\n",
    "for c,g in df_edge.groupby(by=['molecule_name', 'atom_index_0']):\n",
    "    \n",
    "    d_ = {}\n",
    "    d_['molecule_name'] = c[0]\n",
    "    d_['atom_index'] = int(c[1])\n",
    "    \n",
    "    for a in ['C', 'H', 'N', 'O', 'F']:\n",
    "        \n",
    "        ary = g[g['atom_1']==a]['distance'].values\n",
    "        \n",
    "        d_[f'w_{a}_max'] = np.max(ary) if ary.shape[0]>0 else 0\n",
    "        d_[f'w_{a}_min'] = np.min(ary) if ary.shape[0]>0 else 0\n",
    "        d_[f'w_{a}_mean'] = np.mean(ary) if ary.shape[0]>0 else 0\n",
    "        d_[f'w_{a}_std'] = np.std(ary) if ary.shape[0]>0 else 0\n",
    "        d_[f'w_{a}_kurtosis'] = kurtosis(ary) if ary.shape[0]>0 else 0\n",
    "        d_[f'w_{a}_skew'] = skew(ary) if ary.shape[0]>0 else 0\n",
    "    \n",
    "    \n",
    "#     atom_index_list = list(np.arange(g.shape[0]+1))\n",
    "#     atom_index_list.remove(int(c[1]))\n",
    "#     distances = g.distance.values\n",
    "#     for i in range(10):\n",
    "#         d_[f'd_to_{i}'] = distances[i] if i < len(distances)-1 else 0\n",
    "        \n",
    "#     d_['min'] = np.min(distances)\n",
    "#     d_['max'] = np.max(distances)\n",
    "#     d_['mean'] = np.mean(distances)\n",
    "#     d_['std'] = np.std(distances)\n",
    "#     d_['median'] = np.median(distances)\n",
    "#     d_['kurtosis'] = kurtosis(distances)\n",
    "#     d_['skew'] = skew(distances)\n",
    "    \n",
    "#     distances_bin = distances.astype(int)\n",
    "#     for dis_bin in range(12):\n",
    "#         d_[f'dis_bin_count{dis_bin}'] = np.where(distances_bin==dis_bin)[0].shape[0]\n",
    "        \n",
    "    list_.append(d_)\n",
    "    idx += 1\n",
    "    print(f'{idx}/{N_}',end='', flush=True)\n",
    "    print('\\r',end='',flush=True)\n",
    "#     break"
   ]
  },
  {
   "cell_type": "code",
   "execution_count": 103,
   "metadata": {},
   "outputs": [
    {
     "data": {
      "text/plain": [
       "123"
      ]
     },
     "execution_count": 103,
     "metadata": {},
     "output_type": "execute_result"
    }
   ],
   "source": [
    "123"
   ]
  },
  {
   "cell_type": "code",
   "execution_count": 104,
   "metadata": {},
   "outputs": [],
   "source": [
    "df_list = pd.DataFrame(list_)"
   ]
  },
  {
   "cell_type": "code",
   "execution_count": 105,
   "metadata": {},
   "outputs": [
    {
     "data": {
      "text/html": [
       "<div>\n",
       "<style scoped>\n",
       "    .dataframe tbody tr th:only-of-type {\n",
       "        vertical-align: middle;\n",
       "    }\n",
       "\n",
       "    .dataframe tbody tr th {\n",
       "        vertical-align: top;\n",
       "    }\n",
       "\n",
       "    .dataframe thead th {\n",
       "        text-align: right;\n",
       "    }\n",
       "</style>\n",
       "<table border=\"1\" class=\"dataframe\">\n",
       "  <thead>\n",
       "    <tr style=\"text-align: right;\">\n",
       "      <th></th>\n",
       "      <th>molecule_name</th>\n",
       "      <th>atom_index</th>\n",
       "      <th>w_C_max</th>\n",
       "      <th>w_C_min</th>\n",
       "      <th>w_C_mean</th>\n",
       "      <th>w_C_std</th>\n",
       "      <th>w_C_kurtosis</th>\n",
       "      <th>w_C_skew</th>\n",
       "      <th>w_H_max</th>\n",
       "      <th>w_H_min</th>\n",
       "      <th>...</th>\n",
       "      <th>w_O_mean</th>\n",
       "      <th>w_O_std</th>\n",
       "      <th>w_O_kurtosis</th>\n",
       "      <th>w_O_skew</th>\n",
       "      <th>w_F_max</th>\n",
       "      <th>w_F_min</th>\n",
       "      <th>w_F_mean</th>\n",
       "      <th>w_F_std</th>\n",
       "      <th>w_F_kurtosis</th>\n",
       "      <th>w_F_skew</th>\n",
       "    </tr>\n",
       "  </thead>\n",
       "  <tbody>\n",
       "    <tr>\n",
       "      <th>0</th>\n",
       "      <td>dsgdb9nsd_000001</td>\n",
       "      <td>0</td>\n",
       "      <td>0.000000</td>\n",
       "      <td>0.000000</td>\n",
       "      <td>0.000000</td>\n",
       "      <td>0.0</td>\n",
       "      <td>0.0</td>\n",
       "      <td>0.0</td>\n",
       "      <td>1.091953</td>\n",
       "      <td>1.091946</td>\n",
       "      <td>...</td>\n",
       "      <td>0.0</td>\n",
       "      <td>0.0</td>\n",
       "      <td>0.0</td>\n",
       "      <td>0.0</td>\n",
       "      <td>0.0</td>\n",
       "      <td>0.0</td>\n",
       "      <td>0.0</td>\n",
       "      <td>0.0</td>\n",
       "      <td>0.0</td>\n",
       "      <td>0.0</td>\n",
       "    </tr>\n",
       "    <tr>\n",
       "      <th>1</th>\n",
       "      <td>dsgdb9nsd_000001</td>\n",
       "      <td>1</td>\n",
       "      <td>1.091953</td>\n",
       "      <td>1.091953</td>\n",
       "      <td>1.091953</td>\n",
       "      <td>0.0</td>\n",
       "      <td>-3.0</td>\n",
       "      <td>0.0</td>\n",
       "      <td>1.783157</td>\n",
       "      <td>1.783120</td>\n",
       "      <td>...</td>\n",
       "      <td>0.0</td>\n",
       "      <td>0.0</td>\n",
       "      <td>0.0</td>\n",
       "      <td>0.0</td>\n",
       "      <td>0.0</td>\n",
       "      <td>0.0</td>\n",
       "      <td>0.0</td>\n",
       "      <td>0.0</td>\n",
       "      <td>0.0</td>\n",
       "      <td>0.0</td>\n",
       "    </tr>\n",
       "    <tr>\n",
       "      <th>2</th>\n",
       "      <td>dsgdb9nsd_000001</td>\n",
       "      <td>2</td>\n",
       "      <td>1.091952</td>\n",
       "      <td>1.091952</td>\n",
       "      <td>1.091952</td>\n",
       "      <td>0.0</td>\n",
       "      <td>-3.0</td>\n",
       "      <td>0.0</td>\n",
       "      <td>1.783158</td>\n",
       "      <td>1.783120</td>\n",
       "      <td>...</td>\n",
       "      <td>0.0</td>\n",
       "      <td>0.0</td>\n",
       "      <td>0.0</td>\n",
       "      <td>0.0</td>\n",
       "      <td>0.0</td>\n",
       "      <td>0.0</td>\n",
       "      <td>0.0</td>\n",
       "      <td>0.0</td>\n",
       "      <td>0.0</td>\n",
       "      <td>0.0</td>\n",
       "    </tr>\n",
       "    <tr>\n",
       "      <th>3</th>\n",
       "      <td>dsgdb9nsd_000001</td>\n",
       "      <td>3</td>\n",
       "      <td>1.091946</td>\n",
       "      <td>1.091946</td>\n",
       "      <td>1.091946</td>\n",
       "      <td>0.0</td>\n",
       "      <td>-3.0</td>\n",
       "      <td>0.0</td>\n",
       "      <td>1.783158</td>\n",
       "      <td>1.783147</td>\n",
       "      <td>...</td>\n",
       "      <td>0.0</td>\n",
       "      <td>0.0</td>\n",
       "      <td>0.0</td>\n",
       "      <td>0.0</td>\n",
       "      <td>0.0</td>\n",
       "      <td>0.0</td>\n",
       "      <td>0.0</td>\n",
       "      <td>0.0</td>\n",
       "      <td>0.0</td>\n",
       "      <td>0.0</td>\n",
       "    </tr>\n",
       "    <tr>\n",
       "      <th>4</th>\n",
       "      <td>dsgdb9nsd_000001</td>\n",
       "      <td>4</td>\n",
       "      <td>1.091948</td>\n",
       "      <td>1.091948</td>\n",
       "      <td>1.091948</td>\n",
       "      <td>0.0</td>\n",
       "      <td>-3.0</td>\n",
       "      <td>0.0</td>\n",
       "      <td>1.783157</td>\n",
       "      <td>1.783148</td>\n",
       "      <td>...</td>\n",
       "      <td>0.0</td>\n",
       "      <td>0.0</td>\n",
       "      <td>0.0</td>\n",
       "      <td>0.0</td>\n",
       "      <td>0.0</td>\n",
       "      <td>0.0</td>\n",
       "      <td>0.0</td>\n",
       "      <td>0.0</td>\n",
       "      <td>0.0</td>\n",
       "      <td>0.0</td>\n",
       "    </tr>\n",
       "  </tbody>\n",
       "</table>\n",
       "<p>5 rows × 32 columns</p>\n",
       "</div>"
      ],
      "text/plain": [
       "      molecule_name  atom_index   w_C_max   w_C_min  w_C_mean  w_C_std  \\\n",
       "0  dsgdb9nsd_000001           0  0.000000  0.000000  0.000000      0.0   \n",
       "1  dsgdb9nsd_000001           1  1.091953  1.091953  1.091953      0.0   \n",
       "2  dsgdb9nsd_000001           2  1.091952  1.091952  1.091952      0.0   \n",
       "3  dsgdb9nsd_000001           3  1.091946  1.091946  1.091946      0.0   \n",
       "4  dsgdb9nsd_000001           4  1.091948  1.091948  1.091948      0.0   \n",
       "\n",
       "   w_C_kurtosis  w_C_skew   w_H_max   w_H_min  ...  w_O_mean  w_O_std  \\\n",
       "0           0.0       0.0  1.091953  1.091946  ...       0.0      0.0   \n",
       "1          -3.0       0.0  1.783157  1.783120  ...       0.0      0.0   \n",
       "2          -3.0       0.0  1.783158  1.783120  ...       0.0      0.0   \n",
       "3          -3.0       0.0  1.783158  1.783147  ...       0.0      0.0   \n",
       "4          -3.0       0.0  1.783157  1.783148  ...       0.0      0.0   \n",
       "\n",
       "   w_O_kurtosis  w_O_skew  w_F_max  w_F_min  w_F_mean  w_F_std  w_F_kurtosis  \\\n",
       "0           0.0       0.0      0.0      0.0       0.0      0.0           0.0   \n",
       "1           0.0       0.0      0.0      0.0       0.0      0.0           0.0   \n",
       "2           0.0       0.0      0.0      0.0       0.0      0.0           0.0   \n",
       "3           0.0       0.0      0.0      0.0       0.0      0.0           0.0   \n",
       "4           0.0       0.0      0.0      0.0       0.0      0.0           0.0   \n",
       "\n",
       "   w_F_skew  \n",
       "0       0.0  \n",
       "1       0.0  \n",
       "2       0.0  \n",
       "3       0.0  \n",
       "4       0.0  \n",
       "\n",
       "[5 rows x 32 columns]"
      ]
     },
     "execution_count": 105,
     "metadata": {},
     "output_type": "execute_result"
    }
   ],
   "source": [
    "df_list.head()"
   ]
  },
  {
   "cell_type": "code",
   "execution_count": 106,
   "metadata": {},
   "outputs": [],
   "source": [
    "def _map_atom_charges(df, structures, atom_idx):\n",
    "    df = pd.merge(df, structures, how = 'left', left_on  = ['molecule_name', f'atom_index_{atom_idx}'], right_on = ['molecule_name',  'atom_index'])\n",
    "    df = df.drop('atom_index', axis=1)\n",
    "    rename_list = {}\n",
    "    for col in structures.columns.drop(['molecule_name',  'atom_index']).tolist():\n",
    "        rename_list[col] = f'atom_index_{atom_idx}_{col}'\n",
    "    df = df.rename(columns=rename_list)\n",
    "    return df"
   ]
  },
  {
   "cell_type": "code",
   "execution_count": 107,
   "metadata": {},
   "outputs": [],
   "source": [
    "train = pd.read_csv(f'{csv_file_folder}/train.csv')\n",
    "train = train[train['type']=='1JHC']"
   ]
  },
  {
   "cell_type": "code",
   "execution_count": 116,
   "metadata": {},
   "outputs": [],
   "source": [
    "train = _map_atom_charges(train, df_list, 0)\n",
    "train = _map_atom_charges(train, df_list, 1)"
   ]
  },
  {
   "cell_type": "code",
   "execution_count": 117,
   "metadata": {},
   "outputs": [],
   "source": [
    "LGB_PARAMS = {\n",
    "    'objective': 'regression',\n",
    "    'metric': 'mae',\n",
    "    'verbosity': -1,\n",
    "    'boosting_type': 'gbdt',\n",
    "    'learning_rate': 0.2,\n",
    "    'num_leaves': 256,\n",
    "    'min_child_samples': 79,\n",
    "    'max_depth': 9,\n",
    "    'subsample_freq': 1,\n",
    "    'subsample': 0.9,\n",
    "    'bagging_seed': 11,\n",
    "    'reg_alpha': 0.1,\n",
    "    'reg_lambda': 0.3,\n",
    "    'colsample_bytree': 1.0\n",
    "}"
   ]
  },
  {
   "cell_type": "code",
   "execution_count": 118,
   "metadata": {},
   "outputs": [],
   "source": [
    "useless = ['id',\n",
    " 'molecule_name',\n",
    " 'atom_index_0',\n",
    " 'atom_index_1',\n",
    " 'type',\n",
    " 'scalar_coupling_constant']"
   ]
  },
  {
   "cell_type": "code",
   "execution_count": 119,
   "metadata": {},
   "outputs": [
    {
     "data": {
      "text/plain": [
       "(709416, 66)"
      ]
     },
     "execution_count": 119,
     "metadata": {},
     "output_type": "execute_result"
    }
   ],
   "source": [
    "train.shape"
   ]
  },
  {
   "cell_type": "code",
   "execution_count": 120,
   "metadata": {},
   "outputs": [],
   "source": [
    "columns = train.columns.drop(useless).tolist()"
   ]
  },
  {
   "cell_type": "code",
   "execution_count": 125,
   "metadata": {},
   "outputs": [],
   "source": [
    "X_data = np.hstack((train[columns].values.astype('float32'), df_train2[columns0].values.astype('float32')))\n",
    "y_data = train['scalar_coupling_constant'].values.astype('float32')\n",
    "\n",
    "X_train, X_val, y_train, y_val = train_test_split(X_data, y_data, test_size=0.2, random_state=128)"
   ]
  },
  {
   "cell_type": "code",
   "execution_count": null,
   "metadata": {},
   "outputs": [
    {
     "name": "stdout",
     "output_type": "stream",
     "text": [
      "Training until validation scores don't improve for 200 rounds.\n",
      "[100]\tvalid_0's l1: 0.85273\tvalid_1's l1: 0.9382\n",
      "[200]\tvalid_0's l1: 0.698458\tvalid_1's l1: 0.822076\n"
     ]
    }
   ],
   "source": [
    "model = lgb.LGBMRegressor(**LGB_PARAMS, n_estimators=1500, n_jobs = -1)\n",
    "model.fit(X_train, y_train, \n",
    "        eval_set=[(X_train, y_train), (X_val, y_val)], eval_metric='mae',\n",
    "        verbose=100, early_stopping_rounds=200)\n",
    "\n",
    "y_pred = model.predict(X_val)\n",
    "np.log(mean_absolute_error(y_val, y_pred))"
   ]
  },
  {
   "cell_type": "code",
   "execution_count": null,
   "metadata": {},
   "outputs": [],
   "source": [
    "plt.figure(figsize=(10, 10))\n",
    "cols = df_train2.columns.drop(['index', 'scalar_coupling_constant'])\n",
    "df_importance = pd.DataFrame({'feature': columns + columns0, 'importance': model.feature_importances_})\n",
    "sns.barplot(x=\"importance\", y=\"feature\", data=df_importance.sort_values('importance', ascending=False).head(20));"
   ]
  },
  {
   "cell_type": "code",
   "execution_count": null,
   "metadata": {},
   "outputs": [],
   "source": []
  }
 ],
 "metadata": {
  "kernelspec": {
   "display_name": "Environment (conda_tensorflow_gpu_p36)",
   "language": "python",
   "name": "conda_tensorflow_gpu_p36"
  },
  "language_info": {
   "codemirror_mode": {
    "name": "ipython",
    "version": 3
   },
   "file_extension": ".py",
   "mimetype": "text/x-python",
   "name": "python",
   "nbconvert_exporter": "python",
   "pygments_lexer": "ipython3",
   "version": "3.6.7"
  }
 },
 "nbformat": 4,
 "nbformat_minor": 2
}
