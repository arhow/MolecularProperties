{
 "cells": [
  {
   "cell_type": "code",
   "execution_count": 1,
   "metadata": {},
   "outputs": [
    {
     "data": {
      "text/html": [
       "<style>\n",
       "   div#notebook-container    { width: 95%; }\n",
       "   div#menubar-container     { width: 65%; }\n",
       "   div#maintoolbar-container { width: 99%; }\n",
       "</style>\n"
      ],
      "text/plain": [
       "<IPython.core.display.HTML object>"
      ]
     },
     "metadata": {},
     "output_type": "display_data"
    }
   ],
   "source": [
    "%%HTML\n",
    "<style>\n",
    "   div#notebook-container    { width: 95%; }\n",
    "   div#menubar-container     { width: 65%; }\n",
    "   div#maintoolbar-container { width: 99%; }\n",
    "</style>"
   ]
  },
  {
   "cell_type": "code",
   "execution_count": 1,
   "metadata": {},
   "outputs": [],
   "source": [
    "import copy\n",
    "from tqdm import tqdm_notebook\n",
    "\n",
    "import sys\n",
    "sys.path.append(\"../..\") # Adds higher directory to python modules path.\n",
    "from utilities import aggregate_feature_calculators\n",
    "from utilities import aggregate_feature_calculators_setting as aggcal\n",
    "from utilities.parallel import Parallel"
   ]
  },
  {
   "cell_type": "code",
   "execution_count": 2,
   "metadata": {},
   "outputs": [
    {
     "name": "stderr",
     "output_type": "stream",
     "text": [
      "Using numpy backend.\n"
     ]
    }
   ],
   "source": [
    "import os\n",
    "import numpy as np\n",
    "import pandas as pd\n",
    "import warnings\n",
    "import networkx as nx\n",
    "import tensorly as tl\n",
    "from sklearn.preprocessing import LabelEncoder\n",
    "from tensorly.decomposition import tucker, parafac, non_negative_tucker"
   ]
  },
  {
   "cell_type": "code",
   "execution_count": 6,
   "metadata": {},
   "outputs": [],
   "source": [
    "# import sys\n",
    "# !{sys.executable} -m pip install tensorly"
   ]
  },
  {
   "cell_type": "code",
   "execution_count": 3,
   "metadata": {},
   "outputs": [
    {
     "data": {
      "text/plain": [
       "['test.csv',\n",
       " 'structures',\n",
       " 'sample_submission.csv',\n",
       " 'magnetic_shielding_tensors.csv',\n",
       " 'mulliken_charges.csv',\n",
       " 'potential_energy.csv',\n",
       " 'scalar_coupling_contributions.csv',\n",
       " 'dipole_moments.csv',\n",
       " 'structures.csv',\n",
       " 'train.csv']"
      ]
     },
     "execution_count": 3,
     "metadata": {},
     "output_type": "execute_result"
    }
   ],
   "source": [
    "file_folder =  '../../data/input'\n",
    "os.listdir(file_folder)"
   ]
  },
  {
   "cell_type": "code",
   "execution_count": 4,
   "metadata": {},
   "outputs": [],
   "source": [
    "train = pd.read_csv(f'{file_folder}/train.csv')\n",
    "test = pd.read_csv(f'{file_folder}/test.csv')\n",
    "magnetic_shielding_tensors = pd.read_csv(f'{file_folder}/magnetic_shielding_tensors.csv')\n",
    "dipole_moments = pd.read_csv(f'{file_folder}/dipole_moments.csv')\n",
    "mulliken_charges = pd.read_csv(f'{file_folder}/mulliken_charges.csv')\n",
    "potential_energy = pd.read_csv(f'{file_folder}/potential_energy.csv')\n",
    "scalar_coupling_contributions = pd.read_csv(f'{file_folder}/scalar_coupling_contributions.csv')\n",
    "structures = pd.read_csv(f'{file_folder}/structures.csv')"
   ]
  },
  {
   "cell_type": "code",
   "execution_count": 5,
   "metadata": {},
   "outputs": [],
   "source": [
    "atomic_radius = {'H': 0.38, 'C': 0.77, 'N': 0.75, 'O': 0.73, 'F': 0.71}\n",
    "atomic_number = {'H': 1, 'C': 6, 'N': 7, 'O': 8, 'F': 9}\n",
    "atomic_mass = {'H': 1.0079, 'C': 12.0107, 'N': 14.0067, 'O': 15.9994, 'F': 18.9984}\n",
    "vanderwaalsradius = {'H': 120, 'C': 185, 'N': 154, 'O': 140, 'F': 135}\n",
    "covalenzradius = {'H': 30, 'C': 77, 'N': 70, 'O': 66, 'F': 58}\n",
    "electronegativity = {'H': 2.2, 'C': 2.55, 'N': 3.04, 'O': 3.44, 'F': 3.98}\n",
    "ionization_energy = {'H': 13.5984, 'C': 11.2603, 'N': 14.5341, 'O': 13.6181, 'F': 17.4228}"
   ]
  },
  {
   "cell_type": "code",
   "execution_count": 6,
   "metadata": {},
   "outputs": [],
   "source": [
    "train = pd.read_csv(f'{file_folder}/train.csv')\n",
    "test = pd.read_csv(f'{file_folder}/test.csv')\n",
    "sub = pd.read_csv(f'{file_folder}/sample_submission.csv')\n",
    "train['type0'] = train['type'].apply(lambda x: int(x[0]))\n",
    "train['type1'] = train['type'].apply(lambda x: x[1:])\n",
    "\n",
    "le = LabelEncoder()\n",
    "le.fit(train.type1.tolist())\n",
    "int_bond_type = le.transform(train.type1.tolist()) \n",
    "train['int_type1']= int_bond_type\n",
    "\n",
    "test['type0'] = test['type'].apply(lambda x: int(x[0]))\n",
    "test['type1'] = test['type'].apply(lambda x: x[1:])\n",
    "int_bond_type = le.transform(test.type1.tolist()) \n",
    "test['int_type1']= int_bond_type"
   ]
  },
  {
   "cell_type": "code",
   "execution_count": 7,
   "metadata": {},
   "outputs": [
    {
     "data": {
      "text/plain": [
       "array(['JHC', 'JHH', 'JHN'], dtype='<U3')"
      ]
     },
     "execution_count": 7,
     "metadata": {},
     "output_type": "execute_result"
    }
   ],
   "source": [
    "le.classes_"
   ]
  },
  {
   "cell_type": "code",
   "execution_count": 8,
   "metadata": {},
   "outputs": [],
   "source": [
    "atomic_radius = {'H': 0.38, 'C': 0.77, 'N': 0.75, 'O': 0.73, 'F': 0.71}\n",
    "atomic_number = {'H': 1, 'C': 6, 'N': 7, 'O': 8, 'F': 9}\n",
    "atomic_mass = {'H': 1.0079, 'C': 12.0107, 'N': 14.0067, 'O': 15.9994, 'F': 18.9984}\n",
    "vanderwaalsradius = {'H': 120, 'C': 185, 'N': 154, 'O': 140, 'F': 135}\n",
    "covalenzradius = {'H': 30, 'C': 77, 'N': 70, 'O': 66, 'F': 58}\n",
    "electronegativity = {'H': 2.2, 'C': 2.55, 'N': 3.04, 'O': 3.44, 'F': 3.98}\n",
    "ionization_energy = {'H': 13.5984, 'C': 11.2603, 'N': 14.5341, 'O': 13.6181, 'F': 17.4228}\n",
    "\n",
    "structures['atomic_radius'] = structures['atom'].apply(lambda x: atomic_radius[x])\n",
    "structures['atomic_number'] = structures['atom'].apply(lambda x: atomic_number[x])\n",
    "structures['atomic_mass'] = structures['atom'].apply(lambda x: atomic_mass[x])\n",
    "structures['vanderwaalsradius'] = structures['atom'].apply(lambda x: vanderwaalsradius[x])\n",
    "structures['covalenzradius'] = structures['atom'].apply(lambda x: covalenzradius[x])\n",
    "structures['electronegativity'] = structures['atom'].apply(lambda x: electronegativity[x])\n",
    "structures['ionization_energy'] = structures['atom'].apply(lambda x: ionization_energy[x])\n"
   ]
  },
  {
   "cell_type": "code",
   "execution_count": 9,
   "metadata": {},
   "outputs": [],
   "source": [
    "le = LabelEncoder()\n",
    "le.fit(structures.atom.tolist())\n",
    "int_atom = le.transform(structures.atom.tolist()) \n",
    "structures['int_atom'] = int_atom"
   ]
  },
  {
   "cell_type": "code",
   "execution_count": 10,
   "metadata": {},
   "outputs": [
    {
     "data": {
      "text/plain": [
       "array(['C', 'F', 'H', 'N', 'O'], dtype='<U1')"
      ]
     },
     "execution_count": 10,
     "metadata": {},
     "output_type": "execute_result"
    }
   ],
   "source": [
    "le.classes_"
   ]
  },
  {
   "cell_type": "code",
   "execution_count": 11,
   "metadata": {},
   "outputs": [],
   "source": [
    "def molecule_graph(molecule_name, structures, bonds):\n",
    "    assert structures[structures['molecule_name']==molecule_name].shape[0]>0, 'no info in structures'\n",
    "    assert bonds[bonds['molecule_name']==molecule_name].shape[0] > 0, 'no info in bonds'\n",
    "    g = nx.Graph()\n",
    "    for idx, row in structures[structures['molecule_name']==molecule_name].iterrows():\n",
    "        g.add_node(row['atom_index'], pos=(row['x'], row['y'], row['z']), int_atom=row['int_atom'], atomic_radius=row['atomic_radius'], atomic_number=row['atomic_number'], atomic_mass=row['atomic_mass'], vanderwaalsradius=row['vanderwaalsradius'], covalenzradius=row['covalenzradius'], electronegativity=row['electronegativity'], ionization_energy=row['ionization_energy'])\n",
    "    for idx, row in bonds[bonds['molecule_name']==molecule_name].iterrows():\n",
    "        g.add_edge(row['atom_index_0'], row['atom_index_1'], weight=row['type0'], bond_type=row['int_type1'])\n",
    "    return g"
   ]
  },
  {
   "cell_type": "code",
   "execution_count": 12,
   "metadata": {},
   "outputs": [],
   "source": [
    "xyz = structures[['x','y','z']].values\n",
    "structures_idx = structures.set_index('molecule_name')\n",
    "ss = structures.groupby('molecule_name').size()\n",
    "ss = ss.cumsum()\n",
    "ssx = np.zeros(len(ss) + 1, 'int')\n",
    "ssx[1:] = ss"
   ]
  },
  {
   "cell_type": "code",
   "execution_count": 13,
   "metadata": {},
   "outputs": [],
   "source": [
    "# from numba import jit\n",
    "# from math import sqrt\n",
    "\n",
    "# @jit\n",
    "# def numba_dist_matrix(xyz, ssx, molecule_id):\n",
    "#     start_molecule, end_molecule = ssx[molecule_id], ssx[molecule_id+1]\n",
    "#     locs = xyz[start_molecule:end_molecule]     \n",
    "#    # return locs\n",
    "#     num_atoms = end_molecule - start_molecule\n",
    "#     dmat = np.zeros((num_atoms, num_atoms))\n",
    "#     for i in range(num_atoms):\n",
    "#         for j in range(i+1, num_atoms):\n",
    "#             d = (locs[i,0] - locs[j,0])**2 + (locs[i,1] - locs[j,1])**2 + (locs[i,2] - locs[j,2])**2\n",
    "#             dmat[i,j] = d\n",
    "#             dmat[j,i] = d\n",
    "#     return dmat\n",
    "\n",
    "# def numba_dist_matrices(xyz, ssx):\n",
    "#     for molecule_id in range(structures.molecule_name.nunique()):\n",
    "#         numba_dist_matrix(xyz, ssx, molecule_id)\n",
    "        \n",
    "        \n",
    "def get_dist_matrix(df_structures_idx, molecule):\n",
    "    df_temp = df_structures_idx.loc[molecule]\n",
    "    locs = df_temp[['x','y','z']].values\n",
    "    num_atoms = len(locs)\n",
    "    loc_tile = np.tile(locs.T, (num_atoms,1,1))\n",
    "    dist_mat = ((loc_tile - loc_tile.T)**2).sum(axis=1)\n",
    "    return dist_mat"
   ]
  },
  {
   "cell_type": "code",
   "execution_count": 14,
   "metadata": {},
   "outputs": [],
   "source": [
    "def _worker(item, xyz, ssx, structures, structures_idx, bonds, verbose=0):\n",
    "    \n",
    "    molecule_name = item[0]\n",
    "    molecule_id = item[1]\n",
    "    list_ = []\n",
    "    \n",
    "    try:\n",
    "#         dist_m = get_dist_matrix(xyz, ssx, molecule_id)\n",
    "        dist_m = get_dist_matrix(structures_idx, molecule_name)\n",
    "        \n",
    "        g = molecule_graph(molecule_name, structures, bonds)\n",
    "        laplacian_m = nx.laplacian_matrix(g).toarray().astype(float)\n",
    "\n",
    "        t_dist_core, t_dist_factors = tucker(dist_m, rank=1)\n",
    "        p_dist_core, p_dist_factors = parafac(dist_m, rank=1)\n",
    "        t_lap_core, t_lap_factors = tucker(laplacian_m, rank=1)\n",
    "        p_lap_core, p_lap_factors = parafac(laplacian_m, rank=1)\n",
    "        \n",
    "        if verbose > 0:\n",
    "            print(t_dist_core.shape, t_dist_factors[0].shape, t_dist_factors[1].shape)\n",
    "            print(p_dist_core.shape, p_dist_factors.shape)\n",
    "\n",
    "        for idx, row in structures[structures['molecule_name']==molecule_name].iterrows():\n",
    "            atom_index = row['atom_index']\n",
    "            d_ = {'molecule_name':molecule_name, 'atom_index':atom_index}\n",
    "            d_ = {'t_dist_core':t_dist_core[0][0], 't_dist_factors_0':t_dist_factors[0][atom_index][0], 't_dist_factors_1':t_dist_factors[1][atom_index][0], 'p_dist_core':p_dist_core[atom_index][0], 'p_dist_factors':p_dist_factors[atom_index][0], **d_}\n",
    "            d_ = {'t_lap_core':t_lap_core[0][0], 't_lap_factors_0':t_lap_factors[0][atom_index][0], 't_lap_factors_1':t_lap_factors[1][atom_index][0], 'p_lap_core':p_lap_core[atom_index][0], 'p_lap_factors':p_lap_factors[atom_index][0], **d_}\n",
    "            list_.append(d_)\n",
    "    except Exception as e:\n",
    "        raise Exception(item, e.__str__())\n",
    "    return list_\n",
    "\n",
    "\n",
    "def generate_datalist(ss, xyz, ssx, structures, structures_idx, bonds):\n",
    "    data_list = []\n",
    "    for item in tqdm_notebook(zip(ss.index, ss), total=len(ss)):\n",
    "        list_ = _worker(item, **{'xyz':xyz, 'ssx':ssx, 'structures':structures, 'structures_idx':structures_idx, 'bonds':bonds})\n",
    "        data_list = data_list + list_\n",
    "    df_ = pd.DataFrame(data_list)\n",
    "    return df_"
   ]
  },
  {
   "cell_type": "code",
   "execution_count": 15,
   "metadata": {},
   "outputs": [],
   "source": [
    "ss_train = ss[[i for i in train.molecule_name.unique().tolist() if i in ss.index]]"
   ]
  },
  {
   "cell_type": "code",
   "execution_count": 16,
   "metadata": {},
   "outputs": [
    {
     "data": {
      "application/vnd.jupyter.widget-view+json": {
       "model_id": "2a6f13ad2cff4e54a73c6885d594118f",
       "version_major": 2,
       "version_minor": 0
      },
      "text/plain": [
       "HBox(children=(IntProgress(value=0, max=85003), HTML(value='')))"
      ]
     },
     "metadata": {},
     "output_type": "display_data"
    },
    {
     "name": "stdout",
     "output_type": "stream",
     "text": [
      "\n"
     ]
    }
   ],
   "source": [
    "warnings.filterwarnings('ignore')\n",
    "df_train = generate_datalist(ss_train, xyz, ssx, structures, structures_idx, train)\n",
    "warnings.filterwarnings('default')"
   ]
  },
  {
   "cell_type": "code",
   "execution_count": 17,
   "metadata": {},
   "outputs": [
    {
     "data": {
      "text/html": [
       "<div>\n",
       "<style scoped>\n",
       "    .dataframe tbody tr th:only-of-type {\n",
       "        vertical-align: middle;\n",
       "    }\n",
       "\n",
       "    .dataframe tbody tr th {\n",
       "        vertical-align: top;\n",
       "    }\n",
       "\n",
       "    .dataframe thead th {\n",
       "        text-align: right;\n",
       "    }\n",
       "</style>\n",
       "<table border=\"1\" class=\"dataframe\">\n",
       "  <thead>\n",
       "    <tr style=\"text-align: right;\">\n",
       "      <th></th>\n",
       "      <th>atom_index</th>\n",
       "      <th>molecule_name</th>\n",
       "      <th>p_dist_core</th>\n",
       "      <th>p_dist_factors</th>\n",
       "      <th>p_lap_core</th>\n",
       "      <th>p_lap_factors</th>\n",
       "      <th>t_dist_core</th>\n",
       "      <th>t_dist_factors_0</th>\n",
       "      <th>t_dist_factors_1</th>\n",
       "      <th>t_lap_core</th>\n",
       "      <th>t_lap_factors_0</th>\n",
       "      <th>t_lap_factors_1</th>\n",
       "    </tr>\n",
       "  </thead>\n",
       "  <tbody>\n",
       "    <tr>\n",
       "      <th>0</th>\n",
       "      <td>0</td>\n",
       "      <td>dsgdb9nsd_000001</td>\n",
       "      <td>-2.320915</td>\n",
       "      <td>-0.229753</td>\n",
       "      <td>1.795439e-16</td>\n",
       "      <td>7.709882e-18</td>\n",
       "      <td>10.101786</td>\n",
       "      <td>-0.229753</td>\n",
       "      <td>-0.229753</td>\n",
       "      <td>9.0</td>\n",
       "      <td>0.000000</td>\n",
       "      <td>0.000000</td>\n",
       "    </tr>\n",
       "    <tr>\n",
       "      <th>1</th>\n",
       "      <td>1</td>\n",
       "      <td>dsgdb9nsd_000001</td>\n",
       "      <td>-4.915758</td>\n",
       "      <td>-0.486623</td>\n",
       "      <td>-6.806524e+00</td>\n",
       "      <td>-7.562804e-01</td>\n",
       "      <td>10.101786</td>\n",
       "      <td>-0.486623</td>\n",
       "      <td>-0.486623</td>\n",
       "      <td>9.0</td>\n",
       "      <td>-0.822925</td>\n",
       "      <td>-0.822925</td>\n",
       "    </tr>\n",
       "    <tr>\n",
       "      <th>2</th>\n",
       "      <td>2</td>\n",
       "      <td>dsgdb9nsd_000001</td>\n",
       "      <td>-4.915760</td>\n",
       "      <td>-0.486623</td>\n",
       "      <td>5.787065e+00</td>\n",
       "      <td>6.430072e-01</td>\n",
       "      <td>10.101786</td>\n",
       "      <td>-0.486623</td>\n",
       "      <td>-0.486623</td>\n",
       "      <td>9.0</td>\n",
       "      <td>0.020415</td>\n",
       "      <td>0.020415</td>\n",
       "    </tr>\n",
       "    <tr>\n",
       "      <th>3</th>\n",
       "      <td>3</td>\n",
       "      <td>dsgdb9nsd_000001</td>\n",
       "      <td>-4.915794</td>\n",
       "      <td>-0.486626</td>\n",
       "      <td>1.084822e+00</td>\n",
       "      <td>1.205358e-01</td>\n",
       "      <td>10.101786</td>\n",
       "      <td>-0.486626</td>\n",
       "      <td>-0.486626</td>\n",
       "      <td>9.0</td>\n",
       "      <td>0.414768</td>\n",
       "      <td>0.414768</td>\n",
       "    </tr>\n",
       "    <tr>\n",
       "      <th>4</th>\n",
       "      <td>4</td>\n",
       "      <td>dsgdb9nsd_000001</td>\n",
       "      <td>-4.915794</td>\n",
       "      <td>-0.486626</td>\n",
       "      <td>-6.536377e-02</td>\n",
       "      <td>-7.262641e-03</td>\n",
       "      <td>10.101786</td>\n",
       "      <td>-0.486626</td>\n",
       "      <td>-0.486626</td>\n",
       "      <td>9.0</td>\n",
       "      <td>0.387743</td>\n",
       "      <td>0.387743</td>\n",
       "    </tr>\n",
       "  </tbody>\n",
       "</table>\n",
       "</div>"
      ],
      "text/plain": [
       "   atom_index     molecule_name  p_dist_core  p_dist_factors    p_lap_core  \\\n",
       "0           0  dsgdb9nsd_000001    -2.320915       -0.229753  1.795439e-16   \n",
       "1           1  dsgdb9nsd_000001    -4.915758       -0.486623 -6.806524e+00   \n",
       "2           2  dsgdb9nsd_000001    -4.915760       -0.486623  5.787065e+00   \n",
       "3           3  dsgdb9nsd_000001    -4.915794       -0.486626  1.084822e+00   \n",
       "4           4  dsgdb9nsd_000001    -4.915794       -0.486626 -6.536377e-02   \n",
       "\n",
       "   p_lap_factors  t_dist_core  t_dist_factors_0  t_dist_factors_1  t_lap_core  \\\n",
       "0   7.709882e-18    10.101786         -0.229753         -0.229753         9.0   \n",
       "1  -7.562804e-01    10.101786         -0.486623         -0.486623         9.0   \n",
       "2   6.430072e-01    10.101786         -0.486623         -0.486623         9.0   \n",
       "3   1.205358e-01    10.101786         -0.486626         -0.486626         9.0   \n",
       "4  -7.262641e-03    10.101786         -0.486626         -0.486626         9.0   \n",
       "\n",
       "   t_lap_factors_0  t_lap_factors_1  \n",
       "0         0.000000         0.000000  \n",
       "1        -0.822925        -0.822925  \n",
       "2         0.020415         0.020415  \n",
       "3         0.414768         0.414768  \n",
       "4         0.387743         0.387743  "
      ]
     },
     "execution_count": 17,
     "metadata": {},
     "output_type": "execute_result"
    }
   ],
   "source": [
    "df_train.head()"
   ]
  },
  {
   "cell_type": "code",
   "execution_count": 18,
   "metadata": {},
   "outputs": [],
   "source": [
    "ss_test = ss[[i for i in test.molecule_name.unique().tolist() if i in ss.index]]"
   ]
  },
  {
   "cell_type": "code",
   "execution_count": 19,
   "metadata": {},
   "outputs": [
    {
     "data": {
      "application/vnd.jupyter.widget-view+json": {
       "model_id": "df0baf51506d4667acd0bf7de31a9708",
       "version_major": 2,
       "version_minor": 0
      },
      "text/plain": [
       "HBox(children=(IntProgress(value=0, max=45772), HTML(value='')))"
      ]
     },
     "metadata": {},
     "output_type": "display_data"
    },
    {
     "name": "stdout",
     "output_type": "stream",
     "text": [
      "\n"
     ]
    }
   ],
   "source": [
    "warnings.filterwarnings('ignore')\n",
    "df_test = generate_datalist(ss_test, xyz, ssx, structures, structures_idx, test)\n",
    "warnings.filterwarnings('default')"
   ]
  },
  {
   "cell_type": "code",
   "execution_count": 20,
   "metadata": {},
   "outputs": [
    {
     "data": {
      "text/plain": [
       "((1533537, 12), (825120, 12))"
      ]
     },
     "execution_count": 20,
     "metadata": {},
     "output_type": "execute_result"
    }
   ],
   "source": [
    "df_train.shape, df_test.shape"
   ]
  },
  {
   "cell_type": "code",
   "execution_count": 21,
   "metadata": {},
   "outputs": [],
   "source": [
    "def reduce_mem_usage(df, verbose=True):\n",
    "    numerics = ['int16', 'int32', 'int64', 'float16', 'float32', 'float64']\n",
    "    start_mem = df.memory_usage().sum() / 1024**2    \n",
    "    for col in df.columns:\n",
    "        col_type = df[col].dtypes\n",
    "        if col_type in numerics:\n",
    "            c_min = df[col].min()\n",
    "            c_max = df[col].max()\n",
    "            if str(col_type)[:3] == 'int':\n",
    "                if c_min > np.iinfo(np.int8).min and c_max < np.iinfo(np.int8).max:\n",
    "                    df[col] = df[col].astype(np.int8)\n",
    "                elif c_min > np.iinfo(np.int16).min and c_max < np.iinfo(np.int16).max:\n",
    "                    df[col] = df[col].astype(np.int16)\n",
    "                elif c_min > np.iinfo(np.int32).min and c_max < np.iinfo(np.int32).max:\n",
    "                    df[col] = df[col].astype(np.int32)\n",
    "                elif c_min > np.iinfo(np.int64).min and c_max < np.iinfo(np.int64).max:\n",
    "                    df[col] = df[col].astype(np.int64)  \n",
    "            else:\n",
    "                if c_min > np.finfo(np.float16).min and c_max < np.finfo(np.float16).max:\n",
    "                    df[col] = df[col].astype(np.float16)\n",
    "                elif c_min > np.finfo(np.float32).min and c_max < np.finfo(np.float32).max:\n",
    "                    df[col] = df[col].astype(np.float32)\n",
    "                else:\n",
    "                    df[col] = df[col].astype(np.float64)    \n",
    "    end_mem = df.memory_usage().sum() / 1024**2\n",
    "    if verbose: print('Mem. usage decreased to {:5.2f} Mb ({:.1f}% reduction)'.format(end_mem, 100 * (start_mem - end_mem) / start_mem))\n",
    "    return df"
   ]
  },
  {
   "cell_type": "code",
   "execution_count": 22,
   "metadata": {},
   "outputs": [
    {
     "data": {
      "text/html": [
       "<div>\n",
       "<style scoped>\n",
       "    .dataframe tbody tr th:only-of-type {\n",
       "        vertical-align: middle;\n",
       "    }\n",
       "\n",
       "    .dataframe tbody tr th {\n",
       "        vertical-align: top;\n",
       "    }\n",
       "\n",
       "    .dataframe thead th {\n",
       "        text-align: right;\n",
       "    }\n",
       "</style>\n",
       "<table border=\"1\" class=\"dataframe\">\n",
       "  <thead>\n",
       "    <tr style=\"text-align: right;\">\n",
       "      <th></th>\n",
       "      <th>id</th>\n",
       "      <th>molecule_name</th>\n",
       "      <th>atom_index_0</th>\n",
       "      <th>atom_index_1</th>\n",
       "      <th>type</th>\n",
       "      <th>scalar_coupling_constant</th>\n",
       "      <th>type0</th>\n",
       "      <th>type1</th>\n",
       "      <th>int_type1</th>\n",
       "    </tr>\n",
       "  </thead>\n",
       "  <tbody>\n",
       "    <tr>\n",
       "      <th>0</th>\n",
       "      <td>0</td>\n",
       "      <td>dsgdb9nsd_000001</td>\n",
       "      <td>1</td>\n",
       "      <td>0</td>\n",
       "      <td>1JHC</td>\n",
       "      <td>84.8076</td>\n",
       "      <td>1</td>\n",
       "      <td>JHC</td>\n",
       "      <td>0</td>\n",
       "    </tr>\n",
       "    <tr>\n",
       "      <th>1</th>\n",
       "      <td>1</td>\n",
       "      <td>dsgdb9nsd_000001</td>\n",
       "      <td>1</td>\n",
       "      <td>2</td>\n",
       "      <td>2JHH</td>\n",
       "      <td>-11.2570</td>\n",
       "      <td>2</td>\n",
       "      <td>JHH</td>\n",
       "      <td>1</td>\n",
       "    </tr>\n",
       "    <tr>\n",
       "      <th>2</th>\n",
       "      <td>2</td>\n",
       "      <td>dsgdb9nsd_000001</td>\n",
       "      <td>1</td>\n",
       "      <td>3</td>\n",
       "      <td>2JHH</td>\n",
       "      <td>-11.2548</td>\n",
       "      <td>2</td>\n",
       "      <td>JHH</td>\n",
       "      <td>1</td>\n",
       "    </tr>\n",
       "    <tr>\n",
       "      <th>3</th>\n",
       "      <td>3</td>\n",
       "      <td>dsgdb9nsd_000001</td>\n",
       "      <td>1</td>\n",
       "      <td>4</td>\n",
       "      <td>2JHH</td>\n",
       "      <td>-11.2543</td>\n",
       "      <td>2</td>\n",
       "      <td>JHH</td>\n",
       "      <td>1</td>\n",
       "    </tr>\n",
       "    <tr>\n",
       "      <th>4</th>\n",
       "      <td>4</td>\n",
       "      <td>dsgdb9nsd_000001</td>\n",
       "      <td>2</td>\n",
       "      <td>0</td>\n",
       "      <td>1JHC</td>\n",
       "      <td>84.8074</td>\n",
       "      <td>1</td>\n",
       "      <td>JHC</td>\n",
       "      <td>0</td>\n",
       "    </tr>\n",
       "  </tbody>\n",
       "</table>\n",
       "</div>"
      ],
      "text/plain": [
       "   id     molecule_name  atom_index_0  atom_index_1  type  \\\n",
       "0   0  dsgdb9nsd_000001             1             0  1JHC   \n",
       "1   1  dsgdb9nsd_000001             1             2  2JHH   \n",
       "2   2  dsgdb9nsd_000001             1             3  2JHH   \n",
       "3   3  dsgdb9nsd_000001             1             4  2JHH   \n",
       "4   4  dsgdb9nsd_000001             2             0  1JHC   \n",
       "\n",
       "   scalar_coupling_constant  type0 type1  int_type1  \n",
       "0                   84.8076      1   JHC          0  \n",
       "1                  -11.2570      2   JHH          1  \n",
       "2                  -11.2548      2   JHH          1  \n",
       "3                  -11.2543      2   JHH          1  \n",
       "4                   84.8074      1   JHC          0  "
      ]
     },
     "execution_count": 22,
     "metadata": {},
     "output_type": "execute_result"
    }
   ],
   "source": [
    "train.head()"
   ]
  },
  {
   "cell_type": "code",
   "execution_count": 23,
   "metadata": {},
   "outputs": [],
   "source": [
    "def map_atom_info(df, structures, atom_idx):\n",
    "    df = pd.merge(df, structures, how = 'left',\n",
    "                  left_on  = ['molecule_name', f'atom_index_{atom_idx}'],\n",
    "                  right_on = ['molecule_name',  'atom_index'])\n",
    "    \n",
    "    #df = df.drop('atom_index', axis=1)\n",
    "    columns_ = {}\n",
    "    for col in structures.columns.drop(['molecule_name','atom_index']):\n",
    "        columns_[col] = f'atom_index_{atom_idx}_{col}'\n",
    "    df = df.rename(columns=columns_)\n",
    "    return df\n",
    "\n"
   ]
  },
  {
   "cell_type": "code",
   "execution_count": 24,
   "metadata": {},
   "outputs": [],
   "source": [
    "train = map_atom_info(train, df_train, 0)\n",
    "train = map_atom_info(train, df_train, 1)\n"
   ]
  },
  {
   "cell_type": "code",
   "execution_count": 27,
   "metadata": {},
   "outputs": [
    {
     "data": {
      "text/plain": [
       "['atom_index',\n",
       " 'molecule_name',\n",
       " 'p_dist_core',\n",
       " 'p_dist_factors',\n",
       " 'p_lap_core',\n",
       " 'p_lap_factors',\n",
       " 't_dist_core',\n",
       " 't_dist_factors_0',\n",
       " 't_dist_factors_1',\n",
       " 't_lap_core',\n",
       " 't_lap_factors_0',\n",
       " 't_lap_factors_1']"
      ]
     },
     "execution_count": 27,
     "metadata": {},
     "output_type": "execute_result"
    }
   ],
   "source": [
    "df_train.columns.tolist()"
   ]
  },
  {
   "cell_type": "code",
   "execution_count": 25,
   "metadata": {},
   "outputs": [
    {
     "data": {
      "text/html": [
       "<div>\n",
       "<style scoped>\n",
       "    .dataframe tbody tr th:only-of-type {\n",
       "        vertical-align: middle;\n",
       "    }\n",
       "\n",
       "    .dataframe tbody tr th {\n",
       "        vertical-align: top;\n",
       "    }\n",
       "\n",
       "    .dataframe thead th {\n",
       "        text-align: right;\n",
       "    }\n",
       "</style>\n",
       "<table border=\"1\" class=\"dataframe\">\n",
       "  <thead>\n",
       "    <tr style=\"text-align: right;\">\n",
       "      <th></th>\n",
       "      <th>id</th>\n",
       "      <th>molecule_name</th>\n",
       "      <th>atom_index_0</th>\n",
       "      <th>atom_index_1</th>\n",
       "      <th>type</th>\n",
       "      <th>scalar_coupling_constant</th>\n",
       "      <th>type0</th>\n",
       "      <th>type1</th>\n",
       "      <th>int_type1</th>\n",
       "      <th>atom_index_x</th>\n",
       "      <th>...</th>\n",
       "      <th>atom_index_1_p_dist_core</th>\n",
       "      <th>atom_index_1_p_dist_factors</th>\n",
       "      <th>atom_index_1_p_lap_core</th>\n",
       "      <th>atom_index_1_p_lap_factors</th>\n",
       "      <th>atom_index_1_t_dist_core</th>\n",
       "      <th>atom_index_1_t_dist_factors_0</th>\n",
       "      <th>atom_index_1_t_dist_factors_1</th>\n",
       "      <th>atom_index_1_t_lap_core</th>\n",
       "      <th>atom_index_1_t_lap_factors_0</th>\n",
       "      <th>atom_index_1_t_lap_factors_1</th>\n",
       "    </tr>\n",
       "  </thead>\n",
       "  <tbody>\n",
       "    <tr>\n",
       "      <th>0</th>\n",
       "      <td>0</td>\n",
       "      <td>dsgdb9nsd_000001</td>\n",
       "      <td>1</td>\n",
       "      <td>0</td>\n",
       "      <td>1JHC</td>\n",
       "      <td>84.8076</td>\n",
       "      <td>1</td>\n",
       "      <td>JHC</td>\n",
       "      <td>0</td>\n",
       "      <td>1</td>\n",
       "      <td>...</td>\n",
       "      <td>-2.320915</td>\n",
       "      <td>-0.229753</td>\n",
       "      <td>1.795439e-16</td>\n",
       "      <td>7.709882e-18</td>\n",
       "      <td>10.101786</td>\n",
       "      <td>-0.229753</td>\n",
       "      <td>-0.229753</td>\n",
       "      <td>9.0</td>\n",
       "      <td>0.000000</td>\n",
       "      <td>0.000000</td>\n",
       "    </tr>\n",
       "    <tr>\n",
       "      <th>1</th>\n",
       "      <td>1</td>\n",
       "      <td>dsgdb9nsd_000001</td>\n",
       "      <td>1</td>\n",
       "      <td>2</td>\n",
       "      <td>2JHH</td>\n",
       "      <td>-11.2570</td>\n",
       "      <td>2</td>\n",
       "      <td>JHH</td>\n",
       "      <td>1</td>\n",
       "      <td>1</td>\n",
       "      <td>...</td>\n",
       "      <td>-4.915760</td>\n",
       "      <td>-0.486623</td>\n",
       "      <td>5.787065e+00</td>\n",
       "      <td>6.430072e-01</td>\n",
       "      <td>10.101786</td>\n",
       "      <td>-0.486623</td>\n",
       "      <td>-0.486623</td>\n",
       "      <td>9.0</td>\n",
       "      <td>0.020415</td>\n",
       "      <td>0.020415</td>\n",
       "    </tr>\n",
       "    <tr>\n",
       "      <th>2</th>\n",
       "      <td>2</td>\n",
       "      <td>dsgdb9nsd_000001</td>\n",
       "      <td>1</td>\n",
       "      <td>3</td>\n",
       "      <td>2JHH</td>\n",
       "      <td>-11.2548</td>\n",
       "      <td>2</td>\n",
       "      <td>JHH</td>\n",
       "      <td>1</td>\n",
       "      <td>1</td>\n",
       "      <td>...</td>\n",
       "      <td>-4.915794</td>\n",
       "      <td>-0.486626</td>\n",
       "      <td>1.084822e+00</td>\n",
       "      <td>1.205358e-01</td>\n",
       "      <td>10.101786</td>\n",
       "      <td>-0.486626</td>\n",
       "      <td>-0.486626</td>\n",
       "      <td>9.0</td>\n",
       "      <td>0.414768</td>\n",
       "      <td>0.414768</td>\n",
       "    </tr>\n",
       "    <tr>\n",
       "      <th>3</th>\n",
       "      <td>3</td>\n",
       "      <td>dsgdb9nsd_000001</td>\n",
       "      <td>1</td>\n",
       "      <td>4</td>\n",
       "      <td>2JHH</td>\n",
       "      <td>-11.2543</td>\n",
       "      <td>2</td>\n",
       "      <td>JHH</td>\n",
       "      <td>1</td>\n",
       "      <td>1</td>\n",
       "      <td>...</td>\n",
       "      <td>-4.915794</td>\n",
       "      <td>-0.486626</td>\n",
       "      <td>-6.536377e-02</td>\n",
       "      <td>-7.262641e-03</td>\n",
       "      <td>10.101786</td>\n",
       "      <td>-0.486626</td>\n",
       "      <td>-0.486626</td>\n",
       "      <td>9.0</td>\n",
       "      <td>0.387743</td>\n",
       "      <td>0.387743</td>\n",
       "    </tr>\n",
       "    <tr>\n",
       "      <th>4</th>\n",
       "      <td>4</td>\n",
       "      <td>dsgdb9nsd_000001</td>\n",
       "      <td>2</td>\n",
       "      <td>0</td>\n",
       "      <td>1JHC</td>\n",
       "      <td>84.8074</td>\n",
       "      <td>1</td>\n",
       "      <td>JHC</td>\n",
       "      <td>0</td>\n",
       "      <td>2</td>\n",
       "      <td>...</td>\n",
       "      <td>-2.320915</td>\n",
       "      <td>-0.229753</td>\n",
       "      <td>1.795439e-16</td>\n",
       "      <td>7.709882e-18</td>\n",
       "      <td>10.101786</td>\n",
       "      <td>-0.229753</td>\n",
       "      <td>-0.229753</td>\n",
       "      <td>9.0</td>\n",
       "      <td>0.000000</td>\n",
       "      <td>0.000000</td>\n",
       "    </tr>\n",
       "  </tbody>\n",
       "</table>\n",
       "<p>5 rows × 31 columns</p>\n",
       "</div>"
      ],
      "text/plain": [
       "   id     molecule_name  atom_index_0  atom_index_1  type  \\\n",
       "0   0  dsgdb9nsd_000001             1             0  1JHC   \n",
       "1   1  dsgdb9nsd_000001             1             2  2JHH   \n",
       "2   2  dsgdb9nsd_000001             1             3  2JHH   \n",
       "3   3  dsgdb9nsd_000001             1             4  2JHH   \n",
       "4   4  dsgdb9nsd_000001             2             0  1JHC   \n",
       "\n",
       "   scalar_coupling_constant  type0 type1  int_type1  atom_index_x  ...  \\\n",
       "0                   84.8076      1   JHC          0             1  ...   \n",
       "1                  -11.2570      2   JHH          1             1  ...   \n",
       "2                  -11.2548      2   JHH          1             1  ...   \n",
       "3                  -11.2543      2   JHH          1             1  ...   \n",
       "4                   84.8074      1   JHC          0             2  ...   \n",
       "\n",
       "   atom_index_1_p_dist_core  atom_index_1_p_dist_factors  \\\n",
       "0                 -2.320915                    -0.229753   \n",
       "1                 -4.915760                    -0.486623   \n",
       "2                 -4.915794                    -0.486626   \n",
       "3                 -4.915794                    -0.486626   \n",
       "4                 -2.320915                    -0.229753   \n",
       "\n",
       "   atom_index_1_p_lap_core  atom_index_1_p_lap_factors  \\\n",
       "0             1.795439e-16                7.709882e-18   \n",
       "1             5.787065e+00                6.430072e-01   \n",
       "2             1.084822e+00                1.205358e-01   \n",
       "3            -6.536377e-02               -7.262641e-03   \n",
       "4             1.795439e-16                7.709882e-18   \n",
       "\n",
       "   atom_index_1_t_dist_core  atom_index_1_t_dist_factors_0  \\\n",
       "0                 10.101786                      -0.229753   \n",
       "1                 10.101786                      -0.486623   \n",
       "2                 10.101786                      -0.486626   \n",
       "3                 10.101786                      -0.486626   \n",
       "4                 10.101786                      -0.229753   \n",
       "\n",
       "   atom_index_1_t_dist_factors_1  atom_index_1_t_lap_core  \\\n",
       "0                      -0.229753                      9.0   \n",
       "1                      -0.486623                      9.0   \n",
       "2                      -0.486626                      9.0   \n",
       "3                      -0.486626                      9.0   \n",
       "4                      -0.229753                      9.0   \n",
       "\n",
       "   atom_index_1_t_lap_factors_0  atom_index_1_t_lap_factors_1  \n",
       "0                      0.000000                      0.000000  \n",
       "1                      0.020415                      0.020415  \n",
       "2                      0.414768                      0.414768  \n",
       "3                      0.387743                      0.387743  \n",
       "4                      0.000000                      0.000000  \n",
       "\n",
       "[5 rows x 31 columns]"
      ]
     },
     "execution_count": 25,
     "metadata": {},
     "output_type": "execute_result"
    }
   ],
   "source": [
    "train.head()"
   ]
  },
  {
   "cell_type": "code",
   "execution_count": 29,
   "metadata": {},
   "outputs": [],
   "source": [
    "train = train[['id',\n",
    " 'atom_index_0_p_dist_core',\n",
    " 'atom_index_0_p_dist_factors',\n",
    " 'atom_index_0_p_lap_core',\n",
    " 'atom_index_0_p_lap_factors',\n",
    " 'atom_index_0_t_dist_core',\n",
    " 'atom_index_0_t_dist_factors_0',\n",
    " 'atom_index_0_t_dist_factors_1',\n",
    " 'atom_index_0_t_lap_core',\n",
    " 'atom_index_0_t_lap_factors_0',\n",
    " 'atom_index_0_t_lap_factors_1',\n",
    " 'atom_index_1_p_dist_core',\n",
    " 'atom_index_1_p_dist_factors',\n",
    " 'atom_index_1_p_lap_core',\n",
    " 'atom_index_1_p_lap_factors',\n",
    " 'atom_index_1_t_dist_core',\n",
    " 'atom_index_1_t_dist_factors_0',\n",
    " 'atom_index_1_t_dist_factors_1',\n",
    " 'atom_index_1_t_lap_core',\n",
    " 'atom_index_1_t_lap_factors_0',\n",
    " 'atom_index_1_t_lap_factors_1']]"
   ]
  },
  {
   "cell_type": "code",
   "execution_count": 31,
   "metadata": {},
   "outputs": [
    {
     "name": "stdout",
     "output_type": "stream",
     "text": [
      "Mem. usage decreased to 231.00 Mb (70.5% reduction)\n"
     ]
    }
   ],
   "source": [
    "train = reduce_mem_usage(train)"
   ]
  },
  {
   "cell_type": "code",
   "execution_count": 32,
   "metadata": {},
   "outputs": [],
   "source": [
    "test = map_atom_info(test, df_test, 0)\n",
    "test = map_atom_info(test, df_test, 1)"
   ]
  },
  {
   "cell_type": "code",
   "execution_count": 33,
   "metadata": {},
   "outputs": [],
   "source": [
    "test = test[['id',\n",
    " 'atom_index_0_p_dist_core',\n",
    " 'atom_index_0_p_dist_factors',\n",
    " 'atom_index_0_p_lap_core',\n",
    " 'atom_index_0_p_lap_factors',\n",
    " 'atom_index_0_t_dist_core',\n",
    " 'atom_index_0_t_dist_factors_0',\n",
    " 'atom_index_0_t_dist_factors_1',\n",
    " 'atom_index_0_t_lap_core',\n",
    " 'atom_index_0_t_lap_factors_0',\n",
    " 'atom_index_0_t_lap_factors_1',\n",
    " 'atom_index_1_p_dist_core',\n",
    " 'atom_index_1_p_dist_factors',\n",
    " 'atom_index_1_p_lap_core',\n",
    " 'atom_index_1_p_lap_factors',\n",
    " 'atom_index_1_t_dist_core',\n",
    " 'atom_index_1_t_dist_factors_0',\n",
    " 'atom_index_1_t_dist_factors_1',\n",
    " 'atom_index_1_t_lap_core',\n",
    " 'atom_index_1_t_lap_factors_0',\n",
    " 'atom_index_1_t_lap_factors_1']]"
   ]
  },
  {
   "cell_type": "code",
   "execution_count": 34,
   "metadata": {},
   "outputs": [
    {
     "name": "stdout",
     "output_type": "stream",
     "text": [
      "Mem. usage decreased to 124.25 Mb (70.5% reduction)\n"
     ]
    }
   ],
   "source": [
    "test = reduce_mem_usage(test)"
   ]
  },
  {
   "cell_type": "code",
   "execution_count": 23,
   "metadata": {},
   "outputs": [],
   "source": [
    "df_train.drop(columns=['molecule_name','atom_index_0','atom_index_1','type','scalar_coupling_constant']).to_pickle('../../data/feature/angles-and-distances_train.pkl')"
   ]
  },
  {
   "cell_type": "code",
   "execution_count": 24,
   "metadata": {},
   "outputs": [],
   "source": [
    "df_test.drop(columns=['molecule_name','atom_index_0','atom_index_1','type']).to_pickle('../../data/feature/angles-and-distances_test.pkl')"
   ]
  },
  {
   "cell_type": "code",
   "execution_count": null,
   "metadata": {},
   "outputs": [],
   "source": []
  }
 ],
 "metadata": {
  "kernelspec": {
   "display_name": "Python 3",
   "language": "python",
   "name": "python3"
  },
  "language_info": {
   "codemirror_mode": {
    "name": "ipython",
    "version": 3
   },
   "file_extension": ".py",
   "mimetype": "text/x-python",
   "name": "python",
   "nbconvert_exporter": "python",
   "pygments_lexer": "ipython3",
   "version": "3.6.8"
  }
 },
 "nbformat": 4,
 "nbformat_minor": 2
}
