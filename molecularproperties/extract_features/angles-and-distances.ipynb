{
 "cells": [
  {
   "cell_type": "code",
   "execution_count": 1,
   "metadata": {},
   "outputs": [
    {
     "data": {
      "text/html": [
       "<style>\n",
       "   div#notebook-container    { width: 95%; }\n",
       "   div#menubar-container     { width: 65%; }\n",
       "   div#maintoolbar-container { width: 99%; }\n",
       "</style>\n"
      ],
      "text/plain": [
       "<IPython.core.display.HTML object>"
      ]
     },
     "metadata": {},
     "output_type": "display_data"
    }
   ],
   "source": [
    "%%HTML\n",
    "<style>\n",
    "   div#notebook-container    { width: 95%; }\n",
    "   div#menubar-container     { width: 65%; }\n",
    "   div#maintoolbar-container { width: 99%; }\n",
    "</style>"
   ]
  },
  {
   "cell_type": "code",
   "execution_count": 2,
   "metadata": {},
   "outputs": [],
   "source": [
    "import sys\n",
    "sys.path.append(\"../..\") # Adds higher directory to python modules path.\n",
    "from utilities import aggregate_feature_calculators\n",
    "from utilities import aggregate_feature_calculators_setting as aggcal\n",
    "from utilities.parallel import Parallel"
   ]
  },
  {
   "cell_type": "code",
   "execution_count": 3,
   "metadata": {},
   "outputs": [],
   "source": [
    "import os\n",
    "import pandas as pd\n",
    "import numpy as np\n",
    "import math\n",
    "\n",
    "from tqdm import tqdm_notebook, tqdm\n",
    "\n",
    "import openbabel"
   ]
  },
  {
   "cell_type": "code",
   "execution_count": 4,
   "metadata": {},
   "outputs": [],
   "source": [
    "def reduce_mem_usage(df, verbose=True):\n",
    "    numerics = ['int16', 'int32', 'int64', 'float16', 'float32', 'float64']\n",
    "    start_mem = df.memory_usage().sum() / 1024**2    \n",
    "    for col in df.columns:\n",
    "        col_type = df[col].dtypes\n",
    "        if col_type in numerics:\n",
    "            c_min = df[col].min()\n",
    "            c_max = df[col].max()\n",
    "            if str(col_type)[:3] == 'int':\n",
    "                if c_min > np.iinfo(np.int8).min and c_max < np.iinfo(np.int8).max:\n",
    "                    df[col] = df[col].astype(np.int8)\n",
    "                elif c_min > np.iinfo(np.int16).min and c_max < np.iinfo(np.int16).max:\n",
    "                    df[col] = df[col].astype(np.int16)\n",
    "                elif c_min > np.iinfo(np.int32).min and c_max < np.iinfo(np.int32).max:\n",
    "                    df[col] = df[col].astype(np.int32)\n",
    "                elif c_min > np.iinfo(np.int64).min and c_max < np.iinfo(np.int64).max:\n",
    "                    df[col] = df[col].astype(np.int64)  \n",
    "            else:\n",
    "                if c_min > np.finfo(np.float16).min and c_max < np.finfo(np.float16).max:\n",
    "                    df[col] = df[col].astype(np.float16)\n",
    "                elif c_min > np.finfo(np.float32).min and c_max < np.finfo(np.float32).max:\n",
    "                    df[col] = df[col].astype(np.float32)\n",
    "                else:\n",
    "                    df[col] = df[col].astype(np.float64)    \n",
    "    end_mem = df.memory_usage().sum() / 1024**2\n",
    "    if verbose: print('Mem. usage decreased to {:5.2f} Mb ({:.1f}% reduction)'.format(end_mem, 100 * (start_mem - end_mem) / start_mem))\n",
    "    return df"
   ]
  },
  {
   "cell_type": "code",
   "execution_count": 5,
   "metadata": {},
   "outputs": [
    {
     "data": {
      "text/plain": [
       "['structures',\n",
       " 'magnetic_shielding_parameters.csv',\n",
       " 'train.csv',\n",
       " 'dipole_moments.csv',\n",
       " 'magnetic_shielding_tensors.csv',\n",
       " 'mulliken_charges.csv',\n",
       " 'potential_energy.csv',\n",
       " 'sample_submission.csv',\n",
       " 'scalar_coupling_contributions.csv',\n",
       " 'structures.csv',\n",
       " 'test.csv']"
      ]
     },
     "execution_count": 5,
     "metadata": {},
     "output_type": "execute_result"
    }
   ],
   "source": [
    "file_folder =  '../../data/input'\n",
    "os.listdir(file_folder)"
   ]
  },
  {
   "cell_type": "code",
   "execution_count": 6,
   "metadata": {},
   "outputs": [],
   "source": [
    "train = pd.read_csv(f'{file_folder}/train.csv')\n",
    "test = pd.read_csv(f'{file_folder}/test.csv')\n",
    "magnetic_shielding_tensors = pd.read_csv(f'{file_folder}/magnetic_shielding_tensors.csv')\n",
    "dipole_moments = pd.read_csv(f'{file_folder}/dipole_moments.csv')\n",
    "mulliken_charges = pd.read_csv(f'{file_folder}/mulliken_charges.csv')\n",
    "potential_energy = pd.read_csv(f'{file_folder}/potential_energy.csv')\n",
    "scalar_coupling_contributions = pd.read_csv(f'{file_folder}/scalar_coupling_contributions.csv')\n",
    "structures = pd.read_csv(f'{file_folder}/structures.csv')"
   ]
  },
  {
   "cell_type": "code",
   "execution_count": 7,
   "metadata": {},
   "outputs": [],
   "source": [
    "x = structures.groupby('molecule_name').atom_index.max().reset_index(drop=False)\n",
    "x.columns = ['molecule_name','totalatoms']\n",
    "x.totalatoms+=1\n",
    "train = train.merge(x,on='molecule_name')\n",
    "# train = train[train.molecule_name=='dsgdb9nsd_000001']"
   ]
  },
  {
   "cell_type": "code",
   "execution_count": 8,
   "metadata": {},
   "outputs": [],
   "source": [
    "test = test.merge(x,on='molecule_name')"
   ]
  },
  {
   "cell_type": "code",
   "execution_count": 9,
   "metadata": {},
   "outputs": [],
   "source": [
    "obConversion = openbabel.OBConversion()\n",
    "obConversion.SetInFormat(\"xyz\")\n",
    "structdir=f'{file_folder}/structures/'\n",
    "mols=[]\n",
    "mols_files=os.listdir(structdir)\n",
    "mols_index=dict(map(reversed,enumerate(mols_files)))\n",
    "for f in mols_index.keys():\n",
    "    mol = openbabel.OBMol()\n",
    "    obConversion.ReadFile(mol, structdir+f) \n",
    "    mols.append(mol)"
   ]
  },
  {
   "cell_type": "code",
   "execution_count": 10,
   "metadata": {},
   "outputs": [],
   "source": [
    "def _worker(item):\n",
    "    \n",
    "    m = item[0]\n",
    "    groupdf = item[1]\n",
    "    mol=mols[mols_index[m+'.xyz']]\n",
    "    list_ = []\n",
    "    for i in groupdf.index.values:\n",
    "        \n",
    "        id_ = int(groupdf.loc[i].id)\n",
    "        totalatoms = groupdf.loc[i].totalatoms\n",
    "        firstatomid = int(groupdf.loc[i].atom_index_0)\n",
    "        secondatomid = int(groupdf.loc[i].atom_index_1)\n",
    "        entrystats = {}\n",
    "        entrystats['id'] = id_\n",
    "        entrystats['totalatoms'] = totalatoms\n",
    "        if 'scalar_coupling_constant' in groupdf.columns:\n",
    "            entrystats['scalar_coupling_constant'] = float(groupdf.loc[i].scalar_coupling_constant)\n",
    "        entrystats['type'] = groupdf.loc[i]['type']\n",
    "        a = mol.GetAtomById(firstatomid)\n",
    "        b = mol.GetAtomById(secondatomid)\n",
    "        entrystats['molecule_name'] = m\n",
    "        entrystats['atom_index_0'] = firstatomid\n",
    "        entrystats['atom_index_1'] = secondatomid\n",
    "        entrystats['bond_distance'] = a.GetDistance(b)\n",
    "        entrystats['bond_atom'] = b.GetType()\n",
    "\n",
    "        #Put the tertiary data in order of distance from first hydrogen\n",
    "        tertiarystats = {}\n",
    "        for j,c in enumerate(list(set(range(totalatoms)).difference(set([firstatomid,secondatomid])))):\n",
    "            tertiaryatom = mol.GetAtomById(c)\n",
    "            tp = tertiaryatom.GetType()\n",
    "            dist = a.GetDistance(tertiaryatom)\n",
    "            ang = a.GetAngle(b,tertiaryatom)*math.pi/180\n",
    "            while(dist in tertiarystats):\n",
    "                dist += 1e-15\n",
    "                # print('Duplicates!',m,j,dist)\n",
    "            tertiarystats[dist] = [tp,dist,ang]\n",
    "        \n",
    "        for k, c in enumerate(sorted(tertiarystats.keys())):\n",
    "            entrystats['tertiary_atom_'+str(k)] = tertiarystats[c][0]\n",
    "            entrystats['tertiary_distance_'+str(k)] = tertiarystats[c][1]\n",
    "            entrystats['tertiary_angle_'+str(k)] = tertiarystats[c][2]\n",
    "        list_.append(entrystats)\n",
    "    return list_\n",
    "\n",
    "\n",
    "def extract_features(df):\n",
    "    \n",
    "    molecule_names = df.molecule_name.unique().tolist()\n",
    "    N_ = len(molecule_names)\n",
    "    segment = N_//100 if N_ > 100 else 1\n",
    "    df_ = pd.DataFrame()\n",
    "    for start in tqdm_notebook(range(0, N_, segment)):\n",
    "        end = start+segment if start+segment < N_ else N_\n",
    "        res = Parallel(_worker,{}).run(df[df['molecule_name'].isin(molecule_names[start:end])].groupby('molecule_name'), n_jobs=16)\n",
    "        df_i = pd.DataFrame(res)\n",
    "        df_ = pd.concat([df_, df_i], axis=0)\n",
    "    df_ = df_.sort_values(by=['id'])\n",
    "    return df_\n"
   ]
  },
  {
   "cell_type": "code",
   "execution_count": 11,
   "metadata": {},
   "outputs": [
    {
     "data": {
      "application/vnd.jupyter.widget-view+json": {
       "model_id": "24393670db1845f08b5a38303f6bb967",
       "version_major": 2,
       "version_minor": 0
      },
      "text/plain": [
       "HBox(children=(IntProgress(value=0, max=101), HTML(value='')))"
      ]
     },
     "metadata": {},
     "output_type": "display_data"
    },
    {
     "name": "stderr",
     "output_type": "stream",
     "text": [
      "/usr/local/Cellar/python3/3.6.4_2/Frameworks/Python.framework/Versions/3.6/lib/python3.6/site-packages/ipykernel_launcher.py:57: FutureWarning: Sorting because non-concatenation axis is not aligned. A future version\n",
      "of pandas will change to not sort by default.\n",
      "\n",
      "To accept the future behavior, pass 'sort=False'.\n",
      "\n",
      "To retain the current behavior and silence the warning, pass 'sort=True'.\n",
      "\n"
     ]
    },
    {
     "name": "stdout",
     "output_type": "stream",
     "text": [
      "\n"
     ]
    }
   ],
   "source": [
    "df_train = extract_features(train)"
   ]
  },
  {
   "cell_type": "code",
   "execution_count": 12,
   "metadata": {},
   "outputs": [
    {
     "name": "stdout",
     "output_type": "stream",
     "text": [
      "(4658147, 90) (4658147, 7)\n"
     ]
    },
    {
     "data": {
      "text/html": [
       "<div>\n",
       "<style scoped>\n",
       "    .dataframe tbody tr th:only-of-type {\n",
       "        vertical-align: middle;\n",
       "    }\n",
       "\n",
       "    .dataframe tbody tr th {\n",
       "        vertical-align: top;\n",
       "    }\n",
       "\n",
       "    .dataframe thead th {\n",
       "        text-align: right;\n",
       "    }\n",
       "</style>\n",
       "<table border=\"1\" class=\"dataframe\">\n",
       "  <thead>\n",
       "    <tr style=\"text-align: right;\">\n",
       "      <th></th>\n",
       "      <th>atom_index_0</th>\n",
       "      <th>atom_index_1</th>\n",
       "      <th>bond_atom</th>\n",
       "      <th>bond_distance</th>\n",
       "      <th>id</th>\n",
       "      <th>molecule_name</th>\n",
       "      <th>scalar_coupling_constant</th>\n",
       "      <th>tertiary_angle_0</th>\n",
       "      <th>tertiary_angle_1</th>\n",
       "      <th>tertiary_angle_10</th>\n",
       "      <th>...</th>\n",
       "      <th>tertiary_distance_26</th>\n",
       "      <th>tertiary_distance_3</th>\n",
       "      <th>tertiary_distance_4</th>\n",
       "      <th>tertiary_distance_5</th>\n",
       "      <th>tertiary_distance_6</th>\n",
       "      <th>tertiary_distance_7</th>\n",
       "      <th>tertiary_distance_8</th>\n",
       "      <th>tertiary_distance_9</th>\n",
       "      <th>totalatoms</th>\n",
       "      <th>type</th>\n",
       "    </tr>\n",
       "  </thead>\n",
       "  <tbody>\n",
       "    <tr>\n",
       "      <th>0</th>\n",
       "      <td>1</td>\n",
       "      <td>0</td>\n",
       "      <td>C3</td>\n",
       "      <td>1.091953</td>\n",
       "      <td>0</td>\n",
       "      <td>dsgdb9nsd_000001</td>\n",
       "      <td>84.8076</td>\n",
       "      <td>1.910584</td>\n",
       "      <td>1.910635</td>\n",
       "      <td>NaN</td>\n",
       "      <td>...</td>\n",
       "      <td>NaN</td>\n",
       "      <td>NaN</td>\n",
       "      <td>NaN</td>\n",
       "      <td>NaN</td>\n",
       "      <td>NaN</td>\n",
       "      <td>NaN</td>\n",
       "      <td>NaN</td>\n",
       "      <td>NaN</td>\n",
       "      <td>5</td>\n",
       "      <td>1JHC</td>\n",
       "    </tr>\n",
       "    <tr>\n",
       "      <th>1</th>\n",
       "      <td>1</td>\n",
       "      <td>2</td>\n",
       "      <td>H</td>\n",
       "      <td>1.783120</td>\n",
       "      <td>1</td>\n",
       "      <td>dsgdb9nsd_000001</td>\n",
       "      <td>-11.2570</td>\n",
       "      <td>0.615505</td>\n",
       "      <td>1.047203</td>\n",
       "      <td>NaN</td>\n",
       "      <td>...</td>\n",
       "      <td>NaN</td>\n",
       "      <td>NaN</td>\n",
       "      <td>NaN</td>\n",
       "      <td>NaN</td>\n",
       "      <td>NaN</td>\n",
       "      <td>NaN</td>\n",
       "      <td>NaN</td>\n",
       "      <td>NaN</td>\n",
       "      <td>5</td>\n",
       "      <td>2JHH</td>\n",
       "    </tr>\n",
       "    <tr>\n",
       "      <th>2</th>\n",
       "      <td>1</td>\n",
       "      <td>3</td>\n",
       "      <td>H</td>\n",
       "      <td>1.783147</td>\n",
       "      <td>2</td>\n",
       "      <td>dsgdb9nsd_000001</td>\n",
       "      <td>-11.2548</td>\n",
       "      <td>0.615481</td>\n",
       "      <td>1.047176</td>\n",
       "      <td>NaN</td>\n",
       "      <td>...</td>\n",
       "      <td>NaN</td>\n",
       "      <td>NaN</td>\n",
       "      <td>NaN</td>\n",
       "      <td>NaN</td>\n",
       "      <td>NaN</td>\n",
       "      <td>NaN</td>\n",
       "      <td>NaN</td>\n",
       "      <td>NaN</td>\n",
       "      <td>5</td>\n",
       "      <td>2JHH</td>\n",
       "    </tr>\n",
       "    <tr>\n",
       "      <th>3</th>\n",
       "      <td>1</td>\n",
       "      <td>4</td>\n",
       "      <td>H</td>\n",
       "      <td>1.783157</td>\n",
       "      <td>3</td>\n",
       "      <td>dsgdb9nsd_000001</td>\n",
       "      <td>-11.2543</td>\n",
       "      <td>0.615474</td>\n",
       "      <td>1.047176</td>\n",
       "      <td>NaN</td>\n",
       "      <td>...</td>\n",
       "      <td>NaN</td>\n",
       "      <td>NaN</td>\n",
       "      <td>NaN</td>\n",
       "      <td>NaN</td>\n",
       "      <td>NaN</td>\n",
       "      <td>NaN</td>\n",
       "      <td>NaN</td>\n",
       "      <td>NaN</td>\n",
       "      <td>5</td>\n",
       "      <td>2JHH</td>\n",
       "    </tr>\n",
       "    <tr>\n",
       "      <th>4</th>\n",
       "      <td>2</td>\n",
       "      <td>0</td>\n",
       "      <td>C3</td>\n",
       "      <td>1.091952</td>\n",
       "      <td>4</td>\n",
       "      <td>dsgdb9nsd_000001</td>\n",
       "      <td>84.8074</td>\n",
       "      <td>1.910584</td>\n",
       "      <td>1.910637</td>\n",
       "      <td>NaN</td>\n",
       "      <td>...</td>\n",
       "      <td>NaN</td>\n",
       "      <td>NaN</td>\n",
       "      <td>NaN</td>\n",
       "      <td>NaN</td>\n",
       "      <td>NaN</td>\n",
       "      <td>NaN</td>\n",
       "      <td>NaN</td>\n",
       "      <td>NaN</td>\n",
       "      <td>5</td>\n",
       "      <td>1JHC</td>\n",
       "    </tr>\n",
       "  </tbody>\n",
       "</table>\n",
       "<p>5 rows × 90 columns</p>\n",
       "</div>"
      ],
      "text/plain": [
       "   atom_index_0  atom_index_1 bond_atom  bond_distance  id     molecule_name  \\\n",
       "0             1             0        C3       1.091953   0  dsgdb9nsd_000001   \n",
       "1             1             2         H       1.783120   1  dsgdb9nsd_000001   \n",
       "2             1             3         H       1.783147   2  dsgdb9nsd_000001   \n",
       "3             1             4         H       1.783157   3  dsgdb9nsd_000001   \n",
       "4             2             0        C3       1.091952   4  dsgdb9nsd_000001   \n",
       "\n",
       "   scalar_coupling_constant  tertiary_angle_0  tertiary_angle_1  \\\n",
       "0                   84.8076          1.910584          1.910635   \n",
       "1                  -11.2570          0.615505          1.047203   \n",
       "2                  -11.2548          0.615481          1.047176   \n",
       "3                  -11.2543          0.615474          1.047176   \n",
       "4                   84.8074          1.910584          1.910637   \n",
       "\n",
       "   tertiary_angle_10  ...  tertiary_distance_26  tertiary_distance_3  \\\n",
       "0                NaN  ...                   NaN                  NaN   \n",
       "1                NaN  ...                   NaN                  NaN   \n",
       "2                NaN  ...                   NaN                  NaN   \n",
       "3                NaN  ...                   NaN                  NaN   \n",
       "4                NaN  ...                   NaN                  NaN   \n",
       "\n",
       "   tertiary_distance_4  tertiary_distance_5  tertiary_distance_6  \\\n",
       "0                  NaN                  NaN                  NaN   \n",
       "1                  NaN                  NaN                  NaN   \n",
       "2                  NaN                  NaN                  NaN   \n",
       "3                  NaN                  NaN                  NaN   \n",
       "4                  NaN                  NaN                  NaN   \n",
       "\n",
       "   tertiary_distance_7  tertiary_distance_8  tertiary_distance_9  totalatoms  \\\n",
       "0                  NaN                  NaN                  NaN           5   \n",
       "1                  NaN                  NaN                  NaN           5   \n",
       "2                  NaN                  NaN                  NaN           5   \n",
       "3                  NaN                  NaN                  NaN           5   \n",
       "4                  NaN                  NaN                  NaN           5   \n",
       "\n",
       "   type  \n",
       "0  1JHC  \n",
       "1  2JHH  \n",
       "2  2JHH  \n",
       "3  2JHH  \n",
       "4  1JHC  \n",
       "\n",
       "[5 rows x 90 columns]"
      ]
     },
     "execution_count": 12,
     "metadata": {},
     "output_type": "execute_result"
    }
   ],
   "source": [
    "print(df_train.shape, train.shape)\n",
    "df_train.head()"
   ]
  },
  {
   "cell_type": "code",
   "execution_count": 13,
   "metadata": {},
   "outputs": [
    {
     "data": {
      "application/vnd.jupyter.widget-view+json": {
       "model_id": "c9e5526431e7406cb3064a9902b80a2a",
       "version_major": 2,
       "version_minor": 0
      },
      "text/plain": [
       "HBox(children=(IntProgress(value=0, max=101), HTML(value='')))"
      ]
     },
     "metadata": {},
     "output_type": "display_data"
    },
    {
     "name": "stderr",
     "output_type": "stream",
     "text": [
      "/usr/local/Cellar/python3/3.6.4_2/Frameworks/Python.framework/Versions/3.6/lib/python3.6/site-packages/ipykernel_launcher.py:57: FutureWarning: Sorting because non-concatenation axis is not aligned. A future version\n",
      "of pandas will change to not sort by default.\n",
      "\n",
      "To accept the future behavior, pass 'sort=False'.\n",
      "\n",
      "To retain the current behavior and silence the warning, pass 'sort=True'.\n",
      "\n"
     ]
    },
    {
     "name": "stdout",
     "output_type": "stream",
     "text": [
      "\n"
     ]
    }
   ],
   "source": [
    "df_test = extract_features(test)"
   ]
  },
  {
   "cell_type": "code",
   "execution_count": 19,
   "metadata": {},
   "outputs": [
    {
     "name": "stdout",
     "output_type": "stream",
     "text": [
      "(2505542, 89) (4658147, 90)\n"
     ]
    }
   ],
   "source": [
    "print(df_test.shape, df_train.shape)"
   ]
  },
  {
   "cell_type": "code",
   "execution_count": 20,
   "metadata": {},
   "outputs": [
    {
     "data": {
      "text/plain": [
       "{'scalar_coupling_constant'}"
      ]
     },
     "execution_count": 20,
     "metadata": {},
     "output_type": "execute_result"
    }
   ],
   "source": [
    "set(df_train.columns.tolist()) - set(df_test.columns.tolist())"
   ]
  },
  {
   "cell_type": "code",
   "execution_count": 21,
   "metadata": {},
   "outputs": [
    {
     "name": "stdout",
     "output_type": "stream",
     "text": [
      "Mem. usage decreased to 1630.34 Mb (49.6% reduction)\n"
     ]
    }
   ],
   "source": [
    "df_train = reduce_mem_usage(df_train)"
   ]
  },
  {
   "cell_type": "code",
   "execution_count": 22,
   "metadata": {},
   "outputs": [
    {
     "name": "stdout",
     "output_type": "stream",
     "text": [
      "Mem. usage decreased to 872.16 Mb (49.3% reduction)\n"
     ]
    }
   ],
   "source": [
    "df_test = reduce_mem_usage(df_test)"
   ]
  },
  {
   "cell_type": "code",
   "execution_count": 23,
   "metadata": {},
   "outputs": [],
   "source": [
    "df_train.drop(columns=['molecule_name','atom_index_0','atom_index_1','type','scalar_coupling_constant']).to_pickle('../../data/feature/angles-and-distances_train.pkl')"
   ]
  },
  {
   "cell_type": "code",
   "execution_count": 24,
   "metadata": {},
   "outputs": [],
   "source": [
    "df_test.drop(columns=['molecule_name','atom_index_0','atom_index_1','type']).to_pickle('../../data/feature/angles-and-distances_test.pkl')"
   ]
  },
  {
   "cell_type": "code",
   "execution_count": null,
   "metadata": {},
   "outputs": [],
   "source": []
  }
 ],
 "metadata": {
  "kernelspec": {
   "display_name": "Python 3",
   "language": "python",
   "name": "python3"
  },
  "language_info": {
   "codemirror_mode": {
    "name": "ipython",
    "version": 3
   },
   "file_extension": ".py",
   "mimetype": "text/x-python",
   "name": "python",
   "nbconvert_exporter": "python",
   "pygments_lexer": "ipython3",
   "version": "3.6.4"
  }
 },
 "nbformat": 4,
 "nbformat_minor": 2
}
