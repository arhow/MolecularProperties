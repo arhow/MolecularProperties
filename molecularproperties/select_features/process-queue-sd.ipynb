{
 "cells": [
  {
   "cell_type": "code",
   "execution_count": 1,
   "metadata": {},
   "outputs": [
    {
     "data": {
      "text/html": [
       "<style>\n",
       "   div#notebook-container    { width: 95%; }\n",
       "   div#menubar-container     { width: 65%; }\n",
       "   div#maintoolbar-container { width: 99%; }\n",
       "</style>\n"
      ],
      "text/plain": [
       "<IPython.core.display.HTML object>"
      ]
     },
     "metadata": {},
     "output_type": "display_data"
    }
   ],
   "source": [
    "%%HTML\n",
    "<style>\n",
    "   div#notebook-container    { width: 95%; }\n",
    "   div#menubar-container     { width: 65%; }\n",
    "   div#maintoolbar-container { width: 99%; }\n",
    "</style>"
   ]
  },
  {
   "cell_type": "code",
   "execution_count": 1,
   "metadata": {},
   "outputs": [],
   "source": [
    "import sys\n",
    "sys.path.append(\"../..\") # Adds higher directory to python modules path.\n",
    "from utilities import aggregate_feature_calculators\n",
    "from utilities import aggregate_feature_calculators_setting as aggcal\n",
    "from utilities.parallel import Parallel\n",
    "from utilities.dfdb import DFDB\n",
    "\n",
    "from utilities.process.pqueue import *\n",
    "from utilities.process.pnode import *\n",
    "from utilities.process.putilities import *"
   ]
  },
  {
   "cell_type": "code",
   "execution_count": 2,
   "metadata": {},
   "outputs": [],
   "source": [
    "import numpy as np\n",
    "import pandas as pd\n",
    "import os\n",
    "import time\n",
    "import datetime\n",
    "import json\n",
    "import copy\n",
    "import gc\n",
    "import warnings\n",
    "from tqdm import tqdm_notebook, tqdm\n",
    "\n",
    "import optuna\n",
    "\n",
    "import lightgbm as lgb\n",
    "import xgboost as xgb\n",
    "\n",
    "from catboost import CatBoostRegressor\n",
    "from sklearn.preprocessing import LabelEncoder\n",
    "from sklearn.model_selection import StratifiedKFold, KFold, RepeatedKFold,TimeSeriesSplit, GroupKFold\n",
    "from sklearn.model_selection import train_test_split\n",
    "from sklearn import metrics\n",
    "from sklearn import linear_model\n",
    "from sklearn.preprocessing import StandardScaler\n",
    "from sklearn.svm import NuSVR, SVR\n",
    "from sklearn.metrics import mean_absolute_error\n",
    "from sklearn import preprocessing\n",
    "\n",
    "import eli5\n",
    "from eli5.sklearn import PermutationImportance\n",
    "\n",
    "import networkx as nx\n",
    "\n",
    "import seaborn as sns\n",
    "import matplotlib.pyplot as plt\n",
    "%matplotlib inline"
   ]
  },
  {
   "cell_type": "code",
   "execution_count": 5,
   "metadata": {},
   "outputs": [
    {
     "data": {
      "text/plain": [
       "['test.csv',\n",
       " 'structures',\n",
       " 'sample_submission.csv',\n",
       " 'magnetic_shielding_tensors.csv',\n",
       " 'mulliken_charges.csv',\n",
       " 'potential_energy.csv',\n",
       " 'scalar_coupling_contributions.csv',\n",
       " 'dipole_moments.csv',\n",
       " 'structures.csv',\n",
       " 'train.csv']"
      ]
     },
     "execution_count": 5,
     "metadata": {},
     "output_type": "execute_result"
    }
   ],
   "source": [
    "csv_file_folder =  '../../data/input'\n",
    "os.listdir(csv_file_folder)"
   ]
  },
  {
   "cell_type": "code",
   "execution_count": 6,
   "metadata": {},
   "outputs": [
    {
     "data": {
      "text/plain": [
       "['giba-r-data-table-simple-features-1-17-lb_train.pkl',\n",
       " 'eem_train.pkl',\n",
       " 'coulomb-interaction-speed-up_train.pkl',\n",
       " 'dataset-with-number-of-bonds-between-atoms_test.pkl',\n",
       " 'keras-neural-net-for-champs_train.pkl',\n",
       " 'brute-force-feature-engineering_test.pkl',\n",
       " 'angles-and-distances_test.pkl',\n",
       " 'giba-r-data-table-simple-features-0-991-lb_test.pkl',\n",
       " 'keras-neural-net-for-champs_test.pkl',\n",
       " 'brute-force-feature-engineering-mini_train.pkl',\n",
       " 'dataset-with-number-of-bonds-between-atoms_train.pkl',\n",
       " 'coulomb-interaction-speed-up_test.pkl',\n",
       " 'bonds-from-structure-data_train.pkl',\n",
       " 'giba-r-data-table-simple-features-0-991-lb_train.pkl',\n",
       " 'eem_test.pkl',\n",
       " 'brute-force-feature-engineering_train.pkl',\n",
       " 'molecule-with-openbabel_train.pkl',\n",
       " 'molecular-properties-eda-and-models_train.pkl',\n",
       " 'brute-force-feature-engineering-mini_test.pkl',\n",
       " 'eachtype_train.pkl',\n",
       " 'molecular-properties-eda-and-models_test.pkl',\n",
       " 'bonds-from-structure-data_test.pkl',\n",
       " 'molecule-with-openbabel_test.pkl',\n",
       " 'eachtype_test.pkl',\n",
       " 'giba-r-data-table-simple-features-1-17-lb_test.pkl',\n",
       " 'angles-and-distances_train.pkl']"
      ]
     },
     "execution_count": 6,
     "metadata": {},
     "output_type": "execute_result"
    }
   ],
   "source": [
    "file_folder =  '../../data/feature'\n",
    "[f for f in os.listdir(file_folder) if (f.endswith('.pkl')) and (not f.startswith('.'))]"
   ]
  },
  {
   "cell_type": "code",
   "execution_count": null,
   "metadata": {},
   "outputs": [],
   "source": [
    "mytrial = []"
   ]
  },
  {
   "cell_type": "code",
   "execution_count": null,
   "metadata": {},
   "outputs": [],
   "source": [
    "\"\"\"\n",
    "y=sd, type=0\n",
    "287\n",
    "{'columns': ['tertiary_angle_4', 'adN1', 'vander_H.y', 'tertiary_distance_0', 'tertiary_angle_5', 'dist_C_2_y', 'dist_C_4_y', 'atom_1_bond_lengths_std', 'tertiary_angle_0', 'dist_H_2_x', 'dist_O_1_y', 'tertiary_distance_8', 'molecule_dist_min', 'atom_index_1_cycle_size_mean', 'molecule_atom_index_1_dist_min_diff', 'adC2', 'dist_H_4_y', 'distC1', 'dist_to_type_0_mean', 'dist_C_2_x', 'dist_to_type_mean', 'atom_1_bond_lengths_mean', 'inv_dist1', 'dist_O_0_y', 'distance_farthest_0', 'molecule_atom_index_0_dist_max_div', 'dist_H_2_y', 'inv_distPR', 'vander_O.x', 'tertiary_angle_3', 'cos_f0', 'adC1', 'molecule_type_dist_std_diff', 'cos_center0', 'eem_1', 'molecule_atom_1_dist_mean', 'dist_C_1_y', 'dist_H_0_y', 'dist_O_1_x', 'tertiary_atom_4', 'dist_C_3_y', 'dist_H_1_x', 'dist_N_0_x', 'max_molecule_atom_1_dist_xyz', 'tertiary_distance_4', 'dist_to_type_std', 'yukawa_H.y', 'atom_1_n_bonds', 'dist_C_0_x', 'molecule_type_dist_mean_diff', 'dist_xyz', 'atom_1_bond_lengths_max', 'cos_center1', 'dist_N_1_y', 'inv_dist1R', 'dist_O_0_x', 'distC0', 'molecule_couples', 'tertiary_angle_6', 'inv_dist0R', 'tertiary_atom_2', 'dist_to_type_1_mean', 'dist_C_3_x', 'coulomb_H.x', 'tertiary_angle_1', 'dist_N_0_y', 'tertiary_distance_3', 'tertiary_atom_3', 'tertiary_distance_1', 'molecule_dist_max', 'dist_C_0_y', 'dist_H_3_x', 'NH', 'dist_H_3_y', 'atom_index_farthest_0', 'eem_0', 'dist_C_1_x', 'tertiary_angle_2', 'inv_distPE', 'tertiary_distance_2', 'dist_C_4_x', 'tertiary_atom_1', 'mean_molecule_atom_1_dist_xyz', 'molecule_dist_mean', 'max_molecule_atom_0_dist_xyz', 'inv_dist1E', 'bond_atom', 'dist_H_0_x'], 'cv': {'cls': 'KFold', 'init': {'n_splits': 5, 'shuffle': True, 'random_state': 42}}, 'scaler': {'cls': 'StandardScaler', 'init': {}, 'fit': {}}, 'model': {'cls': 'lgb.LGBMRegressor', 'init': {'learning_rate': 0.2833769330240482, 'feature_fraction': 0.8818248470204605, 'bagging_fraction': 0.8205197060908092, 'min_data_in_leaf': 202, 'lambda_l1': 0.017039063121824582, 'lambda_l2': 0.8318702431636841, 'max_bin': 100, 'num_leaves': 255, 'random_state': 3895, 'n_jobs': 16}, 'fit': {}}, 'metric': 'mean_absolute_error'}\n",
    "y=sd, type=1\n",
    "377\n",
    "{'columns': ['tertiary_angle_1', 'atom_1_bond_lengths_std', 'tertiary_angle_0', 'dist_C_0_x', 'dist_to_type_1_mean', 'inv_dist0R', 'adC1', 'dist_N_0_x', 'dist_H_0_y', 'inv_dist1R', 'dist_to_type_mean', 'min_molecule_atom_1_dist_xyz', 'cos_f0', 'tertiary_distance_0', 'tertiary_distance_1', 'tertiary_angle_2', 'dist_C_1_x', 'dist_C_2_y', 'eem_0', 'dist_H_0_x', 'dist_C_2_x', 'dist_O_0_y', 'inv_dist1', 'dist_C_0_y', 'dist_to_type_0_mean', 'eem_1', 'dist_H_1_x', 'dist_to_type_std', 'atom_1_bond_lengths_max', 'adC2', 'bond_atom', 'dist_O_0_x', 'dist_N_1_x', 'atom_1_n_bonds', 'molecule_atom_index_0_dist_max_div', 'vander_H.y', 'dist_H_2_y', 'atom_1_bond_lengths_mean', 'molecule_type_dist_mean', 'linkN', 'distN0', 'vander_H.x', 'tertiary_angle_3', 'dist_H_2_x', 'dist_C_1_y', 'linkM0', 'tertiary_distance_2', 'tertiary_distance_3', 'dist_N_2_x', 'dist_C_3_y', 'dist_N_0_y', 'dist_C_4_y', 'max_molecule_atom_0_dist_xyz', 'tertiary_atom_0', 'tertiary_atom_2', 'dist_C_3_x', 'molecule_type_dist_max', 'inv_distPE', 'atom_index_1_cycle_size_mean', 'tertiary_angle_4', 'vander_C.y', 'vander_O.x', 'tertiary_distance_5', 'yukawa_H.x', 'tertiary_distance_4', 'dist_H_1_y', 'cos_f1', 'dist_O_1_x', 'cos_center0', 'dist_xyz'], 'cv': {'cls': 'KFold', 'init': {'n_splits': 5, 'shuffle': True, 'random_state': 42}}, 'scaler': {'cls': 'StandardScaler', 'init': {}, 'fit': {}}, 'model': {'cls': 'lgb.LGBMRegressor', 'init': {'learning_rate': 0.2833769330240482, 'feature_fraction': 0.8818248470204605, 'bagging_fraction': 0.8205197060908092, 'min_data_in_leaf': 202, 'lambda_l1': 0.017039063121824582, 'lambda_l2': 0.8318702431636841, 'max_bin': 100, 'num_leaves': 255, 'random_state': 3895, 'n_jobs': 16}, 'fit': {}}, 'metric': 'mean_absolute_error'}\n",
    "y=sd, type=2\n",
    "467\n",
    "{'columns': ['tertiary_angle_1', 'atom_1_bond_lengths_std', 'tertiary_angle_0', 'dist_C_0_x', 'dist_to_type_1_mean', 'inv_dist0R', 'adC1', 'dist_N_0_x', 'dist_H_0_y', 'inv_dist1R', 'dist_to_type_mean', 'min_molecule_atom_1_dist_xyz', 'cos_f0', 'tertiary_distance_0', 'tertiary_distance_1', 'tertiary_angle_2', 'dist_C_1_x', 'dist_C_2_y', 'eem_0', 'dist_H_0_x', 'dist_C_2_x', 'dist_O_0_y', 'inv_dist1', 'dist_C_0_y', 'dist_to_type_0_mean', 'eem_1', 'dist_H_1_x', 'dist_to_type_std', 'atom_1_bond_lengths_max', 'adC2', 'bond_atom', 'dist_O_0_x', 'dist_N_1_x', 'atom_1_n_bonds', 'molecule_atom_index_0_dist_max_div', 'vander_H.y', 'dist_H_2_y', 'atom_1_bond_lengths_mean', 'molecule_type_dist_mean', 'linkN', 'distN0', 'vander_H.x', 'tertiary_angle_3', 'dist_H_2_x', 'dist_C_1_y', 'linkM0', 'tertiary_distance_2', 'tertiary_distance_3', 'dist_N_2_x', 'dist_C_3_y', 'dist_N_0_y', 'dist_C_4_y', 'max_molecule_atom_0_dist_xyz', 'tertiary_atom_0', 'tertiary_atom_2', 'dist_C_3_x', 'molecule_type_dist_max', 'inv_distPE', 'atom_index_1_cycle_size_mean', 'tertiary_angle_4', 'vander_C.y', 'vander_O.x', 'tertiary_distance_5', 'yukawa_H.x', 'tertiary_distance_4', 'dist_H_1_y', 'cos_f1', 'dist_O_1_x', 'cos_center0', 'dist_xyz'], 'cv': {'cls': 'KFold', 'init': {'n_splits': 5, 'shuffle': True, 'random_state': 42}}, 'scaler': {'cls': 'StandardScaler', 'init': {}, 'fit': {}}, 'model': {'cls': 'lgb.LGBMRegressor', 'init': {'learning_rate': 0.2833769330240482, 'feature_fraction': 0.8818248470204605, 'bagging_fraction': 0.8205197060908092, 'min_data_in_leaf': 202, 'lambda_l1': 0.017039063121824582, 'lambda_l2': 0.8318702431636841, 'max_bin': 100, 'num_leaves': 255, 'random_state': 3895, 'n_jobs': 16}, 'fit': {}}, 'metric': 'mean_absolute_error'}\n",
    "y=sd, type=3\n",
    "754\n",
    "{'columns': ['dist_O_0_y', 'dist_O_0_x', 'cos_c1', 'cos_c0_c1', 'dist_N_0_y', 'dist_N_0_x', 'molecule_atom_index_0_dist_min_diff', 'tertiary_angle_0', 'cos_c0', 'adC3', 'dist_to_type_1_mean', 'dist_to_type_0_mean', 'dist_C_1_y', 'molecule_atom_index_0_dist_min_div', 'dist_to_type_std', 'dist_xyz', 'dist_C_0_y', 'dist_to_type_mean', 'tertiary_atom_1', 'inv_distP', 'dist_C_2_y', 'tertiary_distance_2', 'adC1', 'inv_distPR', 'inv_distPE', 'inv_dist0R', 'yukawa_H.x', 'dist_C_1_x', 'dist_C_0_x', 'eem_0', 'adC2', 'tertiary_distance_1', 'dist_C_2_x', 'distance_c1', 'max_distance_y', 'eem_1', 'min_molecule_atom_1_dist_xyz', 'dist_H_0_y', 'tertiary_angle_1', 'dist_H_1_y', 'min_molecule_atom_0_dist_xyz', 'adC4', 'adN1', 'dist_C_3_y', 'dist_H_2_y', 'cos_f1', 'vander_N.x', 'cos_f0', 'coulomb_H.x', 'yukawa_H.y', 'tertiary_atom_2', 'distance_farthest_0', 'cos_f0_f1', 'tertiary_angle_3', 'dist_H_0_x', 'tertiary_atom_4', 'dist_H_3_y', 'molecule_dist_min', 'tertiary_angle_2', 'distH0', 'molecule_atom_index_0_dist_mean_div', 'tertiary_atom_0', 'tertiary_atom_5', 'dist_H_1_x', 'dist_H_2_x', 'linkM0', 'dist_H_3_x', 'inv_dist0E', 'dist_O_1_x', 'molecule_atom_index_1_dist_max_div', 'atom_index_farthest_1', 'tertiary_angle_4', 'atom_index_1', 'dist_C_3_x', 'tertiary_atom_3', 'tertiary_distance_3', 'vander_H.x', 'vander_H.y', 'linkN', 'coulomb_H.y', 'dist_H_4_y', 'dist_N_1_x', 'dist_O_1_y', 'molecule_dist_mean', 'tertiary_atom_6', 'tertiary_distance_5', 'vander_N.y', 'max_molecule_atom_0_dist_xyz', 'atom_index_farthest_0', 'molecule_dist_max', 'yukawa_C.x', 'NH', 'tertiary_distance_6', 'inv_dist0', 'mean_molecule_atom_0_dist_xyz', 'adN2', 'cos_center0_center1', 'dist_C_4_x', 'yukawa_C.y', 'dist_C_4_y', 'molecule_atom_index_0_dist_mean_diff', 'molecule_type_0_dist_std_diff', 'molecule_type_dist_min', 'dist_N_1_y', 'tertiary_angle_5', 'dist_H_4_x', 'tertiary_distance_4', 'molecule_atom_1_dist_min_diff', 'molecule_atom_index_1_dist_mean_diff', 'tertiary_distance_8', 'molecule_atom_index_0_dist_max_div', 'molecule_type_dist_max', 'tertiary_distance_7', 'molecule_couples', 'link0', 'distance_center1', 'sd_molecule_atom_0_dist_xyz', 'distH1', 'molecule_atom_index_0_dist_max_diff', 'tertiary_angle_6'], 'cv': {'cls': 'KFold', 'init': {'n_splits': 5, 'shuffle': True, 'random_state': 42}}, 'scaler': {'cls': 'StandardScaler', 'init': {}, 'fit': {}}, 'model': {'cls': 'lgb.LGBMRegressor', 'init': {'learning_rate': 0.2833769330240482, 'feature_fraction': 0.8818248470204605, 'bagging_fraction': 0.8205197060908092, 'min_data_in_leaf': 202, 'lambda_l1': 0.017039063121824582, 'lambda_l2': 0.8318702431636841, 'max_bin': 100, 'num_leaves': 255, 'random_state': 3895, 'n_jobs': 16}, 'fit': {}}, 'metric': 'mean_absolute_error'}\n",
    "y=sd, type=4\n",
    "862\n",
    "{'columns': ['dist_O_0_y', 'dist_O_0_x', 'cos_c1', 'cos_c0_c1', 'dist_N_0_y', 'dist_N_0_x', 'molecule_atom_index_0_dist_min_diff', 'tertiary_angle_0', 'cos_c0', 'adC3', 'dist_to_type_1_mean', 'dist_to_type_0_mean', 'dist_C_1_y', 'molecule_atom_index_0_dist_min_div', 'dist_to_type_std', 'dist_xyz', 'dist_C_0_y', 'dist_to_type_mean', 'tertiary_atom_1', 'inv_distP', 'dist_C_2_y', 'tertiary_distance_2', 'adC1', 'inv_distPR', 'inv_distPE', 'inv_dist0R', 'yukawa_H.x', 'dist_C_1_x', 'dist_C_0_x', 'eem_0', 'adC2', 'tertiary_distance_1', 'dist_C_2_x', 'distance_c1', 'max_distance_y', 'eem_1', 'min_molecule_atom_1_dist_xyz', 'dist_H_0_y', 'tertiary_angle_1', 'dist_H_1_y', 'min_molecule_atom_0_dist_xyz', 'adC4', 'adN1', 'dist_C_3_y', 'dist_H_2_y', 'cos_f1', 'vander_N.x', 'cos_f0', 'coulomb_H.x', 'yukawa_H.y', 'tertiary_atom_2', 'distance_farthest_0', 'cos_f0_f1', 'tertiary_angle_3', 'dist_H_0_x', 'tertiary_atom_4', 'dist_H_3_y', 'molecule_dist_min', 'tertiary_angle_2', 'distH0', 'molecule_atom_index_0_dist_mean_div', 'tertiary_atom_0', 'tertiary_atom_5', 'dist_H_1_x', 'dist_H_2_x', 'linkM0', 'dist_H_3_x', 'inv_dist0E', 'dist_O_1_x', 'molecule_atom_index_1_dist_max_div', 'atom_index_farthest_1', 'tertiary_angle_4', 'atom_index_1', 'dist_C_3_x', 'tertiary_atom_3', 'tertiary_distance_3', 'vander_H.x', 'vander_H.y', 'linkN', 'coulomb_H.y', 'dist_H_4_y', 'dist_N_1_x', 'dist_O_1_y', 'molecule_dist_mean', 'tertiary_atom_6', 'tertiary_distance_5', 'vander_N.y', 'max_molecule_atom_0_dist_xyz', 'atom_index_farthest_0', 'molecule_dist_max', 'yukawa_C.x', 'NH', 'tertiary_distance_6', 'inv_dist0', 'mean_molecule_atom_0_dist_xyz', 'adN2', 'cos_center0_center1', 'dist_C_4_x', 'yukawa_C.y', 'dist_C_4_y', 'molecule_atom_index_0_dist_mean_diff', 'molecule_type_0_dist_std_diff', 'molecule_type_dist_min', 'dist_N_1_y', 'tertiary_angle_5', 'dist_H_4_x', 'tertiary_distance_4', 'molecule_atom_1_dist_min_diff', 'molecule_atom_index_1_dist_mean_diff', 'tertiary_distance_8', 'molecule_atom_index_0_dist_max_div', 'molecule_type_dist_max', 'tertiary_distance_7', 'molecule_couples', 'link0', 'distance_center1', 'sd_molecule_atom_0_dist_xyz', 'distH1', 'molecule_atom_index_0_dist_max_diff', 'tertiary_angle_6'], 'cv': {'cls': 'KFold', 'init': {'n_splits': 5, 'shuffle': True, 'random_state': 42}}, 'scaler': {'cls': 'StandardScaler', 'init': {}, 'fit': {}}, 'model': {'cls': 'lgb.LGBMRegressor', 'init': {'learning_rate': 0.2833769330240482, 'feature_fraction': 0.8818248470204605, 'bagging_fraction': 0.8205197060908092, 'min_data_in_leaf': 202, 'lambda_l1': 0.017039063121824582, 'lambda_l2': 0.8318702431636841, 'max_bin': 100, 'num_leaves': 255, 'random_state': 3895, 'n_jobs': 16}, 'fit': {}}, 'metric': 'mean_absolute_error'}\n",
    "y=sd, type=5\n",
    "970\n",
    "{'columns': ['dist_O_0_y', 'dist_O_0_x', 'cos_c1', 'cos_c0_c1', 'dist_N_0_y', 'dist_N_0_x', 'molecule_atom_index_0_dist_min_diff', 'tertiary_angle_0', 'cos_c0', 'adC3', 'dist_to_type_1_mean', 'dist_to_type_0_mean', 'dist_C_1_y', 'molecule_atom_index_0_dist_min_div', 'dist_to_type_std', 'dist_xyz', 'dist_C_0_y', 'dist_to_type_mean', 'tertiary_atom_1', 'inv_distP', 'dist_C_2_y', 'tertiary_distance_2', 'adC1', 'inv_distPR', 'inv_distPE', 'inv_dist0R', 'yukawa_H.x', 'dist_C_1_x', 'dist_C_0_x', 'eem_0', 'adC2', 'tertiary_distance_1', 'dist_C_2_x', 'distance_c1', 'max_distance_y', 'eem_1', 'min_molecule_atom_1_dist_xyz', 'dist_H_0_y', 'tertiary_angle_1', 'dist_H_1_y', 'min_molecule_atom_0_dist_xyz', 'adC4', 'adN1', 'dist_C_3_y', 'dist_H_2_y', 'cos_f1', 'vander_N.x', 'cos_f0', 'coulomb_H.x', 'yukawa_H.y', 'tertiary_atom_2', 'distance_farthest_0', 'cos_f0_f1', 'tertiary_angle_3', 'dist_H_0_x', 'tertiary_atom_4', 'dist_H_3_y', 'molecule_dist_min', 'tertiary_angle_2', 'distH0', 'molecule_atom_index_0_dist_mean_div', 'tertiary_atom_0', 'tertiary_atom_5', 'dist_H_1_x', 'dist_H_2_x', 'linkM0', 'dist_H_3_x', 'inv_dist0E', 'dist_O_1_x', 'molecule_atom_index_1_dist_max_div', 'atom_index_farthest_1', 'tertiary_angle_4', 'atom_index_1', 'dist_C_3_x', 'tertiary_atom_3', 'tertiary_distance_3', 'vander_H.x', 'vander_H.y', 'linkN', 'coulomb_H.y', 'dist_H_4_y', 'dist_N_1_x', 'dist_O_1_y', 'molecule_dist_mean', 'tertiary_atom_6', 'tertiary_distance_5', 'vander_N.y', 'max_molecule_atom_0_dist_xyz', 'atom_index_farthest_0', 'molecule_dist_max', 'yukawa_C.x', 'NH', 'tertiary_distance_6', 'inv_dist0', 'mean_molecule_atom_0_dist_xyz', 'adN2', 'cos_center0_center1', 'dist_C_4_x', 'yukawa_C.y', 'dist_C_4_y', 'molecule_atom_index_0_dist_mean_diff', 'molecule_type_0_dist_std_diff', 'molecule_type_dist_min', 'dist_N_1_y', 'tertiary_angle_5', 'dist_H_4_x', 'tertiary_distance_4', 'molecule_atom_1_dist_min_diff', 'molecule_atom_index_1_dist_mean_diff', 'tertiary_distance_8', 'molecule_atom_index_0_dist_max_div', 'molecule_type_dist_max', 'tertiary_distance_7', 'molecule_couples', 'link0', 'distance_center1', 'sd_molecule_atom_0_dist_xyz', 'distH1', 'molecule_atom_index_0_dist_max_diff', 'tertiary_angle_6'], 'cv': {'cls': 'KFold', 'init': {'n_splits': 5, 'shuffle': True, 'random_state': 42}}, 'scaler': {'cls': 'StandardScaler', 'init': {}, 'fit': {}}, 'model': {'cls': 'lgb.LGBMRegressor', 'init': {'learning_rate': 0.2833769330240482, 'feature_fraction': 0.8818248470204605, 'bagging_fraction': 0.8205197060908092, 'min_data_in_leaf': 202, 'lambda_l1': 0.017039063121824582, 'lambda_l2': 0.8318702431636841, 'max_bin': 100, 'num_leaves': 255, 'random_state': 3895, 'n_jobs': 16}, 'fit': {}}, 'metric': 'mean_absolute_error'}\n",
    "y=sd, type=6\n",
    "197\n",
    "{'columns': ['cos_c0', 'molecule_atom_index_0_dist_min_diff', 'dist_C_1_x', 'molecule_atom_index_0_dist_std_diff', 'dist_N_0_y', 'dist_to_type_mean', 'tertiary_angle_4', 'max_molecule_atom_1_dist_xyz', 'tertiary_atom_0', 'tertiary_distance_3', 'dist_to_type_0_mean', 'dist_C_0_x', 'tertiary_distance_1', 'distance_c1', 'vander_C.y', 'tertiary_angle_1', 'dist_C_1_y', 'dist_O_0_y', 'cos_f1', 'dist_H_0_x', 'adC2', 'dist_H_0_y', 'molecule_atom_index_0_dist_std_div', 'tertiary_atom_2', 'cos_c1', 'dist_xyz', 'inv_dist1R', 'min_molecule_atom_0_dist_xyz', 'dist_to_type_std', 'tertiary_distance_4', 'tertiary_atom_1', 'dist_C_0_y', 'tertiary_angle_0', 'inv_dist0R', 'inv_distPE', 'vander_C.x', 'eem_1', 'cos_f0_f1', 'distance_farthest_0', 'molecule_atom_1_dist_min_diff', 'cos_f0', 'tertiary_angle_2', 'adC3', 'dist_O_0_x', 'dist_N_0_x', 'molecule_atom_index_0_dist_min_div', 'dist_H_1_y', 'atom_1_bond_lengths_mean', 'tertiary_angle_3', 'distH0', 'dist_C_2_y', 'adC1', 'dist_to_type_1_mean', 'tertiary_distance_2', 'max_distance_y', 'cos_c0_c1', 'dist_C_2_x', 'dist_C_3_y'], 'cv': {'cls': 'KFold', 'init': {'n_splits': 5, 'shuffle': True, 'random_state': 42}}, 'scaler': {'cls': 'StandardScaler', 'init': {}, 'fit': {}}, 'model': {'cls': 'lgb.LGBMRegressor', 'init': {'learning_rate': 0.2833769330240482, 'feature_fraction': 0.8818248470204605, 'bagging_fraction': 0.8205197060908092, 'min_data_in_leaf': 202, 'lambda_l1': 0.017039063121824582, 'lambda_l2': 0.8318702431636841, 'max_bin': 100, 'num_leaves': 255, 'random_state': 3895, 'n_jobs': 16}, 'fit': {}}, 'metric': 'mean_absolute_error'}\n",
    "y=sd, type=7\n",
    "119\n",
    "{'columns': ['tertiary_distance_3', 'tertiary_atom_1', 'dist_C_4_x', 'bond_atom', 'atom_index_1_cycle_size_mean', 'tertiary_angle_3', 'molecule_atom_index_0_dist_min_div', 'dist_C_2_x', 'distN0', 'cos_c0_c1', 'dist_to_type_mean', 'atom_1_bond_lengths_min', 'dist_N_1_x', 'dist_O_0_y', 'adC2', 'molecule_atom_index_1_dist_min_div', 'cos_c0', 'dist_C_1_x', 'tertiary_angle_2', 'dist_to_type_std', 'dist_C_2_y', 'atom_1_bond_lengths_max', 'tertiary_atom_3', 'cos_f0', 'molecule_atom_index_0_dist_mean_diff', 'dist_C_1_y', 'dist_O_0_x', 'max_molecule_atom_0_dist_xyz', 'tertiary_distance_1', 'molecule_atom_index_0_dist_min_diff', 'tertiary_distance_2', 'dist_C_0_x', 'eem_1', 'atom_1_bond_lengths_mean', 'atom_1_bond_lengths_std', 'inv_dist0R', 'inv_distPR', 'dist_N_0_y', 'atom_1_n_bonds', 'tertiary_angle_1', 'dist_C_0_y', 'inv_dist1R', 'dist_C_3_x', 'tertiary_angle_0', 'cos_c1', 'dist_to_type_0_mean', 'adC1', 'molecule_atom_index_1_dist_min_diff', 'molecule_type_0_dist_std_diff'], 'cv': {'cls': 'KFold', 'init': {'n_splits': 5, 'shuffle': True, 'random_state': 42}}, 'scaler': {'cls': 'StandardScaler', 'init': {}, 'fit': {}}, 'model': {'cls': 'lgb.LGBMRegressor', 'init': {'learning_rate': 0.2833769330240482, 'feature_fraction': 0.8818248470204605, 'bagging_fraction': 0.8205197060908092, 'min_data_in_leaf': 202, 'lambda_l1': 0.017039063121824582, 'lambda_l2': 0.8318702431636841, 'max_bin': 100, 'num_leaves': 255, 'random_state': 3895, 'n_jobs': 16}, 'fit': {}}, 'metric': 'mean_absolute_error'}\n",
    "\"\"\"\n",
    "\n"
   ]
  },
  {
   "cell_type": "code",
   "execution_count": 6,
   "metadata": {
    "scrolled": false
   },
   "outputs": [
    {
     "name": "stdout",
     "output_type": "stream",
     "text": [
      "y=sd, type=6\n",
      "197\n",
      "{'columns': ['cos_c0', 'molecule_atom_index_0_dist_min_diff', 'dist_C_1_x', 'molecule_atom_index_0_dist_std_diff', 'dist_N_0_y', 'dist_to_type_mean', 'tertiary_angle_4', 'max_molecule_atom_1_dist_xyz', 'tertiary_atom_0', 'tertiary_distance_3', 'dist_to_type_0_mean', 'dist_C_0_x', 'tertiary_distance_1', 'distance_c1', 'vander_C.y', 'tertiary_angle_1', 'dist_C_1_y', 'dist_O_0_y', 'cos_f1', 'dist_H_0_x', 'adC2', 'dist_H_0_y', 'molecule_atom_index_0_dist_std_div', 'tertiary_atom_2', 'cos_c1', 'dist_xyz', 'inv_dist1R', 'min_molecule_atom_0_dist_xyz', 'dist_to_type_std', 'tertiary_distance_4', 'tertiary_atom_1', 'dist_C_0_y', 'tertiary_angle_0', 'inv_dist0R', 'inv_distPE', 'vander_C.x', 'eem_1', 'cos_f0_f1', 'distance_farthest_0', 'molecule_atom_1_dist_min_diff', 'cos_f0', 'tertiary_angle_2', 'adC3', 'dist_O_0_x', 'dist_N_0_x', 'molecule_atom_index_0_dist_min_div', 'dist_H_1_y', 'atom_1_bond_lengths_mean', 'tertiary_angle_3', 'distH0', 'dist_C_2_y', 'adC1', 'dist_to_type_1_mean', 'tertiary_distance_2', 'max_distance_y', 'cos_c0_c1', 'dist_C_2_x', 'dist_C_3_y'], 'cv': {'cls': 'KFold', 'init': {'n_splits': 5, 'shuffle': True, 'random_state': 42}}, 'scaler': {'cls': 'StandardScaler', 'init': {}, 'fit': {}}, 'model': {'cls': 'lgb.LGBMRegressor', 'init': {'learning_rate': 0.2833769330240482, 'feature_fraction': 0.8818248470204605, 'bagging_fraction': 0.8205197060908092, 'min_data_in_leaf': 202, 'lambda_l1': 0.017039063121824582, 'lambda_l2': 0.8318702431636841, 'max_bin': 100, 'num_leaves': 255, 'random_state': 3895, 'n_jobs': 16}, 'fit': {}}, 'metric': 'mean_absolute_error'}\n"
     ]
    }
   ],
   "source": [
    "# 'scalar_coupling_constant', 'fc', 'sd','pso','dso'\n",
    "for y in ['sd']:\n",
    "    for t in np.arange(6,8,1):\n",
    "        \n",
    "        print(f'y={y}, type={t}')\n",
    "        df_train=pd.read_pickle(f'{file_folder}/df_train.gzde', compression='gzip')\n",
    "        df_train['y'] = df_train[y]\n",
    "        df_train = df_train[df_train['type']==t]\n",
    "        n_samples = 500000 if df_train.shape[0] > 500000 else df_train.shape[0]\n",
    "        df_train = df_train.sample(n_samples).reset_index(drop=True)\n",
    "        df_test = pd.DataFrame()\n",
    "        \n",
    "\n",
    "        param = {\n",
    "            'columns': df_train.columns.drop(['index', 'y','group', 'scalar_coupling_constant', 'fc', 'sd','pso','dso']).tolist(),\n",
    "            'cv': {\n",
    "                'cls': 'KFold',\n",
    "                'init':{\n",
    "                    'n_splits': 5,\n",
    "                    'shuffle': True,\n",
    "                    'random_state': 42,\n",
    "                },\n",
    "            },\n",
    "            'scaler': {'cls': 'StandardScaler', 'init': {}, 'fit': {}},\n",
    "            'model': {\n",
    "                'cls': 'lgb.LGBMRegressor',\n",
    "                'init': {\n",
    "                    'learning_rate': 0.2833769330240482,\n",
    "                    'feature_fraction': 0.8818248470204605,\n",
    "                    'bagging_fraction': 0.8205197060908092,\n",
    "                    'min_data_in_leaf': 202,\n",
    "                    'lambda_l1': 0.017039063121824582,\n",
    "                    'lambda_l2': 0.8318702431636841,\n",
    "                    'max_bin': 100,\n",
    "                    'num_leaves': 255,\n",
    "                    'random_state': 3895,\n",
    "                    'n_jobs': 16\n",
    "                },\n",
    "                'fit': {}\n",
    "            },\n",
    "            'metric': 'mean_absolute_error'\n",
    "        }\n",
    "\n",
    "\n",
    "\n",
    "        process_queue = PQueue(df_train, df_test, param, mytrial)\n",
    "        sort_features = SortFeatureSelectTopNProcess(**{'top_n':200})\n",
    "        select_topn = RFESelectTopNProcess(**{'n_features_remain':20, 'n_features_to_remove':10})\n",
    "        remove_useless = RFERemoveUselessFeaturesProcess(**{})\n",
    "        process_queue.insert_node(sort_features)\n",
    "        process_queue.insert_node(select_topn)\n",
    "        process_queue.insert_node(remove_useless)\n",
    "\n",
    "        try:\n",
    "            result = process_queue.run()\n",
    "        except Exception as e:\n",
    "            print(e.__str__())\n",
    "        print(len(process_queue.trial))\n",
    "        print(process_queue.param)\n",
    "        break\n",
    "    "
   ]
  },
  {
   "cell_type": "code",
   "execution_count": 7,
   "metadata": {},
   "outputs": [],
   "source": [
    "df_train=pd.read_pickle(f'{file_folder}/df_train.gzde', compression='gzip')\n",
    "df_test=pd.read_pickle(f'{file_folder}/df_test.gzde', compression='gzip')\n",
    "df_train['y'] = df_train['sd']"
   ]
  },
  {
   "cell_type": "code",
   "execution_count": 8,
   "metadata": {},
   "outputs": [],
   "source": [
    "columns_list = [{'columns': ['tertiary_angle_4', 'adN1', 'vander_H.y', 'tertiary_distance_0', 'tertiary_angle_5', 'dist_C_2_y', 'dist_C_4_y', 'atom_1_bond_lengths_std', 'tertiary_angle_0', 'dist_H_2_x', 'dist_O_1_y', 'tertiary_distance_8', 'molecule_dist_min', 'atom_index_1_cycle_size_mean', 'molecule_atom_index_1_dist_min_diff', 'adC2', 'dist_H_4_y', 'distC1', 'dist_to_type_0_mean', 'dist_C_2_x', 'dist_to_type_mean', 'atom_1_bond_lengths_mean', 'inv_dist1', 'dist_O_0_y', 'distance_farthest_0', 'molecule_atom_index_0_dist_max_div', 'dist_H_2_y', 'inv_distPR', 'vander_O.x', 'tertiary_angle_3', 'cos_f0', 'adC1', 'molecule_type_dist_std_diff', 'cos_center0', 'eem_1', 'molecule_atom_1_dist_mean', 'dist_C_1_y', 'dist_H_0_y', 'dist_O_1_x', 'tertiary_atom_4', 'dist_C_3_y', 'dist_H_1_x', 'dist_N_0_x', 'max_molecule_atom_1_dist_xyz', 'tertiary_distance_4', 'dist_to_type_std', 'yukawa_H.y', 'atom_1_n_bonds', 'dist_C_0_x', 'molecule_type_dist_mean_diff', 'dist_xyz', 'atom_1_bond_lengths_max', 'cos_center1', 'dist_N_1_y', 'inv_dist1R', 'dist_O_0_x', 'distC0', 'molecule_couples', 'tertiary_angle_6', 'inv_dist0R', 'tertiary_atom_2', 'dist_to_type_1_mean', 'dist_C_3_x', 'coulomb_H.x', 'tertiary_angle_1', 'dist_N_0_y', 'tertiary_distance_3', 'tertiary_atom_3', 'tertiary_distance_1', 'molecule_dist_max', 'dist_C_0_y', 'dist_H_3_x', 'NH', 'dist_H_3_y', 'atom_index_farthest_0', 'eem_0', 'dist_C_1_x', 'tertiary_angle_2', 'inv_distPE', 'tertiary_distance_2', 'dist_C_4_x', 'tertiary_atom_1', 'mean_molecule_atom_1_dist_xyz', 'molecule_dist_mean', 'max_molecule_atom_0_dist_xyz', 'inv_dist1E', 'bond_atom', 'dist_H_0_x'], 'cv': {'cls': 'KFold', 'init': {'n_splits': 5, 'shuffle': True, 'random_state': 42}}, 'scaler': {'cls': 'StandardScaler', 'init': {}, 'fit': {}}, 'model': {'cls': 'lgb.LGBMRegressor', 'init': {'learning_rate': 0.2833769330240482, 'feature_fraction': 0.8818248470204605, 'bagging_fraction': 0.8205197060908092, 'min_data_in_leaf': 202, 'lambda_l1': 0.017039063121824582, 'lambda_l2': 0.8318702431636841, 'max_bin': 100, 'num_leaves': 255, 'random_state': 3895, 'n_jobs': 16}, 'fit': {}}, 'metric': 'mean_absolute_error'},\n",
    "{'columns': ['tertiary_angle_1', 'atom_1_bond_lengths_std', 'tertiary_angle_0', 'dist_C_0_x', 'dist_to_type_1_mean', 'inv_dist0R', 'adC1', 'dist_N_0_x', 'dist_H_0_y', 'inv_dist1R', 'dist_to_type_mean', 'min_molecule_atom_1_dist_xyz', 'cos_f0', 'tertiary_distance_0', 'tertiary_distance_1', 'tertiary_angle_2', 'dist_C_1_x', 'dist_C_2_y', 'eem_0', 'dist_H_0_x', 'dist_C_2_x', 'dist_O_0_y', 'inv_dist1', 'dist_C_0_y', 'dist_to_type_0_mean', 'eem_1', 'dist_H_1_x', 'dist_to_type_std', 'atom_1_bond_lengths_max', 'adC2', 'bond_atom', 'dist_O_0_x', 'dist_N_1_x', 'atom_1_n_bonds', 'molecule_atom_index_0_dist_max_div', 'vander_H.y', 'dist_H_2_y', 'atom_1_bond_lengths_mean', 'molecule_type_dist_mean', 'linkN', 'distN0', 'vander_H.x', 'tertiary_angle_3', 'dist_H_2_x', 'dist_C_1_y', 'linkM0', 'tertiary_distance_2', 'tertiary_distance_3', 'dist_N_2_x', 'dist_C_3_y', 'dist_N_0_y', 'dist_C_4_y', 'max_molecule_atom_0_dist_xyz', 'tertiary_atom_0', 'tertiary_atom_2', 'dist_C_3_x', 'molecule_type_dist_max', 'inv_distPE', 'atom_index_1_cycle_size_mean', 'tertiary_angle_4', 'vander_C.y', 'vander_O.x', 'tertiary_distance_5', 'yukawa_H.x', 'tertiary_distance_4', 'dist_H_1_y', 'cos_f1', 'dist_O_1_x', 'cos_center0', 'dist_xyz'], 'cv': {'cls': 'KFold', 'init': {'n_splits': 5, 'shuffle': True, 'random_state': 42}}, 'scaler': {'cls': 'StandardScaler', 'init': {}, 'fit': {}}, 'model': {'cls': 'lgb.LGBMRegressor', 'init': {'learning_rate': 0.2833769330240482, 'feature_fraction': 0.8818248470204605, 'bagging_fraction': 0.8205197060908092, 'min_data_in_leaf': 202, 'lambda_l1': 0.017039063121824582, 'lambda_l2': 0.8318702431636841, 'max_bin': 100, 'num_leaves': 255, 'random_state': 3895, 'n_jobs': 16}, 'fit': {}}, 'metric': 'mean_absolute_error'},\n",
    "{'columns': ['tertiary_angle_1', 'atom_1_bond_lengths_std', 'tertiary_angle_0', 'dist_C_0_x', 'dist_to_type_1_mean', 'inv_dist0R', 'adC1', 'dist_N_0_x', 'dist_H_0_y', 'inv_dist1R', 'dist_to_type_mean', 'min_molecule_atom_1_dist_xyz', 'cos_f0', 'tertiary_distance_0', 'tertiary_distance_1', 'tertiary_angle_2', 'dist_C_1_x', 'dist_C_2_y', 'eem_0', 'dist_H_0_x', 'dist_C_2_x', 'dist_O_0_y', 'inv_dist1', 'dist_C_0_y', 'dist_to_type_0_mean', 'eem_1', 'dist_H_1_x', 'dist_to_type_std', 'atom_1_bond_lengths_max', 'adC2', 'bond_atom', 'dist_O_0_x', 'dist_N_1_x', 'atom_1_n_bonds', 'molecule_atom_index_0_dist_max_div', 'vander_H.y', 'dist_H_2_y', 'atom_1_bond_lengths_mean', 'molecule_type_dist_mean', 'linkN', 'distN0', 'vander_H.x', 'tertiary_angle_3', 'dist_H_2_x', 'dist_C_1_y', 'linkM0', 'tertiary_distance_2', 'tertiary_distance_3', 'dist_N_2_x', 'dist_C_3_y', 'dist_N_0_y', 'dist_C_4_y', 'max_molecule_atom_0_dist_xyz', 'tertiary_atom_0', 'tertiary_atom_2', 'dist_C_3_x', 'molecule_type_dist_max', 'inv_distPE', 'atom_index_1_cycle_size_mean', 'tertiary_angle_4', 'vander_C.y', 'vander_O.x', 'tertiary_distance_5', 'yukawa_H.x', 'tertiary_distance_4', 'dist_H_1_y', 'cos_f1', 'dist_O_1_x', 'cos_center0', 'dist_xyz'], 'cv': {'cls': 'KFold', 'init': {'n_splits': 5, 'shuffle': True, 'random_state': 42}}, 'scaler': {'cls': 'StandardScaler', 'init': {}, 'fit': {}}, 'model': {'cls': 'lgb.LGBMRegressor', 'init': {'learning_rate': 0.2833769330240482, 'feature_fraction': 0.8818248470204605, 'bagging_fraction': 0.8205197060908092, 'min_data_in_leaf': 202, 'lambda_l1': 0.017039063121824582, 'lambda_l2': 0.8318702431636841, 'max_bin': 100, 'num_leaves': 255, 'random_state': 3895, 'n_jobs': 16}, 'fit': {}}, 'metric': 'mean_absolute_error'},\n",
    "{'columns': ['dist_O_0_y', 'dist_O_0_x', 'cos_c1', 'cos_c0_c1', 'dist_N_0_y', 'dist_N_0_x', 'molecule_atom_index_0_dist_min_diff', 'tertiary_angle_0', 'cos_c0', 'adC3', 'dist_to_type_1_mean', 'dist_to_type_0_mean', 'dist_C_1_y', 'molecule_atom_index_0_dist_min_div', 'dist_to_type_std', 'dist_xyz', 'dist_C_0_y', 'dist_to_type_mean', 'tertiary_atom_1', 'inv_distP', 'dist_C_2_y', 'tertiary_distance_2', 'adC1', 'inv_distPR', 'inv_distPE', 'inv_dist0R', 'yukawa_H.x', 'dist_C_1_x', 'dist_C_0_x', 'eem_0', 'adC2', 'tertiary_distance_1', 'dist_C_2_x', 'distance_c1', 'max_distance_y', 'eem_1', 'min_molecule_atom_1_dist_xyz', 'dist_H_0_y', 'tertiary_angle_1', 'dist_H_1_y', 'min_molecule_atom_0_dist_xyz', 'adC4', 'adN1', 'dist_C_3_y', 'dist_H_2_y', 'cos_f1', 'vander_N.x', 'cos_f0', 'coulomb_H.x', 'yukawa_H.y', 'tertiary_atom_2', 'distance_farthest_0', 'cos_f0_f1', 'tertiary_angle_3', 'dist_H_0_x', 'tertiary_atom_4', 'dist_H_3_y', 'molecule_dist_min', 'tertiary_angle_2', 'distH0', 'molecule_atom_index_0_dist_mean_div', 'tertiary_atom_0', 'tertiary_atom_5', 'dist_H_1_x', 'dist_H_2_x', 'linkM0', 'dist_H_3_x', 'inv_dist0E', 'dist_O_1_x', 'molecule_atom_index_1_dist_max_div', 'atom_index_farthest_1', 'tertiary_angle_4', 'atom_index_1', 'dist_C_3_x', 'tertiary_atom_3', 'tertiary_distance_3', 'vander_H.x', 'vander_H.y', 'linkN', 'coulomb_H.y', 'dist_H_4_y', 'dist_N_1_x', 'dist_O_1_y', 'molecule_dist_mean', 'tertiary_atom_6', 'tertiary_distance_5', 'vander_N.y', 'max_molecule_atom_0_dist_xyz', 'atom_index_farthest_0', 'molecule_dist_max', 'yukawa_C.x', 'NH', 'tertiary_distance_6', 'inv_dist0', 'mean_molecule_atom_0_dist_xyz', 'adN2', 'cos_center0_center1', 'dist_C_4_x', 'yukawa_C.y', 'dist_C_4_y', 'molecule_atom_index_0_dist_mean_diff', 'molecule_type_0_dist_std_diff', 'molecule_type_dist_min', 'dist_N_1_y', 'tertiary_angle_5', 'dist_H_4_x', 'tertiary_distance_4', 'molecule_atom_1_dist_min_diff', 'molecule_atom_index_1_dist_mean_diff', 'tertiary_distance_8', 'molecule_atom_index_0_dist_max_div', 'molecule_type_dist_max', 'tertiary_distance_7', 'molecule_couples', 'link0', 'distance_center1', 'sd_molecule_atom_0_dist_xyz', 'distH1', 'molecule_atom_index_0_dist_max_diff', 'tertiary_angle_6'], 'cv': {'cls': 'KFold', 'init': {'n_splits': 5, 'shuffle': True, 'random_state': 42}}, 'scaler': {'cls': 'StandardScaler', 'init': {}, 'fit': {}}, 'model': {'cls': 'lgb.LGBMRegressor', 'init': {'learning_rate': 0.2833769330240482, 'feature_fraction': 0.8818248470204605, 'bagging_fraction': 0.8205197060908092, 'min_data_in_leaf': 202, 'lambda_l1': 0.017039063121824582, 'lambda_l2': 0.8318702431636841, 'max_bin': 100, 'num_leaves': 255, 'random_state': 3895, 'n_jobs': 16}, 'fit': {}}, 'metric': 'mean_absolute_error'},\n",
    "{'columns': ['dist_O_0_y', 'dist_O_0_x', 'cos_c1', 'cos_c0_c1', 'dist_N_0_y', 'dist_N_0_x', 'molecule_atom_index_0_dist_min_diff', 'tertiary_angle_0', 'cos_c0', 'adC3', 'dist_to_type_1_mean', 'dist_to_type_0_mean', 'dist_C_1_y', 'molecule_atom_index_0_dist_min_div', 'dist_to_type_std', 'dist_xyz', 'dist_C_0_y', 'dist_to_type_mean', 'tertiary_atom_1', 'inv_distP', 'dist_C_2_y', 'tertiary_distance_2', 'adC1', 'inv_distPR', 'inv_distPE', 'inv_dist0R', 'yukawa_H.x', 'dist_C_1_x', 'dist_C_0_x', 'eem_0', 'adC2', 'tertiary_distance_1', 'dist_C_2_x', 'distance_c1', 'max_distance_y', 'eem_1', 'min_molecule_atom_1_dist_xyz', 'dist_H_0_y', 'tertiary_angle_1', 'dist_H_1_y', 'min_molecule_atom_0_dist_xyz', 'adC4', 'adN1', 'dist_C_3_y', 'dist_H_2_y', 'cos_f1', 'vander_N.x', 'cos_f0', 'coulomb_H.x', 'yukawa_H.y', 'tertiary_atom_2', 'distance_farthest_0', 'cos_f0_f1', 'tertiary_angle_3', 'dist_H_0_x', 'tertiary_atom_4', 'dist_H_3_y', 'molecule_dist_min', 'tertiary_angle_2', 'distH0', 'molecule_atom_index_0_dist_mean_div', 'tertiary_atom_0', 'tertiary_atom_5', 'dist_H_1_x', 'dist_H_2_x', 'linkM0', 'dist_H_3_x', 'inv_dist0E', 'dist_O_1_x', 'molecule_atom_index_1_dist_max_div', 'atom_index_farthest_1', 'tertiary_angle_4', 'atom_index_1', 'dist_C_3_x', 'tertiary_atom_3', 'tertiary_distance_3', 'vander_H.x', 'vander_H.y', 'linkN', 'coulomb_H.y', 'dist_H_4_y', 'dist_N_1_x', 'dist_O_1_y', 'molecule_dist_mean', 'tertiary_atom_6', 'tertiary_distance_5', 'vander_N.y', 'max_molecule_atom_0_dist_xyz', 'atom_index_farthest_0', 'molecule_dist_max', 'yukawa_C.x', 'NH', 'tertiary_distance_6', 'inv_dist0', 'mean_molecule_atom_0_dist_xyz', 'adN2', 'cos_center0_center1', 'dist_C_4_x', 'yukawa_C.y', 'dist_C_4_y', 'molecule_atom_index_0_dist_mean_diff', 'molecule_type_0_dist_std_diff', 'molecule_type_dist_min', 'dist_N_1_y', 'tertiary_angle_5', 'dist_H_4_x', 'tertiary_distance_4', 'molecule_atom_1_dist_min_diff', 'molecule_atom_index_1_dist_mean_diff', 'tertiary_distance_8', 'molecule_atom_index_0_dist_max_div', 'molecule_type_dist_max', 'tertiary_distance_7', 'molecule_couples', 'link0', 'distance_center1', 'sd_molecule_atom_0_dist_xyz', 'distH1', 'molecule_atom_index_0_dist_max_diff', 'tertiary_angle_6'], 'cv': {'cls': 'KFold', 'init': {'n_splits': 5, 'shuffle': True, 'random_state': 42}}, 'scaler': {'cls': 'StandardScaler', 'init': {}, 'fit': {}}, 'model': {'cls': 'lgb.LGBMRegressor', 'init': {'learning_rate': 0.2833769330240482, 'feature_fraction': 0.8818248470204605, 'bagging_fraction': 0.8205197060908092, 'min_data_in_leaf': 202, 'lambda_l1': 0.017039063121824582, 'lambda_l2': 0.8318702431636841, 'max_bin': 100, 'num_leaves': 255, 'random_state': 3895, 'n_jobs': 16}, 'fit': {}}, 'metric': 'mean_absolute_error'},\n",
    "{'columns': ['dist_O_0_y', 'dist_O_0_x', 'cos_c1', 'cos_c0_c1', 'dist_N_0_y', 'dist_N_0_x', 'molecule_atom_index_0_dist_min_diff', 'tertiary_angle_0', 'cos_c0', 'adC3', 'dist_to_type_1_mean', 'dist_to_type_0_mean', 'dist_C_1_y', 'molecule_atom_index_0_dist_min_div', 'dist_to_type_std', 'dist_xyz', 'dist_C_0_y', 'dist_to_type_mean', 'tertiary_atom_1', 'inv_distP', 'dist_C_2_y', 'tertiary_distance_2', 'adC1', 'inv_distPR', 'inv_distPE', 'inv_dist0R', 'yukawa_H.x', 'dist_C_1_x', 'dist_C_0_x', 'eem_0', 'adC2', 'tertiary_distance_1', 'dist_C_2_x', 'distance_c1', 'max_distance_y', 'eem_1', 'min_molecule_atom_1_dist_xyz', 'dist_H_0_y', 'tertiary_angle_1', 'dist_H_1_y', 'min_molecule_atom_0_dist_xyz', 'adC4', 'adN1', 'dist_C_3_y', 'dist_H_2_y', 'cos_f1', 'vander_N.x', 'cos_f0', 'coulomb_H.x', 'yukawa_H.y', 'tertiary_atom_2', 'distance_farthest_0', 'cos_f0_f1', 'tertiary_angle_3', 'dist_H_0_x', 'tertiary_atom_4', 'dist_H_3_y', 'molecule_dist_min', 'tertiary_angle_2', 'distH0', 'molecule_atom_index_0_dist_mean_div', 'tertiary_atom_0', 'tertiary_atom_5', 'dist_H_1_x', 'dist_H_2_x', 'linkM0', 'dist_H_3_x', 'inv_dist0E', 'dist_O_1_x', 'molecule_atom_index_1_dist_max_div', 'atom_index_farthest_1', 'tertiary_angle_4', 'atom_index_1', 'dist_C_3_x', 'tertiary_atom_3', 'tertiary_distance_3', 'vander_H.x', 'vander_H.y', 'linkN', 'coulomb_H.y', 'dist_H_4_y', 'dist_N_1_x', 'dist_O_1_y', 'molecule_dist_mean', 'tertiary_atom_6', 'tertiary_distance_5', 'vander_N.y', 'max_molecule_atom_0_dist_xyz', 'atom_index_farthest_0', 'molecule_dist_max', 'yukawa_C.x', 'NH', 'tertiary_distance_6', 'inv_dist0', 'mean_molecule_atom_0_dist_xyz', 'adN2', 'cos_center0_center1', 'dist_C_4_x', 'yukawa_C.y', 'dist_C_4_y', 'molecule_atom_index_0_dist_mean_diff', 'molecule_type_0_dist_std_diff', 'molecule_type_dist_min', 'dist_N_1_y', 'tertiary_angle_5', 'dist_H_4_x', 'tertiary_distance_4', 'molecule_atom_1_dist_min_diff', 'molecule_atom_index_1_dist_mean_diff', 'tertiary_distance_8', 'molecule_atom_index_0_dist_max_div', 'molecule_type_dist_max', 'tertiary_distance_7', 'molecule_couples', 'link0', 'distance_center1', 'sd_molecule_atom_0_dist_xyz', 'distH1', 'molecule_atom_index_0_dist_max_diff', 'tertiary_angle_6'], 'cv': {'cls': 'KFold', 'init': {'n_splits': 5, 'shuffle': True, 'random_state': 42}}, 'scaler': {'cls': 'StandardScaler', 'init': {}, 'fit': {}}, 'model': {'cls': 'lgb.LGBMRegressor', 'init': {'learning_rate': 0.2833769330240482, 'feature_fraction': 0.8818248470204605, 'bagging_fraction': 0.8205197060908092, 'min_data_in_leaf': 202, 'lambda_l1': 0.017039063121824582, 'lambda_l2': 0.8318702431636841, 'max_bin': 100, 'num_leaves': 255, 'random_state': 3895, 'n_jobs': 16}, 'fit': {}}, 'metric': 'mean_absolute_error'},\n",
    "{'columns': ['cos_c0', 'molecule_atom_index_0_dist_min_diff', 'dist_C_1_x', 'molecule_atom_index_0_dist_std_diff', 'dist_N_0_y', 'dist_to_type_mean', 'tertiary_angle_4', 'max_molecule_atom_1_dist_xyz', 'tertiary_atom_0', 'tertiary_distance_3', 'dist_to_type_0_mean', 'dist_C_0_x', 'tertiary_distance_1', 'distance_c1', 'vander_C.y', 'tertiary_angle_1', 'dist_C_1_y', 'dist_O_0_y', 'cos_f1', 'dist_H_0_x', 'adC2', 'dist_H_0_y', 'molecule_atom_index_0_dist_std_div', 'tertiary_atom_2', 'cos_c1', 'dist_xyz', 'inv_dist1R', 'min_molecule_atom_0_dist_xyz', 'dist_to_type_std', 'tertiary_distance_4', 'tertiary_atom_1', 'dist_C_0_y', 'tertiary_angle_0', 'inv_dist0R', 'inv_distPE', 'vander_C.x', 'eem_1', 'cos_f0_f1', 'distance_farthest_0', 'molecule_atom_1_dist_min_diff', 'cos_f0', 'tertiary_angle_2', 'adC3', 'dist_O_0_x', 'dist_N_0_x', 'molecule_atom_index_0_dist_min_div', 'dist_H_1_y', 'atom_1_bond_lengths_mean', 'tertiary_angle_3', 'distH0', 'dist_C_2_y', 'adC1', 'dist_to_type_1_mean', 'tertiary_distance_2', 'max_distance_y', 'cos_c0_c1', 'dist_C_2_x', 'dist_C_3_y'], 'cv': {'cls': 'KFold', 'init': {'n_splits': 5, 'shuffle': True, 'random_state': 42}}, 'scaler': {'cls': 'StandardScaler', 'init': {}, 'fit': {}}, 'model': {'cls': 'lgb.LGBMRegressor', 'init': {'learning_rate': 0.2833769330240482, 'feature_fraction': 0.8818248470204605, 'bagging_fraction': 0.8205197060908092, 'min_data_in_leaf': 202, 'lambda_l1': 0.017039063121824582, 'lambda_l2': 0.8318702431636841, 'max_bin': 100, 'num_leaves': 255, 'random_state': 3895, 'n_jobs': 16}, 'fit': {}}, 'metric': 'mean_absolute_error'},\n",
    "{'columns': ['tertiary_distance_3', 'tertiary_atom_1', 'dist_C_4_x', 'bond_atom', 'atom_index_1_cycle_size_mean', 'tertiary_angle_3', 'molecule_atom_index_0_dist_min_div', 'dist_C_2_x', 'distN0', 'cos_c0_c1', 'dist_to_type_mean', 'atom_1_bond_lengths_min', 'dist_N_1_x', 'dist_O_0_y', 'adC2', 'molecule_atom_index_1_dist_min_div', 'cos_c0', 'dist_C_1_x', 'tertiary_angle_2', 'dist_to_type_std', 'dist_C_2_y', 'atom_1_bond_lengths_max', 'tertiary_atom_3', 'cos_f0', 'molecule_atom_index_0_dist_mean_diff', 'dist_C_1_y', 'dist_O_0_x', 'max_molecule_atom_0_dist_xyz', 'tertiary_distance_1', 'molecule_atom_index_0_dist_min_diff', 'tertiary_distance_2', 'dist_C_0_x', 'eem_1', 'atom_1_bond_lengths_mean', 'atom_1_bond_lengths_std', 'inv_dist0R', 'inv_distPR', 'dist_N_0_y', 'atom_1_n_bonds', 'tertiary_angle_1', 'dist_C_0_y', 'inv_dist1R', 'dist_C_3_x', 'tertiary_angle_0', 'cos_c1', 'dist_to_type_0_mean', 'adC1', 'molecule_atom_index_1_dist_min_diff', 'molecule_type_0_dist_std_diff'], 'cv': {'cls': 'KFold', 'init': {'n_splits': 5, 'shuffle': True, 'random_state': 42}}, 'scaler': {'cls': 'StandardScaler', 'init': {}, 'fit': {}}, 'model': {'cls': 'lgb.LGBMRegressor', 'init': {'learning_rate': 0.2833769330240482, 'feature_fraction': 0.8818248470204605, 'bagging_fraction': 0.8205197060908092, 'min_data_in_leaf': 202, 'lambda_l1': 0.017039063121824582, 'lambda_l2': 0.8318702431636841, 'max_bin': 100, 'num_leaves': 255, 'random_state': 3895, 'n_jobs': 16}, 'fit': {}}, 'metric': 'mean_absolute_error'}]"
   ]
  },
  {
   "cell_type": "code",
   "execution_count": 9,
   "metadata": {},
   "outputs": [],
   "source": [
    "mytrial=[]\n",
    "df_his, df_feature_importances, df_valid_pred, df_test_pred = pd.DataFrame(), pd.DataFrame(),pd.DataFrame(),pd.DataFrame()\n",
    "for t in  df_train.type.unique().tolist():\n",
    "    df_his_i, df_feature_importances_i, df_valid_pred_i, df_test_pred_i =  sk_process(df_train[df_train['type']==t].reset_index(drop=True), columns_list[t], f'modeling for {t}', df_test=df_test[df_test['type']==t].reset_index(drop=True), trial=mytrial, is_output_feature_importance=False, trial_level=1)\n",
    "    df_his = pd.concat([df_his, df_his_i], axis=0)\n",
    "    df_feature_importances = pd.concat([df_feature_importances, df_feature_importances_i], axis=0)\n",
    "    df_valid_pred = pd.concat([df_valid_pred, df_valid_pred_i], axis=0)\n",
    "    df_test_pred = pd.concat([df_test_pred, df_test_pred_i], axis=0)\n",
    "\n",
    "df_valid_pred = df_valid_pred.sort_values(by=['index']).reset_index(drop=True)\n",
    "df_test_pred = df_test_pred.sort_values(by=['index']).reset_index(drop=True)"
   ]
  },
  {
   "cell_type": "code",
   "execution_count": 10,
   "metadata": {},
   "outputs": [
    {
     "data": {
      "text/html": [
       "<div>\n",
       "<style scoped>\n",
       "    .dataframe tbody tr th:only-of-type {\n",
       "        vertical-align: middle;\n",
       "    }\n",
       "\n",
       "    .dataframe tbody tr th {\n",
       "        vertical-align: top;\n",
       "    }\n",
       "\n",
       "    .dataframe thead th {\n",
       "        text-align: right;\n",
       "    }\n",
       "</style>\n",
       "<table border=\"1\" class=\"dataframe\">\n",
       "  <thead>\n",
       "    <tr style=\"text-align: right;\">\n",
       "      <th></th>\n",
       "      <th>datetime</th>\n",
       "      <th>message</th>\n",
       "      <th>nfeatures</th>\n",
       "      <th>train_metric_mean</th>\n",
       "      <th>val_metric_mean</th>\n",
       "      <th>trn_val_metric_diff</th>\n",
       "      <th>message</th>\n",
       "    </tr>\n",
       "  </thead>\n",
       "  <tbody>\n",
       "    <tr>\n",
       "      <th>0</th>\n",
       "      <td>2019-07-18 08:26:09.606890</td>\n",
       "      <td>modeling for 0</td>\n",
       "      <td>88</td>\n",
       "      <td>0.004685</td>\n",
       "      <td>0.005375</td>\n",
       "      <td>0.000690</td>\n",
       "      <td>modeling for 0</td>\n",
       "    </tr>\n",
       "    <tr>\n",
       "      <th>1</th>\n",
       "      <td>2019-07-18 08:26:51.963880</td>\n",
       "      <td>modeling for 3</td>\n",
       "      <td>120</td>\n",
       "      <td>0.001748</td>\n",
       "      <td>0.002186</td>\n",
       "      <td>0.000439</td>\n",
       "      <td>modeling for 3</td>\n",
       "    </tr>\n",
       "    <tr>\n",
       "      <th>2</th>\n",
       "      <td>2019-07-18 08:26:55.003408</td>\n",
       "      <td>modeling for 1</td>\n",
       "      <td>70</td>\n",
       "      <td>0.002421</td>\n",
       "      <td>0.003730</td>\n",
       "      <td>0.001309</td>\n",
       "      <td>modeling for 1</td>\n",
       "    </tr>\n",
       "    <tr>\n",
       "      <th>3</th>\n",
       "      <td>2019-07-18 08:27:06.924764</td>\n",
       "      <td>modeling for 4</td>\n",
       "      <td>120</td>\n",
       "      <td>0.002044</td>\n",
       "      <td>0.003259</td>\n",
       "      <td>0.001215</td>\n",
       "      <td>modeling for 4</td>\n",
       "    </tr>\n",
       "    <tr>\n",
       "      <th>4</th>\n",
       "      <td>2019-07-18 08:28:11.274327</td>\n",
       "      <td>modeling for 2</td>\n",
       "      <td>70</td>\n",
       "      <td>0.006842</td>\n",
       "      <td>0.007488</td>\n",
       "      <td>0.000645</td>\n",
       "      <td>modeling for 2</td>\n",
       "    </tr>\n",
       "    <tr>\n",
       "      <th>5</th>\n",
       "      <td>2019-07-18 08:28:41.668152</td>\n",
       "      <td>modeling for 6</td>\n",
       "      <td>58</td>\n",
       "      <td>0.002394</td>\n",
       "      <td>0.002716</td>\n",
       "      <td>0.000321</td>\n",
       "      <td>modeling for 6</td>\n",
       "    </tr>\n",
       "    <tr>\n",
       "      <th>6</th>\n",
       "      <td>2019-07-18 08:30:58.213068</td>\n",
       "      <td>modeling for 5</td>\n",
       "      <td>120</td>\n",
       "      <td>0.005233</td>\n",
       "      <td>0.005649</td>\n",
       "      <td>0.000415</td>\n",
       "      <td>modeling for 5</td>\n",
       "    </tr>\n",
       "    <tr>\n",
       "      <th>7</th>\n",
       "      <td>2019-07-18 08:31:06.980405</td>\n",
       "      <td>modeling for 7</td>\n",
       "      <td>49</td>\n",
       "      <td>0.002414</td>\n",
       "      <td>0.003231</td>\n",
       "      <td>0.000818</td>\n",
       "      <td>modeling for 7</td>\n",
       "    </tr>\n",
       "  </tbody>\n",
       "</table>\n",
       "</div>"
      ],
      "text/plain": [
       "                    datetime         message  nfeatures  train_metric_mean  \\\n",
       "0 2019-07-18 08:26:09.606890  modeling for 0         88           0.004685   \n",
       "1 2019-07-18 08:26:51.963880  modeling for 3        120           0.001748   \n",
       "2 2019-07-18 08:26:55.003408  modeling for 1         70           0.002421   \n",
       "3 2019-07-18 08:27:06.924764  modeling for 4        120           0.002044   \n",
       "4 2019-07-18 08:28:11.274327  modeling for 2         70           0.006842   \n",
       "5 2019-07-18 08:28:41.668152  modeling for 6         58           0.002394   \n",
       "6 2019-07-18 08:30:58.213068  modeling for 5        120           0.005233   \n",
       "7 2019-07-18 08:31:06.980405  modeling for 7         49           0.002414   \n",
       "\n",
       "   val_metric_mean  trn_val_metric_diff         message  \n",
       "0         0.005375             0.000690  modeling for 0  \n",
       "1         0.002186             0.000439  modeling for 3  \n",
       "2         0.003730             0.001309  modeling for 1  \n",
       "3         0.003259             0.001215  modeling for 4  \n",
       "4         0.007488             0.000645  modeling for 2  \n",
       "5         0.002716             0.000321  modeling for 6  \n",
       "6         0.005649             0.000415  modeling for 5  \n",
       "7         0.003231             0.000818  modeling for 7  "
      ]
     },
     "execution_count": 10,
     "metadata": {},
     "output_type": "execute_result"
    }
   ],
   "source": [
    "df_trial = pd.DataFrame(mytrial)\n",
    "df_trial[['datetime', 'message', 'nfeatures', 'train_metric_mean', 'val_metric_mean', 'trn_val_metric_diff', 'message']]"
   ]
  },
  {
   "cell_type": "code",
   "execution_count": 11,
   "metadata": {},
   "outputs": [
    {
     "name": "stdout",
     "output_type": "stream",
     "text": [
      "0.005239009795675559\n",
      "0 0.005375204370837576\n",
      "3 0.002186181296557227\n",
      "1 0.0037304742788296943\n",
      "4 0.0032589139294807246\n",
      "2 0.007487543498037491\n",
      "6 0.002715714355614683\n",
      "5 0.005648543233534113\n",
      "7 0.003231371470466261\n"
     ]
    }
   ],
   "source": [
    "print(mean_absolute_error(df_valid_pred.sort_values(by=['index']).reset_index(drop=True).predict.values, df_train.reset_index(drop=True).y.values))\n",
    "for t in df_train.type.unique().tolist():\n",
    "    index = df_train[df_train['type']==t]['index'].values\n",
    "    print(t, mean_absolute_error(df_valid_pred[df_valid_pred['index'].isin(index)].sort_values(by=['index']).reset_index(drop=True).predict.values, df_train[df_train['index'].isin(index)].reset_index(drop=True).y.values))"
   ]
  },
  {
   "cell_type": "code",
   "execution_count": 13,
   "metadata": {},
   "outputs": [
    {
     "name": "stdout",
     "output_type": "stream",
     "text": [
      "(4658147, 3)\n"
     ]
    },
    {
     "data": {
      "text/html": [
       "<div>\n",
       "<style scoped>\n",
       "    .dataframe tbody tr th:only-of-type {\n",
       "        vertical-align: middle;\n",
       "    }\n",
       "\n",
       "    .dataframe tbody tr th {\n",
       "        vertical-align: top;\n",
       "    }\n",
       "\n",
       "    .dataframe thead th {\n",
       "        text-align: right;\n",
       "    }\n",
       "</style>\n",
       "<table border=\"1\" class=\"dataframe\">\n",
       "  <thead>\n",
       "    <tr style=\"text-align: right;\">\n",
       "      <th></th>\n",
       "      <th>index</th>\n",
       "      <th>predict</th>\n",
       "      <th>fold_n</th>\n",
       "    </tr>\n",
       "  </thead>\n",
       "  <tbody>\n",
       "    <tr>\n",
       "      <th>4658142</th>\n",
       "      <td>4658142</td>\n",
       "      <td>0.032174</td>\n",
       "      <td>1.0</td>\n",
       "    </tr>\n",
       "    <tr>\n",
       "      <th>4658143</th>\n",
       "      <td>4658143</td>\n",
       "      <td>0.006078</td>\n",
       "      <td>2.0</td>\n",
       "    </tr>\n",
       "    <tr>\n",
       "      <th>4658144</th>\n",
       "      <td>4658144</td>\n",
       "      <td>-0.024607</td>\n",
       "      <td>3.0</td>\n",
       "    </tr>\n",
       "    <tr>\n",
       "      <th>4658145</th>\n",
       "      <td>4658145</td>\n",
       "      <td>0.130370</td>\n",
       "      <td>2.0</td>\n",
       "    </tr>\n",
       "    <tr>\n",
       "      <th>4658146</th>\n",
       "      <td>4658146</td>\n",
       "      <td>0.368041</td>\n",
       "      <td>1.0</td>\n",
       "    </tr>\n",
       "  </tbody>\n",
       "</table>\n",
       "</div>"
      ],
      "text/plain": [
       "           index   predict  fold_n\n",
       "4658142  4658142  0.032174     1.0\n",
       "4658143  4658143  0.006078     2.0\n",
       "4658144  4658144 -0.024607     3.0\n",
       "4658145  4658145  0.130370     2.0\n",
       "4658146  4658146  0.368041     1.0"
      ]
     },
     "execution_count": 13,
     "metadata": {},
     "output_type": "execute_result"
    }
   ],
   "source": [
    "print(df_valid_pred.shape)\n",
    "df_valid_pred.tail()"
   ]
  },
  {
   "cell_type": "code",
   "execution_count": 12,
   "metadata": {},
   "outputs": [
    {
     "data": {
      "text/html": [
       "<div>\n",
       "<style scoped>\n",
       "    .dataframe tbody tr th:only-of-type {\n",
       "        vertical-align: middle;\n",
       "    }\n",
       "\n",
       "    .dataframe tbody tr th {\n",
       "        vertical-align: top;\n",
       "    }\n",
       "\n",
       "    .dataframe thead th {\n",
       "        text-align: right;\n",
       "    }\n",
       "</style>\n",
       "<table border=\"1\" class=\"dataframe\">\n",
       "  <thead>\n",
       "    <tr style=\"text-align: right;\">\n",
       "      <th></th>\n",
       "      <th>index</th>\n",
       "      <th>0</th>\n",
       "      <th>1</th>\n",
       "      <th>2</th>\n",
       "      <th>3</th>\n",
       "      <th>4</th>\n",
       "    </tr>\n",
       "  </thead>\n",
       "  <tbody>\n",
       "    <tr>\n",
       "      <th>2505537</th>\n",
       "      <td>7163684</td>\n",
       "      <td>0.096841</td>\n",
       "      <td>0.110271</td>\n",
       "      <td>0.094608</td>\n",
       "      <td>0.097868</td>\n",
       "      <td>0.091781</td>\n",
       "    </tr>\n",
       "    <tr>\n",
       "      <th>2505538</th>\n",
       "      <td>7163685</td>\n",
       "      <td>0.048413</td>\n",
       "      <td>0.051885</td>\n",
       "      <td>0.072798</td>\n",
       "      <td>0.087132</td>\n",
       "      <td>0.098942</td>\n",
       "    </tr>\n",
       "    <tr>\n",
       "      <th>2505539</th>\n",
       "      <td>7163686</td>\n",
       "      <td>-0.029385</td>\n",
       "      <td>-0.014471</td>\n",
       "      <td>-0.022175</td>\n",
       "      <td>-0.025193</td>\n",
       "      <td>-0.029875</td>\n",
       "    </tr>\n",
       "    <tr>\n",
       "      <th>2505540</th>\n",
       "      <td>7163687</td>\n",
       "      <td>0.155941</td>\n",
       "      <td>0.130100</td>\n",
       "      <td>0.122157</td>\n",
       "      <td>0.130235</td>\n",
       "      <td>0.160987</td>\n",
       "    </tr>\n",
       "    <tr>\n",
       "      <th>2505541</th>\n",
       "      <td>7163688</td>\n",
       "      <td>0.394770</td>\n",
       "      <td>0.383084</td>\n",
       "      <td>0.384197</td>\n",
       "      <td>0.395634</td>\n",
       "      <td>0.383516</td>\n",
       "    </tr>\n",
       "  </tbody>\n",
       "</table>\n",
       "</div>"
      ],
      "text/plain": [
       "           index         0         1         2         3         4\n",
       "2505537  7163684  0.096841  0.110271  0.094608  0.097868  0.091781\n",
       "2505538  7163685  0.048413  0.051885  0.072798  0.087132  0.098942\n",
       "2505539  7163686 -0.029385 -0.014471 -0.022175 -0.025193 -0.029875\n",
       "2505540  7163687  0.155941  0.130100  0.122157  0.130235  0.160987\n",
       "2505541  7163688  0.394770  0.383084  0.384197  0.395634  0.383516"
      ]
     },
     "execution_count": 12,
     "metadata": {},
     "output_type": "execute_result"
    }
   ],
   "source": [
    "print(df_test_pred.shape)\n",
    "df_test_pred.tail()"
   ]
  },
  {
   "cell_type": "code",
   "execution_count": 17,
   "metadata": {},
   "outputs": [],
   "source": [
    "# df_test_pred = df_trial.loc[idx]['df_test_pred']\n",
    "df_submit = pd.DataFrame()\n",
    "df_submit['sd'] = np.mean(df_test_pred.drop(columns=['index']).values, axis=1)\n",
    "df_submit['id'] = df_test_pred['index']\n",
    "df_submit.to_pickle('../../data/oof/lgbm_sd_test.pkl')"
   ]
  },
  {
   "cell_type": "code",
   "execution_count": 18,
   "metadata": {},
   "outputs": [],
   "source": [
    "df_submit = df_valid_pred.rename(columns={'predict':'sd', 'index':'id'})\n",
    "df_submit.to_pickle('../../data/oof/lgbm_sd_train.pkl')"
   ]
  },
  {
   "cell_type": "code",
   "execution_count": null,
   "metadata": {},
   "outputs": [],
   "source": []
  }
 ],
 "metadata": {
  "kernelspec": {
   "display_name": "Python 3",
   "language": "python",
   "name": "python3"
  },
  "language_info": {
   "codemirror_mode": {
    "name": "ipython",
    "version": 3
   },
   "file_extension": ".py",
   "mimetype": "text/x-python",
   "name": "python",
   "nbconvert_exporter": "python",
   "pygments_lexer": "ipython3",
   "version": "3.7.3"
  }
 },
 "nbformat": 4,
 "nbformat_minor": 2
}
