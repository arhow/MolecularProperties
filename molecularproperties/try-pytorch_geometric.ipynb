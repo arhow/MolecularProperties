{
 "cells": [
  {
   "cell_type": "code",
   "execution_count": 1,
   "metadata": {},
   "outputs": [
    {
     "data": {
      "text/html": [
       "<style>\n",
       "   div#notebook-container    { width: 95%; }\n",
       "   div#menubar-container     { width: 65%; }\n",
       "   div#maintoolbar-container { width: 99%; }\n",
       "</style>"
      ],
      "text/plain": [
       "<IPython.core.display.HTML object>"
      ]
     },
     "metadata": {},
     "output_type": "display_data"
    }
   ],
   "source": [
    "%%HTML\n",
    "<style>\n",
    "   div#notebook-container    { width: 95%; }\n",
    "   div#menubar-container     { width: 65%; }\n",
    "   div#maintoolbar-container { width: 99%; }\n",
    "</style>"
   ]
  },
  {
   "cell_type": "code",
   "execution_count": 2,
   "metadata": {
    "scrolled": false
   },
   "outputs": [],
   "source": [
    "# import sys\n",
    "# !{sys.executable} -m pip install torchsummary"
   ]
  },
  {
   "cell_type": "code",
   "execution_count": 1,
   "metadata": {},
   "outputs": [],
   "source": [
    "import sys\n",
    "sys.path.append(\"..\") # Adds higher directory to python modules path.\n",
    "from utilities import aggregate_feature_calculators\n",
    "from utilities import aggregate_feature_calculators_setting as aggcal\n",
    "from utilities.parallel import Parallel"
   ]
  },
  {
   "cell_type": "code",
   "execution_count": 2,
   "metadata": {},
   "outputs": [],
   "source": [
    "import pandas as pd\n",
    "import numpy as np\n",
    "import os\n",
    "import os.path as osp\n",
    "import datetime\n",
    "\n",
    "import seaborn as sns\n",
    "import matplotlib.pyplot as plt\n",
    "\n",
    "from tqdm import tqdm_notebook\n",
    "\n",
    "from sklearn.preprocessing import LabelEncoder\n",
    "from sklearn.model_selection import StratifiedKFold, KFold, GroupKFold, TimeSeriesSplit\n",
    "from sklearn.metrics import mean_absolute_error, mean_squared_error\n",
    "\n",
    "from torch_geometric.data import Data, DataLoader\n",
    "import torch\n",
    "import torch.nn.functional as F\n",
    "from torch_geometric.datasets import Planetoid\n",
    "from torch_geometric.datasets import QM9\n",
    "from torch_geometric.datasets import TUDataset\n",
    "import torch_geometric.transforms as T\n",
    "from torch_geometric.nn import GCNConv, ChebConv  # noqa\n",
    "from torch.nn import Sequential, Linear, ReLU, GRU\n",
    "import torch_geometric.transforms as T\n",
    "from torch_geometric.datasets import QM9\n",
    "from torch_geometric.nn import NNConv, Set2Set\n",
    "from torch_geometric.data import DataLoader\n",
    "from torch_geometric.utils import remove_self_loops\n",
    "from torch_geometric.data import Data"
   ]
  },
  {
   "cell_type": "code",
   "execution_count": 3,
   "metadata": {},
   "outputs": [
    {
     "data": {
      "text/plain": [
       "['sample_submission.csv',\n",
       " 'magnetic_shielding_tensors.csv',\n",
       " 'potential_energy.csv',\n",
       " 'scalar_coupling_contributions.csv',\n",
       " 'dipole_moments.csv',\n",
       " 'mulliken_charges.csv',\n",
       " 'train.csv',\n",
       " 'test.csv',\n",
       " 'structures.csv',\n",
       " 'structures']"
      ]
     },
     "execution_count": 3,
     "metadata": {},
     "output_type": "execute_result"
    }
   ],
   "source": [
    "file_folder = 'data/input/champs-scalar-coupling' if 'champs-scalar-coupling' in os.listdir('../data/input/') else '../data/input'\n",
    "os.listdir(file_folder)"
   ]
  },
  {
   "cell_type": "code",
   "execution_count": 4,
   "metadata": {},
   "outputs": [],
   "source": [
    "train = pd.read_csv(f'{file_folder}/train.csv')\n",
    "test = pd.read_csv(f'{file_folder}/test.csv')\n",
    "sub = pd.read_csv(f'{file_folder}/sample_submission.csv')"
   ]
  },
  {
   "cell_type": "code",
   "execution_count": 5,
   "metadata": {},
   "outputs": [],
   "source": [
    "train['type0'] = train['type'].apply(lambda x: int(x[0]))\n",
    "train['type1'] = train['type'].apply(lambda x: x[1:])"
   ]
  },
  {
   "cell_type": "code",
   "execution_count": 6,
   "metadata": {},
   "outputs": [],
   "source": [
    "le = LabelEncoder()\n",
    "le.fit(train.type1.tolist())\n",
    "int_bond_type = le.transform(train.type1.tolist()) \n",
    "train['int_type1']= int_bond_type"
   ]
  },
  {
   "cell_type": "code",
   "execution_count": 7,
   "metadata": {},
   "outputs": [],
   "source": [
    "test['type0'] = test['type'].apply(lambda x: int(x[0]))\n",
    "test['type1'] = test['type'].apply(lambda x: x[1:])\n",
    "int_bond_type = le.transform(test.type1.tolist()) \n",
    "test['int_type1']= int_bond_type"
   ]
  },
  {
   "cell_type": "code",
   "execution_count": 210,
   "metadata": {},
   "outputs": [
    {
     "data": {
      "text/html": [
       "<div>\n",
       "<style scoped>\n",
       "    .dataframe tbody tr th:only-of-type {\n",
       "        vertical-align: middle;\n",
       "    }\n",
       "\n",
       "    .dataframe tbody tr th {\n",
       "        vertical-align: top;\n",
       "    }\n",
       "\n",
       "    .dataframe thead th {\n",
       "        text-align: right;\n",
       "    }\n",
       "</style>\n",
       "<table border=\"1\" class=\"dataframe\">\n",
       "  <thead>\n",
       "    <tr style=\"text-align: right;\">\n",
       "      <th></th>\n",
       "      <th>id</th>\n",
       "      <th>molecule_name</th>\n",
       "      <th>atom_index_0</th>\n",
       "      <th>atom_index_1</th>\n",
       "      <th>type</th>\n",
       "      <th>scalar_coupling_constant</th>\n",
       "      <th>type0</th>\n",
       "      <th>type1</th>\n",
       "      <th>int_type1</th>\n",
       "    </tr>\n",
       "  </thead>\n",
       "  <tbody>\n",
       "    <tr>\n",
       "      <th>4658146</th>\n",
       "      <td>4658146</td>\n",
       "      <td>dsgdb9nsd_133884</td>\n",
       "      <td>17</td>\n",
       "      <td>8</td>\n",
       "      <td>1JHC</td>\n",
       "      <td>117.934</td>\n",
       "      <td>1</td>\n",
       "      <td>JHC</td>\n",
       "      <td>0</td>\n",
       "    </tr>\n",
       "  </tbody>\n",
       "</table>\n",
       "</div>"
      ],
      "text/plain": [
       "              id     molecule_name  atom_index_0  atom_index_1  type  \\\n",
       "4658146  4658146  dsgdb9nsd_133884            17             8  1JHC   \n",
       "\n",
       "         scalar_coupling_constant  type0 type1  int_type1  \n",
       "4658146                   117.934      1   JHC          0  "
      ]
     },
     "execution_count": 210,
     "metadata": {},
     "output_type": "execute_result"
    }
   ],
   "source": [
    "train.tail(1)"
   ]
  },
  {
   "cell_type": "code",
   "execution_count": 211,
   "metadata": {},
   "outputs": [
    {
     "data": {
      "text/html": [
       "<div>\n",
       "<style scoped>\n",
       "    .dataframe tbody tr th:only-of-type {\n",
       "        vertical-align: middle;\n",
       "    }\n",
       "\n",
       "    .dataframe tbody tr th {\n",
       "        vertical-align: top;\n",
       "    }\n",
       "\n",
       "    .dataframe thead th {\n",
       "        text-align: right;\n",
       "    }\n",
       "</style>\n",
       "<table border=\"1\" class=\"dataframe\">\n",
       "  <thead>\n",
       "    <tr style=\"text-align: right;\">\n",
       "      <th></th>\n",
       "      <th>id</th>\n",
       "      <th>molecule_name</th>\n",
       "      <th>atom_index_0</th>\n",
       "      <th>atom_index_1</th>\n",
       "      <th>type</th>\n",
       "      <th>type0</th>\n",
       "      <th>type1</th>\n",
       "      <th>int_type1</th>\n",
       "    </tr>\n",
       "  </thead>\n",
       "  <tbody>\n",
       "    <tr>\n",
       "      <th>2505541</th>\n",
       "      <td>7163688</td>\n",
       "      <td>dsgdb9nsd_133885</td>\n",
       "      <td>15</td>\n",
       "      <td>8</td>\n",
       "      <td>1JHC</td>\n",
       "      <td>1</td>\n",
       "      <td>JHC</td>\n",
       "      <td>0</td>\n",
       "    </tr>\n",
       "  </tbody>\n",
       "</table>\n",
       "</div>"
      ],
      "text/plain": [
       "              id     molecule_name  atom_index_0  atom_index_1  type  type0  \\\n",
       "2505541  7163688  dsgdb9nsd_133885            15             8  1JHC      1   \n",
       "\n",
       "        type1  int_type1  \n",
       "2505541   JHC          0  "
      ]
     },
     "execution_count": 211,
     "metadata": {},
     "output_type": "execute_result"
    }
   ],
   "source": [
    "test.tail(1)"
   ]
  },
  {
   "cell_type": "code",
   "execution_count": 213,
   "metadata": {},
   "outputs": [
    {
     "data": {
      "text/plain": [
       "((85003,), (45772,))"
      ]
     },
     "execution_count": 213,
     "metadata": {},
     "output_type": "execute_result"
    }
   ],
   "source": [
    "train.molecule_name.unique().shape,test.molecule_name.unique().shape,"
   ]
  },
  {
   "cell_type": "code",
   "execution_count": 17,
   "metadata": {},
   "outputs": [],
   "source": [
    "structures = pd.read_csv(f'{file_folder}/structures.csv')\n",
    "le = LabelEncoder()\n",
    "le.fit(structures.atom.tolist())\n",
    "int_atom = le.transform(structures.atom.tolist()) \n",
    "structures['int_atom'] = int_atom"
   ]
  },
  {
   "cell_type": "code",
   "execution_count": 215,
   "metadata": {},
   "outputs": [
    {
     "data": {
      "text/html": [
       "<div>\n",
       "<style scoped>\n",
       "    .dataframe tbody tr th:only-of-type {\n",
       "        vertical-align: middle;\n",
       "    }\n",
       "\n",
       "    .dataframe tbody tr th {\n",
       "        vertical-align: top;\n",
       "    }\n",
       "\n",
       "    .dataframe thead th {\n",
       "        text-align: right;\n",
       "    }\n",
       "</style>\n",
       "<table border=\"1\" class=\"dataframe\">\n",
       "  <thead>\n",
       "    <tr style=\"text-align: right;\">\n",
       "      <th></th>\n",
       "      <th>molecule_name</th>\n",
       "      <th>atom_index</th>\n",
       "      <th>atom</th>\n",
       "      <th>x</th>\n",
       "      <th>y</th>\n",
       "      <th>z</th>\n",
       "      <th>int_atom</th>\n",
       "    </tr>\n",
       "  </thead>\n",
       "  <tbody>\n",
       "    <tr>\n",
       "      <th>2358656</th>\n",
       "      <td>dsgdb9nsd_133885</td>\n",
       "      <td>15</td>\n",
       "      <td>H</td>\n",
       "      <td>1.260745</td>\n",
       "      <td>-1.246754</td>\n",
       "      <td>-1.906767</td>\n",
       "      <td>2</td>\n",
       "    </tr>\n",
       "  </tbody>\n",
       "</table>\n",
       "</div>"
      ],
      "text/plain": [
       "            molecule_name  atom_index atom         x         y         z  \\\n",
       "2358656  dsgdb9nsd_133885          15    H  1.260745 -1.246754 -1.906767   \n",
       "\n",
       "         int_atom  \n",
       "2358656         2  "
      ]
     },
     "execution_count": 215,
     "metadata": {},
     "output_type": "execute_result"
    }
   ],
   "source": [
    "structures.tail(1)"
   ]
  },
  {
   "cell_type": "code",
   "execution_count": 232,
   "metadata": {},
   "outputs": [],
   "source": [
    "def _worker(item):\n",
    "    idx = item[0]\n",
    "    molecule_name = item[1]\n",
    "    y_group_mean = train[train['molecule_name']==molecule_name]['scalar_coupling_constant'].mean()\n",
    "    return {'idx':idx, 'y_group_mean':y_group_mean}\n",
    "\n",
    "def y_mean_std(molecule_names=['dsgdb9nsd_000007', 'dsgdb9nsd_000008']):\n",
    "    N_ = len(molecule_names)\n",
    "    segment = N_//100\n",
    "    df_ = pd.DataFrame()\n",
    "    for start in tqdm_notebook(range(0, N_, segment)):\n",
    "        end = start+segment if start+segment < N_ else N_\n",
    "        res = Parallel(_worker,{}).run(zip(range(start,end,1),molecule_names[start:end]), n_jobs=6)\n",
    "        df_ = pd.concat([df_, pd.DataFrame(res)], axis=0)\n",
    "    df_ = df_.sort_values(by=['idx'])\n",
    "    df_ = df_.reset_index(drop=True)\n",
    "    return df_"
   ]
  },
  {
   "cell_type": "code",
   "execution_count": 233,
   "metadata": {},
   "outputs": [
    {
     "data": {
      "application/vnd.jupyter.widget-view+json": {
       "model_id": "fc4084dc31bd4a2aab5846144f59f976",
       "version_major": 2,
       "version_minor": 0
      },
      "text/plain": [
       "HBox(children=(IntProgress(value=0, max=101), HTML(value='')))"
      ]
     },
     "metadata": {},
     "output_type": "display_data"
    },
    {
     "data": {
      "text/plain": [
       "(16.84314632949583, 4.054417583301291)"
      ]
     },
     "execution_count": 233,
     "metadata": {},
     "output_type": "execute_result"
    }
   ],
   "source": [
    "df_ = y_mean_std(train.molecule_name.unique())\n",
    "y_mean, y_std = df_.y_group_mean.mean(), df_.y_group_mean.std()\n",
    "y_mean, y_std"
   ]
  },
  {
   "cell_type": "code",
   "execution_count": 3,
   "metadata": {},
   "outputs": [],
   "source": [
    "y_mean, y_std = 16.84314632949583, 4.054417583301291"
   ]
  },
  {
   "cell_type": "code",
   "execution_count": 13,
   "metadata": {},
   "outputs": [],
   "source": [
    "# sns.distplot((df_.y_group_mean-y_mean)/y_std, bins=100)"
   ]
  },
  {
   "cell_type": "code",
   "execution_count": 29,
   "metadata": {},
   "outputs": [],
   "source": [
    "def _worker(item, df_bonds, df_structures, y_mean=0, y_std=1):\n",
    "    \n",
    "    has_y = 'scalar_coupling_constant' in df_bonds.columns\n",
    "    \n",
    "    idx = item[0]\n",
    "    molecule_name = item[1]\n",
    "    \n",
    "\n",
    "    \n",
    "    x = torch.tensor(df_structures[df_structures['molecule_name']==molecule_name].sort_values(by=['atom_index'])[['int_atom']].values, dtype=torch.float)\n",
    "    pos = torch.tensor(df_structures[df_structures['molecule_name']==molecule_name].sort_values(by=['atom_index'])[['x','y','z']].values, dtype=torch.float)\n",
    "\n",
    "    edge_index = []\n",
    "    edge_attr = []\n",
    "\n",
    "    df_molecule_i = df_bonds[df_bonds['molecule_name']==molecule_name]\n",
    "\n",
    "    if has_y:\n",
    "        y_molecule_mean = (df_molecule_i['scalar_coupling_constant'].mean()-y_mean)/y_std\n",
    "        y = torch.tensor([y_molecule_mean], dtype=torch.float)\n",
    "\n",
    "    for idx, row in df_molecule_i.iterrows():\n",
    "        edge_index.append([row['atom_index_0'], row['atom_index_1']])\n",
    "        edge_index.append([row['atom_index_1'], row['atom_index_0']])\n",
    "        edge_attr.append([row['type0'], row['int_type1']])\n",
    "        edge_attr.append([row['type0'], row['int_type1']])\n",
    "\n",
    "    edge_index = torch.tensor(edge_index, dtype=torch.long)\n",
    "    edge_attr = torch.tensor(edge_attr, dtype=torch.float)\n",
    "    if has_y:\n",
    "        data = Data(x=x, edge_index=edge_index.t().contiguous(), pos=pos, edge_attr=edge_attr, y=y)\n",
    "    else:\n",
    "        data = Data(x=x, edge_index=edge_index.t().contiguous(), pos=pos, edge_attr=edge_attr)\n",
    "    return {'idx':idx, 'molecule_name':molecule_name, 'data':data}\n",
    "\n",
    "def generate_datalist(df_bonds, df_structures, molecule_names=['dsgdb9nsd_000007', 'dsgdb9nsd_000008'], y_mean=0, y_std=1, path='../data/feats/datalist.pkl'):\n",
    "\n",
    "    \n",
    "    N_ = len(molecule_names)\n",
    "    segment = N_//100\n",
    "    \n",
    "    if os.path.exists(path):\n",
    "        df_ = pd.read_pickle(path)\n",
    "        data_list = list(df_.T.to_dict().values())\n",
    "        start_point = df_.shape[0]\n",
    "    else:\n",
    "        df_ = pd.DataFrame()\n",
    "        data_list = []\n",
    "        start_point = -1\n",
    "    \n",
    "    print(start_point)\n",
    "    for item in tqdm_notebook(enumerate(molecule_names), total=N_):\n",
    "        if item[0]<=start_point:\n",
    "            continue\n",
    "        d_ = _worker(item, **{'df_bonds':df_bonds, 'df_structures':df_structures, 'y_mean':y_mean, 'y_std':y_std})\n",
    "        data_list.append(d_)\n",
    "        if item[0]%segment==0:\n",
    "            pd.DataFrame(data_list).to_pickle(path)\n",
    "        \n",
    "    df_ = pd.DataFrame(data_list)\n",
    "    df_ = df_.sort_values(by=['idx'])\n",
    "    df_ = df_.reset_index(drop=True)\n",
    "    df_.to_pickle(path)\n",
    "    return df_\n",
    "    "
   ]
  },
  {
   "cell_type": "code",
   "execution_count": 31,
   "metadata": {},
   "outputs": [
    {
     "name": "stdout",
     "output_type": "stream",
     "text": [
      "64601\n"
     ]
    },
    {
     "data": {
      "application/vnd.jupyter.widget-view+json": {
       "model_id": "d380a2912b8542929a44605ad6adc165",
       "version_major": 2,
       "version_minor": 0
      },
      "text/plain": [
       "HBox(children=(IntProgress(value=0, max=85003), HTML(value='')))"
      ]
     },
     "metadata": {},
     "output_type": "display_data"
    },
    {
     "name": "stdout",
     "output_type": "stream",
     "text": [
      "\n"
     ]
    }
   ],
   "source": [
    "df_data_train = generate_datalist(train, structures, molecule_names=molecule_names, y_mean=y_mean, y_std=y_std)\n",
    "df_data_train = df_data_train.reset_index(drop=True)\n",
    "df_data_train = df_data_train.drop(columns=['idx'])"
   ]
  },
  {
   "cell_type": "code",
   "execution_count": 45,
   "metadata": {},
   "outputs": [],
   "source": [
    "# df_data_train.to_pickle('../data/feats/datalist.pkl')"
   ]
  },
  {
   "cell_type": "code",
   "execution_count": 4,
   "metadata": {},
   "outputs": [],
   "source": [
    "df_data_train = pd.read_pickle('../data/feats/datalist.pkl')"
   ]
  },
  {
   "cell_type": "code",
   "execution_count": 5,
   "metadata": {},
   "outputs": [],
   "source": [
    "molecule_names = df_data_train.molecule_name.unique().tolist()"
   ]
  },
  {
   "cell_type": "code",
   "execution_count": 117,
   "metadata": {},
   "outputs": [],
   "source": [
    "# df_data_train['y'] = df_data_train['data'].apply(lambda x : x.y.item())"
   ]
  },
  {
   "cell_type": "code",
   "execution_count": 141,
   "metadata": {},
   "outputs": [
    {
     "data": {
      "text/plain": [
       "<matplotlib.axes._subplots.AxesSubplot at 0x7fa248c309b0>"
      ]
     },
     "execution_count": 141,
     "metadata": {},
     "output_type": "execute_result"
    },
    {
     "data": {
      "image/png": "[encoded data removed]",
      "text/plain": [
       "<Figure size 1800x360 with 1 Axes>"
      ]
     },
     "metadata": {},
     "output_type": "display_data"
    }
   ],
   "source": [
    "fig = plt.figure(figsize=(25,5))\n",
    "sns.distplot(df_data_train['y']*y_std+y_mean)"
   ]
  },
  {
   "cell_type": "code",
   "execution_count": 6,
   "metadata": {},
   "outputs": [
    {
     "name": "stdout",
     "output_type": "stream",
     "text": [
      "85003\n"
     ]
    }
   ],
   "source": [
    "print(len(molecule_names))\n",
    "test_molecule_names = molecule_names[56668:]\n",
    "train_molecule_names = molecule_names[:56668]"
   ]
  },
  {
   "cell_type": "code",
   "execution_count": 7,
   "metadata": {},
   "outputs": [],
   "source": [
    "def generate_dataLoader(df, molecule_names, shuffle=True, batch_size=32, **kwargs):\n",
    "    data_list = df[df['molecule_name'].isin(molecule_names)]['data'].tolist()\n",
    "    return DataLoader(data_list, batch_size=batch_size, shuffle=shuffle, **kwargs)"
   ]
  },
  {
   "cell_type": "code",
   "execution_count": 8,
   "metadata": {},
   "outputs": [],
   "source": [
    "def process(df, param, message, test_loader=None, trial=None):\n",
    "    \n",
    "    start_datetime = datetime.datetime.now()\n",
    "    \n",
    "    folds = KFold(**param['kfold'])\n",
    "    splits = list(folds.split(train_molecule_names))\n",
    "    \n",
    "    model_cls = eval(param['algorithm']['cls'])\n",
    "    molecule_names = param['molecule_names']\n",
    "    his = []\n",
    "\n",
    "    for fold_n, (train_index, valid_index) in enumerate(splits):\n",
    "\n",
    "        train_loader = generate_dataLoader(df, molecule_names=[molecule_names[i] for i in train_index], batch_size=32)\n",
    "        valid_loader = generate_dataLoader(df, molecule_names=[molecule_names[i] for i in valid_index], batch_size=1)\n",
    "\n",
    "        model = model_cls(**param['algorithm']['init'])\n",
    "        his = model.fit(train_loader, valid_loader)\n",
    "        y_pred_valid = model.predict(valid_loader)\n",
    "        y_pred_test = model.predict(test_loader)\n",
    "        his.append({'fold_n':fold_n, 'his':his, 'y_pred_valid':y_pred_valid, 'y_pred_test':y_pred_test, 'valid_index':valid_index})\n",
    "    \n",
    "    df_his = pd.DataFrame(his)\n",
    "    trial_i = {'datetime': start_datetime, 'message': message, 'his':df_his, 'param': param.copy()}\n",
    "    \n",
    "    return df_his"
   ]
  },
  {
   "cell_type": "code",
   "execution_count": 15,
   "metadata": {},
   "outputs": [],
   "source": [
    "# torch.cuda.empty_cache()"
   ]
  },
  {
   "cell_type": "code",
   "execution_count": 11,
   "metadata": {},
   "outputs": [],
   "source": [
    "param = {\n",
    "    'molecule_names':train_molecule_names,\n",
    "    'kfold': {\n",
    "        'n_splits': 5,\n",
    "        'shuffle': True,\n",
    "        'random_state': 42,\n",
    "    },\n",
    "    'algorithm': {\n",
    "        'cls': 'QM9Net',\n",
    "        'init':{\n",
    "            'num_node_features':1,\n",
    "            'num_edge_features':2,\n",
    "            'dim':8,\n",
    "            'nn_layer1_output_dim':16,\n",
    "            'y_mean': y_mean,\n",
    "            'y_std': y_std\n",
    "        },\n",
    "        'fit':{\n",
    "            'epoch':50\n",
    "        }\n",
    "    }\n",
    "}\n",
    "test_loader = generate_dataLoader(df_data_train, molecule_names=test_molecule_names, batch_size=1)"
   ]
  },
  {
   "cell_type": "code",
   "execution_count": null,
   "metadata": {},
   "outputs": [],
   "source": [
    "trial = []\n",
    "df_his = process(df_data_train, param, 'no message', test_loader=test_loader, trial=trial)"
   ]
  },
  {
   "cell_type": "code",
   "execution_count": null,
   "metadata": {},
   "outputs": [],
   "source": [
    "pd.DataFrame(trial).to_pickle('../data/trial/QM9Net.pkl')"
   ]
  },
  {
   "cell_type": "code",
   "execution_count": 10,
   "metadata": {},
   "outputs": [],
   "source": [
    "class QM9Net(object):\n",
    "    \n",
    "    def __init__(self, num_node_features, num_edge_features, dim, nn_layer1_output_dim, y_std, y_mean):\n",
    "        \n",
    "        self.y_std = y_std\n",
    "        self.y_mean = y_mean\n",
    "        self.num_node_features = num_node_features\n",
    "        self.num_edge_features = num_edge_features\n",
    "        self.dim = dim\n",
    "        self.nn_layer1_output_dim = nn_layer1_output_dim\n",
    "        self.device = torch.device('cuda' if torch.cuda.is_available() else 'cpu')\n",
    "        self.model = Net(num_node_features, num_edge_features, dim, nn_layer1_output_dim).to(self.device)\n",
    "        self.optimizer = torch.optim.Adam(self.model.parameters(), lr=0.001)\n",
    "        self.scheduler = torch.optim.lr_scheduler.ReduceLROnPlateau(self.optimizer, mode='min', factor=0.7, patience=5, min_lr=0.00001)\n",
    "        return\n",
    "\n",
    "\n",
    "    def fit(self, loader, val_loader, test_loader=None, epoch=100, verbose=1):\n",
    "        \n",
    "        best_val_error = None\n",
    "        his = []\n",
    "        for epoch in range(1, epoch+1):\n",
    "            lr = self.scheduler.optimizer.param_groups[0]['lr']\n",
    "            loss = self._train(loader, self.device, self.model, self.optimizer)\n",
    "            val_loss = np.mean(self._evaluate(val_loader))\n",
    "            if type(test_loader) != type(None):\n",
    "                test_loss = np.mean(self._evaluate(test_loader))\n",
    "            self.scheduler.step(np.mean(val_loss))\n",
    "            his.append({'epoch':epoch, 'lr':lr, 'loss':loss, 'val_loss':val_loss})\n",
    "            if verbose>0:\n",
    "                print('Epoch: {:03d}, LR: {:7f}, Loss: {:.7f}, Validation Loss: {:.7f}'.format(epoch, lr, loss, val_loss))\n",
    "        return his\n",
    "            \n",
    "    def predict(self, loader):\n",
    "        \n",
    "        self.model.eval()\n",
    "        y = []\n",
    "        for data in loader:\n",
    "            data = data.to(self.device)\n",
    "            y.append(self.model(data)*self.y_std + self.y_mean)\n",
    "        return np.array(y)\n",
    "        \n",
    "    def _evaluate(self, loader):\n",
    "    \n",
    "        self.model.eval()\n",
    "        error = 0\n",
    "        errors = []\n",
    "        for data in loader:\n",
    "            data = data.to(self.device)\n",
    "            errors.append((self.model(data)*self.y_std  - data.y*self.y_std).abs().sum().item())  # MAE\n",
    "        return np.array(errors)\n",
    "    \n",
    "    def _train(self, loader, device, model, optimizer):\n",
    "        \n",
    "        model.train()\n",
    "        loss_all = 0\n",
    "        for i, data in enumerate(loader):\n",
    "            data = data.to(device)\n",
    "            optimizer.zero_grad()\n",
    "            loss = F.mse_loss(model(data), data.y)\n",
    "            loss.backward()\n",
    "            loss_all += loss.item() * data.num_graphs\n",
    "            optimizer.step()\n",
    "        return loss_all / len(loader.dataset)\n",
    "    \n",
    "class Net(torch.nn.Module):\n",
    "\n",
    "    def __init__(self, num_node_features, num_edge_features, dim, nn_layer1_output_dim):\n",
    "\n",
    "        super(Net, self).__init__()    \n",
    "        self.lin0 = torch.nn.Linear(num_node_features, dim)\n",
    "        nn = Sequential(Linear(num_edge_features, nn_layer1_output_dim), ReLU(), Linear(nn_layer1_output_dim, dim * dim))\n",
    "        self.conv = NNConv(dim, dim, nn, aggr='mean', root_weight=False)\n",
    "        self.gru = GRU(dim, dim)\n",
    "        self.set2set = Set2Set(dim, processing_steps=3)\n",
    "        self.lin1 = torch.nn.Linear(2 * dim, dim)\n",
    "        self.lin2 = torch.nn.Linear(dim, 1)\n",
    "        return\n",
    "\n",
    "\n",
    "    def forward(self, data):\n",
    "        out = F.relu(self.lin0(data.x))\n",
    "        h = out.unsqueeze(0)\n",
    "\n",
    "        for i in range(3):\n",
    "            m = F.relu(self.conv(out, data.edge_index, data.edge_attr))\n",
    "            out, h = self.gru(m.unsqueeze(0), h)\n",
    "            out = out.squeeze(0)\n",
    "\n",
    "        out = self.set2set(out, data.batch)\n",
    "        out = F.relu(self.lin1(out))\n",
    "        out = self.lin2(out)\n",
    "        out = out.view(-1)\n",
    "        return out"
   ]
  },
  {
   "cell_type": "code",
   "execution_count": null,
   "metadata": {},
   "outputs": [],
   "source": []
  }
 ],
 "metadata": {
  "kernelspec": {
   "display_name": "Environment (conda_tensorflow_gpu_p36)",
   "language": "python",
   "name": "conda_tensorflow_gpu_p36"
  },
  "language_info": {
   "codemirror_mode": {
    "name": "ipython",
    "version": 3
   },
   "file_extension": ".py",
   "mimetype": "text/x-python",
   "name": "python",
   "nbconvert_exporter": "python",
   "pygments_lexer": "ipython3",
   "version": "3.6.5"
  }
 },
 "nbformat": 4,
 "nbformat_minor": 2
}
