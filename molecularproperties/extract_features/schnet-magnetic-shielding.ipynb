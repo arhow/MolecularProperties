{
 "cells": [
  {
   "cell_type": "code",
   "execution_count": 1,
   "metadata": {},
   "outputs": [
    {
     "data": {
      "text/html": [
       "<style>\n",
       "   div#notebook-container    { width: 95%; }\n",
       "   div#menubar-container     { width: 65%; }\n",
       "   div#maintoolbar-container { width: 99%; }\n",
       "</style>"
      ],
      "text/plain": [
       "<IPython.core.display.HTML object>"
      ]
     },
     "metadata": {},
     "output_type": "display_data"
    }
   ],
   "source": [
    "%%HTML\n",
    "<style>\n",
    "   div#notebook-container    { width: 95%; }\n",
    "   div#menubar-container     { width: 65%; }\n",
    "   div#maintoolbar-container { width: 99%; }\n",
    "</style>"
   ]
  },
  {
   "cell_type": "code",
   "execution_count": 5,
   "metadata": {},
   "outputs": [
    {
     "data": {
      "text/plain": [
       "6627"
      ]
     },
     "execution_count": 5,
     "metadata": {},
     "output_type": "execute_result"
    }
   ],
   "source": [
    "import os\n",
    "os.getpid()"
   ]
  },
  {
   "cell_type": "code",
   "execution_count": 2,
   "metadata": {},
   "outputs": [],
   "source": [
    "import os\n",
    "import pandas as pd\n",
    "import numpy as np\n",
    "\n",
    "from ase import Atoms\n",
    "from ase.db import connect\n",
    "import schnetpack\n",
    "import pandas as pd\n",
    "\n",
    "import torch\n",
    "import torch.nn.functional as F\n",
    "from torch.optim import Adam\n",
    "\n",
    "import schnetpack as spk\n",
    "import schnetpack.atomistic as atm\n",
    "import schnetpack.representation as rep\n",
    "from schnetpack.datasets import *\n",
    "from schnetpack.data import Structure"
   ]
  },
  {
   "cell_type": "code",
   "execution_count": 3,
   "metadata": {},
   "outputs": [],
   "source": [
    "def reduce_mem_usage(df, verbose=True):\n",
    "    numerics = ['int16', 'int32', 'int64', 'float16', 'float32', 'float64']\n",
    "    start_mem = df.memory_usage().sum() / 1024**2    \n",
    "    for col in df.columns:\n",
    "        col_type = df[col].dtypes\n",
    "        if col_type in numerics:\n",
    "            c_min = df[col].min()\n",
    "            c_max = df[col].max()\n",
    "            if str(col_type)[:3] == 'int':\n",
    "                if c_min > np.iinfo(np.int8).min and c_max < np.iinfo(np.int8).max:\n",
    "                    df[col] = df[col].astype(np.int8)\n",
    "                elif c_min > np.iinfo(np.int16).min and c_max < np.iinfo(np.int16).max:\n",
    "                    df[col] = df[col].astype(np.int16)\n",
    "                elif c_min > np.iinfo(np.int32).min and c_max < np.iinfo(np.int32).max:\n",
    "                    df[col] = df[col].astype(np.int32)\n",
    "                elif c_min > np.iinfo(np.int64).min and c_max < np.iinfo(np.int64).max:\n",
    "                    df[col] = df[col].astype(np.int64)  \n",
    "            else:\n",
    "                if c_min > np.finfo(np.float16).min and c_max < np.finfo(np.float16).max:\n",
    "                    df[col] = df[col].astype(np.float16)\n",
    "                elif c_min > np.finfo(np.float32).min and c_max < np.finfo(np.float32).max:\n",
    "                    df[col] = df[col].astype(np.float32)\n",
    "                else:\n",
    "                    df[col] = df[col].astype(np.float64)    \n",
    "    end_mem = df.memory_usage().sum() / 1024**2\n",
    "    if verbose: print('Mem. usage decreased to {:5.2f} Mb ({:.1f}% reduction)'.format(end_mem, 100 * (start_mem - end_mem) / start_mem))\n",
    "    return df"
   ]
  },
  {
   "cell_type": "code",
   "execution_count": 4,
   "metadata": {},
   "outputs": [
    {
     "data": {
      "text/plain": [
       "['sample_submission.csv',\n",
       " 'magnetic_shielding_tensors.csv',\n",
       " 'potential_energy.csv',\n",
       " 'scalar_coupling_contributions.csv',\n",
       " 'dipole_moments.csv',\n",
       " 'mulliken_charges.csv',\n",
       " 'train.csv',\n",
       " 'test.csv',\n",
       " 'structures.csv',\n",
       " 'structures']"
      ]
     },
     "execution_count": 4,
     "metadata": {},
     "output_type": "execute_result"
    }
   ],
   "source": [
    "file_folder =  '../../data/input'\n",
    "os.listdir(file_folder)"
   ]
  },
  {
   "cell_type": "code",
   "execution_count": 5,
   "metadata": {},
   "outputs": [],
   "source": [
    "train = pd.read_csv(f'{file_folder}/train.csv')\n",
    "test = pd.read_csv(f'{file_folder}/test.csv')\n",
    "magnetic_shielding_tensors = pd.read_csv(f'{file_folder}/magnetic_shielding_tensors.csv')\n",
    "dipole_moments = pd.read_csv(f'{file_folder}/dipole_moments.csv')\n",
    "mulliken_charges = pd.read_csv(f'{file_folder}/mulliken_charges.csv')\n",
    "potential_energy = pd.read_csv(f'{file_folder}/potential_energy.csv')\n",
    "scalar_coupling_contributions = pd.read_csv(f'{file_folder}/scalar_coupling_contributions.csv')\n",
    "structures = pd.read_csv(f'{file_folder}/structures.csv')"
   ]
  },
  {
   "cell_type": "code",
   "execution_count": 6,
   "metadata": {},
   "outputs": [],
   "source": [
    "def gen_magnetic_shielding_parameters(magnetic_shielding_tensors, path='magnetic_shielding_parameters.pkl'):\n",
    "\n",
    "    if os.path.exists(path):\n",
    "        magnetic_shielding_parameters = pd.read_pickle(path)\n",
    "        return magnetic_shielding_parameters\n",
    "\n",
    "    x = magnetic_shielding_tensors.columns.values[2:]\n",
    "    x = magnetic_shielding_tensors[x].values\n",
    "    x = x.reshape(-1,3,3)\n",
    "    x = x + np.transpose(x,(0,2,1))\n",
    "    x = 0.5 * x\n",
    "    w, v = np.linalg.eigh(x)\n",
    "\n",
    "    sigma_iso = np.sum(w, axis=1)/3 \n",
    "    omega = w[:,2] - w[:,0]\n",
    "    kappa = 3 * (sigma_iso - w[:,1])/omega\n",
    "\n",
    "    magnetic_shielding_parameters = magnetic_shielding_tensors[magnetic_shielding_tensors.columns.values[:2]]\n",
    "    magnetic_shielding_parameters = pd.DataFrame(magnetic_shielding_parameters)\n",
    "    magnetic_shielding_parameters[\"sigma_iso\"] = sigma_iso\n",
    "    magnetic_shielding_parameters[\"omega\"] = omega\n",
    "    magnetic_shielding_parameters[\"kappa\"] = kappa\n",
    "    magnetic_shielding_parameters.to_pickle(path)\n",
    "    return magnetic_shielding_parameters\n",
    "\n",
    "\n",
    "def load_dataset(dataset_molecule_names, champs_path='CHAMPS_train.db'):\n",
    "    def create_db(db_path, molecule_names):\n",
    "        with connect(db_path) as db:\n",
    "            for name in molecule_names:\n",
    "                mol = molecules.get_group(name)\n",
    "                atoms = Atoms(symbols=mol.atom.values, positions=[(row.x,row.y,row.z) for row in mol.itertuples()])\n",
    "                try:\n",
    "                    mol_msp = msp.get_group(name)\n",
    "                    sigma_iso = mol_msp['sigma_iso'].values.reshape(-1,1)\n",
    "                    omega = mol_msp['omega'].values.reshape(-1,1)\n",
    "                    kappa = mol_msp['kappa'].values.reshape(-1,1)\n",
    "                except KeyError:\n",
    "                    sigma_iso, omega, kappa = [None] * 3\n",
    "                db.write(atoms, name=name, data=dict(sigma_iso=sigma_iso, omega=omega, kappa=kappa))\n",
    "\n",
    "    if not os.path.exists(champs_path):\n",
    "        create_db(db_path=champs_path, molecule_names=dataset_molecule_names)    \n",
    "    dataset = schnetpack.data.AtomsData(champs_path, properties=['sigma_iso', 'omega', 'kappa'])\n",
    "    return dataset"
   ]
  },
  {
   "cell_type": "code",
   "execution_count": 7,
   "metadata": {},
   "outputs": [],
   "source": [
    "magnetic_shielding_parameters = gen_magnetic_shielding_parameters(magnetic_shielding_tensors)\n",
    "train_molecule_names = train.molecule_name.unique()\n",
    "molecules = pd.read_csv('../../data/input/structures.csv')\n",
    "molecules = molecules.groupby('molecule_name')\n",
    "msp = magnetic_shielding_parameters.groupby('molecule_name')\n",
    "dataset = load_dataset(dataset_molecule_names=train_molecule_names)"
   ]
  },
  {
   "cell_type": "code",
   "execution_count": 8,
   "metadata": {},
   "outputs": [
    {
     "data": {
      "text/plain": [
       "(85003,)"
      ]
     },
     "execution_count": 8,
     "metadata": {},
     "output_type": "execute_result"
    }
   ],
   "source": [
    "magnetic_shielding_parameters.molecule_name.unique().shape"
   ]
  },
  {
   "cell_type": "code",
   "execution_count": 9,
   "metadata": {},
   "outputs": [],
   "source": [
    "# import sys\n",
    "# !{sys.executable} -m pip install schnetpack"
   ]
  },
  {
   "cell_type": "code",
   "execution_count": 10,
   "metadata": {},
   "outputs": [],
   "source": [
    "class MagneticShielding(atm.Atomwise):\n",
    "    def __init__(self, property):\n",
    "        super(MagneticShielding, self).__init__(return_contributions=True)\n",
    "        self.property = property\n",
    "        \n",
    "    def forward(self, inputs):\n",
    "        result = super().forward(inputs)\n",
    "        \n",
    "        atom_mask = inputs[Structure.atom_mask].byte()\n",
    "        \n",
    "        yi = inputs[self.property]\n",
    "        yi = torch.masked_select(yi.squeeze(dim=2), atom_mask)\n",
    "        inputs[self.property+'_true'] = yi\n",
    "        \n",
    "        yi = result['yi']\n",
    "        yi = torch.masked_select(yi.squeeze(dim=2), atom_mask)\n",
    "        result[self.property+'_pred'] = yi\n",
    "        \n",
    "        return result"
   ]
  },
  {
   "cell_type": "code",
   "execution_count": 11,
   "metadata": {},
   "outputs": [],
   "source": [
    "def schnet_model(property):\n",
    "    reps = rep.SchNet(n_interactions=6)\n",
    "    output = MagneticShielding(property=property)\n",
    "    model = atm.AtomisticModel(reps, output)\n",
    "    model = model.to(device)\n",
    "    return model"
   ]
  },
  {
   "cell_type": "code",
   "execution_count": 27,
   "metadata": {},
   "outputs": [],
   "source": [
    "def train_model(property, max_epochs=500):\n",
    "    # split in train and val\n",
    "    n_dataset = len(dataset)\n",
    "    print(n_dataset)\n",
    "    n_val = n_dataset // 10\n",
    "    train_data, val_data, test_data = dataset.create_splits(n_dataset-n_val*2, n_val)\n",
    "    train_loader = spk.data.AtomsLoader(train_data, batch_size=64, num_workers=2)\n",
    "    val_loader = spk.data.AtomsLoader(val_data, batch_size=64, num_workers=2)\n",
    "\n",
    "    # create model\n",
    "    model = schnet_model(property)\n",
    "\n",
    "    # create trainer\n",
    "    target_key = property+'_true'\n",
    "    output_key = property+'_pred'\n",
    "    opt = Adam(model.parameters(), lr=1e-4)\n",
    "    loss = lambda b, p: F.mse_loss(p[output_key], b[target_key])\n",
    "    metrics = [\n",
    "        spk.metrics.MeanAbsoluteError(target_key, output_key, name='MAE_'+property),\n",
    "        spk.metrics.RootMeanSquaredError(target_key, output_key, name='RMSE_'+property),\n",
    "    ]\n",
    "    hooks = [\n",
    "        spk.train.MaxEpochHook(max_epochs),\n",
    "        spk.train.CSVHook(property+'/log', metrics, every_n_epochs=1),\n",
    "    ]\n",
    "    trainer = spk.train.Trainer(property+'/output', model, loss,\n",
    "                            opt, train_loader, val_loader, hooks=hooks)\n",
    "\n",
    "    # start training\n",
    "    trainer.train(device)\n",
    "    \n",
    "    # evaluation\n",
    "    model.load_state_dict(torch.load(property+'/output/best_model'))\n",
    "    test_loader = spk.data.AtomsLoader(test_data, batch_size=256, num_workers=2)\n",
    "    model.eval()\n",
    "\n",
    "    df = pd.DataFrame()\n",
    "    df['metric'] = ['MAE', 'RMSE']\n",
    "    df['training'] = evaluate_dataset(metrics, model, train_loader, device)\n",
    "    df['validation'] = evaluate_dataset(metrics, model, val_loader, device)\n",
    "    df['test'] = evaluate_dataset(metrics, model, test_loader, device)\n",
    "    display(df)\n",
    "    \n",
    "    return test_data"
   ]
  },
  {
   "cell_type": "code",
   "execution_count": 28,
   "metadata": {},
   "outputs": [],
   "source": [
    "# This function comes from the following script:\n",
    "# https://github.com/atomistic-machine-learning/schnetpack/blob/v0.2.1/src/scripts/schnetpack_qm9.py\n",
    "def evaluate_dataset(metrics, model, loader, device):\n",
    "    for metric in metrics:\n",
    "        metric.reset()\n",
    "\n",
    "    with torch.no_grad():\n",
    "        for batch in loader:\n",
    "            batch = {\n",
    "                k: v.to(device)\n",
    "                for k, v in batch.items()\n",
    "            }\n",
    "            result = model(batch)\n",
    "\n",
    "            for metric in metrics:\n",
    "                metric.add_batch(batch, result)\n",
    "\n",
    "    results = [\n",
    "        metric.aggregate() for metric in metrics\n",
    "    ]\n",
    "    return results"
   ]
  },
  {
   "cell_type": "code",
   "execution_count": 29,
   "metadata": {},
   "outputs": [],
   "source": [
    "def show_history(property):\n",
    "    df = pd.read_csv(property+'/log/log.csv')\n",
    "    display(df.tail())\n",
    "    max_value = None # df['RMSE_'+property].min()*5\n",
    "    _ = df[['MAE_'+property,'RMSE_'+property]].plot(ylim=(0,max_value))"
   ]
  },
  {
   "cell_type": "code",
   "execution_count": 30,
   "metadata": {},
   "outputs": [],
   "source": [
    "def test_prediction(dataset, property):\n",
    "    # create model\n",
    "    model = schnet_model(property)\n",
    "    \n",
    "    # load best parameters\n",
    "    model.load_state_dict(torch.load(property+'/output/best_model'))\n",
    "    loader = spk.data.AtomsLoader(dataset, batch_size=256, num_workers=2)\n",
    "    model.eval()\n",
    "    \n",
    "    # predict shielding parameters\n",
    "    targets = []\n",
    "    predictions = []\n",
    "    with torch.no_grad():\n",
    "        for batch in loader:\n",
    "            batch = {\n",
    "                k: v.to(device)\n",
    "                for k, v in batch.items()\n",
    "            }\n",
    "            result = model(batch)\n",
    "            targets += batch[property+'_true'].tolist()\n",
    "            predictions += result[property+'_pred'].tolist()\n",
    "    return targets, predictions"
   ]
  },
  {
   "cell_type": "code",
   "execution_count": 31,
   "metadata": {},
   "outputs": [],
   "source": [
    "def show_predictions(dataset, property):\n",
    "    targets, predictions = test_prediction(dataset, property)\n",
    "    df_pred = pd.DataFrame()\n",
    "    df_pred['Target'] = targets\n",
    "    df_pred['Prediction'] = predictions\n",
    "    df_pred.plot.scatter(x='Target', y='Prediction', title=property)\n",
    "    return df_pred"
   ]
  },
  {
   "cell_type": "code",
   "execution_count": 32,
   "metadata": {},
   "outputs": [
    {
     "name": "stdout",
     "output_type": "stream",
     "text": [
      "sigma_iso\n",
      "85003\n"
     ]
    },
    {
     "data": {
      "text/html": [
       "<div>\n",
       "<style scoped>\n",
       "    .dataframe tbody tr th:only-of-type {\n",
       "        vertical-align: middle;\n",
       "    }\n",
       "\n",
       "    .dataframe tbody tr th {\n",
       "        vertical-align: top;\n",
       "    }\n",
       "\n",
       "    .dataframe thead th {\n",
       "        text-align: right;\n",
       "    }\n",
       "</style>\n",
       "<table border=\"1\" class=\"dataframe\">\n",
       "  <thead>\n",
       "    <tr style=\"text-align: right;\">\n",
       "      <th></th>\n",
       "      <th>metric</th>\n",
       "      <th>training</th>\n",
       "      <th>validation</th>\n",
       "      <th>test</th>\n",
       "    </tr>\n",
       "  </thead>\n",
       "  <tbody>\n",
       "    <tr>\n",
       "      <th>0</th>\n",
       "      <td>MAE</td>\n",
       "      <td>5.692817</td>\n",
       "      <td>5.739599</td>\n",
       "      <td>5.685256</td>\n",
       "    </tr>\n",
       "    <tr>\n",
       "      <th>1</th>\n",
       "      <td>RMSE</td>\n",
       "      <td>11.106090</td>\n",
       "      <td>11.905205</td>\n",
       "      <td>11.062726</td>\n",
       "    </tr>\n",
       "  </tbody>\n",
       "</table>\n",
       "</div>"
      ],
      "text/plain": [
       "  metric   training  validation       test\n",
       "0    MAE   5.692817    5.739599   5.685256\n",
       "1   RMSE  11.106090   11.905205  11.062726"
      ]
     },
     "metadata": {},
     "output_type": "display_data"
    },
    {
     "data": {
      "text/html": [
       "<div>\n",
       "<style scoped>\n",
       "    .dataframe tbody tr th:only-of-type {\n",
       "        vertical-align: middle;\n",
       "    }\n",
       "\n",
       "    .dataframe tbody tr th {\n",
       "        vertical-align: top;\n",
       "    }\n",
       "\n",
       "    .dataframe thead th {\n",
       "        text-align: right;\n",
       "    }\n",
       "</style>\n",
       "<table border=\"1\" class=\"dataframe\">\n",
       "  <thead>\n",
       "    <tr style=\"text-align: right;\">\n",
       "      <th></th>\n",
       "      <th>Time</th>\n",
       "      <th>Learning rate</th>\n",
       "      <th>Train loss</th>\n",
       "      <th>Validation loss</th>\n",
       "      <th>MAE_sigma_iso</th>\n",
       "      <th>RMSE_sigma_iso</th>\n",
       "    </tr>\n",
       "  </thead>\n",
       "  <tbody>\n",
       "    <tr>\n",
       "      <th>45</th>\n",
       "      <td>1.565250e+09</td>\n",
       "      <td>0.0001</td>\n",
       "      <td>8492.307022</td>\n",
       "      <td>90.058972</td>\n",
       "      <td>4.644823</td>\n",
       "      <td>9.467138</td>\n",
       "    </tr>\n",
       "    <tr>\n",
       "      <th>46</th>\n",
       "      <td>1.565250e+09</td>\n",
       "      <td>0.0001</td>\n",
       "      <td>8282.059177</td>\n",
       "      <td>87.795876</td>\n",
       "      <td>4.594982</td>\n",
       "      <td>9.347694</td>\n",
       "    </tr>\n",
       "    <tr>\n",
       "      <th>47</th>\n",
       "      <td>1.565250e+09</td>\n",
       "      <td>0.0001</td>\n",
       "      <td>8077.765785</td>\n",
       "      <td>85.355350</td>\n",
       "      <td>4.546069</td>\n",
       "      <td>9.217090</td>\n",
       "    </tr>\n",
       "    <tr>\n",
       "      <th>48</th>\n",
       "      <td>1.565250e+09</td>\n",
       "      <td>0.0001</td>\n",
       "      <td>7881.010014</td>\n",
       "      <td>83.092205</td>\n",
       "      <td>4.497587</td>\n",
       "      <td>9.094334</td>\n",
       "    </tr>\n",
       "    <tr>\n",
       "      <th>49</th>\n",
       "      <td>1.565251e+09</td>\n",
       "      <td>0.0001</td>\n",
       "      <td>7694.477837</td>\n",
       "      <td>80.855540</td>\n",
       "      <td>4.447851</td>\n",
       "      <td>8.971342</td>\n",
       "    </tr>\n",
       "  </tbody>\n",
       "</table>\n",
       "</div>"
      ],
      "text/plain": [
       "            Time  Learning rate   Train loss  Validation loss  MAE_sigma_iso  \\\n",
       "45  1.565250e+09         0.0001  8492.307022        90.058972       4.644823   \n",
       "46  1.565250e+09         0.0001  8282.059177        87.795876       4.594982   \n",
       "47  1.565250e+09         0.0001  8077.765785        85.355350       4.546069   \n",
       "48  1.565250e+09         0.0001  7881.010014        83.092205       4.497587   \n",
       "49  1.565251e+09         0.0001  7694.477837        80.855540       4.447851   \n",
       "\n",
       "    RMSE_sigma_iso  \n",
       "45        9.467138  \n",
       "46        9.347694  \n",
       "47        9.217090  \n",
       "48        9.094334  \n",
       "49        8.971342  "
      ]
     },
     "metadata": {},
     "output_type": "display_data"
    },
    {
     "name": "stdout",
     "output_type": "stream",
     "text": [
      "omega\n",
      "85003\n"
     ]
    },
    {
     "data": {
      "text/html": [
       "<div>\n",
       "<style scoped>\n",
       "    .dataframe tbody tr th:only-of-type {\n",
       "        vertical-align: middle;\n",
       "    }\n",
       "\n",
       "    .dataframe tbody tr th {\n",
       "        vertical-align: top;\n",
       "    }\n",
       "\n",
       "    .dataframe thead th {\n",
       "        text-align: right;\n",
       "    }\n",
       "</style>\n",
       "<table border=\"1\" class=\"dataframe\">\n",
       "  <thead>\n",
       "    <tr style=\"text-align: right;\">\n",
       "      <th></th>\n",
       "      <th>metric</th>\n",
       "      <th>training</th>\n",
       "      <th>validation</th>\n",
       "      <th>test</th>\n",
       "    </tr>\n",
       "  </thead>\n",
       "  <tbody>\n",
       "    <tr>\n",
       "      <th>0</th>\n",
       "      <td>MAE</td>\n",
       "      <td>16.957989</td>\n",
       "      <td>16.921570</td>\n",
       "      <td>16.962412</td>\n",
       "    </tr>\n",
       "    <tr>\n",
       "      <th>1</th>\n",
       "      <td>RMSE</td>\n",
       "      <td>29.822474</td>\n",
       "      <td>29.470088</td>\n",
       "      <td>29.884574</td>\n",
       "    </tr>\n",
       "  </tbody>\n",
       "</table>\n",
       "</div>"
      ],
      "text/plain": [
       "  metric   training  validation       test\n",
       "0    MAE  16.957989   16.921570  16.962412\n",
       "1   RMSE  29.822474   29.470088  29.884574"
      ]
     },
     "metadata": {},
     "output_type": "display_data"
    },
    {
     "data": {
      "text/html": [
       "<div>\n",
       "<style scoped>\n",
       "    .dataframe tbody tr th:only-of-type {\n",
       "        vertical-align: middle;\n",
       "    }\n",
       "\n",
       "    .dataframe tbody tr th {\n",
       "        vertical-align: top;\n",
       "    }\n",
       "\n",
       "    .dataframe thead th {\n",
       "        text-align: right;\n",
       "    }\n",
       "</style>\n",
       "<table border=\"1\" class=\"dataframe\">\n",
       "  <thead>\n",
       "    <tr style=\"text-align: right;\">\n",
       "      <th></th>\n",
       "      <th>Time</th>\n",
       "      <th>Learning rate</th>\n",
       "      <th>Train loss</th>\n",
       "      <th>Validation loss</th>\n",
       "      <th>MAE_omega</th>\n",
       "      <th>RMSE_omega</th>\n",
       "    </tr>\n",
       "  </thead>\n",
       "  <tbody>\n",
       "    <tr>\n",
       "      <th>51</th>\n",
       "      <td>508.329687</td>\n",
       "      <td>0.0001</td>\n",
       "      <td>46186.849564</td>\n",
       "      <td>562.323407</td>\n",
       "      <td>14.426946</td>\n",
       "      <td>23.700291</td>\n",
       "    </tr>\n",
       "    <tr>\n",
       "      <th>52</th>\n",
       "      <td>517.915929</td>\n",
       "      <td>0.0001</td>\n",
       "      <td>45068.589722</td>\n",
       "      <td>542.295300</td>\n",
       "      <td>14.456377</td>\n",
       "      <td>23.274223</td>\n",
       "    </tr>\n",
       "    <tr>\n",
       "      <th>53</th>\n",
       "      <td>527.623453</td>\n",
       "      <td>0.0001</td>\n",
       "      <td>43936.273132</td>\n",
       "      <td>533.066784</td>\n",
       "      <td>14.520654</td>\n",
       "      <td>23.075304</td>\n",
       "    </tr>\n",
       "    <tr>\n",
       "      <th>54</th>\n",
       "      <td>537.403065</td>\n",
       "      <td>0.0001</td>\n",
       "      <td>42988.169006</td>\n",
       "      <td>516.231778</td>\n",
       "      <td>14.341161</td>\n",
       "      <td>22.707861</td>\n",
       "    </tr>\n",
       "    <tr>\n",
       "      <th>55</th>\n",
       "      <td>547.176671</td>\n",
       "      <td>0.0001</td>\n",
       "      <td>42007.520981</td>\n",
       "      <td>512.266180</td>\n",
       "      <td>14.391035</td>\n",
       "      <td>22.620689</td>\n",
       "    </tr>\n",
       "  </tbody>\n",
       "</table>\n",
       "</div>"
      ],
      "text/plain": [
       "          Time  Learning rate    Train loss  Validation loss  MAE_omega  \\\n",
       "51  508.329687         0.0001  46186.849564       562.323407  14.426946   \n",
       "52  517.915929         0.0001  45068.589722       542.295300  14.456377   \n",
       "53  527.623453         0.0001  43936.273132       533.066784  14.520654   \n",
       "54  537.403065         0.0001  42988.169006       516.231778  14.341161   \n",
       "55  547.176671         0.0001  42007.520981       512.266180  14.391035   \n",
       "\n",
       "    RMSE_omega  \n",
       "51   23.700291  \n",
       "52   23.274223  \n",
       "53   23.075304  \n",
       "54   22.707861  \n",
       "55   22.620689  "
      ]
     },
     "metadata": {},
     "output_type": "display_data"
    },
    {
     "name": "stdout",
     "output_type": "stream",
     "text": [
      "kappa\n",
      "85003\n"
     ]
    },
    {
     "data": {
      "text/html": [
       "<div>\n",
       "<style scoped>\n",
       "    .dataframe tbody tr th:only-of-type {\n",
       "        vertical-align: middle;\n",
       "    }\n",
       "\n",
       "    .dataframe tbody tr th {\n",
       "        vertical-align: top;\n",
       "    }\n",
       "\n",
       "    .dataframe thead th {\n",
       "        text-align: right;\n",
       "    }\n",
       "</style>\n",
       "<table border=\"1\" class=\"dataframe\">\n",
       "  <thead>\n",
       "    <tr style=\"text-align: right;\">\n",
       "      <th></th>\n",
       "      <th>metric</th>\n",
       "      <th>training</th>\n",
       "      <th>validation</th>\n",
       "      <th>test</th>\n",
       "    </tr>\n",
       "  </thead>\n",
       "  <tbody>\n",
       "    <tr>\n",
       "      <th>0</th>\n",
       "      <td>MAE</td>\n",
       "      <td>0.168710</td>\n",
       "      <td>0.168654</td>\n",
       "      <td>0.168660</td>\n",
       "    </tr>\n",
       "    <tr>\n",
       "      <th>1</th>\n",
       "      <td>RMSE</td>\n",
       "      <td>0.234153</td>\n",
       "      <td>0.234253</td>\n",
       "      <td>0.234286</td>\n",
       "    </tr>\n",
       "  </tbody>\n",
       "</table>\n",
       "</div>"
      ],
      "text/plain": [
       "  metric  training  validation      test\n",
       "0    MAE  0.168710    0.168654  0.168660\n",
       "1   RMSE  0.234153    0.234253  0.234286"
      ]
     },
     "metadata": {},
     "output_type": "display_data"
    },
    {
     "data": {
      "text/html": [
       "<div>\n",
       "<style scoped>\n",
       "    .dataframe tbody tr th:only-of-type {\n",
       "        vertical-align: middle;\n",
       "    }\n",
       "\n",
       "    .dataframe tbody tr th {\n",
       "        vertical-align: top;\n",
       "    }\n",
       "\n",
       "    .dataframe thead th {\n",
       "        text-align: right;\n",
       "    }\n",
       "</style>\n",
       "<table border=\"1\" class=\"dataframe\">\n",
       "  <thead>\n",
       "    <tr style=\"text-align: right;\">\n",
       "      <th></th>\n",
       "      <th>Time</th>\n",
       "      <th>Learning rate</th>\n",
       "      <th>Train loss</th>\n",
       "      <th>Validation loss</th>\n",
       "      <th>MAE_kappa</th>\n",
       "      <th>RMSE_kappa</th>\n",
       "    </tr>\n",
       "  </thead>\n",
       "  <tbody>\n",
       "    <tr>\n",
       "      <th>45</th>\n",
       "      <td>454.475311</td>\n",
       "      <td>0.0001</td>\n",
       "      <td>4.163489</td>\n",
       "      <td>0.037333</td>\n",
       "      <td>0.137273</td>\n",
       "      <td>0.193252</td>\n",
       "    </tr>\n",
       "    <tr>\n",
       "      <th>46</th>\n",
       "      <td>464.304072</td>\n",
       "      <td>0.0001</td>\n",
       "      <td>4.106265</td>\n",
       "      <td>0.036978</td>\n",
       "      <td>0.136538</td>\n",
       "      <td>0.192334</td>\n",
       "    </tr>\n",
       "    <tr>\n",
       "      <th>47</th>\n",
       "      <td>474.013097</td>\n",
       "      <td>0.0001</td>\n",
       "      <td>4.050663</td>\n",
       "      <td>0.036636</td>\n",
       "      <td>0.135836</td>\n",
       "      <td>0.191446</td>\n",
       "    </tr>\n",
       "    <tr>\n",
       "      <th>48</th>\n",
       "      <td>483.691300</td>\n",
       "      <td>0.0001</td>\n",
       "      <td>3.996587</td>\n",
       "      <td>0.036309</td>\n",
       "      <td>0.135158</td>\n",
       "      <td>0.190590</td>\n",
       "    </tr>\n",
       "    <tr>\n",
       "      <th>49</th>\n",
       "      <td>493.515197</td>\n",
       "      <td>0.0001</td>\n",
       "      <td>3.943953</td>\n",
       "      <td>0.035996</td>\n",
       "      <td>0.134503</td>\n",
       "      <td>0.189769</td>\n",
       "    </tr>\n",
       "  </tbody>\n",
       "</table>\n",
       "</div>"
      ],
      "text/plain": [
       "          Time  Learning rate  Train loss  Validation loss  MAE_kappa  \\\n",
       "45  454.475311         0.0001    4.163489         0.037333   0.137273   \n",
       "46  464.304072         0.0001    4.106265         0.036978   0.136538   \n",
       "47  474.013097         0.0001    4.050663         0.036636   0.135836   \n",
       "48  483.691300         0.0001    3.996587         0.036309   0.135158   \n",
       "49  493.515197         0.0001    3.943953         0.035996   0.134503   \n",
       "\n",
       "    RMSE_kappa  \n",
       "45    0.193252  \n",
       "46    0.192334  \n",
       "47    0.191446  \n",
       "48    0.190590  \n",
       "49    0.189769  "
      ]
     },
     "metadata": {},
     "output_type": "display_data"
    }
   ],
   "source": [
    "device = torch.device(\"cuda\")\n",
    "used_test_data = dict()\n",
    "df_pred_list = []\n",
    "for p in ['sigma_iso', 'omega', 'kappa']:\n",
    "    print(p)\n",
    "    used_test_data[p] = train_model(p, max_epochs=50)\n",
    "    df_pred_i = show_history(p)\n",
    "    df_pred_list.append(df_pred_i)"
   ]
  },
  {
   "cell_type": "code",
   "execution_count": 2,
   "metadata": {},
   "outputs": [
    {
     "data": {
      "text/plain": [
       "set()"
      ]
     },
     "execution_count": 2,
     "metadata": {},
     "output_type": "execute_result"
    }
   ],
   "source": [
    "set(['tertiary_distance_2', 'dist_C_0_y', 'dist_H_1_x', 'molecule_atom_index_0_dist_min_diff', 'molecule_atom_index_0_dist_max_div', 'adC3', 'dist_C_3_y', 'tertiary_angle_1', 'yukawa_H.y', 'cos_f0_f1', 'dist_C_1_y', 'dist_to_type_1_mean', 'dist_O_0_y', 'cos_c1', 'adC2', 'dist_C_0_x', 'molecule_atom_index_0_dist_min_div', 'dist_to_type_std', 'adC1', 'tertiary_distance_1', 'dist_H_0_y', 'molecule_dist_min', 'max_distance_y', 'inv_distPE', 'dist_xyz', 'eem_0', 'dist_O_0_x', 'dist_to_type_mean', 'cos_c0_c1', 'cos_c0', 'adN1', 'tertiary_angle_0', 'tertiary_distance_4', 'dist_H_0_x', 'dist_C_1_x', 'inv_distP', 'molecule_atom_index_0_dist_mean_diff', 'tertiary_atom_1', 'tertiary_angle_2', 'mean_molecule_atom_0_dist_xyz', 'dist_C_2_y', 'dist_H_1_y', 'dist_C_3_x', 'dist_H_2_y', 'dist_H_3_y', 'link0', 'yukawa_H.x', 'dist_C_2_x', 'dist_N_0_y', 'dist_to_type_0_mean', 'dist_N_0_x', 'eem_1', 'tertiary_angle_3', 'distance_c1', 'dist_H_3_x', 'tertiary_distance_3', 'cos_f0', 'cos_f1', 'tertiary_atom_2'])-set(['tertiary_distance_2', 'dist_C_0_y', 'dist_H_1_x', 'molecule_atom_index_0_dist_min_diff', 'molecule_atom_index_0_dist_max_div', 'adC3', 'dist_C_3_y', 'tertiary_angle_1', 'yukawa_H.y', 'cos_f0_f1', 'dist_C_1_y', 'dist_to_type_1_mean', 'dist_O_0_y', 'cos_c1', 'adC2', 'dist_C_0_x', 'molecule_atom_index_0_dist_min_div', 'dist_to_type_std', 'adC1', 'tertiary_distance_1', 'dist_H_0_y', 'molecule_dist_min', 'max_distance_y', 'inv_distPE', 'dist_xyz', 'eem_0', 'dist_O_0_x', 'dist_to_type_mean', 'cos_c0_c1', 'cos_c0', 'adN1', 'tertiary_angle_0', 'tertiary_distance_4', 'dist_H_0_x', 'dist_C_1_x', 'inv_distP', 'molecule_atom_index_0_dist_mean_diff', 'tertiary_atom_1', 'tertiary_angle_2', 'mean_molecule_atom_0_dist_xyz', 'dist_C_2_y', 'dist_H_1_y', 'dist_C_3_x', 'dist_H_2_y', 'dist_H_3_y', 'link0', 'yukawa_H.x', 'dist_C_2_x', 'dist_N_0_y', 'dist_to_type_0_mean', 'dist_N_0_x', 'eem_1', 'tertiary_angle_3', 'distance_c1', 'dist_H_3_x', 'tertiary_distance_3', 'cos_f0', 'cos_f1', 'tertiary_atom_2'])\n",
    "set(['tertiary_distance_2', 'dist_C_0_y', 'dist_H_1_x', 'molecule_atom_index_0_dist_min_diff', 'molecule_atom_index_0_dist_max_div', 'adC3', 'dist_C_3_y', 'tertiary_angle_1', 'yukawa_H.y', 'cos_f0_f1', 'dist_C_1_y', 'dist_to_type_1_mean', 'dist_O_0_y', 'cos_c1', 'adC2', 'dist_C_0_x', 'molecule_atom_index_0_dist_min_div', 'dist_to_type_std', 'adC1', 'tertiary_distance_1', 'dist_H_0_y', 'molecule_dist_min', 'max_distance_y', 'inv_distPE', 'dist_xyz', 'eem_0', 'dist_O_0_x', 'dist_to_type_mean', 'cos_c0_c1', 'cos_c0', 'adN1', 'tertiary_angle_0', 'tertiary_distance_4', 'dist_H_0_x', 'dist_C_1_x', 'inv_distP', 'molecule_atom_index_0_dist_mean_diff', 'tertiary_atom_1', 'tertiary_angle_2', 'mean_molecule_atom_0_dist_xyz', 'dist_C_2_y', 'dist_H_1_y', 'dist_C_3_x', 'dist_H_2_y', 'dist_H_3_y', 'link0', 'yukawa_H.x', 'dist_C_2_x', 'dist_N_0_y', 'dist_to_type_0_mean', 'dist_N_0_x', 'eem_1', 'tertiary_angle_3', 'distance_c1', 'dist_H_3_x', 'tertiary_distance_3', 'cos_f0', 'cos_f1', 'tertiary_atom_2'])"
   ]
  },
  {
   "cell_type": "code",
   "execution_count": 34,
   "metadata": {},
   "outputs": [],
   "source": [
    "df_pred_i"
   ]
  },
  {
   "cell_type": "code",
   "execution_count": null,
   "metadata": {},
   "outputs": [],
   "source": []
  }
 ],
 "metadata": {
  "kernelspec": {
   "display_name": "Environment (conda_tensorflow_gpu_p36)",
   "language": "python",
   "name": "conda_tensorflow_gpu_p36"
  },
  "language_info": {
   "codemirror_mode": {
    "name": "ipython",
    "version": 3
   },
   "file_extension": ".py",
   "mimetype": "text/x-python",
   "name": "python",
   "nbconvert_exporter": "python",
   "pygments_lexer": "ipython3",
   "version": "3.6.7"
  }
 },
 "nbformat": 4,
 "nbformat_minor": 2
}
