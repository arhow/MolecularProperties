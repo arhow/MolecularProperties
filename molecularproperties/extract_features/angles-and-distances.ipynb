{
 "cells": [
  {
   "cell_type": "code",
   "execution_count": 1,
   "metadata": {},
   "outputs": [
    {
     "data": {
      "text/html": [
       "<style>\n",
       "   div#notebook-container    { width: 95%; }\n",
       "   div#menubar-container     { width: 65%; }\n",
       "   div#maintoolbar-container { width: 99%; }\n",
       "</style>\n"
      ],
      "text/plain": [
       "<IPython.core.display.HTML object>"
      ]
     },
     "metadata": {},
     "output_type": "display_data"
    }
   ],
   "source": [
    "%%HTML\n",
    "<style>\n",
    "   div#notebook-container    { width: 95%; }\n",
    "   div#menubar-container     { width: 65%; }\n",
    "   div#maintoolbar-container { width: 99%; }\n",
    "</style>"
   ]
  },
  {
   "cell_type": "code",
   "execution_count": 2,
   "metadata": {},
   "outputs": [],
   "source": [
    "import sys\n",
    "sys.path.append(\"../..\") # Adds higher directory to python modules path.\n",
    "from utilities import aggregate_feature_calculators\n",
    "from utilities import aggregate_feature_calculators_setting as aggcal\n",
    "from utilities.parallel import Parallel"
   ]
  },
  {
   "cell_type": "code",
   "execution_count": 6,
   "metadata": {},
   "outputs": [
    {
     "name": "stdout",
     "output_type": "stream",
     "text": [
      "Collecting openbabel\n",
      "  Using cached https://files.pythonhosted.org/packages/9c/30/eb9c3d3d3b86981f6c6a7b8eceb6f4a13b9a12673efbc842b7cebe0ce39a/openbabel-2.4.1.tar.gz\n",
      "Building wheels for collected packages: openbabel\n",
      "  Building wheel for openbabel (setup.py) ... \u001b[?25lerror\n",
      "\u001b[31m  ERROR: Complete output from command /usr/bin/python3 -u -c 'import setuptools, tokenize;__file__='\"'\"'/tmp/pip-install-osebj045/openbabel/setup.py'\"'\"';f=getattr(tokenize, '\"'\"'open'\"'\"', open)(__file__);code=f.read().replace('\"'\"'\\r\\n'\"'\"', '\"'\"'\\n'\"'\"');f.close();exec(compile(code, __file__, '\"'\"'exec'\"'\"'))' bdist_wheel -d /tmp/pip-wheel-tjox3k9i --python-tag cp35:\u001b[0m\n",
      "\u001b[31m  ERROR: running bdist_wheel\n",
      "  running build\n",
      "  running build_ext\n",
      "  Warning: package openbabel-2.0 could not be found by pkg-config.\n",
      "  Guessing Open Babel location:\n",
      "  - include_dirs: ['/usr/include/python3.5m', '/usr/local/include/openbabel-2.0']\n",
      "  - library_dirs: ['/usr/local/lib']\n",
      "  building '_openbabel' extension\n",
      "  swigging openbabel-python.i to openbabel-python_wrap.cpp\n",
      "  swig -python -c++ -small -O -templatereduce -naturalvar -I/usr/include/python3.5m -I/usr/local/include/openbabel-2.0 -o openbabel-python_wrap.cpp openbabel-python.i\n",
      "  openbabel-python.i:225: Error: Unable to find 'openbabel/babelconfig.h'\n",
      "  openbabel-python.i:227: Error: Unable to find 'openbabel/data.h'\n",
      "  openbabel-python.i:228: Error: Unable to find 'openbabel/rand.h'\n",
      "  openbabel-python.i:229: Error: Unable to find 'openbabel/obutil.h'\n",
      "  openbabel-python.i:230: Error: Unable to find 'openbabel/math/vector3.h'\n",
      "  openbabel-python.i:232: Error: Unable to find 'openbabel/math/matrix3x3.h'\n",
      "  openbabel-python.i:233: Error: Unable to find 'openbabel/math/transform3d.h'\n",
      "  openbabel-python.i:234: Error: Unable to find 'openbabel/math/spacegroup.h'\n",
      "  openbabel-python.i:238: Error: Unable to find 'openbabel/base.h'\n",
      "  openbabel-python.i:240: Error: Unable to find 'openbabel/generic.h'\n",
      "  openbabel-python.i:241: Error: Unable to find 'openbabel/griddata.h'\n",
      "  openbabel-python.i:243: Error: Unable to find 'openbabel/chains.h'\n",
      "  openbabel-python.i:244: Error: Unable to find 'openbabel/typer.h'\n",
      "  openbabel-python.i:252: Error: Unable to find 'openbabel/plugin.h'\n",
      "  openbabel-python.i:257: Error: Unable to find 'openbabel/oberror.h'\n",
      "  openbabel-python.i:258: Error: Unable to find 'openbabel/format.h'\n",
      "  openbabel-python.i:259: Error: Unable to find 'openbabel/obconversion.h'\n",
      "  openbabel-python.i:260: Error: Unable to find 'openbabel/residue.h'\n",
      "  openbabel-python.i:261: Error: Unable to find 'openbabel/internalcoord.h'\n",
      "  openbabel-python.i:262: Error: Unable to find 'openbabel/atom.h'\n",
      "  openbabel-python.i:263: Error: Unable to find 'openbabel/bond.h'\n",
      "  openbabel-python.i:264: Error: Unable to find 'openbabel/reaction.h'\n",
      "  openbabel-python.i:282: Error: Unable to find 'openbabel/mol.h'\n",
      "  openbabel-python.i:289: Error: Unable to find 'openbabel/ring.h'\n",
      "  openbabel-python.i:290: Error: Unable to find 'openbabel/parsmart.h'\n",
      "  openbabel-python.i:291: Error: Unable to find 'openbabel/alias.h'\n",
      "  openbabel-python.i:292: Error: Unable to find 'openbabel/atomclass.h'\n",
      "  openbabel-python.i:294: Error: Unable to find 'openbabel/fingerprint.h'\n",
      "  openbabel-python.i:296: Error: Unable to find 'openbabel/descriptor.h'\n",
      "  openbabel-python.i:301: Error: Unable to find 'openbabel/forcefield.h'\n",
      "  openbabel-python.i:303: Error: Unable to find 'openbabel/builder.h'\n",
      "  openbabel-python.i:304: Error: Unable to find 'openbabel/op.h'\n",
      "  openbabel-python.i:306: Error: Unable to find 'openbabel/chargemodel.h'\n",
      "  openbabel-python.i:309: Error: Unable to find 'openbabel/phmodel.h'\n",
      "  openbabel-python.i:310: Error: Unable to find 'openbabel/graphsym.h'\n",
      "  openbabel-python.i:311: Error: Unable to find 'openbabel/isomorphism.h'\n",
      "  openbabel-python.i:312: Error: Unable to find 'openbabel/query.h'\n",
      "  openbabel-python.i:313: Error: Unable to find 'openbabel/canon.h'\n",
      "  openbabel-python.i:315: Error: Unable to find 'openbabel/stereo/stereo.h'\n",
      "  openbabel-python.i:318: Error: Unable to find 'openbabel/bitvec.h'\n",
      "  openbabel-python.i:321: Error: Unable to find 'openbabel/rotor.h'\n",
      "  openbabel-python.i:323: Error: Unable to find 'openbabel/rotamer.h'\n",
      "  openbabel-python.i:324: Error: Unable to find 'openbabel/spectrophore.h'\n",
      "  openbabel-python.i:374: Error: Unable to find 'openbabel/obiter.h'\n",
      "  stereo.i:1: Error: Unable to find 'openbabel/stereo/tetranonplanar.h'\n",
      "  stereo.i:2: Error: Unable to find 'openbabel/stereo/tetraplanar.h'\n",
      "  stereo.i:3: Error: Unable to find 'openbabel/stereo/tetrahedral.h'\n",
      "  stereo.i:4: Error: Unable to find 'openbabel/stereo/cistrans.h'\n",
      "  stereo.i:5: Error: Unable to find 'openbabel/stereo/squareplanar.h'\n",
      "  stereo.i:6: Error: Unable to find 'openbabel/stereo/bindings.h'\n",
      "  \n",
      "  Error: SWIG failed. Is Open Babel installed?\n",
      "  You may need to manually specify the location of Open Babel include and library directories. For example:\n",
      "    python setup.py build_ext -I/usr/local/include/openbabel-2.0 -L/usr/local/lib\n",
      "    python setup.py install\n",
      "  ----------------------------------------\u001b[0m\n",
      "\u001b[31m  ERROR: Failed building wheel for openbabel\u001b[0m\n",
      "\u001b[?25h  Running setup.py clean for openbabel\n",
      "Failed to build openbabel\n",
      "Installing collected packages: openbabel\n",
      "  Running setup.py install for openbabel ... \u001b[?25lerror\n",
      "\u001b[31m    ERROR: Complete output from command /usr/bin/python3 -u -c 'import setuptools, tokenize;__file__='\"'\"'/tmp/pip-install-osebj045/openbabel/setup.py'\"'\"';f=getattr(tokenize, '\"'\"'open'\"'\"', open)(__file__);code=f.read().replace('\"'\"'\\r\\n'\"'\"', '\"'\"'\\n'\"'\"');f.close();exec(compile(code, __file__, '\"'\"'exec'\"'\"'))' install --record /tmp/pip-record-9g_h__z0/install-record.txt --single-version-externally-managed --compile:\u001b[0m\n",
      "\u001b[31m    ERROR: running install\n",
      "    running build_ext\n",
      "    Warning: package openbabel-2.0 could not be found by pkg-config.\n",
      "    Guessing Open Babel location:\n",
      "    - include_dirs: ['/usr/include/python3.5m', '/usr/local/include/openbabel-2.0']\n",
      "    - library_dirs: ['/usr/local/lib']\n",
      "    building '_openbabel' extension\n",
      "    swigging openbabel-python.i to openbabel-python_wrap.cpp\n",
      "    swig -python -c++ -small -O -templatereduce -naturalvar -I/usr/include/python3.5m -I/usr/local/include/openbabel-2.0 -o openbabel-python_wrap.cpp openbabel-python.i\n",
      "    openbabel-python.i:225: Error: Unable to find 'openbabel/babelconfig.h'\n",
      "    openbabel-python.i:227: Error: Unable to find 'openbabel/data.h'\n",
      "    openbabel-python.i:228: Error: Unable to find 'openbabel/rand.h'\n",
      "    openbabel-python.i:229: Error: Unable to find 'openbabel/obutil.h'\n",
      "    openbabel-python.i:230: Error: Unable to find 'openbabel/math/vector3.h'\n",
      "    openbabel-python.i:232: Error: Unable to find 'openbabel/math/matrix3x3.h'\n",
      "    openbabel-python.i:233: Error: Unable to find 'openbabel/math/transform3d.h'\n",
      "    openbabel-python.i:234: Error: Unable to find 'openbabel/math/spacegroup.h'\n",
      "    openbabel-python.i:238: Error: Unable to find 'openbabel/base.h'\n",
      "    openbabel-python.i:240: Error: Unable to find 'openbabel/generic.h'\n",
      "    openbabel-python.i:241: Error: Unable to find 'openbabel/griddata.h'\n",
      "    openbabel-python.i:243: Error: Unable to find 'openbabel/chains.h'\n",
      "    openbabel-python.i:244: Error: Unable to find 'openbabel/typer.h'\n",
      "    openbabel-python.i:252: Error: Unable to find 'openbabel/plugin.h'\n",
      "    openbabel-python.i:257: Error: Unable to find 'openbabel/oberror.h'\n",
      "    openbabel-python.i:258: Error: Unable to find 'openbabel/format.h'\n",
      "    openbabel-python.i:259: Error: Unable to find 'openbabel/obconversion.h'\n",
      "    openbabel-python.i:260: Error: Unable to find 'openbabel/residue.h'\n",
      "    openbabel-python.i:261: Error: Unable to find 'openbabel/internalcoord.h'\n",
      "    openbabel-python.i:262: Error: Unable to find 'openbabel/atom.h'\n",
      "    openbabel-python.i:263: Error: Unable to find 'openbabel/bond.h'\n",
      "    openbabel-python.i:264: Error: Unable to find 'openbabel/reaction.h'\n",
      "    openbabel-python.i:282: Error: Unable to find 'openbabel/mol.h'\n",
      "    openbabel-python.i:289: Error: Unable to find 'openbabel/ring.h'\n",
      "    openbabel-python.i:290: Error: Unable to find 'openbabel/parsmart.h'\n",
      "    openbabel-python.i:291: Error: Unable to find 'openbabel/alias.h'\n",
      "    openbabel-python.i:292: Error: Unable to find 'openbabel/atomclass.h'\n",
      "    openbabel-python.i:294: Error: Unable to find 'openbabel/fingerprint.h'\n",
      "    openbabel-python.i:296: Error: Unable to find 'openbabel/descriptor.h'\n",
      "    openbabel-python.i:301: Error: Unable to find 'openbabel/forcefield.h'\n",
      "    openbabel-python.i:303: Error: Unable to find 'openbabel/builder.h'\n",
      "    openbabel-python.i:304: Error: Unable to find 'openbabel/op.h'\n",
      "    openbabel-python.i:306: Error: Unable to find 'openbabel/chargemodel.h'\n",
      "    openbabel-python.i:309: Error: Unable to find 'openbabel/phmodel.h'\n",
      "    openbabel-python.i:310: Error: Unable to find 'openbabel/graphsym.h'\n",
      "    openbabel-python.i:311: Error: Unable to find 'openbabel/isomorphism.h'\n",
      "    openbabel-python.i:312: Error: Unable to find 'openbabel/query.h'\n",
      "    openbabel-python.i:313: Error: Unable to find 'openbabel/canon.h'\n",
      "    openbabel-python.i:315: Error: Unable to find 'openbabel/stereo/stereo.h'\n",
      "    openbabel-python.i:318: Error: Unable to find 'openbabel/bitvec.h'\n",
      "    openbabel-python.i:321: Error: Unable to find 'openbabel/rotor.h'\n",
      "    openbabel-python.i:323: Error: Unable to find 'openbabel/rotamer.h'\n",
      "    openbabel-python.i:324: Error: Unable to find 'openbabel/spectrophore.h'\n",
      "    openbabel-python.i:374: Error: Unable to find 'openbabel/obiter.h'\n",
      "    stereo.i:1: Error: Unable to find 'openbabel/stereo/tetranonplanar.h'\n",
      "    stereo.i:2: Error: Unable to find 'openbabel/stereo/tetraplanar.h'\n",
      "    stereo.i:3: Error: Unable to find 'openbabel/stereo/tetrahedral.h'\n",
      "    stereo.i:4: Error: Unable to find 'openbabel/stereo/cistrans.h'\n",
      "    stereo.i:5: Error: Unable to find 'openbabel/stereo/squareplanar.h'\n",
      "    stereo.i:6: Error: Unable to find 'openbabel/stereo/bindings.h'\n",
      "    \n",
      "    Error: SWIG failed. Is Open Babel installed?\n",
      "    You may need to manually specify the location of Open Babel include and library directories. For example:\n",
      "      python setup.py build_ext -I/usr/local/include/openbabel-2.0 -L/usr/local/lib\n",
      "      python setup.py install\n",
      "    ----------------------------------------\u001b[0m\n"
     ]
    },
    {
     "name": "stdout",
     "output_type": "stream",
     "text": [
      "\u001b[31mERROR: Command \"/usr/bin/python3 -u -c 'import setuptools, tokenize;__file__='\"'\"'/tmp/pip-install-osebj045/openbabel/setup.py'\"'\"';f=getattr(tokenize, '\"'\"'open'\"'\"', open)(__file__);code=f.read().replace('\"'\"'\\r\\n'\"'\"', '\"'\"'\\n'\"'\"');f.close();exec(compile(code, __file__, '\"'\"'exec'\"'\"'))' install --record /tmp/pip-record-9g_h__z0/install-record.txt --single-version-externally-managed --compile\" failed with error code 1 in /tmp/pip-install-osebj045/openbabel/\u001b[0m\r\n",
      "\u001b[33mWARNING: You are using pip version 19.1, however version 19.1.1 is available.\r\n",
      "You should consider upgrading via the 'pip install --upgrade pip' command.\u001b[0m\r\n",
      "\u001b[?25h"
     ]
    }
   ],
   "source": [
    "import sys\n",
    "!{sys.executable} -m pip install openbabel"
   ]
  },
  {
   "cell_type": "code",
   "execution_count": 3,
   "metadata": {},
   "outputs": [
    {
     "ename": "ImportError",
     "evalue": "No module named 'tqdm'",
     "output_type": "error",
     "traceback": [
      "\u001b[0;31m---------------------------------------------------------------------------\u001b[0m",
      "\u001b[0;31mImportError\u001b[0m                               Traceback (most recent call last)",
      "\u001b[0;32m<ipython-input-3-51593e12616e>\u001b[0m in \u001b[0;36m<module>\u001b[0;34m\u001b[0m\n\u001b[1;32m      4\u001b[0m \u001b[0;32mimport\u001b[0m \u001b[0mmath\u001b[0m\u001b[0;34m\u001b[0m\u001b[0m\n\u001b[1;32m      5\u001b[0m \u001b[0;34m\u001b[0m\u001b[0m\n\u001b[0;32m----> 6\u001b[0;31m \u001b[0;32mfrom\u001b[0m \u001b[0mtqdm\u001b[0m \u001b[0;32mimport\u001b[0m \u001b[0mtqdm_notebook\u001b[0m\u001b[0;34m,\u001b[0m \u001b[0mtqdm\u001b[0m\u001b[0;34m\u001b[0m\u001b[0m\n\u001b[0m\u001b[1;32m      7\u001b[0m \u001b[0;34m\u001b[0m\u001b[0m\n\u001b[1;32m      8\u001b[0m \u001b[0;32mimport\u001b[0m \u001b[0mopenbabel\u001b[0m\u001b[0;34m\u001b[0m\u001b[0m\n",
      "\u001b[0;31mImportError\u001b[0m: No module named 'tqdm'"
     ]
    }
   ],
   "source": [
    "import os\n",
    "import pandas as pd\n",
    "import numpy as np\n",
    "import math\n",
    "\n",
    "from tqdm import tqdm_notebook, tqdm\n",
    "\n",
    "import openbabel"
   ]
  },
  {
   "cell_type": "code",
   "execution_count": 2,
   "metadata": {},
   "outputs": [],
   "source": [
    "def reduce_mem_usage(df, verbose=True):\n",
    "    numerics = ['int16', 'int32', 'int64', 'float16', 'float32', 'float64']\n",
    "    start_mem = df.memory_usage().sum() / 1024**2    \n",
    "    for col in df.columns:\n",
    "        col_type = df[col].dtypes\n",
    "        if col_type in numerics:\n",
    "            c_min = df[col].min()\n",
    "            c_max = df[col].max()\n",
    "            if str(col_type)[:3] == 'int':\n",
    "                if c_min > np.iinfo(np.int8).min and c_max < np.iinfo(np.int8).max:\n",
    "                    df[col] = df[col].astype(np.int8)\n",
    "                elif c_min > np.iinfo(np.int16).min and c_max < np.iinfo(np.int16).max:\n",
    "                    df[col] = df[col].astype(np.int16)\n",
    "                elif c_min > np.iinfo(np.int32).min and c_max < np.iinfo(np.int32).max:\n",
    "                    df[col] = df[col].astype(np.int32)\n",
    "                elif c_min > np.iinfo(np.int64).min and c_max < np.iinfo(np.int64).max:\n",
    "                    df[col] = df[col].astype(np.int64)  \n",
    "            else:\n",
    "                if c_min > np.finfo(np.float16).min and c_max < np.finfo(np.float16).max:\n",
    "                    df[col] = df[col].astype(np.float16)\n",
    "                elif c_min > np.finfo(np.float32).min and c_max < np.finfo(np.float32).max:\n",
    "                    df[col] = df[col].astype(np.float32)\n",
    "                else:\n",
    "                    df[col] = df[col].astype(np.float64)    \n",
    "    end_mem = df.memory_usage().sum() / 1024**2\n",
    "    if verbose: print('Mem. usage decreased to {:5.2f} Mb ({:.1f}% reduction)'.format(end_mem, 100 * (start_mem - end_mem) / start_mem))\n",
    "    return df"
   ]
  },
  {
   "cell_type": "code",
   "execution_count": 3,
   "metadata": {},
   "outputs": [
    {
     "data": {
      "text/plain": [
       "['sample_submission.csv',\n",
       " 'magnetic_shielding_tensors.csv',\n",
       " 'potential_energy.csv',\n",
       " 'scalar_coupling_contributions.csv',\n",
       " 'dipole_moments.csv',\n",
       " 'mulliken_charges.csv',\n",
       " 'train.csv',\n",
       " 'test.csv',\n",
       " 'structures.csv',\n",
       " 'structures']"
      ]
     },
     "execution_count": 3,
     "metadata": {},
     "output_type": "execute_result"
    }
   ],
   "source": [
    "file_folder =  '../../data/input'\n",
    "os.listdir(file_folder)"
   ]
  },
  {
   "cell_type": "code",
   "execution_count": 17,
   "metadata": {},
   "outputs": [],
   "source": [
    "train = pd.read_csv(f'{file_folder}/train.csv')\n",
    "test = pd.read_csv(f'{file_folder}/test.csv')\n",
    "magnetic_shielding_tensors = pd.read_csv(f'{file_folder}/magnetic_shielding_tensors.csv')\n",
    "dipole_moments = pd.read_csv(f'{file_folder}/dipole_moments.csv')\n",
    "mulliken_charges = pd.read_csv(f'{file_folder}/mulliken_charges.csv')\n",
    "potential_energy = pd.read_csv(f'{file_folder}/potential_energy.csv')\n",
    "scalar_coupling_contributions = pd.read_csv(f'{file_folder}/scalar_coupling_contributions.csv')\n",
    "structures = pd.read_csv(f'{file_folder}/structures.csv')"
   ]
  },
  {
   "cell_type": "code",
   "execution_count": 18,
   "metadata": {},
   "outputs": [],
   "source": [
    "x = structures.groupby('molecule_name').atom_index.max().reset_index(drop=False)\n",
    "x.columns = ['molecule_name','totalatoms']\n",
    "x.totalatoms+=1\n",
    "train = train.merge(x,on='molecule_name')\n",
    "# train = train[train.molecule_name=='dsgdb9nsd_000001']"
   ]
  },
  {
   "cell_type": "code",
   "execution_count": null,
   "metadata": {},
   "outputs": [],
   "source": [
    "test = test.merge(x,on='molecule_name')"
   ]
  },
  {
   "cell_type": "code",
   "execution_count": 7,
   "metadata": {},
   "outputs": [],
   "source": [
    "obConversion = openbabel.OBConversion()\n",
    "obConversion.SetInFormat(\"xyz\")\n",
    "structdir=f'{file_folder}/structures/'\n",
    "mols=[]\n",
    "mols_files=os.listdir(structdir)\n",
    "mols_index=dict(map(reversed,enumerate(mols_files)))\n",
    "for f in mols_index.keys():\n",
    "    mol = openbabel.OBMol()\n",
    "    obConversion.ReadFile(mol, structdir+f) \n",
    "    mols.append(mol)"
   ]
  },
  {
   "cell_type": "code",
   "execution_count": 66,
   "metadata": {},
   "outputs": [],
   "source": [
    "def _worker(item):\n",
    "    \n",
    "    m = item[0]\n",
    "    groupdf = item[1]\n",
    "    mol=mols[mols_index[m+'.xyz']]\n",
    "    list_ = []\n",
    "    for i in groupdf.index.values:\n",
    "        \n",
    "        id_ = int(groupdf.loc[i].id)\n",
    "        totalatoms = groupdf.loc[i].totalatoms\n",
    "        firstatomid = int(groupdf.loc[i].atom_index_0)\n",
    "        secondatomid = int(groupdf.loc[i].atom_index_1)\n",
    "        entrystats = {}\n",
    "        entrystats['id'] = id_\n",
    "        entrystats['totalatoms'] = totalatoms\n",
    "        entrystats['scalar_coupling_constant'] = float(groupdf.loc[i].scalar_coupling_constant)\n",
    "        entrystats['type'] = groupdf.loc[i]['type']\n",
    "        a = mol.GetAtomById(firstatomid)\n",
    "        b = mol.GetAtomById(secondatomid)\n",
    "        entrystats['molecule_name'] = m\n",
    "        entrystats['atom_index_0'] = firstatomid\n",
    "        entrystats['atom_index_1'] = secondatomid\n",
    "        entrystats['bond_distance'] = a.GetDistance(b)\n",
    "        entrystats['bond_atom'] = b.GetType()\n",
    "\n",
    "        #Put the tertiary data in order of distance from first hydrogen\n",
    "        tertiarystats = {}\n",
    "        for j,c in enumerate(list(set(range(totalatoms)).difference(set([firstatomid,secondatomid])))):\n",
    "            tertiaryatom = mol.GetAtomById(c)\n",
    "            tp = tertiaryatom.GetType()\n",
    "            dist = a.GetDistance(tertiaryatom)\n",
    "            ang = a.GetAngle(b,tertiaryatom)*math.pi/180\n",
    "            while(dist in tertiarystats):\n",
    "                dist += 1e-15\n",
    "                # print('Duplicates!',m,j,dist)\n",
    "            tertiarystats[dist] = [tp,dist,ang]\n",
    "        \n",
    "        for k, c in enumerate(sorted(tertiarystats.keys())):\n",
    "            entrystats['tertiary_atom_'+str(k)] = tertiarystats[c][0]\n",
    "            entrystats['tertiary_distance_'+str(k)] = tertiarystats[c][1]\n",
    "            entrystats['tertiary_angle_'+str(k)] = tertiarystats[c][2]\n",
    "        list_.append(entrystats)\n",
    "    return list_\n",
    "\n",
    "\n",
    "def extract_features(df):\n",
    "    \n",
    "    molecule_names = df.molecule_name.unique().tolist()\n",
    "    N_ = len(molecule_names)\n",
    "    segment = N_//100 if N_ > 100 else 1\n",
    "    df_ = pd.DataFrame()\n",
    "    for start in tqdm_notebook(range(0, N_, segment)):\n",
    "        end = start+segment if start+segment < N_ else N_\n",
    "        res = Parallel(_worker,{}).run(df[df['molecule_name'].isin(molecule_names[start:end])].groupby('molecule_name'), n_jobs=16)\n",
    "        df_i = pd.DataFrame(res)\n",
    "        df_ = pd.concat([df_, df_i], axis=0)\n",
    "    df_ = df_.sort_values(by=['id'])\n",
    "    return df_\n"
   ]
  },
  {
   "cell_type": "code",
   "execution_count": 67,
   "metadata": {},
   "outputs": [
    {
     "data": {
      "application/vnd.jupyter.widget-view+json": {
       "model_id": "583386caf2ad480eba1afac48db6bdd3",
       "version_major": 2,
       "version_minor": 0
      },
      "text/plain": [
       "HBox(children=(IntProgress(value=0, max=101), HTML(value='')))"
      ]
     },
     "metadata": {},
     "output_type": "display_data"
    },
    {
     "name": "stderr",
     "output_type": "stream",
     "text": [
      "/home/ubuntu/anaconda3/envs/tensorflow_gpu_p36/lib/python3.6/site-packages/ipykernel/__main__.py:56: FutureWarning: Sorting because non-concatenation axis is not aligned. A future version\n",
      "of pandas will change to not sort by default.\n",
      "\n",
      "To accept the future behavior, pass 'sort=False'.\n",
      "\n",
      "To retain the current behavior and silence the warning, pass 'sort=True'.\n",
      "\n"
     ]
    }
   ],
   "source": [
    "df_train = extract_features(train)"
   ]
  },
  {
   "cell_type": "code",
   "execution_count": 69,
   "metadata": {},
   "outputs": [
    {
     "name": "stdout",
     "output_type": "stream",
     "text": [
      "(85003, 90) (4658147, 7)\n"
     ]
    },
    {
     "data": {
      "text/html": [
       "<div>\n",
       "<style scoped>\n",
       "    .dataframe tbody tr th:only-of-type {\n",
       "        vertical-align: middle;\n",
       "    }\n",
       "\n",
       "    .dataframe tbody tr th {\n",
       "        vertical-align: top;\n",
       "    }\n",
       "\n",
       "    .dataframe thead th {\n",
       "        text-align: right;\n",
       "    }\n",
       "</style>\n",
       "<table border=\"1\" class=\"dataframe\">\n",
       "  <thead>\n",
       "    <tr style=\"text-align: right;\">\n",
       "      <th></th>\n",
       "      <th>atom_index_0</th>\n",
       "      <th>atom_index_1</th>\n",
       "      <th>bond_atom</th>\n",
       "      <th>bond_distance</th>\n",
       "      <th>id</th>\n",
       "      <th>molecule_name</th>\n",
       "      <th>scalar_coupling_constant</th>\n",
       "      <th>tertiary_angle_0</th>\n",
       "      <th>tertiary_angle_1</th>\n",
       "      <th>tertiary_angle_10</th>\n",
       "      <th>...</th>\n",
       "      <th>tertiary_distance_26</th>\n",
       "      <th>tertiary_distance_3</th>\n",
       "      <th>tertiary_distance_4</th>\n",
       "      <th>tertiary_distance_5</th>\n",
       "      <th>tertiary_distance_6</th>\n",
       "      <th>tertiary_distance_7</th>\n",
       "      <th>tertiary_distance_8</th>\n",
       "      <th>tertiary_distance_9</th>\n",
       "      <th>totalatoms</th>\n",
       "      <th>type</th>\n",
       "    </tr>\n",
       "  </thead>\n",
       "  <tbody>\n",
       "    <tr>\n",
       "      <th>0</th>\n",
       "      <td>4</td>\n",
       "      <td>0</td>\n",
       "      <td>C3</td>\n",
       "      <td>1.091948</td>\n",
       "      <td>9</td>\n",
       "      <td>dsgdb9nsd_000001</td>\n",
       "      <td>84.80950</td>\n",
       "      <td>1.910643</td>\n",
       "      <td>1.910637</td>\n",
       "      <td>NaN</td>\n",
       "      <td>...</td>\n",
       "      <td>NaN</td>\n",
       "      <td>NaN</td>\n",
       "      <td>NaN</td>\n",
       "      <td>NaN</td>\n",
       "      <td>NaN</td>\n",
       "      <td>NaN</td>\n",
       "      <td>NaN</td>\n",
       "      <td>NaN</td>\n",
       "      <td>5</td>\n",
       "      <td>1JHC</td>\n",
       "    </tr>\n",
       "    <tr>\n",
       "      <th>1</th>\n",
       "      <td>3</td>\n",
       "      <td>0</td>\n",
       "      <td>N3</td>\n",
       "      <td>1.017208</td>\n",
       "      <td>15</td>\n",
       "      <td>dsgdb9nsd_000002</td>\n",
       "      <td>32.69050</td>\n",
       "      <td>1.840223</td>\n",
       "      <td>1.840227</td>\n",
       "      <td>NaN</td>\n",
       "      <td>...</td>\n",
       "      <td>NaN</td>\n",
       "      <td>NaN</td>\n",
       "      <td>NaN</td>\n",
       "      <td>NaN</td>\n",
       "      <td>NaN</td>\n",
       "      <td>NaN</td>\n",
       "      <td>NaN</td>\n",
       "      <td>NaN</td>\n",
       "      <td>4</td>\n",
       "      <td>1JHN</td>\n",
       "    </tr>\n",
       "    <tr>\n",
       "      <th>2</th>\n",
       "      <td>1</td>\n",
       "      <td>2</td>\n",
       "      <td>HO</td>\n",
       "      <td>1.513358</td>\n",
       "      <td>16</td>\n",
       "      <td>dsgdb9nsd_000003</td>\n",
       "      <td>-9.94641</td>\n",
       "      <td>0.665706</td>\n",
       "      <td>NaN</td>\n",
       "      <td>NaN</td>\n",
       "      <td>...</td>\n",
       "      <td>NaN</td>\n",
       "      <td>NaN</td>\n",
       "      <td>NaN</td>\n",
       "      <td>NaN</td>\n",
       "      <td>NaN</td>\n",
       "      <td>NaN</td>\n",
       "      <td>NaN</td>\n",
       "      <td>NaN</td>\n",
       "      <td>3</td>\n",
       "      <td>2JHH</td>\n",
       "    </tr>\n",
       "    <tr>\n",
       "      <th>3</th>\n",
       "      <td>2</td>\n",
       "      <td>1</td>\n",
       "      <td>N1</td>\n",
       "      <td>2.218346</td>\n",
       "      <td>18</td>\n",
       "      <td>dsgdb9nsd_000005</td>\n",
       "      <td>5.18246</td>\n",
       "      <td>0.000447</td>\n",
       "      <td>NaN</td>\n",
       "      <td>NaN</td>\n",
       "      <td>...</td>\n",
       "      <td>NaN</td>\n",
       "      <td>NaN</td>\n",
       "      <td>NaN</td>\n",
       "      <td>NaN</td>\n",
       "      <td>NaN</td>\n",
       "      <td>NaN</td>\n",
       "      <td>NaN</td>\n",
       "      <td>NaN</td>\n",
       "      <td>3</td>\n",
       "      <td>2JHN</td>\n",
       "    </tr>\n",
       "    <tr>\n",
       "      <th>14</th>\n",
       "      <td>7</td>\n",
       "      <td>1</td>\n",
       "      <td>C3</td>\n",
       "      <td>1.094968</td>\n",
       "      <td>45</td>\n",
       "      <td>dsgdb9nsd_000007</td>\n",
       "      <td>83.54860</td>\n",
       "      <td>1.874989</td>\n",
       "      <td>1.875022</td>\n",
       "      <td>NaN</td>\n",
       "      <td>...</td>\n",
       "      <td>NaN</td>\n",
       "      <td>2.543366</td>\n",
       "      <td>2.543368</td>\n",
       "      <td>3.09598</td>\n",
       "      <td>NaN</td>\n",
       "      <td>NaN</td>\n",
       "      <td>NaN</td>\n",
       "      <td>NaN</td>\n",
       "      <td>8</td>\n",
       "      <td>1JHC</td>\n",
       "    </tr>\n",
       "  </tbody>\n",
       "</table>\n",
       "<p>5 rows × 90 columns</p>\n",
       "</div>"
      ],
      "text/plain": [
       "    atom_index_0  atom_index_1 bond_atom  bond_distance  id     molecule_name  \\\n",
       "0              4             0        C3       1.091948   9  dsgdb9nsd_000001   \n",
       "1              3             0        N3       1.017208  15  dsgdb9nsd_000002   \n",
       "2              1             2        HO       1.513358  16  dsgdb9nsd_000003   \n",
       "3              2             1        N1       2.218346  18  dsgdb9nsd_000005   \n",
       "14             7             1        C3       1.094968  45  dsgdb9nsd_000007   \n",
       "\n",
       "    scalar_coupling_constant  tertiary_angle_0  tertiary_angle_1  \\\n",
       "0                   84.80950          1.910643          1.910637   \n",
       "1                   32.69050          1.840223          1.840227   \n",
       "2                   -9.94641          0.665706               NaN   \n",
       "3                    5.18246          0.000447               NaN   \n",
       "14                  83.54860          1.874989          1.875022   \n",
       "\n",
       "    tertiary_angle_10  ...  tertiary_distance_26  tertiary_distance_3  \\\n",
       "0                 NaN  ...                   NaN                  NaN   \n",
       "1                 NaN  ...                   NaN                  NaN   \n",
       "2                 NaN  ...                   NaN                  NaN   \n",
       "3                 NaN  ...                   NaN                  NaN   \n",
       "14                NaN  ...                   NaN             2.543366   \n",
       "\n",
       "    tertiary_distance_4  tertiary_distance_5  tertiary_distance_6  \\\n",
       "0                   NaN                  NaN                  NaN   \n",
       "1                   NaN                  NaN                  NaN   \n",
       "2                   NaN                  NaN                  NaN   \n",
       "3                   NaN                  NaN                  NaN   \n",
       "14             2.543368              3.09598                  NaN   \n",
       "\n",
       "    tertiary_distance_7  tertiary_distance_8  tertiary_distance_9  totalatoms  \\\n",
       "0                   NaN                  NaN                  NaN           5   \n",
       "1                   NaN                  NaN                  NaN           4   \n",
       "2                   NaN                  NaN                  NaN           3   \n",
       "3                   NaN                  NaN                  NaN           3   \n",
       "14                  NaN                  NaN                  NaN           8   \n",
       "\n",
       "    type  \n",
       "0   1JHC  \n",
       "1   1JHN  \n",
       "2   2JHH  \n",
       "3   2JHN  \n",
       "14  1JHC  \n",
       "\n",
       "[5 rows x 90 columns]"
      ]
     },
     "execution_count": 69,
     "metadata": {},
     "output_type": "execute_result"
    }
   ],
   "source": [
    "print(df_train.shape, train.shape)\n",
    "df_train.head()"
   ]
  },
  {
   "cell_type": "code",
   "execution_count": null,
   "metadata": {},
   "outputs": [],
   "source": [
    "df_test = extract_features(test)"
   ]
  },
  {
   "cell_type": "code",
   "execution_count": 12,
   "metadata": {},
   "outputs": [
    {
     "name": "stdout",
     "output_type": "stream",
     "text": [
      "Mem. usage decreased to 408.70 Mb (54.0% reduction)\n"
     ]
    }
   ],
   "source": [
    "train = reduce_mem_usage(train)"
   ]
  },
  {
   "cell_type": "code",
   "execution_count": 15,
   "metadata": {},
   "outputs": [
    {
     "name": "stdout",
     "output_type": "stream",
     "text": [
      "Mem. usage decreased to 215.05 Mb (53.1% reduction)\n"
     ]
    }
   ],
   "source": [
    "test = reduce_mem_usage(test)"
   ]
  },
  {
   "cell_type": "code",
   "execution_count": 18,
   "metadata": {},
   "outputs": [],
   "source": [
    "train.drop(columns=['molecule_name','atom_index_0','atom_index_1','type','scalar_coupling_constant']).to_pickle('../../data/feats/molecular-properties-eda-and-models_train.pkl')"
   ]
  },
  {
   "cell_type": "code",
   "execution_count": 19,
   "metadata": {},
   "outputs": [],
   "source": [
    "test.drop(columns=['molecule_name','atom_index_0','atom_index_1','type']).to_pickle('../../data/feats/molecular-properties-eda-and-models_test.pkl')"
   ]
  },
  {
   "cell_type": "code",
   "execution_count": null,
   "metadata": {},
   "outputs": [],
   "source": []
  }
 ],
 "metadata": {
  "kernelspec": {
   "display_name": "Python 3",
   "language": "python",
   "name": "python3"
  },
  "language_info": {
   "codemirror_mode": {
    "name": "ipython",
    "version": 3
   },
   "file_extension": ".py",
   "mimetype": "text/x-python",
   "name": "python",
   "nbconvert_exporter": "python",
   "pygments_lexer": "ipython3",
   "version": "3.5.2"
  }
 },
 "nbformat": 4,
 "nbformat_minor": 2
}
