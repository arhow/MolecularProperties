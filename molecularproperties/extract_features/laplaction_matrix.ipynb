{
 "cells": [
  {
   "cell_type": "code",
   "execution_count": 1,
   "metadata": {},
   "outputs": [
    {
     "data": {
      "text/html": [
       "<style>\n",
       "   div#notebook-container    { width: 95%; }\n",
       "   div#menubar-container     { width: 65%; }\n",
       "   div#maintoolbar-container { width: 99%; }\n",
       "</style>"
      ],
      "text/plain": [
       "<IPython.core.display.HTML object>"
      ]
     },
     "metadata": {},
     "output_type": "display_data"
    }
   ],
   "source": [
    "%%HTML\n",
    "<style>\n",
    "   div#notebook-container    { width: 95%; }\n",
    "   div#menubar-container     { width: 65%; }\n",
    "   div#maintoolbar-container { width: 99%; }\n",
    "</style>"
   ]
  },
  {
   "cell_type": "code",
   "execution_count": 1,
   "metadata": {},
   "outputs": [],
   "source": [
    "import copy\n",
    "from tqdm import tqdm_notebook\n",
    "\n",
    "import sys\n",
    "sys.path.append(\"../..\") # Adds higher directory to python modules path.\n",
    "from utilities import aggregate_feature_calculators\n",
    "from utilities import aggregate_feature_calculators_setting as aggcal\n",
    "from utilities.parallel import Parallel"
   ]
  },
  {
   "cell_type": "code",
   "execution_count": 2,
   "metadata": {},
   "outputs": [
    {
     "name": "stderr",
     "output_type": "stream",
     "text": [
      "Using numpy backend.\n"
     ]
    }
   ],
   "source": [
    "import os\n",
    "import numpy as np\n",
    "import pandas as pd\n",
    "import networkx as nx\n",
    "import tensorly as tl\n",
    "from sklearn.preprocessing import LabelEncoder\n",
    "from tensorly.decomposition import tucker, parafac, non_negative_tucker"
   ]
  },
  {
   "cell_type": "code",
   "execution_count": 3,
   "metadata": {},
   "outputs": [],
   "source": [
    "# import sys\n",
    "# !{sys.executable} -m pip install tensorly"
   ]
  },
  {
   "cell_type": "code",
   "execution_count": 4,
   "metadata": {},
   "outputs": [
    {
     "data": {
      "text/plain": [
       "['sample_submission.csv',\n",
       " 'magnetic_shielding_tensors.csv',\n",
       " 'potential_energy.csv',\n",
       " 'scalar_coupling_contributions.csv',\n",
       " 'dipole_moments.csv',\n",
       " 'mulliken_charges.csv',\n",
       " 'train.csv',\n",
       " 'test.csv',\n",
       " 'structures.csv',\n",
       " 'structures']"
      ]
     },
     "execution_count": 4,
     "metadata": {},
     "output_type": "execute_result"
    }
   ],
   "source": [
    "file_folder =  '../../data/input'\n",
    "os.listdir(file_folder)"
   ]
  },
  {
   "cell_type": "code",
   "execution_count": 5,
   "metadata": {},
   "outputs": [],
   "source": [
    "train = pd.read_csv(f'{file_folder}/train.csv')\n",
    "test = pd.read_csv(f'{file_folder}/test.csv')\n",
    "magnetic_shielding_tensors = pd.read_csv(f'{file_folder}/magnetic_shielding_tensors.csv')\n",
    "dipole_moments = pd.read_csv(f'{file_folder}/dipole_moments.csv')\n",
    "mulliken_charges = pd.read_csv(f'{file_folder}/mulliken_charges.csv')\n",
    "potential_energy = pd.read_csv(f'{file_folder}/potential_energy.csv')\n",
    "scalar_coupling_contributions = pd.read_csv(f'{file_folder}/scalar_coupling_contributions.csv')\n",
    "structures = pd.read_csv(f'{file_folder}/structures.csv')"
   ]
  },
  {
   "cell_type": "code",
   "execution_count": 6,
   "metadata": {},
   "outputs": [],
   "source": [
    "atomic_radius = {'H': 0.38, 'C': 0.77, 'N': 0.75, 'O': 0.73, 'F': 0.71}\n",
    "atomic_number = {'H': 1, 'C': 6, 'N': 7, 'O': 8, 'F': 9}\n",
    "atomic_mass = {'H': 1.0079, 'C': 12.0107, 'N': 14.0067, 'O': 15.9994, 'F': 18.9984}\n",
    "vanderwaalsradius = {'H': 120, 'C': 185, 'N': 154, 'O': 140, 'F': 135}\n",
    "covalenzradius = {'H': 30, 'C': 77, 'N': 70, 'O': 66, 'F': 58}\n",
    "electronegativity = {'H': 2.2, 'C': 2.55, 'N': 3.04, 'O': 3.44, 'F': 3.98}\n",
    "ionization_energy = {'H': 13.5984, 'C': 11.2603, 'N': 14.5341, 'O': 13.6181, 'F': 17.4228}"
   ]
  },
  {
   "cell_type": "code",
   "execution_count": 7,
   "metadata": {},
   "outputs": [],
   "source": [
    "train = pd.read_csv(f'{file_folder}/train.csv')\n",
    "test = pd.read_csv(f'{file_folder}/test.csv')\n",
    "sub = pd.read_csv(f'{file_folder}/sample_submission.csv')\n",
    "train['type0'] = train['type'].apply(lambda x: int(x[0]))\n",
    "train['type1'] = train['type'].apply(lambda x: x[1:])\n",
    "\n",
    "le = LabelEncoder()\n",
    "le.fit(train.type1.tolist())\n",
    "int_bond_type = le.transform(train.type1.tolist()) \n",
    "train['int_type1']= int_bond_type\n",
    "\n",
    "test['type0'] = test['type'].apply(lambda x: int(x[0]))\n",
    "test['type1'] = test['type'].apply(lambda x: x[1:])\n",
    "int_bond_type = le.transform(test.type1.tolist()) \n",
    "test['int_type1']= int_bond_type"
   ]
  },
  {
   "cell_type": "code",
   "execution_count": 9,
   "metadata": {},
   "outputs": [
    {
     "data": {
      "text/plain": [
       "array(['JHC', 'JHH', 'JHN'], dtype='<U3')"
      ]
     },
     "execution_count": 9,
     "metadata": {},
     "output_type": "execute_result"
    }
   ],
   "source": [
    "le.classes_"
   ]
  },
  {
   "cell_type": "code",
   "execution_count": 10,
   "metadata": {},
   "outputs": [],
   "source": [
    "atomic_radius = {'H': 0.38, 'C': 0.77, 'N': 0.75, 'O': 0.73, 'F': 0.71}\n",
    "atomic_number = {'H': 1, 'C': 6, 'N': 7, 'O': 8, 'F': 9}\n",
    "atomic_mass = {'H': 1.0079, 'C': 12.0107, 'N': 14.0067, 'O': 15.9994, 'F': 18.9984}\n",
    "vanderwaalsradius = {'H': 120, 'C': 185, 'N': 154, 'O': 140, 'F': 135}\n",
    "covalenzradius = {'H': 30, 'C': 77, 'N': 70, 'O': 66, 'F': 58}\n",
    "electronegativity = {'H': 2.2, 'C': 2.55, 'N': 3.04, 'O': 3.44, 'F': 3.98}\n",
    "ionization_energy = {'H': 13.5984, 'C': 11.2603, 'N': 14.5341, 'O': 13.6181, 'F': 17.4228}\n",
    "\n",
    "structures['atomic_radius'] = structures['atom'].apply(lambda x: atomic_radius[x])\n",
    "structures['atomic_number'] = structures['atom'].apply(lambda x: atomic_number[x])\n",
    "structures['atomic_mass'] = structures['atom'].apply(lambda x: atomic_mass[x])\n",
    "structures['vanderwaalsradius'] = structures['atom'].apply(lambda x: vanderwaalsradius[x])\n",
    "structures['covalenzradius'] = structures['atom'].apply(lambda x: covalenzradius[x])\n",
    "structures['electronegativity'] = structures['atom'].apply(lambda x: electronegativity[x])\n",
    "structures['ionization_energy'] = structures['atom'].apply(lambda x: ionization_energy[x])\n"
   ]
  },
  {
   "cell_type": "code",
   "execution_count": 11,
   "metadata": {},
   "outputs": [],
   "source": [
    "le = LabelEncoder()\n",
    "le.fit(structures.atom.tolist())\n",
    "int_atom = le.transform(structures.atom.tolist()) \n",
    "structures['int_atom'] = int_atom"
   ]
  },
  {
   "cell_type": "code",
   "execution_count": 12,
   "metadata": {},
   "outputs": [
    {
     "data": {
      "text/plain": [
       "array(['C', 'F', 'H', 'N', 'O'], dtype='<U1')"
      ]
     },
     "execution_count": 12,
     "metadata": {},
     "output_type": "execute_result"
    }
   ],
   "source": [
    "le.classes_"
   ]
  },
  {
   "cell_type": "code",
   "execution_count": 112,
   "metadata": {},
   "outputs": [],
   "source": [
    "def molecule_graph(molecule_name, structures, bonds):\n",
    "    assert structures[structures['molecule_name']==molecule_name].shape[0]>0, 'no info in structures'\n",
    "    assert bonds[bonds['molecule_name']==molecule_name].shape[0] > 0, 'no info in bonds'\n",
    "    g = nx.Graph()\n",
    "    for idx, row in structures[structures['molecule_name']==molecule_name].iterrows():\n",
    "        g.add_node(row['atom_index'], pos=(row['x'], row['y'], row['z']), int_atom=row['int_atom'], atomic_radius=row['atomic_radius'], atomic_number=row['atomic_number'], atomic_mass=row['atomic_mass'], vanderwaalsradius=row['vanderwaalsradius'], covalenzradius=row['covalenzradius'], electronegativity=row['electronegativity'], ionization_energy=row['ionization_energy'])\n",
    "    for idx, row in bonds[bonds['molecule_name']==molecule_name].iterrows():\n",
    "        g.add_edge(row['atom_index_0'], row['atom_index_1'], weight=row['type0'], bond_type=row['int_type1'])\n",
    "    return g"
   ]
  },
  {
   "cell_type": "code",
   "execution_count": 114,
   "metadata": {},
   "outputs": [],
   "source": [
    "xyz = structures[['x','y','z']].values\n",
    "structures_idx = structures.set_index('molecule_name')\n",
    "ss = structures.groupby('molecule_name').size()\n",
    "ss = ss.cumsum()\n",
    "ssx = np.zeros(len(ss) + 1, 'int')\n",
    "ssx[1:] = ss"
   ]
  },
  {
   "cell_type": "code",
   "execution_count": 186,
   "metadata": {},
   "outputs": [],
   "source": [
    "from numba import jit\n",
    "from math import sqrt\n",
    "\n",
    "@jit\n",
    "def numba_dist_matrix(xyz, ssx, molecule_id):\n",
    "    start_molecule, end_molecule = ssx[molecule_id], ssx[molecule_id+1]\n",
    "    locs = xyz[start_molecule:end_molecule]     \n",
    "   # return locs\n",
    "    num_atoms = end_molecule - start_molecule\n",
    "    dmat = np.zeros((num_atoms, num_atoms))\n",
    "    for i in range(num_atoms):\n",
    "        for j in range(i+1, num_atoms):\n",
    "            d = (locs[i,0] - locs[j,0])**2 + (locs[i,1] - locs[j,1])**2 + (locs[i,2] - locs[j,2])**2\n",
    "            dmat[i,j] = d\n",
    "            dmat[j,i] = d\n",
    "    return dmat\n",
    "\n",
    "# def numba_dist_matrices(xyz, ssx):\n",
    "#     for molecule_id in range(structures.molecule_name.nunique()):\n",
    "#         numba_dist_matrix(xyz, ssx, molecule_id)\n",
    "        \n",
    "        \n",
    "def get_dist_matrix(df_structures_idx, molecule):\n",
    "    df_temp = df_structures_idx.loc[molecule]\n",
    "    locs = df_temp[['x','y','z']].values\n",
    "    num_atoms = len(locs)\n",
    "    loc_tile = np.tile(locs.T, (num_atoms,1,1))\n",
    "    dist_mat = ((loc_tile - loc_tile.T)**2).sum(axis=1)\n",
    "    return dist_mat"
   ]
  },
  {
   "cell_type": "code",
   "execution_count": 200,
   "metadata": {},
   "outputs": [],
   "source": [
    "molecule_id=465\n",
    "start_molecule, end_molecule = ssx[molecule_id], ssx[molecule_id+1]"
   ]
  },
  {
   "cell_type": "code",
   "execution_count": 201,
   "metadata": {},
   "outputs": [
    {
     "data": {
      "text/plain": [
       "14"
      ]
     },
     "execution_count": 201,
     "metadata": {},
     "output_type": "execute_result"
    }
   ],
   "source": [
    "end_molecule - start_molecule"
   ]
  },
  {
   "cell_type": "code",
   "execution_count": 195,
   "metadata": {},
   "outputs": [
    {
     "name": "stdout",
     "output_type": "stream",
     "text": [
      "CPU times: user 0 ns, sys: 0 ns, total: 0 ns\n",
      "Wall time: 26 µs\n"
     ]
    }
   ],
   "source": [
    "%%time\n",
    "dist_m = numba_dist_matrix(xyz, ssx, 465)"
   ]
  },
  {
   "cell_type": "code",
   "execution_count": 194,
   "metadata": {},
   "outputs": [
    {
     "name": "stdout",
     "output_type": "stream",
     "text": [
      "CPU times: user 4 ms, sys: 0 ns, total: 4 ms\n",
      "Wall time: 2.51 ms\n"
     ]
    },
    {
     "data": {
      "text/plain": [
       "(15, 15)"
      ]
     },
     "execution_count": 194,
     "metadata": {},
     "output_type": "execute_result"
    }
   ],
   "source": [
    "%%time\n",
    "get_dist_matrix(structures_idx, 'dsgdb9nsd_000055').shape"
   ]
  },
  {
   "cell_type": "code",
   "execution_count": 202,
   "metadata": {},
   "outputs": [
    {
     "data": {
      "text/plain": [
       "(2358657, 13)"
      ]
     },
     "execution_count": 202,
     "metadata": {},
     "output_type": "execute_result"
    }
   ],
   "source": [
    "structures_idx.shape"
   ]
  },
  {
   "cell_type": "code",
   "execution_count": 203,
   "metadata": {},
   "outputs": [],
   "source": [
    "def _worker(item, xyz, ssx, structures, structures_idx, bonds, verbose=0):\n",
    "    \n",
    "    molecule_name = item[0]\n",
    "    molecule_id = item[1]\n",
    "    list_ = []\n",
    "    \n",
    "    try:\n",
    "#         dist_m = get_dist_matrix(xyz, ssx, molecule_id)\n",
    "        dist_m = get_dist_matrix(structures_idx, molecule_name)\n",
    "        \n",
    "        g = molecule_graph(molecule_name, structures, bonds)\n",
    "        laplacian_m = nx.laplacian_matrix(g).toarray().astype(float)\n",
    "\n",
    "        t_dist_core, t_dist_factors = tucker(dist_m, rank=1)\n",
    "        p_dist_core, p_dist_factors = parafac(dist_m, rank=1)\n",
    "        t_lap_core, t_lap_factors = tucker(laplacian_m, rank=1)\n",
    "        p_lap_core, p_lap_factors = parafac(laplacian_m, rank=1)\n",
    "        \n",
    "        if verbose > 0:\n",
    "            print(t_dist_core.shape, t_dist_factors[0].shape, t_dist_factors[1].shape)\n",
    "            print(p_dist_core.shape, p_dist_factors.shape)\n",
    "\n",
    "        for idx, row in structures[structures['molecule_name']==molecule_name].iterrows():\n",
    "            atom_index = row['atom_index']\n",
    "            d_ = {'molecule_name':molecule, 'atom_index':atom_index}\n",
    "            d_ = {'t_dist_core':t_dist_core[0][0], 't_dist_factors_0':t_dist_factors[0][atom_index][0], 't_dist_factors_1':t_dist_factors[1][atom_index][0], 'p_dist_core':p_dist_core[atom_index][0], 'p_dist_factors':p_dist_factors[atom_index][0], **d_}\n",
    "            d_ = {'t_lap_core':t_lap_core[0][0], 't_lap_factors_0':t_lap_factors[0][atom_index][0], 't_lap_factors_1':t_lap_factors[1][atom_index][0], 'p_lap_core':p_lap_core[atom_index][0], 'p_lap_factors':p_lap_factors[atom_index][0], **d_}\n",
    "            list_.append(d_)\n",
    "    except Exception as e:\n",
    "        raise Exception(item, e.__str__())\n",
    "    return list_\n",
    "\n",
    "\n",
    "def generate_datalist(ss, xyz, ssx, structures, structures_idx, bonds):\n",
    "    data_list = []\n",
    "    for item in tqdm_notebook(zip(ss.index, ss), total=len(ss)):\n",
    "        list_ = _worker(item, **{'xyz':xyz, 'ssx':ssx, 'structures':structures, 'structures_idx':structures_idx, 'bonds':bonds})\n",
    "        data_list = data_list + list_\n",
    "    df_ = pd.DataFrame(data_list)\n",
    "    return df_"
   ]
  },
  {
   "cell_type": "code",
   "execution_count": 204,
   "metadata": {},
   "outputs": [],
   "source": [
    "ss_train = ss[[i for i in train.molecule_name.unique().tolist() if i in ss.index]]"
   ]
  },
  {
   "cell_type": "code",
   "execution_count": null,
   "metadata": {},
   "outputs": [
    {
     "data": {
      "application/vnd.jupyter.widget-view+json": {
       "model_id": "67589726cc3f4552ba9d8e883c3fe448",
       "version_major": 2,
       "version_minor": 0
      },
      "text/plain": [
       "HBox(children=(IntProgress(value=0, max=85003), HTML(value='')))"
      ]
     },
     "metadata": {},
     "output_type": "display_data"
    },
    {
     "name": "stderr",
     "output_type": "stream",
     "text": [
      "/home/ubuntu/anaconda3/lib/python3.6/site-packages/tensorly/decomposition/_tucker.py:60: Warning: Given only one int for 'rank' intead of a list of 2 modes. Using this rank for all modes.\n",
      "  warnings.warn(message, Warning)\n"
     ]
    }
   ],
   "source": [
    "df_train = generate_datalist(ss_train, xyz, ssx, structures, structures_idx, train)"
   ]
  },
  {
   "cell_type": "code",
   "execution_count": null,
   "metadata": {},
   "outputs": [],
   "source": []
  }
 ],
 "metadata": {
  "kernelspec": {
   "display_name": "Python 3",
   "language": "python",
   "name": "python3"
  },
  "language_info": {
   "codemirror_mode": {
    "name": "ipython",
    "version": 3
   },
   "file_extension": ".py",
   "mimetype": "text/x-python",
   "name": "python",
   "nbconvert_exporter": "python",
   "pygments_lexer": "ipython3",
   "version": "3.6.5"
  }
 },
 "nbformat": 4,
 "nbformat_minor": 2
}
