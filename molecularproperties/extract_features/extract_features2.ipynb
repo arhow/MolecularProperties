{
 "cells": [
  {
   "cell_type": "code",
   "execution_count": 9,
   "metadata": {},
   "outputs": [
    {
     "data": {
      "text/html": [
       "<style>\n",
       "   div#notebook-container    { width: 95%; }\n",
       "   div#menubar-container     { width: 65%; }\n",
       "   div#maintoolbar-container { width: 99%; }\n",
       "</style>"
      ],
      "text/plain": [
       "<IPython.core.display.HTML object>"
      ]
     },
     "metadata": {},
     "output_type": "display_data"
    }
   ],
   "source": [
    "%%HTML\n",
    "<style>\n",
    "   div#notebook-container    { width: 95%; }\n",
    "   div#menubar-container     { width: 65%; }\n",
    "   div#maintoolbar-container { width: 99%; }\n",
    "</style>"
   ]
  },
  {
   "cell_type": "code",
   "execution_count": 1,
   "metadata": {},
   "outputs": [],
   "source": [
    "import sys\n",
    "sys.path.append(\"..\") # Adds higher directory to python modules path.\n",
    "from utilities import aggregate_feature_calculators\n",
    "from utilities import aggregate_feature_calculators_setting as aggcal\n",
    "from utilities.parallel import Parallel"
   ]
  },
  {
   "cell_type": "code",
   "execution_count": 2,
   "metadata": {},
   "outputs": [
    {
     "data": {
      "text/plain": [
       "RendererRegistry.enable('notebook')"
      ]
     },
     "execution_count": 2,
     "metadata": {},
     "output_type": "execute_result"
    }
   ],
   "source": [
    "import numpy as np\n",
    "import pandas as pd\n",
    "import os\n",
    "\n",
    "import matplotlib.pyplot as plt\n",
    "%matplotlib inline\n",
    "from tqdm import tqdm_notebook, tqdm\n",
    "from sklearn.preprocessing import StandardScaler\n",
    "from sklearn.svm import NuSVR, SVR\n",
    "from sklearn.metrics import mean_absolute_error\n",
    "from sklearn import preprocessing\n",
    "pd.options.display.precision = 15\n",
    "\n",
    "import lightgbm as lgb\n",
    "import xgboost as xgb\n",
    "import time\n",
    "import datetime\n",
    "from catboost import CatBoostRegressor\n",
    "from sklearn.preprocessing import LabelEncoder\n",
    "from sklearn.model_selection import StratifiedKFold, KFold, RepeatedKFold\n",
    "from sklearn import metrics\n",
    "from sklearn import linear_model\n",
    "import gc\n",
    "import seaborn as sns\n",
    "import warnings\n",
    "warnings.filterwarnings(\"ignore\")\n",
    "\n",
    "from IPython.display import HTML\n",
    "import json\n",
    "import altair as alt\n",
    "\n",
    "import copy\n",
    "\n",
    "import networkx as nx\n",
    "import matplotlib.pyplot as plt\n",
    "%matplotlib inline\n",
    "\n",
    "alt.renderers.enable('notebook')"
   ]
  },
  {
   "cell_type": "code",
   "execution_count": 3,
   "metadata": {},
   "outputs": [],
   "source": [
    "file_folder = 'data/input/champs-scalar-coupling' if 'champs-scalar-coupling' in os.listdir('../data/input/') else '../data/input'\n",
    "os.listdir(file_folder)\n",
    "train = pd.read_csv(f'{file_folder}/train.csv')\n",
    "test = pd.read_csv(f'{file_folder}/test.csv')"
   ]
  },
  {
   "cell_type": "code",
   "execution_count": 4,
   "metadata": {},
   "outputs": [],
   "source": [
    "# pd.set_option('display.max_columns', 200)\n",
    "# pd.set_option('display.max_colwidth', 200)"
   ]
  },
  {
   "cell_type": "code",
   "execution_count": 4,
   "metadata": {},
   "outputs": [],
   "source": [
    "feat1_train = pd.read_pickle('../data/feats/feats1_train.pkl')\n",
    "feat1_test = pd.read_pickle('../data/feats/feats1_test.pkl')\n",
    "feat1_train = feat1_train.drop_duplicates(subset=['id','molecule_name','atom_index_0','atom_index_1'])\n",
    "feat1_test = feat1_test.drop_duplicates(subset=['id','molecule_name','atom_index_0','atom_index_1'])"
   ]
  },
  {
   "cell_type": "code",
   "execution_count": 5,
   "metadata": {},
   "outputs": [
    {
     "data": {
      "text/plain": [
       "((4658147, 95), (2505542, 94))"
      ]
     },
     "execution_count": 5,
     "metadata": {},
     "output_type": "execute_result"
    }
   ],
   "source": [
    "feat1_train.shape, feat1_test.shape"
   ]
  },
  {
   "cell_type": "code",
   "execution_count": 6,
   "metadata": {},
   "outputs": [],
   "source": [
    "feat2_train = pd.read_pickle('../data/feats/feats2_train.pkl')\n",
    "feat2_test = pd.read_pickle('../data/feats/feats2_test.pkl')"
   ]
  },
  {
   "cell_type": "code",
   "execution_count": 7,
   "metadata": {},
   "outputs": [
    {
     "data": {
      "text/plain": [
       "((85003, 1090), (45772, 1090))"
      ]
     },
     "execution_count": 7,
     "metadata": {},
     "output_type": "execute_result"
    }
   ],
   "source": [
    "feat2_train.shape, feat2_test.shape"
   ]
  },
  {
   "cell_type": "code",
   "execution_count": 8,
   "metadata": {},
   "outputs": [],
   "source": [
    "def _map_atom_charges(df, charges, atom_idx):\n",
    "    df = pd.merge(df, charges, how = 'left', left_on  = ['molecule_name', f'atom_index_{atom_idx}'], right_on = ['molecule_name',  'atom_index'])\n",
    "    df = df.drop('atom_index', axis=1)\n",
    "    df = df.rename(columns={'charge': f'atom_index_{atom_idx}_charge'})\n",
    "    return df"
   ]
  },
  {
   "cell_type": "code",
   "execution_count": 10,
   "metadata": {},
   "outputs": [],
   "source": [
    "# feats = pd.merge(feat1_train, feat2_train, how = 'left', left_on  = ['molecule_name'], right_on = ['molecule_name'])\n",
    "feats_test = pd.merge(feat1_test, feat2_test, how = 'left', left_on  = ['molecule_name'], right_on = ['molecule_name'])"
   ]
  },
  {
   "cell_type": "code",
   "execution_count": 11,
   "metadata": {},
   "outputs": [],
   "source": [
    "# feat3_train = pd.read_pickle('../data/feats/feats3_train.pkl')\n",
    "feat3_test = pd.read_pickle('../data/feats/feats3_test.pkl')"
   ]
  },
  {
   "cell_type": "code",
   "execution_count": 13,
   "metadata": {},
   "outputs": [
    {
     "data": {
      "text/plain": [
       "(2505542, 15)"
      ]
     },
     "execution_count": 13,
     "metadata": {},
     "output_type": "execute_result"
    }
   ],
   "source": [
    "feat3_test.shape"
   ]
  },
  {
   "cell_type": "code",
   "execution_count": 14,
   "metadata": {},
   "outputs": [],
   "source": [
    "feats_test = pd.merge(feats_test, feat3_test, on=['molecule_name','atom_index_0','atom_index_1'])"
   ]
  },
  {
   "cell_type": "code",
   "execution_count": null,
   "metadata": {},
   "outputs": [],
   "source": [
    "def reduce_mem_usage(df, verbose=True):\n",
    "    numerics = ['int16', 'int32', 'int64', 'float16', 'float32', 'float64']\n",
    "    start_mem = df.memory_usage().sum() / 1024**2    \n",
    "    for col in df.columns:\n",
    "        col_type = df[col].dtypes\n",
    "        if col_type in numerics:\n",
    "            c_min = df[col].min()\n",
    "            c_max = df[col].max()\n",
    "            if str(col_type)[:3] == 'int':\n",
    "                if c_min > np.iinfo(np.int8).min and c_max < np.iinfo(np.int8).max:\n",
    "                    df[col] = df[col].astype(np.int8)\n",
    "                elif c_min > np.iinfo(np.int16).min and c_max < np.iinfo(np.int16).max:\n",
    "                    df[col] = df[col].astype(np.int16)\n",
    "                elif c_min > np.iinfo(np.int32).min and c_max < np.iinfo(np.int32).max:\n",
    "                    df[col] = df[col].astype(np.int32)\n",
    "                elif c_min > np.iinfo(np.int64).min and c_max < np.iinfo(np.int64).max:\n",
    "                    df[col] = df[col].astype(np.int64)  \n",
    "            else:\n",
    "                if c_min > np.finfo(np.float16).min and c_max < np.finfo(np.float16).max:\n",
    "                    df[col] = df[col].astype(np.float16)\n",
    "                elif c_min > np.finfo(np.float32).min and c_max < np.finfo(np.float32).max:\n",
    "                    df[col] = df[col].astype(np.float32)\n",
    "                else:\n",
    "                    df[col] = df[col].astype(np.float64)    \n",
    "    end_mem = df.memory_usage().sum() / 1024**2\n",
    "    if verbose: print('Mem. usage decreased to {:5.2f} Mb ({:.1f}% reduction)'.format(end_mem, 100 * (start_mem - end_mem) / start_mem))\n",
    "    return df"
   ]
  },
  {
   "cell_type": "code",
   "execution_count": 24,
   "metadata": {},
   "outputs": [
    {
     "name": "stdout",
     "output_type": "stream",
     "text": [
      "Mem. usage decreased to 6069.26 Mb (3.3% reduction)\n"
     ]
    }
   ],
   "source": [
    "# feats_test = reduce_mem_usage(feats_test)"
   ]
  },
  {
   "cell_type": "code",
   "execution_count": 15,
   "metadata": {},
   "outputs": [],
   "source": [
    "feat4 = pd.read_pickle('../data/feats/feats4.pkl')"
   ]
  },
  {
   "cell_type": "code",
   "execution_count": 16,
   "metadata": {},
   "outputs": [],
   "source": [
    "def _map_feats(feat1, feat2, atom_idx):\n",
    "    df = pd.merge(feat1, feat2, how = 'left', left_on  = ['molecule_name', f'atom_index_{atom_idx}'], right_on = ['molecule_name',  'atom_index'])\n",
    "    df = df.drop('atom_index', axis=1)\n",
    "    df = df.rename(columns={'bonds2_n_bonds': f'atom_index_{atom_idx}_bonds2_n_bonds', \n",
    "                           'bonds2_bonds_std': f'atom_index_{atom_idx}_bonds2_bonds_std',\n",
    "                           'bonds2_bonds_mean': f'atom_index_{atom_idx}_bonds2_bonds_mean',\n",
    "                           'bonds2_bond_lengths_mean': f'atom_index_{atom_idx}_bonds2_bond_lengths_mean',\n",
    "                           'bonds2_bond_lengths_std': f'atom_index_{atom_idx}_bonds2_bond_lengths_std'})\n",
    "    return df"
   ]
  },
  {
   "cell_type": "code",
   "execution_count": 17,
   "metadata": {},
   "outputs": [],
   "source": [
    "feats_test = _map_feats(feats_test, feat4, 0)\n",
    "feats_test = _map_feats(feats_test, feat4, 1)"
   ]
  },
  {
   "cell_type": "code",
   "execution_count": 18,
   "metadata": {},
   "outputs": [],
   "source": [
    "# feat5_train = pd.read_pickle('../data/feats/feats5_train.pkl')\n",
    "feat5_test = pd.read_pickle('../data/feats/feats5_test.pkl')"
   ]
  },
  {
   "cell_type": "code",
   "execution_count": 19,
   "metadata": {},
   "outputs": [],
   "source": [
    "# feats = pd.merge(feats, feat5_train, on='id')\n",
    "feats_test = pd.merge(feats_test, feat5_test, on='id')"
   ]
  },
  {
   "cell_type": "code",
   "execution_count": 23,
   "metadata": {},
   "outputs": [],
   "source": [
    "for index, count in zip(feats_test.columns.value_counts().index, feats_test.columns.value_counts()):\n",
    "    if count>1:\n",
    "        print(index)"
   ]
  },
  {
   "cell_type": "code",
   "execution_count": 26,
   "metadata": {},
   "outputs": [
    {
     "name": "stdout",
     "output_type": "stream",
     "text": [
      "dist_x\n",
      "dist_y\n",
      "eem2015ba_dipole_moment_x\n",
      "eem2015ba_dipole_moment_y\n",
      "eem2015bm_dipole_moment_x\n",
      "eem2015bm_dipole_moment_y\n",
      "eem2015bn_dipole_moment_x\n",
      "eem2015bn_dipole_moment_y\n",
      "eem2015ha_dipole_moment_x\n",
      "eem2015ha_dipole_moment_y\n",
      "eem2015hm_dipole_moment_x\n",
      "eem2015hm_dipole_moment_y\n",
      "eem2015hn_dipole_moment_x\n",
      "eem2015hn_dipole_moment_y\n",
      "eem_dipole_moment_x\n",
      "eem_dipole_moment_y\n",
      "gasteiger_dipole_moment_x\n",
      "gasteiger_dipole_moment_y\n",
      "mmff94_dipole_moment_x\n",
      "mmff94_dipole_moment_y\n",
      "qeq_dipole_moment_x\n",
      "qeq_dipole_moment_y\n",
      "qtpie_dipole_moment_x\n",
      "qtpie_dipole_moment_y\n",
      "atom_x\n",
      "atom_y\n"
     ]
    }
   ],
   "source": [
    "for col in feats_test.columns:\n",
    "    if col.endswith('_x'):\n",
    "        print(col)\n",
    "    if col.endswith('_y'):\n",
    "        print(col)"
   ]
  },
  {
   "cell_type": "code",
   "execution_count": 24,
   "metadata": {},
   "outputs": [
    {
     "data": {
      "text/plain": [
       "('qeq_dipole_moment_impulse_factor_', 1)"
      ]
     },
     "execution_count": 24,
     "metadata": {},
     "output_type": "execute_result"
    }
   ],
   "source": [
    "index, count"
   ]
  },
  {
   "cell_type": "code",
   "execution_count": 28,
   "metadata": {},
   "outputs": [
    {
     "data": {
      "text/plain": [
       "(2505542, 1211)"
      ]
     },
     "execution_count": 28,
     "metadata": {},
     "output_type": "execute_result"
    }
   ],
   "source": [
    "feats_test.shape"
   ]
  },
  {
   "cell_type": "code",
   "execution_count": null,
   "metadata": {},
   "outputs": [],
   "source": [
    "# feats.to_pickle('../data/feats/feats_train.pkl')\n",
    "feats_test.to_pickle('../data/feats/feats_test.pkl')"
   ]
  },
  {
   "cell_type": "code",
   "execution_count": 36,
   "metadata": {},
   "outputs": [],
   "source": [
    "feats_train = pd.read_pickle('../data/feats/feats_train.pkl')"
   ]
  },
  {
   "cell_type": "code",
   "execution_count": 37,
   "metadata": {},
   "outputs": [
    {
     "data": {
      "text/html": [
       "<div>\n",
       "<style scoped>\n",
       "    .dataframe tbody tr th:only-of-type {\n",
       "        vertical-align: middle;\n",
       "    }\n",
       "\n",
       "    .dataframe tbody tr th {\n",
       "        vertical-align: top;\n",
       "    }\n",
       "\n",
       "    .dataframe thead th {\n",
       "        text-align: right;\n",
       "    }\n",
       "</style>\n",
       "<table border=\"1\" class=\"dataframe\">\n",
       "  <thead>\n",
       "    <tr style=\"text-align: right;\">\n",
       "      <th></th>\n",
       "      <th>id</th>\n",
       "      <th>molecule_name</th>\n",
       "      <th>atom_index_0</th>\n",
       "      <th>atom_index_1</th>\n",
       "      <th>type</th>\n",
       "      <th>scalar_coupling_constant</th>\n",
       "      <th>atom_0</th>\n",
       "      <th>x_0</th>\n",
       "      <th>y_0</th>\n",
       "      <th>z_0</th>\n",
       "      <th>...</th>\n",
       "      <th>atom_y</th>\n",
       "      <th>atom_index_1_bonds2_n_bonds</th>\n",
       "      <th>atom_index_1_bonds2_bonds_std</th>\n",
       "      <th>atom_index_1_bonds2_bonds_mean</th>\n",
       "      <th>atom_index_1_bonds2_bond_lengths_mean</th>\n",
       "      <th>atom_index_1_bonds2_bond_lengths_std</th>\n",
       "      <th>bonds3_bond_angle_axis</th>\n",
       "      <th>bonds3_bond_angle_plane</th>\n",
       "      <th>bonds3_flatness</th>\n",
       "      <th>bonds3_size</th>\n",
       "    </tr>\n",
       "  </thead>\n",
       "  <tbody>\n",
       "    <tr>\n",
       "      <th>0</th>\n",
       "      <td>0</td>\n",
       "      <td>dsgdb9nsd_000001</td>\n",
       "      <td>1</td>\n",
       "      <td>0</td>\n",
       "      <td>1JHC</td>\n",
       "      <td>84.8125000</td>\n",
       "      <td>H</td>\n",
       "      <td>0.00214958190918</td>\n",
       "      <td>-0.006031036376953</td>\n",
       "      <td>0.001976013183594</td>\n",
       "      <td>...</td>\n",
       "      <td>C</td>\n",
       "      <td>4</td>\n",
       "      <td>1.118033988749895</td>\n",
       "      <td>2.5</td>\n",
       "      <td>1.091949701309204</td>\n",
       "      <td>0.00000276246783</td>\n",
       "      <td>34.460723380037479</td>\n",
       "      <td>52.084336234864878</td>\n",
       "      <td>0.443763023754605</td>\n",
       "      <td>5</td>\n",
       "    </tr>\n",
       "    <tr>\n",
       "      <th>1</th>\n",
       "      <td>1</td>\n",
       "      <td>dsgdb9nsd_000001</td>\n",
       "      <td>1</td>\n",
       "      <td>2</td>\n",
       "      <td>2JHH</td>\n",
       "      <td>-11.2578125</td>\n",
       "      <td>H</td>\n",
       "      <td>0.00214958190918</td>\n",
       "      <td>-0.006031036376953</td>\n",
       "      <td>0.001976013183594</td>\n",
       "      <td>...</td>\n",
       "      <td>H</td>\n",
       "      <td>1</td>\n",
       "      <td>0.000000000000000</td>\n",
       "      <td>0.0</td>\n",
       "      <td>1.091951608657837</td>\n",
       "      <td>0.00000000000000</td>\n",
       "      <td>0.804151194742914</td>\n",
       "      <td>73.351369045633533</td>\n",
       "      <td>0.443763023754605</td>\n",
       "      <td>5</td>\n",
       "    </tr>\n",
       "    <tr>\n",
       "      <th>2</th>\n",
       "      <td>2</td>\n",
       "      <td>dsgdb9nsd_000001</td>\n",
       "      <td>1</td>\n",
       "      <td>3</td>\n",
       "      <td>2JHH</td>\n",
       "      <td>-11.2578125</td>\n",
       "      <td>H</td>\n",
       "      <td>0.00214958190918</td>\n",
       "      <td>-0.006031036376953</td>\n",
       "      <td>0.001976013183594</td>\n",
       "      <td>...</td>\n",
       "      <td>H</td>\n",
       "      <td>1</td>\n",
       "      <td>0.000000000000000</td>\n",
       "      <td>0.0</td>\n",
       "      <td>1.091946363449097</td>\n",
       "      <td>0.00000000000000</td>\n",
       "      <td>44.696642634984471</td>\n",
       "      <td>39.073645954716966</td>\n",
       "      <td>0.443763023754605</td>\n",
       "      <td>5</td>\n",
       "    </tr>\n",
       "    <tr>\n",
       "      <th>3</th>\n",
       "      <td>3</td>\n",
       "      <td>dsgdb9nsd_000001</td>\n",
       "      <td>1</td>\n",
       "      <td>4</td>\n",
       "      <td>2JHH</td>\n",
       "      <td>-11.2578125</td>\n",
       "      <td>H</td>\n",
       "      <td>0.00214958190918</td>\n",
       "      <td>-0.006031036376953</td>\n",
       "      <td>0.001976013183594</td>\n",
       "      <td>...</td>\n",
       "      <td>H</td>\n",
       "      <td>1</td>\n",
       "      <td>0.000000000000000</td>\n",
       "      <td>0.0</td>\n",
       "      <td>1.091947555541992</td>\n",
       "      <td>0.00000000000000</td>\n",
       "      <td>44.160490642102197</td>\n",
       "      <td>20.124275273416615</td>\n",
       "      <td>0.443763023754605</td>\n",
       "      <td>5</td>\n",
       "    </tr>\n",
       "    <tr>\n",
       "      <th>4</th>\n",
       "      <td>4</td>\n",
       "      <td>dsgdb9nsd_000001</td>\n",
       "      <td>2</td>\n",
       "      <td>0</td>\n",
       "      <td>1JHC</td>\n",
       "      <td>84.8125000</td>\n",
       "      <td>H</td>\n",
       "      <td>1.01171875000000</td>\n",
       "      <td>1.463867187500000</td>\n",
       "      <td>0.000276565551758</td>\n",
       "      <td>...</td>\n",
       "      <td>C</td>\n",
       "      <td>4</td>\n",
       "      <td>1.118033988749895</td>\n",
       "      <td>2.5</td>\n",
       "      <td>1.091949701309204</td>\n",
       "      <td>0.00000276246783</td>\n",
       "      <td>36.069061300003682</td>\n",
       "      <td>50.858953318489803</td>\n",
       "      <td>0.443763023754605</td>\n",
       "      <td>5</td>\n",
       "    </tr>\n",
       "  </tbody>\n",
       "</table>\n",
       "<p>5 rows × 1212 columns</p>\n",
       "</div>"
      ],
      "text/plain": [
       "   id     molecule_name  atom_index_0  atom_index_1  type  \\\n",
       "0   0  dsgdb9nsd_000001             1             0  1JHC   \n",
       "1   1  dsgdb9nsd_000001             1             2  2JHH   \n",
       "2   2  dsgdb9nsd_000001             1             3  2JHH   \n",
       "3   3  dsgdb9nsd_000001             1             4  2JHH   \n",
       "4   4  dsgdb9nsd_000001             2             0  1JHC   \n",
       "\n",
       "   scalar_coupling_constant atom_0               x_0                y_0  \\\n",
       "0                84.8125000      H  0.00214958190918 -0.006031036376953   \n",
       "1               -11.2578125      H  0.00214958190918 -0.006031036376953   \n",
       "2               -11.2578125      H  0.00214958190918 -0.006031036376953   \n",
       "3               -11.2578125      H  0.00214958190918 -0.006031036376953   \n",
       "4                84.8125000      H  1.01171875000000  1.463867187500000   \n",
       "\n",
       "                 z_0  ... atom_y  atom_index_1_bonds2_n_bonds  \\\n",
       "0  0.001976013183594  ...      C                            4   \n",
       "1  0.001976013183594  ...      H                            1   \n",
       "2  0.001976013183594  ...      H                            1   \n",
       "3  0.001976013183594  ...      H                            1   \n",
       "4  0.000276565551758  ...      C                            4   \n",
       "\n",
       "   atom_index_1_bonds2_bonds_std  atom_index_1_bonds2_bonds_mean  \\\n",
       "0              1.118033988749895                             2.5   \n",
       "1              0.000000000000000                             0.0   \n",
       "2              0.000000000000000                             0.0   \n",
       "3              0.000000000000000                             0.0   \n",
       "4              1.118033988749895                             2.5   \n",
       "\n",
       "   atom_index_1_bonds2_bond_lengths_mean  \\\n",
       "0                      1.091949701309204   \n",
       "1                      1.091951608657837   \n",
       "2                      1.091946363449097   \n",
       "3                      1.091947555541992   \n",
       "4                      1.091949701309204   \n",
       "\n",
       "   atom_index_1_bonds2_bond_lengths_std  bonds3_bond_angle_axis  \\\n",
       "0                      0.00000276246783      34.460723380037479   \n",
       "1                      0.00000000000000       0.804151194742914   \n",
       "2                      0.00000000000000      44.696642634984471   \n",
       "3                      0.00000000000000      44.160490642102197   \n",
       "4                      0.00000276246783      36.069061300003682   \n",
       "\n",
       "   bonds3_bond_angle_plane    bonds3_flatness bonds3_size  \n",
       "0       52.084336234864878  0.443763023754605           5  \n",
       "1       73.351369045633533  0.443763023754605           5  \n",
       "2       39.073645954716966  0.443763023754605           5  \n",
       "3       20.124275273416615  0.443763023754605           5  \n",
       "4       50.858953318489803  0.443763023754605           5  \n",
       "\n",
       "[5 rows x 1212 columns]"
      ]
     },
     "execution_count": 37,
     "metadata": {},
     "output_type": "execute_result"
    }
   ],
   "source": [
    "feats_train.head()"
   ]
  },
  {
   "cell_type": "code",
   "execution_count": 56,
   "metadata": {},
   "outputs": [
    {
     "data": {
      "text/plain": [
       "True"
      ]
     },
     "execution_count": 56,
     "metadata": {},
     "output_type": "execute_result"
    }
   ],
   "source": [
    "'id' in feats_train.columns"
   ]
  },
  {
   "cell_type": "code",
   "execution_count": 54,
   "metadata": {},
   "outputs": [
    {
     "name": "stdout",
     "output_type": "stream",
     "text": [
      "molecule_name object\n",
      "type object\n",
      "atom_0 object\n",
      "atom_1 object\n",
      "type_0 object\n",
      "type_1 object\n",
      "bond_type object\n",
      "atom_x object\n",
      "atom_y object\n"
     ]
    }
   ],
   "source": [
    "numerics = ['int16', 'int8', 'int32', 'int64', 'float16', 'float32', 'float64']\n",
    "for col in feats_train.columns:\n",
    "    col_type = feats_train[col].dtypes\n",
    "    if not col_type in numerics:\n",
    "        print(col, col_type)"
   ]
  },
  {
   "cell_type": "code",
   "execution_count": 55,
   "metadata": {},
   "outputs": [
    {
     "data": {
      "text/html": [
       "<div>\n",
       "<style scoped>\n",
       "    .dataframe tbody tr th:only-of-type {\n",
       "        vertical-align: middle;\n",
       "    }\n",
       "\n",
       "    .dataframe tbody tr th {\n",
       "        vertical-align: top;\n",
       "    }\n",
       "\n",
       "    .dataframe thead th {\n",
       "        text-align: right;\n",
       "    }\n",
       "</style>\n",
       "<table border=\"1\" class=\"dataframe\">\n",
       "  <thead>\n",
       "    <tr style=\"text-align: right;\">\n",
       "      <th></th>\n",
       "      <th>molecule_name</th>\n",
       "      <th>type</th>\n",
       "      <th>atom_0</th>\n",
       "      <th>atom_1</th>\n",
       "      <th>type_0</th>\n",
       "      <th>type_1</th>\n",
       "      <th>bond_type</th>\n",
       "      <th>atom_x</th>\n",
       "      <th>atom_y</th>\n",
       "    </tr>\n",
       "  </thead>\n",
       "  <tbody>\n",
       "    <tr>\n",
       "      <th>0</th>\n",
       "      <td>dsgdb9nsd_000001</td>\n",
       "      <td>1JHC</td>\n",
       "      <td>H</td>\n",
       "      <td>C</td>\n",
       "      <td>1</td>\n",
       "      <td>JHC</td>\n",
       "      <td>1.0CH</td>\n",
       "      <td>H</td>\n",
       "      <td>C</td>\n",
       "    </tr>\n",
       "    <tr>\n",
       "      <th>1</th>\n",
       "      <td>dsgdb9nsd_000001</td>\n",
       "      <td>2JHH</td>\n",
       "      <td>H</td>\n",
       "      <td>H</td>\n",
       "      <td>2</td>\n",
       "      <td>JHH</td>\n",
       "      <td>none</td>\n",
       "      <td>H</td>\n",
       "      <td>H</td>\n",
       "    </tr>\n",
       "    <tr>\n",
       "      <th>2</th>\n",
       "      <td>dsgdb9nsd_000001</td>\n",
       "      <td>2JHH</td>\n",
       "      <td>H</td>\n",
       "      <td>H</td>\n",
       "      <td>2</td>\n",
       "      <td>JHH</td>\n",
       "      <td>none</td>\n",
       "      <td>H</td>\n",
       "      <td>H</td>\n",
       "    </tr>\n",
       "    <tr>\n",
       "      <th>3</th>\n",
       "      <td>dsgdb9nsd_000001</td>\n",
       "      <td>2JHH</td>\n",
       "      <td>H</td>\n",
       "      <td>H</td>\n",
       "      <td>2</td>\n",
       "      <td>JHH</td>\n",
       "      <td>none</td>\n",
       "      <td>H</td>\n",
       "      <td>H</td>\n",
       "    </tr>\n",
       "    <tr>\n",
       "      <th>4</th>\n",
       "      <td>dsgdb9nsd_000001</td>\n",
       "      <td>1JHC</td>\n",
       "      <td>H</td>\n",
       "      <td>C</td>\n",
       "      <td>1</td>\n",
       "      <td>JHC</td>\n",
       "      <td>1.0CH</td>\n",
       "      <td>H</td>\n",
       "      <td>C</td>\n",
       "    </tr>\n",
       "  </tbody>\n",
       "</table>\n",
       "</div>"
      ],
      "text/plain": [
       "      molecule_name  type atom_0 atom_1 type_0 type_1 bond_type atom_x atom_y\n",
       "0  dsgdb9nsd_000001  1JHC      H      C      1    JHC     1.0CH      H      C\n",
       "1  dsgdb9nsd_000001  2JHH      H      H      2    JHH      none      H      H\n",
       "2  dsgdb9nsd_000001  2JHH      H      H      2    JHH      none      H      H\n",
       "3  dsgdb9nsd_000001  2JHH      H      H      2    JHH      none      H      H\n",
       "4  dsgdb9nsd_000001  1JHC      H      C      1    JHC     1.0CH      H      C"
      ]
     },
     "execution_count": 55,
     "metadata": {},
     "output_type": "execute_result"
    }
   ],
   "source": [
    "feats_train[['molecule_name', 'type', 'atom_0', 'atom_1', 'type_0', 'type_1', 'bond_type', 'atom_x', 'atom_y']].head()"
   ]
  },
  {
   "cell_type": "code",
   "execution_count": 30,
   "metadata": {},
   "outputs": [
    {
     "name": "stdout",
     "output_type": "stream",
     "text": [
      "bond_type\n"
     ]
    }
   ],
   "source": [
    "for col in ['atom_0', 'atom_1', 'type_0', 'type_1', 'bond_type']:\n",
    "    if col not in feat1_train.columns:\n",
    "        print(col)"
   ]
  },
  {
   "cell_type": "code",
   "execution_count": 31,
   "metadata": {},
   "outputs": [],
   "source": [
    "for col in ['atom_0', 'atom_1', 'type_0', 'type_1']: #, 'bond_type'\n",
    "    le = preprocessing.LabelEncoder()\n",
    "    le.fit(feat1_train[col].tolist())\n",
    "#     feats_train['int_'.format(col)] = le.transform(feats_train[col].tolist())\n",
    "    feats_test['int_'.format(col)] = le.transform(feats_test[col].tolist())"
   ]
  },
  {
   "cell_type": "code",
   "execution_count": 59,
   "metadata": {},
   "outputs": [],
   "source": [
    "feats_train = feats_train.drop(columns=['molecule_name', 'type', 'atom_0', 'atom_1', 'type_0', 'type_1', 'bond_type', 'atom_x', 'atom_y'])\n",
    "feats_test = feats_test.drop(columns=['molecule_name', 'type', 'atom_0', 'atom_1', 'type_0', 'type_1', 'bond_type', 'atom_x', 'atom_y'])"
   ]
  },
  {
   "cell_type": "code",
   "execution_count": 67,
   "metadata": {},
   "outputs": [],
   "source": [
    "nullcolumns = []   \n",
    "for col, nullcount in zip(feats_train.columns, feats_train.isnull().sum()):\n",
    "    if nullcount!=0:\n",
    "        series_ = feats_train[col].replace([np.inf, -np.inf], np.nan).dropna()\n",
    "        nullcolumns.append({'feature':col, 'nullcount':nullcount, 'min':series_.min(), 'max':series_.max()})"
   ]
  },
  {
   "cell_type": "code",
   "execution_count": 69,
   "metadata": {},
   "outputs": [],
   "source": [
    "df_nullcolumns = pd.DataFrame(nullcolumns)"
   ]
  },
  {
   "cell_type": "code",
   "execution_count": 72,
   "metadata": {},
   "outputs": [],
   "source": [
    "fullnullcolumns = df_nullcolumns[df_nullcolumns['nullcount']==4658147]['feature'].tolist()"
   ]
  },
  {
   "cell_type": "code",
   "execution_count": 73,
   "metadata": {},
   "outputs": [],
   "source": [
    "feats_train = feats_train.drop(columns=fullnullcolumns)\n",
    "feats_test = feats_test.drop(columns=fullnullcolumns)"
   ]
  },
  {
   "cell_type": "code",
   "execution_count": 81,
   "metadata": {},
   "outputs": [
    {
     "data": {
      "text/html": [
       "<div>\n",
       "<style scoped>\n",
       "    .dataframe tbody tr th:only-of-type {\n",
       "        vertical-align: middle;\n",
       "    }\n",
       "\n",
       "    .dataframe tbody tr th {\n",
       "        vertical-align: top;\n",
       "    }\n",
       "\n",
       "    .dataframe thead th {\n",
       "        text-align: right;\n",
       "    }\n",
       "</style>\n",
       "<table border=\"1\" class=\"dataframe\">\n",
       "  <thead>\n",
       "    <tr style=\"text-align: right;\">\n",
       "      <th></th>\n",
       "      <th>feature</th>\n",
       "      <th>max</th>\n",
       "      <th>min</th>\n",
       "      <th>nullcount</th>\n",
       "    </tr>\n",
       "  </thead>\n",
       "  <tbody>\n",
       "    <tr>\n",
       "      <th>0</th>\n",
       "      <td>molecule_atom_index_0_x_1_std</td>\n",
       "      <td>2.066406250000000</td>\n",
       "      <td>7.283687591552734e-05</td>\n",
       "      <td>4</td>\n",
       "    </tr>\n",
       "    <tr>\n",
       "      <th>1</th>\n",
       "      <td>molecule_atom_index_0_y_1_mean_div</td>\n",
       "      <td>971766.920986789395101</td>\n",
       "      <td>-1.077306585180925e+06</td>\n",
       "      <td>24</td>\n",
       "    </tr>\n",
       "    <tr>\n",
       "      <th>2</th>\n",
       "      <td>molecule_atom_index_0_y_1_std</td>\n",
       "      <td>2.041015625000000</td>\n",
       "      <td>0.000000000000000e+00</td>\n",
       "      <td>4</td>\n",
       "    </tr>\n",
       "    <tr>\n",
       "      <th>3</th>\n",
       "      <td>molecule_atom_index_0_z_1_std</td>\n",
       "      <td>2.074218750000000</td>\n",
       "      <td>0.000000000000000e+00</td>\n",
       "      <td>4</td>\n",
       "    </tr>\n",
       "    <tr>\n",
       "      <th>4</th>\n",
       "      <td>molecule_atom_index_0_dist_std</td>\n",
       "      <td>1.592773437500000</td>\n",
       "      <td>2.198486328125000e-01</td>\n",
       "      <td>4</td>\n",
       "    </tr>\n",
       "    <tr>\n",
       "      <th>5</th>\n",
       "      <td>molecule_atom_index_0_dist_std_diff</td>\n",
       "      <td>0.499511718750000</td>\n",
       "      <td>-3.203125000000000e+00</td>\n",
       "      <td>4</td>\n",
       "    </tr>\n",
       "    <tr>\n",
       "      <th>6</th>\n",
       "      <td>molecule_atom_index_0_dist_std_div</td>\n",
       "      <td>1.457031250000000</td>\n",
       "      <td>1.001586914062500e-01</td>\n",
       "      <td>4</td>\n",
       "    </tr>\n",
       "    <tr>\n",
       "      <th>7</th>\n",
       "      <td>molecule_atom_index_1_dist_std</td>\n",
       "      <td>1.859375000000000</td>\n",
       "      <td>0.000000000000000e+00</td>\n",
       "      <td>284076</td>\n",
       "    </tr>\n",
       "    <tr>\n",
       "      <th>8</th>\n",
       "      <td>molecule_atom_index_1_dist_std_diff</td>\n",
       "      <td>0.758789062500000</td>\n",
       "      <td>-3.738281250000000e+00</td>\n",
       "      <td>284076</td>\n",
       "    </tr>\n",
       "    <tr>\n",
       "      <th>9</th>\n",
       "      <td>molecule_atom_index_1_dist_std_div</td>\n",
       "      <td>1.718750000000000</td>\n",
       "      <td>0.000000000000000e+00</td>\n",
       "      <td>284076</td>\n",
       "    </tr>\n",
       "    <tr>\n",
       "      <th>10</th>\n",
       "      <td>molecule_atom_1_dist_std</td>\n",
       "      <td>1.729492187500000</td>\n",
       "      <td>0.000000000000000e+00</td>\n",
       "      <td>4699</td>\n",
       "    </tr>\n",
       "    <tr>\n",
       "      <th>11</th>\n",
       "      <td>molecule_atom_1_dist_std_diff</td>\n",
       "      <td>0.723144531250000</td>\n",
       "      <td>-3.416015625000000e+00</td>\n",
       "      <td>4699</td>\n",
       "    </tr>\n",
       "    <tr>\n",
       "      <th>12</th>\n",
       "      <td>molecule_type_0_dist_std</td>\n",
       "      <td>0.842285156250000</td>\n",
       "      <td>0.000000000000000e+00</td>\n",
       "      <td>342</td>\n",
       "    </tr>\n",
       "    <tr>\n",
       "      <th>13</th>\n",
       "      <td>molecule_type_0_dist_std_diff</td>\n",
       "      <td>-0.930175781250000</td>\n",
       "      <td>-3.738281250000000e+00</td>\n",
       "      <td>342</td>\n",
       "    </tr>\n",
       "    <tr>\n",
       "      <th>14</th>\n",
       "      <td>molecule_type_dist_std</td>\n",
       "      <td>0.933105468750000</td>\n",
       "      <td>0.000000000000000e+00</td>\n",
       "      <td>48394</td>\n",
       "    </tr>\n",
       "    <tr>\n",
       "      <th>15</th>\n",
       "      <td>molecule_type_dist_std_diff</td>\n",
       "      <td>-0.959960937500000</td>\n",
       "      <td>-3.738281250000000e+00</td>\n",
       "      <td>48394</td>\n",
       "    </tr>\n",
       "    <tr>\n",
       "      <th>23</th>\n",
       "      <td>gasteiger_dipole_moment_entropy_</td>\n",
       "      <td>1.098632812500000</td>\n",
       "      <td>1.852416992187500e-02</td>\n",
       "      <td>6</td>\n",
       "    </tr>\n",
       "    <tr>\n",
       "      <th>25</th>\n",
       "      <td>mmff94_dipole_moment_entropy_</td>\n",
       "      <td>1.098632812500000</td>\n",
       "      <td>1.305389404296875e-02</td>\n",
       "      <td>53368</td>\n",
       "    </tr>\n",
       "    <tr>\n",
       "      <th>27</th>\n",
       "      <td>mmff94_partical_charges_entropy_</td>\n",
       "      <td>3.003906250000000</td>\n",
       "      <td>9.975585937500000e-01</td>\n",
       "      <td>53362</td>\n",
       "    </tr>\n",
       "    <tr>\n",
       "      <th>30</th>\n",
       "      <td>bonds3_bond_angle_axis</td>\n",
       "      <td>89.999999146226344</td>\n",
       "      <td>0.000000000000000e+00</td>\n",
       "      <td>8</td>\n",
       "    </tr>\n",
       "    <tr>\n",
       "      <th>31</th>\n",
       "      <td>bonds3_bond_angle_plane</td>\n",
       "      <td>90.000000000000000</td>\n",
       "      <td>0.000000000000000e+00</td>\n",
       "      <td>3</td>\n",
       "    </tr>\n",
       "    <tr>\n",
       "      <th>32</th>\n",
       "      <td>bonds3_flatness</td>\n",
       "      <td>1.217613104801377</td>\n",
       "      <td>1.710569414459005e-49</td>\n",
       "      <td>3</td>\n",
       "    </tr>\n",
       "  </tbody>\n",
       "</table>\n",
       "</div>"
      ],
      "text/plain": [
       "                                feature                     max  \\\n",
       "0         molecule_atom_index_0_x_1_std       2.066406250000000   \n",
       "1    molecule_atom_index_0_y_1_mean_div  971766.920986789395101   \n",
       "2         molecule_atom_index_0_y_1_std       2.041015625000000   \n",
       "3         molecule_atom_index_0_z_1_std       2.074218750000000   \n",
       "4        molecule_atom_index_0_dist_std       1.592773437500000   \n",
       "5   molecule_atom_index_0_dist_std_diff       0.499511718750000   \n",
       "6    molecule_atom_index_0_dist_std_div       1.457031250000000   \n",
       "7        molecule_atom_index_1_dist_std       1.859375000000000   \n",
       "8   molecule_atom_index_1_dist_std_diff       0.758789062500000   \n",
       "9    molecule_atom_index_1_dist_std_div       1.718750000000000   \n",
       "10             molecule_atom_1_dist_std       1.729492187500000   \n",
       "11        molecule_atom_1_dist_std_diff       0.723144531250000   \n",
       "12             molecule_type_0_dist_std       0.842285156250000   \n",
       "13        molecule_type_0_dist_std_diff      -0.930175781250000   \n",
       "14               molecule_type_dist_std       0.933105468750000   \n",
       "15          molecule_type_dist_std_diff      -0.959960937500000   \n",
       "23     gasteiger_dipole_moment_entropy_       1.098632812500000   \n",
       "25        mmff94_dipole_moment_entropy_       1.098632812500000   \n",
       "27     mmff94_partical_charges_entropy_       3.003906250000000   \n",
       "30               bonds3_bond_angle_axis      89.999999146226344   \n",
       "31              bonds3_bond_angle_plane      90.000000000000000   \n",
       "32                      bonds3_flatness       1.217613104801377   \n",
       "\n",
       "                      min  nullcount  \n",
       "0   7.283687591552734e-05          4  \n",
       "1  -1.077306585180925e+06         24  \n",
       "2   0.000000000000000e+00          4  \n",
       "3   0.000000000000000e+00          4  \n",
       "4   2.198486328125000e-01          4  \n",
       "5  -3.203125000000000e+00          4  \n",
       "6   1.001586914062500e-01          4  \n",
       "7   0.000000000000000e+00     284076  \n",
       "8  -3.738281250000000e+00     284076  \n",
       "9   0.000000000000000e+00     284076  \n",
       "10  0.000000000000000e+00       4699  \n",
       "11 -3.416015625000000e+00       4699  \n",
       "12  0.000000000000000e+00        342  \n",
       "13 -3.738281250000000e+00        342  \n",
       "14  0.000000000000000e+00      48394  \n",
       "15 -3.738281250000000e+00      48394  \n",
       "23  1.852416992187500e-02          6  \n",
       "25  1.305389404296875e-02      53368  \n",
       "27  9.975585937500000e-01      53362  \n",
       "30  0.000000000000000e+00          8  \n",
       "31  0.000000000000000e+00          3  \n",
       "32  1.710569414459005e-49          3  "
      ]
     },
     "execution_count": 81,
     "metadata": {},
     "output_type": "execute_result"
    }
   ],
   "source": [
    "df_nullcolumns[df_nullcolumns['feature'].isin([col for col in df_nullcolumns['feature'].tolist() if col not in fullnullcolumns])]"
   ]
  },
  {
   "cell_type": "code",
   "execution_count": 82,
   "metadata": {},
   "outputs": [],
   "source": [
    "feats_train = feats_train.replace([np.inf, -np.inf], np.nan)\n",
    "feats_test = feats_test.replace([np.inf, -np.inf], np.nan)"
   ]
  },
  {
   "cell_type": "code",
   "execution_count": 84,
   "metadata": {},
   "outputs": [],
   "source": [
    "feats_train = feats_train.fillna(0)\n",
    "feats_test = feats_test.fillna(0)"
   ]
  },
  {
   "cell_type": "code",
   "execution_count": 85,
   "metadata": {},
   "outputs": [],
   "source": [
    "feats_train.to_pickle('../data/feats/feats_train.pkl')\n",
    "feats_test.to_pickle('../data/feats/feats_test.pkl')"
   ]
  },
  {
   "cell_type": "code",
   "execution_count": null,
   "metadata": {},
   "outputs": [],
   "source": []
  }
 ],
 "metadata": {
  "kernelspec": {
   "display_name": "Environment (conda_tensorflow_gpu_p36)",
   "language": "python",
   "name": "conda_tensorflow_gpu_p36"
  },
  "language_info": {
   "codemirror_mode": {
    "name": "ipython",
    "version": 3
   },
   "file_extension": ".py",
   "mimetype": "text/x-python",
   "name": "python",
   "nbconvert_exporter": "python",
   "pygments_lexer": "ipython3",
   "version": "3.6.5"
  }
 },
 "nbformat": 4,
 "nbformat_minor": 2
}
