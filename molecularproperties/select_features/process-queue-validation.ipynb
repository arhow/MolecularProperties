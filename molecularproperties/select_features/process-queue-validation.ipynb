{
 "cells": [
  {
   "cell_type": "code",
   "execution_count": 1,
   "metadata": {},
   "outputs": [
    {
     "data": {
      "text/html": [
       "<style>\n",
       "   div#notebook-container    { width: 95%; }\n",
       "   div#menubar-container     { width: 65%; }\n",
       "   div#maintoolbar-container { width: 99%; }\n",
       "</style>\n"
      ],
      "text/plain": [
       "<IPython.core.display.HTML object>"
      ]
     },
     "metadata": {},
     "output_type": "display_data"
    }
   ],
   "source": [
    "%%HTML\n",
    "<style>\n",
    "   div#notebook-container    { width: 95%; }\n",
    "   div#menubar-container     { width: 65%; }\n",
    "   div#maintoolbar-container { width: 99%; }\n",
    "</style>"
   ]
  },
  {
   "cell_type": "code",
   "execution_count": 1,
   "metadata": {},
   "outputs": [],
   "source": [
    "import sys\n",
    "sys.path.append(\"../..\") # Adds higher directory to python modules path.\n",
    "from utilities import aggregate_feature_calculators\n",
    "from utilities import aggregate_feature_calculators_setting as aggcal\n",
    "from utilities.parallel import Parallel\n",
    "from utilities.dfdb import DFDB\n",
    "\n",
    "from utilities.process.pqueue import *\n",
    "from utilities.process.pnode import *\n",
    "from utilities.process.putilities import *"
   ]
  },
  {
   "cell_type": "code",
   "execution_count": 2,
   "metadata": {},
   "outputs": [],
   "source": [
    "import numpy as np\n",
    "import pandas as pd\n",
    "import os\n",
    "import time\n",
    "import datetime\n",
    "import json\n",
    "import copy\n",
    "import gc\n",
    "import warnings\n",
    "from tqdm import tqdm_notebook, tqdm\n",
    "\n",
    "import optuna\n",
    "\n",
    "import lightgbm as lgb\n",
    "import xgboost as xgb\n",
    "\n",
    "from catboost import CatBoostRegressor\n",
    "from sklearn.preprocessing import LabelEncoder\n",
    "from sklearn.model_selection import StratifiedKFold, KFold, RepeatedKFold,TimeSeriesSplit, GroupKFold\n",
    "from sklearn.model_selection import train_test_split\n",
    "from sklearn import metrics\n",
    "from sklearn import linear_model\n",
    "from sklearn.preprocessing import StandardScaler\n",
    "from sklearn.svm import NuSVR, SVR\n",
    "from sklearn.metrics import mean_absolute_error\n",
    "from sklearn import preprocessing\n",
    "\n",
    "import eli5\n",
    "from eli5.sklearn import PermutationImportance\n",
    "\n",
    "import networkx as nx\n",
    "\n",
    "import seaborn as sns\n",
    "import matplotlib.pyplot as plt\n",
    "%matplotlib inline"
   ]
  },
  {
   "cell_type": "code",
   "execution_count": 3,
   "metadata": {},
   "outputs": [
    {
     "data": {
      "text/plain": [
       "['test.csv',\n",
       " 'structures',\n",
       " 'magnetic_shielding_tensors.csv',\n",
       " 'mulliken_charges.csv',\n",
       " 'potential_energy.csv',\n",
       " 'scalar_coupling_contributions.csv',\n",
       " 'dipole_moments.csv',\n",
       " 'structures.csv',\n",
       " 'train.csv']"
      ]
     },
     "execution_count": 3,
     "metadata": {},
     "output_type": "execute_result"
    }
   ],
   "source": [
    "csv_file_folder =  '../../data/input'\n",
    "os.listdir(csv_file_folder)"
   ]
  },
  {
   "cell_type": "code",
   "execution_count": 4,
   "metadata": {},
   "outputs": [
    {
     "data": {
      "text/plain": [
       "['pytorch_geometric_test.pkl',\n",
       " 'laplaction_matrix_test.pkl',\n",
       " 'pytorch_geometric_train.pkl',\n",
       " 'laplaction_matrix_train.pkl']"
      ]
     },
     "execution_count": 4,
     "metadata": {},
     "output_type": "execute_result"
    }
   ],
   "source": [
    "file_folder =  '../../data/feature'\n",
    "[f for f in os.listdir(file_folder) if (f.endswith('.pkl')) and (not f.startswith('.'))]"
   ]
  },
  {
   "cell_type": "code",
   "execution_count": 5,
   "metadata": {},
   "outputs": [],
   "source": [
    "mytrial = []"
   ]
  },
  {
   "cell_type": "code",
   "execution_count": null,
   "metadata": {},
   "outputs": [],
   "source": [
    "\"\"\"\n",
    "y=scalar_coupling_constant, type=0\n",
    "374\n",
    "{'columns': ['atom_1_bond_lengths_std', 'yukawa_N.x', 'dist_C_2_y', 'dist_H_1_x', 'molecule_type_dist_mean_diff', 'inv_distPR', 'max_molecule_atom_0_dist_xyz', 'dist_O_0_y', 'dist_N_1_y', 'dist_O_1_x', 'eem_1', 'tertiary_angle_5', 'dist_to_type_std', 'tertiary_distance_3', 'cos_center1', 'tertiary_angle_3', 'dist_N_0_y', 'dist_H_1_y', 'yukawa_H.y', 'dist_H_2_x', 'mean_molecule_atom_0_dist_xyz', 'dist_C_0_x', 'tertiary_angle_4', 'dist_C_3_y', 'molecule_atom_index_0_dist_max_div', 'dist_C_4_y', 'dist_to_type_0_mean', 'molecule_atom_index_1_dist_min_diff', 'distC0', 'max_molecule_atom_1_dist_xyz', 'tertiary_distance_4', 'dist_O_0_x', 'molecule_dist_min', 'vander_H.x', 'tertiary_angle_0', 'dist_to_type_1_mean', 'adN1', 'tertiary_distance_10', 'tertiary_atom_0', 'dist_to_type_mean', 'dist_C_1_x', 'adC1', 'tertiary_distance_1', 'molecule_dist_max', 'tertiary_distance_6', 'inv_dist1E', 'cos_f0', 'tertiary_distance_5', 'inv_dist1R', 'cos_center0', 'atom_1_bond_lengths_max', 'atom_1_bond_lengths_mean', 'atom_index_1_cycle_size_mean', 'tertiary_angle_2', 'cos_f1', 'yukawa_H.x', 'tertiary_distance_2', 'coulomb_H.y', 'atom_index_1_n_cycle', 'inv_dist1', 'tertiary_distance_0', 'dist_C_0_y', 'tertiary_atom_1', 'adC3', 'dist_H_3_y', 'dist_H_4_y', 'dist_C_1_y', 'dist_O_1_y', 'atom_1_n_bonds', 'dist_xyz', 'distC1', 'dist_N_0_x', 'adC2', 'atom_index_farthest_0', 'dist_H_3_x', 'vander_C.y', 'inv_dist0R', 'dist_H_0_x', 'dist_C_2_x', 'dist_C_3_x', 'dist_H_2_y', 'dist_C_4_x', 'tertiary_distance_7', 'tertiary_angle_1', 'dist_H_0_y', 'vander_N.x', 'eem_0'], 'cv': {'cls': 'GroupKFold', 'init': {'n_splits': 3}}, 'scaler': {'cls': 'StandardScaler', 'init': {}, 'fit': {}}, 'model': {'cls': 'lgb.LGBMRegressor', 'init': {'learning_rate': 0.2833769330240482, 'feature_fraction': 0.8818248470204605, 'bagging_fraction': 0.8205197060908092, 'min_data_in_leaf': 202, 'lambda_l1': 0.017039063121824582, 'lambda_l2': 0.8318702431636841, 'max_bin': 100, 'num_leaves': 255, 'random_state': 3895, 'n_jobs': 16}, 'fit': {}}, 'metric': 'mean_absolute_error'}\n",
    "y=scalar_coupling_constant, type=1\n",
    "513\n",
    "{'columns': ['bond_atom', 'atom_1_bond_lengths_std', 'dist_C_2_y', 'inv_dist1', 'dist_O_0_y', 'inv_distPR', 'dist_H_1_x', 'tertiary_distance_0', 'vander_N.y', 'max_molecule_atom_0_dist_xyz', 'dist_C_0_y', 'dist_N_1_y', 'linkN', 'adC3', 'dist_H_3_y', 'cos_center0_center1', 'distance_center1', 'dist_C_1_y', 'tertiary_distance_3', 'min_molecule_atom_1_dist_xyz', 'dist_N_0_y', 'dist_H_1_y', 'yukawa_H.y', 'dist_N_0_x', 'adC2', 'molecule_atom_index_1_dist_max_diff', 'dist_C_0_x', 'dist_C_3_y', 'molecule_atom_index_0_dist_max_div', 'dist_to_type_0_mean', 'inv_dist0R', 'tertiary_distance_4', 'dist_O_0_x', 'vander_H.x', 'tertiary_angle_0', 'dist_H_0_x', 'tertiary_atom_0', 'dist_C_2_x', 'dist_C_3_x', 'dist_C_1_x', 'tertiary_distance_1', 'dist_H_2_y', 'coulomb_H.x', 'distance_center0', 'cos_f0', 'tertiary_distance_5', 'inv_dist1R', 'inv_distP', 'dist_N_1_x', 'atom_1_bond_lengths_max', 'atom_1_bond_lengths_mean', 'tertiary_angle_1', 'atom_index_1_cycle_size_mean', 'tertiary_angle_2', 'tertiary_distance_2', 'dist_H_0_y', 'vander_N.x', 'yukawa_H.x', 'eem_0'], 'cv': {'cls': 'GroupKFold', 'init': {'n_splits': 3}}, 'scaler': {'cls': 'StandardScaler', 'init': {}, 'fit': {}}, 'model': {'cls': 'lgb.LGBMRegressor', 'init': {'learning_rate': 0.2833769330240482, 'feature_fraction': 0.8818248470204605, 'bagging_fraction': 0.8205197060908092, 'min_data_in_leaf': 202, 'lambda_l1': 0.017039063121824582, 'lambda_l2': 0.8318702431636841, 'max_bin': 100, 'num_leaves': 255, 'random_state': 3895, 'n_jobs': 16}, 'fit': {}}, 'metric': 'mean_absolute_error'}\n",
    "y=scalar_coupling_constant, type=2\n",
    "740\n",
    "{'columns': ['bond_atom', 'atom_1_bond_lengths_std', 'dist_H_1_x', 'max_molecule_atom_0_dist_xyz', 'dist_O_0_y', 'tertiary_atom_2', 'dist_O_1_x', 'eem_1', 'molecule_atom_index_0_dist_min_div', 'tertiary_distance_3', 'tertiary_angle_3', 'dist_H_1_y', 'dist_N_0_y', 'dist_C_0_x', 'tertiary_angle_4', 'molecule_atom_index_0_dist_max_div', 'cos_c0_c1', 'molecule_atom_index_1_dist_min_diff', 'distC0', 'dist_O_0_x', 'yukawa_O.y', 'vander_H.x', 'molecule_type_dist_max', 'tertiary_angle_0', 'adN1', 'dist_to_type_1_mean', 'tertiary_atom_0', 'dist_to_type_mean', 'dist_C_1_x', 'adC1', 'tertiary_distance_1', 'tertiary_distance_6', 'cos_f0', 'inv_dist1R', 'cos_c0', 'atom_1_bond_lengths_max', 'atom_1_bond_lengths_mean', 'atom_index_1_cycle_size_mean', 'tertiary_angle_2', 'tertiary_distance_2', 'inv_dist1', 'cos_c1', 'dist_C_0_y', 'tertiary_atom_1', 'distance_farthest_0', 'adC3', 'dist_C_1_y', 'min_molecule_atom_0_dist_xyz', 'atom_1_n_bonds', 'atom_0_bond_lengths_max', 'dist_N_0_x', 'adC2', 'molecule_atom_index_1_dist_min_div', 'yukawa_O.x', 'inv_dist0R', 'dist_H_0_x', 'vander_O.y', 'dist_C_2_x', 'dist_C_3_x', 'dist_H_2_y', 'inv_dist0', 'tertiary_atom_4', 'inv_distP', 'atom_1_bond_lengths_min', 'tertiary_atom_3', 'dist_C_4_x', 'tertiary_angle_1', 'dist_H_0_y'], 'cv': {'cls': 'GroupKFold', 'init': {'n_splits': 3}}, 'scaler': {'cls': 'StandardScaler', 'init': {}, 'fit': {}}, 'model': {'cls': 'lgb.LGBMRegressor', 'init': {'learning_rate': 0.2833769330240482, 'feature_fraction': 0.8818248470204605, 'bagging_fraction': 0.8205197060908092, 'min_data_in_leaf': 202, 'lambda_l1': 0.017039063121824582, 'lambda_l2': 0.8318702431636841, 'max_bin': 100, 'num_leaves': 255, 'random_state': 3895, 'n_jobs': 16}, 'fit': {}}, 'metric': 'mean_absolute_error'}\n",
    "y=scalar_coupling_constant, type=3\n",
    "1050\n",
    "{'columns': ['dist_C_2_y', 'dist_H_1_x', 'tertiary_atom_2', 'cos_c1', 'dist_O_0_y', 'dist_C_0_y', 'tertiary_atom_1', 'distance_farthest_0', 'dist_to_type_std', 'molecule_atom_index_0_dist_min_div', 'adC3', 'dist_H_3_y', 'dist_C_1_y', 'tertiary_distance_3', 'tertiary_angle_3', 'dist_xyz', 'dist_N_0_y', 'dist_H_1_y', 'yukawa_H.y', 'dist_N_0_x', 'mean_molecule_atom_0_dist_xyz', 'adC2', 'dist_C_0_x', 'dist_C_3_y', 'cos_c0_c1', 'molecule_atom_index_0_dist_min_diff', 'dist_to_type_0_mean', 'tertiary_distance_4', 'dist_O_0_x', 'molecule_dist_min', 'molecule_type_dist_max', 'vander_H.x', 'tertiary_angle_0', 'dist_to_type_1_mean', 'dist_H_0_x', 'adN1', 'dist_C_2_x', 'dist_C_3_x', 'dist_C_1_x', 'tertiary_distance_1', 'dist_H_2_y', 'link0', 'inv_dist0', 'cos_f0_f1', 'cos_f0', 'max_distance_y', 'cos_c0', 'inv_distP', 'tertiary_angle_1', 'cos_f1', 'tertiary_distance_2', 'dist_H_0_y', 'tertiary_angle_2', 'yukawa_H.x', 'inv_distPE', 'coulomb_H.y'], 'cv': {'cls': 'GroupKFold', 'init': {'n_splits': 3}}, 'scaler': {'cls': 'StandardScaler', 'init': {}, 'fit': {}}, 'model': {'cls': 'lgb.LGBMRegressor', 'init': {'learning_rate': 0.2833769330240482, 'feature_fraction': 0.8818248470204605, 'bagging_fraction': 0.8205197060908092, 'min_data_in_leaf': 202, 'lambda_l1': 0.017039063121824582, 'lambda_l2': 0.8318702431636841, 'max_bin': 100, 'num_leaves': 255, 'random_state': 3895, 'n_jobs': 16}, 'fit': {}}, 'metric': 'mean_absolute_error'}\n",
    "y=scalar_coupling_constant, type=4\n",
    "1126\n",
    "{'columns': ['dist_C_2_y', 'dist_H_1_x', 'tertiary_atom_2', 'cos_c1', 'dist_O_0_y', 'dist_C_0_y', 'tertiary_atom_1', 'distance_farthest_0', 'dist_to_type_std', 'molecule_atom_index_0_dist_min_div', 'adC3', 'dist_H_3_y', 'dist_C_1_y', 'tertiary_distance_3', 'tertiary_angle_3', 'dist_xyz', 'dist_N_0_y', 'dist_H_1_y', 'yukawa_H.y', 'dist_N_0_x', 'mean_molecule_atom_0_dist_xyz', 'adC2', 'dist_C_0_x', 'dist_C_3_y', 'cos_c0_c1', 'molecule_atom_index_0_dist_min_diff', 'dist_to_type_0_mean', 'tertiary_distance_4', 'dist_O_0_x', 'molecule_dist_min', 'molecule_type_dist_max', 'vander_H.x', 'tertiary_angle_0', 'dist_to_type_1_mean', 'dist_H_0_x', 'adN1', 'dist_C_2_x', 'dist_C_3_x', 'dist_C_1_x', 'tertiary_distance_1', 'dist_H_2_y', 'link0', 'inv_dist0', 'cos_f0_f1', 'cos_f0', 'max_distance_y', 'cos_c0', 'inv_distP', 'tertiary_angle_1', 'cos_f1', 'tertiary_distance_2', 'dist_H_0_y', 'tertiary_angle_2', 'yukawa_H.x', 'inv_distPE', 'coulomb_H.y'], 'cv': {'cls': 'GroupKFold', 'init': {'n_splits': 3}}, 'scaler': {'cls': 'StandardScaler', 'init': {}, 'fit': {}}, 'model': {'cls': 'lgb.LGBMRegressor', 'init': {'learning_rate': 0.2833769330240482, 'feature_fraction': 0.8818248470204605, 'bagging_fraction': 0.8205197060908092, 'min_data_in_leaf': 202, 'lambda_l1': 0.017039063121824582, 'lambda_l2': 0.8318702431636841, 'max_bin': 100, 'num_leaves': 255, 'random_state': 3895, 'n_jobs': 16}, 'fit': {}}, 'metric': 'mean_absolute_error'}\n",
    "y=scalar_coupling_constant, type=5\n",
    "1202\n",
    "{'columns': ['dist_C_2_y', 'dist_H_1_x', 'tertiary_atom_2', 'cos_c1', 'dist_O_0_y', 'dist_C_0_y', 'tertiary_atom_1', 'distance_farthest_0', 'dist_to_type_std', 'molecule_atom_index_0_dist_min_div', 'adC3', 'dist_H_3_y', 'dist_C_1_y', 'tertiary_distance_3', 'tertiary_angle_3', 'dist_xyz', 'dist_N_0_y', 'dist_H_1_y', 'yukawa_H.y', 'dist_N_0_x', 'mean_molecule_atom_0_dist_xyz', 'adC2', 'dist_C_0_x', 'dist_C_3_y', 'cos_c0_c1', 'molecule_atom_index_0_dist_min_diff', 'dist_to_type_0_mean', 'tertiary_distance_4', 'dist_O_0_x', 'molecule_dist_min', 'molecule_type_dist_max', 'vander_H.x', 'tertiary_angle_0', 'dist_to_type_1_mean', 'dist_H_0_x', 'adN1', 'dist_C_2_x', 'dist_C_3_x', 'dist_C_1_x', 'tertiary_distance_1', 'dist_H_2_y', 'link0', 'inv_dist0', 'cos_f0_f1', 'cos_f0', 'max_distance_y', 'cos_c0', 'inv_distP', 'tertiary_angle_1', 'cos_f1', 'tertiary_distance_2', 'dist_H_0_y', 'tertiary_angle_2', 'yukawa_H.x', 'inv_distPE', 'coulomb_H.y'], 'cv': {'cls': 'GroupKFold', 'init': {'n_splits': 3}}, 'scaler': {'cls': 'StandardScaler', 'init': {}, 'fit': {}}, 'model': {'cls': 'lgb.LGBMRegressor', 'init': {'learning_rate': 0.2833769330240482, 'feature_fraction': 0.8818248470204605, 'bagging_fraction': 0.8205197060908092, 'min_data_in_leaf': 202, 'lambda_l1': 0.017039063121824582, 'lambda_l2': 0.8318702431636841, 'max_bin': 100, 'num_leaves': 255, 'random_state': 3895, 'n_jobs': 16}, 'fit': {}}, 'metric': 'mean_absolute_error'}\n",
    "y=scalar_coupling_constant, type=6\n",
    "360\n",
    "{'columns': ['tertiary_atom_2', 'distH0', 'tertiary_angle_4', 'dist_C_3_x', 'dist_O_0_y', 'molecule_atom_index_0_dist_min_div', 'tertiary_atom_1', 'molecule_atom_index_1_dist_std_div', 'adH1', 'dist_C_3_y', 'inv_dist1', 'inv_distPR', 'dist_H_2_y', 'dist_C_1_y', 'cos_c0', 'dist_C_2_x', 'cos_f1', 'dist_to_type_mean', 'cos_c1', 'tertiary_angle_3', 'max_molecule_atom_0_dist_xyz', 'molecule_atom_index_0_dist_std_diff', 'inv_dist0', 'dist_C_1_x', 'dist_to_type_0_mean', 'dist_H_1_x', 'dist_O_0_x', 'dist_xyz', 'molecule_atom_index_0_dist_max_diff', 'tertiary_distance_3', 'adC3', 'adH2', 'molecule_atom_index_0_dist_max_div', 'adC2', 'dist_C_2_y', 'dist_N_0_y', 'max_distance_y', 'tertiary_angle_1', 'dist_H_0_y', 'tertiary_distance_1', 'tertiary_angle_2', 'molecule_atom_index_0_dist_min_diff', 'inv_dist0R', 'dist_to_type_std', 'dist_to_type_1_mean', 'cos_f0_f1', 'tertiary_atom_0', 'link0', 'distance_c1', 'dist_O_1_x', 'dist_H_1_y', 'molecule_atom_index_1_dist_max_diff', 'adN1', 'dist_N_0_x', 'max_molecule_atom_1_dist_xyz', 'dist_H_0_x', 'mean_molecule_atom_0_dist_xyz', 'tertiary_distance_4', 'cos_c0_c1', 'cos_f0', 'dist_C_0_x', 'linkM0', 'tertiary_distance_2', 'dist_C_0_y', 'molecule_atom_index_1_dist_max_div', 'tertiary_angle_0'], 'cv': {'cls': 'GroupKFold', 'init': {'n_splits': 3}}, 'scaler': {'cls': 'StandardScaler', 'init': {}, 'fit': {}}, 'model': {'cls': 'lgb.LGBMRegressor', 'init': {'learning_rate': 0.2833769330240482, 'feature_fraction': 0.8818248470204605, 'bagging_fraction': 0.8205197060908092, 'min_data_in_leaf': 202, 'lambda_l1': 0.017039063121824582, 'lambda_l2': 0.8318702431636841, 'max_bin': 100, 'num_leaves': 255, 'random_state': 3895, 'n_jobs': 16}, 'fit': {}}, 'metric': 'mean_absolute_error'}\n",
    "y=scalar_coupling_constant, type=7\n",
    "527\n",
    "{'columns': ['tertiary_distance_3', 'molecule_atom_index_1_dist_min_diff', 'dist_C_3_x', 'dist_O_0_y', 'molecule_atom_index_0_dist_min_div', 'tertiary_atom_1', 'adC2', 'dist_C_3_y', 'dist_C_2_y', 'dist_N_0_y', 'tertiary_angle_2', 'tertiary_distance_1', 'tertiary_angle_1', 'dist_H_0_y', 'inv_distPR', 'molecule_atom_index_0_dist_min_diff', 'atom_1_bond_lengths_mean', 'dist_to_type_1_mean', 'cos_c0', 'dist_C_2_x', 'atom_1_bond_lengths_std', 'atom_index_1_cycle_size_mean', 'cos_c1', 'molecule_atom_index_0_dist_std_diff', 'tertiary_angle_3', 'dist_to_type_mean', 'max_molecule_atom_0_dist_xyz', 'dist_H_1_y', 'atom_0_bond_lengths_max', 'dist_C_4_x', 'dist_N_0_x', 'adC1', 'dist_H_0_x', 'tertiary_distance_4', 'dist_C_1_x', 'cos_c0_c1', 'atom_1_n_bonds', 'cos_f0', 'dist_O_0_x', 'dist_H_1_x', 'bond_atom', 'dist_C_0_x', 'tertiary_distance_2', 'dist_C_0_y', 'atom_1_bond_lengths_max', 'yukawa_H.y', 'molecule_atom_index_1_dist_max_div', 'tertiary_angle_0'], 'cv': {'cls': 'GroupKFold', 'init': {'n_splits': 3}}, 'scaler': {'cls': 'StandardScaler', 'init': {}, 'fit': {}}, 'model': {'cls': 'lgb.LGBMRegressor', 'init': {'learning_rate': 0.2833769330240482, 'feature_fraction': 0.8818248470204605, 'bagging_fraction': 0.8205197060908092, 'min_data_in_leaf': 202, 'lambda_l1': 0.017039063121824582, 'lambda_l2': 0.8318702431636841, 'max_bin': 100, 'num_leaves': 255, 'random_state': 3895, 'n_jobs': 16}, 'fit': {}}, 'metric': 'mean_absolute_error'}\n",
    "\"\"\""
   ]
  },
  {
   "cell_type": "code",
   "execution_count": 6,
   "metadata": {},
   "outputs": [
    {
     "name": "stdout",
     "output_type": "stream",
     "text": [
      "y=scalar_coupling_constant, type=6\n",
      "360\n",
      "{'columns': ['tertiary_atom_2', 'distH0', 'tertiary_angle_4', 'dist_C_3_x', 'dist_O_0_y', 'molecule_atom_index_0_dist_min_div', 'tertiary_atom_1', 'molecule_atom_index_1_dist_std_div', 'adH1', 'dist_C_3_y', 'inv_dist1', 'inv_distPR', 'dist_H_2_y', 'dist_C_1_y', 'cos_c0', 'dist_C_2_x', 'cos_f1', 'dist_to_type_mean', 'cos_c1', 'tertiary_angle_3', 'max_molecule_atom_0_dist_xyz', 'molecule_atom_index_0_dist_std_diff', 'inv_dist0', 'dist_C_1_x', 'dist_to_type_0_mean', 'dist_H_1_x', 'dist_O_0_x', 'dist_xyz', 'molecule_atom_index_0_dist_max_diff', 'tertiary_distance_3', 'adC3', 'adH2', 'molecule_atom_index_0_dist_max_div', 'adC2', 'dist_C_2_y', 'dist_N_0_y', 'max_distance_y', 'tertiary_angle_1', 'dist_H_0_y', 'tertiary_distance_1', 'tertiary_angle_2', 'molecule_atom_index_0_dist_min_diff', 'inv_dist0R', 'dist_to_type_std', 'dist_to_type_1_mean', 'cos_f0_f1', 'tertiary_atom_0', 'link0', 'distance_c1', 'dist_O_1_x', 'dist_H_1_y', 'molecule_atom_index_1_dist_max_diff', 'adN1', 'dist_N_0_x', 'max_molecule_atom_1_dist_xyz', 'dist_H_0_x', 'mean_molecule_atom_0_dist_xyz', 'tertiary_distance_4', 'cos_c0_c1', 'cos_f0', 'dist_C_0_x', 'linkM0', 'tertiary_distance_2', 'dist_C_0_y', 'molecule_atom_index_1_dist_max_div', 'tertiary_angle_0'], 'cv': {'cls': 'GroupKFold', 'init': {'n_splits': 3}}, 'scaler': {'cls': 'StandardScaler', 'init': {}, 'fit': {}}, 'model': {'cls': 'lgb.LGBMRegressor', 'init': {'learning_rate': 0.2833769330240482, 'feature_fraction': 0.8818248470204605, 'bagging_fraction': 0.8205197060908092, 'min_data_in_leaf': 202, 'lambda_l1': 0.017039063121824582, 'lambda_l2': 0.8318702431636841, 'max_bin': 100, 'num_leaves': 255, 'random_state': 3895, 'n_jobs': 16}, 'fit': {}}, 'metric': 'mean_absolute_error'}\n",
      "y=scalar_coupling_constant, type=7\n",
      "527\n",
      "{'columns': ['tertiary_distance_3', 'molecule_atom_index_1_dist_min_diff', 'dist_C_3_x', 'dist_O_0_y', 'molecule_atom_index_0_dist_min_div', 'tertiary_atom_1', 'adC2', 'dist_C_3_y', 'dist_C_2_y', 'dist_N_0_y', 'tertiary_angle_2', 'tertiary_distance_1', 'tertiary_angle_1', 'dist_H_0_y', 'inv_distPR', 'molecule_atom_index_0_dist_min_diff', 'atom_1_bond_lengths_mean', 'dist_to_type_1_mean', 'cos_c0', 'dist_C_2_x', 'atom_1_bond_lengths_std', 'atom_index_1_cycle_size_mean', 'cos_c1', 'molecule_atom_index_0_dist_std_diff', 'tertiary_angle_3', 'dist_to_type_mean', 'max_molecule_atom_0_dist_xyz', 'dist_H_1_y', 'atom_0_bond_lengths_max', 'dist_C_4_x', 'dist_N_0_x', 'adC1', 'dist_H_0_x', 'tertiary_distance_4', 'dist_C_1_x', 'cos_c0_c1', 'atom_1_n_bonds', 'cos_f0', 'dist_O_0_x', 'dist_H_1_x', 'bond_atom', 'dist_C_0_x', 'tertiary_distance_2', 'dist_C_0_y', 'atom_1_bond_lengths_max', 'yukawa_H.y', 'molecule_atom_index_1_dist_max_div', 'tertiary_angle_0'], 'cv': {'cls': 'GroupKFold', 'init': {'n_splits': 3}}, 'scaler': {'cls': 'StandardScaler', 'init': {}, 'fit': {}}, 'model': {'cls': 'lgb.LGBMRegressor', 'init': {'learning_rate': 0.2833769330240482, 'feature_fraction': 0.8818248470204605, 'bagging_fraction': 0.8205197060908092, 'min_data_in_leaf': 202, 'lambda_l1': 0.017039063121824582, 'lambda_l2': 0.8318702431636841, 'max_bin': 100, 'num_leaves': 255, 'random_state': 3895, 'n_jobs': 16}, 'fit': {}}, 'metric': 'mean_absolute_error'}\n"
     ]
    }
   ],
   "source": [
    "# , 'fc', 'sd','pso','dso'\n",
    "for y in ['scalar_coupling_constant']:\n",
    "    for t in np.arange(6,8,1):\n",
    "        \n",
    "        print(f'y={y}, type={t}')\n",
    "        df_train=pd.read_pickle(f'{file_folder}/df_train.gzde', compression='gzip')\n",
    "#         df_test=pd.read_pickle(f'{file_folder}/df_test.gzde', compression='gzip')\n",
    "        \n",
    "        df_train['y'] = df_train[y]\n",
    "        df_train = df_train[df_train['type']==t]\n",
    "        n_samples = 300000 if df_train.shape[0] > 300000 else df_train.shape[0]\n",
    "        df_train = df_train.sample(n_samples).reset_index(drop=True)\n",
    "#         df_test = df_test[df_test['type']==t].reset_index(drop=True)\n",
    "        df_test = pd.DataFrame()\n",
    "        \n",
    "\n",
    "        param = {\n",
    "            'columns': df_train.columns.drop(['index', 'y','group', 'scalar_coupling_constant', 'fc', 'sd','pso','dso']).tolist(),\n",
    "            'cv': {\n",
    "                'cls': 'GroupKFold',\n",
    "                'init':{\n",
    "                    'n_splits': 3,\n",
    "#                     'shuffle': True,\n",
    "#                     'random_state': 42,\n",
    "                },\n",
    "            },\n",
    "            'scaler': {'cls': 'StandardScaler', 'init': {}, 'fit': {}},\n",
    "            'model': {\n",
    "                'cls': 'lgb.LGBMRegressor',\n",
    "                'init': {\n",
    "                    'learning_rate': 0.2833769330240482,\n",
    "                    'feature_fraction': 0.8818248470204605,\n",
    "                    'bagging_fraction': 0.8205197060908092,\n",
    "                    'min_data_in_leaf': 202,\n",
    "                    'lambda_l1': 0.017039063121824582,\n",
    "                    'lambda_l2': 0.8318702431636841,\n",
    "                    'max_bin': 100,\n",
    "                    'num_leaves': 255,\n",
    "                    'random_state': 3895,\n",
    "                    'n_jobs': 16\n",
    "                },\n",
    "                'fit': {}\n",
    "            },\n",
    "            'metric': 'mean_absolute_error'\n",
    "        }\n",
    "\n",
    "\n",
    "\n",
    "        process_queue = PQueue(df_train, df_test, param, mytrial)\n",
    "        sort_features = SortFeatureSelectTopNProcess(**{'top_n':200})\n",
    "        select_topn = RFESelectTopNProcess(**{'n_features_remain':20, 'n_features_to_remove':10})\n",
    "        remove_useless = RFERemoveUselessFeaturesProcess(**{})\n",
    "        process_queue.insert_node(sort_features)\n",
    "        process_queue.insert_node(select_topn)\n",
    "        process_queue.insert_node(remove_useless)\n",
    "\n",
    "        try:\n",
    "            result = process_queue.run()\n",
    "        except Exception as e:\n",
    "            print(e.__str__())\n",
    "        print(len(process_queue.trial))\n",
    "        print(process_queue.param)\n",
    "    "
   ]
  },
  {
   "cell_type": "code",
   "execution_count": 8,
   "metadata": {},
   "outputs": [],
   "source": [
    "df_train=pd.read_pickle(f'{file_folder}/df_train.gzde', compression='gzip')\n",
    "df_test=pd.read_pickle(f'{file_folder}/df_test.gzde', compression='gzip')\n",
    "df_train['y'] = df_train['scalar_coupling_constant']"
   ]
  },
  {
   "cell_type": "code",
   "execution_count": 13,
   "metadata": {},
   "outputs": [],
   "source": [
    "columns_list = [\n",
    "{'columns': ['atom_1_bond_lengths_std', 'yukawa_N.x', 'dist_C_2_y', 'dist_H_1_x', 'molecule_type_dist_mean_diff', 'inv_distPR', 'max_molecule_atom_0_dist_xyz', 'dist_O_0_y', 'dist_N_1_y', 'dist_O_1_x', 'eem_1', 'tertiary_angle_5', 'dist_to_type_std', 'tertiary_distance_3', 'cos_center1', 'tertiary_angle_3', 'dist_N_0_y', 'dist_H_1_y', 'yukawa_H.y', 'dist_H_2_x', 'mean_molecule_atom_0_dist_xyz', 'dist_C_0_x', 'tertiary_angle_4', 'dist_C_3_y', 'molecule_atom_index_0_dist_max_div', 'dist_C_4_y', 'dist_to_type_0_mean', 'molecule_atom_index_1_dist_min_diff', 'distC0', 'max_molecule_atom_1_dist_xyz', 'tertiary_distance_4', 'dist_O_0_x', 'molecule_dist_min', 'vander_H.x', 'tertiary_angle_0', 'dist_to_type_1_mean', 'adN1', 'tertiary_distance_10', 'tertiary_atom_0', 'dist_to_type_mean', 'dist_C_1_x', 'adC1', 'tertiary_distance_1', 'molecule_dist_max', 'tertiary_distance_6', 'inv_dist1E', 'cos_f0', 'tertiary_distance_5', 'inv_dist1R', 'cos_center0', 'atom_1_bond_lengths_max', 'atom_1_bond_lengths_mean', 'atom_index_1_cycle_size_mean', 'tertiary_angle_2', 'cos_f1', 'yukawa_H.x', 'tertiary_distance_2', 'coulomb_H.y', 'atom_index_1_n_cycle', 'inv_dist1', 'tertiary_distance_0', 'dist_C_0_y', 'tertiary_atom_1', 'adC3', 'dist_H_3_y', 'dist_H_4_y', 'dist_C_1_y', 'dist_O_1_y', 'atom_1_n_bonds', 'dist_xyz', 'distC1', 'dist_N_0_x', 'adC2', 'atom_index_farthest_0', 'dist_H_3_x', 'vander_C.y', 'inv_dist0R', 'dist_H_0_x', 'dist_C_2_x', 'dist_C_3_x', 'dist_H_2_y', 'dist_C_4_x', 'tertiary_distance_7', 'tertiary_angle_1', 'dist_H_0_y', 'vander_N.x', 'eem_0'], 'cv': {'cls': 'GroupKFold', 'init': {'n_splits': 5}}, 'scaler': {'cls': 'StandardScaler', 'init': {}, 'fit': {}}, 'model': {'cls': 'lgb.LGBMRegressor', 'init': {'learning_rate': 0.2833769330240482, 'feature_fraction': 0.8818248470204605, 'bagging_fraction': 0.8205197060908092, 'min_data_in_leaf': 202, 'lambda_l1': 0.017039063121824582, 'lambda_l2': 0.8318702431636841, 'max_bin': 100, 'num_leaves': 255, 'random_state': 3895, 'n_jobs': 16}, 'fit': {}}, 'metric': 'mean_absolute_error'},\n",
    "{'columns': ['bond_atom', 'atom_1_bond_lengths_std', 'dist_C_2_y', 'inv_dist1', 'dist_O_0_y', 'inv_distPR', 'dist_H_1_x', 'tertiary_distance_0', 'vander_N.y', 'max_molecule_atom_0_dist_xyz', 'dist_C_0_y', 'dist_N_1_y', 'linkN', 'adC3', 'dist_H_3_y', 'cos_center0_center1', 'distance_center1', 'dist_C_1_y', 'tertiary_distance_3', 'min_molecule_atom_1_dist_xyz', 'dist_N_0_y', 'dist_H_1_y', 'yukawa_H.y', 'dist_N_0_x', 'adC2', 'molecule_atom_index_1_dist_max_diff', 'dist_C_0_x', 'dist_C_3_y', 'molecule_atom_index_0_dist_max_div', 'dist_to_type_0_mean', 'inv_dist0R', 'tertiary_distance_4', 'dist_O_0_x', 'vander_H.x', 'tertiary_angle_0', 'dist_H_0_x', 'tertiary_atom_0', 'dist_C_2_x', 'dist_C_3_x', 'dist_C_1_x', 'tertiary_distance_1', 'dist_H_2_y', 'coulomb_H.x', 'distance_center0', 'cos_f0', 'tertiary_distance_5', 'inv_dist1R', 'inv_distP', 'dist_N_1_x', 'atom_1_bond_lengths_max', 'atom_1_bond_lengths_mean', 'tertiary_angle_1', 'atom_index_1_cycle_size_mean', 'tertiary_angle_2', 'tertiary_distance_2', 'dist_H_0_y', 'vander_N.x', 'yukawa_H.x', 'eem_0'], 'cv': {'cls': 'GroupKFold', 'init': {'n_splits': 5}}, 'scaler': {'cls': 'StandardScaler', 'init': {}, 'fit': {}}, 'model': {'cls': 'lgb.LGBMRegressor', 'init': {'learning_rate': 0.2833769330240482, 'feature_fraction': 0.8818248470204605, 'bagging_fraction': 0.8205197060908092, 'min_data_in_leaf': 202, 'lambda_l1': 0.017039063121824582, 'lambda_l2': 0.8318702431636841, 'max_bin': 100, 'num_leaves': 255, 'random_state': 3895, 'n_jobs': 16}, 'fit': {}}, 'metric': 'mean_absolute_error'},\n",
    "{'columns': ['bond_atom', 'atom_1_bond_lengths_std', 'dist_H_1_x', 'max_molecule_atom_0_dist_xyz', 'dist_O_0_y', 'tertiary_atom_2', 'dist_O_1_x', 'eem_1', 'molecule_atom_index_0_dist_min_div', 'tertiary_distance_3', 'tertiary_angle_3', 'dist_H_1_y', 'dist_N_0_y', 'dist_C_0_x', 'tertiary_angle_4', 'molecule_atom_index_0_dist_max_div', 'cos_c0_c1', 'molecule_atom_index_1_dist_min_diff', 'distC0', 'dist_O_0_x', 'yukawa_O.y', 'vander_H.x', 'molecule_type_dist_max', 'tertiary_angle_0', 'adN1', 'dist_to_type_1_mean', 'tertiary_atom_0', 'dist_to_type_mean', 'dist_C_1_x', 'adC1', 'tertiary_distance_1', 'tertiary_distance_6', 'cos_f0', 'inv_dist1R', 'cos_c0', 'atom_1_bond_lengths_max', 'atom_1_bond_lengths_mean', 'atom_index_1_cycle_size_mean', 'tertiary_angle_2', 'tertiary_distance_2', 'inv_dist1', 'cos_c1', 'dist_C_0_y', 'tertiary_atom_1', 'distance_farthest_0', 'adC3', 'dist_C_1_y', 'min_molecule_atom_0_dist_xyz', 'atom_1_n_bonds', 'atom_0_bond_lengths_max', 'dist_N_0_x', 'adC2', 'molecule_atom_index_1_dist_min_div', 'yukawa_O.x', 'inv_dist0R', 'dist_H_0_x', 'vander_O.y', 'dist_C_2_x', 'dist_C_3_x', 'dist_H_2_y', 'inv_dist0', 'tertiary_atom_4', 'inv_distP', 'atom_1_bond_lengths_min', 'tertiary_atom_3', 'dist_C_4_x', 'tertiary_angle_1', 'dist_H_0_y'], 'cv': {'cls': 'GroupKFold', 'init': {'n_splits': 5}}, 'scaler': {'cls': 'StandardScaler', 'init': {}, 'fit': {}}, 'model': {'cls': 'lgb.LGBMRegressor', 'init': {'learning_rate': 0.2833769330240482, 'feature_fraction': 0.8818248470204605, 'bagging_fraction': 0.8205197060908092, 'min_data_in_leaf': 202, 'lambda_l1': 0.017039063121824582, 'lambda_l2': 0.8318702431636841, 'max_bin': 100, 'num_leaves': 255, 'random_state': 3895, 'n_jobs': 16}, 'fit': {}}, 'metric': 'mean_absolute_error'},\n",
    "{'columns': ['dist_C_2_y', 'dist_H_1_x', 'tertiary_atom_2', 'cos_c1', 'dist_O_0_y', 'dist_C_0_y', 'tertiary_atom_1', 'distance_farthest_0', 'dist_to_type_std', 'molecule_atom_index_0_dist_min_div', 'adC3', 'dist_H_3_y', 'dist_C_1_y', 'tertiary_distance_3', 'tertiary_angle_3', 'dist_xyz', 'dist_N_0_y', 'dist_H_1_y', 'yukawa_H.y', 'dist_N_0_x', 'mean_molecule_atom_0_dist_xyz', 'adC2', 'dist_C_0_x', 'dist_C_3_y', 'cos_c0_c1', 'molecule_atom_index_0_dist_min_diff', 'dist_to_type_0_mean', 'tertiary_distance_4', 'dist_O_0_x', 'molecule_dist_min', 'molecule_type_dist_max', 'vander_H.x', 'tertiary_angle_0', 'dist_to_type_1_mean', 'dist_H_0_x', 'adN1', 'dist_C_2_x', 'dist_C_3_x', 'dist_C_1_x', 'tertiary_distance_1', 'dist_H_2_y', 'link0', 'inv_dist0', 'cos_f0_f1', 'cos_f0', 'max_distance_y', 'cos_c0', 'inv_distP', 'tertiary_angle_1', 'cos_f1', 'tertiary_distance_2', 'dist_H_0_y', 'tertiary_angle_2', 'yukawa_H.x', 'inv_distPE', 'coulomb_H.y'], 'cv': {'cls': 'GroupKFold', 'init': {'n_splits': 5}}, 'scaler': {'cls': 'StandardScaler', 'init': {}, 'fit': {}}, 'model': {'cls': 'lgb.LGBMRegressor', 'init': {'learning_rate': 0.2833769330240482, 'feature_fraction': 0.8818248470204605, 'bagging_fraction': 0.8205197060908092, 'min_data_in_leaf': 202, 'lambda_l1': 0.017039063121824582, 'lambda_l2': 0.8318702431636841, 'max_bin': 100, 'num_leaves': 255, 'random_state': 3895, 'n_jobs': 16}, 'fit': {}}, 'metric': 'mean_absolute_error'},\n",
    "{'columns': ['dist_C_2_y', 'dist_H_1_x', 'tertiary_atom_2', 'cos_c1', 'dist_O_0_y', 'dist_C_0_y', 'tertiary_atom_1', 'distance_farthest_0', 'dist_to_type_std', 'molecule_atom_index_0_dist_min_div', 'adC3', 'dist_H_3_y', 'dist_C_1_y', 'tertiary_distance_3', 'tertiary_angle_3', 'dist_xyz', 'dist_N_0_y', 'dist_H_1_y', 'yukawa_H.y', 'dist_N_0_x', 'mean_molecule_atom_0_dist_xyz', 'adC2', 'dist_C_0_x', 'dist_C_3_y', 'cos_c0_c1', 'molecule_atom_index_0_dist_min_diff', 'dist_to_type_0_mean', 'tertiary_distance_4', 'dist_O_0_x', 'molecule_dist_min', 'molecule_type_dist_max', 'vander_H.x', 'tertiary_angle_0', 'dist_to_type_1_mean', 'dist_H_0_x', 'adN1', 'dist_C_2_x', 'dist_C_3_x', 'dist_C_1_x', 'tertiary_distance_1', 'dist_H_2_y', 'link0', 'inv_dist0', 'cos_f0_f1', 'cos_f0', 'max_distance_y', 'cos_c0', 'inv_distP', 'tertiary_angle_1', 'cos_f1', 'tertiary_distance_2', 'dist_H_0_y', 'tertiary_angle_2', 'yukawa_H.x', 'inv_distPE', 'coulomb_H.y'], 'cv': {'cls': 'GroupKFold', 'init': {'n_splits': 5}}, 'scaler': {'cls': 'StandardScaler', 'init': {}, 'fit': {}}, 'model': {'cls': 'lgb.LGBMRegressor', 'init': {'learning_rate': 0.2833769330240482, 'feature_fraction': 0.8818248470204605, 'bagging_fraction': 0.8205197060908092, 'min_data_in_leaf': 202, 'lambda_l1': 0.017039063121824582, 'lambda_l2': 0.8318702431636841, 'max_bin': 100, 'num_leaves': 255, 'random_state': 3895, 'n_jobs': 16}, 'fit': {}}, 'metric': 'mean_absolute_error'},\n",
    "{'columns': ['dist_C_2_y', 'dist_H_1_x', 'tertiary_atom_2', 'cos_c1', 'dist_O_0_y', 'dist_C_0_y', 'tertiary_atom_1', 'distance_farthest_0', 'dist_to_type_std', 'molecule_atom_index_0_dist_min_div', 'adC3', 'dist_H_3_y', 'dist_C_1_y', 'tertiary_distance_3', 'tertiary_angle_3', 'dist_xyz', 'dist_N_0_y', 'dist_H_1_y', 'yukawa_H.y', 'dist_N_0_x', 'mean_molecule_atom_0_dist_xyz', 'adC2', 'dist_C_0_x', 'dist_C_3_y', 'cos_c0_c1', 'molecule_atom_index_0_dist_min_diff', 'dist_to_type_0_mean', 'tertiary_distance_4', 'dist_O_0_x', 'molecule_dist_min', 'molecule_type_dist_max', 'vander_H.x', 'tertiary_angle_0', 'dist_to_type_1_mean', 'dist_H_0_x', 'adN1', 'dist_C_2_x', 'dist_C_3_x', 'dist_C_1_x', 'tertiary_distance_1', 'dist_H_2_y', 'link0', 'inv_dist0', 'cos_f0_f1', 'cos_f0', 'max_distance_y', 'cos_c0', 'inv_distP', 'tertiary_angle_1', 'cos_f1', 'tertiary_distance_2', 'dist_H_0_y', 'tertiary_angle_2', 'yukawa_H.x', 'inv_distPE', 'coulomb_H.y'], 'cv': {'cls': 'GroupKFold', 'init': {'n_splits': 5}}, 'scaler': {'cls': 'StandardScaler', 'init': {}, 'fit': {}}, 'model': {'cls': 'lgb.LGBMRegressor', 'init': {'learning_rate': 0.2833769330240482, 'feature_fraction': 0.8818248470204605, 'bagging_fraction': 0.8205197060908092, 'min_data_in_leaf': 202, 'lambda_l1': 0.017039063121824582, 'lambda_l2': 0.8318702431636841, 'max_bin': 100, 'num_leaves': 255, 'random_state': 3895, 'n_jobs': 16}, 'fit': {}}, 'metric': 'mean_absolute_error'},\n",
    "{'columns': ['tertiary_atom_2', 'distH0', 'tertiary_angle_4', 'dist_C_3_x', 'dist_O_0_y', 'molecule_atom_index_0_dist_min_div', 'tertiary_atom_1', 'molecule_atom_index_1_dist_std_div', 'adH1', 'dist_C_3_y', 'inv_dist1', 'inv_distPR', 'dist_H_2_y', 'dist_C_1_y', 'cos_c0', 'dist_C_2_x', 'cos_f1', 'dist_to_type_mean', 'cos_c1', 'tertiary_angle_3', 'max_molecule_atom_0_dist_xyz', 'molecule_atom_index_0_dist_std_diff', 'inv_dist0', 'dist_C_1_x', 'dist_to_type_0_mean', 'dist_H_1_x', 'dist_O_0_x', 'dist_xyz', 'molecule_atom_index_0_dist_max_diff', 'tertiary_distance_3', 'adC3', 'adH2', 'molecule_atom_index_0_dist_max_div', 'adC2', 'dist_C_2_y', 'dist_N_0_y', 'max_distance_y', 'tertiary_angle_1', 'dist_H_0_y', 'tertiary_distance_1', 'tertiary_angle_2', 'molecule_atom_index_0_dist_min_diff', 'inv_dist0R', 'dist_to_type_std', 'dist_to_type_1_mean', 'cos_f0_f1', 'tertiary_atom_0', 'link0', 'distance_c1', 'dist_O_1_x', 'dist_H_1_y', 'molecule_atom_index_1_dist_max_diff', 'adN1', 'dist_N_0_x', 'max_molecule_atom_1_dist_xyz', 'dist_H_0_x', 'mean_molecule_atom_0_dist_xyz', 'tertiary_distance_4', 'cos_c0_c1', 'cos_f0', 'dist_C_0_x', 'linkM0', 'tertiary_distance_2', 'dist_C_0_y', 'molecule_atom_index_1_dist_max_div', 'tertiary_angle_0'], 'cv': {'cls': 'GroupKFold', 'init': {'n_splits': 5}}, 'scaler': {'cls': 'StandardScaler', 'init': {}, 'fit': {}}, 'model': {'cls': 'lgb.LGBMRegressor', 'init': {'learning_rate': 0.2833769330240482, 'feature_fraction': 0.8818248470204605, 'bagging_fraction': 0.8205197060908092, 'min_data_in_leaf': 202, 'lambda_l1': 0.017039063121824582, 'lambda_l2': 0.8318702431636841, 'max_bin': 100, 'num_leaves': 255, 'random_state': 3895, 'n_jobs': 16}, 'fit': {}}, 'metric': 'mean_absolute_error'},\n",
    "{'columns': ['tertiary_distance_3', 'molecule_atom_index_1_dist_min_diff', 'dist_C_3_x', 'dist_O_0_y', 'molecule_atom_index_0_dist_min_div', 'tertiary_atom_1', 'adC2', 'dist_C_3_y', 'dist_C_2_y', 'dist_N_0_y', 'tertiary_angle_2', 'tertiary_distance_1', 'tertiary_angle_1', 'dist_H_0_y', 'inv_distPR', 'molecule_atom_index_0_dist_min_diff', 'atom_1_bond_lengths_mean', 'dist_to_type_1_mean', 'cos_c0', 'dist_C_2_x', 'atom_1_bond_lengths_std', 'atom_index_1_cycle_size_mean', 'cos_c1', 'molecule_atom_index_0_dist_std_diff', 'tertiary_angle_3', 'dist_to_type_mean', 'max_molecule_atom_0_dist_xyz', 'dist_H_1_y', 'atom_0_bond_lengths_max', 'dist_C_4_x', 'dist_N_0_x', 'adC1', 'dist_H_0_x', 'tertiary_distance_4', 'dist_C_1_x', 'cos_c0_c1', 'atom_1_n_bonds', 'cos_f0', 'dist_O_0_x', 'dist_H_1_x', 'bond_atom', 'dist_C_0_x', 'tertiary_distance_2', 'dist_C_0_y', 'atom_1_bond_lengths_max', 'yukawa_H.y', 'molecule_atom_index_1_dist_max_div', 'tertiary_angle_0'], 'cv': {'cls': 'GroupKFold', 'init': {'n_splits': 5}}, 'scaler': {'cls': 'StandardScaler', 'init': {}, 'fit': {}}, 'model': {'cls': 'lgb.LGBMRegressor', 'init': {'learning_rate': 0.2833769330240482, 'feature_fraction': 0.8818248470204605, 'bagging_fraction': 0.8205197060908092, 'min_data_in_leaf': 202, 'lambda_l1': 0.017039063121824582, 'lambda_l2': 0.8318702431636841, 'max_bin': 100, 'num_leaves': 255, 'random_state': 3895, 'n_jobs': 16}, 'fit': {}}, 'metric': 'mean_absolute_error'},\n",
    "]"
   ]
  },
  {
   "cell_type": "code",
   "execution_count": 14,
   "metadata": {},
   "outputs": [],
   "source": [
    "mytrial=[]\n",
    "df_his, df_feature_importances, df_valid_pred, df_test_pred = pd.DataFrame(), pd.DataFrame(),pd.DataFrame(),pd.DataFrame()\n",
    "for t in  df_train.type.unique().tolist():\n",
    "    df_his_i, df_feature_importances_i, df_valid_pred_i, df_test_pred_i =  sk_process(df_train[df_train['type']==t].reset_index(drop=True), columns_list[t], f'modeling for {t}', df_test=df_test[df_test['type']==t].reset_index(drop=True), trial=mytrial, is_output_feature_importance=False, trial_level=1)\n",
    "    df_his = pd.concat([df_his, df_his_i], axis=0)\n",
    "    df_feature_importances = pd.concat([df_feature_importances, df_feature_importances_i], axis=0)\n",
    "    df_valid_pred = pd.concat([df_valid_pred, df_valid_pred_i], axis=0)\n",
    "    df_test_pred = pd.concat([df_test_pred, df_test_pred_i], axis=0)\n",
    "\n",
    "df_valid_pred = df_valid_pred.sort_values(by=['index']).reset_index(drop=True)\n",
    "df_test_pred = df_test_pred.sort_values(by=['index']).reset_index(drop=True)"
   ]
  },
  {
   "cell_type": "code",
   "execution_count": 15,
   "metadata": {},
   "outputs": [
    {
     "data": {
      "text/html": [
       "<div>\n",
       "<style scoped>\n",
       "    .dataframe tbody tr th:only-of-type {\n",
       "        vertical-align: middle;\n",
       "    }\n",
       "\n",
       "    .dataframe tbody tr th {\n",
       "        vertical-align: top;\n",
       "    }\n",
       "\n",
       "    .dataframe thead th {\n",
       "        text-align: right;\n",
       "    }\n",
       "</style>\n",
       "<table border=\"1\" class=\"dataframe\">\n",
       "  <thead>\n",
       "    <tr style=\"text-align: right;\">\n",
       "      <th></th>\n",
       "      <th>datetime</th>\n",
       "      <th>message</th>\n",
       "      <th>nfeatures</th>\n",
       "      <th>train_metric_mean</th>\n",
       "      <th>val_metric_mean</th>\n",
       "      <th>trn_val_metric_diff</th>\n",
       "      <th>message</th>\n",
       "    </tr>\n",
       "  </thead>\n",
       "  <tbody>\n",
       "    <tr>\n",
       "      <th>0</th>\n",
       "      <td>2019-07-30 00:58:27.107962</td>\n",
       "      <td>modeling for 0</td>\n",
       "      <td>87</td>\n",
       "      <td>0.814762</td>\n",
       "      <td>0.935848</td>\n",
       "      <td>0.121086</td>\n",
       "      <td>modeling for 0</td>\n",
       "    </tr>\n",
       "    <tr>\n",
       "      <th>1</th>\n",
       "      <td>2019-07-30 00:58:44.629557</td>\n",
       "      <td>modeling for 3</td>\n",
       "      <td>56</td>\n",
       "      <td>0.161362</td>\n",
       "      <td>0.199745</td>\n",
       "      <td>0.038383</td>\n",
       "      <td>modeling for 3</td>\n",
       "    </tr>\n",
       "    <tr>\n",
       "      <th>2</th>\n",
       "      <td>2019-07-30 00:58:47.396305</td>\n",
       "      <td>modeling for 1</td>\n",
       "      <td>59</td>\n",
       "      <td>0.285739</td>\n",
       "      <td>0.438729</td>\n",
       "      <td>0.152991</td>\n",
       "      <td>modeling for 1</td>\n",
       "    </tr>\n",
       "    <tr>\n",
       "      <th>3</th>\n",
       "      <td>2019-07-30 00:58:54.627443</td>\n",
       "      <td>modeling for 4</td>\n",
       "      <td>56</td>\n",
       "      <td>0.154612</td>\n",
       "      <td>0.237577</td>\n",
       "      <td>0.082965</td>\n",
       "      <td>modeling for 4</td>\n",
       "    </tr>\n",
       "    <tr>\n",
       "      <th>4</th>\n",
       "      <td>2019-07-30 00:59:56.406682</td>\n",
       "      <td>modeling for 2</td>\n",
       "      <td>68</td>\n",
       "      <td>0.364386</td>\n",
       "      <td>0.396686</td>\n",
       "      <td>0.032300</td>\n",
       "      <td>modeling for 2</td>\n",
       "    </tr>\n",
       "    <tr>\n",
       "      <th>5</th>\n",
       "      <td>2019-07-30 01:00:28.870033</td>\n",
       "      <td>modeling for 6</td>\n",
       "      <td>66</td>\n",
       "      <td>0.191407</td>\n",
       "      <td>0.219717</td>\n",
       "      <td>0.028310</td>\n",
       "      <td>modeling for 6</td>\n",
       "    </tr>\n",
       "    <tr>\n",
       "      <th>6</th>\n",
       "      <td>2019-07-30 01:01:44.757529</td>\n",
       "      <td>modeling for 5</td>\n",
       "      <td>56</td>\n",
       "      <td>0.430255</td>\n",
       "      <td>0.459736</td>\n",
       "      <td>0.029481</td>\n",
       "      <td>modeling for 5</td>\n",
       "    </tr>\n",
       "    <tr>\n",
       "      <th>7</th>\n",
       "      <td>2019-07-30 01:01:53.112985</td>\n",
       "      <td>modeling for 7</td>\n",
       "      <td>48</td>\n",
       "      <td>0.101460</td>\n",
       "      <td>0.142940</td>\n",
       "      <td>0.041480</td>\n",
       "      <td>modeling for 7</td>\n",
       "    </tr>\n",
       "  </tbody>\n",
       "</table>\n",
       "</div>"
      ],
      "text/plain": [
       "                    datetime         message  nfeatures  train_metric_mean  \\\n",
       "0 2019-07-30 00:58:27.107962  modeling for 0         87           0.814762   \n",
       "1 2019-07-30 00:58:44.629557  modeling for 3         56           0.161362   \n",
       "2 2019-07-30 00:58:47.396305  modeling for 1         59           0.285739   \n",
       "3 2019-07-30 00:58:54.627443  modeling for 4         56           0.154612   \n",
       "4 2019-07-30 00:59:56.406682  modeling for 2         68           0.364386   \n",
       "5 2019-07-30 01:00:28.870033  modeling for 6         66           0.191407   \n",
       "6 2019-07-30 01:01:44.757529  modeling for 5         56           0.430255   \n",
       "7 2019-07-30 01:01:53.112985  modeling for 7         48           0.101460   \n",
       "\n",
       "   val_metric_mean  trn_val_metric_diff         message  \n",
       "0         0.935848             0.121086  modeling for 0  \n",
       "1         0.199745             0.038383  modeling for 3  \n",
       "2         0.438729             0.152991  modeling for 1  \n",
       "3         0.237577             0.082965  modeling for 4  \n",
       "4         0.396686             0.032300  modeling for 2  \n",
       "5         0.219717             0.028310  modeling for 6  \n",
       "6         0.459736             0.029481  modeling for 5  \n",
       "7         0.142940             0.041480  modeling for 7  "
      ]
     },
     "execution_count": 15,
     "metadata": {},
     "output_type": "execute_result"
    }
   ],
   "source": [
    "df_trial = pd.DataFrame(mytrial)\n",
    "df_trial[['datetime', 'message', 'nfeatures', 'train_metric_mean', 'val_metric_mean', 'trn_val_metric_diff', 'message']]"
   ]
  },
  {
   "cell_type": "code",
   "execution_count": 16,
   "metadata": {},
   "outputs": [
    {
     "name": "stdout",
     "output_type": "stream",
     "text": [
      "0.44807359104748623\n",
      "0 0.9358483862212079\n",
      "3 0.19974463780640106\n",
      "1 0.43872980374242654\n",
      "4 0.23757730499893367\n",
      "2 0.3966864996961603\n",
      "6 0.21971668375988143\n",
      "5 0.4597358535700776\n",
      "7 0.14293951255130133\n"
     ]
    }
   ],
   "source": [
    "print(mean_absolute_error(df_valid_pred.sort_values(by=['index']).reset_index(drop=True).predict.values, df_train.reset_index(drop=True).y.values))\n",
    "for t in df_train.type.unique().tolist():\n",
    "    index = df_train[df_train['type']==t]['index'].values\n",
    "    print(t, mean_absolute_error(df_valid_pred[df_valid_pred['index'].isin(index)].sort_values(by=['index']).reset_index(drop=True).predict.values, df_train[df_train['index'].isin(index)].reset_index(drop=True).y.values))"
   ]
  },
  {
   "cell_type": "code",
   "execution_count": 18,
   "metadata": {},
   "outputs": [],
   "source": [
    "idx=0.448\n",
    "# df_test_pred = df_trial.loc[idx]['df_test_pred']\n",
    "df_submit = pd.DataFrame()\n",
    "df_submit['scalar_coupling_constant'] = np.mean(df_test_pred.drop(columns=['index']).values, axis=1)\n",
    "df_submit['id'] = df_test_pred['index']\n",
    "df_submit.to_csv('../../data/submission/submission_lgbm_{}.csv'.format(idx), index=False)"
   ]
  },
  {
   "cell_type": "code",
   "execution_count": null,
   "metadata": {},
   "outputs": [],
   "source": []
  }
 ],
 "metadata": {
  "kernelspec": {
   "display_name": "Python 3",
   "language": "python",
   "name": "python3"
  },
  "language_info": {
   "codemirror_mode": {
    "name": "ipython",
    "version": 3
   },
   "file_extension": ".py",
   "mimetype": "text/x-python",
   "name": "python",
   "nbconvert_exporter": "python",
   "pygments_lexer": "ipython3",
   "version": "3.6.8"
  }
 },
 "nbformat": 4,
 "nbformat_minor": 2
}
