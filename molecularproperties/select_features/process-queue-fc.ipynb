{
 "cells": [
  {
   "cell_type": "code",
   "execution_count": 1,
   "metadata": {},
   "outputs": [
    {
     "data": {
      "text/html": [
       "<style>\n",
       "   div#notebook-container    { width: 95%; }\n",
       "   div#menubar-container     { width: 65%; }\n",
       "   div#maintoolbar-container { width: 99%; }\n",
       "</style>\n"
      ],
      "text/plain": [
       "<IPython.core.display.HTML object>"
      ]
     },
     "metadata": {},
     "output_type": "display_data"
    }
   ],
   "source": [
    "%%HTML\n",
    "<style>\n",
    "   div#notebook-container    { width: 95%; }\n",
    "   div#menubar-container     { width: 65%; }\n",
    "   div#maintoolbar-container { width: 99%; }\n",
    "</style>"
   ]
  },
  {
   "cell_type": "code",
   "execution_count": 1,
   "metadata": {},
   "outputs": [],
   "source": [
    "import sys\n",
    "sys.path.append(\"../..\") # Adds higher directory to python modules path.\n",
    "from utilities import aggregate_feature_calculators\n",
    "from utilities import aggregate_feature_calculators_setting as aggcal\n",
    "from utilities.parallel import Parallel\n",
    "from utilities.dfdb import DFDB\n",
    "\n",
    "from utilities.process.pqueue import *\n",
    "from utilities.process.pnode import *\n",
    "from utilities.process.putilities import *"
   ]
  },
  {
   "cell_type": "code",
   "execution_count": 2,
   "metadata": {},
   "outputs": [],
   "source": [
    "import numpy as np\n",
    "import pandas as pd\n",
    "import os\n",
    "import time\n",
    "import datetime\n",
    "import json\n",
    "import copy\n",
    "import gc\n",
    "import warnings\n",
    "from tqdm import tqdm_notebook, tqdm\n",
    "\n",
    "import optuna\n",
    "\n",
    "import lightgbm as lgb\n",
    "import xgboost as xgb\n",
    "\n",
    "from catboost import CatBoostRegressor\n",
    "from sklearn.preprocessing import LabelEncoder\n",
    "from sklearn.model_selection import StratifiedKFold, KFold, RepeatedKFold,TimeSeriesSplit, GroupKFold\n",
    "from sklearn.model_selection import train_test_split\n",
    "from sklearn import metrics\n",
    "from sklearn import linear_model\n",
    "from sklearn.preprocessing import StandardScaler\n",
    "from sklearn.svm import NuSVR, SVR\n",
    "from sklearn.metrics import mean_absolute_error\n",
    "from sklearn import preprocessing\n",
    "\n",
    "import eli5\n",
    "from eli5.sklearn import PermutationImportance\n",
    "\n",
    "import networkx as nx\n",
    "\n",
    "import seaborn as sns\n",
    "import matplotlib.pyplot as plt\n",
    "%matplotlib inline"
   ]
  },
  {
   "cell_type": "code",
   "execution_count": 3,
   "metadata": {},
   "outputs": [
    {
     "data": {
      "text/plain": [
       "['test.csv',\n",
       " 'structures',\n",
       " 'sample_submission.csv',\n",
       " 'magnetic_shielding_tensors.csv',\n",
       " 'mulliken_charges.csv',\n",
       " 'potential_energy.csv',\n",
       " 'scalar_coupling_contributions.csv',\n",
       " 'dipole_moments.csv',\n",
       " 'structures.csv',\n",
       " 'train.csv']"
      ]
     },
     "execution_count": 3,
     "metadata": {},
     "output_type": "execute_result"
    }
   ],
   "source": [
    "csv_file_folder =  '../../data/input'\n",
    "os.listdir(csv_file_folder)"
   ]
  },
  {
   "cell_type": "code",
   "execution_count": 4,
   "metadata": {},
   "outputs": [
    {
     "data": {
      "text/plain": [
       "['giba-r-data-table-simple-features-1-17-lb_train.pkl',\n",
       " 'eem_train.pkl',\n",
       " 'coulomb-interaction-speed-up_train.pkl',\n",
       " 'dataset-with-number-of-bonds-between-atoms_test.pkl',\n",
       " 'keras-neural-net-for-champs_train.pkl',\n",
       " 'brute-force-feature-engineering_test.pkl',\n",
       " 'angles-and-distances_test.pkl',\n",
       " 'giba-r-data-table-simple-features-0-991-lb_test.pkl',\n",
       " 'keras-neural-net-for-champs_test.pkl',\n",
       " 'brute-force-feature-engineering-mini_train.pkl',\n",
       " 'dataset-with-number-of-bonds-between-atoms_train.pkl',\n",
       " 'coulomb-interaction-speed-up_test.pkl',\n",
       " 'bonds-from-structure-data_train.pkl',\n",
       " 'giba-r-data-table-simple-features-0-991-lb_train.pkl',\n",
       " 'eem_test.pkl',\n",
       " 'brute-force-feature-engineering_train.pkl',\n",
       " 'molecule-with-openbabel_train.pkl',\n",
       " 'molecular-properties-eda-and-models_train.pkl',\n",
       " 'brute-force-feature-engineering-mini_test.pkl',\n",
       " 'eachtype_train.pkl',\n",
       " 'molecular-properties-eda-and-models_test.pkl',\n",
       " 'bonds-from-structure-data_test.pkl',\n",
       " 'molecule-with-openbabel_test.pkl',\n",
       " 'eachtype_test.pkl',\n",
       " 'giba-r-data-table-simple-features-1-17-lb_test.pkl',\n",
       " 'angles-and-distances_train.pkl']"
      ]
     },
     "execution_count": 4,
     "metadata": {},
     "output_type": "execute_result"
    }
   ],
   "source": [
    "file_folder =  '../../data/feature'\n",
    "[f for f in os.listdir(file_folder) if (f.endswith('.pkl')) and (not f.startswith('.'))]"
   ]
  },
  {
   "cell_type": "code",
   "execution_count": null,
   "metadata": {},
   "outputs": [],
   "source": [
    "y=fc, type=0\n",
    "227\n",
    "{'columns': ['atom_index_1_cycle_size_mean', 'dist_H_0_y', 'dist_H_1_x', 'tertiary_atom_1', 'adC2', 'tertiary_distance_1', 'dist_C_2_y', 'molecule_atom_index_1_dist_min_diff', 'dist_C_1_y', 'atom_index_farthest_0', 'yukawa_H.y', 'inv_dist1R', 'dist_C_0_x', 'dist_H_3_x', 'tertiary_angle_3', 'dist_to_type_std', 'dist_C_3_y', 'eem_1', 'inv_distPR', 'dist_C_1_x', 'linkM0', 'dist_H_2_y', 'dist_H_0_x', 'adC1', 'tertiary_angle_0', 'adN1', 'dist_O_1_y', 'dist_C_2_x', 'eem_0', 'dist_C_4_x', 'adC3', 'tertiary_distance_3', 'dist_O_0_x', 'tertiary_angle_2', 'atom_1_bond_lengths_std', 'molecule_atom_index_0_dist_max_div', 'inv_dist0R', 'distance_farthest_0', 'yukawa_N.x', 'dist_H_3_y', 'molecule_type_dist_mean_diff', 'dist_N_0_x', 'max_molecule_atom_1_dist_xyz', 'dist_C_0_y', 'dist_H_2_x', 'dist_to_type_0_mean', 'tertiary_distance_5', 'atom_1_n_bonds', 'dist_C_3_x', 'tertiary_distance_0', 'dist_to_type_mean', 'distC1', 'dist_O_0_y', 'dist_C_4_y', 'tertiary_distance_2', 'cos_f0', 'atom_1_bond_lengths_max', 'dist_N_0_y', 'dist_xyz', 'dist_H_1_y', 'dist_O_1_x', 'tertiary_distance_4', 'atom_1_bond_lengths_mean', 'yukawa_H.x', 'tertiary_atom_0', 'tertiary_angle_4', 'inv_dist1E', 'tertiary_angle_1'], 'cv': {'cls': 'KFold', 'init': {'n_splits': 5, 'shuffle': True, 'random_state': 42}}, 'scaler': {'cls': 'StandardScaler', 'init': {}, 'fit': {}}, 'model': {'cls': 'lgb.LGBMRegressor', 'init': {'learning_rate': 0.2833769330240482, 'feature_fraction': 0.8818248470204605, 'bagging_fraction': 0.8205197060908092, 'min_data_in_leaf': 202, 'lambda_l1': 0.017039063121824582, 'lambda_l2': 0.8318702431636841, 'max_bin': 100, 'num_leaves': 255, 'random_state': 3895, 'n_jobs': 16}, 'fit': {}}, 'metric': 'mean_absolute_error'}\n",
    "y=fc, type=1\n",
    "561\n",
    "{'columns': ['atom_index_1_cycle_size_mean', 'dist_H_0_y', 'dist_H_1_x', 'linkM1', 'adC2', 'tertiary_distance_1', 'tertiary_distance_6', 'dist_C_2_y', 'distance_center0', 'dist_C_1_y', 'yukawa_H.y', 'inv_dist1R', 'dist_C_0_x', 'yukawa_C.x', 'inv_dist1', 'cos_center0', 'tertiary_angle_3', 'cos_center1', 'dist_C_3_y', 'vander_O.y', 'eem_1', 'inv_distPR', 'dist_C_1_x', 'inv_distP', 'vander_N.y', 'dist_H_2_y', 'dist_H_0_x', 'tertiary_angle_0', 'vander_N.x', 'dist_C_2_x', 'eem_0', 'coulomb_H.x', 'min_molecule_atom_1_dist_xyz', 'yukawa_N.y', 'molecule_atom_index_0_dist_mean_div', 'dist_C_4_x', 'adC3', 'tertiary_distance_3', 'linkN', 'dist_O_0_x', 'max_molecule_atom_0_dist_xyz', 'distance_center1', 'tertiary_angle_2', 'atom_1_bond_lengths_std', 'molecule_atom_index_0_dist_max_div', 'inv_dist0R', 'link0', 'yukawa_N.x', 'dist_H_3_y', 'dist_N_0_x', 'dist_C_0_y', 'molecule_atom_1_dist_min_diff', 'dist_to_type_0_mean', 'inv_distPE', 'vander_H.x', 'tertiary_distance_5', 'dist_N_1_y', 'dist_N_1_x', 'dist_C_3_x', 'tertiary_distance_0', 'dist_O_0_y', 'distN0', 'dist_C_4_y', 'cos_f1', 'tertiary_distance_2', 'vander_O.x', 'cos_f0', 'atom_1_bond_lengths_max', 'dist_N_0_y', 'dist_H_1_y', 'tertiary_distance_4', 'atom_1_bond_lengths_mean', 'tertiary_atom_0', 'distN1', 'tertiary_angle_1', 'adC4', 'bond_atom'], 'cv': {'cls': 'KFold', 'init': {'n_splits': 5, 'shuffle': True, 'random_state': 42}}, 'scaler': {'cls': 'StandardScaler', 'init': {}, 'fit': {}}, 'model': {'cls': 'lgb.LGBMRegressor', 'init': {'learning_rate': 0.2833769330240482, 'feature_fraction': 0.8818248470204605, 'bagging_fraction': 0.8205197060908092, 'min_data_in_leaf': 202, 'lambda_l1': 0.017039063121824582, 'lambda_l2': 0.8318702431636841, 'max_bin': 100, 'num_leaves': 255, 'random_state': 3895, 'n_jobs': 16}, 'fit': {}}, 'metric': 'mean_absolute_error'}\n",
    "y=fc, type=2\n",
    "788\n",
    "{'columns': ['atom_index_1_cycle_size_mean', 'atom_0_bond_lengths_max', 'dist_H_0_y', 'tertiary_atom_1', 'adC2', 'tertiary_atom_2', 'tertiary_distance_6', 'tertiary_distance_1', 'dist_C_2_y', 'molecule_atom_index_1_dist_min_diff', 'dist_C_1_y', 'dist_C_0_x', 'inv_dist1R', 'atom_1_bond_lengths_min', 'cos_c0_c1', 'tertiary_angle_3', 'inv_dist1', 'molecule_atom_index_0_dist_max_diff', 'dist_C_3_y', 'vander_O.y', 'eem_1', 'inv_distPR', 'dist_C_1_x', 'dist_H_0_x', 'adC1', 'tertiary_angle_0', 'adN1', 'dist_C_2_x', 'molecule_atom_index_0_dist_mean_div', 'molecule_atom_index_0_dist_min_diff', 'adC3', 'tertiary_distance_3', 'dist_O_0_x', 'max_molecule_atom_0_dist_xyz', 'tertiary_angle_2', 'atom_1_bond_lengths_std', 'inv_dist0R', 'distance_farthest_0', 'dist_N_0_x', 'dist_C_0_y', 'atom_index_1_n_cycle', 'molecule_atom_1_dist_min_diff', 'dist_to_type_0_mean', 'cos_c0', 'distC0', 'tertiary_atom_3', 'bond_atom', 'molecule_atom_index_1_dist_min_div', 'atom_1_n_bonds', 'vander_C.y', 'dist_C_3_x', 'tertiary_atom_4', 'dist_O_0_y', 'molecule_atom_index_0_dist_min_div', 'tertiary_distance_2', 'cos_f0', 'atom_1_bond_lengths_max', 'dist_N_0_y', 'dist_xyz', 'dist_H_1_y', 'dist_O_1_x', 'atom_1_bond_lengths_mean', 'min_molecule_atom_0_dist_xyz', 'molecule_type_dist_max', 'tertiary_atom_0', 'tertiary_angle_4', 'tertiary_angle_1', 'cos_c1'], 'cv': {'cls': 'KFold', 'init': {'n_splits': 5, 'shuffle': True, 'random_state': 42}}, 'scaler': {'cls': 'StandardScaler', 'init': {}, 'fit': {}}, 'model': {'cls': 'lgb.LGBMRegressor', 'init': {'learning_rate': 0.2833769330240482, 'feature_fraction': 0.8818248470204605, 'bagging_fraction': 0.8205197060908092, 'min_data_in_leaf': 202, 'lambda_l1': 0.017039063121824582, 'lambda_l2': 0.8318702431636841, 'max_bin': 100, 'num_leaves': 255, 'random_state': 3895, 'n_jobs': 16}, 'fit': {}}, 'metric': 'mean_absolute_error'}\n",
    "y=fc, type=3\n",
    "294\n",
    "{'columns': ['yukawa_H.y', 'dist_H_0_y', 'dist_H_3_x', 'tertiary_distance_2', 'dist_H_1_y', 'tertiary_angle_0', 'vander_H.y', 'adC3', 'dist_H_1_x', 'tertiary_distance_3', 'tertiary_atom_2', 'dist_to_type_0_mean', 'molecule_atom_index_0_dist_min_div', 'tertiary_angle_3', 'dist_H_2_x', 'dist_to_type_std', 'dist_C_0_y', 'tertiary_distance_1', 'adN1', 'molecule_atom_index_0_dist_mean_diff', 'inv_distPE', 'adC1', 'molecule_type_dist_max', 'cos_f0', 'eem_1', 'tertiary_atom_1', 'dist_C_3_y', 'molecule_atom_index_0_dist_min_diff', 'dist_N_0_y', 'cos_c1', 'molecule_dist_min', 'vander_H.x', 'mean_molecule_atom_1_dist_xyz', 'dist_H_2_y', 'dist_to_type_1_mean', 'dist_O_0_y', 'molecule_atom_index_0_dist_max_div', 'dist_C_3_x', 'cos_c0', 'mean_molecule_atom_0_dist_xyz', 'cos_f0_f1', 'cos_c0_c1', 'inv_distPR', 'dist_N_0_x', 'dist_C_1_x', 'dist_H_4_x', 'dist_O_0_x', 'dist_H_4_y', 'adC2', 'cos_f1', 'dist_C_0_x', 'min_molecule_atom_1_dist_xyz', 'dist_H_3_y', 'dist_C_1_y', 'max_distance_y', 'dist_C_2_y', 'dist_to_type_mean', 'yukawa_H.x', 'dist_xyz', 'dist_H_0_x', 'distance_c1', 'inv_distP', 'link0', 'tertiary_distance_4', 'tertiary_angle_1', 'distance_farthest_0', 'dist_C_2_x'], 'cv': {'cls': 'KFold', 'init': {'n_splits': 5, 'shuffle': True, 'random_state': 42}}, 'scaler': {'cls': 'StandardScaler', 'init': {}, 'fit': {}}, 'model': {'cls': 'lgb.LGBMRegressor', 'init': {'learning_rate': 0.2833769330240482, 'feature_fraction': 0.8818248470204605, 'bagging_fraction': 0.8205197060908092, 'min_data_in_leaf': 202, 'lambda_l1': 0.017039063121824582, 'lambda_l2': 0.8318702431636841, 'max_bin': 100, 'num_leaves': 255, 'random_state': 3895, 'n_jobs': 16}, 'fit': {}}, 'metric': 'mean_absolute_error'}\n",
    "y=fc, type=4\n",
    "468\n",
    "{'columns': ['yukawa_H.y', 'dist_H_0_y', 'dist_H_3_x', 'tertiary_distance_2', 'dist_H_1_y', 'tertiary_angle_0', 'vander_H.y', 'adC3', 'dist_H_1_x', 'tertiary_distance_3', 'tertiary_atom_2', 'dist_to_type_0_mean', 'molecule_atom_index_0_dist_min_div', 'tertiary_angle_3', 'dist_H_2_x', 'dist_to_type_std', 'dist_C_0_y', 'tertiary_distance_1', 'adN1', 'molecule_atom_index_0_dist_mean_diff', 'inv_distPE', 'adC1', 'molecule_type_dist_max', 'cos_f0', 'eem_1', 'tertiary_atom_1', 'dist_C_3_y', 'molecule_atom_index_0_dist_min_diff', 'dist_N_0_y', 'cos_c1', 'molecule_dist_min', 'vander_H.x', 'mean_molecule_atom_1_dist_xyz', 'dist_H_2_y', 'dist_to_type_1_mean', 'dist_O_0_y', 'molecule_atom_index_0_dist_max_div', 'dist_C_3_x', 'cos_c0', 'mean_molecule_atom_0_dist_xyz', 'cos_f0_f1', 'cos_c0_c1', 'inv_distPR', 'dist_N_0_x', 'dist_C_1_x', 'dist_H_4_x', 'dist_O_0_x', 'dist_H_4_y', 'adC2', 'cos_f1', 'dist_C_0_x', 'min_molecule_atom_1_dist_xyz', 'dist_H_3_y', 'dist_C_1_y', 'max_distance_y', 'dist_C_2_y', 'dist_to_type_mean', 'yukawa_H.x', 'dist_xyz', 'dist_H_0_x', 'distance_c1', 'inv_distP', 'link0', 'tertiary_distance_4', 'tertiary_angle_1', 'distance_farthest_0', 'dist_C_2_x'], 'cv': {'cls': 'KFold', 'init': {'n_splits': 5, 'shuffle': True, 'random_state': 42}}, 'scaler': {'cls': 'StandardScaler', 'init': {}, 'fit': {}}, 'model': {'cls': 'lgb.LGBMRegressor', 'init': {'learning_rate': 0.2833769330240482, 'feature_fraction': 0.8818248470204605, 'bagging_fraction': 0.8205197060908092, 'min_data_in_leaf': 202, 'lambda_l1': 0.017039063121824582, 'lambda_l2': 0.8318702431636841, 'max_bin': 100, 'num_leaves': 255, 'random_state': 3895, 'n_jobs': 16}, 'fit': {}}, 'metric': 'mean_absolute_error'}\n",
    "y=fc, type=5\n",
    "179\n",
    "{'columns': ['tertiary_distance_6', 'dist_C_4_y', 'molecule_atom_index_0_dist_std_diff', 'inv_dist1R', 'molecule_atom_index_1_dist_min_div', 'tertiary_distance_3', 'atom_1_n_bonds', 'molecule_atom_index_0_dist_max_div', 'tertiary_atom_2', 'vander_O.x', 'atom_1_bond_lengths_max', 'dist_O_0_y', 'distance_farthest_0', 'dist_to_type_std', 'molecule_atom_1_dist_min_div', 'adC1', 'adC2', 'molecule_atom_index_1_dist_min_diff', 'adN1', 'dist_N_0_y', 'atom_index_1_n_cycle', 'inv_dist1E', 'molecule_type_0_dist_std_diff', 'inv_dist0', 'molecule_atom_index_0_dist_min_diff', 'mean_molecule_atom_1_dist_xyz', 'atom_index_1_cycle_size_mean', 'dist_C_0_y', 'dist_xyz', 'tertiary_angle_4', 'dist_H_1_x', 'atom_0_bond_lengths_max', 'molecule_type_dist_mean_div', 'tertiary_angle_3', 'cos_c1', 'tertiary_distance_4', 'atom_1_bond_lengths_mean', 'dist_C_3_x', 'max_molecule_atom_0_dist_xyz', 'tertiary_angle_1', 'molecule_atom_index_1_dist_std_diff', 'dist_C_0_x', 'dist_N_0_x', 'dist_O_1_y', 'dist_H_0_x', 'cos_f0', 'tertiary_atom_1', 'vander_O.y', 'tertiary_angle_2', 'eem_0', 'dist_C_2_y', 'adC3', 'molecule_atom_1_dist_min_diff', 'tertiary_distance_1', 'dist_O_1_x', 'dist_to_type_mean', 'tertiary_distance_5', 'dist_C_1_x', 'dist_H_1_y', 'dist_H_0_y', 'molecule_atom_index_0_dist_min_div', 'dist_H_2_y', 'tertiary_distance_2', 'molecule_type_dist_std_diff', 'eem_1', 'dist_C_2_x', 'distC0', 'molecule_atom_index_0_dist_max_diff', 'inv_dist1', 'dist_C_1_y', 'tertiary_angle_0', 'dist_O_0_x', 'link0', 'mean_molecule_atom_0_dist_xyz', 'dist_C_3_y', 'tertiary_atom_3', 'cos_c0_c1', 'cos_c0', 'inv_dist0R'], 'cv': {'cls': 'KFold', 'init': {'n_splits': 5, 'shuffle': True, 'random_state': 42}}, 'scaler': {'cls': 'StandardScaler', 'init': {}, 'fit': {}}, 'model': {'cls': 'lgb.LGBMRegressor', 'init': {'learning_rate': 0.2833769330240482, 'feature_fraction': 0.8818248470204605, 'bagging_fraction': 0.8205197060908092, 'min_data_in_leaf': 202, 'lambda_l1': 0.017039063121824582, 'lambda_l2': 0.8318702431636841, 'max_bin': 100, 'num_leaves': 255, 'random_state': 3895, 'n_jobs': 16}, 'fit': {}}, 'metric': 'mean_absolute_error'}\n",
    "y=fc, type=6\n",
    "269\n",
    "{'columns': ['cos_c0_c1', 'tertiary_angle_0', 'cos_c0', 'cos_c1', 'max_molecule_atom_1_dist_xyz', 'molecule_atom_index_0_dist_min_diff', 'dist_H_0_y', 'dist_O_0_y', 'dist_O_0_x', 'dist_C_2_y', 'dist_C_1_y', 'tertiary_angle_1', 'dist_C_0_y', 'molecule_atom_index_1_dist_max_div', 'tertiary_atom_1', 'tertiary_distance_1', 'dist_C_0_x', 'tertiary_distance_3', 'adC3', 'molecule_atom_index_0_dist_min_div', 'max_molecule_atom_0_dist_xyz', 'tertiary_angle_3', 'inv_distPR', 'tertiary_distance_2', 'atom_index_closest_1', 'dist_N_0_y', 'tertiary_angle_2', 'dist_to_type_mean', 'dist_C_2_x', 'distance_c1', 'dist_H_1_y', 'dist_H_0_x', 'cos_f0', 'dist_C_1_x', 'adC2', 'eem_1', 'dist_to_type_0_mean', 'dist_to_type_std', 'max_distance_y', 'distH0', 'atom_1_bond_lengths_mean', 'cos_f1', 'tertiary_atom_0', 'dist_C_3_y', 'dist_xyz', 'dist_to_type_1_mean', 'dist_C_3_x', 'inv_dist0R', 'adN1', 'tertiary_atom_2', 'molecule_atom_index_1_dist_max_diff', 'dist_N_0_x', 'mean_molecule_atom_0_dist_xyz', 'dist_H_2_y', 'dist_H_1_x', 'linkN', 'cos_f0_f1', 'adC1', 'adH1', 'tertiary_angle_4', 'adH2', 'molecule_type_dist_std_diff', 'yukawa_C.y', 'dist_O_1_x', 'linkM0', 'molecule_atom_index_0_dist_max_div', 'link0', 'molecule_atom_index_0_dist_max_diff', 'dist_H_2_x', 'dist_C_4_y'], 'cv': {'cls': 'KFold', 'init': {'n_splits': 5, 'shuffle': True, 'random_state': 42}}, 'scaler': {'cls': 'StandardScaler', 'init': {}, 'fit': {}}, 'model': {'cls': 'lgb.LGBMRegressor', 'init': {'learning_rate': 0.2833769330240482, 'feature_fraction': 0.8818248470204605, 'bagging_fraction': 0.8205197060908092, 'min_data_in_leaf': 202, 'lambda_l1': 0.017039063121824582, 'lambda_l2': 0.8318702431636841, 'max_bin': 100, 'num_leaves': 255, 'random_state': 3895, 'n_jobs': 16}, 'fit': {}}, 'metric': 'mean_absolute_error'}\n",
    "y=fc, type=7\n",
    "883\n",
    "{'columns': ['tertiary_angle_1', 'dist_C_4_y', 'molecule_atom_index_0_dist_std_diff', 'inv_dist1R', 'dist_C_0_x', 'tertiary_distance_3', 'dist_N_0_x', 'molecule_atom_index_1_dist_max_div', 'atom_1_n_bonds', 'dist_H_0_x', 'tertiary_atom_2', 'cos_f0', 'tertiary_atom_1', 'atom_1_bond_lengths_max', 'dist_O_0_y', 'dist_to_type_std', 'vander_O.y', 'tertiary_angle_2', 'yukawa_H.y', 'dist_C_2_y', 'adC3', 'adC1', 'tertiary_distance_1', 'adC2', 'dist_H_0_y', 'dist_C_1_x', 'molecule_atom_index_1_dist_min_diff', 'dist_H_1_y', 'bond_atom', 'atom_1_bond_lengths_std', 'molecule_atom_index_0_dist_min_div', 'dist_H_2_y', 'dist_N_0_y', 'tertiary_distance_2', 'molecule_atom_index_0_dist_min_diff', 'eem_1', 'atom_index_1_cycle_size_mean', 'dist_C_0_y', 'dist_C_2_x', 'dist_xyz', 'dist_H_1_x', 'dist_C_4_x', 'molecule_atom_index_0_dist_std_div', 'dist_C_1_y', 'tertiary_angle_0', 'dist_O_0_x', 'dist_to_type_1_mean', 'inv_distPR', 'atom_1_bond_lengths_min', 'min_molecule_atom_0_dist_xyz', 'dist_C_3_y', 'tertiary_angle_3', 'cos_c1', 'tertiary_distance_4', 'tertiary_atom_3', 'atom_1_bond_lengths_mean', 'dist_C_3_x', 'dist_H_3_y', 'cos_c0_c1', 'cos_c0', 'inv_dist0R', 'max_molecule_atom_0_dist_xyz'], 'cv': {'cls': 'KFold', 'init': {'n_splits': 5, 'shuffle': True, 'random_state': 42}}, 'scaler': {'cls': 'StandardScaler', 'init': {}, 'fit': {}}, 'model': {'cls': 'lgb.LGBMRegressor', 'init': {'learning_rate': 0.2833769330240482, 'feature_fraction': 0.8818248470204605, 'bagging_fraction': 0.8205197060908092, 'min_data_in_leaf': 202, 'lambda_l1': 0.017039063121824582, 'lambda_l2': 0.8318702431636841, 'max_bin': 100, 'num_leaves': 255, 'random_state': 3895, 'n_jobs': 16}, 'fit': {}}, 'metric': 'mean_absolute_error'}"
   ]
  },
  {
   "cell_type": "code",
   "execution_count": 5,
   "metadata": {},
   "outputs": [],
   "source": [
    "mytrial = []"
   ]
  },
  {
   "cell_type": "code",
   "execution_count": 6,
   "metadata": {
    "scrolled": false
   },
   "outputs": [
    {
     "name": "stdout",
     "output_type": "stream",
     "text": [
      "y=fc, type=5\n",
      "179\n",
      "{'columns': ['tertiary_distance_6', 'dist_C_4_y', 'molecule_atom_index_0_dist_std_diff', 'inv_dist1R', 'molecule_atom_index_1_dist_min_div', 'tertiary_distance_3', 'atom_1_n_bonds', 'molecule_atom_index_0_dist_max_div', 'tertiary_atom_2', 'vander_O.x', 'atom_1_bond_lengths_max', 'dist_O_0_y', 'distance_farthest_0', 'dist_to_type_std', 'molecule_atom_1_dist_min_div', 'adC1', 'adC2', 'molecule_atom_index_1_dist_min_diff', 'adN1', 'dist_N_0_y', 'atom_index_1_n_cycle', 'inv_dist1E', 'molecule_type_0_dist_std_diff', 'inv_dist0', 'molecule_atom_index_0_dist_min_diff', 'mean_molecule_atom_1_dist_xyz', 'atom_index_1_cycle_size_mean', 'dist_C_0_y', 'dist_xyz', 'tertiary_angle_4', 'dist_H_1_x', 'atom_0_bond_lengths_max', 'molecule_type_dist_mean_div', 'tertiary_angle_3', 'cos_c1', 'tertiary_distance_4', 'atom_1_bond_lengths_mean', 'dist_C_3_x', 'max_molecule_atom_0_dist_xyz', 'tertiary_angle_1', 'molecule_atom_index_1_dist_std_diff', 'dist_C_0_x', 'dist_N_0_x', 'dist_O_1_y', 'dist_H_0_x', 'cos_f0', 'tertiary_atom_1', 'vander_O.y', 'tertiary_angle_2', 'eem_0', 'dist_C_2_y', 'adC3', 'molecule_atom_1_dist_min_diff', 'tertiary_distance_1', 'dist_O_1_x', 'dist_to_type_mean', 'tertiary_distance_5', 'dist_C_1_x', 'dist_H_1_y', 'dist_H_0_y', 'molecule_atom_index_0_dist_min_div', 'dist_H_2_y', 'tertiary_distance_2', 'molecule_type_dist_std_diff', 'eem_1', 'dist_C_2_x', 'distC0', 'molecule_atom_index_0_dist_max_diff', 'inv_dist1', 'dist_C_1_y', 'tertiary_angle_0', 'dist_O_0_x', 'link0', 'mean_molecule_atom_0_dist_xyz', 'dist_C_3_y', 'tertiary_atom_3', 'cos_c0_c1', 'cos_c0', 'inv_dist0R'], 'cv': {'cls': 'KFold', 'init': {'n_splits': 5, 'shuffle': True, 'random_state': 42}}, 'scaler': {'cls': 'StandardScaler', 'init': {}, 'fit': {}}, 'model': {'cls': 'lgb.LGBMRegressor', 'init': {'learning_rate': 0.2833769330240482, 'feature_fraction': 0.8818248470204605, 'bagging_fraction': 0.8205197060908092, 'min_data_in_leaf': 202, 'lambda_l1': 0.017039063121824582, 'lambda_l2': 0.8318702431636841, 'max_bin': 100, 'num_leaves': 255, 'random_state': 3895, 'n_jobs': 16}, 'fit': {}}, 'metric': 'mean_absolute_error'}\n",
      "y=fc, type=6\n",
      "269\n",
      "{'columns': ['cos_c0_c1', 'tertiary_angle_0', 'cos_c0', 'cos_c1', 'max_molecule_atom_1_dist_xyz', 'molecule_atom_index_0_dist_min_diff', 'dist_H_0_y', 'dist_O_0_y', 'dist_O_0_x', 'dist_C_2_y', 'dist_C_1_y', 'tertiary_angle_1', 'dist_C_0_y', 'molecule_atom_index_1_dist_max_div', 'tertiary_atom_1', 'tertiary_distance_1', 'dist_C_0_x', 'tertiary_distance_3', 'adC3', 'molecule_atom_index_0_dist_min_div', 'max_molecule_atom_0_dist_xyz', 'tertiary_angle_3', 'inv_distPR', 'tertiary_distance_2', 'atom_index_closest_1', 'dist_N_0_y', 'tertiary_angle_2', 'dist_to_type_mean', 'dist_C_2_x', 'distance_c1', 'dist_H_1_y', 'dist_H_0_x', 'cos_f0', 'dist_C_1_x', 'adC2', 'eem_1', 'dist_to_type_0_mean', 'dist_to_type_std', 'max_distance_y', 'distH0', 'atom_1_bond_lengths_mean', 'cos_f1', 'tertiary_atom_0', 'dist_C_3_y', 'dist_xyz', 'dist_to_type_1_mean', 'dist_C_3_x', 'inv_dist0R', 'adN1', 'tertiary_atom_2', 'molecule_atom_index_1_dist_max_diff', 'dist_N_0_x', 'mean_molecule_atom_0_dist_xyz', 'dist_H_2_y', 'dist_H_1_x', 'linkN', 'cos_f0_f1', 'adC1', 'adH1', 'tertiary_angle_4', 'adH2', 'molecule_type_dist_std_diff', 'yukawa_C.y', 'dist_O_1_x', 'linkM0', 'molecule_atom_index_0_dist_max_div', 'link0', 'molecule_atom_index_0_dist_max_diff', 'dist_H_2_x', 'dist_C_4_y'], 'cv': {'cls': 'KFold', 'init': {'n_splits': 5, 'shuffle': True, 'random_state': 42}}, 'scaler': {'cls': 'StandardScaler', 'init': {}, 'fit': {}}, 'model': {'cls': 'lgb.LGBMRegressor', 'init': {'learning_rate': 0.2833769330240482, 'feature_fraction': 0.8818248470204605, 'bagging_fraction': 0.8205197060908092, 'min_data_in_leaf': 202, 'lambda_l1': 0.017039063121824582, 'lambda_l2': 0.8318702431636841, 'max_bin': 100, 'num_leaves': 255, 'random_state': 3895, 'n_jobs': 16}, 'fit': {}}, 'metric': 'mean_absolute_error'}\n",
      "y=fc, type=7\n",
      "883\n",
      "{'columns': ['tertiary_angle_1', 'dist_C_4_y', 'molecule_atom_index_0_dist_std_diff', 'inv_dist1R', 'dist_C_0_x', 'tertiary_distance_3', 'dist_N_0_x', 'molecule_atom_index_1_dist_max_div', 'atom_1_n_bonds', 'dist_H_0_x', 'tertiary_atom_2', 'cos_f0', 'tertiary_atom_1', 'atom_1_bond_lengths_max', 'dist_O_0_y', 'dist_to_type_std', 'vander_O.y', 'tertiary_angle_2', 'yukawa_H.y', 'dist_C_2_y', 'adC3', 'adC1', 'tertiary_distance_1', 'adC2', 'dist_H_0_y', 'dist_C_1_x', 'molecule_atom_index_1_dist_min_diff', 'dist_H_1_y', 'bond_atom', 'atom_1_bond_lengths_std', 'molecule_atom_index_0_dist_min_div', 'dist_H_2_y', 'dist_N_0_y', 'tertiary_distance_2', 'molecule_atom_index_0_dist_min_diff', 'eem_1', 'atom_index_1_cycle_size_mean', 'dist_C_0_y', 'dist_C_2_x', 'dist_xyz', 'dist_H_1_x', 'dist_C_4_x', 'molecule_atom_index_0_dist_std_div', 'dist_C_1_y', 'tertiary_angle_0', 'dist_O_0_x', 'dist_to_type_1_mean', 'inv_distPR', 'atom_1_bond_lengths_min', 'min_molecule_atom_0_dist_xyz', 'dist_C_3_y', 'tertiary_angle_3', 'cos_c1', 'tertiary_distance_4', 'tertiary_atom_3', 'atom_1_bond_lengths_mean', 'dist_C_3_x', 'dist_H_3_y', 'cos_c0_c1', 'cos_c0', 'inv_dist0R', 'max_molecule_atom_0_dist_xyz'], 'cv': {'cls': 'KFold', 'init': {'n_splits': 5, 'shuffle': True, 'random_state': 42}}, 'scaler': {'cls': 'StandardScaler', 'init': {}, 'fit': {}}, 'model': {'cls': 'lgb.LGBMRegressor', 'init': {'learning_rate': 0.2833769330240482, 'feature_fraction': 0.8818248470204605, 'bagging_fraction': 0.8205197060908092, 'min_data_in_leaf': 202, 'lambda_l1': 0.017039063121824582, 'lambda_l2': 0.8318702431636841, 'max_bin': 100, 'num_leaves': 255, 'random_state': 3895, 'n_jobs': 16}, 'fit': {}}, 'metric': 'mean_absolute_error'}\n"
     ]
    }
   ],
   "source": [
    "# ''scalar_coupling_constant, 'fc', 'sd','pso','dso'\n",
    "for y in ['fc']:\n",
    "    for t in np.arange(5,8,1):\n",
    "        \n",
    "        print(f'y={y}, type={t}')\n",
    "        df_train=pd.read_pickle(f'{file_folder}/df_train.gzde', compression='gzip')\n",
    "#         df_test=pd.read_pickle(f'{file_folder}/df_test.gzde', compression='gzip')\n",
    "        \n",
    "        df_train['y'] = df_train[y]\n",
    "        df_train = df_train[df_train['type']==t]\n",
    "        n_samples = 500000 if df_train.shape[0] > 500000 else df_train.shape[0]\n",
    "        df_train = df_train.sample(n_samples).reset_index(drop=True)\n",
    "#         df_test = df_test[df_test['type']==t].reset_index(drop=True)\n",
    "        df_test = pd.DataFrame()\n",
    "        \n",
    "\n",
    "        param = {\n",
    "            'columns': df_train.columns.drop(['index', 'y','group', 'scalar_coupling_constant', 'fc', 'sd','pso','dso']).tolist(),\n",
    "            'cv': {\n",
    "                'cls': 'KFold',\n",
    "                'init':{\n",
    "                    'n_splits': 5,\n",
    "                    'shuffle': True,\n",
    "                    'random_state': 42,\n",
    "                },\n",
    "            },\n",
    "            'scaler': {'cls': 'StandardScaler', 'init': {}, 'fit': {}},\n",
    "            'model': {\n",
    "                'cls': 'lgb.LGBMRegressor',\n",
    "                'init': {\n",
    "                    'learning_rate': 0.2833769330240482,\n",
    "                    'feature_fraction': 0.8818248470204605,\n",
    "                    'bagging_fraction': 0.8205197060908092,\n",
    "                    'min_data_in_leaf': 202,\n",
    "                    'lambda_l1': 0.017039063121824582,\n",
    "                    'lambda_l2': 0.8318702431636841,\n",
    "                    'max_bin': 100,\n",
    "                    'num_leaves': 255,\n",
    "                    'random_state': 3895,\n",
    "                    'n_jobs': 16\n",
    "                },\n",
    "                'fit': {}\n",
    "            },\n",
    "            'metric': 'mean_absolute_error'\n",
    "        }\n",
    "\n",
    "\n",
    "\n",
    "        process_queue = PQueue(df_train, df_test, param, mytrial)\n",
    "        sort_features = SortFeatureSelectTopNProcess(**{'top_n':200})\n",
    "        select_topn = RFESelectTopNProcess(**{'n_features_remain':20, 'n_features_to_remove':10})\n",
    "        remove_useless = RFERemoveUselessFeaturesProcess(**{})\n",
    "        process_queue.insert_node(sort_features)\n",
    "        process_queue.insert_node(select_topn)\n",
    "        process_queue.insert_node(remove_useless)\n",
    "\n",
    "        try:\n",
    "            result = process_queue.run()\n",
    "        except Exception as e:\n",
    "            print(e.__str__())\n",
    "        print(len(process_queue.trial))\n",
    "        print(process_queue.param)\n",
    "    "
   ]
  },
  {
   "cell_type": "code",
   "execution_count": 7,
   "metadata": {},
   "outputs": [],
   "source": [
    "df_train=pd.read_pickle(f'{file_folder}/df_train.gzde', compression='gzip')\n",
    "df_test=pd.read_pickle(f'{file_folder}/df_test.gzde', compression='gzip')\n",
    "df_train['y'] = df_train['fc']"
   ]
  },
  {
   "cell_type": "code",
   "execution_count": 8,
   "metadata": {},
   "outputs": [],
   "source": [
    "columns_list = [{'columns': ['atom_index_1_cycle_size_mean', 'dist_H_0_y', 'dist_H_1_x', 'tertiary_atom_1', 'adC2', 'tertiary_distance_1', 'dist_C_2_y', 'molecule_atom_index_1_dist_min_diff', 'dist_C_1_y', 'atom_index_farthest_0', 'yukawa_H.y', 'inv_dist1R', 'dist_C_0_x', 'dist_H_3_x', 'tertiary_angle_3', 'dist_to_type_std', 'dist_C_3_y', 'eem_1', 'inv_distPR', 'dist_C_1_x', 'linkM0', 'dist_H_2_y', 'dist_H_0_x', 'adC1', 'tertiary_angle_0', 'adN1', 'dist_O_1_y', 'dist_C_2_x', 'eem_0', 'dist_C_4_x', 'adC3', 'tertiary_distance_3', 'dist_O_0_x', 'tertiary_angle_2', 'atom_1_bond_lengths_std', 'molecule_atom_index_0_dist_max_div', 'inv_dist0R', 'distance_farthest_0', 'yukawa_N.x', 'dist_H_3_y', 'molecule_type_dist_mean_diff', 'dist_N_0_x', 'max_molecule_atom_1_dist_xyz', 'dist_C_0_y', 'dist_H_2_x', 'dist_to_type_0_mean', 'tertiary_distance_5', 'atom_1_n_bonds', 'dist_C_3_x', 'tertiary_distance_0', 'dist_to_type_mean', 'distC1', 'dist_O_0_y', 'dist_C_4_y', 'tertiary_distance_2', 'cos_f0', 'atom_1_bond_lengths_max', 'dist_N_0_y', 'dist_xyz', 'dist_H_1_y', 'dist_O_1_x', 'tertiary_distance_4', 'atom_1_bond_lengths_mean', 'yukawa_H.x', 'tertiary_atom_0', 'tertiary_angle_4', 'inv_dist1E', 'tertiary_angle_1'], 'cv': {'cls': 'KFold', 'init': {'n_splits': 5, 'shuffle': True, 'random_state': 42}}, 'scaler': {'cls': 'StandardScaler', 'init': {}, 'fit': {}}, 'model': {'cls': 'lgb.LGBMRegressor', 'init': {'learning_rate': 0.2833769330240482, 'feature_fraction': 0.8818248470204605, 'bagging_fraction': 0.8205197060908092, 'min_data_in_leaf': 202, 'lambda_l1': 0.017039063121824582, 'lambda_l2': 0.8318702431636841, 'max_bin': 100, 'num_leaves': 255, 'random_state': 3895, 'n_jobs': 16}, 'fit': {}}, 'metric': 'mean_absolute_error'},\n",
    "                {'columns': ['atom_index_1_cycle_size_mean', 'dist_H_0_y', 'dist_H_1_x', 'linkM1', 'adC2', 'tertiary_distance_1', 'tertiary_distance_6', 'dist_C_2_y', 'distance_center0', 'dist_C_1_y', 'yukawa_H.y', 'inv_dist1R', 'dist_C_0_x', 'yukawa_C.x', 'inv_dist1', 'cos_center0', 'tertiary_angle_3', 'cos_center1', 'dist_C_3_y', 'vander_O.y', 'eem_1', 'inv_distPR', 'dist_C_1_x', 'inv_distP', 'vander_N.y', 'dist_H_2_y', 'dist_H_0_x', 'tertiary_angle_0', 'vander_N.x', 'dist_C_2_x', 'eem_0', 'coulomb_H.x', 'min_molecule_atom_1_dist_xyz', 'yukawa_N.y', 'molecule_atom_index_0_dist_mean_div', 'dist_C_4_x', 'adC3', 'tertiary_distance_3', 'linkN', 'dist_O_0_x', 'max_molecule_atom_0_dist_xyz', 'distance_center1', 'tertiary_angle_2', 'atom_1_bond_lengths_std', 'molecule_atom_index_0_dist_max_div', 'inv_dist0R', 'link0', 'yukawa_N.x', 'dist_H_3_y', 'dist_N_0_x', 'dist_C_0_y', 'molecule_atom_1_dist_min_diff', 'dist_to_type_0_mean', 'inv_distPE', 'vander_H.x', 'tertiary_distance_5', 'dist_N_1_y', 'dist_N_1_x', 'dist_C_3_x', 'tertiary_distance_0', 'dist_O_0_y', 'distN0', 'dist_C_4_y', 'cos_f1', 'tertiary_distance_2', 'vander_O.x', 'cos_f0', 'atom_1_bond_lengths_max', 'dist_N_0_y', 'dist_H_1_y', 'tertiary_distance_4', 'atom_1_bond_lengths_mean', 'tertiary_atom_0', 'distN1', 'tertiary_angle_1', 'adC4', 'bond_atom'], 'cv': {'cls': 'KFold', 'init': {'n_splits': 5, 'shuffle': True, 'random_state': 42}}, 'scaler': {'cls': 'StandardScaler', 'init': {}, 'fit': {}}, 'model': {'cls': 'lgb.LGBMRegressor', 'init': {'learning_rate': 0.2833769330240482, 'feature_fraction': 0.8818248470204605, 'bagging_fraction': 0.8205197060908092, 'min_data_in_leaf': 202, 'lambda_l1': 0.017039063121824582, 'lambda_l2': 0.8318702431636841, 'max_bin': 100, 'num_leaves': 255, 'random_state': 3895, 'n_jobs': 16}, 'fit': {}}, 'metric': 'mean_absolute_error'},\n",
    "                {'columns': ['atom_index_1_cycle_size_mean', 'atom_0_bond_lengths_max', 'dist_H_0_y', 'tertiary_atom_1', 'adC2', 'tertiary_atom_2', 'tertiary_distance_6', 'tertiary_distance_1', 'dist_C_2_y', 'molecule_atom_index_1_dist_min_diff', 'dist_C_1_y', 'dist_C_0_x', 'inv_dist1R', 'atom_1_bond_lengths_min', 'cos_c0_c1', 'tertiary_angle_3', 'inv_dist1', 'molecule_atom_index_0_dist_max_diff', 'dist_C_3_y', 'vander_O.y', 'eem_1', 'inv_distPR', 'dist_C_1_x', 'dist_H_0_x', 'adC1', 'tertiary_angle_0', 'adN1', 'dist_C_2_x', 'molecule_atom_index_0_dist_mean_div', 'molecule_atom_index_0_dist_min_diff', 'adC3', 'tertiary_distance_3', 'dist_O_0_x', 'max_molecule_atom_0_dist_xyz', 'tertiary_angle_2', 'atom_1_bond_lengths_std', 'inv_dist0R', 'distance_farthest_0', 'dist_N_0_x', 'dist_C_0_y', 'atom_index_1_n_cycle', 'molecule_atom_1_dist_min_diff', 'dist_to_type_0_mean', 'cos_c0', 'distC0', 'tertiary_atom_3', 'bond_atom', 'molecule_atom_index_1_dist_min_div', 'atom_1_n_bonds', 'vander_C.y', 'dist_C_3_x', 'tertiary_atom_4', 'dist_O_0_y', 'molecule_atom_index_0_dist_min_div', 'tertiary_distance_2', 'cos_f0', 'atom_1_bond_lengths_max', 'dist_N_0_y', 'dist_xyz', 'dist_H_1_y', 'dist_O_1_x', 'atom_1_bond_lengths_mean', 'min_molecule_atom_0_dist_xyz', 'molecule_type_dist_max', 'tertiary_atom_0', 'tertiary_angle_4', 'tertiary_angle_1', 'cos_c1'], 'cv': {'cls': 'KFold', 'init': {'n_splits': 5, 'shuffle': True, 'random_state': 42}}, 'scaler': {'cls': 'StandardScaler', 'init': {}, 'fit': {}}, 'model': {'cls': 'lgb.LGBMRegressor', 'init': {'learning_rate': 0.2833769330240482, 'feature_fraction': 0.8818248470204605, 'bagging_fraction': 0.8205197060908092, 'min_data_in_leaf': 202, 'lambda_l1': 0.017039063121824582, 'lambda_l2': 0.8318702431636841, 'max_bin': 100, 'num_leaves': 255, 'random_state': 3895, 'n_jobs': 16}, 'fit': {}}, 'metric': 'mean_absolute_error'},\n",
    "                {'columns': ['yukawa_H.y', 'dist_H_0_y', 'dist_H_3_x', 'tertiary_distance_2', 'dist_H_1_y', 'tertiary_angle_0', 'vander_H.y', 'adC3', 'dist_H_1_x', 'tertiary_distance_3', 'tertiary_atom_2', 'dist_to_type_0_mean', 'molecule_atom_index_0_dist_min_div', 'tertiary_angle_3', 'dist_H_2_x', 'dist_to_type_std', 'dist_C_0_y', 'tertiary_distance_1', 'adN1', 'molecule_atom_index_0_dist_mean_diff', 'inv_distPE', 'adC1', 'molecule_type_dist_max', 'cos_f0', 'eem_1', 'tertiary_atom_1', 'dist_C_3_y', 'molecule_atom_index_0_dist_min_diff', 'dist_N_0_y', 'cos_c1', 'molecule_dist_min', 'vander_H.x', 'mean_molecule_atom_1_dist_xyz', 'dist_H_2_y', 'dist_to_type_1_mean', 'dist_O_0_y', 'molecule_atom_index_0_dist_max_div', 'dist_C_3_x', 'cos_c0', 'mean_molecule_atom_0_dist_xyz', 'cos_f0_f1', 'cos_c0_c1', 'inv_distPR', 'dist_N_0_x', 'dist_C_1_x', 'dist_H_4_x', 'dist_O_0_x', 'dist_H_4_y', 'adC2', 'cos_f1', 'dist_C_0_x', 'min_molecule_atom_1_dist_xyz', 'dist_H_3_y', 'dist_C_1_y', 'max_distance_y', 'dist_C_2_y', 'dist_to_type_mean', 'yukawa_H.x', 'dist_xyz', 'dist_H_0_x', 'distance_c1', 'inv_distP', 'link0', 'tertiary_distance_4', 'tertiary_angle_1', 'distance_farthest_0', 'dist_C_2_x'], 'cv': {'cls': 'KFold', 'init': {'n_splits': 5, 'shuffle': True, 'random_state': 42}}, 'scaler': {'cls': 'StandardScaler', 'init': {}, 'fit': {}}, 'model': {'cls': 'lgb.LGBMRegressor', 'init': {'learning_rate': 0.2833769330240482, 'feature_fraction': 0.8818248470204605, 'bagging_fraction': 0.8205197060908092, 'min_data_in_leaf': 202, 'lambda_l1': 0.017039063121824582, 'lambda_l2': 0.8318702431636841, 'max_bin': 100, 'num_leaves': 255, 'random_state': 3895, 'n_jobs': 16}, 'fit': {}}, 'metric': 'mean_absolute_error'},\n",
    "                {'columns': ['yukawa_H.y', 'dist_H_0_y', 'dist_H_3_x', 'tertiary_distance_2', 'dist_H_1_y', 'tertiary_angle_0', 'vander_H.y', 'adC3', 'dist_H_1_x', 'tertiary_distance_3', 'tertiary_atom_2', 'dist_to_type_0_mean', 'molecule_atom_index_0_dist_min_div', 'tertiary_angle_3', 'dist_H_2_x', 'dist_to_type_std', 'dist_C_0_y', 'tertiary_distance_1', 'adN1', 'molecule_atom_index_0_dist_mean_diff', 'inv_distPE', 'adC1', 'molecule_type_dist_max', 'cos_f0', 'eem_1', 'tertiary_atom_1', 'dist_C_3_y', 'molecule_atom_index_0_dist_min_diff', 'dist_N_0_y', 'cos_c1', 'molecule_dist_min', 'vander_H.x', 'mean_molecule_atom_1_dist_xyz', 'dist_H_2_y', 'dist_to_type_1_mean', 'dist_O_0_y', 'molecule_atom_index_0_dist_max_div', 'dist_C_3_x', 'cos_c0', 'mean_molecule_atom_0_dist_xyz', 'cos_f0_f1', 'cos_c0_c1', 'inv_distPR', 'dist_N_0_x', 'dist_C_1_x', 'dist_H_4_x', 'dist_O_0_x', 'dist_H_4_y', 'adC2', 'cos_f1', 'dist_C_0_x', 'min_molecule_atom_1_dist_xyz', 'dist_H_3_y', 'dist_C_1_y', 'max_distance_y', 'dist_C_2_y', 'dist_to_type_mean', 'yukawa_H.x', 'dist_xyz', 'dist_H_0_x', 'distance_c1', 'inv_distP', 'link0', 'tertiary_distance_4', 'tertiary_angle_1', 'distance_farthest_0', 'dist_C_2_x'], 'cv': {'cls': 'KFold', 'init': {'n_splits': 5, 'shuffle': True, 'random_state': 42}}, 'scaler': {'cls': 'StandardScaler', 'init': {}, 'fit': {}}, 'model': {'cls': 'lgb.LGBMRegressor', 'init': {'learning_rate': 0.2833769330240482, 'feature_fraction': 0.8818248470204605, 'bagging_fraction': 0.8205197060908092, 'min_data_in_leaf': 202, 'lambda_l1': 0.017039063121824582, 'lambda_l2': 0.8318702431636841, 'max_bin': 100, 'num_leaves': 255, 'random_state': 3895, 'n_jobs': 16}, 'fit': {}}, 'metric': 'mean_absolute_error'},\n",
    "                {'columns': ['tertiary_distance_6', 'dist_C_4_y', 'molecule_atom_index_0_dist_std_diff', 'inv_dist1R', 'molecule_atom_index_1_dist_min_div', 'tertiary_distance_3', 'atom_1_n_bonds', 'molecule_atom_index_0_dist_max_div', 'tertiary_atom_2', 'vander_O.x', 'atom_1_bond_lengths_max', 'dist_O_0_y', 'distance_farthest_0', 'dist_to_type_std', 'molecule_atom_1_dist_min_div', 'adC1', 'adC2', 'molecule_atom_index_1_dist_min_diff', 'adN1', 'dist_N_0_y', 'atom_index_1_n_cycle', 'inv_dist1E', 'molecule_type_0_dist_std_diff', 'inv_dist0', 'molecule_atom_index_0_dist_min_diff', 'mean_molecule_atom_1_dist_xyz', 'atom_index_1_cycle_size_mean', 'dist_C_0_y', 'dist_xyz', 'tertiary_angle_4', 'dist_H_1_x', 'atom_0_bond_lengths_max', 'molecule_type_dist_mean_div', 'tertiary_angle_3', 'cos_c1', 'tertiary_distance_4', 'atom_1_bond_lengths_mean', 'dist_C_3_x', 'max_molecule_atom_0_dist_xyz', 'tertiary_angle_1', 'molecule_atom_index_1_dist_std_diff', 'dist_C_0_x', 'dist_N_0_x', 'dist_O_1_y', 'dist_H_0_x', 'cos_f0', 'tertiary_atom_1', 'vander_O.y', 'tertiary_angle_2', 'eem_0', 'dist_C_2_y', 'adC3', 'molecule_atom_1_dist_min_diff', 'tertiary_distance_1', 'dist_O_1_x', 'dist_to_type_mean', 'tertiary_distance_5', 'dist_C_1_x', 'dist_H_1_y', 'dist_H_0_y', 'molecule_atom_index_0_dist_min_div', 'dist_H_2_y', 'tertiary_distance_2', 'molecule_type_dist_std_diff', 'eem_1', 'dist_C_2_x', 'distC0', 'molecule_atom_index_0_dist_max_diff', 'inv_dist1', 'dist_C_1_y', 'tertiary_angle_0', 'dist_O_0_x', 'link0', 'mean_molecule_atom_0_dist_xyz', 'dist_C_3_y', 'tertiary_atom_3', 'cos_c0_c1', 'cos_c0', 'inv_dist0R'], 'cv': {'cls': 'KFold', 'init': {'n_splits': 5, 'shuffle': True, 'random_state': 42}}, 'scaler': {'cls': 'StandardScaler', 'init': {}, 'fit': {}}, 'model': {'cls': 'lgb.LGBMRegressor', 'init': {'learning_rate': 0.2833769330240482, 'feature_fraction': 0.8818248470204605, 'bagging_fraction': 0.8205197060908092, 'min_data_in_leaf': 202, 'lambda_l1': 0.017039063121824582, 'lambda_l2': 0.8318702431636841, 'max_bin': 100, 'num_leaves': 255, 'random_state': 3895, 'n_jobs': 16}, 'fit': {}}, 'metric': 'mean_absolute_error'},\n",
    "                {'columns': ['cos_c0_c1', 'tertiary_angle_0', 'cos_c0', 'cos_c1', 'max_molecule_atom_1_dist_xyz', 'molecule_atom_index_0_dist_min_diff', 'dist_H_0_y', 'dist_O_0_y', 'dist_O_0_x', 'dist_C_2_y', 'dist_C_1_y', 'tertiary_angle_1', 'dist_C_0_y', 'molecule_atom_index_1_dist_max_div', 'tertiary_atom_1', 'tertiary_distance_1', 'dist_C_0_x', 'tertiary_distance_3', 'adC3', 'molecule_atom_index_0_dist_min_div', 'max_molecule_atom_0_dist_xyz', 'tertiary_angle_3', 'inv_distPR', 'tertiary_distance_2', 'atom_index_closest_1', 'dist_N_0_y', 'tertiary_angle_2', 'dist_to_type_mean', 'dist_C_2_x', 'distance_c1', 'dist_H_1_y', 'dist_H_0_x', 'cos_f0', 'dist_C_1_x', 'adC2', 'eem_1', 'dist_to_type_0_mean', 'dist_to_type_std', 'max_distance_y', 'distH0', 'atom_1_bond_lengths_mean', 'cos_f1', 'tertiary_atom_0', 'dist_C_3_y', 'dist_xyz', 'dist_to_type_1_mean', 'dist_C_3_x', 'inv_dist0R', 'adN1', 'tertiary_atom_2', 'molecule_atom_index_1_dist_max_diff', 'dist_N_0_x', 'mean_molecule_atom_0_dist_xyz', 'dist_H_2_y', 'dist_H_1_x', 'linkN', 'cos_f0_f1', 'adC1', 'adH1', 'tertiary_angle_4', 'adH2', 'molecule_type_dist_std_diff', 'yukawa_C.y', 'dist_O_1_x', 'linkM0', 'molecule_atom_index_0_dist_max_div', 'link0', 'molecule_atom_index_0_dist_max_diff', 'dist_H_2_x', 'dist_C_4_y'], 'cv': {'cls': 'KFold', 'init': {'n_splits': 5, 'shuffle': True, 'random_state': 42}}, 'scaler': {'cls': 'StandardScaler', 'init': {}, 'fit': {}}, 'model': {'cls': 'lgb.LGBMRegressor', 'init': {'learning_rate': 0.2833769330240482, 'feature_fraction': 0.8818248470204605, 'bagging_fraction': 0.8205197060908092, 'min_data_in_leaf': 202, 'lambda_l1': 0.017039063121824582, 'lambda_l2': 0.8318702431636841, 'max_bin': 100, 'num_leaves': 255, 'random_state': 3895, 'n_jobs': 16}, 'fit': {}}, 'metric': 'mean_absolute_error'},\n",
    "                {'columns': ['tertiary_angle_1', 'dist_C_4_y', 'molecule_atom_index_0_dist_std_diff', 'inv_dist1R', 'dist_C_0_x', 'tertiary_distance_3', 'dist_N_0_x', 'molecule_atom_index_1_dist_max_div', 'atom_1_n_bonds', 'dist_H_0_x', 'tertiary_atom_2', 'cos_f0', 'tertiary_atom_1', 'atom_1_bond_lengths_max', 'dist_O_0_y', 'dist_to_type_std', 'vander_O.y', 'tertiary_angle_2', 'yukawa_H.y', 'dist_C_2_y', 'adC3', 'adC1', 'tertiary_distance_1', 'adC2', 'dist_H_0_y', 'dist_C_1_x', 'molecule_atom_index_1_dist_min_diff', 'dist_H_1_y', 'bond_atom', 'atom_1_bond_lengths_std', 'molecule_atom_index_0_dist_min_div', 'dist_H_2_y', 'dist_N_0_y', 'tertiary_distance_2', 'molecule_atom_index_0_dist_min_diff', 'eem_1', 'atom_index_1_cycle_size_mean', 'dist_C_0_y', 'dist_C_2_x', 'dist_xyz', 'dist_H_1_x', 'dist_C_4_x', 'molecule_atom_index_0_dist_std_div', 'dist_C_1_y', 'tertiary_angle_0', 'dist_O_0_x', 'dist_to_type_1_mean', 'inv_distPR', 'atom_1_bond_lengths_min', 'min_molecule_atom_0_dist_xyz', 'dist_C_3_y', 'tertiary_angle_3', 'cos_c1', 'tertiary_distance_4', 'tertiary_atom_3', 'atom_1_bond_lengths_mean', 'dist_C_3_x', 'dist_H_3_y', 'cos_c0_c1', 'cos_c0', 'inv_dist0R', 'max_molecule_atom_0_dist_xyz'], 'cv': {'cls': 'KFold', 'init': {'n_splits': 5, 'shuffle': True, 'random_state': 42}}, 'scaler': {'cls': 'StandardScaler', 'init': {}, 'fit': {}}, 'model': {'cls': 'lgb.LGBMRegressor', 'init': {'learning_rate': 0.2833769330240482, 'feature_fraction': 0.8818248470204605, 'bagging_fraction': 0.8205197060908092, 'min_data_in_leaf': 202, 'lambda_l1': 0.017039063121824582, 'lambda_l2': 0.8318702431636841, 'max_bin': 100, 'num_leaves': 255, 'random_state': 3895, 'n_jobs': 16}, 'fit': {}}, 'metric': 'mean_absolute_error'}\n",
    "               ]"
   ]
  },
  {
   "cell_type": "code",
   "execution_count": 9,
   "metadata": {},
   "outputs": [],
   "source": [
    "mytrial=[]\n",
    "df_his, df_feature_importances, df_valid_pred, df_test_pred = pd.DataFrame(), pd.DataFrame(),pd.DataFrame(),pd.DataFrame()\n",
    "for t in  df_train.type.unique().tolist():\n",
    "    df_his_i, df_feature_importances_i, df_valid_pred_i, df_test_pred_i =  sk_process(df_train[df_train['type']==t].reset_index(drop=True), columns_list[t], f'modeling for {t}', df_test=df_test[df_test['type']==t].reset_index(drop=True), trial=mytrial, is_output_feature_importance=False, trial_level=1)\n",
    "    df_his = pd.concat([df_his, df_his_i], axis=0)\n",
    "    df_feature_importances = pd.concat([df_feature_importances, df_feature_importances_i], axis=0)\n",
    "    df_valid_pred = pd.concat([df_valid_pred, df_valid_pred_i], axis=0)\n",
    "    df_test_pred = pd.concat([df_test_pred, df_test_pred_i], axis=0)\n",
    "\n",
    "df_valid_pred = df_valid_pred.sort_values(by=['index']).reset_index(drop=True)\n",
    "df_test_pred = df_test_pred.sort_values(by=['index']).reset_index(drop=True)"
   ]
  },
  {
   "cell_type": "code",
   "execution_count": 12,
   "metadata": {},
   "outputs": [
    {
     "data": {
      "text/html": [
       "<div>\n",
       "<style scoped>\n",
       "    .dataframe tbody tr th:only-of-type {\n",
       "        vertical-align: middle;\n",
       "    }\n",
       "\n",
       "    .dataframe tbody tr th {\n",
       "        vertical-align: top;\n",
       "    }\n",
       "\n",
       "    .dataframe thead th {\n",
       "        text-align: right;\n",
       "    }\n",
       "</style>\n",
       "<table border=\"1\" class=\"dataframe\">\n",
       "  <thead>\n",
       "    <tr style=\"text-align: right;\">\n",
       "      <th></th>\n",
       "      <th>datetime</th>\n",
       "      <th>message</th>\n",
       "      <th>nfeatures</th>\n",
       "      <th>train_metric_mean</th>\n",
       "      <th>val_metric_mean</th>\n",
       "      <th>trn_val_metric_diff</th>\n",
       "      <th>message</th>\n",
       "    </tr>\n",
       "  </thead>\n",
       "  <tbody>\n",
       "    <tr>\n",
       "      <th>0</th>\n",
       "      <td>2019-07-21 06:34:08.207422</td>\n",
       "      <td>modeling for 0</td>\n",
       "      <td>68</td>\n",
       "      <td>0.831599</td>\n",
       "      <td>0.941337</td>\n",
       "      <td>0.109738</td>\n",
       "      <td>modeling for 0</td>\n",
       "    </tr>\n",
       "    <tr>\n",
       "      <th>1</th>\n",
       "      <td>2019-07-21 06:34:28.080121</td>\n",
       "      <td>modeling for 3</td>\n",
       "      <td>67</td>\n",
       "      <td>0.160207</td>\n",
       "      <td>0.198846</td>\n",
       "      <td>0.038639</td>\n",
       "      <td>modeling for 3</td>\n",
       "    </tr>\n",
       "    <tr>\n",
       "      <th>2</th>\n",
       "      <td>2019-07-21 06:34:31.229728</td>\n",
       "      <td>modeling for 1</td>\n",
       "      <td>77</td>\n",
       "      <td>0.277930</td>\n",
       "      <td>0.440667</td>\n",
       "      <td>0.162737</td>\n",
       "      <td>modeling for 1</td>\n",
       "    </tr>\n",
       "    <tr>\n",
       "      <th>3</th>\n",
       "      <td>2019-07-21 06:34:38.688148</td>\n",
       "      <td>modeling for 4</td>\n",
       "      <td>67</td>\n",
       "      <td>0.156553</td>\n",
       "      <td>0.242246</td>\n",
       "      <td>0.085693</td>\n",
       "      <td>modeling for 4</td>\n",
       "    </tr>\n",
       "    <tr>\n",
       "      <th>4</th>\n",
       "      <td>2019-07-21 06:35:39.057613</td>\n",
       "      <td>modeling for 2</td>\n",
       "      <td>68</td>\n",
       "      <td>0.365101</td>\n",
       "      <td>0.395450</td>\n",
       "      <td>0.030350</td>\n",
       "      <td>modeling for 2</td>\n",
       "    </tr>\n",
       "    <tr>\n",
       "      <th>5</th>\n",
       "      <td>2019-07-21 06:36:13.287223</td>\n",
       "      <td>modeling for 6</td>\n",
       "      <td>70</td>\n",
       "      <td>0.191867</td>\n",
       "      <td>0.220793</td>\n",
       "      <td>0.028926</td>\n",
       "      <td>modeling for 6</td>\n",
       "    </tr>\n",
       "    <tr>\n",
       "      <th>6</th>\n",
       "      <td>2019-07-21 06:37:54.083516</td>\n",
       "      <td>modeling for 5</td>\n",
       "      <td>79</td>\n",
       "      <td>0.410485</td>\n",
       "      <td>0.437274</td>\n",
       "      <td>0.026789</td>\n",
       "      <td>modeling for 5</td>\n",
       "    </tr>\n",
       "    <tr>\n",
       "      <th>7</th>\n",
       "      <td>2019-07-21 06:38:03.106022</td>\n",
       "      <td>modeling for 7</td>\n",
       "      <td>62</td>\n",
       "      <td>0.098279</td>\n",
       "      <td>0.139488</td>\n",
       "      <td>0.041208</td>\n",
       "      <td>modeling for 7</td>\n",
       "    </tr>\n",
       "  </tbody>\n",
       "</table>\n",
       "</div>"
      ],
      "text/plain": [
       "                    datetime         message  nfeatures  train_metric_mean  \\\n",
       "0 2019-07-21 06:34:08.207422  modeling for 0         68           0.831599   \n",
       "1 2019-07-21 06:34:28.080121  modeling for 3         67           0.160207   \n",
       "2 2019-07-21 06:34:31.229728  modeling for 1         77           0.277930   \n",
       "3 2019-07-21 06:34:38.688148  modeling for 4         67           0.156553   \n",
       "4 2019-07-21 06:35:39.057613  modeling for 2         68           0.365101   \n",
       "5 2019-07-21 06:36:13.287223  modeling for 6         70           0.191867   \n",
       "6 2019-07-21 06:37:54.083516  modeling for 5         79           0.410485   \n",
       "7 2019-07-21 06:38:03.106022  modeling for 7         62           0.098279   \n",
       "\n",
       "   val_metric_mean  trn_val_metric_diff         message  \n",
       "0         0.941337             0.109738  modeling for 0  \n",
       "1         0.198846             0.038639  modeling for 3  \n",
       "2         0.440667             0.162737  modeling for 1  \n",
       "3         0.242246             0.085693  modeling for 4  \n",
       "4         0.395450             0.030350  modeling for 2  \n",
       "5         0.220793             0.028926  modeling for 6  \n",
       "6         0.437274             0.026789  modeling for 5  \n",
       "7         0.139488             0.041208  modeling for 7  "
      ]
     },
     "execution_count": 12,
     "metadata": {},
     "output_type": "execute_result"
    }
   ],
   "source": [
    "df_trial = pd.DataFrame(mytrial)\n",
    "df_trial[['datetime', 'message', 'nfeatures', 'train_metric_mean', 'val_metric_mean', 'trn_val_metric_diff', 'message']]"
   ]
  },
  {
   "cell_type": "code",
   "execution_count": 13,
   "metadata": {},
   "outputs": [
    {
     "name": "stdout",
     "output_type": "stream",
     "text": [
      "0.4414013190561284\n",
      "0 0.9413368511055361\n",
      "3 0.1988460127465658\n",
      "1 0.44066665850314923\n",
      "4 0.24224589451301176\n",
      "2 0.39545027197188404\n",
      "6 0.2207930281919972\n",
      "5 0.43727380870970267\n",
      "7 0.13948781490764398\n"
     ]
    }
   ],
   "source": [
    "print(mean_absolute_error(df_valid_pred.sort_values(by=['index']).reset_index(drop=True).predict.values, df_train.reset_index(drop=True).y.values))\n",
    "for t in df_train.type.unique().tolist():\n",
    "    index = df_train[df_train['type']==t]['index'].values\n",
    "    print(t, mean_absolute_error(df_valid_pred[df_valid_pred['index'].isin(index)].sort_values(by=['index']).reset_index(drop=True).predict.values, df_train[df_train['index'].isin(index)].reset_index(drop=True).y.values))"
   ]
  },
  {
   "cell_type": "code",
   "execution_count": 14,
   "metadata": {},
   "outputs": [
    {
     "data": {
      "text/html": [
       "<div>\n",
       "<style scoped>\n",
       "    .dataframe tbody tr th:only-of-type {\n",
       "        vertical-align: middle;\n",
       "    }\n",
       "\n",
       "    .dataframe tbody tr th {\n",
       "        vertical-align: top;\n",
       "    }\n",
       "\n",
       "    .dataframe thead th {\n",
       "        text-align: right;\n",
       "    }\n",
       "</style>\n",
       "<table border=\"1\" class=\"dataframe\">\n",
       "  <thead>\n",
       "    <tr style=\"text-align: right;\">\n",
       "      <th></th>\n",
       "      <th>index</th>\n",
       "      <th>0</th>\n",
       "      <th>1</th>\n",
       "      <th>2</th>\n",
       "      <th>3</th>\n",
       "      <th>4</th>\n",
       "    </tr>\n",
       "  </thead>\n",
       "  <tbody>\n",
       "    <tr>\n",
       "      <th>2505537</th>\n",
       "      <td>7163684</td>\n",
       "      <td>0.504343</td>\n",
       "      <td>0.249645</td>\n",
       "      <td>0.383658</td>\n",
       "      <td>0.510983</td>\n",
       "      <td>0.713844</td>\n",
       "    </tr>\n",
       "    <tr>\n",
       "      <th>2505538</th>\n",
       "      <td>7163685</td>\n",
       "      <td>3.003948</td>\n",
       "      <td>3.678136</td>\n",
       "      <td>3.857650</td>\n",
       "      <td>2.861471</td>\n",
       "      <td>3.893262</td>\n",
       "    </tr>\n",
       "    <tr>\n",
       "      <th>2505539</th>\n",
       "      <td>7163686</td>\n",
       "      <td>1.340398</td>\n",
       "      <td>2.126085</td>\n",
       "      <td>2.471289</td>\n",
       "      <td>2.317472</td>\n",
       "      <td>2.880695</td>\n",
       "    </tr>\n",
       "    <tr>\n",
       "      <th>2505540</th>\n",
       "      <td>7163687</td>\n",
       "      <td>6.097431</td>\n",
       "      <td>3.617092</td>\n",
       "      <td>2.604197</td>\n",
       "      <td>5.418305</td>\n",
       "      <td>4.289756</td>\n",
       "    </tr>\n",
       "    <tr>\n",
       "      <th>2505541</th>\n",
       "      <td>7163688</td>\n",
       "      <td>113.142411</td>\n",
       "      <td>115.394378</td>\n",
       "      <td>114.157580</td>\n",
       "      <td>114.538418</td>\n",
       "      <td>112.525543</td>\n",
       "    </tr>\n",
       "  </tbody>\n",
       "</table>\n",
       "</div>"
      ],
      "text/plain": [
       "           index           0           1           2           3           4\n",
       "2505537  7163684    0.504343    0.249645    0.383658    0.510983    0.713844\n",
       "2505538  7163685    3.003948    3.678136    3.857650    2.861471    3.893262\n",
       "2505539  7163686    1.340398    2.126085    2.471289    2.317472    2.880695\n",
       "2505540  7163687    6.097431    3.617092    2.604197    5.418305    4.289756\n",
       "2505541  7163688  113.142411  115.394378  114.157580  114.538418  112.525543"
      ]
     },
     "execution_count": 14,
     "metadata": {},
     "output_type": "execute_result"
    }
   ],
   "source": [
    "df_test_pred.tail()"
   ]
  },
  {
   "cell_type": "code",
   "execution_count": 17,
   "metadata": {},
   "outputs": [],
   "source": [
    "# df_test_pred = df_trial.loc[idx]['df_test_pred']\n",
    "df_submit = pd.DataFrame()\n",
    "df_submit['fc'] = np.mean(df_test_pred.drop(columns=['index']).values, axis=1)\n",
    "df_submit['id'] = df_test_pred['index']\n",
    "df_submit.to_pickle('../../data/oof/lgbm_fc_test.pkl')"
   ]
  },
  {
   "cell_type": "code",
   "execution_count": 18,
   "metadata": {},
   "outputs": [],
   "source": [
    "df_submit = df_valid_pred.rename(columns={'predict':'fc', 'index':'id'})\n",
    "df_submit.to_pickle('../../data/oof/lgbm_fc_train.pkl')"
   ]
  },
  {
   "cell_type": "code",
   "execution_count": null,
   "metadata": {},
   "outputs": [],
   "source": []
  }
 ],
 "metadata": {
  "kernelspec": {
   "display_name": "Python 3",
   "language": "python",
   "name": "python3"
  },
  "language_info": {
   "codemirror_mode": {
    "name": "ipython",
    "version": 3
   },
   "file_extension": ".py",
   "mimetype": "text/x-python",
   "name": "python",
   "nbconvert_exporter": "python",
   "pygments_lexer": "ipython3",
   "version": "3.6.8"
  }
 },
 "nbformat": 4,
 "nbformat_minor": 2
}
