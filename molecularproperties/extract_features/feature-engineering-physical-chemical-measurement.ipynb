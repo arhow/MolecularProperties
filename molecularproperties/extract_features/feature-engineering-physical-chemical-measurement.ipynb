{
 "cells": [
  {
   "cell_type": "code",
   "execution_count": 1,
   "metadata": {},
   "outputs": [
    {
     "data": {
      "text/html": [
       "<style>\n",
       "   div#notebook-container    { width: 95%; }\n",
       "   div#menubar-container     { width: 65%; }\n",
       "   div#maintoolbar-container { width: 99%; }\n",
       "</style>"
      ],
      "text/plain": [
       "<IPython.core.display.HTML object>"
      ]
     },
     "metadata": {},
     "output_type": "display_data"
    }
   ],
   "source": [
    "%%HTML\n",
    "<style>\n",
    "   div#notebook-container    { width: 95%; }\n",
    "   div#menubar-container     { width: 65%; }\n",
    "   div#maintoolbar-container { width: 99%; }\n",
    "</style>"
   ]
  },
  {
   "cell_type": "code",
   "execution_count": 2,
   "metadata": {},
   "outputs": [],
   "source": [
    "import os\n",
    "import pandas as pd\n",
    "import openbabel\n",
    "import numpy as np\n",
    "from tqdm import tqdm"
   ]
  },
  {
   "cell_type": "code",
   "execution_count": 3,
   "metadata": {},
   "outputs": [
    {
     "data": {
      "text/plain": [
       "['sample_submission.csv',\n",
       " 'magnetic_shielding_tensors.csv',\n",
       " 'potential_energy.csv',\n",
       " 'scalar_coupling_contributions.csv',\n",
       " 'dipole_moments.csv',\n",
       " 'mulliken_charges.csv',\n",
       " 'train.csv',\n",
       " 'test.csv',\n",
       " 'structures.csv',\n",
       " 'structures']"
      ]
     },
     "execution_count": 3,
     "metadata": {},
     "output_type": "execute_result"
    }
   ],
   "source": [
    "file_folder = '../../data/input'\n",
    "os.listdir(file_folder)"
   ]
  },
  {
   "cell_type": "code",
   "execution_count": 5,
   "metadata": {},
   "outputs": [
    {
     "name": "stdout",
     "output_type": "stream",
     "text": [
      "['sample_submission.csv', 'magnetic_shielding_tensors.csv', 'potential_energy.csv', 'scalar_coupling_contributions.csv', 'dipole_moments.csv', 'mulliken_charges.csv', 'train.csv', 'test.csv', 'structures.csv', 'structures']\n"
     ]
    }
   ],
   "source": [
    "# This Python 3 environment comes with many helpful analytics libraries installed\n",
    "# It is defined by the kaggle/python docker image: https://github.com/kaggle/docker-python\n",
    "# For example, here's several helpful packages to load in \n",
    "\n",
    "import numpy as np # linear algebra\n",
    "import pandas as pd # data processing, CSV file I/O (e.g. pd.read_csv)\n",
    "\n",
    "# Input data files are available in the \"../input/\" directory.\n",
    "# For example, running this (by clicking run or pressing Shift+Enter) will list the files in the input directory\n",
    "\n",
    "import os\n",
    "print(os.listdir(file_folder))\n",
    "\n",
    "# Any results you write to the current directory are saved as output."
   ]
  },
  {
   "cell_type": "code",
   "execution_count": 6,
   "metadata": {},
   "outputs": [],
   "source": [
    "import scipy as sp #collection of functions for scientific computing and advance mathematics\n",
    "from scipy import stats\n",
    "from scipy.stats import norm, skew\n",
    "from scipy.special import boxcox1p\n",
    "from scipy.stats import boxcox_normmax\n",
    "\n",
    "\n",
    "# warnings mute\n",
    "import warnings\n",
    "warnings.simplefilter('ignore')"
   ]
  },
  {
   "cell_type": "code",
   "execution_count": 7,
   "metadata": {},
   "outputs": [],
   "source": [
    "def reduce_mem_usage(df):\n",
    "    \"\"\" iterate through all the columns of a dataframe and modify the data type\n",
    "        to reduce memory usage.        \n",
    "    \"\"\"\n",
    "    start_mem = df.memory_usage().sum() / 1024**2\n",
    "    print('Memory usage of dataframe is {:.2f} MB'.format(start_mem))\n",
    "    \n",
    "    for col in df.columns:\n",
    "        col_type = df[col].dtype\n",
    "        \n",
    "        if col_type != object:\n",
    "            c_min = df[col].min()\n",
    "            c_max = df[col].max()\n",
    "            if str(col_type)[:3] == 'int':\n",
    "                if c_min > np.iinfo(np.int8).min and c_max < np.iinfo(np.int8).max:\n",
    "                    df[col] = df[col].astype(np.int8)\n",
    "                elif c_min > np.iinfo(np.int16).min and c_max < np.iinfo(np.int16).max:\n",
    "                    df[col] = df[col].astype(np.int16)\n",
    "                elif c_min > np.iinfo(np.int32).min and c_max < np.iinfo(np.int32).max:\n",
    "                    df[col] = df[col].astype(np.int32)\n",
    "                elif c_min > np.iinfo(np.int64).min and c_max < np.iinfo(np.int64).max:\n",
    "                    df[col] = df[col].astype(np.int64)  \n",
    "            else:\n",
    "                if c_min > np.finfo(np.float16).min and c_max < np.finfo(np.float16).max:\n",
    "                    df[col] = df[col].astype(np.float16)\n",
    "                elif c_min > np.finfo(np.float32).min and c_max < np.finfo(np.float32).max:\n",
    "                    df[col] = df[col].astype(np.float32)\n",
    "                else:\n",
    "                    df[col] = df[col].astype(np.float64)\n",
    "        else:\n",
    "            df[col] = df[col].astype('category')\n",
    "\n",
    "    end_mem = df.memory_usage().sum() / 1024**2\n",
    "    print('Memory usage after optimization is: {:.2f} MB'.format(end_mem))\n",
    "    print('Decreased by {:.1f}%'.format(100 * (start_mem - end_mem) / start_mem))\n",
    "    \n",
    "    return df"
   ]
  },
  {
   "cell_type": "code",
   "execution_count": 9,
   "metadata": {},
   "outputs": [],
   "source": [
    "train = pd.read_csv(f'{file_folder}/train.csv')\n",
    "test = pd.read_csv(f'{file_folder}/test.csv')\n",
    "magnetic_shielding_tensors = pd.read_csv(f'{file_folder}/magnetic_shielding_tensors.csv')\n",
    "dipole_moments = pd.read_csv(f'{file_folder}/dipole_moments.csv')\n",
    "mulliken_charges = pd.read_csv(f'{file_folder}/mulliken_charges.csv')\n",
    "potential_energy = pd.read_csv(f'{file_folder}/potential_energy.csv')\n",
    "contributions = pd.read_csv(f'{file_folder}/scalar_coupling_contributions.csv')\n",
    "structures = pd.read_csv(f'{file_folder}/structures.csv')\n",
    "\n",
    "structures_notreal = structures"
   ]
  },
  {
   "cell_type": "code",
   "execution_count": 10,
   "metadata": {},
   "outputs": [],
   "source": [
    "#electronegativity pauling\n",
    "electronegativity = {'H':2.2, 'C':2.55, 'N':3.04 , 'O':3.44, 'F':3.98 }\n",
    "#Type de charge \n",
    "charge ={'H':0, 'C':1, 'N':1 , 'O':3.44, 'F':3.98 }\n",
    "#etat\n",
    "etat ={'H':0, 'C':1, 'N':0, 'O':3.44, 'F':3.98 }\n",
    "#Masse kg/m^3\n",
    "masse = {'H':76, 'C':3513, 'N':1026, 'O':3.44, 'F':3.98 }\n",
    "#volume cm^3/mole\n",
    "volume = {'H':13.26, 'C':3.42, 'N':13.65, 'O':3.44, 'F':3.98 }\n",
    "#Rayon atomique (mesuré)\n",
    "rayon_am = {'H':25, 'C':70, 'N':65, 'O':3.44, 'F':3.98 }\n",
    "#Rayon atomique (calculé)\n",
    "rayon_ac = {'H':53, 'C':67, 'N':56 ,'O':0.73, 'F':0.71}\n",
    "#Rayon covalent\n",
    "rayon_c = {'H':38, 'C':77, 'N':75, 'O':3.44, 'F':3.98 }\n",
    "#Rayon ionique\n",
    "rayon_i = {'H':-3, 'C':4, 'N':-3, 'O':3.44, 'F':3.98 }\n",
    "#Rayon de Van der Waals\n",
    "rayon_vdw = {'H':120, 'C':170, 'N':155, 'O':3.44, 'F':3.98 }"
   ]
  },
  {
   "cell_type": "code",
   "execution_count": 11,
   "metadata": {},
   "outputs": [],
   "source": [
    "#Point de fusion\n",
    "fusion = {'H':-259.1, 'C':3546.9, 'N':-209.9, 'O':3.44, 'F':3.98 }\n",
    "#seuil d'ébulution minimal (celcius)\n",
    "ebulution_min = {'H':-252.9, 'C':4826.9, 'N':-195.8, 'O':3.44, 'F':3.98 }\n",
    "#Enthalpie de fusion ΔHf (kj/mol)\n",
    "enthalpie_fusion = {'H':0.12, 'C':105, 'N':0.72, 'O':3.44, 'F':3.98 }\n",
    "#Enthalpie de vaporisation ΔHv\n",
    "enthalpie_vaporisation = {'H':0.46, 'C':710.9, 'N':5.58, 'O':3.44, 'F':3.98 }\n",
    "#Capacité thermique\n",
    "capacite_thermique = {'H':14.3, 'C':0.71, 'N':1.04, 'O':3.44, 'F':3.98 }\n",
    "#Conductivité thermique\n",
    "conductivite_thermique = {'H':0.18, 'C':990, 'N':0.03, 'O':3.44, 'F':3.98 }"
   ]
  },
  {
   "cell_type": "code",
   "execution_count": 12,
   "metadata": {},
   "outputs": [],
   "source": [
    "#Nb isotopes\n",
    "isotopes = {'H':3, 'C':12, 'N':12, 'O':3.44, 'F':3.98 }\n",
    "#Isotopes emeteurs\n",
    "isotopes_emeteurs = {'H':0, 'C':3, 'N':3, 'O':3.44, 'F':3.98 }"
   ]
  },
  {
   "cell_type": "code",
   "execution_count": 13,
   "metadata": {},
   "outputs": [],
   "source": [
    "dico_chemical_elements = {'electronegativity':electronegativity ,\n",
    "                         'charge':charge,\n",
    "                          'etat':etat,\n",
    "                          'masse':masse,\n",
    "                          'volume':volume,\n",
    "                          'rayon_am':rayon_am,\n",
    "                          'rayon_ac':rayon_ac,\n",
    "                          'rayon_c':rayon_c,\n",
    "                          'rayon_i':rayon_i,\n",
    "                          'rayon_vdw':rayon_vdw,\n",
    "                          'fusion':fusion,\n",
    "                          'ebulution_min':ebulution_min,\n",
    "                          'enthalpie_fusion':enthalpie_fusion,\n",
    "                          'enthalpie_vaporisation':enthalpie_vaporisation,\n",
    "                          'capacite_thermique':capacite_thermique,\n",
    "                          'conductivite_thermique':conductivite_thermique,\n",
    "                          'isotopes':isotopes,\n",
    "                          'isotopes_emeteurs':isotopes_emeteurs\n",
    "                         }"
   ]
  },
  {
   "cell_type": "code",
   "execution_count": 14,
   "metadata": {},
   "outputs": [],
   "source": [
    "def dico_todf(list_dicos, df):\n",
    "    for k,v in list_dicos.items():\n",
    "        df[k] = df['atom'].apply(lambda x : v[x])\n",
    "    return df "
   ]
  },
  {
   "cell_type": "code",
   "execution_count": 15,
   "metadata": {},
   "outputs": [],
   "source": [
    "def map_atom_info(df, atom_idx):\n",
    "    df = pd.merge(df, structures, how = 'left',\n",
    "                  left_on  = ['molecule_name', f'atom_index_{atom_idx}'],\n",
    "                  right_on = ['molecule_name',  'atom_index'])\n",
    "    \n",
    "    df = df.drop('atom_index', axis=1)\n",
    "    df = df.rename(columns={'atom': f'atom_{atom_idx}',\n",
    "                            'x': f'x_{atom_idx}',\n",
    "                            'y': f'y_{atom_idx}',\n",
    "                            'z': f'z_{atom_idx}'})\n",
    "    return df"
   ]
  },
  {
   "cell_type": "code",
   "execution_count": 16,
   "metadata": {},
   "outputs": [],
   "source": [
    "def dihedral_angle(data): \n",
    "        \n",
    "    vals = np.array(data[:, 3:6], dtype=np.float64)\n",
    "    mol_names = np.array(data[:, 0], dtype=np.str)\n",
    " \n",
    "    result = np.zeros((data.shape[0], 2), dtype=object)\n",
    "    # use every 4 rows to compute the dihedral angle\n",
    "    for idx in range(0, vals.shape[0] - 4, 4):\n",
    "\n",
    "        a0 = vals[idx]\n",
    "        a1 = vals[idx + 1]\n",
    "        a2 = vals[idx + 2]\n",
    "        a3 = vals[idx + 3]\n",
    "        \n",
    "        b0 = a0 - a1\n",
    "        b1 = a2 - a1\n",
    "        b2 = a3 - a2\n",
    "        \n",
    "        # normalize b1 so that it does not influence magnitude of vector\n",
    "        # rejections that come next\n",
    "        b1 /= np.linalg.norm(b1)\n",
    "    \n",
    "        # vector rejections\n",
    "        # v = projection of b0 onto plane perpendicular to b1\n",
    "        #   = b0 minus component that aligns with b1\n",
    "        # w = projection of b2 onto plane perpendicular to b1\n",
    "        #   = b2 minus component that aligns with b1\n",
    "\n",
    "        v = b0 - np.dot(b0, b1) * b1\n",
    "        w = b2 - np.dot(b2, b1) * b1\n",
    "\n",
    "        # angle between v and w in a plane is the torsion angle\n",
    "        # v and w may not be normalized but that's fine since tan is y/x\n",
    "        x = np.dot(v, w)\n",
    "        y = np.dot(np.cross(b1, v), w)\n",
    "       \n",
    "        # We want all 4 first rows for every molecule to have the same value\n",
    "        # (in order to have the same length as the dataframe)\n",
    "        result[idx:idx + 4] = [mol_names[idx], np.degrees(np.arctan2(y, x))]\n",
    "        \n",
    "    return result"
   ]
  },
  {
   "cell_type": "code",
   "execution_count": 17,
   "metadata": {},
   "outputs": [
    {
     "name": "stdout",
     "output_type": "stream",
     "text": [
      "Time elapsed (hh:mm:ss.ms) 0:00:12.771621\n"
     ]
    }
   ],
   "source": [
    "from datetime import datetime\n",
    "startTime = datetime.now()\n",
    "dihedral = dihedral_angle(structures[structures.groupby('molecule_name')['atom_index'].transform('count').ge(4)].groupby('molecule_name').head(4).values)\n",
    "print('Time elapsed (hh:mm:ss.ms) {}'.format(datetime.now() - startTime))"
   ]
  },
  {
   "cell_type": "code",
   "execution_count": 18,
   "metadata": {},
   "outputs": [],
   "source": [
    "themap = {k:v for k, v in dihedral if k}\n",
    "# Add diehral and cos diehral angle to features \n",
    "structures['dihedral'] = structures['molecule_name'].map(themap)\n",
    "structures['cosdihedral'] = structures['dihedral'].map(np.cos)"
   ]
  },
  {
   "cell_type": "code",
   "execution_count": 19,
   "metadata": {},
   "outputs": [],
   "source": [
    "atoms = structures['atom'].values\n",
    "atoms_en = [electronegativity[x] for x in (atoms)]\n",
    "atoms_rad = [rayon_ac[x] for x in (atoms)]\n",
    "\n",
    "structures['EN'] = atoms_en\n",
    "structures['rad'] = atoms_rad"
   ]
  },
  {
   "cell_type": "code",
   "execution_count": 20,
   "metadata": {},
   "outputs": [],
   "source": [
    "#Add bonds to features\n",
    "i_atom = structures['atom_index'].values\n",
    "p = structures[['x', 'y', 'z']].values\n",
    "p_compare = p\n",
    "m = structures['molecule_name'].values\n",
    "m_compare = m\n",
    "r = structures['rad'].values\n",
    "r_compare = r\n",
    "\n",
    "source_row = np.arange(len(structures))\n",
    "max_atoms = 28\n",
    "\n",
    "bonds = np.zeros((len(structures)+1, max_atoms+1), dtype=np.int8)\n",
    "bond_dists = np.zeros((len(structures)+1, max_atoms+1), dtype=np.float32)\n",
    "\n",
    "\n",
    "for i in (range(max_atoms-1)):\n",
    "    p_compare = np.roll(p_compare, -1, axis=0)\n",
    "    m_compare = np.roll(m_compare, -1, axis=0)\n",
    "    r_compare = np.roll(r_compare, -1, axis=0)\n",
    "    \n",
    "    mask = np.where(m == m_compare, 1, 0) #Are we still comparing atoms in the same molecule?\n",
    "    dists = np.linalg.norm(p - p_compare, axis=1) * mask\n",
    "    r_bond = r + r_compare\n",
    "    \n",
    "    bond = np.where(np.logical_and(dists > 0.0001, dists < r_bond), 1, 0)\n",
    "    \n",
    "    source_row = source_row\n",
    "    target_row = source_row + i + 1 #Note: Will be out of bounds of bonds array for some values of i\n",
    "    target_row = np.where(np.logical_or(target_row > len(structures), mask==0), len(structures), target_row) #If invalid target, write to dummy row\n",
    "    \n",
    "    source_atom = i_atom\n",
    "    target_atom = i_atom + i + 1 #Note: Will be out of bounds of bonds array for some values of i\n",
    "    target_atom = np.where(np.logical_or(target_atom > max_atoms, mask==0), max_atoms, target_atom) #If invalid target, write to dummy col\n",
    "    \n",
    "    bonds[(source_row, target_atom)] = bond\n",
    "    bonds[(target_row, source_atom)] = bond\n",
    "    bond_dists[(source_row, target_atom)] = dists\n",
    "    bond_dists[(target_row, source_atom)] = dists\n",
    "\n",
    "bonds = np.delete(bonds, axis=0, obj=-1) #Delete dummy row\n",
    "bonds = np.delete(bonds, axis=1, obj=-1) #Delete dummy col\n",
    "bond_dists = np.delete(bond_dists, axis=0, obj=-1) #Delete dummy row\n",
    "bond_dists = np.delete(bond_dists, axis=1, obj=-1) #Delete dummy col\n",
    "\n",
    "\n",
    "bonds_numeric = [[i for i,x in enumerate(row) if x] for row in (bonds)]\n",
    "bond_lengths = [[dist for i,dist in enumerate(row) if i in bonds_numeric[j]] for j,row in enumerate((bond_dists))]\n",
    "bond_lengths_mean = [ np.mean(x) for x in bond_lengths]\n",
    "n_bonds = [len(x) for x in bonds_numeric]\n",
    "\n",
    "bond_data = {'n_bonds':n_bonds, 'bond_lengths_mean': bond_lengths_mean }\n",
    "bond_df = pd.DataFrame(bond_data)\n",
    "structures = structures.join(bond_df)"
   ]
  },
  {
   "cell_type": "code",
   "execution_count": 21,
   "metadata": {},
   "outputs": [],
   "source": [
    "df_struct_aux= structures.groupby(['molecule_name'])['atom'].agg([('bonds_distc',lambda x : len(set(x.tolist())))]).reset_index()\n",
    "structures=pd.merge(structures,df_struct_aux)"
   ]
  },
  {
   "cell_type": "code",
   "execution_count": 22,
   "metadata": {},
   "outputs": [],
   "source": [
    "structures=dico_todf(dico_chemical_elements,structures)"
   ]
  },
  {
   "cell_type": "code",
   "execution_count": 23,
   "metadata": {},
   "outputs": [],
   "source": [
    "structures_aux_xbary=structures.groupby(['molecule_name'])[['x','y','z']].agg({'avg':np.average}).reset_index()\n",
    "structures_aux_xbary_=pd.DataFrame(structures_aux_xbary.get_values())\n",
    "structures_aux_xbary_.columns=['molecule_name','x_bar','y_bar','z_bar']\n",
    "structures_bary = pd.merge(structures,structures_aux_xbary_)\n",
    "del structures_bary['atom']\n",
    "structures=structures_bary"
   ]
  },
  {
   "cell_type": "code",
   "execution_count": 24,
   "metadata": {},
   "outputs": [],
   "source": [
    "train = map_atom_info(train, 0)\n",
    "train = map_atom_info(train, 1)\n",
    "test = map_atom_info(test, 0)\n",
    "test = map_atom_info(test, 1)\n",
    "del train['x_bar_y']\n",
    "del train['y_bar_y']\n",
    "del train['z_bar_y']\n",
    "del test['x_bar_y']\n",
    "del test['y_bar_y']\n",
    "del test['z_bar_y']"
   ]
  },
  {
   "cell_type": "code",
   "execution_count": 26,
   "metadata": {},
   "outputs": [
    {
     "data": {
      "text/html": [
       "<div>\n",
       "<style scoped>\n",
       "    .dataframe tbody tr th:only-of-type {\n",
       "        vertical-align: middle;\n",
       "    }\n",
       "\n",
       "    .dataframe tbody tr th {\n",
       "        vertical-align: top;\n",
       "    }\n",
       "\n",
       "    .dataframe thead th {\n",
       "        text-align: right;\n",
       "    }\n",
       "</style>\n",
       "<table border=\"1\" class=\"dataframe\">\n",
       "  <thead>\n",
       "    <tr style=\"text-align: right;\">\n",
       "      <th></th>\n",
       "      <th>id</th>\n",
       "      <th>molecule_name</th>\n",
       "      <th>atom_index_0</th>\n",
       "      <th>atom_index_1</th>\n",
       "      <th>type</th>\n",
       "      <th>scalar_coupling_constant</th>\n",
       "      <th>x_0</th>\n",
       "      <th>y_0</th>\n",
       "      <th>z_0</th>\n",
       "      <th>dihedral_x</th>\n",
       "      <th>...</th>\n",
       "      <th>rayon_i_y</th>\n",
       "      <th>rayon_vdw_y</th>\n",
       "      <th>fusion_y</th>\n",
       "      <th>ebulution_min_y</th>\n",
       "      <th>enthalpie_fusion_y</th>\n",
       "      <th>enthalpie_vaporisation_y</th>\n",
       "      <th>capacite_thermique_y</th>\n",
       "      <th>conductivite_thermique_y</th>\n",
       "      <th>isotopes_y</th>\n",
       "      <th>isotopes_emeteurs_y</th>\n",
       "    </tr>\n",
       "  </thead>\n",
       "  <tbody>\n",
       "    <tr>\n",
       "      <th>0</th>\n",
       "      <td>0</td>\n",
       "      <td>dsgdb9nsd_000001</td>\n",
       "      <td>1</td>\n",
       "      <td>0</td>\n",
       "      <td>1JHC</td>\n",
       "      <td>84.8076</td>\n",
       "      <td>0.002150</td>\n",
       "      <td>-0.006031</td>\n",
       "      <td>0.001976</td>\n",
       "      <td>-35.263968</td>\n",
       "      <td>...</td>\n",
       "      <td>4.0</td>\n",
       "      <td>170.0</td>\n",
       "      <td>3546.9</td>\n",
       "      <td>4826.9</td>\n",
       "      <td>105.00</td>\n",
       "      <td>710.90</td>\n",
       "      <td>0.71</td>\n",
       "      <td>990.00</td>\n",
       "      <td>12.0</td>\n",
       "      <td>3.0</td>\n",
       "    </tr>\n",
       "    <tr>\n",
       "      <th>1</th>\n",
       "      <td>1</td>\n",
       "      <td>dsgdb9nsd_000001</td>\n",
       "      <td>1</td>\n",
       "      <td>2</td>\n",
       "      <td>2JHH</td>\n",
       "      <td>-11.2570</td>\n",
       "      <td>0.002150</td>\n",
       "      <td>-0.006031</td>\n",
       "      <td>0.001976</td>\n",
       "      <td>-35.263968</td>\n",
       "      <td>...</td>\n",
       "      <td>-3.0</td>\n",
       "      <td>120.0</td>\n",
       "      <td>-259.1</td>\n",
       "      <td>-252.9</td>\n",
       "      <td>0.12</td>\n",
       "      <td>0.46</td>\n",
       "      <td>14.30</td>\n",
       "      <td>0.18</td>\n",
       "      <td>3.0</td>\n",
       "      <td>0.0</td>\n",
       "    </tr>\n",
       "    <tr>\n",
       "      <th>2</th>\n",
       "      <td>2</td>\n",
       "      <td>dsgdb9nsd_000001</td>\n",
       "      <td>1</td>\n",
       "      <td>3</td>\n",
       "      <td>2JHH</td>\n",
       "      <td>-11.2548</td>\n",
       "      <td>0.002150</td>\n",
       "      <td>-0.006031</td>\n",
       "      <td>0.001976</td>\n",
       "      <td>-35.263968</td>\n",
       "      <td>...</td>\n",
       "      <td>-3.0</td>\n",
       "      <td>120.0</td>\n",
       "      <td>-259.1</td>\n",
       "      <td>-252.9</td>\n",
       "      <td>0.12</td>\n",
       "      <td>0.46</td>\n",
       "      <td>14.30</td>\n",
       "      <td>0.18</td>\n",
       "      <td>3.0</td>\n",
       "      <td>0.0</td>\n",
       "    </tr>\n",
       "    <tr>\n",
       "      <th>3</th>\n",
       "      <td>3</td>\n",
       "      <td>dsgdb9nsd_000001</td>\n",
       "      <td>1</td>\n",
       "      <td>4</td>\n",
       "      <td>2JHH</td>\n",
       "      <td>-11.2543</td>\n",
       "      <td>0.002150</td>\n",
       "      <td>-0.006031</td>\n",
       "      <td>0.001976</td>\n",
       "      <td>-35.263968</td>\n",
       "      <td>...</td>\n",
       "      <td>-3.0</td>\n",
       "      <td>120.0</td>\n",
       "      <td>-259.1</td>\n",
       "      <td>-252.9</td>\n",
       "      <td>0.12</td>\n",
       "      <td>0.46</td>\n",
       "      <td>14.30</td>\n",
       "      <td>0.18</td>\n",
       "      <td>3.0</td>\n",
       "      <td>0.0</td>\n",
       "    </tr>\n",
       "    <tr>\n",
       "      <th>4</th>\n",
       "      <td>4</td>\n",
       "      <td>dsgdb9nsd_000001</td>\n",
       "      <td>2</td>\n",
       "      <td>0</td>\n",
       "      <td>1JHC</td>\n",
       "      <td>84.8074</td>\n",
       "      <td>1.011731</td>\n",
       "      <td>1.463751</td>\n",
       "      <td>0.000277</td>\n",
       "      <td>-35.263968</td>\n",
       "      <td>...</td>\n",
       "      <td>4.0</td>\n",
       "      <td>170.0</td>\n",
       "      <td>3546.9</td>\n",
       "      <td>4826.9</td>\n",
       "      <td>105.00</td>\n",
       "      <td>710.90</td>\n",
       "      <td>0.71</td>\n",
       "      <td>990.00</td>\n",
       "      <td>12.0</td>\n",
       "      <td>3.0</td>\n",
       "    </tr>\n",
       "  </tbody>\n",
       "</table>\n",
       "<p>5 rows × 65 columns</p>\n",
       "</div>"
      ],
      "text/plain": [
       "   id     molecule_name  atom_index_0  atom_index_1  type  \\\n",
       "0   0  dsgdb9nsd_000001             1             0  1JHC   \n",
       "1   1  dsgdb9nsd_000001             1             2  2JHH   \n",
       "2   2  dsgdb9nsd_000001             1             3  2JHH   \n",
       "3   3  dsgdb9nsd_000001             1             4  2JHH   \n",
       "4   4  dsgdb9nsd_000001             2             0  1JHC   \n",
       "\n",
       "   scalar_coupling_constant       x_0       y_0       z_0  dihedral_x  ...  \\\n",
       "0                   84.8076  0.002150 -0.006031  0.001976  -35.263968  ...   \n",
       "1                  -11.2570  0.002150 -0.006031  0.001976  -35.263968  ...   \n",
       "2                  -11.2548  0.002150 -0.006031  0.001976  -35.263968  ...   \n",
       "3                  -11.2543  0.002150 -0.006031  0.001976  -35.263968  ...   \n",
       "4                   84.8074  1.011731  1.463751  0.000277  -35.263968  ...   \n",
       "\n",
       "   rayon_i_y  rayon_vdw_y  fusion_y  ebulution_min_y  enthalpie_fusion_y  \\\n",
       "0        4.0        170.0    3546.9           4826.9              105.00   \n",
       "1       -3.0        120.0    -259.1           -252.9                0.12   \n",
       "2       -3.0        120.0    -259.1           -252.9                0.12   \n",
       "3       -3.0        120.0    -259.1           -252.9                0.12   \n",
       "4        4.0        170.0    3546.9           4826.9              105.00   \n",
       "\n",
       "   enthalpie_vaporisation_y  capacite_thermique_y  conductivite_thermique_y  \\\n",
       "0                    710.90                  0.71                    990.00   \n",
       "1                      0.46                 14.30                      0.18   \n",
       "2                      0.46                 14.30                      0.18   \n",
       "3                      0.46                 14.30                      0.18   \n",
       "4                    710.90                  0.71                    990.00   \n",
       "\n",
       "   isotopes_y  isotopes_emeteurs_y  \n",
       "0        12.0                  3.0  \n",
       "1         3.0                  0.0  \n",
       "2         3.0                  0.0  \n",
       "3         3.0                  0.0  \n",
       "4        12.0                  3.0  \n",
       "\n",
       "[5 rows x 65 columns]"
      ]
     },
     "execution_count": 26,
     "metadata": {},
     "output_type": "execute_result"
    }
   ],
   "source": [
    "train.head()"
   ]
  },
  {
   "cell_type": "code",
   "execution_count": 27,
   "metadata": {},
   "outputs": [
    {
     "name": "stdout",
     "output_type": "stream",
     "text": [
      "Memory usage of dataframe is 2345.56 MB\n",
      "Memory usage after optimization is: 638.97 MB\n",
      "Decreased by 72.8%\n"
     ]
    }
   ],
   "source": [
    "df_train = reduce_mem_usage(train)"
   ]
  },
  {
   "cell_type": "code",
   "execution_count": 28,
   "metadata": {},
   "outputs": [
    {
     "name": "stdout",
     "output_type": "stream",
     "text": [
      "Memory usage of dataframe is 1242.52 MB\n",
      "Memory usage after optimization is: 338.53 MB\n",
      "Decreased by 72.8%\n"
     ]
    }
   ],
   "source": [
    "df_test = reduce_mem_usage(test)"
   ]
  },
  {
   "cell_type": "code",
   "execution_count": 29,
   "metadata": {},
   "outputs": [],
   "source": [
    "df_train.to_pickle('../../data/feature/feature-engineering-physical-chemical-measurement_train.pkl')"
   ]
  },
  {
   "cell_type": "code",
   "execution_count": 30,
   "metadata": {},
   "outputs": [],
   "source": [
    "df_test.to_pickle('../../data/feature/feature-engineering-physical-chemical-measurement_test.pkl')"
   ]
  },
  {
   "cell_type": "code",
   "execution_count": null,
   "metadata": {},
   "outputs": [],
   "source": []
  }
 ],
 "metadata": {
  "kernelspec": {
   "display_name": "Environment (conda_tensorflow_gpu_p36)",
   "language": "python",
   "name": "conda_tensorflow_gpu_p36"
  },
  "language_info": {
   "codemirror_mode": {
    "name": "ipython",
    "version": 3
   },
   "file_extension": ".py",
   "mimetype": "text/x-python",
   "name": "python",
   "nbconvert_exporter": "python",
   "pygments_lexer": "ipython3",
   "version": "3.6.7"
  }
 },
 "nbformat": 4,
 "nbformat_minor": 2
}
