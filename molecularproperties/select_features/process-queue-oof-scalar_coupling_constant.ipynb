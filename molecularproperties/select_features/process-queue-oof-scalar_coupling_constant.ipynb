{
 "cells": [
  {
   "cell_type": "code",
   "execution_count": 2,
   "metadata": {},
   "outputs": [
    {
     "data": {
      "text/html": [
       "<style>\n",
       "   div#notebook-container    { width: 95%; }\n",
       "   div#menubar-container     { width: 65%; }\n",
       "   div#maintoolbar-container { width: 99%; }\n",
       "</style>\n"
      ],
      "text/plain": [
       "<IPython.core.display.HTML object>"
      ]
     },
     "metadata": {},
     "output_type": "display_data"
    }
   ],
   "source": [
    "%%HTML\n",
    "<style>\n",
    "   div#notebook-container    { width: 95%; }\n",
    "   div#menubar-container     { width: 65%; }\n",
    "   div#maintoolbar-container { width: 99%; }\n",
    "</style>"
   ]
  },
  {
   "cell_type": "code",
   "execution_count": 1,
   "metadata": {},
   "outputs": [],
   "source": [
    "import sys\n",
    "sys.path.append(\"../..\") # Adds higher directory to python modules path.\n",
    "from utilities import aggregate_feature_calculators\n",
    "from utilities import aggregate_feature_calculators_setting as aggcal\n",
    "from utilities.parallel import Parallel\n",
    "from utilities.dfdb import DFDB\n",
    "\n",
    "from utilities.process.pqueue import *\n",
    "from utilities.process.pnode import *\n",
    "from utilities.process.putilities import *"
   ]
  },
  {
   "cell_type": "code",
   "execution_count": 2,
   "metadata": {},
   "outputs": [],
   "source": [
    "import numpy as np\n",
    "import pandas as pd\n",
    "import os\n",
    "import time\n",
    "import datetime\n",
    "import json\n",
    "import copy\n",
    "import gc\n",
    "import warnings\n",
    "from tqdm import tqdm_notebook, tqdm\n",
    "\n",
    "import optuna\n",
    "\n",
    "import lightgbm as lgb\n",
    "import xgboost as xgb\n",
    "\n",
    "from catboost import CatBoostRegressor\n",
    "from sklearn.preprocessing import LabelEncoder\n",
    "from sklearn.model_selection import StratifiedKFold, KFold, RepeatedKFold,TimeSeriesSplit, GroupKFold\n",
    "from sklearn.model_selection import train_test_split\n",
    "from sklearn import metrics\n",
    "from sklearn import linear_model\n",
    "from sklearn.preprocessing import StandardScaler\n",
    "from sklearn.svm import NuSVR, SVR\n",
    "from sklearn.metrics import mean_absolute_error\n",
    "from sklearn import preprocessing\n",
    "\n",
    "import eli5\n",
    "from eli5.sklearn import PermutationImportance\n",
    "\n",
    "import networkx as nx\n",
    "\n",
    "import seaborn as sns\n",
    "import matplotlib.pyplot as plt\n",
    "%matplotlib inline"
   ]
  },
  {
   "cell_type": "code",
   "execution_count": 3,
   "metadata": {},
   "outputs": [
    {
     "data": {
      "text/plain": [
       "['test.csv',\n",
       " 'structures',\n",
       " 'sample_submission.csv',\n",
       " 'magnetic_shielding_tensors.csv',\n",
       " 'mulliken_charges.csv',\n",
       " 'potential_energy.csv',\n",
       " 'scalar_coupling_contributions.csv',\n",
       " 'dipole_moments.csv',\n",
       " 'structures.csv',\n",
       " 'train.csv']"
      ]
     },
     "execution_count": 3,
     "metadata": {},
     "output_type": "execute_result"
    }
   ],
   "source": [
    "csv_file_folder =  '../../data/input'\n",
    "os.listdir(csv_file_folder)"
   ]
  },
  {
   "cell_type": "code",
   "execution_count": 4,
   "metadata": {},
   "outputs": [
    {
     "data": {
      "text/plain": [
       "['giba-r-data-table-simple-features-1-17-lb_train.pkl',\n",
       " 'eem_train.pkl',\n",
       " 'coulomb-interaction-speed-up_train.pkl',\n",
       " 'dataset-with-number-of-bonds-between-atoms_test.pkl',\n",
       " 'keras-neural-net-for-champs_train.pkl',\n",
       " 'brute-force-feature-engineering_test.pkl',\n",
       " 'angles-and-distances_test.pkl',\n",
       " 'giba-r-data-table-simple-features-0-991-lb_test.pkl',\n",
       " 'keras-neural-net-for-champs_test.pkl',\n",
       " 'brute-force-feature-engineering-mini_train.pkl',\n",
       " 'laplaction_matrix_test.pkl',\n",
       " 'dataset-with-number-of-bonds-between-atoms_train.pkl',\n",
       " 'coulomb-interaction-speed-up_test.pkl',\n",
       " 'bonds-from-structure-data_train.pkl',\n",
       " 'laplaction_matrix_train.pkl',\n",
       " 'giba-r-data-table-simple-features-0-991-lb_train.pkl',\n",
       " 'eem_test.pkl',\n",
       " 'brute-force-feature-engineering_train.pkl',\n",
       " 'molecule-with-openbabel_train.pkl',\n",
       " 'molecular-properties-eda-and-models_train.pkl',\n",
       " 'brute-force-feature-engineering-mini_test.pkl',\n",
       " 'eachtype_train.pkl',\n",
       " 'molecular-properties-eda-and-models_test.pkl',\n",
       " 'bonds-from-structure-data_test.pkl',\n",
       " 'molecule-with-openbabel_test.pkl',\n",
       " 'eachtype_test.pkl',\n",
       " 'giba-r-data-table-simple-features-1-17-lb_test.pkl',\n",
       " 'angles-and-distances_train.pkl']"
      ]
     },
     "execution_count": 4,
     "metadata": {},
     "output_type": "execute_result"
    }
   ],
   "source": [
    "file_folder =  '../../data/feature'\n",
    "[f for f in os.listdir(file_folder) if (f.endswith('.pkl')) and (not f.startswith('.'))]"
   ]
  },
  {
   "cell_type": "code",
   "execution_count": 5,
   "metadata": {},
   "outputs": [],
   "source": [
    "mytrial = []"
   ]
  },
  {
   "cell_type": "code",
   "execution_count": null,
   "metadata": {
    "scrolled": false
   },
   "outputs": [
    {
     "name": "stdout",
     "output_type": "stream",
     "text": [
      "y=scalar_coupling_constant, type=0\n",
      "257\n",
      "{'columns': ['cos_center1', 'adC3', 'dist_H_4_y', 'inv_dist1R', 'eem_1', 'dist_C_0_y', 'dist_to_type_std', 'cos_f0', 'molecule_dist_min', 'inv_dist1', 'eem_0', 'molecule_atom_index_0_dist_max_div', 'molecule_type_dist_std_diff', 'tertiary_angle_0', 'tertiary_distance_5', 'dist_O_1_x', 'tertiary_distance_3', 'tertiary_distance_2', 'dist_C_4_y', 'dist_to_type_mean', 'inv_distPR', 'inv_dist1E', 'adC1', 'dist_C_0_x', 'dist_H_1_x', 'dist_O_0_x', 'adN1', 'dist_to_type_1_mean', 'atom_index_1_cycle_size_mean', 'dist_N_0_y', 'dist_H_3_x', 'tertiary_angle_1', 'linkM0', 'tertiary_angle_4', 'dist_C_1_x', 'distance_farthest_0', 'molecule_type_dist_mean_diff', 'dist_to_type_0_mean', 'dist_C_3_x', 'tertiary_distance_4', 'max_molecule_atom_0_dist_xyz', 'inv_dist0R', 'dist_H_0_y', 'tertiary_distance_0', 'dist_C_2_x', 'tertiary_angle_5', 'dist_H_0_x', 'coulomb_H.y', 'tertiary_distance_1', 'dist_H_2_y', 'dist_O_1_y', 'atom_1_n_bonds', 'atom_1_bond_lengths_std', 'dist_O_0_y', 'dist_C_3_y', 'atom_1_bond_lengths_mean', 'distC1', 'dist_xyz', 'dist_C_2_y', 'tertiary_angle_2', 'tertiary_atom_0', 'dist_H_3_y', 'tertiary_atom_1', 'tertiary_angle_3', 'max_molecule_atom_1_dist_xyz', 'dist_C_1_y', 'atom_1_bond_lengths_max', 'distC0', 'vander_H.x', 'dist_H_2_x', 'adC2', 'yukawa_H.y', 'molecule_atom_index_1_dist_min_diff', 'cos_center0', 'dist_C_4_x', 'dist_N_0_x', 'atom_index_farthest_0', 'dist_H_1_y'], 'cv': {'cls': 'KFold', 'init': {'n_splits': 5, 'shuffle': True, 'random_state': 42}}, 'scaler': {'cls': 'StandardScaler', 'init': {}, 'fit': {}}, 'model': {'cls': 'lgb.LGBMRegressor', 'init': {'learning_rate': 0.2833769330240482, 'feature_fraction': 0.8818248470204605, 'bagging_fraction': 0.8205197060908092, 'min_data_in_leaf': 202, 'lambda_l1': 0.017039063121824582, 'lambda_l2': 0.8318702431636841, 'max_bin': 100, 'num_leaves': 255, 'random_state': 3895, 'n_jobs': 16}, 'fit': {}}, 'metric': 'mean_absolute_error'}\n",
      "y=scalar_coupling_constant, type=1\n",
      "454\n",
      "{'columns': ['min_molecule_atom_1_dist_xyz', 'tertiary_distance_1', 'adC3', 'dist_H_2_y', 'inv_dist1R', 'dist_C_0_y', 'cos_f0', 'atom_1_bond_lengths_std', 'inv_dist1', 'eem_0', 'dist_O_0_y', 'molecule_atom_index_0_dist_max_div', 'cos_center0_center1', 'tertiary_angle_0', 'tertiary_distance_5', 'tertiary_distance_3', 'tertiary_distance_2', 'dist_C_3_y', 'atom_1_bond_lengths_mean', 'dist_C_2_y', 'distance_center0', 'distN0', 'vander_N.x', 'inv_distPR', 'tertiary_angle_2', 'tertiary_atom_0', 'dist_H_3_y', 'adC4', 'dist_C_0_x', 'dist_H_1_x', 'tertiary_angle_3', 'dist_O_0_x', 'dist_C_1_y', 'atom_1_bond_lengths_max', 'molecule_atom_index_1_dist_max_div', 'atom_index_1_cycle_size_mean', 'dist_N_0_y', 'tertiary_angle_1', 'dist_C_1_x', 'vander_H.x', 'dist_to_type_0_mean', 'inv_distP', 'dist_C_3_x', 'tertiary_distance_4', 'bond_atom', 'max_molecule_atom_0_dist_xyz', 'inv_dist0R', 'vander_H.y', 'dist_N_1_x', 'dist_H_0_y', 'yukawa_H.y', 'tertiary_distance_0', 'yukawa_H.x', 'dist_C_2_x', 'linkN', 'dist_N_0_x', 'dist_H_0_x', 'dist_H_1_y'], 'cv': {'cls': 'KFold', 'init': {'n_splits': 5, 'shuffle': True, 'random_state': 42}}, 'scaler': {'cls': 'StandardScaler', 'init': {}, 'fit': {}}, 'model': {'cls': 'lgb.LGBMRegressor', 'init': {'learning_rate': 0.2833769330240482, 'feature_fraction': 0.8818248470204605, 'bagging_fraction': 0.8205197060908092, 'min_data_in_leaf': 202, 'lambda_l1': 0.017039063121824582, 'lambda_l2': 0.8318702431636841, 'max_bin': 100, 'num_leaves': 255, 'random_state': 3895, 'n_jobs': 16}, 'fit': {}}, 'metric': 'mean_absolute_error'}\n",
      "y=scalar_coupling_constant, type=2\n",
      "681\n",
      "{'columns': ['tertiary_distance_6', 'adC3', 'inv_dist1R', 'eem_1', 'cos_f0', 'dist_C_0_y', 'cos_c1', 'yukawa_O.x', 'inv_dist1', 'tertiary_atom_2', 'molecule_atom_index_0_dist_max_div', 'tertiary_distance_2', 'tertiary_angle_0', 'dist_O_1_x', 'tertiary_distance_3', 'mean_molecule_atom_0_dist_xyz', 'inv_distPR', 'min_molecule_atom_0_dist_xyz', 'molecule_type_dist_max', 'dist_C_0_x', 'dist_H_1_x', 'adC1', 'dist_O_0_x', 'molecule_atom_index_0_dist_max_diff', 'adN1', 'atom_index_1_cycle_size_mean', 'dist_N_0_y', 'tertiary_angle_1', 'tertiary_angle_4', 'dist_C_1_x', 'distance_farthest_0', 'inv_dist0', 'dist_C_3_x', 'atom_0_bond_lengths_max', 'atom_1_bond_lengths_min', 'bond_atom', 'inv_dist0R', 'dist_H_0_y', 'molecule_atom_index_1_dist_min_div', 'dist_C_2_x', 'cos_c0', 'dist_H_0_x', 'tertiary_distance_1', 'dist_H_2_y', 'tertiary_atom_3', 'atom_1_n_bonds', 'atom_1_bond_lengths_std', 'dist_O_0_y', 'vander_O.y', 'dist_C_3_y', 'atom_1_bond_lengths_mean', 'dist_C_2_y', 'yukawa_O.y', 'molecule_atom_index_0_dist_min_div', 'tertiary_angle_2', 'tertiary_atom_0', 'tertiary_atom_1', 'tertiary_angle_3', 'max_molecule_atom_1_dist_xyz', 'atom_1_bond_lengths_max', 'dist_C_1_y', 'distC0', 'adC2', 'tertiary_atom_4', 'cos_c0_c1', 'atom_index_1_n_cycle', 'dist_N_0_x', 'dist_H_1_y'], 'cv': {'cls': 'KFold', 'init': {'n_splits': 5, 'shuffle': True, 'random_state': 42}}, 'scaler': {'cls': 'StandardScaler', 'init': {}, 'fit': {}}, 'model': {'cls': 'lgb.LGBMRegressor', 'init': {'learning_rate': 0.2833769330240482, 'feature_fraction': 0.8818248470204605, 'bagging_fraction': 0.8205197060908092, 'min_data_in_leaf': 202, 'lambda_l1': 0.017039063121824582, 'lambda_l2': 0.8318702431636841, 'max_bin': 100, 'num_leaves': 255, 'random_state': 3895, 'n_jobs': 16}, 'fit': {}}, 'metric': 'mean_absolute_error'}\n",
      "y=scalar_coupling_constant, type=3\n"
     ]
    }
   ],
   "source": [
    "\"\"\"\n",
    "y=scalar_coupling_constant, type=0\n",
    "257\n",
    "{'columns': ['cos_center1', 'adC3', 'dist_H_4_y', 'inv_dist1R', 'eem_1', 'dist_C_0_y', 'dist_to_type_std', 'cos_f0', 'molecule_dist_min', 'inv_dist1', 'eem_0', 'molecule_atom_index_0_dist_max_div', 'molecule_type_dist_std_diff', 'tertiary_angle_0', 'tertiary_distance_5', 'dist_O_1_x', 'tertiary_distance_3', 'tertiary_distance_2', 'dist_C_4_y', 'dist_to_type_mean', 'inv_distPR', 'inv_dist1E', 'adC1', 'dist_C_0_x', 'dist_H_1_x', 'dist_O_0_x', 'adN1', 'dist_to_type_1_mean', 'atom_index_1_cycle_size_mean', 'dist_N_0_y', 'dist_H_3_x', 'tertiary_angle_1', 'linkM0', 'tertiary_angle_4', 'dist_C_1_x', 'distance_farthest_0', 'molecule_type_dist_mean_diff', 'dist_to_type_0_mean', 'dist_C_3_x', 'tertiary_distance_4', 'max_molecule_atom_0_dist_xyz', 'inv_dist0R', 'dist_H_0_y', 'tertiary_distance_0', 'dist_C_2_x', 'tertiary_angle_5', 'dist_H_0_x', 'coulomb_H.y', 'tertiary_distance_1', 'dist_H_2_y', 'dist_O_1_y', 'atom_1_n_bonds', 'atom_1_bond_lengths_std', 'dist_O_0_y', 'dist_C_3_y', 'atom_1_bond_lengths_mean', 'distC1', 'dist_xyz', 'dist_C_2_y', 'tertiary_angle_2', 'tertiary_atom_0', 'dist_H_3_y', 'tertiary_atom_1', 'tertiary_angle_3', 'max_molecule_atom_1_dist_xyz', 'dist_C_1_y', 'atom_1_bond_lengths_max', 'distC0', 'vander_H.x', 'dist_H_2_x', 'adC2', 'yukawa_H.y', 'molecule_atom_index_1_dist_min_diff', 'cos_center0', 'dist_C_4_x', 'dist_N_0_x', 'atom_index_farthest_0', 'dist_H_1_y'], 'cv': {'cls': 'KFold', 'init': {'n_splits': 5, 'shuffle': True, 'random_state': 42}}, 'scaler': {'cls': 'StandardScaler', 'init': {}, 'fit': {}}, 'model': {'cls': 'lgb.LGBMRegressor', 'init': {'learning_rate': 0.2833769330240482, 'feature_fraction': 0.8818248470204605, 'bagging_fraction': 0.8205197060908092, 'min_data_in_leaf': 202, 'lambda_l1': 0.017039063121824582, 'lambda_l2': 0.8318702431636841, 'max_bin': 100, 'num_leaves': 255, 'random_state': 3895, 'n_jobs': 16}, 'fit': {}}, 'metric': 'mean_absolute_error'}\n",
    "y=scalar_coupling_constant, type=1\n",
    "454\n",
    "{'columns': ['min_molecule_atom_1_dist_xyz', 'tertiary_distance_1', 'adC3', 'dist_H_2_y', 'inv_dist1R', 'dist_C_0_y', 'cos_f0', 'atom_1_bond_lengths_std', 'inv_dist1', 'eem_0', 'dist_O_0_y', 'molecule_atom_index_0_dist_max_div', 'cos_center0_center1', 'tertiary_angle_0', 'tertiary_distance_5', 'tertiary_distance_3', 'tertiary_distance_2', 'dist_C_3_y', 'atom_1_bond_lengths_mean', 'dist_C_2_y', 'distance_center0', 'distN0', 'vander_N.x', 'inv_distPR', 'tertiary_angle_2', 'tertiary_atom_0', 'dist_H_3_y', 'adC4', 'dist_C_0_x', 'dist_H_1_x', 'tertiary_angle_3', 'dist_O_0_x', 'dist_C_1_y', 'atom_1_bond_lengths_max', 'molecule_atom_index_1_dist_max_div', 'atom_index_1_cycle_size_mean', 'dist_N_0_y', 'tertiary_angle_1', 'dist_C_1_x', 'vander_H.x', 'dist_to_type_0_mean', 'inv_distP', 'dist_C_3_x', 'tertiary_distance_4', 'bond_atom', 'max_molecule_atom_0_dist_xyz', 'inv_dist0R', 'vander_H.y', 'dist_N_1_x', 'dist_H_0_y', 'yukawa_H.y', 'tertiary_distance_0', 'yukawa_H.x', 'dist_C_2_x', 'linkN', 'dist_N_0_x', 'dist_H_0_x', 'dist_H_1_y'], 'cv': {'cls': 'KFold', 'init': {'n_splits': 5, 'shuffle': True, 'random_state': 42}}, 'scaler': {'cls': 'StandardScaler', 'init': {}, 'fit': {}}, 'model': {'cls': 'lgb.LGBMRegressor', 'init': {'learning_rate': 0.2833769330240482, 'feature_fraction': 0.8818248470204605, 'bagging_fraction': 0.8205197060908092, 'min_data_in_leaf': 202, 'lambda_l1': 0.017039063121824582, 'lambda_l2': 0.8318702431636841, 'max_bin': 100, 'num_leaves': 255, 'random_state': 3895, 'n_jobs': 16}, 'fit': {}}, 'metric': 'mean_absolute_error'}\n",
    "y=scalar_coupling_constant, type=2\n",
    "681\n",
    "{'columns': ['tertiary_distance_6', 'adC3', 'inv_dist1R', 'eem_1', 'cos_f0', 'dist_C_0_y', 'cos_c1', 'yukawa_O.x', 'inv_dist1', 'tertiary_atom_2', 'molecule_atom_index_0_dist_max_div', 'tertiary_distance_2', 'tertiary_angle_0', 'dist_O_1_x', 'tertiary_distance_3', 'mean_molecule_atom_0_dist_xyz', 'inv_distPR', 'min_molecule_atom_0_dist_xyz', 'molecule_type_dist_max', 'dist_C_0_x', 'dist_H_1_x', 'adC1', 'dist_O_0_x', 'molecule_atom_index_0_dist_max_diff', 'adN1', 'atom_index_1_cycle_size_mean', 'dist_N_0_y', 'tertiary_angle_1', 'tertiary_angle_4', 'dist_C_1_x', 'distance_farthest_0', 'inv_dist0', 'dist_C_3_x', 'atom_0_bond_lengths_max', 'atom_1_bond_lengths_min', 'bond_atom', 'inv_dist0R', 'dist_H_0_y', 'molecule_atom_index_1_dist_min_div', 'dist_C_2_x', 'cos_c0', 'dist_H_0_x', 'tertiary_distance_1', 'dist_H_2_y', 'tertiary_atom_3', 'atom_1_n_bonds', 'atom_1_bond_lengths_std', 'dist_O_0_y', 'vander_O.y', 'dist_C_3_y', 'atom_1_bond_lengths_mean', 'dist_C_2_y', 'yukawa_O.y', 'molecule_atom_index_0_dist_min_div', 'tertiary_angle_2', 'tertiary_atom_0', 'tertiary_atom_1', 'tertiary_angle_3', 'max_molecule_atom_1_dist_xyz', 'atom_1_bond_lengths_max', 'dist_C_1_y', 'distC0', 'adC2', 'tertiary_atom_4', 'cos_c0_c1', 'atom_index_1_n_cycle', 'dist_N_0_x', 'dist_H_1_y'], 'cv': {'cls': 'KFold', 'init': {'n_splits': 5, 'shuffle': True, 'random_state': 42}}, 'scaler': {'cls': 'StandardScaler', 'init': {}, 'fit': {}}, 'model': {'cls': 'lgb.LGBMRegressor', 'init': {'learning_rate': 0.2833769330240482, 'feature_fraction': 0.8818248470204605, 'bagging_fraction': 0.8205197060908092, 'min_data_in_leaf': 202, 'lambda_l1': 0.017039063121824582, 'lambda_l2': 0.8318702431636841, 'max_bin': 100, 'num_leaves': 255, 'random_state': 3895, 'n_jobs': 16}, 'fit': {}}, 'metric': 'mean_absolute_error'}\n",
    "y=scalar_coupling_constant, type=3\n",
    "139\n",
    "{'columns': ['tertiary_distance_2', 'dist_C_0_y', 'dist_H_1_x', 'molecule_atom_index_0_dist_min_diff', 'molecule_atom_index_0_dist_max_div', 'adC3', 'dist_C_3_y', 'tertiary_angle_1', 'yukawa_H.y', 'cos_f0_f1', 'dist_C_1_y', 'dist_to_type_1_mean', 'dist_O_0_y', 'cos_c1', 'adC2', 'dist_C_0_x', 'molecule_atom_index_0_dist_min_div', 'dist_to_type_std', 'adC1', 'tertiary_distance_1', 'dist_H_0_y', 'molecule_dist_min', 'max_distance_y', 'inv_distPE', 'dist_xyz', 'eem_0', 'dist_O_0_x', 'dist_to_type_mean', 'cos_c0_c1', 'cos_c0', 'adN1', 'tertiary_angle_0', 'tertiary_distance_4', 'dist_H_0_x', 'dist_C_1_x', 'inv_distP', 'molecule_atom_index_0_dist_mean_diff', 'tertiary_atom_1', 'tertiary_angle_2', 'mean_molecule_atom_0_dist_xyz', 'dist_C_2_y', 'dist_H_1_y', 'dist_C_3_x', 'dist_H_2_y', 'dist_H_3_y', 'link0', 'yukawa_H.x', 'dist_C_2_x', 'dist_N_0_y', 'dist_to_type_0_mean', 'dist_N_0_x', 'eem_1', 'tertiary_angle_3', 'distance_c1', 'dist_H_3_x', 'tertiary_distance_3', 'cos_f0', 'cos_f1', 'tertiary_atom_2'], 'cv': {'cls': 'KFold', 'init': {'n_splits': 5, 'shuffle': True, 'random_state': 42}}, 'scaler': {'cls': 'StandardScaler', 'init': {}, 'fit': {}}, 'model': {'cls': 'lgb.LGBMRegressor', 'init': {'learning_rate': 0.2833769330240482, 'feature_fraction': 0.8818248470204605, 'bagging_fraction': 0.8205197060908092, 'min_data_in_leaf': 202, 'lambda_l1': 0.017039063121824582, 'lambda_l2': 0.8318702431636841, 'max_bin': 100, 'num_leaves': 255, 'random_state': 3895, 'n_jobs': 16}, 'fit': {}}, 'metric': 'mean_absolute_error'}\n",
    "y=scalar_coupling_constant, type=4\n",
    "219\n",
    "{'columns': ['tertiary_distance_2', 'dist_C_0_y', 'dist_H_1_x', 'molecule_atom_index_0_dist_min_diff', 'molecule_atom_index_0_dist_max_div', 'adC3', 'dist_C_3_y', 'tertiary_angle_1', 'yukawa_H.y', 'cos_f0_f1', 'dist_C_1_y', 'dist_to_type_1_mean', 'dist_O_0_y', 'cos_c1', 'adC2', 'dist_C_0_x', 'molecule_atom_index_0_dist_min_div', 'dist_to_type_std', 'adC1', 'tertiary_distance_1', 'dist_H_0_y', 'molecule_dist_min', 'max_distance_y', 'inv_distPE', 'dist_xyz', 'eem_0', 'dist_O_0_x', 'dist_to_type_mean', 'cos_c0_c1', 'cos_c0', 'adN1', 'tertiary_angle_0', 'tertiary_distance_4', 'dist_H_0_x', 'dist_C_1_x', 'inv_distP', 'molecule_atom_index_0_dist_mean_diff', 'tertiary_atom_1', 'tertiary_angle_2', 'mean_molecule_atom_0_dist_xyz', 'dist_C_2_y', 'dist_H_1_y', 'dist_C_3_x', 'dist_H_2_y', 'dist_H_3_y', 'link0', 'yukawa_H.x', 'dist_C_2_x', 'dist_N_0_y', 'dist_to_type_0_mean', 'dist_N_0_x', 'eem_1', 'tertiary_angle_3', 'distance_c1', 'dist_H_3_x', 'tertiary_distance_3', 'cos_f0', 'cos_f1', 'tertiary_atom_2'], 'cv': {'cls': 'KFold', 'init': {'n_splits': 5, 'shuffle': True, 'random_state': 42}}, 'scaler': {'cls': 'StandardScaler', 'init': {}, 'fit': {}}, 'model': {'cls': 'lgb.LGBMRegressor', 'init': {'learning_rate': 0.2833769330240482, 'feature_fraction': 0.8818248470204605, 'bagging_fraction': 0.8205197060908092, 'min_data_in_leaf': 202, 'lambda_l1': 0.017039063121824582, 'lambda_l2': 0.8318702431636841, 'max_bin': 100, 'num_leaves': 255, 'random_state': 3895, 'n_jobs': 16}, 'fit': {}}, 'metric': 'mean_absolute_error'}\n",
    "y=scalar_coupling_constant, type=5\n",
    "299\n",
    "{'columns': ['tertiary_distance_2', 'dist_C_0_y', 'dist_H_1_x', 'molecule_atom_index_0_dist_min_diff', 'molecule_atom_index_0_dist_max_div', 'adC3', 'dist_C_3_y', 'tertiary_angle_1', 'yukawa_H.y', 'cos_f0_f1', 'dist_C_1_y', 'dist_to_type_1_mean', 'dist_O_0_y', 'cos_c1', 'adC2', 'dist_C_0_x', 'molecule_atom_index_0_dist_min_div', 'dist_to_type_std', 'adC1', 'tertiary_distance_1', 'dist_H_0_y', 'molecule_dist_min', 'max_distance_y', 'inv_distPE', 'dist_xyz', 'eem_0', 'dist_O_0_x', 'dist_to_type_mean', 'cos_c0_c1', 'cos_c0', 'adN1', 'tertiary_angle_0', 'tertiary_distance_4', 'dist_H_0_x', 'dist_C_1_x', 'inv_distP', 'molecule_atom_index_0_dist_mean_diff', 'tertiary_atom_1', 'tertiary_angle_2', 'mean_molecule_atom_0_dist_xyz', 'dist_C_2_y', 'dist_H_1_y', 'dist_C_3_x', 'dist_H_2_y', 'dist_H_3_y', 'link0', 'yukawa_H.x', 'dist_C_2_x', 'dist_N_0_y', 'dist_to_type_0_mean', 'dist_N_0_x', 'eem_1', 'tertiary_angle_3', 'distance_c1', 'dist_H_3_x', 'tertiary_distance_3', 'cos_f0', 'cos_f1', 'tertiary_atom_2'], 'cv': {'cls': 'KFold', 'init': {'n_splits': 5, 'shuffle': True, 'random_state': 42}}, 'scaler': {'cls': 'StandardScaler', 'init': {}, 'fit': {}}, 'model': {'cls': 'lgb.LGBMRegressor', 'init': {'learning_rate': 0.2833769330240482, 'feature_fraction': 0.8818248470204605, 'bagging_fraction': 0.8205197060908092, 'min_data_in_leaf': 202, 'lambda_l1': 0.017039063121824582, 'lambda_l2': 0.8318702431636841, 'max_bin': 100, 'num_leaves': 255, 'random_state': 3895, 'n_jobs': 16}, 'fit': {}}, 'metric': 'mean_absolute_error'}\n",
    "y=scalar_coupling_constant, type=6\n",
    "379\n",
    "{'columns': ['tertiary_distance_2', 'dist_C_0_y', 'dist_H_1_x', 'molecule_atom_index_0_dist_min_diff', 'molecule_atom_index_0_dist_max_div', 'adC3', 'dist_C_3_y', 'tertiary_angle_1', 'yukawa_H.y', 'cos_f0_f1', 'dist_C_1_y', 'dist_to_type_1_mean', 'dist_O_0_y', 'cos_c1', 'adC2', 'dist_C_0_x', 'molecule_atom_index_0_dist_min_div', 'dist_to_type_std', 'adC1', 'tertiary_distance_1', 'dist_H_0_y', 'molecule_dist_min', 'max_distance_y', 'inv_distPE', 'dist_xyz', 'eem_0', 'dist_O_0_x', 'dist_to_type_mean', 'cos_c0_c1', 'cos_c0', 'adN1', 'tertiary_angle_0', 'tertiary_distance_4', 'dist_H_0_x', 'dist_C_1_x', 'inv_distP', 'molecule_atom_index_0_dist_mean_diff', 'tertiary_atom_1', 'tertiary_angle_2', 'mean_molecule_atom_0_dist_xyz', 'dist_C_2_y', 'dist_H_1_y', 'dist_C_3_x', 'dist_H_2_y', 'dist_H_3_y', 'link0', 'yukawa_H.x', 'dist_C_2_x', 'dist_N_0_y', 'dist_to_type_0_mean', 'dist_N_0_x', 'eem_1', 'tertiary_angle_3', 'distance_c1', 'dist_H_3_x', 'tertiary_distance_3', 'cos_f0', 'cos_f1', 'tertiary_atom_2'], 'cv': {'cls': 'KFold', 'init': {'n_splits': 5, 'shuffle': True, 'random_state': 42}}, 'scaler': {'cls': 'StandardScaler', 'init': {}, 'fit': {}}, 'model': {'cls': 'lgb.LGBMRegressor', 'init': {'learning_rate': 0.2833769330240482, 'feature_fraction': 0.8818248470204605, 'bagging_fraction': 0.8205197060908092, 'min_data_in_leaf': 202, 'lambda_l1': 0.017039063121824582, 'lambda_l2': 0.8318702431636841, 'max_bin': 100, 'num_leaves': 255, 'random_state': 3895, 'n_jobs': 16}, 'fit': {}}, 'metric': 'mean_absolute_error'}\n",
    "y=scalar_coupling_constant, type=7\n",
    "449\n",
    "{'columns': ['max_molecule_atom_0_dist_xyz', 'tertiary_distance_2', 'dist_C_0_y', 'dist_H_1_x', 'molecule_atom_index_0_dist_min_diff', 'molecule_atom_index_1_dist_min_diff', 'dist_C_4_x', 'adC3', 'distN0', 'atom_0_bond_lengths_max', 'dist_C_3_y', 'tertiary_angle_1', 'atom_1_bond_lengths_mean', 'dist_C_1_y', 'dist_to_type_1_mean', 'dist_O_0_y', 'cos_c1', 'adC2', 'molecule_atom_index_1_dist_max_div', 'molecule_atom_index_0_dist_min_div', 'dist_C_0_x', 'adC1', 'tertiary_distance_1', 'atom_1_bond_lengths_std', 'dist_H_0_y', 'dist_xyz', 'dist_O_0_x', 'inv_distPR', 'cos_c0_c1', 'cos_c0', 'tertiary_angle_0', 'tertiary_distance_4', 'dist_H_0_x', 'dist_C_1_x', 'tertiary_atom_1', 'tertiary_angle_2', 'mean_molecule_atom_0_dist_xyz', 'dist_C_2_y', 'dist_C_3_x', 'atom_1_n_bonds', 'bond_atom', 'dist_C_2_x', 'dist_N_0_y', 'dist_N_0_x', 'atom_index_1_cycle_size_mean', 'min_molecule_atom_0_dist_xyz', 'tertiary_angle_3', 'tertiary_distance_3', 'cos_f0'], 'cv': {'cls': 'KFold', 'init': {'n_splits': 5, 'shuffle': True, 'random_state': 42}}, 'scaler': {'cls': 'StandardScaler', 'init': {}, 'fit': {}}, 'model': {'cls': 'lgb.LGBMRegressor', 'init': {'learning_rate': 0.2833769330240482, 'feature_fraction': 0.8818248470204605, 'bagging_fraction': 0.8205197060908092, 'min_data_in_leaf': 202, 'lambda_l1': 0.017039063121824582, 'lambda_l2': 0.8318702431636841, 'max_bin': 100, 'num_leaves': 255, 'random_state': 3895, 'n_jobs': 16}, 'fit': {}}, 'metric': 'mean_absolute_error'}\n",
    "\"\"\""
   ]
  },
  {
   "cell_type": "code",
   "execution_count": 6,
   "metadata": {},
   "outputs": [
    {
     "name": "stdout",
     "output_type": "stream",
     "text": [
      "y=scalar_coupling_constant, type=3\n",
      "139\n",
      "{'columns': ['tertiary_distance_2', 'dist_C_0_y', 'dist_H_1_x', 'molecule_atom_index_0_dist_min_diff', 'molecule_atom_index_0_dist_max_div', 'adC3', 'dist_C_3_y', 'tertiary_angle_1', 'yukawa_H.y', 'cos_f0_f1', 'dist_C_1_y', 'dist_to_type_1_mean', 'dist_O_0_y', 'cos_c1', 'adC2', 'dist_C_0_x', 'molecule_atom_index_0_dist_min_div', 'dist_to_type_std', 'adC1', 'tertiary_distance_1', 'dist_H_0_y', 'molecule_dist_min', 'max_distance_y', 'inv_distPE', 'dist_xyz', 'eem_0', 'dist_O_0_x', 'dist_to_type_mean', 'cos_c0_c1', 'cos_c0', 'adN1', 'tertiary_angle_0', 'tertiary_distance_4', 'dist_H_0_x', 'dist_C_1_x', 'inv_distP', 'molecule_atom_index_0_dist_mean_diff', 'tertiary_atom_1', 'tertiary_angle_2', 'mean_molecule_atom_0_dist_xyz', 'dist_C_2_y', 'dist_H_1_y', 'dist_C_3_x', 'dist_H_2_y', 'dist_H_3_y', 'link0', 'yukawa_H.x', 'dist_C_2_x', 'dist_N_0_y', 'dist_to_type_0_mean', 'dist_N_0_x', 'eem_1', 'tertiary_angle_3', 'distance_c1', 'dist_H_3_x', 'tertiary_distance_3', 'cos_f0', 'cos_f1', 'tertiary_atom_2'], 'cv': {'cls': 'KFold', 'init': {'n_splits': 5, 'shuffle': True, 'random_state': 42}}, 'scaler': {'cls': 'StandardScaler', 'init': {}, 'fit': {}}, 'model': {'cls': 'lgb.LGBMRegressor', 'init': {'learning_rate': 0.2833769330240482, 'feature_fraction': 0.8818248470204605, 'bagging_fraction': 0.8205197060908092, 'min_data_in_leaf': 202, 'lambda_l1': 0.017039063121824582, 'lambda_l2': 0.8318702431636841, 'max_bin': 100, 'num_leaves': 255, 'random_state': 3895, 'n_jobs': 16}, 'fit': {}}, 'metric': 'mean_absolute_error'}\n",
      "y=scalar_coupling_constant, type=4\n",
      "219\n",
      "{'columns': ['tertiary_distance_2', 'dist_C_0_y', 'dist_H_1_x', 'molecule_atom_index_0_dist_min_diff', 'molecule_atom_index_0_dist_max_div', 'adC3', 'dist_C_3_y', 'tertiary_angle_1', 'yukawa_H.y', 'cos_f0_f1', 'dist_C_1_y', 'dist_to_type_1_mean', 'dist_O_0_y', 'cos_c1', 'adC2', 'dist_C_0_x', 'molecule_atom_index_0_dist_min_div', 'dist_to_type_std', 'adC1', 'tertiary_distance_1', 'dist_H_0_y', 'molecule_dist_min', 'max_distance_y', 'inv_distPE', 'dist_xyz', 'eem_0', 'dist_O_0_x', 'dist_to_type_mean', 'cos_c0_c1', 'cos_c0', 'adN1', 'tertiary_angle_0', 'tertiary_distance_4', 'dist_H_0_x', 'dist_C_1_x', 'inv_distP', 'molecule_atom_index_0_dist_mean_diff', 'tertiary_atom_1', 'tertiary_angle_2', 'mean_molecule_atom_0_dist_xyz', 'dist_C_2_y', 'dist_H_1_y', 'dist_C_3_x', 'dist_H_2_y', 'dist_H_3_y', 'link0', 'yukawa_H.x', 'dist_C_2_x', 'dist_N_0_y', 'dist_to_type_0_mean', 'dist_N_0_x', 'eem_1', 'tertiary_angle_3', 'distance_c1', 'dist_H_3_x', 'tertiary_distance_3', 'cos_f0', 'cos_f1', 'tertiary_atom_2'], 'cv': {'cls': 'KFold', 'init': {'n_splits': 5, 'shuffle': True, 'random_state': 42}}, 'scaler': {'cls': 'StandardScaler', 'init': {}, 'fit': {}}, 'model': {'cls': 'lgb.LGBMRegressor', 'init': {'learning_rate': 0.2833769330240482, 'feature_fraction': 0.8818248470204605, 'bagging_fraction': 0.8205197060908092, 'min_data_in_leaf': 202, 'lambda_l1': 0.017039063121824582, 'lambda_l2': 0.8318702431636841, 'max_bin': 100, 'num_leaves': 255, 'random_state': 3895, 'n_jobs': 16}, 'fit': {}}, 'metric': 'mean_absolute_error'}\n",
      "y=scalar_coupling_constant, type=5\n",
      "299\n",
      "{'columns': ['tertiary_distance_2', 'dist_C_0_y', 'dist_H_1_x', 'molecule_atom_index_0_dist_min_diff', 'molecule_atom_index_0_dist_max_div', 'adC3', 'dist_C_3_y', 'tertiary_angle_1', 'yukawa_H.y', 'cos_f0_f1', 'dist_C_1_y', 'dist_to_type_1_mean', 'dist_O_0_y', 'cos_c1', 'adC2', 'dist_C_0_x', 'molecule_atom_index_0_dist_min_div', 'dist_to_type_std', 'adC1', 'tertiary_distance_1', 'dist_H_0_y', 'molecule_dist_min', 'max_distance_y', 'inv_distPE', 'dist_xyz', 'eem_0', 'dist_O_0_x', 'dist_to_type_mean', 'cos_c0_c1', 'cos_c0', 'adN1', 'tertiary_angle_0', 'tertiary_distance_4', 'dist_H_0_x', 'dist_C_1_x', 'inv_distP', 'molecule_atom_index_0_dist_mean_diff', 'tertiary_atom_1', 'tertiary_angle_2', 'mean_molecule_atom_0_dist_xyz', 'dist_C_2_y', 'dist_H_1_y', 'dist_C_3_x', 'dist_H_2_y', 'dist_H_3_y', 'link0', 'yukawa_H.x', 'dist_C_2_x', 'dist_N_0_y', 'dist_to_type_0_mean', 'dist_N_0_x', 'eem_1', 'tertiary_angle_3', 'distance_c1', 'dist_H_3_x', 'tertiary_distance_3', 'cos_f0', 'cos_f1', 'tertiary_atom_2'], 'cv': {'cls': 'KFold', 'init': {'n_splits': 5, 'shuffle': True, 'random_state': 42}}, 'scaler': {'cls': 'StandardScaler', 'init': {}, 'fit': {}}, 'model': {'cls': 'lgb.LGBMRegressor', 'init': {'learning_rate': 0.2833769330240482, 'feature_fraction': 0.8818248470204605, 'bagging_fraction': 0.8205197060908092, 'min_data_in_leaf': 202, 'lambda_l1': 0.017039063121824582, 'lambda_l2': 0.8318702431636841, 'max_bin': 100, 'num_leaves': 255, 'random_state': 3895, 'n_jobs': 16}, 'fit': {}}, 'metric': 'mean_absolute_error'}\n",
      "y=scalar_coupling_constant, type=6\n",
      "379\n",
      "{'columns': ['tertiary_distance_2', 'dist_C_0_y', 'dist_H_1_x', 'molecule_atom_index_0_dist_min_diff', 'molecule_atom_index_0_dist_max_div', 'adC3', 'dist_C_3_y', 'tertiary_angle_1', 'yukawa_H.y', 'cos_f0_f1', 'dist_C_1_y', 'dist_to_type_1_mean', 'dist_O_0_y', 'cos_c1', 'adC2', 'dist_C_0_x', 'molecule_atom_index_0_dist_min_div', 'dist_to_type_std', 'adC1', 'tertiary_distance_1', 'dist_H_0_y', 'molecule_dist_min', 'max_distance_y', 'inv_distPE', 'dist_xyz', 'eem_0', 'dist_O_0_x', 'dist_to_type_mean', 'cos_c0_c1', 'cos_c0', 'adN1', 'tertiary_angle_0', 'tertiary_distance_4', 'dist_H_0_x', 'dist_C_1_x', 'inv_distP', 'molecule_atom_index_0_dist_mean_diff', 'tertiary_atom_1', 'tertiary_angle_2', 'mean_molecule_atom_0_dist_xyz', 'dist_C_2_y', 'dist_H_1_y', 'dist_C_3_x', 'dist_H_2_y', 'dist_H_3_y', 'link0', 'yukawa_H.x', 'dist_C_2_x', 'dist_N_0_y', 'dist_to_type_0_mean', 'dist_N_0_x', 'eem_1', 'tertiary_angle_3', 'distance_c1', 'dist_H_3_x', 'tertiary_distance_3', 'cos_f0', 'cos_f1', 'tertiary_atom_2'], 'cv': {'cls': 'KFold', 'init': {'n_splits': 5, 'shuffle': True, 'random_state': 42}}, 'scaler': {'cls': 'StandardScaler', 'init': {}, 'fit': {}}, 'model': {'cls': 'lgb.LGBMRegressor', 'init': {'learning_rate': 0.2833769330240482, 'feature_fraction': 0.8818248470204605, 'bagging_fraction': 0.8205197060908092, 'min_data_in_leaf': 202, 'lambda_l1': 0.017039063121824582, 'lambda_l2': 0.8318702431636841, 'max_bin': 100, 'num_leaves': 255, 'random_state': 3895, 'n_jobs': 16}, 'fit': {}}, 'metric': 'mean_absolute_error'}\n",
      "y=scalar_coupling_constant, type=7\n",
      "449\n",
      "{'columns': ['max_molecule_atom_0_dist_xyz', 'tertiary_distance_2', 'dist_C_0_y', 'dist_H_1_x', 'molecule_atom_index_0_dist_min_diff', 'molecule_atom_index_1_dist_min_diff', 'dist_C_4_x', 'adC3', 'distN0', 'atom_0_bond_lengths_max', 'dist_C_3_y', 'tertiary_angle_1', 'atom_1_bond_lengths_mean', 'dist_C_1_y', 'dist_to_type_1_mean', 'dist_O_0_y', 'cos_c1', 'adC2', 'molecule_atom_index_1_dist_max_div', 'molecule_atom_index_0_dist_min_div', 'dist_C_0_x', 'adC1', 'tertiary_distance_1', 'atom_1_bond_lengths_std', 'dist_H_0_y', 'dist_xyz', 'dist_O_0_x', 'inv_distPR', 'cos_c0_c1', 'cos_c0', 'tertiary_angle_0', 'tertiary_distance_4', 'dist_H_0_x', 'dist_C_1_x', 'tertiary_atom_1', 'tertiary_angle_2', 'mean_molecule_atom_0_dist_xyz', 'dist_C_2_y', 'dist_C_3_x', 'atom_1_n_bonds', 'bond_atom', 'dist_C_2_x', 'dist_N_0_y', 'dist_N_0_x', 'atom_index_1_cycle_size_mean', 'min_molecule_atom_0_dist_xyz', 'tertiary_angle_3', 'tertiary_distance_3', 'cos_f0'], 'cv': {'cls': 'KFold', 'init': {'n_splits': 5, 'shuffle': True, 'random_state': 42}}, 'scaler': {'cls': 'StandardScaler', 'init': {}, 'fit': {}}, 'model': {'cls': 'lgb.LGBMRegressor', 'init': {'learning_rate': 0.2833769330240482, 'feature_fraction': 0.8818248470204605, 'bagging_fraction': 0.8205197060908092, 'min_data_in_leaf': 202, 'lambda_l1': 0.017039063121824582, 'lambda_l2': 0.8318702431636841, 'max_bin': 100, 'num_leaves': 255, 'random_state': 3895, 'n_jobs': 16}, 'fit': {}}, 'metric': 'mean_absolute_error'}\n"
     ]
    }
   ],
   "source": [
    "# , 'fc', 'sd','pso','dso'\n",
    "for y in ['scalar_coupling_constant']:\n",
    "    for t in np.arange(3,8,1):\n",
    "        \n",
    "        print(f'y={y}, type={t}')\n",
    "        df_train=pd.read_pickle(f'{file_folder}/df_train.gzde', compression='gzip')\n",
    "#         df_test=pd.read_pickle(f'{file_folder}/df_test.gzde', compression='gzip')\n",
    "        \n",
    "        df_train['y'] = df_train[y]\n",
    "        df_train = df_train[df_train['type']==t]\n",
    "        n_samples = 500000 if df_train.shape[0] > 500000 else df_train.shape[0]\n",
    "        df_train = df_train.sample(n_samples).reset_index(drop=True)\n",
    "#         df_test = df_test[df_test['type']==t].reset_index(drop=True)\n",
    "        df_test = pd.DataFrame()\n",
    "        \n",
    "\n",
    "        param = {\n",
    "            'columns': df_train.columns.drop(['index', 'y','group', 'scalar_coupling_constant', 'fc', 'sd','pso','dso']).tolist(),\n",
    "            'cv': {\n",
    "                'cls': 'KFold',\n",
    "                'init':{\n",
    "                    'n_splits': 5,\n",
    "                    'shuffle': True,\n",
    "                    'random_state': 42,\n",
    "                },\n",
    "            },\n",
    "            'scaler': {'cls': 'StandardScaler', 'init': {}, 'fit': {}},\n",
    "            'model': {\n",
    "                'cls': 'lgb.LGBMRegressor',\n",
    "                'init': {\n",
    "                    'learning_rate': 0.2833769330240482,\n",
    "                    'feature_fraction': 0.8818248470204605,\n",
    "                    'bagging_fraction': 0.8205197060908092,\n",
    "                    'min_data_in_leaf': 202,\n",
    "                    'lambda_l1': 0.017039063121824582,\n",
    "                    'lambda_l2': 0.8318702431636841,\n",
    "                    'max_bin': 100,\n",
    "                    'num_leaves': 255,\n",
    "                    'random_state': 3895,\n",
    "                    'n_jobs': 16\n",
    "                },\n",
    "                'fit': {}\n",
    "            },\n",
    "            'metric': 'mean_absolute_error'\n",
    "        }\n",
    "\n",
    "\n",
    "\n",
    "        process_queue = PQueue(df_train, df_test, param, mytrial)\n",
    "        sort_features = SortFeatureSelectTopNProcess(**{'top_n':200})\n",
    "        select_topn = RFESelectTopNProcess(**{'n_features_remain':20, 'n_features_to_remove':10})\n",
    "        remove_useless = RFERemoveUselessFeaturesProcess(**{})\n",
    "        process_queue.insert_node(sort_features)\n",
    "        process_queue.insert_node(select_topn)\n",
    "        process_queue.insert_node(remove_useless)\n",
    "\n",
    "        try:\n",
    "            result = process_queue.run()\n",
    "        except Exception as e:\n",
    "            print(e.__str__())\n",
    "        print(len(process_queue.trial))\n",
    "        print(process_queue.param)\n",
    "    "
   ]
  },
  {
   "cell_type": "code",
   "execution_count": 9,
   "metadata": {},
   "outputs": [
    {
     "name": "stdout",
     "output_type": "stream",
     "text": [
      "78\n",
      "58\n",
      "68\n",
      "59\n",
      "59\n",
      "59\n",
      "59\n",
      "49\n"
     ]
    }
   ],
   "source": [
    "for param in columns_list:\n",
    "    print(len(param['columns']))"
   ]
  },
  {
   "cell_type": "code",
   "execution_count": 6,
   "metadata": {},
   "outputs": [],
   "source": [
    "def objective(trial):\n",
    "        \n",
    "    learning_rate = trial.suggest_uniform('learning_rate', .01, .5)\n",
    "    feature_fraction = trial.suggest_uniform('feature_fraction', .6, 1)\n",
    "    bagging_fraction = trial.suggest_uniform('bagging_fraction', 0.6, 1)\n",
    "    min_data_in_leaf = trial.suggest_int('min_data_in_leaf', 200, 800)\n",
    "    lambda_l1 = trial.suggest_loguniform('lambda_l1', 1e-6, 1e2)\n",
    "    lambda_l2 = trial.suggest_loguniform('lambda_l2', 1e-6, 1e2)\n",
    "    max_bin = trial.suggest_int('max_bin', 10, 100)\n",
    "    num_leaves = trial.suggest_int('num_leaves', 4, 512)\n",
    "        \n",
    "    args = columns_list[t].copy()\n",
    "    args['model']['init']={\n",
    "                'learning_rate':learning_rate,\n",
    "                'feature_fraction':feature_fraction,\n",
    "                'bagging_fraction':bagging_fraction,\n",
    "                'min_data_in_leaf':min_data_in_leaf,\n",
    "                'lambda_l1':lambda_l1,\n",
    "                'lambda_l2':lambda_l2,\n",
    "                'max_bin':max_bin,\n",
    "                'num_leaves':num_leaves,\n",
    "                'n_jobs':16\n",
    "    }\n",
    "    \n",
    "    df_his, df_feature_importances, df_valid_pred, df_test_pred =  sk_process(df_train[df_train['type']==t].reset_index(drop=True), columns_list[t], f'modeling for {t}', df_test=None, trial=mytrial, is_output_feature_importance=False, trial_level=1)\n",
    "    val_metric_mean = np.mean(df_his.valid)\n",
    "    return val_metric_mean\n",
    "\n"
   ]
  },
  {
   "cell_type": "code",
   "execution_count": 23,
   "metadata": {},
   "outputs": [
    {
     "data": {
      "text/html": [
       "<div>\n",
       "<style scoped>\n",
       "    .dataframe tbody tr th:only-of-type {\n",
       "        vertical-align: middle;\n",
       "    }\n",
       "\n",
       "    .dataframe tbody tr th {\n",
       "        vertical-align: top;\n",
       "    }\n",
       "\n",
       "    .dataframe thead th {\n",
       "        text-align: right;\n",
       "    }\n",
       "</style>\n",
       "<table border=\"1\" class=\"dataframe\">\n",
       "  <thead>\n",
       "    <tr style=\"text-align: right;\">\n",
       "      <th></th>\n",
       "      <th>datetime</th>\n",
       "      <th>message</th>\n",
       "      <th>nfeatures</th>\n",
       "      <th>train_metric_mean</th>\n",
       "      <th>val_metric_mean</th>\n",
       "      <th>trn_val_metric_diff</th>\n",
       "    </tr>\n",
       "  </thead>\n",
       "  <tbody>\n",
       "    <tr>\n",
       "      <th>212</th>\n",
       "      <td>2019-07-08 14:06:29.634383</td>\n",
       "      <td>tune hyperparam</td>\n",
       "      <td>38</td>\n",
       "      <td>0.863236</td>\n",
       "      <td>0.930069</td>\n",
       "      <td>0.066833</td>\n",
       "    </tr>\n",
       "    <tr>\n",
       "      <th>215</th>\n",
       "      <td>2019-07-08 14:08:20.456876</td>\n",
       "      <td>tune hyperparam</td>\n",
       "      <td>38</td>\n",
       "      <td>0.862214</td>\n",
       "      <td>0.930458</td>\n",
       "      <td>0.068244</td>\n",
       "    </tr>\n",
       "    <tr>\n",
       "      <th>234</th>\n",
       "      <td>2019-07-08 14:18:47.324132</td>\n",
       "      <td>tune hyperparam</td>\n",
       "      <td>38</td>\n",
       "      <td>0.840667</td>\n",
       "      <td>0.932579</td>\n",
       "      <td>0.091912</td>\n",
       "    </tr>\n",
       "    <tr>\n",
       "      <th>202</th>\n",
       "      <td>2019-07-08 14:00:26.322634</td>\n",
       "      <td>tune hyperparam</td>\n",
       "      <td>38</td>\n",
       "      <td>0.855637</td>\n",
       "      <td>0.932970</td>\n",
       "      <td>0.077333</td>\n",
       "    </tr>\n",
       "    <tr>\n",
       "      <th>145</th>\n",
       "      <td>2019-07-08 13:30:42.870039</td>\n",
       "      <td>tune hyperparam</td>\n",
       "      <td>38</td>\n",
       "      <td>0.866630</td>\n",
       "      <td>0.936855</td>\n",
       "      <td>0.070225</td>\n",
       "    </tr>\n",
       "  </tbody>\n",
       "</table>\n",
       "</div>"
      ],
      "text/plain": [
       "                      datetime          message  nfeatures  train_metric_mean  \\\n",
       "212 2019-07-08 14:06:29.634383  tune hyperparam         38           0.863236   \n",
       "215 2019-07-08 14:08:20.456876  tune hyperparam         38           0.862214   \n",
       "234 2019-07-08 14:18:47.324132  tune hyperparam         38           0.840667   \n",
       "202 2019-07-08 14:00:26.322634  tune hyperparam         38           0.855637   \n",
       "145 2019-07-08 13:30:42.870039  tune hyperparam         38           0.866630   \n",
       "\n",
       "     val_metric_mean  trn_val_metric_diff  \n",
       "212         0.930069             0.066833  \n",
       "215         0.930458             0.068244  \n",
       "234         0.932579             0.091912  \n",
       "202         0.932970             0.077333  \n",
       "145         0.936855             0.070225  "
      ]
     },
     "execution_count": 23,
     "metadata": {},
     "output_type": "execute_result"
    }
   ],
   "source": [
    "df_trial = pd.DataFrame(mytrial)\n",
    "df_trial[df_trial['message']=='tune hyperparam'][['datetime', 'message', 'nfeatures', 'train_metric_mean', 'val_metric_mean', 'trn_val_metric_diff']].sort_values(by=['val_metric_mean']).head()"
   ]
  },
  {
   "cell_type": "code",
   "execution_count": 7,
   "metadata": {},
   "outputs": [],
   "source": [
    "df_train=pd.read_pickle(f'{file_folder}/df_train.gzde', compression='gzip')\n",
    "df_test=pd.read_pickle(f'{file_folder}/df_test.gzde', compression='gzip')\n",
    "df_train['y'] = df_train['scalar_coupling_constant']"
   ]
  },
  {
   "cell_type": "code",
   "execution_count": 8,
   "metadata": {},
   "outputs": [
    {
     "data": {
      "text/plain": [
       "['lgbm_sd_test.pkl',\n",
       " 'lgbm_fc_train.pkl',\n",
       " 'lgbm_pso_train.pkl',\n",
       " 'lgbm_pso_test.pkl',\n",
       " 'lgbm_fc_test.pkl',\n",
       " 'lgbm_sd_train.pkl']"
      ]
     },
     "execution_count": 8,
     "metadata": {},
     "output_type": "execute_result"
    }
   ],
   "source": [
    "oof_file_folder =  '../../data/oof'\n",
    "[f for f in os.listdir(oof_file_folder) if f.startswith('lgbm')]"
   ]
  },
  {
   "cell_type": "code",
   "execution_count": 9,
   "metadata": {},
   "outputs": [],
   "source": [
    "df_oof_train = pd.DataFrame()\n",
    "df_oof_test = pd.DataFrame()\n",
    "for f in [f for f in os.listdir(oof_file_folder) if f.startswith('lgbm')]:\n",
    "    feat_name = f.split('_')[1]\n",
    "    if 'train' in f:\n",
    "        df_oof_i = pd.read_pickle(f'{oof_file_folder}/{f}')[['id', feat_name]].rename(columns={'id':'index', feat_name:f'oof_{feat_name}'})\n",
    "        df_oof_train = pd.concat([df_oof_train, df_oof_i], axis=1)\n",
    "    if 'test' in f:\n",
    "        df_oof_i = pd.read_pickle(f'{oof_file_folder}/{f}')[['id', feat_name]].rename(columns={'id':'index', feat_name:f'oof_{feat_name}'})\n",
    "        df_oof_test = pd.concat([df_oof_test, df_oof_i], axis=1)"
   ]
  },
  {
   "cell_type": "code",
   "execution_count": 10,
   "metadata": {},
   "outputs": [],
   "source": [
    "df_train = pd.concat([df_train, df_oof_train[['oof_sd','oof_fc','oof_pso']]], axis=1)\n",
    "df_test = pd.concat([df_test, df_oof_test[['oof_sd','oof_fc','oof_pso']]], axis=1)"
   ]
  },
  {
   "cell_type": "code",
   "execution_count": 13,
   "metadata": {},
   "outputs": [],
   "source": [
    "columns_list = [{'columns': ['oof_sd','oof_fc','oof_pso','cos_center1', 'adC3', 'dist_H_4_y', 'inv_dist1R', 'eem_1', 'dist_C_0_y', 'dist_to_type_std', 'cos_f0', 'molecule_dist_min', 'inv_dist1', 'eem_0', 'molecule_atom_index_0_dist_max_div', 'molecule_type_dist_std_diff', 'tertiary_angle_0', 'tertiary_distance_5', 'dist_O_1_x', 'tertiary_distance_3', 'tertiary_distance_2', 'dist_C_4_y', 'dist_to_type_mean', 'inv_distPR', 'inv_dist1E', 'adC1', 'dist_C_0_x', 'dist_H_1_x', 'dist_O_0_x', 'adN1', 'dist_to_type_1_mean', 'atom_index_1_cycle_size_mean', 'dist_N_0_y', 'dist_H_3_x', 'tertiary_angle_1', 'linkM0', 'tertiary_angle_4', 'dist_C_1_x', 'distance_farthest_0', 'molecule_type_dist_mean_diff', 'dist_to_type_0_mean', 'dist_C_3_x', 'tertiary_distance_4', 'max_molecule_atom_0_dist_xyz', 'inv_dist0R', 'dist_H_0_y', 'tertiary_distance_0', 'dist_C_2_x', 'tertiary_angle_5', 'dist_H_0_x', 'coulomb_H.y', 'tertiary_distance_1', 'dist_H_2_y', 'dist_O_1_y', 'atom_1_n_bonds', 'atom_1_bond_lengths_std', 'dist_O_0_y', 'dist_C_3_y', 'atom_1_bond_lengths_mean', 'distC1', 'dist_xyz', 'dist_C_2_y', 'tertiary_angle_2', 'tertiary_atom_0', 'dist_H_3_y', 'tertiary_atom_1', 'tertiary_angle_3', 'max_molecule_atom_1_dist_xyz', 'dist_C_1_y', 'atom_1_bond_lengths_max', 'distC0', 'vander_H.x', 'dist_H_2_x', 'adC2', 'yukawa_H.y', 'molecule_atom_index_1_dist_min_diff', 'cos_center0', 'dist_C_4_x', 'dist_N_0_x', 'atom_index_farthest_0', 'dist_H_1_y'], 'cv': {'cls': 'KFold', 'init': {'n_splits': 5, 'shuffle': True, 'random_state': 42}}, 'scaler': {'cls': 'StandardScaler', 'init': {}, 'fit': {}}, 'model': {'cls': 'lgb.LGBMRegressor', 'init': {'learning_rate': 0.2833769330240482, 'feature_fraction': 0.8818248470204605, 'bagging_fraction': 0.8205197060908092, 'min_data_in_leaf': 202, 'lambda_l1': 0.017039063121824582, 'lambda_l2': 0.8318702431636841, 'max_bin': 100, 'num_leaves': 255, 'random_state': 3895, 'n_jobs': 16}, 'fit': {}}, 'metric': 'mean_absolute_error'},\n",
    "{'columns': ['oof_sd','oof_fc','oof_pso','min_molecule_atom_1_dist_xyz', 'tertiary_distance_1', 'adC3', 'dist_H_2_y', 'inv_dist1R', 'dist_C_0_y', 'cos_f0', 'atom_1_bond_lengths_std', 'inv_dist1', 'eem_0', 'dist_O_0_y', 'molecule_atom_index_0_dist_max_div', 'cos_center0_center1', 'tertiary_angle_0', 'tertiary_distance_5', 'tertiary_distance_3', 'tertiary_distance_2', 'dist_C_3_y', 'atom_1_bond_lengths_mean', 'dist_C_2_y', 'distance_center0', 'distN0', 'vander_N.x', 'inv_distPR', 'tertiary_angle_2', 'tertiary_atom_0', 'dist_H_3_y', 'adC4', 'dist_C_0_x', 'dist_H_1_x', 'tertiary_angle_3', 'dist_O_0_x', 'dist_C_1_y', 'atom_1_bond_lengths_max', 'molecule_atom_index_1_dist_max_div', 'atom_index_1_cycle_size_mean', 'dist_N_0_y', 'tertiary_angle_1', 'dist_C_1_x', 'vander_H.x', 'dist_to_type_0_mean', 'inv_distP', 'dist_C_3_x', 'tertiary_distance_4', 'bond_atom', 'max_molecule_atom_0_dist_xyz', 'inv_dist0R', 'vander_H.y', 'dist_N_1_x', 'dist_H_0_y', 'yukawa_H.y', 'tertiary_distance_0', 'yukawa_H.x', 'dist_C_2_x', 'linkN', 'dist_N_0_x', 'dist_H_0_x', 'dist_H_1_y'], 'cv': {'cls': 'KFold', 'init': {'n_splits': 5, 'shuffle': True, 'random_state': 42}}, 'scaler': {'cls': 'StandardScaler', 'init': {}, 'fit': {}}, 'model': {'cls': 'lgb.LGBMRegressor', 'init': {'learning_rate': 0.2833769330240482, 'feature_fraction': 0.8818248470204605, 'bagging_fraction': 0.8205197060908092, 'min_data_in_leaf': 202, 'lambda_l1': 0.017039063121824582, 'lambda_l2': 0.8318702431636841, 'max_bin': 100, 'num_leaves': 255, 'random_state': 3895, 'n_jobs': 16}, 'fit': {}}, 'metric': 'mean_absolute_error'},\n",
    "{'columns': ['oof_sd','oof_fc','oof_pso','tertiary_distance_6', 'adC3', 'inv_dist1R', 'eem_1', 'cos_f0', 'dist_C_0_y', 'cos_c1', 'yukawa_O.x', 'inv_dist1', 'tertiary_atom_2', 'molecule_atom_index_0_dist_max_div', 'tertiary_distance_2', 'tertiary_angle_0', 'dist_O_1_x', 'tertiary_distance_3', 'mean_molecule_atom_0_dist_xyz', 'inv_distPR', 'min_molecule_atom_0_dist_xyz', 'molecule_type_dist_max', 'dist_C_0_x', 'dist_H_1_x', 'adC1', 'dist_O_0_x', 'molecule_atom_index_0_dist_max_diff', 'adN1', 'atom_index_1_cycle_size_mean', 'dist_N_0_y', 'tertiary_angle_1', 'tertiary_angle_4', 'dist_C_1_x', 'distance_farthest_0', 'inv_dist0', 'dist_C_3_x', 'atom_0_bond_lengths_max', 'atom_1_bond_lengths_min', 'bond_atom', 'inv_dist0R', 'dist_H_0_y', 'molecule_atom_index_1_dist_min_div', 'dist_C_2_x', 'cos_c0', 'dist_H_0_x', 'tertiary_distance_1', 'dist_H_2_y', 'tertiary_atom_3', 'atom_1_n_bonds', 'atom_1_bond_lengths_std', 'dist_O_0_y', 'vander_O.y', 'dist_C_3_y', 'atom_1_bond_lengths_mean', 'dist_C_2_y', 'yukawa_O.y', 'molecule_atom_index_0_dist_min_div', 'tertiary_angle_2', 'tertiary_atom_0', 'tertiary_atom_1', 'tertiary_angle_3', 'max_molecule_atom_1_dist_xyz', 'atom_1_bond_lengths_max', 'dist_C_1_y', 'distC0', 'adC2', 'tertiary_atom_4', 'cos_c0_c1', 'atom_index_1_n_cycle', 'dist_N_0_x', 'dist_H_1_y'], 'cv': {'cls': 'KFold', 'init': {'n_splits': 5, 'shuffle': True, 'random_state': 42}}, 'scaler': {'cls': 'StandardScaler', 'init': {}, 'fit': {}}, 'model': {'cls': 'lgb.LGBMRegressor', 'init': {'learning_rate': 0.2833769330240482, 'feature_fraction': 0.8818248470204605, 'bagging_fraction': 0.8205197060908092, 'min_data_in_leaf': 202, 'lambda_l1': 0.017039063121824582, 'lambda_l2': 0.8318702431636841, 'max_bin': 100, 'num_leaves': 255, 'random_state': 3895, 'n_jobs': 16}, 'fit': {}}, 'metric': 'mean_absolute_error'},\n",
    "{'columns': ['oof_sd','oof_fc','oof_pso','tertiary_distance_2', 'dist_C_0_y', 'dist_H_1_x', 'molecule_atom_index_0_dist_min_diff', 'molecule_atom_index_0_dist_max_div', 'adC3', 'dist_C_3_y', 'tertiary_angle_1', 'yukawa_H.y', 'cos_f0_f1', 'dist_C_1_y', 'dist_to_type_1_mean', 'dist_O_0_y', 'cos_c1', 'adC2', 'dist_C_0_x', 'molecule_atom_index_0_dist_min_div', 'dist_to_type_std', 'adC1', 'tertiary_distance_1', 'dist_H_0_y', 'molecule_dist_min', 'max_distance_y', 'inv_distPE', 'dist_xyz', 'eem_0', 'dist_O_0_x', 'dist_to_type_mean', 'cos_c0_c1', 'cos_c0', 'adN1', 'tertiary_angle_0', 'tertiary_distance_4', 'dist_H_0_x', 'dist_C_1_x', 'inv_distP', 'molecule_atom_index_0_dist_mean_diff', 'tertiary_atom_1', 'tertiary_angle_2', 'mean_molecule_atom_0_dist_xyz', 'dist_C_2_y', 'dist_H_1_y', 'dist_C_3_x', 'dist_H_2_y', 'dist_H_3_y', 'link0', 'yukawa_H.x', 'dist_C_2_x', 'dist_N_0_y', 'dist_to_type_0_mean', 'dist_N_0_x', 'eem_1', 'tertiary_angle_3', 'distance_c1', 'dist_H_3_x', 'tertiary_distance_3', 'cos_f0', 'cos_f1', 'tertiary_atom_2'], 'cv': {'cls': 'KFold', 'init': {'n_splits': 5, 'shuffle': True, 'random_state': 42}}, 'scaler': {'cls': 'StandardScaler', 'init': {}, 'fit': {}}, 'model': {'cls': 'lgb.LGBMRegressor', 'init': {'learning_rate': 0.2833769330240482, 'feature_fraction': 0.8818248470204605, 'bagging_fraction': 0.8205197060908092, 'min_data_in_leaf': 202, 'lambda_l1': 0.017039063121824582, 'lambda_l2': 0.8318702431636841, 'max_bin': 100, 'num_leaves': 255, 'random_state': 3895, 'n_jobs': 16}, 'fit': {}}, 'metric': 'mean_absolute_error'},\n",
    "{'columns': ['oof_sd','oof_fc','oof_pso','tertiary_distance_2', 'dist_C_0_y', 'dist_H_1_x', 'molecule_atom_index_0_dist_min_diff', 'molecule_atom_index_0_dist_max_div', 'adC3', 'dist_C_3_y', 'tertiary_angle_1', 'yukawa_H.y', 'cos_f0_f1', 'dist_C_1_y', 'dist_to_type_1_mean', 'dist_O_0_y', 'cos_c1', 'adC2', 'dist_C_0_x', 'molecule_atom_index_0_dist_min_div', 'dist_to_type_std', 'adC1', 'tertiary_distance_1', 'dist_H_0_y', 'molecule_dist_min', 'max_distance_y', 'inv_distPE', 'dist_xyz', 'eem_0', 'dist_O_0_x', 'dist_to_type_mean', 'cos_c0_c1', 'cos_c0', 'adN1', 'tertiary_angle_0', 'tertiary_distance_4', 'dist_H_0_x', 'dist_C_1_x', 'inv_distP', 'molecule_atom_index_0_dist_mean_diff', 'tertiary_atom_1', 'tertiary_angle_2', 'mean_molecule_atom_0_dist_xyz', 'dist_C_2_y', 'dist_H_1_y', 'dist_C_3_x', 'dist_H_2_y', 'dist_H_3_y', 'link0', 'yukawa_H.x', 'dist_C_2_x', 'dist_N_0_y', 'dist_to_type_0_mean', 'dist_N_0_x', 'eem_1', 'tertiary_angle_3', 'distance_c1', 'dist_H_3_x', 'tertiary_distance_3', 'cos_f0', 'cos_f1', 'tertiary_atom_2'], 'cv': {'cls': 'KFold', 'init': {'n_splits': 5, 'shuffle': True, 'random_state': 42}}, 'scaler': {'cls': 'StandardScaler', 'init': {}, 'fit': {}}, 'model': {'cls': 'lgb.LGBMRegressor', 'init': {'learning_rate': 0.2833769330240482, 'feature_fraction': 0.8818248470204605, 'bagging_fraction': 0.8205197060908092, 'min_data_in_leaf': 202, 'lambda_l1': 0.017039063121824582, 'lambda_l2': 0.8318702431636841, 'max_bin': 100, 'num_leaves': 255, 'random_state': 3895, 'n_jobs': 16}, 'fit': {}}, 'metric': 'mean_absolute_error'},\n",
    "{'columns': ['oof_sd','oof_fc','oof_pso','tertiary_distance_2', 'dist_C_0_y', 'dist_H_1_x', 'molecule_atom_index_0_dist_min_diff', 'molecule_atom_index_0_dist_max_div', 'adC3', 'dist_C_3_y', 'tertiary_angle_1', 'yukawa_H.y', 'cos_f0_f1', 'dist_C_1_y', 'dist_to_type_1_mean', 'dist_O_0_y', 'cos_c1', 'adC2', 'dist_C_0_x', 'molecule_atom_index_0_dist_min_div', 'dist_to_type_std', 'adC1', 'tertiary_distance_1', 'dist_H_0_y', 'molecule_dist_min', 'max_distance_y', 'inv_distPE', 'dist_xyz', 'eem_0', 'dist_O_0_x', 'dist_to_type_mean', 'cos_c0_c1', 'cos_c0', 'adN1', 'tertiary_angle_0', 'tertiary_distance_4', 'dist_H_0_x', 'dist_C_1_x', 'inv_distP', 'molecule_atom_index_0_dist_mean_diff', 'tertiary_atom_1', 'tertiary_angle_2', 'mean_molecule_atom_0_dist_xyz', 'dist_C_2_y', 'dist_H_1_y', 'dist_C_3_x', 'dist_H_2_y', 'dist_H_3_y', 'link0', 'yukawa_H.x', 'dist_C_2_x', 'dist_N_0_y', 'dist_to_type_0_mean', 'dist_N_0_x', 'eem_1', 'tertiary_angle_3', 'distance_c1', 'dist_H_3_x', 'tertiary_distance_3', 'cos_f0', 'cos_f1', 'tertiary_atom_2'], 'cv': {'cls': 'KFold', 'init': {'n_splits': 5, 'shuffle': True, 'random_state': 42}}, 'scaler': {'cls': 'StandardScaler', 'init': {}, 'fit': {}}, 'model': {'cls': 'lgb.LGBMRegressor', 'init': {'learning_rate': 0.2833769330240482, 'feature_fraction': 0.8818248470204605, 'bagging_fraction': 0.8205197060908092, 'min_data_in_leaf': 202, 'lambda_l1': 0.017039063121824582, 'lambda_l2': 0.8318702431636841, 'max_bin': 100, 'num_leaves': 255, 'random_state': 3895, 'n_jobs': 16}, 'fit': {}}, 'metric': 'mean_absolute_error'},\n",
    "{'columns': ['oof_sd','oof_fc','oof_pso','tertiary_distance_2', 'dist_C_0_y', 'dist_H_1_x', 'molecule_atom_index_0_dist_min_diff', 'molecule_atom_index_0_dist_max_div', 'adC3', 'dist_C_3_y', 'tertiary_angle_1', 'yukawa_H.y', 'cos_f0_f1', 'dist_C_1_y', 'dist_to_type_1_mean', 'dist_O_0_y', 'cos_c1', 'adC2', 'dist_C_0_x', 'molecule_atom_index_0_dist_min_div', 'dist_to_type_std', 'adC1', 'tertiary_distance_1', 'dist_H_0_y', 'molecule_dist_min', 'max_distance_y', 'inv_distPE', 'dist_xyz', 'eem_0', 'dist_O_0_x', 'dist_to_type_mean', 'cos_c0_c1', 'cos_c0', 'adN1', 'tertiary_angle_0', 'tertiary_distance_4', 'dist_H_0_x', 'dist_C_1_x', 'inv_distP', 'molecule_atom_index_0_dist_mean_diff', 'tertiary_atom_1', 'tertiary_angle_2', 'mean_molecule_atom_0_dist_xyz', 'dist_C_2_y', 'dist_H_1_y', 'dist_C_3_x', 'dist_H_2_y', 'dist_H_3_y', 'link0', 'yukawa_H.x', 'dist_C_2_x', 'dist_N_0_y', 'dist_to_type_0_mean', 'dist_N_0_x', 'eem_1', 'tertiary_angle_3', 'distance_c1', 'dist_H_3_x', 'tertiary_distance_3', 'cos_f0', 'cos_f1', 'tertiary_atom_2'], 'cv': {'cls': 'KFold', 'init': {'n_splits': 5, 'shuffle': True, 'random_state': 42}}, 'scaler': {'cls': 'StandardScaler', 'init': {}, 'fit': {}}, 'model': {'cls': 'lgb.LGBMRegressor', 'init': {'learning_rate': 0.2833769330240482, 'feature_fraction': 0.8818248470204605, 'bagging_fraction': 0.8205197060908092, 'min_data_in_leaf': 202, 'lambda_l1': 0.017039063121824582, 'lambda_l2': 0.8318702431636841, 'max_bin': 100, 'num_leaves': 255, 'random_state': 3895, 'n_jobs': 16}, 'fit': {}}, 'metric': 'mean_absolute_error'},\n",
    "{'columns': ['oof_sd','oof_fc','oof_pso','max_molecule_atom_0_dist_xyz', 'tertiary_distance_2', 'dist_C_0_y', 'dist_H_1_x', 'molecule_atom_index_0_dist_min_diff', 'molecule_atom_index_1_dist_min_diff', 'dist_C_4_x', 'adC3', 'distN0', 'atom_0_bond_lengths_max', 'dist_C_3_y', 'tertiary_angle_1', 'atom_1_bond_lengths_mean', 'dist_C_1_y', 'dist_to_type_1_mean', 'dist_O_0_y', 'cos_c1', 'adC2', 'molecule_atom_index_1_dist_max_div', 'molecule_atom_index_0_dist_min_div', 'dist_C_0_x', 'adC1', 'tertiary_distance_1', 'atom_1_bond_lengths_std', 'dist_H_0_y', 'dist_xyz', 'dist_O_0_x', 'inv_distPR', 'cos_c0_c1', 'cos_c0', 'tertiary_angle_0', 'tertiary_distance_4', 'dist_H_0_x', 'dist_C_1_x', 'tertiary_atom_1', 'tertiary_angle_2', 'mean_molecule_atom_0_dist_xyz', 'dist_C_2_y', 'dist_C_3_x', 'atom_1_n_bonds', 'bond_atom', 'dist_C_2_x', 'dist_N_0_y', 'dist_N_0_x', 'atom_index_1_cycle_size_mean', 'min_molecule_atom_0_dist_xyz', 'tertiary_angle_3', 'tertiary_distance_3', 'cos_f0'], 'cv': {'cls': 'KFold', 'init': {'n_splits': 5, 'shuffle': True, 'random_state': 42}}, 'scaler': {'cls': 'StandardScaler', 'init': {}, 'fit': {}}, 'model': {'cls': 'lgb.LGBMRegressor', 'init': {'learning_rate': 0.2833769330240482, 'feature_fraction': 0.8818248470204605, 'bagging_fraction': 0.8205197060908092, 'min_data_in_leaf': 202, 'lambda_l1': 0.017039063121824582, 'lambda_l2': 0.8318702431636841, 'max_bin': 100, 'num_leaves': 255, 'random_state': 3895, 'n_jobs': 16}, 'fit': {}}, 'metric': 'mean_absolute_error'}]"
   ]
  },
  {
   "cell_type": "code",
   "execution_count": 11,
   "metadata": {},
   "outputs": [
    {
     "data": {
      "text/plain": [
       "[7]"
      ]
     },
     "execution_count": 11,
     "metadata": {},
     "output_type": "execute_result"
    }
   ],
   "source": [
    "df_train.type.unique().tolist()[-1:]"
   ]
  },
  {
   "cell_type": "code",
   "execution_count": 14,
   "metadata": {},
   "outputs": [
    {
     "name": "stderr",
     "output_type": "stream",
     "text": [
      "[I 2019-07-21 22:30:49,278] Finished trial#0 resulted in value: 0.15055486117172784. Current best value is 0.15055486117172784 with parameters: {'learning_rate': 0.19031456477956496, 'feature_fraction': 0.8042381951205915, 'bagging_fraction': 0.8479694074496851, 'min_data_in_leaf': 424, 'lambda_l1': 3.335186029357353e-05, 'lambda_l2': 2.466018563628591, 'max_bin': 42, 'num_leaves': 21}.\n",
      "[I 2019-07-21 22:30:53,004] Finished trial#1 resulted in value: 0.159528719068809. Current best value is 0.15055486117172784 with parameters: {'learning_rate': 0.19031456477956496, 'feature_fraction': 0.8042381951205915, 'bagging_fraction': 0.8479694074496851, 'min_data_in_leaf': 424, 'lambda_l1': 3.335186029357353e-05, 'lambda_l2': 2.466018563628591, 'max_bin': 42, 'num_leaves': 21}.\n",
      "[I 2019-07-21 22:30:57,865] Finished trial#2 resulted in value: 0.1490194058178609. Current best value is 0.1490194058178609 with parameters: {'learning_rate': 0.46039071153205535, 'feature_fraction': 0.8373891367634861, 'bagging_fraction': 0.9764984693504578, 'min_data_in_leaf': 654, 'lambda_l1': 8.226639979115383, 'lambda_l2': 7.814344607008443e-06, 'max_bin': 43, 'num_leaves': 119}.\n",
      "[I 2019-07-21 22:31:03,559] Finished trial#3 resulted in value: 0.14738039201267575. Current best value is 0.14738039201267575 with parameters: {'learning_rate': 0.49273197187602064, 'feature_fraction': 0.7444167535881603, 'bagging_fraction': 0.6906832964629412, 'min_data_in_leaf': 251, 'lambda_l1': 0.0002794648719199191, 'lambda_l2': 9.581290703284878, 'max_bin': 60, 'num_leaves': 184}.\n",
      "[I 2019-07-21 22:31:10,436] Finished trial#4 resulted in value: 0.12697925429907583. Current best value is 0.12697925429907583 with parameters: {'learning_rate': 0.2635266301177016, 'feature_fraction': 0.9747482662587977, 'bagging_fraction': 0.778745410811128, 'min_data_in_leaf': 456, 'lambda_l1': 1.040384908219804, 'lambda_l2': 3.4614655475881535, 'max_bin': 93, 'num_leaves': 432}.\n",
      "[I 2019-07-21 22:31:16,075] Finished trial#5 resulted in value: 0.14458752143057207. Current best value is 0.12697925429907583 with parameters: {'learning_rate': 0.2635266301177016, 'feature_fraction': 0.9747482662587977, 'bagging_fraction': 0.778745410811128, 'min_data_in_leaf': 456, 'lambda_l1': 1.040384908219804, 'lambda_l2': 3.4614655475881535, 'max_bin': 93, 'num_leaves': 432}.\n",
      "[I 2019-07-21 22:31:21,402] Finished trial#6 resulted in value: 0.14827019900997848. Current best value is 0.12697925429907583 with parameters: {'learning_rate': 0.2635266301177016, 'feature_fraction': 0.9747482662587977, 'bagging_fraction': 0.778745410811128, 'min_data_in_leaf': 456, 'lambda_l1': 1.040384908219804, 'lambda_l2': 3.4614655475881535, 'max_bin': 93, 'num_leaves': 432}.\n",
      "[I 2019-07-21 22:31:26,106] Finished trial#7 resulted in value: 0.15467296766009064. Current best value is 0.12697925429907583 with parameters: {'learning_rate': 0.2635266301177016, 'feature_fraction': 0.9747482662587977, 'bagging_fraction': 0.778745410811128, 'min_data_in_leaf': 456, 'lambda_l1': 1.040384908219804, 'lambda_l2': 3.4614655475881535, 'max_bin': 93, 'num_leaves': 432}.\n",
      "[I 2019-07-21 22:31:32,475] Finished trial#8 resulted in value: 0.1374596760471732. Current best value is 0.12697925429907583 with parameters: {'learning_rate': 0.2635266301177016, 'feature_fraction': 0.9747482662587977, 'bagging_fraction': 0.778745410811128, 'min_data_in_leaf': 456, 'lambda_l1': 1.040384908219804, 'lambda_l2': 3.4614655475881535, 'max_bin': 93, 'num_leaves': 432}.\n",
      "[I 2019-07-21 22:31:36,919] Finished trial#9 resulted in value: 0.14641414384365023. Current best value is 0.12697925429907583 with parameters: {'learning_rate': 0.2635266301177016, 'feature_fraction': 0.9747482662587977, 'bagging_fraction': 0.778745410811128, 'min_data_in_leaf': 456, 'lambda_l1': 1.040384908219804, 'lambda_l2': 3.4614655475881535, 'max_bin': 93, 'num_leaves': 432}.\n",
      "[I 2019-07-21 22:31:44,579] Finished trial#10 resulted in value: 0.1322515578221709. Current best value is 0.12697925429907583 with parameters: {'learning_rate': 0.2635266301177016, 'feature_fraction': 0.9747482662587977, 'bagging_fraction': 0.778745410811128, 'min_data_in_leaf': 456, 'lambda_l1': 1.040384908219804, 'lambda_l2': 3.4614655475881535, 'max_bin': 93, 'num_leaves': 432}.\n",
      "[I 2019-07-21 22:31:51,033] Finished trial#11 resulted in value: 0.13023963607038358. Current best value is 0.12697925429907583 with parameters: {'learning_rate': 0.2635266301177016, 'feature_fraction': 0.9747482662587977, 'bagging_fraction': 0.778745410811128, 'min_data_in_leaf': 456, 'lambda_l1': 1.040384908219804, 'lambda_l2': 3.4614655475881535, 'max_bin': 93, 'num_leaves': 432}.\n",
      "[I 2019-07-21 22:31:53,922] Finished trial#12 resulted in value: 0.1476819552451601. Current best value is 0.12697925429907583 with parameters: {'learning_rate': 0.2635266301177016, 'feature_fraction': 0.9747482662587977, 'bagging_fraction': 0.778745410811128, 'min_data_in_leaf': 456, 'lambda_l1': 1.040384908219804, 'lambda_l2': 3.4614655475881535, 'max_bin': 93, 'num_leaves': 432}.\n",
      "[I 2019-07-21 22:31:59,601] Finished trial#13 resulted in value: 0.13936133649518725. Current best value is 0.12697925429907583 with parameters: {'learning_rate': 0.2635266301177016, 'feature_fraction': 0.9747482662587977, 'bagging_fraction': 0.778745410811128, 'min_data_in_leaf': 456, 'lambda_l1': 1.040384908219804, 'lambda_l2': 3.4614655475881535, 'max_bin': 93, 'num_leaves': 432}.\n",
      "[I 2019-07-21 22:32:05,452] Finished trial#14 resulted in value: 0.13769255635113462. Current best value is 0.12697925429907583 with parameters: {'learning_rate': 0.2635266301177016, 'feature_fraction': 0.9747482662587977, 'bagging_fraction': 0.778745410811128, 'min_data_in_leaf': 456, 'lambda_l1': 1.040384908219804, 'lambda_l2': 3.4614655475881535, 'max_bin': 93, 'num_leaves': 432}.\n",
      "[I 2019-07-21 22:32:10,974] Finished trial#15 resulted in value: 0.13908958914768538. Current best value is 0.12697925429907583 with parameters: {'learning_rate': 0.2635266301177016, 'feature_fraction': 0.9747482662587977, 'bagging_fraction': 0.778745410811128, 'min_data_in_leaf': 456, 'lambda_l1': 1.040384908219804, 'lambda_l2': 3.4614655475881535, 'max_bin': 93, 'num_leaves': 432}.\n",
      "[I 2019-07-21 22:32:15,361] Finished trial#16 resulted in value: 0.1496446860247665. Current best value is 0.12697925429907583 with parameters: {'learning_rate': 0.2635266301177016, 'feature_fraction': 0.9747482662587977, 'bagging_fraction': 0.778745410811128, 'min_data_in_leaf': 456, 'lambda_l1': 1.040384908219804, 'lambda_l2': 3.4614655475881535, 'max_bin': 93, 'num_leaves': 432}.\n",
      "[I 2019-07-21 22:32:21,864] Finished trial#17 resulted in value: 0.1302443283394233. Current best value is 0.12697925429907583 with parameters: {'learning_rate': 0.2635266301177016, 'feature_fraction': 0.9747482662587977, 'bagging_fraction': 0.778745410811128, 'min_data_in_leaf': 456, 'lambda_l1': 1.040384908219804, 'lambda_l2': 3.4614655475881535, 'max_bin': 93, 'num_leaves': 432}.\n",
      "[I 2019-07-21 22:32:28,643] Finished trial#18 resulted in value: 0.1318639781621638. Current best value is 0.12697925429907583 with parameters: {'learning_rate': 0.2635266301177016, 'feature_fraction': 0.9747482662587977, 'bagging_fraction': 0.778745410811128, 'min_data_in_leaf': 456, 'lambda_l1': 1.040384908219804, 'lambda_l2': 3.4614655475881535, 'max_bin': 93, 'num_leaves': 432}.\n",
      "[I 2019-07-21 22:32:35,906] Finished trial#19 resulted in value: 0.12428970049654542. Current best value is 0.12428970049654542 with parameters: {'learning_rate': 0.2697899828989243, 'feature_fraction': 0.9303342685824576, 'bagging_fraction': 0.7004339866681044, 'min_data_in_leaf': 372, 'lambda_l1': 1.1747756420726598, 'lambda_l2': 0.22116027357551543, 'max_bin': 95, 'num_leaves': 329}.\n",
      "[I 2019-07-21 22:32:43,433] Finished trial#20 resulted in value: 0.1225848411179872. Current best value is 0.1225848411179872 with parameters: {'learning_rate': 0.2984920033778189, 'feature_fraction': 0.929823120508402, 'bagging_fraction': 0.6717057330274558, 'min_data_in_leaf': 334, 'lambda_l1': 1.3554915854587142, 'lambda_l2': 0.20412488872524406, 'max_bin': 94, 'num_leaves': 325}.\n"
     ]
    },
    {
     "name": "stderr",
     "output_type": "stream",
     "text": [
      "[I 2019-07-21 22:32:46,723] Finished trial#21 resulted in value: 0.1447677427287033. Current best value is 0.1225848411179872 with parameters: {'learning_rate': 0.2984920033778189, 'feature_fraction': 0.929823120508402, 'bagging_fraction': 0.6717057330274558, 'min_data_in_leaf': 334, 'lambda_l1': 1.3554915854587142, 'lambda_l2': 0.20412488872524406, 'max_bin': 94, 'num_leaves': 325}.\n",
      "[I 2019-07-21 22:32:54,631] Finished trial#22 resulted in value: 0.13161140449071676. Current best value is 0.1225848411179872 with parameters: {'learning_rate': 0.2984920033778189, 'feature_fraction': 0.929823120508402, 'bagging_fraction': 0.6717057330274558, 'min_data_in_leaf': 334, 'lambda_l1': 1.3554915854587142, 'lambda_l2': 0.20412488872524406, 'max_bin': 94, 'num_leaves': 325}.\n",
      "[I 2019-07-21 22:33:00,573] Finished trial#23 resulted in value: 0.14093242135873413. Current best value is 0.1225848411179872 with parameters: {'learning_rate': 0.2984920033778189, 'feature_fraction': 0.929823120508402, 'bagging_fraction': 0.6717057330274558, 'min_data_in_leaf': 334, 'lambda_l1': 1.3554915854587142, 'lambda_l2': 0.20412488872524406, 'max_bin': 94, 'num_leaves': 325}.\n",
      "[I 2019-07-21 22:33:05,942] Finished trial#24 resulted in value: 0.1401575780490121. Current best value is 0.1225848411179872 with parameters: {'learning_rate': 0.2984920033778189, 'feature_fraction': 0.929823120508402, 'bagging_fraction': 0.6717057330274558, 'min_data_in_leaf': 334, 'lambda_l1': 1.3554915854587142, 'lambda_l2': 0.20412488872524406, 'max_bin': 94, 'num_leaves': 325}.\n",
      "[I 2019-07-21 22:33:12,714] Finished trial#25 resulted in value: 0.12416983874017226. Current best value is 0.1225848411179872 with parameters: {'learning_rate': 0.2984920033778189, 'feature_fraction': 0.929823120508402, 'bagging_fraction': 0.6717057330274558, 'min_data_in_leaf': 334, 'lambda_l1': 1.3554915854587142, 'lambda_l2': 0.20412488872524406, 'max_bin': 94, 'num_leaves': 325}.\n",
      "[I 2019-07-21 22:33:17,786] Finished trial#26 resulted in value: 0.13501341743591827. Current best value is 0.1225848411179872 with parameters: {'learning_rate': 0.2984920033778189, 'feature_fraction': 0.929823120508402, 'bagging_fraction': 0.6717057330274558, 'min_data_in_leaf': 334, 'lambda_l1': 1.3554915854587142, 'lambda_l2': 0.20412488872524406, 'max_bin': 94, 'num_leaves': 325}.\n",
      "[I 2019-07-21 22:33:23,584] Finished trial#27 resulted in value: 0.12691107738170884. Current best value is 0.1225848411179872 with parameters: {'learning_rate': 0.2984920033778189, 'feature_fraction': 0.929823120508402, 'bagging_fraction': 0.6717057330274558, 'min_data_in_leaf': 334, 'lambda_l1': 1.3554915854587142, 'lambda_l2': 0.20412488872524406, 'max_bin': 94, 'num_leaves': 325}.\n",
      "[I 2019-07-21 22:33:30,037] Finished trial#28 resulted in value: 0.13637462947698106. Current best value is 0.1225848411179872 with parameters: {'learning_rate': 0.2984920033778189, 'feature_fraction': 0.929823120508402, 'bagging_fraction': 0.6717057330274558, 'min_data_in_leaf': 334, 'lambda_l1': 1.3554915854587142, 'lambda_l2': 0.20412488872524406, 'max_bin': 94, 'num_leaves': 325}.\n",
      "[I 2019-07-21 22:33:33,143] Finished trial#29 resulted in value: 0.15551121888982106. Current best value is 0.1225848411179872 with parameters: {'learning_rate': 0.2984920033778189, 'feature_fraction': 0.929823120508402, 'bagging_fraction': 0.6717057330274558, 'min_data_in_leaf': 334, 'lambda_l1': 1.3554915854587142, 'lambda_l2': 0.20412488872524406, 'max_bin': 94, 'num_leaves': 325}.\n",
      "[I 2019-07-21 22:33:37,273] Finished trial#30 resulted in value: 0.1433255220320215. Current best value is 0.1225848411179872 with parameters: {'learning_rate': 0.2984920033778189, 'feature_fraction': 0.929823120508402, 'bagging_fraction': 0.6717057330274558, 'min_data_in_leaf': 334, 'lambda_l1': 1.3554915854587142, 'lambda_l2': 0.20412488872524406, 'max_bin': 94, 'num_leaves': 325}.\n",
      "[I 2019-07-21 22:33:42,125] Finished trial#31 resulted in value: 0.14872183538775852. Current best value is 0.1225848411179872 with parameters: {'learning_rate': 0.2984920033778189, 'feature_fraction': 0.929823120508402, 'bagging_fraction': 0.6717057330274558, 'min_data_in_leaf': 334, 'lambda_l1': 1.3554915854587142, 'lambda_l2': 0.20412488872524406, 'max_bin': 94, 'num_leaves': 325}.\n",
      "[I 2019-07-21 22:33:47,568] Finished trial#32 resulted in value: 0.1442559681246512. Current best value is 0.1225848411179872 with parameters: {'learning_rate': 0.2984920033778189, 'feature_fraction': 0.929823120508402, 'bagging_fraction': 0.6717057330274558, 'min_data_in_leaf': 334, 'lambda_l1': 1.3554915854587142, 'lambda_l2': 0.20412488872524406, 'max_bin': 94, 'num_leaves': 325}.\n",
      "[I 2019-07-21 22:33:54,173] Finished trial#33 resulted in value: 0.13410215156839045. Current best value is 0.1225848411179872 with parameters: {'learning_rate': 0.2984920033778189, 'feature_fraction': 0.929823120508402, 'bagging_fraction': 0.6717057330274558, 'min_data_in_leaf': 334, 'lambda_l1': 1.3554915854587142, 'lambda_l2': 0.20412488872524406, 'max_bin': 94, 'num_leaves': 325}.\n",
      "[I 2019-07-21 22:33:59,846] Finished trial#34 resulted in value: 0.13098517788629227. Current best value is 0.1225848411179872 with parameters: {'learning_rate': 0.2984920033778189, 'feature_fraction': 0.929823120508402, 'bagging_fraction': 0.6717057330274558, 'min_data_in_leaf': 334, 'lambda_l1': 1.3554915854587142, 'lambda_l2': 0.20412488872524406, 'max_bin': 94, 'num_leaves': 325}.\n",
      "[I 2019-07-21 22:34:08,005] Finished trial#35 resulted in value: 0.1208473641919789. Current best value is 0.1208473641919789 with parameters: {'learning_rate': 0.48285119983286773, 'feature_fraction': 0.9819692190636629, 'bagging_fraction': 0.6015560008115143, 'min_data_in_leaf': 200, 'lambda_l1': 8.526740331717524e-05, 'lambda_l2': 0.0001990888013208511, 'max_bin': 40, 'num_leaves': 364}.\n",
      "[I 2019-07-21 22:34:16,452] Finished trial#36 resulted in value: 0.11969792172206797. Current best value is 0.11969792172206797 with parameters: {'learning_rate': 0.498696415132855, 'feature_fraction': 0.9812950236816153, 'bagging_fraction': 0.6272883527056892, 'min_data_in_leaf': 205, 'lambda_l1': 6.885405236711593e-06, 'lambda_l2': 14.791114557076948, 'max_bin': 39, 'num_leaves': 393}.\n",
      "[I 2019-07-21 22:34:24,885] Finished trial#37 resulted in value: 0.1200867598102163. Current best value is 0.11969792172206797 with parameters: {'learning_rate': 0.498696415132855, 'feature_fraction': 0.9812950236816153, 'bagging_fraction': 0.6272883527056892, 'min_data_in_leaf': 205, 'lambda_l1': 6.885405236711593e-06, 'lambda_l2': 14.791114557076948, 'max_bin': 39, 'num_leaves': 393}.\n",
      "[I 2019-07-21 22:34:30,378] Finished trial#38 resulted in value: 0.13692411898878243. Current best value is 0.11969792172206797 with parameters: {'learning_rate': 0.498696415132855, 'feature_fraction': 0.9812950236816153, 'bagging_fraction': 0.6272883527056892, 'min_data_in_leaf': 205, 'lambda_l1': 6.885405236711593e-06, 'lambda_l2': 14.791114557076948, 'max_bin': 39, 'num_leaves': 393}.\n",
      "[I 2019-07-21 22:34:38,806] Finished trial#39 resulted in value: 0.12024100097344939. Current best value is 0.11969792172206797 with parameters: {'learning_rate': 0.498696415132855, 'feature_fraction': 0.9812950236816153, 'bagging_fraction': 0.6272883527056892, 'min_data_in_leaf': 205, 'lambda_l1': 6.885405236711593e-06, 'lambda_l2': 14.791114557076948, 'max_bin': 39, 'num_leaves': 393}.\n",
      "[I 2019-07-21 22:34:46,936] Finished trial#40 resulted in value: 0.13930330496812018. Current best value is 0.11969792172206797 with parameters: {'learning_rate': 0.498696415132855, 'feature_fraction': 0.9812950236816153, 'bagging_fraction': 0.6272883527056892, 'min_data_in_leaf': 205, 'lambda_l1': 6.885405236711593e-06, 'lambda_l2': 14.791114557076948, 'max_bin': 39, 'num_leaves': 393}.\n",
      "[I 2019-07-21 22:34:52,614] Finished trial#41 resulted in value: 0.14668710097336407. Current best value is 0.11969792172206797 with parameters: {'learning_rate': 0.498696415132855, 'feature_fraction': 0.9812950236816153, 'bagging_fraction': 0.6272883527056892, 'min_data_in_leaf': 205, 'lambda_l1': 6.885405236711593e-06, 'lambda_l2': 14.791114557076948, 'max_bin': 39, 'num_leaves': 393}.\n"
     ]
    },
    {
     "name": "stderr",
     "output_type": "stream",
     "text": [
      "[I 2019-07-21 22:34:58,149] Finished trial#42 resulted in value: 0.15062845109849704. Current best value is 0.11969792172206797 with parameters: {'learning_rate': 0.498696415132855, 'feature_fraction': 0.9812950236816153, 'bagging_fraction': 0.6272883527056892, 'min_data_in_leaf': 205, 'lambda_l1': 6.885405236711593e-06, 'lambda_l2': 14.791114557076948, 'max_bin': 39, 'num_leaves': 393}.\n",
      "[I 2019-07-21 22:35:05,707] Finished trial#43 resulted in value: 0.13739296665295592. Current best value is 0.11969792172206797 with parameters: {'learning_rate': 0.498696415132855, 'feature_fraction': 0.9812950236816153, 'bagging_fraction': 0.6272883527056892, 'min_data_in_leaf': 205, 'lambda_l1': 6.885405236711593e-06, 'lambda_l2': 14.791114557076948, 'max_bin': 39, 'num_leaves': 393}.\n",
      "[I 2019-07-21 22:35:14,433] Finished trial#44 resulted in value: 0.1333880837701979. Current best value is 0.11969792172206797 with parameters: {'learning_rate': 0.498696415132855, 'feature_fraction': 0.9812950236816153, 'bagging_fraction': 0.6272883527056892, 'min_data_in_leaf': 205, 'lambda_l1': 6.885405236711593e-06, 'lambda_l2': 14.791114557076948, 'max_bin': 39, 'num_leaves': 393}.\n",
      "[I 2019-07-21 22:35:20,633] Finished trial#45 resulted in value: 0.13241972455834788. Current best value is 0.11969792172206797 with parameters: {'learning_rate': 0.498696415132855, 'feature_fraction': 0.9812950236816153, 'bagging_fraction': 0.6272883527056892, 'min_data_in_leaf': 205, 'lambda_l1': 6.885405236711593e-06, 'lambda_l2': 14.791114557076948, 'max_bin': 39, 'num_leaves': 393}.\n",
      "[I 2019-07-21 22:35:26,586] Finished trial#46 resulted in value: 0.14245411792620882. Current best value is 0.11969792172206797 with parameters: {'learning_rate': 0.498696415132855, 'feature_fraction': 0.9812950236816153, 'bagging_fraction': 0.6272883527056892, 'min_data_in_leaf': 205, 'lambda_l1': 6.885405236711593e-06, 'lambda_l2': 14.791114557076948, 'max_bin': 39, 'num_leaves': 393}.\n",
      "[I 2019-07-21 22:35:32,638] Finished trial#47 resulted in value: 0.1393433447116149. Current best value is 0.11969792172206797 with parameters: {'learning_rate': 0.498696415132855, 'feature_fraction': 0.9812950236816153, 'bagging_fraction': 0.6272883527056892, 'min_data_in_leaf': 205, 'lambda_l1': 6.885405236711593e-06, 'lambda_l2': 14.791114557076948, 'max_bin': 39, 'num_leaves': 393}.\n",
      "[I 2019-07-21 22:35:40,310] Finished trial#48 resulted in value: 0.3764259264401375. Current best value is 0.11969792172206797 with parameters: {'learning_rate': 0.498696415132855, 'feature_fraction': 0.9812950236816153, 'bagging_fraction': 0.6272883527056892, 'min_data_in_leaf': 205, 'lambda_l1': 6.885405236711593e-06, 'lambda_l2': 14.791114557076948, 'max_bin': 39, 'num_leaves': 393}.\n",
      "[I 2019-07-21 22:35:44,092] Finished trial#49 resulted in value: 0.15444975590362536. Current best value is 0.11969792172206797 with parameters: {'learning_rate': 0.498696415132855, 'feature_fraction': 0.9812950236816153, 'bagging_fraction': 0.6272883527056892, 'min_data_in_leaf': 205, 'lambda_l1': 6.885405236711593e-06, 'lambda_l2': 14.791114557076948, 'max_bin': 39, 'num_leaves': 393}.\n",
      "[I 2019-07-21 22:35:51,466] Finished trial#50 resulted in value: 0.12350901805192546. Current best value is 0.11969792172206797 with parameters: {'learning_rate': 0.498696415132855, 'feature_fraction': 0.9812950236816153, 'bagging_fraction': 0.6272883527056892, 'min_data_in_leaf': 205, 'lambda_l1': 6.885405236711593e-06, 'lambda_l2': 14.791114557076948, 'max_bin': 39, 'num_leaves': 393}.\n",
      "[I 2019-07-21 22:35:59,049] Finished trial#51 resulted in value: 0.13250908799134992. Current best value is 0.11969792172206797 with parameters: {'learning_rate': 0.498696415132855, 'feature_fraction': 0.9812950236816153, 'bagging_fraction': 0.6272883527056892, 'min_data_in_leaf': 205, 'lambda_l1': 6.885405236711593e-06, 'lambda_l2': 14.791114557076948, 'max_bin': 39, 'num_leaves': 393}.\n",
      "[I 2019-07-21 22:36:04,127] Finished trial#52 resulted in value: 0.15607704137619344. Current best value is 0.11969792172206797 with parameters: {'learning_rate': 0.498696415132855, 'feature_fraction': 0.9812950236816153, 'bagging_fraction': 0.6272883527056892, 'min_data_in_leaf': 205, 'lambda_l1': 6.885405236711593e-06, 'lambda_l2': 14.791114557076948, 'max_bin': 39, 'num_leaves': 393}.\n",
      "[I 2019-07-21 22:36:11,329] Finished trial#53 resulted in value: 0.13285126911776604. Current best value is 0.11969792172206797 with parameters: {'learning_rate': 0.498696415132855, 'feature_fraction': 0.9812950236816153, 'bagging_fraction': 0.6272883527056892, 'min_data_in_leaf': 205, 'lambda_l1': 6.885405236711593e-06, 'lambda_l2': 14.791114557076948, 'max_bin': 39, 'num_leaves': 393}.\n",
      "[I 2019-07-21 22:36:17,125] Finished trial#54 resulted in value: 0.14805049473752177. Current best value is 0.11969792172206797 with parameters: {'learning_rate': 0.498696415132855, 'feature_fraction': 0.9812950236816153, 'bagging_fraction': 0.6272883527056892, 'min_data_in_leaf': 205, 'lambda_l1': 6.885405236711593e-06, 'lambda_l2': 14.791114557076948, 'max_bin': 39, 'num_leaves': 393}.\n",
      "[I 2019-07-21 22:36:24,011] Finished trial#55 resulted in value: 0.12564274534485675. Current best value is 0.11969792172206797 with parameters: {'learning_rate': 0.498696415132855, 'feature_fraction': 0.9812950236816153, 'bagging_fraction': 0.6272883527056892, 'min_data_in_leaf': 205, 'lambda_l1': 6.885405236711593e-06, 'lambda_l2': 14.791114557076948, 'max_bin': 39, 'num_leaves': 393}.\n",
      "[I 2019-07-21 22:36:31,370] Finished trial#56 resulted in value: 0.13567787152344066. Current best value is 0.11969792172206797 with parameters: {'learning_rate': 0.498696415132855, 'feature_fraction': 0.9812950236816153, 'bagging_fraction': 0.6272883527056892, 'min_data_in_leaf': 205, 'lambda_l1': 6.885405236711593e-06, 'lambda_l2': 14.791114557076948, 'max_bin': 39, 'num_leaves': 393}.\n",
      "[I 2019-07-21 22:36:38,048] Finished trial#57 resulted in value: 0.1310886185862687. Current best value is 0.11969792172206797 with parameters: {'learning_rate': 0.498696415132855, 'feature_fraction': 0.9812950236816153, 'bagging_fraction': 0.6272883527056892, 'min_data_in_leaf': 205, 'lambda_l1': 6.885405236711593e-06, 'lambda_l2': 14.791114557076948, 'max_bin': 39, 'num_leaves': 393}.\n",
      "[I 2019-07-21 22:36:45,450] Finished trial#58 resulted in value: 0.1290462167218792. Current best value is 0.11969792172206797 with parameters: {'learning_rate': 0.498696415132855, 'feature_fraction': 0.9812950236816153, 'bagging_fraction': 0.6272883527056892, 'min_data_in_leaf': 205, 'lambda_l1': 6.885405236711593e-06, 'lambda_l2': 14.791114557076948, 'max_bin': 39, 'num_leaves': 393}.\n",
      "[I 2019-07-21 22:36:51,582] Finished trial#59 resulted in value: 0.13812537299893074. Current best value is 0.11969792172206797 with parameters: {'learning_rate': 0.498696415132855, 'feature_fraction': 0.9812950236816153, 'bagging_fraction': 0.6272883527056892, 'min_data_in_leaf': 205, 'lambda_l1': 6.885405236711593e-06, 'lambda_l2': 14.791114557076948, 'max_bin': 39, 'num_leaves': 393}.\n",
      "[I 2019-07-21 22:36:58,238] Finished trial#60 resulted in value: 0.13361879877636304. Current best value is 0.11969792172206797 with parameters: {'learning_rate': 0.498696415132855, 'feature_fraction': 0.9812950236816153, 'bagging_fraction': 0.6272883527056892, 'min_data_in_leaf': 205, 'lambda_l1': 6.885405236711593e-06, 'lambda_l2': 14.791114557076948, 'max_bin': 39, 'num_leaves': 393}.\n",
      "[I 2019-07-21 22:37:03,771] Finished trial#61 resulted in value: 0.14523491452253667. Current best value is 0.11969792172206797 with parameters: {'learning_rate': 0.498696415132855, 'feature_fraction': 0.9812950236816153, 'bagging_fraction': 0.6272883527056892, 'min_data_in_leaf': 205, 'lambda_l1': 6.885405236711593e-06, 'lambda_l2': 14.791114557076948, 'max_bin': 39, 'num_leaves': 393}.\n"
     ]
    },
    {
     "name": "stderr",
     "output_type": "stream",
     "text": [
      "[I 2019-07-21 22:37:10,136] Finished trial#62 resulted in value: 0.12842115259191078. Current best value is 0.11969792172206797 with parameters: {'learning_rate': 0.498696415132855, 'feature_fraction': 0.9812950236816153, 'bagging_fraction': 0.6272883527056892, 'min_data_in_leaf': 205, 'lambda_l1': 6.885405236711593e-06, 'lambda_l2': 14.791114557076948, 'max_bin': 39, 'num_leaves': 393}.\n",
      "[I 2019-07-21 22:37:18,427] Finished trial#63 resulted in value: 0.12031591051814343. Current best value is 0.11969792172206797 with parameters: {'learning_rate': 0.498696415132855, 'feature_fraction': 0.9812950236816153, 'bagging_fraction': 0.6272883527056892, 'min_data_in_leaf': 205, 'lambda_l1': 6.885405236711593e-06, 'lambda_l2': 14.791114557076948, 'max_bin': 39, 'num_leaves': 393}.\n",
      "[I 2019-07-21 22:37:25,243] Finished trial#64 resulted in value: 0.12543649578654806. Current best value is 0.11969792172206797 with parameters: {'learning_rate': 0.498696415132855, 'feature_fraction': 0.9812950236816153, 'bagging_fraction': 0.6272883527056892, 'min_data_in_leaf': 205, 'lambda_l1': 6.885405236711593e-06, 'lambda_l2': 14.791114557076948, 'max_bin': 39, 'num_leaves': 393}.\n",
      "[I 2019-07-21 22:37:33,948] Finished trial#65 resulted in value: 0.1200211234360832. Current best value is 0.11969792172206797 with parameters: {'learning_rate': 0.498696415132855, 'feature_fraction': 0.9812950236816153, 'bagging_fraction': 0.6272883527056892, 'min_data_in_leaf': 205, 'lambda_l1': 6.885405236711593e-06, 'lambda_l2': 14.791114557076948, 'max_bin': 39, 'num_leaves': 393}.\n",
      "[I 2019-07-21 22:37:42,509] Finished trial#66 resulted in value: 0.1204729269698928. Current best value is 0.11969792172206797 with parameters: {'learning_rate': 0.498696415132855, 'feature_fraction': 0.9812950236816153, 'bagging_fraction': 0.6272883527056892, 'min_data_in_leaf': 205, 'lambda_l1': 6.885405236711593e-06, 'lambda_l2': 14.791114557076948, 'max_bin': 39, 'num_leaves': 393}.\n",
      "[I 2019-07-21 22:37:51,865] Finished trial#67 resulted in value: 0.12053013131158383. Current best value is 0.11969792172206797 with parameters: {'learning_rate': 0.498696415132855, 'feature_fraction': 0.9812950236816153, 'bagging_fraction': 0.6272883527056892, 'min_data_in_leaf': 205, 'lambda_l1': 6.885405236711593e-06, 'lambda_l2': 14.791114557076948, 'max_bin': 39, 'num_leaves': 393}.\n",
      "[I 2019-07-21 22:37:59,745] Finished trial#68 resulted in value: 0.12230435411346703. Current best value is 0.11969792172206797 with parameters: {'learning_rate': 0.498696415132855, 'feature_fraction': 0.9812950236816153, 'bagging_fraction': 0.6272883527056892, 'min_data_in_leaf': 205, 'lambda_l1': 6.885405236711593e-06, 'lambda_l2': 14.791114557076948, 'max_bin': 39, 'num_leaves': 393}.\n",
      "[I 2019-07-21 22:38:06,733] Finished trial#69 resulted in value: 0.12399105035043038. Current best value is 0.11969792172206797 with parameters: {'learning_rate': 0.498696415132855, 'feature_fraction': 0.9812950236816153, 'bagging_fraction': 0.6272883527056892, 'min_data_in_leaf': 205, 'lambda_l1': 6.885405236711593e-06, 'lambda_l2': 14.791114557076948, 'max_bin': 39, 'num_leaves': 393}.\n",
      "[I 2019-07-21 22:38:14,284] Finished trial#70 resulted in value: 0.1348988200635821. Current best value is 0.11969792172206797 with parameters: {'learning_rate': 0.498696415132855, 'feature_fraction': 0.9812950236816153, 'bagging_fraction': 0.6272883527056892, 'min_data_in_leaf': 205, 'lambda_l1': 6.885405236711593e-06, 'lambda_l2': 14.791114557076948, 'max_bin': 39, 'num_leaves': 393}.\n",
      "[I 2019-07-21 22:38:22,525] Finished trial#71 resulted in value: 0.1397025351707934. Current best value is 0.11969792172206797 with parameters: {'learning_rate': 0.498696415132855, 'feature_fraction': 0.9812950236816153, 'bagging_fraction': 0.6272883527056892, 'min_data_in_leaf': 205, 'lambda_l1': 6.885405236711593e-06, 'lambda_l2': 14.791114557076948, 'max_bin': 39, 'num_leaves': 393}.\n",
      "[I 2019-07-21 22:38:31,325] Finished trial#72 resulted in value: 0.12011075813597367. Current best value is 0.11969792172206797 with parameters: {'learning_rate': 0.498696415132855, 'feature_fraction': 0.9812950236816153, 'bagging_fraction': 0.6272883527056892, 'min_data_in_leaf': 205, 'lambda_l1': 6.885405236711593e-06, 'lambda_l2': 14.791114557076948, 'max_bin': 39, 'num_leaves': 393}.\n",
      "[I 2019-07-21 22:38:39,321] Finished trial#73 resulted in value: 0.1225717103976011. Current best value is 0.11969792172206797 with parameters: {'learning_rate': 0.498696415132855, 'feature_fraction': 0.9812950236816153, 'bagging_fraction': 0.6272883527056892, 'min_data_in_leaf': 205, 'lambda_l1': 6.885405236711593e-06, 'lambda_l2': 14.791114557076948, 'max_bin': 39, 'num_leaves': 393}.\n",
      "[I 2019-07-21 22:38:46,381] Finished trial#74 resulted in value: 0.1297666168057036. Current best value is 0.11969792172206797 with parameters: {'learning_rate': 0.498696415132855, 'feature_fraction': 0.9812950236816153, 'bagging_fraction': 0.6272883527056892, 'min_data_in_leaf': 205, 'lambda_l1': 6.885405236711593e-06, 'lambda_l2': 14.791114557076948, 'max_bin': 39, 'num_leaves': 393}.\n",
      "[I 2019-07-21 22:38:53,448] Finished trial#75 resulted in value: 0.12549447327633545. Current best value is 0.11969792172206797 with parameters: {'learning_rate': 0.498696415132855, 'feature_fraction': 0.9812950236816153, 'bagging_fraction': 0.6272883527056892, 'min_data_in_leaf': 205, 'lambda_l1': 6.885405236711593e-06, 'lambda_l2': 14.791114557076948, 'max_bin': 39, 'num_leaves': 393}.\n",
      "[I 2019-07-21 22:39:00,559] Finished trial#76 resulted in value: 0.13518992894940127. Current best value is 0.11969792172206797 with parameters: {'learning_rate': 0.498696415132855, 'feature_fraction': 0.9812950236816153, 'bagging_fraction': 0.6272883527056892, 'min_data_in_leaf': 205, 'lambda_l1': 6.885405236711593e-06, 'lambda_l2': 14.791114557076948, 'max_bin': 39, 'num_leaves': 393}.\n",
      "[I 2019-07-21 22:39:09,619] Finished trial#77 resulted in value: 0.11938686342170945. Current best value is 0.11938686342170945 with parameters: {'learning_rate': 0.3641297054734397, 'feature_fraction': 0.9206735905800941, 'bagging_fraction': 0.6671746434338517, 'min_data_in_leaf': 234, 'lambda_l1': 8.321062060501192e-06, 'lambda_l2': 0.00040360396366852176, 'max_bin': 54, 'num_leaves': 475}.\n",
      "[I 2019-07-21 22:39:18,252] Finished trial#78 resulted in value: 0.12058234316246685. Current best value is 0.11938686342170945 with parameters: {'learning_rate': 0.3641297054734397, 'feature_fraction': 0.9206735905800941, 'bagging_fraction': 0.6671746434338517, 'min_data_in_leaf': 234, 'lambda_l1': 8.321062060501192e-06, 'lambda_l2': 0.00040360396366852176, 'max_bin': 54, 'num_leaves': 475}.\n",
      "[I 2019-07-21 22:39:27,492] Finished trial#79 resulted in value: 0.12598214991260548. Current best value is 0.11938686342170945 with parameters: {'learning_rate': 0.3641297054734397, 'feature_fraction': 0.9206735905800941, 'bagging_fraction': 0.6671746434338517, 'min_data_in_leaf': 234, 'lambda_l1': 8.321062060501192e-06, 'lambda_l2': 0.00040360396366852176, 'max_bin': 54, 'num_leaves': 475}.\n",
      "[I 2019-07-21 22:39:34,492] Finished trial#80 resulted in value: 0.13696094479914053. Current best value is 0.11938686342170945 with parameters: {'learning_rate': 0.3641297054734397, 'feature_fraction': 0.9206735905800941, 'bagging_fraction': 0.6671746434338517, 'min_data_in_leaf': 234, 'lambda_l1': 8.321062060501192e-06, 'lambda_l2': 0.00040360396366852176, 'max_bin': 54, 'num_leaves': 475}.\n",
      "[I 2019-07-21 22:39:42,433] Finished trial#81 resulted in value: 0.13422058698275813. Current best value is 0.11938686342170945 with parameters: {'learning_rate': 0.3641297054734397, 'feature_fraction': 0.9206735905800941, 'bagging_fraction': 0.6671746434338517, 'min_data_in_leaf': 234, 'lambda_l1': 8.321062060501192e-06, 'lambda_l2': 0.00040360396366852176, 'max_bin': 54, 'num_leaves': 475}.\n"
     ]
    },
    {
     "name": "stderr",
     "output_type": "stream",
     "text": [
      "[I 2019-07-21 22:39:48,950] Finished trial#82 resulted in value: 0.12870776880814558. Current best value is 0.11938686342170945 with parameters: {'learning_rate': 0.3641297054734397, 'feature_fraction': 0.9206735905800941, 'bagging_fraction': 0.6671746434338517, 'min_data_in_leaf': 234, 'lambda_l1': 8.321062060501192e-06, 'lambda_l2': 0.00040360396366852176, 'max_bin': 54, 'num_leaves': 475}.\n",
      "[I 2019-07-21 22:39:56,654] Finished trial#83 resulted in value: 0.12932937769756664. Current best value is 0.11938686342170945 with parameters: {'learning_rate': 0.3641297054734397, 'feature_fraction': 0.9206735905800941, 'bagging_fraction': 0.6671746434338517, 'min_data_in_leaf': 234, 'lambda_l1': 8.321062060501192e-06, 'lambda_l2': 0.00040360396366852176, 'max_bin': 54, 'num_leaves': 475}.\n",
      "[I 2019-07-21 22:40:04,998] Finished trial#84 resulted in value: 0.12277074553116205. Current best value is 0.11938686342170945 with parameters: {'learning_rate': 0.3641297054734397, 'feature_fraction': 0.9206735905800941, 'bagging_fraction': 0.6671746434338517, 'min_data_in_leaf': 234, 'lambda_l1': 8.321062060501192e-06, 'lambda_l2': 0.00040360396366852176, 'max_bin': 54, 'num_leaves': 475}.\n",
      "[I 2019-07-21 22:40:11,058] Finished trial#85 resulted in value: 0.13992457558985225. Current best value is 0.11938686342170945 with parameters: {'learning_rate': 0.3641297054734397, 'feature_fraction': 0.9206735905800941, 'bagging_fraction': 0.6671746434338517, 'min_data_in_leaf': 234, 'lambda_l1': 8.321062060501192e-06, 'lambda_l2': 0.00040360396366852176, 'max_bin': 54, 'num_leaves': 475}.\n",
      "[I 2019-07-21 22:40:16,823] Finished trial#86 resulted in value: 0.12777751242598645. Current best value is 0.11938686342170945 with parameters: {'learning_rate': 0.3641297054734397, 'feature_fraction': 0.9206735905800941, 'bagging_fraction': 0.6671746434338517, 'min_data_in_leaf': 234, 'lambda_l1': 8.321062060501192e-06, 'lambda_l2': 0.00040360396366852176, 'max_bin': 54, 'num_leaves': 475}.\n",
      "[I 2019-07-21 22:40:23,995] Finished trial#87 resulted in value: 0.12566161454861885. Current best value is 0.11938686342170945 with parameters: {'learning_rate': 0.3641297054734397, 'feature_fraction': 0.9206735905800941, 'bagging_fraction': 0.6671746434338517, 'min_data_in_leaf': 234, 'lambda_l1': 8.321062060501192e-06, 'lambda_l2': 0.00040360396366852176, 'max_bin': 54, 'num_leaves': 475}.\n",
      "[I 2019-07-21 22:40:32,392] Finished trial#88 resulted in value: 0.12127064765851465. Current best value is 0.11938686342170945 with parameters: {'learning_rate': 0.3641297054734397, 'feature_fraction': 0.9206735905800941, 'bagging_fraction': 0.6671746434338517, 'min_data_in_leaf': 234, 'lambda_l1': 8.321062060501192e-06, 'lambda_l2': 0.00040360396366852176, 'max_bin': 54, 'num_leaves': 475}.\n",
      "[I 2019-07-21 22:40:39,624] Finished trial#89 resulted in value: 0.1253466551298988. Current best value is 0.11938686342170945 with parameters: {'learning_rate': 0.3641297054734397, 'feature_fraction': 0.9206735905800941, 'bagging_fraction': 0.6671746434338517, 'min_data_in_leaf': 234, 'lambda_l1': 8.321062060501192e-06, 'lambda_l2': 0.00040360396366852176, 'max_bin': 54, 'num_leaves': 475}.\n",
      "[I 2019-07-21 22:40:44,282] Finished trial#90 resulted in value: 0.15290183903825755. Current best value is 0.11938686342170945 with parameters: {'learning_rate': 0.3641297054734397, 'feature_fraction': 0.9206735905800941, 'bagging_fraction': 0.6671746434338517, 'min_data_in_leaf': 234, 'lambda_l1': 8.321062060501192e-06, 'lambda_l2': 0.00040360396366852176, 'max_bin': 54, 'num_leaves': 475}.\n",
      "[I 2019-07-21 22:40:53,628] Finished trial#91 resulted in value: 0.127598394819873. Current best value is 0.11938686342170945 with parameters: {'learning_rate': 0.3641297054734397, 'feature_fraction': 0.9206735905800941, 'bagging_fraction': 0.6671746434338517, 'min_data_in_leaf': 234, 'lambda_l1': 8.321062060501192e-06, 'lambda_l2': 0.00040360396366852176, 'max_bin': 54, 'num_leaves': 475}.\n",
      "[I 2019-07-21 22:41:02,654] Finished trial#92 resulted in value: 0.12113861411106863. Current best value is 0.11938686342170945 with parameters: {'learning_rate': 0.3641297054734397, 'feature_fraction': 0.9206735905800941, 'bagging_fraction': 0.6671746434338517, 'min_data_in_leaf': 234, 'lambda_l1': 8.321062060501192e-06, 'lambda_l2': 0.00040360396366852176, 'max_bin': 54, 'num_leaves': 475}.\n",
      "[I 2019-07-21 22:41:09,356] Finished trial#93 resulted in value: 0.1419679354371121. Current best value is 0.11938686342170945 with parameters: {'learning_rate': 0.3641297054734397, 'feature_fraction': 0.9206735905800941, 'bagging_fraction': 0.6671746434338517, 'min_data_in_leaf': 234, 'lambda_l1': 8.321062060501192e-06, 'lambda_l2': 0.00040360396366852176, 'max_bin': 54, 'num_leaves': 475}.\n",
      "[I 2019-07-21 22:41:12,422] Finished trial#94 resulted in value: 0.20631473184175214. Current best value is 0.11938686342170945 with parameters: {'learning_rate': 0.3641297054734397, 'feature_fraction': 0.9206735905800941, 'bagging_fraction': 0.6671746434338517, 'min_data_in_leaf': 234, 'lambda_l1': 8.321062060501192e-06, 'lambda_l2': 0.00040360396366852176, 'max_bin': 54, 'num_leaves': 475}.\n",
      "[I 2019-07-21 22:41:18,180] Finished trial#95 resulted in value: 0.14362166040901764. Current best value is 0.11938686342170945 with parameters: {'learning_rate': 0.3641297054734397, 'feature_fraction': 0.9206735905800941, 'bagging_fraction': 0.6671746434338517, 'min_data_in_leaf': 234, 'lambda_l1': 8.321062060501192e-06, 'lambda_l2': 0.00040360396366852176, 'max_bin': 54, 'num_leaves': 475}.\n",
      "[I 2019-07-21 22:41:26,518] Finished trial#96 resulted in value: 0.13685674055831382. Current best value is 0.11938686342170945 with parameters: {'learning_rate': 0.3641297054734397, 'feature_fraction': 0.9206735905800941, 'bagging_fraction': 0.6671746434338517, 'min_data_in_leaf': 234, 'lambda_l1': 8.321062060501192e-06, 'lambda_l2': 0.00040360396366852176, 'max_bin': 54, 'num_leaves': 475}.\n",
      "[I 2019-07-21 22:41:34,746] Finished trial#97 resulted in value: 0.12226329204910483. Current best value is 0.11938686342170945 with parameters: {'learning_rate': 0.3641297054734397, 'feature_fraction': 0.9206735905800941, 'bagging_fraction': 0.6671746434338517, 'min_data_in_leaf': 234, 'lambda_l1': 8.321062060501192e-06, 'lambda_l2': 0.00040360396366852176, 'max_bin': 54, 'num_leaves': 475}.\n",
      "[I 2019-07-21 22:41:40,411] Finished trial#98 resulted in value: 0.13464530616462506. Current best value is 0.11938686342170945 with parameters: {'learning_rate': 0.3641297054734397, 'feature_fraction': 0.9206735905800941, 'bagging_fraction': 0.6671746434338517, 'min_data_in_leaf': 234, 'lambda_l1': 8.321062060501192e-06, 'lambda_l2': 0.00040360396366852176, 'max_bin': 54, 'num_leaves': 475}.\n",
      "[I 2019-07-21 22:41:46,774] Finished trial#99 resulted in value: 0.14649509023501803. Current best value is 0.11938686342170945 with parameters: {'learning_rate': 0.3641297054734397, 'feature_fraction': 0.9206735905800941, 'bagging_fraction': 0.6671746434338517, 'min_data_in_leaf': 234, 'lambda_l1': 8.321062060501192e-06, 'lambda_l2': 0.00040360396366852176, 'max_bin': 54, 'num_leaves': 475}.\n",
      "[I 2019-07-21 22:41:52,427] Finished trial#100 resulted in value: 0.14919081999314127. Current best value is 0.11938686342170945 with parameters: {'learning_rate': 0.3641297054734397, 'feature_fraction': 0.9206735905800941, 'bagging_fraction': 0.6671746434338517, 'min_data_in_leaf': 234, 'lambda_l1': 8.321062060501192e-06, 'lambda_l2': 0.00040360396366852176, 'max_bin': 54, 'num_leaves': 475}.\n",
      "[I 2019-07-21 22:41:58,049] Finished trial#101 resulted in value: 0.14347858356319398. Current best value is 0.11938686342170945 with parameters: {'learning_rate': 0.3641297054734397, 'feature_fraction': 0.9206735905800941, 'bagging_fraction': 0.6671746434338517, 'min_data_in_leaf': 234, 'lambda_l1': 8.321062060501192e-06, 'lambda_l2': 0.00040360396366852176, 'max_bin': 54, 'num_leaves': 475}.\n"
     ]
    },
    {
     "name": "stderr",
     "output_type": "stream",
     "text": [
      "[I 2019-07-21 22:42:06,878] Finished trial#102 resulted in value: 0.12195587389979287. Current best value is 0.11938686342170945 with parameters: {'learning_rate': 0.3641297054734397, 'feature_fraction': 0.9206735905800941, 'bagging_fraction': 0.6671746434338517, 'min_data_in_leaf': 234, 'lambda_l1': 8.321062060501192e-06, 'lambda_l2': 0.00040360396366852176, 'max_bin': 54, 'num_leaves': 475}.\n",
      "[I 2019-07-21 22:42:12,943] Finished trial#103 resulted in value: 0.14750534313809466. Current best value is 0.11938686342170945 with parameters: {'learning_rate': 0.3641297054734397, 'feature_fraction': 0.9206735905800941, 'bagging_fraction': 0.6671746434338517, 'min_data_in_leaf': 234, 'lambda_l1': 8.321062060501192e-06, 'lambda_l2': 0.00040360396366852176, 'max_bin': 54, 'num_leaves': 475}.\n",
      "[I 2019-07-21 22:42:19,758] Finished trial#104 resulted in value: 0.13290233571051516. Current best value is 0.11938686342170945 with parameters: {'learning_rate': 0.3641297054734397, 'feature_fraction': 0.9206735905800941, 'bagging_fraction': 0.6671746434338517, 'min_data_in_leaf': 234, 'lambda_l1': 8.321062060501192e-06, 'lambda_l2': 0.00040360396366852176, 'max_bin': 54, 'num_leaves': 475}.\n",
      "[I 2019-07-21 22:42:27,821] Finished trial#105 resulted in value: 0.13563815715483413. Current best value is 0.11938686342170945 with parameters: {'learning_rate': 0.3641297054734397, 'feature_fraction': 0.9206735905800941, 'bagging_fraction': 0.6671746434338517, 'min_data_in_leaf': 234, 'lambda_l1': 8.321062060501192e-06, 'lambda_l2': 0.00040360396366852176, 'max_bin': 54, 'num_leaves': 475}.\n",
      "[I 2019-07-21 22:42:36,810] Finished trial#106 resulted in value: 0.12137790672185345. Current best value is 0.11938686342170945 with parameters: {'learning_rate': 0.3641297054734397, 'feature_fraction': 0.9206735905800941, 'bagging_fraction': 0.6671746434338517, 'min_data_in_leaf': 234, 'lambda_l1': 8.321062060501192e-06, 'lambda_l2': 0.00040360396366852176, 'max_bin': 54, 'num_leaves': 475}.\n",
      "[I 2019-07-21 22:42:44,622] Finished trial#107 resulted in value: 0.12352348145006867. Current best value is 0.11938686342170945 with parameters: {'learning_rate': 0.3641297054734397, 'feature_fraction': 0.9206735905800941, 'bagging_fraction': 0.6671746434338517, 'min_data_in_leaf': 234, 'lambda_l1': 8.321062060501192e-06, 'lambda_l2': 0.00040360396366852176, 'max_bin': 54, 'num_leaves': 475}.\n",
      "[I 2019-07-21 22:42:53,520] Finished trial#108 resulted in value: 0.1202061355485236. Current best value is 0.11938686342170945 with parameters: {'learning_rate': 0.3641297054734397, 'feature_fraction': 0.9206735905800941, 'bagging_fraction': 0.6671746434338517, 'min_data_in_leaf': 234, 'lambda_l1': 8.321062060501192e-06, 'lambda_l2': 0.00040360396366852176, 'max_bin': 54, 'num_leaves': 475}.\n",
      "[I 2019-07-21 22:42:59,585] Finished trial#109 resulted in value: 0.1350097101177458. Current best value is 0.11938686342170945 with parameters: {'learning_rate': 0.3641297054734397, 'feature_fraction': 0.9206735905800941, 'bagging_fraction': 0.6671746434338517, 'min_data_in_leaf': 234, 'lambda_l1': 8.321062060501192e-06, 'lambda_l2': 0.00040360396366852176, 'max_bin': 54, 'num_leaves': 475}.\n",
      "[I 2019-07-21 22:43:08,558] Finished trial#110 resulted in value: 0.13149014252091312. Current best value is 0.11938686342170945 with parameters: {'learning_rate': 0.3641297054734397, 'feature_fraction': 0.9206735905800941, 'bagging_fraction': 0.6671746434338517, 'min_data_in_leaf': 234, 'lambda_l1': 8.321062060501192e-06, 'lambda_l2': 0.00040360396366852176, 'max_bin': 54, 'num_leaves': 475}.\n",
      "[I 2019-07-21 22:43:14,897] Finished trial#111 resulted in value: 0.14492916488745808. Current best value is 0.11938686342170945 with parameters: {'learning_rate': 0.3641297054734397, 'feature_fraction': 0.9206735905800941, 'bagging_fraction': 0.6671746434338517, 'min_data_in_leaf': 234, 'lambda_l1': 8.321062060501192e-06, 'lambda_l2': 0.00040360396366852176, 'max_bin': 54, 'num_leaves': 475}.\n",
      "[I 2019-07-21 22:43:19,151] Finished trial#112 resulted in value: 0.14482433050810356. Current best value is 0.11938686342170945 with parameters: {'learning_rate': 0.3641297054734397, 'feature_fraction': 0.9206735905800941, 'bagging_fraction': 0.6671746434338517, 'min_data_in_leaf': 234, 'lambda_l1': 8.321062060501192e-06, 'lambda_l2': 0.00040360396366852176, 'max_bin': 54, 'num_leaves': 475}.\n",
      "[I 2019-07-21 22:43:26,403] Finished trial#113 resulted in value: 0.144952942589312. Current best value is 0.11938686342170945 with parameters: {'learning_rate': 0.3641297054734397, 'feature_fraction': 0.9206735905800941, 'bagging_fraction': 0.6671746434338517, 'min_data_in_leaf': 234, 'lambda_l1': 8.321062060501192e-06, 'lambda_l2': 0.00040360396366852176, 'max_bin': 54, 'num_leaves': 475}.\n",
      "[I 2019-07-21 22:43:36,180] Finished trial#114 resulted in value: 0.11999217748120809. Current best value is 0.11938686342170945 with parameters: {'learning_rate': 0.3641297054734397, 'feature_fraction': 0.9206735905800941, 'bagging_fraction': 0.6671746434338517, 'min_data_in_leaf': 234, 'lambda_l1': 8.321062060501192e-06, 'lambda_l2': 0.00040360396366852176, 'max_bin': 54, 'num_leaves': 475}.\n",
      "[I 2019-07-21 22:43:42,483] Finished trial#115 resulted in value: 0.13774070050373285. Current best value is 0.11938686342170945 with parameters: {'learning_rate': 0.3641297054734397, 'feature_fraction': 0.9206735905800941, 'bagging_fraction': 0.6671746434338517, 'min_data_in_leaf': 234, 'lambda_l1': 8.321062060501192e-06, 'lambda_l2': 0.00040360396366852176, 'max_bin': 54, 'num_leaves': 475}.\n",
      "[I 2019-07-21 22:43:51,455] Finished trial#116 resulted in value: 0.12669950211390332. Current best value is 0.11938686342170945 with parameters: {'learning_rate': 0.3641297054734397, 'feature_fraction': 0.9206735905800941, 'bagging_fraction': 0.6671746434338517, 'min_data_in_leaf': 234, 'lambda_l1': 8.321062060501192e-06, 'lambda_l2': 0.00040360396366852176, 'max_bin': 54, 'num_leaves': 475}.\n",
      "[I 2019-07-21 22:44:02,162] Finished trial#117 resulted in value: 0.12537264970150602. Current best value is 0.11938686342170945 with parameters: {'learning_rate': 0.3641297054734397, 'feature_fraction': 0.9206735905800941, 'bagging_fraction': 0.6671746434338517, 'min_data_in_leaf': 234, 'lambda_l1': 8.321062060501192e-06, 'lambda_l2': 0.00040360396366852176, 'max_bin': 54, 'num_leaves': 475}.\n",
      "[I 2019-07-21 22:44:06,392] Finished trial#118 resulted in value: 0.14360998441752143. Current best value is 0.11938686342170945 with parameters: {'learning_rate': 0.3641297054734397, 'feature_fraction': 0.9206735905800941, 'bagging_fraction': 0.6671746434338517, 'min_data_in_leaf': 234, 'lambda_l1': 8.321062060501192e-06, 'lambda_l2': 0.00040360396366852176, 'max_bin': 54, 'num_leaves': 475}.\n",
      "[I 2019-07-21 22:44:12,779] Finished trial#119 resulted in value: 0.13586406288398445. Current best value is 0.11938686342170945 with parameters: {'learning_rate': 0.3641297054734397, 'feature_fraction': 0.9206735905800941, 'bagging_fraction': 0.6671746434338517, 'min_data_in_leaf': 234, 'lambda_l1': 8.321062060501192e-06, 'lambda_l2': 0.00040360396366852176, 'max_bin': 54, 'num_leaves': 475}.\n",
      "[I 2019-07-21 22:44:18,386] Finished trial#120 resulted in value: 0.13646643548809426. Current best value is 0.11938686342170945 with parameters: {'learning_rate': 0.3641297054734397, 'feature_fraction': 0.9206735905800941, 'bagging_fraction': 0.6671746434338517, 'min_data_in_leaf': 234, 'lambda_l1': 8.321062060501192e-06, 'lambda_l2': 0.00040360396366852176, 'max_bin': 54, 'num_leaves': 475}.\n",
      "[I 2019-07-21 22:44:26,722] Finished trial#121 resulted in value: 0.12848440018876403. Current best value is 0.11938686342170945 with parameters: {'learning_rate': 0.3641297054734397, 'feature_fraction': 0.9206735905800941, 'bagging_fraction': 0.6671746434338517, 'min_data_in_leaf': 234, 'lambda_l1': 8.321062060501192e-06, 'lambda_l2': 0.00040360396366852176, 'max_bin': 54, 'num_leaves': 475}.\n"
     ]
    },
    {
     "name": "stderr",
     "output_type": "stream",
     "text": [
      "[I 2019-07-21 22:44:33,672] Finished trial#122 resulted in value: 0.13196540506627147. Current best value is 0.11938686342170945 with parameters: {'learning_rate': 0.3641297054734397, 'feature_fraction': 0.9206735905800941, 'bagging_fraction': 0.6671746434338517, 'min_data_in_leaf': 234, 'lambda_l1': 8.321062060501192e-06, 'lambda_l2': 0.00040360396366852176, 'max_bin': 54, 'num_leaves': 475}.\n",
      "[I 2019-07-21 22:44:41,214] Finished trial#123 resulted in value: 0.12545132999956388. Current best value is 0.11938686342170945 with parameters: {'learning_rate': 0.3641297054734397, 'feature_fraction': 0.9206735905800941, 'bagging_fraction': 0.6671746434338517, 'min_data_in_leaf': 234, 'lambda_l1': 8.321062060501192e-06, 'lambda_l2': 0.00040360396366852176, 'max_bin': 54, 'num_leaves': 475}.\n",
      "[I 2019-07-21 22:44:50,329] Finished trial#124 resulted in value: 0.1263672694271183. Current best value is 0.11938686342170945 with parameters: {'learning_rate': 0.3641297054734397, 'feature_fraction': 0.9206735905800941, 'bagging_fraction': 0.6671746434338517, 'min_data_in_leaf': 234, 'lambda_l1': 8.321062060501192e-06, 'lambda_l2': 0.00040360396366852176, 'max_bin': 54, 'num_leaves': 475}.\n",
      "[I 2019-07-21 22:44:57,998] Finished trial#125 resulted in value: 0.12994536673245455. Current best value is 0.11938686342170945 with parameters: {'learning_rate': 0.3641297054734397, 'feature_fraction': 0.9206735905800941, 'bagging_fraction': 0.6671746434338517, 'min_data_in_leaf': 234, 'lambda_l1': 8.321062060501192e-06, 'lambda_l2': 0.00040360396366852176, 'max_bin': 54, 'num_leaves': 475}.\n",
      "[I 2019-07-21 22:45:04,272] Finished trial#126 resulted in value: 0.23407877631937052. Current best value is 0.11938686342170945 with parameters: {'learning_rate': 0.3641297054734397, 'feature_fraction': 0.9206735905800941, 'bagging_fraction': 0.6671746434338517, 'min_data_in_leaf': 234, 'lambda_l1': 8.321062060501192e-06, 'lambda_l2': 0.00040360396366852176, 'max_bin': 54, 'num_leaves': 475}.\n",
      "[I 2019-07-21 22:45:12,993] Finished trial#127 resulted in value: 0.13059086921494079. Current best value is 0.11938686342170945 with parameters: {'learning_rate': 0.3641297054734397, 'feature_fraction': 0.9206735905800941, 'bagging_fraction': 0.6671746434338517, 'min_data_in_leaf': 234, 'lambda_l1': 8.321062060501192e-06, 'lambda_l2': 0.00040360396366852176, 'max_bin': 54, 'num_leaves': 475}.\n",
      "[I 2019-07-21 22:45:21,687] Finished trial#128 resulted in value: 0.12034307617934999. Current best value is 0.11938686342170945 with parameters: {'learning_rate': 0.3641297054734397, 'feature_fraction': 0.9206735905800941, 'bagging_fraction': 0.6671746434338517, 'min_data_in_leaf': 234, 'lambda_l1': 8.321062060501192e-06, 'lambda_l2': 0.00040360396366852176, 'max_bin': 54, 'num_leaves': 475}.\n",
      "[I 2019-07-21 22:45:28,815] Finished trial#129 resulted in value: 0.13160731814582008. Current best value is 0.11938686342170945 with parameters: {'learning_rate': 0.3641297054734397, 'feature_fraction': 0.9206735905800941, 'bagging_fraction': 0.6671746434338517, 'min_data_in_leaf': 234, 'lambda_l1': 8.321062060501192e-06, 'lambda_l2': 0.00040360396366852176, 'max_bin': 54, 'num_leaves': 475}.\n",
      "[I 2019-07-21 22:45:34,383] Finished trial#130 resulted in value: 0.14123413089181738. Current best value is 0.11938686342170945 with parameters: {'learning_rate': 0.3641297054734397, 'feature_fraction': 0.9206735905800941, 'bagging_fraction': 0.6671746434338517, 'min_data_in_leaf': 234, 'lambda_l1': 8.321062060501192e-06, 'lambda_l2': 0.00040360396366852176, 'max_bin': 54, 'num_leaves': 475}.\n",
      "[I 2019-07-21 22:45:41,721] Finished trial#131 resulted in value: 0.13463552568271225. Current best value is 0.11938686342170945 with parameters: {'learning_rate': 0.3641297054734397, 'feature_fraction': 0.9206735905800941, 'bagging_fraction': 0.6671746434338517, 'min_data_in_leaf': 234, 'lambda_l1': 8.321062060501192e-06, 'lambda_l2': 0.00040360396366852176, 'max_bin': 54, 'num_leaves': 475}.\n",
      "[I 2019-07-21 22:45:50,727] Finished trial#132 resulted in value: 0.12570294935676465. Current best value is 0.11938686342170945 with parameters: {'learning_rate': 0.3641297054734397, 'feature_fraction': 0.9206735905800941, 'bagging_fraction': 0.6671746434338517, 'min_data_in_leaf': 234, 'lambda_l1': 8.321062060501192e-06, 'lambda_l2': 0.00040360396366852176, 'max_bin': 54, 'num_leaves': 475}.\n",
      "[I 2019-07-21 22:45:57,338] Finished trial#133 resulted in value: 0.13864532467136514. Current best value is 0.11938686342170945 with parameters: {'learning_rate': 0.3641297054734397, 'feature_fraction': 0.9206735905800941, 'bagging_fraction': 0.6671746434338517, 'min_data_in_leaf': 234, 'lambda_l1': 8.321062060501192e-06, 'lambda_l2': 0.00040360396366852176, 'max_bin': 54, 'num_leaves': 475}.\n",
      "[I 2019-07-21 22:46:04,583] Finished trial#134 resulted in value: 0.13055768156191908. Current best value is 0.11938686342170945 with parameters: {'learning_rate': 0.3641297054734397, 'feature_fraction': 0.9206735905800941, 'bagging_fraction': 0.6671746434338517, 'min_data_in_leaf': 234, 'lambda_l1': 8.321062060501192e-06, 'lambda_l2': 0.00040360396366852176, 'max_bin': 54, 'num_leaves': 475}.\n",
      "[I 2019-07-21 22:46:11,766] Finished trial#135 resulted in value: 0.12802734307416608. Current best value is 0.11938686342170945 with parameters: {'learning_rate': 0.3641297054734397, 'feature_fraction': 0.9206735905800941, 'bagging_fraction': 0.6671746434338517, 'min_data_in_leaf': 234, 'lambda_l1': 8.321062060501192e-06, 'lambda_l2': 0.00040360396366852176, 'max_bin': 54, 'num_leaves': 475}.\n",
      "[I 2019-07-21 22:46:17,372] Finished trial#136 resulted in value: 0.15072658833414015. Current best value is 0.11938686342170945 with parameters: {'learning_rate': 0.3641297054734397, 'feature_fraction': 0.9206735905800941, 'bagging_fraction': 0.6671746434338517, 'min_data_in_leaf': 234, 'lambda_l1': 8.321062060501192e-06, 'lambda_l2': 0.00040360396366852176, 'max_bin': 54, 'num_leaves': 475}.\n",
      "[I 2019-07-21 22:46:25,455] Finished trial#137 resulted in value: 0.12625014116219263. Current best value is 0.11938686342170945 with parameters: {'learning_rate': 0.3641297054734397, 'feature_fraction': 0.9206735905800941, 'bagging_fraction': 0.6671746434338517, 'min_data_in_leaf': 234, 'lambda_l1': 8.321062060501192e-06, 'lambda_l2': 0.00040360396366852176, 'max_bin': 54, 'num_leaves': 475}.\n",
      "[I 2019-07-21 22:46:32,444] Finished trial#138 resulted in value: 0.13418752405314022. Current best value is 0.11938686342170945 with parameters: {'learning_rate': 0.3641297054734397, 'feature_fraction': 0.9206735905800941, 'bagging_fraction': 0.6671746434338517, 'min_data_in_leaf': 234, 'lambda_l1': 8.321062060501192e-06, 'lambda_l2': 0.00040360396366852176, 'max_bin': 54, 'num_leaves': 475}.\n",
      "[I 2019-07-21 22:46:37,638] Finished trial#139 resulted in value: 0.14399303862230486. Current best value is 0.11938686342170945 with parameters: {'learning_rate': 0.3641297054734397, 'feature_fraction': 0.9206735905800941, 'bagging_fraction': 0.6671746434338517, 'min_data_in_leaf': 234, 'lambda_l1': 8.321062060501192e-06, 'lambda_l2': 0.00040360396366852176, 'max_bin': 54, 'num_leaves': 475}.\n",
      "[I 2019-07-21 22:46:44,122] Finished trial#140 resulted in value: 0.13892689352224633. Current best value is 0.11938686342170945 with parameters: {'learning_rate': 0.3641297054734397, 'feature_fraction': 0.9206735905800941, 'bagging_fraction': 0.6671746434338517, 'min_data_in_leaf': 234, 'lambda_l1': 8.321062060501192e-06, 'lambda_l2': 0.00040360396366852176, 'max_bin': 54, 'num_leaves': 475}.\n",
      "[I 2019-07-21 22:46:51,604] Finished trial#141 resulted in value: 0.12361659936883385. Current best value is 0.11938686342170945 with parameters: {'learning_rate': 0.3641297054734397, 'feature_fraction': 0.9206735905800941, 'bagging_fraction': 0.6671746434338517, 'min_data_in_leaf': 234, 'lambda_l1': 8.321062060501192e-06, 'lambda_l2': 0.00040360396366852176, 'max_bin': 54, 'num_leaves': 475}.\n"
     ]
    },
    {
     "name": "stderr",
     "output_type": "stream",
     "text": [
      "[I 2019-07-21 22:46:59,392] Finished trial#142 resulted in value: 0.130008322665655. Current best value is 0.11938686342170945 with parameters: {'learning_rate': 0.3641297054734397, 'feature_fraction': 0.9206735905800941, 'bagging_fraction': 0.6671746434338517, 'min_data_in_leaf': 234, 'lambda_l1': 8.321062060501192e-06, 'lambda_l2': 0.00040360396366852176, 'max_bin': 54, 'num_leaves': 475}.\n",
      "[I 2019-07-21 22:47:05,579] Finished trial#143 resulted in value: 0.1339453909606005. Current best value is 0.11938686342170945 with parameters: {'learning_rate': 0.3641297054734397, 'feature_fraction': 0.9206735905800941, 'bagging_fraction': 0.6671746434338517, 'min_data_in_leaf': 234, 'lambda_l1': 8.321062060501192e-06, 'lambda_l2': 0.00040360396366852176, 'max_bin': 54, 'num_leaves': 475}.\n",
      "[I 2019-07-21 22:47:14,708] Finished trial#144 resulted in value: 0.13128066040313174. Current best value is 0.11938686342170945 with parameters: {'learning_rate': 0.3641297054734397, 'feature_fraction': 0.9206735905800941, 'bagging_fraction': 0.6671746434338517, 'min_data_in_leaf': 234, 'lambda_l1': 8.321062060501192e-06, 'lambda_l2': 0.00040360396366852176, 'max_bin': 54, 'num_leaves': 475}.\n",
      "[I 2019-07-21 22:47:23,856] Finished trial#145 resulted in value: 0.12014608653802353. Current best value is 0.11938686342170945 with parameters: {'learning_rate': 0.3641297054734397, 'feature_fraction': 0.9206735905800941, 'bagging_fraction': 0.6671746434338517, 'min_data_in_leaf': 234, 'lambda_l1': 8.321062060501192e-06, 'lambda_l2': 0.00040360396366852176, 'max_bin': 54, 'num_leaves': 475}.\n",
      "[I 2019-07-21 22:47:32,314] Finished trial#146 resulted in value: 0.12019819177557353. Current best value is 0.11938686342170945 with parameters: {'learning_rate': 0.3641297054734397, 'feature_fraction': 0.9206735905800941, 'bagging_fraction': 0.6671746434338517, 'min_data_in_leaf': 234, 'lambda_l1': 8.321062060501192e-06, 'lambda_l2': 0.00040360396366852176, 'max_bin': 54, 'num_leaves': 475}.\n",
      "[I 2019-07-21 22:47:41,081] Finished trial#147 resulted in value: 0.1211106492026244. Current best value is 0.11938686342170945 with parameters: {'learning_rate': 0.3641297054734397, 'feature_fraction': 0.9206735905800941, 'bagging_fraction': 0.6671746434338517, 'min_data_in_leaf': 234, 'lambda_l1': 8.321062060501192e-06, 'lambda_l2': 0.00040360396366852176, 'max_bin': 54, 'num_leaves': 475}.\n",
      "[I 2019-07-21 22:47:50,489] Finished trial#148 resulted in value: 0.12095586844495584. Current best value is 0.11938686342170945 with parameters: {'learning_rate': 0.3641297054734397, 'feature_fraction': 0.9206735905800941, 'bagging_fraction': 0.6671746434338517, 'min_data_in_leaf': 234, 'lambda_l1': 8.321062060501192e-06, 'lambda_l2': 0.00040360396366852176, 'max_bin': 54, 'num_leaves': 475}.\n",
      "[I 2019-07-21 22:47:59,346] Finished trial#149 resulted in value: 0.12189564012636633. Current best value is 0.11938686342170945 with parameters: {'learning_rate': 0.3641297054734397, 'feature_fraction': 0.9206735905800941, 'bagging_fraction': 0.6671746434338517, 'min_data_in_leaf': 234, 'lambda_l1': 8.321062060501192e-06, 'lambda_l2': 0.00040360396366852176, 'max_bin': 54, 'num_leaves': 475}.\n",
      "[I 2019-07-21 22:48:07,582] Finished trial#150 resulted in value: 0.12117741794185619. Current best value is 0.11938686342170945 with parameters: {'learning_rate': 0.3641297054734397, 'feature_fraction': 0.9206735905800941, 'bagging_fraction': 0.6671746434338517, 'min_data_in_leaf': 234, 'lambda_l1': 8.321062060501192e-06, 'lambda_l2': 0.00040360396366852176, 'max_bin': 54, 'num_leaves': 475}.\n",
      "[I 2019-07-21 22:48:15,767] Finished trial#151 resulted in value: 0.12224580863498527. Current best value is 0.11938686342170945 with parameters: {'learning_rate': 0.3641297054734397, 'feature_fraction': 0.9206735905800941, 'bagging_fraction': 0.6671746434338517, 'min_data_in_leaf': 234, 'lambda_l1': 8.321062060501192e-06, 'lambda_l2': 0.00040360396366852176, 'max_bin': 54, 'num_leaves': 475}.\n",
      "[I 2019-07-21 22:48:24,587] Finished trial#152 resulted in value: 0.11961680895276125. Current best value is 0.11938686342170945 with parameters: {'learning_rate': 0.3641297054734397, 'feature_fraction': 0.9206735905800941, 'bagging_fraction': 0.6671746434338517, 'min_data_in_leaf': 234, 'lambda_l1': 8.321062060501192e-06, 'lambda_l2': 0.00040360396366852176, 'max_bin': 54, 'num_leaves': 475}.\n",
      "[I 2019-07-21 22:48:33,108] Finished trial#153 resulted in value: 0.1274025729342789. Current best value is 0.11938686342170945 with parameters: {'learning_rate': 0.3641297054734397, 'feature_fraction': 0.9206735905800941, 'bagging_fraction': 0.6671746434338517, 'min_data_in_leaf': 234, 'lambda_l1': 8.321062060501192e-06, 'lambda_l2': 0.00040360396366852176, 'max_bin': 54, 'num_leaves': 475}.\n",
      "[I 2019-07-21 22:48:40,746] Finished trial#154 resulted in value: 0.12337266518881909. Current best value is 0.11938686342170945 with parameters: {'learning_rate': 0.3641297054734397, 'feature_fraction': 0.9206735905800941, 'bagging_fraction': 0.6671746434338517, 'min_data_in_leaf': 234, 'lambda_l1': 8.321062060501192e-06, 'lambda_l2': 0.00040360396366852176, 'max_bin': 54, 'num_leaves': 475}.\n",
      "[I 2019-07-21 22:48:49,491] Finished trial#155 resulted in value: 0.12031581492152177. Current best value is 0.11938686342170945 with parameters: {'learning_rate': 0.3641297054734397, 'feature_fraction': 0.9206735905800941, 'bagging_fraction': 0.6671746434338517, 'min_data_in_leaf': 234, 'lambda_l1': 8.321062060501192e-06, 'lambda_l2': 0.00040360396366852176, 'max_bin': 54, 'num_leaves': 475}.\n",
      "[I 2019-07-21 22:48:58,151] Finished trial#156 resulted in value: 0.12866784962152145. Current best value is 0.11938686342170945 with parameters: {'learning_rate': 0.3641297054734397, 'feature_fraction': 0.9206735905800941, 'bagging_fraction': 0.6671746434338517, 'min_data_in_leaf': 234, 'lambda_l1': 8.321062060501192e-06, 'lambda_l2': 0.00040360396366852176, 'max_bin': 54, 'num_leaves': 475}.\n",
      "[I 2019-07-21 22:49:07,036] Finished trial#157 resulted in value: 0.12042593317462699. Current best value is 0.11938686342170945 with parameters: {'learning_rate': 0.3641297054734397, 'feature_fraction': 0.9206735905800941, 'bagging_fraction': 0.6671746434338517, 'min_data_in_leaf': 234, 'lambda_l1': 8.321062060501192e-06, 'lambda_l2': 0.00040360396366852176, 'max_bin': 54, 'num_leaves': 475}.\n",
      "[I 2019-07-21 22:49:16,668] Finished trial#158 resulted in value: 0.12311440202541697. Current best value is 0.11938686342170945 with parameters: {'learning_rate': 0.3641297054734397, 'feature_fraction': 0.9206735905800941, 'bagging_fraction': 0.6671746434338517, 'min_data_in_leaf': 234, 'lambda_l1': 8.321062060501192e-06, 'lambda_l2': 0.00040360396366852176, 'max_bin': 54, 'num_leaves': 475}.\n",
      "[I 2019-07-21 22:49:26,391] Finished trial#159 resulted in value: 0.12371610834485187. Current best value is 0.11938686342170945 with parameters: {'learning_rate': 0.3641297054734397, 'feature_fraction': 0.9206735905800941, 'bagging_fraction': 0.6671746434338517, 'min_data_in_leaf': 234, 'lambda_l1': 8.321062060501192e-06, 'lambda_l2': 0.00040360396366852176, 'max_bin': 54, 'num_leaves': 475}.\n",
      "[I 2019-07-21 22:49:35,203] Finished trial#160 resulted in value: 0.12902704856309072. Current best value is 0.11938686342170945 with parameters: {'learning_rate': 0.3641297054734397, 'feature_fraction': 0.9206735905800941, 'bagging_fraction': 0.6671746434338517, 'min_data_in_leaf': 234, 'lambda_l1': 8.321062060501192e-06, 'lambda_l2': 0.00040360396366852176, 'max_bin': 54, 'num_leaves': 475}.\n",
      "[I 2019-07-21 22:49:43,151] Finished trial#161 resulted in value: 0.1295714163965925. Current best value is 0.11938686342170945 with parameters: {'learning_rate': 0.3641297054734397, 'feature_fraction': 0.9206735905800941, 'bagging_fraction': 0.6671746434338517, 'min_data_in_leaf': 234, 'lambda_l1': 8.321062060501192e-06, 'lambda_l2': 0.00040360396366852176, 'max_bin': 54, 'num_leaves': 475}.\n"
     ]
    },
    {
     "name": "stderr",
     "output_type": "stream",
     "text": [
      "[I 2019-07-21 22:49:51,112] Finished trial#162 resulted in value: 0.12456255576915279. Current best value is 0.11938686342170945 with parameters: {'learning_rate': 0.3641297054734397, 'feature_fraction': 0.9206735905800941, 'bagging_fraction': 0.6671746434338517, 'min_data_in_leaf': 234, 'lambda_l1': 8.321062060501192e-06, 'lambda_l2': 0.00040360396366852176, 'max_bin': 54, 'num_leaves': 475}.\n",
      "[I 2019-07-21 22:50:00,214] Finished trial#163 resulted in value: 0.11951223183039042. Current best value is 0.11938686342170945 with parameters: {'learning_rate': 0.3641297054734397, 'feature_fraction': 0.9206735905800941, 'bagging_fraction': 0.6671746434338517, 'min_data_in_leaf': 234, 'lambda_l1': 8.321062060501192e-06, 'lambda_l2': 0.00040360396366852176, 'max_bin': 54, 'num_leaves': 475}.\n",
      "[I 2019-07-21 22:50:07,257] Finished trial#164 resulted in value: 0.12442250305114902. Current best value is 0.11938686342170945 with parameters: {'learning_rate': 0.3641297054734397, 'feature_fraction': 0.9206735905800941, 'bagging_fraction': 0.6671746434338517, 'min_data_in_leaf': 234, 'lambda_l1': 8.321062060501192e-06, 'lambda_l2': 0.00040360396366852176, 'max_bin': 54, 'num_leaves': 475}.\n",
      "[I 2019-07-21 22:50:15,217] Finished trial#165 resulted in value: 0.1243659600129993. Current best value is 0.11938686342170945 with parameters: {'learning_rate': 0.3641297054734397, 'feature_fraction': 0.9206735905800941, 'bagging_fraction': 0.6671746434338517, 'min_data_in_leaf': 234, 'lambda_l1': 8.321062060501192e-06, 'lambda_l2': 0.00040360396366852176, 'max_bin': 54, 'num_leaves': 475}.\n",
      "[I 2019-07-21 22:50:24,112] Finished trial#166 resulted in value: 0.12012772428173749. Current best value is 0.11938686342170945 with parameters: {'learning_rate': 0.3641297054734397, 'feature_fraction': 0.9206735905800941, 'bagging_fraction': 0.6671746434338517, 'min_data_in_leaf': 234, 'lambda_l1': 8.321062060501192e-06, 'lambda_l2': 0.00040360396366852176, 'max_bin': 54, 'num_leaves': 475}.\n",
      "[I 2019-07-21 22:50:31,623] Finished trial#167 resulted in value: 0.12406110435062863. Current best value is 0.11938686342170945 with parameters: {'learning_rate': 0.3641297054734397, 'feature_fraction': 0.9206735905800941, 'bagging_fraction': 0.6671746434338517, 'min_data_in_leaf': 234, 'lambda_l1': 8.321062060501192e-06, 'lambda_l2': 0.00040360396366852176, 'max_bin': 54, 'num_leaves': 475}.\n",
      "[I 2019-07-21 22:50:40,067] Finished trial#168 resulted in value: 0.12241533723464464. Current best value is 0.11938686342170945 with parameters: {'learning_rate': 0.3641297054734397, 'feature_fraction': 0.9206735905800941, 'bagging_fraction': 0.6671746434338517, 'min_data_in_leaf': 234, 'lambda_l1': 8.321062060501192e-06, 'lambda_l2': 0.00040360396366852176, 'max_bin': 54, 'num_leaves': 475}.\n",
      "[I 2019-07-21 22:50:47,723] Finished trial#169 resulted in value: 0.12501884624203505. Current best value is 0.11938686342170945 with parameters: {'learning_rate': 0.3641297054734397, 'feature_fraction': 0.9206735905800941, 'bagging_fraction': 0.6671746434338517, 'min_data_in_leaf': 234, 'lambda_l1': 8.321062060501192e-06, 'lambda_l2': 0.00040360396366852176, 'max_bin': 54, 'num_leaves': 475}.\n",
      "[I 2019-07-21 22:50:54,593] Finished trial#170 resulted in value: 0.12543541322403104. Current best value is 0.11938686342170945 with parameters: {'learning_rate': 0.3641297054734397, 'feature_fraction': 0.9206735905800941, 'bagging_fraction': 0.6671746434338517, 'min_data_in_leaf': 234, 'lambda_l1': 8.321062060501192e-06, 'lambda_l2': 0.00040360396366852176, 'max_bin': 54, 'num_leaves': 475}.\n",
      "[I 2019-07-21 22:51:03,669] Finished trial#171 resulted in value: 0.1209679815537847. Current best value is 0.11938686342170945 with parameters: {'learning_rate': 0.3641297054734397, 'feature_fraction': 0.9206735905800941, 'bagging_fraction': 0.6671746434338517, 'min_data_in_leaf': 234, 'lambda_l1': 8.321062060501192e-06, 'lambda_l2': 0.00040360396366852176, 'max_bin': 54, 'num_leaves': 475}.\n",
      "[I 2019-07-21 22:51:11,387] Finished trial#172 resulted in value: 0.1330944004620514. Current best value is 0.11938686342170945 with parameters: {'learning_rate': 0.3641297054734397, 'feature_fraction': 0.9206735905800941, 'bagging_fraction': 0.6671746434338517, 'min_data_in_leaf': 234, 'lambda_l1': 8.321062060501192e-06, 'lambda_l2': 0.00040360396366852176, 'max_bin': 54, 'num_leaves': 475}.\n",
      "[I 2019-07-21 22:51:20,094] Finished trial#173 resulted in value: 0.12025636031945956. Current best value is 0.11938686342170945 with parameters: {'learning_rate': 0.3641297054734397, 'feature_fraction': 0.9206735905800941, 'bagging_fraction': 0.6671746434338517, 'min_data_in_leaf': 234, 'lambda_l1': 8.321062060501192e-06, 'lambda_l2': 0.00040360396366852176, 'max_bin': 54, 'num_leaves': 475}.\n",
      "[I 2019-07-21 22:51:26,090] Finished trial#174 resulted in value: 0.14032568143434523. Current best value is 0.11938686342170945 with parameters: {'learning_rate': 0.3641297054734397, 'feature_fraction': 0.9206735905800941, 'bagging_fraction': 0.6671746434338517, 'min_data_in_leaf': 234, 'lambda_l1': 8.321062060501192e-06, 'lambda_l2': 0.00040360396366852176, 'max_bin': 54, 'num_leaves': 475}.\n",
      "[I 2019-07-21 22:51:34,277] Finished trial#175 resulted in value: 0.12298114501343367. Current best value is 0.11938686342170945 with parameters: {'learning_rate': 0.3641297054734397, 'feature_fraction': 0.9206735905800941, 'bagging_fraction': 0.6671746434338517, 'min_data_in_leaf': 234, 'lambda_l1': 8.321062060501192e-06, 'lambda_l2': 0.00040360396366852176, 'max_bin': 54, 'num_leaves': 475}.\n",
      "[I 2019-07-21 22:51:42,050] Finished trial#176 resulted in value: 0.12206688904701271. Current best value is 0.11938686342170945 with parameters: {'learning_rate': 0.3641297054734397, 'feature_fraction': 0.9206735905800941, 'bagging_fraction': 0.6671746434338517, 'min_data_in_leaf': 234, 'lambda_l1': 8.321062060501192e-06, 'lambda_l2': 0.00040360396366852176, 'max_bin': 54, 'num_leaves': 475}.\n",
      "[I 2019-07-21 22:51:51,276] Finished trial#177 resulted in value: 0.11874693685908375. Current best value is 0.11874693685908375 with parameters: {'learning_rate': 0.3901303601603288, 'feature_fraction': 0.9749846228880419, 'bagging_fraction': 0.6926257454153049, 'min_data_in_leaf': 201, 'lambda_l1': 4.678724334685024e-06, 'lambda_l2': 6.180574870766062e-06, 'max_bin': 46, 'num_leaves': 398}.\n",
      "[I 2019-07-21 22:52:01,681] Finished trial#178 resulted in value: 0.13012743429602885. Current best value is 0.11874693685908375 with parameters: {'learning_rate': 0.3901303601603288, 'feature_fraction': 0.9749846228880419, 'bagging_fraction': 0.6926257454153049, 'min_data_in_leaf': 201, 'lambda_l1': 4.678724334685024e-06, 'lambda_l2': 6.180574870766062e-06, 'max_bin': 46, 'num_leaves': 398}.\n",
      "[I 2019-07-21 22:52:09,135] Finished trial#179 resulted in value: 0.12556501921186433. Current best value is 0.11874693685908375 with parameters: {'learning_rate': 0.3901303601603288, 'feature_fraction': 0.9749846228880419, 'bagging_fraction': 0.6926257454153049, 'min_data_in_leaf': 201, 'lambda_l1': 4.678724334685024e-06, 'lambda_l2': 6.180574870766062e-06, 'max_bin': 46, 'num_leaves': 398}.\n",
      "[I 2019-07-21 22:52:18,856] Finished trial#180 resulted in value: 0.11956222696462089. Current best value is 0.11874693685908375 with parameters: {'learning_rate': 0.3901303601603288, 'feature_fraction': 0.9749846228880419, 'bagging_fraction': 0.6926257454153049, 'min_data_in_leaf': 201, 'lambda_l1': 4.678724334685024e-06, 'lambda_l2': 6.180574870766062e-06, 'max_bin': 46, 'num_leaves': 398}.\n",
      "[I 2019-07-21 22:52:27,204] Finished trial#181 resulted in value: 0.1234606324254155. Current best value is 0.11874693685908375 with parameters: {'learning_rate': 0.3901303601603288, 'feature_fraction': 0.9749846228880419, 'bagging_fraction': 0.6926257454153049, 'min_data_in_leaf': 201, 'lambda_l1': 4.678724334685024e-06, 'lambda_l2': 6.180574870766062e-06, 'max_bin': 46, 'num_leaves': 398}.\n"
     ]
    },
    {
     "name": "stderr",
     "output_type": "stream",
     "text": [
      "[I 2019-07-21 22:52:36,792] Finished trial#182 resulted in value: 0.11963388530555559. Current best value is 0.11874693685908375 with parameters: {'learning_rate': 0.3901303601603288, 'feature_fraction': 0.9749846228880419, 'bagging_fraction': 0.6926257454153049, 'min_data_in_leaf': 201, 'lambda_l1': 4.678724334685024e-06, 'lambda_l2': 6.180574870766062e-06, 'max_bin': 46, 'num_leaves': 398}.\n",
      "[I 2019-07-21 22:52:44,055] Finished trial#183 resulted in value: 0.1265013869675155. Current best value is 0.11874693685908375 with parameters: {'learning_rate': 0.3901303601603288, 'feature_fraction': 0.9749846228880419, 'bagging_fraction': 0.6926257454153049, 'min_data_in_leaf': 201, 'lambda_l1': 4.678724334685024e-06, 'lambda_l2': 6.180574870766062e-06, 'max_bin': 46, 'num_leaves': 398}.\n",
      "[I 2019-07-21 22:52:52,024] Finished trial#184 resulted in value: 0.12412058920819244. Current best value is 0.11874693685908375 with parameters: {'learning_rate': 0.3901303601603288, 'feature_fraction': 0.9749846228880419, 'bagging_fraction': 0.6926257454153049, 'min_data_in_leaf': 201, 'lambda_l1': 4.678724334685024e-06, 'lambda_l2': 6.180574870766062e-06, 'max_bin': 46, 'num_leaves': 398}.\n",
      "[I 2019-07-21 22:52:59,890] Finished trial#185 resulted in value: 0.13419781572474052. Current best value is 0.11874693685908375 with parameters: {'learning_rate': 0.3901303601603288, 'feature_fraction': 0.9749846228880419, 'bagging_fraction': 0.6926257454153049, 'min_data_in_leaf': 201, 'lambda_l1': 4.678724334685024e-06, 'lambda_l2': 6.180574870766062e-06, 'max_bin': 46, 'num_leaves': 398}.\n",
      "[I 2019-07-21 22:53:06,170] Finished trial#186 resulted in value: 0.13201224662813044. Current best value is 0.11874693685908375 with parameters: {'learning_rate': 0.3901303601603288, 'feature_fraction': 0.9749846228880419, 'bagging_fraction': 0.6926257454153049, 'min_data_in_leaf': 201, 'lambda_l1': 4.678724334685024e-06, 'lambda_l2': 6.180574870766062e-06, 'max_bin': 46, 'num_leaves': 398}.\n",
      "[I 2019-07-21 22:53:14,805] Finished trial#187 resulted in value: 0.12220267156042461. Current best value is 0.11874693685908375 with parameters: {'learning_rate': 0.3901303601603288, 'feature_fraction': 0.9749846228880419, 'bagging_fraction': 0.6926257454153049, 'min_data_in_leaf': 201, 'lambda_l1': 4.678724334685024e-06, 'lambda_l2': 6.180574870766062e-06, 'max_bin': 46, 'num_leaves': 398}.\n",
      "[I 2019-07-21 22:53:22,235] Finished trial#188 resulted in value: 0.1252021056141695. Current best value is 0.11874693685908375 with parameters: {'learning_rate': 0.3901303601603288, 'feature_fraction': 0.9749846228880419, 'bagging_fraction': 0.6926257454153049, 'min_data_in_leaf': 201, 'lambda_l1': 4.678724334685024e-06, 'lambda_l2': 6.180574870766062e-06, 'max_bin': 46, 'num_leaves': 398}.\n",
      "[I 2019-07-21 22:53:31,097] Finished trial#189 resulted in value: 0.12105340727010136. Current best value is 0.11874693685908375 with parameters: {'learning_rate': 0.3901303601603288, 'feature_fraction': 0.9749846228880419, 'bagging_fraction': 0.6926257454153049, 'min_data_in_leaf': 201, 'lambda_l1': 4.678724334685024e-06, 'lambda_l2': 6.180574870766062e-06, 'max_bin': 46, 'num_leaves': 398}.\n",
      "[I 2019-07-21 22:53:36,803] Finished trial#190 resulted in value: 0.1520954722936715. Current best value is 0.11874693685908375 with parameters: {'learning_rate': 0.3901303601603288, 'feature_fraction': 0.9749846228880419, 'bagging_fraction': 0.6926257454153049, 'min_data_in_leaf': 201, 'lambda_l1': 4.678724334685024e-06, 'lambda_l2': 6.180574870766062e-06, 'max_bin': 46, 'num_leaves': 398}.\n",
      "[I 2019-07-21 22:53:45,908] Finished trial#191 resulted in value: 0.13378272583395673. Current best value is 0.11874693685908375 with parameters: {'learning_rate': 0.3901303601603288, 'feature_fraction': 0.9749846228880419, 'bagging_fraction': 0.6926257454153049, 'min_data_in_leaf': 201, 'lambda_l1': 4.678724334685024e-06, 'lambda_l2': 6.180574870766062e-06, 'max_bin': 46, 'num_leaves': 398}.\n",
      "[I 2019-07-21 22:53:52,509] Finished trial#192 resulted in value: 0.14206993885651967. Current best value is 0.11874693685908375 with parameters: {'learning_rate': 0.3901303601603288, 'feature_fraction': 0.9749846228880419, 'bagging_fraction': 0.6926257454153049, 'min_data_in_leaf': 201, 'lambda_l1': 4.678724334685024e-06, 'lambda_l2': 6.180574870766062e-06, 'max_bin': 46, 'num_leaves': 398}.\n",
      "[I 2019-07-21 22:53:58,446] Finished trial#193 resulted in value: 0.12847152881013013. Current best value is 0.11874693685908375 with parameters: {'learning_rate': 0.3901303601603288, 'feature_fraction': 0.9749846228880419, 'bagging_fraction': 0.6926257454153049, 'min_data_in_leaf': 201, 'lambda_l1': 4.678724334685024e-06, 'lambda_l2': 6.180574870766062e-06, 'max_bin': 46, 'num_leaves': 398}.\n",
      "[I 2019-07-21 22:54:04,099] Finished trial#194 resulted in value: 0.13172328918398554. Current best value is 0.11874693685908375 with parameters: {'learning_rate': 0.3901303601603288, 'feature_fraction': 0.9749846228880419, 'bagging_fraction': 0.6926257454153049, 'min_data_in_leaf': 201, 'lambda_l1': 4.678724334685024e-06, 'lambda_l2': 6.180574870766062e-06, 'max_bin': 46, 'num_leaves': 398}.\n",
      "[I 2019-07-21 22:54:10,700] Finished trial#195 resulted in value: 0.1309656317259764. Current best value is 0.11874693685908375 with parameters: {'learning_rate': 0.3901303601603288, 'feature_fraction': 0.9749846228880419, 'bagging_fraction': 0.6926257454153049, 'min_data_in_leaf': 201, 'lambda_l1': 4.678724334685024e-06, 'lambda_l2': 6.180574870766062e-06, 'max_bin': 46, 'num_leaves': 398}.\n",
      "[I 2019-07-21 22:54:17,705] Finished trial#196 resulted in value: 0.13951032758615284. Current best value is 0.11874693685908375 with parameters: {'learning_rate': 0.3901303601603288, 'feature_fraction': 0.9749846228880419, 'bagging_fraction': 0.6926257454153049, 'min_data_in_leaf': 201, 'lambda_l1': 4.678724334685024e-06, 'lambda_l2': 6.180574870766062e-06, 'max_bin': 46, 'num_leaves': 398}.\n",
      "[I 2019-07-21 22:54:22,449] Finished trial#197 resulted in value: 0.13988879953423106. Current best value is 0.11874693685908375 with parameters: {'learning_rate': 0.3901303601603288, 'feature_fraction': 0.9749846228880419, 'bagging_fraction': 0.6926257454153049, 'min_data_in_leaf': 201, 'lambda_l1': 4.678724334685024e-06, 'lambda_l2': 6.180574870766062e-06, 'max_bin': 46, 'num_leaves': 398}.\n",
      "[I 2019-07-21 22:54:29,178] Finished trial#198 resulted in value: 0.12897570850466447. Current best value is 0.11874693685908375 with parameters: {'learning_rate': 0.3901303601603288, 'feature_fraction': 0.9749846228880419, 'bagging_fraction': 0.6926257454153049, 'min_data_in_leaf': 201, 'lambda_l1': 4.678724334685024e-06, 'lambda_l2': 6.180574870766062e-06, 'max_bin': 46, 'num_leaves': 398}.\n",
      "[I 2019-07-21 22:54:37,541] Finished trial#199 resulted in value: 0.1421685442925534. Current best value is 0.11874693685908375 with parameters: {'learning_rate': 0.3901303601603288, 'feature_fraction': 0.9749846228880419, 'bagging_fraction': 0.6926257454153049, 'min_data_in_leaf': 201, 'lambda_l1': 4.678724334685024e-06, 'lambda_l2': 6.180574870766062e-06, 'max_bin': 46, 'num_leaves': 398}.\n"
     ]
    },
    {
     "name": "stdout",
     "output_type": "stream",
     "text": [
      "{'learning_rate': 0.3901303601603288, 'feature_fraction': 0.9749846228880419, 'bagging_fraction': 0.6926257454153049, 'min_data_in_leaf': 201, 'lambda_l1': 4.678724334685024e-06, 'lambda_l2': 6.180574870766062e-06, 'max_bin': 46, 'num_leaves': 398}\n"
     ]
    }
   ],
   "source": [
    "mytrial=[]\n",
    "df_his, df_feature_importances, df_valid_pred, df_test_pred = pd.DataFrame(), pd.DataFrame(),pd.DataFrame(),pd.DataFrame()\n",
    "for t in  df_train.type.unique().tolist()[-1:]:\n",
    "#     df_his_i, df_feature_importances_i, df_valid_pred_i, df_test_pred_i =  sk_process(df_train[df_train['type']==t].reset_index(drop=True), columns_list[t], f'modeling for {t}', df_test=df_test[df_test['type']==t].reset_index(drop=True), trial=mytrial, is_output_feature_importance=False, trial_level=1)\n",
    "    study = optuna.create_study()\n",
    "    study.optimize(objective, n_trials=200)\n",
    "    print(study.best_params)\n",
    "#     df_his = pd.concat([df_his, df_his_i], axis=0)\n",
    "#     df_feature_importances = pd.concat([df_feature_importances, df_feature_importances_i], axis=0)\n",
    "#     df_valid_pred = pd.concat([df_valid_pred, df_valid_pred_i], axis=0)\n",
    "#     df_test_pred = pd.concat([df_test_pred, df_test_pred_i], axis=0)\n",
    "\n",
    "# df_valid_pred = df_valid_pred.sort_values(by=['index']).reset_index(drop=True)\n",
    "# df_test_pred = df_test_pred.sort_values(by=['index']).reset_index(drop=True)"
   ]
  },
  {
   "cell_type": "code",
   "execution_count": null,
   "metadata": {},
   "outputs": [],
   "source": [
    "\"\"\"\n",
    "{'learning_rate': 0.4840263887834881, 'feature_fraction': 0.9264366442345999, 'bagging_fraction': 0.7870522973541787, 'min_data_in_leaf': 638, 'lambda_l1': 5.399937304152897, 'lambda_l2': 33.21329780071299, 'max_bin': 66, 'num_leaves': 511}\n",
    "{'learning_rate': 0.47664150293254715, 'feature_fraction': 0.9345515622882533, 'bagging_fraction': 0.9471105845283242, 'min_data_in_leaf': 325, 'lambda_l1': 0.027167889983129943, 'lambda_l2': 65.04871529054178, 'max_bin': 90, 'num_leaves': 492}\n",
    "{'learning_rate': 0.4788084435748641, 'feature_fraction': 0.9361895362210686, 'bagging_fraction': 0.7545999456089862, 'min_data_in_leaf': 200, 'lambda_l1': 8.081922325265403e-06, 'lambda_l2': 0.96398554317009, 'max_bin': 73, 'num_leaves': 495}\n",
    "{'learning_rate': 0.34872110827299774, 'feature_fraction': 0.9610608076419638, 'bagging_fraction': 0.6262039284042835, 'min_data_in_leaf': 200, 'lambda_l1': 1.0238214451995545e-05, 'lambda_l2': 6.373180568952514, 'max_bin': 82, 'num_leaves': 427}\n",
    "{'learning_rate': 0.45605588487213117, 'feature_fraction': 0.9841034261836108, 'bagging_fraction': 0.7063253284308669, 'min_data_in_leaf': 394, 'lambda_l1': 4.898389805875972, 'lambda_l2': 79.39455452813532, 'max_bin': 82, 'num_leaves': 502}\n",
    "{'learning_rate': 0.437459170449037, 'feature_fraction': 0.9829680390216893, 'bagging_fraction': 0.8960507398136508, 'min_data_in_leaf': 310, 'lambda_l1': 9.880462565093161e-06, 'lambda_l2': 5.3187569224419286e-05, 'max_bin': 95, 'num_leaves': 503}\n",
    "{'learning_rate': 0.3901303601603288, 'feature_fraction': 0.9749846228880419, 'bagging_fraction': 0.6926257454153049, 'min_data_in_leaf': 201, 'lambda_l1': 4.678724334685024e-06, 'lambda_l2': 6.180574870766062e-06, 'max_bin': 46, 'num_leaves': 398}\n",
    "\"\"\""
   ]
  },
  {
   "cell_type": "code",
   "execution_count": 15,
   "metadata": {},
   "outputs": [],
   "source": [
    "param_model_init_list = [\n",
    "    {'learning_rate': 0.4840263887834881, 'feature_fraction': 0.9264366442345999, 'bagging_fraction': 0.7870522973541787, 'min_data_in_leaf': 638, 'lambda_l1': 5.399937304152897, 'lambda_l2': 33.21329780071299, 'max_bin': 66, 'num_leaves': 511},\n",
    "{'learning_rate': 0.47664150293254715, 'feature_fraction': 0.9345515622882533, 'bagging_fraction': 0.9471105845283242, 'min_data_in_leaf': 325, 'lambda_l1': 0.027167889983129943, 'lambda_l2': 65.04871529054178, 'max_bin': 90, 'num_leaves': 492},\n",
    "{'learning_rate': 0.4788084435748641, 'feature_fraction': 0.9361895362210686, 'bagging_fraction': 0.7545999456089862, 'min_data_in_leaf': 200, 'lambda_l1': 8.081922325265403e-06, 'lambda_l2': 0.96398554317009, 'max_bin': 73, 'num_leaves': 495},\n",
    "{'learning_rate': 0.34872110827299774, 'feature_fraction': 0.9610608076419638, 'bagging_fraction': 0.6262039284042835, 'min_data_in_leaf': 200, 'lambda_l1': 1.0238214451995545e-05, 'lambda_l2': 6.373180568952514, 'max_bin': 82, 'num_leaves': 427},\n",
    "{'learning_rate': 0.45605588487213117, 'feature_fraction': 0.9841034261836108, 'bagging_fraction': 0.7063253284308669, 'min_data_in_leaf': 394, 'lambda_l1': 4.898389805875972, 'lambda_l2': 79.39455452813532, 'max_bin': 82, 'num_leaves': 502},\n",
    "{'learning_rate': 0.437459170449037, 'feature_fraction': 0.9829680390216893, 'bagging_fraction': 0.8960507398136508, 'min_data_in_leaf': 310, 'lambda_l1': 9.880462565093161e-06, 'lambda_l2': 5.3187569224419286e-05, 'max_bin': 95, 'num_leaves': 503},\n",
    "{'learning_rate': 0.3901303601603288, 'feature_fraction': 0.9749846228880419, 'bagging_fraction': 0.6926257454153049, 'min_data_in_leaf': 201, 'lambda_l1': 4.678724334685024e-06, 'lambda_l2': 6.180574870766062e-06, 'max_bin': 46, 'num_leaves': 398}\n",
    "]"
   ]
  },
  {
   "cell_type": "code",
   "execution_count": 16,
   "metadata": {},
   "outputs": [],
   "source": [
    "params_list=[]\n",
    "for param, model_init in zip(columns_list, param_model_init_list):\n",
    "    param['model']['init'] = model_init\n",
    "    params_list.append(param)"
   ]
  },
  {
   "cell_type": "code",
   "execution_count": null,
   "metadata": {},
   "outputs": [],
   "source": [
    "mytrial=[]\n",
    "df_his, df_feature_importances, df_valid_pred, df_test_pred = pd.DataFrame(), pd.DataFrame(),pd.DataFrame(),pd.DataFrame()\n",
    "for t in  df_train.type.unique().tolist():\n",
    "    df_his_i, df_feature_importances_i, df_valid_pred_i, df_test_pred_i =  sk_process(df_train[df_train['type']==t].reset_index(drop=True), params_list[t], f'modeling for {t}', df_test=df_test[df_test['type']==t].reset_index(drop=True), trial=mytrial, is_output_feature_importance=False, trial_level=1)\n",
    "    df_his = pd.concat([df_his, df_his_i], axis=0)\n",
    "    df_feature_importances = pd.concat([df_feature_importances, df_feature_importances_i], axis=0)\n",
    "    df_valid_pred = pd.concat([df_valid_pred, df_valid_pred_i], axis=0)\n",
    "    df_test_pred = pd.concat([df_test_pred, df_test_pred_i], axis=0)\n",
    "\n",
    "df_valid_pred = df_valid_pred.sort_values(by=['index']).reset_index(drop=True)\n",
    "df_test_pred = df_test_pred.sort_values(by=['index']).reset_index(drop=True)"
   ]
  },
  {
   "cell_type": "code",
   "execution_count": null,
   "metadata": {},
   "outputs": [],
   "source": [
    "df_trial = pd.DataFrame(mytrial)\n",
    "df_trial[['datetime', 'message', 'nfeatures', 'train_metric_mean', 'val_metric_mean', 'trn_val_metric_diff', 'message']]"
   ]
  },
  {
   "cell_type": "code",
   "execution_count": null,
   "metadata": {},
   "outputs": [],
   "source": [
    "print(mean_absolute_error(df_valid_pred.sort_values(by=['index']).reset_index(drop=True).predict.values, df_train.reset_index(drop=True).y.values))\n",
    "for t in df_train.type.unique().tolist():\n",
    "    index = df_train[df_train['type']==t]['index'].values\n",
    "    print(t, mean_absolute_error(df_valid_pred[df_valid_pred['index'].isin(index)].sort_values(by=['index']).reset_index(drop=True).predict.values, df_train[df_train['index'].isin(index)].reset_index(drop=True).y.values))"
   ]
  },
  {
   "cell_type": "code",
   "execution_count": 37,
   "metadata": {},
   "outputs": [
    {
     "data": {
      "text/html": [
       "<div>\n",
       "<style scoped>\n",
       "    .dataframe tbody tr th:only-of-type {\n",
       "        vertical-align: middle;\n",
       "    }\n",
       "\n",
       "    .dataframe tbody tr th {\n",
       "        vertical-align: top;\n",
       "    }\n",
       "\n",
       "    .dataframe thead th {\n",
       "        text-align: right;\n",
       "    }\n",
       "</style>\n",
       "<table border=\"1\" class=\"dataframe\">\n",
       "  <thead>\n",
       "    <tr style=\"text-align: right;\">\n",
       "      <th></th>\n",
       "      <th>index</th>\n",
       "      <th>0</th>\n",
       "      <th>1</th>\n",
       "      <th>2</th>\n",
       "      <th>3</th>\n",
       "      <th>4</th>\n",
       "    </tr>\n",
       "  </thead>\n",
       "  <tbody>\n",
       "    <tr>\n",
       "      <th>2505537</th>\n",
       "      <td>7163684</td>\n",
       "      <td>0.325547</td>\n",
       "      <td>0.396931</td>\n",
       "      <td>0.603638</td>\n",
       "      <td>0.624082</td>\n",
       "      <td>0.754078</td>\n",
       "    </tr>\n",
       "    <tr>\n",
       "      <th>2505538</th>\n",
       "      <td>7163685</td>\n",
       "      <td>3.296284</td>\n",
       "      <td>3.946417</td>\n",
       "      <td>3.698317</td>\n",
       "      <td>2.891865</td>\n",
       "      <td>3.334881</td>\n",
       "    </tr>\n",
       "    <tr>\n",
       "      <th>2505539</th>\n",
       "      <td>7163686</td>\n",
       "      <td>2.460081</td>\n",
       "      <td>2.764959</td>\n",
       "      <td>2.995366</td>\n",
       "      <td>1.896396</td>\n",
       "      <td>2.637677</td>\n",
       "    </tr>\n",
       "    <tr>\n",
       "      <th>2505540</th>\n",
       "      <td>7163687</td>\n",
       "      <td>4.851247</td>\n",
       "      <td>4.834557</td>\n",
       "      <td>4.938143</td>\n",
       "      <td>4.788908</td>\n",
       "      <td>4.589528</td>\n",
       "    </tr>\n",
       "    <tr>\n",
       "      <th>2505541</th>\n",
       "      <td>7163688</td>\n",
       "      <td>116.324707</td>\n",
       "      <td>115.820266</td>\n",
       "      <td>117.051927</td>\n",
       "      <td>116.287453</td>\n",
       "      <td>116.206033</td>\n",
       "    </tr>\n",
       "  </tbody>\n",
       "</table>\n",
       "</div>"
      ],
      "text/plain": [
       "           index           0           1           2           3           4\n",
       "2505537  7163684    0.325547    0.396931    0.603638    0.624082    0.754078\n",
       "2505538  7163685    3.296284    3.946417    3.698317    2.891865    3.334881\n",
       "2505539  7163686    2.460081    2.764959    2.995366    1.896396    2.637677\n",
       "2505540  7163687    4.851247    4.834557    4.938143    4.788908    4.589528\n",
       "2505541  7163688  116.324707  115.820266  117.051927  116.287453  116.206033"
      ]
     },
     "execution_count": 37,
     "metadata": {},
     "output_type": "execute_result"
    }
   ],
   "source": [
    "df_test_pred.tail()"
   ]
  },
  {
   "cell_type": "code",
   "execution_count": 38,
   "metadata": {},
   "outputs": [],
   "source": [
    "idx=0.38\n",
    "# df_test_pred = df_trial.loc[idx]['df_test_pred']\n",
    "df_submit = pd.DataFrame()\n",
    "df_submit['scalar_coupling_constant'] = np.mean(df_test_pred.drop(columns=['index']).values, axis=1)\n",
    "df_submit['id'] = df_test_pred['index']\n",
    "df_submit.to_csv('../../data/submission/submission_lgbm_{}.csv'.format(idx), index=False)"
   ]
  },
  {
   "cell_type": "code",
   "execution_count": null,
   "metadata": {},
   "outputs": [],
   "source": []
  }
 ],
 "metadata": {
  "kernelspec": {
   "display_name": "Python 3",
   "language": "python",
   "name": "python3"
  },
  "language_info": {
   "codemirror_mode": {
    "name": "ipython",
    "version": 3
   },
   "file_extension": ".py",
   "mimetype": "text/x-python",
   "name": "python",
   "nbconvert_exporter": "python",
   "pygments_lexer": "ipython3",
   "version": "3.6.8"
  }
 },
 "nbformat": 4,
 "nbformat_minor": 2
}
