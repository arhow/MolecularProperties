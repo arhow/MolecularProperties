{
 "cells": [
  {
   "cell_type": "code",
   "execution_count": 1,
   "metadata": {},
   "outputs": [
    {
     "data": {
      "text/html": [
       "<style>\n",
       "   div#notebook-container    { width: 95%; }\n",
       "   div#menubar-container     { width: 65%; }\n",
       "   div#maintoolbar-container { width: 99%; }\n",
       "</style>\n"
      ],
      "text/plain": [
       "<IPython.core.display.HTML object>"
      ]
     },
     "metadata": {},
     "output_type": "display_data"
    }
   ],
   "source": [
    "%%HTML\n",
    "<style>\n",
    "   div#notebook-container    { width: 95%; }\n",
    "   div#menubar-container     { width: 65%; }\n",
    "   div#maintoolbar-container { width: 99%; }\n",
    "</style>"
   ]
  },
  {
   "cell_type": "code",
   "execution_count": 1,
   "metadata": {},
   "outputs": [],
   "source": [
    "import sys\n",
    "sys.path.append(\"../..\") # Adds higher directory to python modules path.\n",
    "from utilities import aggregate_feature_calculators\n",
    "from utilities import aggregate_feature_calculators_setting as aggcal\n",
    "from utilities.parallel import Parallel\n",
    "from utilities.dfdb import DFDB\n",
    "\n",
    "from utilities.process.pqueue import *\n",
    "from utilities.process.pnode import *\n",
    "from utilities.process.putilities import *"
   ]
  },
  {
   "cell_type": "code",
   "execution_count": 2,
   "metadata": {},
   "outputs": [],
   "source": [
    "import numpy as np\n",
    "import pandas as pd\n",
    "import os\n",
    "import time\n",
    "import datetime\n",
    "import json\n",
    "import copy\n",
    "import gc\n",
    "import warnings\n",
    "from tqdm import tqdm_notebook, tqdm\n",
    "\n",
    "import optuna\n",
    "\n",
    "import lightgbm as lgb\n",
    "import xgboost as xgb\n",
    "\n",
    "from catboost import CatBoostRegressor\n",
    "from sklearn.preprocessing import LabelEncoder\n",
    "from sklearn.model_selection import StratifiedKFold, KFold, RepeatedKFold,TimeSeriesSplit, GroupKFold\n",
    "from sklearn.model_selection import train_test_split\n",
    "from sklearn import metrics\n",
    "from sklearn import linear_model\n",
    "from sklearn.preprocessing import StandardScaler\n",
    "from sklearn.svm import NuSVR, SVR\n",
    "from sklearn.metrics import mean_absolute_error\n",
    "from sklearn import preprocessing\n",
    "\n",
    "import eli5\n",
    "from eli5.sklearn import PermutationImportance\n",
    "\n",
    "import networkx as nx\n",
    "\n",
    "import seaborn as sns\n",
    "import matplotlib.pyplot as plt\n",
    "%matplotlib inline"
   ]
  },
  {
   "cell_type": "code",
   "execution_count": 3,
   "metadata": {},
   "outputs": [
    {
     "data": {
      "text/plain": [
       "['test.csv',\n",
       " 'structures',\n",
       " 'magnetic_shielding_tensors.csv',\n",
       " 'mulliken_charges.csv',\n",
       " 'potential_energy.csv',\n",
       " 'scalar_coupling_contributions.csv',\n",
       " 'dipole_moments.csv',\n",
       " 'structures.csv',\n",
       " 'train.csv']"
      ]
     },
     "execution_count": 3,
     "metadata": {},
     "output_type": "execute_result"
    }
   ],
   "source": [
    "csv_file_folder =  '../../data/input'\n",
    "os.listdir(csv_file_folder)"
   ]
  },
  {
   "cell_type": "code",
   "execution_count": 4,
   "metadata": {},
   "outputs": [],
   "source": [
    "file_folder =  '../../data/feature'"
   ]
  },
  {
   "cell_type": "code",
   "execution_count": 5,
   "metadata": {},
   "outputs": [],
   "source": [
    "mytrial = []"
   ]
  },
  {
   "cell_type": "code",
   "execution_count": 6,
   "metadata": {},
   "outputs": [],
   "source": [
    "# param = {'columns': ['dist_N_0_y', 'adC1', 'dist_H_0_y', 'link0', 'tertiary_angle_1', 'inv_distP', 'dist_C_3_y', 'inv_distPE', 'dist_H_0_x', 'dist_to_type_std', 'cos_c1', 'inv_dist0R', 'adN1', 'dist_N_0_x', 'dist_C_2_y', 'dist_C_1_x', 'dist_to_type_mean', 'dist_C_3_x', 'cos_f1', 'dist_C_0_x', 'distance_c1', 'adC3', 'tertiary_atom_1', 'molecule_atom_index_1_dist_mean', 'cos_f0', 'tertiary_atom_2', 'dist_H_3_y', 'dist_C_2_x', 'tertiary_angle_0', 'max_distance_y', 'dist_O_0_x', 'coulomb_H.y', 'dist_H_2_y', 'molecule_atom_index_0_dist_min_diff', 'cos_c0', 'tertiary_angle_3', 'dist_H_3_x', 'tertiary_angle_2', 'dist_xyz', 'dist_to_type_0_mean', 'tertiary_distance_1', 'dist_C_1_y', 'yukawa_H.y', 'tertiary_distance_4', 'tertiary_distance_2', 'adC2', 'dist_to_type_1_mean', 'molecule_atom_index_0_dist_min_div', 'dist_C_0_y', 'yukawa_H.x', 'molecule_dist_min', 'dist_H_1_x', 'cos_c0_c1', 'dist_H_1_y', 'cos_f0_f1', 'dist_O_0_y', 'mean_molecule_atom_0_dist_xyz'], 'cv': {'cls': 'GroupKFold', 'init': {'n_splits': 5}}, 'scaler': {'cls': 'StandardScaler', 'init': {}, 'fit': {}}, 'model': {'cls': 'lgb.LGBMRegressor', 'init': {'learning_rate': 0.2833769330240482, 'feature_fraction': 0.8818248470204605, 'bagging_fraction': 0.8205197060908092, 'min_data_in_leaf': 202, 'lambda_l1': 0.017039063121824582, 'lambda_l2': 0.8318702431636841, 'max_bin': 100, 'num_leaves': 255, 'random_state': 3895, 'n_jobs': 16}, 'fit': {}}, 'metric': 'mean_absolute_error'}\n",
    "# df_train=pd.read_pickle(f'{file_folder}/df_train2.gzde', compression='gzip')\n",
    "# df_test=pd.read_pickle(f'{file_folder}/df_test2.gzde', compression='gzip')\n",
    "# df_train['y'] = df_train['scalar_coupling_constant']\n",
    "# df_train = df_train.sample(1000000)"
   ]
  },
  {
   "cell_type": "code",
   "execution_count": 9,
   "metadata": {},
   "outputs": [
    {
     "name": "stdout",
     "output_type": "stream",
     "text": [
      "[13:25:00] WARNING: /workspace/src/objective/regression_obj.cu:152: reg:linear is now deprecated in favor of reg:squarederror.\n",
      "[13:27:30] WARNING: /workspace/src/objective/regression_obj.cu:152: reg:linear is now deprecated in favor of reg:squarederror.\n",
      "[13:30:01] WARNING: /workspace/src/objective/regression_obj.cu:152: reg:linear is now deprecated in favor of reg:squarederror.\n",
      "[13:32:32] WARNING: /workspace/src/objective/regression_obj.cu:152: reg:linear is now deprecated in favor of reg:squarederror.\n",
      "[13:35:03] WARNING: /workspace/src/objective/regression_obj.cu:152: reg:linear is now deprecated in favor of reg:squarederror.\n",
      "29.29778171478189\n"
     ]
    },
    {
     "name": "stderr",
     "output_type": "stream",
     "text": [
      "[I 2019-07-31 13:37:32,769] Finished trial#0 resulted in value: 29.29778171478189. Current best value is 29.29778171478189 with parameters: {'max_depth': 8, 'max_bin': 59, 'eta': 0.02237224231319537, 'colsample_bytree': 0.7672109615448849, 'min_child_weight': 359, 'n_estimators': 374, 'subsample': 0.7280441790761728, 'reg_lambda': 0.5030495808348967, 'reg_alpha': 7.505677967443143e-05}.\n"
     ]
    },
    {
     "name": "stdout",
     "output_type": "stream",
     "text": [
      "[13:37:34] WARNING: /workspace/src/objective/regression_obj.cu:152: reg:linear is now deprecated in favor of reg:squarederror.\n",
      "[13:42:48] WARNING: /workspace/src/objective/regression_obj.cu:152: reg:linear is now deprecated in favor of reg:squarederror.\n",
      "[13:48:03] WARNING: /workspace/src/objective/regression_obj.cu:152: reg:linear is now deprecated in favor of reg:squarederror.\n",
      "[13:53:21] WARNING: /workspace/src/objective/regression_obj.cu:152: reg:linear is now deprecated in favor of reg:squarederror.\n",
      "[13:58:50] WARNING: /workspace/src/objective/regression_obj.cu:152: reg:linear is now deprecated in favor of reg:squarederror.\n",
      "29.314982451612014\n"
     ]
    },
    {
     "name": "stderr",
     "output_type": "stream",
     "text": [
      "[I 2019-07-31 14:04:05,722] Finished trial#1 resulted in value: 29.314982451612014. Current best value is 29.29778171478189 with parameters: {'max_depth': 8, 'max_bin': 59, 'eta': 0.02237224231319537, 'colsample_bytree': 0.7672109615448849, 'min_child_weight': 359, 'n_estimators': 374, 'subsample': 0.7280441790761728, 'reg_lambda': 0.5030495808348967, 'reg_alpha': 7.505677967443143e-05}.\n"
     ]
    },
    {
     "name": "stdout",
     "output_type": "stream",
     "text": [
      "[14:04:07] WARNING: /workspace/src/objective/regression_obj.cu:152: reg:linear is now deprecated in favor of reg:squarederror.\n",
      "[14:05:17] WARNING: /workspace/src/objective/regression_obj.cu:152: reg:linear is now deprecated in favor of reg:squarederror.\n",
      "[14:06:28] WARNING: /workspace/src/objective/regression_obj.cu:152: reg:linear is now deprecated in favor of reg:squarederror.\n",
      "[14:07:37] WARNING: /workspace/src/objective/regression_obj.cu:152: reg:linear is now deprecated in favor of reg:squarederror.\n",
      "[14:08:46] WARNING: /workspace/src/objective/regression_obj.cu:152: reg:linear is now deprecated in favor of reg:squarederror.\n",
      "29.264654188963224\n"
     ]
    },
    {
     "name": "stderr",
     "output_type": "stream",
     "text": [
      "[I 2019-07-31 14:09:54,072] Finished trial#2 resulted in value: 29.264654188963224. Current best value is 29.264654188963224 with parameters: {'max_depth': 7, 'max_bin': 21, 'eta': 0.31671234208429666, 'colsample_bytree': 0.6874638870431, 'min_child_weight': 359, 'n_estimators': 206, 'subsample': 0.9366418104210583, 'reg_lambda': 0.010216404809743073, 'reg_alpha': 3.713988603956125e-06}.\n"
     ]
    },
    {
     "name": "stdout",
     "output_type": "stream",
     "text": [
      "[14:09:56] WARNING: /workspace/src/objective/regression_obj.cu:152: reg:linear is now deprecated in favor of reg:squarederror.\n",
      "[14:11:18] WARNING: /workspace/src/objective/regression_obj.cu:152: reg:linear is now deprecated in favor of reg:squarederror.\n",
      "[14:12:41] WARNING: /workspace/src/objective/regression_obj.cu:152: reg:linear is now deprecated in favor of reg:squarederror.\n",
      "[14:14:01] WARNING: /workspace/src/objective/regression_obj.cu:152: reg:linear is now deprecated in favor of reg:squarederror.\n",
      "[14:15:24] WARNING: /workspace/src/objective/regression_obj.cu:152: reg:linear is now deprecated in favor of reg:squarederror.\n",
      "29.192762857174188\n"
     ]
    },
    {
     "name": "stderr",
     "output_type": "stream",
     "text": [
      "[I 2019-07-31 14:16:43,015] Finished trial#3 resulted in value: 29.192762857174188. Current best value is 29.192762857174188 with parameters: {'max_depth': 3, 'max_bin': 37, 'eta': 0.21388926790446733, 'colsample_bytree': 0.6622231821578398, 'min_child_weight': 282, 'n_estimators': 582, 'subsample': 0.873444622810542, 'reg_lambda': 0.00035369782630863207, 'reg_alpha': 0.3275671224354466}.\n"
     ]
    },
    {
     "name": "stdout",
     "output_type": "stream",
     "text": [
      "[14:16:44] WARNING: /workspace/src/objective/regression_obj.cu:152: reg:linear is now deprecated in favor of reg:squarederror.\n",
      "[14:18:46] WARNING: /workspace/src/objective/regression_obj.cu:152: reg:linear is now deprecated in favor of reg:squarederror.\n",
      "[14:20:47] WARNING: /workspace/src/objective/regression_obj.cu:152: reg:linear is now deprecated in favor of reg:squarederror.\n",
      "[14:22:46] WARNING: /workspace/src/objective/regression_obj.cu:152: reg:linear is now deprecated in favor of reg:squarederror.\n",
      "[14:24:45] WARNING: /workspace/src/objective/regression_obj.cu:152: reg:linear is now deprecated in favor of reg:squarederror.\n",
      "29.268531500809775\n"
     ]
    },
    {
     "name": "stderr",
     "output_type": "stream",
     "text": [
      "[I 2019-07-31 14:26:40,952] Finished trial#4 resulted in value: 29.268531500809775. Current best value is 29.192762857174188 with parameters: {'max_depth': 3, 'max_bin': 37, 'eta': 0.21388926790446733, 'colsample_bytree': 0.6622231821578398, 'min_child_weight': 282, 'n_estimators': 582, 'subsample': 0.873444622810542, 'reg_lambda': 0.00035369782630863207, 'reg_alpha': 0.3275671224354466}.\n"
     ]
    },
    {
     "name": "stdout",
     "output_type": "stream",
     "text": [
      "[14:26:42] WARNING: /workspace/src/objective/regression_obj.cu:152: reg:linear is now deprecated in favor of reg:squarederror.\n",
      "[14:31:32] WARNING: /workspace/src/objective/regression_obj.cu:152: reg:linear is now deprecated in favor of reg:squarederror.\n",
      "[14:36:25] WARNING: /workspace/src/objective/regression_obj.cu:152: reg:linear is now deprecated in favor of reg:squarederror.\n",
      "[14:41:14] WARNING: /workspace/src/objective/regression_obj.cu:152: reg:linear is now deprecated in favor of reg:squarederror.\n",
      "[14:46:02] WARNING: /workspace/src/objective/regression_obj.cu:152: reg:linear is now deprecated in favor of reg:squarederror.\n",
      "29.30879744603392\n"
     ]
    },
    {
     "name": "stderr",
     "output_type": "stream",
     "text": [
      "[I 2019-07-31 14:50:49,278] Finished trial#5 resulted in value: 29.30879744603392. Current best value is 29.192762857174188 with parameters: {'max_depth': 3, 'max_bin': 37, 'eta': 0.21388926790446733, 'colsample_bytree': 0.6622231821578398, 'min_child_weight': 282, 'n_estimators': 582, 'subsample': 0.873444622810542, 'reg_lambda': 0.00035369782630863207, 'reg_alpha': 0.3275671224354466}.\n"
     ]
    },
    {
     "name": "stdout",
     "output_type": "stream",
     "text": [
      "[14:50:51] WARNING: /workspace/src/objective/regression_obj.cu:152: reg:linear is now deprecated in favor of reg:squarederror.\n",
      "[14:52:52] WARNING: /workspace/src/objective/regression_obj.cu:152: reg:linear is now deprecated in favor of reg:squarederror.\n",
      "[14:54:55] WARNING: /workspace/src/objective/regression_obj.cu:152: reg:linear is now deprecated in favor of reg:squarederror.\n",
      "[14:56:55] WARNING: /workspace/src/objective/regression_obj.cu:152: reg:linear is now deprecated in favor of reg:squarederror.\n",
      "[14:58:56] WARNING: /workspace/src/objective/regression_obj.cu:152: reg:linear is now deprecated in favor of reg:squarederror.\n",
      "29.24090489552287\n"
     ]
    },
    {
     "name": "stderr",
     "output_type": "stream",
     "text": [
      "[I 2019-07-31 15:00:58,236] Finished trial#6 resulted in value: 29.24090489552287. Current best value is 29.192762857174188 with parameters: {'max_depth': 3, 'max_bin': 37, 'eta': 0.21388926790446733, 'colsample_bytree': 0.6622231821578398, 'min_child_weight': 282, 'n_estimators': 582, 'subsample': 0.873444622810542, 'reg_lambda': 0.00035369782630863207, 'reg_alpha': 0.3275671224354466}.\n"
     ]
    },
    {
     "name": "stdout",
     "output_type": "stream",
     "text": [
      "[15:01:00] WARNING: /workspace/src/objective/regression_obj.cu:152: reg:linear is now deprecated in favor of reg:squarederror.\n",
      "[15:03:19] WARNING: /workspace/src/objective/regression_obj.cu:152: reg:linear is now deprecated in favor of reg:squarederror.\n",
      "[15:05:42] WARNING: /workspace/src/objective/regression_obj.cu:152: reg:linear is now deprecated in favor of reg:squarederror.\n",
      "[15:08:01] WARNING: /workspace/src/objective/regression_obj.cu:152: reg:linear is now deprecated in favor of reg:squarederror.\n",
      "[15:10:21] WARNING: /workspace/src/objective/regression_obj.cu:152: reg:linear is now deprecated in favor of reg:squarederror.\n",
      "29.2693071168204\n"
     ]
    },
    {
     "name": "stderr",
     "output_type": "stream",
     "text": [
      "[I 2019-07-31 15:12:39,782] Finished trial#7 resulted in value: 29.2693071168204. Current best value is 29.192762857174188 with parameters: {'max_depth': 3, 'max_bin': 37, 'eta': 0.21388926790446733, 'colsample_bytree': 0.6622231821578398, 'min_child_weight': 282, 'n_estimators': 582, 'subsample': 0.873444622810542, 'reg_lambda': 0.00035369782630863207, 'reg_alpha': 0.3275671224354466}.\n"
     ]
    },
    {
     "name": "stdout",
     "output_type": "stream",
     "text": [
      "[15:12:41] WARNING: /workspace/src/objective/regression_obj.cu:152: reg:linear is now deprecated in favor of reg:squarederror.\n",
      "[15:13:55] WARNING: /workspace/src/objective/regression_obj.cu:152: reg:linear is now deprecated in favor of reg:squarederror.\n",
      "[15:15:08] WARNING: /workspace/src/objective/regression_obj.cu:152: reg:linear is now deprecated in favor of reg:squarederror.\n",
      "[15:16:22] WARNING: /workspace/src/objective/regression_obj.cu:152: reg:linear is now deprecated in favor of reg:squarederror.\n",
      "[15:17:37] WARNING: /workspace/src/objective/regression_obj.cu:152: reg:linear is now deprecated in favor of reg:squarederror.\n",
      "29.264514965219547\n"
     ]
    },
    {
     "name": "stderr",
     "output_type": "stream",
     "text": [
      "[I 2019-07-31 15:18:49,438] Finished trial#8 resulted in value: 29.264514965219547. Current best value is 29.192762857174188 with parameters: {'max_depth': 3, 'max_bin': 37, 'eta': 0.21388926790446733, 'colsample_bytree': 0.6622231821578398, 'min_child_weight': 282, 'n_estimators': 582, 'subsample': 0.873444622810542, 'reg_lambda': 0.00035369782630863207, 'reg_alpha': 0.3275671224354466}.\n"
     ]
    },
    {
     "name": "stdout",
     "output_type": "stream",
     "text": [
      "[15:18:51] WARNING: /workspace/src/objective/regression_obj.cu:152: reg:linear is now deprecated in favor of reg:squarederror.\n",
      "[15:23:02] WARNING: /workspace/src/objective/regression_obj.cu:152: reg:linear is now deprecated in favor of reg:squarederror.\n",
      "[15:27:21] WARNING: /workspace/src/objective/regression_obj.cu:152: reg:linear is now deprecated in favor of reg:squarederror.\n",
      "[15:31:38] WARNING: /workspace/src/objective/regression_obj.cu:152: reg:linear is now deprecated in favor of reg:squarederror.\n",
      "[15:35:50] WARNING: /workspace/src/objective/regression_obj.cu:152: reg:linear is now deprecated in favor of reg:squarederror.\n",
      "29.288602906886187\n"
     ]
    },
    {
     "name": "stderr",
     "output_type": "stream",
     "text": [
      "[I 2019-07-31 15:40:00,937] Finished trial#9 resulted in value: 29.288602906886187. Current best value is 29.192762857174188 with parameters: {'max_depth': 3, 'max_bin': 37, 'eta': 0.21388926790446733, 'colsample_bytree': 0.6622231821578398, 'min_child_weight': 282, 'n_estimators': 582, 'subsample': 0.873444622810542, 'reg_lambda': 0.00035369782630863207, 'reg_alpha': 0.3275671224354466}.\n"
     ]
    },
    {
     "name": "stdout",
     "output_type": "stream",
     "text": [
      "[15:40:02] WARNING: /workspace/src/objective/regression_obj.cu:152: reg:linear is now deprecated in favor of reg:squarederror.\n",
      "[15:41:19] WARNING: /workspace/src/objective/regression_obj.cu:152: reg:linear is now deprecated in favor of reg:squarederror.\n",
      "[15:42:35] WARNING: /workspace/src/objective/regression_obj.cu:152: reg:linear is now deprecated in favor of reg:squarederror.\n",
      "[15:43:51] WARNING: /workspace/src/objective/regression_obj.cu:152: reg:linear is now deprecated in favor of reg:squarederror.\n",
      "[15:45:06] WARNING: /workspace/src/objective/regression_obj.cu:152: reg:linear is now deprecated in favor of reg:squarederror.\n",
      "29.138234960579346\n"
     ]
    },
    {
     "name": "stderr",
     "output_type": "stream",
     "text": [
      "[I 2019-07-31 15:46:20,876] Finished trial#10 resulted in value: 29.138234960579346. Current best value is 29.138234960579346 with parameters: {'max_depth': 2, 'max_bin': 35, 'eta': 0.09364449838044589, 'colsample_bytree': 0.6092713277084735, 'min_child_weight': 205, 'n_estimators': 789, 'subsample': 0.8494956763990621, 'reg_lambda': 0.04912599898964909, 'reg_alpha': 0.648271000395961}.\n"
     ]
    },
    {
     "name": "stdout",
     "output_type": "stream",
     "text": [
      "[15:46:22] WARNING: /workspace/src/objective/regression_obj.cu:152: reg:linear is now deprecated in favor of reg:squarederror.\n",
      "[15:47:40] WARNING: /workspace/src/objective/regression_obj.cu:152: reg:linear is now deprecated in favor of reg:squarederror.\n",
      "[15:48:57] WARNING: /workspace/src/objective/regression_obj.cu:152: reg:linear is now deprecated in favor of reg:squarederror.\n",
      "[15:50:14] WARNING: /workspace/src/objective/regression_obj.cu:152: reg:linear is now deprecated in favor of reg:squarederror.\n",
      "[15:51:32] WARNING: /workspace/src/objective/regression_obj.cu:152: reg:linear is now deprecated in favor of reg:squarederror.\n",
      "29.141961442882955\n"
     ]
    },
    {
     "name": "stderr",
     "output_type": "stream",
     "text": [
      "[I 2019-07-31 15:52:48,060] Finished trial#11 resulted in value: 29.141961442882955. Current best value is 29.138234960579346 with parameters: {'max_depth': 2, 'max_bin': 35, 'eta': 0.09364449838044589, 'colsample_bytree': 0.6092713277084735, 'min_child_weight': 205, 'n_estimators': 789, 'subsample': 0.8494956763990621, 'reg_lambda': 0.04912599898964909, 'reg_alpha': 0.648271000395961}.\n"
     ]
    },
    {
     "name": "stdout",
     "output_type": "stream",
     "text": [
      "[15:52:50] WARNING: /workspace/src/objective/regression_obj.cu:152: reg:linear is now deprecated in favor of reg:squarederror.\n",
      "[15:54:28] WARNING: /workspace/src/objective/regression_obj.cu:152: reg:linear is now deprecated in favor of reg:squarederror.\n",
      "[15:56:05] WARNING: /workspace/src/objective/regression_obj.cu:152: reg:linear is now deprecated in favor of reg:squarederror.\n",
      "[15:57:44] WARNING: /workspace/src/objective/regression_obj.cu:152: reg:linear is now deprecated in favor of reg:squarederror.\n",
      "[15:59:22] WARNING: /workspace/src/objective/regression_obj.cu:152: reg:linear is now deprecated in favor of reg:squarederror.\n",
      "29.143613859810042\n"
     ]
    },
    {
     "name": "stderr",
     "output_type": "stream",
     "text": [
      "[I 2019-07-31 16:01:00,139] Finished trial#12 resulted in value: 29.143613859810042. Current best value is 29.138234960579346 with parameters: {'max_depth': 2, 'max_bin': 35, 'eta': 0.09364449838044589, 'colsample_bytree': 0.6092713277084735, 'min_child_weight': 205, 'n_estimators': 789, 'subsample': 0.8494956763990621, 'reg_lambda': 0.04912599898964909, 'reg_alpha': 0.648271000395961}.\n"
     ]
    },
    {
     "name": "stdout",
     "output_type": "stream",
     "text": [
      "[16:01:02] WARNING: /workspace/src/objective/regression_obj.cu:152: reg:linear is now deprecated in favor of reg:squarederror.\n",
      "[16:08:16] WARNING: /workspace/src/objective/regression_obj.cu:152: reg:linear is now deprecated in favor of reg:squarederror.\n",
      "[16:15:25] WARNING: /workspace/src/objective/regression_obj.cu:152: reg:linear is now deprecated in favor of reg:squarederror.\n",
      "[16:22:43] WARNING: /workspace/src/objective/regression_obj.cu:152: reg:linear is now deprecated in favor of reg:squarederror.\n",
      "[16:29:53] WARNING: /workspace/src/objective/regression_obj.cu:152: reg:linear is now deprecated in favor of reg:squarederror.\n",
      "29.32418791043771\n"
     ]
    },
    {
     "name": "stderr",
     "output_type": "stream",
     "text": [
      "[I 2019-07-31 16:37:18,588] Finished trial#13 resulted in value: 29.32418791043771. Current best value is 29.138234960579346 with parameters: {'max_depth': 2, 'max_bin': 35, 'eta': 0.09364449838044589, 'colsample_bytree': 0.6092713277084735, 'min_child_weight': 205, 'n_estimators': 789, 'subsample': 0.8494956763990621, 'reg_lambda': 0.04912599898964909, 'reg_alpha': 0.648271000395961}.\n"
     ]
    },
    {
     "name": "stdout",
     "output_type": "stream",
     "text": [
      "[16:37:20] WARNING: /workspace/src/objective/regression_obj.cu:152: reg:linear is now deprecated in favor of reg:squarederror.\n",
      "[16:39:17] WARNING: /workspace/src/objective/regression_obj.cu:152: reg:linear is now deprecated in favor of reg:squarederror.\n",
      "[16:41:14] WARNING: /workspace/src/objective/regression_obj.cu:152: reg:linear is now deprecated in favor of reg:squarederror.\n",
      "[16:43:12] WARNING: /workspace/src/objective/regression_obj.cu:152: reg:linear is now deprecated in favor of reg:squarederror.\n",
      "[16:45:08] WARNING: /workspace/src/objective/regression_obj.cu:152: reg:linear is now deprecated in favor of reg:squarederror.\n",
      "29.207911202590637\n"
     ]
    },
    {
     "name": "stderr",
     "output_type": "stream",
     "text": [
      "[I 2019-07-31 16:47:04,653] Finished trial#14 resulted in value: 29.207911202590637. Current best value is 29.138234960579346 with parameters: {'max_depth': 2, 'max_bin': 35, 'eta': 0.09364449838044589, 'colsample_bytree': 0.6092713277084735, 'min_child_weight': 205, 'n_estimators': 789, 'subsample': 0.8494956763990621, 'reg_lambda': 0.04912599898964909, 'reg_alpha': 0.648271000395961}.\n"
     ]
    },
    {
     "name": "stdout",
     "output_type": "stream",
     "text": [
      "[16:47:06] WARNING: /workspace/src/objective/regression_obj.cu:152: reg:linear is now deprecated in favor of reg:squarederror.\n",
      "[16:47:49] WARNING: /workspace/src/objective/regression_obj.cu:152: reg:linear is now deprecated in favor of reg:squarederror.\n",
      "[16:48:31] WARNING: /workspace/src/objective/regression_obj.cu:152: reg:linear is now deprecated in favor of reg:squarederror.\n",
      "[16:49:13] WARNING: /workspace/src/objective/regression_obj.cu:152: reg:linear is now deprecated in favor of reg:squarederror.\n",
      "[16:49:55] WARNING: /workspace/src/objective/regression_obj.cu:152: reg:linear is now deprecated in favor of reg:squarederror.\n",
      "29.067316446408917\n"
     ]
    },
    {
     "name": "stderr",
     "output_type": "stream",
     "text": [
      "[I 2019-07-31 16:50:36,594] Finished trial#15 resulted in value: 29.067316446408917. Current best value is 29.067316446408917 with parameters: {'max_depth': 2, 'max_bin': 28, 'eta': 0.13468647321157795, 'colsample_bytree': 0.6885935093553995, 'min_child_weight': 276, 'n_estimators': 411, 'subsample': 0.8742944092254966, 'reg_lambda': 0.14787034911328023, 'reg_alpha': 0.9530629074382816}.\n"
     ]
    },
    {
     "name": "stdout",
     "output_type": "stream",
     "text": [
      "[16:50:38] WARNING: /workspace/src/objective/regression_obj.cu:152: reg:linear is now deprecated in favor of reg:squarederror.\n",
      "[16:53:27] WARNING: /workspace/src/objective/regression_obj.cu:152: reg:linear is now deprecated in favor of reg:squarederror.\n",
      "[16:56:16] WARNING: /workspace/src/objective/regression_obj.cu:152: reg:linear is now deprecated in favor of reg:squarederror.\n",
      "[16:59:05] WARNING: /workspace/src/objective/regression_obj.cu:152: reg:linear is now deprecated in favor of reg:squarederror.\n",
      "[17:01:54] WARNING: /workspace/src/objective/regression_obj.cu:152: reg:linear is now deprecated in favor of reg:squarederror.\n",
      "29.308072264732566\n"
     ]
    },
    {
     "name": "stderr",
     "output_type": "stream",
     "text": [
      "[I 2019-07-31 17:04:42,483] Finished trial#16 resulted in value: 29.308072264732566. Current best value is 29.067316446408917 with parameters: {'max_depth': 2, 'max_bin': 28, 'eta': 0.13468647321157795, 'colsample_bytree': 0.6885935093553995, 'min_child_weight': 276, 'n_estimators': 411, 'subsample': 0.8742944092254966, 'reg_lambda': 0.14787034911328023, 'reg_alpha': 0.9530629074382816}.\n"
     ]
    },
    {
     "name": "stdout",
     "output_type": "stream",
     "text": [
      "[17:04:44] WARNING: /workspace/src/objective/regression_obj.cu:152: reg:linear is now deprecated in favor of reg:squarederror.\n",
      "[17:05:29] WARNING: /workspace/src/objective/regression_obj.cu:152: reg:linear is now deprecated in favor of reg:squarederror.\n",
      "[17:06:13] WARNING: /workspace/src/objective/regression_obj.cu:152: reg:linear is now deprecated in favor of reg:squarederror.\n",
      "[17:06:58] WARNING: /workspace/src/objective/regression_obj.cu:152: reg:linear is now deprecated in favor of reg:squarederror.\n",
      "[17:07:43] WARNING: /workspace/src/objective/regression_obj.cu:152: reg:linear is now deprecated in favor of reg:squarederror.\n",
      "29.075736177987363\n"
     ]
    },
    {
     "name": "stderr",
     "output_type": "stream",
     "text": [
      "[I 2019-07-31 17:08:27,035] Finished trial#17 resulted in value: 29.075736177987363. Current best value is 29.067316446408917 with parameters: {'max_depth': 2, 'max_bin': 28, 'eta': 0.13468647321157795, 'colsample_bytree': 0.6885935093553995, 'min_child_weight': 276, 'n_estimators': 411, 'subsample': 0.8742944092254966, 'reg_lambda': 0.14787034911328023, 'reg_alpha': 0.9530629074382816}.\n"
     ]
    },
    {
     "name": "stdout",
     "output_type": "stream",
     "text": [
      "[17:08:29] WARNING: /workspace/src/objective/regression_obj.cu:152: reg:linear is now deprecated in favor of reg:squarederror.\n",
      "[17:09:34] WARNING: /workspace/src/objective/regression_obj.cu:152: reg:linear is now deprecated in favor of reg:squarederror.\n",
      "[17:10:40] WARNING: /workspace/src/objective/regression_obj.cu:152: reg:linear is now deprecated in favor of reg:squarederror.\n",
      "[17:11:45] WARNING: /workspace/src/objective/regression_obj.cu:152: reg:linear is now deprecated in favor of reg:squarederror.\n",
      "[17:12:51] WARNING: /workspace/src/objective/regression_obj.cu:152: reg:linear is now deprecated in favor of reg:squarederror.\n",
      "29.176315988217443\n"
     ]
    },
    {
     "name": "stderr",
     "output_type": "stream",
     "text": [
      "[I 2019-07-31 17:13:56,042] Finished trial#18 resulted in value: 29.176315988217443. Current best value is 29.067316446408917 with parameters: {'max_depth': 2, 'max_bin': 28, 'eta': 0.13468647321157795, 'colsample_bytree': 0.6885935093553995, 'min_child_weight': 276, 'n_estimators': 411, 'subsample': 0.8742944092254966, 'reg_lambda': 0.14787034911328023, 'reg_alpha': 0.9530629074382816}.\n"
     ]
    },
    {
     "name": "stdout",
     "output_type": "stream",
     "text": [
      "[17:13:58] WARNING: /workspace/src/objective/regression_obj.cu:152: reg:linear is now deprecated in favor of reg:squarederror.\n",
      "[17:14:21] WARNING: /workspace/src/objective/regression_obj.cu:152: reg:linear is now deprecated in favor of reg:squarederror.\n",
      "[17:14:45] WARNING: /workspace/src/objective/regression_obj.cu:152: reg:linear is now deprecated in favor of reg:squarederror.\n",
      "[17:15:09] WARNING: /workspace/src/objective/regression_obj.cu:152: reg:linear is now deprecated in favor of reg:squarederror.\n",
      "[17:15:33] WARNING: /workspace/src/objective/regression_obj.cu:152: reg:linear is now deprecated in favor of reg:squarederror.\n",
      "29.107814998715966\n"
     ]
    },
    {
     "name": "stderr",
     "output_type": "stream",
     "text": [
      "[I 2019-07-31 17:15:55,422] Finished trial#19 resulted in value: 29.107814998715966. Current best value is 29.067316446408917 with parameters: {'max_depth': 2, 'max_bin': 28, 'eta': 0.13468647321157795, 'colsample_bytree': 0.6885935093553995, 'min_child_weight': 276, 'n_estimators': 411, 'subsample': 0.8742944092254966, 'reg_lambda': 0.14787034911328023, 'reg_alpha': 0.9530629074382816}.\n"
     ]
    },
    {
     "name": "stdout",
     "output_type": "stream",
     "text": [
      "[17:15:57] WARNING: /workspace/src/objective/regression_obj.cu:152: reg:linear is now deprecated in favor of reg:squarederror.\n",
      "[17:17:21] WARNING: /workspace/src/objective/regression_obj.cu:152: reg:linear is now deprecated in favor of reg:squarederror.\n",
      "[17:18:44] WARNING: /workspace/src/objective/regression_obj.cu:152: reg:linear is now deprecated in favor of reg:squarederror.\n",
      "[17:20:08] WARNING: /workspace/src/objective/regression_obj.cu:152: reg:linear is now deprecated in favor of reg:squarederror.\n",
      "[17:21:31] WARNING: /workspace/src/objective/regression_obj.cu:152: reg:linear is now deprecated in favor of reg:squarederror.\n",
      "29.226904317363832\n"
     ]
    },
    {
     "name": "stderr",
     "output_type": "stream",
     "text": [
      "[I 2019-07-31 17:22:55,013] Finished trial#20 resulted in value: 29.226904317363832. Current best value is 29.067316446408917 with parameters: {'max_depth': 2, 'max_bin': 28, 'eta': 0.13468647321157795, 'colsample_bytree': 0.6885935093553995, 'min_child_weight': 276, 'n_estimators': 411, 'subsample': 0.8742944092254966, 'reg_lambda': 0.14787034911328023, 'reg_alpha': 0.9530629074382816}.\n"
     ]
    },
    {
     "name": "stdout",
     "output_type": "stream",
     "text": [
      "[17:22:57] WARNING: /workspace/src/objective/regression_obj.cu:152: reg:linear is now deprecated in favor of reg:squarederror.\n",
      "[17:23:26] WARNING: /workspace/src/objective/regression_obj.cu:152: reg:linear is now deprecated in favor of reg:squarederror.\n",
      "[17:23:56] WARNING: /workspace/src/objective/regression_obj.cu:152: reg:linear is now deprecated in favor of reg:squarederror.\n",
      "[17:24:26] WARNING: /workspace/src/objective/regression_obj.cu:152: reg:linear is now deprecated in favor of reg:squarederror.\n",
      "[17:24:55] WARNING: /workspace/src/objective/regression_obj.cu:152: reg:linear is now deprecated in favor of reg:squarederror.\n",
      "29.01353026832315\n"
     ]
    },
    {
     "name": "stderr",
     "output_type": "stream",
     "text": [
      "[I 2019-07-31 17:25:23,917] Finished trial#21 resulted in value: 29.01353026832315. Current best value is 29.01353026832315 with parameters: {'max_depth': 2, 'max_bin': 53, 'eta': 0.07758861186106222, 'colsample_bytree': 0.7114952456947506, 'min_child_weight': 404, 'n_estimators': 276, 'subsample': 0.8019601078208367, 'reg_lambda': 0.022336800812644022, 'reg_alpha': 0.001195442241880939}.\n"
     ]
    },
    {
     "name": "stdout",
     "output_type": "stream",
     "text": [
      "[17:25:25] WARNING: /workspace/src/objective/regression_obj.cu:152: reg:linear is now deprecated in favor of reg:squarederror.\n",
      "[17:26:11] WARNING: /workspace/src/objective/regression_obj.cu:152: reg:linear is now deprecated in favor of reg:squarederror.\n",
      "[17:26:56] WARNING: /workspace/src/objective/regression_obj.cu:152: reg:linear is now deprecated in favor of reg:squarederror.\n",
      "[17:27:41] WARNING: /workspace/src/objective/regression_obj.cu:152: reg:linear is now deprecated in favor of reg:squarederror.\n",
      "[17:28:26] WARNING: /workspace/src/objective/regression_obj.cu:152: reg:linear is now deprecated in favor of reg:squarederror.\n",
      "29.13264971961556\n"
     ]
    },
    {
     "name": "stderr",
     "output_type": "stream",
     "text": [
      "[I 2019-07-31 17:29:10,003] Finished trial#22 resulted in value: 29.13264971961556. Current best value is 29.01353026832315 with parameters: {'max_depth': 2, 'max_bin': 53, 'eta': 0.07758861186106222, 'colsample_bytree': 0.7114952456947506, 'min_child_weight': 404, 'n_estimators': 276, 'subsample': 0.8019601078208367, 'reg_lambda': 0.022336800812644022, 'reg_alpha': 0.001195442241880939}.\n"
     ]
    },
    {
     "name": "stdout",
     "output_type": "stream",
     "text": [
      "[17:29:12] WARNING: /workspace/src/objective/regression_obj.cu:152: reg:linear is now deprecated in favor of reg:squarederror.\n",
      "[17:29:40] WARNING: /workspace/src/objective/regression_obj.cu:152: reg:linear is now deprecated in favor of reg:squarederror.\n",
      "[17:30:08] WARNING: /workspace/src/objective/regression_obj.cu:152: reg:linear is now deprecated in favor of reg:squarederror.\n",
      "[17:30:37] WARNING: /workspace/src/objective/regression_obj.cu:152: reg:linear is now deprecated in favor of reg:squarederror.\n",
      "[17:31:06] WARNING: /workspace/src/objective/regression_obj.cu:152: reg:linear is now deprecated in favor of reg:squarederror.\n",
      "29.15754685525388\n"
     ]
    },
    {
     "name": "stderr",
     "output_type": "stream",
     "text": [
      "[I 2019-07-31 17:31:33,104] Finished trial#23 resulted in value: 29.15754685525388. Current best value is 29.01353026832315 with parameters: {'max_depth': 2, 'max_bin': 53, 'eta': 0.07758861186106222, 'colsample_bytree': 0.7114952456947506, 'min_child_weight': 404, 'n_estimators': 276, 'subsample': 0.8019601078208367, 'reg_lambda': 0.022336800812644022, 'reg_alpha': 0.001195442241880939}.\n"
     ]
    },
    {
     "name": "stdout",
     "output_type": "stream",
     "text": [
      "[17:31:35] WARNING: /workspace/src/objective/regression_obj.cu:152: reg:linear is now deprecated in favor of reg:squarederror.\n",
      "[17:32:06] WARNING: /workspace/src/objective/regression_obj.cu:152: reg:linear is now deprecated in favor of reg:squarederror.\n",
      "[17:32:37] WARNING: /workspace/src/objective/regression_obj.cu:152: reg:linear is now deprecated in favor of reg:squarederror.\n",
      "[17:33:08] WARNING: /workspace/src/objective/regression_obj.cu:152: reg:linear is now deprecated in favor of reg:squarederror.\n",
      "[17:33:38] WARNING: /workspace/src/objective/regression_obj.cu:152: reg:linear is now deprecated in favor of reg:squarederror.\n",
      "29.01918450475193\n"
     ]
    },
    {
     "name": "stderr",
     "output_type": "stream",
     "text": [
      "[I 2019-07-31 17:34:07,951] Finished trial#24 resulted in value: 29.01918450475193. Current best value is 29.01353026832315 with parameters: {'max_depth': 2, 'max_bin': 53, 'eta': 0.07758861186106222, 'colsample_bytree': 0.7114952456947506, 'min_child_weight': 404, 'n_estimators': 276, 'subsample': 0.8019601078208367, 'reg_lambda': 0.022336800812644022, 'reg_alpha': 0.001195442241880939}.\n"
     ]
    },
    {
     "name": "stdout",
     "output_type": "stream",
     "text": [
      "[17:34:09] WARNING: /workspace/src/objective/regression_obj.cu:152: reg:linear is now deprecated in favor of reg:squarederror.\n",
      "[17:35:08] WARNING: /workspace/src/objective/regression_obj.cu:152: reg:linear is now deprecated in favor of reg:squarederror.\n",
      "[17:36:07] WARNING: /workspace/src/objective/regression_obj.cu:152: reg:linear is now deprecated in favor of reg:squarederror.\n",
      "[17:37:05] WARNING: /workspace/src/objective/regression_obj.cu:152: reg:linear is now deprecated in favor of reg:squarederror.\n",
      "[17:38:04] WARNING: /workspace/src/objective/regression_obj.cu:152: reg:linear is now deprecated in favor of reg:squarederror.\n",
      "29.190174933221385\n"
     ]
    },
    {
     "name": "stderr",
     "output_type": "stream",
     "text": [
      "[I 2019-07-31 17:39:02,060] Finished trial#25 resulted in value: 29.190174933221385. Current best value is 29.01353026832315 with parameters: {'max_depth': 2, 'max_bin': 53, 'eta': 0.07758861186106222, 'colsample_bytree': 0.7114952456947506, 'min_child_weight': 404, 'n_estimators': 276, 'subsample': 0.8019601078208367, 'reg_lambda': 0.022336800812644022, 'reg_alpha': 0.001195442241880939}.\n"
     ]
    },
    {
     "name": "stdout",
     "output_type": "stream",
     "text": [
      "[17:39:04] WARNING: /workspace/src/objective/regression_obj.cu:152: reg:linear is now deprecated in favor of reg:squarederror.\n",
      "[17:39:56] WARNING: /workspace/src/objective/regression_obj.cu:152: reg:linear is now deprecated in favor of reg:squarederror.\n",
      "[17:40:49] WARNING: /workspace/src/objective/regression_obj.cu:152: reg:linear is now deprecated in favor of reg:squarederror.\n",
      "[17:41:42] WARNING: /workspace/src/objective/regression_obj.cu:152: reg:linear is now deprecated in favor of reg:squarederror.\n",
      "[17:42:36] WARNING: /workspace/src/objective/regression_obj.cu:152: reg:linear is now deprecated in favor of reg:squarederror.\n",
      "29.233740110103014\n"
     ]
    },
    {
     "name": "stderr",
     "output_type": "stream",
     "text": [
      "[I 2019-07-31 17:43:28,019] Finished trial#26 resulted in value: 29.233740110103014. Current best value is 29.01353026832315 with parameters: {'max_depth': 2, 'max_bin': 53, 'eta': 0.07758861186106222, 'colsample_bytree': 0.7114952456947506, 'min_child_weight': 404, 'n_estimators': 276, 'subsample': 0.8019601078208367, 'reg_lambda': 0.022336800812644022, 'reg_alpha': 0.001195442241880939}.\n"
     ]
    },
    {
     "name": "stdout",
     "output_type": "stream",
     "text": [
      "[17:43:29] WARNING: /workspace/src/objective/regression_obj.cu:152: reg:linear is now deprecated in favor of reg:squarederror.\n",
      "[17:44:17] WARNING: /workspace/src/objective/regression_obj.cu:152: reg:linear is now deprecated in favor of reg:squarederror.\n",
      "[17:45:05] WARNING: /workspace/src/objective/regression_obj.cu:152: reg:linear is now deprecated in favor of reg:squarederror.\n",
      "[17:45:53] WARNING: /workspace/src/objective/regression_obj.cu:152: reg:linear is now deprecated in favor of reg:squarederror.\n",
      "[17:46:41] WARNING: /workspace/src/objective/regression_obj.cu:152: reg:linear is now deprecated in favor of reg:squarederror.\n",
      "29.13289954850167\n"
     ]
    },
    {
     "name": "stderr",
     "output_type": "stream",
     "text": [
      "[I 2019-07-31 17:47:27,619] Finished trial#27 resulted in value: 29.13289954850167. Current best value is 29.01353026832315 with parameters: {'max_depth': 2, 'max_bin': 53, 'eta': 0.07758861186106222, 'colsample_bytree': 0.7114952456947506, 'min_child_weight': 404, 'n_estimators': 276, 'subsample': 0.8019601078208367, 'reg_lambda': 0.022336800812644022, 'reg_alpha': 0.001195442241880939}.\n"
     ]
    },
    {
     "name": "stdout",
     "output_type": "stream",
     "text": [
      "[17:47:29] WARNING: /workspace/src/objective/regression_obj.cu:152: reg:linear is now deprecated in favor of reg:squarederror.\n",
      "[17:49:49] WARNING: /workspace/src/objective/regression_obj.cu:152: reg:linear is now deprecated in favor of reg:squarederror.\n",
      "[17:52:10] WARNING: /workspace/src/objective/regression_obj.cu:152: reg:linear is now deprecated in favor of reg:squarederror.\n",
      "[17:54:29] WARNING: /workspace/src/objective/regression_obj.cu:152: reg:linear is now deprecated in favor of reg:squarederror.\n",
      "[17:56:49] WARNING: /workspace/src/objective/regression_obj.cu:152: reg:linear is now deprecated in favor of reg:squarederror.\n",
      "29.296021669651857\n"
     ]
    },
    {
     "name": "stderr",
     "output_type": "stream",
     "text": [
      "[I 2019-07-31 17:59:08,463] Finished trial#28 resulted in value: 29.296021669651857. Current best value is 29.01353026832315 with parameters: {'max_depth': 2, 'max_bin': 53, 'eta': 0.07758861186106222, 'colsample_bytree': 0.7114952456947506, 'min_child_weight': 404, 'n_estimators': 276, 'subsample': 0.8019601078208367, 'reg_lambda': 0.022336800812644022, 'reg_alpha': 0.001195442241880939}.\n"
     ]
    },
    {
     "name": "stdout",
     "output_type": "stream",
     "text": [
      "[17:59:10] WARNING: /workspace/src/objective/regression_obj.cu:152: reg:linear is now deprecated in favor of reg:squarederror.\n",
      "[17:59:46] WARNING: /workspace/src/objective/regression_obj.cu:152: reg:linear is now deprecated in favor of reg:squarederror.\n",
      "[18:00:21] WARNING: /workspace/src/objective/regression_obj.cu:152: reg:linear is now deprecated in favor of reg:squarederror.\n",
      "[18:00:57] WARNING: /workspace/src/objective/regression_obj.cu:152: reg:linear is now deprecated in favor of reg:squarederror.\n",
      "[18:01:33] WARNING: /workspace/src/objective/regression_obj.cu:152: reg:linear is now deprecated in favor of reg:squarederror.\n",
      "29.18103649155665\n"
     ]
    },
    {
     "name": "stderr",
     "output_type": "stream",
     "text": [
      "[I 2019-07-31 18:02:08,286] Finished trial#29 resulted in value: 29.18103649155665. Current best value is 29.01353026832315 with parameters: {'max_depth': 2, 'max_bin': 53, 'eta': 0.07758861186106222, 'colsample_bytree': 0.7114952456947506, 'min_child_weight': 404, 'n_estimators': 276, 'subsample': 0.8019601078208367, 'reg_lambda': 0.022336800812644022, 'reg_alpha': 0.001195442241880939}.\n"
     ]
    },
    {
     "name": "stdout",
     "output_type": "stream",
     "text": [
      "[18:02:10] WARNING: /workspace/src/objective/regression_obj.cu:152: reg:linear is now deprecated in favor of reg:squarederror.\n",
      "[18:04:12] WARNING: /workspace/src/objective/regression_obj.cu:152: reg:linear is now deprecated in favor of reg:squarederror.\n",
      "[18:06:15] WARNING: /workspace/src/objective/regression_obj.cu:152: reg:linear is now deprecated in favor of reg:squarederror.\n",
      "[18:08:17] WARNING: /workspace/src/objective/regression_obj.cu:152: reg:linear is now deprecated in favor of reg:squarederror.\n",
      "[18:10:19] WARNING: /workspace/src/objective/regression_obj.cu:152: reg:linear is now deprecated in favor of reg:squarederror.\n",
      "29.29757295235082\n"
     ]
    },
    {
     "name": "stderr",
     "output_type": "stream",
     "text": [
      "[I 2019-07-31 18:12:21,919] Finished trial#30 resulted in value: 29.29757295235082. Current best value is 29.01353026832315 with parameters: {'max_depth': 2, 'max_bin': 53, 'eta': 0.07758861186106222, 'colsample_bytree': 0.7114952456947506, 'min_child_weight': 404, 'n_estimators': 276, 'subsample': 0.8019601078208367, 'reg_lambda': 0.022336800812644022, 'reg_alpha': 0.001195442241880939}.\n"
     ]
    },
    {
     "name": "stdout",
     "output_type": "stream",
     "text": [
      "[18:12:23] WARNING: /workspace/src/objective/regression_obj.cu:152: reg:linear is now deprecated in favor of reg:squarederror.\n",
      "[18:12:56] WARNING: /workspace/src/objective/regression_obj.cu:152: reg:linear is now deprecated in favor of reg:squarederror.\n",
      "[18:13:28] WARNING: /workspace/src/objective/regression_obj.cu:152: reg:linear is now deprecated in favor of reg:squarederror.\n",
      "[18:14:00] WARNING: /workspace/src/objective/regression_obj.cu:152: reg:linear is now deprecated in favor of reg:squarederror.\n",
      "[18:14:32] WARNING: /workspace/src/objective/regression_obj.cu:152: reg:linear is now deprecated in favor of reg:squarederror.\n",
      "29.033550586053607\n"
     ]
    },
    {
     "name": "stderr",
     "output_type": "stream",
     "text": [
      "[I 2019-07-31 18:15:03,702] Finished trial#31 resulted in value: 29.033550586053607. Current best value is 29.01353026832315 with parameters: {'max_depth': 2, 'max_bin': 53, 'eta': 0.07758861186106222, 'colsample_bytree': 0.7114952456947506, 'min_child_weight': 404, 'n_estimators': 276, 'subsample': 0.8019601078208367, 'reg_lambda': 0.022336800812644022, 'reg_alpha': 0.001195442241880939}.\n"
     ]
    },
    {
     "name": "stdout",
     "output_type": "stream",
     "text": [
      "[18:15:05] WARNING: /workspace/src/objective/regression_obj.cu:152: reg:linear is now deprecated in favor of reg:squarederror.\n",
      "[18:16:20] WARNING: /workspace/src/objective/regression_obj.cu:152: reg:linear is now deprecated in favor of reg:squarederror.\n",
      "[18:17:34] WARNING: /workspace/src/objective/regression_obj.cu:152: reg:linear is now deprecated in favor of reg:squarederror.\n",
      "[18:18:48] WARNING: /workspace/src/objective/regression_obj.cu:152: reg:linear is now deprecated in favor of reg:squarederror.\n",
      "[18:20:03] WARNING: /workspace/src/objective/regression_obj.cu:152: reg:linear is now deprecated in favor of reg:squarederror.\n",
      "29.18645024524039\n"
     ]
    },
    {
     "name": "stderr",
     "output_type": "stream",
     "text": [
      "[I 2019-07-31 18:21:16,782] Finished trial#32 resulted in value: 29.18645024524039. Current best value is 29.01353026832315 with parameters: {'max_depth': 2, 'max_bin': 53, 'eta': 0.07758861186106222, 'colsample_bytree': 0.7114952456947506, 'min_child_weight': 404, 'n_estimators': 276, 'subsample': 0.8019601078208367, 'reg_lambda': 0.022336800812644022, 'reg_alpha': 0.001195442241880939}.\n"
     ]
    },
    {
     "name": "stdout",
     "output_type": "stream",
     "text": [
      "[18:21:18] WARNING: /workspace/src/objective/regression_obj.cu:152: reg:linear is now deprecated in favor of reg:squarederror.\n",
      "[18:22:00] WARNING: /workspace/src/objective/regression_obj.cu:152: reg:linear is now deprecated in favor of reg:squarederror.\n",
      "[18:22:42] WARNING: /workspace/src/objective/regression_obj.cu:152: reg:linear is now deprecated in favor of reg:squarederror.\n",
      "[18:23:24] WARNING: /workspace/src/objective/regression_obj.cu:152: reg:linear is now deprecated in favor of reg:squarederror.\n",
      "[18:24:07] WARNING: /workspace/src/objective/regression_obj.cu:152: reg:linear is now deprecated in favor of reg:squarederror.\n",
      "29.166351722118613\n"
     ]
    },
    {
     "name": "stderr",
     "output_type": "stream",
     "text": [
      "[I 2019-07-31 18:24:47,608] Finished trial#33 resulted in value: 29.166351722118613. Current best value is 29.01353026832315 with parameters: {'max_depth': 2, 'max_bin': 53, 'eta': 0.07758861186106222, 'colsample_bytree': 0.7114952456947506, 'min_child_weight': 404, 'n_estimators': 276, 'subsample': 0.8019601078208367, 'reg_lambda': 0.022336800812644022, 'reg_alpha': 0.001195442241880939}.\n"
     ]
    },
    {
     "name": "stdout",
     "output_type": "stream",
     "text": [
      "[18:24:49] WARNING: /workspace/src/objective/regression_obj.cu:152: reg:linear is now deprecated in favor of reg:squarederror.\n",
      "[18:27:53] WARNING: /workspace/src/objective/regression_obj.cu:152: reg:linear is now deprecated in favor of reg:squarederror.\n",
      "[18:30:57] WARNING: /workspace/src/objective/regression_obj.cu:152: reg:linear is now deprecated in favor of reg:squarederror.\n",
      "[18:34:01] WARNING: /workspace/src/objective/regression_obj.cu:152: reg:linear is now deprecated in favor of reg:squarederror.\n",
      "[18:37:04] WARNING: /workspace/src/objective/regression_obj.cu:152: reg:linear is now deprecated in favor of reg:squarederror.\n",
      "29.292687994125252\n"
     ]
    },
    {
     "name": "stderr",
     "output_type": "stream",
     "text": [
      "[I 2019-07-31 18:40:05,480] Finished trial#34 resulted in value: 29.292687994125252. Current best value is 29.01353026832315 with parameters: {'max_depth': 2, 'max_bin': 53, 'eta': 0.07758861186106222, 'colsample_bytree': 0.7114952456947506, 'min_child_weight': 404, 'n_estimators': 276, 'subsample': 0.8019601078208367, 'reg_lambda': 0.022336800812644022, 'reg_alpha': 0.001195442241880939}.\n"
     ]
    },
    {
     "name": "stdout",
     "output_type": "stream",
     "text": [
      "[18:40:07] WARNING: /workspace/src/objective/regression_obj.cu:152: reg:linear is now deprecated in favor of reg:squarederror.\n",
      "[18:41:32] WARNING: /workspace/src/objective/regression_obj.cu:152: reg:linear is now deprecated in favor of reg:squarederror.\n",
      "[18:42:56] WARNING: /workspace/src/objective/regression_obj.cu:152: reg:linear is now deprecated in favor of reg:squarederror.\n",
      "[18:44:21] WARNING: /workspace/src/objective/regression_obj.cu:152: reg:linear is now deprecated in favor of reg:squarederror.\n",
      "[18:45:45] WARNING: /workspace/src/objective/regression_obj.cu:152: reg:linear is now deprecated in favor of reg:squarederror.\n",
      "29.185847333540774\n"
     ]
    },
    {
     "name": "stderr",
     "output_type": "stream",
     "text": [
      "[I 2019-07-31 18:47:08,605] Finished trial#35 resulted in value: 29.185847333540774. Current best value is 29.01353026832315 with parameters: {'max_depth': 2, 'max_bin': 53, 'eta': 0.07758861186106222, 'colsample_bytree': 0.7114952456947506, 'min_child_weight': 404, 'n_estimators': 276, 'subsample': 0.8019601078208367, 'reg_lambda': 0.022336800812644022, 'reg_alpha': 0.001195442241880939}.\n"
     ]
    },
    {
     "name": "stdout",
     "output_type": "stream",
     "text": [
      "[18:47:10] WARNING: /workspace/src/objective/regression_obj.cu:152: reg:linear is now deprecated in favor of reg:squarederror.\n",
      "[18:49:56] WARNING: /workspace/src/objective/regression_obj.cu:152: reg:linear is now deprecated in favor of reg:squarederror.\n",
      "[18:52:44] WARNING: /workspace/src/objective/regression_obj.cu:152: reg:linear is now deprecated in favor of reg:squarederror.\n",
      "[18:55:29] WARNING: /workspace/src/objective/regression_obj.cu:152: reg:linear is now deprecated in favor of reg:squarederror.\n",
      "[18:58:15] WARNING: /workspace/src/objective/regression_obj.cu:152: reg:linear is now deprecated in favor of reg:squarederror.\n",
      "29.300125963980353\n"
     ]
    },
    {
     "name": "stderr",
     "output_type": "stream",
     "text": [
      "[I 2019-07-31 19:01:01,084] Finished trial#36 resulted in value: 29.300125963980353. Current best value is 29.01353026832315 with parameters: {'max_depth': 2, 'max_bin': 53, 'eta': 0.07758861186106222, 'colsample_bytree': 0.7114952456947506, 'min_child_weight': 404, 'n_estimators': 276, 'subsample': 0.8019601078208367, 'reg_lambda': 0.022336800812644022, 'reg_alpha': 0.001195442241880939}.\n"
     ]
    },
    {
     "name": "stdout",
     "output_type": "stream",
     "text": [
      "[19:01:03] WARNING: /workspace/src/objective/regression_obj.cu:152: reg:linear is now deprecated in favor of reg:squarederror.\n",
      "[19:01:55] WARNING: /workspace/src/objective/regression_obj.cu:152: reg:linear is now deprecated in favor of reg:squarederror.\n",
      "[19:02:46] WARNING: /workspace/src/objective/regression_obj.cu:152: reg:linear is now deprecated in favor of reg:squarederror.\n",
      "[19:03:39] WARNING: /workspace/src/objective/regression_obj.cu:152: reg:linear is now deprecated in favor of reg:squarederror.\n",
      "[19:04:31] WARNING: /workspace/src/objective/regression_obj.cu:152: reg:linear is now deprecated in favor of reg:squarederror.\n",
      "29.24703310673432\n"
     ]
    },
    {
     "name": "stderr",
     "output_type": "stream",
     "text": [
      "[I 2019-07-31 19:05:22,042] Finished trial#37 resulted in value: 29.24703310673432. Current best value is 29.01353026832315 with parameters: {'max_depth': 2, 'max_bin': 53, 'eta': 0.07758861186106222, 'colsample_bytree': 0.7114952456947506, 'min_child_weight': 404, 'n_estimators': 276, 'subsample': 0.8019601078208367, 'reg_lambda': 0.022336800812644022, 'reg_alpha': 0.001195442241880939}.\n"
     ]
    },
    {
     "name": "stdout",
     "output_type": "stream",
     "text": [
      "[19:05:24] WARNING: /workspace/src/objective/regression_obj.cu:152: reg:linear is now deprecated in favor of reg:squarederror.\n",
      "[19:08:09] WARNING: /workspace/src/objective/regression_obj.cu:152: reg:linear is now deprecated in favor of reg:squarederror.\n",
      "[19:10:54] WARNING: /workspace/src/objective/regression_obj.cu:152: reg:linear is now deprecated in favor of reg:squarederror.\n",
      "[19:13:39] WARNING: /workspace/src/objective/regression_obj.cu:152: reg:linear is now deprecated in favor of reg:squarederror.\n",
      "[19:16:22] WARNING: /workspace/src/objective/regression_obj.cu:152: reg:linear is now deprecated in favor of reg:squarederror.\n",
      "29.273735082440606\n"
     ]
    },
    {
     "name": "stderr",
     "output_type": "stream",
     "text": [
      "[I 2019-07-31 19:19:04,175] Finished trial#38 resulted in value: 29.273735082440606. Current best value is 29.01353026832315 with parameters: {'max_depth': 2, 'max_bin': 53, 'eta': 0.07758861186106222, 'colsample_bytree': 0.7114952456947506, 'min_child_weight': 404, 'n_estimators': 276, 'subsample': 0.8019601078208367, 'reg_lambda': 0.022336800812644022, 'reg_alpha': 0.001195442241880939}.\n"
     ]
    },
    {
     "name": "stdout",
     "output_type": "stream",
     "text": [
      "[19:19:06] WARNING: /workspace/src/objective/regression_obj.cu:152: reg:linear is now deprecated in favor of reg:squarederror.\n",
      "[19:19:47] WARNING: /workspace/src/objective/regression_obj.cu:152: reg:linear is now deprecated in favor of reg:squarederror.\n",
      "[19:20:28] WARNING: /workspace/src/objective/regression_obj.cu:152: reg:linear is now deprecated in favor of reg:squarederror.\n",
      "[19:21:09] WARNING: /workspace/src/objective/regression_obj.cu:152: reg:linear is now deprecated in favor of reg:squarederror.\n",
      "[19:21:51] WARNING: /workspace/src/objective/regression_obj.cu:152: reg:linear is now deprecated in favor of reg:squarederror.\n",
      "29.171291286234304\n"
     ]
    },
    {
     "name": "stderr",
     "output_type": "stream",
     "text": [
      "[I 2019-07-31 19:22:30,710] Finished trial#39 resulted in value: 29.171291286234304. Current best value is 29.01353026832315 with parameters: {'max_depth': 2, 'max_bin': 53, 'eta': 0.07758861186106222, 'colsample_bytree': 0.7114952456947506, 'min_child_weight': 404, 'n_estimators': 276, 'subsample': 0.8019601078208367, 'reg_lambda': 0.022336800812644022, 'reg_alpha': 0.001195442241880939}.\n"
     ]
    },
    {
     "name": "stdout",
     "output_type": "stream",
     "text": [
      "[19:22:32] WARNING: /workspace/src/objective/regression_obj.cu:152: reg:linear is now deprecated in favor of reg:squarederror.\n",
      "[19:24:25] WARNING: /workspace/src/objective/regression_obj.cu:152: reg:linear is now deprecated in favor of reg:squarederror.\n",
      "[19:26:17] WARNING: /workspace/src/objective/regression_obj.cu:152: reg:linear is now deprecated in favor of reg:squarederror.\n",
      "[19:28:11] WARNING: /workspace/src/objective/regression_obj.cu:152: reg:linear is now deprecated in favor of reg:squarederror.\n",
      "[19:30:04] WARNING: /workspace/src/objective/regression_obj.cu:152: reg:linear is now deprecated in favor of reg:squarederror.\n",
      "29.27049786718802\n"
     ]
    },
    {
     "name": "stderr",
     "output_type": "stream",
     "text": [
      "[I 2019-07-31 19:31:57,843] Finished trial#40 resulted in value: 29.27049786718802. Current best value is 29.01353026832315 with parameters: {'max_depth': 2, 'max_bin': 53, 'eta': 0.07758861186106222, 'colsample_bytree': 0.7114952456947506, 'min_child_weight': 404, 'n_estimators': 276, 'subsample': 0.8019601078208367, 'reg_lambda': 0.022336800812644022, 'reg_alpha': 0.001195442241880939}.\n"
     ]
    },
    {
     "name": "stdout",
     "output_type": "stream",
     "text": [
      "[19:31:59] WARNING: /workspace/src/objective/regression_obj.cu:152: reg:linear is now deprecated in favor of reg:squarederror.\n",
      "[19:32:12] WARNING: /workspace/src/objective/regression_obj.cu:152: reg:linear is now deprecated in favor of reg:squarederror.\n",
      "[19:32:26] WARNING: /workspace/src/objective/regression_obj.cu:152: reg:linear is now deprecated in favor of reg:squarederror.\n",
      "[19:32:39] WARNING: /workspace/src/objective/regression_obj.cu:152: reg:linear is now deprecated in favor of reg:squarederror.\n",
      "[19:32:52] WARNING: /workspace/src/objective/regression_obj.cu:152: reg:linear is now deprecated in favor of reg:squarederror.\n",
      "28.81903625117714\n"
     ]
    },
    {
     "name": "stderr",
     "output_type": "stream",
     "text": [
      "[I 2019-07-31 19:33:03,809] Finished trial#41 resulted in value: 28.81903625117714. Current best value is 28.81903625117714 with parameters: {'max_depth': 2, 'max_bin': 64, 'eta': 0.25686655682465015, 'colsample_bytree': 0.7562310505739335, 'min_child_weight': 442, 'n_estimators': 101, 'subsample': 0.8508674216834293, 'reg_lambda': 0.0006120328483378985, 'reg_alpha': 0.0012168473960911727}.\n"
     ]
    },
    {
     "name": "stdout",
     "output_type": "stream",
     "text": [
      "[19:33:05] WARNING: /workspace/src/objective/regression_obj.cu:152: reg:linear is now deprecated in favor of reg:squarederror.\n",
      "[19:33:46] WARNING: /workspace/src/objective/regression_obj.cu:152: reg:linear is now deprecated in favor of reg:squarederror.\n",
      "[19:34:26] WARNING: /workspace/src/objective/regression_obj.cu:152: reg:linear is now deprecated in favor of reg:squarederror.\n",
      "[19:35:07] WARNING: /workspace/src/objective/regression_obj.cu:152: reg:linear is now deprecated in favor of reg:squarederror.\n",
      "[19:35:47] WARNING: /workspace/src/objective/regression_obj.cu:152: reg:linear is now deprecated in favor of reg:squarederror.\n",
      "29.22358617239428\n"
     ]
    },
    {
     "name": "stderr",
     "output_type": "stream",
     "text": [
      "[I 2019-07-31 19:36:26,206] Finished trial#42 resulted in value: 29.22358617239428. Current best value is 28.81903625117714 with parameters: {'max_depth': 2, 'max_bin': 64, 'eta': 0.25686655682465015, 'colsample_bytree': 0.7562310505739335, 'min_child_weight': 442, 'n_estimators': 101, 'subsample': 0.8508674216834293, 'reg_lambda': 0.0006120328483378985, 'reg_alpha': 0.0012168473960911727}.\n"
     ]
    },
    {
     "name": "stdout",
     "output_type": "stream",
     "text": [
      "[19:36:28] WARNING: /workspace/src/objective/regression_obj.cu:152: reg:linear is now deprecated in favor of reg:squarederror.\n",
      "[19:38:22] WARNING: /workspace/src/objective/regression_obj.cu:152: reg:linear is now deprecated in favor of reg:squarederror.\n",
      "[19:40:16] WARNING: /workspace/src/objective/regression_obj.cu:152: reg:linear is now deprecated in favor of reg:squarederror.\n",
      "[19:42:13] WARNING: /workspace/src/objective/regression_obj.cu:152: reg:linear is now deprecated in favor of reg:squarederror.\n",
      "[19:44:06] WARNING: /workspace/src/objective/regression_obj.cu:152: reg:linear is now deprecated in favor of reg:squarederror.\n",
      "29.155025299725477\n"
     ]
    },
    {
     "name": "stderr",
     "output_type": "stream",
     "text": [
      "[I 2019-07-31 19:45:59,518] Finished trial#43 resulted in value: 29.155025299725477. Current best value is 28.81903625117714 with parameters: {'max_depth': 2, 'max_bin': 64, 'eta': 0.25686655682465015, 'colsample_bytree': 0.7562310505739335, 'min_child_weight': 442, 'n_estimators': 101, 'subsample': 0.8508674216834293, 'reg_lambda': 0.0006120328483378985, 'reg_alpha': 0.0012168473960911727}.\n"
     ]
    },
    {
     "name": "stdout",
     "output_type": "stream",
     "text": [
      "[19:46:01] WARNING: /workspace/src/objective/regression_obj.cu:152: reg:linear is now deprecated in favor of reg:squarederror.\n",
      "[19:51:21] WARNING: /workspace/src/objective/regression_obj.cu:152: reg:linear is now deprecated in favor of reg:squarederror.\n",
      "[19:57:02] WARNING: /workspace/src/objective/regression_obj.cu:152: reg:linear is now deprecated in favor of reg:squarederror.\n",
      "[20:02:32] WARNING: /workspace/src/objective/regression_obj.cu:152: reg:linear is now deprecated in favor of reg:squarederror.\n",
      "[20:08:12] WARNING: /workspace/src/objective/regression_obj.cu:152: reg:linear is now deprecated in favor of reg:squarederror.\n",
      "29.314182676827528\n"
     ]
    },
    {
     "name": "stderr",
     "output_type": "stream",
     "text": [
      "[I 2019-07-31 20:13:53,774] Finished trial#44 resulted in value: 29.314182676827528. Current best value is 28.81903625117714 with parameters: {'max_depth': 2, 'max_bin': 64, 'eta': 0.25686655682465015, 'colsample_bytree': 0.7562310505739335, 'min_child_weight': 442, 'n_estimators': 101, 'subsample': 0.8508674216834293, 'reg_lambda': 0.0006120328483378985, 'reg_alpha': 0.0012168473960911727}.\n"
     ]
    },
    {
     "name": "stdout",
     "output_type": "stream",
     "text": [
      "[20:13:55] WARNING: /workspace/src/objective/regression_obj.cu:152: reg:linear is now deprecated in favor of reg:squarederror.\n",
      "[20:15:17] WARNING: /workspace/src/objective/regression_obj.cu:152: reg:linear is now deprecated in favor of reg:squarederror.\n",
      "[20:16:41] WARNING: /workspace/src/objective/regression_obj.cu:152: reg:linear is now deprecated in favor of reg:squarederror.\n",
      "[20:18:03] WARNING: /workspace/src/objective/regression_obj.cu:152: reg:linear is now deprecated in favor of reg:squarederror.\n",
      "[20:19:26] WARNING: /workspace/src/objective/regression_obj.cu:152: reg:linear is now deprecated in favor of reg:squarederror.\n",
      "29.284336041965055\n"
     ]
    },
    {
     "name": "stderr",
     "output_type": "stream",
     "text": [
      "[I 2019-07-31 20:20:48,348] Finished trial#45 resulted in value: 29.284336041965055. Current best value is 28.81903625117714 with parameters: {'max_depth': 2, 'max_bin': 64, 'eta': 0.25686655682465015, 'colsample_bytree': 0.7562310505739335, 'min_child_weight': 442, 'n_estimators': 101, 'subsample': 0.8508674216834293, 'reg_lambda': 0.0006120328483378985, 'reg_alpha': 0.0012168473960911727}.\n"
     ]
    },
    {
     "name": "stdout",
     "output_type": "stream",
     "text": [
      "[20:20:50] WARNING: /workspace/src/objective/regression_obj.cu:152: reg:linear is now deprecated in favor of reg:squarederror.\n",
      "[20:21:53] WARNING: /workspace/src/objective/regression_obj.cu:152: reg:linear is now deprecated in favor of reg:squarederror.\n",
      "[20:22:56] WARNING: /workspace/src/objective/regression_obj.cu:152: reg:linear is now deprecated in favor of reg:squarederror.\n",
      "[20:23:59] WARNING: /workspace/src/objective/regression_obj.cu:152: reg:linear is now deprecated in favor of reg:squarederror.\n",
      "[20:25:03] WARNING: /workspace/src/objective/regression_obj.cu:152: reg:linear is now deprecated in favor of reg:squarederror.\n",
      "29.220568352526723\n"
     ]
    },
    {
     "name": "stderr",
     "output_type": "stream",
     "text": [
      "[I 2019-07-31 20:26:04,246] Finished trial#46 resulted in value: 29.220568352526723. Current best value is 28.81903625117714 with parameters: {'max_depth': 2, 'max_bin': 64, 'eta': 0.25686655682465015, 'colsample_bytree': 0.7562310505739335, 'min_child_weight': 442, 'n_estimators': 101, 'subsample': 0.8508674216834293, 'reg_lambda': 0.0006120328483378985, 'reg_alpha': 0.0012168473960911727}.\n"
     ]
    },
    {
     "name": "stdout",
     "output_type": "stream",
     "text": [
      "[20:26:06] WARNING: /workspace/src/objective/regression_obj.cu:152: reg:linear is now deprecated in favor of reg:squarederror.\n",
      "[20:26:34] WARNING: /workspace/src/objective/regression_obj.cu:152: reg:linear is now deprecated in favor of reg:squarederror.\n",
      "[20:27:03] WARNING: /workspace/src/objective/regression_obj.cu:152: reg:linear is now deprecated in favor of reg:squarederror.\n",
      "[20:27:32] WARNING: /workspace/src/objective/regression_obj.cu:152: reg:linear is now deprecated in favor of reg:squarederror.\n",
      "[20:28:00] WARNING: /workspace/src/objective/regression_obj.cu:152: reg:linear is now deprecated in favor of reg:squarederror.\n",
      "29.086585009397663\n"
     ]
    },
    {
     "name": "stderr",
     "output_type": "stream",
     "text": [
      "[I 2019-07-31 20:28:27,978] Finished trial#47 resulted in value: 29.086585009397663. Current best value is 28.81903625117714 with parameters: {'max_depth': 2, 'max_bin': 64, 'eta': 0.25686655682465015, 'colsample_bytree': 0.7562310505739335, 'min_child_weight': 442, 'n_estimators': 101, 'subsample': 0.8508674216834293, 'reg_lambda': 0.0006120328483378985, 'reg_alpha': 0.0012168473960911727}.\n"
     ]
    },
    {
     "name": "stdout",
     "output_type": "stream",
     "text": [
      "[20:28:29] WARNING: /workspace/src/objective/regression_obj.cu:152: reg:linear is now deprecated in favor of reg:squarederror.\n",
      "[20:29:26] WARNING: /workspace/src/objective/regression_obj.cu:152: reg:linear is now deprecated in favor of reg:squarederror.\n",
      "[20:30:27] WARNING: /workspace/src/objective/regression_obj.cu:152: reg:linear is now deprecated in favor of reg:squarederror.\n",
      "[20:31:26] WARNING: /workspace/src/objective/regression_obj.cu:152: reg:linear is now deprecated in favor of reg:squarederror.\n",
      "[20:32:27] WARNING: /workspace/src/objective/regression_obj.cu:152: reg:linear is now deprecated in favor of reg:squarederror.\n",
      "29.107505725047123\n"
     ]
    },
    {
     "name": "stderr",
     "output_type": "stream",
     "text": [
      "[I 2019-07-31 20:33:27,162] Finished trial#48 resulted in value: 29.107505725047123. Current best value is 28.81903625117714 with parameters: {'max_depth': 2, 'max_bin': 64, 'eta': 0.25686655682465015, 'colsample_bytree': 0.7562310505739335, 'min_child_weight': 442, 'n_estimators': 101, 'subsample': 0.8508674216834293, 'reg_lambda': 0.0006120328483378985, 'reg_alpha': 0.0012168473960911727}.\n"
     ]
    },
    {
     "name": "stdout",
     "output_type": "stream",
     "text": [
      "[20:33:29] WARNING: /workspace/src/objective/regression_obj.cu:152: reg:linear is now deprecated in favor of reg:squarederror.\n",
      "[20:34:43] WARNING: /workspace/src/objective/regression_obj.cu:152: reg:linear is now deprecated in favor of reg:squarederror.\n",
      "[20:35:57] WARNING: /workspace/src/objective/regression_obj.cu:152: reg:linear is now deprecated in favor of reg:squarederror.\n",
      "[20:37:11] WARNING: /workspace/src/objective/regression_obj.cu:152: reg:linear is now deprecated in favor of reg:squarederror.\n",
      "[20:38:26] WARNING: /workspace/src/objective/regression_obj.cu:152: reg:linear is now deprecated in favor of reg:squarederror.\n",
      "29.2123361952809\n"
     ]
    },
    {
     "name": "stderr",
     "output_type": "stream",
     "text": [
      "[I 2019-07-31 20:39:39,351] Finished trial#49 resulted in value: 29.2123361952809. Current best value is 28.81903625117714 with parameters: {'max_depth': 2, 'max_bin': 64, 'eta': 0.25686655682465015, 'colsample_bytree': 0.7562310505739335, 'min_child_weight': 442, 'n_estimators': 101, 'subsample': 0.8508674216834293, 'reg_lambda': 0.0006120328483378985, 'reg_alpha': 0.0012168473960911727}.\n"
     ]
    },
    {
     "name": "stdout",
     "output_type": "stream",
     "text": [
      "[20:39:41] WARNING: /workspace/src/objective/regression_obj.cu:152: reg:linear is now deprecated in favor of reg:squarederror.\n",
      "[20:40:50] WARNING: /workspace/src/objective/regression_obj.cu:152: reg:linear is now deprecated in favor of reg:squarederror.\n",
      "[20:42:00] WARNING: /workspace/src/objective/regression_obj.cu:152: reg:linear is now deprecated in favor of reg:squarederror.\n",
      "[20:43:10] WARNING: /workspace/src/objective/regression_obj.cu:152: reg:linear is now deprecated in favor of reg:squarederror.\n",
      "[20:44:19] WARNING: /workspace/src/objective/regression_obj.cu:152: reg:linear is now deprecated in favor of reg:squarederror.\n",
      "29.17035879983222\n"
     ]
    },
    {
     "name": "stderr",
     "output_type": "stream",
     "text": [
      "[I 2019-07-31 20:45:27,092] Finished trial#50 resulted in value: 29.17035879983222. Current best value is 28.81903625117714 with parameters: {'max_depth': 2, 'max_bin': 64, 'eta': 0.25686655682465015, 'colsample_bytree': 0.7562310505739335, 'min_child_weight': 442, 'n_estimators': 101, 'subsample': 0.8508674216834293, 'reg_lambda': 0.0006120328483378985, 'reg_alpha': 0.0012168473960911727}.\n"
     ]
    },
    {
     "name": "stdout",
     "output_type": "stream",
     "text": [
      "[20:45:29] WARNING: /workspace/src/objective/regression_obj.cu:152: reg:linear is now deprecated in favor of reg:squarederror.\n",
      "[20:47:22] WARNING: /workspace/src/objective/regression_obj.cu:152: reg:linear is now deprecated in favor of reg:squarederror.\n",
      "[20:49:15] WARNING: /workspace/src/objective/regression_obj.cu:152: reg:linear is now deprecated in favor of reg:squarederror.\n",
      "[20:51:09] WARNING: /workspace/src/objective/regression_obj.cu:152: reg:linear is now deprecated in favor of reg:squarederror.\n",
      "[20:53:03] WARNING: /workspace/src/objective/regression_obj.cu:152: reg:linear is now deprecated in favor of reg:squarederror.\n",
      "29.26230047396627\n"
     ]
    },
    {
     "name": "stderr",
     "output_type": "stream",
     "text": [
      "[I 2019-07-31 20:54:54,182] Finished trial#51 resulted in value: 29.26230047396627. Current best value is 28.81903625117714 with parameters: {'max_depth': 2, 'max_bin': 64, 'eta': 0.25686655682465015, 'colsample_bytree': 0.7562310505739335, 'min_child_weight': 442, 'n_estimators': 101, 'subsample': 0.8508674216834293, 'reg_lambda': 0.0006120328483378985, 'reg_alpha': 0.0012168473960911727}.\n"
     ]
    },
    {
     "name": "stdout",
     "output_type": "stream",
     "text": [
      "[20:54:56] WARNING: /workspace/src/objective/regression_obj.cu:152: reg:linear is now deprecated in favor of reg:squarederror.\n",
      "[20:56:03] WARNING: /workspace/src/objective/regression_obj.cu:152: reg:linear is now deprecated in favor of reg:squarederror.\n",
      "[20:57:18] WARNING: /workspace/src/objective/regression_obj.cu:152: reg:linear is now deprecated in favor of reg:squarederror.\n",
      "[20:58:29] WARNING: /workspace/src/objective/regression_obj.cu:152: reg:linear is now deprecated in favor of reg:squarederror.\n",
      "[20:59:40] WARNING: /workspace/src/objective/regression_obj.cu:152: reg:linear is now deprecated in favor of reg:squarederror.\n",
      "29.114229276932853\n"
     ]
    },
    {
     "name": "stderr",
     "output_type": "stream",
     "text": [
      "[I 2019-07-31 21:00:52,161] Finished trial#52 resulted in value: 29.114229276932853. Current best value is 28.81903625117714 with parameters: {'max_depth': 2, 'max_bin': 64, 'eta': 0.25686655682465015, 'colsample_bytree': 0.7562310505739335, 'min_child_weight': 442, 'n_estimators': 101, 'subsample': 0.8508674216834293, 'reg_lambda': 0.0006120328483378985, 'reg_alpha': 0.0012168473960911727}.\n"
     ]
    },
    {
     "name": "stdout",
     "output_type": "stream",
     "text": [
      "[21:00:54] WARNING: /workspace/src/objective/regression_obj.cu:152: reg:linear is now deprecated in favor of reg:squarederror.\n",
      "[21:01:14] WARNING: /workspace/src/objective/regression_obj.cu:152: reg:linear is now deprecated in favor of reg:squarederror.\n",
      "[21:01:35] WARNING: /workspace/src/objective/regression_obj.cu:152: reg:linear is now deprecated in favor of reg:squarederror.\n",
      "[21:01:55] WARNING: /workspace/src/objective/regression_obj.cu:152: reg:linear is now deprecated in favor of reg:squarederror.\n",
      "[21:02:15] WARNING: /workspace/src/objective/regression_obj.cu:152: reg:linear is now deprecated in favor of reg:squarederror.\n",
      "29.092661506788044\n"
     ]
    },
    {
     "name": "stderr",
     "output_type": "stream",
     "text": [
      "[I 2019-07-31 21:02:35,271] Finished trial#53 resulted in value: 29.092661506788044. Current best value is 28.81903625117714 with parameters: {'max_depth': 2, 'max_bin': 64, 'eta': 0.25686655682465015, 'colsample_bytree': 0.7562310505739335, 'min_child_weight': 442, 'n_estimators': 101, 'subsample': 0.8508674216834293, 'reg_lambda': 0.0006120328483378985, 'reg_alpha': 0.0012168473960911727}.\n"
     ]
    },
    {
     "name": "stdout",
     "output_type": "stream",
     "text": [
      "[21:02:37] WARNING: /workspace/src/objective/regression_obj.cu:152: reg:linear is now deprecated in favor of reg:squarederror.\n",
      "[21:03:27] WARNING: /workspace/src/objective/regression_obj.cu:152: reg:linear is now deprecated in favor of reg:squarederror.\n",
      "[21:04:18] WARNING: /workspace/src/objective/regression_obj.cu:152: reg:linear is now deprecated in favor of reg:squarederror.\n",
      "[21:05:08] WARNING: /workspace/src/objective/regression_obj.cu:152: reg:linear is now deprecated in favor of reg:squarederror.\n",
      "[21:05:58] WARNING: /workspace/src/objective/regression_obj.cu:152: reg:linear is now deprecated in favor of reg:squarederror.\n",
      "29.144832099640343\n"
     ]
    },
    {
     "name": "stderr",
     "output_type": "stream",
     "text": [
      "[I 2019-07-31 21:06:47,371] Finished trial#54 resulted in value: 29.144832099640343. Current best value is 28.81903625117714 with parameters: {'max_depth': 2, 'max_bin': 64, 'eta': 0.25686655682465015, 'colsample_bytree': 0.7562310505739335, 'min_child_weight': 442, 'n_estimators': 101, 'subsample': 0.8508674216834293, 'reg_lambda': 0.0006120328483378985, 'reg_alpha': 0.0012168473960911727}.\n"
     ]
    },
    {
     "name": "stdout",
     "output_type": "stream",
     "text": [
      "[21:06:49] WARNING: /workspace/src/objective/regression_obj.cu:152: reg:linear is now deprecated in favor of reg:squarederror.\n",
      "[21:08:01] WARNING: /workspace/src/objective/regression_obj.cu:152: reg:linear is now deprecated in favor of reg:squarederror.\n",
      "[21:09:13] WARNING: /workspace/src/objective/regression_obj.cu:152: reg:linear is now deprecated in favor of reg:squarederror.\n",
      "[21:10:27] WARNING: /workspace/src/objective/regression_obj.cu:152: reg:linear is now deprecated in favor of reg:squarederror.\n",
      "[21:11:39] WARNING: /workspace/src/objective/regression_obj.cu:152: reg:linear is now deprecated in favor of reg:squarederror.\n",
      "29.136638205358484\n"
     ]
    },
    {
     "name": "stderr",
     "output_type": "stream",
     "text": [
      "[I 2019-07-31 21:12:50,128] Finished trial#55 resulted in value: 29.136638205358484. Current best value is 28.81903625117714 with parameters: {'max_depth': 2, 'max_bin': 64, 'eta': 0.25686655682465015, 'colsample_bytree': 0.7562310505739335, 'min_child_weight': 442, 'n_estimators': 101, 'subsample': 0.8508674216834293, 'reg_lambda': 0.0006120328483378985, 'reg_alpha': 0.0012168473960911727}.\n"
     ]
    },
    {
     "name": "stdout",
     "output_type": "stream",
     "text": [
      "[21:12:52] WARNING: /workspace/src/objective/regression_obj.cu:152: reg:linear is now deprecated in favor of reg:squarederror.\n",
      "[21:14:00] WARNING: /workspace/src/objective/regression_obj.cu:152: reg:linear is now deprecated in favor of reg:squarederror.\n",
      "[21:15:14] WARNING: /workspace/src/objective/regression_obj.cu:152: reg:linear is now deprecated in favor of reg:squarederror.\n",
      "[21:16:25] WARNING: /workspace/src/objective/regression_obj.cu:152: reg:linear is now deprecated in favor of reg:squarederror.\n",
      "[21:17:41] WARNING: /workspace/src/objective/regression_obj.cu:152: reg:linear is now deprecated in favor of reg:squarederror.\n",
      "29.253968592679982\n"
     ]
    },
    {
     "name": "stderr",
     "output_type": "stream",
     "text": [
      "[I 2019-07-31 21:18:53,314] Finished trial#56 resulted in value: 29.253968592679982. Current best value is 28.81903625117714 with parameters: {'max_depth': 2, 'max_bin': 64, 'eta': 0.25686655682465015, 'colsample_bytree': 0.7562310505739335, 'min_child_weight': 442, 'n_estimators': 101, 'subsample': 0.8508674216834293, 'reg_lambda': 0.0006120328483378985, 'reg_alpha': 0.0012168473960911727}.\n"
     ]
    },
    {
     "name": "stdout",
     "output_type": "stream",
     "text": [
      "[21:18:55] WARNING: /workspace/src/objective/regression_obj.cu:152: reg:linear is now deprecated in favor of reg:squarederror.\n",
      "[21:21:36] WARNING: /workspace/src/objective/regression_obj.cu:152: reg:linear is now deprecated in favor of reg:squarederror.\n",
      "[21:24:18] WARNING: /workspace/src/objective/regression_obj.cu:152: reg:linear is now deprecated in favor of reg:squarederror.\n",
      "[21:26:59] WARNING: /workspace/src/objective/regression_obj.cu:152: reg:linear is now deprecated in favor of reg:squarederror.\n",
      "[21:29:40] WARNING: /workspace/src/objective/regression_obj.cu:152: reg:linear is now deprecated in favor of reg:squarederror.\n",
      "29.260202864349026\n"
     ]
    },
    {
     "name": "stderr",
     "output_type": "stream",
     "text": [
      "[I 2019-07-31 21:32:23,097] Finished trial#57 resulted in value: 29.260202864349026. Current best value is 28.81903625117714 with parameters: {'max_depth': 2, 'max_bin': 64, 'eta': 0.25686655682465015, 'colsample_bytree': 0.7562310505739335, 'min_child_weight': 442, 'n_estimators': 101, 'subsample': 0.8508674216834293, 'reg_lambda': 0.0006120328483378985, 'reg_alpha': 0.0012168473960911727}.\n"
     ]
    },
    {
     "name": "stdout",
     "output_type": "stream",
     "text": [
      "[21:32:25] WARNING: /workspace/src/objective/regression_obj.cu:152: reg:linear is now deprecated in favor of reg:squarederror.\n",
      "[21:33:50] WARNING: /workspace/src/objective/regression_obj.cu:152: reg:linear is now deprecated in favor of reg:squarederror.\n",
      "[21:35:16] WARNING: /workspace/src/objective/regression_obj.cu:152: reg:linear is now deprecated in favor of reg:squarederror.\n",
      "[21:36:43] WARNING: /workspace/src/objective/regression_obj.cu:152: reg:linear is now deprecated in favor of reg:squarederror.\n",
      "[21:38:09] WARNING: /workspace/src/objective/regression_obj.cu:152: reg:linear is now deprecated in favor of reg:squarederror.\n",
      "29.276018563660816\n"
     ]
    },
    {
     "name": "stderr",
     "output_type": "stream",
     "text": [
      "[I 2019-07-31 21:39:34,285] Finished trial#58 resulted in value: 29.276018563660816. Current best value is 28.81903625117714 with parameters: {'max_depth': 2, 'max_bin': 64, 'eta': 0.25686655682465015, 'colsample_bytree': 0.7562310505739335, 'min_child_weight': 442, 'n_estimators': 101, 'subsample': 0.8508674216834293, 'reg_lambda': 0.0006120328483378985, 'reg_alpha': 0.0012168473960911727}.\n"
     ]
    },
    {
     "name": "stdout",
     "output_type": "stream",
     "text": [
      "[21:39:36] WARNING: /workspace/src/objective/regression_obj.cu:152: reg:linear is now deprecated in favor of reg:squarederror.\n",
      "[21:39:52] WARNING: /workspace/src/objective/regression_obj.cu:152: reg:linear is now deprecated in favor of reg:squarederror.\n",
      "[21:40:08] WARNING: /workspace/src/objective/regression_obj.cu:152: reg:linear is now deprecated in favor of reg:squarederror.\n",
      "[21:40:24] WARNING: /workspace/src/objective/regression_obj.cu:152: reg:linear is now deprecated in favor of reg:squarederror.\n",
      "[21:40:40] WARNING: /workspace/src/objective/regression_obj.cu:152: reg:linear is now deprecated in favor of reg:squarederror.\n",
      "28.894823824171482\n"
     ]
    },
    {
     "name": "stderr",
     "output_type": "stream",
     "text": [
      "[I 2019-07-31 21:40:55,511] Finished trial#59 resulted in value: 28.894823824171482. Current best value is 28.81903625117714 with parameters: {'max_depth': 2, 'max_bin': 64, 'eta': 0.25686655682465015, 'colsample_bytree': 0.7562310505739335, 'min_child_weight': 442, 'n_estimators': 101, 'subsample': 0.8508674216834293, 'reg_lambda': 0.0006120328483378985, 'reg_alpha': 0.0012168473960911727}.\n"
     ]
    },
    {
     "name": "stdout",
     "output_type": "stream",
     "text": [
      "[21:40:57] WARNING: /workspace/src/objective/regression_obj.cu:152: reg:linear is now deprecated in favor of reg:squarederror.\n",
      "[21:41:18] WARNING: /workspace/src/objective/regression_obj.cu:152: reg:linear is now deprecated in favor of reg:squarederror.\n",
      "[21:41:40] WARNING: /workspace/src/objective/regression_obj.cu:152: reg:linear is now deprecated in favor of reg:squarederror.\n",
      "[21:42:02] WARNING: /workspace/src/objective/regression_obj.cu:152: reg:linear is now deprecated in favor of reg:squarederror.\n",
      "[21:42:24] WARNING: /workspace/src/objective/regression_obj.cu:152: reg:linear is now deprecated in favor of reg:squarederror.\n",
      "29.042796762754342\n"
     ]
    },
    {
     "name": "stderr",
     "output_type": "stream",
     "text": [
      "[I 2019-07-31 21:42:45,224] Finished trial#60 resulted in value: 29.042796762754342. Current best value is 28.81903625117714 with parameters: {'max_depth': 2, 'max_bin': 64, 'eta': 0.25686655682465015, 'colsample_bytree': 0.7562310505739335, 'min_child_weight': 442, 'n_estimators': 101, 'subsample': 0.8508674216834293, 'reg_lambda': 0.0006120328483378985, 'reg_alpha': 0.0012168473960911727}.\n"
     ]
    },
    {
     "name": "stdout",
     "output_type": "stream",
     "text": [
      "[21:42:47] WARNING: /workspace/src/objective/regression_obj.cu:152: reg:linear is now deprecated in favor of reg:squarederror.\n",
      "[21:44:48] WARNING: /workspace/src/objective/regression_obj.cu:152: reg:linear is now deprecated in favor of reg:squarederror.\n",
      "[21:46:52] WARNING: /workspace/src/objective/regression_obj.cu:152: reg:linear is now deprecated in favor of reg:squarederror.\n",
      "[21:48:52] WARNING: /workspace/src/objective/regression_obj.cu:152: reg:linear is now deprecated in favor of reg:squarederror.\n",
      "[21:50:52] WARNING: /workspace/src/objective/regression_obj.cu:152: reg:linear is now deprecated in favor of reg:squarederror.\n",
      "29.286235711015248\n"
     ]
    },
    {
     "name": "stderr",
     "output_type": "stream",
     "text": [
      "[I 2019-07-31 21:52:52,671] Finished trial#61 resulted in value: 29.286235711015248. Current best value is 28.81903625117714 with parameters: {'max_depth': 2, 'max_bin': 64, 'eta': 0.25686655682465015, 'colsample_bytree': 0.7562310505739335, 'min_child_weight': 442, 'n_estimators': 101, 'subsample': 0.8508674216834293, 'reg_lambda': 0.0006120328483378985, 'reg_alpha': 0.0012168473960911727}.\n"
     ]
    },
    {
     "name": "stdout",
     "output_type": "stream",
     "text": [
      "[21:52:54] WARNING: /workspace/src/objective/regression_obj.cu:152: reg:linear is now deprecated in favor of reg:squarederror.\n",
      "[21:56:00] WARNING: /workspace/src/objective/regression_obj.cu:152: reg:linear is now deprecated in favor of reg:squarederror.\n",
      "[21:59:06] WARNING: /workspace/src/objective/regression_obj.cu:152: reg:linear is now deprecated in favor of reg:squarederror.\n",
      "[22:02:14] WARNING: /workspace/src/objective/regression_obj.cu:152: reg:linear is now deprecated in favor of reg:squarederror.\n",
      "[22:05:19] WARNING: /workspace/src/objective/regression_obj.cu:152: reg:linear is now deprecated in favor of reg:squarederror.\n",
      "29.277313713637387\n"
     ]
    },
    {
     "name": "stderr",
     "output_type": "stream",
     "text": [
      "[I 2019-07-31 22:08:24,189] Finished trial#62 resulted in value: 29.277313713637387. Current best value is 28.81903625117714 with parameters: {'max_depth': 2, 'max_bin': 64, 'eta': 0.25686655682465015, 'colsample_bytree': 0.7562310505739335, 'min_child_weight': 442, 'n_estimators': 101, 'subsample': 0.8508674216834293, 'reg_lambda': 0.0006120328483378985, 'reg_alpha': 0.0012168473960911727}.\n"
     ]
    },
    {
     "name": "stdout",
     "output_type": "stream",
     "text": [
      "[22:08:26] WARNING: /workspace/src/objective/regression_obj.cu:152: reg:linear is now deprecated in favor of reg:squarederror.\n",
      "[22:09:56] WARNING: /workspace/src/objective/regression_obj.cu:152: reg:linear is now deprecated in favor of reg:squarederror.\n",
      "[22:11:28] WARNING: /workspace/src/objective/regression_obj.cu:152: reg:linear is now deprecated in favor of reg:squarederror.\n",
      "[22:13:01] WARNING: /workspace/src/objective/regression_obj.cu:152: reg:linear is now deprecated in favor of reg:squarederror.\n",
      "[22:14:32] WARNING: /workspace/src/objective/regression_obj.cu:152: reg:linear is now deprecated in favor of reg:squarederror.\n",
      "29.22455761067667\n"
     ]
    },
    {
     "name": "stderr",
     "output_type": "stream",
     "text": [
      "[I 2019-07-31 22:16:01,182] Finished trial#63 resulted in value: 29.22455761067667. Current best value is 28.81903625117714 with parameters: {'max_depth': 2, 'max_bin': 64, 'eta': 0.25686655682465015, 'colsample_bytree': 0.7562310505739335, 'min_child_weight': 442, 'n_estimators': 101, 'subsample': 0.8508674216834293, 'reg_lambda': 0.0006120328483378985, 'reg_alpha': 0.0012168473960911727}.\n"
     ]
    },
    {
     "name": "stdout",
     "output_type": "stream",
     "text": [
      "[22:16:03] WARNING: /workspace/src/objective/regression_obj.cu:152: reg:linear is now deprecated in favor of reg:squarederror.\n",
      "[22:16:51] WARNING: /workspace/src/objective/regression_obj.cu:152: reg:linear is now deprecated in favor of reg:squarederror.\n",
      "[22:17:43] WARNING: /workspace/src/objective/regression_obj.cu:152: reg:linear is now deprecated in favor of reg:squarederror.\n",
      "[22:18:33] WARNING: /workspace/src/objective/regression_obj.cu:152: reg:linear is now deprecated in favor of reg:squarederror.\n",
      "[22:19:24] WARNING: /workspace/src/objective/regression_obj.cu:152: reg:linear is now deprecated in favor of reg:squarederror.\n",
      "29.145796636156664\n"
     ]
    },
    {
     "name": "stderr",
     "output_type": "stream",
     "text": [
      "[I 2019-07-31 22:20:13,978] Finished trial#64 resulted in value: 29.145796636156664. Current best value is 28.81903625117714 with parameters: {'max_depth': 2, 'max_bin': 64, 'eta': 0.25686655682465015, 'colsample_bytree': 0.7562310505739335, 'min_child_weight': 442, 'n_estimators': 101, 'subsample': 0.8508674216834293, 'reg_lambda': 0.0006120328483378985, 'reg_alpha': 0.0012168473960911727}.\n"
     ]
    },
    {
     "name": "stdout",
     "output_type": "stream",
     "text": [
      "[22:20:16] WARNING: /workspace/src/objective/regression_obj.cu:152: reg:linear is now deprecated in favor of reg:squarederror.\n",
      "[22:20:35] WARNING: /workspace/src/objective/regression_obj.cu:152: reg:linear is now deprecated in favor of reg:squarederror.\n",
      "[22:20:54] WARNING: /workspace/src/objective/regression_obj.cu:152: reg:linear is now deprecated in favor of reg:squarederror.\n",
      "[22:21:13] WARNING: /workspace/src/objective/regression_obj.cu:152: reg:linear is now deprecated in favor of reg:squarederror.\n",
      "[22:21:32] WARNING: /workspace/src/objective/regression_obj.cu:152: reg:linear is now deprecated in favor of reg:squarederror.\n",
      "28.928960274770684\n"
     ]
    },
    {
     "name": "stderr",
     "output_type": "stream",
     "text": [
      "[I 2019-07-31 22:21:50,305] Finished trial#65 resulted in value: 28.928960274770684. Current best value is 28.81903625117714 with parameters: {'max_depth': 2, 'max_bin': 64, 'eta': 0.25686655682465015, 'colsample_bytree': 0.7562310505739335, 'min_child_weight': 442, 'n_estimators': 101, 'subsample': 0.8508674216834293, 'reg_lambda': 0.0006120328483378985, 'reg_alpha': 0.0012168473960911727}.\n"
     ]
    },
    {
     "name": "stdout",
     "output_type": "stream",
     "text": [
      "[22:21:52] WARNING: /workspace/src/objective/regression_obj.cu:152: reg:linear is now deprecated in favor of reg:squarederror.\n",
      "[22:22:09] WARNING: /workspace/src/objective/regression_obj.cu:152: reg:linear is now deprecated in favor of reg:squarederror.\n",
      "[22:22:26] WARNING: /workspace/src/objective/regression_obj.cu:152: reg:linear is now deprecated in favor of reg:squarederror.\n",
      "[22:22:44] WARNING: /workspace/src/objective/regression_obj.cu:152: reg:linear is now deprecated in favor of reg:squarederror.\n",
      "[22:23:01] WARNING: /workspace/src/objective/regression_obj.cu:152: reg:linear is now deprecated in favor of reg:squarederror.\n",
      "28.894814918386057\n"
     ]
    },
    {
     "name": "stderr",
     "output_type": "stream",
     "text": [
      "[I 2019-07-31 22:23:17,387] Finished trial#66 resulted in value: 28.894814918386057. Current best value is 28.81903625117714 with parameters: {'max_depth': 2, 'max_bin': 64, 'eta': 0.25686655682465015, 'colsample_bytree': 0.7562310505739335, 'min_child_weight': 442, 'n_estimators': 101, 'subsample': 0.8508674216834293, 'reg_lambda': 0.0006120328483378985, 'reg_alpha': 0.0012168473960911727}.\n"
     ]
    },
    {
     "name": "stdout",
     "output_type": "stream",
     "text": [
      "[22:23:19] WARNING: /workspace/src/objective/regression_obj.cu:152: reg:linear is now deprecated in favor of reg:squarederror.\n",
      "[22:23:35] WARNING: /workspace/src/objective/regression_obj.cu:152: reg:linear is now deprecated in favor of reg:squarederror.\n",
      "[22:23:52] WARNING: /workspace/src/objective/regression_obj.cu:152: reg:linear is now deprecated in favor of reg:squarederror.\n",
      "[22:24:08] WARNING: /workspace/src/objective/regression_obj.cu:152: reg:linear is now deprecated in favor of reg:squarederror.\n",
      "[22:24:25] WARNING: /workspace/src/objective/regression_obj.cu:152: reg:linear is now deprecated in favor of reg:squarederror.\n",
      "28.882567742725037\n"
     ]
    },
    {
     "name": "stderr",
     "output_type": "stream",
     "text": [
      "[I 2019-07-31 22:24:40,220] Finished trial#67 resulted in value: 28.882567742725037. Current best value is 28.81903625117714 with parameters: {'max_depth': 2, 'max_bin': 64, 'eta': 0.25686655682465015, 'colsample_bytree': 0.7562310505739335, 'min_child_weight': 442, 'n_estimators': 101, 'subsample': 0.8508674216834293, 'reg_lambda': 0.0006120328483378985, 'reg_alpha': 0.0012168473960911727}.\n"
     ]
    },
    {
     "name": "stdout",
     "output_type": "stream",
     "text": [
      "[22:24:42] WARNING: /workspace/src/objective/regression_obj.cu:152: reg:linear is now deprecated in favor of reg:squarederror.\n",
      "[22:25:11] WARNING: /workspace/src/objective/regression_obj.cu:152: reg:linear is now deprecated in favor of reg:squarederror.\n",
      "[22:25:42] WARNING: /workspace/src/objective/regression_obj.cu:152: reg:linear is now deprecated in favor of reg:squarederror.\n",
      "[22:26:13] WARNING: /workspace/src/objective/regression_obj.cu:152: reg:linear is now deprecated in favor of reg:squarederror.\n",
      "[22:26:44] WARNING: /workspace/src/objective/regression_obj.cu:152: reg:linear is now deprecated in favor of reg:squarederror.\n",
      "28.99747724553696\n"
     ]
    },
    {
     "name": "stderr",
     "output_type": "stream",
     "text": [
      "[I 2019-07-31 22:27:14,649] Finished trial#68 resulted in value: 28.99747724553696. Current best value is 28.81903625117714 with parameters: {'max_depth': 2, 'max_bin': 64, 'eta': 0.25686655682465015, 'colsample_bytree': 0.7562310505739335, 'min_child_weight': 442, 'n_estimators': 101, 'subsample': 0.8508674216834293, 'reg_lambda': 0.0006120328483378985, 'reg_alpha': 0.0012168473960911727}.\n"
     ]
    },
    {
     "name": "stdout",
     "output_type": "stream",
     "text": [
      "[22:27:16] WARNING: /workspace/src/objective/regression_obj.cu:152: reg:linear is now deprecated in favor of reg:squarederror.\n",
      "[22:27:48] WARNING: /workspace/src/objective/regression_obj.cu:152: reg:linear is now deprecated in favor of reg:squarederror.\n",
      "[22:28:20] WARNING: /workspace/src/objective/regression_obj.cu:152: reg:linear is now deprecated in favor of reg:squarederror.\n",
      "[22:28:52] WARNING: /workspace/src/objective/regression_obj.cu:152: reg:linear is now deprecated in favor of reg:squarederror.\n",
      "[22:29:25] WARNING: /workspace/src/objective/regression_obj.cu:152: reg:linear is now deprecated in favor of reg:squarederror.\n",
      "29.097006710176988\n"
     ]
    },
    {
     "name": "stderr",
     "output_type": "stream",
     "text": [
      "[I 2019-07-31 22:29:55,864] Finished trial#69 resulted in value: 29.097006710176988. Current best value is 28.81903625117714 with parameters: {'max_depth': 2, 'max_bin': 64, 'eta': 0.25686655682465015, 'colsample_bytree': 0.7562310505739335, 'min_child_weight': 442, 'n_estimators': 101, 'subsample': 0.8508674216834293, 'reg_lambda': 0.0006120328483378985, 'reg_alpha': 0.0012168473960911727}.\n"
     ]
    },
    {
     "name": "stdout",
     "output_type": "stream",
     "text": [
      "[22:29:57] WARNING: /workspace/src/objective/regression_obj.cu:152: reg:linear is now deprecated in favor of reg:squarederror.\n",
      "[22:30:16] WARNING: /workspace/src/objective/regression_obj.cu:152: reg:linear is now deprecated in favor of reg:squarederror.\n",
      "[22:30:34] WARNING: /workspace/src/objective/regression_obj.cu:152: reg:linear is now deprecated in favor of reg:squarederror.\n",
      "[22:30:52] WARNING: /workspace/src/objective/regression_obj.cu:152: reg:linear is now deprecated in favor of reg:squarederror.\n",
      "[22:31:10] WARNING: /workspace/src/objective/regression_obj.cu:152: reg:linear is now deprecated in favor of reg:squarederror.\n",
      "29.011600455823586\n"
     ]
    },
    {
     "name": "stderr",
     "output_type": "stream",
     "text": [
      "[I 2019-07-31 22:31:27,136] Finished trial#70 resulted in value: 29.011600455823586. Current best value is 28.81903625117714 with parameters: {'max_depth': 2, 'max_bin': 64, 'eta': 0.25686655682465015, 'colsample_bytree': 0.7562310505739335, 'min_child_weight': 442, 'n_estimators': 101, 'subsample': 0.8508674216834293, 'reg_lambda': 0.0006120328483378985, 'reg_alpha': 0.0012168473960911727}.\n"
     ]
    },
    {
     "name": "stdout",
     "output_type": "stream",
     "text": [
      "[22:31:29] WARNING: /workspace/src/objective/regression_obj.cu:152: reg:linear is now deprecated in favor of reg:squarederror.\n",
      "[22:32:04] WARNING: /workspace/src/objective/regression_obj.cu:152: reg:linear is now deprecated in favor of reg:squarederror.\n",
      "[22:32:40] WARNING: /workspace/src/objective/regression_obj.cu:152: reg:linear is now deprecated in favor of reg:squarederror.\n",
      "[22:33:16] WARNING: /workspace/src/objective/regression_obj.cu:152: reg:linear is now deprecated in favor of reg:squarederror.\n",
      "[22:33:51] WARNING: /workspace/src/objective/regression_obj.cu:152: reg:linear is now deprecated in favor of reg:squarederror.\n",
      "29.017313015443396\n"
     ]
    },
    {
     "name": "stderr",
     "output_type": "stream",
     "text": [
      "[I 2019-07-31 22:34:25,727] Finished trial#71 resulted in value: 29.017313015443396. Current best value is 28.81903625117714 with parameters: {'max_depth': 2, 'max_bin': 64, 'eta': 0.25686655682465015, 'colsample_bytree': 0.7562310505739335, 'min_child_weight': 442, 'n_estimators': 101, 'subsample': 0.8508674216834293, 'reg_lambda': 0.0006120328483378985, 'reg_alpha': 0.0012168473960911727}.\n"
     ]
    },
    {
     "name": "stdout",
     "output_type": "stream",
     "text": [
      "[22:34:27] WARNING: /workspace/src/objective/regression_obj.cu:152: reg:linear is now deprecated in favor of reg:squarederror.\n",
      "[22:34:55] WARNING: /workspace/src/objective/regression_obj.cu:152: reg:linear is now deprecated in favor of reg:squarederror.\n",
      "[22:35:27] WARNING: /workspace/src/objective/regression_obj.cu:152: reg:linear is now deprecated in favor of reg:squarederror.\n",
      "[22:35:56] WARNING: /workspace/src/objective/regression_obj.cu:152: reg:linear is now deprecated in favor of reg:squarederror.\n",
      "[22:36:26] WARNING: /workspace/src/objective/regression_obj.cu:152: reg:linear is now deprecated in favor of reg:squarederror.\n",
      "29.123103240129346\n"
     ]
    },
    {
     "name": "stderr",
     "output_type": "stream",
     "text": [
      "[I 2019-07-31 22:36:55,334] Finished trial#72 resulted in value: 29.123103240129346. Current best value is 28.81903625117714 with parameters: {'max_depth': 2, 'max_bin': 64, 'eta': 0.25686655682465015, 'colsample_bytree': 0.7562310505739335, 'min_child_weight': 442, 'n_estimators': 101, 'subsample': 0.8508674216834293, 'reg_lambda': 0.0006120328483378985, 'reg_alpha': 0.0012168473960911727}.\n"
     ]
    },
    {
     "name": "stdout",
     "output_type": "stream",
     "text": [
      "[22:36:57] WARNING: /workspace/src/objective/regression_obj.cu:152: reg:linear is now deprecated in favor of reg:squarederror.\n",
      "[22:37:30] WARNING: /workspace/src/objective/regression_obj.cu:152: reg:linear is now deprecated in favor of reg:squarederror.\n",
      "[22:38:03] WARNING: /workspace/src/objective/regression_obj.cu:152: reg:linear is now deprecated in favor of reg:squarederror.\n",
      "[22:38:36] WARNING: /workspace/src/objective/regression_obj.cu:152: reg:linear is now deprecated in favor of reg:squarederror.\n",
      "[22:39:09] WARNING: /workspace/src/objective/regression_obj.cu:152: reg:linear is now deprecated in favor of reg:squarederror.\n",
      "29.104565378481123\n"
     ]
    },
    {
     "name": "stderr",
     "output_type": "stream",
     "text": [
      "[I 2019-07-31 22:39:41,376] Finished trial#73 resulted in value: 29.104565378481123. Current best value is 28.81903625117714 with parameters: {'max_depth': 2, 'max_bin': 64, 'eta': 0.25686655682465015, 'colsample_bytree': 0.7562310505739335, 'min_child_weight': 442, 'n_estimators': 101, 'subsample': 0.8508674216834293, 'reg_lambda': 0.0006120328483378985, 'reg_alpha': 0.0012168473960911727}.\n"
     ]
    },
    {
     "name": "stdout",
     "output_type": "stream",
     "text": [
      "[22:39:43] WARNING: /workspace/src/objective/regression_obj.cu:152: reg:linear is now deprecated in favor of reg:squarederror.\n",
      "[22:40:13] WARNING: /workspace/src/objective/regression_obj.cu:152: reg:linear is now deprecated in favor of reg:squarederror.\n",
      "[22:40:43] WARNING: /workspace/src/objective/regression_obj.cu:152: reg:linear is now deprecated in favor of reg:squarederror.\n",
      "[22:41:14] WARNING: /workspace/src/objective/regression_obj.cu:152: reg:linear is now deprecated in favor of reg:squarederror.\n",
      "[22:41:44] WARNING: /workspace/src/objective/regression_obj.cu:152: reg:linear is now deprecated in favor of reg:squarederror.\n",
      "29.00597906002552\n"
     ]
    },
    {
     "name": "stderr",
     "output_type": "stream",
     "text": [
      "[I 2019-07-31 22:42:12,733] Finished trial#74 resulted in value: 29.00597906002552. Current best value is 28.81903625117714 with parameters: {'max_depth': 2, 'max_bin': 64, 'eta': 0.25686655682465015, 'colsample_bytree': 0.7562310505739335, 'min_child_weight': 442, 'n_estimators': 101, 'subsample': 0.8508674216834293, 'reg_lambda': 0.0006120328483378985, 'reg_alpha': 0.0012168473960911727}.\n"
     ]
    },
    {
     "name": "stdout",
     "output_type": "stream",
     "text": [
      "[22:42:14] WARNING: /workspace/src/objective/regression_obj.cu:152: reg:linear is now deprecated in favor of reg:squarederror.\n",
      "[22:42:35] WARNING: /workspace/src/objective/regression_obj.cu:152: reg:linear is now deprecated in favor of reg:squarederror.\n",
      "[22:42:57] WARNING: /workspace/src/objective/regression_obj.cu:152: reg:linear is now deprecated in favor of reg:squarederror.\n",
      "[22:43:19] WARNING: /workspace/src/objective/regression_obj.cu:152: reg:linear is now deprecated in favor of reg:squarederror.\n",
      "[22:43:40] WARNING: /workspace/src/objective/regression_obj.cu:152: reg:linear is now deprecated in favor of reg:squarederror.\n",
      "28.929025968848787\n"
     ]
    },
    {
     "name": "stderr",
     "output_type": "stream",
     "text": [
      "[I 2019-07-31 22:43:59,993] Finished trial#75 resulted in value: 28.929025968848787. Current best value is 28.81903625117714 with parameters: {'max_depth': 2, 'max_bin': 64, 'eta': 0.25686655682465015, 'colsample_bytree': 0.7562310505739335, 'min_child_weight': 442, 'n_estimators': 101, 'subsample': 0.8508674216834293, 'reg_lambda': 0.0006120328483378985, 'reg_alpha': 0.0012168473960911727}.\n"
     ]
    },
    {
     "name": "stdout",
     "output_type": "stream",
     "text": [
      "[22:44:02] WARNING: /workspace/src/objective/regression_obj.cu:152: reg:linear is now deprecated in favor of reg:squarederror.\n",
      "[22:44:47] WARNING: /workspace/src/objective/regression_obj.cu:152: reg:linear is now deprecated in favor of reg:squarederror.\n",
      "[22:45:36] WARNING: /workspace/src/objective/regression_obj.cu:152: reg:linear is now deprecated in favor of reg:squarederror.\n",
      "[22:46:23] WARNING: /workspace/src/objective/regression_obj.cu:152: reg:linear is now deprecated in favor of reg:squarederror.\n",
      "[22:47:13] WARNING: /workspace/src/objective/regression_obj.cu:152: reg:linear is now deprecated in favor of reg:squarederror.\n",
      "29.138771871143508\n"
     ]
    },
    {
     "name": "stderr",
     "output_type": "stream",
     "text": [
      "[I 2019-07-31 22:48:00,496] Finished trial#76 resulted in value: 29.138771871143508. Current best value is 28.81903625117714 with parameters: {'max_depth': 2, 'max_bin': 64, 'eta': 0.25686655682465015, 'colsample_bytree': 0.7562310505739335, 'min_child_weight': 442, 'n_estimators': 101, 'subsample': 0.8508674216834293, 'reg_lambda': 0.0006120328483378985, 'reg_alpha': 0.0012168473960911727}.\n"
     ]
    },
    {
     "name": "stdout",
     "output_type": "stream",
     "text": [
      "[22:48:02] WARNING: /workspace/src/objective/regression_obj.cu:152: reg:linear is now deprecated in favor of reg:squarederror.\n",
      "[22:49:10] WARNING: /workspace/src/objective/regression_obj.cu:152: reg:linear is now deprecated in favor of reg:squarederror.\n",
      "[22:50:18] WARNING: /workspace/src/objective/regression_obj.cu:152: reg:linear is now deprecated in favor of reg:squarederror.\n",
      "[22:51:26] WARNING: /workspace/src/objective/regression_obj.cu:152: reg:linear is now deprecated in favor of reg:squarederror.\n",
      "[22:52:34] WARNING: /workspace/src/objective/regression_obj.cu:152: reg:linear is now deprecated in favor of reg:squarederror.\n",
      "29.207915513541327\n"
     ]
    },
    {
     "name": "stderr",
     "output_type": "stream",
     "text": [
      "[I 2019-07-31 22:53:42,534] Finished trial#77 resulted in value: 29.207915513541327. Current best value is 28.81903625117714 with parameters: {'max_depth': 2, 'max_bin': 64, 'eta': 0.25686655682465015, 'colsample_bytree': 0.7562310505739335, 'min_child_weight': 442, 'n_estimators': 101, 'subsample': 0.8508674216834293, 'reg_lambda': 0.0006120328483378985, 'reg_alpha': 0.0012168473960911727}.\n"
     ]
    },
    {
     "name": "stdout",
     "output_type": "stream",
     "text": [
      "[22:53:44] WARNING: /workspace/src/objective/regression_obj.cu:152: reg:linear is now deprecated in favor of reg:squarederror.\n",
      "[22:57:26] WARNING: /workspace/src/objective/regression_obj.cu:152: reg:linear is now deprecated in favor of reg:squarederror.\n",
      "[23:01:06] WARNING: /workspace/src/objective/regression_obj.cu:152: reg:linear is now deprecated in favor of reg:squarederror.\n",
      "[23:04:50] WARNING: /workspace/src/objective/regression_obj.cu:152: reg:linear is now deprecated in favor of reg:squarederror.\n",
      "[23:08:32] WARNING: /workspace/src/objective/regression_obj.cu:152: reg:linear is now deprecated in favor of reg:squarederror.\n",
      "29.31254384812761\n"
     ]
    },
    {
     "name": "stderr",
     "output_type": "stream",
     "text": [
      "[I 2019-07-31 23:12:12,430] Finished trial#78 resulted in value: 29.31254384812761. Current best value is 28.81903625117714 with parameters: {'max_depth': 2, 'max_bin': 64, 'eta': 0.25686655682465015, 'colsample_bytree': 0.7562310505739335, 'min_child_weight': 442, 'n_estimators': 101, 'subsample': 0.8508674216834293, 'reg_lambda': 0.0006120328483378985, 'reg_alpha': 0.0012168473960911727}.\n"
     ]
    },
    {
     "name": "stdout",
     "output_type": "stream",
     "text": [
      "[23:12:14] WARNING: /workspace/src/objective/regression_obj.cu:152: reg:linear is now deprecated in favor of reg:squarederror.\n",
      "[23:12:43] WARNING: /workspace/src/objective/regression_obj.cu:152: reg:linear is now deprecated in favor of reg:squarederror.\n",
      "[23:13:12] WARNING: /workspace/src/objective/regression_obj.cu:152: reg:linear is now deprecated in favor of reg:squarederror.\n",
      "[23:13:42] WARNING: /workspace/src/objective/regression_obj.cu:152: reg:linear is now deprecated in favor of reg:squarederror.\n",
      "[23:14:11] WARNING: /workspace/src/objective/regression_obj.cu:152: reg:linear is now deprecated in favor of reg:squarederror.\n",
      "29.14886531318263\n"
     ]
    },
    {
     "name": "stderr",
     "output_type": "stream",
     "text": [
      "[I 2019-07-31 23:14:38,819] Finished trial#79 resulted in value: 29.14886531318263. Current best value is 28.81903625117714 with parameters: {'max_depth': 2, 'max_bin': 64, 'eta': 0.25686655682465015, 'colsample_bytree': 0.7562310505739335, 'min_child_weight': 442, 'n_estimators': 101, 'subsample': 0.8508674216834293, 'reg_lambda': 0.0006120328483378985, 'reg_alpha': 0.0012168473960911727}.\n"
     ]
    },
    {
     "name": "stdout",
     "output_type": "stream",
     "text": [
      "[23:14:40] WARNING: /workspace/src/objective/regression_obj.cu:152: reg:linear is now deprecated in favor of reg:squarederror.\n",
      "[23:16:22] WARNING: /workspace/src/objective/regression_obj.cu:152: reg:linear is now deprecated in favor of reg:squarederror.\n",
      "[23:18:12] WARNING: /workspace/src/objective/regression_obj.cu:152: reg:linear is now deprecated in favor of reg:squarederror.\n",
      "[23:19:58] WARNING: /workspace/src/objective/regression_obj.cu:152: reg:linear is now deprecated in favor of reg:squarederror.\n",
      "[23:21:48] WARNING: /workspace/src/objective/regression_obj.cu:152: reg:linear is now deprecated in favor of reg:squarederror.\n",
      "29.157858130623755\n"
     ]
    },
    {
     "name": "stderr",
     "output_type": "stream",
     "text": [
      "[I 2019-07-31 23:23:36,337] Finished trial#80 resulted in value: 29.157858130623755. Current best value is 28.81903625117714 with parameters: {'max_depth': 2, 'max_bin': 64, 'eta': 0.25686655682465015, 'colsample_bytree': 0.7562310505739335, 'min_child_weight': 442, 'n_estimators': 101, 'subsample': 0.8508674216834293, 'reg_lambda': 0.0006120328483378985, 'reg_alpha': 0.0012168473960911727}.\n"
     ]
    },
    {
     "name": "stdout",
     "output_type": "stream",
     "text": [
      "[23:23:38] WARNING: /workspace/src/objective/regression_obj.cu:152: reg:linear is now deprecated in favor of reg:squarederror.\n",
      "[23:25:14] WARNING: /workspace/src/objective/regression_obj.cu:152: reg:linear is now deprecated in favor of reg:squarederror.\n",
      "[23:26:49] WARNING: /workspace/src/objective/regression_obj.cu:152: reg:linear is now deprecated in favor of reg:squarederror.\n",
      "[23:28:23] WARNING: /workspace/src/objective/regression_obj.cu:152: reg:linear is now deprecated in favor of reg:squarederror.\n",
      "[23:29:58] WARNING: /workspace/src/objective/regression_obj.cu:152: reg:linear is now deprecated in favor of reg:squarederror.\n",
      "29.22765445728684\n"
     ]
    },
    {
     "name": "stderr",
     "output_type": "stream",
     "text": [
      "[I 2019-07-31 23:31:33,355] Finished trial#81 resulted in value: 29.22765445728684. Current best value is 28.81903625117714 with parameters: {'max_depth': 2, 'max_bin': 64, 'eta': 0.25686655682465015, 'colsample_bytree': 0.7562310505739335, 'min_child_weight': 442, 'n_estimators': 101, 'subsample': 0.8508674216834293, 'reg_lambda': 0.0006120328483378985, 'reg_alpha': 0.0012168473960911727}.\n"
     ]
    },
    {
     "name": "stdout",
     "output_type": "stream",
     "text": [
      "[23:31:35] WARNING: /workspace/src/objective/regression_obj.cu:152: reg:linear is now deprecated in favor of reg:squarederror.\n",
      "[23:33:27] WARNING: /workspace/src/objective/regression_obj.cu:152: reg:linear is now deprecated in favor of reg:squarederror.\n",
      "[23:35:19] WARNING: /workspace/src/objective/regression_obj.cu:152: reg:linear is now deprecated in favor of reg:squarederror.\n",
      "[23:37:13] WARNING: /workspace/src/objective/regression_obj.cu:152: reg:linear is now deprecated in favor of reg:squarederror.\n",
      "[23:39:06] WARNING: /workspace/src/objective/regression_obj.cu:152: reg:linear is now deprecated in favor of reg:squarederror.\n",
      "29.29497941508192\n"
     ]
    },
    {
     "name": "stderr",
     "output_type": "stream",
     "text": [
      "[I 2019-07-31 23:40:56,660] Finished trial#82 resulted in value: 29.29497941508192. Current best value is 28.81903625117714 with parameters: {'max_depth': 2, 'max_bin': 64, 'eta': 0.25686655682465015, 'colsample_bytree': 0.7562310505739335, 'min_child_weight': 442, 'n_estimators': 101, 'subsample': 0.8508674216834293, 'reg_lambda': 0.0006120328483378985, 'reg_alpha': 0.0012168473960911727}.\n"
     ]
    },
    {
     "name": "stdout",
     "output_type": "stream",
     "text": [
      "[23:40:58] WARNING: /workspace/src/objective/regression_obj.cu:152: reg:linear is now deprecated in favor of reg:squarederror.\n",
      "[23:41:31] WARNING: /workspace/src/objective/regression_obj.cu:152: reg:linear is now deprecated in favor of reg:squarederror.\n",
      "[23:42:03] WARNING: /workspace/src/objective/regression_obj.cu:152: reg:linear is now deprecated in favor of reg:squarederror.\n",
      "[23:42:37] WARNING: /workspace/src/objective/regression_obj.cu:152: reg:linear is now deprecated in favor of reg:squarederror.\n",
      "[23:43:09] WARNING: /workspace/src/objective/regression_obj.cu:152: reg:linear is now deprecated in favor of reg:squarederror.\n",
      "29.092347896017838\n"
     ]
    },
    {
     "name": "stderr",
     "output_type": "stream",
     "text": [
      "[I 2019-07-31 23:43:40,912] Finished trial#83 resulted in value: 29.092347896017838. Current best value is 28.81903625117714 with parameters: {'max_depth': 2, 'max_bin': 64, 'eta': 0.25686655682465015, 'colsample_bytree': 0.7562310505739335, 'min_child_weight': 442, 'n_estimators': 101, 'subsample': 0.8508674216834293, 'reg_lambda': 0.0006120328483378985, 'reg_alpha': 0.0012168473960911727}.\n"
     ]
    },
    {
     "name": "stdout",
     "output_type": "stream",
     "text": [
      "[23:43:42] WARNING: /workspace/src/objective/regression_obj.cu:152: reg:linear is now deprecated in favor of reg:squarederror.\n",
      "[23:43:58] WARNING: /workspace/src/objective/regression_obj.cu:152: reg:linear is now deprecated in favor of reg:squarederror.\n",
      "[23:44:16] WARNING: /workspace/src/objective/regression_obj.cu:152: reg:linear is now deprecated in favor of reg:squarederror.\n",
      "[23:44:32] WARNING: /workspace/src/objective/regression_obj.cu:152: reg:linear is now deprecated in favor of reg:squarederror.\n",
      "[23:44:49] WARNING: /workspace/src/objective/regression_obj.cu:152: reg:linear is now deprecated in favor of reg:squarederror.\n",
      "28.87262005498343\n"
     ]
    },
    {
     "name": "stderr",
     "output_type": "stream",
     "text": [
      "[I 2019-07-31 23:45:05,022] Finished trial#84 resulted in value: 28.87262005498343. Current best value is 28.81903625117714 with parameters: {'max_depth': 2, 'max_bin': 64, 'eta': 0.25686655682465015, 'colsample_bytree': 0.7562310505739335, 'min_child_weight': 442, 'n_estimators': 101, 'subsample': 0.8508674216834293, 'reg_lambda': 0.0006120328483378985, 'reg_alpha': 0.0012168473960911727}.\n"
     ]
    },
    {
     "name": "stdout",
     "output_type": "stream",
     "text": [
      "[23:45:07] WARNING: /workspace/src/objective/regression_obj.cu:152: reg:linear is now deprecated in favor of reg:squarederror.\n",
      "[23:45:48] WARNING: /workspace/src/objective/regression_obj.cu:152: reg:linear is now deprecated in favor of reg:squarederror.\n",
      "[23:46:30] WARNING: /workspace/src/objective/regression_obj.cu:152: reg:linear is now deprecated in favor of reg:squarederror.\n",
      "[23:47:11] WARNING: /workspace/src/objective/regression_obj.cu:152: reg:linear is now deprecated in favor of reg:squarederror.\n",
      "[23:47:52] WARNING: /workspace/src/objective/regression_obj.cu:152: reg:linear is now deprecated in favor of reg:squarederror.\n",
      "29.13567405162509\n"
     ]
    },
    {
     "name": "stderr",
     "output_type": "stream",
     "text": [
      "[I 2019-07-31 23:48:33,061] Finished trial#85 resulted in value: 29.13567405162509. Current best value is 28.81903625117714 with parameters: {'max_depth': 2, 'max_bin': 64, 'eta': 0.25686655682465015, 'colsample_bytree': 0.7562310505739335, 'min_child_weight': 442, 'n_estimators': 101, 'subsample': 0.8508674216834293, 'reg_lambda': 0.0006120328483378985, 'reg_alpha': 0.0012168473960911727}.\n"
     ]
    },
    {
     "name": "stdout",
     "output_type": "stream",
     "text": [
      "[23:48:35] WARNING: /workspace/src/objective/regression_obj.cu:152: reg:linear is now deprecated in favor of reg:squarederror.\n",
      "[23:49:27] WARNING: /workspace/src/objective/regression_obj.cu:152: reg:linear is now deprecated in favor of reg:squarederror.\n",
      "[23:50:20] WARNING: /workspace/src/objective/regression_obj.cu:152: reg:linear is now deprecated in favor of reg:squarederror.\n",
      "[23:51:13] WARNING: /workspace/src/objective/regression_obj.cu:152: reg:linear is now deprecated in favor of reg:squarederror.\n",
      "[23:52:06] WARNING: /workspace/src/objective/regression_obj.cu:152: reg:linear is now deprecated in favor of reg:squarederror.\n",
      "29.21343225743146\n"
     ]
    },
    {
     "name": "stderr",
     "output_type": "stream",
     "text": [
      "[I 2019-07-31 23:52:57,085] Finished trial#86 resulted in value: 29.21343225743146. Current best value is 28.81903625117714 with parameters: {'max_depth': 2, 'max_bin': 64, 'eta': 0.25686655682465015, 'colsample_bytree': 0.7562310505739335, 'min_child_weight': 442, 'n_estimators': 101, 'subsample': 0.8508674216834293, 'reg_lambda': 0.0006120328483378985, 'reg_alpha': 0.0012168473960911727}.\n"
     ]
    },
    {
     "name": "stdout",
     "output_type": "stream",
     "text": [
      "[23:52:59] WARNING: /workspace/src/objective/regression_obj.cu:152: reg:linear is now deprecated in favor of reg:squarederror.\n",
      "[23:55:34] WARNING: /workspace/src/objective/regression_obj.cu:152: reg:linear is now deprecated in favor of reg:squarederror.\n",
      "[23:58:13] WARNING: /workspace/src/objective/regression_obj.cu:152: reg:linear is now deprecated in favor of reg:squarederror.\n",
      "[00:00:53] WARNING: /workspace/src/objective/regression_obj.cu:152: reg:linear is now deprecated in favor of reg:squarederror.\n",
      "[00:03:28] WARNING: /workspace/src/objective/regression_obj.cu:152: reg:linear is now deprecated in favor of reg:squarederror.\n",
      "29.28315991879011\n"
     ]
    },
    {
     "name": "stderr",
     "output_type": "stream",
     "text": [
      "[I 2019-08-01 00:06:03,274] Finished trial#87 resulted in value: 29.28315991879011. Current best value is 28.81903625117714 with parameters: {'max_depth': 2, 'max_bin': 64, 'eta': 0.25686655682465015, 'colsample_bytree': 0.7562310505739335, 'min_child_weight': 442, 'n_estimators': 101, 'subsample': 0.8508674216834293, 'reg_lambda': 0.0006120328483378985, 'reg_alpha': 0.0012168473960911727}.\n"
     ]
    },
    {
     "name": "stdout",
     "output_type": "stream",
     "text": [
      "[00:06:05] WARNING: /workspace/src/objective/regression_obj.cu:152: reg:linear is now deprecated in favor of reg:squarederror.\n",
      "[00:07:43] WARNING: /workspace/src/objective/regression_obj.cu:152: reg:linear is now deprecated in favor of reg:squarederror.\n",
      "[00:09:33] WARNING: /workspace/src/objective/regression_obj.cu:152: reg:linear is now deprecated in favor of reg:squarederror.\n",
      "[00:11:15] WARNING: /workspace/src/objective/regression_obj.cu:152: reg:linear is now deprecated in favor of reg:squarederror.\n",
      "[00:13:01] WARNING: /workspace/src/objective/regression_obj.cu:152: reg:linear is now deprecated in favor of reg:squarederror.\n",
      "29.146979694621415\n"
     ]
    },
    {
     "name": "stderr",
     "output_type": "stream",
     "text": [
      "[I 2019-08-01 00:14:46,639] Finished trial#88 resulted in value: 29.146979694621415. Current best value is 28.81903625117714 with parameters: {'max_depth': 2, 'max_bin': 64, 'eta': 0.25686655682465015, 'colsample_bytree': 0.7562310505739335, 'min_child_weight': 442, 'n_estimators': 101, 'subsample': 0.8508674216834293, 'reg_lambda': 0.0006120328483378985, 'reg_alpha': 0.0012168473960911727}.\n"
     ]
    },
    {
     "name": "stdout",
     "output_type": "stream",
     "text": [
      "[00:14:48] WARNING: /workspace/src/objective/regression_obj.cu:152: reg:linear is now deprecated in favor of reg:squarederror.\n",
      "[00:15:24] WARNING: /workspace/src/objective/regression_obj.cu:152: reg:linear is now deprecated in favor of reg:squarederror.\n",
      "[00:15:59] WARNING: /workspace/src/objective/regression_obj.cu:152: reg:linear is now deprecated in favor of reg:squarederror.\n",
      "[00:16:34] WARNING: /workspace/src/objective/regression_obj.cu:152: reg:linear is now deprecated in favor of reg:squarederror.\n",
      "[00:17:09] WARNING: /workspace/src/objective/regression_obj.cu:152: reg:linear is now deprecated in favor of reg:squarederror.\n",
      "29.14275596039833\n"
     ]
    },
    {
     "name": "stderr",
     "output_type": "stream",
     "text": [
      "[I 2019-08-01 00:17:43,616] Finished trial#89 resulted in value: 29.14275596039833. Current best value is 28.81903625117714 with parameters: {'max_depth': 2, 'max_bin': 64, 'eta': 0.25686655682465015, 'colsample_bytree': 0.7562310505739335, 'min_child_weight': 442, 'n_estimators': 101, 'subsample': 0.8508674216834293, 'reg_lambda': 0.0006120328483378985, 'reg_alpha': 0.0012168473960911727}.\n"
     ]
    },
    {
     "name": "stdout",
     "output_type": "stream",
     "text": [
      "[00:17:45] WARNING: /workspace/src/objective/regression_obj.cu:152: reg:linear is now deprecated in favor of reg:squarederror.\n",
      "[00:19:06] WARNING: /workspace/src/objective/regression_obj.cu:152: reg:linear is now deprecated in favor of reg:squarederror.\n",
      "[00:20:27] WARNING: /workspace/src/objective/regression_obj.cu:152: reg:linear is now deprecated in favor of reg:squarederror.\n",
      "[00:21:49] WARNING: /workspace/src/objective/regression_obj.cu:152: reg:linear is now deprecated in favor of reg:squarederror.\n",
      "[00:23:10] WARNING: /workspace/src/objective/regression_obj.cu:152: reg:linear is now deprecated in favor of reg:squarederror.\n",
      "29.19511861261641\n"
     ]
    },
    {
     "name": "stderr",
     "output_type": "stream",
     "text": [
      "[I 2019-08-01 00:24:29,892] Finished trial#90 resulted in value: 29.19511861261641. Current best value is 28.81903625117714 with parameters: {'max_depth': 2, 'max_bin': 64, 'eta': 0.25686655682465015, 'colsample_bytree': 0.7562310505739335, 'min_child_weight': 442, 'n_estimators': 101, 'subsample': 0.8508674216834293, 'reg_lambda': 0.0006120328483378985, 'reg_alpha': 0.0012168473960911727}.\n"
     ]
    },
    {
     "name": "stdout",
     "output_type": "stream",
     "text": [
      "[00:24:31] WARNING: /workspace/src/objective/regression_obj.cu:152: reg:linear is now deprecated in favor of reg:squarederror.\n",
      "[00:25:03] WARNING: /workspace/src/objective/regression_obj.cu:152: reg:linear is now deprecated in favor of reg:squarederror.\n",
      "[00:25:34] WARNING: /workspace/src/objective/regression_obj.cu:152: reg:linear is now deprecated in favor of reg:squarederror.\n",
      "[00:26:05] WARNING: /workspace/src/objective/regression_obj.cu:152: reg:linear is now deprecated in favor of reg:squarederror.\n",
      "[00:26:36] WARNING: /workspace/src/objective/regression_obj.cu:152: reg:linear is now deprecated in favor of reg:squarederror.\n",
      "29.166328309156114\n"
     ]
    },
    {
     "name": "stderr",
     "output_type": "stream",
     "text": [
      "[I 2019-08-01 00:27:05,944] Finished trial#91 resulted in value: 29.166328309156114. Current best value is 28.81903625117714 with parameters: {'max_depth': 2, 'max_bin': 64, 'eta': 0.25686655682465015, 'colsample_bytree': 0.7562310505739335, 'min_child_weight': 442, 'n_estimators': 101, 'subsample': 0.8508674216834293, 'reg_lambda': 0.0006120328483378985, 'reg_alpha': 0.0012168473960911727}.\n"
     ]
    },
    {
     "name": "stdout",
     "output_type": "stream",
     "text": [
      "[00:27:07] WARNING: /workspace/src/objective/regression_obj.cu:152: reg:linear is now deprecated in favor of reg:squarederror.\n",
      "[00:27:48] WARNING: /workspace/src/objective/regression_obj.cu:152: reg:linear is now deprecated in favor of reg:squarederror.\n",
      "[00:28:32] WARNING: /workspace/src/objective/regression_obj.cu:152: reg:linear is now deprecated in favor of reg:squarederror.\n",
      "[00:29:14] WARNING: /workspace/src/objective/regression_obj.cu:152: reg:linear is now deprecated in favor of reg:squarederror.\n",
      "[00:29:57] WARNING: /workspace/src/objective/regression_obj.cu:152: reg:linear is now deprecated in favor of reg:squarederror.\n",
      "29.035990016488647\n"
     ]
    },
    {
     "name": "stderr",
     "output_type": "stream",
     "text": [
      "[I 2019-08-01 00:30:40,159] Finished trial#92 resulted in value: 29.035990016488647. Current best value is 28.81903625117714 with parameters: {'max_depth': 2, 'max_bin': 64, 'eta': 0.25686655682465015, 'colsample_bytree': 0.7562310505739335, 'min_child_weight': 442, 'n_estimators': 101, 'subsample': 0.8508674216834293, 'reg_lambda': 0.0006120328483378985, 'reg_alpha': 0.0012168473960911727}.\n"
     ]
    },
    {
     "name": "stdout",
     "output_type": "stream",
     "text": [
      "[00:30:42] WARNING: /workspace/src/objective/regression_obj.cu:152: reg:linear is now deprecated in favor of reg:squarederror.\n",
      "[00:31:20] WARNING: /workspace/src/objective/regression_obj.cu:152: reg:linear is now deprecated in favor of reg:squarederror.\n",
      "[00:31:59] WARNING: /workspace/src/objective/regression_obj.cu:152: reg:linear is now deprecated in favor of reg:squarederror.\n",
      "[00:32:37] WARNING: /workspace/src/objective/regression_obj.cu:152: reg:linear is now deprecated in favor of reg:squarederror.\n",
      "[00:33:15] WARNING: /workspace/src/objective/regression_obj.cu:152: reg:linear is now deprecated in favor of reg:squarederror.\n",
      "29.12080890533264\n"
     ]
    },
    {
     "name": "stderr",
     "output_type": "stream",
     "text": [
      "[I 2019-08-01 00:33:53,353] Finished trial#93 resulted in value: 29.12080890533264. Current best value is 28.81903625117714 with parameters: {'max_depth': 2, 'max_bin': 64, 'eta': 0.25686655682465015, 'colsample_bytree': 0.7562310505739335, 'min_child_weight': 442, 'n_estimators': 101, 'subsample': 0.8508674216834293, 'reg_lambda': 0.0006120328483378985, 'reg_alpha': 0.0012168473960911727}.\n"
     ]
    },
    {
     "name": "stdout",
     "output_type": "stream",
     "text": [
      "[00:33:55] WARNING: /workspace/src/objective/regression_obj.cu:152: reg:linear is now deprecated in favor of reg:squarederror.\n",
      "[00:37:29] WARNING: /workspace/src/objective/regression_obj.cu:152: reg:linear is now deprecated in favor of reg:squarederror.\n",
      "[00:41:01] WARNING: /workspace/src/objective/regression_obj.cu:152: reg:linear is now deprecated in favor of reg:squarederror.\n",
      "[00:44:35] WARNING: /workspace/src/objective/regression_obj.cu:152: reg:linear is now deprecated in favor of reg:squarederror.\n",
      "[00:48:06] WARNING: /workspace/src/objective/regression_obj.cu:152: reg:linear is now deprecated in favor of reg:squarederror.\n",
      "29.30354085499461\n"
     ]
    },
    {
     "name": "stderr",
     "output_type": "stream",
     "text": [
      "[I 2019-08-01 00:51:37,303] Finished trial#94 resulted in value: 29.30354085499461. Current best value is 28.81903625117714 with parameters: {'max_depth': 2, 'max_bin': 64, 'eta': 0.25686655682465015, 'colsample_bytree': 0.7562310505739335, 'min_child_weight': 442, 'n_estimators': 101, 'subsample': 0.8508674216834293, 'reg_lambda': 0.0006120328483378985, 'reg_alpha': 0.0012168473960911727}.\n"
     ]
    },
    {
     "name": "stdout",
     "output_type": "stream",
     "text": [
      "[00:51:39] WARNING: /workspace/src/objective/regression_obj.cu:152: reg:linear is now deprecated in favor of reg:squarederror.\n",
      "[00:57:33] WARNING: /workspace/src/objective/regression_obj.cu:152: reg:linear is now deprecated in favor of reg:squarederror.\n",
      "[01:03:27] WARNING: /workspace/src/objective/regression_obj.cu:152: reg:linear is now deprecated in favor of reg:squarederror.\n",
      "[01:09:28] WARNING: /workspace/src/objective/regression_obj.cu:152: reg:linear is now deprecated in favor of reg:squarederror.\n",
      "[01:15:21] WARNING: /workspace/src/objective/regression_obj.cu:152: reg:linear is now deprecated in favor of reg:squarederror.\n",
      "29.315260929404992\n"
     ]
    },
    {
     "name": "stderr",
     "output_type": "stream",
     "text": [
      "[I 2019-08-01 01:21:13,979] Finished trial#95 resulted in value: 29.315260929404992. Current best value is 28.81903625117714 with parameters: {'max_depth': 2, 'max_bin': 64, 'eta': 0.25686655682465015, 'colsample_bytree': 0.7562310505739335, 'min_child_weight': 442, 'n_estimators': 101, 'subsample': 0.8508674216834293, 'reg_lambda': 0.0006120328483378985, 'reg_alpha': 0.0012168473960911727}.\n"
     ]
    },
    {
     "name": "stdout",
     "output_type": "stream",
     "text": [
      "[01:21:16] WARNING: /workspace/src/objective/regression_obj.cu:152: reg:linear is now deprecated in favor of reg:squarederror.\n",
      "[01:24:38] WARNING: /workspace/src/objective/regression_obj.cu:152: reg:linear is now deprecated in favor of reg:squarederror.\n",
      "[01:28:18] WARNING: /workspace/src/objective/regression_obj.cu:152: reg:linear is now deprecated in favor of reg:squarederror.\n",
      "[01:31:48] WARNING: /workspace/src/objective/regression_obj.cu:152: reg:linear is now deprecated in favor of reg:squarederror.\n",
      "[01:35:34] WARNING: /workspace/src/objective/regression_obj.cu:152: reg:linear is now deprecated in favor of reg:squarederror.\n",
      "29.26589592884578\n"
     ]
    },
    {
     "name": "stderr",
     "output_type": "stream",
     "text": [
      "[I 2019-08-01 01:39:11,280] Finished trial#96 resulted in value: 29.26589592884578. Current best value is 28.81903625117714 with parameters: {'max_depth': 2, 'max_bin': 64, 'eta': 0.25686655682465015, 'colsample_bytree': 0.7562310505739335, 'min_child_weight': 442, 'n_estimators': 101, 'subsample': 0.8508674216834293, 'reg_lambda': 0.0006120328483378985, 'reg_alpha': 0.0012168473960911727}.\n"
     ]
    },
    {
     "name": "stdout",
     "output_type": "stream",
     "text": [
      "[01:39:13] WARNING: /workspace/src/objective/regression_obj.cu:152: reg:linear is now deprecated in favor of reg:squarederror.\n",
      "[01:40:10] WARNING: /workspace/src/objective/regression_obj.cu:152: reg:linear is now deprecated in favor of reg:squarederror.\n",
      "[01:41:08] WARNING: /workspace/src/objective/regression_obj.cu:152: reg:linear is now deprecated in favor of reg:squarederror.\n",
      "[01:42:04] WARNING: /workspace/src/objective/regression_obj.cu:152: reg:linear is now deprecated in favor of reg:squarederror.\n",
      "[01:43:02] WARNING: /workspace/src/objective/regression_obj.cu:152: reg:linear is now deprecated in favor of reg:squarederror.\n",
      "29.10324378982746\n"
     ]
    },
    {
     "name": "stderr",
     "output_type": "stream",
     "text": [
      "[I 2019-08-01 01:43:58,516] Finished trial#97 resulted in value: 29.10324378982746. Current best value is 28.81903625117714 with parameters: {'max_depth': 2, 'max_bin': 64, 'eta': 0.25686655682465015, 'colsample_bytree': 0.7562310505739335, 'min_child_weight': 442, 'n_estimators': 101, 'subsample': 0.8508674216834293, 'reg_lambda': 0.0006120328483378985, 'reg_alpha': 0.0012168473960911727}.\n"
     ]
    },
    {
     "name": "stdout",
     "output_type": "stream",
     "text": [
      "[01:44:00] WARNING: /workspace/src/objective/regression_obj.cu:152: reg:linear is now deprecated in favor of reg:squarederror.\n",
      "[01:44:33] WARNING: /workspace/src/objective/regression_obj.cu:152: reg:linear is now deprecated in favor of reg:squarederror.\n",
      "[01:45:06] WARNING: /workspace/src/objective/regression_obj.cu:152: reg:linear is now deprecated in favor of reg:squarederror.\n",
      "[01:45:40] WARNING: /workspace/src/objective/regression_obj.cu:152: reg:linear is now deprecated in favor of reg:squarederror.\n",
      "[01:46:13] WARNING: /workspace/src/objective/regression_obj.cu:152: reg:linear is now deprecated in favor of reg:squarederror.\n",
      "29.131067832312578\n"
     ]
    },
    {
     "name": "stderr",
     "output_type": "stream",
     "text": [
      "[I 2019-08-01 01:46:44,981] Finished trial#98 resulted in value: 29.131067832312578. Current best value is 28.81903625117714 with parameters: {'max_depth': 2, 'max_bin': 64, 'eta': 0.25686655682465015, 'colsample_bytree': 0.7562310505739335, 'min_child_weight': 442, 'n_estimators': 101, 'subsample': 0.8508674216834293, 'reg_lambda': 0.0006120328483378985, 'reg_alpha': 0.0012168473960911727}.\n"
     ]
    },
    {
     "name": "stdout",
     "output_type": "stream",
     "text": [
      "[01:46:47] WARNING: /workspace/src/objective/regression_obj.cu:152: reg:linear is now deprecated in favor of reg:squarederror.\n",
      "[01:47:29] WARNING: /workspace/src/objective/regression_obj.cu:152: reg:linear is now deprecated in favor of reg:squarederror.\n",
      "[01:48:12] WARNING: /workspace/src/objective/regression_obj.cu:152: reg:linear is now deprecated in favor of reg:squarederror.\n",
      "[01:48:55] WARNING: /workspace/src/objective/regression_obj.cu:152: reg:linear is now deprecated in favor of reg:squarederror.\n",
      "[01:49:37] WARNING: /workspace/src/objective/regression_obj.cu:152: reg:linear is now deprecated in favor of reg:squarederror.\n",
      "29.127309204263437\n"
     ]
    },
    {
     "name": "stderr",
     "output_type": "stream",
     "text": [
      "[I 2019-08-01 01:50:18,400] Finished trial#99 resulted in value: 29.127309204263437. Current best value is 28.81903625117714 with parameters: {'max_depth': 2, 'max_bin': 64, 'eta': 0.25686655682465015, 'colsample_bytree': 0.7562310505739335, 'min_child_weight': 442, 'n_estimators': 101, 'subsample': 0.8508674216834293, 'reg_lambda': 0.0006120328483378985, 'reg_alpha': 0.0012168473960911727}.\n"
     ]
    },
    {
     "name": "stdout",
     "output_type": "stream",
     "text": [
      "[01:50:20] WARNING: /workspace/src/objective/regression_obj.cu:152: reg:linear is now deprecated in favor of reg:squarederror.\n",
      "[01:51:02] WARNING: /workspace/src/objective/regression_obj.cu:152: reg:linear is now deprecated in favor of reg:squarederror.\n",
      "[01:51:48] WARNING: /workspace/src/objective/regression_obj.cu:152: reg:linear is now deprecated in favor of reg:squarederror.\n",
      "[01:52:31] WARNING: /workspace/src/objective/regression_obj.cu:152: reg:linear is now deprecated in favor of reg:squarederror.\n",
      "[01:53:16] WARNING: /workspace/src/objective/regression_obj.cu:152: reg:linear is now deprecated in favor of reg:squarederror.\n",
      "29.052146253234685\n"
     ]
    },
    {
     "name": "stderr",
     "output_type": "stream",
     "text": [
      "[I 2019-08-01 01:53:59,978] Finished trial#100 resulted in value: 29.052146253234685. Current best value is 28.81903625117714 with parameters: {'max_depth': 2, 'max_bin': 64, 'eta': 0.25686655682465015, 'colsample_bytree': 0.7562310505739335, 'min_child_weight': 442, 'n_estimators': 101, 'subsample': 0.8508674216834293, 'reg_lambda': 0.0006120328483378985, 'reg_alpha': 0.0012168473960911727}.\n"
     ]
    },
    {
     "name": "stdout",
     "output_type": "stream",
     "text": [
      "[01:54:02] WARNING: /workspace/src/objective/regression_obj.cu:152: reg:linear is now deprecated in favor of reg:squarederror.\n",
      "[01:55:49] WARNING: /workspace/src/objective/regression_obj.cu:152: reg:linear is now deprecated in favor of reg:squarederror.\n",
      "[01:57:35] WARNING: /workspace/src/objective/regression_obj.cu:152: reg:linear is now deprecated in favor of reg:squarederror.\n",
      "[01:59:22] WARNING: /workspace/src/objective/regression_obj.cu:152: reg:linear is now deprecated in favor of reg:squarederror.\n",
      "[02:01:08] WARNING: /workspace/src/objective/regression_obj.cu:152: reg:linear is now deprecated in favor of reg:squarederror.\n",
      "29.272830178130267\n"
     ]
    },
    {
     "name": "stderr",
     "output_type": "stream",
     "text": [
      "[I 2019-08-01 02:02:55,579] Finished trial#101 resulted in value: 29.272830178130267. Current best value is 28.81903625117714 with parameters: {'max_depth': 2, 'max_bin': 64, 'eta': 0.25686655682465015, 'colsample_bytree': 0.7562310505739335, 'min_child_weight': 442, 'n_estimators': 101, 'subsample': 0.8508674216834293, 'reg_lambda': 0.0006120328483378985, 'reg_alpha': 0.0012168473960911727}.\n"
     ]
    },
    {
     "name": "stdout",
     "output_type": "stream",
     "text": [
      "[02:02:57] WARNING: /workspace/src/objective/regression_obj.cu:152: reg:linear is now deprecated in favor of reg:squarederror.\n",
      "[02:03:36] WARNING: /workspace/src/objective/regression_obj.cu:152: reg:linear is now deprecated in favor of reg:squarederror.\n",
      "[02:04:15] WARNING: /workspace/src/objective/regression_obj.cu:152: reg:linear is now deprecated in favor of reg:squarederror.\n",
      "[02:04:54] WARNING: /workspace/src/objective/regression_obj.cu:152: reg:linear is now deprecated in favor of reg:squarederror.\n",
      "[02:05:33] WARNING: /workspace/src/objective/regression_obj.cu:152: reg:linear is now deprecated in favor of reg:squarederror.\n",
      "29.114652866292108\n"
     ]
    },
    {
     "name": "stderr",
     "output_type": "stream",
     "text": [
      "[I 2019-08-01 02:06:11,032] Finished trial#102 resulted in value: 29.114652866292108. Current best value is 28.81903625117714 with parameters: {'max_depth': 2, 'max_bin': 64, 'eta': 0.25686655682465015, 'colsample_bytree': 0.7562310505739335, 'min_child_weight': 442, 'n_estimators': 101, 'subsample': 0.8508674216834293, 'reg_lambda': 0.0006120328483378985, 'reg_alpha': 0.0012168473960911727}.\n"
     ]
    },
    {
     "name": "stdout",
     "output_type": "stream",
     "text": [
      "[02:06:13] WARNING: /workspace/src/objective/regression_obj.cu:152: reg:linear is now deprecated in favor of reg:squarederror.\n",
      "[02:06:50] WARNING: /workspace/src/objective/regression_obj.cu:152: reg:linear is now deprecated in favor of reg:squarederror.\n",
      "[02:07:28] WARNING: /workspace/src/objective/regression_obj.cu:152: reg:linear is now deprecated in favor of reg:squarederror.\n",
      "[02:08:07] WARNING: /workspace/src/objective/regression_obj.cu:152: reg:linear is now deprecated in favor of reg:squarederror.\n",
      "[02:08:45] WARNING: /workspace/src/objective/regression_obj.cu:152: reg:linear is now deprecated in favor of reg:squarederror.\n",
      "29.213615013012763\n"
     ]
    },
    {
     "name": "stderr",
     "output_type": "stream",
     "text": [
      "[I 2019-08-01 02:09:21,775] Finished trial#103 resulted in value: 29.213615013012763. Current best value is 28.81903625117714 with parameters: {'max_depth': 2, 'max_bin': 64, 'eta': 0.25686655682465015, 'colsample_bytree': 0.7562310505739335, 'min_child_weight': 442, 'n_estimators': 101, 'subsample': 0.8508674216834293, 'reg_lambda': 0.0006120328483378985, 'reg_alpha': 0.0012168473960911727}.\n"
     ]
    },
    {
     "name": "stdout",
     "output_type": "stream",
     "text": [
      "[02:09:23] WARNING: /workspace/src/objective/regression_obj.cu:152: reg:linear is now deprecated in favor of reg:squarederror.\n",
      "[02:10:07] WARNING: /workspace/src/objective/regression_obj.cu:152: reg:linear is now deprecated in favor of reg:squarederror.\n",
      "[02:10:54] WARNING: /workspace/src/objective/regression_obj.cu:152: reg:linear is now deprecated in favor of reg:squarederror.\n",
      "[02:11:39] WARNING: /workspace/src/objective/regression_obj.cu:152: reg:linear is now deprecated in favor of reg:squarederror.\n",
      "[02:12:25] WARNING: /workspace/src/objective/regression_obj.cu:152: reg:linear is now deprecated in favor of reg:squarederror.\n",
      "29.202950139741134\n"
     ]
    },
    {
     "name": "stderr",
     "output_type": "stream",
     "text": [
      "[I 2019-08-01 02:13:10,570] Finished trial#104 resulted in value: 29.202950139741134. Current best value is 28.81903625117714 with parameters: {'max_depth': 2, 'max_bin': 64, 'eta': 0.25686655682465015, 'colsample_bytree': 0.7562310505739335, 'min_child_weight': 442, 'n_estimators': 101, 'subsample': 0.8508674216834293, 'reg_lambda': 0.0006120328483378985, 'reg_alpha': 0.0012168473960911727}.\n"
     ]
    },
    {
     "name": "stdout",
     "output_type": "stream",
     "text": [
      "[02:13:12] WARNING: /workspace/src/objective/regression_obj.cu:152: reg:linear is now deprecated in favor of reg:squarederror.\n",
      "[02:13:34] WARNING: /workspace/src/objective/regression_obj.cu:152: reg:linear is now deprecated in favor of reg:squarederror.\n",
      "[02:13:56] WARNING: /workspace/src/objective/regression_obj.cu:152: reg:linear is now deprecated in favor of reg:squarederror.\n",
      "[02:14:18] WARNING: /workspace/src/objective/regression_obj.cu:152: reg:linear is now deprecated in favor of reg:squarederror.\n",
      "[02:14:40] WARNING: /workspace/src/objective/regression_obj.cu:152: reg:linear is now deprecated in favor of reg:squarederror.\n",
      "28.967535061705355\n"
     ]
    },
    {
     "name": "stderr",
     "output_type": "stream",
     "text": [
      "[I 2019-08-01 02:15:01,264] Finished trial#105 resulted in value: 28.967535061705355. Current best value is 28.81903625117714 with parameters: {'max_depth': 2, 'max_bin': 64, 'eta': 0.25686655682465015, 'colsample_bytree': 0.7562310505739335, 'min_child_weight': 442, 'n_estimators': 101, 'subsample': 0.8508674216834293, 'reg_lambda': 0.0006120328483378985, 'reg_alpha': 0.0012168473960911727}.\n"
     ]
    },
    {
     "name": "stdout",
     "output_type": "stream",
     "text": [
      "[02:15:03] WARNING: /workspace/src/objective/regression_obj.cu:152: reg:linear is now deprecated in favor of reg:squarederror.\n",
      "[02:17:25] WARNING: /workspace/src/objective/regression_obj.cu:152: reg:linear is now deprecated in favor of reg:squarederror.\n",
      "[02:19:45] WARNING: /workspace/src/objective/regression_obj.cu:152: reg:linear is now deprecated in favor of reg:squarederror.\n",
      "[02:22:06] WARNING: /workspace/src/objective/regression_obj.cu:152: reg:linear is now deprecated in favor of reg:squarederror.\n",
      "[02:24:27] WARNING: /workspace/src/objective/regression_obj.cu:152: reg:linear is now deprecated in favor of reg:squarederror.\n",
      "29.29111207059984\n"
     ]
    },
    {
     "name": "stderr",
     "output_type": "stream",
     "text": [
      "[I 2019-08-01 02:26:45,809] Finished trial#106 resulted in value: 29.29111207059984. Current best value is 28.81903625117714 with parameters: {'max_depth': 2, 'max_bin': 64, 'eta': 0.25686655682465015, 'colsample_bytree': 0.7562310505739335, 'min_child_weight': 442, 'n_estimators': 101, 'subsample': 0.8508674216834293, 'reg_lambda': 0.0006120328483378985, 'reg_alpha': 0.0012168473960911727}.\n"
     ]
    },
    {
     "name": "stdout",
     "output_type": "stream",
     "text": [
      "[02:26:47] WARNING: /workspace/src/objective/regression_obj.cu:152: reg:linear is now deprecated in favor of reg:squarederror.\n",
      "[02:27:56] WARNING: /workspace/src/objective/regression_obj.cu:152: reg:linear is now deprecated in favor of reg:squarederror.\n",
      "[02:29:04] WARNING: /workspace/src/objective/regression_obj.cu:152: reg:linear is now deprecated in favor of reg:squarederror.\n",
      "[02:30:14] WARNING: /workspace/src/objective/regression_obj.cu:152: reg:linear is now deprecated in favor of reg:squarederror.\n",
      "[02:31:23] WARNING: /workspace/src/objective/regression_obj.cu:152: reg:linear is now deprecated in favor of reg:squarederror.\n",
      "29.20137842527272\n"
     ]
    },
    {
     "name": "stderr",
     "output_type": "stream",
     "text": [
      "[I 2019-08-01 02:32:30,396] Finished trial#107 resulted in value: 29.20137842527272. Current best value is 28.81903625117714 with parameters: {'max_depth': 2, 'max_bin': 64, 'eta': 0.25686655682465015, 'colsample_bytree': 0.7562310505739335, 'min_child_weight': 442, 'n_estimators': 101, 'subsample': 0.8508674216834293, 'reg_lambda': 0.0006120328483378985, 'reg_alpha': 0.0012168473960911727}.\n"
     ]
    },
    {
     "name": "stdout",
     "output_type": "stream",
     "text": [
      "[02:32:32] WARNING: /workspace/src/objective/regression_obj.cu:152: reg:linear is now deprecated in favor of reg:squarederror.\n",
      "[02:33:23] WARNING: /workspace/src/objective/regression_obj.cu:152: reg:linear is now deprecated in favor of reg:squarederror.\n",
      "[02:34:18] WARNING: /workspace/src/objective/regression_obj.cu:152: reg:linear is now deprecated in favor of reg:squarederror.\n",
      "[02:35:11] WARNING: /workspace/src/objective/regression_obj.cu:152: reg:linear is now deprecated in favor of reg:squarederror.\n",
      "[02:36:06] WARNING: /workspace/src/objective/regression_obj.cu:152: reg:linear is now deprecated in favor of reg:squarederror.\n",
      "29.255332898118326\n"
     ]
    },
    {
     "name": "stderr",
     "output_type": "stream",
     "text": [
      "[I 2019-08-01 02:37:00,436] Finished trial#108 resulted in value: 29.255332898118326. Current best value is 28.81903625117714 with parameters: {'max_depth': 2, 'max_bin': 64, 'eta': 0.25686655682465015, 'colsample_bytree': 0.7562310505739335, 'min_child_weight': 442, 'n_estimators': 101, 'subsample': 0.8508674216834293, 'reg_lambda': 0.0006120328483378985, 'reg_alpha': 0.0012168473960911727}.\n"
     ]
    },
    {
     "name": "stdout",
     "output_type": "stream",
     "text": [
      "[02:37:02] WARNING: /workspace/src/objective/regression_obj.cu:152: reg:linear is now deprecated in favor of reg:squarederror.\n",
      "[02:38:14] WARNING: /workspace/src/objective/regression_obj.cu:152: reg:linear is now deprecated in favor of reg:squarederror.\n",
      "[02:39:27] WARNING: /workspace/src/objective/regression_obj.cu:152: reg:linear is now deprecated in favor of reg:squarederror.\n",
      "[02:40:39] WARNING: /workspace/src/objective/regression_obj.cu:152: reg:linear is now deprecated in favor of reg:squarederror.\n",
      "[02:41:52] WARNING: /workspace/src/objective/regression_obj.cu:152: reg:linear is now deprecated in favor of reg:squarederror.\n",
      "29.175307477417906\n"
     ]
    },
    {
     "name": "stderr",
     "output_type": "stream",
     "text": [
      "[I 2019-08-01 02:43:03,601] Finished trial#109 resulted in value: 29.175307477417906. Current best value is 28.81903625117714 with parameters: {'max_depth': 2, 'max_bin': 64, 'eta': 0.25686655682465015, 'colsample_bytree': 0.7562310505739335, 'min_child_weight': 442, 'n_estimators': 101, 'subsample': 0.8508674216834293, 'reg_lambda': 0.0006120328483378985, 'reg_alpha': 0.0012168473960911727}.\n"
     ]
    },
    {
     "name": "stdout",
     "output_type": "stream",
     "text": [
      "[02:43:05] WARNING: /workspace/src/objective/regression_obj.cu:152: reg:linear is now deprecated in favor of reg:squarederror.\n",
      "[02:43:19] WARNING: /workspace/src/objective/regression_obj.cu:152: reg:linear is now deprecated in favor of reg:squarederror.\n",
      "[02:43:32] WARNING: /workspace/src/objective/regression_obj.cu:152: reg:linear is now deprecated in favor of reg:squarederror.\n",
      "[02:43:46] WARNING: /workspace/src/objective/regression_obj.cu:152: reg:linear is now deprecated in favor of reg:squarederror.\n",
      "[02:43:59] WARNING: /workspace/src/objective/regression_obj.cu:152: reg:linear is now deprecated in favor of reg:squarederror.\n",
      "28.807010894510732\n"
     ]
    },
    {
     "name": "stderr",
     "output_type": "stream",
     "text": [
      "[I 2019-08-01 02:44:11,865] Finished trial#110 resulted in value: 28.807010894510732. Current best value is 28.807010894510732 with parameters: {'max_depth': 2, 'max_bin': 80, 'eta': 0.1604115187084588, 'colsample_bytree': 0.8366684167413784, 'min_child_weight': 278, 'n_estimators': 100, 'subsample': 0.7822264980974336, 'reg_lambda': 0.47141547451689725, 'reg_alpha': 0.7560612822999971}.\n"
     ]
    },
    {
     "name": "stdout",
     "output_type": "stream",
     "text": [
      "[02:44:13] WARNING: /workspace/src/objective/regression_obj.cu:152: reg:linear is now deprecated in favor of reg:squarederror.\n",
      "[02:45:11] WARNING: /workspace/src/objective/regression_obj.cu:152: reg:linear is now deprecated in favor of reg:squarederror.\n",
      "[02:46:09] WARNING: /workspace/src/objective/regression_obj.cu:152: reg:linear is now deprecated in favor of reg:squarederror.\n",
      "[02:47:07] WARNING: /workspace/src/objective/regression_obj.cu:152: reg:linear is now deprecated in favor of reg:squarederror.\n",
      "[02:48:05] WARNING: /workspace/src/objective/regression_obj.cu:152: reg:linear is now deprecated in favor of reg:squarederror.\n",
      "29.263259646239074\n"
     ]
    },
    {
     "name": "stderr",
     "output_type": "stream",
     "text": [
      "[I 2019-08-01 02:49:01,563] Finished trial#111 resulted in value: 29.263259646239074. Current best value is 28.807010894510732 with parameters: {'max_depth': 2, 'max_bin': 80, 'eta': 0.1604115187084588, 'colsample_bytree': 0.8366684167413784, 'min_child_weight': 278, 'n_estimators': 100, 'subsample': 0.7822264980974336, 'reg_lambda': 0.47141547451689725, 'reg_alpha': 0.7560612822999971}.\n"
     ]
    },
    {
     "name": "stdout",
     "output_type": "stream",
     "text": [
      "[02:49:03] WARNING: /workspace/src/objective/regression_obj.cu:152: reg:linear is now deprecated in favor of reg:squarederror.\n",
      "[02:52:24] WARNING: /workspace/src/objective/regression_obj.cu:152: reg:linear is now deprecated in favor of reg:squarederror.\n",
      "[02:56:12] WARNING: /workspace/src/objective/regression_obj.cu:152: reg:linear is now deprecated in favor of reg:squarederror.\n",
      "[02:59:44] WARNING: /workspace/src/objective/regression_obj.cu:152: reg:linear is now deprecated in favor of reg:squarederror.\n",
      "[03:03:20] WARNING: /workspace/src/objective/regression_obj.cu:152: reg:linear is now deprecated in favor of reg:squarederror.\n",
      "29.265212500134954\n"
     ]
    },
    {
     "name": "stderr",
     "output_type": "stream",
     "text": [
      "[I 2019-08-01 03:06:59,057] Finished trial#112 resulted in value: 29.265212500134954. Current best value is 28.807010894510732 with parameters: {'max_depth': 2, 'max_bin': 80, 'eta': 0.1604115187084588, 'colsample_bytree': 0.8366684167413784, 'min_child_weight': 278, 'n_estimators': 100, 'subsample': 0.7822264980974336, 'reg_lambda': 0.47141547451689725, 'reg_alpha': 0.7560612822999971}.\n"
     ]
    },
    {
     "name": "stdout",
     "output_type": "stream",
     "text": [
      "[03:07:01] WARNING: /workspace/src/objective/regression_obj.cu:152: reg:linear is now deprecated in favor of reg:squarederror.\n",
      "[03:07:28] WARNING: /workspace/src/objective/regression_obj.cu:152: reg:linear is now deprecated in favor of reg:squarederror.\n",
      "[03:07:55] WARNING: /workspace/src/objective/regression_obj.cu:152: reg:linear is now deprecated in favor of reg:squarederror.\n",
      "[03:08:23] WARNING: /workspace/src/objective/regression_obj.cu:152: reg:linear is now deprecated in favor of reg:squarederror.\n",
      "[03:08:50] WARNING: /workspace/src/objective/regression_obj.cu:152: reg:linear is now deprecated in favor of reg:squarederror.\n",
      "28.97528943440991\n"
     ]
    },
    {
     "name": "stderr",
     "output_type": "stream",
     "text": [
      "[I 2019-08-01 03:09:16,945] Finished trial#113 resulted in value: 28.97528943440991. Current best value is 28.807010894510732 with parameters: {'max_depth': 2, 'max_bin': 80, 'eta': 0.1604115187084588, 'colsample_bytree': 0.8366684167413784, 'min_child_weight': 278, 'n_estimators': 100, 'subsample': 0.7822264980974336, 'reg_lambda': 0.47141547451689725, 'reg_alpha': 0.7560612822999971}.\n"
     ]
    },
    {
     "name": "stdout",
     "output_type": "stream",
     "text": [
      "[03:09:19] WARNING: /workspace/src/objective/regression_obj.cu:152: reg:linear is now deprecated in favor of reg:squarederror.\n",
      "[03:10:08] WARNING: /workspace/src/objective/regression_obj.cu:152: reg:linear is now deprecated in favor of reg:squarederror.\n",
      "[03:10:57] WARNING: /workspace/src/objective/regression_obj.cu:152: reg:linear is now deprecated in favor of reg:squarederror.\n",
      "[03:11:46] WARNING: /workspace/src/objective/regression_obj.cu:152: reg:linear is now deprecated in favor of reg:squarederror.\n",
      "[03:12:35] WARNING: /workspace/src/objective/regression_obj.cu:152: reg:linear is now deprecated in favor of reg:squarederror.\n",
      "29.137032640098422\n"
     ]
    },
    {
     "name": "stderr",
     "output_type": "stream",
     "text": [
      "[I 2019-08-01 03:13:22,811] Finished trial#114 resulted in value: 29.137032640098422. Current best value is 28.807010894510732 with parameters: {'max_depth': 2, 'max_bin': 80, 'eta': 0.1604115187084588, 'colsample_bytree': 0.8366684167413784, 'min_child_weight': 278, 'n_estimators': 100, 'subsample': 0.7822264980974336, 'reg_lambda': 0.47141547451689725, 'reg_alpha': 0.7560612822999971}.\n"
     ]
    },
    {
     "name": "stdout",
     "output_type": "stream",
     "text": [
      "[03:13:24] WARNING: /workspace/src/objective/regression_obj.cu:152: reg:linear is now deprecated in favor of reg:squarederror.\n",
      "[03:17:15] WARNING: /workspace/src/objective/regression_obj.cu:152: reg:linear is now deprecated in favor of reg:squarederror.\n",
      "[03:21:06] WARNING: /workspace/src/objective/regression_obj.cu:152: reg:linear is now deprecated in favor of reg:squarederror.\n",
      "[03:25:02] WARNING: /workspace/src/objective/regression_obj.cu:152: reg:linear is now deprecated in favor of reg:squarederror.\n",
      "[03:28:52] WARNING: /workspace/src/objective/regression_obj.cu:152: reg:linear is now deprecated in favor of reg:squarederror.\n",
      "29.284082752231228\n"
     ]
    },
    {
     "name": "stderr",
     "output_type": "stream",
     "text": [
      "[I 2019-08-01 03:32:42,340] Finished trial#115 resulted in value: 29.284082752231228. Current best value is 28.807010894510732 with parameters: {'max_depth': 2, 'max_bin': 80, 'eta': 0.1604115187084588, 'colsample_bytree': 0.8366684167413784, 'min_child_weight': 278, 'n_estimators': 100, 'subsample': 0.7822264980974336, 'reg_lambda': 0.47141547451689725, 'reg_alpha': 0.7560612822999971}.\n"
     ]
    },
    {
     "name": "stdout",
     "output_type": "stream",
     "text": [
      "[03:32:44] WARNING: /workspace/src/objective/regression_obj.cu:152: reg:linear is now deprecated in favor of reg:squarederror.\n",
      "[03:33:05] WARNING: /workspace/src/objective/regression_obj.cu:152: reg:linear is now deprecated in favor of reg:squarederror.\n",
      "[03:33:27] WARNING: /workspace/src/objective/regression_obj.cu:152: reg:linear is now deprecated in favor of reg:squarederror.\n",
      "[03:33:49] WARNING: /workspace/src/objective/regression_obj.cu:152: reg:linear is now deprecated in favor of reg:squarederror.\n",
      "[03:34:12] WARNING: /workspace/src/objective/regression_obj.cu:152: reg:linear is now deprecated in favor of reg:squarederror.\n",
      "28.92250286081059\n"
     ]
    },
    {
     "name": "stderr",
     "output_type": "stream",
     "text": [
      "[I 2019-08-01 03:34:32,833] Finished trial#116 resulted in value: 28.92250286081059. Current best value is 28.807010894510732 with parameters: {'max_depth': 2, 'max_bin': 80, 'eta': 0.1604115187084588, 'colsample_bytree': 0.8366684167413784, 'min_child_weight': 278, 'n_estimators': 100, 'subsample': 0.7822264980974336, 'reg_lambda': 0.47141547451689725, 'reg_alpha': 0.7560612822999971}.\n"
     ]
    },
    {
     "name": "stdout",
     "output_type": "stream",
     "text": [
      "[03:34:34] WARNING: /workspace/src/objective/regression_obj.cu:152: reg:linear is now deprecated in favor of reg:squarederror.\n",
      "[03:37:32] WARNING: /workspace/src/objective/regression_obj.cu:152: reg:linear is now deprecated in favor of reg:squarederror.\n",
      "[03:40:33] WARNING: /workspace/src/objective/regression_obj.cu:152: reg:linear is now deprecated in favor of reg:squarederror.\n",
      "[03:43:32] WARNING: /workspace/src/objective/regression_obj.cu:152: reg:linear is now deprecated in favor of reg:squarederror.\n",
      "[03:46:30] WARNING: /workspace/src/objective/regression_obj.cu:152: reg:linear is now deprecated in favor of reg:squarederror.\n",
      "29.306824730407104\n"
     ]
    },
    {
     "name": "stderr",
     "output_type": "stream",
     "text": [
      "[I 2019-08-01 03:49:30,765] Finished trial#117 resulted in value: 29.306824730407104. Current best value is 28.807010894510732 with parameters: {'max_depth': 2, 'max_bin': 80, 'eta': 0.1604115187084588, 'colsample_bytree': 0.8366684167413784, 'min_child_weight': 278, 'n_estimators': 100, 'subsample': 0.7822264980974336, 'reg_lambda': 0.47141547451689725, 'reg_alpha': 0.7560612822999971}.\n"
     ]
    },
    {
     "name": "stdout",
     "output_type": "stream",
     "text": [
      "[03:49:32] WARNING: /workspace/src/objective/regression_obj.cu:152: reg:linear is now deprecated in favor of reg:squarederror.\n",
      "[03:50:17] WARNING: /workspace/src/objective/regression_obj.cu:152: reg:linear is now deprecated in favor of reg:squarederror.\n",
      "[03:51:02] WARNING: /workspace/src/objective/regression_obj.cu:152: reg:linear is now deprecated in favor of reg:squarederror.\n",
      "[03:51:47] WARNING: /workspace/src/objective/regression_obj.cu:152: reg:linear is now deprecated in favor of reg:squarederror.\n",
      "[03:52:32] WARNING: /workspace/src/objective/regression_obj.cu:152: reg:linear is now deprecated in favor of reg:squarederror.\n",
      "29.058184662375133\n"
     ]
    },
    {
     "name": "stderr",
     "output_type": "stream",
     "text": [
      "[I 2019-08-01 03:53:15,992] Finished trial#118 resulted in value: 29.058184662375133. Current best value is 28.807010894510732 with parameters: {'max_depth': 2, 'max_bin': 80, 'eta': 0.1604115187084588, 'colsample_bytree': 0.8366684167413784, 'min_child_weight': 278, 'n_estimators': 100, 'subsample': 0.7822264980974336, 'reg_lambda': 0.47141547451689725, 'reg_alpha': 0.7560612822999971}.\n"
     ]
    },
    {
     "name": "stdout",
     "output_type": "stream",
     "text": [
      "[03:53:18] WARNING: /workspace/src/objective/regression_obj.cu:152: reg:linear is now deprecated in favor of reg:squarederror.\n",
      "[03:53:59] WARNING: /workspace/src/objective/regression_obj.cu:152: reg:linear is now deprecated in favor of reg:squarederror.\n",
      "[03:54:41] WARNING: /workspace/src/objective/regression_obj.cu:152: reg:linear is now deprecated in favor of reg:squarederror.\n",
      "[03:55:23] WARNING: /workspace/src/objective/regression_obj.cu:152: reg:linear is now deprecated in favor of reg:squarederror.\n",
      "[03:56:04] WARNING: /workspace/src/objective/regression_obj.cu:152: reg:linear is now deprecated in favor of reg:squarederror.\n",
      "29.160160057079345\n"
     ]
    },
    {
     "name": "stderr",
     "output_type": "stream",
     "text": [
      "[I 2019-08-01 03:56:44,434] Finished trial#119 resulted in value: 29.160160057079345. Current best value is 28.807010894510732 with parameters: {'max_depth': 2, 'max_bin': 80, 'eta': 0.1604115187084588, 'colsample_bytree': 0.8366684167413784, 'min_child_weight': 278, 'n_estimators': 100, 'subsample': 0.7822264980974336, 'reg_lambda': 0.47141547451689725, 'reg_alpha': 0.7560612822999971}.\n"
     ]
    },
    {
     "name": "stdout",
     "output_type": "stream",
     "text": [
      "[03:56:46] WARNING: /workspace/src/objective/regression_obj.cu:152: reg:linear is now deprecated in favor of reg:squarederror.\n",
      "[03:58:21] WARNING: /workspace/src/objective/regression_obj.cu:152: reg:linear is now deprecated in favor of reg:squarederror.\n",
      "[04:00:05] WARNING: /workspace/src/objective/regression_obj.cu:152: reg:linear is now deprecated in favor of reg:squarederror.\n",
      "[04:01:43] WARNING: /workspace/src/objective/regression_obj.cu:152: reg:linear is now deprecated in favor of reg:squarederror.\n",
      "[04:03:26] WARNING: /workspace/src/objective/regression_obj.cu:152: reg:linear is now deprecated in favor of reg:squarederror.\n",
      "29.198935562749732\n"
     ]
    },
    {
     "name": "stderr",
     "output_type": "stream",
     "text": [
      "[I 2019-08-01 04:05:07,992] Finished trial#120 resulted in value: 29.198935562749732. Current best value is 28.807010894510732 with parameters: {'max_depth': 2, 'max_bin': 80, 'eta': 0.1604115187084588, 'colsample_bytree': 0.8366684167413784, 'min_child_weight': 278, 'n_estimators': 100, 'subsample': 0.7822264980974336, 'reg_lambda': 0.47141547451689725, 'reg_alpha': 0.7560612822999971}.\n"
     ]
    },
    {
     "name": "stdout",
     "output_type": "stream",
     "text": [
      "[04:05:10] WARNING: /workspace/src/objective/regression_obj.cu:152: reg:linear is now deprecated in favor of reg:squarederror.\n",
      "[04:05:58] WARNING: /workspace/src/objective/regression_obj.cu:152: reg:linear is now deprecated in favor of reg:squarederror.\n",
      "[04:06:46] WARNING: /workspace/src/objective/regression_obj.cu:152: reg:linear is now deprecated in favor of reg:squarederror.\n",
      "[04:07:34] WARNING: /workspace/src/objective/regression_obj.cu:152: reg:linear is now deprecated in favor of reg:squarederror.\n",
      "[04:08:22] WARNING: /workspace/src/objective/regression_obj.cu:152: reg:linear is now deprecated in favor of reg:squarederror.\n",
      "29.087186062345197\n"
     ]
    },
    {
     "name": "stderr",
     "output_type": "stream",
     "text": [
      "[I 2019-08-01 04:09:09,475] Finished trial#121 resulted in value: 29.087186062345197. Current best value is 28.807010894510732 with parameters: {'max_depth': 2, 'max_bin': 80, 'eta': 0.1604115187084588, 'colsample_bytree': 0.8366684167413784, 'min_child_weight': 278, 'n_estimators': 100, 'subsample': 0.7822264980974336, 'reg_lambda': 0.47141547451689725, 'reg_alpha': 0.7560612822999971}.\n"
     ]
    },
    {
     "name": "stdout",
     "output_type": "stream",
     "text": [
      "[04:09:11] WARNING: /workspace/src/objective/regression_obj.cu:152: reg:linear is now deprecated in favor of reg:squarederror.\n",
      "[04:12:24] WARNING: /workspace/src/objective/regression_obj.cu:152: reg:linear is now deprecated in favor of reg:squarederror.\n",
      "[04:15:37] WARNING: /workspace/src/objective/regression_obj.cu:152: reg:linear is now deprecated in favor of reg:squarederror.\n",
      "[04:18:53] WARNING: /workspace/src/objective/regression_obj.cu:152: reg:linear is now deprecated in favor of reg:squarederror.\n",
      "[04:22:05] WARNING: /workspace/src/objective/regression_obj.cu:152: reg:linear is now deprecated in favor of reg:squarederror.\n",
      "29.279663929571637\n"
     ]
    },
    {
     "name": "stderr",
     "output_type": "stream",
     "text": [
      "[I 2019-08-01 04:25:17,576] Finished trial#122 resulted in value: 29.279663929571637. Current best value is 28.807010894510732 with parameters: {'max_depth': 2, 'max_bin': 80, 'eta': 0.1604115187084588, 'colsample_bytree': 0.8366684167413784, 'min_child_weight': 278, 'n_estimators': 100, 'subsample': 0.7822264980974336, 'reg_lambda': 0.47141547451689725, 'reg_alpha': 0.7560612822999971}.\n"
     ]
    },
    {
     "name": "stdout",
     "output_type": "stream",
     "text": [
      "[04:25:19] WARNING: /workspace/src/objective/regression_obj.cu:152: reg:linear is now deprecated in favor of reg:squarederror.\n",
      "[04:25:56] WARNING: /workspace/src/objective/regression_obj.cu:152: reg:linear is now deprecated in favor of reg:squarederror.\n",
      "[04:26:34] WARNING: /workspace/src/objective/regression_obj.cu:152: reg:linear is now deprecated in favor of reg:squarederror.\n",
      "[04:27:12] WARNING: /workspace/src/objective/regression_obj.cu:152: reg:linear is now deprecated in favor of reg:squarederror.\n",
      "[04:27:49] WARNING: /workspace/src/objective/regression_obj.cu:152: reg:linear is now deprecated in favor of reg:squarederror.\n",
      "29.222831976276723\n"
     ]
    },
    {
     "name": "stderr",
     "output_type": "stream",
     "text": [
      "[I 2019-08-01 04:28:25,027] Finished trial#123 resulted in value: 29.222831976276723. Current best value is 28.807010894510732 with parameters: {'max_depth': 2, 'max_bin': 80, 'eta': 0.1604115187084588, 'colsample_bytree': 0.8366684167413784, 'min_child_weight': 278, 'n_estimators': 100, 'subsample': 0.7822264980974336, 'reg_lambda': 0.47141547451689725, 'reg_alpha': 0.7560612822999971}.\n"
     ]
    },
    {
     "name": "stdout",
     "output_type": "stream",
     "text": [
      "[04:28:27] WARNING: /workspace/src/objective/regression_obj.cu:152: reg:linear is now deprecated in favor of reg:squarederror.\n",
      "[04:30:12] WARNING: /workspace/src/objective/regression_obj.cu:152: reg:linear is now deprecated in favor of reg:squarederror.\n",
      "[04:32:09] WARNING: /workspace/src/objective/regression_obj.cu:152: reg:linear is now deprecated in favor of reg:squarederror.\n",
      "[04:33:59] WARNING: /workspace/src/objective/regression_obj.cu:152: reg:linear is now deprecated in favor of reg:squarederror.\n",
      "[04:35:51] WARNING: /workspace/src/objective/regression_obj.cu:152: reg:linear is now deprecated in favor of reg:squarederror.\n",
      "29.21392528933791\n"
     ]
    },
    {
     "name": "stderr",
     "output_type": "stream",
     "text": [
      "[I 2019-08-01 04:37:43,444] Finished trial#124 resulted in value: 29.21392528933791. Current best value is 28.807010894510732 with parameters: {'max_depth': 2, 'max_bin': 80, 'eta': 0.1604115187084588, 'colsample_bytree': 0.8366684167413784, 'min_child_weight': 278, 'n_estimators': 100, 'subsample': 0.7822264980974336, 'reg_lambda': 0.47141547451689725, 'reg_alpha': 0.7560612822999971}.\n"
     ]
    },
    {
     "name": "stdout",
     "output_type": "stream",
     "text": [
      "[04:37:45] WARNING: /workspace/src/objective/regression_obj.cu:152: reg:linear is now deprecated in favor of reg:squarederror.\n",
      "[04:38:49] WARNING: /workspace/src/objective/regression_obj.cu:152: reg:linear is now deprecated in favor of reg:squarederror.\n",
      "[04:39:52] WARNING: /workspace/src/objective/regression_obj.cu:152: reg:linear is now deprecated in favor of reg:squarederror.\n",
      "[04:40:55] WARNING: /workspace/src/objective/regression_obj.cu:152: reg:linear is now deprecated in favor of reg:squarederror.\n",
      "[04:41:58] WARNING: /workspace/src/objective/regression_obj.cu:152: reg:linear is now deprecated in favor of reg:squarederror.\n",
      "29.09795281434251\n"
     ]
    },
    {
     "name": "stderr",
     "output_type": "stream",
     "text": [
      "[I 2019-08-01 04:43:01,510] Finished trial#125 resulted in value: 29.09795281434251. Current best value is 28.807010894510732 with parameters: {'max_depth': 2, 'max_bin': 80, 'eta': 0.1604115187084588, 'colsample_bytree': 0.8366684167413784, 'min_child_weight': 278, 'n_estimators': 100, 'subsample': 0.7822264980974336, 'reg_lambda': 0.47141547451689725, 'reg_alpha': 0.7560612822999971}.\n"
     ]
    },
    {
     "name": "stdout",
     "output_type": "stream",
     "text": [
      "[04:43:03] WARNING: /workspace/src/objective/regression_obj.cu:152: reg:linear is now deprecated in favor of reg:squarederror.\n",
      "[04:44:57] WARNING: /workspace/src/objective/regression_obj.cu:152: reg:linear is now deprecated in favor of reg:squarederror.\n",
      "[04:46:49] WARNING: /workspace/src/objective/regression_obj.cu:152: reg:linear is now deprecated in favor of reg:squarederror.\n",
      "[04:48:43] WARNING: /workspace/src/objective/regression_obj.cu:152: reg:linear is now deprecated in favor of reg:squarederror.\n",
      "[04:50:37] WARNING: /workspace/src/objective/regression_obj.cu:152: reg:linear is now deprecated in favor of reg:squarederror.\n",
      "29.238681665165775\n"
     ]
    },
    {
     "name": "stderr",
     "output_type": "stream",
     "text": [
      "[I 2019-08-01 04:52:28,067] Finished trial#126 resulted in value: 29.238681665165775. Current best value is 28.807010894510732 with parameters: {'max_depth': 2, 'max_bin': 80, 'eta': 0.1604115187084588, 'colsample_bytree': 0.8366684167413784, 'min_child_weight': 278, 'n_estimators': 100, 'subsample': 0.7822264980974336, 'reg_lambda': 0.47141547451689725, 'reg_alpha': 0.7560612822999971}.\n"
     ]
    },
    {
     "name": "stdout",
     "output_type": "stream",
     "text": [
      "[04:52:30] WARNING: /workspace/src/objective/regression_obj.cu:152: reg:linear is now deprecated in favor of reg:squarederror.\n",
      "[04:52:54] WARNING: /workspace/src/objective/regression_obj.cu:152: reg:linear is now deprecated in favor of reg:squarederror.\n",
      "[04:53:19] WARNING: /workspace/src/objective/regression_obj.cu:152: reg:linear is now deprecated in favor of reg:squarederror.\n",
      "[04:53:44] WARNING: /workspace/src/objective/regression_obj.cu:152: reg:linear is now deprecated in favor of reg:squarederror.\n",
      "[04:54:08] WARNING: /workspace/src/objective/regression_obj.cu:152: reg:linear is now deprecated in favor of reg:squarederror.\n",
      "29.060518520700608\n"
     ]
    },
    {
     "name": "stderr",
     "output_type": "stream",
     "text": [
      "[I 2019-08-01 04:54:31,793] Finished trial#127 resulted in value: 29.060518520700608. Current best value is 28.807010894510732 with parameters: {'max_depth': 2, 'max_bin': 80, 'eta': 0.1604115187084588, 'colsample_bytree': 0.8366684167413784, 'min_child_weight': 278, 'n_estimators': 100, 'subsample': 0.7822264980974336, 'reg_lambda': 0.47141547451689725, 'reg_alpha': 0.7560612822999971}.\n"
     ]
    },
    {
     "name": "stdout",
     "output_type": "stream",
     "text": [
      "[04:54:33] WARNING: /workspace/src/objective/regression_obj.cu:152: reg:linear is now deprecated in favor of reg:squarederror.\n",
      "[04:56:24] WARNING: /workspace/src/objective/regression_obj.cu:152: reg:linear is now deprecated in favor of reg:squarederror.\n",
      "[04:58:25] WARNING: /workspace/src/objective/regression_obj.cu:152: reg:linear is now deprecated in favor of reg:squarederror.\n",
      "[05:00:21] WARNING: /workspace/src/objective/regression_obj.cu:152: reg:linear is now deprecated in favor of reg:squarederror.\n",
      "[05:02:21] WARNING: /workspace/src/objective/regression_obj.cu:152: reg:linear is now deprecated in favor of reg:squarederror.\n",
      "29.27185977302691\n"
     ]
    },
    {
     "name": "stderr",
     "output_type": "stream",
     "text": [
      "[I 2019-08-01 05:04:20,890] Finished trial#128 resulted in value: 29.27185977302691. Current best value is 28.807010894510732 with parameters: {'max_depth': 2, 'max_bin': 80, 'eta': 0.1604115187084588, 'colsample_bytree': 0.8366684167413784, 'min_child_weight': 278, 'n_estimators': 100, 'subsample': 0.7822264980974336, 'reg_lambda': 0.47141547451689725, 'reg_alpha': 0.7560612822999971}.\n"
     ]
    },
    {
     "name": "stdout",
     "output_type": "stream",
     "text": [
      "[05:04:22] WARNING: /workspace/src/objective/regression_obj.cu:152: reg:linear is now deprecated in favor of reg:squarederror.\n",
      "[05:05:01] WARNING: /workspace/src/objective/regression_obj.cu:152: reg:linear is now deprecated in favor of reg:squarederror.\n",
      "[05:05:39] WARNING: /workspace/src/objective/regression_obj.cu:152: reg:linear is now deprecated in favor of reg:squarederror.\n",
      "[05:06:17] WARNING: /workspace/src/objective/regression_obj.cu:152: reg:linear is now deprecated in favor of reg:squarederror.\n",
      "[05:06:55] WARNING: /workspace/src/objective/regression_obj.cu:152: reg:linear is now deprecated in favor of reg:squarederror.\n",
      "29.125842058635786\n"
     ]
    },
    {
     "name": "stderr",
     "output_type": "stream",
     "text": [
      "[I 2019-08-01 05:07:32,355] Finished trial#129 resulted in value: 29.125842058635786. Current best value is 28.807010894510732 with parameters: {'max_depth': 2, 'max_bin': 80, 'eta': 0.1604115187084588, 'colsample_bytree': 0.8366684167413784, 'min_child_weight': 278, 'n_estimators': 100, 'subsample': 0.7822264980974336, 'reg_lambda': 0.47141547451689725, 'reg_alpha': 0.7560612822999971}.\n"
     ]
    },
    {
     "name": "stdout",
     "output_type": "stream",
     "text": [
      "[05:07:34] WARNING: /workspace/src/objective/regression_obj.cu:152: reg:linear is now deprecated in favor of reg:squarederror.\n",
      "[05:09:26] WARNING: /workspace/src/objective/regression_obj.cu:152: reg:linear is now deprecated in favor of reg:squarederror.\n",
      "[05:11:18] WARNING: /workspace/src/objective/regression_obj.cu:152: reg:linear is now deprecated in favor of reg:squarederror.\n",
      "[05:13:12] WARNING: /workspace/src/objective/regression_obj.cu:152: reg:linear is now deprecated in favor of reg:squarederror.\n",
      "[05:15:04] WARNING: /workspace/src/objective/regression_obj.cu:152: reg:linear is now deprecated in favor of reg:squarederror.\n",
      "29.28992951272143\n"
     ]
    },
    {
     "name": "stderr",
     "output_type": "stream",
     "text": [
      "[I 2019-08-01 05:16:54,252] Finished trial#130 resulted in value: 29.28992951272143. Current best value is 28.807010894510732 with parameters: {'max_depth': 2, 'max_bin': 80, 'eta': 0.1604115187084588, 'colsample_bytree': 0.8366684167413784, 'min_child_weight': 278, 'n_estimators': 100, 'subsample': 0.7822264980974336, 'reg_lambda': 0.47141547451689725, 'reg_alpha': 0.7560612822999971}.\n"
     ]
    },
    {
     "name": "stdout",
     "output_type": "stream",
     "text": [
      "[05:16:56] WARNING: /workspace/src/objective/regression_obj.cu:152: reg:linear is now deprecated in favor of reg:squarederror.\n",
      "[05:17:31] WARNING: /workspace/src/objective/regression_obj.cu:152: reg:linear is now deprecated in favor of reg:squarederror.\n",
      "[05:18:06] WARNING: /workspace/src/objective/regression_obj.cu:152: reg:linear is now deprecated in favor of reg:squarederror.\n",
      "[05:18:42] WARNING: /workspace/src/objective/regression_obj.cu:152: reg:linear is now deprecated in favor of reg:squarederror.\n",
      "[05:19:17] WARNING: /workspace/src/objective/regression_obj.cu:152: reg:linear is now deprecated in favor of reg:squarederror.\n",
      "29.149089513921936\n"
     ]
    },
    {
     "name": "stderr",
     "output_type": "stream",
     "text": [
      "[I 2019-08-01 05:19:50,973] Finished trial#131 resulted in value: 29.149089513921936. Current best value is 28.807010894510732 with parameters: {'max_depth': 2, 'max_bin': 80, 'eta': 0.1604115187084588, 'colsample_bytree': 0.8366684167413784, 'min_child_weight': 278, 'n_estimators': 100, 'subsample': 0.7822264980974336, 'reg_lambda': 0.47141547451689725, 'reg_alpha': 0.7560612822999971}.\n"
     ]
    },
    {
     "name": "stdout",
     "output_type": "stream",
     "text": [
      "[05:19:53] WARNING: /workspace/src/objective/regression_obj.cu:152: reg:linear is now deprecated in favor of reg:squarederror.\n",
      "[05:21:09] WARNING: /workspace/src/objective/regression_obj.cu:152: reg:linear is now deprecated in favor of reg:squarederror.\n",
      "[05:22:34] WARNING: /workspace/src/objective/regression_obj.cu:152: reg:linear is now deprecated in favor of reg:squarederror.\n",
      "[05:23:54] WARNING: /workspace/src/objective/regression_obj.cu:152: reg:linear is now deprecated in favor of reg:squarederror.\n",
      "[05:25:16] WARNING: /workspace/src/objective/regression_obj.cu:152: reg:linear is now deprecated in favor of reg:squarederror.\n",
      "29.23423657582939\n"
     ]
    },
    {
     "name": "stderr",
     "output_type": "stream",
     "text": [
      "[I 2019-08-01 05:26:38,594] Finished trial#132 resulted in value: 29.23423657582939. Current best value is 28.807010894510732 with parameters: {'max_depth': 2, 'max_bin': 80, 'eta': 0.1604115187084588, 'colsample_bytree': 0.8366684167413784, 'min_child_weight': 278, 'n_estimators': 100, 'subsample': 0.7822264980974336, 'reg_lambda': 0.47141547451689725, 'reg_alpha': 0.7560612822999971}.\n"
     ]
    },
    {
     "name": "stdout",
     "output_type": "stream",
     "text": [
      "[05:26:40] WARNING: /workspace/src/objective/regression_obj.cu:152: reg:linear is now deprecated in favor of reg:squarederror.\n",
      "[05:26:56] WARNING: /workspace/src/objective/regression_obj.cu:152: reg:linear is now deprecated in favor of reg:squarederror.\n",
      "[05:27:11] WARNING: /workspace/src/objective/regression_obj.cu:152: reg:linear is now deprecated in favor of reg:squarederror.\n",
      "[05:27:27] WARNING: /workspace/src/objective/regression_obj.cu:152: reg:linear is now deprecated in favor of reg:squarederror.\n",
      "[05:27:43] WARNING: /workspace/src/objective/regression_obj.cu:152: reg:linear is now deprecated in favor of reg:squarederror.\n",
      "28.84524656800566\n"
     ]
    },
    {
     "name": "stderr",
     "output_type": "stream",
     "text": [
      "[I 2019-08-01 05:27:57,522] Finished trial#133 resulted in value: 28.84524656800566. Current best value is 28.807010894510732 with parameters: {'max_depth': 2, 'max_bin': 80, 'eta': 0.1604115187084588, 'colsample_bytree': 0.8366684167413784, 'min_child_weight': 278, 'n_estimators': 100, 'subsample': 0.7822264980974336, 'reg_lambda': 0.47141547451689725, 'reg_alpha': 0.7560612822999971}.\n"
     ]
    },
    {
     "name": "stdout",
     "output_type": "stream",
     "text": [
      "[05:27:59] WARNING: /workspace/src/objective/regression_obj.cu:152: reg:linear is now deprecated in favor of reg:squarederror.\n",
      "[05:28:14] WARNING: /workspace/src/objective/regression_obj.cu:152: reg:linear is now deprecated in favor of reg:squarederror.\n",
      "[05:28:28] WARNING: /workspace/src/objective/regression_obj.cu:152: reg:linear is now deprecated in favor of reg:squarederror.\n",
      "[05:28:43] WARNING: /workspace/src/objective/regression_obj.cu:152: reg:linear is now deprecated in favor of reg:squarederror.\n",
      "[05:28:57] WARNING: /workspace/src/objective/regression_obj.cu:152: reg:linear is now deprecated in favor of reg:squarederror.\n",
      "28.80960384225191\n"
     ]
    },
    {
     "name": "stderr",
     "output_type": "stream",
     "text": [
      "[I 2019-08-01 05:29:10,547] Finished trial#134 resulted in value: 28.80960384225191. Current best value is 28.807010894510732 with parameters: {'max_depth': 2, 'max_bin': 80, 'eta': 0.1604115187084588, 'colsample_bytree': 0.8366684167413784, 'min_child_weight': 278, 'n_estimators': 100, 'subsample': 0.7822264980974336, 'reg_lambda': 0.47141547451689725, 'reg_alpha': 0.7560612822999971}.\n"
     ]
    },
    {
     "name": "stdout",
     "output_type": "stream",
     "text": [
      "[05:29:12] WARNING: /workspace/src/objective/regression_obj.cu:152: reg:linear is now deprecated in favor of reg:squarederror.\n",
      "[05:29:57] WARNING: /workspace/src/objective/regression_obj.cu:152: reg:linear is now deprecated in favor of reg:squarederror.\n",
      "[05:30:42] WARNING: /workspace/src/objective/regression_obj.cu:152: reg:linear is now deprecated in favor of reg:squarederror.\n",
      "[05:31:28] WARNING: /workspace/src/objective/regression_obj.cu:152: reg:linear is now deprecated in favor of reg:squarederror.\n",
      "[05:32:12] WARNING: /workspace/src/objective/regression_obj.cu:152: reg:linear is now deprecated in favor of reg:squarederror.\n",
      "29.122430505096258\n"
     ]
    },
    {
     "name": "stderr",
     "output_type": "stream",
     "text": [
      "[I 2019-08-01 05:32:56,075] Finished trial#135 resulted in value: 29.122430505096258. Current best value is 28.807010894510732 with parameters: {'max_depth': 2, 'max_bin': 80, 'eta': 0.1604115187084588, 'colsample_bytree': 0.8366684167413784, 'min_child_weight': 278, 'n_estimators': 100, 'subsample': 0.7822264980974336, 'reg_lambda': 0.47141547451689725, 'reg_alpha': 0.7560612822999971}.\n"
     ]
    },
    {
     "name": "stdout",
     "output_type": "stream",
     "text": [
      "[05:32:58] WARNING: /workspace/src/objective/regression_obj.cu:152: reg:linear is now deprecated in favor of reg:squarederror.\n",
      "[05:34:34] WARNING: /workspace/src/objective/regression_obj.cu:152: reg:linear is now deprecated in favor of reg:squarederror.\n",
      "[05:36:20] WARNING: /workspace/src/objective/regression_obj.cu:152: reg:linear is now deprecated in favor of reg:squarederror.\n",
      "[05:38:00] WARNING: /workspace/src/objective/regression_obj.cu:152: reg:linear is now deprecated in favor of reg:squarederror.\n",
      "[05:39:47] WARNING: /workspace/src/objective/regression_obj.cu:152: reg:linear is now deprecated in favor of reg:squarederror.\n",
      "29.22256840408913\n"
     ]
    },
    {
     "name": "stderr",
     "output_type": "stream",
     "text": [
      "[I 2019-08-01 05:41:28,910] Finished trial#136 resulted in value: 29.22256840408913. Current best value is 28.807010894510732 with parameters: {'max_depth': 2, 'max_bin': 80, 'eta': 0.1604115187084588, 'colsample_bytree': 0.8366684167413784, 'min_child_weight': 278, 'n_estimators': 100, 'subsample': 0.7822264980974336, 'reg_lambda': 0.47141547451689725, 'reg_alpha': 0.7560612822999971}.\n"
     ]
    },
    {
     "name": "stdout",
     "output_type": "stream",
     "text": [
      "[05:41:30] WARNING: /workspace/src/objective/regression_obj.cu:152: reg:linear is now deprecated in favor of reg:squarederror.\n",
      "[05:43:21] WARNING: /workspace/src/objective/regression_obj.cu:152: reg:linear is now deprecated in favor of reg:squarederror.\n",
      "[05:45:12] WARNING: /workspace/src/objective/regression_obj.cu:152: reg:linear is now deprecated in favor of reg:squarederror.\n",
      "[05:47:02] WARNING: /workspace/src/objective/regression_obj.cu:152: reg:linear is now deprecated in favor of reg:squarederror.\n",
      "[05:48:53] WARNING: /workspace/src/objective/regression_obj.cu:152: reg:linear is now deprecated in favor of reg:squarederror.\n",
      "29.152613674167537\n"
     ]
    },
    {
     "name": "stderr",
     "output_type": "stream",
     "text": [
      "[I 2019-08-01 05:50:44,195] Finished trial#137 resulted in value: 29.152613674167537. Current best value is 28.807010894510732 with parameters: {'max_depth': 2, 'max_bin': 80, 'eta': 0.1604115187084588, 'colsample_bytree': 0.8366684167413784, 'min_child_weight': 278, 'n_estimators': 100, 'subsample': 0.7822264980974336, 'reg_lambda': 0.47141547451689725, 'reg_alpha': 0.7560612822999971}.\n"
     ]
    },
    {
     "name": "stdout",
     "output_type": "stream",
     "text": [
      "[05:50:46] WARNING: /workspace/src/objective/regression_obj.cu:152: reg:linear is now deprecated in favor of reg:squarederror.\n",
      "[05:51:23] WARNING: /workspace/src/objective/regression_obj.cu:152: reg:linear is now deprecated in favor of reg:squarederror.\n",
      "[05:52:00] WARNING: /workspace/src/objective/regression_obj.cu:152: reg:linear is now deprecated in favor of reg:squarederror.\n",
      "[05:52:38] WARNING: /workspace/src/objective/regression_obj.cu:152: reg:linear is now deprecated in favor of reg:squarederror.\n",
      "[05:53:16] WARNING: /workspace/src/objective/regression_obj.cu:152: reg:linear is now deprecated in favor of reg:squarederror.\n",
      "29.103418391966574\n"
     ]
    },
    {
     "name": "stderr",
     "output_type": "stream",
     "text": [
      "[I 2019-08-01 05:53:51,982] Finished trial#138 resulted in value: 29.103418391966574. Current best value is 28.807010894510732 with parameters: {'max_depth': 2, 'max_bin': 80, 'eta': 0.1604115187084588, 'colsample_bytree': 0.8366684167413784, 'min_child_weight': 278, 'n_estimators': 100, 'subsample': 0.7822264980974336, 'reg_lambda': 0.47141547451689725, 'reg_alpha': 0.7560612822999971}.\n"
     ]
    },
    {
     "name": "stdout",
     "output_type": "stream",
     "text": [
      "[05:53:54] WARNING: /workspace/src/objective/regression_obj.cu:152: reg:linear is now deprecated in favor of reg:squarederror.\n",
      "[05:55:29] WARNING: /workspace/src/objective/regression_obj.cu:152: reg:linear is now deprecated in favor of reg:squarederror.\n",
      "[05:57:03] WARNING: /workspace/src/objective/regression_obj.cu:152: reg:linear is now deprecated in favor of reg:squarederror.\n",
      "[05:58:39] WARNING: /workspace/src/objective/regression_obj.cu:152: reg:linear is now deprecated in favor of reg:squarederror.\n",
      "[06:00:13] WARNING: /workspace/src/objective/regression_obj.cu:152: reg:linear is now deprecated in favor of reg:squarederror.\n",
      "29.245289455276257\n"
     ]
    },
    {
     "name": "stderr",
     "output_type": "stream",
     "text": [
      "[I 2019-08-01 06:01:46,153] Finished trial#139 resulted in value: 29.245289455276257. Current best value is 28.807010894510732 with parameters: {'max_depth': 2, 'max_bin': 80, 'eta': 0.1604115187084588, 'colsample_bytree': 0.8366684167413784, 'min_child_weight': 278, 'n_estimators': 100, 'subsample': 0.7822264980974336, 'reg_lambda': 0.47141547451689725, 'reg_alpha': 0.7560612822999971}.\n"
     ]
    },
    {
     "name": "stdout",
     "output_type": "stream",
     "text": [
      "[06:01:48] WARNING: /workspace/src/objective/regression_obj.cu:152: reg:linear is now deprecated in favor of reg:squarederror.\n",
      "[06:03:07] WARNING: /workspace/src/objective/regression_obj.cu:152: reg:linear is now deprecated in favor of reg:squarederror.\n",
      "[06:04:32] WARNING: /workspace/src/objective/regression_obj.cu:152: reg:linear is now deprecated in favor of reg:squarederror.\n",
      "[06:05:54] WARNING: /workspace/src/objective/regression_obj.cu:152: reg:linear is now deprecated in favor of reg:squarederror.\n",
      "[06:07:19] WARNING: /workspace/src/objective/regression_obj.cu:152: reg:linear is now deprecated in favor of reg:squarederror.\n",
      "29.12601825383193\n"
     ]
    },
    {
     "name": "stderr",
     "output_type": "stream",
     "text": [
      "[I 2019-08-01 06:08:43,649] Finished trial#140 resulted in value: 29.12601825383193. Current best value is 28.807010894510732 with parameters: {'max_depth': 2, 'max_bin': 80, 'eta': 0.1604115187084588, 'colsample_bytree': 0.8366684167413784, 'min_child_weight': 278, 'n_estimators': 100, 'subsample': 0.7822264980974336, 'reg_lambda': 0.47141547451689725, 'reg_alpha': 0.7560612822999971}.\n"
     ]
    },
    {
     "name": "stdout",
     "output_type": "stream",
     "text": [
      "[06:08:45] WARNING: /workspace/src/objective/regression_obj.cu:152: reg:linear is now deprecated in favor of reg:squarederror.\n",
      "[06:09:15] WARNING: /workspace/src/objective/regression_obj.cu:152: reg:linear is now deprecated in favor of reg:squarederror.\n",
      "[06:09:44] WARNING: /workspace/src/objective/regression_obj.cu:152: reg:linear is now deprecated in favor of reg:squarederror.\n",
      "[06:10:14] WARNING: /workspace/src/objective/regression_obj.cu:152: reg:linear is now deprecated in favor of reg:squarederror.\n",
      "[06:10:43] WARNING: /workspace/src/objective/regression_obj.cu:152: reg:linear is now deprecated in favor of reg:squarederror.\n",
      "29.069759161196124\n"
     ]
    },
    {
     "name": "stderr",
     "output_type": "stream",
     "text": [
      "[I 2019-08-01 06:11:11,705] Finished trial#141 resulted in value: 29.069759161196124. Current best value is 28.807010894510732 with parameters: {'max_depth': 2, 'max_bin': 80, 'eta': 0.1604115187084588, 'colsample_bytree': 0.8366684167413784, 'min_child_weight': 278, 'n_estimators': 100, 'subsample': 0.7822264980974336, 'reg_lambda': 0.47141547451689725, 'reg_alpha': 0.7560612822999971}.\n"
     ]
    },
    {
     "name": "stdout",
     "output_type": "stream",
     "text": [
      "[06:11:13] WARNING: /workspace/src/objective/regression_obj.cu:152: reg:linear is now deprecated in favor of reg:squarederror.\n",
      "[06:11:37] WARNING: /workspace/src/objective/regression_obj.cu:152: reg:linear is now deprecated in favor of reg:squarederror.\n",
      "[06:12:00] WARNING: /workspace/src/objective/regression_obj.cu:152: reg:linear is now deprecated in favor of reg:squarederror.\n",
      "[06:12:24] WARNING: /workspace/src/objective/regression_obj.cu:152: reg:linear is now deprecated in favor of reg:squarederror.\n",
      "[06:12:47] WARNING: /workspace/src/objective/regression_obj.cu:152: reg:linear is now deprecated in favor of reg:squarederror.\n",
      "29.085590043329244\n"
     ]
    },
    {
     "name": "stderr",
     "output_type": "stream",
     "text": [
      "[I 2019-08-01 06:13:09,897] Finished trial#142 resulted in value: 29.085590043329244. Current best value is 28.807010894510732 with parameters: {'max_depth': 2, 'max_bin': 80, 'eta': 0.1604115187084588, 'colsample_bytree': 0.8366684167413784, 'min_child_weight': 278, 'n_estimators': 100, 'subsample': 0.7822264980974336, 'reg_lambda': 0.47141547451689725, 'reg_alpha': 0.7560612822999971}.\n"
     ]
    },
    {
     "name": "stdout",
     "output_type": "stream",
     "text": [
      "[06:13:11] WARNING: /workspace/src/objective/regression_obj.cu:152: reg:linear is now deprecated in favor of reg:squarederror.\n",
      "[06:15:53] WARNING: /workspace/src/objective/regression_obj.cu:152: reg:linear is now deprecated in favor of reg:squarederror.\n",
      "[06:18:36] WARNING: /workspace/src/objective/regression_obj.cu:152: reg:linear is now deprecated in favor of reg:squarederror.\n",
      "[06:21:22] WARNING: /workspace/src/objective/regression_obj.cu:152: reg:linear is now deprecated in favor of reg:squarederror.\n",
      "[06:24:04] WARNING: /workspace/src/objective/regression_obj.cu:152: reg:linear is now deprecated in favor of reg:squarederror.\n",
      "29.2838188099237\n"
     ]
    },
    {
     "name": "stderr",
     "output_type": "stream",
     "text": [
      "[I 2019-08-01 06:26:45,983] Finished trial#143 resulted in value: 29.2838188099237. Current best value is 28.807010894510732 with parameters: {'max_depth': 2, 'max_bin': 80, 'eta': 0.1604115187084588, 'colsample_bytree': 0.8366684167413784, 'min_child_weight': 278, 'n_estimators': 100, 'subsample': 0.7822264980974336, 'reg_lambda': 0.47141547451689725, 'reg_alpha': 0.7560612822999971}.\n"
     ]
    },
    {
     "name": "stdout",
     "output_type": "stream",
     "text": [
      "[06:26:48] WARNING: /workspace/src/objective/regression_obj.cu:152: reg:linear is now deprecated in favor of reg:squarederror.\n",
      "[06:28:47] WARNING: /workspace/src/objective/regression_obj.cu:152: reg:linear is now deprecated in favor of reg:squarederror.\n",
      "[06:30:57] WARNING: /workspace/src/objective/regression_obj.cu:152: reg:linear is now deprecated in favor of reg:squarederror.\n",
      "[06:33:01] WARNING: /workspace/src/objective/regression_obj.cu:152: reg:linear is now deprecated in favor of reg:squarederror.\n",
      "[06:35:09] WARNING: /workspace/src/objective/regression_obj.cu:152: reg:linear is now deprecated in favor of reg:squarederror.\n",
      "29.281840226618367\n"
     ]
    },
    {
     "name": "stderr",
     "output_type": "stream",
     "text": [
      "[I 2019-08-01 06:37:16,483] Finished trial#144 resulted in value: 29.281840226618367. Current best value is 28.807010894510732 with parameters: {'max_depth': 2, 'max_bin': 80, 'eta': 0.1604115187084588, 'colsample_bytree': 0.8366684167413784, 'min_child_weight': 278, 'n_estimators': 100, 'subsample': 0.7822264980974336, 'reg_lambda': 0.47141547451689725, 'reg_alpha': 0.7560612822999971}.\n"
     ]
    },
    {
     "name": "stdout",
     "output_type": "stream",
     "text": [
      "[06:37:18] WARNING: /workspace/src/objective/regression_obj.cu:152: reg:linear is now deprecated in favor of reg:squarederror.\n",
      "[06:37:35] WARNING: /workspace/src/objective/regression_obj.cu:152: reg:linear is now deprecated in favor of reg:squarederror.\n",
      "[06:37:52] WARNING: /workspace/src/objective/regression_obj.cu:152: reg:linear is now deprecated in favor of reg:squarederror.\n",
      "[06:38:09] WARNING: /workspace/src/objective/regression_obj.cu:152: reg:linear is now deprecated in favor of reg:squarederror.\n",
      "[06:38:26] WARNING: /workspace/src/objective/regression_obj.cu:152: reg:linear is now deprecated in favor of reg:squarederror.\n",
      "28.860603513427005\n"
     ]
    },
    {
     "name": "stderr",
     "output_type": "stream",
     "text": [
      "[I 2019-08-01 06:38:41,751] Finished trial#145 resulted in value: 28.860603513427005. Current best value is 28.807010894510732 with parameters: {'max_depth': 2, 'max_bin': 80, 'eta': 0.1604115187084588, 'colsample_bytree': 0.8366684167413784, 'min_child_weight': 278, 'n_estimators': 100, 'subsample': 0.7822264980974336, 'reg_lambda': 0.47141547451689725, 'reg_alpha': 0.7560612822999971}.\n"
     ]
    },
    {
     "name": "stdout",
     "output_type": "stream",
     "text": [
      "[06:38:43] WARNING: /workspace/src/objective/regression_obj.cu:152: reg:linear is now deprecated in favor of reg:squarederror.\n",
      "[06:39:07] WARNING: /workspace/src/objective/regression_obj.cu:152: reg:linear is now deprecated in favor of reg:squarederror.\n",
      "[06:39:31] WARNING: /workspace/src/objective/regression_obj.cu:152: reg:linear is now deprecated in favor of reg:squarederror.\n",
      "[06:39:55] WARNING: /workspace/src/objective/regression_obj.cu:152: reg:linear is now deprecated in favor of reg:squarederror.\n",
      "[06:40:19] WARNING: /workspace/src/objective/regression_obj.cu:152: reg:linear is now deprecated in favor of reg:squarederror.\n",
      "28.945827916729826\n"
     ]
    },
    {
     "name": "stderr",
     "output_type": "stream",
     "text": [
      "[I 2019-08-01 06:40:41,820] Finished trial#146 resulted in value: 28.945827916729826. Current best value is 28.807010894510732 with parameters: {'max_depth': 2, 'max_bin': 80, 'eta': 0.1604115187084588, 'colsample_bytree': 0.8366684167413784, 'min_child_weight': 278, 'n_estimators': 100, 'subsample': 0.7822264980974336, 'reg_lambda': 0.47141547451689725, 'reg_alpha': 0.7560612822999971}.\n"
     ]
    },
    {
     "name": "stdout",
     "output_type": "stream",
     "text": [
      "[06:40:43] WARNING: /workspace/src/objective/regression_obj.cu:152: reg:linear is now deprecated in favor of reg:squarederror.\n",
      "[06:40:58] WARNING: /workspace/src/objective/regression_obj.cu:152: reg:linear is now deprecated in favor of reg:squarederror.\n",
      "[06:41:14] WARNING: /workspace/src/objective/regression_obj.cu:152: reg:linear is now deprecated in favor of reg:squarederror.\n",
      "[06:41:29] WARNING: /workspace/src/objective/regression_obj.cu:152: reg:linear is now deprecated in favor of reg:squarederror.\n",
      "[06:41:44] WARNING: /workspace/src/objective/regression_obj.cu:152: reg:linear is now deprecated in favor of reg:squarederror.\n",
      "28.84240066417225\n"
     ]
    },
    {
     "name": "stderr",
     "output_type": "stream",
     "text": [
      "[I 2019-08-01 06:41:58,261] Finished trial#147 resulted in value: 28.84240066417225. Current best value is 28.807010894510732 with parameters: {'max_depth': 2, 'max_bin': 80, 'eta': 0.1604115187084588, 'colsample_bytree': 0.8366684167413784, 'min_child_weight': 278, 'n_estimators': 100, 'subsample': 0.7822264980974336, 'reg_lambda': 0.47141547451689725, 'reg_alpha': 0.7560612822999971}.\n"
     ]
    },
    {
     "name": "stdout",
     "output_type": "stream",
     "text": [
      "[06:42:00] WARNING: /workspace/src/objective/regression_obj.cu:152: reg:linear is now deprecated in favor of reg:squarederror.\n",
      "[06:42:28] WARNING: /workspace/src/objective/regression_obj.cu:152: reg:linear is now deprecated in favor of reg:squarederror.\n",
      "[06:42:59] WARNING: /workspace/src/objective/regression_obj.cu:152: reg:linear is now deprecated in favor of reg:squarederror.\n",
      "[06:43:27] WARNING: /workspace/src/objective/regression_obj.cu:152: reg:linear is now deprecated in favor of reg:squarederror.\n",
      "[06:43:57] WARNING: /workspace/src/objective/regression_obj.cu:152: reg:linear is now deprecated in favor of reg:squarederror.\n",
      "29.063943365505185\n"
     ]
    },
    {
     "name": "stderr",
     "output_type": "stream",
     "text": [
      "[I 2019-08-01 06:44:26,368] Finished trial#148 resulted in value: 29.063943365505185. Current best value is 28.807010894510732 with parameters: {'max_depth': 2, 'max_bin': 80, 'eta': 0.1604115187084588, 'colsample_bytree': 0.8366684167413784, 'min_child_weight': 278, 'n_estimators': 100, 'subsample': 0.7822264980974336, 'reg_lambda': 0.47141547451689725, 'reg_alpha': 0.7560612822999971}.\n"
     ]
    },
    {
     "name": "stdout",
     "output_type": "stream",
     "text": [
      "[06:44:28] WARNING: /workspace/src/objective/regression_obj.cu:152: reg:linear is now deprecated in favor of reg:squarederror.\n",
      "[06:44:50] WARNING: /workspace/src/objective/regression_obj.cu:152: reg:linear is now deprecated in favor of reg:squarederror.\n",
      "[06:45:11] WARNING: /workspace/src/objective/regression_obj.cu:152: reg:linear is now deprecated in favor of reg:squarederror.\n",
      "[06:45:33] WARNING: /workspace/src/objective/regression_obj.cu:152: reg:linear is now deprecated in favor of reg:squarederror.\n",
      "[06:45:55] WARNING: /workspace/src/objective/regression_obj.cu:152: reg:linear is now deprecated in favor of reg:squarederror.\n",
      "28.93159413175026\n"
     ]
    },
    {
     "name": "stderr",
     "output_type": "stream",
     "text": [
      "[I 2019-08-01 06:46:15,483] Finished trial#149 resulted in value: 28.93159413175026. Current best value is 28.807010894510732 with parameters: {'max_depth': 2, 'max_bin': 80, 'eta': 0.1604115187084588, 'colsample_bytree': 0.8366684167413784, 'min_child_weight': 278, 'n_estimators': 100, 'subsample': 0.7822264980974336, 'reg_lambda': 0.47141547451689725, 'reg_alpha': 0.7560612822999971}.\n"
     ]
    },
    {
     "name": "stdout",
     "output_type": "stream",
     "text": [
      "[06:46:17] WARNING: /workspace/src/objective/regression_obj.cu:152: reg:linear is now deprecated in favor of reg:squarederror.\n",
      "[06:46:45] WARNING: /workspace/src/objective/regression_obj.cu:152: reg:linear is now deprecated in favor of reg:squarederror.\n",
      "[06:47:13] WARNING: /workspace/src/objective/regression_obj.cu:152: reg:linear is now deprecated in favor of reg:squarederror.\n",
      "[06:47:41] WARNING: /workspace/src/objective/regression_obj.cu:152: reg:linear is now deprecated in favor of reg:squarederror.\n",
      "[06:48:08] WARNING: /workspace/src/objective/regression_obj.cu:152: reg:linear is now deprecated in favor of reg:squarederror.\n",
      "28.978193187279416\n"
     ]
    },
    {
     "name": "stderr",
     "output_type": "stream",
     "text": [
      "[I 2019-08-01 06:48:34,952] Finished trial#150 resulted in value: 28.978193187279416. Current best value is 28.807010894510732 with parameters: {'max_depth': 2, 'max_bin': 80, 'eta': 0.1604115187084588, 'colsample_bytree': 0.8366684167413784, 'min_child_weight': 278, 'n_estimators': 100, 'subsample': 0.7822264980974336, 'reg_lambda': 0.47141547451689725, 'reg_alpha': 0.7560612822999971}.\n"
     ]
    },
    {
     "name": "stdout",
     "output_type": "stream",
     "text": [
      "[06:48:37] WARNING: /workspace/src/objective/regression_obj.cu:152: reg:linear is now deprecated in favor of reg:squarederror.\n",
      "[06:48:55] WARNING: /workspace/src/objective/regression_obj.cu:152: reg:linear is now deprecated in favor of reg:squarederror.\n",
      "[06:49:13] WARNING: /workspace/src/objective/regression_obj.cu:152: reg:linear is now deprecated in favor of reg:squarederror.\n",
      "[06:49:32] WARNING: /workspace/src/objective/regression_obj.cu:152: reg:linear is now deprecated in favor of reg:squarederror.\n",
      "[06:49:50] WARNING: /workspace/src/objective/regression_obj.cu:152: reg:linear is now deprecated in favor of reg:squarederror.\n",
      "29.007815029989274\n"
     ]
    },
    {
     "name": "stderr",
     "output_type": "stream",
     "text": [
      "[I 2019-08-01 06:50:07,670] Finished trial#151 resulted in value: 29.007815029989274. Current best value is 28.807010894510732 with parameters: {'max_depth': 2, 'max_bin': 80, 'eta': 0.1604115187084588, 'colsample_bytree': 0.8366684167413784, 'min_child_weight': 278, 'n_estimators': 100, 'subsample': 0.7822264980974336, 'reg_lambda': 0.47141547451689725, 'reg_alpha': 0.7560612822999971}.\n"
     ]
    },
    {
     "name": "stdout",
     "output_type": "stream",
     "text": [
      "[06:50:09] WARNING: /workspace/src/objective/regression_obj.cu:152: reg:linear is now deprecated in favor of reg:squarederror.\n",
      "[06:50:27] WARNING: /workspace/src/objective/regression_obj.cu:152: reg:linear is now deprecated in favor of reg:squarederror.\n",
      "[06:50:47] WARNING: /workspace/src/objective/regression_obj.cu:152: reg:linear is now deprecated in favor of reg:squarederror.\n",
      "[06:51:05] WARNING: /workspace/src/objective/regression_obj.cu:152: reg:linear is now deprecated in favor of reg:squarederror.\n",
      "[06:51:24] WARNING: /workspace/src/objective/regression_obj.cu:152: reg:linear is now deprecated in favor of reg:squarederror.\n",
      "28.89264716316549\n"
     ]
    },
    {
     "name": "stderr",
     "output_type": "stream",
     "text": [
      "[I 2019-08-01 06:51:42,750] Finished trial#152 resulted in value: 28.89264716316549. Current best value is 28.807010894510732 with parameters: {'max_depth': 2, 'max_bin': 80, 'eta': 0.1604115187084588, 'colsample_bytree': 0.8366684167413784, 'min_child_weight': 278, 'n_estimators': 100, 'subsample': 0.7822264980974336, 'reg_lambda': 0.47141547451689725, 'reg_alpha': 0.7560612822999971}.\n"
     ]
    },
    {
     "name": "stdout",
     "output_type": "stream",
     "text": [
      "[06:51:44] WARNING: /workspace/src/objective/regression_obj.cu:152: reg:linear is now deprecated in favor of reg:squarederror.\n",
      "[06:52:29] WARNING: /workspace/src/objective/regression_obj.cu:152: reg:linear is now deprecated in favor of reg:squarederror.\n",
      "[06:53:15] WARNING: /workspace/src/objective/regression_obj.cu:152: reg:linear is now deprecated in favor of reg:squarederror.\n",
      "[06:54:00] WARNING: /workspace/src/objective/regression_obj.cu:152: reg:linear is now deprecated in favor of reg:squarederror.\n",
      "[06:54:45] WARNING: /workspace/src/objective/regression_obj.cu:152: reg:linear is now deprecated in favor of reg:squarederror.\n",
      "29.125932334296554\n"
     ]
    },
    {
     "name": "stderr",
     "output_type": "stream",
     "text": [
      "[I 2019-08-01 06:55:30,047] Finished trial#153 resulted in value: 29.125932334296554. Current best value is 28.807010894510732 with parameters: {'max_depth': 2, 'max_bin': 80, 'eta': 0.1604115187084588, 'colsample_bytree': 0.8366684167413784, 'min_child_weight': 278, 'n_estimators': 100, 'subsample': 0.7822264980974336, 'reg_lambda': 0.47141547451689725, 'reg_alpha': 0.7560612822999971}.\n"
     ]
    },
    {
     "name": "stdout",
     "output_type": "stream",
     "text": [
      "[06:55:32] WARNING: /workspace/src/objective/regression_obj.cu:152: reg:linear is now deprecated in favor of reg:squarederror.\n",
      "[06:55:56] WARNING: /workspace/src/objective/regression_obj.cu:152: reg:linear is now deprecated in favor of reg:squarederror.\n",
      "[06:56:21] WARNING: /workspace/src/objective/regression_obj.cu:152: reg:linear is now deprecated in favor of reg:squarederror.\n",
      "[06:56:46] WARNING: /workspace/src/objective/regression_obj.cu:152: reg:linear is now deprecated in favor of reg:squarederror.\n",
      "[06:57:10] WARNING: /workspace/src/objective/regression_obj.cu:152: reg:linear is now deprecated in favor of reg:squarederror.\n",
      "28.958819837524562\n"
     ]
    },
    {
     "name": "stderr",
     "output_type": "stream",
     "text": [
      "[I 2019-08-01 06:57:33,586] Finished trial#154 resulted in value: 28.958819837524562. Current best value is 28.807010894510732 with parameters: {'max_depth': 2, 'max_bin': 80, 'eta': 0.1604115187084588, 'colsample_bytree': 0.8366684167413784, 'min_child_weight': 278, 'n_estimators': 100, 'subsample': 0.7822264980974336, 'reg_lambda': 0.47141547451689725, 'reg_alpha': 0.7560612822999971}.\n"
     ]
    },
    {
     "name": "stdout",
     "output_type": "stream",
     "text": [
      "[06:57:35] WARNING: /workspace/src/objective/regression_obj.cu:152: reg:linear is now deprecated in favor of reg:squarederror.\n",
      "[06:57:50] WARNING: /workspace/src/objective/regression_obj.cu:152: reg:linear is now deprecated in favor of reg:squarederror.\n",
      "[06:58:05] WARNING: /workspace/src/objective/regression_obj.cu:152: reg:linear is now deprecated in favor of reg:squarederror.\n",
      "[06:58:21] WARNING: /workspace/src/objective/regression_obj.cu:152: reg:linear is now deprecated in favor of reg:squarederror.\n",
      "[06:58:36] WARNING: /workspace/src/objective/regression_obj.cu:152: reg:linear is now deprecated in favor of reg:squarederror.\n",
      "28.834983911586043\n"
     ]
    },
    {
     "name": "stderr",
     "output_type": "stream",
     "text": [
      "[I 2019-08-01 06:58:50,198] Finished trial#155 resulted in value: 28.834983911586043. Current best value is 28.807010894510732 with parameters: {'max_depth': 2, 'max_bin': 80, 'eta': 0.1604115187084588, 'colsample_bytree': 0.8366684167413784, 'min_child_weight': 278, 'n_estimators': 100, 'subsample': 0.7822264980974336, 'reg_lambda': 0.47141547451689725, 'reg_alpha': 0.7560612822999971}.\n"
     ]
    },
    {
     "name": "stdout",
     "output_type": "stream",
     "text": [
      "[06:58:52] WARNING: /workspace/src/objective/regression_obj.cu:152: reg:linear is now deprecated in favor of reg:squarederror.\n",
      "[06:59:37] WARNING: /workspace/src/objective/regression_obj.cu:152: reg:linear is now deprecated in favor of reg:squarederror.\n",
      "[07:00:27] WARNING: /workspace/src/objective/regression_obj.cu:152: reg:linear is now deprecated in favor of reg:squarederror.\n",
      "[07:01:14] WARNING: /workspace/src/objective/regression_obj.cu:152: reg:linear is now deprecated in favor of reg:squarederror.\n",
      "[07:02:05] WARNING: /workspace/src/objective/regression_obj.cu:152: reg:linear is now deprecated in favor of reg:squarederror.\n",
      "29.1294444533442\n"
     ]
    },
    {
     "name": "stderr",
     "output_type": "stream",
     "text": [
      "[I 2019-08-01 07:02:53,307] Finished trial#156 resulted in value: 29.1294444533442. Current best value is 28.807010894510732 with parameters: {'max_depth': 2, 'max_bin': 80, 'eta': 0.1604115187084588, 'colsample_bytree': 0.8366684167413784, 'min_child_weight': 278, 'n_estimators': 100, 'subsample': 0.7822264980974336, 'reg_lambda': 0.47141547451689725, 'reg_alpha': 0.7560612822999971}.\n"
     ]
    },
    {
     "name": "stdout",
     "output_type": "stream",
     "text": [
      "[07:02:55] WARNING: /workspace/src/objective/regression_obj.cu:152: reg:linear is now deprecated in favor of reg:squarederror.\n",
      "[07:04:08] WARNING: /workspace/src/objective/regression_obj.cu:152: reg:linear is now deprecated in favor of reg:squarederror.\n",
      "[07:05:22] WARNING: /workspace/src/objective/regression_obj.cu:152: reg:linear is now deprecated in favor of reg:squarederror.\n",
      "[07:06:35] WARNING: /workspace/src/objective/regression_obj.cu:152: reg:linear is now deprecated in favor of reg:squarederror.\n",
      "[07:07:49] WARNING: /workspace/src/objective/regression_obj.cu:152: reg:linear is now deprecated in favor of reg:squarederror.\n",
      "29.26740731332857\n"
     ]
    },
    {
     "name": "stderr",
     "output_type": "stream",
     "text": [
      "[I 2019-08-01 07:09:02,575] Finished trial#157 resulted in value: 29.26740731332857. Current best value is 28.807010894510732 with parameters: {'max_depth': 2, 'max_bin': 80, 'eta': 0.1604115187084588, 'colsample_bytree': 0.8366684167413784, 'min_child_weight': 278, 'n_estimators': 100, 'subsample': 0.7822264980974336, 'reg_lambda': 0.47141547451689725, 'reg_alpha': 0.7560612822999971}.\n"
     ]
    },
    {
     "name": "stdout",
     "output_type": "stream",
     "text": [
      "[07:09:04] WARNING: /workspace/src/objective/regression_obj.cu:152: reg:linear is now deprecated in favor of reg:squarederror.\n",
      "[07:09:27] WARNING: /workspace/src/objective/regression_obj.cu:152: reg:linear is now deprecated in favor of reg:squarederror.\n",
      "[07:09:50] WARNING: /workspace/src/objective/regression_obj.cu:152: reg:linear is now deprecated in favor of reg:squarederror.\n",
      "[07:10:13] WARNING: /workspace/src/objective/regression_obj.cu:152: reg:linear is now deprecated in favor of reg:squarederror.\n",
      "[07:10:36] WARNING: /workspace/src/objective/regression_obj.cu:152: reg:linear is now deprecated in favor of reg:squarederror.\n",
      "28.94416524658956\n"
     ]
    },
    {
     "name": "stderr",
     "output_type": "stream",
     "text": [
      "[I 2019-08-01 07:10:57,513] Finished trial#158 resulted in value: 28.94416524658956. Current best value is 28.807010894510732 with parameters: {'max_depth': 2, 'max_bin': 80, 'eta': 0.1604115187084588, 'colsample_bytree': 0.8366684167413784, 'min_child_weight': 278, 'n_estimators': 100, 'subsample': 0.7822264980974336, 'reg_lambda': 0.47141547451689725, 'reg_alpha': 0.7560612822999971}.\n"
     ]
    },
    {
     "name": "stdout",
     "output_type": "stream",
     "text": [
      "[07:10:59] WARNING: /workspace/src/objective/regression_obj.cu:152: reg:linear is now deprecated in favor of reg:squarederror.\n",
      "[07:11:38] WARNING: /workspace/src/objective/regression_obj.cu:152: reg:linear is now deprecated in favor of reg:squarederror.\n",
      "[07:12:18] WARNING: /workspace/src/objective/regression_obj.cu:152: reg:linear is now deprecated in favor of reg:squarederror.\n",
      "[07:12:58] WARNING: /workspace/src/objective/regression_obj.cu:152: reg:linear is now deprecated in favor of reg:squarederror.\n",
      "[07:13:37] WARNING: /workspace/src/objective/regression_obj.cu:152: reg:linear is now deprecated in favor of reg:squarederror.\n",
      "29.114601108936544\n"
     ]
    },
    {
     "name": "stderr",
     "output_type": "stream",
     "text": [
      "[I 2019-08-01 07:14:14,813] Finished trial#159 resulted in value: 29.114601108936544. Current best value is 28.807010894510732 with parameters: {'max_depth': 2, 'max_bin': 80, 'eta': 0.1604115187084588, 'colsample_bytree': 0.8366684167413784, 'min_child_weight': 278, 'n_estimators': 100, 'subsample': 0.7822264980974336, 'reg_lambda': 0.47141547451689725, 'reg_alpha': 0.7560612822999971}.\n"
     ]
    },
    {
     "name": "stdout",
     "output_type": "stream",
     "text": [
      "[07:14:16] WARNING: /workspace/src/objective/regression_obj.cu:152: reg:linear is now deprecated in favor of reg:squarederror.\n",
      "[07:14:44] WARNING: /workspace/src/objective/regression_obj.cu:152: reg:linear is now deprecated in favor of reg:squarederror.\n",
      "[07:15:15] WARNING: /workspace/src/objective/regression_obj.cu:152: reg:linear is now deprecated in favor of reg:squarederror.\n",
      "[07:15:45] WARNING: /workspace/src/objective/regression_obj.cu:152: reg:linear is now deprecated in favor of reg:squarederror.\n",
      "[07:16:15] WARNING: /workspace/src/objective/regression_obj.cu:152: reg:linear is now deprecated in favor of reg:squarederror.\n",
      "29.116347049275475\n"
     ]
    },
    {
     "name": "stderr",
     "output_type": "stream",
     "text": [
      "[I 2019-08-01 07:16:44,140] Finished trial#160 resulted in value: 29.116347049275475. Current best value is 28.807010894510732 with parameters: {'max_depth': 2, 'max_bin': 80, 'eta': 0.1604115187084588, 'colsample_bytree': 0.8366684167413784, 'min_child_weight': 278, 'n_estimators': 100, 'subsample': 0.7822264980974336, 'reg_lambda': 0.47141547451689725, 'reg_alpha': 0.7560612822999971}.\n"
     ]
    },
    {
     "name": "stdout",
     "output_type": "stream",
     "text": [
      "[07:16:46] WARNING: /workspace/src/objective/regression_obj.cu:152: reg:linear is now deprecated in favor of reg:squarederror.\n",
      "[07:17:38] WARNING: /workspace/src/objective/regression_obj.cu:152: reg:linear is now deprecated in favor of reg:squarederror.\n",
      "[07:18:29] WARNING: /workspace/src/objective/regression_obj.cu:152: reg:linear is now deprecated in favor of reg:squarederror.\n",
      "[07:19:21] WARNING: /workspace/src/objective/regression_obj.cu:152: reg:linear is now deprecated in favor of reg:squarederror.\n",
      "[07:20:12] WARNING: /workspace/src/objective/regression_obj.cu:152: reg:linear is now deprecated in favor of reg:squarederror.\n",
      "29.14479287914714\n"
     ]
    },
    {
     "name": "stderr",
     "output_type": "stream",
     "text": [
      "[I 2019-08-01 07:21:03,923] Finished trial#161 resulted in value: 29.14479287914714. Current best value is 28.807010894510732 with parameters: {'max_depth': 2, 'max_bin': 80, 'eta': 0.1604115187084588, 'colsample_bytree': 0.8366684167413784, 'min_child_weight': 278, 'n_estimators': 100, 'subsample': 0.7822264980974336, 'reg_lambda': 0.47141547451689725, 'reg_alpha': 0.7560612822999971}.\n"
     ]
    },
    {
     "name": "stdout",
     "output_type": "stream",
     "text": [
      "[07:21:06] WARNING: /workspace/src/objective/regression_obj.cu:152: reg:linear is now deprecated in favor of reg:squarederror.\n",
      "[07:21:52] WARNING: /workspace/src/objective/regression_obj.cu:152: reg:linear is now deprecated in favor of reg:squarederror.\n",
      "[07:22:38] WARNING: /workspace/src/objective/regression_obj.cu:152: reg:linear is now deprecated in favor of reg:squarederror.\n",
      "[07:23:25] WARNING: /workspace/src/objective/regression_obj.cu:152: reg:linear is now deprecated in favor of reg:squarederror.\n",
      "[07:24:12] WARNING: /workspace/src/objective/regression_obj.cu:152: reg:linear is now deprecated in favor of reg:squarederror.\n",
      "29.056882964116852\n"
     ]
    },
    {
     "name": "stderr",
     "output_type": "stream",
     "text": [
      "[I 2019-08-01 07:24:57,166] Finished trial#162 resulted in value: 29.056882964116852. Current best value is 28.807010894510732 with parameters: {'max_depth': 2, 'max_bin': 80, 'eta': 0.1604115187084588, 'colsample_bytree': 0.8366684167413784, 'min_child_weight': 278, 'n_estimators': 100, 'subsample': 0.7822264980974336, 'reg_lambda': 0.47141547451689725, 'reg_alpha': 0.7560612822999971}.\n"
     ]
    },
    {
     "name": "stdout",
     "output_type": "stream",
     "text": [
      "[07:24:59] WARNING: /workspace/src/objective/regression_obj.cu:152: reg:linear is now deprecated in favor of reg:squarederror.\n",
      "[07:25:34] WARNING: /workspace/src/objective/regression_obj.cu:152: reg:linear is now deprecated in favor of reg:squarederror.\n",
      "[07:26:09] WARNING: /workspace/src/objective/regression_obj.cu:152: reg:linear is now deprecated in favor of reg:squarederror.\n",
      "[07:26:45] WARNING: /workspace/src/objective/regression_obj.cu:152: reg:linear is now deprecated in favor of reg:squarederror.\n",
      "[07:27:20] WARNING: /workspace/src/objective/regression_obj.cu:152: reg:linear is now deprecated in favor of reg:squarederror.\n",
      "29.100542535063344\n"
     ]
    },
    {
     "name": "stderr",
     "output_type": "stream",
     "text": [
      "[I 2019-08-01 07:27:53,607] Finished trial#163 resulted in value: 29.100542535063344. Current best value is 28.807010894510732 with parameters: {'max_depth': 2, 'max_bin': 80, 'eta': 0.1604115187084588, 'colsample_bytree': 0.8366684167413784, 'min_child_weight': 278, 'n_estimators': 100, 'subsample': 0.7822264980974336, 'reg_lambda': 0.47141547451689725, 'reg_alpha': 0.7560612822999971}.\n"
     ]
    },
    {
     "name": "stdout",
     "output_type": "stream",
     "text": [
      "[07:27:55] WARNING: /workspace/src/objective/regression_obj.cu:152: reg:linear is now deprecated in favor of reg:squarederror.\n",
      "[07:28:26] WARNING: /workspace/src/objective/regression_obj.cu:152: reg:linear is now deprecated in favor of reg:squarederror.\n",
      "[07:28:59] WARNING: /workspace/src/objective/regression_obj.cu:152: reg:linear is now deprecated in favor of reg:squarederror.\n",
      "[07:29:31] WARNING: /workspace/src/objective/regression_obj.cu:152: reg:linear is now deprecated in favor of reg:squarederror.\n",
      "[07:30:04] WARNING: /workspace/src/objective/regression_obj.cu:152: reg:linear is now deprecated in favor of reg:squarederror.\n",
      "29.00039682848672\n"
     ]
    },
    {
     "name": "stderr",
     "output_type": "stream",
     "text": [
      "[I 2019-08-01 07:30:36,452] Finished trial#164 resulted in value: 29.00039682848672. Current best value is 28.807010894510732 with parameters: {'max_depth': 2, 'max_bin': 80, 'eta': 0.1604115187084588, 'colsample_bytree': 0.8366684167413784, 'min_child_weight': 278, 'n_estimators': 100, 'subsample': 0.7822264980974336, 'reg_lambda': 0.47141547451689725, 'reg_alpha': 0.7560612822999971}.\n"
     ]
    },
    {
     "name": "stdout",
     "output_type": "stream",
     "text": [
      "[07:30:38] WARNING: /workspace/src/objective/regression_obj.cu:152: reg:linear is now deprecated in favor of reg:squarederror.\n",
      "[07:31:10] WARNING: /workspace/src/objective/regression_obj.cu:152: reg:linear is now deprecated in favor of reg:squarederror.\n",
      "[07:31:41] WARNING: /workspace/src/objective/regression_obj.cu:152: reg:linear is now deprecated in favor of reg:squarederror.\n",
      "[07:32:13] WARNING: /workspace/src/objective/regression_obj.cu:152: reg:linear is now deprecated in favor of reg:squarederror.\n",
      "[07:32:44] WARNING: /workspace/src/objective/regression_obj.cu:152: reg:linear is now deprecated in favor of reg:squarederror.\n",
      "29.127677384925498\n"
     ]
    },
    {
     "name": "stderr",
     "output_type": "stream",
     "text": [
      "[I 2019-08-01 07:33:15,225] Finished trial#165 resulted in value: 29.127677384925498. Current best value is 28.807010894510732 with parameters: {'max_depth': 2, 'max_bin': 80, 'eta': 0.1604115187084588, 'colsample_bytree': 0.8366684167413784, 'min_child_weight': 278, 'n_estimators': 100, 'subsample': 0.7822264980974336, 'reg_lambda': 0.47141547451689725, 'reg_alpha': 0.7560612822999971}.\n"
     ]
    },
    {
     "name": "stdout",
     "output_type": "stream",
     "text": [
      "[07:33:17] WARNING: /workspace/src/objective/regression_obj.cu:152: reg:linear is now deprecated in favor of reg:squarederror.\n",
      "[07:33:56] WARNING: /workspace/src/objective/regression_obj.cu:152: reg:linear is now deprecated in favor of reg:squarederror.\n",
      "[07:34:35] WARNING: /workspace/src/objective/regression_obj.cu:152: reg:linear is now deprecated in favor of reg:squarederror.\n",
      "[07:35:15] WARNING: /workspace/src/objective/regression_obj.cu:152: reg:linear is now deprecated in favor of reg:squarederror.\n",
      "[07:35:54] WARNING: /workspace/src/objective/regression_obj.cu:152: reg:linear is now deprecated in favor of reg:squarederror.\n",
      "29.023917993993834\n"
     ]
    },
    {
     "name": "stderr",
     "output_type": "stream",
     "text": [
      "[I 2019-08-01 07:36:32,055] Finished trial#166 resulted in value: 29.023917993993834. Current best value is 28.807010894510732 with parameters: {'max_depth': 2, 'max_bin': 80, 'eta': 0.1604115187084588, 'colsample_bytree': 0.8366684167413784, 'min_child_weight': 278, 'n_estimators': 100, 'subsample': 0.7822264980974336, 'reg_lambda': 0.47141547451689725, 'reg_alpha': 0.7560612822999971}.\n"
     ]
    },
    {
     "name": "stdout",
     "output_type": "stream",
     "text": [
      "[07:36:34] WARNING: /workspace/src/objective/regression_obj.cu:152: reg:linear is now deprecated in favor of reg:squarederror.\n",
      "[07:37:35] WARNING: /workspace/src/objective/regression_obj.cu:152: reg:linear is now deprecated in favor of reg:squarederror.\n",
      "[07:38:37] WARNING: /workspace/src/objective/regression_obj.cu:152: reg:linear is now deprecated in favor of reg:squarederror.\n",
      "[07:39:40] WARNING: /workspace/src/objective/regression_obj.cu:152: reg:linear is now deprecated in favor of reg:squarederror.\n",
      "[07:40:42] WARNING: /workspace/src/objective/regression_obj.cu:152: reg:linear is now deprecated in favor of reg:squarederror.\n",
      "29.099599377538855\n"
     ]
    },
    {
     "name": "stderr",
     "output_type": "stream",
     "text": [
      "[I 2019-08-01 07:41:43,425] Finished trial#167 resulted in value: 29.099599377538855. Current best value is 28.807010894510732 with parameters: {'max_depth': 2, 'max_bin': 80, 'eta': 0.1604115187084588, 'colsample_bytree': 0.8366684167413784, 'min_child_weight': 278, 'n_estimators': 100, 'subsample': 0.7822264980974336, 'reg_lambda': 0.47141547451689725, 'reg_alpha': 0.7560612822999971}.\n"
     ]
    },
    {
     "name": "stdout",
     "output_type": "stream",
     "text": [
      "[07:41:45] WARNING: /workspace/src/objective/regression_obj.cu:152: reg:linear is now deprecated in favor of reg:squarederror.\n",
      "[07:42:09] WARNING: /workspace/src/objective/regression_obj.cu:152: reg:linear is now deprecated in favor of reg:squarederror.\n",
      "[07:42:36] WARNING: /workspace/src/objective/regression_obj.cu:152: reg:linear is now deprecated in favor of reg:squarederror.\n",
      "[07:43:02] WARNING: /workspace/src/objective/regression_obj.cu:152: reg:linear is now deprecated in favor of reg:squarederror.\n",
      "[07:43:28] WARNING: /workspace/src/objective/regression_obj.cu:152: reg:linear is now deprecated in favor of reg:squarederror.\n",
      "29.10280203305056\n"
     ]
    },
    {
     "name": "stderr",
     "output_type": "stream",
     "text": [
      "[I 2019-08-01 07:43:53,357] Finished trial#168 resulted in value: 29.10280203305056. Current best value is 28.807010894510732 with parameters: {'max_depth': 2, 'max_bin': 80, 'eta': 0.1604115187084588, 'colsample_bytree': 0.8366684167413784, 'min_child_weight': 278, 'n_estimators': 100, 'subsample': 0.7822264980974336, 'reg_lambda': 0.47141547451689725, 'reg_alpha': 0.7560612822999971}.\n"
     ]
    },
    {
     "name": "stdout",
     "output_type": "stream",
     "text": [
      "[07:43:55] WARNING: /workspace/src/objective/regression_obj.cu:152: reg:linear is now deprecated in favor of reg:squarederror.\n",
      "[07:44:13] WARNING: /workspace/src/objective/regression_obj.cu:152: reg:linear is now deprecated in favor of reg:squarederror.\n",
      "[07:44:32] WARNING: /workspace/src/objective/regression_obj.cu:152: reg:linear is now deprecated in favor of reg:squarederror.\n",
      "[07:44:50] WARNING: /workspace/src/objective/regression_obj.cu:152: reg:linear is now deprecated in favor of reg:squarederror.\n",
      "[07:45:09] WARNING: /workspace/src/objective/regression_obj.cu:152: reg:linear is now deprecated in favor of reg:squarederror.\n",
      "29.00184199117113\n"
     ]
    },
    {
     "name": "stderr",
     "output_type": "stream",
     "text": [
      "[I 2019-08-01 07:45:26,463] Finished trial#169 resulted in value: 29.00184199117113. Current best value is 28.807010894510732 with parameters: {'max_depth': 2, 'max_bin': 80, 'eta': 0.1604115187084588, 'colsample_bytree': 0.8366684167413784, 'min_child_weight': 278, 'n_estimators': 100, 'subsample': 0.7822264980974336, 'reg_lambda': 0.47141547451689725, 'reg_alpha': 0.7560612822999971}.\n"
     ]
    },
    {
     "name": "stdout",
     "output_type": "stream",
     "text": [
      "[07:45:28] WARNING: /workspace/src/objective/regression_obj.cu:152: reg:linear is now deprecated in favor of reg:squarederror.\n",
      "[07:46:50] WARNING: /workspace/src/objective/regression_obj.cu:152: reg:linear is now deprecated in favor of reg:squarederror.\n",
      "[07:48:11] WARNING: /workspace/src/objective/regression_obj.cu:152: reg:linear is now deprecated in favor of reg:squarederror.\n",
      "[07:49:33] WARNING: /workspace/src/objective/regression_obj.cu:152: reg:linear is now deprecated in favor of reg:squarederror.\n",
      "[07:50:54] WARNING: /workspace/src/objective/regression_obj.cu:152: reg:linear is now deprecated in favor of reg:squarederror.\n",
      "29.128595792322663\n"
     ]
    },
    {
     "name": "stderr",
     "output_type": "stream",
     "text": [
      "[I 2019-08-01 07:52:13,768] Finished trial#170 resulted in value: 29.128595792322663. Current best value is 28.807010894510732 with parameters: {'max_depth': 2, 'max_bin': 80, 'eta': 0.1604115187084588, 'colsample_bytree': 0.8366684167413784, 'min_child_weight': 278, 'n_estimators': 100, 'subsample': 0.7822264980974336, 'reg_lambda': 0.47141547451689725, 'reg_alpha': 0.7560612822999971}.\n"
     ]
    },
    {
     "name": "stdout",
     "output_type": "stream",
     "text": [
      "[07:52:15] WARNING: /workspace/src/objective/regression_obj.cu:152: reg:linear is now deprecated in favor of reg:squarederror.\n",
      "[07:54:51] WARNING: /workspace/src/objective/regression_obj.cu:152: reg:linear is now deprecated in favor of reg:squarederror.\n",
      "[07:57:27] WARNING: /workspace/src/objective/regression_obj.cu:152: reg:linear is now deprecated in favor of reg:squarederror.\n",
      "[08:00:04] WARNING: /workspace/src/objective/regression_obj.cu:152: reg:linear is now deprecated in favor of reg:squarederror.\n",
      "[08:02:40] WARNING: /workspace/src/objective/regression_obj.cu:152: reg:linear is now deprecated in favor of reg:squarederror.\n",
      "29.272133855427708\n"
     ]
    },
    {
     "name": "stderr",
     "output_type": "stream",
     "text": [
      "[I 2019-08-01 08:05:13,722] Finished trial#171 resulted in value: 29.272133855427708. Current best value is 28.807010894510732 with parameters: {'max_depth': 2, 'max_bin': 80, 'eta': 0.1604115187084588, 'colsample_bytree': 0.8366684167413784, 'min_child_weight': 278, 'n_estimators': 100, 'subsample': 0.7822264980974336, 'reg_lambda': 0.47141547451689725, 'reg_alpha': 0.7560612822999971}.\n"
     ]
    },
    {
     "name": "stdout",
     "output_type": "stream",
     "text": [
      "[08:05:15] WARNING: /workspace/src/objective/regression_obj.cu:152: reg:linear is now deprecated in favor of reg:squarederror.\n",
      "[08:07:05] WARNING: /workspace/src/objective/regression_obj.cu:152: reg:linear is now deprecated in favor of reg:squarederror.\n",
      "[08:09:07] WARNING: /workspace/src/objective/regression_obj.cu:152: reg:linear is now deprecated in favor of reg:squarederror.\n",
      "[08:11:02] WARNING: /workspace/src/objective/regression_obj.cu:152: reg:linear is now deprecated in favor of reg:squarederror.\n",
      "[08:12:59] WARNING: /workspace/src/objective/regression_obj.cu:152: reg:linear is now deprecated in favor of reg:squarederror.\n",
      "29.29767682307407\n"
     ]
    },
    {
     "name": "stderr",
     "output_type": "stream",
     "text": [
      "[I 2019-08-01 08:14:56,912] Finished trial#172 resulted in value: 29.29767682307407. Current best value is 28.807010894510732 with parameters: {'max_depth': 2, 'max_bin': 80, 'eta': 0.1604115187084588, 'colsample_bytree': 0.8366684167413784, 'min_child_weight': 278, 'n_estimators': 100, 'subsample': 0.7822264980974336, 'reg_lambda': 0.47141547451689725, 'reg_alpha': 0.7560612822999971}.\n"
     ]
    },
    {
     "name": "stdout",
     "output_type": "stream",
     "text": [
      "[08:14:59] WARNING: /workspace/src/objective/regression_obj.cu:152: reg:linear is now deprecated in favor of reg:squarederror.\n",
      "[08:19:12] WARNING: /workspace/src/objective/regression_obj.cu:152: reg:linear is now deprecated in favor of reg:squarederror.\n",
      "[08:21:19] WARNING: /workspace/src/objective/regression_obj.cu:152: reg:linear is now deprecated in favor of reg:squarederror.\n",
      "[08:23:26] WARNING: /workspace/src/objective/regression_obj.cu:152: reg:linear is now deprecated in favor of reg:squarederror.\n",
      "29.218512462628574\n"
     ]
    },
    {
     "name": "stderr",
     "output_type": "stream",
     "text": [
      "[I 2019-08-01 08:25:33,674] Finished trial#173 resulted in value: 29.218512462628574. Current best value is 28.807010894510732 with parameters: {'max_depth': 2, 'max_bin': 80, 'eta': 0.1604115187084588, 'colsample_bytree': 0.8366684167413784, 'min_child_weight': 278, 'n_estimators': 100, 'subsample': 0.7822264980974336, 'reg_lambda': 0.47141547451689725, 'reg_alpha': 0.7560612822999971}.\n"
     ]
    },
    {
     "name": "stdout",
     "output_type": "stream",
     "text": [
      "[08:25:35] WARNING: /workspace/src/objective/regression_obj.cu:152: reg:linear is now deprecated in favor of reg:squarederror.\n",
      "[08:26:35] WARNING: /workspace/src/objective/regression_obj.cu:152: reg:linear is now deprecated in favor of reg:squarederror.\n",
      "[08:27:35] WARNING: /workspace/src/objective/regression_obj.cu:152: reg:linear is now deprecated in favor of reg:squarederror.\n",
      "[08:28:35] WARNING: /workspace/src/objective/regression_obj.cu:152: reg:linear is now deprecated in favor of reg:squarederror.\n",
      "[08:29:34] WARNING: /workspace/src/objective/regression_obj.cu:152: reg:linear is now deprecated in favor of reg:squarederror.\n",
      "29.190254138264688\n"
     ]
    },
    {
     "name": "stderr",
     "output_type": "stream",
     "text": [
      "[I 2019-08-01 08:30:32,606] Finished trial#174 resulted in value: 29.190254138264688. Current best value is 28.807010894510732 with parameters: {'max_depth': 2, 'max_bin': 80, 'eta': 0.1604115187084588, 'colsample_bytree': 0.8366684167413784, 'min_child_weight': 278, 'n_estimators': 100, 'subsample': 0.7822264980974336, 'reg_lambda': 0.47141547451689725, 'reg_alpha': 0.7560612822999971}.\n"
     ]
    },
    {
     "name": "stdout",
     "output_type": "stream",
     "text": [
      "[08:30:34] WARNING: /workspace/src/objective/regression_obj.cu:152: reg:linear is now deprecated in favor of reg:squarederror.\n",
      "[08:31:01] WARNING: /workspace/src/objective/regression_obj.cu:152: reg:linear is now deprecated in favor of reg:squarederror.\n",
      "[08:31:28] WARNING: /workspace/src/objective/regression_obj.cu:152: reg:linear is now deprecated in favor of reg:squarederror.\n",
      "[08:31:55] WARNING: /workspace/src/objective/regression_obj.cu:152: reg:linear is now deprecated in favor of reg:squarederror.\n",
      "[08:32:21] WARNING: /workspace/src/objective/regression_obj.cu:152: reg:linear is now deprecated in favor of reg:squarederror.\n",
      "28.97670156668737\n"
     ]
    },
    {
     "name": "stderr",
     "output_type": "stream",
     "text": [
      "[I 2019-08-01 08:32:47,233] Finished trial#175 resulted in value: 28.97670156668737. Current best value is 28.807010894510732 with parameters: {'max_depth': 2, 'max_bin': 80, 'eta': 0.1604115187084588, 'colsample_bytree': 0.8366684167413784, 'min_child_weight': 278, 'n_estimators': 100, 'subsample': 0.7822264980974336, 'reg_lambda': 0.47141547451689725, 'reg_alpha': 0.7560612822999971}.\n"
     ]
    },
    {
     "name": "stdout",
     "output_type": "stream",
     "text": [
      "[08:32:49] WARNING: /workspace/src/objective/regression_obj.cu:152: reg:linear is now deprecated in favor of reg:squarederror.\n",
      "[08:33:16] WARNING: /workspace/src/objective/regression_obj.cu:152: reg:linear is now deprecated in favor of reg:squarederror.\n",
      "[08:33:45] WARNING: /workspace/src/objective/regression_obj.cu:152: reg:linear is now deprecated in favor of reg:squarederror.\n",
      "[08:34:13] WARNING: /workspace/src/objective/regression_obj.cu:152: reg:linear is now deprecated in favor of reg:squarederror.\n",
      "[08:34:43] WARNING: /workspace/src/objective/regression_obj.cu:152: reg:linear is now deprecated in favor of reg:squarederror.\n",
      "29.067310297652718\n"
     ]
    },
    {
     "name": "stderr",
     "output_type": "stream",
     "text": [
      "[I 2019-08-01 08:35:10,617] Finished trial#176 resulted in value: 29.067310297652718. Current best value is 28.807010894510732 with parameters: {'max_depth': 2, 'max_bin': 80, 'eta': 0.1604115187084588, 'colsample_bytree': 0.8366684167413784, 'min_child_weight': 278, 'n_estimators': 100, 'subsample': 0.7822264980974336, 'reg_lambda': 0.47141547451689725, 'reg_alpha': 0.7560612822999971}.\n"
     ]
    },
    {
     "name": "stdout",
     "output_type": "stream",
     "text": [
      "[08:35:12] WARNING: /workspace/src/objective/regression_obj.cu:152: reg:linear is now deprecated in favor of reg:squarederror.\n",
      "[08:35:26] WARNING: /workspace/src/objective/regression_obj.cu:152: reg:linear is now deprecated in favor of reg:squarederror.\n",
      "[08:35:40] WARNING: /workspace/src/objective/regression_obj.cu:152: reg:linear is now deprecated in favor of reg:squarederror.\n",
      "[08:35:54] WARNING: /workspace/src/objective/regression_obj.cu:152: reg:linear is now deprecated in favor of reg:squarederror.\n",
      "[08:36:08] WARNING: /workspace/src/objective/regression_obj.cu:152: reg:linear is now deprecated in favor of reg:squarederror.\n",
      "28.806120800238755\n"
     ]
    },
    {
     "name": "stderr",
     "output_type": "stream",
     "text": [
      "[I 2019-08-01 08:36:20,674] Finished trial#177 resulted in value: 28.806120800238755. Current best value is 28.806120800238755 with parameters: {'max_depth': 2, 'max_bin': 34, 'eta': 0.21266276945213727, 'colsample_bytree': 0.8978323253778592, 'min_child_weight': 223, 'n_estimators': 100, 'subsample': 0.9794670436000524, 'reg_lambda': 0.00014415588784118678, 'reg_alpha': 3.7737256736245464e-05}.\n"
     ]
    },
    {
     "name": "stdout",
     "output_type": "stream",
     "text": [
      "[08:36:22] WARNING: /workspace/src/objective/regression_obj.cu:152: reg:linear is now deprecated in favor of reg:squarederror.\n",
      "[08:39:08] WARNING: /workspace/src/objective/regression_obj.cu:152: reg:linear is now deprecated in favor of reg:squarederror.\n",
      "[08:41:54] WARNING: /workspace/src/objective/regression_obj.cu:152: reg:linear is now deprecated in favor of reg:squarederror.\n",
      "[08:44:42] WARNING: /workspace/src/objective/regression_obj.cu:152: reg:linear is now deprecated in favor of reg:squarederror.\n",
      "[08:47:29] WARNING: /workspace/src/objective/regression_obj.cu:152: reg:linear is now deprecated in favor of reg:squarederror.\n",
      "29.254032140163893\n"
     ]
    },
    {
     "name": "stderr",
     "output_type": "stream",
     "text": [
      "[I 2019-08-01 08:50:13,613] Finished trial#178 resulted in value: 29.254032140163893. Current best value is 28.806120800238755 with parameters: {'max_depth': 2, 'max_bin': 34, 'eta': 0.21266276945213727, 'colsample_bytree': 0.8978323253778592, 'min_child_weight': 223, 'n_estimators': 100, 'subsample': 0.9794670436000524, 'reg_lambda': 0.00014415588784118678, 'reg_alpha': 3.7737256736245464e-05}.\n"
     ]
    },
    {
     "name": "stdout",
     "output_type": "stream",
     "text": [
      "[08:50:15] WARNING: /workspace/src/objective/regression_obj.cu:152: reg:linear is now deprecated in favor of reg:squarederror.\n",
      "[08:51:30] WARNING: /workspace/src/objective/regression_obj.cu:152: reg:linear is now deprecated in favor of reg:squarederror.\n",
      "[08:52:45] WARNING: /workspace/src/objective/regression_obj.cu:152: reg:linear is now deprecated in favor of reg:squarederror.\n",
      "[08:54:01] WARNING: /workspace/src/objective/regression_obj.cu:152: reg:linear is now deprecated in favor of reg:squarederror.\n",
      "[08:55:15] WARNING: /workspace/src/objective/regression_obj.cu:152: reg:linear is now deprecated in favor of reg:squarederror.\n",
      "29.174100756474466\n"
     ]
    },
    {
     "name": "stderr",
     "output_type": "stream",
     "text": [
      "[I 2019-08-01 08:56:28,656] Finished trial#179 resulted in value: 29.174100756474466. Current best value is 28.806120800238755 with parameters: {'max_depth': 2, 'max_bin': 34, 'eta': 0.21266276945213727, 'colsample_bytree': 0.8978323253778592, 'min_child_weight': 223, 'n_estimators': 100, 'subsample': 0.9794670436000524, 'reg_lambda': 0.00014415588784118678, 'reg_alpha': 3.7737256736245464e-05}.\n"
     ]
    },
    {
     "name": "stdout",
     "output_type": "stream",
     "text": [
      "[08:56:30] WARNING: /workspace/src/objective/regression_obj.cu:152: reg:linear is now deprecated in favor of reg:squarederror.\n",
      "[08:57:14] WARNING: /workspace/src/objective/regression_obj.cu:152: reg:linear is now deprecated in favor of reg:squarederror.\n",
      "[08:58:01] WARNING: /workspace/src/objective/regression_obj.cu:152: reg:linear is now deprecated in favor of reg:squarederror.\n",
      "[08:58:46] WARNING: /workspace/src/objective/regression_obj.cu:152: reg:linear is now deprecated in favor of reg:squarederror.\n",
      "[08:59:32] WARNING: /workspace/src/objective/regression_obj.cu:152: reg:linear is now deprecated in favor of reg:squarederror.\n",
      "29.04365736914892\n"
     ]
    },
    {
     "name": "stderr",
     "output_type": "stream",
     "text": [
      "[I 2019-08-01 09:00:18,026] Finished trial#180 resulted in value: 29.04365736914892. Current best value is 28.806120800238755 with parameters: {'max_depth': 2, 'max_bin': 34, 'eta': 0.21266276945213727, 'colsample_bytree': 0.8978323253778592, 'min_child_weight': 223, 'n_estimators': 100, 'subsample': 0.9794670436000524, 'reg_lambda': 0.00014415588784118678, 'reg_alpha': 3.7737256736245464e-05}.\n"
     ]
    },
    {
     "name": "stdout",
     "output_type": "stream",
     "text": [
      "[09:00:20] WARNING: /workspace/src/objective/regression_obj.cu:152: reg:linear is now deprecated in favor of reg:squarederror.\n",
      "[09:02:07] WARNING: /workspace/src/objective/regression_obj.cu:152: reg:linear is now deprecated in favor of reg:squarederror.\n",
      "[09:03:55] WARNING: /workspace/src/objective/regression_obj.cu:152: reg:linear is now deprecated in favor of reg:squarederror.\n",
      "[09:05:41] WARNING: /workspace/src/objective/regression_obj.cu:152: reg:linear is now deprecated in favor of reg:squarederror.\n",
      "[09:07:28] WARNING: /workspace/src/objective/regression_obj.cu:152: reg:linear is now deprecated in favor of reg:squarederror.\n",
      "29.293452191195094\n"
     ]
    },
    {
     "name": "stderr",
     "output_type": "stream",
     "text": [
      "[I 2019-08-01 09:09:15,026] Finished trial#181 resulted in value: 29.293452191195094. Current best value is 28.806120800238755 with parameters: {'max_depth': 2, 'max_bin': 34, 'eta': 0.21266276945213727, 'colsample_bytree': 0.8978323253778592, 'min_child_weight': 223, 'n_estimators': 100, 'subsample': 0.9794670436000524, 'reg_lambda': 0.00014415588784118678, 'reg_alpha': 3.7737256736245464e-05}.\n"
     ]
    },
    {
     "name": "stdout",
     "output_type": "stream",
     "text": [
      "[09:09:17] WARNING: /workspace/src/objective/regression_obj.cu:152: reg:linear is now deprecated in favor of reg:squarederror.\n",
      "[09:09:41] WARNING: /workspace/src/objective/regression_obj.cu:152: reg:linear is now deprecated in favor of reg:squarederror.\n",
      "[09:10:05] WARNING: /workspace/src/objective/regression_obj.cu:152: reg:linear is now deprecated in favor of reg:squarederror.\n",
      "[09:10:29] WARNING: /workspace/src/objective/regression_obj.cu:152: reg:linear is now deprecated in favor of reg:squarederror.\n",
      "[09:10:53] WARNING: /workspace/src/objective/regression_obj.cu:152: reg:linear is now deprecated in favor of reg:squarederror.\n",
      "29.04994878489919\n"
     ]
    },
    {
     "name": "stderr",
     "output_type": "stream",
     "text": [
      "[I 2019-08-01 09:11:15,862] Finished trial#182 resulted in value: 29.04994878489919. Current best value is 28.806120800238755 with parameters: {'max_depth': 2, 'max_bin': 34, 'eta': 0.21266276945213727, 'colsample_bytree': 0.8978323253778592, 'min_child_weight': 223, 'n_estimators': 100, 'subsample': 0.9794670436000524, 'reg_lambda': 0.00014415588784118678, 'reg_alpha': 3.7737256736245464e-05}.\n"
     ]
    },
    {
     "name": "stdout",
     "output_type": "stream",
     "text": [
      "[09:11:17] WARNING: /workspace/src/objective/regression_obj.cu:152: reg:linear is now deprecated in favor of reg:squarederror.\n",
      "[09:11:50] WARNING: /workspace/src/objective/regression_obj.cu:152: reg:linear is now deprecated in favor of reg:squarederror.\n",
      "[09:12:23] WARNING: /workspace/src/objective/regression_obj.cu:152: reg:linear is now deprecated in favor of reg:squarederror.\n",
      "[09:12:56] WARNING: /workspace/src/objective/regression_obj.cu:152: reg:linear is now deprecated in favor of reg:squarederror.\n",
      "[09:13:29] WARNING: /workspace/src/objective/regression_obj.cu:152: reg:linear is now deprecated in favor of reg:squarederror.\n",
      "29.00445223306274\n"
     ]
    },
    {
     "name": "stderr",
     "output_type": "stream",
     "text": [
      "[I 2019-08-01 09:14:00,905] Finished trial#183 resulted in value: 29.00445223306274. Current best value is 28.806120800238755 with parameters: {'max_depth': 2, 'max_bin': 34, 'eta': 0.21266276945213727, 'colsample_bytree': 0.8978323253778592, 'min_child_weight': 223, 'n_estimators': 100, 'subsample': 0.9794670436000524, 'reg_lambda': 0.00014415588784118678, 'reg_alpha': 3.7737256736245464e-05}.\n"
     ]
    },
    {
     "name": "stdout",
     "output_type": "stream",
     "text": [
      "[09:14:03] WARNING: /workspace/src/objective/regression_obj.cu:152: reg:linear is now deprecated in favor of reg:squarederror.\n",
      "[09:15:10] WARNING: /workspace/src/objective/regression_obj.cu:152: reg:linear is now deprecated in favor of reg:squarederror.\n",
      "[09:16:25] WARNING: /workspace/src/objective/regression_obj.cu:152: reg:linear is now deprecated in favor of reg:squarederror.\n",
      "[09:17:35] WARNING: /workspace/src/objective/regression_obj.cu:152: reg:linear is now deprecated in favor of reg:squarederror.\n",
      "[09:18:47] WARNING: /workspace/src/objective/regression_obj.cu:152: reg:linear is now deprecated in favor of reg:squarederror.\n",
      "29.224737796180968\n"
     ]
    },
    {
     "name": "stderr",
     "output_type": "stream",
     "text": [
      "[I 2019-08-01 09:19:59,244] Finished trial#184 resulted in value: 29.224737796180968. Current best value is 28.806120800238755 with parameters: {'max_depth': 2, 'max_bin': 34, 'eta': 0.21266276945213727, 'colsample_bytree': 0.8978323253778592, 'min_child_weight': 223, 'n_estimators': 100, 'subsample': 0.9794670436000524, 'reg_lambda': 0.00014415588784118678, 'reg_alpha': 3.7737256736245464e-05}.\n"
     ]
    },
    {
     "name": "stdout",
     "output_type": "stream",
     "text": [
      "[09:20:01] WARNING: /workspace/src/objective/regression_obj.cu:152: reg:linear is now deprecated in favor of reg:squarederror.\n",
      "[09:22:47] WARNING: /workspace/src/objective/regression_obj.cu:152: reg:linear is now deprecated in favor of reg:squarederror.\n",
      "[09:25:32] WARNING: /workspace/src/objective/regression_obj.cu:152: reg:linear is now deprecated in favor of reg:squarederror.\n",
      "[09:28:17] WARNING: /workspace/src/objective/regression_obj.cu:152: reg:linear is now deprecated in favor of reg:squarederror.\n",
      "[09:31:03] WARNING: /workspace/src/objective/regression_obj.cu:152: reg:linear is now deprecated in favor of reg:squarederror.\n",
      "29.255784781820953\n"
     ]
    },
    {
     "name": "stderr",
     "output_type": "stream",
     "text": [
      "[I 2019-08-01 09:33:50,729] Finished trial#185 resulted in value: 29.255784781820953. Current best value is 28.806120800238755 with parameters: {'max_depth': 2, 'max_bin': 34, 'eta': 0.21266276945213727, 'colsample_bytree': 0.8978323253778592, 'min_child_weight': 223, 'n_estimators': 100, 'subsample': 0.9794670436000524, 'reg_lambda': 0.00014415588784118678, 'reg_alpha': 3.7737256736245464e-05}.\n"
     ]
    },
    {
     "name": "stdout",
     "output_type": "stream",
     "text": [
      "[09:33:52] WARNING: /workspace/src/objective/regression_obj.cu:152: reg:linear is now deprecated in favor of reg:squarederror.\n",
      "[09:35:26] WARNING: /workspace/src/objective/regression_obj.cu:152: reg:linear is now deprecated in favor of reg:squarederror.\n",
      "[09:36:59] WARNING: /workspace/src/objective/regression_obj.cu:152: reg:linear is now deprecated in favor of reg:squarederror.\n",
      "[09:38:33] WARNING: /workspace/src/objective/regression_obj.cu:152: reg:linear is now deprecated in favor of reg:squarederror.\n",
      "[09:40:07] WARNING: /workspace/src/objective/regression_obj.cu:152: reg:linear is now deprecated in favor of reg:squarederror.\n",
      "29.194330365868858\n"
     ]
    },
    {
     "name": "stderr",
     "output_type": "stream",
     "text": [
      "[I 2019-08-01 09:41:39,090] Finished trial#186 resulted in value: 29.194330365868858. Current best value is 28.806120800238755 with parameters: {'max_depth': 2, 'max_bin': 34, 'eta': 0.21266276945213727, 'colsample_bytree': 0.8978323253778592, 'min_child_weight': 223, 'n_estimators': 100, 'subsample': 0.9794670436000524, 'reg_lambda': 0.00014415588784118678, 'reg_alpha': 3.7737256736245464e-05}.\n"
     ]
    },
    {
     "name": "stdout",
     "output_type": "stream",
     "text": [
      "[09:41:41] WARNING: /workspace/src/objective/regression_obj.cu:152: reg:linear is now deprecated in favor of reg:squarederror.\n",
      "[09:41:54] WARNING: /workspace/src/objective/regression_obj.cu:152: reg:linear is now deprecated in favor of reg:squarederror.\n",
      "[09:42:08] WARNING: /workspace/src/objective/regression_obj.cu:152: reg:linear is now deprecated in favor of reg:squarederror.\n",
      "[09:42:22] WARNING: /workspace/src/objective/regression_obj.cu:152: reg:linear is now deprecated in favor of reg:squarederror.\n",
      "[09:42:36] WARNING: /workspace/src/objective/regression_obj.cu:152: reg:linear is now deprecated in favor of reg:squarederror.\n",
      "28.807597802542045\n"
     ]
    },
    {
     "name": "stderr",
     "output_type": "stream",
     "text": [
      "[I 2019-08-01 09:42:48,491] Finished trial#187 resulted in value: 28.807597802542045. Current best value is 28.806120800238755 with parameters: {'max_depth': 2, 'max_bin': 34, 'eta': 0.21266276945213727, 'colsample_bytree': 0.8978323253778592, 'min_child_weight': 223, 'n_estimators': 100, 'subsample': 0.9794670436000524, 'reg_lambda': 0.00014415588784118678, 'reg_alpha': 3.7737256736245464e-05}.\n"
     ]
    },
    {
     "name": "stdout",
     "output_type": "stream",
     "text": [
      "[09:42:50] WARNING: /workspace/src/objective/regression_obj.cu:152: reg:linear is now deprecated in favor of reg:squarederror.\n",
      "[09:43:57] WARNING: /workspace/src/objective/regression_obj.cu:152: reg:linear is now deprecated in favor of reg:squarederror.\n",
      "[09:45:10] WARNING: /workspace/src/objective/regression_obj.cu:152: reg:linear is now deprecated in favor of reg:squarederror.\n",
      "[09:46:20] WARNING: /workspace/src/objective/regression_obj.cu:152: reg:linear is now deprecated in favor of reg:squarederror.\n",
      "[09:47:32] WARNING: /workspace/src/objective/regression_obj.cu:152: reg:linear is now deprecated in favor of reg:squarederror.\n",
      "29.168051392570238\n"
     ]
    },
    {
     "name": "stderr",
     "output_type": "stream",
     "text": [
      "[I 2019-08-01 09:48:43,748] Finished trial#188 resulted in value: 29.168051392570238. Current best value is 28.806120800238755 with parameters: {'max_depth': 2, 'max_bin': 34, 'eta': 0.21266276945213727, 'colsample_bytree': 0.8978323253778592, 'min_child_weight': 223, 'n_estimators': 100, 'subsample': 0.9794670436000524, 'reg_lambda': 0.00014415588784118678, 'reg_alpha': 3.7737256736245464e-05}.\n"
     ]
    },
    {
     "name": "stdout",
     "output_type": "stream",
     "text": [
      "[09:48:45] WARNING: /workspace/src/objective/regression_obj.cu:152: reg:linear is now deprecated in favor of reg:squarederror.\n",
      "[09:49:06] WARNING: /workspace/src/objective/regression_obj.cu:152: reg:linear is now deprecated in favor of reg:squarederror.\n",
      "[09:49:26] WARNING: /workspace/src/objective/regression_obj.cu:152: reg:linear is now deprecated in favor of reg:squarederror.\n",
      "[09:49:47] WARNING: /workspace/src/objective/regression_obj.cu:152: reg:linear is now deprecated in favor of reg:squarederror.\n",
      "[09:50:08] WARNING: /workspace/src/objective/regression_obj.cu:152: reg:linear is now deprecated in favor of reg:squarederror.\n",
      "28.91667026968659\n"
     ]
    },
    {
     "name": "stderr",
     "output_type": "stream",
     "text": [
      "[I 2019-08-01 09:50:27,286] Finished trial#189 resulted in value: 28.91667026968659. Current best value is 28.806120800238755 with parameters: {'max_depth': 2, 'max_bin': 34, 'eta': 0.21266276945213727, 'colsample_bytree': 0.8978323253778592, 'min_child_weight': 223, 'n_estimators': 100, 'subsample': 0.9794670436000524, 'reg_lambda': 0.00014415588784118678, 'reg_alpha': 3.7737256736245464e-05}.\n"
     ]
    },
    {
     "name": "stdout",
     "output_type": "stream",
     "text": [
      "[09:50:29] WARNING: /workspace/src/objective/regression_obj.cu:152: reg:linear is now deprecated in favor of reg:squarederror.\n",
      "[09:51:02] WARNING: /workspace/src/objective/regression_obj.cu:152: reg:linear is now deprecated in favor of reg:squarederror.\n",
      "[09:51:35] WARNING: /workspace/src/objective/regression_obj.cu:152: reg:linear is now deprecated in favor of reg:squarederror.\n",
      "[09:52:08] WARNING: /workspace/src/objective/regression_obj.cu:152: reg:linear is now deprecated in favor of reg:squarederror.\n",
      "[09:52:41] WARNING: /workspace/src/objective/regression_obj.cu:152: reg:linear is now deprecated in favor of reg:squarederror.\n",
      "29.125991054776044\n"
     ]
    },
    {
     "name": "stderr",
     "output_type": "stream",
     "text": [
      "[I 2019-08-01 09:53:13,413] Finished trial#190 resulted in value: 29.125991054776044. Current best value is 28.806120800238755 with parameters: {'max_depth': 2, 'max_bin': 34, 'eta': 0.21266276945213727, 'colsample_bytree': 0.8978323253778592, 'min_child_weight': 223, 'n_estimators': 100, 'subsample': 0.9794670436000524, 'reg_lambda': 0.00014415588784118678, 'reg_alpha': 3.7737256736245464e-05}.\n"
     ]
    },
    {
     "name": "stdout",
     "output_type": "stream",
     "text": [
      "[09:53:15] WARNING: /workspace/src/objective/regression_obj.cu:152: reg:linear is now deprecated in favor of reg:squarederror.\n",
      "[09:54:05] WARNING: /workspace/src/objective/regression_obj.cu:152: reg:linear is now deprecated in favor of reg:squarederror.\n",
      "[09:54:54] WARNING: /workspace/src/objective/regression_obj.cu:152: reg:linear is now deprecated in favor of reg:squarederror.\n",
      "[09:55:44] WARNING: /workspace/src/objective/regression_obj.cu:152: reg:linear is now deprecated in favor of reg:squarederror.\n",
      "[09:56:34] WARNING: /workspace/src/objective/regression_obj.cu:152: reg:linear is now deprecated in favor of reg:squarederror.\n",
      "29.136296577330786\n"
     ]
    },
    {
     "name": "stderr",
     "output_type": "stream",
     "text": [
      "[I 2019-08-01 09:57:21,829] Finished trial#191 resulted in value: 29.136296577330786. Current best value is 28.806120800238755 with parameters: {'max_depth': 2, 'max_bin': 34, 'eta': 0.21266276945213727, 'colsample_bytree': 0.8978323253778592, 'min_child_weight': 223, 'n_estimators': 100, 'subsample': 0.9794670436000524, 'reg_lambda': 0.00014415588784118678, 'reg_alpha': 3.7737256736245464e-05}.\n"
     ]
    },
    {
     "name": "stdout",
     "output_type": "stream",
     "text": [
      "[09:57:23] WARNING: /workspace/src/objective/regression_obj.cu:152: reg:linear is now deprecated in favor of reg:squarederror.\n",
      "[09:59:19] WARNING: /workspace/src/objective/regression_obj.cu:152: reg:linear is now deprecated in favor of reg:squarederror.\n",
      "[10:01:25] WARNING: /workspace/src/objective/regression_obj.cu:152: reg:linear is now deprecated in favor of reg:squarederror.\n",
      "[10:03:26] WARNING: /workspace/src/objective/regression_obj.cu:152: reg:linear is now deprecated in favor of reg:squarederror.\n",
      "[10:05:30] WARNING: /workspace/src/objective/regression_obj.cu:152: reg:linear is now deprecated in favor of reg:squarederror.\n",
      "29.273594191108543\n"
     ]
    },
    {
     "name": "stderr",
     "output_type": "stream",
     "text": [
      "[I 2019-08-01 10:07:33,996] Finished trial#192 resulted in value: 29.273594191108543. Current best value is 28.806120800238755 with parameters: {'max_depth': 2, 'max_bin': 34, 'eta': 0.21266276945213727, 'colsample_bytree': 0.8978323253778592, 'min_child_weight': 223, 'n_estimators': 100, 'subsample': 0.9794670436000524, 'reg_lambda': 0.00014415588784118678, 'reg_alpha': 3.7737256736245464e-05}.\n"
     ]
    },
    {
     "name": "stdout",
     "output_type": "stream",
     "text": [
      "[10:07:36] WARNING: /workspace/src/objective/regression_obj.cu:152: reg:linear is now deprecated in favor of reg:squarederror.\n",
      "[10:08:02] WARNING: /workspace/src/objective/regression_obj.cu:152: reg:linear is now deprecated in favor of reg:squarederror.\n",
      "[10:08:29] WARNING: /workspace/src/objective/regression_obj.cu:152: reg:linear is now deprecated in favor of reg:squarederror.\n",
      "[10:08:55] WARNING: /workspace/src/objective/regression_obj.cu:152: reg:linear is now deprecated in favor of reg:squarederror.\n",
      "[10:09:22] WARNING: /workspace/src/objective/regression_obj.cu:152: reg:linear is now deprecated in favor of reg:squarederror.\n",
      "28.971578398826033\n"
     ]
    },
    {
     "name": "stderr",
     "output_type": "stream",
     "text": [
      "[I 2019-08-01 10:09:47,711] Finished trial#193 resulted in value: 28.971578398826033. Current best value is 28.806120800238755 with parameters: {'max_depth': 2, 'max_bin': 34, 'eta': 0.21266276945213727, 'colsample_bytree': 0.8978323253778592, 'min_child_weight': 223, 'n_estimators': 100, 'subsample': 0.9794670436000524, 'reg_lambda': 0.00014415588784118678, 'reg_alpha': 3.7737256736245464e-05}.\n"
     ]
    },
    {
     "name": "stdout",
     "output_type": "stream",
     "text": [
      "[10:09:49] WARNING: /workspace/src/objective/regression_obj.cu:152: reg:linear is now deprecated in favor of reg:squarederror.\n",
      "[10:10:13] WARNING: /workspace/src/objective/regression_obj.cu:152: reg:linear is now deprecated in favor of reg:squarederror.\n",
      "[10:10:36] WARNING: /workspace/src/objective/regression_obj.cu:152: reg:linear is now deprecated in favor of reg:squarederror.\n",
      "[10:10:59] WARNING: /workspace/src/objective/regression_obj.cu:152: reg:linear is now deprecated in favor of reg:squarederror.\n",
      "[10:11:22] WARNING: /workspace/src/objective/regression_obj.cu:152: reg:linear is now deprecated in favor of reg:squarederror.\n",
      "28.9392867512997\n"
     ]
    },
    {
     "name": "stderr",
     "output_type": "stream",
     "text": [
      "[I 2019-08-01 10:11:44,321] Finished trial#194 resulted in value: 28.9392867512997. Current best value is 28.806120800238755 with parameters: {'max_depth': 2, 'max_bin': 34, 'eta': 0.21266276945213727, 'colsample_bytree': 0.8978323253778592, 'min_child_weight': 223, 'n_estimators': 100, 'subsample': 0.9794670436000524, 'reg_lambda': 0.00014415588784118678, 'reg_alpha': 3.7737256736245464e-05}.\n"
     ]
    },
    {
     "name": "stdout",
     "output_type": "stream",
     "text": [
      "[10:11:46] WARNING: /workspace/src/objective/regression_obj.cu:152: reg:linear is now deprecated in favor of reg:squarederror.\n",
      "[10:12:36] WARNING: /workspace/src/objective/regression_obj.cu:152: reg:linear is now deprecated in favor of reg:squarederror.\n",
      "[10:13:27] WARNING: /workspace/src/objective/regression_obj.cu:152: reg:linear is now deprecated in favor of reg:squarederror.\n",
      "[10:14:18] WARNING: /workspace/src/objective/regression_obj.cu:152: reg:linear is now deprecated in favor of reg:squarederror.\n",
      "[10:15:09] WARNING: /workspace/src/objective/regression_obj.cu:152: reg:linear is now deprecated in favor of reg:squarederror.\n",
      "29.176347915807934\n"
     ]
    },
    {
     "name": "stderr",
     "output_type": "stream",
     "text": [
      "[I 2019-08-01 10:15:58,158] Finished trial#195 resulted in value: 29.176347915807934. Current best value is 28.806120800238755 with parameters: {'max_depth': 2, 'max_bin': 34, 'eta': 0.21266276945213727, 'colsample_bytree': 0.8978323253778592, 'min_child_weight': 223, 'n_estimators': 100, 'subsample': 0.9794670436000524, 'reg_lambda': 0.00014415588784118678, 'reg_alpha': 3.7737256736245464e-05}.\n"
     ]
    },
    {
     "name": "stdout",
     "output_type": "stream",
     "text": [
      "[10:16:00] WARNING: /workspace/src/objective/regression_obj.cu:152: reg:linear is now deprecated in favor of reg:squarederror.\n",
      "[10:18:05] WARNING: /workspace/src/objective/regression_obj.cu:152: reg:linear is now deprecated in favor of reg:squarederror.\n",
      "[10:20:23] WARNING: /workspace/src/objective/regression_obj.cu:152: reg:linear is now deprecated in favor of reg:squarederror.\n",
      "[10:22:33] WARNING: /workspace/src/objective/regression_obj.cu:152: reg:linear is now deprecated in favor of reg:squarederror.\n",
      "[10:24:52] WARNING: /workspace/src/objective/regression_obj.cu:152: reg:linear is now deprecated in favor of reg:squarederror.\n",
      "29.285927984558842\n"
     ]
    },
    {
     "name": "stderr",
     "output_type": "stream",
     "text": [
      "[I 2019-08-01 10:27:05,688] Finished trial#196 resulted in value: 29.285927984558842. Current best value is 28.806120800238755 with parameters: {'max_depth': 2, 'max_bin': 34, 'eta': 0.21266276945213727, 'colsample_bytree': 0.8978323253778592, 'min_child_weight': 223, 'n_estimators': 100, 'subsample': 0.9794670436000524, 'reg_lambda': 0.00014415588784118678, 'reg_alpha': 3.7737256736245464e-05}.\n"
     ]
    },
    {
     "name": "stdout",
     "output_type": "stream",
     "text": [
      "[10:27:07] WARNING: /workspace/src/objective/regression_obj.cu:152: reg:linear is now deprecated in favor of reg:squarederror.\n",
      "[10:27:33] WARNING: /workspace/src/objective/regression_obj.cu:152: reg:linear is now deprecated in favor of reg:squarederror.\n",
      "[10:27:58] WARNING: /workspace/src/objective/regression_obj.cu:152: reg:linear is now deprecated in favor of reg:squarederror.\n",
      "[10:28:24] WARNING: /workspace/src/objective/regression_obj.cu:152: reg:linear is now deprecated in favor of reg:squarederror.\n",
      "[10:28:49] WARNING: /workspace/src/objective/regression_obj.cu:152: reg:linear is now deprecated in favor of reg:squarederror.\n",
      "28.960963219086477\n"
     ]
    },
    {
     "name": "stderr",
     "output_type": "stream",
     "text": [
      "[I 2019-08-01 10:29:13,753] Finished trial#197 resulted in value: 28.960963219086477. Current best value is 28.806120800238755 with parameters: {'max_depth': 2, 'max_bin': 34, 'eta': 0.21266276945213727, 'colsample_bytree': 0.8978323253778592, 'min_child_weight': 223, 'n_estimators': 100, 'subsample': 0.9794670436000524, 'reg_lambda': 0.00014415588784118678, 'reg_alpha': 3.7737256736245464e-05}.\n"
     ]
    },
    {
     "name": "stdout",
     "output_type": "stream",
     "text": [
      "[10:29:15] WARNING: /workspace/src/objective/regression_obj.cu:152: reg:linear is now deprecated in favor of reg:squarederror.\n",
      "[10:29:46] WARNING: /workspace/src/objective/regression_obj.cu:152: reg:linear is now deprecated in favor of reg:squarederror.\n",
      "[10:30:17] WARNING: /workspace/src/objective/regression_obj.cu:152: reg:linear is now deprecated in favor of reg:squarederror.\n",
      "[10:30:49] WARNING: /workspace/src/objective/regression_obj.cu:152: reg:linear is now deprecated in favor of reg:squarederror.\n",
      "[10:31:20] WARNING: /workspace/src/objective/regression_obj.cu:152: reg:linear is now deprecated in favor of reg:squarederror.\n",
      "29.147236324208784\n"
     ]
    },
    {
     "name": "stderr",
     "output_type": "stream",
     "text": [
      "[I 2019-08-01 10:31:50,554] Finished trial#198 resulted in value: 29.147236324208784. Current best value is 28.806120800238755 with parameters: {'max_depth': 2, 'max_bin': 34, 'eta': 0.21266276945213727, 'colsample_bytree': 0.8978323253778592, 'min_child_weight': 223, 'n_estimators': 100, 'subsample': 0.9794670436000524, 'reg_lambda': 0.00014415588784118678, 'reg_alpha': 3.7737256736245464e-05}.\n"
     ]
    },
    {
     "name": "stdout",
     "output_type": "stream",
     "text": [
      "[10:31:52] WARNING: /workspace/src/objective/regression_obj.cu:152: reg:linear is now deprecated in favor of reg:squarederror.\n",
      "[10:34:33] WARNING: /workspace/src/objective/regression_obj.cu:152: reg:linear is now deprecated in favor of reg:squarederror.\n",
      "[10:37:13] WARNING: /workspace/src/objective/regression_obj.cu:152: reg:linear is now deprecated in favor of reg:squarederror.\n",
      "[10:39:55] WARNING: /workspace/src/objective/regression_obj.cu:152: reg:linear is now deprecated in favor of reg:squarederror.\n",
      "[10:42:34] WARNING: /workspace/src/objective/regression_obj.cu:152: reg:linear is now deprecated in favor of reg:squarederror.\n",
      "29.228497884282078\n"
     ]
    },
    {
     "name": "stderr",
     "output_type": "stream",
     "text": [
      "[I 2019-08-01 10:45:12,501] Finished trial#199 resulted in value: 29.228497884282078. Current best value is 28.806120800238755 with parameters: {'max_depth': 2, 'max_bin': 34, 'eta': 0.21266276945213727, 'colsample_bytree': 0.8978323253778592, 'min_child_weight': 223, 'n_estimators': 100, 'subsample': 0.9794670436000524, 'reg_lambda': 0.00014415588784118678, 'reg_alpha': 3.7737256736245464e-05}.\n"
     ]
    }
   ],
   "source": [
    "mytrial = []\n",
    "#  tune hypterparameters\n",
    "def objective(trial):\n",
    "        \n",
    "    max_depth = trial.suggest_int('max_depth', 2, 10)\n",
    "    max_bin = trial.suggest_int('max_bin', 10, 100)\n",
    "    eta = trial.suggest_uniform('eta', 0.01, 0.4)\n",
    "    colsample_bytree = trial.suggest_uniform('colsample_bytree', 0.6, 1)\n",
    "    min_child_weight = trial.suggest_int('min_child_weight', 200, 600)\n",
    "    n_estimators = trial.suggest_int('n_estimators', 100, 1000)\n",
    "    subsample = trial.suggest_uniform('subsample', 0.6, 1.0)\n",
    "    reg_lambda = trial.suggest_loguniform('reg_lambda', 0.000001, 1.0)\n",
    "    reg_alpha = trial.suggest_loguniform('reg_alpha', 0.000001, 1.0)\n",
    "        \n",
    "    args= param.copy()\n",
    "    args['model'] = {\n",
    "        'cls':'xgb.XGBRegressor',\n",
    "        'init':{\n",
    "            \"max_depth\":max_depth,\n",
    "            \"max_bin\":max_bin,\n",
    "            \"eta\":eta,\n",
    "            \"colsample_bytree\":colsample_bytree,\n",
    "            \"min_child_weight\":min_child_weight,\n",
    "            \"n_estimators\":n_estimators,\n",
    "            \"subsample\":subsample,\n",
    "            \"reg_lambda\":reg_lambda,\n",
    "            \"reg_alpha\":reg_alpha,\n",
    "            'n_jobs':-1},\n",
    "        'fit':{},\n",
    "    }\n",
    "    \n",
    "    df_his_i, df_feature_importances_i, df_valid_pred_i, df_test_pred_i =  sk_process(df_train, args, f'tune hyper', None, trial=mytrial, is_output_feature_importance=False, trial_level=1)\n",
    "    \n",
    "    val_mae = mean_absolute_error(df_valid_pred_i.predict.values, df_train.y.values)\n",
    "    print(val_mae)\n",
    "\n",
    "    return val_mae\n",
    "\n",
    "study = optuna.create_study()\n",
    "study.optimize(objective, n_trials=200)"
   ]
  },
  {
   "cell_type": "code",
   "execution_count": 10,
   "metadata": {},
   "outputs": [
    {
     "data": {
      "text/plain": [
       "{'max_depth': 2,\n",
       " 'max_bin': 34,\n",
       " 'eta': 0.21266276945213727,\n",
       " 'colsample_bytree': 0.8978323253778592,\n",
       " 'min_child_weight': 223,\n",
       " 'n_estimators': 100,\n",
       " 'subsample': 0.9794670436000524,\n",
       " 'reg_lambda': 0.00014415588784118678,\n",
       " 'reg_alpha': 3.7737256736245464e-05}"
      ]
     },
     "execution_count": 10,
     "metadata": {},
     "output_type": "execute_result"
    }
   ],
   "source": [
    "study.best_params"
   ]
  },
  {
   "cell_type": "code",
   "execution_count": 7,
   "metadata": {},
   "outputs": [
    {
     "name": "stdout",
     "output_type": "stream",
     "text": [
      "y=scalar_coupling_constant, type=7\n",
      "1016\n",
      "{'columns': ['dist_C_3_y', 'adC1', 'tertiary_angle_1', 'dist_H_0_y', 'dist_to_type_std', 'atom_index_1_cycle_size_mean', 'cos_c1', 'molecule_atom_index_0_dist_std_diff', 'dist_N_0_x', 'dist_C_1_x', 'dist_C_2_y', 'dist_C_3_x', 'tertiary_atom_1', 'atom_1_bond_lengths_mean', 'atom_1_n_bonds', 'cos_f0', 'tertiary_distance_3', 'dist_C_2_x', 'tertiary_angle_0', 'atom_0_bond_lengths_max', 'dist_O_0_x', 'molecule_atom_index_0_dist_min_diff', 'cos_c0', 'tertiary_angle_3', 'tertiary_angle_2', 'tertiary_distance_1', 'dist_C_1_y', 'tertiary_distance_2', 'molecule_atom_index_0_dist_min_div', 'dist_to_type_1_mean', 'dist_C_0_y', 'max_molecule_atom_0_dist_xyz', 'dist_H_1_x', 'atom_1_bond_lengths_std', 'cos_c0_c1', 'dist_O_0_y', 'mean_molecule_atom_0_dist_xyz'], 'cv': {'cls': 'GroupKFold', 'init': {'n_splits': 5}}, 'scaler': {'cls': 'StandardScaler', 'init': {}, 'fit': {}}, 'model': {'cls': 'lgb.LGBMRegressor', 'init': {'learning_rate': 0.2833769330240482, 'feature_fraction': 0.8818248470204605, 'bagging_fraction': 0.8205197060908092, 'min_data_in_leaf': 202, 'lambda_l1': 0.017039063121824582, 'lambda_l2': 0.8318702431636841, 'max_bin': 100, 'num_leaves': 255, 'random_state': 3895, 'n_jobs': 16}, 'fit': {}}, 'metric': 'mean_absolute_error'}\n"
     ]
    }
   ],
   "source": [
    "# , 'fc', 'sd','pso','dso'\n",
    "for y in ['scalar_coupling_constant']:\n",
    "    for t in np.arange(7,8,1):\n",
    "        \n",
    "        print(f'y={y}, type={t}')\n",
    "        df_train=pd.read_pickle(f'{file_folder}/df_train2.gzde', compression='gzip')\n",
    "#         df_test=pd.read_pickle(f'{file_folder}/df_test.gzde', compression='gzip')\n",
    "        \n",
    "        df_train['y'] = df_train[y]\n",
    "        df_train = df_train[df_train['type']==t]\n",
    "        n_samples = 300000 if df_train.shape[0] > 300000 else df_train.shape[0]\n",
    "        df_train = df_train.sample(n_samples).reset_index(drop=True)\n",
    "#         df_test = df_test[df_test['type']==t].reset_index(drop=True)\n",
    "        df_test = pd.DataFrame()\n",
    "        \n",
    "\n",
    "        param = {\n",
    "            'columns': df_train.columns.drop(['index', 'y','group', 'scalar_coupling_constant', 'fc', 'sd','pso','dso']).tolist(),\n",
    "            'cv': {\n",
    "                'cls': 'GroupKFold',\n",
    "                'init':{\n",
    "                    'n_splits': 5,\n",
    "#                     'shuffle': True,\n",
    "#                     'random_state': 42,\n",
    "                },\n",
    "            },\n",
    "            'scaler': {'cls': 'StandardScaler', 'init': {}, 'fit': {}},\n",
    "            'model': {\n",
    "                'cls': 'lgb.LGBMRegressor',\n",
    "                'init': {\n",
    "                    'learning_rate': 0.2833769330240482,\n",
    "                    'feature_fraction': 0.8818248470204605,\n",
    "                    'bagging_fraction': 0.8205197060908092,\n",
    "                    'min_data_in_leaf': 202,\n",
    "                    'lambda_l1': 0.017039063121824582,\n",
    "                    'lambda_l2': 0.8318702431636841,\n",
    "                    'max_bin': 100,\n",
    "                    'num_leaves': 255,\n",
    "                    'random_state': 3895,\n",
    "                    'n_jobs': 16\n",
    "                },\n",
    "                'fit': {}\n",
    "            },\n",
    "            'metric': 'mean_absolute_error'\n",
    "        }\n",
    "\n",
    "\n",
    "\n",
    "        process_queue = PQueue(df_train, df_test, param, mytrial)\n",
    "        sort_features = SortFeatureSelectTopNProcess(**{'top_n':200})\n",
    "        select_topn = RFESelectTopNProcess(**{'n_features_remain':20, 'n_features_to_remove':10})\n",
    "        remove_useless = RFERemoveUselessFeaturesProcess(**{})\n",
    "        process_queue.insert_node(sort_features)\n",
    "        process_queue.insert_node(select_topn)\n",
    "        process_queue.insert_node(remove_useless)\n",
    "\n",
    "        try:\n",
    "            result = process_queue.run()\n",
    "        except Exception as e:\n",
    "            print(e.__str__())\n",
    "        print(len(process_queue.trial))\n",
    "        print(process_queue.param)\n",
    "    "
   ]
  },
  {
   "cell_type": "code",
   "execution_count": 6,
   "metadata": {},
   "outputs": [],
   "source": [
    "df_train=pd.read_pickle(f'{file_folder}/df_train2.gzde', compression='gzip')\n",
    "df_test=pd.read_pickle(f'{file_folder}/df_test2.gzde', compression='gzip')\n",
    "df_train['y'] = df_train['scalar_coupling_constant']"
   ]
  },
  {
   "cell_type": "code",
   "execution_count": 7,
   "metadata": {},
   "outputs": [],
   "source": [
    "columns_list = [\n",
    "{'columns': ['dist_C_3_y', 'eem_0', 'tertiary_angle_1', 'dist_C_4_x', 'dist_O_1_x', 'dist_C_4_y', 'inv_dist1', 'dist_H_0_x', 'inv_dist0R', 'min_molecule_atom_1_dist_xyz', 'cos_center1', 'dist_N_0_x', 'dist_C_2_y', 'dist_C_3_x', 'inv_dist1R', 'tertiary_atom_1', 'dist_O_0_y', 'vander_H.x', 'dist_H_3_y', 'tertiary_distance_0', 'max_molecule_atom_1_dist_xyz', 'dist_O_0_x', 'inv_distPR', 'tertiary_angle_3', 'tertiary_angle_2', 'dist_O_1_y', 'tertiary_distance_1', 'dist_C_1_y', 'tertiary_angle_4', 'yukawa_H.y', 'tertiary_distance_2', 'adC2', 'dist_H_1_x', 'atom_1_bond_lengths_std', 'dist_H_1_y', 'molecule_atom_index_0_dist_max_diff', 'dist_N_0_y', 'tertiary_distance_5', 'dist_H_0_y', 'dist_to_type_std', 'atom_index_1_cycle_size_mean', 'adN1', 'dist_1_pos_1', 'dist_to_type_mean', 'dist_C_0_x', 'adC3', 'eem_1', 'atom_1_bond_lengths_mean', 'dist_H_2_x', 'molecule_atom_index_1_dist_min_diff', 'atom_1_n_bonds', 'cos_f0', 'tertiary_distance_3', 'dist_C_2_x', 'tertiary_angle_0', 'tertiary_atom_0', 'atom_1_bond_lengths_max', 'dist_H_2_y', 'dist_H_3_x', 'dist_to_type_0_mean', 'dist_1_neg_1', 'tertiary_distance_4', 'dist_to_type_1_mean', 'dist_C_0_y', 'yukawa_H.x', 'distC1', 'molecule_atom_index_0_dist_max_div'], 'cv': {'cls': 'GroupKFold', 'init': {'n_splits': 5}}, 'scaler': {'cls': 'StandardScaler', 'init': {}, 'fit': {}}, 'model': {'cls': 'xgb.XGBRegressor', 'init': {}, 'fit': {}}, 'metric': 'mean_absolute_error'},\n",
    "{'columns': ['dist_H_0_y', 'min_molecule_atom_1_dist_xyz', 'inv_dist1R', 'dist_C_0_y', 'dist_C_1_y', 'inv_distP', 'atom_1_bond_lengths_mean', 'bond_atom', 'tertiary_angle_1', 'dist_H_0_x', 'atom_1_bond_lengths_std', 'dist_H_1_y', 'yukawa_H.y', 'eem_0', 'tertiary_angle_0', 'dist_C_2_x', 'tertiary_distance_0', 'vander_N.x', 'dist_O_0_y', 'dist_O_0_x', 'dist_1_neg_1', 'tertiary_atom_0', 'inv_dist1', 'dist_N_0_y', 'dist_N_1_x', 'vander_H.x', 'atom_index_1_cycle_size_mean', 'dist_N_0_x', 'dist_C_1_x', 'inv_distPR', 'dist_C_3_x', 'dist_H_1_x', 'adC3', 'dist_C_2_y', 'tertiary_distance_3', 'tertiary_angle_2', 'inv_dist0R', 'dist_to_type_0_mean', 'cos_f0', 'tertiary_distance_1', 'molecule_atom_index_0_dist_max_div', 'cos_center1', 'vander_N.y', 'dist_C_0_x', 'tertiary_distance_2', 'atom_1_bond_lengths_max', 'linkN', 'tertiary_distance_5', 'dist_C_3_y', 'molecule_atom_index_1_dist_max_div'], 'cv': {'cls': 'GroupKFold', 'init': {'n_splits': 5}}, 'scaler': {'cls': 'StandardScaler', 'init': {}, 'fit': {}}, 'model': {'cls': 'xgb.XGBRegressor', 'init': {}, 'fit': {}}, 'metric': 'mean_absolute_error'},\n",
    "{'columns': ['dist_H_0_y', 'min_molecule_atom_1_dist_xyz', 'inv_dist1R', 'dist_C_0_y', 'dist_C_1_y', 'inv_distP', 'atom_1_bond_lengths_mean', 'bond_atom', 'tertiary_angle_1', 'dist_H_0_x', 'atom_1_bond_lengths_std', 'dist_H_1_y', 'yukawa_H.y', 'eem_0', 'tertiary_angle_0', 'dist_C_2_x', 'tertiary_distance_0', 'vander_N.x', 'dist_O_0_y', 'dist_O_0_x', 'dist_1_neg_1', 'tertiary_atom_0', 'inv_dist1', 'dist_N_0_y', 'dist_N_1_x', 'vander_H.x', 'atom_index_1_cycle_size_mean', 'dist_N_0_x', 'dist_C_1_x', 'inv_distPR', 'dist_C_3_x', 'dist_H_1_x', 'adC3', 'dist_C_2_y', 'tertiary_distance_3', 'tertiary_angle_2', 'inv_dist0R', 'dist_to_type_0_mean', 'cos_f0', 'tertiary_distance_1', 'molecule_atom_index_0_dist_max_div', 'cos_center1', 'vander_N.y', 'dist_C_0_x', 'tertiary_distance_2', 'atom_1_bond_lengths_max', 'linkN', 'tertiary_distance_5', 'dist_C_3_y', 'molecule_atom_index_1_dist_max_div'], 'cv': {'cls': 'GroupKFold', 'init': {'n_splits': 5}}, 'scaler': {'cls': 'StandardScaler', 'init': {}, 'fit': {}}, 'model': {'cls': 'xgb.XGBRegressor', 'init': {}, 'fit': {}}, 'metric': 'mean_absolute_error'},\n",
    "{'columns': ['dist_N_0_y', 'adC1', 'dist_H_0_y', 'link0', 'tertiary_angle_1', 'inv_distP', 'dist_C_3_y', 'inv_distPE', 'dist_H_0_x', 'dist_to_type_std', 'cos_c1', 'inv_dist0R', 'adN1', 'dist_N_0_x', 'dist_C_2_y', 'dist_C_1_x', 'dist_to_type_mean', 'dist_C_3_x', 'cos_f1', 'dist_C_0_x', 'distance_c1', 'adC3', 'tertiary_atom_1', 'molecule_atom_index_1_dist_mean', 'cos_f0', 'tertiary_atom_2', 'dist_H_3_y', 'dist_C_2_x', 'tertiary_angle_0', 'max_distance_y', 'dist_O_0_x', 'coulomb_H.y', 'dist_H_2_y', 'molecule_atom_index_0_dist_min_diff', 'cos_c0', 'tertiary_angle_3', 'dist_H_3_x', 'tertiary_angle_2', 'dist_xyz', 'dist_to_type_0_mean', 'tertiary_distance_1', 'dist_C_1_y', 'yukawa_H.y', 'tertiary_distance_4', 'tertiary_distance_2', 'adC2', 'dist_to_type_1_mean', 'molecule_atom_index_0_dist_min_div', 'dist_C_0_y', 'yukawa_H.x', 'molecule_dist_min', 'dist_H_1_x', 'cos_c0_c1', 'dist_H_1_y', 'cos_f0_f1', 'dist_O_0_y', 'mean_molecule_atom_0_dist_xyz'], 'cv': {'cls': 'GroupKFold', 'init': {'n_splits': 5}}, 'scaler': {'cls': 'StandardScaler', 'init': {}, 'fit': {}}, 'model': {'cls': 'xgb.XGBRegressor', 'init': {}, 'fit': {}}, 'metric': 'mean_absolute_error'},\n",
    "{'columns': ['dist_N_0_y', 'adC1', 'dist_H_0_y', 'link0', 'tertiary_angle_1', 'inv_distP', 'dist_C_3_y', 'inv_distPE', 'dist_H_0_x', 'dist_to_type_std', 'cos_c1', 'inv_dist0R', 'adN1', 'dist_N_0_x', 'dist_C_2_y', 'dist_C_1_x', 'dist_to_type_mean', 'dist_C_3_x', 'cos_f1', 'dist_C_0_x', 'distance_c1', 'adC3', 'tertiary_atom_1', 'molecule_atom_index_1_dist_mean', 'cos_f0', 'tertiary_atom_2', 'dist_H_3_y', 'dist_C_2_x', 'tertiary_angle_0', 'max_distance_y', 'dist_O_0_x', 'coulomb_H.y', 'dist_H_2_y', 'molecule_atom_index_0_dist_min_diff', 'cos_c0', 'tertiary_angle_3', 'dist_H_3_x', 'tertiary_angle_2', 'dist_xyz', 'dist_to_type_0_mean', 'tertiary_distance_1', 'dist_C_1_y', 'yukawa_H.y', 'tertiary_distance_4', 'tertiary_distance_2', 'adC2', 'dist_to_type_1_mean', 'molecule_atom_index_0_dist_min_div', 'dist_C_0_y', 'yukawa_H.x', 'molecule_dist_min', 'dist_H_1_x', 'cos_c0_c1', 'dist_H_1_y', 'cos_f0_f1', 'dist_O_0_y', 'mean_molecule_atom_0_dist_xyz'], 'cv': {'cls': 'GroupKFold', 'init': {'n_splits': 5}}, 'scaler': {'cls': 'StandardScaler', 'init': {}, 'fit': {}}, 'model': {'cls': 'xgb.XGBRegressor', 'init': {}, 'fit': {}}, 'metric': 'mean_absolute_error'},\n",
    "{'columns': ['dist_N_0_y', 'adC1', 'dist_H_0_y', 'link0', 'tertiary_angle_1', 'inv_distP', 'dist_C_3_y', 'inv_distPE', 'dist_H_0_x', 'dist_to_type_std', 'cos_c1', 'inv_dist0R', 'adN1', 'dist_N_0_x', 'dist_C_2_y', 'dist_C_1_x', 'dist_to_type_mean', 'dist_C_3_x', 'cos_f1', 'dist_C_0_x', 'distance_c1', 'adC3', 'tertiary_atom_1', 'molecule_atom_index_1_dist_mean', 'cos_f0', 'tertiary_atom_2', 'dist_H_3_y', 'dist_C_2_x', 'tertiary_angle_0', 'max_distance_y', 'dist_O_0_x', 'coulomb_H.y', 'dist_H_2_y', 'molecule_atom_index_0_dist_min_diff', 'cos_c0', 'tertiary_angle_3', 'dist_H_3_x', 'tertiary_angle_2', 'dist_xyz', 'dist_to_type_0_mean', 'tertiary_distance_1', 'dist_C_1_y', 'yukawa_H.y', 'tertiary_distance_4', 'tertiary_distance_2', 'adC2', 'dist_to_type_1_mean', 'molecule_atom_index_0_dist_min_div', 'dist_C_0_y', 'yukawa_H.x', 'molecule_dist_min', 'dist_H_1_x', 'cos_c0_c1', 'dist_H_1_y', 'cos_f0_f1', 'dist_O_0_y', 'mean_molecule_atom_0_dist_xyz'], 'cv': {'cls': 'GroupKFold', 'init': {'n_splits': 5}}, 'scaler': {'cls': 'StandardScaler', 'init': {}, 'fit': {}}, 'model': {'cls': 'xgb.XGBRegressor', 'init': {}, 'fit': {}}, 'metric': 'mean_absolute_error'},\n",
    "{'columns': ['dist_C_2_y', 'dist_to_type_std', 'tertiary_angle_3', 'molecule_atom_index_0_dist_min_diff', 'cos_c0', 'dist_to_type_1_mean', 'inv_dist1E', 'adN1', 'dist_N_0_y', 'molecule_atom_index_1_dist_max_diff', 'dist_to_type_mean', 'tertiary_distance_2', 'max_molecule_atom_1_dist_xyz', 'tertiary_angle_2', 'molecule_atom_index_0_dist_max_diff', 'max_distance_y', 'tertiary_atom_0', 'dist_H_0_y', 'dist_H_2_y', 'dist_C_0_y', 'dist_C_1_y', 'max_molecule_atom_0_dist_xyz', 'cos_f0', 'adC3', 'distH0', 'dist_to_type_0_mean', 'dist_H_0_x', 'tertiary_distance_1', 'dist_H_1_y', 'tertiary_atom_2', 'dist_C_2_x', 'dihedral', 'tertiary_angle_1', 'tertiary_atom_1', 'molecule_atom_index_0_dist_min_div', 'cos_c1', 'distance_c1', 'dist_C_0_x', 'dist_O_0_x', 'tertiary_angle_0', 'dist_C_3_y', 'cos_f1', 'dist_O_0_y', 'tertiary_distance_3', 'dist_C_1_x', 'atom_index_closest_1', 'adC2', 'cos_c0_c1'], 'cv': {'cls': 'GroupKFold', 'init': {'n_splits': 5}}, 'scaler': {'cls': 'StandardScaler', 'init': {}, 'fit': {}}, 'model': {'cls': 'xgb.XGBRegressor', 'init': {}, 'fit': {}}, 'metric': 'mean_absolute_error'},\n",
    "{'columns': ['dist_C_3_y', 'adC1', 'tertiary_angle_1', 'dist_H_0_y', 'dist_to_type_std', 'atom_index_1_cycle_size_mean', 'cos_c1', 'molecule_atom_index_0_dist_std_diff', 'dist_N_0_x', 'dist_C_1_x', 'dist_C_2_y', 'dist_C_3_x', 'tertiary_atom_1', 'atom_1_bond_lengths_mean', 'atom_1_n_bonds', 'cos_f0', 'tertiary_distance_3', 'dist_C_2_x', 'tertiary_angle_0', 'atom_0_bond_lengths_max', 'dist_O_0_x', 'molecule_atom_index_0_dist_min_diff', 'cos_c0', 'tertiary_angle_3', 'tertiary_angle_2', 'tertiary_distance_1', 'dist_C_1_y', 'tertiary_distance_2', 'molecule_atom_index_0_dist_min_div', 'dist_to_type_1_mean', 'dist_C_0_y', 'max_molecule_atom_0_dist_xyz', 'dist_H_1_x', 'atom_1_bond_lengths_std', 'cos_c0_c1', 'dist_O_0_y', 'mean_molecule_atom_0_dist_xyz'], 'cv': {'cls': 'GroupKFold', 'init': {'n_splits': 5}}, 'scaler': {'cls': 'StandardScaler', 'init': {}, 'fit': {}}, 'model': {'cls': 'xgb.XGBRegressor', 'init': {}, 'fit': {}}, 'metric': 'mean_absolute_error'},\n",
    "]"
   ]
  },
  {
   "cell_type": "code",
   "execution_count": 8,
   "metadata": {},
   "outputs": [
    {
     "name": "stdout",
     "output_type": "stream",
     "text": [
      "[12:36:01] WARNING: /workspace/src/objective/regression_obj.cu:152: reg:linear is now deprecated in favor of reg:squarederror.\n",
      "[12:37:46] WARNING: /workspace/src/objective/regression_obj.cu:152: reg:linear is now deprecated in favor of reg:squarederror.\n",
      "[12:39:30] WARNING: /workspace/src/objective/regression_obj.cu:152: reg:linear is now deprecated in favor of reg:squarederror.\n",
      "[12:41:14] WARNING: /workspace/src/objective/regression_obj.cu:152: reg:linear is now deprecated in favor of reg:squarederror.\n",
      "[12:42:59] WARNING: /workspace/src/objective/regression_obj.cu:152: reg:linear is now deprecated in favor of reg:squarederror.\n",
      "[12:44:48] WARNING: /workspace/src/objective/regression_obj.cu:152: reg:linear is now deprecated in favor of reg:squarederror.\n",
      "[12:45:35] WARNING: /workspace/src/objective/regression_obj.cu:152: reg:linear is now deprecated in favor of reg:squarederror.\n",
      "[12:46:22] WARNING: /workspace/src/objective/regression_obj.cu:152: reg:linear is now deprecated in favor of reg:squarederror.\n",
      "[12:47:09] WARNING: /workspace/src/objective/regression_obj.cu:152: reg:linear is now deprecated in favor of reg:squarederror.\n",
      "[12:47:57] WARNING: /workspace/src/objective/regression_obj.cu:152: reg:linear is now deprecated in favor of reg:squarederror.\n",
      "[12:48:43] WARNING: /workspace/src/objective/regression_obj.cu:152: reg:linear is now deprecated in favor of reg:squarederror.\n",
      "[12:48:48] WARNING: /workspace/src/objective/regression_obj.cu:152: reg:linear is now deprecated in favor of reg:squarederror.\n",
      "[12:48:52] WARNING: /workspace/src/objective/regression_obj.cu:152: reg:linear is now deprecated in favor of reg:squarederror.\n",
      "[12:48:56] WARNING: /workspace/src/objective/regression_obj.cu:152: reg:linear is now deprecated in favor of reg:squarederror.\n",
      "[12:49:00] WARNING: /workspace/src/objective/regression_obj.cu:152: reg:linear is now deprecated in favor of reg:squarederror.\n",
      "[12:49:05] WARNING: /workspace/src/objective/regression_obj.cu:152: reg:linear is now deprecated in favor of reg:squarederror.\n",
      "[12:49:20] WARNING: /workspace/src/objective/regression_obj.cu:152: reg:linear is now deprecated in favor of reg:squarederror.\n",
      "[12:49:34] WARNING: /workspace/src/objective/regression_obj.cu:152: reg:linear is now deprecated in favor of reg:squarederror.\n",
      "[12:49:48] WARNING: /workspace/src/objective/regression_obj.cu:152: reg:linear is now deprecated in favor of reg:squarederror.\n",
      "[12:50:02] WARNING: /workspace/src/objective/regression_obj.cu:152: reg:linear is now deprecated in favor of reg:squarederror.\n",
      "[12:50:21] WARNING: /workspace/src/objective/regression_obj.cu:152: reg:linear is now deprecated in favor of reg:squarederror.\n",
      "[12:52:25] WARNING: /workspace/src/objective/regression_obj.cu:152: reg:linear is now deprecated in favor of reg:squarederror.\n",
      "[12:54:29] WARNING: /workspace/src/objective/regression_obj.cu:152: reg:linear is now deprecated in favor of reg:squarederror.\n",
      "[12:56:32] WARNING: /workspace/src/objective/regression_obj.cu:152: reg:linear is now deprecated in favor of reg:squarederror.\n",
      "[12:58:45] WARNING: /workspace/src/objective/regression_obj.cu:152: reg:linear is now deprecated in favor of reg:squarederror.\n",
      "[13:00:50] WARNING: /workspace/src/objective/regression_obj.cu:152: reg:linear is now deprecated in favor of reg:squarederror.\n",
      "[13:01:52] WARNING: /workspace/src/objective/regression_obj.cu:152: reg:linear is now deprecated in favor of reg:squarederror.\n",
      "[13:02:54] WARNING: /workspace/src/objective/regression_obj.cu:152: reg:linear is now deprecated in favor of reg:squarederror.\n",
      "[13:03:56] WARNING: /workspace/src/objective/regression_obj.cu:152: reg:linear is now deprecated in favor of reg:squarederror.\n",
      "[13:04:58] WARNING: /workspace/src/objective/regression_obj.cu:152: reg:linear is now deprecated in favor of reg:squarederror.\n",
      "[13:06:07] WARNING: /workspace/src/objective/regression_obj.cu:152: reg:linear is now deprecated in favor of reg:squarederror.\n",
      "[13:09:39] WARNING: /workspace/src/objective/regression_obj.cu:152: reg:linear is now deprecated in favor of reg:squarederror.\n",
      "[13:13:06] WARNING: /workspace/src/objective/regression_obj.cu:152: reg:linear is now deprecated in favor of reg:squarederror.\n",
      "[13:16:34] WARNING: /workspace/src/objective/regression_obj.cu:152: reg:linear is now deprecated in favor of reg:squarederror.\n",
      "[13:19:59] WARNING: /workspace/src/objective/regression_obj.cu:152: reg:linear is now deprecated in favor of reg:squarederror.\n",
      "[13:23:16] WARNING: /workspace/src/objective/regression_obj.cu:152: reg:linear is now deprecated in favor of reg:squarederror.\n",
      "[13:23:30] WARNING: /workspace/src/objective/regression_obj.cu:152: reg:linear is now deprecated in favor of reg:squarederror.\n",
      "[13:23:43] WARNING: /workspace/src/objective/regression_obj.cu:152: reg:linear is now deprecated in favor of reg:squarederror.\n",
      "[13:23:57] WARNING: /workspace/src/objective/regression_obj.cu:152: reg:linear is now deprecated in favor of reg:squarederror.\n",
      "[13:24:10] WARNING: /workspace/src/objective/regression_obj.cu:152: reg:linear is now deprecated in favor of reg:squarederror.\n"
     ]
    }
   ],
   "source": [
    "mytrial=[]\n",
    "df_his, df_feature_importances, df_valid_pred, df_test_pred = pd.DataFrame(), pd.DataFrame(),pd.DataFrame(),pd.DataFrame()\n",
    "for t in  df_train.type.unique().tolist():\n",
    "    df_his_i, df_feature_importances_i, df_valid_pred_i, df_test_pred_i =  sk_process(df_train[df_train['type']==t].reset_index(drop=True), columns_list[t], f'modeling for {t}', df_test=df_test[df_test['type']==t].reset_index(drop=True), trial=mytrial, is_output_feature_importance=False, trial_level=1)\n",
    "    df_his = pd.concat([df_his, df_his_i], axis=0)\n",
    "    df_feature_importances = pd.concat([df_feature_importances, df_feature_importances_i], axis=0)\n",
    "    df_valid_pred = pd.concat([df_valid_pred, df_valid_pred_i], axis=0)\n",
    "    df_test_pred = pd.concat([df_test_pred, df_test_pred_i], axis=0)\n",
    "\n",
    "df_valid_pred = df_valid_pred.sort_values(by=['index']).reset_index(drop=True)\n",
    "df_test_pred = df_test_pred.sort_values(by=['index']).reset_index(drop=True)"
   ]
  },
  {
   "cell_type": "code",
   "execution_count": 10,
   "metadata": {},
   "outputs": [
    {
     "data": {
      "text/html": [
       "<div>\n",
       "<style scoped>\n",
       "    .dataframe tbody tr th:only-of-type {\n",
       "        vertical-align: middle;\n",
       "    }\n",
       "\n",
       "    .dataframe tbody tr th {\n",
       "        vertical-align: top;\n",
       "    }\n",
       "\n",
       "    .dataframe thead th {\n",
       "        text-align: right;\n",
       "    }\n",
       "</style>\n",
       "<table border=\"1\" class=\"dataframe\">\n",
       "  <thead>\n",
       "    <tr style=\"text-align: right;\">\n",
       "      <th></th>\n",
       "      <th>datetime</th>\n",
       "      <th>message</th>\n",
       "      <th>nfeatures</th>\n",
       "      <th>train_metric_mean</th>\n",
       "      <th>val_metric_mean</th>\n",
       "      <th>trn_val_metric_diff</th>\n",
       "      <th>message</th>\n",
       "    </tr>\n",
       "  </thead>\n",
       "  <tbody>\n",
       "    <tr>\n",
       "      <th>0</th>\n",
       "      <td>2019-08-01 12:44:46.436721</td>\n",
       "      <td>modeling for 0</td>\n",
       "      <td>67</td>\n",
       "      <td>2.136247</td>\n",
       "      <td>2.142928</td>\n",
       "      <td>0.006681</td>\n",
       "      <td>modeling for 0</td>\n",
       "    </tr>\n",
       "    <tr>\n",
       "      <th>1</th>\n",
       "      <td>2019-08-01 12:48:43.532015</td>\n",
       "      <td>modeling for 3</td>\n",
       "      <td>57</td>\n",
       "      <td>0.512401</td>\n",
       "      <td>0.515422</td>\n",
       "      <td>0.003022</td>\n",
       "      <td>modeling for 3</td>\n",
       "    </tr>\n",
       "    <tr>\n",
       "      <th>2</th>\n",
       "      <td>2019-08-01 12:49:05.191990</td>\n",
       "      <td>modeling for 1</td>\n",
       "      <td>50</td>\n",
       "      <td>0.847911</td>\n",
       "      <td>0.875528</td>\n",
       "      <td>0.027618</td>\n",
       "      <td>modeling for 1</td>\n",
       "    </tr>\n",
       "    <tr>\n",
       "      <th>3</th>\n",
       "      <td>2019-08-01 12:50:16.404943</td>\n",
       "      <td>modeling for 4</td>\n",
       "      <td>57</td>\n",
       "      <td>0.644239</td>\n",
       "      <td>0.651798</td>\n",
       "      <td>0.007559</td>\n",
       "      <td>modeling for 4</td>\n",
       "    </tr>\n",
       "    <tr>\n",
       "      <th>4</th>\n",
       "      <td>2019-08-01 13:00:47.575938</td>\n",
       "      <td>modeling for 2</td>\n",
       "      <td>50</td>\n",
       "      <td>1.055343</td>\n",
       "      <td>1.057184</td>\n",
       "      <td>0.001840</td>\n",
       "      <td>modeling for 2</td>\n",
       "    </tr>\n",
       "    <tr>\n",
       "      <th>5</th>\n",
       "      <td>2019-08-01 13:05:59.840493</td>\n",
       "      <td>modeling for 6</td>\n",
       "      <td>48</td>\n",
       "      <td>0.648544</td>\n",
       "      <td>0.650575</td>\n",
       "      <td>0.002031</td>\n",
       "      <td>modeling for 6</td>\n",
       "    </tr>\n",
       "    <tr>\n",
       "      <th>6</th>\n",
       "      <td>2019-08-01 13:23:15.234730</td>\n",
       "      <td>modeling for 5</td>\n",
       "      <td>57</td>\n",
       "      <td>1.104673</td>\n",
       "      <td>1.106303</td>\n",
       "      <td>0.001630</td>\n",
       "      <td>modeling for 5</td>\n",
       "    </tr>\n",
       "    <tr>\n",
       "      <th>7</th>\n",
       "      <td>2019-08-01 13:24:24.362137</td>\n",
       "      <td>modeling for 7</td>\n",
       "      <td>37</td>\n",
       "      <td>0.427397</td>\n",
       "      <td>0.430149</td>\n",
       "      <td>0.002752</td>\n",
       "      <td>modeling for 7</td>\n",
       "    </tr>\n",
       "  </tbody>\n",
       "</table>\n",
       "</div>"
      ],
      "text/plain": [
       "                    datetime         message  nfeatures  train_metric_mean  \\\n",
       "0 2019-08-01 12:44:46.436721  modeling for 0         67           2.136247   \n",
       "1 2019-08-01 12:48:43.532015  modeling for 3         57           0.512401   \n",
       "2 2019-08-01 12:49:05.191990  modeling for 1         50           0.847911   \n",
       "3 2019-08-01 12:50:16.404943  modeling for 4         57           0.644239   \n",
       "4 2019-08-01 13:00:47.575938  modeling for 2         50           1.055343   \n",
       "5 2019-08-01 13:05:59.840493  modeling for 6         48           0.648544   \n",
       "6 2019-08-01 13:23:15.234730  modeling for 5         57           1.104673   \n",
       "7 2019-08-01 13:24:24.362137  modeling for 7         37           0.427397   \n",
       "\n",
       "   val_metric_mean  trn_val_metric_diff         message  \n",
       "0         2.142928             0.006681  modeling for 0  \n",
       "1         0.515422             0.003022  modeling for 3  \n",
       "2         0.875528             0.027618  modeling for 1  \n",
       "3         0.651798             0.007559  modeling for 4  \n",
       "4         1.057184             0.001840  modeling for 2  \n",
       "5         0.650575             0.002031  modeling for 6  \n",
       "6         1.106303             0.001630  modeling for 5  \n",
       "7         0.430149             0.002752  modeling for 7  "
      ]
     },
     "execution_count": 10,
     "metadata": {},
     "output_type": "execute_result"
    }
   ],
   "source": [
    "df_trial = pd.DataFrame(mytrial)\n",
    "df_trial[['datetime', 'message', 'nfeatures', 'train_metric_mean', 'val_metric_mean', 'trn_val_metric_diff', 'message']]"
   ]
  },
  {
   "cell_type": "code",
   "execution_count": 9,
   "metadata": {},
   "outputs": [
    {
     "name": "stdout",
     "output_type": "stream",
     "text": [
      "1.1084728748536996\n",
      "0 2.142927802020354\n",
      "3 0.515422400957476\n",
      "1 0.875528473120178\n",
      "4 0.6517979997826231\n",
      "2 1.0571837782305813\n",
      "6 0.6505754189342643\n",
      "5 1.1063034288359022\n",
      "7 0.43014861534958293\n"
     ]
    }
   ],
   "source": [
    "print(mean_absolute_error(df_valid_pred.sort_values(by=['index']).reset_index(drop=True).predict.values, df_train.reset_index(drop=True).y.values))\n",
    "for t in df_train.type.unique().tolist():\n",
    "    index = df_train[df_train['type']==t]['index'].values\n",
    "    print(t, mean_absolute_error(df_valid_pred[df_valid_pred['index'].isin(index)].sort_values(by=['index']).reset_index(drop=True).predict.values, df_train[df_train['index'].isin(index)].reset_index(drop=True).y.values))"
   ]
  },
  {
   "cell_type": "code",
   "execution_count": 18,
   "metadata": {},
   "outputs": [],
   "source": [
    "idx=0.448\n",
    "# df_test_pred = df_trial.loc[idx]['df_test_pred']\n",
    "df_submit = pd.DataFrame()\n",
    "df_submit['scalar_coupling_constant'] = np.mean(df_test_pred.drop(columns=['index']).values, axis=1)\n",
    "df_submit['id'] = df_test_pred['index']\n",
    "df_submit.to_csv('../../data/submission/submission_lgbm_{}.csv'.format(idx), index=False)"
   ]
  },
  {
   "cell_type": "code",
   "execution_count": null,
   "metadata": {},
   "outputs": [],
   "source": []
  }
 ],
 "metadata": {
  "kernelspec": {
   "display_name": "Python 3",
   "language": "python",
   "name": "python3"
  },
  "language_info": {
   "codemirror_mode": {
    "name": "ipython",
    "version": 3
   },
   "file_extension": ".py",
   "mimetype": "text/x-python",
   "name": "python",
   "nbconvert_exporter": "python",
   "pygments_lexer": "ipython3",
   "version": "3.6.8"
  }
 },
 "nbformat": 4,
 "nbformat_minor": 2
}
