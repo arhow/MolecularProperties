{
 "cells": [
  {
   "cell_type": "code",
   "execution_count": 1,
   "metadata": {},
   "outputs": [
    {
     "data": {
      "text/html": [
       "<style>\n",
       "   div#notebook-container    { width: 95%; }\n",
       "   div#menubar-container     { width: 65%; }\n",
       "   div#maintoolbar-container { width: 99%; }\n",
       "</style>\n"
      ],
      "text/plain": [
       "<IPython.core.display.HTML object>"
      ]
     },
     "metadata": {},
     "output_type": "display_data"
    }
   ],
   "source": [
    "%%HTML\n",
    "<style>\n",
    "   div#notebook-container    { width: 95%; }\n",
    "   div#menubar-container     { width: 65%; }\n",
    "   div#maintoolbar-container { width: 99%; }\n",
    "</style>"
   ]
  },
  {
   "cell_type": "code",
   "execution_count": 1,
   "metadata": {},
   "outputs": [],
   "source": [
    "import sys\n",
    "sys.path.append(\"../..\") # Adds higher directory to python modules path.\n",
    "from utilities import aggregate_feature_calculators\n",
    "from utilities import aggregate_feature_calculators_setting as aggcal\n",
    "from utilities.parallel import Parallel\n",
    "from utilities.dfdb import DFDB\n",
    "\n",
    "from utilities.process.pqueue import *\n",
    "from utilities.process.pnode import *\n",
    "from utilities.process.putilities import *"
   ]
  },
  {
   "cell_type": "code",
   "execution_count": 2,
   "metadata": {},
   "outputs": [],
   "source": [
    "import numpy as np\n",
    "import pandas as pd\n",
    "import os\n",
    "import time\n",
    "import datetime\n",
    "import json\n",
    "import copy\n",
    "import gc\n",
    "import warnings\n",
    "from tqdm import tqdm_notebook, tqdm\n",
    "\n",
    "import optuna\n",
    "\n",
    "import lightgbm as lgb\n",
    "import xgboost as xgb\n",
    "\n",
    "from catboost import CatBoostRegressor\n",
    "from sklearn.preprocessing import LabelEncoder\n",
    "from sklearn.model_selection import StratifiedKFold, KFold, RepeatedKFold,TimeSeriesSplit, GroupKFold\n",
    "from sklearn.model_selection import train_test_split\n",
    "from sklearn import metrics\n",
    "from sklearn import linear_model\n",
    "from sklearn.preprocessing import StandardScaler\n",
    "from sklearn.svm import NuSVR, SVR\n",
    "from sklearn.metrics import mean_absolute_error\n",
    "from sklearn import preprocessing\n",
    "\n",
    "import eli5\n",
    "from eli5.sklearn import PermutationImportance\n",
    "\n",
    "import networkx as nx\n",
    "\n",
    "import seaborn as sns\n",
    "import matplotlib.pyplot as plt\n",
    "%matplotlib inline"
   ]
  },
  {
   "cell_type": "code",
   "execution_count": 3,
   "metadata": {},
   "outputs": [
    {
     "data": {
      "text/plain": [
       "['test.csv',\n",
       " 'structures',\n",
       " 'sample_submission.csv',\n",
       " 'magnetic_shielding_tensors.csv',\n",
       " 'mulliken_charges.csv',\n",
       " 'potential_energy.csv',\n",
       " 'scalar_coupling_contributions.csv',\n",
       " 'dipole_moments.csv',\n",
       " 'structures.csv',\n",
       " 'train.csv']"
      ]
     },
     "execution_count": 3,
     "metadata": {},
     "output_type": "execute_result"
    }
   ],
   "source": [
    "csv_file_folder =  '../../data/input'\n",
    "os.listdir(csv_file_folder)"
   ]
  },
  {
   "cell_type": "code",
   "execution_count": 4,
   "metadata": {},
   "outputs": [
    {
     "data": {
      "text/plain": [
       "['giba-r-data-table-simple-features-1-17-lb_train.pkl',\n",
       " 'eem_train.pkl',\n",
       " 'coulomb-interaction-speed-up_train.pkl',\n",
       " 'dataset-with-number-of-bonds-between-atoms_test.pkl',\n",
       " 'keras-neural-net-for-champs_train.pkl',\n",
       " 'brute-force-feature-engineering_test.pkl',\n",
       " 'angles-and-distances_test.pkl',\n",
       " 'giba-r-data-table-simple-features-0-991-lb_test.pkl',\n",
       " 'keras-neural-net-for-champs_test.pkl',\n",
       " 'brute-force-feature-engineering-mini_train.pkl',\n",
       " 'laplaction_matrix_test.pkl',\n",
       " 'dataset-with-number-of-bonds-between-atoms_train.pkl',\n",
       " 'coulomb-interaction-speed-up_test.pkl',\n",
       " 'bonds-from-structure-data_train.pkl',\n",
       " 'laplaction_matrix_train.pkl',\n",
       " 'giba-r-data-table-simple-features-0-991-lb_train.pkl',\n",
       " 'eem_test.pkl',\n",
       " 'brute-force-feature-engineering_train.pkl',\n",
       " 'molecule-with-openbabel_train.pkl',\n",
       " 'molecular-properties-eda-and-models_train.pkl',\n",
       " 'brute-force-feature-engineering-mini_test.pkl',\n",
       " 'eachtype_train.pkl',\n",
       " 'molecular-properties-eda-and-models_test.pkl',\n",
       " 'bonds-from-structure-data_test.pkl',\n",
       " 'molecule-with-openbabel_test.pkl',\n",
       " 'eachtype_test.pkl',\n",
       " 'giba-r-data-table-simple-features-1-17-lb_test.pkl',\n",
       " 'angles-and-distances_train.pkl']"
      ]
     },
     "execution_count": 4,
     "metadata": {},
     "output_type": "execute_result"
    }
   ],
   "source": [
    "file_folder =  '../../data/feature'\n",
    "[f for f in os.listdir(file_folder) if (f.endswith('.pkl')) and (not f.startswith('.'))]"
   ]
  },
  {
   "cell_type": "code",
   "execution_count": 5,
   "metadata": {},
   "outputs": [],
   "source": [
    "df_train=pd.read_pickle(f'{file_folder}/df_train.gzde', compression='gzip')\n",
    "df_train = df_train.rename(columns={'group':'molecule_name', 'type':'group'})"
   ]
  },
  {
   "cell_type": "code",
   "execution_count": 6,
   "metadata": {},
   "outputs": [],
   "source": [
    "df_test=pd.read_pickle(f'{file_folder}/df_test.gzde', compression='gzip')\n",
    "df_test = df_test.rename(columns={'group':'molecule_name', 'type':'group'})"
   ]
  },
  {
   "cell_type": "code",
   "execution_count": 6,
   "metadata": {},
   "outputs": [
    {
     "data": {
      "text/plain": [
       "['lgbm_sd_test.pkl',\n",
       " 'lgbm_fc_train.pkl',\n",
       " 'lgbm_pso_train.pkl',\n",
       " 'lgbm_pso_test.pkl',\n",
       " 'lgbm_fc_test.pkl',\n",
       " 'lgbm_sd_train.pkl']"
      ]
     },
     "execution_count": 6,
     "metadata": {},
     "output_type": "execute_result"
    }
   ],
   "source": [
    "oof_file_folder =  '../../data/oof'\n",
    "[f for f in os.listdir(oof_file_folder) if f.startswith('lgbm')]"
   ]
  },
  {
   "cell_type": "code",
   "execution_count": 7,
   "metadata": {},
   "outputs": [],
   "source": [
    "df_oof_train = pd.DataFrame()\n",
    "# df_oof_test = pd.DataFrame()\n",
    "for f in [f for f in os.listdir(oof_file_folder) if f.startswith('lgbm')]:\n",
    "    feat_name = f.split('_')[1]\n",
    "    if 'train' in f:\n",
    "        df_oof_i = pd.read_pickle(f'{oof_file_folder}/{f}')[['id', feat_name]].rename(columns={'id':'index', feat_name:f'oof_{feat_name}'})\n",
    "        df_oof_train = pd.concat([df_oof_train, df_oof_i], axis=1)\n",
    "#     if 'test' in f:\n",
    "#         df_oof_i = pd.read_pickle(f'{oof_file_folder}/{f}')[['id', feat_name]].rename(columns={'id':'index', feat_name:f'oof_{feat_name}'})\n",
    "#         df_oof_test = pd.concat([df_oof_test, df_oof_i], axis=1)"
   ]
  },
  {
   "cell_type": "code",
   "execution_count": 8,
   "metadata": {},
   "outputs": [],
   "source": [
    "df_train = pd.concat([df_train, df_oof_train[['oof_sd','oof_fc','oof_pso']]], axis=1)\n",
    "# df_test = pd.concat([df_test, df_oof_test[['oof_sd','oof_fc','oof_pso']]], axis=1)"
   ]
  },
  {
   "cell_type": "code",
   "execution_count": 9,
   "metadata": {},
   "outputs": [],
   "source": [
    "df_train = df_train.sample(500000).reset_index(drop=True)"
   ]
  },
  {
   "cell_type": "code",
   "execution_count": 9,
   "metadata": {},
   "outputs": [],
   "source": [
    "df_train['y'] = df_train['scalar_coupling_constant']"
   ]
  },
  {
   "cell_type": "code",
   "execution_count": 12,
   "metadata": {},
   "outputs": [],
   "source": [
    "mytrial = []"
   ]
  },
  {
   "cell_type": "code",
   "execution_count": 12,
   "metadata": {},
   "outputs": [
    {
     "name": "stdout",
     "output_type": "stream",
     "text": [
      "40\n",
      "{'columns': ['tertiary_distance_0', 'oof_fc', 'dist_to_type_mean', 'dist_C_0_x', 'oof_pso', 'tertiary_atom_0', 'dist_O_0_y', 'dist_H_1_y', 'molecule_name.1', 'z_1', 'dist_N_3_x', 'dist_F_0_y', 'dist_N_3_y', 'dist_O_3_y', 'dist_F_0_x', 'dist_N_2_y', 'tertiary_atom_5', 'dist_N_4_y', 'adH4', 'vander_F.y'], 'cv': {'cls': 'GroupKFold', 'init': {'n_splits': 3}}, 'scaler': {'cls': 'StandardScaler', 'init': {}, 'fit': {}}, 'model': {'cls': 'lgb.LGBMRegressor', 'init': {'learning_rate': 0.2833769330240482, 'feature_fraction': 0.8818248470204605, 'bagging_fraction': 0.8205197060908092, 'min_data_in_leaf': 202, 'lambda_l1': 0.017039063121824582, 'lambda_l2': 0.8318702431636841, 'max_bin': 100, 'num_leaves': 255, 'random_state': 3895, 'n_jobs': 16}, 'fit': {}}, 'metric': 'mean_absolute_error'}\n"
     ]
    }
   ],
   "source": [
    "param = {\n",
    "    'columns': df_train.columns.drop(['index', 'y','group', 'scalar_coupling_constant', 'fc', 'sd','pso','dso']).tolist(),\n",
    "    'cv': {\n",
    "        'cls': 'GroupKFold',\n",
    "        'init':{\n",
    "            'n_splits': 3,\n",
    "#             'shuffle': True,\n",
    "#             'random_state': 42,\n",
    "        },\n",
    "    },\n",
    "    'scaler': {'cls': 'StandardScaler', 'init': {}, 'fit': {}},\n",
    "    'model': {\n",
    "        'cls': 'lgb.LGBMRegressor',\n",
    "        'init': {\n",
    "            'learning_rate': 0.2833769330240482,\n",
    "            'feature_fraction': 0.8818248470204605,\n",
    "            'bagging_fraction': 0.8205197060908092,\n",
    "            'min_data_in_leaf': 202,\n",
    "            'lambda_l1': 0.017039063121824582,\n",
    "            'lambda_l2': 0.8318702431636841,\n",
    "            'max_bin': 100,\n",
    "            'num_leaves': 255,\n",
    "            'random_state': 3895,\n",
    "            'n_jobs': 16\n",
    "        },\n",
    "        'fit': {}\n",
    "    },\n",
    "    'metric': 'mean_absolute_error'\n",
    "}\n",
    "\n",
    "\n",
    "\n",
    "process_queue = PQueue(df_train, None, param, mytrial)\n",
    "sort_features = SortFeatureSelectTopNProcess(**{'top_n':200})\n",
    "select_topn = RFESelectTopNProcess(**{'n_features_remain':20, 'n_features_to_remove':10})\n",
    "remove_useless = RFERemoveUselessFeaturesProcess(**{})\n",
    "process_queue.insert_node(sort_features)\n",
    "process_queue.insert_node(select_topn)\n",
    "process_queue.insert_node(remove_useless)\n",
    "\n",
    "try:\n",
    "    result = process_queue.run()\n",
    "except Exception as e:\n",
    "    print(e.__str__())\n",
    "print(len(process_queue.trial))\n",
    "print(process_queue.param)\n"
   ]
  },
  {
   "cell_type": "code",
   "execution_count": 13,
   "metadata": {},
   "outputs": [],
   "source": [
    "param = {'columns': ['tertiary_distance_0', 'oof_fc', 'dist_to_type_mean', 'dist_C_0_x', 'oof_pso', 'tertiary_atom_0', 'dist_O_0_y', 'dist_H_1_y', 'molecule_name.1', 'z_1', 'dist_N_3_x', 'dist_F_0_y', 'dist_N_3_y', 'dist_O_3_y', 'dist_F_0_x', 'dist_N_2_y', 'tertiary_atom_5', 'dist_N_4_y', 'adH4', 'vander_F.y'], 'cv': {'cls': 'GroupKFold', 'init': {'n_splits': 3}}, 'scaler': {'cls': 'StandardScaler', 'init': {}, 'fit': {}}, 'model': {'cls': 'lgb.LGBMRegressor', 'init': {'learning_rate': 0.2833769330240482, 'feature_fraction': 0.8818248470204605, 'bagging_fraction': 0.8205197060908092, 'min_data_in_leaf': 202, 'lambda_l1': 0.017039063121824582, 'lambda_l2': 0.8318702431636841, 'max_bin': 100, 'num_leaves': 255, 'random_state': 3895, 'n_jobs': 16}, 'fit': {}}, 'metric': 'mean_absolute_error'}"
   ]
  },
  {
   "cell_type": "code",
   "execution_count": 14,
   "metadata": {},
   "outputs": [],
   "source": [
    "def objective(trial):\n",
    "        \n",
    "    learning_rate = trial.suggest_uniform('learning_rate', .01, .5)\n",
    "    feature_fraction = trial.suggest_uniform('feature_fraction', .6, 1)\n",
    "    bagging_fraction = trial.suggest_uniform('bagging_fraction', 0.6, 1)\n",
    "    min_data_in_leaf = trial.suggest_int('min_data_in_leaf', 200, 800)\n",
    "    lambda_l1 = trial.suggest_loguniform('lambda_l1', 1e-6, 1e2)\n",
    "    lambda_l2 = trial.suggest_loguniform('lambda_l2', 1e-6, 1e2)\n",
    "    max_bin = trial.suggest_int('max_bin', 10, 100)\n",
    "    num_leaves = trial.suggest_int('num_leaves', 4, 512)\n",
    "        \n",
    "    args = param.copy()\n",
    "    args['model']['init']={\n",
    "                'learning_rate':learning_rate,\n",
    "                'feature_fraction':feature_fraction,\n",
    "                'bagging_fraction':bagging_fraction,\n",
    "                'min_data_in_leaf':min_data_in_leaf,\n",
    "                'lambda_l1':lambda_l1,\n",
    "                'lambda_l2':lambda_l2,\n",
    "                'max_bin':max_bin,\n",
    "                'num_leaves':num_leaves,\n",
    "                'n_jobs':16\n",
    "    }\n",
    "    \n",
    "    df_his, df_feature_importances, df_valid_pred, df_test_pred =  sk_process(df_train, args, f'tune hyperparam', df_test=None, trial=mytrial, is_output_feature_importance=False, trial_level=0)\n",
    "    val_metric_mean = np.mean(df_his.valid)\n",
    "    return val_metric_mean\n",
    "\n"
   ]
  },
  {
   "cell_type": "code",
   "execution_count": 15,
   "metadata": {},
   "outputs": [
    {
     "name": "stderr",
     "output_type": "stream",
     "text": [
      "[I 2019-07-22 23:54:13,478] Finished trial#0 resulted in value: 10.344044083148583. Current best value is 10.344044083148583 with parameters: {'learning_rate': 0.027604722875908642, 'feature_fraction': 0.8720963602405887, 'bagging_fraction': 0.9229079820645048, 'min_data_in_leaf': 218, 'lambda_l1': 0.0007284359432875013, 'lambda_l2': 0.003445565607273236, 'max_bin': 57, 'num_leaves': 217}.\n",
      "[I 2019-07-22 23:54:52,470] Finished trial#1 resulted in value: 9.298108553798427. Current best value is 9.298108553798427 with parameters: {'learning_rate': 0.4301914812079682, 'feature_fraction': 0.7078286975782451, 'bagging_fraction': 0.8649072188015634, 'min_data_in_leaf': 369, 'lambda_l1': 0.34935543061458213, 'lambda_l2': 0.891421045949713, 'max_bin': 74, 'num_leaves': 216}.\n",
      "[I 2019-07-22 23:55:36,562] Finished trial#2 resulted in value: 8.99956804490527. Current best value is 8.99956804490527 with parameters: {'learning_rate': 0.3378080858764837, 'feature_fraction': 0.6881289259294576, 'bagging_fraction': 0.8064953331640492, 'min_data_in_leaf': 244, 'lambda_l1': 2.0492723109449584, 'lambda_l2': 0.2437107796071348, 'max_bin': 34, 'num_leaves': 348}.\n",
      "[I 2019-07-22 23:56:04,640] Finished trial#3 resulted in value: 8.679677521130499. Current best value is 8.679677521130499 with parameters: {'learning_rate': 0.2613349874862595, 'feature_fraction': 0.8707878356147368, 'bagging_fraction': 0.9835814959894452, 'min_data_in_leaf': 549, 'lambda_l1': 8.743960557922549e-06, 'lambda_l2': 7.021829709222121, 'max_bin': 56, 'num_leaves': 38}.\n",
      "[I 2019-07-22 23:56:27,929] Finished trial#4 resulted in value: 9.229900177376742. Current best value is 8.679677521130499 with parameters: {'learning_rate': 0.2613349874862595, 'feature_fraction': 0.8707878356147368, 'bagging_fraction': 0.9835814959894452, 'min_data_in_leaf': 549, 'lambda_l1': 8.743960557922549e-06, 'lambda_l2': 7.021829709222121, 'max_bin': 56, 'num_leaves': 38}.\n",
      "[I 2019-07-22 23:56:58,583] Finished trial#5 resulted in value: 9.226425856355066. Current best value is 8.679677521130499 with parameters: {'learning_rate': 0.2613349874862595, 'feature_fraction': 0.8707878356147368, 'bagging_fraction': 0.9835814959894452, 'min_data_in_leaf': 549, 'lambda_l1': 8.743960557922549e-06, 'lambda_l2': 7.021829709222121, 'max_bin': 56, 'num_leaves': 38}.\n",
      "[I 2019-07-22 23:57:37,714] Finished trial#6 resulted in value: 10.884598753730396. Current best value is 8.679677521130499 with parameters: {'learning_rate': 0.2613349874862595, 'feature_fraction': 0.8707878356147368, 'bagging_fraction': 0.9835814959894452, 'min_data_in_leaf': 549, 'lambda_l1': 8.743960557922549e-06, 'lambda_l2': 7.021829709222121, 'max_bin': 56, 'num_leaves': 38}.\n",
      "[I 2019-07-22 23:58:25,837] Finished trial#7 resulted in value: 14.095866871805223. Current best value is 8.679677521130499 with parameters: {'learning_rate': 0.2613349874862595, 'feature_fraction': 0.8707878356147368, 'bagging_fraction': 0.9835814959894452, 'min_data_in_leaf': 549, 'lambda_l1': 8.743960557922549e-06, 'lambda_l2': 7.021829709222121, 'max_bin': 56, 'num_leaves': 38}.\n",
      "[I 2019-07-22 23:59:03,376] Finished trial#8 resulted in value: 8.483721413148741. Current best value is 8.483721413148741 with parameters: {'learning_rate': 0.277967456224665, 'feature_fraction': 0.9830650532927399, 'bagging_fraction': 0.9858326854729595, 'min_data_in_leaf': 288, 'lambda_l1': 1.6492301618437485e-05, 'lambda_l2': 0.11974778723032387, 'max_bin': 42, 'num_leaves': 253}.\n",
      "[I 2019-07-22 23:59:59,544] Finished trial#9 resulted in value: 14.069312973494492. Current best value is 8.483721413148741 with parameters: {'learning_rate': 0.277967456224665, 'feature_fraction': 0.9830650532927399, 'bagging_fraction': 0.9858326854729595, 'min_data_in_leaf': 288, 'lambda_l1': 1.6492301618437485e-05, 'lambda_l2': 0.11974778723032387, 'max_bin': 42, 'num_leaves': 253}.\n",
      "[I 2019-07-23 00:00:45,538] Finished trial#10 resulted in value: 7.709543111223006. Current best value is 7.709543111223006 with parameters: {'learning_rate': 0.19257387460912484, 'feature_fraction': 0.9904359294369051, 'bagging_fraction': 0.9976737868159768, 'min_data_in_leaf': 343, 'lambda_l1': 1.4575298278325513e-06, 'lambda_l2': 2.6931592535505542e-05, 'max_bin': 86, 'num_leaves': 310}.\n",
      "[I 2019-07-23 00:01:49,968] Finished trial#11 resulted in value: 7.812813616161247. Current best value is 7.709543111223006 with parameters: {'learning_rate': 0.19257387460912484, 'feature_fraction': 0.9904359294369051, 'bagging_fraction': 0.9976737868159768, 'min_data_in_leaf': 343, 'lambda_l1': 1.4575298278325513e-06, 'lambda_l2': 2.6931592535505542e-05, 'max_bin': 86, 'num_leaves': 310}.\n",
      "[I 2019-07-23 00:02:43,469] Finished trial#12 resulted in value: 8.158824790488138. Current best value is 7.709543111223006 with parameters: {'learning_rate': 0.19257387460912484, 'feature_fraction': 0.9904359294369051, 'bagging_fraction': 0.9976737868159768, 'min_data_in_leaf': 343, 'lambda_l1': 1.4575298278325513e-06, 'lambda_l2': 2.6931592535505542e-05, 'max_bin': 86, 'num_leaves': 310}.\n",
      "[I 2019-07-23 00:03:22,071] Finished trial#13 resulted in value: 8.051643081182817. Current best value is 7.709543111223006 with parameters: {'learning_rate': 0.19257387460912484, 'feature_fraction': 0.9904359294369051, 'bagging_fraction': 0.9976737868159768, 'min_data_in_leaf': 343, 'lambda_l1': 1.4575298278325513e-06, 'lambda_l2': 2.6931592535505542e-05, 'max_bin': 86, 'num_leaves': 310}.\n",
      "[I 2019-07-23 00:04:24,611] Finished trial#14 resulted in value: 7.922129606695472. Current best value is 7.709543111223006 with parameters: {'learning_rate': 0.19257387460912484, 'feature_fraction': 0.9904359294369051, 'bagging_fraction': 0.9976737868159768, 'min_data_in_leaf': 343, 'lambda_l1': 1.4575298278325513e-06, 'lambda_l2': 2.6931592535505542e-05, 'max_bin': 86, 'num_leaves': 310}.\n",
      "[I 2019-07-23 00:04:55,624] Finished trial#15 resulted in value: 7.942296271629096. Current best value is 7.709543111223006 with parameters: {'learning_rate': 0.19257387460912484, 'feature_fraction': 0.9904359294369051, 'bagging_fraction': 0.9976737868159768, 'min_data_in_leaf': 343, 'lambda_l1': 1.4575298278325513e-06, 'lambda_l2': 2.6931592535505542e-05, 'max_bin': 86, 'num_leaves': 310}.\n",
      "[I 2019-07-23 00:05:44,431] Finished trial#16 resulted in value: 8.137222575784927. Current best value is 7.709543111223006 with parameters: {'learning_rate': 0.19257387460912484, 'feature_fraction': 0.9904359294369051, 'bagging_fraction': 0.9976737868159768, 'min_data_in_leaf': 343, 'lambda_l1': 1.4575298278325513e-06, 'lambda_l2': 2.6931592535505542e-05, 'max_bin': 86, 'num_leaves': 310}.\n",
      "[I 2019-07-23 00:06:49,492] Finished trial#17 resulted in value: 7.688629471758297. Current best value is 7.688629471758297 with parameters: {'learning_rate': 0.17651722274117734, 'feature_fraction': 0.9627935658430421, 'bagging_fraction': 0.9269368986552563, 'min_data_in_leaf': 740, 'lambda_l1': 1.2698389081969671e-06, 'lambda_l2': 8.06001523101226e-06, 'max_bin': 89, 'num_leaves': 509}.\n",
      "[I 2019-07-23 00:07:53,376] Finished trial#18 resulted in value: 8.044635766091673. Current best value is 7.688629471758297 with parameters: {'learning_rate': 0.17651722274117734, 'feature_fraction': 0.9627935658430421, 'bagging_fraction': 0.9269368986552563, 'min_data_in_leaf': 740, 'lambda_l1': 1.2698389081969671e-06, 'lambda_l2': 8.06001523101226e-06, 'max_bin': 89, 'num_leaves': 509}.\n",
      "[I 2019-07-23 00:09:03,012] Finished trial#19 resulted in value: 8.662208942906895. Current best value is 7.688629471758297 with parameters: {'learning_rate': 0.17651722274117734, 'feature_fraction': 0.9627935658430421, 'bagging_fraction': 0.9269368986552563, 'min_data_in_leaf': 740, 'lambda_l1': 1.2698389081969671e-06, 'lambda_l2': 8.06001523101226e-06, 'max_bin': 89, 'num_leaves': 509}.\n",
      "[I 2019-07-23 00:10:05,022] Finished trial#20 resulted in value: 8.275640424567428. Current best value is 7.688629471758297 with parameters: {'learning_rate': 0.17651722274117734, 'feature_fraction': 0.9627935658430421, 'bagging_fraction': 0.9269368986552563, 'min_data_in_leaf': 740, 'lambda_l1': 1.2698389081969671e-06, 'lambda_l2': 8.06001523101226e-06, 'max_bin': 89, 'num_leaves': 509}.\n",
      "[I 2019-07-23 00:10:54,321] Finished trial#21 resulted in value: 7.991308889761844. Current best value is 7.688629471758297 with parameters: {'learning_rate': 0.17651722274117734, 'feature_fraction': 0.9627935658430421, 'bagging_fraction': 0.9269368986552563, 'min_data_in_leaf': 740, 'lambda_l1': 1.2698389081969671e-06, 'lambda_l2': 8.06001523101226e-06, 'max_bin': 89, 'num_leaves': 509}.\n",
      "[I 2019-07-23 00:11:34,011] Finished trial#22 resulted in value: 7.844885601451917. Current best value is 7.688629471758297 with parameters: {'learning_rate': 0.17651722274117734, 'feature_fraction': 0.9627935658430421, 'bagging_fraction': 0.9269368986552563, 'min_data_in_leaf': 740, 'lambda_l1': 1.2698389081969671e-06, 'lambda_l2': 8.06001523101226e-06, 'max_bin': 89, 'num_leaves': 509}.\n",
      "[I 2019-07-23 00:12:33,482] Finished trial#23 resulted in value: 8.207555358883658. Current best value is 7.688629471758297 with parameters: {'learning_rate': 0.17651722274117734, 'feature_fraction': 0.9627935658430421, 'bagging_fraction': 0.9269368986552563, 'min_data_in_leaf': 740, 'lambda_l1': 1.2698389081969671e-06, 'lambda_l2': 8.06001523101226e-06, 'max_bin': 89, 'num_leaves': 509}.\n",
      "[I 2019-07-23 00:13:21,630] Finished trial#24 resulted in value: 11.321134258208076. Current best value is 7.688629471758297 with parameters: {'learning_rate': 0.17651722274117734, 'feature_fraction': 0.9627935658430421, 'bagging_fraction': 0.9269368986552563, 'min_data_in_leaf': 740, 'lambda_l1': 1.2698389081969671e-06, 'lambda_l2': 8.06001523101226e-06, 'max_bin': 89, 'num_leaves': 509}.\n",
      "[I 2019-07-23 00:14:10,569] Finished trial#25 resulted in value: 8.302278023110524. Current best value is 7.688629471758297 with parameters: {'learning_rate': 0.17651722274117734, 'feature_fraction': 0.9627935658430421, 'bagging_fraction': 0.9269368986552563, 'min_data_in_leaf': 740, 'lambda_l1': 1.2698389081969671e-06, 'lambda_l2': 8.06001523101226e-06, 'max_bin': 89, 'num_leaves': 509}.\n",
      "[I 2019-07-23 00:15:06,147] Finished trial#26 resulted in value: 8.523967407439883. Current best value is 7.688629471758297 with parameters: {'learning_rate': 0.17651722274117734, 'feature_fraction': 0.9627935658430421, 'bagging_fraction': 0.9269368986552563, 'min_data_in_leaf': 740, 'lambda_l1': 1.2698389081969671e-06, 'lambda_l2': 8.06001523101226e-06, 'max_bin': 89, 'num_leaves': 509}.\n",
      "[I 2019-07-23 00:15:54,113] Finished trial#27 resulted in value: 7.610252321847802. Current best value is 7.610252321847802 with parameters: {'learning_rate': 0.3318819525666389, 'feature_fraction': 0.7670828565729676, 'bagging_fraction': 0.8953774408763282, 'min_data_in_leaf': 202, 'lambda_l1': 1.0908256382181142e-05, 'lambda_l2': 3.523205970365862e-05, 'max_bin': 88, 'num_leaves': 468}.\n",
      "[I 2019-07-23 00:16:48,467] Finished trial#28 resulted in value: 10.058147560336884. Current best value is 7.610252321847802 with parameters: {'learning_rate': 0.3318819525666389, 'feature_fraction': 0.7670828565729676, 'bagging_fraction': 0.8953774408763282, 'min_data_in_leaf': 202, 'lambda_l1': 1.0908256382181142e-05, 'lambda_l2': 3.523205970365862e-05, 'max_bin': 88, 'num_leaves': 468}.\n",
      "[I 2019-07-23 00:17:37,147] Finished trial#29 resulted in value: 7.951058814941855. Current best value is 7.610252321847802 with parameters: {'learning_rate': 0.3318819525666389, 'feature_fraction': 0.7670828565729676, 'bagging_fraction': 0.8953774408763282, 'min_data_in_leaf': 202, 'lambda_l1': 1.0908256382181142e-05, 'lambda_l2': 3.523205970365862e-05, 'max_bin': 88, 'num_leaves': 468}.\n",
      "[I 2019-07-23 00:18:28,790] Finished trial#30 resulted in value: 9.08220431804296. Current best value is 7.610252321847802 with parameters: {'learning_rate': 0.3318819525666389, 'feature_fraction': 0.7670828565729676, 'bagging_fraction': 0.8953774408763282, 'min_data_in_leaf': 202, 'lambda_l1': 1.0908256382181142e-05, 'lambda_l2': 3.523205970365862e-05, 'max_bin': 88, 'num_leaves': 468}.\n",
      "[I 2019-07-23 00:19:17,367] Finished trial#31 resulted in value: 8.698129231296459. Current best value is 7.610252321847802 with parameters: {'learning_rate': 0.3318819525666389, 'feature_fraction': 0.7670828565729676, 'bagging_fraction': 0.8953774408763282, 'min_data_in_leaf': 202, 'lambda_l1': 1.0908256382181142e-05, 'lambda_l2': 3.523205970365862e-05, 'max_bin': 88, 'num_leaves': 468}.\n",
      "[I 2019-07-23 00:20:03,111] Finished trial#32 resulted in value: 13.375683410848305. Current best value is 7.610252321847802 with parameters: {'learning_rate': 0.3318819525666389, 'feature_fraction': 0.7670828565729676, 'bagging_fraction': 0.8953774408763282, 'min_data_in_leaf': 202, 'lambda_l1': 1.0908256382181142e-05, 'lambda_l2': 3.523205970365862e-05, 'max_bin': 88, 'num_leaves': 468}.\n",
      "[I 2019-07-23 00:20:54,667] Finished trial#33 resulted in value: 10.124244022110913. Current best value is 7.610252321847802 with parameters: {'learning_rate': 0.3318819525666389, 'feature_fraction': 0.7670828565729676, 'bagging_fraction': 0.8953774408763282, 'min_data_in_leaf': 202, 'lambda_l1': 1.0908256382181142e-05, 'lambda_l2': 3.523205970365862e-05, 'max_bin': 88, 'num_leaves': 468}.\n",
      "[I 2019-07-23 00:21:35,700] Finished trial#34 resulted in value: 8.667281632465718. Current best value is 7.610252321847802 with parameters: {'learning_rate': 0.3318819525666389, 'feature_fraction': 0.7670828565729676, 'bagging_fraction': 0.8953774408763282, 'min_data_in_leaf': 202, 'lambda_l1': 1.0908256382181142e-05, 'lambda_l2': 3.523205970365862e-05, 'max_bin': 88, 'num_leaves': 468}.\n",
      "[I 2019-07-23 00:22:26,797] Finished trial#35 resulted in value: 9.87030378722299. Current best value is 7.610252321847802 with parameters: {'learning_rate': 0.3318819525666389, 'feature_fraction': 0.7670828565729676, 'bagging_fraction': 0.8953774408763282, 'min_data_in_leaf': 202, 'lambda_l1': 1.0908256382181142e-05, 'lambda_l2': 3.523205970365862e-05, 'max_bin': 88, 'num_leaves': 468}.\n",
      "[I 2019-07-23 00:23:07,586] Finished trial#36 resulted in value: 8.8944604754022. Current best value is 7.610252321847802 with parameters: {'learning_rate': 0.3318819525666389, 'feature_fraction': 0.7670828565729676, 'bagging_fraction': 0.8953774408763282, 'min_data_in_leaf': 202, 'lambda_l1': 1.0908256382181142e-05, 'lambda_l2': 3.523205970365862e-05, 'max_bin': 88, 'num_leaves': 468}.\n",
      "[I 2019-07-23 00:24:01,953] Finished trial#37 resulted in value: 9.55000497713335. Current best value is 7.610252321847802 with parameters: {'learning_rate': 0.3318819525666389, 'feature_fraction': 0.7670828565729676, 'bagging_fraction': 0.8953774408763282, 'min_data_in_leaf': 202, 'lambda_l1': 1.0908256382181142e-05, 'lambda_l2': 3.523205970365862e-05, 'max_bin': 88, 'num_leaves': 468}.\n",
      "[I 2019-07-23 00:25:02,392] Finished trial#38 resulted in value: 16.507438724926725. Current best value is 7.610252321847802 with parameters: {'learning_rate': 0.3318819525666389, 'feature_fraction': 0.7670828565729676, 'bagging_fraction': 0.8953774408763282, 'min_data_in_leaf': 202, 'lambda_l1': 1.0908256382181142e-05, 'lambda_l2': 3.523205970365862e-05, 'max_bin': 88, 'num_leaves': 468}.\n",
      "[I 2019-07-23 00:25:52,451] Finished trial#39 resulted in value: 9.093304959328693. Current best value is 7.610252321847802 with parameters: {'learning_rate': 0.3318819525666389, 'feature_fraction': 0.7670828565729676, 'bagging_fraction': 0.8953774408763282, 'min_data_in_leaf': 202, 'lambda_l1': 1.0908256382181142e-05, 'lambda_l2': 3.523205970365862e-05, 'max_bin': 88, 'num_leaves': 468}.\n",
      "[I 2019-07-23 00:26:38,626] Finished trial#40 resulted in value: 9.181885639659468. Current best value is 7.610252321847802 with parameters: {'learning_rate': 0.3318819525666389, 'feature_fraction': 0.7670828565729676, 'bagging_fraction': 0.8953774408763282, 'min_data_in_leaf': 202, 'lambda_l1': 1.0908256382181142e-05, 'lambda_l2': 3.523205970365862e-05, 'max_bin': 88, 'num_leaves': 468}.\n"
     ]
    },
    {
     "name": "stderr",
     "output_type": "stream",
     "text": [
      "[I 2019-07-23 00:27:12,130] Finished trial#41 resulted in value: 9.563715960536292. Current best value is 7.610252321847802 with parameters: {'learning_rate': 0.3318819525666389, 'feature_fraction': 0.7670828565729676, 'bagging_fraction': 0.8953774408763282, 'min_data_in_leaf': 202, 'lambda_l1': 1.0908256382181142e-05, 'lambda_l2': 3.523205970365862e-05, 'max_bin': 88, 'num_leaves': 468}.\n",
      "[I 2019-07-23 00:28:11,668] Finished trial#42 resulted in value: 7.563506380185266. Current best value is 7.563506380185266 with parameters: {'learning_rate': 0.15925795882187083, 'feature_fraction': 0.8920602146506871, 'bagging_fraction': 0.6485951194464459, 'min_data_in_leaf': 755, 'lambda_l1': 0.8488923280457591, 'lambda_l2': 1.1028265879651968e-05, 'max_bin': 100, 'num_leaves': 378}.\n",
      "[I 2019-07-23 00:29:09,844] Finished trial#43 resulted in value: 7.9768727596340865. Current best value is 7.563506380185266 with parameters: {'learning_rate': 0.15925795882187083, 'feature_fraction': 0.8920602146506871, 'bagging_fraction': 0.6485951194464459, 'min_data_in_leaf': 755, 'lambda_l1': 0.8488923280457591, 'lambda_l2': 1.1028265879651968e-05, 'max_bin': 100, 'num_leaves': 378}.\n",
      "[I 2019-07-23 00:29:51,007] Finished trial#44 resulted in value: 14.847148785640572. Current best value is 7.563506380185266 with parameters: {'learning_rate': 0.15925795882187083, 'feature_fraction': 0.8920602146506871, 'bagging_fraction': 0.6485951194464459, 'min_data_in_leaf': 755, 'lambda_l1': 0.8488923280457591, 'lambda_l2': 1.1028265879651968e-05, 'max_bin': 100, 'num_leaves': 378}.\n",
      "[I 2019-07-23 00:30:43,072] Finished trial#45 resulted in value: 11.235448237636158. Current best value is 7.563506380185266 with parameters: {'learning_rate': 0.15925795882187083, 'feature_fraction': 0.8920602146506871, 'bagging_fraction': 0.6485951194464459, 'min_data_in_leaf': 755, 'lambda_l1': 0.8488923280457591, 'lambda_l2': 1.1028265879651968e-05, 'max_bin': 100, 'num_leaves': 378}.\n",
      "[I 2019-07-23 00:31:25,170] Finished trial#46 resulted in value: 8.433704187883494. Current best value is 7.563506380185266 with parameters: {'learning_rate': 0.15925795882187083, 'feature_fraction': 0.8920602146506871, 'bagging_fraction': 0.6485951194464459, 'min_data_in_leaf': 755, 'lambda_l1': 0.8488923280457591, 'lambda_l2': 1.1028265879651968e-05, 'max_bin': 100, 'num_leaves': 378}.\n",
      "[I 2019-07-23 00:32:11,695] Finished trial#47 resulted in value: 9.012988424013514. Current best value is 7.563506380185266 with parameters: {'learning_rate': 0.15925795882187083, 'feature_fraction': 0.8920602146506871, 'bagging_fraction': 0.6485951194464459, 'min_data_in_leaf': 755, 'lambda_l1': 0.8488923280457591, 'lambda_l2': 1.1028265879651968e-05, 'max_bin': 100, 'num_leaves': 378}.\n",
      "[I 2019-07-23 00:33:01,196] Finished trial#48 resulted in value: 8.308744118856012. Current best value is 7.563506380185266 with parameters: {'learning_rate': 0.15925795882187083, 'feature_fraction': 0.8920602146506871, 'bagging_fraction': 0.6485951194464459, 'min_data_in_leaf': 755, 'lambda_l1': 0.8488923280457591, 'lambda_l2': 1.1028265879651968e-05, 'max_bin': 100, 'num_leaves': 378}.\n",
      "[I 2019-07-23 00:33:33,639] Finished trial#49 resulted in value: 10.392089944858512. Current best value is 7.563506380185266 with parameters: {'learning_rate': 0.15925795882187083, 'feature_fraction': 0.8920602146506871, 'bagging_fraction': 0.6485951194464459, 'min_data_in_leaf': 755, 'lambda_l1': 0.8488923280457591, 'lambda_l2': 1.1028265879651968e-05, 'max_bin': 100, 'num_leaves': 378}.\n",
      "[I 2019-07-23 00:33:56,619] Finished trial#50 resulted in value: 8.475606685391607. Current best value is 7.563506380185266 with parameters: {'learning_rate': 0.15925795882187083, 'feature_fraction': 0.8920602146506871, 'bagging_fraction': 0.6485951194464459, 'min_data_in_leaf': 755, 'lambda_l1': 0.8488923280457591, 'lambda_l2': 1.1028265879651968e-05, 'max_bin': 100, 'num_leaves': 378}.\n",
      "[I 2019-07-23 00:34:50,732] Finished trial#51 resulted in value: 9.433223513247505. Current best value is 7.563506380185266 with parameters: {'learning_rate': 0.15925795882187083, 'feature_fraction': 0.8920602146506871, 'bagging_fraction': 0.6485951194464459, 'min_data_in_leaf': 755, 'lambda_l1': 0.8488923280457591, 'lambda_l2': 1.1028265879651968e-05, 'max_bin': 100, 'num_leaves': 378}.\n",
      "[I 2019-07-23 00:35:42,560] Finished trial#52 resulted in value: 9.21991866565145. Current best value is 7.563506380185266 with parameters: {'learning_rate': 0.15925795882187083, 'feature_fraction': 0.8920602146506871, 'bagging_fraction': 0.6485951194464459, 'min_data_in_leaf': 755, 'lambda_l1': 0.8488923280457591, 'lambda_l2': 1.1028265879651968e-05, 'max_bin': 100, 'num_leaves': 378}.\n",
      "[I 2019-07-23 00:36:24,224] Finished trial#53 resulted in value: 8.558713320211512. Current best value is 7.563506380185266 with parameters: {'learning_rate': 0.15925795882187083, 'feature_fraction': 0.8920602146506871, 'bagging_fraction': 0.6485951194464459, 'min_data_in_leaf': 755, 'lambda_l1': 0.8488923280457591, 'lambda_l2': 1.1028265879651968e-05, 'max_bin': 100, 'num_leaves': 378}.\n",
      "[I 2019-07-23 00:37:09,442] Finished trial#54 resulted in value: 8.867849511537228. Current best value is 7.563506380185266 with parameters: {'learning_rate': 0.15925795882187083, 'feature_fraction': 0.8920602146506871, 'bagging_fraction': 0.6485951194464459, 'min_data_in_leaf': 755, 'lambda_l1': 0.8488923280457591, 'lambda_l2': 1.1028265879651968e-05, 'max_bin': 100, 'num_leaves': 378}.\n",
      "[I 2019-07-23 00:38:04,581] Finished trial#55 resulted in value: 7.981412345526704. Current best value is 7.563506380185266 with parameters: {'learning_rate': 0.15925795882187083, 'feature_fraction': 0.8920602146506871, 'bagging_fraction': 0.6485951194464459, 'min_data_in_leaf': 755, 'lambda_l1': 0.8488923280457591, 'lambda_l2': 1.1028265879651968e-05, 'max_bin': 100, 'num_leaves': 378}.\n",
      "[I 2019-07-23 00:39:08,304] Finished trial#56 resulted in value: 7.853348259673164. Current best value is 7.563506380185266 with parameters: {'learning_rate': 0.15925795882187083, 'feature_fraction': 0.8920602146506871, 'bagging_fraction': 0.6485951194464459, 'min_data_in_leaf': 755, 'lambda_l1': 0.8488923280457591, 'lambda_l2': 1.1028265879651968e-05, 'max_bin': 100, 'num_leaves': 378}.\n",
      "[I 2019-07-23 00:40:01,088] Finished trial#57 resulted in value: 8.940220477486337. Current best value is 7.563506380185266 with parameters: {'learning_rate': 0.15925795882187083, 'feature_fraction': 0.8920602146506871, 'bagging_fraction': 0.6485951194464459, 'min_data_in_leaf': 755, 'lambda_l1': 0.8488923280457591, 'lambda_l2': 1.1028265879651968e-05, 'max_bin': 100, 'num_leaves': 378}.\n",
      "[I 2019-07-23 00:40:39,415] Finished trial#58 resulted in value: 8.173872081681814. Current best value is 7.563506380185266 with parameters: {'learning_rate': 0.15925795882187083, 'feature_fraction': 0.8920602146506871, 'bagging_fraction': 0.6485951194464459, 'min_data_in_leaf': 755, 'lambda_l1': 0.8488923280457591, 'lambda_l2': 1.1028265879651968e-05, 'max_bin': 100, 'num_leaves': 378}.\n",
      "[I 2019-07-23 00:41:32,880] Finished trial#59 resulted in value: 8.476514204067513. Current best value is 7.563506380185266 with parameters: {'learning_rate': 0.15925795882187083, 'feature_fraction': 0.8920602146506871, 'bagging_fraction': 0.6485951194464459, 'min_data_in_leaf': 755, 'lambda_l1': 0.8488923280457591, 'lambda_l2': 1.1028265879651968e-05, 'max_bin': 100, 'num_leaves': 378}.\n",
      "[I 2019-07-23 00:42:23,850] Finished trial#60 resulted in value: 11.038253698273897. Current best value is 7.563506380185266 with parameters: {'learning_rate': 0.15925795882187083, 'feature_fraction': 0.8920602146506871, 'bagging_fraction': 0.6485951194464459, 'min_data_in_leaf': 755, 'lambda_l1': 0.8488923280457591, 'lambda_l2': 1.1028265879651968e-05, 'max_bin': 100, 'num_leaves': 378}.\n",
      "[I 2019-07-23 00:43:02,642] Finished trial#61 resulted in value: 9.011895926156596. Current best value is 7.563506380185266 with parameters: {'learning_rate': 0.15925795882187083, 'feature_fraction': 0.8920602146506871, 'bagging_fraction': 0.6485951194464459, 'min_data_in_leaf': 755, 'lambda_l1': 0.8488923280457591, 'lambda_l2': 1.1028265879651968e-05, 'max_bin': 100, 'num_leaves': 378}.\n",
      "[I 2019-07-23 00:43:49,647] Finished trial#62 resulted in value: 8.472706014028455. Current best value is 7.563506380185266 with parameters: {'learning_rate': 0.15925795882187083, 'feature_fraction': 0.8920602146506871, 'bagging_fraction': 0.6485951194464459, 'min_data_in_leaf': 755, 'lambda_l1': 0.8488923280457591, 'lambda_l2': 1.1028265879651968e-05, 'max_bin': 100, 'num_leaves': 378}.\n",
      "[I 2019-07-23 00:44:42,553] Finished trial#63 resulted in value: 8.110159503811806. Current best value is 7.563506380185266 with parameters: {'learning_rate': 0.15925795882187083, 'feature_fraction': 0.8920602146506871, 'bagging_fraction': 0.6485951194464459, 'min_data_in_leaf': 755, 'lambda_l1': 0.8488923280457591, 'lambda_l2': 1.1028265879651968e-05, 'max_bin': 100, 'num_leaves': 378}.\n",
      "[I 2019-07-23 00:45:18,430] Finished trial#64 resulted in value: 8.314383632107994. Current best value is 7.563506380185266 with parameters: {'learning_rate': 0.15925795882187083, 'feature_fraction': 0.8920602146506871, 'bagging_fraction': 0.6485951194464459, 'min_data_in_leaf': 755, 'lambda_l1': 0.8488923280457591, 'lambda_l2': 1.1028265879651968e-05, 'max_bin': 100, 'num_leaves': 378}.\n",
      "[I 2019-07-23 00:46:23,302] Finished trial#65 resulted in value: 7.995914670316285. Current best value is 7.563506380185266 with parameters: {'learning_rate': 0.15925795882187083, 'feature_fraction': 0.8920602146506871, 'bagging_fraction': 0.6485951194464459, 'min_data_in_leaf': 755, 'lambda_l1': 0.8488923280457591, 'lambda_l2': 1.1028265879651968e-05, 'max_bin': 100, 'num_leaves': 378}.\n",
      "[I 2019-07-23 00:47:29,201] Finished trial#66 resulted in value: 7.9636863624498675. Current best value is 7.563506380185266 with parameters: {'learning_rate': 0.15925795882187083, 'feature_fraction': 0.8920602146506871, 'bagging_fraction': 0.6485951194464459, 'min_data_in_leaf': 755, 'lambda_l1': 0.8488923280457591, 'lambda_l2': 1.1028265879651968e-05, 'max_bin': 100, 'num_leaves': 378}.\n",
      "[I 2019-07-23 00:48:28,704] Finished trial#67 resulted in value: 7.802273282785534. Current best value is 7.563506380185266 with parameters: {'learning_rate': 0.15925795882187083, 'feature_fraction': 0.8920602146506871, 'bagging_fraction': 0.6485951194464459, 'min_data_in_leaf': 755, 'lambda_l1': 0.8488923280457591, 'lambda_l2': 1.1028265879651968e-05, 'max_bin': 100, 'num_leaves': 378}.\n",
      "[I 2019-07-23 00:49:30,093] Finished trial#68 resulted in value: 7.877300606391045. Current best value is 7.563506380185266 with parameters: {'learning_rate': 0.15925795882187083, 'feature_fraction': 0.8920602146506871, 'bagging_fraction': 0.6485951194464459, 'min_data_in_leaf': 755, 'lambda_l1': 0.8488923280457591, 'lambda_l2': 1.1028265879651968e-05, 'max_bin': 100, 'num_leaves': 378}.\n",
      "[I 2019-07-23 00:50:36,052] Finished trial#69 resulted in value: 8.300723714048845. Current best value is 7.563506380185266 with parameters: {'learning_rate': 0.15925795882187083, 'feature_fraction': 0.8920602146506871, 'bagging_fraction': 0.6485951194464459, 'min_data_in_leaf': 755, 'lambda_l1': 0.8488923280457591, 'lambda_l2': 1.1028265879651968e-05, 'max_bin': 100, 'num_leaves': 378}.\n",
      "[I 2019-07-23 00:51:35,927] Finished trial#70 resulted in value: 8.146828379900922. Current best value is 7.563506380185266 with parameters: {'learning_rate': 0.15925795882187083, 'feature_fraction': 0.8920602146506871, 'bagging_fraction': 0.6485951194464459, 'min_data_in_leaf': 755, 'lambda_l1': 0.8488923280457591, 'lambda_l2': 1.1028265879651968e-05, 'max_bin': 100, 'num_leaves': 378}.\n",
      "[I 2019-07-23 00:52:35,281] Finished trial#71 resulted in value: 8.137954045943381. Current best value is 7.563506380185266 with parameters: {'learning_rate': 0.15925795882187083, 'feature_fraction': 0.8920602146506871, 'bagging_fraction': 0.6485951194464459, 'min_data_in_leaf': 755, 'lambda_l1': 0.8488923280457591, 'lambda_l2': 1.1028265879651968e-05, 'max_bin': 100, 'num_leaves': 378}.\n",
      "[I 2019-07-23 00:53:27,945] Finished trial#72 resulted in value: 9.575798445725871. Current best value is 7.563506380185266 with parameters: {'learning_rate': 0.15925795882187083, 'feature_fraction': 0.8920602146506871, 'bagging_fraction': 0.6485951194464459, 'min_data_in_leaf': 755, 'lambda_l1': 0.8488923280457591, 'lambda_l2': 1.1028265879651968e-05, 'max_bin': 100, 'num_leaves': 378}.\n",
      "[I 2019-07-23 00:54:46,742] Finished trial#73 resulted in value: 14.431099261772928. Current best value is 7.563506380185266 with parameters: {'learning_rate': 0.15925795882187083, 'feature_fraction': 0.8920602146506871, 'bagging_fraction': 0.6485951194464459, 'min_data_in_leaf': 755, 'lambda_l1': 0.8488923280457591, 'lambda_l2': 1.1028265879651968e-05, 'max_bin': 100, 'num_leaves': 378}.\n",
      "[I 2019-07-23 00:55:58,281] Finished trial#74 resulted in value: 9.682255384226645. Current best value is 7.563506380185266 with parameters: {'learning_rate': 0.15925795882187083, 'feature_fraction': 0.8920602146506871, 'bagging_fraction': 0.6485951194464459, 'min_data_in_leaf': 755, 'lambda_l1': 0.8488923280457591, 'lambda_l2': 1.1028265879651968e-05, 'max_bin': 100, 'num_leaves': 378}.\n",
      "[I 2019-07-23 00:56:57,130] Finished trial#75 resulted in value: 8.262649652417911. Current best value is 7.563506380185266 with parameters: {'learning_rate': 0.15925795882187083, 'feature_fraction': 0.8920602146506871, 'bagging_fraction': 0.6485951194464459, 'min_data_in_leaf': 755, 'lambda_l1': 0.8488923280457591, 'lambda_l2': 1.1028265879651968e-05, 'max_bin': 100, 'num_leaves': 378}.\n",
      "[I 2019-07-23 00:57:53,249] Finished trial#76 resulted in value: 8.652348360377534. Current best value is 7.563506380185266 with parameters: {'learning_rate': 0.15925795882187083, 'feature_fraction': 0.8920602146506871, 'bagging_fraction': 0.6485951194464459, 'min_data_in_leaf': 755, 'lambda_l1': 0.8488923280457591, 'lambda_l2': 1.1028265879651968e-05, 'max_bin': 100, 'num_leaves': 378}.\n",
      "[I 2019-07-23 00:58:56,301] Finished trial#77 resulted in value: 8.464804915015385. Current best value is 7.563506380185266 with parameters: {'learning_rate': 0.15925795882187083, 'feature_fraction': 0.8920602146506871, 'bagging_fraction': 0.6485951194464459, 'min_data_in_leaf': 755, 'lambda_l1': 0.8488923280457591, 'lambda_l2': 1.1028265879651968e-05, 'max_bin': 100, 'num_leaves': 378}.\n",
      "[I 2019-07-23 01:01:40,568] Finished trial#80 resulted in value: 9.27914555352278. Current best value is 7.563506380185266 with parameters: {'learning_rate': 0.15925795882187083, 'feature_fraction': 0.8920602146506871, 'bagging_fraction': 0.6485951194464459, 'min_data_in_leaf': 755, 'lambda_l1': 0.8488923280457591, 'lambda_l2': 1.1028265879651968e-05, 'max_bin': 100, 'num_leaves': 378}.\n",
      "[I 2019-07-23 01:02:32,244] Finished trial#81 resulted in value: 8.123861668798078. Current best value is 7.563506380185266 with parameters: {'learning_rate': 0.15925795882187083, 'feature_fraction': 0.8920602146506871, 'bagging_fraction': 0.6485951194464459, 'min_data_in_leaf': 755, 'lambda_l1': 0.8488923280457591, 'lambda_l2': 1.1028265879651968e-05, 'max_bin': 100, 'num_leaves': 378}.\n",
      "[I 2019-07-23 01:03:17,121] Finished trial#82 resulted in value: 12.066841564612035. Current best value is 7.563506380185266 with parameters: {'learning_rate': 0.15925795882187083, 'feature_fraction': 0.8920602146506871, 'bagging_fraction': 0.6485951194464459, 'min_data_in_leaf': 755, 'lambda_l1': 0.8488923280457591, 'lambda_l2': 1.1028265879651968e-05, 'max_bin': 100, 'num_leaves': 378}.\n"
     ]
    },
    {
     "name": "stderr",
     "output_type": "stream",
     "text": [
      "[I 2019-07-23 01:04:11,536] Finished trial#83 resulted in value: 8.989435380483407. Current best value is 7.563506380185266 with parameters: {'learning_rate': 0.15925795882187083, 'feature_fraction': 0.8920602146506871, 'bagging_fraction': 0.6485951194464459, 'min_data_in_leaf': 755, 'lambda_l1': 0.8488923280457591, 'lambda_l2': 1.1028265879651968e-05, 'max_bin': 100, 'num_leaves': 378}.\n",
      "[I 2019-07-23 01:05:03,473] Finished trial#84 resulted in value: 8.07921167217753. Current best value is 7.563506380185266 with parameters: {'learning_rate': 0.15925795882187083, 'feature_fraction': 0.8920602146506871, 'bagging_fraction': 0.6485951194464459, 'min_data_in_leaf': 755, 'lambda_l1': 0.8488923280457591, 'lambda_l2': 1.1028265879651968e-05, 'max_bin': 100, 'num_leaves': 378}.\n",
      "[I 2019-07-23 01:06:03,115] Finished trial#85 resulted in value: 8.365237171490573. Current best value is 7.563506380185266 with parameters: {'learning_rate': 0.15925795882187083, 'feature_fraction': 0.8920602146506871, 'bagging_fraction': 0.6485951194464459, 'min_data_in_leaf': 755, 'lambda_l1': 0.8488923280457591, 'lambda_l2': 1.1028265879651968e-05, 'max_bin': 100, 'num_leaves': 378}.\n",
      "[I 2019-07-23 01:07:08,986] Finished trial#86 resulted in value: 8.520002084194195. Current best value is 7.563506380185266 with parameters: {'learning_rate': 0.15925795882187083, 'feature_fraction': 0.8920602146506871, 'bagging_fraction': 0.6485951194464459, 'min_data_in_leaf': 755, 'lambda_l1': 0.8488923280457591, 'lambda_l2': 1.1028265879651968e-05, 'max_bin': 100, 'num_leaves': 378}.\n",
      "[I 2019-07-23 01:08:12,830] Finished trial#87 resulted in value: 10.34441812303821. Current best value is 7.563506380185266 with parameters: {'learning_rate': 0.15925795882187083, 'feature_fraction': 0.8920602146506871, 'bagging_fraction': 0.6485951194464459, 'min_data_in_leaf': 755, 'lambda_l1': 0.8488923280457591, 'lambda_l2': 1.1028265879651968e-05, 'max_bin': 100, 'num_leaves': 378}.\n",
      "[I 2019-07-23 01:09:08,443] Finished trial#88 resulted in value: 10.065436294368274. Current best value is 7.563506380185266 with parameters: {'learning_rate': 0.15925795882187083, 'feature_fraction': 0.8920602146506871, 'bagging_fraction': 0.6485951194464459, 'min_data_in_leaf': 755, 'lambda_l1': 0.8488923280457591, 'lambda_l2': 1.1028265879651968e-05, 'max_bin': 100, 'num_leaves': 378}.\n",
      "[I 2019-07-23 01:10:02,985] Finished trial#89 resulted in value: 7.97951262221268. Current best value is 7.563506380185266 with parameters: {'learning_rate': 0.15925795882187083, 'feature_fraction': 0.8920602146506871, 'bagging_fraction': 0.6485951194464459, 'min_data_in_leaf': 755, 'lambda_l1': 0.8488923280457591, 'lambda_l2': 1.1028265879651968e-05, 'max_bin': 100, 'num_leaves': 378}.\n",
      "[I 2019-07-23 01:10:55,726] Finished trial#90 resulted in value: 10.289665014183884. Current best value is 7.563506380185266 with parameters: {'learning_rate': 0.15925795882187083, 'feature_fraction': 0.8920602146506871, 'bagging_fraction': 0.6485951194464459, 'min_data_in_leaf': 755, 'lambda_l1': 0.8488923280457591, 'lambda_l2': 1.1028265879651968e-05, 'max_bin': 100, 'num_leaves': 378}.\n",
      "[I 2019-07-23 01:11:38,792] Finished trial#91 resulted in value: 7.8051905356674025. Current best value is 7.563506380185266 with parameters: {'learning_rate': 0.15925795882187083, 'feature_fraction': 0.8920602146506871, 'bagging_fraction': 0.6485951194464459, 'min_data_in_leaf': 755, 'lambda_l1': 0.8488923280457591, 'lambda_l2': 1.1028265879651968e-05, 'max_bin': 100, 'num_leaves': 378}.\n",
      "[I 2019-07-23 01:12:06,176] Finished trial#92 resulted in value: 8.464419818159767. Current best value is 7.563506380185266 with parameters: {'learning_rate': 0.15925795882187083, 'feature_fraction': 0.8920602146506871, 'bagging_fraction': 0.6485951194464459, 'min_data_in_leaf': 755, 'lambda_l1': 0.8488923280457591, 'lambda_l2': 1.1028265879651968e-05, 'max_bin': 100, 'num_leaves': 378}.\n",
      "[I 2019-07-23 01:12:56,930] Finished trial#93 resulted in value: 8.703441462552277. Current best value is 7.563506380185266 with parameters: {'learning_rate': 0.15925795882187083, 'feature_fraction': 0.8920602146506871, 'bagging_fraction': 0.6485951194464459, 'min_data_in_leaf': 755, 'lambda_l1': 0.8488923280457591, 'lambda_l2': 1.1028265879651968e-05, 'max_bin': 100, 'num_leaves': 378}.\n",
      "[I 2019-07-23 01:13:49,310] Finished trial#94 resulted in value: 7.899246881040868. Current best value is 7.563506380185266 with parameters: {'learning_rate': 0.15925795882187083, 'feature_fraction': 0.8920602146506871, 'bagging_fraction': 0.6485951194464459, 'min_data_in_leaf': 755, 'lambda_l1': 0.8488923280457591, 'lambda_l2': 1.1028265879651968e-05, 'max_bin': 100, 'num_leaves': 378}.\n",
      "[I 2019-07-23 01:14:29,564] Finished trial#95 resulted in value: 7.6488218101608245. Current best value is 7.563506380185266 with parameters: {'learning_rate': 0.15925795882187083, 'feature_fraction': 0.8920602146506871, 'bagging_fraction': 0.6485951194464459, 'min_data_in_leaf': 755, 'lambda_l1': 0.8488923280457591, 'lambda_l2': 1.1028265879651968e-05, 'max_bin': 100, 'num_leaves': 378}.\n",
      "[I 2019-07-23 01:15:09,352] Finished trial#96 resulted in value: 8.569814862625984. Current best value is 7.563506380185266 with parameters: {'learning_rate': 0.15925795882187083, 'feature_fraction': 0.8920602146506871, 'bagging_fraction': 0.6485951194464459, 'min_data_in_leaf': 755, 'lambda_l1': 0.8488923280457591, 'lambda_l2': 1.1028265879651968e-05, 'max_bin': 100, 'num_leaves': 378}.\n",
      "[I 2019-07-23 01:15:49,807] Finished trial#97 resulted in value: 8.670513432380556. Current best value is 7.563506380185266 with parameters: {'learning_rate': 0.15925795882187083, 'feature_fraction': 0.8920602146506871, 'bagging_fraction': 0.6485951194464459, 'min_data_in_leaf': 755, 'lambda_l1': 0.8488923280457591, 'lambda_l2': 1.1028265879651968e-05, 'max_bin': 100, 'num_leaves': 378}.\n",
      "[I 2019-07-23 01:16:30,243] Finished trial#98 resulted in value: 7.450919464201985. Current best value is 7.450919464201985 with parameters: {'learning_rate': 0.3622587705966408, 'feature_fraction': 0.7854483962772717, 'bagging_fraction': 0.9546342593989241, 'min_data_in_leaf': 350, 'lambda_l1': 7.642900510828487e-06, 'lambda_l2': 0.0002861596844630391, 'max_bin': 88, 'num_leaves': 228}.\n",
      "[I 2019-07-23 01:17:05,370] Finished trial#99 resulted in value: 8.260607755353911. Current best value is 7.450919464201985 with parameters: {'learning_rate': 0.3622587705966408, 'feature_fraction': 0.7854483962772717, 'bagging_fraction': 0.9546342593989241, 'min_data_in_leaf': 350, 'lambda_l1': 7.642900510828487e-06, 'lambda_l2': 0.0002861596844630391, 'max_bin': 88, 'num_leaves': 228}.\n",
      "[I 2019-07-23 01:17:40,375] Finished trial#100 resulted in value: 8.313775946557966. Current best value is 7.450919464201985 with parameters: {'learning_rate': 0.3622587705966408, 'feature_fraction': 0.7854483962772717, 'bagging_fraction': 0.9546342593989241, 'min_data_in_leaf': 350, 'lambda_l1': 7.642900510828487e-06, 'lambda_l2': 0.0002861596844630391, 'max_bin': 88, 'num_leaves': 228}.\n",
      "[I 2019-07-23 01:18:18,961] Finished trial#101 resulted in value: 8.850907546725493. Current best value is 7.450919464201985 with parameters: {'learning_rate': 0.3622587705966408, 'feature_fraction': 0.7854483962772717, 'bagging_fraction': 0.9546342593989241, 'min_data_in_leaf': 350, 'lambda_l1': 7.642900510828487e-06, 'lambda_l2': 0.0002861596844630391, 'max_bin': 88, 'num_leaves': 228}.\n",
      "[I 2019-07-23 01:18:50,088] Finished trial#102 resulted in value: 9.411154130634651. Current best value is 7.450919464201985 with parameters: {'learning_rate': 0.3622587705966408, 'feature_fraction': 0.7854483962772717, 'bagging_fraction': 0.9546342593989241, 'min_data_in_leaf': 350, 'lambda_l1': 7.642900510828487e-06, 'lambda_l2': 0.0002861596844630391, 'max_bin': 88, 'num_leaves': 228}.\n",
      "[I 2019-07-23 01:19:27,061] Finished trial#103 resulted in value: 8.914662970154756. Current best value is 7.450919464201985 with parameters: {'learning_rate': 0.3622587705966408, 'feature_fraction': 0.7854483962772717, 'bagging_fraction': 0.9546342593989241, 'min_data_in_leaf': 350, 'lambda_l1': 7.642900510828487e-06, 'lambda_l2': 0.0002861596844630391, 'max_bin': 88, 'num_leaves': 228}.\n",
      "[I 2019-07-23 01:20:08,474] Finished trial#104 resulted in value: 8.633397044987383. Current best value is 7.450919464201985 with parameters: {'learning_rate': 0.3622587705966408, 'feature_fraction': 0.7854483962772717, 'bagging_fraction': 0.9546342593989241, 'min_data_in_leaf': 350, 'lambda_l1': 7.642900510828487e-06, 'lambda_l2': 0.0002861596844630391, 'max_bin': 88, 'num_leaves': 228}.\n",
      "[I 2019-07-23 01:20:47,898] Finished trial#105 resulted in value: 9.44487971348713. Current best value is 7.450919464201985 with parameters: {'learning_rate': 0.3622587705966408, 'feature_fraction': 0.7854483962772717, 'bagging_fraction': 0.9546342593989241, 'min_data_in_leaf': 350, 'lambda_l1': 7.642900510828487e-06, 'lambda_l2': 0.0002861596844630391, 'max_bin': 88, 'num_leaves': 228}.\n",
      "[I 2019-07-23 01:21:30,405] Finished trial#106 resulted in value: 9.533884232648491. Current best value is 7.450919464201985 with parameters: {'learning_rate': 0.3622587705966408, 'feature_fraction': 0.7854483962772717, 'bagging_fraction': 0.9546342593989241, 'min_data_in_leaf': 350, 'lambda_l1': 7.642900510828487e-06, 'lambda_l2': 0.0002861596844630391, 'max_bin': 88, 'num_leaves': 228}.\n",
      "[I 2019-07-23 01:22:15,960] Finished trial#107 resulted in value: 8.850826797088928. Current best value is 7.450919464201985 with parameters: {'learning_rate': 0.3622587705966408, 'feature_fraction': 0.7854483962772717, 'bagging_fraction': 0.9546342593989241, 'min_data_in_leaf': 350, 'lambda_l1': 7.642900510828487e-06, 'lambda_l2': 0.0002861596844630391, 'max_bin': 88, 'num_leaves': 228}.\n",
      "[I 2019-07-23 01:22:50,663] Finished trial#108 resulted in value: 14.901251319136733. Current best value is 7.450919464201985 with parameters: {'learning_rate': 0.3622587705966408, 'feature_fraction': 0.7854483962772717, 'bagging_fraction': 0.9546342593989241, 'min_data_in_leaf': 350, 'lambda_l1': 7.642900510828487e-06, 'lambda_l2': 0.0002861596844630391, 'max_bin': 88, 'num_leaves': 228}.\n",
      "[I 2019-07-23 01:23:26,653] Finished trial#109 resulted in value: 9.144578132344838. Current best value is 7.450919464201985 with parameters: {'learning_rate': 0.3622587705966408, 'feature_fraction': 0.7854483962772717, 'bagging_fraction': 0.9546342593989241, 'min_data_in_leaf': 350, 'lambda_l1': 7.642900510828487e-06, 'lambda_l2': 0.0002861596844630391, 'max_bin': 88, 'num_leaves': 228}.\n",
      "[I 2019-07-23 01:24:00,268] Finished trial#110 resulted in value: 8.041626873249799. Current best value is 7.450919464201985 with parameters: {'learning_rate': 0.3622587705966408, 'feature_fraction': 0.7854483962772717, 'bagging_fraction': 0.9546342593989241, 'min_data_in_leaf': 350, 'lambda_l1': 7.642900510828487e-06, 'lambda_l2': 0.0002861596844630391, 'max_bin': 88, 'num_leaves': 228}.\n",
      "[I 2019-07-23 01:24:43,106] Finished trial#111 resulted in value: 9.197454013050065. Current best value is 7.450919464201985 with parameters: {'learning_rate': 0.3622587705966408, 'feature_fraction': 0.7854483962772717, 'bagging_fraction': 0.9546342593989241, 'min_data_in_leaf': 350, 'lambda_l1': 7.642900510828487e-06, 'lambda_l2': 0.0002861596844630391, 'max_bin': 88, 'num_leaves': 228}.\n",
      "[I 2019-07-23 01:25:14,111] Finished trial#112 resulted in value: 10.42132916261734. Current best value is 7.450919464201985 with parameters: {'learning_rate': 0.3622587705966408, 'feature_fraction': 0.7854483962772717, 'bagging_fraction': 0.9546342593989241, 'min_data_in_leaf': 350, 'lambda_l1': 7.642900510828487e-06, 'lambda_l2': 0.0002861596844630391, 'max_bin': 88, 'num_leaves': 228}.\n",
      "[I 2019-07-23 01:25:48,756] Finished trial#113 resulted in value: 15.061792361838705. Current best value is 7.450919464201985 with parameters: {'learning_rate': 0.3622587705966408, 'feature_fraction': 0.7854483962772717, 'bagging_fraction': 0.9546342593989241, 'min_data_in_leaf': 350, 'lambda_l1': 7.642900510828487e-06, 'lambda_l2': 0.0002861596844630391, 'max_bin': 88, 'num_leaves': 228}.\n",
      "[I 2019-07-23 01:26:30,231] Finished trial#114 resulted in value: 9.487039839942035. Current best value is 7.450919464201985 with parameters: {'learning_rate': 0.3622587705966408, 'feature_fraction': 0.7854483962772717, 'bagging_fraction': 0.9546342593989241, 'min_data_in_leaf': 350, 'lambda_l1': 7.642900510828487e-06, 'lambda_l2': 0.0002861596844630391, 'max_bin': 88, 'num_leaves': 228}.\n",
      "[I 2019-07-23 01:27:17,649] Finished trial#115 resulted in value: 8.76281005956322. Current best value is 7.450919464201985 with parameters: {'learning_rate': 0.3622587705966408, 'feature_fraction': 0.7854483962772717, 'bagging_fraction': 0.9546342593989241, 'min_data_in_leaf': 350, 'lambda_l1': 7.642900510828487e-06, 'lambda_l2': 0.0002861596844630391, 'max_bin': 88, 'num_leaves': 228}.\n",
      "[I 2019-07-23 01:28:07,451] Finished trial#116 resulted in value: 9.596875119229441. Current best value is 7.450919464201985 with parameters: {'learning_rate': 0.3622587705966408, 'feature_fraction': 0.7854483962772717, 'bagging_fraction': 0.9546342593989241, 'min_data_in_leaf': 350, 'lambda_l1': 7.642900510828487e-06, 'lambda_l2': 0.0002861596844630391, 'max_bin': 88, 'num_leaves': 228}.\n",
      "[I 2019-07-23 01:28:51,394] Finished trial#117 resulted in value: 12.893675642345997. Current best value is 7.450919464201985 with parameters: {'learning_rate': 0.3622587705966408, 'feature_fraction': 0.7854483962772717, 'bagging_fraction': 0.9546342593989241, 'min_data_in_leaf': 350, 'lambda_l1': 7.642900510828487e-06, 'lambda_l2': 0.0002861596844630391, 'max_bin': 88, 'num_leaves': 228}.\n",
      "[I 2019-07-23 01:29:36,493] Finished trial#118 resulted in value: 7.753235452846146. Current best value is 7.450919464201985 with parameters: {'learning_rate': 0.3622587705966408, 'feature_fraction': 0.7854483962772717, 'bagging_fraction': 0.9546342593989241, 'min_data_in_leaf': 350, 'lambda_l1': 7.642900510828487e-06, 'lambda_l2': 0.0002861596844630391, 'max_bin': 88, 'num_leaves': 228}.\n",
      "[I 2019-07-23 01:30:32,883] Finished trial#119 resulted in value: 9.777894934392705. Current best value is 7.450919464201985 with parameters: {'learning_rate': 0.3622587705966408, 'feature_fraction': 0.7854483962772717, 'bagging_fraction': 0.9546342593989241, 'min_data_in_leaf': 350, 'lambda_l1': 7.642900510828487e-06, 'lambda_l2': 0.0002861596844630391, 'max_bin': 88, 'num_leaves': 228}.\n",
      "[I 2019-07-23 01:31:26,435] Finished trial#120 resulted in value: 9.431748635104116. Current best value is 7.450919464201985 with parameters: {'learning_rate': 0.3622587705966408, 'feature_fraction': 0.7854483962772717, 'bagging_fraction': 0.9546342593989241, 'min_data_in_leaf': 350, 'lambda_l1': 7.642900510828487e-06, 'lambda_l2': 0.0002861596844630391, 'max_bin': 88, 'num_leaves': 228}.\n",
      "[I 2019-07-23 01:32:03,963] Finished trial#121 resulted in value: 9.870070834352381. Current best value is 7.450919464201985 with parameters: {'learning_rate': 0.3622587705966408, 'feature_fraction': 0.7854483962772717, 'bagging_fraction': 0.9546342593989241, 'min_data_in_leaf': 350, 'lambda_l1': 7.642900510828487e-06, 'lambda_l2': 0.0002861596844630391, 'max_bin': 88, 'num_leaves': 228}.\n",
      "[I 2019-07-23 01:32:34,537] Finished trial#122 resulted in value: 8.703002765107632. Current best value is 7.450919464201985 with parameters: {'learning_rate': 0.3622587705966408, 'feature_fraction': 0.7854483962772717, 'bagging_fraction': 0.9546342593989241, 'min_data_in_leaf': 350, 'lambda_l1': 7.642900510828487e-06, 'lambda_l2': 0.0002861596844630391, 'max_bin': 88, 'num_leaves': 228}.\n"
     ]
    },
    {
     "name": "stderr",
     "output_type": "stream",
     "text": [
      "[I 2019-07-23 01:33:20,945] Finished trial#123 resulted in value: 8.197555549388303. Current best value is 7.450919464201985 with parameters: {'learning_rate': 0.3622587705966408, 'feature_fraction': 0.7854483962772717, 'bagging_fraction': 0.9546342593989241, 'min_data_in_leaf': 350, 'lambda_l1': 7.642900510828487e-06, 'lambda_l2': 0.0002861596844630391, 'max_bin': 88, 'num_leaves': 228}.\n",
      "[I 2019-07-23 01:34:01,959] Finished trial#124 resulted in value: 8.8471682719883. Current best value is 7.450919464201985 with parameters: {'learning_rate': 0.3622587705966408, 'feature_fraction': 0.7854483962772717, 'bagging_fraction': 0.9546342593989241, 'min_data_in_leaf': 350, 'lambda_l1': 7.642900510828487e-06, 'lambda_l2': 0.0002861596844630391, 'max_bin': 88, 'num_leaves': 228}.\n",
      "[I 2019-07-23 01:34:34,877] Finished trial#125 resulted in value: 14.590755305438753. Current best value is 7.450919464201985 with parameters: {'learning_rate': 0.3622587705966408, 'feature_fraction': 0.7854483962772717, 'bagging_fraction': 0.9546342593989241, 'min_data_in_leaf': 350, 'lambda_l1': 7.642900510828487e-06, 'lambda_l2': 0.0002861596844630391, 'max_bin': 88, 'num_leaves': 228}.\n",
      "[I 2019-07-23 01:35:04,466] Finished trial#126 resulted in value: 9.94023342494554. Current best value is 7.450919464201985 with parameters: {'learning_rate': 0.3622587705966408, 'feature_fraction': 0.7854483962772717, 'bagging_fraction': 0.9546342593989241, 'min_data_in_leaf': 350, 'lambda_l1': 7.642900510828487e-06, 'lambda_l2': 0.0002861596844630391, 'max_bin': 88, 'num_leaves': 228}.\n",
      "[I 2019-07-23 01:35:45,381] Finished trial#127 resulted in value: 7.73158822284888. Current best value is 7.450919464201985 with parameters: {'learning_rate': 0.3622587705966408, 'feature_fraction': 0.7854483962772717, 'bagging_fraction': 0.9546342593989241, 'min_data_in_leaf': 350, 'lambda_l1': 7.642900510828487e-06, 'lambda_l2': 0.0002861596844630391, 'max_bin': 88, 'num_leaves': 228}.\n",
      "[I 2019-07-23 01:36:32,608] Finished trial#128 resulted in value: 8.241155060376661. Current best value is 7.450919464201985 with parameters: {'learning_rate': 0.3622587705966408, 'feature_fraction': 0.7854483962772717, 'bagging_fraction': 0.9546342593989241, 'min_data_in_leaf': 350, 'lambda_l1': 7.642900510828487e-06, 'lambda_l2': 0.0002861596844630391, 'max_bin': 88, 'num_leaves': 228}.\n",
      "[I 2019-07-23 01:37:41,076] Finished trial#129 resulted in value: 8.215506815797605. Current best value is 7.450919464201985 with parameters: {'learning_rate': 0.3622587705966408, 'feature_fraction': 0.7854483962772717, 'bagging_fraction': 0.9546342593989241, 'min_data_in_leaf': 350, 'lambda_l1': 7.642900510828487e-06, 'lambda_l2': 0.0002861596844630391, 'max_bin': 88, 'num_leaves': 228}.\n",
      "[I 2019-07-23 01:38:31,238] Finished trial#130 resulted in value: 9.0281310732955. Current best value is 7.450919464201985 with parameters: {'learning_rate': 0.3622587705966408, 'feature_fraction': 0.7854483962772717, 'bagging_fraction': 0.9546342593989241, 'min_data_in_leaf': 350, 'lambda_l1': 7.642900510828487e-06, 'lambda_l2': 0.0002861596844630391, 'max_bin': 88, 'num_leaves': 228}.\n",
      "[I 2019-07-23 01:39:13,698] Finished trial#131 resulted in value: 12.050501683732918. Current best value is 7.450919464201985 with parameters: {'learning_rate': 0.3622587705966408, 'feature_fraction': 0.7854483962772717, 'bagging_fraction': 0.9546342593989241, 'min_data_in_leaf': 350, 'lambda_l1': 7.642900510828487e-06, 'lambda_l2': 0.0002861596844630391, 'max_bin': 88, 'num_leaves': 228}.\n",
      "[I 2019-07-23 01:40:25,729] Finished trial#132 resulted in value: 12.788835700267198. Current best value is 7.450919464201985 with parameters: {'learning_rate': 0.3622587705966408, 'feature_fraction': 0.7854483962772717, 'bagging_fraction': 0.9546342593989241, 'min_data_in_leaf': 350, 'lambda_l1': 7.642900510828487e-06, 'lambda_l2': 0.0002861596844630391, 'max_bin': 88, 'num_leaves': 228}.\n",
      "[I 2019-07-23 01:41:04,742] Finished trial#133 resulted in value: 8.701716561743089. Current best value is 7.450919464201985 with parameters: {'learning_rate': 0.3622587705966408, 'feature_fraction': 0.7854483962772717, 'bagging_fraction': 0.9546342593989241, 'min_data_in_leaf': 350, 'lambda_l1': 7.642900510828487e-06, 'lambda_l2': 0.0002861596844630391, 'max_bin': 88, 'num_leaves': 228}.\n",
      "[I 2019-07-23 01:41:55,909] Finished trial#134 resulted in value: 9.592691937782213. Current best value is 7.450919464201985 with parameters: {'learning_rate': 0.3622587705966408, 'feature_fraction': 0.7854483962772717, 'bagging_fraction': 0.9546342593989241, 'min_data_in_leaf': 350, 'lambda_l1': 7.642900510828487e-06, 'lambda_l2': 0.0002861596844630391, 'max_bin': 88, 'num_leaves': 228}.\n",
      "[I 2019-07-23 01:42:42,734] Finished trial#135 resulted in value: 7.401316586325016. Current best value is 7.401316586325016 with parameters: {'learning_rate': 0.4822173858081333, 'feature_fraction': 0.7695179153572054, 'bagging_fraction': 0.9414942329313656, 'min_data_in_leaf': 528, 'lambda_l1': 3.971942589250556, 'lambda_l2': 0.16474371358640466, 'max_bin': 100, 'num_leaves': 353}.\n",
      "[I 2019-07-23 01:43:24,332] Finished trial#136 resulted in value: 8.005266629951317. Current best value is 7.401316586325016 with parameters: {'learning_rate': 0.4822173858081333, 'feature_fraction': 0.7695179153572054, 'bagging_fraction': 0.9414942329313656, 'min_data_in_leaf': 528, 'lambda_l1': 3.971942589250556, 'lambda_l2': 0.16474371358640466, 'max_bin': 100, 'num_leaves': 353}.\n",
      "[I 2019-07-23 01:44:13,336] Finished trial#137 resulted in value: 7.431582158924962. Current best value is 7.401316586325016 with parameters: {'learning_rate': 0.4822173858081333, 'feature_fraction': 0.7695179153572054, 'bagging_fraction': 0.9414942329313656, 'min_data_in_leaf': 528, 'lambda_l1': 3.971942589250556, 'lambda_l2': 0.16474371358640466, 'max_bin': 100, 'num_leaves': 353}.\n",
      "[I 2019-07-23 01:44:53,613] Finished trial#138 resulted in value: 7.615960679937483. Current best value is 7.401316586325016 with parameters: {'learning_rate': 0.4822173858081333, 'feature_fraction': 0.7695179153572054, 'bagging_fraction': 0.9414942329313656, 'min_data_in_leaf': 528, 'lambda_l1': 3.971942589250556, 'lambda_l2': 0.16474371358640466, 'max_bin': 100, 'num_leaves': 353}.\n",
      "[I 2019-07-23 01:45:40,207] Finished trial#139 resulted in value: 8.685511549145229. Current best value is 7.401316586325016 with parameters: {'learning_rate': 0.4822173858081333, 'feature_fraction': 0.7695179153572054, 'bagging_fraction': 0.9414942329313656, 'min_data_in_leaf': 528, 'lambda_l1': 3.971942589250556, 'lambda_l2': 0.16474371358640466, 'max_bin': 100, 'num_leaves': 353}.\n",
      "[I 2019-07-23 01:46:28,506] Finished trial#140 resulted in value: 8.318241633834282. Current best value is 7.401316586325016 with parameters: {'learning_rate': 0.4822173858081333, 'feature_fraction': 0.7695179153572054, 'bagging_fraction': 0.9414942329313656, 'min_data_in_leaf': 528, 'lambda_l1': 3.971942589250556, 'lambda_l2': 0.16474371358640466, 'max_bin': 100, 'num_leaves': 353}.\n",
      "[I 2019-07-23 01:47:15,517] Finished trial#141 resulted in value: 8.021840346010892. Current best value is 7.401316586325016 with parameters: {'learning_rate': 0.4822173858081333, 'feature_fraction': 0.7695179153572054, 'bagging_fraction': 0.9414942329313656, 'min_data_in_leaf': 528, 'lambda_l1': 3.971942589250556, 'lambda_l2': 0.16474371358640466, 'max_bin': 100, 'num_leaves': 353}.\n",
      "[I 2019-07-23 01:47:58,992] Finished trial#142 resulted in value: 9.122975432060583. Current best value is 7.401316586325016 with parameters: {'learning_rate': 0.4822173858081333, 'feature_fraction': 0.7695179153572054, 'bagging_fraction': 0.9414942329313656, 'min_data_in_leaf': 528, 'lambda_l1': 3.971942589250556, 'lambda_l2': 0.16474371358640466, 'max_bin': 100, 'num_leaves': 353}.\n",
      "[I 2019-07-23 01:48:36,547] Finished trial#143 resulted in value: 8.862116175985872. Current best value is 7.401316586325016 with parameters: {'learning_rate': 0.4822173858081333, 'feature_fraction': 0.7695179153572054, 'bagging_fraction': 0.9414942329313656, 'min_data_in_leaf': 528, 'lambda_l1': 3.971942589250556, 'lambda_l2': 0.16474371358640466, 'max_bin': 100, 'num_leaves': 353}.\n",
      "[I 2019-07-23 01:49:29,450] Finished trial#144 resulted in value: 9.276556193456324. Current best value is 7.401316586325016 with parameters: {'learning_rate': 0.4822173858081333, 'feature_fraction': 0.7695179153572054, 'bagging_fraction': 0.9414942329313656, 'min_data_in_leaf': 528, 'lambda_l1': 3.971942589250556, 'lambda_l2': 0.16474371358640466, 'max_bin': 100, 'num_leaves': 353}.\n",
      "[I 2019-07-23 01:50:25,353] Finished trial#145 resulted in value: 7.979020831961951. Current best value is 7.401316586325016 with parameters: {'learning_rate': 0.4822173858081333, 'feature_fraction': 0.7695179153572054, 'bagging_fraction': 0.9414942329313656, 'min_data_in_leaf': 528, 'lambda_l1': 3.971942589250556, 'lambda_l2': 0.16474371358640466, 'max_bin': 100, 'num_leaves': 353}.\n",
      "[I 2019-07-23 01:51:11,766] Finished trial#146 resulted in value: 8.170694039338386. Current best value is 7.401316586325016 with parameters: {'learning_rate': 0.4822173858081333, 'feature_fraction': 0.7695179153572054, 'bagging_fraction': 0.9414942329313656, 'min_data_in_leaf': 528, 'lambda_l1': 3.971942589250556, 'lambda_l2': 0.16474371358640466, 'max_bin': 100, 'num_leaves': 353}.\n",
      "[I 2019-07-23 01:52:02,776] Finished trial#147 resulted in value: 8.839713126023415. Current best value is 7.401316586325016 with parameters: {'learning_rate': 0.4822173858081333, 'feature_fraction': 0.7695179153572054, 'bagging_fraction': 0.9414942329313656, 'min_data_in_leaf': 528, 'lambda_l1': 3.971942589250556, 'lambda_l2': 0.16474371358640466, 'max_bin': 100, 'num_leaves': 353}.\n",
      "[I 2019-07-23 01:52:52,706] Finished trial#148 resulted in value: 7.577831682984048. Current best value is 7.401316586325016 with parameters: {'learning_rate': 0.4822173858081333, 'feature_fraction': 0.7695179153572054, 'bagging_fraction': 0.9414942329313656, 'min_data_in_leaf': 528, 'lambda_l1': 3.971942589250556, 'lambda_l2': 0.16474371358640466, 'max_bin': 100, 'num_leaves': 353}.\n",
      "[I 2019-07-23 01:53:40,234] Finished trial#149 resulted in value: 8.171653549880213. Current best value is 7.401316586325016 with parameters: {'learning_rate': 0.4822173858081333, 'feature_fraction': 0.7695179153572054, 'bagging_fraction': 0.9414942329313656, 'min_data_in_leaf': 528, 'lambda_l1': 3.971942589250556, 'lambda_l2': 0.16474371358640466, 'max_bin': 100, 'num_leaves': 353}.\n",
      "[I 2019-07-23 01:54:28,442] Finished trial#150 resulted in value: 7.938573216198978. Current best value is 7.401316586325016 with parameters: {'learning_rate': 0.4822173858081333, 'feature_fraction': 0.7695179153572054, 'bagging_fraction': 0.9414942329313656, 'min_data_in_leaf': 528, 'lambda_l1': 3.971942589250556, 'lambda_l2': 0.16474371358640466, 'max_bin': 100, 'num_leaves': 353}.\n",
      "[I 2019-07-23 01:55:25,571] Finished trial#151 resulted in value: 8.252887903441854. Current best value is 7.401316586325016 with parameters: {'learning_rate': 0.4822173858081333, 'feature_fraction': 0.7695179153572054, 'bagging_fraction': 0.9414942329313656, 'min_data_in_leaf': 528, 'lambda_l1': 3.971942589250556, 'lambda_l2': 0.16474371358640466, 'max_bin': 100, 'num_leaves': 353}.\n",
      "[I 2019-07-23 01:56:25,711] Finished trial#152 resulted in value: 8.74949922901926. Current best value is 7.401316586325016 with parameters: {'learning_rate': 0.4822173858081333, 'feature_fraction': 0.7695179153572054, 'bagging_fraction': 0.9414942329313656, 'min_data_in_leaf': 528, 'lambda_l1': 3.971942589250556, 'lambda_l2': 0.16474371358640466, 'max_bin': 100, 'num_leaves': 353}.\n",
      "[I 2019-07-23 01:57:17,082] Finished trial#153 resulted in value: 8.3281386846565. Current best value is 7.401316586325016 with parameters: {'learning_rate': 0.4822173858081333, 'feature_fraction': 0.7695179153572054, 'bagging_fraction': 0.9414942329313656, 'min_data_in_leaf': 528, 'lambda_l1': 3.971942589250556, 'lambda_l2': 0.16474371358640466, 'max_bin': 100, 'num_leaves': 353}.\n",
      "[I 2019-07-23 01:58:05,790] Finished trial#154 resulted in value: 8.089392613554184. Current best value is 7.401316586325016 with parameters: {'learning_rate': 0.4822173858081333, 'feature_fraction': 0.7695179153572054, 'bagging_fraction': 0.9414942329313656, 'min_data_in_leaf': 528, 'lambda_l1': 3.971942589250556, 'lambda_l2': 0.16474371358640466, 'max_bin': 100, 'num_leaves': 353}.\n",
      "[I 2019-07-23 01:58:57,906] Finished trial#155 resulted in value: 7.813174360585518. Current best value is 7.401316586325016 with parameters: {'learning_rate': 0.4822173858081333, 'feature_fraction': 0.7695179153572054, 'bagging_fraction': 0.9414942329313656, 'min_data_in_leaf': 528, 'lambda_l1': 3.971942589250556, 'lambda_l2': 0.16474371358640466, 'max_bin': 100, 'num_leaves': 353}.\n",
      "[I 2019-07-23 01:59:51,775] Finished trial#156 resulted in value: 9.259526789663429. Current best value is 7.401316586325016 with parameters: {'learning_rate': 0.4822173858081333, 'feature_fraction': 0.7695179153572054, 'bagging_fraction': 0.9414942329313656, 'min_data_in_leaf': 528, 'lambda_l1': 3.971942589250556, 'lambda_l2': 0.16474371358640466, 'max_bin': 100, 'num_leaves': 353}.\n",
      "[I 2019-07-23 02:00:35,296] Finished trial#157 resulted in value: 8.050210689500673. Current best value is 7.401316586325016 with parameters: {'learning_rate': 0.4822173858081333, 'feature_fraction': 0.7695179153572054, 'bagging_fraction': 0.9414942329313656, 'min_data_in_leaf': 528, 'lambda_l1': 3.971942589250556, 'lambda_l2': 0.16474371358640466, 'max_bin': 100, 'num_leaves': 353}.\n",
      "[I 2019-07-23 02:01:14,203] Finished trial#158 resulted in value: 8.31677694132424. Current best value is 7.401316586325016 with parameters: {'learning_rate': 0.4822173858081333, 'feature_fraction': 0.7695179153572054, 'bagging_fraction': 0.9414942329313656, 'min_data_in_leaf': 528, 'lambda_l1': 3.971942589250556, 'lambda_l2': 0.16474371358640466, 'max_bin': 100, 'num_leaves': 353}.\n",
      "[I 2019-07-23 02:02:15,350] Finished trial#159 resulted in value: 8.714477409506172. Current best value is 7.401316586325016 with parameters: {'learning_rate': 0.4822173858081333, 'feature_fraction': 0.7695179153572054, 'bagging_fraction': 0.9414942329313656, 'min_data_in_leaf': 528, 'lambda_l1': 3.971942589250556, 'lambda_l2': 0.16474371358640466, 'max_bin': 100, 'num_leaves': 353}.\n",
      "[I 2019-07-23 02:03:01,924] Finished trial#160 resulted in value: 9.461599019520662. Current best value is 7.401316586325016 with parameters: {'learning_rate': 0.4822173858081333, 'feature_fraction': 0.7695179153572054, 'bagging_fraction': 0.9414942329313656, 'min_data_in_leaf': 528, 'lambda_l1': 3.971942589250556, 'lambda_l2': 0.16474371358640466, 'max_bin': 100, 'num_leaves': 353}.\n",
      "[I 2019-07-23 02:03:45,720] Finished trial#161 resulted in value: 9.091025519147761. Current best value is 7.401316586325016 with parameters: {'learning_rate': 0.4822173858081333, 'feature_fraction': 0.7695179153572054, 'bagging_fraction': 0.9414942329313656, 'min_data_in_leaf': 528, 'lambda_l1': 3.971942589250556, 'lambda_l2': 0.16474371358640466, 'max_bin': 100, 'num_leaves': 353}.\n",
      "[I 2019-07-23 02:04:33,967] Finished trial#162 resulted in value: 7.747512203414118. Current best value is 7.401316586325016 with parameters: {'learning_rate': 0.4822173858081333, 'feature_fraction': 0.7695179153572054, 'bagging_fraction': 0.9414942329313656, 'min_data_in_leaf': 528, 'lambda_l1': 3.971942589250556, 'lambda_l2': 0.16474371358640466, 'max_bin': 100, 'num_leaves': 353}.\n",
      "[I 2019-07-23 02:05:27,012] Finished trial#163 resulted in value: 8.309392011211559. Current best value is 7.401316586325016 with parameters: {'learning_rate': 0.4822173858081333, 'feature_fraction': 0.7695179153572054, 'bagging_fraction': 0.9414942329313656, 'min_data_in_leaf': 528, 'lambda_l1': 3.971942589250556, 'lambda_l2': 0.16474371358640466, 'max_bin': 100, 'num_leaves': 353}.\n",
      "[I 2019-07-23 02:06:30,792] Finished trial#164 resulted in value: 8.260253537273263. Current best value is 7.401316586325016 with parameters: {'learning_rate': 0.4822173858081333, 'feature_fraction': 0.7695179153572054, 'bagging_fraction': 0.9414942329313656, 'min_data_in_leaf': 528, 'lambda_l1': 3.971942589250556, 'lambda_l2': 0.16474371358640466, 'max_bin': 100, 'num_leaves': 353}.\n"
     ]
    },
    {
     "name": "stderr",
     "output_type": "stream",
     "text": [
      "[I 2019-07-23 02:07:17,141] Finished trial#165 resulted in value: 12.334919976665377. Current best value is 7.401316586325016 with parameters: {'learning_rate': 0.4822173858081333, 'feature_fraction': 0.7695179153572054, 'bagging_fraction': 0.9414942329313656, 'min_data_in_leaf': 528, 'lambda_l1': 3.971942589250556, 'lambda_l2': 0.16474371358640466, 'max_bin': 100, 'num_leaves': 353}.\n",
      "[I 2019-07-23 02:08:09,348] Finished trial#166 resulted in value: 8.280690333115475. Current best value is 7.401316586325016 with parameters: {'learning_rate': 0.4822173858081333, 'feature_fraction': 0.7695179153572054, 'bagging_fraction': 0.9414942329313656, 'min_data_in_leaf': 528, 'lambda_l1': 3.971942589250556, 'lambda_l2': 0.16474371358640466, 'max_bin': 100, 'num_leaves': 353}.\n",
      "[I 2019-07-23 02:09:07,668] Finished trial#167 resulted in value: 9.620217353941772. Current best value is 7.401316586325016 with parameters: {'learning_rate': 0.4822173858081333, 'feature_fraction': 0.7695179153572054, 'bagging_fraction': 0.9414942329313656, 'min_data_in_leaf': 528, 'lambda_l1': 3.971942589250556, 'lambda_l2': 0.16474371358640466, 'max_bin': 100, 'num_leaves': 353}.\n",
      "[I 2019-07-23 02:09:56,615] Finished trial#168 resulted in value: 8.230341816154892. Current best value is 7.401316586325016 with parameters: {'learning_rate': 0.4822173858081333, 'feature_fraction': 0.7695179153572054, 'bagging_fraction': 0.9414942329313656, 'min_data_in_leaf': 528, 'lambda_l1': 3.971942589250556, 'lambda_l2': 0.16474371358640466, 'max_bin': 100, 'num_leaves': 353}.\n",
      "[I 2019-07-23 02:10:45,598] Finished trial#169 resulted in value: 8.809584316633453. Current best value is 7.401316586325016 with parameters: {'learning_rate': 0.4822173858081333, 'feature_fraction': 0.7695179153572054, 'bagging_fraction': 0.9414942329313656, 'min_data_in_leaf': 528, 'lambda_l1': 3.971942589250556, 'lambda_l2': 0.16474371358640466, 'max_bin': 100, 'num_leaves': 353}.\n",
      "[I 2019-07-23 02:11:19,209] Finished trial#170 resulted in value: 8.263684779015534. Current best value is 7.401316586325016 with parameters: {'learning_rate': 0.4822173858081333, 'feature_fraction': 0.7695179153572054, 'bagging_fraction': 0.9414942329313656, 'min_data_in_leaf': 528, 'lambda_l1': 3.971942589250556, 'lambda_l2': 0.16474371358640466, 'max_bin': 100, 'num_leaves': 353}.\n",
      "[I 2019-07-23 02:12:10,990] Finished trial#171 resulted in value: 8.47461858832734. Current best value is 7.401316586325016 with parameters: {'learning_rate': 0.4822173858081333, 'feature_fraction': 0.7695179153572054, 'bagging_fraction': 0.9414942329313656, 'min_data_in_leaf': 528, 'lambda_l1': 3.971942589250556, 'lambda_l2': 0.16474371358640466, 'max_bin': 100, 'num_leaves': 353}.\n",
      "[I 2019-07-23 02:12:50,249] Finished trial#172 resulted in value: 10.426017235405896. Current best value is 7.401316586325016 with parameters: {'learning_rate': 0.4822173858081333, 'feature_fraction': 0.7695179153572054, 'bagging_fraction': 0.9414942329313656, 'min_data_in_leaf': 528, 'lambda_l1': 3.971942589250556, 'lambda_l2': 0.16474371358640466, 'max_bin': 100, 'num_leaves': 353}.\n",
      "[I 2019-07-23 02:13:48,494] Finished trial#173 resulted in value: 9.943961621210981. Current best value is 7.401316586325016 with parameters: {'learning_rate': 0.4822173858081333, 'feature_fraction': 0.7695179153572054, 'bagging_fraction': 0.9414942329313656, 'min_data_in_leaf': 528, 'lambda_l1': 3.971942589250556, 'lambda_l2': 0.16474371358640466, 'max_bin': 100, 'num_leaves': 353}.\n",
      "[I 2019-07-23 02:14:34,589] Finished trial#174 resulted in value: 9.43706245237933. Current best value is 7.401316586325016 with parameters: {'learning_rate': 0.4822173858081333, 'feature_fraction': 0.7695179153572054, 'bagging_fraction': 0.9414942329313656, 'min_data_in_leaf': 528, 'lambda_l1': 3.971942589250556, 'lambda_l2': 0.16474371358640466, 'max_bin': 100, 'num_leaves': 353}.\n",
      "[I 2019-07-23 02:15:27,045] Finished trial#175 resulted in value: 10.225398924155469. Current best value is 7.401316586325016 with parameters: {'learning_rate': 0.4822173858081333, 'feature_fraction': 0.7695179153572054, 'bagging_fraction': 0.9414942329313656, 'min_data_in_leaf': 528, 'lambda_l1': 3.971942589250556, 'lambda_l2': 0.16474371358640466, 'max_bin': 100, 'num_leaves': 353}.\n",
      "[I 2019-07-23 02:16:26,667] Finished trial#176 resulted in value: 8.597260122684519. Current best value is 7.401316586325016 with parameters: {'learning_rate': 0.4822173858081333, 'feature_fraction': 0.7695179153572054, 'bagging_fraction': 0.9414942329313656, 'min_data_in_leaf': 528, 'lambda_l1': 3.971942589250556, 'lambda_l2': 0.16474371358640466, 'max_bin': 100, 'num_leaves': 353}.\n",
      "[I 2019-07-23 02:17:12,422] Finished trial#177 resulted in value: 7.947530729329003. Current best value is 7.401316586325016 with parameters: {'learning_rate': 0.4822173858081333, 'feature_fraction': 0.7695179153572054, 'bagging_fraction': 0.9414942329313656, 'min_data_in_leaf': 528, 'lambda_l1': 3.971942589250556, 'lambda_l2': 0.16474371358640466, 'max_bin': 100, 'num_leaves': 353}.\n",
      "[I 2019-07-23 02:17:59,961] Finished trial#178 resulted in value: 9.203785797034191. Current best value is 7.401316586325016 with parameters: {'learning_rate': 0.4822173858081333, 'feature_fraction': 0.7695179153572054, 'bagging_fraction': 0.9414942329313656, 'min_data_in_leaf': 528, 'lambda_l1': 3.971942589250556, 'lambda_l2': 0.16474371358640466, 'max_bin': 100, 'num_leaves': 353}.\n",
      "[I 2019-07-23 02:18:50,618] Finished trial#179 resulted in value: 8.007641755074458. Current best value is 7.401316586325016 with parameters: {'learning_rate': 0.4822173858081333, 'feature_fraction': 0.7695179153572054, 'bagging_fraction': 0.9414942329313656, 'min_data_in_leaf': 528, 'lambda_l1': 3.971942589250556, 'lambda_l2': 0.16474371358640466, 'max_bin': 100, 'num_leaves': 353}.\n",
      "[I 2019-07-23 02:19:40,398] Finished trial#180 resulted in value: 7.877134513159203. Current best value is 7.401316586325016 with parameters: {'learning_rate': 0.4822173858081333, 'feature_fraction': 0.7695179153572054, 'bagging_fraction': 0.9414942329313656, 'min_data_in_leaf': 528, 'lambda_l1': 3.971942589250556, 'lambda_l2': 0.16474371358640466, 'max_bin': 100, 'num_leaves': 353}.\n",
      "[I 2019-07-23 02:20:20,434] Finished trial#181 resulted in value: 8.169169615230954. Current best value is 7.401316586325016 with parameters: {'learning_rate': 0.4822173858081333, 'feature_fraction': 0.7695179153572054, 'bagging_fraction': 0.9414942329313656, 'min_data_in_leaf': 528, 'lambda_l1': 3.971942589250556, 'lambda_l2': 0.16474371358640466, 'max_bin': 100, 'num_leaves': 353}.\n",
      "[I 2019-07-23 02:21:04,693] Finished trial#182 resulted in value: 9.0239646049278. Current best value is 7.401316586325016 with parameters: {'learning_rate': 0.4822173858081333, 'feature_fraction': 0.7695179153572054, 'bagging_fraction': 0.9414942329313656, 'min_data_in_leaf': 528, 'lambda_l1': 3.971942589250556, 'lambda_l2': 0.16474371358640466, 'max_bin': 100, 'num_leaves': 353}.\n",
      "[I 2019-07-23 02:21:47,257] Finished trial#183 resulted in value: 8.276718661098881. Current best value is 7.401316586325016 with parameters: {'learning_rate': 0.4822173858081333, 'feature_fraction': 0.7695179153572054, 'bagging_fraction': 0.9414942329313656, 'min_data_in_leaf': 528, 'lambda_l1': 3.971942589250556, 'lambda_l2': 0.16474371358640466, 'max_bin': 100, 'num_leaves': 353}.\n",
      "[I 2019-07-23 02:22:56,106] Finished trial#184 resulted in value: 9.392225053351217. Current best value is 7.401316586325016 with parameters: {'learning_rate': 0.4822173858081333, 'feature_fraction': 0.7695179153572054, 'bagging_fraction': 0.9414942329313656, 'min_data_in_leaf': 528, 'lambda_l1': 3.971942589250556, 'lambda_l2': 0.16474371358640466, 'max_bin': 100, 'num_leaves': 353}.\n",
      "[I 2019-07-23 02:23:39,880] Finished trial#185 resulted in value: 15.379255904763923. Current best value is 7.401316586325016 with parameters: {'learning_rate': 0.4822173858081333, 'feature_fraction': 0.7695179153572054, 'bagging_fraction': 0.9414942329313656, 'min_data_in_leaf': 528, 'lambda_l1': 3.971942589250556, 'lambda_l2': 0.16474371358640466, 'max_bin': 100, 'num_leaves': 353}.\n",
      "[I 2019-07-23 02:24:18,284] Finished trial#186 resulted in value: 7.963850272501524. Current best value is 7.401316586325016 with parameters: {'learning_rate': 0.4822173858081333, 'feature_fraction': 0.7695179153572054, 'bagging_fraction': 0.9414942329313656, 'min_data_in_leaf': 528, 'lambda_l1': 3.971942589250556, 'lambda_l2': 0.16474371358640466, 'max_bin': 100, 'num_leaves': 353}.\n",
      "[I 2019-07-23 02:25:15,874] Finished trial#187 resulted in value: 8.21281370087412. Current best value is 7.401316586325016 with parameters: {'learning_rate': 0.4822173858081333, 'feature_fraction': 0.7695179153572054, 'bagging_fraction': 0.9414942329313656, 'min_data_in_leaf': 528, 'lambda_l1': 3.971942589250556, 'lambda_l2': 0.16474371358640466, 'max_bin': 100, 'num_leaves': 353}.\n",
      "[I 2019-07-23 02:26:09,901] Finished trial#188 resulted in value: 8.821959158833156. Current best value is 7.401316586325016 with parameters: {'learning_rate': 0.4822173858081333, 'feature_fraction': 0.7695179153572054, 'bagging_fraction': 0.9414942329313656, 'min_data_in_leaf': 528, 'lambda_l1': 3.971942589250556, 'lambda_l2': 0.16474371358640466, 'max_bin': 100, 'num_leaves': 353}.\n",
      "[I 2019-07-23 02:27:04,887] Finished trial#189 resulted in value: 11.873328013457373. Current best value is 7.401316586325016 with parameters: {'learning_rate': 0.4822173858081333, 'feature_fraction': 0.7695179153572054, 'bagging_fraction': 0.9414942329313656, 'min_data_in_leaf': 528, 'lambda_l1': 3.971942589250556, 'lambda_l2': 0.16474371358640466, 'max_bin': 100, 'num_leaves': 353}.\n",
      "[I 2019-07-23 02:27:55,984] Finished trial#190 resulted in value: 8.408329925856. Current best value is 7.401316586325016 with parameters: {'learning_rate': 0.4822173858081333, 'feature_fraction': 0.7695179153572054, 'bagging_fraction': 0.9414942329313656, 'min_data_in_leaf': 528, 'lambda_l1': 3.971942589250556, 'lambda_l2': 0.16474371358640466, 'max_bin': 100, 'num_leaves': 353}.\n",
      "[I 2019-07-23 02:28:47,212] Finished trial#191 resulted in value: 8.837597920166553. Current best value is 7.401316586325016 with parameters: {'learning_rate': 0.4822173858081333, 'feature_fraction': 0.7695179153572054, 'bagging_fraction': 0.9414942329313656, 'min_data_in_leaf': 528, 'lambda_l1': 3.971942589250556, 'lambda_l2': 0.16474371358640466, 'max_bin': 100, 'num_leaves': 353}.\n",
      "[I 2019-07-23 02:29:22,976] Finished trial#192 resulted in value: 9.605234207008527. Current best value is 7.401316586325016 with parameters: {'learning_rate': 0.4822173858081333, 'feature_fraction': 0.7695179153572054, 'bagging_fraction': 0.9414942329313656, 'min_data_in_leaf': 528, 'lambda_l1': 3.971942589250556, 'lambda_l2': 0.16474371358640466, 'max_bin': 100, 'num_leaves': 353}.\n",
      "[I 2019-07-23 02:30:24,304] Finished trial#193 resulted in value: 8.261492791967383. Current best value is 7.401316586325016 with parameters: {'learning_rate': 0.4822173858081333, 'feature_fraction': 0.7695179153572054, 'bagging_fraction': 0.9414942329313656, 'min_data_in_leaf': 528, 'lambda_l1': 3.971942589250556, 'lambda_l2': 0.16474371358640466, 'max_bin': 100, 'num_leaves': 353}.\n",
      "[I 2019-07-23 02:31:03,643] Finished trial#194 resulted in value: 8.511918686287268. Current best value is 7.401316586325016 with parameters: {'learning_rate': 0.4822173858081333, 'feature_fraction': 0.7695179153572054, 'bagging_fraction': 0.9414942329313656, 'min_data_in_leaf': 528, 'lambda_l1': 3.971942589250556, 'lambda_l2': 0.16474371358640466, 'max_bin': 100, 'num_leaves': 353}.\n",
      "[I 2019-07-23 02:32:06,194] Finished trial#195 resulted in value: 8.118428655132009. Current best value is 7.401316586325016 with parameters: {'learning_rate': 0.4822173858081333, 'feature_fraction': 0.7695179153572054, 'bagging_fraction': 0.9414942329313656, 'min_data_in_leaf': 528, 'lambda_l1': 3.971942589250556, 'lambda_l2': 0.16474371358640466, 'max_bin': 100, 'num_leaves': 353}.\n",
      "[I 2019-07-23 02:32:55,992] Finished trial#196 resulted in value: 8.715648775775996. Current best value is 7.401316586325016 with parameters: {'learning_rate': 0.4822173858081333, 'feature_fraction': 0.7695179153572054, 'bagging_fraction': 0.9414942329313656, 'min_data_in_leaf': 528, 'lambda_l1': 3.971942589250556, 'lambda_l2': 0.16474371358640466, 'max_bin': 100, 'num_leaves': 353}.\n",
      "[I 2019-07-23 02:33:36,278] Finished trial#197 resulted in value: 9.251196272043837. Current best value is 7.401316586325016 with parameters: {'learning_rate': 0.4822173858081333, 'feature_fraction': 0.7695179153572054, 'bagging_fraction': 0.9414942329313656, 'min_data_in_leaf': 528, 'lambda_l1': 3.971942589250556, 'lambda_l2': 0.16474371358640466, 'max_bin': 100, 'num_leaves': 353}.\n",
      "[I 2019-07-23 02:34:23,511] Finished trial#198 resulted in value: 9.451947052118753. Current best value is 7.401316586325016 with parameters: {'learning_rate': 0.4822173858081333, 'feature_fraction': 0.7695179153572054, 'bagging_fraction': 0.9414942329313656, 'min_data_in_leaf': 528, 'lambda_l1': 3.971942589250556, 'lambda_l2': 0.16474371358640466, 'max_bin': 100, 'num_leaves': 353}.\n",
      "[I 2019-07-23 02:35:14,121] Finished trial#199 resulted in value: 9.172953273074421. Current best value is 7.401316586325016 with parameters: {'learning_rate': 0.4822173858081333, 'feature_fraction': 0.7695179153572054, 'bagging_fraction': 0.9414942329313656, 'min_data_in_leaf': 528, 'lambda_l1': 3.971942589250556, 'lambda_l2': 0.16474371358640466, 'max_bin': 100, 'num_leaves': 353}.\n"
     ]
    }
   ],
   "source": [
    "study = optuna.create_study()\n",
    "study.optimize(objective, n_trials=200)"
   ]
  },
  {
   "cell_type": "code",
   "execution_count": 16,
   "metadata": {},
   "outputs": [
    {
     "data": {
      "text/html": [
       "<div>\n",
       "<style scoped>\n",
       "    .dataframe tbody tr th:only-of-type {\n",
       "        vertical-align: middle;\n",
       "    }\n",
       "\n",
       "    .dataframe tbody tr th {\n",
       "        vertical-align: top;\n",
       "    }\n",
       "\n",
       "    .dataframe thead th {\n",
       "        text-align: right;\n",
       "    }\n",
       "</style>\n",
       "<table border=\"1\" class=\"dataframe\">\n",
       "  <thead>\n",
       "    <tr style=\"text-align: right;\">\n",
       "      <th></th>\n",
       "      <th>datetime</th>\n",
       "      <th>message</th>\n",
       "      <th>nfeatures</th>\n",
       "      <th>train_metric_mean</th>\n",
       "      <th>val_metric_mean</th>\n",
       "      <th>trn_val_metric_diff</th>\n",
       "    </tr>\n",
       "  </thead>\n",
       "  <tbody>\n",
       "    <tr>\n",
       "      <th>135</th>\n",
       "      <td>2019-07-23 01:42:42.622060</td>\n",
       "      <td>tune hyperparam</td>\n",
       "      <td>20</td>\n",
       "      <td>0.529697</td>\n",
       "      <td>7.401317</td>\n",
       "      <td>6.871620</td>\n",
       "    </tr>\n",
       "    <tr>\n",
       "      <th>137</th>\n",
       "      <td>2019-07-23 01:44:13.223997</td>\n",
       "      <td>tune hyperparam</td>\n",
       "      <td>20</td>\n",
       "      <td>0.544194</td>\n",
       "      <td>7.431582</td>\n",
       "      <td>6.887389</td>\n",
       "    </tr>\n",
       "    <tr>\n",
       "      <th>98</th>\n",
       "      <td>2019-07-23 01:16:30.136841</td>\n",
       "      <td>tune hyperparam</td>\n",
       "      <td>20</td>\n",
       "      <td>0.518375</td>\n",
       "      <td>7.450919</td>\n",
       "      <td>6.932544</td>\n",
       "    </tr>\n",
       "    <tr>\n",
       "      <th>42</th>\n",
       "      <td>2019-07-23 00:28:11.572068</td>\n",
       "      <td>tune hyperparam</td>\n",
       "      <td>20</td>\n",
       "      <td>0.487404</td>\n",
       "      <td>7.563506</td>\n",
       "      <td>7.076102</td>\n",
       "    </tr>\n",
       "    <tr>\n",
       "      <th>148</th>\n",
       "      <td>2019-07-23 01:52:52.592693</td>\n",
       "      <td>tune hyperparam</td>\n",
       "      <td>20</td>\n",
       "      <td>0.542800</td>\n",
       "      <td>7.577832</td>\n",
       "      <td>7.035031</td>\n",
       "    </tr>\n",
       "  </tbody>\n",
       "</table>\n",
       "</div>"
      ],
      "text/plain": [
       "                      datetime          message  nfeatures  train_metric_mean  \\\n",
       "135 2019-07-23 01:42:42.622060  tune hyperparam         20           0.529697   \n",
       "137 2019-07-23 01:44:13.223997  tune hyperparam         20           0.544194   \n",
       "98  2019-07-23 01:16:30.136841  tune hyperparam         20           0.518375   \n",
       "42  2019-07-23 00:28:11.572068  tune hyperparam         20           0.487404   \n",
       "148 2019-07-23 01:52:52.592693  tune hyperparam         20           0.542800   \n",
       "\n",
       "     val_metric_mean  trn_val_metric_diff  \n",
       "135         7.401317             6.871620  \n",
       "137         7.431582             6.887389  \n",
       "98          7.450919             6.932544  \n",
       "42          7.563506             7.076102  \n",
       "148         7.577832             7.035031  "
      ]
     },
     "execution_count": 16,
     "metadata": {},
     "output_type": "execute_result"
    }
   ],
   "source": [
    "df_trial = pd.DataFrame(mytrial)\n",
    "df_trial[df_trial['message']=='tune hyperparam'][['datetime', 'message', 'nfeatures', 'train_metric_mean', 'val_metric_mean', 'trn_val_metric_diff']].sort_values(by=['val_metric_mean']).head()"
   ]
  },
  {
   "cell_type": "code",
   "execution_count": null,
   "metadata": {},
   "outputs": [],
   "source": []
  }
 ],
 "metadata": {
  "kernelspec": {
   "display_name": "Python 3",
   "language": "python",
   "name": "python3"
  },
  "language_info": {
   "codemirror_mode": {
    "name": "ipython",
    "version": 3
   },
   "file_extension": ".py",
   "mimetype": "text/x-python",
   "name": "python",
   "nbconvert_exporter": "python",
   "pygments_lexer": "ipython3",
   "version": "3.6.8"
  }
 },
 "nbformat": 4,
 "nbformat_minor": 2
}
