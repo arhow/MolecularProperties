{
 "cells": [
  {
   "cell_type": "code",
   "execution_count": 2,
   "metadata": {},
   "outputs": [
    {
     "data": {
      "text/html": [
       "<style>\n",
       "   div#notebook-container    { width: 95%; }\n",
       "   div#menubar-container     { width: 65%; }\n",
       "   div#maintoolbar-container { width: 99%; }\n",
       "</style>"
      ],
      "text/plain": [
       "<IPython.core.display.HTML object>"
      ]
     },
     "metadata": {},
     "output_type": "display_data"
    }
   ],
   "source": [
    "%%HTML\n",
    "<style>\n",
    "   div#notebook-container    { width: 95%; }\n",
    "   div#menubar-container     { width: 65%; }\n",
    "   div#maintoolbar-container { width: 99%; }\n",
    "</style>"
   ]
  },
  {
   "cell_type": "code",
   "execution_count": 20,
   "metadata": {},
   "outputs": [
    {
     "data": {
      "text/plain": [
       "\"\\n\\nlst_ = [1,2,3,4]\\n\\ndef objective(item):\\n    return {'data':item + 3}\\n\\nparalel = Parallel(objective)\\n\\ndf_ = pd.DataFrame(paralel.run(lst_))\\n\\n\""
      ]
     },
     "execution_count": 20,
     "metadata": {},
     "output_type": "execute_result"
    }
   ],
   "source": [
    "from multiprocessing import Pool, Value, Manager\n",
    "from multiprocessing import Queue as PQueue\n",
    "import multiprocessing\n",
    "import numpy as np\n",
    "import pandas as pd\n",
    "import time\n",
    "import sys\n",
    "\n",
    "\n",
    "class Parallel(object):\n",
    "\n",
    "    \"\"\"\n",
    "    generate samples from some data structure\n",
    "    \"\"\"\n",
    "\n",
    "    def __init__(self, objective, objective_kwargs):\n",
    "        self.objective = objective\n",
    "        self.objective_kwargs = objective_kwargs\n",
    "        return\n",
    "\n",
    "    def run(self, iterable_obj, n_jobs=-1):\n",
    "\n",
    "        try:\n",
    "            iter(iterable_obj)\n",
    "        except Exception as e:\n",
    "            raise Exception(e.__str__())\n",
    "\n",
    "        self.X = Manager().list()\n",
    "        if n_jobs == -1:\n",
    "            import multiprocessing\n",
    "            n_jobs = multiprocessing.cpu_count()\n",
    "        pool = Pool(n_jobs)\n",
    "\n",
    "        params = []\n",
    "        for item in iterable_obj:\n",
    "            params.append((item,))\n",
    "        pool.starmap(self.worker, params)\n",
    "        pool.close()\n",
    "        pool.join()\n",
    "        return list(self.X)\n",
    "\n",
    "\n",
    "    def worker(self, item):\n",
    "        try:\n",
    "            d_ = self.objective(item, **self.objective_kwargs)\n",
    "            assert type(d_)==dict, 'objective not return a dict object'\n",
    "            self.X.append({**d_})\n",
    "        except Exception as e:\n",
    "            raise Exception()\n"
   ]
  },
  {
   "cell_type": "code",
   "execution_count": 28,
   "metadata": {},
   "outputs": [],
   "source": [
    "a = [1,2,3,4,5,6,7,8,9,10]"
   ]
  },
  {
   "cell_type": "code",
   "execution_count": 42,
   "metadata": {},
   "outputs": [],
   "source": [
    "df_info = pd.DataFrame({'a':[1,2,3], 'b':[5,6,7]})\n",
    "\n",
    "def func_b_sub(a, b, c, df):\n",
    "    return a + b + c + df.shape[0]*10\n",
    "\n",
    "def func_b(item,  cc, **kwargs):\n",
    "    id_ = item[0]\n",
    "    x_ = item[1]\n",
    "    return {'b':x_ + 10 + func_b_sub(**kwargs), 'idx':id_}"
   ]
  },
  {
   "cell_type": "code",
   "execution_count": 43,
   "metadata": {},
   "outputs": [
    {
     "name": "stdout",
     "output_type": "stream",
     "text": [
      "[{'b': 341, 'idx': 0}, {'b': 342, 'idx': 1}, {'b': 343, 'idx': 2}, {'b': 344, 'idx': 3}, {'b': 345, 'idx': 4}, {'b': 346, 'idx': 5}, {'b': 347, 'idx': 6}, {'b': 348, 'idx': 7}, {'b': 349, 'idx': 8}, {'b': 350, 'idx': 9}]\n"
     ]
    }
   ],
   "source": [
    "r = []\n",
    "for item in enumerate(a):\n",
    "    b = func_b(item, 10, a=100,b=100,c=100, df=df_info)\n",
    "    r.append(b)\n",
    "print(r)"
   ]
  },
  {
   "cell_type": "code",
   "execution_count": 45,
   "metadata": {},
   "outputs": [
    {
     "name": "stdout",
     "output_type": "stream",
     "text": [
      "[{'b': 344, 'idx': 3}, {'b': 343, 'idx': 2}, {'b': 341, 'idx': 0}, {'b': 342, 'idx': 1}, {'b': 348, 'idx': 7}, {'b': 346, 'idx': 5}, {'b': 345, 'idx': 4}, {'b': 349, 'idx': 8}, {'b': 350, 'idx': 9}, {'b': 347, 'idx': 6}]\n"
     ]
    }
   ],
   "source": [
    "r = Parallel(func_b,{'cc':10,'a':100,'b':100,'c':100, 'df':df_info}).run(enumerate(a))\n",
    "print(r)"
   ]
  },
  {
   "cell_type": "code",
   "execution_count": 6,
   "metadata": {},
   "outputs": [
    {
     "name": "stdout",
     "output_type": "stream",
     "text": [
      "Before calling foo\n",
      "Hi, foo has been called with Hi\n",
      "After calling foo\n"
     ]
    }
   ],
   "source": [
    "def parallel_decorator(func):\n",
    "    def function_wrapper(**kwargs):\n",
    "        func(**kwargs)\n",
    "    return function_wrapper\n",
    "\n",
    "@our_decorator\n",
    "def foo(x, y, z):\n",
    "    print(\"Hi, foo has been called with \" + str(x))\n",
    "\n",
    "foo(\"Hi\", 'b', 'c')"
   ]
  },
  {
   "cell_type": "code",
   "execution_count": null,
   "metadata": {},
   "outputs": [],
   "source": [
    "def do_twice(func):\n",
    "    def wrapper_do_twice():\n",
    "        func()\n",
    "        func()\n",
    "    return wrapper_do_twice\n",
    "\n",
    "from decorators import do_twice\n",
    "\n",
    "@do_twice\n",
    "def say_whee():\n",
    "    print(\"Whee!\")"
   ]
  }
 ],
 "metadata": {
  "kernelspec": {
   "display_name": "Environment (conda_tensorflow_gpu_p36)",
   "language": "python",
   "name": "conda_tensorflow_gpu_p36"
  },
  "language_info": {
   "codemirror_mode": {
    "name": "ipython",
    "version": 3
   },
   "file_extension": ".py",
   "mimetype": "text/x-python",
   "name": "python",
   "nbconvert_exporter": "python",
   "pygments_lexer": "ipython3",
   "version": "3.6.5"
  }
 },
 "nbformat": 4,
 "nbformat_minor": 2
}
