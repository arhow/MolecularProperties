{
 "cells": [
  {
   "cell_type": "code",
   "execution_count": 1,
   "metadata": {},
   "outputs": [
    {
     "data": {
      "text/html": [
       "<style>\n",
       "   div#notebook-container    { width: 95%; }\n",
       "   div#menubar-container     { width: 65%; }\n",
       "   div#maintoolbar-container { width: 99%; }\n",
       "</style>"
      ],
      "text/plain": [
       "<IPython.core.display.HTML object>"
      ]
     },
     "metadata": {},
     "output_type": "display_data"
    }
   ],
   "source": [
    "%%HTML\n",
    "<style>\n",
    "   div#notebook-container    { width: 95%; }\n",
    "   div#menubar-container     { width: 65%; }\n",
    "   div#maintoolbar-container { width: 99%; }\n",
    "</style>"
   ]
  },
  {
   "cell_type": "code",
   "execution_count": 6,
   "metadata": {},
   "outputs": [],
   "source": [
    "import os\n",
    "import pandas as pd\n",
    "import numpy as np\n",
    "from tqdm import tqdm\n",
    "\n",
    "import numpy as np\n",
    "import pandas as pd\n",
    "import random\n",
    "\n",
    "import plotly.graph_objs as go\n",
    "from plotly.offline import init_notebook_mode, iplot\n",
    "from sympy.geometry import Point3D"
   ]
  },
  {
   "cell_type": "code",
   "execution_count": 4,
   "metadata": {},
   "outputs": [
    {
     "data": {
      "text/plain": [
       "['sample_submission.csv',\n",
       " 'magnetic_shielding_tensors.csv',\n",
       " 'potential_energy.csv',\n",
       " 'scalar_coupling_contributions.csv',\n",
       " 'dipole_moments.csv',\n",
       " 'mulliken_charges.csv',\n",
       " 'train.csv',\n",
       " 'test.csv',\n",
       " 'structures.csv',\n",
       " 'structures']"
      ]
     },
     "execution_count": 4,
     "metadata": {},
     "output_type": "execute_result"
    }
   ],
   "source": [
    "file_folder = '../../data/input'\n",
    "os.listdir(file_folder)"
   ]
  },
  {
   "cell_type": "code",
   "execution_count": 5,
   "metadata": {},
   "outputs": [],
   "source": [
    "train = pd.read_csv(f'{file_folder}/train.csv')\n",
    "test = pd.read_csv(f'{file_folder}/test.csv')\n",
    "magnetic_shielding_tensors = pd.read_csv(f'{file_folder}/magnetic_shielding_tensors.csv')\n",
    "dipole_moments = pd.read_csv(f'{file_folder}/dipole_moments.csv')\n",
    "mulliken_charges = pd.read_csv(f'{file_folder}/mulliken_charges.csv')\n",
    "potential_energy = pd.read_csv(f'{file_folder}/potential_energy.csv')\n",
    "scalar_coupling_contributions = pd.read_csv(f'{file_folder}/scalar_coupling_contributions.csv')\n",
    "structures = pd.read_csv(f'{file_folder}/structures.csv')"
   ]
  },
  {
   "cell_type": "code",
   "execution_count": 11,
   "metadata": {},
   "outputs": [
    {
     "data": {
      "text/html": [
       "<script>requirejs.config({paths: { 'plotly': ['https://cdn.plot.ly/plotly-latest.min']},});if(!window.Plotly) {{require(['plotly'],function(plotly) {window.Plotly=plotly;});}}</script>"
      ],
      "text/vnd.plotly.v1+html": [
       "<script>requirejs.config({paths: { 'plotly': ['https://cdn.plot.ly/plotly-latest.min']},});if(!window.Plotly) {{require(['plotly'],function(plotly) {window.Plotly=plotly;});}}</script>"
      ]
     },
     "metadata": {},
     "output_type": "display_data"
    }
   ],
   "source": [
    "\n",
    "\n",
    "# structures = pd.read_csv('../input/structures.csv')\n",
    "molecule_names = structures.molecule_name.unique()\n",
    "\n",
    "# initiate the plotly notebook mode\n",
    "init_notebook_mode(connected=True)\n",
    "\n",
    "\n",
    "def plot_molecule(molecule_name, structures_df):\n",
    "    \"\"\"Creates a 3D plot of the molecule\"\"\"\n",
    "    \n",
    "    atomic_radii = dict(C=0.77, F=0.71, H=0.38, N=0.75, O=0.73)  \n",
    "    cpk_colors = dict(C='black', F='green', H='white', N='blue', O='red')\n",
    "\n",
    "    molecule = structures_df[structures_df.molecule_name == molecule_name]\n",
    "    coordinates = molecule[['x', 'y', 'z']].values\n",
    "    x_coordinates = coordinates[:, 0]\n",
    "    y_coordinates = coordinates[:, 1]\n",
    "    z_coordinates = coordinates[:, 2]\n",
    "    elements = molecule.atom.tolist()\n",
    "    radii = [atomic_radii[element] for element in elements]\n",
    "    \n",
    "    def get_bonds():\n",
    "        \"\"\"Generates a set of bonds from atomic cartesian coordinates\"\"\"\n",
    "        ids = np.arange(coordinates.shape[0])\n",
    "        bonds = dict()\n",
    "        coordinates_compare, radii_compare, ids_compare = coordinates, radii, ids\n",
    "        \n",
    "        for _ in range(len(ids)):\n",
    "            coordinates_compare = np.roll(coordinates_compare, -1, axis=0)\n",
    "            radii_compare = np.roll(radii_compare, -1, axis=0)\n",
    "            ids_compare = np.roll(ids_compare, -1, axis=0)\n",
    "            distances = np.linalg.norm(coordinates - coordinates_compare, axis=1)\n",
    "            bond_distances = (radii + radii_compare) * 1.3\n",
    "            mask = np.logical_and(distances > 0.1, distances <  bond_distances)\n",
    "            distances = distances.round(2)\n",
    "            new_bonds = {frozenset([i, j]): dist for i, j, dist in zip(ids[mask], ids_compare[mask], distances[mask])}\n",
    "            bonds.update(new_bonds)\n",
    "        return bonds            \n",
    "            \n",
    "    def atom_trace():\n",
    "        \"\"\"Creates an atom trace for the plot\"\"\"\n",
    "        colors = [cpk_colors[element] for element in elements]\n",
    "        markers = dict(color=colors, line=dict(color='lightgray', width=2), size=7, symbol='circle', opacity=0.8)\n",
    "        trace = go.Scatter3d(x=x_coordinates, y=y_coordinates, z=z_coordinates, mode='markers', marker=markers,\n",
    "                             text=elements, name='')\n",
    "        return trace\n",
    "\n",
    "    def bond_trace():\n",
    "        \"\"\"\"Creates a bond trace for the plot\"\"\"\n",
    "        trace = go.Scatter3d(x=[], y=[], z=[], hoverinfo='none', mode='lines',\n",
    "                             marker=dict(color='grey', size=7, opacity=1))\n",
    "        for i, j in bonds.keys():\n",
    "            trace['x'] += (x_coordinates[i], x_coordinates[j], None)\n",
    "            trace['y'] += (y_coordinates[i], y_coordinates[j], None)\n",
    "            trace['z'] += (z_coordinates[i], z_coordinates[j], None)\n",
    "        return trace\n",
    "    \n",
    "    bonds = get_bonds()\n",
    "    \n",
    "    zipped = zip(range(len(elements)), x_coordinates, y_coordinates, z_coordinates)\n",
    "    annotations_id = [dict(text=num, x=x, y=y, z=z, showarrow=False, yshift=15, font = dict(color = \"blue\")) for num, x, y, z in zipped]\n",
    "    \n",
    "    annotations_length = []\n",
    "    for (i, j), dist in bonds.items():\n",
    "        p_i, p_j = Point3D(coordinates[i]), Point3D(coordinates[j])\n",
    "        p = p_i.midpoint(p_j)\n",
    "        annotation = dict(text=dist, x=float(p.x), y=float(p.y), z=float(p.z), showarrow=False, yshift=15)\n",
    "        annotations_length.append(annotation)   \n",
    "    \n",
    "    updatemenus = list([\n",
    "        dict(buttons=list([\n",
    "                 dict(label = 'Atom indices',\n",
    "                      method = 'relayout',\n",
    "                      args = [{'scene.annotations': annotations_id}]),\n",
    "                 dict(label = 'Bond lengths',\n",
    "                      method = 'relayout',\n",
    "                      args = [{'scene.annotations': annotations_length}]),\n",
    "                 dict(label = 'Atom indices & Bond lengths',\n",
    "                      method = 'relayout',\n",
    "                      args = [{'scene.annotations': annotations_id + annotations_length}]),\n",
    "                 dict(label = 'Hide all',\n",
    "                      method = 'relayout',\n",
    "                      args = [{'scene.annotations': []}])\n",
    "                 ]),\n",
    "                 direction='down',\n",
    "                 xanchor = 'left',\n",
    "                 yanchor = 'top'\n",
    "            ),        \n",
    "    ])\n",
    "    \n",
    "    data = [atom_trace(), bond_trace()]\n",
    "    axis_params = dict(showgrid=False, showbackground=False, showticklabels=False, zeroline=False, titlefont=dict(color='white'))\n",
    "    layout = dict(scene=dict(xaxis=axis_params, yaxis=axis_params, zaxis=axis_params, annotations=annotations_id), \n",
    "                  margin=dict(r=0, l=0, b=0, t=0), showlegend=False, updatemenus=updatemenus)\n",
    "\n",
    "    fig = go.Figure(data=data, layout=layout)\n",
    "    iplot(fig)"
   ]
  },
  {
   "cell_type": "code",
   "execution_count": 8,
   "metadata": {},
   "outputs": [
    {
     "data": {
      "application/vnd.plotly.v1+json": {
       "data": [
        {
         "marker": {
          "color": [
           "black",
           "black",
           "red",
           "black",
           "black",
           "black",
           "black",
           "black",
           "red",
           "white",
           "white",
           "white",
           "white",
           "white",
           "white",
           "white",
           "white",
           "white",
           "white"
          ],
          "line": {
           "color": "lightgray",
           "width": 2
          },
          "opacity": 0.8,
          "size": 7,
          "symbol": "circle"
         },
         "mode": "markers",
         "name": "",
         "text": [
          "C",
          "C",
          "O",
          "C",
          "C",
          "C",
          "C",
          "C",
          "O",
          "H",
          "H",
          "H",
          "H",
          "H",
          "H",
          "H",
          "H",
          "H",
          "H"
         ],
         "type": "scatter3d",
         "x": [
          0.1036607904,
          0.08769015390000001,
          0.7320866386,
          0.7643199156,
          1.331084809,
          1.817445524,
          1.361455544,
          0.7580245041,
          0.7267014086,
          1.131992445,
          -0.4708486295,
          -0.3216672192,
          -0.9594311727,
          -0.2458457486,
          1.376682521,
          2.652325425,
          2.146069335,
          1.026560788,
          1.778622327
         ],
         "y": [
          1.554271758,
          0.0374637831,
          -0.4735702124,
          -1.8777627590000001,
          -2.524484483,
          -3.9355053389999997,
          -1.83074258,
          -0.49411224189999997,
          0.1278960102,
          1.9130969230000001,
          1.897893866,
          1.970671932,
          -0.3229045061,
          -2.292767253,
          -2.135569765,
          -3.992813623,
          -4.343031003,
          -4.584041722,
          -2.245673577
         ],
         "z": [
          -0.0771505621,
          -0.0007340558999999999,
          -1.1621931509999999,
          -1.2223528240000001,
          0.0172714073,
          -0.11890987199999999,
          1.165680062,
          1.276199901,
          2.32030235,
          -0.17544429960000002,
          -0.9404722146,
          0.8371813133,
          0.0261160332,
          -1.4109943180000002,
          -2.094234302,
          -0.8285310054,
          0.839452632,
          -0.5168002451,
          2.078934161
         ]
        },
        {
         "hoverinfo": "none",
         "marker": {
          "color": "grey",
          "opacity": 1,
          "size": 7
         },
         "mode": "lines",
         "type": "scatter3d",
         "x": [
          0.1036607904,
          0.08769015390000001,
          null,
          0.08769015390000001,
          0.7320866386,
          null,
          0.7320866386,
          0.7643199156,
          null,
          0.7643199156,
          1.331084809,
          null,
          1.331084809,
          1.817445524,
          null,
          1.361455544,
          0.7580245041,
          null,
          0.7267014086,
          0.7580245041,
          null,
          1.331084809,
          1.361455544,
          null,
          0.08769015390000001,
          0.7580245041,
          null,
          1.026560788,
          1.817445524,
          null,
          1.778622327,
          1.361455544,
          null,
          0.1036607904,
          -0.3216672192,
          null,
          0.08769015390000001,
          -0.9594311727,
          null,
          0.7643199156,
          1.376682521,
          null,
          2.146069335,
          1.817445524,
          null,
          0.1036607904,
          1.131992445,
          null,
          0.1036607904,
          -0.4708486295,
          null,
          0.7643199156,
          -0.2458457486,
          null,
          1.817445524,
          2.652325425,
          null
         ],
         "y": [
          1.554271758,
          0.0374637831,
          null,
          0.0374637831,
          -0.4735702124,
          null,
          -0.4735702124,
          -1.8777627590000001,
          null,
          -1.8777627590000001,
          -2.524484483,
          null,
          -2.524484483,
          -3.9355053389999997,
          null,
          -1.83074258,
          -0.49411224189999997,
          null,
          0.1278960102,
          -0.49411224189999997,
          null,
          -2.524484483,
          -1.83074258,
          null,
          0.0374637831,
          -0.49411224189999997,
          null,
          -4.584041722,
          -3.9355053389999997,
          null,
          -2.245673577,
          -1.83074258,
          null,
          1.554271758,
          1.970671932,
          null,
          0.0374637831,
          -0.3229045061,
          null,
          -1.8777627590000001,
          -2.135569765,
          null,
          -4.343031003,
          -3.9355053389999997,
          null,
          1.554271758,
          1.9130969230000001,
          null,
          1.554271758,
          1.897893866,
          null,
          -1.8777627590000001,
          -2.292767253,
          null,
          -3.9355053389999997,
          -3.992813623,
          null
         ],
         "z": [
          -0.0771505621,
          -0.0007340558999999999,
          null,
          -0.0007340558999999999,
          -1.1621931509999999,
          null,
          -1.1621931509999999,
          -1.2223528240000001,
          null,
          -1.2223528240000001,
          0.0172714073,
          null,
          0.0172714073,
          -0.11890987199999999,
          null,
          1.165680062,
          1.276199901,
          null,
          2.32030235,
          1.276199901,
          null,
          0.0172714073,
          1.165680062,
          null,
          -0.0007340558999999999,
          1.276199901,
          null,
          -0.5168002451,
          -0.11890987199999999,
          null,
          2.078934161,
          1.165680062,
          null,
          -0.0771505621,
          0.8371813133,
          null,
          -0.0007340558999999999,
          0.0261160332,
          null,
          -1.2223528240000001,
          -2.094234302,
          null,
          0.839452632,
          -0.11890987199999999,
          null,
          -0.0771505621,
          -0.17544429960000002,
          null,
          -0.0771505621,
          -0.9404722146,
          null,
          -1.2223528240000001,
          -1.4109943180000002,
          null,
          -0.11890987199999999,
          -0.8285310054,
          null
         ]
        }
       ],
       "layout": {
        "margin": {
         "b": 0,
         "l": 0,
         "r": 0,
         "t": 0
        },
        "scene": {
         "annotations": [
          {
           "font": {
            "color": "blue"
           },
           "showarrow": false,
           "text": 0,
           "x": 0.1036607904,
           "y": 1.554271758,
           "yshift": 15,
           "z": -0.0771505621
          },
          {
           "font": {
            "color": "blue"
           },
           "showarrow": false,
           "text": 1,
           "x": 0.08769015390000001,
           "y": 0.0374637831,
           "yshift": 15,
           "z": -0.0007340558999999999
          },
          {
           "font": {
            "color": "blue"
           },
           "showarrow": false,
           "text": 2,
           "x": 0.7320866386,
           "y": -0.4735702124,
           "yshift": 15,
           "z": -1.1621931509999999
          },
          {
           "font": {
            "color": "blue"
           },
           "showarrow": false,
           "text": 3,
           "x": 0.7643199156,
           "y": -1.8777627590000001,
           "yshift": 15,
           "z": -1.2223528240000001
          },
          {
           "font": {
            "color": "blue"
           },
           "showarrow": false,
           "text": 4,
           "x": 1.331084809,
           "y": -2.524484483,
           "yshift": 15,
           "z": 0.0172714073
          },
          {
           "font": {
            "color": "blue"
           },
           "showarrow": false,
           "text": 5,
           "x": 1.817445524,
           "y": -3.9355053389999997,
           "yshift": 15,
           "z": -0.11890987199999999
          },
          {
           "font": {
            "color": "blue"
           },
           "showarrow": false,
           "text": 6,
           "x": 1.361455544,
           "y": -1.83074258,
           "yshift": 15,
           "z": 1.165680062
          },
          {
           "font": {
            "color": "blue"
           },
           "showarrow": false,
           "text": 7,
           "x": 0.7580245041,
           "y": -0.49411224189999997,
           "yshift": 15,
           "z": 1.276199901
          },
          {
           "font": {
            "color": "blue"
           },
           "showarrow": false,
           "text": 8,
           "x": 0.7267014086,
           "y": 0.1278960102,
           "yshift": 15,
           "z": 2.32030235
          },
          {
           "font": {
            "color": "blue"
           },
           "showarrow": false,
           "text": 9,
           "x": 1.131992445,
           "y": 1.9130969230000001,
           "yshift": 15,
           "z": -0.17544429960000002
          },
          {
           "font": {
            "color": "blue"
           },
           "showarrow": false,
           "text": 10,
           "x": -0.4708486295,
           "y": 1.897893866,
           "yshift": 15,
           "z": -0.9404722146
          },
          {
           "font": {
            "color": "blue"
           },
           "showarrow": false,
           "text": 11,
           "x": -0.3216672192,
           "y": 1.970671932,
           "yshift": 15,
           "z": 0.8371813133
          },
          {
           "font": {
            "color": "blue"
           },
           "showarrow": false,
           "text": 12,
           "x": -0.9594311727,
           "y": -0.3229045061,
           "yshift": 15,
           "z": 0.0261160332
          },
          {
           "font": {
            "color": "blue"
           },
           "showarrow": false,
           "text": 13,
           "x": -0.2458457486,
           "y": -2.292767253,
           "yshift": 15,
           "z": -1.4109943180000002
          },
          {
           "font": {
            "color": "blue"
           },
           "showarrow": false,
           "text": 14,
           "x": 1.376682521,
           "y": -2.135569765,
           "yshift": 15,
           "z": -2.094234302
          },
          {
           "font": {
            "color": "blue"
           },
           "showarrow": false,
           "text": 15,
           "x": 2.652325425,
           "y": -3.992813623,
           "yshift": 15,
           "z": -0.8285310054
          },
          {
           "font": {
            "color": "blue"
           },
           "showarrow": false,
           "text": 16,
           "x": 2.146069335,
           "y": -4.343031003,
           "yshift": 15,
           "z": 0.839452632
          },
          {
           "font": {
            "color": "blue"
           },
           "showarrow": false,
           "text": 17,
           "x": 1.026560788,
           "y": -4.584041722,
           "yshift": 15,
           "z": -0.5168002451
          },
          {
           "font": {
            "color": "blue"
           },
           "showarrow": false,
           "text": 18,
           "x": 1.778622327,
           "y": -2.245673577,
           "yshift": 15,
           "z": 2.078934161
          }
         ],
         "xaxis": {
          "showbackground": false,
          "showgrid": false,
          "showticklabels": false,
          "titlefont": {
           "color": "white"
          },
          "zeroline": false
         },
         "yaxis": {
          "showbackground": false,
          "showgrid": false,
          "showticklabels": false,
          "titlefont": {
           "color": "white"
          },
          "zeroline": false
         },
         "zaxis": {
          "showbackground": false,
          "showgrid": false,
          "showticklabels": false,
          "titlefont": {
           "color": "white"
          },
          "zeroline": false
         }
        },
        "showlegend": false,
        "updatemenus": [
         {
          "buttons": [
           {
            "args": [
             {
              "scene.annotations": [
               {
                "font": {
                 "color": "blue"
                },
                "showarrow": false,
                "text": 0,
                "x": 0.1036607904,
                "y": 1.554271758,
                "yshift": 15,
                "z": -0.0771505621
               },
               {
                "font": {
                 "color": "blue"
                },
                "showarrow": false,
                "text": 1,
                "x": 0.08769015390000001,
                "y": 0.0374637831,
                "yshift": 15,
                "z": -0.0007340558999999999
               },
               {
                "font": {
                 "color": "blue"
                },
                "showarrow": false,
                "text": 2,
                "x": 0.7320866386,
                "y": -0.4735702124,
                "yshift": 15,
                "z": -1.1621931509999999
               },
               {
                "font": {
                 "color": "blue"
                },
                "showarrow": false,
                "text": 3,
                "x": 0.7643199156,
                "y": -1.8777627590000001,
                "yshift": 15,
                "z": -1.2223528240000001
               },
               {
                "font": {
                 "color": "blue"
                },
                "showarrow": false,
                "text": 4,
                "x": 1.331084809,
                "y": -2.524484483,
                "yshift": 15,
                "z": 0.0172714073
               },
               {
                "font": {
                 "color": "blue"
                },
                "showarrow": false,
                "text": 5,
                "x": 1.817445524,
                "y": -3.9355053389999997,
                "yshift": 15,
                "z": -0.11890987199999999
               },
               {
                "font": {
                 "color": "blue"
                },
                "showarrow": false,
                "text": 6,
                "x": 1.361455544,
                "y": -1.83074258,
                "yshift": 15,
                "z": 1.165680062
               },
               {
                "font": {
                 "color": "blue"
                },
                "showarrow": false,
                "text": 7,
                "x": 0.7580245041,
                "y": -0.49411224189999997,
                "yshift": 15,
                "z": 1.276199901
               },
               {
                "font": {
                 "color": "blue"
                },
                "showarrow": false,
                "text": 8,
                "x": 0.7267014086,
                "y": 0.1278960102,
                "yshift": 15,
                "z": 2.32030235
               },
               {
                "font": {
                 "color": "blue"
                },
                "showarrow": false,
                "text": 9,
                "x": 1.131992445,
                "y": 1.9130969230000001,
                "yshift": 15,
                "z": -0.17544429960000002
               },
               {
                "font": {
                 "color": "blue"
                },
                "showarrow": false,
                "text": 10,
                "x": -0.4708486295,
                "y": 1.897893866,
                "yshift": 15,
                "z": -0.9404722146
               },
               {
                "font": {
                 "color": "blue"
                },
                "showarrow": false,
                "text": 11,
                "x": -0.3216672192,
                "y": 1.970671932,
                "yshift": 15,
                "z": 0.8371813133
               },
               {
                "font": {
                 "color": "blue"
                },
                "showarrow": false,
                "text": 12,
                "x": -0.9594311727,
                "y": -0.3229045061,
                "yshift": 15,
                "z": 0.0261160332
               },
               {
                "font": {
                 "color": "blue"
                },
                "showarrow": false,
                "text": 13,
                "x": -0.2458457486,
                "y": -2.292767253,
                "yshift": 15,
                "z": -1.4109943180000002
               },
               {
                "font": {
                 "color": "blue"
                },
                "showarrow": false,
                "text": 14,
                "x": 1.376682521,
                "y": -2.135569765,
                "yshift": 15,
                "z": -2.094234302
               },
               {
                "font": {
                 "color": "blue"
                },
                "showarrow": false,
                "text": 15,
                "x": 2.652325425,
                "y": -3.992813623,
                "yshift": 15,
                "z": -0.8285310054
               },
               {
                "font": {
                 "color": "blue"
                },
                "showarrow": false,
                "text": 16,
                "x": 2.146069335,
                "y": -4.343031003,
                "yshift": 15,
                "z": 0.839452632
               },
               {
                "font": {
                 "color": "blue"
                },
                "showarrow": false,
                "text": 17,
                "x": 1.026560788,
                "y": -4.584041722,
                "yshift": 15,
                "z": -0.5168002451
               },
               {
                "font": {
                 "color": "blue"
                },
                "showarrow": false,
                "text": 18,
                "x": 1.778622327,
                "y": -2.245673577,
                "yshift": 15,
                "z": 2.078934161
               }
              ]
             }
            ],
            "label": "Atom indices",
            "method": "relayout"
           },
           {
            "args": [
             {
              "scene.annotations": [
               {
                "showarrow": false,
                "text": 1.52,
                "x": 0.09567547215,
                "y": 0.79586777055,
                "yshift": 15,
                "z": -0.038942309
               },
               {
                "showarrow": false,
                "text": 1.42,
                "x": 0.40988839625,
                "y": -0.21805321465,
                "yshift": 15,
                "z": -0.58146360345
               },
               {
                "showarrow": false,
                "text": 1.41,
                "x": 0.7482032771,
                "y": -1.1756664857,
                "yshift": 15,
                "z": -1.1922729875
               },
               {
                "showarrow": false,
                "text": 1.51,
                "x": 1.0477023623,
                "y": -2.201123621,
                "yshift": 15,
                "z": -0.60254070835
               },
               {
                "showarrow": false,
                "text": 1.5,
                "x": 1.5742651665,
                "y": -3.229994911,
                "yshift": 15,
                "z": -0.05081923235
               },
               {
                "showarrow": false,
                "text": 1.47,
                "x": 1.05974002405,
                "y": -1.16242741095,
                "yshift": 15,
                "z": 1.2209399815
               },
               {
                "showarrow": false,
                "text": 1.22,
                "x": 0.74236295635,
                "y": -0.18310811585,
                "yshift": 15,
                "z": 1.7982511255
               },
               {
                "showarrow": false,
                "text": 1.34,
                "x": 1.3462701765,
                "y": -2.1776135315,
                "yshift": 15,
                "z": 0.59147573465
               },
               {
                "showarrow": false,
                "text": 1.54,
                "x": 0.422857329,
                "y": -0.2283242294,
                "yshift": 15,
                "z": 0.63773292255
               },
               {
                "showarrow": false,
                "text": 1.1,
                "x": 1.422003156,
                "y": -4.2597735305,
                "yshift": 15,
                "z": -0.31785505855
               },
               {
                "showarrow": false,
                "text": 1.09,
                "x": 1.5700389355,
                "y": -2.0382080785,
                "yshift": 15,
                "z": 1.6223071115
               },
               {
                "showarrow": false,
                "text": 1.09,
                "x": -0.1090032144,
                "y": 1.762471845,
                "yshift": 15,
                "z": 0.3800153756
               },
               {
                "showarrow": false,
                "text": 1.11,
                "x": -0.4358705094,
                "y": -0.1427203615,
                "yshift": 15,
                "z": 0.01269098865
               },
               {
                "showarrow": false,
                "text": 1.1,
                "x": 1.0705012183,
                "y": -2.006666262,
                "yshift": 15,
                "z": -1.658293563
               },
               {
                "showarrow": false,
                "text": 1.09,
                "x": 1.9817574295,
                "y": -4.139268171,
                "yshift": 15,
                "z": 0.36027138
               },
               {
                "showarrow": false,
                "text": 1.09,
                "x": 0.6178266177,
                "y": 1.7336843405,
                "yshift": 15,
                "z": -0.12629743085
               },
               {
                "showarrow": false,
                "text": 1.09,
                "x": -0.18359391955,
                "y": 1.726082812,
                "yshift": 15,
                "z": -0.50881138835
               },
               {
                "showarrow": false,
                "text": 1.11,
                "x": 0.2592370835,
                "y": -2.085265006,
                "yshift": 15,
                "z": -1.316673571
               },
               {
                "showarrow": false,
                "text": 1.1,
                "x": 2.2348854745,
                "y": -3.964159481,
                "yshift": 15,
                "z": -0.4737204387
               }
              ]
             }
            ],
            "label": "Bond lengths",
            "method": "relayout"
           },
           {
            "args": [
             {
              "scene.annotations": [
               {
                "font": {
                 "color": "blue"
                },
                "showarrow": false,
                "text": 0,
                "x": 0.1036607904,
                "y": 1.554271758,
                "yshift": 15,
                "z": -0.0771505621
               },
               {
                "font": {
                 "color": "blue"
                },
                "showarrow": false,
                "text": 1,
                "x": 0.08769015390000001,
                "y": 0.0374637831,
                "yshift": 15,
                "z": -0.0007340558999999999
               },
               {
                "font": {
                 "color": "blue"
                },
                "showarrow": false,
                "text": 2,
                "x": 0.7320866386,
                "y": -0.4735702124,
                "yshift": 15,
                "z": -1.1621931509999999
               },
               {
                "font": {
                 "color": "blue"
                },
                "showarrow": false,
                "text": 3,
                "x": 0.7643199156,
                "y": -1.8777627590000001,
                "yshift": 15,
                "z": -1.2223528240000001
               },
               {
                "font": {
                 "color": "blue"
                },
                "showarrow": false,
                "text": 4,
                "x": 1.331084809,
                "y": -2.524484483,
                "yshift": 15,
                "z": 0.0172714073
               },
               {
                "font": {
                 "color": "blue"
                },
                "showarrow": false,
                "text": 5,
                "x": 1.817445524,
                "y": -3.9355053389999997,
                "yshift": 15,
                "z": -0.11890987199999999
               },
               {
                "font": {
                 "color": "blue"
                },
                "showarrow": false,
                "text": 6,
                "x": 1.361455544,
                "y": -1.83074258,
                "yshift": 15,
                "z": 1.165680062
               },
               {
                "font": {
                 "color": "blue"
                },
                "showarrow": false,
                "text": 7,
                "x": 0.7580245041,
                "y": -0.49411224189999997,
                "yshift": 15,
                "z": 1.276199901
               },
               {
                "font": {
                 "color": "blue"
                },
                "showarrow": false,
                "text": 8,
                "x": 0.7267014086,
                "y": 0.1278960102,
                "yshift": 15,
                "z": 2.32030235
               },
               {
                "font": {
                 "color": "blue"
                },
                "showarrow": false,
                "text": 9,
                "x": 1.131992445,
                "y": 1.9130969230000001,
                "yshift": 15,
                "z": -0.17544429960000002
               },
               {
                "font": {
                 "color": "blue"
                },
                "showarrow": false,
                "text": 10,
                "x": -0.4708486295,
                "y": 1.897893866,
                "yshift": 15,
                "z": -0.9404722146
               },
               {
                "font": {
                 "color": "blue"
                },
                "showarrow": false,
                "text": 11,
                "x": -0.3216672192,
                "y": 1.970671932,
                "yshift": 15,
                "z": 0.8371813133
               },
               {
                "font": {
                 "color": "blue"
                },
                "showarrow": false,
                "text": 12,
                "x": -0.9594311727,
                "y": -0.3229045061,
                "yshift": 15,
                "z": 0.0261160332
               },
               {
                "font": {
                 "color": "blue"
                },
                "showarrow": false,
                "text": 13,
                "x": -0.2458457486,
                "y": -2.292767253,
                "yshift": 15,
                "z": -1.4109943180000002
               },
               {
                "font": {
                 "color": "blue"
                },
                "showarrow": false,
                "text": 14,
                "x": 1.376682521,
                "y": -2.135569765,
                "yshift": 15,
                "z": -2.094234302
               },
               {
                "font": {
                 "color": "blue"
                },
                "showarrow": false,
                "text": 15,
                "x": 2.652325425,
                "y": -3.992813623,
                "yshift": 15,
                "z": -0.8285310054
               },
               {
                "font": {
                 "color": "blue"
                },
                "showarrow": false,
                "text": 16,
                "x": 2.146069335,
                "y": -4.343031003,
                "yshift": 15,
                "z": 0.839452632
               },
               {
                "font": {
                 "color": "blue"
                },
                "showarrow": false,
                "text": 17,
                "x": 1.026560788,
                "y": -4.584041722,
                "yshift": 15,
                "z": -0.5168002451
               },
               {
                "font": {
                 "color": "blue"
                },
                "showarrow": false,
                "text": 18,
                "x": 1.778622327,
                "y": -2.245673577,
                "yshift": 15,
                "z": 2.078934161
               },
               {
                "showarrow": false,
                "text": 1.52,
                "x": 0.09567547215,
                "y": 0.79586777055,
                "yshift": 15,
                "z": -0.038942309
               },
               {
                "showarrow": false,
                "text": 1.42,
                "x": 0.40988839625,
                "y": -0.21805321465,
                "yshift": 15,
                "z": -0.58146360345
               },
               {
                "showarrow": false,
                "text": 1.41,
                "x": 0.7482032771,
                "y": -1.1756664857,
                "yshift": 15,
                "z": -1.1922729875
               },
               {
                "showarrow": false,
                "text": 1.51,
                "x": 1.0477023623,
                "y": -2.201123621,
                "yshift": 15,
                "z": -0.60254070835
               },
               {
                "showarrow": false,
                "text": 1.5,
                "x": 1.5742651665,
                "y": -3.229994911,
                "yshift": 15,
                "z": -0.05081923235
               },
               {
                "showarrow": false,
                "text": 1.47,
                "x": 1.05974002405,
                "y": -1.16242741095,
                "yshift": 15,
                "z": 1.2209399815
               },
               {
                "showarrow": false,
                "text": 1.22,
                "x": 0.74236295635,
                "y": -0.18310811585,
                "yshift": 15,
                "z": 1.7982511255
               },
               {
                "showarrow": false,
                "text": 1.34,
                "x": 1.3462701765,
                "y": -2.1776135315,
                "yshift": 15,
                "z": 0.59147573465
               },
               {
                "showarrow": false,
                "text": 1.54,
                "x": 0.422857329,
                "y": -0.2283242294,
                "yshift": 15,
                "z": 0.63773292255
               },
               {
                "showarrow": false,
                "text": 1.1,
                "x": 1.422003156,
                "y": -4.2597735305,
                "yshift": 15,
                "z": -0.31785505855
               },
               {
                "showarrow": false,
                "text": 1.09,
                "x": 1.5700389355,
                "y": -2.0382080785,
                "yshift": 15,
                "z": 1.6223071115
               },
               {
                "showarrow": false,
                "text": 1.09,
                "x": -0.1090032144,
                "y": 1.762471845,
                "yshift": 15,
                "z": 0.3800153756
               },
               {
                "showarrow": false,
                "text": 1.11,
                "x": -0.4358705094,
                "y": -0.1427203615,
                "yshift": 15,
                "z": 0.01269098865
               },
               {
                "showarrow": false,
                "text": 1.1,
                "x": 1.0705012183,
                "y": -2.006666262,
                "yshift": 15,
                "z": -1.658293563
               },
               {
                "showarrow": false,
                "text": 1.09,
                "x": 1.9817574295,
                "y": -4.139268171,
                "yshift": 15,
                "z": 0.36027138
               },
               {
                "showarrow": false,
                "text": 1.09,
                "x": 0.6178266177,
                "y": 1.7336843405,
                "yshift": 15,
                "z": -0.12629743085
               },
               {
                "showarrow": false,
                "text": 1.09,
                "x": -0.18359391955,
                "y": 1.726082812,
                "yshift": 15,
                "z": -0.50881138835
               },
               {
                "showarrow": false,
                "text": 1.11,
                "x": 0.2592370835,
                "y": -2.085265006,
                "yshift": 15,
                "z": -1.316673571
               },
               {
                "showarrow": false,
                "text": 1.1,
                "x": 2.2348854745,
                "y": -3.964159481,
                "yshift": 15,
                "z": -0.4737204387
               }
              ]
             }
            ],
            "label": "Atom indices & Bond lengths",
            "method": "relayout"
           },
           {
            "args": [
             {
              "scene.annotations": []
             }
            ],
            "label": "Hide all",
            "method": "relayout"
           }
          ],
          "direction": "down",
          "xanchor": "left",
          "yanchor": "top"
         }
        ]
       }
      },
      "text/html": [
       "<div id=\"6ca3099c-5cc8-4b1c-acb2-e536056e2b28\" style=\"height: 525px; width: 100%;\" class=\"plotly-graph-div\"></div><script type=\"text/javascript\">require([\"plotly\"], function(Plotly) { window.PLOTLYENV=window.PLOTLYENV || {};window.PLOTLYENV.BASE_URL=\"https://plot.ly\";Plotly.newPlot(\"6ca3099c-5cc8-4b1c-acb2-e536056e2b28\", [{\"type\": \"scatter3d\", \"x\": [0.1036607904, 0.08769015390000001, 0.7320866386, 0.7643199156, 1.331084809, 1.817445524, 1.361455544, 0.7580245041, 0.7267014086, 1.131992445, -0.4708486295, -0.3216672192, -0.9594311727, -0.2458457486, 1.376682521, 2.652325425, 2.146069335, 1.026560788, 1.778622327], \"y\": [1.554271758, 0.0374637831, -0.4735702124, -1.8777627590000001, -2.524484483, -3.9355053389999997, -1.83074258, -0.49411224189999997, 0.1278960102, 1.9130969230000001, 1.897893866, 1.970671932, -0.3229045061, -2.292767253, -2.135569765, -3.992813623, -4.343031003, -4.584041722, -2.245673577], \"z\": [-0.0771505621, -0.0007340558999999999, -1.1621931509999999, -1.2223528240000001, 0.0172714073, -0.11890987199999999, 1.165680062, 1.276199901, 2.32030235, -0.17544429960000002, -0.9404722146, 0.8371813133, 0.0261160332, -1.4109943180000002, -2.094234302, -0.8285310054, 0.839452632, -0.5168002451, 2.078934161], \"mode\": \"markers\", \"marker\": {\"color\": [\"black\", \"black\", \"red\", \"black\", \"black\", \"black\", \"black\", \"black\", \"red\", \"white\", \"white\", \"white\", \"white\", \"white\", \"white\", \"white\", \"white\", \"white\", \"white\"], \"line\": {\"color\": \"lightgray\", \"width\": 2}, \"size\": 7, \"symbol\": \"circle\", \"opacity\": 0.8}, \"text\": [\"C\", \"C\", \"O\", \"C\", \"C\", \"C\", \"C\", \"C\", \"O\", \"H\", \"H\", \"H\", \"H\", \"H\", \"H\", \"H\", \"H\", \"H\", \"H\"], \"name\": \"\"}, {\"type\": \"scatter3d\", \"x\": [0.1036607904, 0.08769015390000001, null, 0.08769015390000001, 0.7320866386, null, 0.7320866386, 0.7643199156, null, 0.7643199156, 1.331084809, null, 1.331084809, 1.817445524, null, 1.361455544, 0.7580245041, null, 0.7267014086, 0.7580245041, null, 1.331084809, 1.361455544, null, 0.08769015390000001, 0.7580245041, null, 1.026560788, 1.817445524, null, 1.778622327, 1.361455544, null, 0.1036607904, -0.3216672192, null, 0.08769015390000001, -0.9594311727, null, 0.7643199156, 1.376682521, null, 2.146069335, 1.817445524, null, 0.1036607904, 1.131992445, null, 0.1036607904, -0.4708486295, null, 0.7643199156, -0.2458457486, null, 1.817445524, 2.652325425, null], \"y\": [1.554271758, 0.0374637831, null, 0.0374637831, -0.4735702124, null, -0.4735702124, -1.8777627590000001, null, -1.8777627590000001, -2.524484483, null, -2.524484483, -3.9355053389999997, null, -1.83074258, -0.49411224189999997, null, 0.1278960102, -0.49411224189999997, null, -2.524484483, -1.83074258, null, 0.0374637831, -0.49411224189999997, null, -4.584041722, -3.9355053389999997, null, -2.245673577, -1.83074258, null, 1.554271758, 1.970671932, null, 0.0374637831, -0.3229045061, null, -1.8777627590000001, -2.135569765, null, -4.343031003, -3.9355053389999997, null, 1.554271758, 1.9130969230000001, null, 1.554271758, 1.897893866, null, -1.8777627590000001, -2.292767253, null, -3.9355053389999997, -3.992813623, null], \"z\": [-0.0771505621, -0.0007340558999999999, null, -0.0007340558999999999, -1.1621931509999999, null, -1.1621931509999999, -1.2223528240000001, null, -1.2223528240000001, 0.0172714073, null, 0.0172714073, -0.11890987199999999, null, 1.165680062, 1.276199901, null, 2.32030235, 1.276199901, null, 0.0172714073, 1.165680062, null, -0.0007340558999999999, 1.276199901, null, -0.5168002451, -0.11890987199999999, null, 2.078934161, 1.165680062, null, -0.0771505621, 0.8371813133, null, -0.0007340558999999999, 0.0261160332, null, -1.2223528240000001, -2.094234302, null, 0.839452632, -0.11890987199999999, null, -0.0771505621, -0.17544429960000002, null, -0.0771505621, -0.9404722146, null, -1.2223528240000001, -1.4109943180000002, null, -0.11890987199999999, -0.8285310054, null], \"hoverinfo\": \"none\", \"mode\": \"lines\", \"marker\": {\"color\": \"grey\", \"size\": 7, \"opacity\": 1}}], {\"scene\": {\"xaxis\": {\"showgrid\": false, \"showbackground\": false, \"showticklabels\": false, \"zeroline\": false, \"titlefont\": {\"color\": \"white\"}}, \"yaxis\": {\"showgrid\": false, \"showbackground\": false, \"showticklabels\": false, \"zeroline\": false, \"titlefont\": {\"color\": \"white\"}}, \"zaxis\": {\"showgrid\": false, \"showbackground\": false, \"showticklabels\": false, \"zeroline\": false, \"titlefont\": {\"color\": \"white\"}}, \"annotations\": [{\"text\": 0, \"x\": 0.1036607904, \"y\": 1.554271758, \"z\": -0.0771505621, \"showarrow\": false, \"yshift\": 15, \"font\": {\"color\": \"blue\"}}, {\"text\": 1, \"x\": 0.08769015390000001, \"y\": 0.0374637831, \"z\": -0.0007340558999999999, \"showarrow\": false, \"yshift\": 15, \"font\": {\"color\": \"blue\"}}, {\"text\": 2, \"x\": 0.7320866386, \"y\": -0.4735702124, \"z\": -1.1621931509999999, \"showarrow\": false, \"yshift\": 15, \"font\": {\"color\": \"blue\"}}, {\"text\": 3, \"x\": 0.7643199156, \"y\": -1.8777627590000001, \"z\": -1.2223528240000001, \"showarrow\": false, \"yshift\": 15, \"font\": {\"color\": \"blue\"}}, {\"text\": 4, \"x\": 1.331084809, \"y\": -2.524484483, \"z\": 0.0172714073, \"showarrow\": false, \"yshift\": 15, \"font\": {\"color\": \"blue\"}}, {\"text\": 5, \"x\": 1.817445524, \"y\": -3.9355053389999997, \"z\": -0.11890987199999999, \"showarrow\": false, \"yshift\": 15, \"font\": {\"color\": \"blue\"}}, {\"text\": 6, \"x\": 1.361455544, \"y\": -1.83074258, \"z\": 1.165680062, \"showarrow\": false, \"yshift\": 15, \"font\": {\"color\": \"blue\"}}, {\"text\": 7, \"x\": 0.7580245041, \"y\": -0.49411224189999997, \"z\": 1.276199901, \"showarrow\": false, \"yshift\": 15, \"font\": {\"color\": \"blue\"}}, {\"text\": 8, \"x\": 0.7267014086, \"y\": 0.1278960102, \"z\": 2.32030235, \"showarrow\": false, \"yshift\": 15, \"font\": {\"color\": \"blue\"}}, {\"text\": 9, \"x\": 1.131992445, \"y\": 1.9130969230000001, \"z\": -0.17544429960000002, \"showarrow\": false, \"yshift\": 15, \"font\": {\"color\": \"blue\"}}, {\"text\": 10, \"x\": -0.4708486295, \"y\": 1.897893866, \"z\": -0.9404722146, \"showarrow\": false, \"yshift\": 15, \"font\": {\"color\": \"blue\"}}, {\"text\": 11, \"x\": -0.3216672192, \"y\": 1.970671932, \"z\": 0.8371813133, \"showarrow\": false, \"yshift\": 15, \"font\": {\"color\": \"blue\"}}, {\"text\": 12, \"x\": -0.9594311727, \"y\": -0.3229045061, \"z\": 0.0261160332, \"showarrow\": false, \"yshift\": 15, \"font\": {\"color\": \"blue\"}}, {\"text\": 13, \"x\": -0.2458457486, \"y\": -2.292767253, \"z\": -1.4109943180000002, \"showarrow\": false, \"yshift\": 15, \"font\": {\"color\": \"blue\"}}, {\"text\": 14, \"x\": 1.376682521, \"y\": -2.135569765, \"z\": -2.094234302, \"showarrow\": false, \"yshift\": 15, \"font\": {\"color\": \"blue\"}}, {\"text\": 15, \"x\": 2.652325425, \"y\": -3.992813623, \"z\": -0.8285310054, \"showarrow\": false, \"yshift\": 15, \"font\": {\"color\": \"blue\"}}, {\"text\": 16, \"x\": 2.146069335, \"y\": -4.343031003, \"z\": 0.839452632, \"showarrow\": false, \"yshift\": 15, \"font\": {\"color\": \"blue\"}}, {\"text\": 17, \"x\": 1.026560788, \"y\": -4.584041722, \"z\": -0.5168002451, \"showarrow\": false, \"yshift\": 15, \"font\": {\"color\": \"blue\"}}, {\"text\": 18, \"x\": 1.778622327, \"y\": -2.245673577, \"z\": 2.078934161, \"showarrow\": false, \"yshift\": 15, \"font\": {\"color\": \"blue\"}}]}, \"margin\": {\"r\": 0, \"l\": 0, \"b\": 0, \"t\": 0}, \"showlegend\": false, \"updatemenus\": [{\"buttons\": [{\"label\": \"Atom indices\", \"method\": \"relayout\", \"args\": [{\"scene.annotations\": [{\"text\": 0, \"x\": 0.1036607904, \"y\": 1.554271758, \"z\": -0.0771505621, \"showarrow\": false, \"yshift\": 15, \"font\": {\"color\": \"blue\"}}, {\"text\": 1, \"x\": 0.08769015390000001, \"y\": 0.0374637831, \"z\": -0.0007340558999999999, \"showarrow\": false, \"yshift\": 15, \"font\": {\"color\": \"blue\"}}, {\"text\": 2, \"x\": 0.7320866386, \"y\": -0.4735702124, \"z\": -1.1621931509999999, \"showarrow\": false, \"yshift\": 15, \"font\": {\"color\": \"blue\"}}, {\"text\": 3, \"x\": 0.7643199156, \"y\": -1.8777627590000001, \"z\": -1.2223528240000001, \"showarrow\": false, \"yshift\": 15, \"font\": {\"color\": \"blue\"}}, {\"text\": 4, \"x\": 1.331084809, \"y\": -2.524484483, \"z\": 0.0172714073, \"showarrow\": false, \"yshift\": 15, \"font\": {\"color\": \"blue\"}}, {\"text\": 5, \"x\": 1.817445524, \"y\": -3.9355053389999997, \"z\": -0.11890987199999999, \"showarrow\": false, \"yshift\": 15, \"font\": {\"color\": \"blue\"}}, {\"text\": 6, \"x\": 1.361455544, \"y\": -1.83074258, \"z\": 1.165680062, \"showarrow\": false, \"yshift\": 15, \"font\": {\"color\": \"blue\"}}, {\"text\": 7, \"x\": 0.7580245041, \"y\": -0.49411224189999997, \"z\": 1.276199901, \"showarrow\": false, \"yshift\": 15, \"font\": {\"color\": \"blue\"}}, {\"text\": 8, \"x\": 0.7267014086, \"y\": 0.1278960102, \"z\": 2.32030235, \"showarrow\": false, \"yshift\": 15, \"font\": {\"color\": \"blue\"}}, {\"text\": 9, \"x\": 1.131992445, \"y\": 1.9130969230000001, \"z\": -0.17544429960000002, \"showarrow\": false, \"yshift\": 15, \"font\": {\"color\": \"blue\"}}, {\"text\": 10, \"x\": -0.4708486295, \"y\": 1.897893866, \"z\": -0.9404722146, \"showarrow\": false, \"yshift\": 15, \"font\": {\"color\": \"blue\"}}, {\"text\": 11, \"x\": -0.3216672192, \"y\": 1.970671932, \"z\": 0.8371813133, \"showarrow\": false, \"yshift\": 15, \"font\": {\"color\": \"blue\"}}, {\"text\": 12, \"x\": -0.9594311727, \"y\": -0.3229045061, \"z\": 0.0261160332, \"showarrow\": false, \"yshift\": 15, \"font\": {\"color\": \"blue\"}}, {\"text\": 13, \"x\": -0.2458457486, \"y\": -2.292767253, \"z\": -1.4109943180000002, \"showarrow\": false, \"yshift\": 15, \"font\": {\"color\": \"blue\"}}, {\"text\": 14, \"x\": 1.376682521, \"y\": -2.135569765, \"z\": -2.094234302, \"showarrow\": false, \"yshift\": 15, \"font\": {\"color\": \"blue\"}}, {\"text\": 15, \"x\": 2.652325425, \"y\": -3.992813623, \"z\": -0.8285310054, \"showarrow\": false, \"yshift\": 15, \"font\": {\"color\": \"blue\"}}, {\"text\": 16, \"x\": 2.146069335, \"y\": -4.343031003, \"z\": 0.839452632, \"showarrow\": false, \"yshift\": 15, \"font\": {\"color\": \"blue\"}}, {\"text\": 17, \"x\": 1.026560788, \"y\": -4.584041722, \"z\": -0.5168002451, \"showarrow\": false, \"yshift\": 15, \"font\": {\"color\": \"blue\"}}, {\"text\": 18, \"x\": 1.778622327, \"y\": -2.245673577, \"z\": 2.078934161, \"showarrow\": false, \"yshift\": 15, \"font\": {\"color\": \"blue\"}}]}]}, {\"label\": \"Bond lengths\", \"method\": \"relayout\", \"args\": [{\"scene.annotations\": [{\"text\": 1.52, \"x\": 0.09567547215, \"y\": 0.79586777055, \"z\": -0.038942309, \"showarrow\": false, \"yshift\": 15}, {\"text\": 1.42, \"x\": 0.40988839625, \"y\": -0.21805321465, \"z\": -0.58146360345, \"showarrow\": false, \"yshift\": 15}, {\"text\": 1.41, \"x\": 0.7482032771, \"y\": -1.1756664857, \"z\": -1.1922729875, \"showarrow\": false, \"yshift\": 15}, {\"text\": 1.51, \"x\": 1.0477023623, \"y\": -2.201123621, \"z\": -0.60254070835, \"showarrow\": false, \"yshift\": 15}, {\"text\": 1.5, \"x\": 1.5742651665, \"y\": -3.229994911, \"z\": -0.05081923235, \"showarrow\": false, \"yshift\": 15}, {\"text\": 1.47, \"x\": 1.05974002405, \"y\": -1.16242741095, \"z\": 1.2209399815, \"showarrow\": false, \"yshift\": 15}, {\"text\": 1.22, \"x\": 0.74236295635, \"y\": -0.18310811585, \"z\": 1.7982511255, \"showarrow\": false, \"yshift\": 15}, {\"text\": 1.34, \"x\": 1.3462701765, \"y\": -2.1776135315, \"z\": 0.59147573465, \"showarrow\": false, \"yshift\": 15}, {\"text\": 1.54, \"x\": 0.422857329, \"y\": -0.2283242294, \"z\": 0.63773292255, \"showarrow\": false, \"yshift\": 15}, {\"text\": 1.1, \"x\": 1.422003156, \"y\": -4.2597735305, \"z\": -0.31785505855, \"showarrow\": false, \"yshift\": 15}, {\"text\": 1.09, \"x\": 1.5700389355, \"y\": -2.0382080785, \"z\": 1.6223071115, \"showarrow\": false, \"yshift\": 15}, {\"text\": 1.09, \"x\": -0.1090032144, \"y\": 1.762471845, \"z\": 0.3800153756, \"showarrow\": false, \"yshift\": 15}, {\"text\": 1.11, \"x\": -0.4358705094, \"y\": -0.1427203615, \"z\": 0.01269098865, \"showarrow\": false, \"yshift\": 15}, {\"text\": 1.1, \"x\": 1.0705012183, \"y\": -2.006666262, \"z\": -1.658293563, \"showarrow\": false, \"yshift\": 15}, {\"text\": 1.09, \"x\": 1.9817574295, \"y\": -4.139268171, \"z\": 0.36027138, \"showarrow\": false, \"yshift\": 15}, {\"text\": 1.09, \"x\": 0.6178266177, \"y\": 1.7336843405, \"z\": -0.12629743085, \"showarrow\": false, \"yshift\": 15}, {\"text\": 1.09, \"x\": -0.18359391955, \"y\": 1.726082812, \"z\": -0.50881138835, \"showarrow\": false, \"yshift\": 15}, {\"text\": 1.11, \"x\": 0.2592370835, \"y\": -2.085265006, \"z\": -1.316673571, \"showarrow\": false, \"yshift\": 15}, {\"text\": 1.1, \"x\": 2.2348854745, \"y\": -3.964159481, \"z\": -0.4737204387, \"showarrow\": false, \"yshift\": 15}]}]}, {\"label\": \"Atom indices & Bond lengths\", \"method\": \"relayout\", \"args\": [{\"scene.annotations\": [{\"text\": 0, \"x\": 0.1036607904, \"y\": 1.554271758, \"z\": -0.0771505621, \"showarrow\": false, \"yshift\": 15, \"font\": {\"color\": \"blue\"}}, {\"text\": 1, \"x\": 0.08769015390000001, \"y\": 0.0374637831, \"z\": -0.0007340558999999999, \"showarrow\": false, \"yshift\": 15, \"font\": {\"color\": \"blue\"}}, {\"text\": 2, \"x\": 0.7320866386, \"y\": -0.4735702124, \"z\": -1.1621931509999999, \"showarrow\": false, \"yshift\": 15, \"font\": {\"color\": \"blue\"}}, {\"text\": 3, \"x\": 0.7643199156, \"y\": -1.8777627590000001, \"z\": -1.2223528240000001, \"showarrow\": false, \"yshift\": 15, \"font\": {\"color\": \"blue\"}}, {\"text\": 4, \"x\": 1.331084809, \"y\": -2.524484483, \"z\": 0.0172714073, \"showarrow\": false, \"yshift\": 15, \"font\": {\"color\": \"blue\"}}, {\"text\": 5, \"x\": 1.817445524, \"y\": -3.9355053389999997, \"z\": -0.11890987199999999, \"showarrow\": false, \"yshift\": 15, \"font\": {\"color\": \"blue\"}}, {\"text\": 6, \"x\": 1.361455544, \"y\": -1.83074258, \"z\": 1.165680062, \"showarrow\": false, \"yshift\": 15, \"font\": {\"color\": \"blue\"}}, {\"text\": 7, \"x\": 0.7580245041, \"y\": -0.49411224189999997, \"z\": 1.276199901, \"showarrow\": false, \"yshift\": 15, \"font\": {\"color\": \"blue\"}}, {\"text\": 8, \"x\": 0.7267014086, \"y\": 0.1278960102, \"z\": 2.32030235, \"showarrow\": false, \"yshift\": 15, \"font\": {\"color\": \"blue\"}}, {\"text\": 9, \"x\": 1.131992445, \"y\": 1.9130969230000001, \"z\": -0.17544429960000002, \"showarrow\": false, \"yshift\": 15, \"font\": {\"color\": \"blue\"}}, {\"text\": 10, \"x\": -0.4708486295, \"y\": 1.897893866, \"z\": -0.9404722146, \"showarrow\": false, \"yshift\": 15, \"font\": {\"color\": \"blue\"}}, {\"text\": 11, \"x\": -0.3216672192, \"y\": 1.970671932, \"z\": 0.8371813133, \"showarrow\": false, \"yshift\": 15, \"font\": {\"color\": \"blue\"}}, {\"text\": 12, \"x\": -0.9594311727, \"y\": -0.3229045061, \"z\": 0.0261160332, \"showarrow\": false, \"yshift\": 15, \"font\": {\"color\": \"blue\"}}, {\"text\": 13, \"x\": -0.2458457486, \"y\": -2.292767253, \"z\": -1.4109943180000002, \"showarrow\": false, \"yshift\": 15, \"font\": {\"color\": \"blue\"}}, {\"text\": 14, \"x\": 1.376682521, \"y\": -2.135569765, \"z\": -2.094234302, \"showarrow\": false, \"yshift\": 15, \"font\": {\"color\": \"blue\"}}, {\"text\": 15, \"x\": 2.652325425, \"y\": -3.992813623, \"z\": -0.8285310054, \"showarrow\": false, \"yshift\": 15, \"font\": {\"color\": \"blue\"}}, {\"text\": 16, \"x\": 2.146069335, \"y\": -4.343031003, \"z\": 0.839452632, \"showarrow\": false, \"yshift\": 15, \"font\": {\"color\": \"blue\"}}, {\"text\": 17, \"x\": 1.026560788, \"y\": -4.584041722, \"z\": -0.5168002451, \"showarrow\": false, \"yshift\": 15, \"font\": {\"color\": \"blue\"}}, {\"text\": 18, \"x\": 1.778622327, \"y\": -2.245673577, \"z\": 2.078934161, \"showarrow\": false, \"yshift\": 15, \"font\": {\"color\": \"blue\"}}, {\"text\": 1.52, \"x\": 0.09567547215, \"y\": 0.79586777055, \"z\": -0.038942309, \"showarrow\": false, \"yshift\": 15}, {\"text\": 1.42, \"x\": 0.40988839625, \"y\": -0.21805321465, \"z\": -0.58146360345, \"showarrow\": false, \"yshift\": 15}, {\"text\": 1.41, \"x\": 0.7482032771, \"y\": -1.1756664857, \"z\": -1.1922729875, \"showarrow\": false, \"yshift\": 15}, {\"text\": 1.51, \"x\": 1.0477023623, \"y\": -2.201123621, \"z\": -0.60254070835, \"showarrow\": false, \"yshift\": 15}, {\"text\": 1.5, \"x\": 1.5742651665, \"y\": -3.229994911, \"z\": -0.05081923235, \"showarrow\": false, \"yshift\": 15}, {\"text\": 1.47, \"x\": 1.05974002405, \"y\": -1.16242741095, \"z\": 1.2209399815, \"showarrow\": false, \"yshift\": 15}, {\"text\": 1.22, \"x\": 0.74236295635, \"y\": -0.18310811585, \"z\": 1.7982511255, \"showarrow\": false, \"yshift\": 15}, {\"text\": 1.34, \"x\": 1.3462701765, \"y\": -2.1776135315, \"z\": 0.59147573465, \"showarrow\": false, \"yshift\": 15}, {\"text\": 1.54, \"x\": 0.422857329, \"y\": -0.2283242294, \"z\": 0.63773292255, \"showarrow\": false, \"yshift\": 15}, {\"text\": 1.1, \"x\": 1.422003156, \"y\": -4.2597735305, \"z\": -0.31785505855, \"showarrow\": false, \"yshift\": 15}, {\"text\": 1.09, \"x\": 1.5700389355, \"y\": -2.0382080785, \"z\": 1.6223071115, \"showarrow\": false, \"yshift\": 15}, {\"text\": 1.09, \"x\": -0.1090032144, \"y\": 1.762471845, \"z\": 0.3800153756, \"showarrow\": false, \"yshift\": 15}, {\"text\": 1.11, \"x\": -0.4358705094, \"y\": -0.1427203615, \"z\": 0.01269098865, \"showarrow\": false, \"yshift\": 15}, {\"text\": 1.1, \"x\": 1.0705012183, \"y\": -2.006666262, \"z\": -1.658293563, \"showarrow\": false, \"yshift\": 15}, {\"text\": 1.09, \"x\": 1.9817574295, \"y\": -4.139268171, \"z\": 0.36027138, \"showarrow\": false, \"yshift\": 15}, {\"text\": 1.09, \"x\": 0.6178266177, \"y\": 1.7336843405, \"z\": -0.12629743085, \"showarrow\": false, \"yshift\": 15}, {\"text\": 1.09, \"x\": -0.18359391955, \"y\": 1.726082812, \"z\": -0.50881138835, \"showarrow\": false, \"yshift\": 15}, {\"text\": 1.11, \"x\": 0.2592370835, \"y\": -2.085265006, \"z\": -1.316673571, \"showarrow\": false, \"yshift\": 15}, {\"text\": 1.1, \"x\": 2.2348854745, \"y\": -3.964159481, \"z\": -0.4737204387, \"showarrow\": false, \"yshift\": 15}]}]}, {\"label\": \"Hide all\", \"method\": \"relayout\", \"args\": [{\"scene.annotations\": []}]}], \"direction\": \"down\", \"xanchor\": \"left\", \"yanchor\": \"top\"}]}, {\"showLink\": true, \"linkText\": \"Export to plot.ly\"})});</script>"
      ],
      "text/vnd.plotly.v1+html": [
       "<div id=\"6ca3099c-5cc8-4b1c-acb2-e536056e2b28\" style=\"height: 525px; width: 100%;\" class=\"plotly-graph-div\"></div><script type=\"text/javascript\">require([\"plotly\"], function(Plotly) { window.PLOTLYENV=window.PLOTLYENV || {};window.PLOTLYENV.BASE_URL=\"https://plot.ly\";Plotly.newPlot(\"6ca3099c-5cc8-4b1c-acb2-e536056e2b28\", [{\"type\": \"scatter3d\", \"x\": [0.1036607904, 0.08769015390000001, 0.7320866386, 0.7643199156, 1.331084809, 1.817445524, 1.361455544, 0.7580245041, 0.7267014086, 1.131992445, -0.4708486295, -0.3216672192, -0.9594311727, -0.2458457486, 1.376682521, 2.652325425, 2.146069335, 1.026560788, 1.778622327], \"y\": [1.554271758, 0.0374637831, -0.4735702124, -1.8777627590000001, -2.524484483, -3.9355053389999997, -1.83074258, -0.49411224189999997, 0.1278960102, 1.9130969230000001, 1.897893866, 1.970671932, -0.3229045061, -2.292767253, -2.135569765, -3.992813623, -4.343031003, -4.584041722, -2.245673577], \"z\": [-0.0771505621, -0.0007340558999999999, -1.1621931509999999, -1.2223528240000001, 0.0172714073, -0.11890987199999999, 1.165680062, 1.276199901, 2.32030235, -0.17544429960000002, -0.9404722146, 0.8371813133, 0.0261160332, -1.4109943180000002, -2.094234302, -0.8285310054, 0.839452632, -0.5168002451, 2.078934161], \"mode\": \"markers\", \"marker\": {\"color\": [\"black\", \"black\", \"red\", \"black\", \"black\", \"black\", \"black\", \"black\", \"red\", \"white\", \"white\", \"white\", \"white\", \"white\", \"white\", \"white\", \"white\", \"white\", \"white\"], \"line\": {\"color\": \"lightgray\", \"width\": 2}, \"size\": 7, \"symbol\": \"circle\", \"opacity\": 0.8}, \"text\": [\"C\", \"C\", \"O\", \"C\", \"C\", \"C\", \"C\", \"C\", \"O\", \"H\", \"H\", \"H\", \"H\", \"H\", \"H\", \"H\", \"H\", \"H\", \"H\"], \"name\": \"\"}, {\"type\": \"scatter3d\", \"x\": [0.1036607904, 0.08769015390000001, null, 0.08769015390000001, 0.7320866386, null, 0.7320866386, 0.7643199156, null, 0.7643199156, 1.331084809, null, 1.331084809, 1.817445524, null, 1.361455544, 0.7580245041, null, 0.7267014086, 0.7580245041, null, 1.331084809, 1.361455544, null, 0.08769015390000001, 0.7580245041, null, 1.026560788, 1.817445524, null, 1.778622327, 1.361455544, null, 0.1036607904, -0.3216672192, null, 0.08769015390000001, -0.9594311727, null, 0.7643199156, 1.376682521, null, 2.146069335, 1.817445524, null, 0.1036607904, 1.131992445, null, 0.1036607904, -0.4708486295, null, 0.7643199156, -0.2458457486, null, 1.817445524, 2.652325425, null], \"y\": [1.554271758, 0.0374637831, null, 0.0374637831, -0.4735702124, null, -0.4735702124, -1.8777627590000001, null, -1.8777627590000001, -2.524484483, null, -2.524484483, -3.9355053389999997, null, -1.83074258, -0.49411224189999997, null, 0.1278960102, -0.49411224189999997, null, -2.524484483, -1.83074258, null, 0.0374637831, -0.49411224189999997, null, -4.584041722, -3.9355053389999997, null, -2.245673577, -1.83074258, null, 1.554271758, 1.970671932, null, 0.0374637831, -0.3229045061, null, -1.8777627590000001, -2.135569765, null, -4.343031003, -3.9355053389999997, null, 1.554271758, 1.9130969230000001, null, 1.554271758, 1.897893866, null, -1.8777627590000001, -2.292767253, null, -3.9355053389999997, -3.992813623, null], \"z\": [-0.0771505621, -0.0007340558999999999, null, -0.0007340558999999999, -1.1621931509999999, null, -1.1621931509999999, -1.2223528240000001, null, -1.2223528240000001, 0.0172714073, null, 0.0172714073, -0.11890987199999999, null, 1.165680062, 1.276199901, null, 2.32030235, 1.276199901, null, 0.0172714073, 1.165680062, null, -0.0007340558999999999, 1.276199901, null, -0.5168002451, -0.11890987199999999, null, 2.078934161, 1.165680062, null, -0.0771505621, 0.8371813133, null, -0.0007340558999999999, 0.0261160332, null, -1.2223528240000001, -2.094234302, null, 0.839452632, -0.11890987199999999, null, -0.0771505621, -0.17544429960000002, null, -0.0771505621, -0.9404722146, null, -1.2223528240000001, -1.4109943180000002, null, -0.11890987199999999, -0.8285310054, null], \"hoverinfo\": \"none\", \"mode\": \"lines\", \"marker\": {\"color\": \"grey\", \"size\": 7, \"opacity\": 1}}], {\"scene\": {\"xaxis\": {\"showgrid\": false, \"showbackground\": false, \"showticklabels\": false, \"zeroline\": false, \"titlefont\": {\"color\": \"white\"}}, \"yaxis\": {\"showgrid\": false, \"showbackground\": false, \"showticklabels\": false, \"zeroline\": false, \"titlefont\": {\"color\": \"white\"}}, \"zaxis\": {\"showgrid\": false, \"showbackground\": false, \"showticklabels\": false, \"zeroline\": false, \"titlefont\": {\"color\": \"white\"}}, \"annotations\": [{\"text\": 0, \"x\": 0.1036607904, \"y\": 1.554271758, \"z\": -0.0771505621, \"showarrow\": false, \"yshift\": 15, \"font\": {\"color\": \"blue\"}}, {\"text\": 1, \"x\": 0.08769015390000001, \"y\": 0.0374637831, \"z\": -0.0007340558999999999, \"showarrow\": false, \"yshift\": 15, \"font\": {\"color\": \"blue\"}}, {\"text\": 2, \"x\": 0.7320866386, \"y\": -0.4735702124, \"z\": -1.1621931509999999, \"showarrow\": false, \"yshift\": 15, \"font\": {\"color\": \"blue\"}}, {\"text\": 3, \"x\": 0.7643199156, \"y\": -1.8777627590000001, \"z\": -1.2223528240000001, \"showarrow\": false, \"yshift\": 15, \"font\": {\"color\": \"blue\"}}, {\"text\": 4, \"x\": 1.331084809, \"y\": -2.524484483, \"z\": 0.0172714073, \"showarrow\": false, \"yshift\": 15, \"font\": {\"color\": \"blue\"}}, {\"text\": 5, \"x\": 1.817445524, \"y\": -3.9355053389999997, \"z\": -0.11890987199999999, \"showarrow\": false, \"yshift\": 15, \"font\": {\"color\": \"blue\"}}, {\"text\": 6, \"x\": 1.361455544, \"y\": -1.83074258, \"z\": 1.165680062, \"showarrow\": false, \"yshift\": 15, \"font\": {\"color\": \"blue\"}}, {\"text\": 7, \"x\": 0.7580245041, \"y\": -0.49411224189999997, \"z\": 1.276199901, \"showarrow\": false, \"yshift\": 15, \"font\": {\"color\": \"blue\"}}, {\"text\": 8, \"x\": 0.7267014086, \"y\": 0.1278960102, \"z\": 2.32030235, \"showarrow\": false, \"yshift\": 15, \"font\": {\"color\": \"blue\"}}, {\"text\": 9, \"x\": 1.131992445, \"y\": 1.9130969230000001, \"z\": -0.17544429960000002, \"showarrow\": false, \"yshift\": 15, \"font\": {\"color\": \"blue\"}}, {\"text\": 10, \"x\": -0.4708486295, \"y\": 1.897893866, \"z\": -0.9404722146, \"showarrow\": false, \"yshift\": 15, \"font\": {\"color\": \"blue\"}}, {\"text\": 11, \"x\": -0.3216672192, \"y\": 1.970671932, \"z\": 0.8371813133, \"showarrow\": false, \"yshift\": 15, \"font\": {\"color\": \"blue\"}}, {\"text\": 12, \"x\": -0.9594311727, \"y\": -0.3229045061, \"z\": 0.0261160332, \"showarrow\": false, \"yshift\": 15, \"font\": {\"color\": \"blue\"}}, {\"text\": 13, \"x\": -0.2458457486, \"y\": -2.292767253, \"z\": -1.4109943180000002, \"showarrow\": false, \"yshift\": 15, \"font\": {\"color\": \"blue\"}}, {\"text\": 14, \"x\": 1.376682521, \"y\": -2.135569765, \"z\": -2.094234302, \"showarrow\": false, \"yshift\": 15, \"font\": {\"color\": \"blue\"}}, {\"text\": 15, \"x\": 2.652325425, \"y\": -3.992813623, \"z\": -0.8285310054, \"showarrow\": false, \"yshift\": 15, \"font\": {\"color\": \"blue\"}}, {\"text\": 16, \"x\": 2.146069335, \"y\": -4.343031003, \"z\": 0.839452632, \"showarrow\": false, \"yshift\": 15, \"font\": {\"color\": \"blue\"}}, {\"text\": 17, \"x\": 1.026560788, \"y\": -4.584041722, \"z\": -0.5168002451, \"showarrow\": false, \"yshift\": 15, \"font\": {\"color\": \"blue\"}}, {\"text\": 18, \"x\": 1.778622327, \"y\": -2.245673577, \"z\": 2.078934161, \"showarrow\": false, \"yshift\": 15, \"font\": {\"color\": \"blue\"}}]}, \"margin\": {\"r\": 0, \"l\": 0, \"b\": 0, \"t\": 0}, \"showlegend\": false, \"updatemenus\": [{\"buttons\": [{\"label\": \"Atom indices\", \"method\": \"relayout\", \"args\": [{\"scene.annotations\": [{\"text\": 0, \"x\": 0.1036607904, \"y\": 1.554271758, \"z\": -0.0771505621, \"showarrow\": false, \"yshift\": 15, \"font\": {\"color\": \"blue\"}}, {\"text\": 1, \"x\": 0.08769015390000001, \"y\": 0.0374637831, \"z\": -0.0007340558999999999, \"showarrow\": false, \"yshift\": 15, \"font\": {\"color\": \"blue\"}}, {\"text\": 2, \"x\": 0.7320866386, \"y\": -0.4735702124, \"z\": -1.1621931509999999, \"showarrow\": false, \"yshift\": 15, \"font\": {\"color\": \"blue\"}}, {\"text\": 3, \"x\": 0.7643199156, \"y\": -1.8777627590000001, \"z\": -1.2223528240000001, \"showarrow\": false, \"yshift\": 15, \"font\": {\"color\": \"blue\"}}, {\"text\": 4, \"x\": 1.331084809, \"y\": -2.524484483, \"z\": 0.0172714073, \"showarrow\": false, \"yshift\": 15, \"font\": {\"color\": \"blue\"}}, {\"text\": 5, \"x\": 1.817445524, \"y\": -3.9355053389999997, \"z\": -0.11890987199999999, \"showarrow\": false, \"yshift\": 15, \"font\": {\"color\": \"blue\"}}, {\"text\": 6, \"x\": 1.361455544, \"y\": -1.83074258, \"z\": 1.165680062, \"showarrow\": false, \"yshift\": 15, \"font\": {\"color\": \"blue\"}}, {\"text\": 7, \"x\": 0.7580245041, \"y\": -0.49411224189999997, \"z\": 1.276199901, \"showarrow\": false, \"yshift\": 15, \"font\": {\"color\": \"blue\"}}, {\"text\": 8, \"x\": 0.7267014086, \"y\": 0.1278960102, \"z\": 2.32030235, \"showarrow\": false, \"yshift\": 15, \"font\": {\"color\": \"blue\"}}, {\"text\": 9, \"x\": 1.131992445, \"y\": 1.9130969230000001, \"z\": -0.17544429960000002, \"showarrow\": false, \"yshift\": 15, \"font\": {\"color\": \"blue\"}}, {\"text\": 10, \"x\": -0.4708486295, \"y\": 1.897893866, \"z\": -0.9404722146, \"showarrow\": false, \"yshift\": 15, \"font\": {\"color\": \"blue\"}}, {\"text\": 11, \"x\": -0.3216672192, \"y\": 1.970671932, \"z\": 0.8371813133, \"showarrow\": false, \"yshift\": 15, \"font\": {\"color\": \"blue\"}}, {\"text\": 12, \"x\": -0.9594311727, \"y\": -0.3229045061, \"z\": 0.0261160332, \"showarrow\": false, \"yshift\": 15, \"font\": {\"color\": \"blue\"}}, {\"text\": 13, \"x\": -0.2458457486, \"y\": -2.292767253, \"z\": -1.4109943180000002, \"showarrow\": false, \"yshift\": 15, \"font\": {\"color\": \"blue\"}}, {\"text\": 14, \"x\": 1.376682521, \"y\": -2.135569765, \"z\": -2.094234302, \"showarrow\": false, \"yshift\": 15, \"font\": {\"color\": \"blue\"}}, {\"text\": 15, \"x\": 2.652325425, \"y\": -3.992813623, \"z\": -0.8285310054, \"showarrow\": false, \"yshift\": 15, \"font\": {\"color\": \"blue\"}}, {\"text\": 16, \"x\": 2.146069335, \"y\": -4.343031003, \"z\": 0.839452632, \"showarrow\": false, \"yshift\": 15, \"font\": {\"color\": \"blue\"}}, {\"text\": 17, \"x\": 1.026560788, \"y\": -4.584041722, \"z\": -0.5168002451, \"showarrow\": false, \"yshift\": 15, \"font\": {\"color\": \"blue\"}}, {\"text\": 18, \"x\": 1.778622327, \"y\": -2.245673577, \"z\": 2.078934161, \"showarrow\": false, \"yshift\": 15, \"font\": {\"color\": \"blue\"}}]}]}, {\"label\": \"Bond lengths\", \"method\": \"relayout\", \"args\": [{\"scene.annotations\": [{\"text\": 1.52, \"x\": 0.09567547215, \"y\": 0.79586777055, \"z\": -0.038942309, \"showarrow\": false, \"yshift\": 15}, {\"text\": 1.42, \"x\": 0.40988839625, \"y\": -0.21805321465, \"z\": -0.58146360345, \"showarrow\": false, \"yshift\": 15}, {\"text\": 1.41, \"x\": 0.7482032771, \"y\": -1.1756664857, \"z\": -1.1922729875, \"showarrow\": false, \"yshift\": 15}, {\"text\": 1.51, \"x\": 1.0477023623, \"y\": -2.201123621, \"z\": -0.60254070835, \"showarrow\": false, \"yshift\": 15}, {\"text\": 1.5, \"x\": 1.5742651665, \"y\": -3.229994911, \"z\": -0.05081923235, \"showarrow\": false, \"yshift\": 15}, {\"text\": 1.47, \"x\": 1.05974002405, \"y\": -1.16242741095, \"z\": 1.2209399815, \"showarrow\": false, \"yshift\": 15}, {\"text\": 1.22, \"x\": 0.74236295635, \"y\": -0.18310811585, \"z\": 1.7982511255, \"showarrow\": false, \"yshift\": 15}, {\"text\": 1.34, \"x\": 1.3462701765, \"y\": -2.1776135315, \"z\": 0.59147573465, \"showarrow\": false, \"yshift\": 15}, {\"text\": 1.54, \"x\": 0.422857329, \"y\": -0.2283242294, \"z\": 0.63773292255, \"showarrow\": false, \"yshift\": 15}, {\"text\": 1.1, \"x\": 1.422003156, \"y\": -4.2597735305, \"z\": -0.31785505855, \"showarrow\": false, \"yshift\": 15}, {\"text\": 1.09, \"x\": 1.5700389355, \"y\": -2.0382080785, \"z\": 1.6223071115, \"showarrow\": false, \"yshift\": 15}, {\"text\": 1.09, \"x\": -0.1090032144, \"y\": 1.762471845, \"z\": 0.3800153756, \"showarrow\": false, \"yshift\": 15}, {\"text\": 1.11, \"x\": -0.4358705094, \"y\": -0.1427203615, \"z\": 0.01269098865, \"showarrow\": false, \"yshift\": 15}, {\"text\": 1.1, \"x\": 1.0705012183, \"y\": -2.006666262, \"z\": -1.658293563, \"showarrow\": false, \"yshift\": 15}, {\"text\": 1.09, \"x\": 1.9817574295, \"y\": -4.139268171, \"z\": 0.36027138, \"showarrow\": false, \"yshift\": 15}, {\"text\": 1.09, \"x\": 0.6178266177, \"y\": 1.7336843405, \"z\": -0.12629743085, \"showarrow\": false, \"yshift\": 15}, {\"text\": 1.09, \"x\": -0.18359391955, \"y\": 1.726082812, \"z\": -0.50881138835, \"showarrow\": false, \"yshift\": 15}, {\"text\": 1.11, \"x\": 0.2592370835, \"y\": -2.085265006, \"z\": -1.316673571, \"showarrow\": false, \"yshift\": 15}, {\"text\": 1.1, \"x\": 2.2348854745, \"y\": -3.964159481, \"z\": -0.4737204387, \"showarrow\": false, \"yshift\": 15}]}]}, {\"label\": \"Atom indices & Bond lengths\", \"method\": \"relayout\", \"args\": [{\"scene.annotations\": [{\"text\": 0, \"x\": 0.1036607904, \"y\": 1.554271758, \"z\": -0.0771505621, \"showarrow\": false, \"yshift\": 15, \"font\": {\"color\": \"blue\"}}, {\"text\": 1, \"x\": 0.08769015390000001, \"y\": 0.0374637831, \"z\": -0.0007340558999999999, \"showarrow\": false, \"yshift\": 15, \"font\": {\"color\": \"blue\"}}, {\"text\": 2, \"x\": 0.7320866386, \"y\": -0.4735702124, \"z\": -1.1621931509999999, \"showarrow\": false, \"yshift\": 15, \"font\": {\"color\": \"blue\"}}, {\"text\": 3, \"x\": 0.7643199156, \"y\": -1.8777627590000001, \"z\": -1.2223528240000001, \"showarrow\": false, \"yshift\": 15, \"font\": {\"color\": \"blue\"}}, {\"text\": 4, \"x\": 1.331084809, \"y\": -2.524484483, \"z\": 0.0172714073, \"showarrow\": false, \"yshift\": 15, \"font\": {\"color\": \"blue\"}}, {\"text\": 5, \"x\": 1.817445524, \"y\": -3.9355053389999997, \"z\": -0.11890987199999999, \"showarrow\": false, \"yshift\": 15, \"font\": {\"color\": \"blue\"}}, {\"text\": 6, \"x\": 1.361455544, \"y\": -1.83074258, \"z\": 1.165680062, \"showarrow\": false, \"yshift\": 15, \"font\": {\"color\": \"blue\"}}, {\"text\": 7, \"x\": 0.7580245041, \"y\": -0.49411224189999997, \"z\": 1.276199901, \"showarrow\": false, \"yshift\": 15, \"font\": {\"color\": \"blue\"}}, {\"text\": 8, \"x\": 0.7267014086, \"y\": 0.1278960102, \"z\": 2.32030235, \"showarrow\": false, \"yshift\": 15, \"font\": {\"color\": \"blue\"}}, {\"text\": 9, \"x\": 1.131992445, \"y\": 1.9130969230000001, \"z\": -0.17544429960000002, \"showarrow\": false, \"yshift\": 15, \"font\": {\"color\": \"blue\"}}, {\"text\": 10, \"x\": -0.4708486295, \"y\": 1.897893866, \"z\": -0.9404722146, \"showarrow\": false, \"yshift\": 15, \"font\": {\"color\": \"blue\"}}, {\"text\": 11, \"x\": -0.3216672192, \"y\": 1.970671932, \"z\": 0.8371813133, \"showarrow\": false, \"yshift\": 15, \"font\": {\"color\": \"blue\"}}, {\"text\": 12, \"x\": -0.9594311727, \"y\": -0.3229045061, \"z\": 0.0261160332, \"showarrow\": false, \"yshift\": 15, \"font\": {\"color\": \"blue\"}}, {\"text\": 13, \"x\": -0.2458457486, \"y\": -2.292767253, \"z\": -1.4109943180000002, \"showarrow\": false, \"yshift\": 15, \"font\": {\"color\": \"blue\"}}, {\"text\": 14, \"x\": 1.376682521, \"y\": -2.135569765, \"z\": -2.094234302, \"showarrow\": false, \"yshift\": 15, \"font\": {\"color\": \"blue\"}}, {\"text\": 15, \"x\": 2.652325425, \"y\": -3.992813623, \"z\": -0.8285310054, \"showarrow\": false, \"yshift\": 15, \"font\": {\"color\": \"blue\"}}, {\"text\": 16, \"x\": 2.146069335, \"y\": -4.343031003, \"z\": 0.839452632, \"showarrow\": false, \"yshift\": 15, \"font\": {\"color\": \"blue\"}}, {\"text\": 17, \"x\": 1.026560788, \"y\": -4.584041722, \"z\": -0.5168002451, \"showarrow\": false, \"yshift\": 15, \"font\": {\"color\": \"blue\"}}, {\"text\": 18, \"x\": 1.778622327, \"y\": -2.245673577, \"z\": 2.078934161, \"showarrow\": false, \"yshift\": 15, \"font\": {\"color\": \"blue\"}}, {\"text\": 1.52, \"x\": 0.09567547215, \"y\": 0.79586777055, \"z\": -0.038942309, \"showarrow\": false, \"yshift\": 15}, {\"text\": 1.42, \"x\": 0.40988839625, \"y\": -0.21805321465, \"z\": -0.58146360345, \"showarrow\": false, \"yshift\": 15}, {\"text\": 1.41, \"x\": 0.7482032771, \"y\": -1.1756664857, \"z\": -1.1922729875, \"showarrow\": false, \"yshift\": 15}, {\"text\": 1.51, \"x\": 1.0477023623, \"y\": -2.201123621, \"z\": -0.60254070835, \"showarrow\": false, \"yshift\": 15}, {\"text\": 1.5, \"x\": 1.5742651665, \"y\": -3.229994911, \"z\": -0.05081923235, \"showarrow\": false, \"yshift\": 15}, {\"text\": 1.47, \"x\": 1.05974002405, \"y\": -1.16242741095, \"z\": 1.2209399815, \"showarrow\": false, \"yshift\": 15}, {\"text\": 1.22, \"x\": 0.74236295635, \"y\": -0.18310811585, \"z\": 1.7982511255, \"showarrow\": false, \"yshift\": 15}, {\"text\": 1.34, \"x\": 1.3462701765, \"y\": -2.1776135315, \"z\": 0.59147573465, \"showarrow\": false, \"yshift\": 15}, {\"text\": 1.54, \"x\": 0.422857329, \"y\": -0.2283242294, \"z\": 0.63773292255, \"showarrow\": false, \"yshift\": 15}, {\"text\": 1.1, \"x\": 1.422003156, \"y\": -4.2597735305, \"z\": -0.31785505855, \"showarrow\": false, \"yshift\": 15}, {\"text\": 1.09, \"x\": 1.5700389355, \"y\": -2.0382080785, \"z\": 1.6223071115, \"showarrow\": false, \"yshift\": 15}, {\"text\": 1.09, \"x\": -0.1090032144, \"y\": 1.762471845, \"z\": 0.3800153756, \"showarrow\": false, \"yshift\": 15}, {\"text\": 1.11, \"x\": -0.4358705094, \"y\": -0.1427203615, \"z\": 0.01269098865, \"showarrow\": false, \"yshift\": 15}, {\"text\": 1.1, \"x\": 1.0705012183, \"y\": -2.006666262, \"z\": -1.658293563, \"showarrow\": false, \"yshift\": 15}, {\"text\": 1.09, \"x\": 1.9817574295, \"y\": -4.139268171, \"z\": 0.36027138, \"showarrow\": false, \"yshift\": 15}, {\"text\": 1.09, \"x\": 0.6178266177, \"y\": 1.7336843405, \"z\": -0.12629743085, \"showarrow\": false, \"yshift\": 15}, {\"text\": 1.09, \"x\": -0.18359391955, \"y\": 1.726082812, \"z\": -0.50881138835, \"showarrow\": false, \"yshift\": 15}, {\"text\": 1.11, \"x\": 0.2592370835, \"y\": -2.085265006, \"z\": -1.316673571, \"showarrow\": false, \"yshift\": 15}, {\"text\": 1.1, \"x\": 2.2348854745, \"y\": -3.964159481, \"z\": -0.4737204387, \"showarrow\": false, \"yshift\": 15}]}]}, {\"label\": \"Hide all\", \"method\": \"relayout\", \"args\": [{\"scene.annotations\": []}]}], \"direction\": \"down\", \"xanchor\": \"left\", \"yanchor\": \"top\"}]}, {\"showLink\": true, \"linkText\": \"Export to plot.ly\"})});</script>"
      ]
     },
     "metadata": {},
     "output_type": "display_data"
    }
   ],
   "source": [
    "molecule_name = random.choice(molecule_names)\n",
    "plot_molecule(molecule_name, structures)"
   ]
  },
  {
   "cell_type": "code",
   "execution_count": 10,
   "metadata": {},
   "outputs": [
    {
     "data": {
      "text/html": [
       "<script>requirejs.config({paths: { 'plotly': ['https://cdn.plot.ly/plotly-latest.min']},});if(!window.Plotly) {{require(['plotly'],function(plotly) {window.Plotly=plotly;});}}</script>"
      ],
      "text/vnd.plotly.v1+html": [
       "<script>requirejs.config({paths: { 'plotly': ['https://cdn.plot.ly/plotly-latest.min']},});if(!window.Plotly) {{require(['plotly'],function(plotly) {window.Plotly=plotly;});}}</script>"
      ]
     },
     "metadata": {},
     "output_type": "display_data"
    }
   ],
   "source": [
    "\n",
    "\n",
    "# structures = pd.read_csv('../input/structures.csv')\n",
    "molecule_names = structures.molecule_name.unique()\n",
    "\n",
    "# initiate the plotly notebook mode\n",
    "init_notebook_mode(connected=True)\n",
    "\n",
    "\n",
    "def molecule_property(molecule_name, structures_df):\n",
    "    \"\"\"Creates a 3D plot of the molecule\"\"\"\n",
    "    \n",
    "    atomic_radii = dict(C=0.77, F=0.71, H=0.38, N=0.75, O=0.73)  \n",
    "    cpk_colors = dict(C='black', F='green', H='white', N='blue', O='red')\n",
    "\n",
    "    molecule = structures_df[structures_df.molecule_name == molecule_name]\n",
    "    coordinates = molecule[['x', 'y', 'z']].values\n",
    "    x_coordinates = coordinates[:, 0]\n",
    "    y_coordinates = coordinates[:, 1]\n",
    "    z_coordinates = coordinates[:, 2]\n",
    "    elements = molecule.atom.tolist()\n",
    "    radii = [atomic_radii[element] for element in elements]\n",
    "    \n",
    "    def get_bonds():\n",
    "        \"\"\"Generates a set of bonds from atomic cartesian coordinates\"\"\"\n",
    "        ids = np.arange(coordinates.shape[0])\n",
    "        bonds = dict()\n",
    "        coordinates_compare, radii_compare, ids_compare = coordinates, radii, ids\n",
    "        \n",
    "        for _ in range(len(ids)):\n",
    "            coordinates_compare = np.roll(coordinates_compare, -1, axis=0)\n",
    "            radii_compare = np.roll(radii_compare, -1, axis=0)\n",
    "            ids_compare = np.roll(ids_compare, -1, axis=0)\n",
    "            distances = np.linalg.norm(coordinates - coordinates_compare, axis=1)\n",
    "            bond_distances = (radii + radii_compare) * 1.3\n",
    "            mask = np.logical_and(distances > 0.1, distances <  bond_distances)\n",
    "            distances = distances.round(2)\n",
    "            new_bonds = {frozenset([i, j]): dist for i, j, dist in zip(ids[mask], ids_compare[mask], distances[mask])}\n",
    "            bonds.update(new_bonds)\n",
    "        return bonds            \n",
    "            \n",
    "    def atom_trace():\n",
    "        \"\"\"Creates an atom trace for the plot\"\"\"\n",
    "        colors = [cpk_colors[element] for element in elements]\n",
    "        markers = dict(color=colors, line=dict(color='lightgray', width=2), size=7, symbol='circle', opacity=0.8)\n",
    "        trace = go.Scatter3d(x=x_coordinates, y=y_coordinates, z=z_coordinates, mode='markers', marker=markers,\n",
    "                             text=elements, name='')\n",
    "        return trace\n",
    "\n",
    "    def bond_trace():\n",
    "        \"\"\"\"Creates a bond trace for the plot\"\"\"\n",
    "        trace = go.Scatter3d(x=[], y=[], z=[], hoverinfo='none', mode='lines',\n",
    "                             marker=dict(color='grey', size=7, opacity=1))\n",
    "        for i, j in bonds.keys():\n",
    "            trace['x'] += (x_coordinates[i], x_coordinates[j], None)\n",
    "            trace['y'] += (y_coordinates[i], y_coordinates[j], None)\n",
    "            trace['z'] += (z_coordinates[i], z_coordinates[j], None)\n",
    "        return trace\n",
    "    \n",
    "    bonds = get_bonds()\n",
    "    return bonds, atom_trace(), bond_trace()"
   ]
  },
  {
   "cell_type": "code",
   "execution_count": 12,
   "metadata": {},
   "outputs": [
    {
     "name": "stdout",
     "output_type": "stream",
     "text": [
      "dsgdb9nsd_099055\n"
     ]
    }
   ],
   "source": [
    "molecule_name = random.choice(molecule_names)\n",
    "print(molecule_name)\n",
    "bonds, atom_trace, bond_trace = molecule_property(molecule_name, structures)"
   ]
  },
  {
   "cell_type": "code",
   "execution_count": 13,
   "metadata": {},
   "outputs": [
    {
     "data": {
      "text/plain": [
       "{frozenset({0, 1}): 1.53,\n",
       " frozenset({1, 2}): 1.53,\n",
       " frozenset({2, 3}): 1.22,\n",
       " frozenset({4, 5}): 1.46,\n",
       " frozenset({5, 6}): 1.54,\n",
       " frozenset({7, 8}): 1.2,\n",
       " frozenset({2, 4}): 1.37,\n",
       " frozenset({5, 7}): 1.46,\n",
       " frozenset({1, 13}): 1.1,\n",
       " frozenset({6, 18}): 1.09,\n",
       " frozenset({0, 9}): 1.09,\n",
       " frozenset({0, 11}): 1.09,\n",
       " frozenset({1, 12}): 1.1,\n",
       " frozenset({6, 17}): 1.09,\n",
       " frozenset({8, 19}): 1.06,\n",
       " frozenset({0, 10}): 1.09,\n",
       " frozenset({4, 14}): 1.01,\n",
       " frozenset({5, 15}): 1.1,\n",
       " frozenset({6, 16}): 1.09}"
      ]
     },
     "execution_count": 13,
     "metadata": {},
     "output_type": "execute_result"
    }
   ],
   "source": [
    "bonds"
   ]
  },
  {
   "cell_type": "code",
   "execution_count": 14,
   "metadata": {},
   "outputs": [
    {
     "data": {
      "text/plain": [
       "{'type': 'scatter3d',\n",
       " 'x': array([ 0.15417602, -0.04113136, -1.50630591, -2.42967525, -1.70951099,\n",
       "        -3.04821834, -3.64353928, -3.01413678, -2.97257323,  1.18708963,\n",
       "        -0.07788805, -0.51407933,  0.57568086,  0.285293  , -0.92219846,\n",
       "        -3.66464968, -4.65504343, -3.6852583 , -3.03075496, -2.94992532]),\n",
       " 'y': array([ 1.43536596, -0.00888262, -0.43698322,  0.34873741, -1.7755512 ,\n",
       "        -2.36400169, -2.52402578, -3.63624128, -4.69795794,  1.75717991,\n",
       "         1.54390771,  2.09838002, -0.69960211, -0.1160697 , -2.39822785,\n",
       "        -1.64467986, -2.93510147, -1.54603605, -3.19855122, -5.62753367]),\n",
       " 'z': array([-0.391573  ,  0.07055499,  0.01996148,  0.15071237, -0.15887744,\n",
       "        -0.12284311, -1.53439479,  0.59849374,  1.16007514, -0.23294577,\n",
       "        -1.45526931,  0.1612653 , -0.51631168,  1.11372614, -0.23792076,\n",
       "         0.42759885, -1.47610251, -2.01980212, -2.13908595,  1.67327203]),\n",
       " 'mode': 'markers',\n",
       " 'marker': {'color': ['black',\n",
       "   'black',\n",
       "   'black',\n",
       "   'red',\n",
       "   'blue',\n",
       "   'black',\n",
       "   'black',\n",
       "   'black',\n",
       "   'black',\n",
       "   'white',\n",
       "   'white',\n",
       "   'white',\n",
       "   'white',\n",
       "   'white',\n",
       "   'white',\n",
       "   'white',\n",
       "   'white',\n",
       "   'white',\n",
       "   'white',\n",
       "   'white'],\n",
       "  'line': {'color': 'lightgray', 'width': 2},\n",
       "  'size': 7,\n",
       "  'symbol': 'circle',\n",
       "  'opacity': 0.8},\n",
       " 'text': ['C',\n",
       "  'C',\n",
       "  'C',\n",
       "  'O',\n",
       "  'N',\n",
       "  'C',\n",
       "  'C',\n",
       "  'C',\n",
       "  'C',\n",
       "  'H',\n",
       "  'H',\n",
       "  'H',\n",
       "  'H',\n",
       "  'H',\n",
       "  'H',\n",
       "  'H',\n",
       "  'H',\n",
       "  'H',\n",
       "  'H',\n",
       "  'H'],\n",
       " 'name': ''}"
      ]
     },
     "execution_count": 14,
     "metadata": {},
     "output_type": "execute_result"
    }
   ],
   "source": [
    "atom_trace"
   ]
  },
  {
   "cell_type": "code",
   "execution_count": 15,
   "metadata": {
    "scrolled": false
   },
   "outputs": [
    {
     "data": {
      "text/plain": [
       "{'type': 'scatter3d',\n",
       " 'x': [0.1541760192,\n",
       "  -0.041131357400000006,\n",
       "  None,\n",
       "  -0.041131357400000006,\n",
       "  -1.506305906,\n",
       "  None,\n",
       "  -1.506305906,\n",
       "  -2.429675255,\n",
       "  None,\n",
       "  -1.709510989,\n",
       "  -3.048218345,\n",
       "  None,\n",
       "  -3.048218345,\n",
       "  -3.643539275,\n",
       "  None,\n",
       "  -2.972573225,\n",
       "  -3.014136777,\n",
       "  None,\n",
       "  -1.506305906,\n",
       "  -1.709510989,\n",
       "  None,\n",
       "  -3.048218345,\n",
       "  -3.014136777,\n",
       "  None,\n",
       "  -0.041131357400000006,\n",
       "  0.2852929984,\n",
       "  None,\n",
       "  -3.030754957,\n",
       "  -3.643539275,\n",
       "  None,\n",
       "  0.1541760192,\n",
       "  1.1870896290000001,\n",
       "  None,\n",
       "  0.1541760192,\n",
       "  -0.5140793334,\n",
       "  None,\n",
       "  -0.041131357400000006,\n",
       "  0.5756808563,\n",
       "  None,\n",
       "  -3.685258302,\n",
       "  -3.643539275,\n",
       "  None,\n",
       "  -2.972573225,\n",
       "  -2.949925318,\n",
       "  None,\n",
       "  0.1541760192,\n",
       "  -0.0778880524,\n",
       "  None,\n",
       "  -1.709510989,\n",
       "  -0.9221984595999999,\n",
       "  None,\n",
       "  -3.048218345,\n",
       "  -3.6646496789999996,\n",
       "  None,\n",
       "  -4.655043433,\n",
       "  -3.643539275,\n",
       "  None],\n",
       " 'y': [1.4353659619999999,\n",
       "  -0.0088826206,\n",
       "  None,\n",
       "  -0.0088826206,\n",
       "  -0.4369832199,\n",
       "  None,\n",
       "  -0.4369832199,\n",
       "  0.3487374137,\n",
       "  None,\n",
       "  -1.775551204,\n",
       "  -2.364001695,\n",
       "  None,\n",
       "  -2.364001695,\n",
       "  -2.5240257809999997,\n",
       "  None,\n",
       "  -4.697957937,\n",
       "  -3.636241282,\n",
       "  None,\n",
       "  -0.4369832199,\n",
       "  -1.775551204,\n",
       "  None,\n",
       "  -2.364001695,\n",
       "  -3.636241282,\n",
       "  None,\n",
       "  -0.0088826206,\n",
       "  -0.1160696957,\n",
       "  None,\n",
       "  -3.198551217,\n",
       "  -2.5240257809999997,\n",
       "  None,\n",
       "  1.4353659619999999,\n",
       "  1.7571799080000001,\n",
       "  None,\n",
       "  1.4353659619999999,\n",
       "  2.098380025,\n",
       "  None,\n",
       "  -0.0088826206,\n",
       "  -0.6996021122,\n",
       "  None,\n",
       "  -1.546036051,\n",
       "  -2.5240257809999997,\n",
       "  None,\n",
       "  -4.697957937,\n",
       "  -5.627533672,\n",
       "  None,\n",
       "  1.4353659619999999,\n",
       "  1.543907713,\n",
       "  None,\n",
       "  -1.775551204,\n",
       "  -2.398227847,\n",
       "  None,\n",
       "  -2.364001695,\n",
       "  -1.6446798580000002,\n",
       "  None,\n",
       "  -2.9351014689999997,\n",
       "  -2.5240257809999997,\n",
       "  None],\n",
       " 'z': [-0.3915729993,\n",
       "  0.0705549947,\n",
       "  None,\n",
       "  0.0705549947,\n",
       "  0.019961478799999998,\n",
       "  None,\n",
       "  0.019961478799999998,\n",
       "  0.1507123711,\n",
       "  None,\n",
       "  -0.1588774446,\n",
       "  -0.12284310679999999,\n",
       "  None,\n",
       "  -0.12284310679999999,\n",
       "  -1.53439479,\n",
       "  None,\n",
       "  1.160075142,\n",
       "  0.5984937367000001,\n",
       "  None,\n",
       "  0.019961478799999998,\n",
       "  -0.1588774446,\n",
       "  None,\n",
       "  -0.12284310679999999,\n",
       "  0.5984937367000001,\n",
       "  None,\n",
       "  0.0705549947,\n",
       "  1.113726142,\n",
       "  None,\n",
       "  -2.139085954,\n",
       "  -1.53439479,\n",
       "  None,\n",
       "  -0.3915729993,\n",
       "  -0.2329457748,\n",
       "  None,\n",
       "  -0.3915729993,\n",
       "  0.1612652956,\n",
       "  None,\n",
       "  0.0705549947,\n",
       "  -0.5163116775,\n",
       "  None,\n",
       "  -2.0198021230000003,\n",
       "  -1.53439479,\n",
       "  None,\n",
       "  1.160075142,\n",
       "  1.67327203,\n",
       "  None,\n",
       "  -0.3915729993,\n",
       "  -1.455269306,\n",
       "  None,\n",
       "  -0.1588774446,\n",
       "  -0.2379207607,\n",
       "  None,\n",
       "  -0.12284310679999999,\n",
       "  0.4275988547,\n",
       "  None,\n",
       "  -1.476102509,\n",
       "  -1.53439479,\n",
       "  None],\n",
       " 'hoverinfo': 'none',\n",
       " 'mode': 'lines',\n",
       " 'marker': {'color': 'grey', 'size': 7, 'opacity': 1}}"
      ]
     },
     "execution_count": 15,
     "metadata": {},
     "output_type": "execute_result"
    }
   ],
   "source": [
    "bond_trace"
   ]
  },
  {
   "cell_type": "code",
   "execution_count": null,
   "metadata": {},
   "outputs": [],
   "source": []
  }
 ],
 "metadata": {
  "kernelspec": {
   "display_name": "Environment (conda_tensorflow_gpu_p36)",
   "language": "python",
   "name": "conda_tensorflow_gpu_p36"
  },
  "language_info": {
   "codemirror_mode": {
    "name": "ipython",
    "version": 3
   },
   "file_extension": ".py",
   "mimetype": "text/x-python",
   "name": "python",
   "nbconvert_exporter": "python",
   "pygments_lexer": "ipython3",
   "version": "3.6.7"
  }
 },
 "nbformat": 4,
 "nbformat_minor": 2
}
