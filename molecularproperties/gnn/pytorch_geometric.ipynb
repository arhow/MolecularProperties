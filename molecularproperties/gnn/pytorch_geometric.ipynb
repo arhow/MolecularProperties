{
 "cells": [
  {
   "cell_type": "code",
   "execution_count": 1,
   "metadata": {},
   "outputs": [
    {
     "data": {
      "text/html": [
       "<style>\n",
       "   div#notebook-container    { width: 95%; }\n",
       "   div#menubar-container     { width: 65%; }\n",
       "   div#maintoolbar-container { width: 99%; }\n",
       "</style>"
      ],
      "text/plain": [
       "<IPython.core.display.HTML object>"
      ]
     },
     "metadata": {},
     "output_type": "display_data"
    }
   ],
   "source": [
    "%%HTML\n",
    "<style>\n",
    "   div#notebook-container    { width: 95%; }\n",
    "   div#menubar-container     { width: 65%; }\n",
    "   div#maintoolbar-container { width: 99%; }\n",
    "</style>"
   ]
  },
  {
   "cell_type": "code",
   "execution_count": 4,
   "metadata": {
    "scrolled": false
   },
   "outputs": [],
   "source": [
    "# !{sys.executable} -m pip install torch_sparse"
   ]
  },
  {
   "cell_type": "code",
   "execution_count": 2,
   "metadata": {},
   "outputs": [],
   "source": [
    "import sys\n",
    "sys.path.append(\"../..\") # Adds higher directory to python modules path.\n",
    "from utilities import aggregate_feature_calculators\n",
    "from utilities import aggregate_feature_calculators_setting as aggcal\n",
    "from utilities.parallel import Parallel"
   ]
  },
  {
   "cell_type": "code",
   "execution_count": 3,
   "metadata": {},
   "outputs": [],
   "source": [
    "import pandas as pd\n",
    "import numpy as np\n",
    "import os\n",
    "import os.path as osp\n",
    "import datetime\n",
    "\n",
    "import seaborn as sns\n",
    "import matplotlib.pyplot as plt\n",
    "\n",
    "from tqdm import tqdm_notebook\n",
    "\n",
    "from sklearn.preprocessing import LabelEncoder\n",
    "from sklearn.model_selection import StratifiedKFold, KFold, GroupKFold, TimeSeriesSplit\n",
    "from sklearn.metrics import mean_absolute_error, mean_squared_error\n",
    "from sklearn.model_selection import train_test_split\n",
    "\n",
    "from torch_geometric.data import Data, DataLoader\n",
    "import torch\n",
    "import torch.nn.functional as F\n",
    "from torch_geometric.datasets import Planetoid\n",
    "from torch_geometric.datasets import QM9\n",
    "from torch_geometric.datasets import TUDataset\n",
    "import torch_geometric.transforms as T\n",
    "from torch_geometric.nn import GCNConv, ChebConv  # noqa\n",
    "from torch.nn import Sequential, Linear, ReLU, GRU\n",
    "import torch_geometric.transforms as T\n",
    "from torch_geometric.datasets import QM9\n",
    "from torch_geometric.nn import NNConv, Set2Set\n",
    "from torch_geometric.data import DataLoader\n",
    "from torch_geometric.utils import remove_self_loops\n",
    "from torch_geometric.data import Data"
   ]
  },
  {
   "cell_type": "code",
   "execution_count": 4,
   "metadata": {},
   "outputs": [
    {
     "data": {
      "text/plain": [
       "['sample_submission.csv',\n",
       " 'magnetic_shielding_tensors.csv',\n",
       " 'potential_energy.csv',\n",
       " 'scalar_coupling_contributions.csv',\n",
       " 'dipole_moments.csv',\n",
       " 'mulliken_charges.csv',\n",
       " 'train.csv',\n",
       " 'test.csv',\n",
       " 'structures.csv',\n",
       " 'structures']"
      ]
     },
     "execution_count": 4,
     "metadata": {},
     "output_type": "execute_result"
    }
   ],
   "source": [
    "file_folder = '../../data/input'\n",
    "os.listdir(file_folder)"
   ]
  },
  {
   "cell_type": "code",
   "execution_count": 9,
   "metadata": {},
   "outputs": [],
   "source": [
    "atomic_radius = {'H': 0.38, 'C': 0.77, 'N': 0.75, 'O': 0.73, 'F': 0.71}\n",
    "atomic_number = {'H': 1, 'C': 6, 'N': 7, 'O': 8, 'F': 9}\n",
    "atomic_mass = {'H': 1.0079, 'C': 12.0107, 'N': 14.0067, 'O': 15.9994, 'F': 18.9984}\n",
    "vanderwaalsradius = {'H': 120, 'C': 185, 'N': 154, 'O': 140, 'F': 135}\n",
    "covalenzradius = {'H': 30, 'C': 77, 'N': 70, 'O': 66, 'F': 58}\n",
    "electronegativity = {'H': 2.2, 'C': 2.55, 'N': 3.04, 'O': 3.44, 'F': 3.98}\n",
    "ionization_energy = {'H': 13.5984, 'C': 11.2603, 'N': 14.5341, 'O': 13.6181, 'F': 17.4228}"
   ]
  },
  {
   "cell_type": "code",
   "execution_count": 10,
   "metadata": {},
   "outputs": [],
   "source": [
    "train = pd.read_csv(f'{file_folder}/train.csv')\n",
    "test = pd.read_csv(f'{file_folder}/test.csv')\n",
    "sub = pd.read_csv(f'{file_folder}/sample_submission.csv')\n",
    "train['type0'] = train['type'].apply(lambda x: int(x[0]))\n",
    "train['type1'] = train['type'].apply(lambda x: x[1:])\n",
    "\n",
    "le = LabelEncoder()\n",
    "le.fit(train.type1.tolist())\n",
    "int_bond_type = le.transform(train.type1.tolist()) \n",
    "train['int_type1']= int_bond_type\n",
    "\n",
    "test['type0'] = test['type'].apply(lambda x: int(x[0]))\n",
    "test['type1'] = test['type'].apply(lambda x: x[1:])\n",
    "int_bond_type = le.transform(test.type1.tolist()) \n",
    "test['int_type1']= int_bond_type"
   ]
  },
  {
   "cell_type": "code",
   "execution_count": 11,
   "metadata": {},
   "outputs": [
    {
     "data": {
      "text/plain": [
       "array(['JHC', 'JHH', 'JHN'], dtype='<U3')"
      ]
     },
     "execution_count": 11,
     "metadata": {},
     "output_type": "execute_result"
    }
   ],
   "source": [
    "le.classes_"
   ]
  },
  {
   "cell_type": "code",
   "execution_count": 12,
   "metadata": {},
   "outputs": [],
   "source": [
    "magnetic_shielding_tensors = pd.read_csv(f'{file_folder}/magnetic_shielding_tensors.csv')\n",
    "dipole_moments = pd.read_csv(f'{file_folder}/dipole_moments.csv')\n",
    "mulliken_charges = pd.read_csv(f'{file_folder}/mulliken_charges.csv')\n",
    "potential_energy = pd.read_csv(f'{file_folder}/potential_energy.csv')\n",
    "scalar_coupling_contributions = pd.read_csv(f'{file_folder}/scalar_coupling_contributions.csv')\n",
    "structures = pd.read_csv(f'{file_folder}/structures.csv')"
   ]
  },
  {
   "cell_type": "code",
   "execution_count": 13,
   "metadata": {},
   "outputs": [],
   "source": [
    "x = magnetic_shielding_tensors.columns.values[2:]\n",
    "x = magnetic_shielding_tensors[x].values\n",
    "x = x.reshape(-1,3,3)\n",
    "x = x + np.transpose(x,(0,2,1))\n",
    "x = 0.5 * x\n",
    "w, v = np.linalg.eigh(x)\n",
    "\n",
    "sigma_iso = np.sum(w, axis=1)/3 \n",
    "omega = w[:,2] - w[:,0]\n",
    "kappa = 3 * (sigma_iso - w[:,1])/omega\n",
    "\n",
    "magnetic_shielding_parameters = magnetic_shielding_tensors[magnetic_shielding_tensors.columns.values[:2]]\n",
    "magnetic_shielding_parameters = pd.DataFrame(magnetic_shielding_parameters)\n",
    "magnetic_shielding_parameters[\"sigma_iso\"] = sigma_iso\n",
    "magnetic_shielding_parameters[\"omega\"] = omega\n",
    "magnetic_shielding_parameters[\"kappa\"] = kappa"
   ]
  },
  {
   "cell_type": "code",
   "execution_count": 14,
   "metadata": {},
   "outputs": [],
   "source": [
    "atomic_radius = {'H': 0.38, 'C': 0.77, 'N': 0.75, 'O': 0.73, 'F': 0.71}\n",
    "atomic_number = {'H': 1, 'C': 6, 'N': 7, 'O': 8, 'F': 9}\n",
    "atomic_mass = {'H': 1.0079, 'C': 12.0107, 'N': 14.0067, 'O': 15.9994, 'F': 18.9984}\n",
    "vanderwaalsradius = {'H': 120, 'C': 185, 'N': 154, 'O': 140, 'F': 135}\n",
    "covalenzradius = {'H': 30, 'C': 77, 'N': 70, 'O': 66, 'F': 58}\n",
    "electronegativity = {'H': 2.2, 'C': 2.55, 'N': 3.04, 'O': 3.44, 'F': 3.98}\n",
    "ionization_energy = {'H': 13.5984, 'C': 11.2603, 'N': 14.5341, 'O': 13.6181, 'F': 17.4228}\n",
    "\n",
    "structures['atomic_radius'] = structures['atom'].apply(lambda x: atomic_radius[x])\n",
    "structures['atomic_number'] = structures['atom'].apply(lambda x: atomic_number[x])\n",
    "structures['atomic_mass'] = structures['atom'].apply(lambda x: atomic_mass[x])\n",
    "structures['vanderwaalsradius'] = structures['atom'].apply(lambda x: vanderwaalsradius[x])\n",
    "structures['covalenzradius'] = structures['atom'].apply(lambda x: covalenzradius[x])\n",
    "structures['electronegativity'] = structures['atom'].apply(lambda x: electronegativity[x])\n",
    "structures['ionization_energy'] = structures['atom'].apply(lambda x: ionization_energy[x])\n"
   ]
  },
  {
   "cell_type": "code",
   "execution_count": 15,
   "metadata": {},
   "outputs": [
    {
     "data": {
      "text/html": [
       "<div>\n",
       "<style scoped>\n",
       "    .dataframe tbody tr th:only-of-type {\n",
       "        vertical-align: middle;\n",
       "    }\n",
       "\n",
       "    .dataframe tbody tr th {\n",
       "        vertical-align: top;\n",
       "    }\n",
       "\n",
       "    .dataframe thead th {\n",
       "        text-align: right;\n",
       "    }\n",
       "</style>\n",
       "<table border=\"1\" class=\"dataframe\">\n",
       "  <thead>\n",
       "    <tr style=\"text-align: right;\">\n",
       "      <th></th>\n",
       "      <th>molecule_name</th>\n",
       "      <th>atom_index</th>\n",
       "      <th>atom</th>\n",
       "      <th>x</th>\n",
       "      <th>y</th>\n",
       "      <th>z</th>\n",
       "      <th>atomic_radius</th>\n",
       "      <th>atomic_number</th>\n",
       "      <th>atomic_mass</th>\n",
       "      <th>vanderwaalsradius</th>\n",
       "      <th>covalenzradius</th>\n",
       "      <th>electronegativity</th>\n",
       "      <th>ionization_energy</th>\n",
       "    </tr>\n",
       "  </thead>\n",
       "  <tbody>\n",
       "    <tr>\n",
       "      <th>0</th>\n",
       "      <td>dsgdb9nsd_000001</td>\n",
       "      <td>0</td>\n",
       "      <td>C</td>\n",
       "      <td>-0.012698</td>\n",
       "      <td>1.085804</td>\n",
       "      <td>0.008001</td>\n",
       "      <td>0.77</td>\n",
       "      <td>6</td>\n",
       "      <td>12.0107</td>\n",
       "      <td>185</td>\n",
       "      <td>77</td>\n",
       "      <td>2.55</td>\n",
       "      <td>11.2603</td>\n",
       "    </tr>\n",
       "    <tr>\n",
       "      <th>1</th>\n",
       "      <td>dsgdb9nsd_000001</td>\n",
       "      <td>1</td>\n",
       "      <td>H</td>\n",
       "      <td>0.002150</td>\n",
       "      <td>-0.006031</td>\n",
       "      <td>0.001976</td>\n",
       "      <td>0.38</td>\n",
       "      <td>1</td>\n",
       "      <td>1.0079</td>\n",
       "      <td>120</td>\n",
       "      <td>30</td>\n",
       "      <td>2.20</td>\n",
       "      <td>13.5984</td>\n",
       "    </tr>\n",
       "    <tr>\n",
       "      <th>2</th>\n",
       "      <td>dsgdb9nsd_000001</td>\n",
       "      <td>2</td>\n",
       "      <td>H</td>\n",
       "      <td>1.011731</td>\n",
       "      <td>1.463751</td>\n",
       "      <td>0.000277</td>\n",
       "      <td>0.38</td>\n",
       "      <td>1</td>\n",
       "      <td>1.0079</td>\n",
       "      <td>120</td>\n",
       "      <td>30</td>\n",
       "      <td>2.20</td>\n",
       "      <td>13.5984</td>\n",
       "    </tr>\n",
       "    <tr>\n",
       "      <th>3</th>\n",
       "      <td>dsgdb9nsd_000001</td>\n",
       "      <td>3</td>\n",
       "      <td>H</td>\n",
       "      <td>-0.540815</td>\n",
       "      <td>1.447527</td>\n",
       "      <td>-0.876644</td>\n",
       "      <td>0.38</td>\n",
       "      <td>1</td>\n",
       "      <td>1.0079</td>\n",
       "      <td>120</td>\n",
       "      <td>30</td>\n",
       "      <td>2.20</td>\n",
       "      <td>13.5984</td>\n",
       "    </tr>\n",
       "    <tr>\n",
       "      <th>4</th>\n",
       "      <td>dsgdb9nsd_000001</td>\n",
       "      <td>4</td>\n",
       "      <td>H</td>\n",
       "      <td>-0.523814</td>\n",
       "      <td>1.437933</td>\n",
       "      <td>0.906397</td>\n",
       "      <td>0.38</td>\n",
       "      <td>1</td>\n",
       "      <td>1.0079</td>\n",
       "      <td>120</td>\n",
       "      <td>30</td>\n",
       "      <td>2.20</td>\n",
       "      <td>13.5984</td>\n",
       "    </tr>\n",
       "  </tbody>\n",
       "</table>\n",
       "</div>"
      ],
      "text/plain": [
       "      molecule_name  atom_index atom         x         y         z  \\\n",
       "0  dsgdb9nsd_000001           0    C -0.012698  1.085804  0.008001   \n",
       "1  dsgdb9nsd_000001           1    H  0.002150 -0.006031  0.001976   \n",
       "2  dsgdb9nsd_000001           2    H  1.011731  1.463751  0.000277   \n",
       "3  dsgdb9nsd_000001           3    H -0.540815  1.447527 -0.876644   \n",
       "4  dsgdb9nsd_000001           4    H -0.523814  1.437933  0.906397   \n",
       "\n",
       "   atomic_radius  atomic_number  atomic_mass  vanderwaalsradius  \\\n",
       "0           0.77              6      12.0107                185   \n",
       "1           0.38              1       1.0079                120   \n",
       "2           0.38              1       1.0079                120   \n",
       "3           0.38              1       1.0079                120   \n",
       "4           0.38              1       1.0079                120   \n",
       "\n",
       "   covalenzradius  electronegativity  ionization_energy  \n",
       "0              77               2.55            11.2603  \n",
       "1              30               2.20            13.5984  \n",
       "2              30               2.20            13.5984  \n",
       "3              30               2.20            13.5984  \n",
       "4              30               2.20            13.5984  "
      ]
     },
     "execution_count": 15,
     "metadata": {},
     "output_type": "execute_result"
    }
   ],
   "source": [
    "structures.head()"
   ]
  },
  {
   "cell_type": "code",
   "execution_count": 16,
   "metadata": {},
   "outputs": [],
   "source": [
    "le = LabelEncoder()\n",
    "le.fit(structures.atom.tolist())\n",
    "int_atom = le.transform(structures.atom.tolist()) \n",
    "structures['int_atom'] = int_atom"
   ]
  },
  {
   "cell_type": "code",
   "execution_count": 17,
   "metadata": {},
   "outputs": [
    {
     "data": {
      "text/plain": [
       "array(['C', 'F', 'H', 'N', 'O'], dtype='<U1')"
      ]
     },
     "execution_count": 17,
     "metadata": {},
     "output_type": "execute_result"
    }
   ],
   "source": [
    "le.classes_"
   ]
  },
  {
   "cell_type": "code",
   "execution_count": 15,
   "metadata": {},
   "outputs": [
    {
     "data": {
      "text/html": [
       "<div>\n",
       "<style scoped>\n",
       "    .dataframe tbody tr th:only-of-type {\n",
       "        vertical-align: middle;\n",
       "    }\n",
       "\n",
       "    .dataframe tbody tr th {\n",
       "        vertical-align: top;\n",
       "    }\n",
       "\n",
       "    .dataframe thead th {\n",
       "        text-align: right;\n",
       "    }\n",
       "</style>\n",
       "<table border=\"1\" class=\"dataframe\">\n",
       "  <thead>\n",
       "    <tr style=\"text-align: right;\">\n",
       "      <th></th>\n",
       "      <th>molecule_name</th>\n",
       "      <th>atom_index</th>\n",
       "      <th>sigma_iso</th>\n",
       "      <th>omega</th>\n",
       "      <th>kappa</th>\n",
       "    </tr>\n",
       "  </thead>\n",
       "  <tbody>\n",
       "    <tr>\n",
       "      <th>0</th>\n",
       "      <td>dsgdb9nsd_000001</td>\n",
       "      <td>0</td>\n",
       "      <td>195.316333</td>\n",
       "      <td>0.002708</td>\n",
       "      <td>0.032697</td>\n",
       "    </tr>\n",
       "    <tr>\n",
       "      <th>1</th>\n",
       "      <td>dsgdb9nsd_000001</td>\n",
       "      <td>1</td>\n",
       "      <td>31.460567</td>\n",
       "      <td>9.082838</td>\n",
       "      <td>0.999975</td>\n",
       "    </tr>\n",
       "    <tr>\n",
       "      <th>2</th>\n",
       "      <td>dsgdb9nsd_000001</td>\n",
       "      <td>2</td>\n",
       "      <td>31.460567</td>\n",
       "      <td>9.082793</td>\n",
       "      <td>0.999984</td>\n",
       "    </tr>\n",
       "    <tr>\n",
       "      <th>3</th>\n",
       "      <td>dsgdb9nsd_000001</td>\n",
       "      <td>3</td>\n",
       "      <td>31.460633</td>\n",
       "      <td>9.082804</td>\n",
       "      <td>0.999977</td>\n",
       "    </tr>\n",
       "    <tr>\n",
       "      <th>4</th>\n",
       "      <td>dsgdb9nsd_000001</td>\n",
       "      <td>4</td>\n",
       "      <td>31.460600</td>\n",
       "      <td>9.082853</td>\n",
       "      <td>0.999971</td>\n",
       "    </tr>\n",
       "  </tbody>\n",
       "</table>\n",
       "</div>"
      ],
      "text/plain": [
       "      molecule_name  atom_index   sigma_iso     omega     kappa\n",
       "0  dsgdb9nsd_000001           0  195.316333  0.002708  0.032697\n",
       "1  dsgdb9nsd_000001           1   31.460567  9.082838  0.999975\n",
       "2  dsgdb9nsd_000001           2   31.460567  9.082793  0.999984\n",
       "3  dsgdb9nsd_000001           3   31.460633  9.082804  0.999977\n",
       "4  dsgdb9nsd_000001           4   31.460600  9.082853  0.999971"
      ]
     },
     "execution_count": 15,
     "metadata": {},
     "output_type": "execute_result"
    }
   ],
   "source": [
    "magnetic_shielding_parameters.head()"
   ]
  },
  {
   "cell_type": "code",
   "execution_count": 16,
   "metadata": {},
   "outputs": [
    {
     "data": {
      "text/html": [
       "<div>\n",
       "<style scoped>\n",
       "    .dataframe tbody tr th:only-of-type {\n",
       "        vertical-align: middle;\n",
       "    }\n",
       "\n",
       "    .dataframe tbody tr th {\n",
       "        vertical-align: top;\n",
       "    }\n",
       "\n",
       "    .dataframe thead th {\n",
       "        text-align: right;\n",
       "    }\n",
       "</style>\n",
       "<table border=\"1\" class=\"dataframe\">\n",
       "  <thead>\n",
       "    <tr style=\"text-align: right;\">\n",
       "      <th></th>\n",
       "      <th>molecule_name</th>\n",
       "      <th>atom_index</th>\n",
       "      <th>mulliken_charge</th>\n",
       "    </tr>\n",
       "  </thead>\n",
       "  <tbody>\n",
       "    <tr>\n",
       "      <th>0</th>\n",
       "      <td>dsgdb9nsd_000001</td>\n",
       "      <td>0</td>\n",
       "      <td>-0.535689</td>\n",
       "    </tr>\n",
       "    <tr>\n",
       "      <th>1</th>\n",
       "      <td>dsgdb9nsd_000001</td>\n",
       "      <td>1</td>\n",
       "      <td>0.133921</td>\n",
       "    </tr>\n",
       "    <tr>\n",
       "      <th>2</th>\n",
       "      <td>dsgdb9nsd_000001</td>\n",
       "      <td>2</td>\n",
       "      <td>0.133922</td>\n",
       "    </tr>\n",
       "    <tr>\n",
       "      <th>3</th>\n",
       "      <td>dsgdb9nsd_000001</td>\n",
       "      <td>3</td>\n",
       "      <td>0.133923</td>\n",
       "    </tr>\n",
       "    <tr>\n",
       "      <th>4</th>\n",
       "      <td>dsgdb9nsd_000001</td>\n",
       "      <td>4</td>\n",
       "      <td>0.133923</td>\n",
       "    </tr>\n",
       "  </tbody>\n",
       "</table>\n",
       "</div>"
      ],
      "text/plain": [
       "      molecule_name  atom_index  mulliken_charge\n",
       "0  dsgdb9nsd_000001           0        -0.535689\n",
       "1  dsgdb9nsd_000001           1         0.133921\n",
       "2  dsgdb9nsd_000001           2         0.133922\n",
       "3  dsgdb9nsd_000001           3         0.133923\n",
       "4  dsgdb9nsd_000001           4         0.133923"
      ]
     },
     "execution_count": 16,
     "metadata": {},
     "output_type": "execute_result"
    }
   ],
   "source": [
    "mulliken_charges.head()"
   ]
  },
  {
   "cell_type": "code",
   "execution_count": 25,
   "metadata": {},
   "outputs": [],
   "source": [
    "dipole_moments['rms'] = np.sqrt(dipole_moments['X']**2 + dipole_moments['Y']**2 + dipole_moments['Z']**2 )"
   ]
  },
  {
   "cell_type": "code",
   "execution_count": 18,
   "metadata": {},
   "outputs": [
    {
     "data": {
      "text/html": [
       "<div>\n",
       "<style scoped>\n",
       "    .dataframe tbody tr th:only-of-type {\n",
       "        vertical-align: middle;\n",
       "    }\n",
       "\n",
       "    .dataframe tbody tr th {\n",
       "        vertical-align: top;\n",
       "    }\n",
       "\n",
       "    .dataframe thead th {\n",
       "        text-align: right;\n",
       "    }\n",
       "</style>\n",
       "<table border=\"1\" class=\"dataframe\">\n",
       "  <thead>\n",
       "    <tr style=\"text-align: right;\">\n",
       "      <th></th>\n",
       "      <th>molecule_name</th>\n",
       "      <th>X</th>\n",
       "      <th>Y</th>\n",
       "      <th>Z</th>\n",
       "      <th>rms</th>\n",
       "    </tr>\n",
       "  </thead>\n",
       "  <tbody>\n",
       "    <tr>\n",
       "      <th>0</th>\n",
       "      <td>dsgdb9nsd_000001</td>\n",
       "      <td>0.0000</td>\n",
       "      <td>0.0</td>\n",
       "      <td>0.0000</td>\n",
       "      <td>0.0000</td>\n",
       "    </tr>\n",
       "    <tr>\n",
       "      <th>1</th>\n",
       "      <td>dsgdb9nsd_000002</td>\n",
       "      <td>-0.0002</td>\n",
       "      <td>0.0</td>\n",
       "      <td>1.6256</td>\n",
       "      <td>1.6256</td>\n",
       "    </tr>\n",
       "    <tr>\n",
       "      <th>2</th>\n",
       "      <td>dsgdb9nsd_000003</td>\n",
       "      <td>0.0000</td>\n",
       "      <td>0.0</td>\n",
       "      <td>-1.8511</td>\n",
       "      <td>1.8511</td>\n",
       "    </tr>\n",
       "    <tr>\n",
       "      <th>3</th>\n",
       "      <td>dsgdb9nsd_000005</td>\n",
       "      <td>0.0000</td>\n",
       "      <td>0.0</td>\n",
       "      <td>-2.8937</td>\n",
       "      <td>2.8937</td>\n",
       "    </tr>\n",
       "    <tr>\n",
       "      <th>4</th>\n",
       "      <td>dsgdb9nsd_000007</td>\n",
       "      <td>0.0000</td>\n",
       "      <td>0.0</td>\n",
       "      <td>0.0000</td>\n",
       "      <td>0.0000</td>\n",
       "    </tr>\n",
       "  </tbody>\n",
       "</table>\n",
       "</div>"
      ],
      "text/plain": [
       "      molecule_name       X    Y       Z     rms\n",
       "0  dsgdb9nsd_000001  0.0000  0.0  0.0000  0.0000\n",
       "1  dsgdb9nsd_000002 -0.0002  0.0  1.6256  1.6256\n",
       "2  dsgdb9nsd_000003  0.0000  0.0 -1.8511  1.8511\n",
       "3  dsgdb9nsd_000005  0.0000  0.0 -2.8937  2.8937\n",
       "4  dsgdb9nsd_000007  0.0000  0.0  0.0000  0.0000"
      ]
     },
     "execution_count": 18,
     "metadata": {},
     "output_type": "execute_result"
    }
   ],
   "source": [
    "dipole_moments.head()#MAE 3.x without scaled y, 2.x with scaled y"
   ]
  },
  {
   "cell_type": "code",
   "execution_count": 19,
   "metadata": {},
   "outputs": [
    {
     "data": {
      "text/html": [
       "<div>\n",
       "<style scoped>\n",
       "    .dataframe tbody tr th:only-of-type {\n",
       "        vertical-align: middle;\n",
       "    }\n",
       "\n",
       "    .dataframe tbody tr th {\n",
       "        vertical-align: top;\n",
       "    }\n",
       "\n",
       "    .dataframe thead th {\n",
       "        text-align: right;\n",
       "    }\n",
       "</style>\n",
       "<table border=\"1\" class=\"dataframe\">\n",
       "  <thead>\n",
       "    <tr style=\"text-align: right;\">\n",
       "      <th></th>\n",
       "      <th>molecule_name</th>\n",
       "      <th>potential_energy</th>\n",
       "    </tr>\n",
       "  </thead>\n",
       "  <tbody>\n",
       "    <tr>\n",
       "      <th>0</th>\n",
       "      <td>dsgdb9nsd_000001</td>\n",
       "      <td>-40.52368</td>\n",
       "    </tr>\n",
       "    <tr>\n",
       "      <th>1</th>\n",
       "      <td>dsgdb9nsd_000002</td>\n",
       "      <td>-56.56025</td>\n",
       "    </tr>\n",
       "    <tr>\n",
       "      <th>2</th>\n",
       "      <td>dsgdb9nsd_000003</td>\n",
       "      <td>-76.42608</td>\n",
       "    </tr>\n",
       "    <tr>\n",
       "      <th>3</th>\n",
       "      <td>dsgdb9nsd_000005</td>\n",
       "      <td>-93.42849</td>\n",
       "    </tr>\n",
       "    <tr>\n",
       "      <th>4</th>\n",
       "      <td>dsgdb9nsd_000007</td>\n",
       "      <td>-79.83869</td>\n",
       "    </tr>\n",
       "  </tbody>\n",
       "</table>\n",
       "</div>"
      ],
      "text/plain": [
       "      molecule_name  potential_energy\n",
       "0  dsgdb9nsd_000001         -40.52368\n",
       "1  dsgdb9nsd_000002         -56.56025\n",
       "2  dsgdb9nsd_000003         -76.42608\n",
       "3  dsgdb9nsd_000005         -93.42849\n",
       "4  dsgdb9nsd_000007         -79.83869"
      ]
     },
     "execution_count": 19,
     "metadata": {},
     "output_type": "execute_result"
    }
   ],
   "source": [
    "potential_energy.head()#MAE 30.x with scaled y"
   ]
  },
  {
   "cell_type": "code",
   "execution_count": 26,
   "metadata": {},
   "outputs": [],
   "source": [
    "molecule_info = pd.merge(dipole_moments, potential_energy, how = 'left', left_on  = ['molecule_name'], right_on = ['molecule_name'])"
   ]
  },
  {
   "cell_type": "code",
   "execution_count": 27,
   "metadata": {},
   "outputs": [
    {
     "data": {
      "text/html": [
       "<div>\n",
       "<style scoped>\n",
       "    .dataframe tbody tr th:only-of-type {\n",
       "        vertical-align: middle;\n",
       "    }\n",
       "\n",
       "    .dataframe tbody tr th {\n",
       "        vertical-align: top;\n",
       "    }\n",
       "\n",
       "    .dataframe thead th {\n",
       "        text-align: right;\n",
       "    }\n",
       "</style>\n",
       "<table border=\"1\" class=\"dataframe\">\n",
       "  <thead>\n",
       "    <tr style=\"text-align: right;\">\n",
       "      <th></th>\n",
       "      <th>molecule_name</th>\n",
       "      <th>X</th>\n",
       "      <th>Y</th>\n",
       "      <th>Z</th>\n",
       "      <th>rms</th>\n",
       "      <th>potential_energy</th>\n",
       "    </tr>\n",
       "  </thead>\n",
       "  <tbody>\n",
       "    <tr>\n",
       "      <th>0</th>\n",
       "      <td>dsgdb9nsd_000001</td>\n",
       "      <td>0.0000</td>\n",
       "      <td>0.0</td>\n",
       "      <td>0.0000</td>\n",
       "      <td>0.0000</td>\n",
       "      <td>-40.52368</td>\n",
       "    </tr>\n",
       "    <tr>\n",
       "      <th>1</th>\n",
       "      <td>dsgdb9nsd_000002</td>\n",
       "      <td>-0.0002</td>\n",
       "      <td>0.0</td>\n",
       "      <td>1.6256</td>\n",
       "      <td>1.6256</td>\n",
       "      <td>-56.56025</td>\n",
       "    </tr>\n",
       "    <tr>\n",
       "      <th>2</th>\n",
       "      <td>dsgdb9nsd_000003</td>\n",
       "      <td>0.0000</td>\n",
       "      <td>0.0</td>\n",
       "      <td>-1.8511</td>\n",
       "      <td>1.8511</td>\n",
       "      <td>-76.42608</td>\n",
       "    </tr>\n",
       "    <tr>\n",
       "      <th>3</th>\n",
       "      <td>dsgdb9nsd_000005</td>\n",
       "      <td>0.0000</td>\n",
       "      <td>0.0</td>\n",
       "      <td>-2.8937</td>\n",
       "      <td>2.8937</td>\n",
       "      <td>-93.42849</td>\n",
       "    </tr>\n",
       "    <tr>\n",
       "      <th>4</th>\n",
       "      <td>dsgdb9nsd_000007</td>\n",
       "      <td>0.0000</td>\n",
       "      <td>0.0</td>\n",
       "      <td>0.0000</td>\n",
       "      <td>0.0000</td>\n",
       "      <td>-79.83869</td>\n",
       "    </tr>\n",
       "  </tbody>\n",
       "</table>\n",
       "</div>"
      ],
      "text/plain": [
       "      molecule_name       X    Y       Z     rms  potential_energy\n",
       "0  dsgdb9nsd_000001  0.0000  0.0  0.0000  0.0000         -40.52368\n",
       "1  dsgdb9nsd_000002 -0.0002  0.0  1.6256  1.6256         -56.56025\n",
       "2  dsgdb9nsd_000003  0.0000  0.0 -1.8511  1.8511         -76.42608\n",
       "3  dsgdb9nsd_000005  0.0000  0.0 -2.8937  2.8937         -93.42849\n",
       "4  dsgdb9nsd_000007  0.0000  0.0  0.0000  0.0000         -79.83869"
      ]
     },
     "execution_count": 27,
     "metadata": {},
     "output_type": "execute_result"
    }
   ],
   "source": [
    "molecule_info.head()"
   ]
  },
  {
   "cell_type": "code",
   "execution_count": 20,
   "metadata": {},
   "outputs": [
    {
     "name": "stdout",
     "output_type": "stream",
     "text": [
      "(0,)\n",
      "(0,)\n",
      "(0,)\n",
      "(0,)\n",
      "(0,)\n"
     ]
    }
   ],
   "source": [
    "for col in molecule_info.columns.tolist():\n",
    "    print(np.where(molecule_info[col].isna())[0].shape)"
   ]
  },
  {
   "cell_type": "code",
   "execution_count": 21,
   "metadata": {},
   "outputs": [],
   "source": [
    "atom_info = pd.merge(magnetic_shielding_parameters, mulliken_charges, how = 'left', left_on  = ['molecule_name','atom_index'], right_on = ['molecule_name','atom_index'])"
   ]
  },
  {
   "cell_type": "code",
   "execution_count": 22,
   "metadata": {},
   "outputs": [
    {
     "data": {
      "text/html": [
       "<div>\n",
       "<style scoped>\n",
       "    .dataframe tbody tr th:only-of-type {\n",
       "        vertical-align: middle;\n",
       "    }\n",
       "\n",
       "    .dataframe tbody tr th {\n",
       "        vertical-align: top;\n",
       "    }\n",
       "\n",
       "    .dataframe thead th {\n",
       "        text-align: right;\n",
       "    }\n",
       "</style>\n",
       "<table border=\"1\" class=\"dataframe\">\n",
       "  <thead>\n",
       "    <tr style=\"text-align: right;\">\n",
       "      <th></th>\n",
       "      <th>molecule_name</th>\n",
       "      <th>atom_index</th>\n",
       "      <th>sigma_iso</th>\n",
       "      <th>omega</th>\n",
       "      <th>kappa</th>\n",
       "      <th>mulliken_charge</th>\n",
       "    </tr>\n",
       "  </thead>\n",
       "  <tbody>\n",
       "    <tr>\n",
       "      <th>0</th>\n",
       "      <td>dsgdb9nsd_000001</td>\n",
       "      <td>0</td>\n",
       "      <td>195.316333</td>\n",
       "      <td>0.002708</td>\n",
       "      <td>0.032697</td>\n",
       "      <td>-0.535689</td>\n",
       "    </tr>\n",
       "    <tr>\n",
       "      <th>1</th>\n",
       "      <td>dsgdb9nsd_000001</td>\n",
       "      <td>1</td>\n",
       "      <td>31.460567</td>\n",
       "      <td>9.082838</td>\n",
       "      <td>0.999975</td>\n",
       "      <td>0.133921</td>\n",
       "    </tr>\n",
       "    <tr>\n",
       "      <th>2</th>\n",
       "      <td>dsgdb9nsd_000001</td>\n",
       "      <td>2</td>\n",
       "      <td>31.460567</td>\n",
       "      <td>9.082793</td>\n",
       "      <td>0.999984</td>\n",
       "      <td>0.133922</td>\n",
       "    </tr>\n",
       "    <tr>\n",
       "      <th>3</th>\n",
       "      <td>dsgdb9nsd_000001</td>\n",
       "      <td>3</td>\n",
       "      <td>31.460633</td>\n",
       "      <td>9.082804</td>\n",
       "      <td>0.999977</td>\n",
       "      <td>0.133923</td>\n",
       "    </tr>\n",
       "    <tr>\n",
       "      <th>4</th>\n",
       "      <td>dsgdb9nsd_000001</td>\n",
       "      <td>4</td>\n",
       "      <td>31.460600</td>\n",
       "      <td>9.082853</td>\n",
       "      <td>0.999971</td>\n",
       "      <td>0.133923</td>\n",
       "    </tr>\n",
       "  </tbody>\n",
       "</table>\n",
       "</div>"
      ],
      "text/plain": [
       "      molecule_name  atom_index   sigma_iso     omega     kappa  \\\n",
       "0  dsgdb9nsd_000001           0  195.316333  0.002708  0.032697   \n",
       "1  dsgdb9nsd_000001           1   31.460567  9.082838  0.999975   \n",
       "2  dsgdb9nsd_000001           2   31.460567  9.082793  0.999984   \n",
       "3  dsgdb9nsd_000001           3   31.460633  9.082804  0.999977   \n",
       "4  dsgdb9nsd_000001           4   31.460600  9.082853  0.999971   \n",
       "\n",
       "   mulliken_charge  \n",
       "0        -0.535689  \n",
       "1         0.133921  \n",
       "2         0.133922  \n",
       "3         0.133923  \n",
       "4         0.133923  "
      ]
     },
     "execution_count": 22,
     "metadata": {},
     "output_type": "execute_result"
    }
   ],
   "source": [
    "atom_info.head()"
   ]
  },
  {
   "cell_type": "code",
   "execution_count": 23,
   "metadata": {},
   "outputs": [
    {
     "name": "stdout",
     "output_type": "stream",
     "text": [
      "(0,)\n",
      "(0,)\n",
      "(0,)\n",
      "(0,)\n",
      "(0,)\n",
      "(0,)\n"
     ]
    }
   ],
   "source": [
    "for col in atom_info.columns.tolist():\n",
    "    print(np.where(atom_info[col].isna())[0].shape)"
   ]
  },
  {
   "cell_type": "code",
   "execution_count": 28,
   "metadata": {},
   "outputs": [
    {
     "data": {
      "text/plain": [
       "(array([39.82863665,  1.49279267]), array([-410.87405548,    2.67236092]))"
      ]
     },
     "execution_count": 28,
     "metadata": {},
     "output_type": "execute_result"
    }
   ],
   "source": [
    "y_std = np.std(molecule_info[['potential_energy','rms']].values, axis=0)\n",
    "y_mean = np.mean(molecule_info[['potential_energy','rms']].values, axis=0)\n",
    "y_std, y_mean"
   ]
  },
  {
   "cell_type": "code",
   "execution_count": 29,
   "metadata": {},
   "outputs": [],
   "source": [
    "def _worker(item, df_bonds, df_structures, molecule_info, has_y):\n",
    "    \n",
    "    idx = item[0]\n",
    "    molecule_name = item[1]\n",
    "    \n",
    "    # point attribute\n",
    "    x = torch.tensor(df_structures[df_structures['molecule_name']==molecule_name].sort_values(by=['atom_index'])[['int_atom','atomic_radius', 'atomic_number', 'atomic_mass', 'vanderwaalsradius', 'covalenzradius', 'electronegativity', 'ionization_energy']].values, dtype=torch.float)\n",
    "    # position\n",
    "    pos = torch.tensor(df_structures[df_structures['molecule_name']==molecule_name].sort_values(by=['atom_index'])[['x','y','z']].values, dtype=torch.float)\n",
    "\n",
    "    edge_index = []\n",
    "    edge_attr = []\n",
    "\n",
    "    df_molecule_i = df_bonds[df_bonds['molecule_name']==molecule_name]\n",
    "    molecule_info_i = molecule_info[molecule_info['molecule_name']==molecule_name]\n",
    "\n",
    "    if has_y:\n",
    "        y = (molecule_info_i[['potential_energy','rms']].values-y_mean)/y_std\n",
    "        y = torch.tensor(y, dtype=torch.float)\n",
    "\n",
    "    for idx, row in df_molecule_i.iterrows():\n",
    "        edge_index.append([row['atom_index_0'], row['atom_index_1']])\n",
    "        edge_index.append([row['atom_index_1'], row['atom_index_0']])\n",
    "        edge_attr.append([row['type0'], row['int_type1']])\n",
    "        edge_attr.append([row['type0'], row['int_type1']])\n",
    "\n",
    "    edge_index = torch.tensor(edge_index, dtype=torch.long)\n",
    "    edge_attr = torch.tensor(edge_attr, dtype=torch.float)\n",
    "    if has_y:\n",
    "        data = Data(x=x, edge_index=edge_index.t().contiguous(), pos=pos, edge_attr=edge_attr, y=y)\n",
    "    else:\n",
    "        data = Data(x=x, edge_index=edge_index.t().contiguous(), pos=pos, edge_attr=edge_attr)\n",
    "    d_ =  {'idx':idx, 'molecule_name':molecule_name, 'data':data}\n",
    "#     print(d_)\n",
    "    return d_\n",
    "\n",
    "\n",
    "def generate_datalist(df_bonds, df_structures, molecule_info, molecule_names, has_y = True):\n",
    "    N_ = len(molecule_names)\n",
    "    segments = N_//100\n",
    "    data_list = []\n",
    "    \n",
    "#     data_list = Parallel(_worker,{'df_bonds':df_bonds, 'df_structures':df_structures, 'molecule_info':molecule_info, 'has_y':has_y}).run(zip(np.arange(N_), molecule_names), n_jobs=4)\n",
    "    \n",
    "#     for start in tqdm_notebook(range(0, N_, segments)):\n",
    "#         end = start + segments if start + segments < N_ else N_\n",
    "#         res = Parallel(_worker,{'df_bonds':df_bonds, 'df_structures':df_structures, 'molecule_info':molecule_info, 'has_y':has_y}).run(zip(np.arange(start,end,1), molecule_names[start:end]), n_jobs=4)\n",
    "    for item in tqdm_notebook(enumerate(molecule_names), total=N_):\n",
    "        d_ = _worker(item, **{'df_bonds':df_bonds, 'df_structures':df_structures, 'molecule_info':molecule_info, 'has_y':has_y})\n",
    "        data_list.append(d_)\n",
    "    df_ = pd.DataFrame(data_list)\n",
    "    df_ = df_.sort_values(by=['idx']).reset_index(drop=True)\n",
    "    return df_\n",
    "    "
   ]
  },
  {
   "cell_type": "code",
   "execution_count": null,
   "metadata": {},
   "outputs": [],
   "source": [
    "molecule_names = train.molecule_name.unique().tolist()"
   ]
  },
  {
   "cell_type": "code",
   "execution_count": 36,
   "metadata": {},
   "outputs": [
    {
     "data": {
      "application/vnd.jupyter.widget-view+json": {
       "model_id": "7a39ab87ed4043f993ea76c72a3b5951",
       "version_major": 2,
       "version_minor": 0
      },
      "text/plain": [
       "HBox(children=(IntProgress(value=0, max=85003), HTML(value='')))"
      ]
     },
     "metadata": {},
     "output_type": "display_data"
    },
    {
     "name": "stdout",
     "output_type": "stream",
     "text": [
      "\n"
     ]
    }
   ],
   "source": [
    "df_train = generate_datalist(train, structures, molecule_info, molecule_names=molecule_names)"
   ]
  },
  {
   "cell_type": "code",
   "execution_count": 31,
   "metadata": {},
   "outputs": [],
   "source": [
    "molecule_names = test.molecule_name.unique().tolist()"
   ]
  },
  {
   "cell_type": "code",
   "execution_count": null,
   "metadata": {},
   "outputs": [
    {
     "data": {
      "application/vnd.jupyter.widget-view+json": {
       "model_id": "65bb7751aac64dc2b48a7f3f22dd104e",
       "version_major": 2,
       "version_minor": 0
      },
      "text/plain": [
       "HBox(children=(IntProgress(value=0, max=45772), HTML(value='')))"
      ]
     },
     "metadata": {},
     "output_type": "display_data"
    }
   ],
   "source": [
    "test = generate_datalist(test, structures, molecule_info, molecule_names=molecule_names)"
   ]
  },
  {
   "cell_type": "code",
   "execution_count": 37,
   "metadata": {},
   "outputs": [],
   "source": [
    "# df_train.to_pickle('../../data/feature/graph_train.gzip', compression='gzip')"
   ]
  },
  {
   "cell_type": "code",
   "execution_count": 5,
   "metadata": {},
   "outputs": [],
   "source": [
    "df_train = pd.read_pickle('../../data/feature/graph_train.gzip', compression='gzip')"
   ]
  },
  {
   "cell_type": "code",
   "execution_count": 6,
   "metadata": {},
   "outputs": [
    {
     "data": {
      "text/html": [
       "<div>\n",
       "<style scoped>\n",
       "    .dataframe tbody tr th:only-of-type {\n",
       "        vertical-align: middle;\n",
       "    }\n",
       "\n",
       "    .dataframe tbody tr th {\n",
       "        vertical-align: top;\n",
       "    }\n",
       "\n",
       "    .dataframe thead th {\n",
       "        text-align: right;\n",
       "    }\n",
       "</style>\n",
       "<table border=\"1\" class=\"dataframe\">\n",
       "  <thead>\n",
       "    <tr style=\"text-align: right;\">\n",
       "      <th></th>\n",
       "      <th>data</th>\n",
       "      <th>idx</th>\n",
       "      <th>molecule_name</th>\n",
       "    </tr>\n",
       "  </thead>\n",
       "  <tbody>\n",
       "    <tr>\n",
       "      <th>0</th>\n",
       "      <td>[(edge_attr, [tensor([1., 0.]), tensor([1., 0....</td>\n",
       "      <td>9</td>\n",
       "      <td>dsgdb9nsd_000001</td>\n",
       "    </tr>\n",
       "    <tr>\n",
       "      <th>1</th>\n",
       "      <td>[(edge_attr, [tensor([1., 2.]), tensor([1., 2....</td>\n",
       "      <td>15</td>\n",
       "      <td>dsgdb9nsd_000002</td>\n",
       "    </tr>\n",
       "    <tr>\n",
       "      <th>2</th>\n",
       "      <td>[(edge_attr, [tensor([2., 1.]), tensor([2., 1....</td>\n",
       "      <td>16</td>\n",
       "      <td>dsgdb9nsd_000003</td>\n",
       "    </tr>\n",
       "    <tr>\n",
       "      <th>3</th>\n",
       "      <td>[(edge_attr, [tensor([1., 0.]), tensor([1., 0....</td>\n",
       "      <td>18</td>\n",
       "      <td>dsgdb9nsd_000005</td>\n",
       "    </tr>\n",
       "    <tr>\n",
       "      <th>4</th>\n",
       "      <td>[(edge_attr, [tensor([1., 0.]), tensor([1., 0....</td>\n",
       "      <td>45</td>\n",
       "      <td>dsgdb9nsd_000007</td>\n",
       "    </tr>\n",
       "  </tbody>\n",
       "</table>\n",
       "</div>"
      ],
      "text/plain": [
       "                                                data  idx     molecule_name\n",
       "0  [(edge_attr, [tensor([1., 0.]), tensor([1., 0....    9  dsgdb9nsd_000001\n",
       "1  [(edge_attr, [tensor([1., 2.]), tensor([1., 2....   15  dsgdb9nsd_000002\n",
       "2  [(edge_attr, [tensor([2., 1.]), tensor([2., 1....   16  dsgdb9nsd_000003\n",
       "3  [(edge_attr, [tensor([1., 0.]), tensor([1., 0....   18  dsgdb9nsd_000005\n",
       "4  [(edge_attr, [tensor([1., 0.]), tensor([1., 0....   45  dsgdb9nsd_000007"
      ]
     },
     "execution_count": 6,
     "metadata": {},
     "output_type": "execute_result"
    }
   ],
   "source": [
    "df_train.head()"
   ]
  },
  {
   "cell_type": "code",
   "execution_count": 7,
   "metadata": {},
   "outputs": [
    {
     "data": {
      "text/plain": [
       "Data(edge_attr=[20, 2], edge_index=[2, 20], pos=[5, 3], x=[5, 8], y=[1, 2])"
      ]
     },
     "execution_count": 7,
     "metadata": {},
     "output_type": "execute_result"
    }
   ],
   "source": [
    "df_train.data.values[0]"
   ]
  },
  {
   "cell_type": "code",
   "execution_count": 8,
   "metadata": {},
   "outputs": [],
   "source": [
    "def generate_dataLoader(df, molecule_names, shuffle=True, batch_size=32, **kwargs):\n",
    "    data_list = df[df['molecule_name'].isin(molecule_names)]['data'].tolist()\n",
    "    return DataLoader(data_list, batch_size=batch_size, shuffle=shuffle, **kwargs)"
   ]
  },
  {
   "cell_type": "code",
   "execution_count": 40,
   "metadata": {},
   "outputs": [
    {
     "name": "stderr",
     "output_type": "stream",
     "text": [
      "/home/ubuntu/anaconda3/envs/tensorflow_gpu_p36/lib/python3.6/site-packages/sklearn/model_selection/_split.py:2179: FutureWarning: From version 0.21, test_size will always complement train_size unless both are specified.\n",
      "  FutureWarning)\n"
     ]
    }
   ],
   "source": [
    "for i in train_molecule_names\n",
    "train_molecule_names, valid_molecule_names =  train_test_split(molecule_names, train_size=.8, shuffle=True)"
   ]
  },
  {
   "cell_type": "code",
   "execution_count": 42,
   "metadata": {},
   "outputs": [],
   "source": [
    "# test_loader = generate_dataLoader(df_data_train, test_molecule_names)\n",
    "val_loader = generate_dataLoader(df_train, valid_molecule_names)\n",
    "train_loader = generate_dataLoader(df_train, train_molecule_names)"
   ]
  },
  {
   "cell_type": "code",
   "execution_count": 43,
   "metadata": {},
   "outputs": [],
   "source": [
    "gnn_param = {\n",
    "    'node_expand_dim':64,\n",
    "    'link_expand_dim':128,\n",
    "    'node_dim':8,\n",
    "    'link_dim':2,\n",
    "    'conv_layers':3\n",
    "}\n",
    "# node_expand_dim = 64\n",
    "# link_expand_dim = 128\n",
    "# node_dim = 8\n",
    "# link_dim = 2\n",
    "# conv_layers = 3\n",
    "\n",
    "class Net(torch.nn.Module):\n",
    "    \n",
    "    def __init__(self, node_expand_dim, link_expand_dim, node_dim, link_dim, conv_layers):\n",
    "        super(Net, self).__init__()\n",
    "        \n",
    "        self.node_expand_dim = node_expand_dim\n",
    "        self.link_expand_dim = link_expand_dim\n",
    "        self.node_dim = node_dim\n",
    "        self.link_dim = link_dim\n",
    "        self.conv_layers = conv_layers\n",
    "        \n",
    "        self.lin0 = torch.nn.Linear(node_dim, node_expand_dim)\n",
    "        nn = Sequential(Linear(link_dim, link_expand_dim), ReLU(), Linear(link_expand_dim, node_expand_dim * node_expand_dim))\n",
    "        self.conv = NNConv(node_expand_dim, node_expand_dim, nn, aggr='mean', root_weight=False)\n",
    "        self.gru = GRU(node_expand_dim, node_expand_dim)\n",
    "        self.set2set = Set2Set(node_expand_dim, processing_steps=3)\n",
    "        self.lin3 = torch.nn.Linear(node_expand_dim, 2 * node_expand_dim)\n",
    "        self.lin1 = torch.nn.Linear(2 * node_expand_dim, node_expand_dim)\n",
    "        self.lin2 = torch.nn.Linear(node_expand_dim, 1)\n",
    "\n",
    "    def forward(self, data):\n",
    "        out = F.relu(self.lin0(data.x))\n",
    "        h = out.unsqueeze(0)\n",
    "        for i in range(self.conv_layers):\n",
    "            m = F.relu(self.conv(out, data.edge_index, data.edge_attr))\n",
    "            out, h = self.gru(m.unsqueeze(0), h)\n",
    "            out = out.squeeze(0)\n",
    "            \n",
    "        out = self.set2set(out, data.batch)\n",
    "#         out = F.relu(self.lin3(out))\n",
    "        out = F.relu(self.lin1(out))\n",
    "        out = self.lin2(out)\n",
    "#         print(out.shape)\n",
    "#         out = out.view(-1)\n",
    "        return out\n",
    "\n",
    "\n",
    "\n",
    "class GNN(object):\n",
    "    \n",
    "    def __init__(self, node_expand_dim, link_expand_dim, node_dim, link_dim, conv_layers):\n",
    "        self.device = torch.device('cuda' if torch.cuda.is_available() else 'cpu')\n",
    "        self.model = Net(node_expand_dim, link_expand_dim, node_dim, link_dim, conv_layers).to(self.device)\n",
    "        self.optimizer = torch.optim.Adam(self.model.parameters(), lr=0.001)\n",
    "        self.scheduler = torch.optim.lr_scheduler.ReduceLROnPlateau(self.optimizer, mode='min', factor=0.7, patience=5, min_lr=0.00001)\n",
    "        return\n",
    "\n",
    "    def fit(self, train_loader, val_loader, epochs, y_std, y_mean, y_index=0, verbose=0):\n",
    "\n",
    "        his = []\n",
    "        for epoch in range(1, epochs+1):\n",
    "            lr = self.scheduler.optimizer.param_groups[0]['lr']\n",
    "            loss = self._train(epoch, train_loader, y_index, self.model, self.device, self.optimizer)\n",
    "            val_error = self._test(val_loader, y_index, self.model, self.device, self.optimizer, y_std, y_mean)\n",
    "            self.scheduler.step(val_error)\n",
    "            his.append({'epoch':epoch, 'lr':lr, 'loss':loss, 'val_error':val_error})\n",
    "            if verbose > 0:\n",
    "#                 if epoch % (epochs//10) == 0:\n",
    "                print('Epoch: {:03d}, LR: {:7f}, Loss: {:.7f}, Validation MAE: {:.7f}'.format(epoch, lr, loss, val_error))\n",
    "        return his\n",
    "    \n",
    "    def predict(self, loader, y_std, y_mean, y_index=0):\n",
    "        model.eval()\n",
    "        y_pred_list  = []\n",
    "        for data in loader:\n",
    "            data = data.to(device)\n",
    "            std = torch.tensor(y_std[y_index:y_index+1].reshape(1,1), dtype=torch.float)\n",
    "            std = std.to(device)\n",
    "            y_pred = model(data)\n",
    "            y_pred_list.append(y_pred.item())\n",
    "        y_pred = np.array(y_pred_list)\n",
    "        y_pred = y_pred*y_std + y_mean\n",
    "        return y_pred\n",
    "    \n",
    "    def _train(self, epoch, loader, y_index, model, device, optimizer):\n",
    "        model.train()\n",
    "        loss_all = 0\n",
    "        for data in loader:\n",
    "            data = data.to(device)\n",
    "            optimizer.zero_grad()\n",
    "            y_pred = model(data)\n",
    "            loss = F.mse_loss(y_pred, data.y[:,y_index:y_index+1])\n",
    "            loss.backward()\n",
    "            loss_all += loss.item() * data.num_graphs\n",
    "            optimizer.step()\n",
    "        return loss_all / len(loader.dataset)\n",
    "\n",
    "\n",
    "    def _test(self, loader, y_index, model, device, optimizer, y_std, y_mean):\n",
    "        model.eval()\n",
    "        error = 0\n",
    "        for data in loader:\n",
    "            data = data.to(device)\n",
    "            std = torch.tensor(y_std[y_index:y_index+1].reshape(1,1), dtype=torch.float)\n",
    "            std = std.to(device)\n",
    "            y_pred = model(data)\n",
    "#             print(y_pred.shape)            \n",
    "            error += (y_pred.mm(std) - data.y[:,y_index:y_index+1].mm(std)).abs().sum().item()  # MAE\n",
    "        return error / len(loader.dataset)"
   ]
  },
  {
   "cell_type": "code",
   "execution_count": 44,
   "metadata": {},
   "outputs": [],
   "source": [
    "gnn = GNN(**gnn_param)"
   ]
  },
  {
   "cell_type": "code",
   "execution_count": null,
   "metadata": {},
   "outputs": [
    {
     "name": "stdout",
     "output_type": "stream",
     "text": [
      "Epoch: 001, LR: 0.001000, Loss: 0.8995454, Validation MAE: 1.0764222\n",
      "Epoch: 002, LR: 0.001000, Loss: 0.8312789, Validation MAE: 0.9917343\n",
      "Epoch: 003, LR: 0.001000, Loss: 0.8373433, Validation MAE: 1.0545565\n",
      "Epoch: 004, LR: 0.001000, Loss: 0.8354087, Validation MAE: 1.0621529\n",
      "Epoch: 005, LR: 0.001000, Loss: 0.8302558, Validation MAE: 0.9906469\n",
      "Epoch: 006, LR: 0.001000, Loss: 0.7646985, Validation MAE: 0.9733653\n",
      "Epoch: 007, LR: 0.001000, Loss: 0.7212076, Validation MAE: 0.9276138\n",
      "Epoch: 008, LR: 0.001000, Loss: 0.7138798, Validation MAE: 0.9443923\n",
      "Epoch: 009, LR: 0.001000, Loss: 0.7097099, Validation MAE: 0.9370616\n",
      "Epoch: 010, LR: 0.001000, Loss: 0.7077996, Validation MAE: 0.9285092\n",
      "Epoch: 011, LR: 0.001000, Loss: 0.7070415, Validation MAE: 0.9407990\n",
      "Epoch: 012, LR: 0.001000, Loss: 0.7046720, Validation MAE: 0.9240429\n",
      "Epoch: 013, LR: 0.001000, Loss: 0.7047568, Validation MAE: 0.9255332\n",
      "Epoch: 014, LR: 0.001000, Loss: 0.7055413, Validation MAE: 0.9225434\n",
      "Epoch: 015, LR: 0.001000, Loss: 0.7044425, Validation MAE: 0.9294711\n",
      "Epoch: 016, LR: 0.001000, Loss: 0.7029838, Validation MAE: 0.9245645\n",
      "Epoch: 017, LR: 0.001000, Loss: 0.7026919, Validation MAE: 0.9262112\n",
      "Epoch: 018, LR: 0.001000, Loss: 0.7011714, Validation MAE: 0.9272967\n",
      "Epoch: 019, LR: 0.001000, Loss: 0.7021790, Validation MAE: 0.9205376\n",
      "Epoch: 020, LR: 0.001000, Loss: 0.7011578, Validation MAE: 0.9294768\n",
      "Epoch: 021, LR: 0.001000, Loss: 0.7012395, Validation MAE: 0.9238634\n",
      "Epoch: 022, LR: 0.001000, Loss: 0.7009398, Validation MAE: 0.9269832\n",
      "Epoch: 023, LR: 0.001000, Loss: 0.7005356, Validation MAE: 0.9262938\n",
      "Epoch: 024, LR: 0.001000, Loss: 0.7002522, Validation MAE: 0.9335956\n",
      "Epoch: 025, LR: 0.001000, Loss: 0.6992007, Validation MAE: 0.9205381\n",
      "Epoch: 026, LR: 0.000700, Loss: 0.6978416, Validation MAE: 0.9261917\n",
      "Epoch: 027, LR: 0.000700, Loss: 0.6972171, Validation MAE: 0.9238142\n",
      "Epoch: 028, LR: 0.000700, Loss: 0.6972605, Validation MAE: 0.9200490\n",
      "Epoch: 029, LR: 0.000700, Loss: 0.6970902, Validation MAE: 0.9294767\n",
      "Epoch: 030, LR: 0.000700, Loss: 0.6962208, Validation MAE: 0.9218209\n"
     ]
    }
   ],
   "source": [
    "his  = gnn.fit(train_loader, val_loader, 100, y_std, y_mean, y_index=1, verbose=1)"
   ]
  },
  {
   "cell_type": "code",
   "execution_count": 175,
   "metadata": {},
   "outputs": [
    {
     "ename": "TypeError",
     "evalue": "predict() missing 2 required positional arguments: 'y_std' and 'y_mean'",
     "output_type": "error",
     "traceback": [
      "\u001b[0;31m---------------------------------------------------------------------------\u001b[0m",
      "\u001b[0;31mTypeError\u001b[0m                                 Traceback (most recent call last)",
      "\u001b[0;32m<ipython-input-175-f0a19976031e>\u001b[0m in \u001b[0;36m<module>\u001b[0;34m()\u001b[0m\n\u001b[1;32m      1\u001b[0m \u001b[0;34m\u001b[0m\u001b[0m\n\u001b[0;32m----> 2\u001b[0;31m \u001b[0my_pred\u001b[0m  \u001b[0;34m=\u001b[0m \u001b[0mgnn\u001b[0m\u001b[0;34m.\u001b[0m\u001b[0mpredict\u001b[0m\u001b[0;34m(\u001b[0m\u001b[0mval_loader\u001b[0m\u001b[0;34m,\u001b[0m \u001b[0my_std\u001b[0m\u001b[0;34m,\u001b[0m \u001b[0my_mean\u001b[0m\u001b[0;34m,\u001b[0m \u001b[0my_index\u001b[0m\u001b[0;34m=\u001b[0m\u001b[0;36m1\u001b[0m\u001b[0;34m)\u001b[0m\u001b[0;34m\u001b[0m\u001b[0m\n\u001b[0m",
      "\u001b[0;31mTypeError\u001b[0m: predict() missing 2 required positional arguments: 'y_std' and 'y_mean'"
     ]
    }
   ],
   "source": [
    "y_pred  = gnn.predict(val_loader, y_std, y_mean, y_index=1)"
   ]
  },
  {
   "cell_type": "code",
   "execution_count": null,
   "metadata": {},
   "outputs": [],
   "source": []
  }
 ],
 "metadata": {
  "kernelspec": {
   "display_name": "Environment (conda_tensorflow_gpu_p36)",
   "language": "python",
   "name": "conda_tensorflow_gpu_p36"
  },
  "language_info": {
   "codemirror_mode": {
    "name": "ipython",
    "version": 3
   },
   "file_extension": ".py",
   "mimetype": "text/x-python",
   "name": "python",
   "nbconvert_exporter": "python",
   "pygments_lexer": "ipython3",
   "version": "3.6.7"
  }
 },
 "nbformat": 4,
 "nbformat_minor": 2
}
