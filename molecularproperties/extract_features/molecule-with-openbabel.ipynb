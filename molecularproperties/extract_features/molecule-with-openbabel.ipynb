{
 "cells": [
  {
   "cell_type": "code",
   "execution_count": 1,
   "metadata": {},
   "outputs": [
    {
     "data": {
      "text/html": [
       "<style>\n",
       "   div#notebook-container    { width: 95%; }\n",
       "   div#menubar-container     { width: 65%; }\n",
       "   div#maintoolbar-container { width: 99%; }\n",
       "</style>"
      ],
      "text/plain": [
       "<IPython.core.display.HTML object>"
      ]
     },
     "metadata": {},
     "output_type": "display_data"
    }
   ],
   "source": [
    "%%HTML\n",
    "<style>\n",
    "   div#notebook-container    { width: 95%; }\n",
    "   div#menubar-container     { width: 65%; }\n",
    "   div#maintoolbar-container { width: 99%; }\n",
    "</style>"
   ]
  },
  {
   "cell_type": "code",
   "execution_count": 3,
   "metadata": {},
   "outputs": [
    {
     "data": {
      "text/plain": [
       "RendererRegistry.enable('notebook')"
      ]
     },
     "execution_count": 3,
     "metadata": {},
     "output_type": "execute_result"
    }
   ],
   "source": [
    "import numpy as np\n",
    "import pandas as pd\n",
    "import os\n",
    "\n",
    "import matplotlib.pyplot as plt\n",
    "%matplotlib inline\n",
    "from tqdm import tqdm_notebook\n",
    "from sklearn.preprocessing import StandardScaler\n",
    "from sklearn.svm import NuSVR, SVR\n",
    "from sklearn.metrics import mean_absolute_error\n",
    "pd.options.display.precision = 15\n",
    "\n",
    "import lightgbm as lgb\n",
    "import xgboost as xgb\n",
    "import time\n",
    "import datetime\n",
    "from catboost import CatBoostRegressor\n",
    "from sklearn.preprocessing import LabelEncoder\n",
    "from sklearn.model_selection import StratifiedKFold, KFold, RepeatedKFold\n",
    "from sklearn import metrics\n",
    "from sklearn import linear_model\n",
    "import gc\n",
    "import seaborn as sns\n",
    "import warnings\n",
    "warnings.filterwarnings(\"ignore\")\n",
    "\n",
    "from IPython.display import HTML\n",
    "import json\n",
    "import altair as alt\n",
    "\n",
    "import networkx as nx\n",
    "import matplotlib.pyplot as plt\n",
    "%matplotlib inline\n",
    "import os\n",
    "import time\n",
    "import datetime\n",
    "import json\n",
    "import gc\n",
    "from numba import jit\n",
    "\n",
    "import numpy as np\n",
    "import pandas as pd\n",
    "\n",
    "import matplotlib.pyplot as plt\n",
    "import seaborn as sns\n",
    "from tqdm import tqdm_notebook\n",
    "\n",
    "import lightgbm as lgb\n",
    "import xgboost as xgb\n",
    "from catboost import CatBoostRegressor, CatBoostClassifier\n",
    "from sklearn import metrics\n",
    "\n",
    "from itertools import product\n",
    "\n",
    "import altair as alt\n",
    "from altair.vega import v4\n",
    "from IPython.display import HTML\n",
    "alt.renderers.enable('notebook')"
   ]
  },
  {
   "cell_type": "code",
   "execution_count": 11,
   "metadata": {},
   "outputs": [],
   "source": [
    "import openbabel"
   ]
  },
  {
   "cell_type": "code",
   "execution_count": 4,
   "metadata": {},
   "outputs": [
    {
     "data": {
      "text/plain": [
       "['sample_submission.csv',\n",
       " 'magnetic_shielding_tensors.csv',\n",
       " 'potential_energy.csv',\n",
       " 'scalar_coupling_contributions.csv',\n",
       " 'dipole_moments.csv',\n",
       " 'mulliken_charges.csv',\n",
       " 'train.csv',\n",
       " 'test.csv',\n",
       " 'structures.csv',\n",
       " 'structures']"
      ]
     },
     "execution_count": 4,
     "metadata": {},
     "output_type": "execute_result"
    }
   ],
   "source": [
    "file_folder = '../../data/input'\n",
    "os.listdir(file_folder)"
   ]
  },
  {
   "cell_type": "code",
   "execution_count": 22,
   "metadata": {},
   "outputs": [],
   "source": [
    "def reduce_mem_usage(df, verbose=True):\n",
    "    numerics = ['int16', 'int32', 'int64', 'float16', 'float32', 'float64']\n",
    "    start_mem = df.memory_usage().sum() / 1024**2    \n",
    "    for col in df.columns:\n",
    "        col_type = df[col].dtypes\n",
    "        if col_type in numerics:\n",
    "            c_min = df[col].min()\n",
    "            c_max = df[col].max()\n",
    "            if str(col_type)[:3] == 'int':\n",
    "                if c_min > np.iinfo(np.int8).min and c_max < np.iinfo(np.int8).max:\n",
    "                    df[col] = df[col].astype(np.int8)\n",
    "                elif c_min > np.iinfo(np.int16).min and c_max < np.iinfo(np.int16).max:\n",
    "                    df[col] = df[col].astype(np.int16)\n",
    "                elif c_min > np.iinfo(np.int32).min and c_max < np.iinfo(np.int32).max:\n",
    "                    df[col] = df[col].astype(np.int32)\n",
    "                elif c_min > np.iinfo(np.int64).min and c_max < np.iinfo(np.int64).max:\n",
    "                    df[col] = df[col].astype(np.int64)  \n",
    "            else:\n",
    "                if c_min > np.finfo(np.float16).min and c_max < np.finfo(np.float16).max:\n",
    "                    df[col] = df[col].astype(np.float16)\n",
    "                elif c_min > np.finfo(np.float32).min and c_max < np.finfo(np.float32).max:\n",
    "                    df[col] = df[col].astype(np.float32)\n",
    "                else:\n",
    "                    df[col] = df[col].astype(np.float64)    \n",
    "    end_mem = df.memory_usage().sum() / 1024**2\n",
    "    if verbose: print('Mem. usage decreased to {:5.2f} Mb ({:.1f}% reduction)'.format(end_mem, 100 * (start_mem - end_mem) / start_mem))\n",
    "    return df"
   ]
  },
  {
   "cell_type": "code",
   "execution_count": 6,
   "metadata": {},
   "outputs": [],
   "source": [
    "train = pd.read_csv(f'{file_folder}/train.csv')\n",
    "test = pd.read_csv(f'{file_folder}/test.csv')\n",
    "magnetic_shielding_tensors = pd.read_csv(f'{file_folder}/magnetic_shielding_tensors.csv')\n",
    "dipole_moments = pd.read_csv(f'{file_folder}/dipole_moments.csv')\n",
    "mulliken_charges = pd.read_csv(f'{file_folder}/mulliken_charges.csv')\n",
    "potential_energy = pd.read_csv(f'{file_folder}/potential_energy.csv')\n",
    "scalar_coupling_contributions = pd.read_csv(f'{file_folder}/scalar_coupling_contributions.csv')\n",
    "structures = pd.read_csv(f'{file_folder}/structures.csv')"
   ]
  },
  {
   "cell_type": "code",
   "execution_count": 7,
   "metadata": {},
   "outputs": [
    {
     "data": {
      "application/javascript": [
       "var spec = {\"config\": {\"view\": {\"width\": 400, \"height\": 300}, \"mark\": {\"tooltip\": null}}, \"vconcat\": [{\"hconcat\": [{\"data\": {\"name\": \"data-bd650d94dea89e9b7debcb25ac305b73\"}, \"mark\": \"bar\", \"encoding\": {\"tooltip\": [{\"type\": \"quantitative\", \"field\": \"atom_index_0\"}, {\"type\": \"quantitative\", \"field\": \"count\"}], \"x\": {\"type\": \"nominal\", \"axis\": {\"title\": \"atom_index_0\"}, \"field\": \"atom_index_0\"}, \"y\": {\"type\": \"quantitative\", \"axis\": {\"title\": \"Count\"}, \"field\": \"count\"}}, \"selection\": {\"selector001\": {\"type\": \"interval\", \"bind\": \"scales\", \"encodings\": [\"x\", \"y\"]}}, \"title\": \"Counts of atom_index_0\", \"width\": 350}, {\"data\": {\"name\": \"data-dc52daaae98aba4f767be711bfd461c0\"}, \"mark\": \"bar\", \"encoding\": {\"tooltip\": [{\"type\": \"quantitative\", \"field\": \"atom_index_1\"}, {\"type\": \"quantitative\", \"field\": \"count\"}], \"x\": {\"type\": \"nominal\", \"axis\": {\"title\": \"atom_index_1\"}, \"field\": \"atom_index_1\"}, \"y\": {\"type\": \"quantitative\", \"axis\": {\"title\": \"Count\"}, \"field\": \"count\"}}, \"selection\": {\"selector002\": {\"type\": \"interval\", \"bind\": \"scales\", \"encodings\": [\"x\", \"y\"]}}, \"title\": \"Counts of atom_index_1\", \"width\": 350}]}, {\"hconcat\": [{\"data\": {\"name\": \"data-ebdc32f1be979a9c6ddbf0cea0b853fe\"}, \"mark\": \"bar\", \"encoding\": {\"tooltip\": [{\"type\": \"nominal\", \"field\": \"type\"}, {\"type\": \"quantitative\", \"field\": \"count\"}], \"x\": {\"type\": \"nominal\", \"axis\": {\"title\": \"type\"}, \"field\": \"type\"}, \"y\": {\"type\": \"quantitative\", \"axis\": {\"title\": \"Count\"}, \"field\": \"count\"}}, \"selection\": {\"selector003\": {\"type\": \"interval\", \"bind\": \"scales\", \"encodings\": [\"x\", \"y\"]}}, \"title\": \"Counts of type\", \"width\": 350}, {\"data\": {\"name\": \"data-49f16c2b497caf509825d63ea0302313\"}, \"mark\": \"bar\", \"encoding\": {\"tooltip\": [{\"type\": \"quantitative\", \"field\": \"scalar_coupling_constant\"}, {\"type\": \"nominal\", \"field\": \"bins\"}], \"x\": {\"type\": \"ordinal\", \"axis\": {\"title\": \"Target bins\"}, \"field\": \"bins\"}, \"y\": {\"type\": \"quantitative\", \"axis\": {\"title\": \"Count\"}, \"field\": \"scalar_coupling_constant\"}}, \"selection\": {\"selector004\": {\"type\": \"interval\", \"bind\": \"scales\", \"encodings\": [\"x\", \"y\"]}}, \"title\": \"scalar_coupling_constant histogram\", \"width\": 400}]}], \"$schema\": \"https://vega.github.io/schema/vega-lite/v3.3.0.json\", \"datasets\": {\"data-bd650d94dea89e9b7debcb25ac305b73\": [{\"atom_index_0\": 12, \"count\": 552263}, {\"atom_index_0\": 13, \"count\": 505229}, {\"atom_index_0\": 9, \"count\": 485891}, {\"atom_index_0\": 14, \"count\": 476556}, {\"atom_index_0\": 10, \"count\": 473624}, {\"atom_index_0\": 11, \"count\": 446131}, {\"atom_index_0\": 15, \"count\": 422173}, {\"atom_index_0\": 16, \"count\": 360001}, {\"atom_index_0\": 17, \"count\": 285575}, {\"atom_index_0\": 18, \"count\": 212841}, {\"atom_index_0\": 19, \"count\": 143722}, {\"atom_index_0\": 20, \"count\": 94149}, {\"atom_index_0\": 8, \"count\": 80296}, {\"atom_index_0\": 21, \"count\": 48795}, {\"atom_index_0\": 22, \"count\": 30594}, {\"atom_index_0\": 7, \"count\": 14104}, {\"atom_index_0\": 23, \"count\": 10245}, {\"atom_index_0\": 24, \"count\": 7108}, {\"atom_index_0\": 6, \"count\": 2825}, {\"atom_index_0\": 25, \"count\": 1439}, {\"atom_index_0\": 26, \"count\": 1050}, {\"atom_index_0\": 5, \"count\": 985}, {\"atom_index_0\": 3, \"count\": 829}, {\"atom_index_0\": 2, \"count\": 651}, {\"atom_index_0\": 4, \"count\": 635}, {\"atom_index_0\": 1, \"count\": 225}, {\"atom_index_0\": 27, \"count\": 116}, {\"atom_index_0\": 28, \"count\": 92}, {\"atom_index_0\": 0, \"count\": 3}], \"data-dc52daaae98aba4f767be711bfd461c0\": [{\"atom_index_1\": 2, \"count\": 537311}, {\"atom_index_1\": 1, \"count\": 517218}, {\"atom_index_1\": 3, \"count\": 458480}, {\"atom_index_1\": 4, \"count\": 439876}, {\"atom_index_1\": 5, \"count\": 415448}, {\"atom_index_1\": 6, \"count\": 392783}, {\"atom_index_1\": 7, \"count\": 359545}, {\"atom_index_1\": 0, \"count\": 322761}, {\"atom_index_1\": 8, \"count\": 248731}, {\"atom_index_1\": 11, \"count\": 136544}, {\"atom_index_1\": 12, \"count\": 117024}, {\"atom_index_1\": 13, \"count\": 108353}, {\"atom_index_1\": 14, \"count\": 95001}, {\"atom_index_1\": 15, \"count\": 89218}, {\"atom_index_1\": 10, \"count\": 85942}, {\"atom_index_1\": 16, \"count\": 81188}, {\"atom_index_1\": 17, \"count\": 70360}, {\"atom_index_1\": 18, \"count\": 57310}, {\"atom_index_1\": 19, \"count\": 41672}, {\"atom_index_1\": 20, \"count\": 30523}, {\"atom_index_1\": 21, \"count\": 16680}, {\"atom_index_1\": 9, \"count\": 14834}, {\"atom_index_1\": 22, \"count\": 12414}, {\"atom_index_1\": 23, \"count\": 4058}, {\"atom_index_1\": 24, \"count\": 3520}, {\"atom_index_1\": 26, \"count\": 629}, {\"atom_index_1\": 25, \"count\": 596}, {\"atom_index_1\": 28, \"count\": 76}, {\"atom_index_1\": 27, \"count\": 52}], \"data-ebdc32f1be979a9c6ddbf0cea0b853fe\": [{\"type\": \"3JHC\", \"count\": 1510379}, {\"type\": \"2JHC\", \"count\": 1140674}, {\"type\": \"1JHC\", \"count\": 709416}, {\"type\": \"3JHH\", \"count\": 590611}, {\"type\": \"2JHH\", \"count\": 378036}, {\"type\": \"3JHN\", \"count\": 166415}, {\"type\": \"2JHN\", \"count\": 119253}, {\"type\": \"1JHN\", \"count\": 43363}], \"data-49f16c2b497caf509825d63ea0302313\": [{\"bins\": \"(-36.46, -24.164]\", \"scalar_coupling_constant\": 92}, {\"bins\": \"(-24.164, -12.109]\", \"scalar_coupling_constant\": 88965}, {\"bins\": \"(-12.109, -0.0538]\", \"scalar_coupling_constant\": 1171006}, {\"bins\": \"(-0.0538, 12.001]\", \"scalar_coupling_constant\": 2572510}, {\"bins\": \"(12.001, 24.056]\", \"scalar_coupling_constant\": 64140}, {\"bins\": \"(24.056, 36.111]\", \"scalar_coupling_constant\": 18227}, {\"bins\": \"(36.111, 48.166]\", \"scalar_coupling_constant\": 12397}, {\"bins\": \"(48.166, 60.221]\", \"scalar_coupling_constant\": 16153}, {\"bins\": \"(60.221, 72.276]\", \"scalar_coupling_constant\": 5657}, {\"bins\": \"(72.276, 84.331]\", \"scalar_coupling_constant\": 192254}, {\"bins\": \"(84.331, 96.386]\", \"scalar_coupling_constant\": 312829}, {\"bins\": \"(96.386, 108.441]\", \"scalar_coupling_constant\": 76866}, {\"bins\": \"(108.441, 120.495]\", \"scalar_coupling_constant\": 67526}, {\"bins\": \"(120.495, 132.55]\", \"scalar_coupling_constant\": 36547}, {\"bins\": \"(132.55, 144.605]\", \"scalar_coupling_constant\": 12719}, {\"bins\": \"(144.605, 156.66]\", \"scalar_coupling_constant\": 969}, {\"bins\": \"(156.66, 168.715]\", \"scalar_coupling_constant\": 29}, {\"bins\": \"(168.715, 180.77]\", \"scalar_coupling_constant\": 1}, {\"bins\": \"(180.77, 192.825]\", \"scalar_coupling_constant\": 640}, {\"bins\": \"(192.825, 204.88]\", \"scalar_coupling_constant\": 8620}]}};\n",
       "var opt = {};\n",
       "var type = \"vega-lite\";\n",
       "var id = \"5a119b92-a148-4758-a4c8-12d3da69980c\";\n",
       "\n",
       "var output_area = this;\n",
       "\n",
       "require([\"nbextensions/jupyter-vega/index\"], function(vega) {\n",
       "  var target = document.createElement(\"div\");\n",
       "  target.id = id;\n",
       "  target.className = \"vega-embed\";\n",
       "\n",
       "  var style = document.createElement(\"style\");\n",
       "  style.textContent = [\n",
       "    \".vega-embed .error p {\",\n",
       "    \"  color: firebrick;\",\n",
       "    \"  font-size: 14px;\",\n",
       "    \"}\",\n",
       "  ].join(\"\\\\n\");\n",
       "\n",
       "  // element is a jQuery wrapped DOM element inside the output area\n",
       "  // see http://ipython.readthedocs.io/en/stable/api/generated/\\\n",
       "  // IPython.display.html#IPython.display.Javascript.__init__\n",
       "  element[0].appendChild(target);\n",
       "  element[0].appendChild(style);\n",
       "\n",
       "  vega.render(\"#\" + id, spec, type, opt, output_area);\n",
       "}, function (err) {\n",
       "  if (err.requireType !== \"scripterror\") {\n",
       "    throw(err);\n",
       "  }\n",
       "});\n"
      ],
      "text/plain": [
       "<vega.vegalite.VegaLite at 0x7f8b9df29898>"
      ]
     },
     "metadata": {
      "jupyter-vega": "#5a119b92-a148-4758-a4c8-12d3da69980c"
     },
     "output_type": "display_data"
    },
    {
     "data": {
      "text/plain": []
     },
     "execution_count": 7,
     "metadata": {},
     "output_type": "execute_result"
    }
   ],
   "source": [
    "atom_count = train['atom_index_0'].value_counts().reset_index().rename(columns={'atom_index_0': 'count', 'index': 'atom_index_0'})\n",
    "chart1 = alt.Chart(atom_count).mark_bar().encode(\n",
    "    x=alt.X(\"atom_index_0:N\", axis=alt.Axis(title='atom_index_0')),\n",
    "    y=alt.Y('count:Q', axis=alt.Axis(title='Count')),\n",
    "    tooltip=['atom_index_0', 'count']\n",
    ").properties(title=\"Counts of atom_index_0\", width=350).interactive()\n",
    "\n",
    "atom_count = train['atom_index_1'].value_counts().reset_index().rename(columns={'atom_index_1': 'count', 'index': 'atom_index_1'})\n",
    "chart2 = alt.Chart(atom_count).mark_bar().encode(\n",
    "    x=alt.X(\"atom_index_1:N\", axis=alt.Axis(title='atom_index_1')),\n",
    "    y=alt.Y('count:Q', axis=alt.Axis(title='Count')),\n",
    "    tooltip=['atom_index_1', 'count']\n",
    ").properties(title=\"Counts of atom_index_1\", width=350).interactive()\n",
    "\n",
    "type_count = train['type'].value_counts().reset_index().rename(columns={'type': 'count', 'index': 'type'})\n",
    "chart3 = alt.Chart(type_count).mark_bar().encode(\n",
    "    x=alt.X(\"type:N\", axis=alt.Axis(title='type')),\n",
    "    y=alt.Y('count:Q', axis=alt.Axis(title='Count')),\n",
    "    tooltip=['type', 'count']\n",
    ").properties(title=\"Counts of type\", width=350).interactive()\n",
    "\n",
    "hist_df = pd.cut(train['scalar_coupling_constant'], 20).value_counts().sort_index().reset_index().rename(columns={'index': 'bins'})\n",
    "hist_df['bins'] = hist_df['bins'].astype(str)\n",
    "chart4 = alt.Chart(hist_df).mark_bar().encode(\n",
    "    x=alt.X(\"bins:O\", axis=alt.Axis(title='Target bins')),\n",
    "    y=alt.Y('scalar_coupling_constant:Q', axis=alt.Axis(title='Count')),\n",
    "    tooltip=['scalar_coupling_constant', 'bins']\n",
    ").properties(title=\"scalar_coupling_constant histogram\", width=400).interactive()\n",
    "\n",
    "\n",
    "(chart1 | chart2) & (chart3 | chart4)"
   ]
  },
  {
   "cell_type": "code",
   "execution_count": 8,
   "metadata": {},
   "outputs": [],
   "source": [
    "def map_atom_info(df, atom_idx):\n",
    "    df = pd.merge(df, structures, how = 'left',\n",
    "                  left_on  = ['molecule_name', f'atom_index_{atom_idx}'],\n",
    "                  right_on = ['molecule_name',  'atom_index'])\n",
    "    \n",
    "    df = df.drop('atom_index', axis=1)\n",
    "    df = df.rename(columns={'atom': f'atom_{atom_idx}',\n",
    "                            'x': f'x_{atom_idx}',\n",
    "                            'y': f'y_{atom_idx}',\n",
    "                            'z': f'z_{atom_idx}'})\n",
    "    return df\n",
    "\n",
    "train = map_atom_info(train, 0)\n",
    "train = map_atom_info(train, 1)\n",
    "\n",
    "test = map_atom_info(test, 0)\n",
    "test = map_atom_info(test, 1)\n",
    "\n",
    "atom_count=structures.groupby(['molecule_name','atom']).size().unstack(fill_value=0)\n",
    "train=pd.merge(train,atom_count, how = 'left', left_on  = 'molecule_name', right_on = 'molecule_name')\n",
    "test=pd.merge(test,atom_count, how = 'left', left_on  = 'molecule_name', right_on = 'molecule_name')"
   ]
  },
  {
   "cell_type": "code",
   "execution_count": 12,
   "metadata": {},
   "outputs": [],
   "source": [
    "obConversion = openbabel.OBConversion()\n",
    "obConversion.SetInFormat(\"xyz\")\n",
    "\n",
    "structdir='../../data/input/structures/'\n",
    "mols=[]\n",
    "mols_files=os.listdir(structdir)\n",
    "mols_index=dict(map(reversed,enumerate(mols_files)))\n",
    "for f in mols_index.keys():\n",
    "    mol = openbabel.OBMol()\n",
    "    obConversion.ReadFile(mol, structdir+f) \n",
    "    mols.append(mol)"
   ]
  },
  {
   "cell_type": "code",
   "execution_count": 13,
   "metadata": {},
   "outputs": [
    {
     "name": "stdout",
     "output_type": "stream",
     "text": [
      "H2O\n",
      "HO 1 : HO 2\n",
      "middle 0 O3\n"
     ]
    },
    {
     "data": {
      "text/plain": [
       "103.71576124592411"
      ]
     },
     "execution_count": 13,
     "metadata": {},
     "output_type": "execute_result"
    }
   ],
   "source": [
    "def Atoms(molname,AtomId1,AtomId2):\n",
    "    mol=mols[mols_index[molname+'.xyz']]\n",
    "    return mol, mol.GetAtomById(AtomId1), mol.GetAtomById(AtomId2)\n",
    "\n",
    "def SecondAtom(bond,FirstAtom):\n",
    "    if FirstAtom.GetId()==bond.GetBeginAtom().GetId(): return bond.GetEndAtom()\n",
    "    else: return bond.GetBeginAtom()\n",
    "\n",
    "def Angle2J(molname,AtomId1,AtomId2,debug=False):\n",
    "    mol,firstAtom,lastAtom=Atoms(molname,AtomId1,AtomId2)\n",
    "    if debug: print (mol.GetFormula())\n",
    "    if debug: print(firstAtom.GetType(),firstAtom.GetId(),':',lastAtom.GetType(),lastAtom.GetId())\n",
    "    for b in openbabel.OBAtomBondIter(firstAtom): # all bonds for first atom\n",
    "        secondAtom=SecondAtom(b,firstAtom)\n",
    "        lastBond=secondAtom.GetBond(lastAtom)\n",
    "        if lastBond: # found!\n",
    "            if debug: print('middle',secondAtom.GetId(),secondAtom.GetType())\n",
    "            return firstAtom.GetAngle(secondAtom,lastAtom)\n",
    "\n",
    "Angle2J('dsgdb9nsd_000003',1,2,debug=True) #water"
   ]
  },
  {
   "cell_type": "code",
   "execution_count": 15,
   "metadata": {},
   "outputs": [
    {
     "name": "stdout",
     "output_type": "stream",
     "text": [
      "dsgdb9nsd_000007 C2H6\n",
      "H 2 : H 5\n",
      "C3 0 <-> C3 1\n"
     ]
    },
    {
     "data": {
      "text/plain": [
       "60.00280550635594"
      ]
     },
     "execution_count": 15,
     "metadata": {},
     "output_type": "execute_result"
    }
   ],
   "source": [
    "def Torsion3J(molname,AtomId1,AtomId2,debug=False):\n",
    "    mol,firstAtom,lastAtom=Atoms(molname,AtomId1,AtomId2)\n",
    "    if debug: print (molname, mol.GetFormula())\n",
    "    if debug: print(firstAtom.GetType(),firstAtom.GetId(),':',lastAtom.GetType(),lastAtom.GetId())\n",
    "    for b in openbabel.OBAtomBondIter(firstAtom): # all bonds for first atom\n",
    "        secondAtom=SecondAtom(b,firstAtom)\n",
    "        for b2 in openbabel.OBAtomBondIter(secondAtom): # all bonds for second atom \n",
    "            thirdAtom=SecondAtom(b2,secondAtom)\n",
    "            lastBond=thirdAtom.GetBond(lastAtom)\n",
    "            if lastBond: # found!\n",
    "                if debug: print(secondAtom.GetType(),secondAtom.GetId(),'<->',thirdAtom.GetType(),thirdAtom.GetId())\n",
    "                return mol.GetTorsion(firstAtom,secondAtom,thirdAtom,lastAtom)\n",
    "          \n",
    "Torsion3J('dsgdb9nsd_000007',2,5,debug=True) #methanol"
   ]
  },
  {
   "cell_type": "code",
   "execution_count": 16,
   "metadata": {},
   "outputs": [],
   "source": [
    "train['bonds']=train['type'].str[0].astype(int)\n",
    "test['bonds']=test['type'].str[0].astype(int)\n",
    "\n",
    "train_p_0 = train[['x_0', 'y_0', 'z_0']].values\n",
    "train_p_1 = train[['x_1', 'y_1', 'z_1']].values\n",
    "test_p_0 = test[['x_0', 'y_0', 'z_0']].values\n",
    "test_p_1 = test[['x_1', 'y_1', 'z_1']].values\n",
    "\n",
    "train['dist'] = np.linalg.norm(train_p_0 - train_p_1, axis=1)\n",
    "test['dist'] = np.linalg.norm(test_p_0 - test_p_1, axis=1)\n",
    "train['abs_dist']=np.linalg.norm(train_p_0-train_p_1,axis=1,ord=1)\n",
    "test['abs_dist']=np.linalg.norm(test_p_0-test_p_1,axis=1,ord=1)"
   ]
  },
  {
   "cell_type": "code",
   "execution_count": 17,
   "metadata": {},
   "outputs": [],
   "source": [
    "def dist12(name='xy',a='x',b='y'):\n",
    "    train_p_0=train[[a+'_0',b+'_0']].values\n",
    "    train_p_1=train[[a+'_1',b+'_1']].values\n",
    "    test_p_0=test[[a+'_0',b+'_0']].values\n",
    "    test_p_1=test[[a+'_1',b+'_1']].values\n",
    "    \n",
    "    train[name] = np.linalg.norm(train_p_0 - train_p_1, axis=1)\n",
    "    test[name] = np.linalg.norm(test_p_0 - test_p_1, axis=1)\n",
    "    train['abs_'+name]= np.linalg.norm(train_p_0-train_p_1,axis=1,ord=1)\n",
    "    test['abs_'+name]= np.linalg.norm(test_p_0-test_p_1,axis=1,ord=1)"
   ]
  },
  {
   "cell_type": "code",
   "execution_count": 18,
   "metadata": {},
   "outputs": [],
   "source": [
    "dist12('dist_xy','x','y')\n",
    "dist12('dist_xz','x','z')\n",
    "dist12('dist_yz','y','z')"
   ]
  },
  {
   "cell_type": "code",
   "execution_count": 19,
   "metadata": {},
   "outputs": [],
   "source": [
    "train['dist_to_type_mean'] = train['dist'] / train.groupby('type')['dist'].transform('mean')\n",
    "test['dist_to_type_mean'] = test['dist'] / test.groupby('type')['dist'].transform('mean')\n",
    "\n",
    "train['dist_to_type_std'] = train['dist'] / train.groupby('type')['dist'].transform('std')\n",
    "test['dist_to_type_std'] = test['dist'] / test.groupby('type')['dist'].transform('std')\n",
    "\n",
    "train['dist_to_type_mean_xy'] = train['dist_xy'] / train.groupby('type')['dist_xy'].transform('mean')\n",
    "test['dist_to_type_mean_xy'] = test['dist_xy'] / test.groupby('type')['dist_xy'].transform('mean')\n",
    "\n",
    "train['dist_to_type_mean_xz'] = train['dist_xz'] / train.groupby('type')['dist_xz'].transform('mean')\n",
    "test['dist_to_type_mean_xz'] = test['dist_xz'] / test.groupby('type')['dist_xz'].transform('mean')\n",
    "\n",
    "train['dist_to_type_mean_yz'] = train['dist_yz'] / train.groupby('type')['dist_yz'].transform('mean')\n",
    "test['dist_to_type_mean_yz'] = test['dist_yz'] / test.groupby('type')['dist_yz'].transform('mean')"
   ]
  },
  {
   "cell_type": "code",
   "execution_count": 20,
   "metadata": {},
   "outputs": [],
   "source": [
    "def create_features(df):\n",
    "    df['molecule_couples'] = df.groupby('molecule_name')['id'].transform('count')\n",
    "    df['molecule_dist_mean'] = df.groupby('molecule_name')['dist'].transform('mean')\n",
    "    df['molecule_dist_min'] = df.groupby('molecule_name')['dist'].transform('min')\n",
    "    df['molecule_dist_max'] = df.groupby('molecule_name')['dist'].transform('max')\n",
    "    df['atom_0_couples_count'] = df.groupby(['molecule_name', 'atom_index_0'])['id'].transform('count')\n",
    "    df['atom_1_couples_count'] = df.groupby(['molecule_name', 'atom_index_1'])['id'].transform('count')\n",
    "    \n",
    "    df[f'molecule_atom_index_0_x_1_std'] = df.groupby(['molecule_name', 'atom_index_0'])['x_1'].transform('std')\n",
    "    df[f'molecule_atom_index_0_y_1_mean'] = df.groupby(['molecule_name', 'atom_index_0'])['y_1'].transform('mean')\n",
    "    df[f'molecule_atom_index_0_y_1_mean_diff'] = df[f'molecule_atom_index_0_y_1_mean'] - df['y_1']\n",
    "    df[f'molecule_atom_index_0_y_1_mean_div'] = df[f'molecule_atom_index_0_y_1_mean'] / df['y_1']\n",
    "    df[f'molecule_atom_index_0_y_1_max'] = df.groupby(['molecule_name', 'atom_index_0'])['y_1'].transform('max')\n",
    "    df[f'molecule_atom_index_0_y_1_max_diff'] = df[f'molecule_atom_index_0_y_1_max'] - df['y_1']\n",
    "    df[f'molecule_atom_index_0_y_1_std'] = df.groupby(['molecule_name', 'atom_index_0'])['y_1'].transform('std')\n",
    "    df[f'molecule_atom_index_0_z_1_std'] = df.groupby(['molecule_name', 'atom_index_0'])['z_1'].transform('std')\n",
    "    df[f'molecule_atom_index_0_dist_mean'] = df.groupby(['molecule_name', 'atom_index_0'])['dist'].transform('mean')\n",
    "    df[f'molecule_atom_index_0_dist_mean_diff'] = df[f'molecule_atom_index_0_dist_mean'] - df['dist']\n",
    "    df[f'molecule_atom_index_0_dist_mean_div'] = df[f'molecule_atom_index_0_dist_mean'] / df['dist']\n",
    "    df[f'molecule_atom_index_0_dist_max'] = df.groupby(['molecule_name', 'atom_index_0'])['dist'].transform('max')\n",
    "    df[f'molecule_atom_index_0_dist_max_diff'] = df[f'molecule_atom_index_0_dist_max'] - df['dist']\n",
    "    df[f'molecule_atom_index_0_dist_max_div'] = df[f'molecule_atom_index_0_dist_max'] / df['dist']\n",
    "    df[f'molecule_atom_index_0_dist_min'] = df.groupby(['molecule_name', 'atom_index_0'])['dist'].transform('min')\n",
    "    df[f'molecule_atom_index_0_dist_min_diff'] = df[f'molecule_atom_index_0_dist_min'] - df['dist']\n",
    "    df[f'molecule_atom_index_0_dist_min_div'] = df[f'molecule_atom_index_0_dist_min'] / df['dist']\n",
    "    df[f'molecule_atom_index_0_dist_std'] = df.groupby(['molecule_name', 'atom_index_0'])['dist'].transform('std')\n",
    "    df[f'molecule_atom_index_0_dist_std_diff'] = df[f'molecule_atom_index_0_dist_std'] - df['dist']\n",
    "    df[f'molecule_atom_index_0_dist_std_div'] = df[f'molecule_atom_index_0_dist_std'] / df['dist']\n",
    "    df[f'molecule_atom_index_1_dist_mean'] = df.groupby(['molecule_name', 'atom_index_1'])['dist'].transform('mean')\n",
    "    df[f'molecule_atom_index_1_dist_mean_diff'] = df[f'molecule_atom_index_1_dist_mean'] - df['dist']\n",
    "    df[f'molecule_atom_index_1_dist_mean_div'] = df[f'molecule_atom_index_1_dist_mean'] / df['dist']\n",
    "    df[f'molecule_atom_index_1_dist_max'] = df.groupby(['molecule_name', 'atom_index_1'])['dist'].transform('max')\n",
    "    df[f'molecule_atom_index_1_dist_max_diff'] = df[f'molecule_atom_index_1_dist_max'] - df['dist']\n",
    "    df[f'molecule_atom_index_1_dist_max_div'] = df[f'molecule_atom_index_1_dist_max'] / df['dist']\n",
    "    df[f'molecule_atom_index_1_dist_min'] = df.groupby(['molecule_name', 'atom_index_1'])['dist'].transform('min')\n",
    "    df[f'molecule_atom_index_1_dist_min_diff'] = df[f'molecule_atom_index_1_dist_min'] - df['dist']\n",
    "    df[f'molecule_atom_index_1_dist_min_div'] = df[f'molecule_atom_index_1_dist_min'] / df['dist']\n",
    "    df[f'molecule_atom_index_1_dist_std'] = df.groupby(['molecule_name', 'atom_index_1'])['dist'].transform('std')\n",
    "    df[f'molecule_atom_index_1_dist_std_diff'] = df[f'molecule_atom_index_1_dist_std'] - df['dist']\n",
    "    df[f'molecule_atom_index_1_dist_std_div'] = df[f'molecule_atom_index_1_dist_std'] / df['dist']\n",
    "    df[f'molecule_atom_1_dist_mean'] = df.groupby(['molecule_name', 'atom_1'])['dist'].transform('mean')\n",
    "    df[f'molecule_atom_1_dist_min'] = df.groupby(['molecule_name', 'atom_1'])['dist'].transform('min')\n",
    "    df[f'molecule_atom_1_dist_min_diff'] = df[f'molecule_atom_1_dist_min'] - df['dist']\n",
    "    df[f'molecule_atom_1_dist_min_div'] = df[f'molecule_atom_1_dist_min'] / df['dist']\n",
    "    df[f'molecule_atom_1_dist_std'] = df.groupby(['molecule_name', 'atom_1'])['dist'].transform('std')\n",
    "    df[f'molecule_atom_1_dist_std_diff'] = df[f'molecule_atom_1_dist_std'] - df['dist']\n",
    "    df[f'molecule_bonds_dist_std'] = df.groupby(['molecule_name', 'bonds'])['dist'].transform('std')\n",
    "    df[f'molecule_bonds_dist_std_diff'] = df[f'molecule_bonds_dist_std'] - df['dist']\n",
    "    df[f'molecule_type_dist_mean'] = df.groupby(['molecule_name', 'type'])['dist'].transform('mean')\n",
    "    df[f'molecule_type_dist_mean_diff'] = df[f'molecule_type_dist_mean'] - df['dist']\n",
    "    df[f'molecule_type_dist_mean_div'] = df[f'molecule_type_dist_mean'] / df['dist']\n",
    "    df[f'molecule_type_dist_max'] = df.groupby(['molecule_name', 'type'])['dist'].transform('max')\n",
    "    df[f'molecule_type_dist_min'] = df.groupby(['molecule_name', 'type'])['dist'].transform('min')\n",
    "    df[f'molecule_type_dist_std'] = df.groupby(['molecule_name', 'type'])['dist'].transform('std')\n",
    "    df[f'molecule_type_dist_std_diff'] = df[f'molecule_type_dist_std'] - df['dist']\n",
    "\n",
    "    return df"
   ]
  },
  {
   "cell_type": "code",
   "execution_count": 23,
   "metadata": {},
   "outputs": [
    {
     "name": "stdout",
     "output_type": "stream",
     "text": [
      "Mem. usage decreased to 897.36 Mb (71.0% reduction)\n",
      "Mem. usage decreased to 468.34 Mb (71.5% reduction)\n"
     ]
    }
   ],
   "source": [
    "train = create_features(train)\n",
    "test = create_features(test)\n",
    "\n",
    "train=reduce_mem_usage(train)\n",
    "test=reduce_mem_usage(test)"
   ]
  },
  {
   "cell_type": "code",
   "execution_count": 24,
   "metadata": {},
   "outputs": [
    {
     "name": "stdout",
     "output_type": "stream",
     "text": [
      "                         train:   1.9GiB\n",
      "                          test:   1.0GiB\n",
      " scalar_coupling_contributions: 808.5MiB\n",
      "                    structures: 384.6MiB\n",
      "    magnetic_shielding_tensors: 223.8MiB\n",
      "              mulliken_charges: 130.2MiB\n",
      "                    atom_count:  14.1MiB\n",
      "                dipole_moments:   7.9MiB\n",
      "              potential_energy:   6.6MiB\n",
      "                    mols_index:   5.0MiB\n"
     ]
    }
   ],
   "source": [
    "import sys\n",
    "def sizeof_fmt(num, suffix='B'):\n",
    "    ''' By Fred Cirera, after https://stackoverflow.com/a/1094933/1870254'''\n",
    "    for unit in ['','Ki','Mi','Gi','Ti','Pi','Ei','Zi']:\n",
    "        if abs(num) < 1024.0:\n",
    "            return \"%3.1f%s%s\" % (num, unit, suffix)\n",
    "        num /= 1024.0\n",
    "    return \"%.1f%s%s\" % (num, 'Yi', suffix)\n",
    "\n",
    "for name, size in sorted(((name, sys.getsizeof(value)) for name,value in locals().items()), key= lambda x: -x[1])[:10]:\n",
    "    print(\"{:>30}: {:>8}\".format(name,sizeof_fmt(size)))"
   ]
  },
  {
   "cell_type": "code",
   "execution_count": 29,
   "metadata": {},
   "outputs": [],
   "source": [
    "train.drop(columns=['molecule_name','atom_index_0','atom_index_1','type','scalar_coupling_constant']).to_pickle('../../data/feature/molecule-with-openbabel_train.pkl')\n",
    "test.drop(columns=['molecule_name','atom_index_0','atom_index_1','type']).to_pickle('../../data/feature/molecule-with-openbabel_test.pkl')"
   ]
  },
  {
   "cell_type": "code",
   "execution_count": null,
   "metadata": {},
   "outputs": [],
   "source": []
  }
 ],
 "metadata": {
  "kernelspec": {
   "display_name": "Environment (conda_tensorflow_gpu_p36)",
   "language": "python",
   "name": "conda_tensorflow_gpu_p36"
  },
  "language_info": {
   "codemirror_mode": {
    "name": "ipython",
    "version": 3
   },
   "file_extension": ".py",
   "mimetype": "text/x-python",
   "name": "python",
   "nbconvert_exporter": "python",
   "pygments_lexer": "ipython3",
   "version": "3.6.5"
  }
 },
 "nbformat": 4,
 "nbformat_minor": 2
}
