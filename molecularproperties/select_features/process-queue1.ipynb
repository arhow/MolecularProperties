{
 "cells": [
  {
   "cell_type": "code",
   "execution_count": 1,
   "metadata": {},
   "outputs": [
    {
     "data": {
      "text/html": [
       "<style>\n",
       "   div#notebook-container    { width: 95%; }\n",
       "   div#menubar-container     { width: 65%; }\n",
       "   div#maintoolbar-container { width: 99%; }\n",
       "</style>\n"
      ],
      "text/plain": [
       "<IPython.core.display.HTML object>"
      ]
     },
     "metadata": {},
     "output_type": "display_data"
    }
   ],
   "source": [
    "%%HTML\n",
    "<style>\n",
    "   div#notebook-container    { width: 95%; }\n",
    "   div#menubar-container     { width: 65%; }\n",
    "   div#maintoolbar-container { width: 99%; }\n",
    "</style>"
   ]
  },
  {
   "cell_type": "code",
   "execution_count": 1,
   "metadata": {},
   "outputs": [],
   "source": [
    "import sys\n",
    "sys.path.append(\"../..\") # Adds higher directory to python modules path.\n",
    "from utilities import aggregate_feature_calculators\n",
    "from utilities import aggregate_feature_calculators_setting as aggcal\n",
    "from utilities.parallel import Parallel\n",
    "from utilities.dfdb import DFDB\n",
    "\n",
    "from utilities.process.pqueue import *\n",
    "from utilities.process.pnode import *\n",
    "from utilities.process.putilities import *"
   ]
  },
  {
   "cell_type": "code",
   "execution_count": 2,
   "metadata": {},
   "outputs": [],
   "source": [
    "import numpy as np\n",
    "import pandas as pd\n",
    "import os\n",
    "import time\n",
    "import datetime\n",
    "import json\n",
    "import copy\n",
    "import gc\n",
    "import warnings\n",
    "from tqdm import tqdm_notebook, tqdm\n",
    "\n",
    "import optuna\n",
    "\n",
    "import lightgbm as lgb\n",
    "import xgboost as xgb\n",
    "\n",
    "from catboost import CatBoostRegressor\n",
    "from sklearn.preprocessing import LabelEncoder\n",
    "from sklearn.model_selection import StratifiedKFold, KFold, RepeatedKFold,TimeSeriesSplit, GroupKFold\n",
    "from sklearn.model_selection import train_test_split\n",
    "from sklearn import metrics\n",
    "from sklearn import linear_model\n",
    "from sklearn.preprocessing import StandardScaler\n",
    "from sklearn.svm import NuSVR, SVR\n",
    "from sklearn.metrics import mean_absolute_error\n",
    "from sklearn import preprocessing\n",
    "\n",
    "import eli5\n",
    "from eli5.sklearn import PermutationImportance\n",
    "\n",
    "import networkx as nx\n",
    "\n",
    "import seaborn as sns\n",
    "import matplotlib.pyplot as plt\n",
    "%matplotlib inline"
   ]
  },
  {
   "cell_type": "code",
   "execution_count": 3,
   "metadata": {},
   "outputs": [
    {
     "data": {
      "text/plain": [
       "['test.csv',\n",
       " 'structures',\n",
       " 'sample_submission.csv',\n",
       " 'magnetic_shielding_tensors.csv',\n",
       " 'mulliken_charges.csv',\n",
       " 'potential_energy.csv',\n",
       " 'scalar_coupling_contributions.csv',\n",
       " 'dipole_moments.csv',\n",
       " 'structures.csv',\n",
       " 'train.csv']"
      ]
     },
     "execution_count": 3,
     "metadata": {},
     "output_type": "execute_result"
    }
   ],
   "source": [
    "csv_file_folder =  '../../data/input'\n",
    "os.listdir(csv_file_folder)"
   ]
  },
  {
   "cell_type": "code",
   "execution_count": 4,
   "metadata": {},
   "outputs": [
    {
     "data": {
      "text/plain": [
       "['giba-r-data-table-simple-features-1-17-lb_train.pkl',\n",
       " 'eem_train.pkl',\n",
       " 'dataset-with-number-of-bonds-between-atoms_test.pkl',\n",
       " 'keras-neural-net-for-champs_train.pkl',\n",
       " 'brute-force-feature-engineering_test.pkl',\n",
       " 'angles-and-distances_test.pkl',\n",
       " 'giba-r-data-table-simple-features-0-991-lb_test.pkl',\n",
       " 'keras-neural-net-for-champs_test.pkl',\n",
       " 'brute-force-feature-engineering-mini_train.pkl',\n",
       " 'dataset-with-number-of-bonds-between-atoms_train.pkl',\n",
       " 'giba-r-data-table-simple-features-0-991-lb_train.pkl',\n",
       " 'eem_test.pkl',\n",
       " 'brute-force-feature-engineering_train.pkl',\n",
       " 'molecule-with-openbabel_train.pkl',\n",
       " 'molecular-properties-eda-and-models_train.pkl',\n",
       " 'brute-force-feature-engineering-mini_test.pkl',\n",
       " 'eachtype_train.pkl',\n",
       " 'molecular-properties-eda-and-models_test.pkl',\n",
       " '.ipynb_checkpoints',\n",
       " 'molecule-with-openbabel_test.pkl',\n",
       " 'eachtype_test.pkl',\n",
       " 'giba-r-data-table-simple-features-1-17-lb_test.pkl',\n",
       " 'angles-and-distances_train.pkl']"
      ]
     },
     "execution_count": 4,
     "metadata": {},
     "output_type": "execute_result"
    }
   ],
   "source": [
    "file_folder =  '../../data/feature'\n",
    "os.listdir(file_folder)"
   ]
  },
  {
   "cell_type": "code",
   "execution_count": 5,
   "metadata": {},
   "outputs": [],
   "source": [
    "file_list = ['giba-r-data-table-simple-features-1-17-lb_train.pkl',\n",
    " 'eem_train.pkl',\n",
    " 'dataset-with-number-of-bonds-between-atoms_test.pkl',\n",
    " 'keras-neural-net-for-champs_train.pkl',\n",
    " 'brute-force-feature-engineering-mini_test.pkl',\n",
    " 'angles-and-distances_test.pkl',\n",
    " 'keras-neural-net-for-champs_test.pkl',\n",
    " 'dataset-with-number-of-bonds-between-atoms_train.pkl',\n",
    " 'eem_test.pkl',\n",
    " 'brute-force-feature-engineering-mini_train.pkl',\n",
    " 'molecule-with-openbabel_train.pkl',\n",
    " 'molecular-properties-eda-and-models_train.pkl',\n",
    " 'eachtype_train.pkl',\n",
    " 'molecular-properties-eda-and-models_test.pkl',\n",
    " 'molecule-with-openbabel_test.pkl',\n",
    " 'eachtype_test.pkl',\n",
    " 'giba-r-data-table-simple-features-1-17-lb_test.pkl',\n",
    " 'angles-and-distances_train.pkl']"
   ]
  },
  {
   "cell_type": "code",
   "execution_count": 6,
   "metadata": {},
   "outputs": [],
   "source": [
    "def prepare_data(feature_folder =  '../data/feature', csv_file_folder = '../data/input'):\n",
    "\n",
    "    df_train = pd.read_csv(f\"{csv_file_folder}/train.csv\")\n",
    "    df_test = pd.read_csv(f\"{csv_file_folder}/test.csv\")\n",
    "\n",
    "    if type(feature_folder) == list:\n",
    "        feature_file_list = feature_folder\n",
    "    elif type(feature_folder) == str:\n",
    "        feature_file_list = os.listdir(feature_folder)\n",
    "    else:\n",
    "        raise Exception(f'{feature_folder} format error')\n",
    "        \n",
    "    for f in feature_file_list:\n",
    "        if (f.endswith('.pkl')) and (not f.startswith('.')):\n",
    "            if f[:-4].endswith('train'):\n",
    "                df_feature_i = pd.read_pickle(f'{file_folder}/{f}')\n",
    "                columns_i = df_feature_i.columns.tolist()\n",
    "                new_columns = set(columns_i) - set(df_train.columns.tolist())\n",
    "                df_train = pd.merge(df_train, df_feature_i[list(new_columns) + ['id']], on='id')\n",
    "                print('train add', f, df_feature_i.shape)\n",
    "            if f[:-4].endswith('test'):\n",
    "                df_feature_i = pd.read_pickle(f'{file_folder}/{f}')\n",
    "                columns_i = df_feature_i.columns.tolist()\n",
    "                new_columns = set(columns_i) - set(df_test.columns.tolist())\n",
    "                df_test = pd.merge(df_test, df_feature_i[list(new_columns) + ['id']], on='id')\n",
    "                print('test add', f, df_feature_i.shape)\n",
    "\n",
    "    numerics = ['int16', 'int8', 'int32', 'int64', 'float16', 'float32', 'float64']\n",
    "    for col in df_train.columns:\n",
    "        col_type = df_train[col].dtypes\n",
    "        if not col_type in numerics:\n",
    "            print(col, df_train[col].unique())\n",
    "            le = LabelEncoder()\n",
    "            le.fit(list(df_train[col].values) + list(df_test[col].values))\n",
    "            df_train[col] = le.transform(list(df_train[col].values))\n",
    "            df_test[col] = le.transform(list(df_test[col].values))\n",
    "            print(le.classes_)\n",
    "\n",
    "    df_train = df_train.replace([np.inf, -np.inf], np.nan)\n",
    "    df_train = df_train.fillna(0)\n",
    "    df_test = df_test.replace([np.inf, -np.inf], np.nan)\n",
    "    df_test = df_test.fillna(0)\n",
    "\n",
    "    df_train = df_train.rename(columns={'id': 'index', 'scalar_coupling_constant': 'y'})\n",
    "    df_test = df_test.rename(columns={'id': 'index'})\n",
    "\n",
    "    df_train = df_train.reset_index(drop=True)\n",
    "    df_test = df_test.reset_index(drop=True)\n",
    "\n",
    "    return df_train, df_test\n"
   ]
  },
  {
   "cell_type": "code",
   "execution_count": 7,
   "metadata": {},
   "outputs": [
    {
     "name": "stdout",
     "output_type": "stream",
     "text": [
      "train add giba-r-data-table-simple-features-1-17-lb_train.pkl (4658147, 96)\n",
      "train add eem_train.pkl (4658147, 3)\n",
      "test add dataset-with-number-of-bonds-between-atoms_test.pkl (2505542, 12)\n",
      "train add keras-neural-net-for-champs_train.pkl (4658147, 56)\n",
      "test add brute-force-feature-engineering-mini_test.pkl (2505542, 49)\n",
      "test add angles-and-distances_test.pkl (2505542, 2)\n",
      "test add keras-neural-net-for-champs_test.pkl (2505542, 56)\n",
      "train add dataset-with-number-of-bonds-between-atoms_train.pkl (4658147, 12)\n",
      "test add eem_test.pkl (2505542, 3)\n",
      "train add brute-force-feature-engineering-mini_train.pkl (4658147, 49)\n",
      "train add molecule-with-openbabel_train.pkl (4658147, 81)\n",
      "train add molecular-properties-eda-and-models_train.pkl (4658147, 19)\n",
      "train add eachtype_train.pkl (5090786, 92)\n",
      "test add molecular-properties-eda-and-models_test.pkl (2505542, 19)\n",
      "test add molecule-with-openbabel_test.pkl (2505542, 81)\n",
      "test add eachtype_test.pkl (2737775, 92)\n",
      "test add giba-r-data-table-simple-features-1-17-lb_test.pkl (2505542, 96)\n",
      "train add angles-and-distances_train.pkl (4658147, 2)\n",
      "molecule_name ['dsgdb9nsd_000001' 'dsgdb9nsd_000002' 'dsgdb9nsd_000003' ...\n",
      " 'dsgdb9nsd_133881' 'dsgdb9nsd_133882' 'dsgdb9nsd_133884']\n",
      "['dsgdb9nsd_000001' 'dsgdb9nsd_000002' 'dsgdb9nsd_000003' ...\n",
      " 'dsgdb9nsd_133883' 'dsgdb9nsd_133884' 'dsgdb9nsd_133885']\n",
      "type ['1JHC' '2JHH' '1JHN' '2JHN' '2JHC' '3JHH' '3JHC' '3JHN']\n",
      "['1JHC' '1JHN' '2JHC' '2JHH' '2JHN' '3JHC' '3JHH' '3JHN']\n",
      "structure_atom_1 ['C' 'H' 'N']\n",
      "['C' 'H' 'N']\n",
      "molecule_name.1 ['dsgdb9nsd_000001' 'dsgdb9nsd_000002' 'dsgdb9nsd_000003' ...\n",
      " 'dsgdb9nsd_133881' 'dsgdb9nsd_133882' 'dsgdb9nsd_133884']\n",
      "['dsgdb9nsd_000001' 'dsgdb9nsd_000002' 'dsgdb9nsd_000003' ...\n",
      " 'dsgdb9nsd_133883' 'dsgdb9nsd_133884' 'dsgdb9nsd_133885']\n",
      "structure_atom_0 ['H']\n",
      "['H']\n",
      "atom_0 ['H']\n",
      "['H']\n",
      "atom_1 ['C' 'H' 'N']\n",
      "['C' 'H' 'N']\n",
      "bond_type ['1.0CH' 'none' '1.0HN']\n",
      "['1.0CH' '1.0HN' 'none']\n",
      "type_1 ['JHC' 'JHH' 'JHN']\n",
      "['JHC' 'JHH' 'JHN']\n",
      "type_0 ['1' '2' '3']\n",
      "['1' '2' '3']\n",
      "(5090786, 268) (2737775, 267)\n"
     ]
    }
   ],
   "source": [
    "df_train, df_test = prepare_data(feature_folder =  file_list,  csv_file_folder = '../../data/input')\n",
    "print(df_train.shape, df_test.shape)"
   ]
  },
  {
   "cell_type": "code",
   "execution_count": 8,
   "metadata": {},
   "outputs": [
    {
     "data": {
      "text/plain": [
       "((5090786, 268), (2737775, 267))"
      ]
     },
     "execution_count": 8,
     "metadata": {},
     "output_type": "execute_result"
    }
   ],
   "source": [
    "df_train.shape, df_test.shape"
   ]
  },
  {
   "cell_type": "code",
   "execution_count": 9,
   "metadata": {},
   "outputs": [],
   "source": [
    "param = {\n",
    "    'columns': df_train.columns.drop(['index', 'y']).tolist(),\n",
    "    'cv': {\n",
    "        'cls': 'KFold',\n",
    "        'init': {'n_splits': 5, 'shuffle': True, 'random_state': 42}\n",
    "    },\n",
    "    'scaler': {\n",
    "        'cls': 'StandardScaler', 'init': {}, 'fit': {}\n",
    "    },\n",
    "    'model': {\n",
    "        'cls': 'lgb.LGBMRegressor',\n",
    "        'init': {\n",
    "            'learning_rate': 0.35395923077843333,\n",
    "            'feature_fraction': 0.8840483697334669,\n",
    "            'bagging_fraction': 0.7017457378676857,\n",
    "            'min_data_in_leaf': 616,\n",
    "            'lambda_l1': 0.00013058988949929333,\n",
    "            'lambda_l2': 0.004991992636437704,\n",
    "            'max_bin': 74,\n",
    "            'num_leaves': 255,\n",
    "            'random_state': 2928,\n",
    "            'n_jobs': 16\n",
    "        },\n",
    "        'fit': {}\n",
    "    },\n",
    "    'metric': 'mean_absolute_error'\n",
    "}\n",
    "\n",
    "mytrial = []\n",
    "process_queue = PQueue(df_train.sample(500000), df_test, param, mytrial)\n",
    "sort_features = SortFeatureSelectTopNProcess(**{'top_n':200})\n",
    "select_topn = RFESelectTopNProcess(**{'n_features_remain':20, 'n_features_to_remove':10})\n",
    "remove_useless = RFERemoveUselessFeaturesProcess(**{})\n",
    "process_queue.insert_node(sort_features)\n",
    "process_queue.insert_node(select_topn)\n",
    "process_queue.insert_node(remove_useless)"
   ]
  },
  {
   "cell_type": "code",
   "execution_count": null,
   "metadata": {},
   "outputs": [],
   "source": [
    "try:\n",
    "    result = process_queue.run()\n",
    "except Exception as e:\n",
    "    print(e.__str__())\n",
    "print(len(process_queue.trial))\n",
    "print(process_queue.param)"
   ]
  },
  {
   "cell_type": "code",
   "execution_count": null,
   "metadata": {},
   "outputs": [],
   "source": [
    "df_trial = pd.DataFrame(mytrial)"
   ]
  },
  {
   "cell_type": "code",
   "execution_count": null,
   "metadata": {},
   "outputs": [],
   "source": [
    "df_trial[df_trial['message']=='RFESelectTopNProcess to 20 features'][['datetime', 'message', 'nfeatures', 'train_metric_mean', 'val_metric_mean', 'trn_val_metric_diff']]"
   ]
  },
  {
   "cell_type": "code",
   "execution_count": null,
   "metadata": {},
   "outputs": [],
   "source": [
    "df_trial[df_trial['message']=='RFERemoveUselessFeaturesProcess'][['datetime', 'message', 'nfeatures', 'train_metric_mean', 'val_metric_mean', 'trn_val_metric_diff']].sort_values(by=['val_metric_mean']).head()"
   ]
  },
  {
   "cell_type": "code",
   "execution_count": 22,
   "metadata": {},
   "outputs": [
    {
     "name": "stderr",
     "output_type": "stream",
     "text": [
      "[I 2019-07-08 12:43:35,887] Finished trial#0 resulted in value: 1.9479356066616114. Current best value is 1.9479356066616114 with parameters: {'learning_rate': 0.2557043291872395, 'feature_fraction': 0.8402360940571069, 'bagging_fraction': 0.6471727275908338, 'min_data_in_leaf': 762, 'lambda_l1': 0.001260157167891001, 'lambda_l2': 1.8109804288577593, 'max_bin': 49, 'num_leaves': 6, 'random_state': 8920}.\n",
      "[I 2019-07-08 12:44:05,257] Finished trial#1 resulted in value: 1.0277087290901945. Current best value is 1.0277087290901945 with parameters: {'learning_rate': 0.467907656066654, 'feature_fraction': 0.9296597716002054, 'bagging_fraction': 0.88353122869927, 'min_data_in_leaf': 583, 'lambda_l1': 0.4844715238697431, 'lambda_l2': 8.647503479325444, 'max_bin': 78, 'num_leaves': 143, 'random_state': 2998}.\n",
      "[I 2019-07-08 12:44:20,441] Finished trial#2 resulted in value: 1.5398453432881518. Current best value is 1.0277087290901945 with parameters: {'learning_rate': 0.467907656066654, 'feature_fraction': 0.9296597716002054, 'bagging_fraction': 0.88353122869927, 'min_data_in_leaf': 583, 'lambda_l1': 0.4844715238697431, 'lambda_l2': 8.647503479325444, 'max_bin': 78, 'num_leaves': 143, 'random_state': 2998}.\n",
      "[I 2019-07-08 12:44:44,851] Finished trial#3 resulted in value: 1.116446482668843. Current best value is 1.0277087290901945 with parameters: {'learning_rate': 0.467907656066654, 'feature_fraction': 0.9296597716002054, 'bagging_fraction': 0.88353122869927, 'min_data_in_leaf': 583, 'lambda_l1': 0.4844715238697431, 'lambda_l2': 8.647503479325444, 'max_bin': 78, 'num_leaves': 143, 'random_state': 2998}.\n",
      "[I 2019-07-08 12:45:22,845] Finished trial#4 resulted in value: 0.9659502109926441. Current best value is 0.9659502109926441 with parameters: {'learning_rate': 0.38044183666124876, 'feature_fraction': 0.9098841353636403, 'bagging_fraction': 0.7492790989349954, 'min_data_in_leaf': 627, 'lambda_l1': 2.8028027462565867e-06, 'lambda_l2': 0.0036414501405554567, 'max_bin': 66, 'num_leaves': 245, 'random_state': 6161}.\n",
      "[I 2019-07-08 12:45:59,039] Finished trial#5 resulted in value: 1.0290518368899768. Current best value is 0.9659502109926441 with parameters: {'learning_rate': 0.38044183666124876, 'feature_fraction': 0.9098841353636403, 'bagging_fraction': 0.7492790989349954, 'min_data_in_leaf': 627, 'lambda_l1': 2.8028027462565867e-06, 'lambda_l2': 0.0036414501405554567, 'max_bin': 66, 'num_leaves': 245, 'random_state': 6161}.\n",
      "[I 2019-07-08 12:46:24,482] Finished trial#6 resulted in value: 0.9975043275907272. Current best value is 0.9659502109926441 with parameters: {'learning_rate': 0.38044183666124876, 'feature_fraction': 0.9098841353636403, 'bagging_fraction': 0.7492790989349954, 'min_data_in_leaf': 627, 'lambda_l1': 2.8028027462565867e-06, 'lambda_l2': 0.0036414501405554567, 'max_bin': 66, 'num_leaves': 245, 'random_state': 6161}.\n",
      "[I 2019-07-08 12:46:43,659] Finished trial#7 resulted in value: 1.2203590994952696. Current best value is 0.9659502109926441 with parameters: {'learning_rate': 0.38044183666124876, 'feature_fraction': 0.9098841353636403, 'bagging_fraction': 0.7492790989349954, 'min_data_in_leaf': 627, 'lambda_l1': 2.8028027462565867e-06, 'lambda_l2': 0.0036414501405554567, 'max_bin': 66, 'num_leaves': 245, 'random_state': 6161}.\n",
      "[I 2019-07-08 12:47:14,411] Finished trial#8 resulted in value: 1.021818676208476. Current best value is 0.9659502109926441 with parameters: {'learning_rate': 0.38044183666124876, 'feature_fraction': 0.9098841353636403, 'bagging_fraction': 0.7492790989349954, 'min_data_in_leaf': 627, 'lambda_l1': 2.8028027462565867e-06, 'lambda_l2': 0.0036414501405554567, 'max_bin': 66, 'num_leaves': 245, 'random_state': 6161}.\n",
      "[I 2019-07-08 12:47:31,912] Finished trial#9 resulted in value: 1.328008561505222. Current best value is 0.9659502109926441 with parameters: {'learning_rate': 0.38044183666124876, 'feature_fraction': 0.9098841353636403, 'bagging_fraction': 0.7492790989349954, 'min_data_in_leaf': 627, 'lambda_l1': 2.8028027462565867e-06, 'lambda_l2': 0.0036414501405554567, 'max_bin': 66, 'num_leaves': 245, 'random_state': 6161}.\n",
      "[I 2019-07-08 12:48:05,745] Finished trial#10 resulted in value: 1.6302205389530016. Current best value is 0.9659502109926441 with parameters: {'learning_rate': 0.38044183666124876, 'feature_fraction': 0.9098841353636403, 'bagging_fraction': 0.7492790989349954, 'min_data_in_leaf': 627, 'lambda_l1': 2.8028027462565867e-06, 'lambda_l2': 0.0036414501405554567, 'max_bin': 66, 'num_leaves': 245, 'random_state': 6161}.\n",
      "[I 2019-07-08 12:48:42,671] Finished trial#11 resulted in value: 1.058952652830834. Current best value is 0.9659502109926441 with parameters: {'learning_rate': 0.38044183666124876, 'feature_fraction': 0.9098841353636403, 'bagging_fraction': 0.7492790989349954, 'min_data_in_leaf': 627, 'lambda_l1': 2.8028027462565867e-06, 'lambda_l2': 0.0036414501405554567, 'max_bin': 66, 'num_leaves': 245, 'random_state': 6161}.\n",
      "[I 2019-07-08 12:49:06,017] Finished trial#12 resulted in value: 1.1952391765539399. Current best value is 0.9659502109926441 with parameters: {'learning_rate': 0.38044183666124876, 'feature_fraction': 0.9098841353636403, 'bagging_fraction': 0.7492790989349954, 'min_data_in_leaf': 627, 'lambda_l1': 2.8028027462565867e-06, 'lambda_l2': 0.0036414501405554567, 'max_bin': 66, 'num_leaves': 245, 'random_state': 6161}.\n",
      "[I 2019-07-08 12:49:42,680] Finished trial#13 resulted in value: 1.0011002941406133. Current best value is 0.9659502109926441 with parameters: {'learning_rate': 0.38044183666124876, 'feature_fraction': 0.9098841353636403, 'bagging_fraction': 0.7492790989349954, 'min_data_in_leaf': 627, 'lambda_l1': 2.8028027462565867e-06, 'lambda_l2': 0.0036414501405554567, 'max_bin': 66, 'num_leaves': 245, 'random_state': 6161}.\n",
      "[I 2019-07-08 12:50:11,290] Finished trial#14 resulted in value: 1.1154955191796845. Current best value is 0.9659502109926441 with parameters: {'learning_rate': 0.38044183666124876, 'feature_fraction': 0.9098841353636403, 'bagging_fraction': 0.7492790989349954, 'min_data_in_leaf': 627, 'lambda_l1': 2.8028027462565867e-06, 'lambda_l2': 0.0036414501405554567, 'max_bin': 66, 'num_leaves': 245, 'random_state': 6161}.\n",
      "[I 2019-07-08 12:50:43,836] Finished trial#15 resulted in value: 2.554280377032245. Current best value is 0.9659502109926441 with parameters: {'learning_rate': 0.38044183666124876, 'feature_fraction': 0.9098841353636403, 'bagging_fraction': 0.7492790989349954, 'min_data_in_leaf': 627, 'lambda_l1': 2.8028027462565867e-06, 'lambda_l2': 0.0036414501405554567, 'max_bin': 66, 'num_leaves': 245, 'random_state': 6161}.\n",
      "[I 2019-07-08 12:51:11,334] Finished trial#16 resulted in value: 0.9982129404980977. Current best value is 0.9659502109926441 with parameters: {'learning_rate': 0.38044183666124876, 'feature_fraction': 0.9098841353636403, 'bagging_fraction': 0.7492790989349954, 'min_data_in_leaf': 627, 'lambda_l1': 2.8028027462565867e-06, 'lambda_l2': 0.0036414501405554567, 'max_bin': 66, 'num_leaves': 245, 'random_state': 6161}.\n",
      "[I 2019-07-08 12:51:38,083] Finished trial#17 resulted in value: 0.9738937713350525. Current best value is 0.9659502109926441 with parameters: {'learning_rate': 0.38044183666124876, 'feature_fraction': 0.9098841353636403, 'bagging_fraction': 0.7492790989349954, 'min_data_in_leaf': 627, 'lambda_l1': 2.8028027462565867e-06, 'lambda_l2': 0.0036414501405554567, 'max_bin': 66, 'num_leaves': 245, 'random_state': 6161}.\n",
      "[I 2019-07-08 12:52:09,856] Finished trial#18 resulted in value: 0.9650876874209807. Current best value is 0.9650876874209807 with parameters: {'learning_rate': 0.21888464510905054, 'feature_fraction': 0.6590518532491829, 'bagging_fraction': 0.6969691018837901, 'min_data_in_leaf': 526, 'lambda_l1': 0.00027738657617225657, 'lambda_l2': 0.006109978957915689, 'max_bin': 93, 'num_leaves': 250, 'random_state': 6980}.\n",
      "[I 2019-07-08 12:52:41,628] Finished trial#19 resulted in value: 0.9621777681047906. Current best value is 0.9621777681047906 with parameters: {'learning_rate': 0.21982577957247107, 'feature_fraction': 0.6593989099254653, 'bagging_fraction': 0.6869735015023469, 'min_data_in_leaf': 530, 'lambda_l1': 0.0003539206292629689, 'lambda_l2': 0.005235286325170617, 'max_bin': 86, 'num_leaves': 256, 'random_state': 4761}.\n",
      "[I 2019-07-08 12:53:04,844] Finished trial#20 resulted in value: 1.1154858576478905. Current best value is 0.9621777681047906 with parameters: {'learning_rate': 0.21982577957247107, 'feature_fraction': 0.6593989099254653, 'bagging_fraction': 0.6869735015023469, 'min_data_in_leaf': 530, 'lambda_l1': 0.0003539206292629689, 'lambda_l2': 0.005235286325170617, 'max_bin': 86, 'num_leaves': 256, 'random_state': 4761}.\n",
      "[I 2019-07-08 12:53:38,875] Finished trial#21 resulted in value: 1.1284589482709388. Current best value is 0.9621777681047906 with parameters: {'learning_rate': 0.21982577957247107, 'feature_fraction': 0.6593989099254653, 'bagging_fraction': 0.6869735015023469, 'min_data_in_leaf': 530, 'lambda_l1': 0.0003539206292629689, 'lambda_l2': 0.005235286325170617, 'max_bin': 86, 'num_leaves': 256, 'random_state': 4761}.\n",
      "[I 2019-07-08 12:54:07,801] Finished trial#22 resulted in value: 1.0223921891636762. Current best value is 0.9621777681047906 with parameters: {'learning_rate': 0.21982577957247107, 'feature_fraction': 0.6593989099254653, 'bagging_fraction': 0.6869735015023469, 'min_data_in_leaf': 530, 'lambda_l1': 0.0003539206292629689, 'lambda_l2': 0.005235286325170617, 'max_bin': 86, 'num_leaves': 256, 'random_state': 4761}.\n",
      "[I 2019-07-08 12:54:42,315] Finished trial#23 resulted in value: 1.12150469797332. Current best value is 0.9621777681047906 with parameters: {'learning_rate': 0.21982577957247107, 'feature_fraction': 0.6593989099254653, 'bagging_fraction': 0.6869735015023469, 'min_data_in_leaf': 530, 'lambda_l1': 0.0003539206292629689, 'lambda_l2': 0.005235286325170617, 'max_bin': 86, 'num_leaves': 256, 'random_state': 4761}.\n",
      "[I 2019-07-08 12:55:14,575] Finished trial#24 resulted in value: 0.9834326358491066. Current best value is 0.9621777681047906 with parameters: {'learning_rate': 0.21982577957247107, 'feature_fraction': 0.6593989099254653, 'bagging_fraction': 0.6869735015023469, 'min_data_in_leaf': 530, 'lambda_l1': 0.0003539206292629689, 'lambda_l2': 0.005235286325170617, 'max_bin': 86, 'num_leaves': 256, 'random_state': 4761}.\n",
      "[I 2019-07-08 12:55:49,845] Finished trial#25 resulted in value: 1.0102424626724842. Current best value is 0.9621777681047906 with parameters: {'learning_rate': 0.21982577957247107, 'feature_fraction': 0.6593989099254653, 'bagging_fraction': 0.6869735015023469, 'min_data_in_leaf': 530, 'lambda_l1': 0.0003539206292629689, 'lambda_l2': 0.005235286325170617, 'max_bin': 86, 'num_leaves': 256, 'random_state': 4761}.\n",
      "[I 2019-07-08 12:56:11,585] Finished trial#26 resulted in value: 1.0600529776884926. Current best value is 0.9621777681047906 with parameters: {'learning_rate': 0.21982577957247107, 'feature_fraction': 0.6593989099254653, 'bagging_fraction': 0.6869735015023469, 'min_data_in_leaf': 530, 'lambda_l1': 0.0003539206292629689, 'lambda_l2': 0.005235286325170617, 'max_bin': 86, 'num_leaves': 256, 'random_state': 4761}.\n",
      "[I 2019-07-08 12:56:31,903] Finished trial#27 resulted in value: 1.1929527130461919. Current best value is 0.9621777681047906 with parameters: {'learning_rate': 0.21982577957247107, 'feature_fraction': 0.6593989099254653, 'bagging_fraction': 0.6869735015023469, 'min_data_in_leaf': 530, 'lambda_l1': 0.0003539206292629689, 'lambda_l2': 0.005235286325170617, 'max_bin': 86, 'num_leaves': 256, 'random_state': 4761}.\n",
      "[I 2019-07-08 12:56:59,140] Finished trial#28 resulted in value: 1.043718052511505. Current best value is 0.9621777681047906 with parameters: {'learning_rate': 0.21982577957247107, 'feature_fraction': 0.6593989099254653, 'bagging_fraction': 0.6869735015023469, 'min_data_in_leaf': 530, 'lambda_l1': 0.0003539206292629689, 'lambda_l2': 0.005235286325170617, 'max_bin': 86, 'num_leaves': 256, 'random_state': 4761}.\n",
      "[I 2019-07-08 12:57:31,400] Finished trial#29 resulted in value: 1.0068446111999847. Current best value is 0.9621777681047906 with parameters: {'learning_rate': 0.21982577957247107, 'feature_fraction': 0.6593989099254653, 'bagging_fraction': 0.6869735015023469, 'min_data_in_leaf': 530, 'lambda_l1': 0.0003539206292629689, 'lambda_l2': 0.005235286325170617, 'max_bin': 86, 'num_leaves': 256, 'random_state': 4761}.\n",
      "[I 2019-07-08 12:58:01,918] Finished trial#30 resulted in value: 1.0963293864507344. Current best value is 0.9621777681047906 with parameters: {'learning_rate': 0.21982577957247107, 'feature_fraction': 0.6593989099254653, 'bagging_fraction': 0.6869735015023469, 'min_data_in_leaf': 530, 'lambda_l1': 0.0003539206292629689, 'lambda_l2': 0.005235286325170617, 'max_bin': 86, 'num_leaves': 256, 'random_state': 4761}.\n",
      "[I 2019-07-08 12:58:33,830] Finished trial#31 resulted in value: 0.9569926868135333. Current best value is 0.9569926868135333 with parameters: {'learning_rate': 0.28775254200766004, 'feature_fraction': 0.7411154038704373, 'bagging_fraction': 0.6868390569462981, 'min_data_in_leaf': 493, 'lambda_l1': 9.877488415739544e-05, 'lambda_l2': 7.283315284182119e-05, 'max_bin': 94, 'num_leaves': 235, 'random_state': 3287}.\n",
      "[I 2019-07-08 12:59:02,814] Finished trial#32 resulted in value: 0.9445406374765357. Current best value is 0.9445406374765357 with parameters: {'learning_rate': 0.3003750010473155, 'feature_fraction': 0.7954806411666246, 'bagging_fraction': 0.825122687823091, 'min_data_in_leaf': 201, 'lambda_l1': 0.00010051426394331587, 'lambda_l2': 3.2239054643990496e-06, 'max_bin': 72, 'num_leaves': 234, 'random_state': 2988}.\n",
      "[I 2019-07-08 12:59:32,243] Finished trial#33 resulted in value: 0.9584810746359226. Current best value is 0.9445406374765357 with parameters: {'learning_rate': 0.3003750010473155, 'feature_fraction': 0.7954806411666246, 'bagging_fraction': 0.825122687823091, 'min_data_in_leaf': 201, 'lambda_l1': 0.00010051426394331587, 'lambda_l2': 3.2239054643990496e-06, 'max_bin': 72, 'num_leaves': 234, 'random_state': 2988}.\n",
      "[I 2019-07-08 12:59:55,650] Finished trial#34 resulted in value: 1.0373916595421109. Current best value is 0.9445406374765357 with parameters: {'learning_rate': 0.3003750010473155, 'feature_fraction': 0.7954806411666246, 'bagging_fraction': 0.825122687823091, 'min_data_in_leaf': 201, 'lambda_l1': 0.00010051426394331587, 'lambda_l2': 3.2239054643990496e-06, 'max_bin': 72, 'num_leaves': 234, 'random_state': 2988}.\n",
      "[I 2019-07-08 13:00:28,291] Finished trial#35 resulted in value: 0.9926597805460314. Current best value is 0.9445406374765357 with parameters: {'learning_rate': 0.3003750010473155, 'feature_fraction': 0.7954806411666246, 'bagging_fraction': 0.825122687823091, 'min_data_in_leaf': 201, 'lambda_l1': 0.00010051426394331587, 'lambda_l2': 3.2239054643990496e-06, 'max_bin': 72, 'num_leaves': 234, 'random_state': 2988}.\n",
      "[I 2019-07-08 13:00:58,694] Finished trial#36 resulted in value: 1.0099526041730535. Current best value is 0.9445406374765357 with parameters: {'learning_rate': 0.3003750010473155, 'feature_fraction': 0.7954806411666246, 'bagging_fraction': 0.825122687823091, 'min_data_in_leaf': 201, 'lambda_l1': 0.00010051426394331587, 'lambda_l2': 3.2239054643990496e-06, 'max_bin': 72, 'num_leaves': 234, 'random_state': 2988}.\n",
      "[I 2019-07-08 13:01:23,135] Finished trial#37 resulted in value: 1.0247741913011978. Current best value is 0.9445406374765357 with parameters: {'learning_rate': 0.3003750010473155, 'feature_fraction': 0.7954806411666246, 'bagging_fraction': 0.825122687823091, 'min_data_in_leaf': 201, 'lambda_l1': 0.00010051426394331587, 'lambda_l2': 3.2239054643990496e-06, 'max_bin': 72, 'num_leaves': 234, 'random_state': 2988}.\n"
     ]
    },
    {
     "name": "stderr",
     "output_type": "stream",
     "text": [
      "[I 2019-07-08 13:01:35,485] Finished trial#38 resulted in value: 2.0455410292427043. Current best value is 0.9445406374765357 with parameters: {'learning_rate': 0.3003750010473155, 'feature_fraction': 0.7954806411666246, 'bagging_fraction': 0.825122687823091, 'min_data_in_leaf': 201, 'lambda_l1': 0.00010051426394331587, 'lambda_l2': 3.2239054643990496e-06, 'max_bin': 72, 'num_leaves': 234, 'random_state': 2988}.\n",
      "[I 2019-07-08 13:02:07,136] Finished trial#39 resulted in value: 0.976087813882492. Current best value is 0.9445406374765357 with parameters: {'learning_rate': 0.3003750010473155, 'feature_fraction': 0.7954806411666246, 'bagging_fraction': 0.825122687823091, 'min_data_in_leaf': 201, 'lambda_l1': 0.00010051426394331587, 'lambda_l2': 3.2239054643990496e-06, 'max_bin': 72, 'num_leaves': 234, 'random_state': 2988}.\n",
      "[I 2019-07-08 13:02:28,519] Finished trial#40 resulted in value: 1.0830722403332604. Current best value is 0.9445406374765357 with parameters: {'learning_rate': 0.3003750010473155, 'feature_fraction': 0.7954806411666246, 'bagging_fraction': 0.825122687823091, 'min_data_in_leaf': 201, 'lambda_l1': 0.00010051426394331587, 'lambda_l2': 3.2239054643990496e-06, 'max_bin': 72, 'num_leaves': 234, 'random_state': 2988}.\n",
      "[I 2019-07-08 13:02:46,919] Finished trial#41 resulted in value: 1.2890689328339124. Current best value is 0.9445406374765357 with parameters: {'learning_rate': 0.3003750010473155, 'feature_fraction': 0.7954806411666246, 'bagging_fraction': 0.825122687823091, 'min_data_in_leaf': 201, 'lambda_l1': 0.00010051426394331587, 'lambda_l2': 3.2239054643990496e-06, 'max_bin': 72, 'num_leaves': 234, 'random_state': 2988}.\n",
      "[I 2019-07-08 13:03:07,642] Finished trial#42 resulted in value: 1.1640537584945185. Current best value is 0.9445406374765357 with parameters: {'learning_rate': 0.3003750010473155, 'feature_fraction': 0.7954806411666246, 'bagging_fraction': 0.825122687823091, 'min_data_in_leaf': 201, 'lambda_l1': 0.00010051426394331587, 'lambda_l2': 3.2239054643990496e-06, 'max_bin': 72, 'num_leaves': 234, 'random_state': 2988}.\n",
      "[I 2019-07-08 13:03:36,628] Finished trial#43 resulted in value: 1.00639408016379. Current best value is 0.9445406374765357 with parameters: {'learning_rate': 0.3003750010473155, 'feature_fraction': 0.7954806411666246, 'bagging_fraction': 0.825122687823091, 'min_data_in_leaf': 201, 'lambda_l1': 0.00010051426394331587, 'lambda_l2': 3.2239054643990496e-06, 'max_bin': 72, 'num_leaves': 234, 'random_state': 2988}.\n",
      "[I 2019-07-08 13:04:00,536] Finished trial#44 resulted in value: 1.0718376380784662. Current best value is 0.9445406374765357 with parameters: {'learning_rate': 0.3003750010473155, 'feature_fraction': 0.7954806411666246, 'bagging_fraction': 0.825122687823091, 'min_data_in_leaf': 201, 'lambda_l1': 0.00010051426394331587, 'lambda_l2': 3.2239054643990496e-06, 'max_bin': 72, 'num_leaves': 234, 'random_state': 2988}.\n",
      "[I 2019-07-08 13:04:32,958] Finished trial#45 resulted in value: 0.9813165321424574. Current best value is 0.9445406374765357 with parameters: {'learning_rate': 0.3003750010473155, 'feature_fraction': 0.7954806411666246, 'bagging_fraction': 0.825122687823091, 'min_data_in_leaf': 201, 'lambda_l1': 0.00010051426394331587, 'lambda_l2': 3.2239054643990496e-06, 'max_bin': 72, 'num_leaves': 234, 'random_state': 2988}.\n",
      "[I 2019-07-08 13:05:04,286] Finished trial#46 resulted in value: 1.038137860152753. Current best value is 0.9445406374765357 with parameters: {'learning_rate': 0.3003750010473155, 'feature_fraction': 0.7954806411666246, 'bagging_fraction': 0.825122687823091, 'min_data_in_leaf': 201, 'lambda_l1': 0.00010051426394331587, 'lambda_l2': 3.2239054643990496e-06, 'max_bin': 72, 'num_leaves': 234, 'random_state': 2988}.\n",
      "[I 2019-07-08 13:05:30,963] Finished trial#47 resulted in value: 0.985366365802381. Current best value is 0.9445406374765357 with parameters: {'learning_rate': 0.3003750010473155, 'feature_fraction': 0.7954806411666246, 'bagging_fraction': 0.825122687823091, 'min_data_in_leaf': 201, 'lambda_l1': 0.00010051426394331587, 'lambda_l2': 3.2239054643990496e-06, 'max_bin': 72, 'num_leaves': 234, 'random_state': 2988}.\n",
      "[I 2019-07-08 13:06:01,744] Finished trial#48 resulted in value: 1.0570716833171678. Current best value is 0.9445406374765357 with parameters: {'learning_rate': 0.3003750010473155, 'feature_fraction': 0.7954806411666246, 'bagging_fraction': 0.825122687823091, 'min_data_in_leaf': 201, 'lambda_l1': 0.00010051426394331587, 'lambda_l2': 3.2239054643990496e-06, 'max_bin': 72, 'num_leaves': 234, 'random_state': 2988}.\n",
      "[I 2019-07-08 13:06:36,961] Finished trial#49 resulted in value: 1.0676923148069555. Current best value is 0.9445406374765357 with parameters: {'learning_rate': 0.3003750010473155, 'feature_fraction': 0.7954806411666246, 'bagging_fraction': 0.825122687823091, 'min_data_in_leaf': 201, 'lambda_l1': 0.00010051426394331587, 'lambda_l2': 3.2239054643990496e-06, 'max_bin': 72, 'num_leaves': 234, 'random_state': 2988}.\n",
      "[I 2019-07-08 13:07:05,882] Finished trial#50 resulted in value: 1.0383118208106794. Current best value is 0.9445406374765357 with parameters: {'learning_rate': 0.3003750010473155, 'feature_fraction': 0.7954806411666246, 'bagging_fraction': 0.825122687823091, 'min_data_in_leaf': 201, 'lambda_l1': 0.00010051426394331587, 'lambda_l2': 3.2239054643990496e-06, 'max_bin': 72, 'num_leaves': 234, 'random_state': 2988}.\n",
      "[I 2019-07-08 13:07:22,169] Finished trial#51 resulted in value: 1.4747580972389758. Current best value is 0.9445406374765357 with parameters: {'learning_rate': 0.3003750010473155, 'feature_fraction': 0.7954806411666246, 'bagging_fraction': 0.825122687823091, 'min_data_in_leaf': 201, 'lambda_l1': 0.00010051426394331587, 'lambda_l2': 3.2239054643990496e-06, 'max_bin': 72, 'num_leaves': 234, 'random_state': 2988}.\n",
      "[I 2019-07-08 13:07:51,241] Finished trial#52 resulted in value: 1.1022351506264765. Current best value is 0.9445406374765357 with parameters: {'learning_rate': 0.3003750010473155, 'feature_fraction': 0.7954806411666246, 'bagging_fraction': 0.825122687823091, 'min_data_in_leaf': 201, 'lambda_l1': 0.00010051426394331587, 'lambda_l2': 3.2239054643990496e-06, 'max_bin': 72, 'num_leaves': 234, 'random_state': 2988}.\n",
      "[I 2019-07-08 13:08:29,489] Finished trial#53 resulted in value: 1.0101148548567411. Current best value is 0.9445406374765357 with parameters: {'learning_rate': 0.3003750010473155, 'feature_fraction': 0.7954806411666246, 'bagging_fraction': 0.825122687823091, 'min_data_in_leaf': 201, 'lambda_l1': 0.00010051426394331587, 'lambda_l2': 3.2239054643990496e-06, 'max_bin': 72, 'num_leaves': 234, 'random_state': 2988}.\n",
      "[I 2019-07-08 13:09:00,004] Finished trial#54 resulted in value: 0.9558229264241381. Current best value is 0.9445406374765357 with parameters: {'learning_rate': 0.3003750010473155, 'feature_fraction': 0.7954806411666246, 'bagging_fraction': 0.825122687823091, 'min_data_in_leaf': 201, 'lambda_l1': 0.00010051426394331587, 'lambda_l2': 3.2239054643990496e-06, 'max_bin': 72, 'num_leaves': 234, 'random_state': 2988}.\n",
      "[I 2019-07-08 13:09:21,878] Finished trial#55 resulted in value: 1.088289126180546. Current best value is 0.9445406374765357 with parameters: {'learning_rate': 0.3003750010473155, 'feature_fraction': 0.7954806411666246, 'bagging_fraction': 0.825122687823091, 'min_data_in_leaf': 201, 'lambda_l1': 0.00010051426394331587, 'lambda_l2': 3.2239054643990496e-06, 'max_bin': 72, 'num_leaves': 234, 'random_state': 2988}.\n",
      "[I 2019-07-08 13:09:58,229] Finished trial#56 resulted in value: 0.9523244342240945. Current best value is 0.9445406374765357 with parameters: {'learning_rate': 0.3003750010473155, 'feature_fraction': 0.7954806411666246, 'bagging_fraction': 0.825122687823091, 'min_data_in_leaf': 201, 'lambda_l1': 0.00010051426394331587, 'lambda_l2': 3.2239054643990496e-06, 'max_bin': 72, 'num_leaves': 234, 'random_state': 2988}.\n",
      "[I 2019-07-08 13:10:32,155] Finished trial#57 resulted in value: 0.9609133700297168. Current best value is 0.9445406374765357 with parameters: {'learning_rate': 0.3003750010473155, 'feature_fraction': 0.7954806411666246, 'bagging_fraction': 0.825122687823091, 'min_data_in_leaf': 201, 'lambda_l1': 0.00010051426394331587, 'lambda_l2': 3.2239054643990496e-06, 'max_bin': 72, 'num_leaves': 234, 'random_state': 2988}.\n",
      "[I 2019-07-08 13:11:12,246] Finished trial#58 resulted in value: 1.1247718153875048. Current best value is 0.9445406374765357 with parameters: {'learning_rate': 0.3003750010473155, 'feature_fraction': 0.7954806411666246, 'bagging_fraction': 0.825122687823091, 'min_data_in_leaf': 201, 'lambda_l1': 0.00010051426394331587, 'lambda_l2': 3.2239054643990496e-06, 'max_bin': 72, 'num_leaves': 234, 'random_state': 2988}.\n",
      "[I 2019-07-08 13:11:43,175] Finished trial#59 resulted in value: 0.9748335831628893. Current best value is 0.9445406374765357 with parameters: {'learning_rate': 0.3003750010473155, 'feature_fraction': 0.7954806411666246, 'bagging_fraction': 0.825122687823091, 'min_data_in_leaf': 201, 'lambda_l1': 0.00010051426394331587, 'lambda_l2': 3.2239054643990496e-06, 'max_bin': 72, 'num_leaves': 234, 'random_state': 2988}.\n",
      "[I 2019-07-08 13:12:09,248] Finished trial#60 resulted in value: 1.0116530022946286. Current best value is 0.9445406374765357 with parameters: {'learning_rate': 0.3003750010473155, 'feature_fraction': 0.7954806411666246, 'bagging_fraction': 0.825122687823091, 'min_data_in_leaf': 201, 'lambda_l1': 0.00010051426394331587, 'lambda_l2': 3.2239054643990496e-06, 'max_bin': 72, 'num_leaves': 234, 'random_state': 2988}.\n",
      "[I 2019-07-08 13:12:48,194] Finished trial#61 resulted in value: 1.38121483519318. Current best value is 0.9445406374765357 with parameters: {'learning_rate': 0.3003750010473155, 'feature_fraction': 0.7954806411666246, 'bagging_fraction': 0.825122687823091, 'min_data_in_leaf': 201, 'lambda_l1': 0.00010051426394331587, 'lambda_l2': 3.2239054643990496e-06, 'max_bin': 72, 'num_leaves': 234, 'random_state': 2988}.\n",
      "[I 2019-07-08 13:13:24,204] Finished trial#62 resulted in value: 1.1070431309988662. Current best value is 0.9445406374765357 with parameters: {'learning_rate': 0.3003750010473155, 'feature_fraction': 0.7954806411666246, 'bagging_fraction': 0.825122687823091, 'min_data_in_leaf': 201, 'lambda_l1': 0.00010051426394331587, 'lambda_l2': 3.2239054643990496e-06, 'max_bin': 72, 'num_leaves': 234, 'random_state': 2988}.\n",
      "[I 2019-07-08 13:13:43,751] Finished trial#63 resulted in value: 1.1325854220285012. Current best value is 0.9445406374765357 with parameters: {'learning_rate': 0.3003750010473155, 'feature_fraction': 0.7954806411666246, 'bagging_fraction': 0.825122687823091, 'min_data_in_leaf': 201, 'lambda_l1': 0.00010051426394331587, 'lambda_l2': 3.2239054643990496e-06, 'max_bin': 72, 'num_leaves': 234, 'random_state': 2988}.\n",
      "[I 2019-07-08 13:14:14,584] Finished trial#64 resulted in value: 0.9988044538413803. Current best value is 0.9445406374765357 with parameters: {'learning_rate': 0.3003750010473155, 'feature_fraction': 0.7954806411666246, 'bagging_fraction': 0.825122687823091, 'min_data_in_leaf': 201, 'lambda_l1': 0.00010051426394331587, 'lambda_l2': 3.2239054643990496e-06, 'max_bin': 72, 'num_leaves': 234, 'random_state': 2988}.\n",
      "[I 2019-07-08 13:14:46,374] Finished trial#65 resulted in value: 0.9517746165394783. Current best value is 0.9445406374765357 with parameters: {'learning_rate': 0.3003750010473155, 'feature_fraction': 0.7954806411666246, 'bagging_fraction': 0.825122687823091, 'min_data_in_leaf': 201, 'lambda_l1': 0.00010051426394331587, 'lambda_l2': 3.2239054643990496e-06, 'max_bin': 72, 'num_leaves': 234, 'random_state': 2988}.\n",
      "[I 2019-07-08 13:15:17,607] Finished trial#66 resulted in value: 0.9591220480553995. Current best value is 0.9445406374765357 with parameters: {'learning_rate': 0.3003750010473155, 'feature_fraction': 0.7954806411666246, 'bagging_fraction': 0.825122687823091, 'min_data_in_leaf': 201, 'lambda_l1': 0.00010051426394331587, 'lambda_l2': 3.2239054643990496e-06, 'max_bin': 72, 'num_leaves': 234, 'random_state': 2988}.\n",
      "[I 2019-07-08 13:15:48,152] Finished trial#67 resulted in value: 0.9538509119508655. Current best value is 0.9445406374765357 with parameters: {'learning_rate': 0.3003750010473155, 'feature_fraction': 0.7954806411666246, 'bagging_fraction': 0.825122687823091, 'min_data_in_leaf': 201, 'lambda_l1': 0.00010051426394331587, 'lambda_l2': 3.2239054643990496e-06, 'max_bin': 72, 'num_leaves': 234, 'random_state': 2988}.\n",
      "[I 2019-07-08 13:16:19,208] Finished trial#68 resulted in value: 0.9822134110956636. Current best value is 0.9445406374765357 with parameters: {'learning_rate': 0.3003750010473155, 'feature_fraction': 0.7954806411666246, 'bagging_fraction': 0.825122687823091, 'min_data_in_leaf': 201, 'lambda_l1': 0.00010051426394331587, 'lambda_l2': 3.2239054643990496e-06, 'max_bin': 72, 'num_leaves': 234, 'random_state': 2988}.\n",
      "[I 2019-07-08 13:16:50,525] Finished trial#69 resulted in value: 1.0107037450901442. Current best value is 0.9445406374765357 with parameters: {'learning_rate': 0.3003750010473155, 'feature_fraction': 0.7954806411666246, 'bagging_fraction': 0.825122687823091, 'min_data_in_leaf': 201, 'lambda_l1': 0.00010051426394331587, 'lambda_l2': 3.2239054643990496e-06, 'max_bin': 72, 'num_leaves': 234, 'random_state': 2988}.\n",
      "[I 2019-07-08 13:17:23,156] Finished trial#70 resulted in value: 0.9708311216680953. Current best value is 0.9445406374765357 with parameters: {'learning_rate': 0.3003750010473155, 'feature_fraction': 0.7954806411666246, 'bagging_fraction': 0.825122687823091, 'min_data_in_leaf': 201, 'lambda_l1': 0.00010051426394331587, 'lambda_l2': 3.2239054643990496e-06, 'max_bin': 72, 'num_leaves': 234, 'random_state': 2988}.\n",
      "[I 2019-07-08 13:17:57,689] Finished trial#71 resulted in value: 0.9624579070861714. Current best value is 0.9445406374765357 with parameters: {'learning_rate': 0.3003750010473155, 'feature_fraction': 0.7954806411666246, 'bagging_fraction': 0.825122687823091, 'min_data_in_leaf': 201, 'lambda_l1': 0.00010051426394331587, 'lambda_l2': 3.2239054643990496e-06, 'max_bin': 72, 'num_leaves': 234, 'random_state': 2988}.\n",
      "[I 2019-07-08 13:18:23,595] Finished trial#72 resulted in value: 0.9767519649513485. Current best value is 0.9445406374765357 with parameters: {'learning_rate': 0.3003750010473155, 'feature_fraction': 0.7954806411666246, 'bagging_fraction': 0.825122687823091, 'min_data_in_leaf': 201, 'lambda_l1': 0.00010051426394331587, 'lambda_l2': 3.2239054643990496e-06, 'max_bin': 72, 'num_leaves': 234, 'random_state': 2988}.\n",
      "[I 2019-07-08 13:18:56,251] Finished trial#73 resulted in value: 0.9497440754347645. Current best value is 0.9445406374765357 with parameters: {'learning_rate': 0.3003750010473155, 'feature_fraction': 0.7954806411666246, 'bagging_fraction': 0.825122687823091, 'min_data_in_leaf': 201, 'lambda_l1': 0.00010051426394331587, 'lambda_l2': 3.2239054643990496e-06, 'max_bin': 72, 'num_leaves': 234, 'random_state': 2988}.\n",
      "[I 2019-07-08 13:19:27,847] Finished trial#74 resulted in value: 0.9917160014370472. Current best value is 0.9445406374765357 with parameters: {'learning_rate': 0.3003750010473155, 'feature_fraction': 0.7954806411666246, 'bagging_fraction': 0.825122687823091, 'min_data_in_leaf': 201, 'lambda_l1': 0.00010051426394331587, 'lambda_l2': 3.2239054643990496e-06, 'max_bin': 72, 'num_leaves': 234, 'random_state': 2988}.\n",
      "[I 2019-07-08 13:20:02,299] Finished trial#75 resulted in value: 0.9533609307954458. Current best value is 0.9445406374765357 with parameters: {'learning_rate': 0.3003750010473155, 'feature_fraction': 0.7954806411666246, 'bagging_fraction': 0.825122687823091, 'min_data_in_leaf': 201, 'lambda_l1': 0.00010051426394331587, 'lambda_l2': 3.2239054643990496e-06, 'max_bin': 72, 'num_leaves': 234, 'random_state': 2988}.\n"
     ]
    },
    {
     "name": "stderr",
     "output_type": "stream",
     "text": [
      "[I 2019-07-08 13:20:35,936] Finished trial#76 resulted in value: 0.9479237571940843. Current best value is 0.9445406374765357 with parameters: {'learning_rate': 0.3003750010473155, 'feature_fraction': 0.7954806411666246, 'bagging_fraction': 0.825122687823091, 'min_data_in_leaf': 201, 'lambda_l1': 0.00010051426394331587, 'lambda_l2': 3.2239054643990496e-06, 'max_bin': 72, 'num_leaves': 234, 'random_state': 2988}.\n",
      "[I 2019-07-08 13:20:57,442] Finished trial#77 resulted in value: 1.244288848337931. Current best value is 0.9445406374765357 with parameters: {'learning_rate': 0.3003750010473155, 'feature_fraction': 0.7954806411666246, 'bagging_fraction': 0.825122687823091, 'min_data_in_leaf': 201, 'lambda_l1': 0.00010051426394331587, 'lambda_l2': 3.2239054643990496e-06, 'max_bin': 72, 'num_leaves': 234, 'random_state': 2988}.\n",
      "[I 2019-07-08 13:21:31,993] Finished trial#78 resulted in value: 0.9763902372769845. Current best value is 0.9445406374765357 with parameters: {'learning_rate': 0.3003750010473155, 'feature_fraction': 0.7954806411666246, 'bagging_fraction': 0.825122687823091, 'min_data_in_leaf': 201, 'lambda_l1': 0.00010051426394331587, 'lambda_l2': 3.2239054643990496e-06, 'max_bin': 72, 'num_leaves': 234, 'random_state': 2988}.\n",
      "[I 2019-07-08 13:22:05,917] Finished trial#79 resulted in value: 0.9442201639591478. Current best value is 0.9442201639591478 with parameters: {'learning_rate': 0.35445642489453133, 'feature_fraction': 0.8680752231811355, 'bagging_fraction': 0.8430388093366942, 'min_data_in_leaf': 473, 'lambda_l1': 0.0006004356943585979, 'lambda_l2': 1.2534995563395068e-05, 'max_bin': 85, 'num_leaves': 253, 'random_state': 6787}.\n",
      "[I 2019-07-08 13:22:36,205] Finished trial#80 resulted in value: 0.9817633429602199. Current best value is 0.9442201639591478 with parameters: {'learning_rate': 0.35445642489453133, 'feature_fraction': 0.8680752231811355, 'bagging_fraction': 0.8430388093366942, 'min_data_in_leaf': 473, 'lambda_l1': 0.0006004356943585979, 'lambda_l2': 1.2534995563395068e-05, 'max_bin': 85, 'num_leaves': 253, 'random_state': 6787}.\n",
      "[I 2019-07-08 13:23:16,487] Finished trial#81 resulted in value: 0.9611112029391146. Current best value is 0.9442201639591478 with parameters: {'learning_rate': 0.35445642489453133, 'feature_fraction': 0.8680752231811355, 'bagging_fraction': 0.8430388093366942, 'min_data_in_leaf': 473, 'lambda_l1': 0.0006004356943585979, 'lambda_l2': 1.2534995563395068e-05, 'max_bin': 85, 'num_leaves': 253, 'random_state': 6787}.\n",
      "[I 2019-07-08 13:23:46,352] Finished trial#82 resulted in value: 1.0345058934325044. Current best value is 0.9442201639591478 with parameters: {'learning_rate': 0.35445642489453133, 'feature_fraction': 0.8680752231811355, 'bagging_fraction': 0.8430388093366942, 'min_data_in_leaf': 473, 'lambda_l1': 0.0006004356943585979, 'lambda_l2': 1.2534995563395068e-05, 'max_bin': 85, 'num_leaves': 253, 'random_state': 6787}.\n",
      "[I 2019-07-08 13:24:24,556] Finished trial#83 resulted in value: 0.9663186915812153. Current best value is 0.9442201639591478 with parameters: {'learning_rate': 0.35445642489453133, 'feature_fraction': 0.8680752231811355, 'bagging_fraction': 0.8430388093366942, 'min_data_in_leaf': 473, 'lambda_l1': 0.0006004356943585979, 'lambda_l2': 1.2534995563395068e-05, 'max_bin': 85, 'num_leaves': 253, 'random_state': 6787}.\n",
      "[I 2019-07-08 13:24:57,147] Finished trial#84 resulted in value: 0.9595499563540153. Current best value is 0.9442201639591478 with parameters: {'learning_rate': 0.35445642489453133, 'feature_fraction': 0.8680752231811355, 'bagging_fraction': 0.8430388093366942, 'min_data_in_leaf': 473, 'lambda_l1': 0.0006004356943585979, 'lambda_l2': 1.2534995563395068e-05, 'max_bin': 85, 'num_leaves': 253, 'random_state': 6787}.\n",
      "[I 2019-07-08 13:25:26,629] Finished trial#85 resulted in value: 0.9992032797953672. Current best value is 0.9442201639591478 with parameters: {'learning_rate': 0.35445642489453133, 'feature_fraction': 0.8680752231811355, 'bagging_fraction': 0.8430388093366942, 'min_data_in_leaf': 473, 'lambda_l1': 0.0006004356943585979, 'lambda_l2': 1.2534995563395068e-05, 'max_bin': 85, 'num_leaves': 253, 'random_state': 6787}.\n",
      "[I 2019-07-08 13:26:00,584] Finished trial#86 resulted in value: 1.0156488801442205. Current best value is 0.9442201639591478 with parameters: {'learning_rate': 0.35445642489453133, 'feature_fraction': 0.8680752231811355, 'bagging_fraction': 0.8430388093366942, 'min_data_in_leaf': 473, 'lambda_l1': 0.0006004356943585979, 'lambda_l2': 1.2534995563395068e-05, 'max_bin': 85, 'num_leaves': 253, 'random_state': 6787}.\n",
      "[I 2019-07-08 13:26:32,759] Finished trial#87 resulted in value: 1.0031771755675325. Current best value is 0.9442201639591478 with parameters: {'learning_rate': 0.35445642489453133, 'feature_fraction': 0.8680752231811355, 'bagging_fraction': 0.8430388093366942, 'min_data_in_leaf': 473, 'lambda_l1': 0.0006004356943585979, 'lambda_l2': 1.2534995563395068e-05, 'max_bin': 85, 'num_leaves': 253, 'random_state': 6787}.\n",
      "[I 2019-07-08 13:27:05,597] Finished trial#88 resulted in value: 0.9513944248889695. Current best value is 0.9442201639591478 with parameters: {'learning_rate': 0.35445642489453133, 'feature_fraction': 0.8680752231811355, 'bagging_fraction': 0.8430388093366942, 'min_data_in_leaf': 473, 'lambda_l1': 0.0006004356943585979, 'lambda_l2': 1.2534995563395068e-05, 'max_bin': 85, 'num_leaves': 253, 'random_state': 6787}.\n",
      "[I 2019-07-08 13:27:28,683] Finished trial#89 resulted in value: 1.0521733758179876. Current best value is 0.9442201639591478 with parameters: {'learning_rate': 0.35445642489453133, 'feature_fraction': 0.8680752231811355, 'bagging_fraction': 0.8430388093366942, 'min_data_in_leaf': 473, 'lambda_l1': 0.0006004356943585979, 'lambda_l2': 1.2534995563395068e-05, 'max_bin': 85, 'num_leaves': 253, 'random_state': 6787}.\n",
      "[I 2019-07-08 13:27:52,085] Finished trial#90 resulted in value: 1.2640089946553208. Current best value is 0.9442201639591478 with parameters: {'learning_rate': 0.35445642489453133, 'feature_fraction': 0.8680752231811355, 'bagging_fraction': 0.8430388093366942, 'min_data_in_leaf': 473, 'lambda_l1': 0.0006004356943585979, 'lambda_l2': 1.2534995563395068e-05, 'max_bin': 85, 'num_leaves': 253, 'random_state': 6787}.\n",
      "[I 2019-07-08 13:28:17,139] Finished trial#91 resulted in value: 1.0636181883508045. Current best value is 0.9442201639591478 with parameters: {'learning_rate': 0.35445642489453133, 'feature_fraction': 0.8680752231811355, 'bagging_fraction': 0.8430388093366942, 'min_data_in_leaf': 473, 'lambda_l1': 0.0006004356943585979, 'lambda_l2': 1.2534995563395068e-05, 'max_bin': 85, 'num_leaves': 253, 'random_state': 6787}.\n",
      "[I 2019-07-08 13:28:47,167] Finished trial#92 resulted in value: 0.99766082650305. Current best value is 0.9442201639591478 with parameters: {'learning_rate': 0.35445642489453133, 'feature_fraction': 0.8680752231811355, 'bagging_fraction': 0.8430388093366942, 'min_data_in_leaf': 473, 'lambda_l1': 0.0006004356943585979, 'lambda_l2': 1.2534995563395068e-05, 'max_bin': 85, 'num_leaves': 253, 'random_state': 6787}.\n",
      "[I 2019-07-08 13:29:08,163] Finished trial#93 resulted in value: 1.1059937561230702. Current best value is 0.9442201639591478 with parameters: {'learning_rate': 0.35445642489453133, 'feature_fraction': 0.8680752231811355, 'bagging_fraction': 0.8430388093366942, 'min_data_in_leaf': 473, 'lambda_l1': 0.0006004356943585979, 'lambda_l2': 1.2534995563395068e-05, 'max_bin': 85, 'num_leaves': 253, 'random_state': 6787}.\n",
      "[I 2019-07-08 13:29:36,912] Finished trial#94 resulted in value: 0.9796634035505626. Current best value is 0.9442201639591478 with parameters: {'learning_rate': 0.35445642489453133, 'feature_fraction': 0.8680752231811355, 'bagging_fraction': 0.8430388093366942, 'min_data_in_leaf': 473, 'lambda_l1': 0.0006004356943585979, 'lambda_l2': 1.2534995563395068e-05, 'max_bin': 85, 'num_leaves': 253, 'random_state': 6787}.\n",
      "[I 2019-07-08 13:30:06,451] Finished trial#95 resulted in value: 0.9582367477046466. Current best value is 0.9442201639591478 with parameters: {'learning_rate': 0.35445642489453133, 'feature_fraction': 0.8680752231811355, 'bagging_fraction': 0.8430388093366942, 'min_data_in_leaf': 473, 'lambda_l1': 0.0006004356943585979, 'lambda_l2': 1.2534995563395068e-05, 'max_bin': 85, 'num_leaves': 253, 'random_state': 6787}.\n",
      "[I 2019-07-08 13:30:42,974] Finished trial#96 resulted in value: 0.9368553118374205. Current best value is 0.9368553118374205 with parameters: {'learning_rate': 0.3166712257724028, 'feature_fraction': 0.9071277735212887, 'bagging_fraction': 0.7422147877975603, 'min_data_in_leaf': 416, 'lambda_l1': 1.5701746597674077e-06, 'lambda_l2': 1.7903507490427843e-05, 'max_bin': 98, 'num_leaves': 253, 'random_state': 6406}.\n",
      "[I 2019-07-08 13:31:14,620] Finished trial#97 resulted in value: 1.015336833513338. Current best value is 0.9368553118374205 with parameters: {'learning_rate': 0.3166712257724028, 'feature_fraction': 0.9071277735212887, 'bagging_fraction': 0.7422147877975603, 'min_data_in_leaf': 416, 'lambda_l1': 1.5701746597674077e-06, 'lambda_l2': 1.7903507490427843e-05, 'max_bin': 98, 'num_leaves': 253, 'random_state': 6406}.\n",
      "[I 2019-07-08 13:31:47,980] Finished trial#98 resulted in value: 1.0110099144797682. Current best value is 0.9368553118374205 with parameters: {'learning_rate': 0.3166712257724028, 'feature_fraction': 0.9071277735212887, 'bagging_fraction': 0.7422147877975603, 'min_data_in_leaf': 416, 'lambda_l1': 1.5701746597674077e-06, 'lambda_l2': 1.7903507490427843e-05, 'max_bin': 98, 'num_leaves': 253, 'random_state': 6406}.\n",
      "[I 2019-07-08 13:32:25,820] Finished trial#99 resulted in value: 0.947682507660421. Current best value is 0.9368553118374205 with parameters: {'learning_rate': 0.3166712257724028, 'feature_fraction': 0.9071277735212887, 'bagging_fraction': 0.7422147877975603, 'min_data_in_leaf': 416, 'lambda_l1': 1.5701746597674077e-06, 'lambda_l2': 1.7903507490427843e-05, 'max_bin': 98, 'num_leaves': 253, 'random_state': 6406}.\n",
      "[I 2019-07-08 13:32:56,546] Finished trial#100 resulted in value: 0.9487008445208687. Current best value is 0.9368553118374205 with parameters: {'learning_rate': 0.3166712257724028, 'feature_fraction': 0.9071277735212887, 'bagging_fraction': 0.7422147877975603, 'min_data_in_leaf': 416, 'lambda_l1': 1.5701746597674077e-06, 'lambda_l2': 1.7903507490427843e-05, 'max_bin': 98, 'num_leaves': 253, 'random_state': 6406}.\n",
      "[I 2019-07-08 13:33:28,016] Finished trial#101 resulted in value: 1.0106534265269929. Current best value is 0.9368553118374205 with parameters: {'learning_rate': 0.3166712257724028, 'feature_fraction': 0.9071277735212887, 'bagging_fraction': 0.7422147877975603, 'min_data_in_leaf': 416, 'lambda_l1': 1.5701746597674077e-06, 'lambda_l2': 1.7903507490427843e-05, 'max_bin': 98, 'num_leaves': 253, 'random_state': 6406}.\n",
      "[I 2019-07-08 13:33:46,246] Finished trial#102 resulted in value: 1.4420180569127852. Current best value is 0.9368553118374205 with parameters: {'learning_rate': 0.3166712257724028, 'feature_fraction': 0.9071277735212887, 'bagging_fraction': 0.7422147877975603, 'min_data_in_leaf': 416, 'lambda_l1': 1.5701746597674077e-06, 'lambda_l2': 1.7903507490427843e-05, 'max_bin': 98, 'num_leaves': 253, 'random_state': 6406}.\n",
      "[I 2019-07-08 13:34:20,167] Finished trial#103 resulted in value: 1.0176932232471254. Current best value is 0.9368553118374205 with parameters: {'learning_rate': 0.3166712257724028, 'feature_fraction': 0.9071277735212887, 'bagging_fraction': 0.7422147877975603, 'min_data_in_leaf': 416, 'lambda_l1': 1.5701746597674077e-06, 'lambda_l2': 1.7903507490427843e-05, 'max_bin': 98, 'num_leaves': 253, 'random_state': 6406}.\n",
      "[I 2019-07-08 13:34:41,543] Finished trial#104 resulted in value: 1.2358685989868616. Current best value is 0.9368553118374205 with parameters: {'learning_rate': 0.3166712257724028, 'feature_fraction': 0.9071277735212887, 'bagging_fraction': 0.7422147877975603, 'min_data_in_leaf': 416, 'lambda_l1': 1.5701746597674077e-06, 'lambda_l2': 1.7903507490427843e-05, 'max_bin': 98, 'num_leaves': 253, 'random_state': 6406}.\n",
      "[I 2019-07-08 13:35:16,922] Finished trial#105 resulted in value: 0.9785811787090894. Current best value is 0.9368553118374205 with parameters: {'learning_rate': 0.3166712257724028, 'feature_fraction': 0.9071277735212887, 'bagging_fraction': 0.7422147877975603, 'min_data_in_leaf': 416, 'lambda_l1': 1.5701746597674077e-06, 'lambda_l2': 1.7903507490427843e-05, 'max_bin': 98, 'num_leaves': 253, 'random_state': 6406}.\n",
      "[I 2019-07-08 13:35:44,052] Finished trial#106 resulted in value: 0.9727269353394368. Current best value is 0.9368553118374205 with parameters: {'learning_rate': 0.3166712257724028, 'feature_fraction': 0.9071277735212887, 'bagging_fraction': 0.7422147877975603, 'min_data_in_leaf': 416, 'lambda_l1': 1.5701746597674077e-06, 'lambda_l2': 1.7903507490427843e-05, 'max_bin': 98, 'num_leaves': 253, 'random_state': 6406}.\n",
      "[I 2019-07-08 13:36:16,775] Finished trial#107 resulted in value: 0.9503052853800131. Current best value is 0.9368553118374205 with parameters: {'learning_rate': 0.3166712257724028, 'feature_fraction': 0.9071277735212887, 'bagging_fraction': 0.7422147877975603, 'min_data_in_leaf': 416, 'lambda_l1': 1.5701746597674077e-06, 'lambda_l2': 1.7903507490427843e-05, 'max_bin': 98, 'num_leaves': 253, 'random_state': 6406}.\n",
      "[I 2019-07-08 13:36:46,377] Finished trial#108 resulted in value: 0.9776876574328138. Current best value is 0.9368553118374205 with parameters: {'learning_rate': 0.3166712257724028, 'feature_fraction': 0.9071277735212887, 'bagging_fraction': 0.7422147877975603, 'min_data_in_leaf': 416, 'lambda_l1': 1.5701746597674077e-06, 'lambda_l2': 1.7903507490427843e-05, 'max_bin': 98, 'num_leaves': 253, 'random_state': 6406}.\n",
      "[I 2019-07-08 13:37:21,405] Finished trial#109 resulted in value: 1.0860002494622394. Current best value is 0.9368553118374205 with parameters: {'learning_rate': 0.3166712257724028, 'feature_fraction': 0.9071277735212887, 'bagging_fraction': 0.7422147877975603, 'min_data_in_leaf': 416, 'lambda_l1': 1.5701746597674077e-06, 'lambda_l2': 1.7903507490427843e-05, 'max_bin': 98, 'num_leaves': 253, 'random_state': 6406}.\n",
      "[I 2019-07-08 13:37:43,543] Finished trial#110 resulted in value: 1.1026407538270266. Current best value is 0.9368553118374205 with parameters: {'learning_rate': 0.3166712257724028, 'feature_fraction': 0.9071277735212887, 'bagging_fraction': 0.7422147877975603, 'min_data_in_leaf': 416, 'lambda_l1': 1.5701746597674077e-06, 'lambda_l2': 1.7903507490427843e-05, 'max_bin': 98, 'num_leaves': 253, 'random_state': 6406}.\n",
      "[I 2019-07-08 13:38:12,175] Finished trial#111 resulted in value: 0.9581090876086591. Current best value is 0.9368553118374205 with parameters: {'learning_rate': 0.3166712257724028, 'feature_fraction': 0.9071277735212887, 'bagging_fraction': 0.7422147877975603, 'min_data_in_leaf': 416, 'lambda_l1': 1.5701746597674077e-06, 'lambda_l2': 1.7903507490427843e-05, 'max_bin': 98, 'num_leaves': 253, 'random_state': 6406}.\n",
      "[I 2019-07-08 13:38:46,942] Finished trial#112 resulted in value: 0.9865437760808524. Current best value is 0.9368553118374205 with parameters: {'learning_rate': 0.3166712257724028, 'feature_fraction': 0.9071277735212887, 'bagging_fraction': 0.7422147877975603, 'min_data_in_leaf': 416, 'lambda_l1': 1.5701746597674077e-06, 'lambda_l2': 1.7903507490427843e-05, 'max_bin': 98, 'num_leaves': 253, 'random_state': 6406}.\n",
      "[I 2019-07-08 13:39:11,900] Finished trial#113 resulted in value: 1.1174052878034826. Current best value is 0.9368553118374205 with parameters: {'learning_rate': 0.3166712257724028, 'feature_fraction': 0.9071277735212887, 'bagging_fraction': 0.7422147877975603, 'min_data_in_leaf': 416, 'lambda_l1': 1.5701746597674077e-06, 'lambda_l2': 1.7903507490427843e-05, 'max_bin': 98, 'num_leaves': 253, 'random_state': 6406}.\n"
     ]
    },
    {
     "name": "stderr",
     "output_type": "stream",
     "text": [
      "[I 2019-07-08 13:39:40,905] Finished trial#114 resulted in value: 1.0492230333398693. Current best value is 0.9368553118374205 with parameters: {'learning_rate': 0.3166712257724028, 'feature_fraction': 0.9071277735212887, 'bagging_fraction': 0.7422147877975603, 'min_data_in_leaf': 416, 'lambda_l1': 1.5701746597674077e-06, 'lambda_l2': 1.7903507490427843e-05, 'max_bin': 98, 'num_leaves': 253, 'random_state': 6406}.\n",
      "[I 2019-07-08 13:40:13,419] Finished trial#115 resulted in value: 0.9610546104863019. Current best value is 0.9368553118374205 with parameters: {'learning_rate': 0.3166712257724028, 'feature_fraction': 0.9071277735212887, 'bagging_fraction': 0.7422147877975603, 'min_data_in_leaf': 416, 'lambda_l1': 1.5701746597674077e-06, 'lambda_l2': 1.7903507490427843e-05, 'max_bin': 98, 'num_leaves': 253, 'random_state': 6406}.\n",
      "[I 2019-07-08 13:40:40,681] Finished trial#116 resulted in value: 1.015126817371264. Current best value is 0.9368553118374205 with parameters: {'learning_rate': 0.3166712257724028, 'feature_fraction': 0.9071277735212887, 'bagging_fraction': 0.7422147877975603, 'min_data_in_leaf': 416, 'lambda_l1': 1.5701746597674077e-06, 'lambda_l2': 1.7903507490427843e-05, 'max_bin': 98, 'num_leaves': 253, 'random_state': 6406}.\n",
      "[I 2019-07-08 13:41:06,738] Finished trial#117 resulted in value: 0.998375119196632. Current best value is 0.9368553118374205 with parameters: {'learning_rate': 0.3166712257724028, 'feature_fraction': 0.9071277735212887, 'bagging_fraction': 0.7422147877975603, 'min_data_in_leaf': 416, 'lambda_l1': 1.5701746597674077e-06, 'lambda_l2': 1.7903507490427843e-05, 'max_bin': 98, 'num_leaves': 253, 'random_state': 6406}.\n",
      "[I 2019-07-08 13:41:43,093] Finished trial#118 resulted in value: 0.9742809737570107. Current best value is 0.9368553118374205 with parameters: {'learning_rate': 0.3166712257724028, 'feature_fraction': 0.9071277735212887, 'bagging_fraction': 0.7422147877975603, 'min_data_in_leaf': 416, 'lambda_l1': 1.5701746597674077e-06, 'lambda_l2': 1.7903507490427843e-05, 'max_bin': 98, 'num_leaves': 253, 'random_state': 6406}.\n",
      "[I 2019-07-08 13:41:58,076] Finished trial#119 resulted in value: 1.6740759850880953. Current best value is 0.9368553118374205 with parameters: {'learning_rate': 0.3166712257724028, 'feature_fraction': 0.9071277735212887, 'bagging_fraction': 0.7422147877975603, 'min_data_in_leaf': 416, 'lambda_l1': 1.5701746597674077e-06, 'lambda_l2': 1.7903507490427843e-05, 'max_bin': 98, 'num_leaves': 253, 'random_state': 6406}.\n",
      "[I 2019-07-08 13:42:38,802] Finished trial#120 resulted in value: 0.9582580856258944. Current best value is 0.9368553118374205 with parameters: {'learning_rate': 0.3166712257724028, 'feature_fraction': 0.9071277735212887, 'bagging_fraction': 0.7422147877975603, 'min_data_in_leaf': 416, 'lambda_l1': 1.5701746597674077e-06, 'lambda_l2': 1.7903507490427843e-05, 'max_bin': 98, 'num_leaves': 253, 'random_state': 6406}.\n",
      "[I 2019-07-08 13:43:08,282] Finished trial#121 resulted in value: 0.9790954748377183. Current best value is 0.9368553118374205 with parameters: {'learning_rate': 0.3166712257724028, 'feature_fraction': 0.9071277735212887, 'bagging_fraction': 0.7422147877975603, 'min_data_in_leaf': 416, 'lambda_l1': 1.5701746597674077e-06, 'lambda_l2': 1.7903507490427843e-05, 'max_bin': 98, 'num_leaves': 253, 'random_state': 6406}.\n",
      "[I 2019-07-08 13:43:42,770] Finished trial#122 resulted in value: 1.0401120677019895. Current best value is 0.9368553118374205 with parameters: {'learning_rate': 0.3166712257724028, 'feature_fraction': 0.9071277735212887, 'bagging_fraction': 0.7422147877975603, 'min_data_in_leaf': 416, 'lambda_l1': 1.5701746597674077e-06, 'lambda_l2': 1.7903507490427843e-05, 'max_bin': 98, 'num_leaves': 253, 'random_state': 6406}.\n",
      "[I 2019-07-08 13:44:04,597] Finished trial#123 resulted in value: 1.0392386335007828. Current best value is 0.9368553118374205 with parameters: {'learning_rate': 0.3166712257724028, 'feature_fraction': 0.9071277735212887, 'bagging_fraction': 0.7422147877975603, 'min_data_in_leaf': 416, 'lambda_l1': 1.5701746597674077e-06, 'lambda_l2': 1.7903507490427843e-05, 'max_bin': 98, 'num_leaves': 253, 'random_state': 6406}.\n",
      "[I 2019-07-08 13:44:30,306] Finished trial#124 resulted in value: 1.0082181694142978. Current best value is 0.9368553118374205 with parameters: {'learning_rate': 0.3166712257724028, 'feature_fraction': 0.9071277735212887, 'bagging_fraction': 0.7422147877975603, 'min_data_in_leaf': 416, 'lambda_l1': 1.5701746597674077e-06, 'lambda_l2': 1.7903507490427843e-05, 'max_bin': 98, 'num_leaves': 253, 'random_state': 6406}.\n",
      "[I 2019-07-08 13:45:04,865] Finished trial#125 resulted in value: 0.988528955423841. Current best value is 0.9368553118374205 with parameters: {'learning_rate': 0.3166712257724028, 'feature_fraction': 0.9071277735212887, 'bagging_fraction': 0.7422147877975603, 'min_data_in_leaf': 416, 'lambda_l1': 1.5701746597674077e-06, 'lambda_l2': 1.7903507490427843e-05, 'max_bin': 98, 'num_leaves': 253, 'random_state': 6406}.\n",
      "[I 2019-07-08 13:45:38,529] Finished trial#126 resulted in value: 0.9530224290214389. Current best value is 0.9368553118374205 with parameters: {'learning_rate': 0.3166712257724028, 'feature_fraction': 0.9071277735212887, 'bagging_fraction': 0.7422147877975603, 'min_data_in_leaf': 416, 'lambda_l1': 1.5701746597674077e-06, 'lambda_l2': 1.7903507490427843e-05, 'max_bin': 98, 'num_leaves': 253, 'random_state': 6406}.\n",
      "[I 2019-07-08 13:46:10,841] Finished trial#127 resulted in value: 1.0330389683643735. Current best value is 0.9368553118374205 with parameters: {'learning_rate': 0.3166712257724028, 'feature_fraction': 0.9071277735212887, 'bagging_fraction': 0.7422147877975603, 'min_data_in_leaf': 416, 'lambda_l1': 1.5701746597674077e-06, 'lambda_l2': 1.7903507490427843e-05, 'max_bin': 98, 'num_leaves': 253, 'random_state': 6406}.\n",
      "[I 2019-07-08 13:46:40,207] Finished trial#128 resulted in value: 1.4036748755851676. Current best value is 0.9368553118374205 with parameters: {'learning_rate': 0.3166712257724028, 'feature_fraction': 0.9071277735212887, 'bagging_fraction': 0.7422147877975603, 'min_data_in_leaf': 416, 'lambda_l1': 1.5701746597674077e-06, 'lambda_l2': 1.7903507490427843e-05, 'max_bin': 98, 'num_leaves': 253, 'random_state': 6406}.\n",
      "[I 2019-07-08 13:47:09,990] Finished trial#129 resulted in value: 1.0383303743586247. Current best value is 0.9368553118374205 with parameters: {'learning_rate': 0.3166712257724028, 'feature_fraction': 0.9071277735212887, 'bagging_fraction': 0.7422147877975603, 'min_data_in_leaf': 416, 'lambda_l1': 1.5701746597674077e-06, 'lambda_l2': 1.7903507490427843e-05, 'max_bin': 98, 'num_leaves': 253, 'random_state': 6406}.\n",
      "[I 2019-07-08 13:47:38,215] Finished trial#130 resulted in value: 0.9762368071046549. Current best value is 0.9368553118374205 with parameters: {'learning_rate': 0.3166712257724028, 'feature_fraction': 0.9071277735212887, 'bagging_fraction': 0.7422147877975603, 'min_data_in_leaf': 416, 'lambda_l1': 1.5701746597674077e-06, 'lambda_l2': 1.7903507490427843e-05, 'max_bin': 98, 'num_leaves': 253, 'random_state': 6406}.\n",
      "[I 2019-07-08 13:48:10,800] Finished trial#131 resulted in value: 1.0214095144339432. Current best value is 0.9368553118374205 with parameters: {'learning_rate': 0.3166712257724028, 'feature_fraction': 0.9071277735212887, 'bagging_fraction': 0.7422147877975603, 'min_data_in_leaf': 416, 'lambda_l1': 1.5701746597674077e-06, 'lambda_l2': 1.7903507490427843e-05, 'max_bin': 98, 'num_leaves': 253, 'random_state': 6406}.\n",
      "[I 2019-07-08 13:48:44,629] Finished trial#132 resulted in value: 0.9763604288861029. Current best value is 0.9368553118374205 with parameters: {'learning_rate': 0.3166712257724028, 'feature_fraction': 0.9071277735212887, 'bagging_fraction': 0.7422147877975603, 'min_data_in_leaf': 416, 'lambda_l1': 1.5701746597674077e-06, 'lambda_l2': 1.7903507490427843e-05, 'max_bin': 98, 'num_leaves': 253, 'random_state': 6406}.\n",
      "[I 2019-07-08 13:49:18,631] Finished trial#133 resulted in value: 0.96061845447348. Current best value is 0.9368553118374205 with parameters: {'learning_rate': 0.3166712257724028, 'feature_fraction': 0.9071277735212887, 'bagging_fraction': 0.7422147877975603, 'min_data_in_leaf': 416, 'lambda_l1': 1.5701746597674077e-06, 'lambda_l2': 1.7903507490427843e-05, 'max_bin': 98, 'num_leaves': 253, 'random_state': 6406}.\n",
      "[I 2019-07-08 13:49:40,403] Finished trial#134 resulted in value: 1.083380366812854. Current best value is 0.9368553118374205 with parameters: {'learning_rate': 0.3166712257724028, 'feature_fraction': 0.9071277735212887, 'bagging_fraction': 0.7422147877975603, 'min_data_in_leaf': 416, 'lambda_l1': 1.5701746597674077e-06, 'lambda_l2': 1.7903507490427843e-05, 'max_bin': 98, 'num_leaves': 253, 'random_state': 6406}.\n",
      "[I 2019-07-08 13:50:22,641] Finished trial#135 resulted in value: 1.0083703029652162. Current best value is 0.9368553118374205 with parameters: {'learning_rate': 0.3166712257724028, 'feature_fraction': 0.9071277735212887, 'bagging_fraction': 0.7422147877975603, 'min_data_in_leaf': 416, 'lambda_l1': 1.5701746597674077e-06, 'lambda_l2': 1.7903507490427843e-05, 'max_bin': 98, 'num_leaves': 253, 'random_state': 6406}.\n",
      "[I 2019-07-08 13:50:51,331] Finished trial#136 resulted in value: 0.9833927229465637. Current best value is 0.9368553118374205 with parameters: {'learning_rate': 0.3166712257724028, 'feature_fraction': 0.9071277735212887, 'bagging_fraction': 0.7422147877975603, 'min_data_in_leaf': 416, 'lambda_l1': 1.5701746597674077e-06, 'lambda_l2': 1.7903507490427843e-05, 'max_bin': 98, 'num_leaves': 253, 'random_state': 6406}.\n",
      "[I 2019-07-08 13:51:14,691] Finished trial#137 resulted in value: 1.149552607018945. Current best value is 0.9368553118374205 with parameters: {'learning_rate': 0.3166712257724028, 'feature_fraction': 0.9071277735212887, 'bagging_fraction': 0.7422147877975603, 'min_data_in_leaf': 416, 'lambda_l1': 1.5701746597674077e-06, 'lambda_l2': 1.7903507490427843e-05, 'max_bin': 98, 'num_leaves': 253, 'random_state': 6406}.\n",
      "[I 2019-07-08 13:51:43,628] Finished trial#138 resulted in value: 0.9904069691690637. Current best value is 0.9368553118374205 with parameters: {'learning_rate': 0.3166712257724028, 'feature_fraction': 0.9071277735212887, 'bagging_fraction': 0.7422147877975603, 'min_data_in_leaf': 416, 'lambda_l1': 1.5701746597674077e-06, 'lambda_l2': 1.7903507490427843e-05, 'max_bin': 98, 'num_leaves': 253, 'random_state': 6406}.\n",
      "[I 2019-07-08 13:52:11,493] Finished trial#139 resulted in value: 0.9941088300454582. Current best value is 0.9368553118374205 with parameters: {'learning_rate': 0.3166712257724028, 'feature_fraction': 0.9071277735212887, 'bagging_fraction': 0.7422147877975603, 'min_data_in_leaf': 416, 'lambda_l1': 1.5701746597674077e-06, 'lambda_l2': 1.7903507490427843e-05, 'max_bin': 98, 'num_leaves': 253, 'random_state': 6406}.\n",
      "[I 2019-07-08 13:52:45,102] Finished trial#140 resulted in value: 1.0548105473293816. Current best value is 0.9368553118374205 with parameters: {'learning_rate': 0.3166712257724028, 'feature_fraction': 0.9071277735212887, 'bagging_fraction': 0.7422147877975603, 'min_data_in_leaf': 416, 'lambda_l1': 1.5701746597674077e-06, 'lambda_l2': 1.7903507490427843e-05, 'max_bin': 98, 'num_leaves': 253, 'random_state': 6406}.\n",
      "[I 2019-07-08 13:53:13,820] Finished trial#141 resulted in value: 1.0721957660732915. Current best value is 0.9368553118374205 with parameters: {'learning_rate': 0.3166712257724028, 'feature_fraction': 0.9071277735212887, 'bagging_fraction': 0.7422147877975603, 'min_data_in_leaf': 416, 'lambda_l1': 1.5701746597674077e-06, 'lambda_l2': 1.7903507490427843e-05, 'max_bin': 98, 'num_leaves': 253, 'random_state': 6406}.\n",
      "[I 2019-07-08 13:53:44,707] Finished trial#142 resulted in value: 0.9988232269263649. Current best value is 0.9368553118374205 with parameters: {'learning_rate': 0.3166712257724028, 'feature_fraction': 0.9071277735212887, 'bagging_fraction': 0.7422147877975603, 'min_data_in_leaf': 416, 'lambda_l1': 1.5701746597674077e-06, 'lambda_l2': 1.7903507490427843e-05, 'max_bin': 98, 'num_leaves': 253, 'random_state': 6406}.\n",
      "[I 2019-07-08 13:54:13,167] Finished trial#143 resulted in value: 0.9731110329781648. Current best value is 0.9368553118374205 with parameters: {'learning_rate': 0.3166712257724028, 'feature_fraction': 0.9071277735212887, 'bagging_fraction': 0.7422147877975603, 'min_data_in_leaf': 416, 'lambda_l1': 1.5701746597674077e-06, 'lambda_l2': 1.7903507490427843e-05, 'max_bin': 98, 'num_leaves': 253, 'random_state': 6406}.\n",
      "[I 2019-07-08 13:54:38,428] Finished trial#144 resulted in value: 1.065614730342688. Current best value is 0.9368553118374205 with parameters: {'learning_rate': 0.3166712257724028, 'feature_fraction': 0.9071277735212887, 'bagging_fraction': 0.7422147877975603, 'min_data_in_leaf': 416, 'lambda_l1': 1.5701746597674077e-06, 'lambda_l2': 1.7903507490427843e-05, 'max_bin': 98, 'num_leaves': 253, 'random_state': 6406}.\n",
      "[I 2019-07-08 13:55:16,965] Finished trial#145 resulted in value: 0.9430813099476223. Current best value is 0.9368553118374205 with parameters: {'learning_rate': 0.3166712257724028, 'feature_fraction': 0.9071277735212887, 'bagging_fraction': 0.7422147877975603, 'min_data_in_leaf': 416, 'lambda_l1': 1.5701746597674077e-06, 'lambda_l2': 1.7903507490427843e-05, 'max_bin': 98, 'num_leaves': 253, 'random_state': 6406}.\n",
      "[I 2019-07-08 13:55:56,025] Finished trial#146 resulted in value: 0.9454434131219381. Current best value is 0.9368553118374205 with parameters: {'learning_rate': 0.3166712257724028, 'feature_fraction': 0.9071277735212887, 'bagging_fraction': 0.7422147877975603, 'min_data_in_leaf': 416, 'lambda_l1': 1.5701746597674077e-06, 'lambda_l2': 1.7903507490427843e-05, 'max_bin': 98, 'num_leaves': 253, 'random_state': 6406}.\n",
      "[I 2019-07-08 13:56:35,949] Finished trial#147 resulted in value: 0.9525275878373505. Current best value is 0.9368553118374205 with parameters: {'learning_rate': 0.3166712257724028, 'feature_fraction': 0.9071277735212887, 'bagging_fraction': 0.7422147877975603, 'min_data_in_leaf': 416, 'lambda_l1': 1.5701746597674077e-06, 'lambda_l2': 1.7903507490427843e-05, 'max_bin': 98, 'num_leaves': 253, 'random_state': 6406}.\n",
      "[I 2019-07-08 13:57:12,031] Finished trial#148 resulted in value: 0.9561900308855368. Current best value is 0.9368553118374205 with parameters: {'learning_rate': 0.3166712257724028, 'feature_fraction': 0.9071277735212887, 'bagging_fraction': 0.7422147877975603, 'min_data_in_leaf': 416, 'lambda_l1': 1.5701746597674077e-06, 'lambda_l2': 1.7903507490427843e-05, 'max_bin': 98, 'num_leaves': 253, 'random_state': 6406}.\n",
      "[I 2019-07-08 13:57:51,502] Finished trial#149 resulted in value: 0.9368756925061495. Current best value is 0.9368553118374205 with parameters: {'learning_rate': 0.3166712257724028, 'feature_fraction': 0.9071277735212887, 'bagging_fraction': 0.7422147877975603, 'min_data_in_leaf': 416, 'lambda_l1': 1.5701746597674077e-06, 'lambda_l2': 1.7903507490427843e-05, 'max_bin': 98, 'num_leaves': 253, 'random_state': 6406}.\n",
      "[I 2019-07-08 13:58:31,277] Finished trial#150 resulted in value: 0.9395623796387064. Current best value is 0.9368553118374205 with parameters: {'learning_rate': 0.3166712257724028, 'feature_fraction': 0.9071277735212887, 'bagging_fraction': 0.7422147877975603, 'min_data_in_leaf': 416, 'lambda_l1': 1.5701746597674077e-06, 'lambda_l2': 1.7903507490427843e-05, 'max_bin': 98, 'num_leaves': 253, 'random_state': 6406}.\n",
      "[I 2019-07-08 13:59:10,691] Finished trial#151 resulted in value: 0.9385379071468659. Current best value is 0.9368553118374205 with parameters: {'learning_rate': 0.3166712257724028, 'feature_fraction': 0.9071277735212887, 'bagging_fraction': 0.7422147877975603, 'min_data_in_leaf': 416, 'lambda_l1': 1.5701746597674077e-06, 'lambda_l2': 1.7903507490427843e-05, 'max_bin': 98, 'num_leaves': 253, 'random_state': 6406}.\n"
     ]
    },
    {
     "name": "stderr",
     "output_type": "stream",
     "text": [
      "[I 2019-07-08 13:59:47,959] Finished trial#152 resulted in value: 0.951212713884505. Current best value is 0.9368553118374205 with parameters: {'learning_rate': 0.3166712257724028, 'feature_fraction': 0.9071277735212887, 'bagging_fraction': 0.7422147877975603, 'min_data_in_leaf': 416, 'lambda_l1': 1.5701746597674077e-06, 'lambda_l2': 1.7903507490427843e-05, 'max_bin': 98, 'num_leaves': 253, 'random_state': 6406}.\n",
      "[I 2019-07-08 14:00:26,436] Finished trial#153 resulted in value: 0.9329697749105812. Current best value is 0.9329697749105812 with parameters: {'learning_rate': 0.3414884085893545, 'feature_fraction': 0.9968942693539474, 'bagging_fraction': 0.6304650536121073, 'min_data_in_leaf': 391, 'lambda_l1': 1.0451097740407883e-06, 'lambda_l2': 0.039471193246930845, 'max_bin': 98, 'num_leaves': 256, 'random_state': 8004}.\n",
      "[I 2019-07-08 14:01:03,998] Finished trial#154 resulted in value: 0.9415126520731034. Current best value is 0.9329697749105812 with parameters: {'learning_rate': 0.3414884085893545, 'feature_fraction': 0.9968942693539474, 'bagging_fraction': 0.6304650536121073, 'min_data_in_leaf': 391, 'lambda_l1': 1.0451097740407883e-06, 'lambda_l2': 0.039471193246930845, 'max_bin': 98, 'num_leaves': 256, 'random_state': 8004}.\n",
      "[I 2019-07-08 14:01:41,371] Finished trial#155 resulted in value: 0.9590313051600263. Current best value is 0.9329697749105812 with parameters: {'learning_rate': 0.3414884085893545, 'feature_fraction': 0.9968942693539474, 'bagging_fraction': 0.6304650536121073, 'min_data_in_leaf': 391, 'lambda_l1': 1.0451097740407883e-06, 'lambda_l2': 0.039471193246930845, 'max_bin': 98, 'num_leaves': 256, 'random_state': 8004}.\n",
      "[I 2019-07-08 14:02:17,260] Finished trial#156 resulted in value: 0.9532015766971904. Current best value is 0.9329697749105812 with parameters: {'learning_rate': 0.3414884085893545, 'feature_fraction': 0.9968942693539474, 'bagging_fraction': 0.6304650536121073, 'min_data_in_leaf': 391, 'lambda_l1': 1.0451097740407883e-06, 'lambda_l2': 0.039471193246930845, 'max_bin': 98, 'num_leaves': 256, 'random_state': 8004}.\n",
      "[I 2019-07-08 14:02:54,810] Finished trial#157 resulted in value: 1.0144717187754595. Current best value is 0.9329697749105812 with parameters: {'learning_rate': 0.3414884085893545, 'feature_fraction': 0.9968942693539474, 'bagging_fraction': 0.6304650536121073, 'min_data_in_leaf': 391, 'lambda_l1': 1.0451097740407883e-06, 'lambda_l2': 0.039471193246930845, 'max_bin': 98, 'num_leaves': 256, 'random_state': 8004}.\n",
      "[I 2019-07-08 14:03:21,414] Finished trial#158 resulted in value: 1.0687814149467043. Current best value is 0.9329697749105812 with parameters: {'learning_rate': 0.3414884085893545, 'feature_fraction': 0.9968942693539474, 'bagging_fraction': 0.6304650536121073, 'min_data_in_leaf': 391, 'lambda_l1': 1.0451097740407883e-06, 'lambda_l2': 0.039471193246930845, 'max_bin': 98, 'num_leaves': 256, 'random_state': 8004}.\n",
      "[I 2019-07-08 14:03:56,001] Finished trial#159 resulted in value: 0.9752809613876756. Current best value is 0.9329697749105812 with parameters: {'learning_rate': 0.3414884085893545, 'feature_fraction': 0.9968942693539474, 'bagging_fraction': 0.6304650536121073, 'min_data_in_leaf': 391, 'lambda_l1': 1.0451097740407883e-06, 'lambda_l2': 0.039471193246930845, 'max_bin': 98, 'num_leaves': 256, 'random_state': 8004}.\n",
      "[I 2019-07-08 14:04:43,387] Finished trial#160 resulted in value: 6.888512445084174. Current best value is 0.9329697749105812 with parameters: {'learning_rate': 0.3414884085893545, 'feature_fraction': 0.9968942693539474, 'bagging_fraction': 0.6304650536121073, 'min_data_in_leaf': 391, 'lambda_l1': 1.0451097740407883e-06, 'lambda_l2': 0.039471193246930845, 'max_bin': 98, 'num_leaves': 256, 'random_state': 8004}.\n",
      "[I 2019-07-08 14:05:17,246] Finished trial#161 resulted in value: 0.9599842982527704. Current best value is 0.9329697749105812 with parameters: {'learning_rate': 0.3414884085893545, 'feature_fraction': 0.9968942693539474, 'bagging_fraction': 0.6304650536121073, 'min_data_in_leaf': 391, 'lambda_l1': 1.0451097740407883e-06, 'lambda_l2': 0.039471193246930845, 'max_bin': 98, 'num_leaves': 256, 'random_state': 8004}.\n",
      "[I 2019-07-08 14:05:50,247] Finished trial#162 resulted in value: 0.956797290686701. Current best value is 0.9329697749105812 with parameters: {'learning_rate': 0.3414884085893545, 'feature_fraction': 0.9968942693539474, 'bagging_fraction': 0.6304650536121073, 'min_data_in_leaf': 391, 'lambda_l1': 1.0451097740407883e-06, 'lambda_l2': 0.039471193246930845, 'max_bin': 98, 'num_leaves': 256, 'random_state': 8004}.\n",
      "[I 2019-07-08 14:06:29,751] Finished trial#163 resulted in value: 0.9300692164665992. Current best value is 0.9300692164665992 with parameters: {'learning_rate': 0.29426859872688016, 'feature_fraction': 0.9991242137638949, 'bagging_fraction': 0.6352351289978297, 'min_data_in_leaf': 431, 'lambda_l1': 6.313437511621462e-06, 'lambda_l2': 0.016604298397879098, 'max_bin': 100, 'num_leaves': 255, 'random_state': 9214}.\n",
      "[I 2019-07-08 14:07:06,856] Finished trial#164 resulted in value: 0.9548177300483911. Current best value is 0.9300692164665992 with parameters: {'learning_rate': 0.29426859872688016, 'feature_fraction': 0.9991242137638949, 'bagging_fraction': 0.6352351289978297, 'min_data_in_leaf': 431, 'lambda_l1': 6.313437511621462e-06, 'lambda_l2': 0.016604298397879098, 'max_bin': 100, 'num_leaves': 255, 'random_state': 9214}.\n",
      "[I 2019-07-08 14:07:43,192] Finished trial#165 resulted in value: 0.9796224002051241. Current best value is 0.9300692164665992 with parameters: {'learning_rate': 0.29426859872688016, 'feature_fraction': 0.9991242137638949, 'bagging_fraction': 0.6352351289978297, 'min_data_in_leaf': 431, 'lambda_l1': 6.313437511621462e-06, 'lambda_l2': 0.016604298397879098, 'max_bin': 100, 'num_leaves': 255, 'random_state': 9214}.\n",
      "[I 2019-07-08 14:08:20,574] Finished trial#166 resulted in value: 0.9304576607078096. Current best value is 0.9300692164665992 with parameters: {'learning_rate': 0.29426859872688016, 'feature_fraction': 0.9991242137638949, 'bagging_fraction': 0.6352351289978297, 'min_data_in_leaf': 431, 'lambda_l1': 6.313437511621462e-06, 'lambda_l2': 0.016604298397879098, 'max_bin': 100, 'num_leaves': 255, 'random_state': 9214}.\n",
      "[I 2019-07-08 14:08:57,618] Finished trial#167 resulted in value: 0.9819119192793583. Current best value is 0.9300692164665992 with parameters: {'learning_rate': 0.29426859872688016, 'feature_fraction': 0.9991242137638949, 'bagging_fraction': 0.6352351289978297, 'min_data_in_leaf': 431, 'lambda_l1': 6.313437511621462e-06, 'lambda_l2': 0.016604298397879098, 'max_bin': 100, 'num_leaves': 255, 'random_state': 9214}.\n",
      "[I 2019-07-08 14:09:34,332] Finished trial#168 resulted in value: 0.9495500203673327. Current best value is 0.9300692164665992 with parameters: {'learning_rate': 0.29426859872688016, 'feature_fraction': 0.9991242137638949, 'bagging_fraction': 0.6352351289978297, 'min_data_in_leaf': 431, 'lambda_l1': 6.313437511621462e-06, 'lambda_l2': 0.016604298397879098, 'max_bin': 100, 'num_leaves': 255, 'random_state': 9214}.\n",
      "[I 2019-07-08 14:10:10,363] Finished trial#169 resulted in value: 0.9581548952110086. Current best value is 0.9300692164665992 with parameters: {'learning_rate': 0.29426859872688016, 'feature_fraction': 0.9991242137638949, 'bagging_fraction': 0.6352351289978297, 'min_data_in_leaf': 431, 'lambda_l1': 6.313437511621462e-06, 'lambda_l2': 0.016604298397879098, 'max_bin': 100, 'num_leaves': 255, 'random_state': 9214}.\n",
      "[I 2019-07-08 14:10:29,844] Finished trial#170 resulted in value: 1.2670409654207888. Current best value is 0.9300692164665992 with parameters: {'learning_rate': 0.29426859872688016, 'feature_fraction': 0.9991242137638949, 'bagging_fraction': 0.6352351289978297, 'min_data_in_leaf': 431, 'lambda_l1': 6.313437511621462e-06, 'lambda_l2': 0.016604298397879098, 'max_bin': 100, 'num_leaves': 255, 'random_state': 9214}.\n",
      "[I 2019-07-08 14:11:08,569] Finished trial#171 resulted in value: 0.9614812505602053. Current best value is 0.9300692164665992 with parameters: {'learning_rate': 0.29426859872688016, 'feature_fraction': 0.9991242137638949, 'bagging_fraction': 0.6352351289978297, 'min_data_in_leaf': 431, 'lambda_l1': 6.313437511621462e-06, 'lambda_l2': 0.016604298397879098, 'max_bin': 100, 'num_leaves': 255, 'random_state': 9214}.\n",
      "[I 2019-07-08 14:11:33,327] Finished trial#172 resulted in value: 1.0959973943602894. Current best value is 0.9300692164665992 with parameters: {'learning_rate': 0.29426859872688016, 'feature_fraction': 0.9991242137638949, 'bagging_fraction': 0.6352351289978297, 'min_data_in_leaf': 431, 'lambda_l1': 6.313437511621462e-06, 'lambda_l2': 0.016604298397879098, 'max_bin': 100, 'num_leaves': 255, 'random_state': 9214}.\n",
      "[I 2019-07-08 14:12:00,659] Finished trial#173 resulted in value: 1.0415789085704144. Current best value is 0.9300692164665992 with parameters: {'learning_rate': 0.29426859872688016, 'feature_fraction': 0.9991242137638949, 'bagging_fraction': 0.6352351289978297, 'min_data_in_leaf': 431, 'lambda_l1': 6.313437511621462e-06, 'lambda_l2': 0.016604298397879098, 'max_bin': 100, 'num_leaves': 255, 'random_state': 9214}.\n",
      "[I 2019-07-08 14:12:34,983] Finished trial#174 resulted in value: 0.9551672178317169. Current best value is 0.9300692164665992 with parameters: {'learning_rate': 0.29426859872688016, 'feature_fraction': 0.9991242137638949, 'bagging_fraction': 0.6352351289978297, 'min_data_in_leaf': 431, 'lambda_l1': 6.313437511621462e-06, 'lambda_l2': 0.016604298397879098, 'max_bin': 100, 'num_leaves': 255, 'random_state': 9214}.\n",
      "[I 2019-07-08 14:13:13,593] Finished trial#175 resulted in value: 0.9875138124426414. Current best value is 0.9300692164665992 with parameters: {'learning_rate': 0.29426859872688016, 'feature_fraction': 0.9991242137638949, 'bagging_fraction': 0.6352351289978297, 'min_data_in_leaf': 431, 'lambda_l1': 6.313437511621462e-06, 'lambda_l2': 0.016604298397879098, 'max_bin': 100, 'num_leaves': 255, 'random_state': 9214}.\n",
      "[I 2019-07-08 14:13:46,499] Finished trial#176 resulted in value: 1.116732282554998. Current best value is 0.9300692164665992 with parameters: {'learning_rate': 0.29426859872688016, 'feature_fraction': 0.9991242137638949, 'bagging_fraction': 0.6352351289978297, 'min_data_in_leaf': 431, 'lambda_l1': 6.313437511621462e-06, 'lambda_l2': 0.016604298397879098, 'max_bin': 100, 'num_leaves': 255, 'random_state': 9214}.\n",
      "[I 2019-07-08 14:14:24,604] Finished trial#177 resulted in value: 0.9545229630992177. Current best value is 0.9300692164665992 with parameters: {'learning_rate': 0.29426859872688016, 'feature_fraction': 0.9991242137638949, 'bagging_fraction': 0.6352351289978297, 'min_data_in_leaf': 431, 'lambda_l1': 6.313437511621462e-06, 'lambda_l2': 0.016604298397879098, 'max_bin': 100, 'num_leaves': 255, 'random_state': 9214}.\n",
      "[I 2019-07-08 14:15:00,761] Finished trial#178 resulted in value: 0.9370937583533465. Current best value is 0.9300692164665992 with parameters: {'learning_rate': 0.29426859872688016, 'feature_fraction': 0.9991242137638949, 'bagging_fraction': 0.6352351289978297, 'min_data_in_leaf': 431, 'lambda_l1': 6.313437511621462e-06, 'lambda_l2': 0.016604298397879098, 'max_bin': 100, 'num_leaves': 255, 'random_state': 9214}.\n",
      "[I 2019-07-08 14:15:21,683] Finished trial#179 resulted in value: 1.1934589314716564. Current best value is 0.9300692164665992 with parameters: {'learning_rate': 0.29426859872688016, 'feature_fraction': 0.9991242137638949, 'bagging_fraction': 0.6352351289978297, 'min_data_in_leaf': 431, 'lambda_l1': 6.313437511621462e-06, 'lambda_l2': 0.016604298397879098, 'max_bin': 100, 'num_leaves': 255, 'random_state': 9214}.\n",
      "[I 2019-07-08 14:15:54,125] Finished trial#180 resulted in value: 0.9666312751230295. Current best value is 0.9300692164665992 with parameters: {'learning_rate': 0.29426859872688016, 'feature_fraction': 0.9991242137638949, 'bagging_fraction': 0.6352351289978297, 'min_data_in_leaf': 431, 'lambda_l1': 6.313437511621462e-06, 'lambda_l2': 0.016604298397879098, 'max_bin': 100, 'num_leaves': 255, 'random_state': 9214}.\n",
      "[I 2019-07-08 14:16:32,755] Finished trial#181 resulted in value: 0.95236507527487. Current best value is 0.9300692164665992 with parameters: {'learning_rate': 0.29426859872688016, 'feature_fraction': 0.9991242137638949, 'bagging_fraction': 0.6352351289978297, 'min_data_in_leaf': 431, 'lambda_l1': 6.313437511621462e-06, 'lambda_l2': 0.016604298397879098, 'max_bin': 100, 'num_leaves': 255, 'random_state': 9214}.\n",
      "[I 2019-07-08 14:17:08,816] Finished trial#182 resulted in value: 0.9389108188288038. Current best value is 0.9300692164665992 with parameters: {'learning_rate': 0.29426859872688016, 'feature_fraction': 0.9991242137638949, 'bagging_fraction': 0.6352351289978297, 'min_data_in_leaf': 431, 'lambda_l1': 6.313437511621462e-06, 'lambda_l2': 0.016604298397879098, 'max_bin': 100, 'num_leaves': 255, 'random_state': 9214}.\n",
      "[I 2019-07-08 14:17:40,155] Finished trial#183 resulted in value: 1.0127284205600349. Current best value is 0.9300692164665992 with parameters: {'learning_rate': 0.29426859872688016, 'feature_fraction': 0.9991242137638949, 'bagging_fraction': 0.6352351289978297, 'min_data_in_leaf': 431, 'lambda_l1': 6.313437511621462e-06, 'lambda_l2': 0.016604298397879098, 'max_bin': 100, 'num_leaves': 255, 'random_state': 9214}.\n",
      "[I 2019-07-08 14:18:12,807] Finished trial#184 resulted in value: 0.981606331393799. Current best value is 0.9300692164665992 with parameters: {'learning_rate': 0.29426859872688016, 'feature_fraction': 0.9991242137638949, 'bagging_fraction': 0.6352351289978297, 'min_data_in_leaf': 431, 'lambda_l1': 6.313437511621462e-06, 'lambda_l2': 0.016604298397879098, 'max_bin': 100, 'num_leaves': 255, 'random_state': 9214}.\n",
      "[I 2019-07-08 14:18:47,444] Finished trial#185 resulted in value: 0.9325794595170894. Current best value is 0.9300692164665992 with parameters: {'learning_rate': 0.29426859872688016, 'feature_fraction': 0.9991242137638949, 'bagging_fraction': 0.6352351289978297, 'min_data_in_leaf': 431, 'lambda_l1': 6.313437511621462e-06, 'lambda_l2': 0.016604298397879098, 'max_bin': 100, 'num_leaves': 255, 'random_state': 9214}.\n",
      "[I 2019-07-08 14:19:21,478] Finished trial#186 resulted in value: 0.9409408375715363. Current best value is 0.9300692164665992 with parameters: {'learning_rate': 0.29426859872688016, 'feature_fraction': 0.9991242137638949, 'bagging_fraction': 0.6352351289978297, 'min_data_in_leaf': 431, 'lambda_l1': 6.313437511621462e-06, 'lambda_l2': 0.016604298397879098, 'max_bin': 100, 'num_leaves': 255, 'random_state': 9214}.\n",
      "[I 2019-07-08 14:19:54,355] Finished trial#187 resulted in value: 0.9682859696603275. Current best value is 0.9300692164665992 with parameters: {'learning_rate': 0.29426859872688016, 'feature_fraction': 0.9991242137638949, 'bagging_fraction': 0.6352351289978297, 'min_data_in_leaf': 431, 'lambda_l1': 6.313437511621462e-06, 'lambda_l2': 0.016604298397879098, 'max_bin': 100, 'num_leaves': 255, 'random_state': 9214}.\n",
      "[I 2019-07-08 14:20:26,974] Finished trial#188 resulted in value: 0.9383660011586998. Current best value is 0.9300692164665992 with parameters: {'learning_rate': 0.29426859872688016, 'feature_fraction': 0.9991242137638949, 'bagging_fraction': 0.6352351289978297, 'min_data_in_leaf': 431, 'lambda_l1': 6.313437511621462e-06, 'lambda_l2': 0.016604298397879098, 'max_bin': 100, 'num_leaves': 255, 'random_state': 9214}.\n",
      "[I 2019-07-08 14:20:55,000] Finished trial#189 resulted in value: 1.0050356024162594. Current best value is 0.9300692164665992 with parameters: {'learning_rate': 0.29426859872688016, 'feature_fraction': 0.9991242137638949, 'bagging_fraction': 0.6352351289978297, 'min_data_in_leaf': 431, 'lambda_l1': 6.313437511621462e-06, 'lambda_l2': 0.016604298397879098, 'max_bin': 100, 'num_leaves': 255, 'random_state': 9214}.\n"
     ]
    },
    {
     "name": "stderr",
     "output_type": "stream",
     "text": [
      "[I 2019-07-08 14:21:20,485] Finished trial#190 resulted in value: 1.0305378560799183. Current best value is 0.9300692164665992 with parameters: {'learning_rate': 0.29426859872688016, 'feature_fraction': 0.9991242137638949, 'bagging_fraction': 0.6352351289978297, 'min_data_in_leaf': 431, 'lambda_l1': 6.313437511621462e-06, 'lambda_l2': 0.016604298397879098, 'max_bin': 100, 'num_leaves': 255, 'random_state': 9214}.\n",
      "[I 2019-07-08 14:21:52,453] Finished trial#191 resulted in value: 0.9697525930426156. Current best value is 0.9300692164665992 with parameters: {'learning_rate': 0.29426859872688016, 'feature_fraction': 0.9991242137638949, 'bagging_fraction': 0.6352351289978297, 'min_data_in_leaf': 431, 'lambda_l1': 6.313437511621462e-06, 'lambda_l2': 0.016604298397879098, 'max_bin': 100, 'num_leaves': 255, 'random_state': 9214}.\n",
      "[I 2019-07-08 14:22:24,841] Finished trial#192 resulted in value: 0.9465400774373991. Current best value is 0.9300692164665992 with parameters: {'learning_rate': 0.29426859872688016, 'feature_fraction': 0.9991242137638949, 'bagging_fraction': 0.6352351289978297, 'min_data_in_leaf': 431, 'lambda_l1': 6.313437511621462e-06, 'lambda_l2': 0.016604298397879098, 'max_bin': 100, 'num_leaves': 255, 'random_state': 9214}.\n",
      "[I 2019-07-08 14:22:49,344] Finished trial#193 resulted in value: 0.9751373635297791. Current best value is 0.9300692164665992 with parameters: {'learning_rate': 0.29426859872688016, 'feature_fraction': 0.9991242137638949, 'bagging_fraction': 0.6352351289978297, 'min_data_in_leaf': 431, 'lambda_l1': 6.313437511621462e-06, 'lambda_l2': 0.016604298397879098, 'max_bin': 100, 'num_leaves': 255, 'random_state': 9214}.\n",
      "[I 2019-07-08 14:23:05,026] Finished trial#194 resulted in value: 1.472791939275292. Current best value is 0.9300692164665992 with parameters: {'learning_rate': 0.29426859872688016, 'feature_fraction': 0.9991242137638949, 'bagging_fraction': 0.6352351289978297, 'min_data_in_leaf': 431, 'lambda_l1': 6.313437511621462e-06, 'lambda_l2': 0.016604298397879098, 'max_bin': 100, 'num_leaves': 255, 'random_state': 9214}.\n",
      "[I 2019-07-08 14:23:38,163] Finished trial#195 resulted in value: 0.9665185347785806. Current best value is 0.9300692164665992 with parameters: {'learning_rate': 0.29426859872688016, 'feature_fraction': 0.9991242137638949, 'bagging_fraction': 0.6352351289978297, 'min_data_in_leaf': 431, 'lambda_l1': 6.313437511621462e-06, 'lambda_l2': 0.016604298397879098, 'max_bin': 100, 'num_leaves': 255, 'random_state': 9214}.\n",
      "[I 2019-07-08 14:24:13,427] Finished trial#196 resulted in value: 0.9762361576765921. Current best value is 0.9300692164665992 with parameters: {'learning_rate': 0.29426859872688016, 'feature_fraction': 0.9991242137638949, 'bagging_fraction': 0.6352351289978297, 'min_data_in_leaf': 431, 'lambda_l1': 6.313437511621462e-06, 'lambda_l2': 0.016604298397879098, 'max_bin': 100, 'num_leaves': 255, 'random_state': 9214}.\n",
      "[I 2019-07-08 14:24:45,568] Finished trial#197 resulted in value: 0.9692898191365769. Current best value is 0.9300692164665992 with parameters: {'learning_rate': 0.29426859872688016, 'feature_fraction': 0.9991242137638949, 'bagging_fraction': 0.6352351289978297, 'min_data_in_leaf': 431, 'lambda_l1': 6.313437511621462e-06, 'lambda_l2': 0.016604298397879098, 'max_bin': 100, 'num_leaves': 255, 'random_state': 9214}.\n",
      "[I 2019-07-08 14:25:19,250] Finished trial#198 resulted in value: 0.957063584707365. Current best value is 0.9300692164665992 with parameters: {'learning_rate': 0.29426859872688016, 'feature_fraction': 0.9991242137638949, 'bagging_fraction': 0.6352351289978297, 'min_data_in_leaf': 431, 'lambda_l1': 6.313437511621462e-06, 'lambda_l2': 0.016604298397879098, 'max_bin': 100, 'num_leaves': 255, 'random_state': 9214}.\n",
      "[I 2019-07-08 14:25:54,028] Finished trial#199 resulted in value: 0.9580560645408326. Current best value is 0.9300692164665992 with parameters: {'learning_rate': 0.29426859872688016, 'feature_fraction': 0.9991242137638949, 'bagging_fraction': 0.6352351289978297, 'min_data_in_leaf': 431, 'lambda_l1': 6.313437511621462e-06, 'lambda_l2': 0.016604298397879098, 'max_bin': 100, 'num_leaves': 255, 'random_state': 9214}.\n"
     ]
    }
   ],
   "source": [
    "def objective(trial):\n",
    "        \n",
    "    learning_rate = trial.suggest_uniform('learning_rate', .01, .5)\n",
    "    feature_fraction = trial.suggest_uniform('feature_fraction', .6, 1)\n",
    "    bagging_fraction = trial.suggest_uniform('bagging_fraction', 0.6, 1)\n",
    "    min_data_in_leaf = trial.suggest_int('min_data_in_leaf', 200, 800)\n",
    "    lambda_l1 = trial.suggest_loguniform('lambda_l1', 1e-6, 1e2)\n",
    "    lambda_l2 = trial.suggest_loguniform('lambda_l2', 1e-6, 1e2)\n",
    "    max_bin = trial.suggest_int('max_bin', 10, 100)\n",
    "    num_leaves = trial.suggest_int('num_leaves', 4, 512)\n",
    "    random_state = trial.suggest_int('random_state', 1, 9999)\n",
    "        \n",
    "    args={\n",
    "        'columns':process_queue.param['columns'],\n",
    "        'cv': {\n",
    "            'cls': 'KFold',\n",
    "            'init':{\n",
    "                'n_splits': 5,\n",
    "                'shuffle': True,\n",
    "                'random_state': 42,\n",
    "            },\n",
    "        },\n",
    "        'scaler': {\n",
    "            'cls': 'StandardScaler',\n",
    "            'init':{},\n",
    "            'fit':{},\n",
    "        },\n",
    "        'model': {\n",
    "            'cls': 'lgb.LGBMRegressor',\n",
    "            'init': {\n",
    "                'learning_rate':learning_rate,\n",
    "                'feature_fraction':feature_fraction,\n",
    "                'bagging_fraction':bagging_fraction,\n",
    "                'min_data_in_leaf':min_data_in_leaf,\n",
    "                'lambda_l1':lambda_l1,\n",
    "                'lambda_l2':lambda_l2,\n",
    "                'max_bin':max_bin,\n",
    "                'num_leaves':num_leaves,\n",
    "                'random_state':random_state,\n",
    "                'n_jobs':16\n",
    "            },\n",
    "            'fit': {\n",
    "            },\n",
    "        },\n",
    "        'metric':'mean_absolute_error',\n",
    "    }\n",
    "    \n",
    "    df_his, df_feature_importances, df_valid_pred, df_test_pred =  sk_process(df_train.sample(1000000), args, 'tune hyperparam', trial=mytrial, is_output_feature_importance=False, trial_level=0)\n",
    "    val_metric_mean = np.mean(df_his.valid)\n",
    "    return val_metric_mean\n",
    "\n",
    "study = optuna.create_study()\n",
    "study.optimize(objective, n_trials=200)"
   ]
  },
  {
   "cell_type": "code",
   "execution_count": 23,
   "metadata": {},
   "outputs": [
    {
     "data": {
      "text/html": [
       "<div>\n",
       "<style scoped>\n",
       "    .dataframe tbody tr th:only-of-type {\n",
       "        vertical-align: middle;\n",
       "    }\n",
       "\n",
       "    .dataframe tbody tr th {\n",
       "        vertical-align: top;\n",
       "    }\n",
       "\n",
       "    .dataframe thead th {\n",
       "        text-align: right;\n",
       "    }\n",
       "</style>\n",
       "<table border=\"1\" class=\"dataframe\">\n",
       "  <thead>\n",
       "    <tr style=\"text-align: right;\">\n",
       "      <th></th>\n",
       "      <th>datetime</th>\n",
       "      <th>message</th>\n",
       "      <th>nfeatures</th>\n",
       "      <th>train_metric_mean</th>\n",
       "      <th>val_metric_mean</th>\n",
       "      <th>trn_val_metric_diff</th>\n",
       "    </tr>\n",
       "  </thead>\n",
       "  <tbody>\n",
       "    <tr>\n",
       "      <th>212</th>\n",
       "      <td>2019-07-08 14:06:29.634383</td>\n",
       "      <td>tune hyperparam</td>\n",
       "      <td>38</td>\n",
       "      <td>0.863236</td>\n",
       "      <td>0.930069</td>\n",
       "      <td>0.066833</td>\n",
       "    </tr>\n",
       "    <tr>\n",
       "      <th>215</th>\n",
       "      <td>2019-07-08 14:08:20.456876</td>\n",
       "      <td>tune hyperparam</td>\n",
       "      <td>38</td>\n",
       "      <td>0.862214</td>\n",
       "      <td>0.930458</td>\n",
       "      <td>0.068244</td>\n",
       "    </tr>\n",
       "    <tr>\n",
       "      <th>234</th>\n",
       "      <td>2019-07-08 14:18:47.324132</td>\n",
       "      <td>tune hyperparam</td>\n",
       "      <td>38</td>\n",
       "      <td>0.840667</td>\n",
       "      <td>0.932579</td>\n",
       "      <td>0.091912</td>\n",
       "    </tr>\n",
       "    <tr>\n",
       "      <th>202</th>\n",
       "      <td>2019-07-08 14:00:26.322634</td>\n",
       "      <td>tune hyperparam</td>\n",
       "      <td>38</td>\n",
       "      <td>0.855637</td>\n",
       "      <td>0.932970</td>\n",
       "      <td>0.077333</td>\n",
       "    </tr>\n",
       "    <tr>\n",
       "      <th>145</th>\n",
       "      <td>2019-07-08 13:30:42.870039</td>\n",
       "      <td>tune hyperparam</td>\n",
       "      <td>38</td>\n",
       "      <td>0.866630</td>\n",
       "      <td>0.936855</td>\n",
       "      <td>0.070225</td>\n",
       "    </tr>\n",
       "  </tbody>\n",
       "</table>\n",
       "</div>"
      ],
      "text/plain": [
       "                      datetime          message  nfeatures  train_metric_mean  \\\n",
       "212 2019-07-08 14:06:29.634383  tune hyperparam         38           0.863236   \n",
       "215 2019-07-08 14:08:20.456876  tune hyperparam         38           0.862214   \n",
       "234 2019-07-08 14:18:47.324132  tune hyperparam         38           0.840667   \n",
       "202 2019-07-08 14:00:26.322634  tune hyperparam         38           0.855637   \n",
       "145 2019-07-08 13:30:42.870039  tune hyperparam         38           0.866630   \n",
       "\n",
       "     val_metric_mean  trn_val_metric_diff  \n",
       "212         0.930069             0.066833  \n",
       "215         0.930458             0.068244  \n",
       "234         0.932579             0.091912  \n",
       "202         0.932970             0.077333  \n",
       "145         0.936855             0.070225  "
      ]
     },
     "execution_count": 23,
     "metadata": {},
     "output_type": "execute_result"
    }
   ],
   "source": [
    "df_trial = pd.DataFrame(mytrial)\n",
    "df_trial[df_trial['message']=='tune hyperparam'][['datetime', 'message', 'nfeatures', 'train_metric_mean', 'val_metric_mean', 'trn_val_metric_diff']].sort_values(by=['val_metric_mean']).head()"
   ]
  },
  {
   "cell_type": "code",
   "execution_count": 14,
   "metadata": {},
   "outputs": [],
   "source": [
    "columns = df_trial[df_trial['message']=='RFERemoveUselessFeaturesProcess'].sort_values(by=['val_metric_mean']).head(1)['param'].values[0]['columns']"
   ]
  },
  {
   "cell_type": "code",
   "execution_count": 15,
   "metadata": {},
   "outputs": [],
   "source": [
    "param = {\n",
    "    'columns': columns,\n",
    "    'cv': {\n",
    "        'cls': 'KFold',\n",
    "        'init': {'n_splits': 5, 'shuffle': True, 'random_state': 42}\n",
    "    },\n",
    "    'scaler': {'cls': 'StandardScaler', 'init': {}, 'fit': {}},\n",
    "    'model': {\n",
    "        'cls': 'lgb.LGBMRegressor',\n",
    "        'init': {\n",
    "            'learning_rate': 0.29426859872688016,\n",
    "            'feature_fraction': 0.9991242137638949,\n",
    "            'bagging_fraction': 0.6352351289978297,\n",
    "            'min_data_in_leaf': 431,\n",
    "            'lambda_l1': 6.313437511621462e-06,\n",
    "            'lambda_l2': 0.016604298397879098,\n",
    "            'max_bin': 100,\n",
    "            'num_leaves': 512,\n",
    "            'n_jobs': 16\n",
    "        },\n",
    "            'fit': {}\n",
    "    },\n",
    "    'metric': 'mean_absolute_error'\n",
    "}"
   ]
  },
  {
   "cell_type": "code",
   "execution_count": 9,
   "metadata": {},
   "outputs": [],
   "source": [
    "df_test = df_test.rename(columns={'cycle_size_mean_x':'atom_index_0_cycle_size_mean', \n",
    "                        'cycle_size_mean_y':'atom_index_1_cycle_size_mean',\n",
    "                       'n_cycle_x':'atom_index_0_n_cycle',\n",
    "                       'n_cycle_y':'atom_index_1_n_cycle'})"
   ]
  },
  {
   "cell_type": "code",
   "execution_count": 16,
   "metadata": {},
   "outputs": [
    {
     "data": {
      "text/plain": [
       "{'cycle_size_mean_x', 'cycle_size_mean_y', 'n_cycle_x', 'n_cycle_y'}"
      ]
     },
     "execution_count": 16,
     "metadata": {},
     "output_type": "execute_result"
    }
   ],
   "source": [
    "set(df_test.columns.tolist()) - set(df_train.columns.tolist())"
   ]
  },
  {
   "cell_type": "code",
   "execution_count": 17,
   "metadata": {},
   "outputs": [
    {
     "data": {
      "text/plain": [
       "{'atom_index_0_cycle_size_mean',\n",
       " 'atom_index_0_n_cycle',\n",
       " 'atom_index_1_cycle_size_mean',\n",
       " 'atom_index_1_n_cycle',\n",
       " 'y'}"
      ]
     },
     "execution_count": 17,
     "metadata": {},
     "output_type": "execute_result"
    }
   ],
   "source": [
    "set(df_train.columns.tolist()) - set(df_test.columns.tolist())"
   ]
  },
  {
   "cell_type": "code",
   "execution_count": 10,
   "metadata": {},
   "outputs": [
    {
     "ename": "NameError",
     "evalue": "name 'param' is not defined",
     "output_type": "error",
     "traceback": [
      "\u001b[0;31m---------------------------------------------------------------------------\u001b[0m",
      "\u001b[0;31mNameError\u001b[0m                                 Traceback (most recent call last)",
      "\u001b[0;32m<ipython-input-10-682323cd75da>\u001b[0m in \u001b[0;36m<module>\u001b[0;34m\u001b[0m\n\u001b[0;32m----> 1\u001b[0;31m \u001b[0mparam\u001b[0m\u001b[0;34m\u001b[0m\u001b[0;34m\u001b[0m\u001b[0m\n\u001b[0m",
      "\u001b[0;31mNameError\u001b[0m: name 'param' is not defined"
     ]
    }
   ],
   "source": [
    "param"
   ]
  },
  {
   "cell_type": "code",
   "execution_count": null,
   "metadata": {},
   "outputs": [],
   "source": [
    "mytrial=[]\n",
    "df_his, df_feature_importances, df_valid_pred, df_test_pred =  sk_process(df_train, param, 'modeling', df_test=df_test, trial=mytrial, is_output_feature_importance=False, trial_level=1)"
   ]
  },
  {
   "cell_type": "code",
   "execution_count": null,
   "metadata": {},
   "outputs": [],
   "source": [
    "df_trial = pd.DataFrame(mytrial)\n",
    "df_trial[['datetime', 'message', 'nfeatures', 'train_metric_mean', 'val_metric_mean', 'trn_val_metric_diff']].tail(1)"
   ]
  },
  {
   "cell_type": "code",
   "execution_count": 36,
   "metadata": {},
   "outputs": [],
   "source": [
    "idx=311\n",
    "df_test_pred = df_trial.loc[idx]['df_test_pred']\n",
    "df_submit = pd.DataFrame()\n",
    "df_submit['scalar_coupling_constant'] = np.mean(df_test_pred.drop(columns=['index']).values, axis=1)\n",
    "df_submit['id'] = df_test_pred['index']\n",
    "df_submit.to_csv('../../data/submission/submission_lgbm_{}.csv'.format(idx), index=False)"
   ]
  },
  {
   "cell_type": "code",
   "execution_count": null,
   "metadata": {},
   "outputs": [],
   "source": []
  }
 ],
 "metadata": {
  "kernelspec": {
   "display_name": "Python 3",
   "language": "python",
   "name": "python3"
  },
  "language_info": {
   "codemirror_mode": {
    "name": "ipython",
    "version": 3
   },
   "file_extension": ".py",
   "mimetype": "text/x-python",
   "name": "python",
   "nbconvert_exporter": "python",
   "pygments_lexer": "ipython3",
   "version": "3.6.8"
  }
 },
 "nbformat": 4,
 "nbformat_minor": 2
}
