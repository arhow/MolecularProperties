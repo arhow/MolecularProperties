{
 "cells": [
  {
   "cell_type": "code",
   "execution_count": 1,
   "metadata": {},
   "outputs": [
    {
     "data": {
      "text/html": [
       "<style>\n",
       "   div#notebook-container    { width: 95%; }\n",
       "   div#menubar-container     { width: 65%; }\n",
       "   div#maintoolbar-container { width: 99%; }\n",
       "</style>\n"
      ],
      "text/plain": [
       "<IPython.core.display.HTML object>"
      ]
     },
     "metadata": {},
     "output_type": "display_data"
    }
   ],
   "source": [
    "%%HTML\n",
    "<style>\n",
    "   div#notebook-container    { width: 95%; }\n",
    "   div#menubar-container     { width: 65%; }\n",
    "   div#maintoolbar-container { width: 99%; }\n",
    "</style>"
   ]
  },
  {
   "cell_type": "code",
   "execution_count": 2,
   "metadata": {},
   "outputs": [],
   "source": [
    "import os\n",
    "import pandas as pd\n",
    "import numpy as np"
   ]
  },
  {
   "cell_type": "code",
   "execution_count": 3,
   "metadata": {},
   "outputs": [],
   "source": [
    "def reduce_mem_usage(df, verbose=True):\n",
    "    numerics = ['int16', 'int32', 'int64', 'float16', 'float32', 'float64']\n",
    "    start_mem = df.memory_usage().sum() / 1024**2    \n",
    "    for col in df.columns:\n",
    "        col_type = df[col].dtypes\n",
    "        if col_type in numerics:\n",
    "            c_min = df[col].min()\n",
    "            c_max = df[col].max()\n",
    "            if str(col_type)[:3] == 'int':\n",
    "                if c_min > np.iinfo(np.int8).min and c_max < np.iinfo(np.int8).max:\n",
    "                    df[col] = df[col].astype(np.int8)\n",
    "                elif c_min > np.iinfo(np.int16).min and c_max < np.iinfo(np.int16).max:\n",
    "                    df[col] = df[col].astype(np.int16)\n",
    "                elif c_min > np.iinfo(np.int32).min and c_max < np.iinfo(np.int32).max:\n",
    "                    df[col] = df[col].astype(np.int32)\n",
    "                elif c_min > np.iinfo(np.int64).min and c_max < np.iinfo(np.int64).max:\n",
    "                    df[col] = df[col].astype(np.int64)  \n",
    "            else:\n",
    "                if c_min > np.finfo(np.float16).min and c_max < np.finfo(np.float16).max:\n",
    "                    df[col] = df[col].astype(np.float16)\n",
    "                elif c_min > np.finfo(np.float32).min and c_max < np.finfo(np.float32).max:\n",
    "                    df[col] = df[col].astype(np.float32)\n",
    "                else:\n",
    "                    df[col] = df[col].astype(np.float64)    \n",
    "    end_mem = df.memory_usage().sum() / 1024**2\n",
    "    if verbose: print('Mem. usage decreased to {:5.2f} Mb ({:.1f}% reduction)'.format(end_mem, 100 * (start_mem - end_mem) / start_mem))\n",
    "    return df"
   ]
  },
  {
   "cell_type": "code",
   "execution_count": 4,
   "metadata": {},
   "outputs": [
    {
     "data": {
      "text/plain": [
       "['structures',\n",
       " 'train.csv',\n",
       " 'dipole_moments.csv',\n",
       " 'magnetic_shielding_tensors.csv',\n",
       " 'mulliken_charges.csv',\n",
       " 'potential_energy.csv',\n",
       " 'sample_submission.csv',\n",
       " 'scalar_coupling_contributions.csv',\n",
       " 'structures.csv',\n",
       " 'test.csv']"
      ]
     },
     "execution_count": 4,
     "metadata": {},
     "output_type": "execute_result"
    }
   ],
   "source": [
    "file_folder =  '../../data/input'\n",
    "os.listdir(file_folder)"
   ]
  },
  {
   "cell_type": "code",
   "execution_count": 5,
   "metadata": {},
   "outputs": [],
   "source": [
    "train = pd.read_csv(f'{file_folder}/train.csv')\n",
    "test = pd.read_csv(f'{file_folder}/test.csv')\n",
    "magnetic_shielding_tensors = pd.read_csv(f'{file_folder}/magnetic_shielding_tensors.csv')\n",
    "dipole_moments = pd.read_csv(f'{file_folder}/dipole_moments.csv')\n",
    "mulliken_charges = pd.read_csv(f'{file_folder}/mulliken_charges.csv')\n",
    "potential_energy = pd.read_csv(f'{file_folder}/potential_energy.csv')\n",
    "scalar_coupling_contributions = pd.read_csv(f'{file_folder}/scalar_coupling_contributions.csv')\n",
    "structures = pd.read_csv(f'{file_folder}/structures.csv')"
   ]
  },
  {
   "cell_type": "code",
   "execution_count": 8,
   "metadata": {},
   "outputs": [],
   "source": [
    "x = magnetic_shielding_tensors.columns.values[2:]\n",
    "x = magnetic_shielding_tensors[x].values\n",
    "x = x.reshape(-1,3,3)\n",
    "x = x + np.transpose(x,(0,2,1))\n",
    "x = 0.5 * x\n",
    "w, v = np.linalg.eigh(x)"
   ]
  },
  {
   "cell_type": "code",
   "execution_count": 9,
   "metadata": {},
   "outputs": [],
   "source": [
    "sigma_iso = np.sum(w, axis=1)/3 \n",
    "omega = w[:,2] - w[:,0]\n",
    "kappa = 3 * (sigma_iso - w[:,1])/omega"
   ]
  },
  {
   "cell_type": "code",
   "execution_count": 10,
   "metadata": {},
   "outputs": [],
   "source": [
    "magnetic_shielding_parameters = magnetic_shielding_tensors[magnetic_shielding_tensors.columns.values[:2]]\n",
    "magnetic_shielding_parameters = pd.DataFrame(magnetic_shielding_parameters)\n",
    "magnetic_shielding_parameters[\"sigma_iso\"] = sigma_iso\n",
    "magnetic_shielding_parameters[\"omega\"] = omega\n",
    "magnetic_shielding_parameters[\"kappa\"] = kappa"
   ]
  },
  {
   "cell_type": "code",
   "execution_count": 11,
   "metadata": {},
   "outputs": [
    {
     "data": {
      "text/html": [
       "<div>\n",
       "<style scoped>\n",
       "    .dataframe tbody tr th:only-of-type {\n",
       "        vertical-align: middle;\n",
       "    }\n",
       "\n",
       "    .dataframe tbody tr th {\n",
       "        vertical-align: top;\n",
       "    }\n",
       "\n",
       "    .dataframe thead th {\n",
       "        text-align: right;\n",
       "    }\n",
       "</style>\n",
       "<table border=\"1\" class=\"dataframe\">\n",
       "  <thead>\n",
       "    <tr style=\"text-align: right;\">\n",
       "      <th></th>\n",
       "      <th>molecule_name</th>\n",
       "      <th>atom_index</th>\n",
       "      <th>sigma_iso</th>\n",
       "      <th>omega</th>\n",
       "      <th>kappa</th>\n",
       "    </tr>\n",
       "  </thead>\n",
       "  <tbody>\n",
       "    <tr>\n",
       "      <th>0</th>\n",
       "      <td>dsgdb9nsd_000001</td>\n",
       "      <td>0</td>\n",
       "      <td>195.316333</td>\n",
       "      <td>0.002708</td>\n",
       "      <td>0.032697</td>\n",
       "    </tr>\n",
       "    <tr>\n",
       "      <th>1</th>\n",
       "      <td>dsgdb9nsd_000001</td>\n",
       "      <td>1</td>\n",
       "      <td>31.460567</td>\n",
       "      <td>9.082838</td>\n",
       "      <td>0.999975</td>\n",
       "    </tr>\n",
       "    <tr>\n",
       "      <th>2</th>\n",
       "      <td>dsgdb9nsd_000001</td>\n",
       "      <td>2</td>\n",
       "      <td>31.460567</td>\n",
       "      <td>9.082793</td>\n",
       "      <td>0.999984</td>\n",
       "    </tr>\n",
       "    <tr>\n",
       "      <th>3</th>\n",
       "      <td>dsgdb9nsd_000001</td>\n",
       "      <td>3</td>\n",
       "      <td>31.460633</td>\n",
       "      <td>9.082804</td>\n",
       "      <td>0.999977</td>\n",
       "    </tr>\n",
       "    <tr>\n",
       "      <th>4</th>\n",
       "      <td>dsgdb9nsd_000001</td>\n",
       "      <td>4</td>\n",
       "      <td>31.460600</td>\n",
       "      <td>9.082853</td>\n",
       "      <td>0.999971</td>\n",
       "    </tr>\n",
       "    <tr>\n",
       "      <th>5</th>\n",
       "      <td>dsgdb9nsd_000002</td>\n",
       "      <td>0</td>\n",
       "      <td>262.922667</td>\n",
       "      <td>38.139089</td>\n",
       "      <td>-0.999939</td>\n",
       "    </tr>\n",
       "    <tr>\n",
       "      <th>6</th>\n",
       "      <td>dsgdb9nsd_000002</td>\n",
       "      <td>1</td>\n",
       "      <td>32.228033</td>\n",
       "      <td>15.583995</td>\n",
       "      <td>0.825251</td>\n",
       "    </tr>\n",
       "    <tr>\n",
       "      <th>7</th>\n",
       "      <td>dsgdb9nsd_000002</td>\n",
       "      <td>2</td>\n",
       "      <td>32.228133</td>\n",
       "      <td>15.584143</td>\n",
       "      <td>0.825259</td>\n",
       "    </tr>\n",
       "    <tr>\n",
       "      <th>8</th>\n",
       "      <td>dsgdb9nsd_000002</td>\n",
       "      <td>3</td>\n",
       "      <td>32.226967</td>\n",
       "      <td>15.583030</td>\n",
       "      <td>0.825318</td>\n",
       "    </tr>\n",
       "    <tr>\n",
       "      <th>9</th>\n",
       "      <td>dsgdb9nsd_000003</td>\n",
       "      <td>0</td>\n",
       "      <td>330.008000</td>\n",
       "      <td>45.677000</td>\n",
       "      <td>0.384417</td>\n",
       "    </tr>\n",
       "  </tbody>\n",
       "</table>\n",
       "</div>"
      ],
      "text/plain": [
       "      molecule_name  atom_index   sigma_iso      omega     kappa\n",
       "0  dsgdb9nsd_000001           0  195.316333   0.002708  0.032697\n",
       "1  dsgdb9nsd_000001           1   31.460567   9.082838  0.999975\n",
       "2  dsgdb9nsd_000001           2   31.460567   9.082793  0.999984\n",
       "3  dsgdb9nsd_000001           3   31.460633   9.082804  0.999977\n",
       "4  dsgdb9nsd_000001           4   31.460600   9.082853  0.999971\n",
       "5  dsgdb9nsd_000002           0  262.922667  38.139089 -0.999939\n",
       "6  dsgdb9nsd_000002           1   32.228033  15.583995  0.825251\n",
       "7  dsgdb9nsd_000002           2   32.228133  15.584143  0.825259\n",
       "8  dsgdb9nsd_000002           3   32.226967  15.583030  0.825318\n",
       "9  dsgdb9nsd_000003           0  330.008000  45.677000  0.384417"
      ]
     },
     "execution_count": 11,
     "metadata": {},
     "output_type": "execute_result"
    }
   ],
   "source": [
    "magnetic_shielding_parameters.head(10)"
   ]
  },
  {
   "cell_type": "code",
   "execution_count": 12,
   "metadata": {},
   "outputs": [],
   "source": [
    "magnetic_shielding_parameters.to_csv(f'{file_folder}/magnetic_shielding_parameters.csv', index=False)"
   ]
  },
  {
   "cell_type": "code",
   "execution_count": null,
   "metadata": {},
   "outputs": [],
   "source": [
    "import pandas as pd\n",
    "\n",
    "import torch\n",
    "import torch.nn.functional as F\n",
    "from torch.optim import Adam\n",
    "\n",
    "import schnetpack as spk\n",
    "import schnetpack.atomistic as atm\n",
    "import schnetpack.representation as rep\n",
    "from schnetpack.datasets import *\n",
    "\n",
    "device = torch.device(\"cuda\")"
   ]
  },
  {
   "cell_type": "code",
   "execution_count": null,
   "metadata": {},
   "outputs": [],
   "source": [
    "from schnetpack.data import Structure\n",
    "\n",
    "class MagneticShielding(atm.Atomwise):\n",
    "    def __init__(self, property):\n",
    "        super(MagneticShielding, self).__init__(return_contributions=True)\n",
    "        self.property = property\n",
    "        \n",
    "    def forward(self, inputs):\n",
    "        result = super().forward(inputs)\n",
    "        \n",
    "        atom_mask = inputs[Structure.atom_mask].byte()\n",
    "        \n",
    "        yi = inputs[self.property]\n",
    "        yi = torch.masked_select(yi.squeeze(dim=2), atom_mask)\n",
    "        inputs[self.property+'_true'] = yi\n",
    "        \n",
    "        yi = result['yi']\n",
    "        yi = torch.masked_select(yi.squeeze(dim=2), atom_mask)\n",
    "        result[self.property+'_pred'] = yi\n",
    "        \n",
    "        return result"
   ]
  },
  {
   "cell_type": "code",
   "execution_count": null,
   "metadata": {},
   "outputs": [],
   "source": [
    "def schnet_model(property):\n",
    "    reps = rep.SchNet(n_interactions=6)\n",
    "    output = MagneticShielding(property=property)\n",
    "    model = atm.AtomisticModel(reps, output)\n",
    "    model = model.to(device)\n",
    "    return model"
   ]
  },
  {
   "cell_type": "code",
   "execution_count": null,
   "metadata": {},
   "outputs": [],
   "source": [
    "def train_model(property, max_epochs=500):\n",
    "    # split in train and val\n",
    "    n_dataset = len(dataset)\n",
    "    n_val = n_dataset // 10\n",
    "    train_data, val_data, test_data = dataset.create_splits(n_dataset-n_val*2, n_val)\n",
    "    train_loader = spk.data.AtomsLoader(train_data, batch_size=128, num_workers=2)\n",
    "    val_loader = spk.data.AtomsLoader(val_data, batch_size=256, num_workers=2)\n",
    "\n",
    "    # create model\n",
    "    model = schnet_model(property)\n",
    "\n",
    "    # create trainer\n",
    "    target_key = property+'_true'\n",
    "    output_key = property+'_pred'\n",
    "    opt = Adam(model.parameters(), lr=1e-4)\n",
    "    loss = lambda b, p: F.mse_loss(p[output_key], b[target_key])\n",
    "    metrics = [\n",
    "        spk.metrics.MeanAbsoluteError(target_key, output_key, name='MAE_'+property),\n",
    "        spk.metrics.RootMeanSquaredError(target_key, output_key, name='RMSE_'+property),\n",
    "    ]\n",
    "    hooks = [\n",
    "        spk.train.MaxEpochHook(max_epochs),\n",
    "        spk.train.CSVHook(property+'/log', metrics, every_n_epochs=1),\n",
    "    ]\n",
    "    trainer = spk.train.Trainer(property+'/output', model, loss,\n",
    "                            opt, train_loader, val_loader, hooks=hooks)\n",
    "\n",
    "    # start training\n",
    "    trainer.train(device)\n",
    "    \n",
    "    # evaluation\n",
    "    model.load_state_dict(torch.load(property+'/output/best_model'))\n",
    "    test_loader = spk.data.AtomsLoader(test_data, batch_size=256, num_workers=2)\n",
    "    model.eval()\n",
    "\n",
    "    df = pd.DataFrame()\n",
    "    df['metric'] = ['MAE', 'RMSE']\n",
    "    df['training'] = evaluate_dataset(metrics, model, train_loader, device)\n",
    "    df['validation'] = evaluate_dataset(metrics, model, val_loader, device)\n",
    "    df['test'] = evaluate_dataset(metrics, model, test_loader, device)\n",
    "    display(df)\n",
    "    \n",
    "    return test_data"
   ]
  }
 ],
 "metadata": {
  "kernelspec": {
   "display_name": "Python 3",
   "language": "python",
   "name": "python3"
  },
  "language_info": {
   "codemirror_mode": {
    "name": "ipython",
    "version": 3
   },
   "file_extension": ".py",
   "mimetype": "text/x-python",
   "name": "python",
   "nbconvert_exporter": "python",
   "pygments_lexer": "ipython3",
   "version": "3.6.4"
  }
 },
 "nbformat": 4,
 "nbformat_minor": 2
}
